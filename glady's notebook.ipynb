{
 "cells": [
  {
   "cell_type": "code",
   "execution_count": 1,
   "id": "3c5ee263",
   "metadata": {},
   "outputs": [],
   "source": [
    "import requests\n",
    "from env import Client_ID\n",
    "from bs4 import BeautifulSoup\n",
    "from igdb.wrapper import IGDBWrapper\n",
    "import os\n",
    "import pandas as pd\n",
    "import json\n",
    "import time\n",
    "import env\n",
    "from requests.models import Request, Response\n",
    "from typing import Dict, List, Optional, Union, cast"
   ]
  },
  {
   "cell_type": "markdown",
   "id": "3f13006d",
   "metadata": {},
   "source": [
    "## connect to api "
   ]
  },
  {
   "cell_type": "code",
   "execution_count": 2,
   "id": "f597e859",
   "metadata": {},
   "outputs": [],
   "source": [
    "def connect_api():   \n",
    "    url = env.get_db_url()\n",
    "    response = requests.post(url)\n",
    "    data = response.json()\n",
    "    access_token = data['access_token']\n",
    "    return access_token"
   ]
  },
  {
   "cell_type": "code",
   "execution_count": 3,
   "id": "cd863634",
   "metadata": {},
   "outputs": [],
   "source": [
    "access_token = connect_api()"
   ]
  },
  {
   "cell_type": "code",
   "execution_count": 4,
   "id": "016554b5",
   "metadata": {},
   "outputs": [],
   "source": [
    "def run_wrapper():\n",
    "    wrapper = IGDBWrapper(f'{Client_ID}', f'{access_token}')\n",
    "    return wrapper"
   ]
  },
  {
   "cell_type": "code",
   "execution_count": 5,
   "id": "6447873f",
   "metadata": {},
   "outputs": [],
   "source": [
    "def connect_to_games():\n",
    "    headers = {'Client-ID': f'{Client_ID}', 'Authorization': f'Bearer {access_token}'}\n",
    "    data = 'fields *; popularity;sort popularity desc;'\n",
    "    r = requests.post('https://api.igdb.com/v4/games' ,data=data ,  headers=headers)\n",
    "    return r"
   ]
  },
  {
   "cell_type": "code",
   "execution_count": 6,
   "id": "4df9163e",
   "metadata": {},
   "outputs": [],
   "source": [
    "# function that puts response list object into a dataframe for each page\n",
    "def get_game_library(wrapper):\n",
    "    game_library = pd.DataFrame()\n",
    "    for i in range (0, 409):\n",
    "        games = wrapper.api_request('games', 'fields *; limit 500;' f'offset {i * 500};')\n",
    "        y = json.loads(games)\n",
    "        results_df =pd.DataFrame(y)\n",
    "        game_library = pd.concat([game_library, results_df])\n",
    "    return game_library"
   ]
  },
  {
   "cell_type": "code",
   "execution_count": 7,
   "id": "a3534ab1",
   "metadata": {},
   "outputs": [],
   "source": [
    "wrapper = run_wrapper()"
   ]
  },
  {
   "cell_type": "code",
   "execution_count": 8,
   "id": "312a3eae",
   "metadata": {},
   "outputs": [
    {
     "data": {
      "text/plain": [
       "<igdb.wrapper.IGDBWrapper at 0x111b46970>"
      ]
     },
     "execution_count": 8,
     "metadata": {},
     "output_type": "execute_result"
    }
   ],
   "source": [
    "wrapper"
   ]
  },
  {
   "cell_type": "code",
   "execution_count": null,
   "id": "f53660b0",
   "metadata": {},
   "outputs": [],
   "source": [
    "tf = connect_to_games()"
   ]
  },
  {
   "cell_type": "code",
   "execution_count": null,
   "id": "a390b959",
   "metadata": {},
   "outputs": [],
   "source": [
    "tf"
   ]
  },
  {
   "cell_type": "code",
   "execution_count": 9,
   "id": "5e0d713d",
   "metadata": {
    "scrolled": true
   },
   "outputs": [],
   "source": [
    "df = get_game_library(wrapper)"
   ]
  },
  {
   "cell_type": "code",
   "execution_count": null,
   "id": "8215a5e2",
   "metadata": {},
   "outputs": [],
   "source": [
    "# df = pd.read_csv('games.csv', index_col='Unnamed: 0')"
   ]
  },
  {
   "cell_type": "code",
   "execution_count": null,
   "id": "09b5adfa",
   "metadata": {
    "scrolled": true
   },
   "outputs": [],
   "source": [
    "# pd.set_option('display.max_columns', None)\n",
    "# df.head()"
   ]
  },
  {
   "cell_type": "code",
   "execution_count": null,
   "id": "9413ea31",
   "metadata": {},
   "outputs": [],
   "source": [
    "# pd.set_option('display.max_columns', None)\n",
    "# df.head()"
   ]
  },
  {
   "cell_type": "markdown",
   "id": "4ca3a53f",
   "metadata": {},
   "source": [
    "## Extra work "
   ]
  },
  {
   "cell_type": "code",
   "execution_count": null,
   "id": "c974ed2e",
   "metadata": {},
   "outputs": [],
   "source": [
    "frames = [df, game_modes]"
   ]
  },
  {
   "cell_type": "code",
   "execution_count": null,
   "id": "f31f1f6a",
   "metadata": {
    "scrolled": true
   },
   "outputs": [],
   "source": [
    "result = pd.concat(frames)"
   ]
  },
  {
   "cell_type": "code",
   "execution_count": null,
   "id": "3fe88b40",
   "metadata": {
    "scrolled": true
   },
   "outputs": [],
   "source": [
    "type(frames)"
   ]
  },
  {
   "cell_type": "code",
   "execution_count": null,
   "id": "d693421e",
   "metadata": {},
   "outputs": [],
   "source": [
    "type(game_modes)"
   ]
  },
  {
   "cell_type": "code",
   "execution_count": null,
   "id": "69309f0a",
   "metadata": {
    "scrolled": false
   },
   "outputs": [],
   "source": [
    "result.tail(10)"
   ]
  },
  {
   "cell_type": "code",
   "execution_count": null,
   "id": "799e87f6",
   "metadata": {},
   "outputs": [],
   "source": [
    "result = pd.concat([df, game_modes], axis=1)"
   ]
  },
  {
   "cell_type": "code",
   "execution_count": null,
   "id": "e02f6908",
   "metadata": {
    "scrolled": true
   },
   "outputs": [],
   "source": [
    "result"
   ]
  },
  {
   "cell_type": "code",
   "execution_count": null,
   "id": "0d31d11c",
   "metadata": {
    "scrolled": true
   },
   "outputs": [],
   "source": [
    "results = pd.merge(df, game_mode, how = 'left', on=\"game_modes\")"
   ]
  },
  {
   "cell_type": "code",
   "execution_count": null,
   "id": "0cd4135b",
   "metadata": {
    "scrolled": true
   },
   "outputs": [],
   "source": [
    "results"
   ]
  },
  {
   "cell_type": "markdown",
   "id": "8f329d09",
   "metadata": {},
   "source": [
    "### Data frame work"
   ]
  },
  {
   "cell_type": "code",
   "execution_count": null,
   "id": "1e716730",
   "metadata": {},
   "outputs": [],
   "source": [
    "df.info()"
   ]
  },
  {
   "cell_type": "code",
   "execution_count": null,
   "id": "45f3f1c0",
   "metadata": {
    "scrolled": true
   },
   "outputs": [],
   "source": [
    "df.game_modes.value_counts()"
   ]
  },
  {
   "cell_type": "code",
   "execution_count": null,
   "id": "1e280ce0",
   "metadata": {},
   "outputs": [],
   "source": [
    "# Here i am making this a string with no brackets"
   ]
  },
  {
   "cell_type": "code",
   "execution_count": null,
   "id": "2fc04860",
   "metadata": {
    "scrolled": true
   },
   "outputs": [],
   "source": [
    "df[\"game_modes\"] = df[\"game_modes\"].str.replace(\"[\\]\\[]\",'')"
   ]
  },
  {
   "cell_type": "code",
   "execution_count": null,
   "id": "354e000d",
   "metadata": {
    "scrolled": false
   },
   "outputs": [],
   "source": [
    "df.game_modes.value_counts()"
   ]
  },
  {
   "cell_type": "code",
   "execution_count": null,
   "id": "05f5756c",
   "metadata": {},
   "outputs": [],
   "source": []
  },
  {
   "cell_type": "code",
   "execution_count": null,
   "id": "6711a79e",
   "metadata": {},
   "outputs": [],
   "source": [
    "#this is a merge that actually works\n",
    "#but does not work when there is a list of numbers sadly \n",
    "#results = pd.merge(df, game_modes, how = 'left', on=\"game_modes\")"
   ]
  },
  {
   "cell_type": "code",
   "execution_count": null,
   "id": "26c71076",
   "metadata": {
    "scrolled": true
   },
   "outputs": [],
   "source": [
    "results.tail(20)"
   ]
  },
  {
   "cell_type": "code",
   "execution_count": null,
   "id": "3ad4bae6",
   "metadata": {
    "scrolled": true
   },
   "outputs": [],
   "source": [
    "results.info()"
   ]
  },
  {
   "cell_type": "code",
   "execution_count": null,
   "id": "5d357f2c",
   "metadata": {},
   "outputs": [],
   "source": [
    "def to_1D(series):\n",
    "    return pd.Series([x for _list in series for x in _list])"
   ]
  },
  {
   "cell_type": "code",
   "execution_count": null,
   "id": "9d25285a",
   "metadata": {},
   "outputs": [],
   "source": [
    "to_1D(df[\"game_modes\"])"
   ]
  },
  {
   "cell_type": "code",
   "execution_count": null,
   "id": "ebe92ab0",
   "metadata": {},
   "outputs": [],
   "source": [
    "type(game_modes)"
   ]
  },
  {
   "cell_type": "code",
   "execution_count": null,
   "id": "8bf4f5eb",
   "metadata": {},
   "outputs": [],
   "source": [
    "\n",
    "df[\"game_modes\"].apply(pd.Series)"
   ]
  },
  {
   "cell_type": "code",
   "execution_count": null,
   "id": "bb7e0919",
   "metadata": {
    "scrolled": true
   },
   "outputs": [],
   "source": [
    "df['game_modes'].replace([[1],['2'], ['3'], ['4']], [['Single player'], ['Multiplayer'], ['CO-op'], ['split screen']])"
   ]
  },
  {
   "cell_type": "code",
   "execution_count": null,
   "id": "aa19eb86",
   "metadata": {},
   "outputs": [],
   "source": [
    "L = ['Single player'], ['Multiplayer'], ['CO-op'], ['split screen']\n",
    "    \n",
    "for x in L:\n",
    "    df.loc[df['column'].str.contains(x), \"column\"]= x\n",
    "print (df)"
   ]
  },
  {
   "cell_type": "code",
   "execution_count": null,
   "id": "e0606383",
   "metadata": {
    "scrolled": false
   },
   "outputs": [],
   "source": [
    "#df[\"game_modes\"] = df[\"game_modes\"].str.replace(\"[\\]\\[]\",'')"
   ]
  },
  {
   "cell_type": "code",
   "execution_count": null,
   "id": "ea4c41d3",
   "metadata": {},
   "outputs": [],
   "source": [
    "df['game_modes'].replace(['1'], ['Single player']).value_counts()"
   ]
  },
  {
   "cell_type": "code",
   "execution_count": null,
   "id": "52905d0e",
   "metadata": {
    "scrolled": true
   },
   "outputs": [],
   "source": [
    "#game_mode = game_mode.rename(columns={\"game_mode_id\": \"game_modes\"})"
   ]
  },
  {
   "cell_type": "code",
   "execution_count": null,
   "id": "fbdafba6",
   "metadata": {},
   "outputs": [],
   "source": [
    "df.tail()"
   ]
  },
  {
   "cell_type": "code",
   "execution_count": null,
   "id": "d98ebbbb",
   "metadata": {},
   "outputs": [],
   "source": [
    "#df['game_modes'] = df['game_modes'].replace([['1,2'],['1,2,3']], [['Single player, multiplayer'], ['single player, Multiplayer, co-op']])"
   ]
  },
  {
   "cell_type": "code",
   "execution_count": null,
   "id": "621238c3",
   "metadata": {
    "scrolled": false
   },
   "outputs": [],
   "source": [
    "\n",
    "# df['game_modes'] = df['game_modes'].fillna('7').apply(list)\n",
    "# df.head()"
   ]
  },
  {
   "cell_type": "code",
   "execution_count": null,
   "id": "f5b44f6b",
   "metadata": {},
   "outputs": [],
   "source": [
    "#df['game_modes'] = df['game_modes'].fillna(7)"
   ]
  },
  {
   "cell_type": "markdown",
   "id": "082ff892",
   "metadata": {},
   "source": [
    "# Aquiring diffrent data\n"
   ]
  },
  {
   "cell_type": "markdown",
   "id": "1bdf622f",
   "metadata": {},
   "source": [
    "# game modes"
   ]
  },
  {
   "cell_type": "code",
   "execution_count": 10,
   "id": "95ff7435",
   "metadata": {},
   "outputs": [],
   "source": [
    "headers = {'Client-ID': f'{Client_ID}', 'Authorization': f'Bearer {access_token}'}\n",
    "data = 'fields *; limit 500;'\n",
    "r = requests.post('https://api.igdb.com/v4/game_modes' ,data=data ,  headers=headers)\n"
   ]
  },
  {
   "cell_type": "code",
   "execution_count": 11,
   "id": "cc57a535",
   "metadata": {},
   "outputs": [],
   "source": [
    "game_modes = wrapper.api_request('game_modes', 'fields *;limit 500;')"
   ]
  },
  {
   "cell_type": "code",
   "execution_count": 12,
   "id": "aa929355",
   "metadata": {},
   "outputs": [],
   "source": [
    "x = json.loads(game_modes)"
   ]
  },
  {
   "cell_type": "code",
   "execution_count": 13,
   "id": "e134625e",
   "metadata": {},
   "outputs": [],
   "source": [
    "game_mode =pd.DataFrame(x)"
   ]
  },
  {
   "cell_type": "code",
   "execution_count": 14,
   "id": "fa429664",
   "metadata": {
    "scrolled": false
   },
   "outputs": [
    {
     "data": {
      "text/html": [
       "<div>\n",
       "<style scoped>\n",
       "    .dataframe tbody tr th:only-of-type {\n",
       "        vertical-align: middle;\n",
       "    }\n",
       "\n",
       "    .dataframe tbody tr th {\n",
       "        vertical-align: top;\n",
       "    }\n",
       "\n",
       "    .dataframe thead th {\n",
       "        text-align: right;\n",
       "    }\n",
       "</style>\n",
       "<table border=\"1\" class=\"dataframe\">\n",
       "  <thead>\n",
       "    <tr style=\"text-align: right;\">\n",
       "      <th></th>\n",
       "      <th>id</th>\n",
       "      <th>created_at</th>\n",
       "      <th>name</th>\n",
       "      <th>slug</th>\n",
       "      <th>updated_at</th>\n",
       "      <th>url</th>\n",
       "      <th>checksum</th>\n",
       "    </tr>\n",
       "  </thead>\n",
       "  <tbody>\n",
       "    <tr>\n",
       "      <th>0</th>\n",
       "      <td>1</td>\n",
       "      <td>1298937600</td>\n",
       "      <td>Single player</td>\n",
       "      <td>single-player</td>\n",
       "      <td>1323216000</td>\n",
       "      <td>https://www.igdb.com/game_modes/single-player</td>\n",
       "      <td>a43b1688-f968-3541-0897-9735ffde1745</td>\n",
       "    </tr>\n",
       "    <tr>\n",
       "      <th>1</th>\n",
       "      <td>2</td>\n",
       "      <td>1298937600</td>\n",
       "      <td>Multiplayer</td>\n",
       "      <td>multiplayer</td>\n",
       "      <td>1323216000</td>\n",
       "      <td>https://www.igdb.com/game_modes/multiplayer</td>\n",
       "      <td>288b548c-11e4-d910-f037-21d4e6a33b38</td>\n",
       "    </tr>\n",
       "    <tr>\n",
       "      <th>2</th>\n",
       "      <td>3</td>\n",
       "      <td>1298937600</td>\n",
       "      <td>Co-operative</td>\n",
       "      <td>co-operative</td>\n",
       "      <td>1323216000</td>\n",
       "      <td>https://www.igdb.com/game_modes/co-operative</td>\n",
       "      <td>e8329d55-33e6-f7ae-ae09-2848cb7ccc90</td>\n",
       "    </tr>\n",
       "    <tr>\n",
       "      <th>3</th>\n",
       "      <td>4</td>\n",
       "      <td>1298937600</td>\n",
       "      <td>Split screen</td>\n",
       "      <td>split-screen</td>\n",
       "      <td>1323216000</td>\n",
       "      <td>https://www.igdb.com/game_modes/split-screen</td>\n",
       "      <td>98247b75-6f46-7c77-521f-0945c684d842</td>\n",
       "    </tr>\n",
       "    <tr>\n",
       "      <th>4</th>\n",
       "      <td>5</td>\n",
       "      <td>1298937600</td>\n",
       "      <td>Massively Multiplayer Online (MMO)</td>\n",
       "      <td>massively-multiplayer-online-mmo</td>\n",
       "      <td>1323216000</td>\n",
       "      <td>https://www.igdb.com/game_modes/massively-mult...</td>\n",
       "      <td>307d1126-6e3b-9215-06f1-10c8ecce05b4</td>\n",
       "    </tr>\n",
       "    <tr>\n",
       "      <th>5</th>\n",
       "      <td>6</td>\n",
       "      <td>1588809600</td>\n",
       "      <td>Battle Royale</td>\n",
       "      <td>battle-royale</td>\n",
       "      <td>1588809600</td>\n",
       "      <td>https://www.igdb.com/game_modes/battle-royale</td>\n",
       "      <td>bfc388ac-0502-ba05-af25-3dcc94a0acf3</td>\n",
       "    </tr>\n",
       "  </tbody>\n",
       "</table>\n",
       "</div>"
      ],
      "text/plain": [
       "   id  created_at                                name  \\\n",
       "0   1  1298937600                       Single player   \n",
       "1   2  1298937600                         Multiplayer   \n",
       "2   3  1298937600                        Co-operative   \n",
       "3   4  1298937600                        Split screen   \n",
       "4   5  1298937600  Massively Multiplayer Online (MMO)   \n",
       "5   6  1588809600                       Battle Royale   \n",
       "\n",
       "                               slug  updated_at  \\\n",
       "0                     single-player  1323216000   \n",
       "1                       multiplayer  1323216000   \n",
       "2                      co-operative  1323216000   \n",
       "3                      split-screen  1323216000   \n",
       "4  massively-multiplayer-online-mmo  1323216000   \n",
       "5                     battle-royale  1588809600   \n",
       "\n",
       "                                                 url  \\\n",
       "0      https://www.igdb.com/game_modes/single-player   \n",
       "1        https://www.igdb.com/game_modes/multiplayer   \n",
       "2       https://www.igdb.com/game_modes/co-operative   \n",
       "3       https://www.igdb.com/game_modes/split-screen   \n",
       "4  https://www.igdb.com/game_modes/massively-mult...   \n",
       "5      https://www.igdb.com/game_modes/battle-royale   \n",
       "\n",
       "                               checksum  \n",
       "0  a43b1688-f968-3541-0897-9735ffde1745  \n",
       "1  288b548c-11e4-d910-f037-21d4e6a33b38  \n",
       "2  e8329d55-33e6-f7ae-ae09-2848cb7ccc90  \n",
       "3  98247b75-6f46-7c77-521f-0945c684d842  \n",
       "4  307d1126-6e3b-9215-06f1-10c8ecce05b4  \n",
       "5  bfc388ac-0502-ba05-af25-3dcc94a0acf3  "
      ]
     },
     "execution_count": 14,
     "metadata": {},
     "output_type": "execute_result"
    }
   ],
   "source": [
    "game_mode"
   ]
  },
  {
   "cell_type": "markdown",
   "id": "3a162efa",
   "metadata": {},
   "source": [
    "> the function "
   ]
  },
  {
   "cell_type": "code",
   "execution_count": null,
   "id": "407b896f",
   "metadata": {},
   "outputs": [],
   "source": [
    "# def get_game_modes():\n",
    "#     headers = {'Client-ID': f'{Client_ID}', 'Authorization': f'Bearer {access_token}'}\n",
    "#     data = 'fields *; limit 500;'\n",
    "#     r = requests.post('https://api.igdb.com/v4/game_modes' ,data=data ,  headers=headers)\n",
    "#     game_modes = wrapper.api_request('game_modes', 'fields *;limit 500;')\n",
    "#     x = json.loads(game_modes)\n",
    "#     game_modes =pd.DataFrame(x)\n",
    "#     return game_modes"
   ]
  },
  {
   "cell_type": "code",
   "execution_count": null,
   "id": "b215309c",
   "metadata": {},
   "outputs": [],
   "source": [
    "######## modelist ##########"
   ]
  },
  {
   "cell_type": "code",
   "execution_count": 15,
   "id": "65194a6b",
   "metadata": {},
   "outputs": [],
   "source": [
    "modelist = game_mode[['id' , 'slug']].sort_values(by='id').reset_index(drop=True)\n"
   ]
  },
  {
   "cell_type": "code",
   "execution_count": 16,
   "id": "4919c1fc",
   "metadata": {
    "scrolled": true
   },
   "outputs": [
    {
     "name": "stdout",
     "output_type": "stream",
     "text": [
      "<class 'pandas.core.frame.DataFrame'>\n",
      "RangeIndex: 6 entries, 0 to 5\n",
      "Data columns (total 2 columns):\n",
      " #   Column  Non-Null Count  Dtype \n",
      "---  ------  --------------  ----- \n",
      " 0   id      6 non-null      int64 \n",
      " 1   slug    6 non-null      object\n",
      "dtypes: int64(1), object(1)\n",
      "memory usage: 224.0+ bytes\n"
     ]
    }
   ],
   "source": [
    "modelist.info()"
   ]
  },
  {
   "cell_type": "code",
   "execution_count": 17,
   "id": "6bea1353",
   "metadata": {
    "scrolled": true
   },
   "outputs": [
    {
     "data": {
      "text/html": [
       "<div>\n",
       "<style scoped>\n",
       "    .dataframe tbody tr th:only-of-type {\n",
       "        vertical-align: middle;\n",
       "    }\n",
       "\n",
       "    .dataframe tbody tr th {\n",
       "        vertical-align: top;\n",
       "    }\n",
       "\n",
       "    .dataframe thead th {\n",
       "        text-align: right;\n",
       "    }\n",
       "</style>\n",
       "<table border=\"1\" class=\"dataframe\">\n",
       "  <thead>\n",
       "    <tr style=\"text-align: right;\">\n",
       "      <th></th>\n",
       "      <th>id</th>\n",
       "      <th>slug</th>\n",
       "    </tr>\n",
       "  </thead>\n",
       "  <tbody>\n",
       "    <tr>\n",
       "      <th>0</th>\n",
       "      <td>1</td>\n",
       "      <td>single-player</td>\n",
       "    </tr>\n",
       "    <tr>\n",
       "      <th>1</th>\n",
       "      <td>2</td>\n",
       "      <td>multiplayer</td>\n",
       "    </tr>\n",
       "    <tr>\n",
       "      <th>2</th>\n",
       "      <td>3</td>\n",
       "      <td>co-operative</td>\n",
       "    </tr>\n",
       "    <tr>\n",
       "      <th>3</th>\n",
       "      <td>4</td>\n",
       "      <td>split-screen</td>\n",
       "    </tr>\n",
       "    <tr>\n",
       "      <th>4</th>\n",
       "      <td>5</td>\n",
       "      <td>massively-multiplayer-online-mmo</td>\n",
       "    </tr>\n",
       "    <tr>\n",
       "      <th>5</th>\n",
       "      <td>6</td>\n",
       "      <td>battle-royale</td>\n",
       "    </tr>\n",
       "  </tbody>\n",
       "</table>\n",
       "</div>"
      ],
      "text/plain": [
       "   id                              slug\n",
       "0   1                     single-player\n",
       "1   2                       multiplayer\n",
       "2   3                      co-operative\n",
       "3   4                      split-screen\n",
       "4   5  massively-multiplayer-online-mmo\n",
       "5   6                     battle-royale"
      ]
     },
     "execution_count": 17,
     "metadata": {},
     "output_type": "execute_result"
    }
   ],
   "source": [
    "modelist"
   ]
  },
  {
   "cell_type": "code",
   "execution_count": null,
   "id": "3f8eed59",
   "metadata": {},
   "outputs": [],
   "source": [
    "###### Mode dict ############"
   ]
  },
  {
   "cell_type": "code",
   "execution_count": 18,
   "id": "6b3ed386",
   "metadata": {},
   "outputs": [],
   "source": [
    "mode_dict = modelist.set_index('id').to_dict()['slug']"
   ]
  },
  {
   "cell_type": "code",
   "execution_count": 19,
   "id": "06a56255",
   "metadata": {},
   "outputs": [
    {
     "data": {
      "text/plain": [
       "{1: 'single-player',\n",
       " 2: 'multiplayer',\n",
       " 3: 'co-operative',\n",
       " 4: 'split-screen',\n",
       " 5: 'massively-multiplayer-online-mmo',\n",
       " 6: 'battle-royale'}"
      ]
     },
     "execution_count": 19,
     "metadata": {},
     "output_type": "execute_result"
    }
   ],
   "source": [
    "mode_dict"
   ]
  },
  {
   "cell_type": "code",
   "execution_count": 20,
   "id": "0c9551d2",
   "metadata": {},
   "outputs": [],
   "source": [
    "######### test function ########"
   ]
  },
  {
   "cell_type": "code",
   "execution_count": 21,
   "id": "46e44eed",
   "metadata": {},
   "outputs": [],
   "source": [
    "def test_funct(random_list):\n",
    "    if type(random_list) == list:\n",
    "        return [mode_dict[i] for i in random_list]\n",
    "    else:  \n",
    "        return \"Not available\""
   ]
  },
  {
   "cell_type": "code",
   "execution_count": 22,
   "id": "5de7bf4b",
   "metadata": {},
   "outputs": [],
   "source": [
    "##### Merging ########"
   ]
  },
  {
   "cell_type": "code",
   "execution_count": 23,
   "id": "ba7aa96b",
   "metadata": {
    "scrolled": true
   },
   "outputs": [],
   "source": [
    "df['game_modes'] = pd.DataFrame(df.game_modes.apply(test_funct))\n",
    "#ignore the error"
   ]
  },
  {
   "cell_type": "code",
   "execution_count": 24,
   "id": "9754ad27",
   "metadata": {},
   "outputs": [
    {
     "data": {
      "text/html": [
       "<div>\n",
       "<style scoped>\n",
       "    .dataframe tbody tr th:only-of-type {\n",
       "        vertical-align: middle;\n",
       "    }\n",
       "\n",
       "    .dataframe tbody tr th {\n",
       "        vertical-align: top;\n",
       "    }\n",
       "\n",
       "    .dataframe thead th {\n",
       "        text-align: right;\n",
       "    }\n",
       "</style>\n",
       "<table border=\"1\" class=\"dataframe\">\n",
       "  <thead>\n",
       "    <tr style=\"text-align: right;\">\n",
       "      <th></th>\n",
       "      <th>id</th>\n",
       "      <th>category</th>\n",
       "      <th>created_at</th>\n",
       "      <th>external_games</th>\n",
       "      <th>first_release_date</th>\n",
       "      <th>genres</th>\n",
       "      <th>name</th>\n",
       "      <th>platforms</th>\n",
       "      <th>release_dates</th>\n",
       "      <th>similar_games</th>\n",
       "      <th>...</th>\n",
       "      <th>aggregated_rating_count</th>\n",
       "      <th>multiplayer_modes</th>\n",
       "      <th>remasters</th>\n",
       "      <th>remakes</th>\n",
       "      <th>dlcs</th>\n",
       "      <th>ports</th>\n",
       "      <th>expansions</th>\n",
       "      <th>expanded_games</th>\n",
       "      <th>forks</th>\n",
       "      <th>standalone_expansions</th>\n",
       "    </tr>\n",
       "  </thead>\n",
       "  <tbody>\n",
       "    <tr>\n",
       "      <th>0</th>\n",
       "      <td>40104</td>\n",
       "      <td>0</td>\n",
       "      <td>1498435200</td>\n",
       "      <td>[20127, 1988884]</td>\n",
       "      <td>5.364576e+08</td>\n",
       "      <td>[5]</td>\n",
       "      <td>Dogou Souken</td>\n",
       "      <td>[52]</td>\n",
       "      <td>[91007]</td>\n",
       "      <td>[12364, 27270, 43367, 103281, 103292, 103298, ...</td>\n",
       "      <td>...</td>\n",
       "      <td>NaN</td>\n",
       "      <td>NaN</td>\n",
       "      <td>NaN</td>\n",
       "      <td>NaN</td>\n",
       "      <td>NaN</td>\n",
       "      <td>NaN</td>\n",
       "      <td>NaN</td>\n",
       "      <td>NaN</td>\n",
       "      <td>NaN</td>\n",
       "      <td>NaN</td>\n",
       "    </tr>\n",
       "    <tr>\n",
       "      <th>1</th>\n",
       "      <td>85031</td>\n",
       "      <td>0</td>\n",
       "      <td>1517392813</td>\n",
       "      <td>[216805, 1969751, 2005770]</td>\n",
       "      <td>1.404346e+09</td>\n",
       "      <td>[9]</td>\n",
       "      <td>City Mysteries</td>\n",
       "      <td>[37]</td>\n",
       "      <td>[138333]</td>\n",
       "      <td>[10603, 19222, 25905, 41349, 86974, 87507, 885...</td>\n",
       "      <td>...</td>\n",
       "      <td>NaN</td>\n",
       "      <td>NaN</td>\n",
       "      <td>NaN</td>\n",
       "      <td>NaN</td>\n",
       "      <td>NaN</td>\n",
       "      <td>NaN</td>\n",
       "      <td>NaN</td>\n",
       "      <td>NaN</td>\n",
       "      <td>NaN</td>\n",
       "      <td>NaN</td>\n",
       "    </tr>\n",
       "    <tr>\n",
       "      <th>2</th>\n",
       "      <td>99234</td>\n",
       "      <td>0</td>\n",
       "      <td>1524843905</td>\n",
       "      <td>[603512, 1857496, 1917109]</td>\n",
       "      <td>1.527120e+09</td>\n",
       "      <td>[31, 32]</td>\n",
       "      <td>Sword of the Black Stone</td>\n",
       "      <td>[6]</td>\n",
       "      <td>[188385]</td>\n",
       "      <td>[25646, 29783, 68271, 80916, 96217, 105269, 10...</td>\n",
       "      <td>...</td>\n",
       "      <td>NaN</td>\n",
       "      <td>NaN</td>\n",
       "      <td>NaN</td>\n",
       "      <td>NaN</td>\n",
       "      <td>NaN</td>\n",
       "      <td>NaN</td>\n",
       "      <td>NaN</td>\n",
       "      <td>NaN</td>\n",
       "      <td>NaN</td>\n",
       "      <td>NaN</td>\n",
       "    </tr>\n",
       "  </tbody>\n",
       "</table>\n",
       "<p>3 rows × 55 columns</p>\n",
       "</div>"
      ],
      "text/plain": [
       "      id  category  created_at              external_games  \\\n",
       "0  40104         0  1498435200            [20127, 1988884]   \n",
       "1  85031         0  1517392813  [216805, 1969751, 2005770]   \n",
       "2  99234         0  1524843905  [603512, 1857496, 1917109]   \n",
       "\n",
       "   first_release_date    genres                      name platforms  \\\n",
       "0        5.364576e+08       [5]              Dogou Souken      [52]   \n",
       "1        1.404346e+09       [9]            City Mysteries      [37]   \n",
       "2        1.527120e+09  [31, 32]  Sword of the Black Stone       [6]   \n",
       "\n",
       "  release_dates                                      similar_games  ...  \\\n",
       "0       [91007]  [12364, 27270, 43367, 103281, 103292, 103298, ...  ...   \n",
       "1      [138333]  [10603, 19222, 25905, 41349, 86974, 87507, 885...  ...   \n",
       "2      [188385]  [25646, 29783, 68271, 80916, 96217, 105269, 10...  ...   \n",
       "\n",
       "  aggregated_rating_count multiplayer_modes remasters  remakes dlcs ports  \\\n",
       "0                     NaN               NaN       NaN      NaN  NaN   NaN   \n",
       "1                     NaN               NaN       NaN      NaN  NaN   NaN   \n",
       "2                     NaN               NaN       NaN      NaN  NaN   NaN   \n",
       "\n",
       "  expansions  expanded_games forks standalone_expansions  \n",
       "0        NaN             NaN   NaN                   NaN  \n",
       "1        NaN             NaN   NaN                   NaN  \n",
       "2        NaN             NaN   NaN                   NaN  \n",
       "\n",
       "[3 rows x 55 columns]"
      ]
     },
     "execution_count": 24,
     "metadata": {},
     "output_type": "execute_result"
    }
   ],
   "source": [
    "df.head(3)"
   ]
  },
  {
   "cell_type": "code",
   "execution_count": 25,
   "id": "9c65d3c3",
   "metadata": {},
   "outputs": [
    {
     "data": {
      "text/plain": [
       "Not available                                                                                  107228\n",
       "[single-player]                                                                                 70744\n",
       "[single-player, multiplayer]                                                                    10945\n",
       "[single-player, multiplayer, co-operative]                                                       5214\n",
       "[multiplayer]                                                                                    1940\n",
       "[single-player, multiplayer, split-screen]                                                       1277\n",
       "[single-player, co-operative]                                                                    1083\n",
       "[single-player, split-screen]                                                                    1026\n",
       "[massively-multiplayer-online-mmo]                                                               1021\n",
       "[multiplayer, co-operative]                                                                       745\n",
       "[multiplayer, massively-multiplayer-online-mmo]                                                   634\n",
       "[single-player, multiplayer, co-operative, split-screen]                                          581\n",
       "[single-player, multiplayer, co-operative, massively-multiplayer-online-mmo]                      461\n",
       "[multiplayer, co-operative, massively-multiplayer-online-mmo]                                     366\n",
       "[single-player, multiplayer, massively-multiplayer-online-mmo]                                    324\n",
       "[single-player, co-operative, split-screen]                                                       143\n",
       "[single-player, massively-multiplayer-online-mmo]                                                 121\n",
       "[co-operative]                                                                                    107\n",
       "[multiplayer, battle-royale]                                                                      103\n",
       "[battle-royale]                                                                                    87\n",
       "[multiplayer, co-operative, battle-royale]                                                         45\n",
       "[multiplayer, split-screen]                                                                        42\n",
       "[single-player, multiplayer, battle-royale]                                                        32\n",
       "[multiplayer, co-operative, split-screen]                                                          27\n",
       "[split-screen]                                                                                     27\n",
       "[single-player, multiplayer, co-operative, battle-royale]                                          26\n",
       "[co-operative, massively-multiplayer-online-mmo]                                                   18\n",
       "[multiplayer, massively-multiplayer-online-mmo, battle-royale]                                     16\n",
       "[single-player, co-operative, massively-multiplayer-online-mmo]                                    15\n",
       "[single-player, multiplayer, co-operative, massively-multiplayer-online-mmo, battle-royale]        13\n",
       "[multiplayer, co-operative, massively-multiplayer-online-mmo, battle-royale]                       12\n",
       "[single-player, multiplayer, co-operative, split-screen, massively-multiplayer-online-mmo]         11\n",
       "[single-player, multiplayer, split-screen, massively-multiplayer-online-mmo]                        9\n",
       "[single-player, multiplayer, co-operative, split-screen, battle-royale]                             9\n",
       "[co-operative, split-screen]                                                                        8\n",
       "[massively-multiplayer-online-mmo, battle-royale]                                                   8\n",
       "[single-player, multiplayer, split-screen, battle-royale]                                           6\n",
       "[single-player, battle-royale]                                                                      6\n",
       "[single-player, co-operative, battle-royale]                                                        5\n",
       "[single-player, multiplayer, massively-multiplayer-online-mmo, battle-royale]                       4\n",
       "[multiplayer, split-screen, battle-royale]                                                          3\n",
       "[single-player, split-screen, massively-multiplayer-online-mmo]                                     2\n",
       "[multiplayer, co-operative, split-screen, massively-multiplayer-online-mmo]                         1\n",
       "[split-screen, battle-royale]                                                                       1\n",
       "[single-player, massively-multiplayer-online-mmo, battle-royale]                                    1\n",
       "[single-player, split-screen, battle-royale]                                                        1\n",
       "[co-operative, battle-royale]                                                                       1\n",
       "[multiplayer, split-screen, massively-multiplayer-online-mmo]                                       1\n",
       "Name: game_modes, dtype: int64"
      ]
     },
     "execution_count": 25,
     "metadata": {},
     "output_type": "execute_result"
    }
   ],
   "source": [
    "df.game_modes.value_counts()"
   ]
  },
  {
   "cell_type": "markdown",
   "id": "c4d2aafc",
   "metadata": {},
   "source": [
    "# game_version (do not need this one)"
   ]
  },
  {
   "cell_type": "code",
   "execution_count": null,
   "id": "69e498a0",
   "metadata": {},
   "outputs": [],
   "source": [
    "# headers = {'Client-ID': f'{Client_ID}', 'Authorization': f'Bearer {access_token}'}\n",
    "# data = 'fields *; limit 500;'\n",
    "# r = requests.post('https://api.igdb.com/v4/game_versions' ,data=data ,  headers=headers)\n"
   ]
  },
  {
   "cell_type": "code",
   "execution_count": null,
   "id": "99e8eaa0",
   "metadata": {},
   "outputs": [],
   "source": [
    "# game_versions = wrapper.api_request('game_versions', 'fields *;limit 500;')"
   ]
  },
  {
   "cell_type": "code",
   "execution_count": null,
   "id": "6602ae15",
   "metadata": {},
   "outputs": [],
   "source": [
    "# x = json.loads(game_versions)"
   ]
  },
  {
   "cell_type": "code",
   "execution_count": null,
   "id": "af7d31b7",
   "metadata": {},
   "outputs": [],
   "source": [
    "# game_versions =pd.DataFrame(x)"
   ]
  },
  {
   "cell_type": "code",
   "execution_count": null,
   "id": "35ddabdf",
   "metadata": {
    "scrolled": false
   },
   "outputs": [],
   "source": [
    "# game_versions"
   ]
  },
  {
   "cell_type": "code",
   "execution_count": null,
   "id": "d3cc404e",
   "metadata": {},
   "outputs": [],
   "source": [
    "# pd.set_option('display.max_columns', None)\n",
    "# df.head()"
   ]
  },
  {
   "cell_type": "code",
   "execution_count": null,
   "id": "43776434",
   "metadata": {
    "scrolled": true
   },
   "outputs": [],
   "source": [
    "# df.version_parent.value_counts()"
   ]
  },
  {
   "cell_type": "code",
   "execution_count": null,
   "id": "f7c57699",
   "metadata": {},
   "outputs": [],
   "source": [
    "# df.version_title.value_counts()"
   ]
  },
  {
   "cell_type": "markdown",
   "id": "a3f4207b",
   "metadata": {},
   "source": [
    "> ## the function "
   ]
  },
  {
   "cell_type": "code",
   "execution_count": null,
   "id": "96106599",
   "metadata": {},
   "outputs": [],
   "source": [
    "# def get_game_version():\n",
    "#     headers = {'Client-ID': f'{Client_ID}', 'Authorization': f'Bearer {access_token}'}\n",
    "#     data = 'fields *; limit 500;'\n",
    "#     r = requests.post('https://api.igdb.com/v4/game_versions' ,data=data ,  headers=headers)\n",
    "#     game_versions = wrapper.api_request('game_versions', 'fields *;limit 500;')\n",
    "#     x = json.loads(game_versions)\n",
    "#     game_versions =pd.DataFrame(x)\n",
    "#     return game_version"
   ]
  },
  {
   "cell_type": "code",
   "execution_count": null,
   "id": "78dc40ae",
   "metadata": {},
   "outputs": [],
   "source": [
    "# def test_funct(random_list):\n",
    "#     if type(random_list) == list:\n",
    "#         return [mode_dict[i] for i in random_list]\n",
    "#     else:  \n",
    "#         return \"Not available\""
   ]
  },
  {
   "cell_type": "code",
   "execution_count": null,
   "id": "3097c3e6",
   "metadata": {},
   "outputs": [],
   "source": [
    "# def get_game_version(wrapper):\n",
    "#     get_game_version = pd.DataFrame()\n",
    "#     for i in range(0,409):\n",
    "#         game_versions = wrapper.api_request('game_versions', 'fields *;limit 500;')\n",
    "#         y = json.loads(game_versions)\n",
    "#         results_df =pd.DataFrame(y)\n",
    "#         get_game_version = pd.concat([get_game_version, results_df])\n",
    "#     return get_game_version"
   ]
  },
  {
   "cell_type": "code",
   "execution_count": null,
   "id": "20f32c6f",
   "metadata": {},
   "outputs": [],
   "source": []
  },
  {
   "cell_type": "code",
   "execution_count": null,
   "id": "46535117",
   "metadata": {},
   "outputs": [],
   "source": []
  },
  {
   "cell_type": "code",
   "execution_count": null,
   "id": "23b7933d",
   "metadata": {},
   "outputs": [],
   "source": []
  },
  {
   "cell_type": "markdown",
   "id": "97dab921",
   "metadata": {},
   "source": [
    "# game_version_features "
   ]
  },
  {
   "cell_type": "code",
   "execution_count": 26,
   "id": "849a5a90",
   "metadata": {},
   "outputs": [],
   "source": [
    "headers = {'Client-ID': f'{Client_ID}', 'Authorization': f'Bearer {access_token}'}\n",
    "data = 'fields *; limit 500;'\n",
    "r = requests.post('https://api.igdb.com/v4/game_version_features' ,data=data ,  headers=headers)\n"
   ]
  },
  {
   "cell_type": "code",
   "execution_count": 27,
   "id": "52cec8b8",
   "metadata": {},
   "outputs": [],
   "source": [
    "game_version_features = wrapper.api_request('game_version_features', 'fields *;limit 500;')"
   ]
  },
  {
   "cell_type": "code",
   "execution_count": 28,
   "id": "10962945",
   "metadata": {},
   "outputs": [],
   "source": [
    "x = json.loads(game_version_features)"
   ]
  },
  {
   "cell_type": "code",
   "execution_count": 29,
   "id": "e768d53b",
   "metadata": {},
   "outputs": [],
   "source": [
    "game_versions_features =pd.DataFrame(x)"
   ]
  },
  {
   "cell_type": "code",
   "execution_count": 30,
   "id": "0a2ec0a6",
   "metadata": {
    "scrolled": false
   },
   "outputs": [
    {
     "data": {
      "text/html": [
       "<div>\n",
       "<style scoped>\n",
       "    .dataframe tbody tr th:only-of-type {\n",
       "        vertical-align: middle;\n",
       "    }\n",
       "\n",
       "    .dataframe tbody tr th {\n",
       "        vertical-align: top;\n",
       "    }\n",
       "\n",
       "    .dataframe thead th {\n",
       "        text-align: right;\n",
       "    }\n",
       "</style>\n",
       "<table border=\"1\" class=\"dataframe\">\n",
       "  <thead>\n",
       "    <tr style=\"text-align: right;\">\n",
       "      <th></th>\n",
       "      <th>id</th>\n",
       "      <th>category</th>\n",
       "      <th>description</th>\n",
       "      <th>position</th>\n",
       "      <th>title</th>\n",
       "      <th>values</th>\n",
       "      <th>checksum</th>\n",
       "    </tr>\n",
       "  </thead>\n",
       "  <tbody>\n",
       "    <tr>\n",
       "      <th>0</th>\n",
       "      <td>337</td>\n",
       "      <td>0.0</td>\n",
       "      <td>Sharpens your aim with rifles and pistols. Alw...</td>\n",
       "      <td>1</td>\n",
       "      <td>DLC: The Sharpshooter Detective Suit</td>\n",
       "      <td>[1385, 1386, 1387, 1388]</td>\n",
       "      <td>a10d3ebf-ae3a-f0cc-fc68-116b1545a9ac</td>\n",
       "    </tr>\n",
       "    <tr>\n",
       "      <th>1</th>\n",
       "      <td>347</td>\n",
       "      <td>0.0</td>\n",
       "      <td>NaN</td>\n",
       "      <td>0</td>\n",
       "      <td>25 cm (10\") figurine of an Alb Mage</td>\n",
       "      <td>[1419, 1420]</td>\n",
       "      <td>2a42989b-4936-75bc-6331-0ce79abb225a</td>\n",
       "    </tr>\n",
       "    <tr>\n",
       "      <th>2</th>\n",
       "      <td>352</td>\n",
       "      <td>0.0</td>\n",
       "      <td>NaN</td>\n",
       "      <td>5</td>\n",
       "      <td>A making of DVD</td>\n",
       "      <td>[1429, 1430]</td>\n",
       "      <td>bb46d55f-7145-0b5c-2f69-cea9dd2570d6</td>\n",
       "    </tr>\n",
       "    <tr>\n",
       "      <th>3</th>\n",
       "      <td>375</td>\n",
       "      <td>0.0</td>\n",
       "      <td>Double sided print of the in-game island</td>\n",
       "      <td>2</td>\n",
       "      <td>Collectible map</td>\n",
       "      <td>[1519, 1520, 1521, 1522, 1523]</td>\n",
       "      <td>8a9ea6d0-b5f1-ece2-cd5d-61636d639ad0</td>\n",
       "    </tr>\n",
       "    <tr>\n",
       "      <th>4</th>\n",
       "      <td>382</td>\n",
       "      <td>0.0</td>\n",
       "      <td>Exclusive to TESCO in the UK, it included thre...</td>\n",
       "      <td>9</td>\n",
       "      <td>Combat Strike Pack</td>\n",
       "      <td>[1554, 1555, 1556, 1557, 1558]</td>\n",
       "      <td>263031ce-acb2-69a2-ab66-240dbaad4f4d</td>\n",
       "    </tr>\n",
       "    <tr>\n",
       "      <th>...</th>\n",
       "      <td>...</td>\n",
       "      <td>...</td>\n",
       "      <td>...</td>\n",
       "      <td>...</td>\n",
       "      <td>...</td>\n",
       "      <td>...</td>\n",
       "      <td>...</td>\n",
       "    </tr>\n",
       "    <tr>\n",
       "      <th>440</th>\n",
       "      <td>17</td>\n",
       "      <td>NaN</td>\n",
       "      <td>NaN</td>\n",
       "      <td>0</td>\n",
       "      <td>Season Pass</td>\n",
       "      <td>NaN</td>\n",
       "      <td>c27cf85d-4af5-9fc1-6f59-52a9624f9490</td>\n",
       "    </tr>\n",
       "    <tr>\n",
       "      <th>441</th>\n",
       "      <td>456</td>\n",
       "      <td>0.0</td>\n",
       "      <td>created in collaboration with Dark Horse Comic...</td>\n",
       "      <td>1</td>\n",
       "      <td>Full-color print comic book</td>\n",
       "      <td>[1773, 1774, 1775, 1776]</td>\n",
       "      <td>218da9c1-cc23-cc6d-a50a-72ba78203f66</td>\n",
       "    </tr>\n",
       "    <tr>\n",
       "      <th>442</th>\n",
       "      <td>459</td>\n",
       "      <td>0.0</td>\n",
       "      <td>Full-color printed map of the world of Conan E...</td>\n",
       "      <td>4</td>\n",
       "      <td>World Map</td>\n",
       "      <td>[1785, 1786, 1787, 1788]</td>\n",
       "      <td>3f282aa8-abeb-8fb8-2dc7-5277c451c0aa</td>\n",
       "    </tr>\n",
       "    <tr>\n",
       "      <th>443</th>\n",
       "      <td>555</td>\n",
       "      <td>0.0</td>\n",
       "      <td>NaN</td>\n",
       "      <td>0</td>\n",
       "      <td>Limited edition figurine</td>\n",
       "      <td>[2154, 2155]</td>\n",
       "      <td>a655f38f-4322-fb48-6d4e-8bc71f3834c0</td>\n",
       "    </tr>\n",
       "    <tr>\n",
       "      <th>444</th>\n",
       "      <td>556</td>\n",
       "      <td>0.0</td>\n",
       "      <td>NaN</td>\n",
       "      <td>1</td>\n",
       "      <td>In-game unlockable code</td>\n",
       "      <td>[2156, 2157]</td>\n",
       "      <td>323f6799-6718-6ffc-08d5-5164ba5a7f1d</td>\n",
       "    </tr>\n",
       "  </tbody>\n",
       "</table>\n",
       "<p>445 rows × 7 columns</p>\n",
       "</div>"
      ],
      "text/plain": [
       "      id  category                                        description  \\\n",
       "0    337       0.0  Sharpens your aim with rifles and pistols. Alw...   \n",
       "1    347       0.0                                                NaN   \n",
       "2    352       0.0                                                NaN   \n",
       "3    375       0.0           Double sided print of the in-game island   \n",
       "4    382       0.0  Exclusive to TESCO in the UK, it included thre...   \n",
       "..   ...       ...                                                ...   \n",
       "440   17       NaN                                                NaN   \n",
       "441  456       0.0  created in collaboration with Dark Horse Comic...   \n",
       "442  459       0.0  Full-color printed map of the world of Conan E...   \n",
       "443  555       0.0                                                NaN   \n",
       "444  556       0.0                                                NaN   \n",
       "\n",
       "     position                                 title  \\\n",
       "0           1  DLC: The Sharpshooter Detective Suit   \n",
       "1           0   25 cm (10\") figurine of an Alb Mage   \n",
       "2           5                       A making of DVD   \n",
       "3           2                       Collectible map   \n",
       "4           9                    Combat Strike Pack   \n",
       "..        ...                                   ...   \n",
       "440         0                           Season Pass   \n",
       "441         1           Full-color print comic book   \n",
       "442         4                             World Map   \n",
       "443         0              Limited edition figurine   \n",
       "444         1               In-game unlockable code   \n",
       "\n",
       "                             values                              checksum  \n",
       "0          [1385, 1386, 1387, 1388]  a10d3ebf-ae3a-f0cc-fc68-116b1545a9ac  \n",
       "1                      [1419, 1420]  2a42989b-4936-75bc-6331-0ce79abb225a  \n",
       "2                      [1429, 1430]  bb46d55f-7145-0b5c-2f69-cea9dd2570d6  \n",
       "3    [1519, 1520, 1521, 1522, 1523]  8a9ea6d0-b5f1-ece2-cd5d-61636d639ad0  \n",
       "4    [1554, 1555, 1556, 1557, 1558]  263031ce-acb2-69a2-ab66-240dbaad4f4d  \n",
       "..                              ...                                   ...  \n",
       "440                             NaN  c27cf85d-4af5-9fc1-6f59-52a9624f9490  \n",
       "441        [1773, 1774, 1775, 1776]  218da9c1-cc23-cc6d-a50a-72ba78203f66  \n",
       "442        [1785, 1786, 1787, 1788]  3f282aa8-abeb-8fb8-2dc7-5277c451c0aa  \n",
       "443                    [2154, 2155]  a655f38f-4322-fb48-6d4e-8bc71f3834c0  \n",
       "444                    [2156, 2157]  323f6799-6718-6ffc-08d5-5164ba5a7f1d  \n",
       "\n",
       "[445 rows x 7 columns]"
      ]
     },
     "execution_count": 30,
     "metadata": {},
     "output_type": "execute_result"
    }
   ],
   "source": [
    "game_versions_features"
   ]
  },
  {
   "cell_type": "code",
   "execution_count": 31,
   "id": "10f626d3",
   "metadata": {},
   "outputs": [],
   "source": [
    "game_vf_df = game_versions_features[['id','description', 'title']]"
   ]
  },
  {
   "cell_type": "code",
   "execution_count": 32,
   "id": "ff30f63f",
   "metadata": {
    "scrolled": true
   },
   "outputs": [
    {
     "data": {
      "text/html": [
       "<div>\n",
       "<style scoped>\n",
       "    .dataframe tbody tr th:only-of-type {\n",
       "        vertical-align: middle;\n",
       "    }\n",
       "\n",
       "    .dataframe tbody tr th {\n",
       "        vertical-align: top;\n",
       "    }\n",
       "\n",
       "    .dataframe thead th {\n",
       "        text-align: right;\n",
       "    }\n",
       "</style>\n",
       "<table border=\"1\" class=\"dataframe\">\n",
       "  <thead>\n",
       "    <tr style=\"text-align: right;\">\n",
       "      <th></th>\n",
       "      <th>id</th>\n",
       "      <th>description</th>\n",
       "      <th>title</th>\n",
       "    </tr>\n",
       "  </thead>\n",
       "  <tbody>\n",
       "    <tr>\n",
       "      <th>0</th>\n",
       "      <td>337</td>\n",
       "      <td>Sharpens your aim with rifles and pistols. Alw...</td>\n",
       "      <td>DLC: The Sharpshooter Detective Suit</td>\n",
       "    </tr>\n",
       "    <tr>\n",
       "      <th>1</th>\n",
       "      <td>347</td>\n",
       "      <td>NaN</td>\n",
       "      <td>25 cm (10\") figurine of an Alb Mage</td>\n",
       "    </tr>\n",
       "    <tr>\n",
       "      <th>2</th>\n",
       "      <td>352</td>\n",
       "      <td>NaN</td>\n",
       "      <td>A making of DVD</td>\n",
       "    </tr>\n",
       "    <tr>\n",
       "      <th>3</th>\n",
       "      <td>375</td>\n",
       "      <td>Double sided print of the in-game island</td>\n",
       "      <td>Collectible map</td>\n",
       "    </tr>\n",
       "    <tr>\n",
       "      <th>4</th>\n",
       "      <td>382</td>\n",
       "      <td>Exclusive to TESCO in the UK, it included thre...</td>\n",
       "      <td>Combat Strike Pack</td>\n",
       "    </tr>\n",
       "    <tr>\n",
       "      <th>...</th>\n",
       "      <td>...</td>\n",
       "      <td>...</td>\n",
       "      <td>...</td>\n",
       "    </tr>\n",
       "    <tr>\n",
       "      <th>440</th>\n",
       "      <td>17</td>\n",
       "      <td>NaN</td>\n",
       "      <td>Season Pass</td>\n",
       "    </tr>\n",
       "    <tr>\n",
       "      <th>441</th>\n",
       "      <td>456</td>\n",
       "      <td>created in collaboration with Dark Horse Comic...</td>\n",
       "      <td>Full-color print comic book</td>\n",
       "    </tr>\n",
       "    <tr>\n",
       "      <th>442</th>\n",
       "      <td>459</td>\n",
       "      <td>Full-color printed map of the world of Conan E...</td>\n",
       "      <td>World Map</td>\n",
       "    </tr>\n",
       "    <tr>\n",
       "      <th>443</th>\n",
       "      <td>555</td>\n",
       "      <td>NaN</td>\n",
       "      <td>Limited edition figurine</td>\n",
       "    </tr>\n",
       "    <tr>\n",
       "      <th>444</th>\n",
       "      <td>556</td>\n",
       "      <td>NaN</td>\n",
       "      <td>In-game unlockable code</td>\n",
       "    </tr>\n",
       "  </tbody>\n",
       "</table>\n",
       "<p>445 rows × 3 columns</p>\n",
       "</div>"
      ],
      "text/plain": [
       "      id                                        description  \\\n",
       "0    337  Sharpens your aim with rifles and pistols. Alw...   \n",
       "1    347                                                NaN   \n",
       "2    352                                                NaN   \n",
       "3    375           Double sided print of the in-game island   \n",
       "4    382  Exclusive to TESCO in the UK, it included thre...   \n",
       "..   ...                                                ...   \n",
       "440   17                                                NaN   \n",
       "441  456  created in collaboration with Dark Horse Comic...   \n",
       "442  459  Full-color printed map of the world of Conan E...   \n",
       "443  555                                                NaN   \n",
       "444  556                                                NaN   \n",
       "\n",
       "                                    title  \n",
       "0    DLC: The Sharpshooter Detective Suit  \n",
       "1     25 cm (10\") figurine of an Alb Mage  \n",
       "2                         A making of DVD  \n",
       "3                         Collectible map  \n",
       "4                      Combat Strike Pack  \n",
       "..                                    ...  \n",
       "440                           Season Pass  \n",
       "441           Full-color print comic book  \n",
       "442                             World Map  \n",
       "443              Limited edition figurine  \n",
       "444               In-game unlockable code  \n",
       "\n",
       "[445 rows x 3 columns]"
      ]
     },
     "execution_count": 32,
     "metadata": {},
     "output_type": "execute_result"
    }
   ],
   "source": [
    "game_vf_df"
   ]
  },
  {
   "cell_type": "code",
   "execution_count": 33,
   "id": "2daceb1d",
   "metadata": {},
   "outputs": [],
   "source": [
    "game_vf_df = game_vf_df.rename(columns={'description': 'version_description', 'title': 'title_version'})\n"
   ]
  },
  {
   "cell_type": "code",
   "execution_count": 34,
   "id": "0641b9b2",
   "metadata": {
    "scrolled": true
   },
   "outputs": [
    {
     "data": {
      "text/html": [
       "<div>\n",
       "<style scoped>\n",
       "    .dataframe tbody tr th:only-of-type {\n",
       "        vertical-align: middle;\n",
       "    }\n",
       "\n",
       "    .dataframe tbody tr th {\n",
       "        vertical-align: top;\n",
       "    }\n",
       "\n",
       "    .dataframe thead th {\n",
       "        text-align: right;\n",
       "    }\n",
       "</style>\n",
       "<table border=\"1\" class=\"dataframe\">\n",
       "  <thead>\n",
       "    <tr style=\"text-align: right;\">\n",
       "      <th></th>\n",
       "      <th>id</th>\n",
       "      <th>version_description</th>\n",
       "      <th>title_version</th>\n",
       "    </tr>\n",
       "  </thead>\n",
       "  <tbody>\n",
       "    <tr>\n",
       "      <th>0</th>\n",
       "      <td>337</td>\n",
       "      <td>Sharpens your aim with rifles and pistols. Alw...</td>\n",
       "      <td>DLC: The Sharpshooter Detective Suit</td>\n",
       "    </tr>\n",
       "    <tr>\n",
       "      <th>1</th>\n",
       "      <td>347</td>\n",
       "      <td>NaN</td>\n",
       "      <td>25 cm (10\") figurine of an Alb Mage</td>\n",
       "    </tr>\n",
       "    <tr>\n",
       "      <th>2</th>\n",
       "      <td>352</td>\n",
       "      <td>NaN</td>\n",
       "      <td>A making of DVD</td>\n",
       "    </tr>\n",
       "    <tr>\n",
       "      <th>3</th>\n",
       "      <td>375</td>\n",
       "      <td>Double sided print of the in-game island</td>\n",
       "      <td>Collectible map</td>\n",
       "    </tr>\n",
       "    <tr>\n",
       "      <th>4</th>\n",
       "      <td>382</td>\n",
       "      <td>Exclusive to TESCO in the UK, it included thre...</td>\n",
       "      <td>Combat Strike Pack</td>\n",
       "    </tr>\n",
       "    <tr>\n",
       "      <th>...</th>\n",
       "      <td>...</td>\n",
       "      <td>...</td>\n",
       "      <td>...</td>\n",
       "    </tr>\n",
       "    <tr>\n",
       "      <th>440</th>\n",
       "      <td>17</td>\n",
       "      <td>NaN</td>\n",
       "      <td>Season Pass</td>\n",
       "    </tr>\n",
       "    <tr>\n",
       "      <th>441</th>\n",
       "      <td>456</td>\n",
       "      <td>created in collaboration with Dark Horse Comic...</td>\n",
       "      <td>Full-color print comic book</td>\n",
       "    </tr>\n",
       "    <tr>\n",
       "      <th>442</th>\n",
       "      <td>459</td>\n",
       "      <td>Full-color printed map of the world of Conan E...</td>\n",
       "      <td>World Map</td>\n",
       "    </tr>\n",
       "    <tr>\n",
       "      <th>443</th>\n",
       "      <td>555</td>\n",
       "      <td>NaN</td>\n",
       "      <td>Limited edition figurine</td>\n",
       "    </tr>\n",
       "    <tr>\n",
       "      <th>444</th>\n",
       "      <td>556</td>\n",
       "      <td>NaN</td>\n",
       "      <td>In-game unlockable code</td>\n",
       "    </tr>\n",
       "  </tbody>\n",
       "</table>\n",
       "<p>445 rows × 3 columns</p>\n",
       "</div>"
      ],
      "text/plain": [
       "      id                                version_description  \\\n",
       "0    337  Sharpens your aim with rifles and pistols. Alw...   \n",
       "1    347                                                NaN   \n",
       "2    352                                                NaN   \n",
       "3    375           Double sided print of the in-game island   \n",
       "4    382  Exclusive to TESCO in the UK, it included thre...   \n",
       "..   ...                                                ...   \n",
       "440   17                                                NaN   \n",
       "441  456  created in collaboration with Dark Horse Comic...   \n",
       "442  459  Full-color printed map of the world of Conan E...   \n",
       "443  555                                                NaN   \n",
       "444  556                                                NaN   \n",
       "\n",
       "                            title_version  \n",
       "0    DLC: The Sharpshooter Detective Suit  \n",
       "1     25 cm (10\") figurine of an Alb Mage  \n",
       "2                         A making of DVD  \n",
       "3                         Collectible map  \n",
       "4                      Combat Strike Pack  \n",
       "..                                    ...  \n",
       "440                           Season Pass  \n",
       "441           Full-color print comic book  \n",
       "442                             World Map  \n",
       "443              Limited edition figurine  \n",
       "444               In-game unlockable code  \n",
       "\n",
       "[445 rows x 3 columns]"
      ]
     },
     "execution_count": 34,
     "metadata": {},
     "output_type": "execute_result"
    }
   ],
   "source": [
    "game_vf_df"
   ]
  },
  {
   "cell_type": "markdown",
   "id": "9c3dff88",
   "metadata": {},
   "source": [
    "> ## the function "
   ]
  },
  {
   "cell_type": "code",
   "execution_count": null,
   "id": "23a26256",
   "metadata": {},
   "outputs": [],
   "source": [
    "# def get_game_v_features():\n",
    "#     headers = {'Client-ID': f'{Client_ID}', 'Authorization': f'Bearer {access_token}'}\n",
    "#     data = 'fields *; limit 500;'\n",
    "#     r = requests.post('https://api.igdb.com/v4/game_version_features' ,data=data ,  headers=headers)\n",
    "#     game_version_features = wrapper.api_request('game_version_features', 'fields *;limit 500;')\n",
    "#     x = json.loads(game_version_features)\n",
    "#     game_versions_features =pd.DataFrame(x)\n",
    "#     return game_versions_features"
   ]
  },
  {
   "cell_type": "code",
   "execution_count": null,
   "id": "6a62cfef",
   "metadata": {},
   "outputs": [],
   "source": [
    "# def get_game_v_features(wrapper):\n",
    "#     get_game_v_features =pd.DataFrame()\n",
    "#     for i in range(0,409):\n",
    "#         game_version_features = wrapper.api_request('game_version_features', 'fields *;limit 500;')\n",
    "#         y = json.loads(game_version_features)\n",
    "#         results_df =pd.DataFrame(y)\n",
    "#         game_version_features = pd.concat([game_version_features,results_df])\n",
    "#     return "
   ]
  },
  {
   "cell_type": "markdown",
   "id": "eaa983da",
   "metadata": {},
   "source": [
    "# game_version_feature_values"
   ]
  },
  {
   "cell_type": "code",
   "execution_count": 35,
   "id": "978b2379",
   "metadata": {},
   "outputs": [],
   "source": [
    "headers = {'Client-ID': f'{Client_ID}', 'Authorization': f'Bearer {access_token}'}\n",
    "data = 'fields *; limit 500;'\n",
    "r = requests.post('https://api.igdb.com/v4/game_version_feature_values' ,data=data ,  headers=headers)\n"
   ]
  },
  {
   "cell_type": "code",
   "execution_count": 36,
   "id": "bcca86ef",
   "metadata": {},
   "outputs": [],
   "source": [
    "game_version_feature_values = wrapper.api_request('game_version_feature_values', 'fields *;limit 500;')"
   ]
  },
  {
   "cell_type": "code",
   "execution_count": 37,
   "id": "65fa99f0",
   "metadata": {},
   "outputs": [],
   "source": [
    "x = json.loads(game_version_feature_values)"
   ]
  },
  {
   "cell_type": "code",
   "execution_count": 38,
   "id": "f94ec74c",
   "metadata": {},
   "outputs": [],
   "source": [
    "gamevfv_df=pd.DataFrame(x)"
   ]
  },
  {
   "cell_type": "code",
   "execution_count": 39,
   "id": "a6807f25",
   "metadata": {
    "scrolled": true
   },
   "outputs": [
    {
     "data": {
      "text/html": [
       "<div>\n",
       "<style scoped>\n",
       "    .dataframe tbody tr th:only-of-type {\n",
       "        vertical-align: middle;\n",
       "    }\n",
       "\n",
       "    .dataframe tbody tr th {\n",
       "        vertical-align: top;\n",
       "    }\n",
       "\n",
       "    .dataframe thead th {\n",
       "        text-align: right;\n",
       "    }\n",
       "</style>\n",
       "<table border=\"1\" class=\"dataframe\">\n",
       "  <thead>\n",
       "    <tr style=\"text-align: right;\">\n",
       "      <th></th>\n",
       "      <th>id</th>\n",
       "      <th>game</th>\n",
       "      <th>game_feature</th>\n",
       "      <th>included_feature</th>\n",
       "      <th>checksum</th>\n",
       "      <th>note</th>\n",
       "    </tr>\n",
       "  </thead>\n",
       "  <tbody>\n",
       "    <tr>\n",
       "      <th>0</th>\n",
       "      <td>1581</td>\n",
       "      <td>52617</td>\n",
       "      <td>391</td>\n",
       "      <td>0.0</td>\n",
       "      <td>1db62035-9135-3d01-25a5-9c194d8fbd8f</td>\n",
       "      <td>NaN</td>\n",
       "    </tr>\n",
       "    <tr>\n",
       "      <th>1</th>\n",
       "      <td>1590</td>\n",
       "      <td>52617</td>\n",
       "      <td>394</td>\n",
       "      <td>0.0</td>\n",
       "      <td>e2e097d5-c88d-d6ea-48cf-1f5288f6bbe2</td>\n",
       "      <td>NaN</td>\n",
       "    </tr>\n",
       "    <tr>\n",
       "      <th>2</th>\n",
       "      <td>591</td>\n",
       "      <td>39045</td>\n",
       "      <td>144</td>\n",
       "      <td>0.0</td>\n",
       "      <td>6ee07864-0f1b-d41f-e2a5-e7dc2731d9a0</td>\n",
       "      <td>NaN</td>\n",
       "    </tr>\n",
       "    <tr>\n",
       "      <th>3</th>\n",
       "      <td>1987</td>\n",
       "      <td>83886</td>\n",
       "      <td>503</td>\n",
       "      <td>2.0</td>\n",
       "      <td>612d4e1b-a3b2-60e4-680a-064c0837f71e</td>\n",
       "      <td>NaN</td>\n",
       "    </tr>\n",
       "    <tr>\n",
       "      <th>4</th>\n",
       "      <td>1600</td>\n",
       "      <td>19333</td>\n",
       "      <td>399</td>\n",
       "      <td>0.0</td>\n",
       "      <td>ba6dcc29-45c7-6412-ebce-da6731910fb9</td>\n",
       "      <td>NaN</td>\n",
       "    </tr>\n",
       "    <tr>\n",
       "      <th>...</th>\n",
       "      <td>...</td>\n",
       "      <td>...</td>\n",
       "      <td>...</td>\n",
       "      <td>...</td>\n",
       "      <td>...</td>\n",
       "      <td>...</td>\n",
       "    </tr>\n",
       "    <tr>\n",
       "      <th>495</th>\n",
       "      <td>1186</td>\n",
       "      <td>41637</td>\n",
       "      <td>298</td>\n",
       "      <td>0.0</td>\n",
       "      <td>6a2e38c1-1d55-4035-dd6e-1171c078f330</td>\n",
       "      <td>NaN</td>\n",
       "    </tr>\n",
       "    <tr>\n",
       "      <th>496</th>\n",
       "      <td>1188</td>\n",
       "      <td>28210</td>\n",
       "      <td>298</td>\n",
       "      <td>0.0</td>\n",
       "      <td>8d9fd115-84aa-2cc7-da8e-ed3de3bfa315</td>\n",
       "      <td>NaN</td>\n",
       "    </tr>\n",
       "    <tr>\n",
       "      <th>497</th>\n",
       "      <td>1194</td>\n",
       "      <td>9536</td>\n",
       "      <td>292</td>\n",
       "      <td>0.0</td>\n",
       "      <td>59cbc7b7-1ea2-2a93-1aed-5b1973175147</td>\n",
       "      <td>NaN</td>\n",
       "    </tr>\n",
       "    <tr>\n",
       "      <th>498</th>\n",
       "      <td>1192</td>\n",
       "      <td>9536</td>\n",
       "      <td>290</td>\n",
       "      <td>1.0</td>\n",
       "      <td>7eb1188a-13c2-b35e-d69e-1909438af148</td>\n",
       "      <td>NaN</td>\n",
       "    </tr>\n",
       "    <tr>\n",
       "      <th>499</th>\n",
       "      <td>1201</td>\n",
       "      <td>42941</td>\n",
       "      <td>299</td>\n",
       "      <td>0.0</td>\n",
       "      <td>f05efb80-16d7-4540-acdc-56b8669464c5</td>\n",
       "      <td>NaN</td>\n",
       "    </tr>\n",
       "  </tbody>\n",
       "</table>\n",
       "<p>500 rows × 6 columns</p>\n",
       "</div>"
      ],
      "text/plain": [
       "       id   game  game_feature  included_feature  \\\n",
       "0    1581  52617           391               0.0   \n",
       "1    1590  52617           394               0.0   \n",
       "2     591  39045           144               0.0   \n",
       "3    1987  83886           503               2.0   \n",
       "4    1600  19333           399               0.0   \n",
       "..    ...    ...           ...               ...   \n",
       "495  1186  41637           298               0.0   \n",
       "496  1188  28210           298               0.0   \n",
       "497  1194   9536           292               0.0   \n",
       "498  1192   9536           290               1.0   \n",
       "499  1201  42941           299               0.0   \n",
       "\n",
       "                                 checksum note  \n",
       "0    1db62035-9135-3d01-25a5-9c194d8fbd8f  NaN  \n",
       "1    e2e097d5-c88d-d6ea-48cf-1f5288f6bbe2  NaN  \n",
       "2    6ee07864-0f1b-d41f-e2a5-e7dc2731d9a0  NaN  \n",
       "3    612d4e1b-a3b2-60e4-680a-064c0837f71e  NaN  \n",
       "4    ba6dcc29-45c7-6412-ebce-da6731910fb9  NaN  \n",
       "..                                    ...  ...  \n",
       "495  6a2e38c1-1d55-4035-dd6e-1171c078f330  NaN  \n",
       "496  8d9fd115-84aa-2cc7-da8e-ed3de3bfa315  NaN  \n",
       "497  59cbc7b7-1ea2-2a93-1aed-5b1973175147  NaN  \n",
       "498  7eb1188a-13c2-b35e-d69e-1909438af148  NaN  \n",
       "499  f05efb80-16d7-4540-acdc-56b8669464c5  NaN  \n",
       "\n",
       "[500 rows x 6 columns]"
      ]
     },
     "execution_count": 39,
     "metadata": {},
     "output_type": "execute_result"
    }
   ],
   "source": [
    "gamevfv_df"
   ]
  },
  {
   "cell_type": "markdown",
   "id": "a1cc3c1b",
   "metadata": {},
   "source": [
    "> ## the function "
   ]
  },
  {
   "cell_type": "code",
   "execution_count": null,
   "id": "1de3813d",
   "metadata": {},
   "outputs": [],
   "source": [
    "# def get_version_features_values():\n",
    "#     headers = {'Client-ID': f'{Client_ID}', 'Authorization': f'Bearer {access_token}'}\n",
    "#     data = 'fields *; limit 500;'\n",
    "#     r = requests.post('https://api.igdb.com/v4/game_version_feature_values' ,data=data ,  headers=headers)\n",
    "#     game_version_feature_values = wrapper.api_request('game_version_feature_values', 'fields *;limit 500;')\n",
    "#     x = json.loads(game_version_feature_values)\n",
    "#     game_versions_feature_values =pd.DataFrame(x)\n",
    "#     return game_versions_feature_values"
   ]
  },
  {
   "cell_type": "code",
   "execution_count": null,
   "id": "ad860d15",
   "metadata": {},
   "outputs": [],
   "source": [
    "# def get_value_feature_values(wrapper):\n",
    "#     get_value_feature_values= pd.DataFrame()\n",
    "#     for i in range (0, 409):\n",
    "#         gvf_values = wrapper.api_request('game_feature', 'fields *; limit 500;' f'offset {i * 500};')\n",
    "#         y = json.loads(gvf_values)\n",
    "#         results_df =pd.DataFrame(y)\n",
    "#         get_value_feature_values = pd.concat([vf_values, results_df])\n",
    "#     return get_vf_values"
   ]
  },
  {
   "cell_type": "code",
   "execution_count": null,
   "id": "e0377c74",
   "metadata": {},
   "outputs": [],
   "source": [
    "########### This needs a wrapper ##########"
   ]
  },
  {
   "cell_type": "code",
   "execution_count": 43,
   "id": "4408f439",
   "metadata": {},
   "outputs": [],
   "source": [
    "def vf_values(wrapper):\n",
    "    vf_values= pd.DataFrame()\n",
    "    for i in range (0, 409):\n",
    "        gvf_values = wrapper.api_request('game_version_feature_values', 'fields *; limit 500;' f'offset {i * 500};')\n",
    "        y = json.loads(gvf_values)\n",
    "        results_df =pd.DataFrame(y)\n",
    "        vf_values = pd.concat([vf_values, results_df])\n",
    "    return vf_values"
   ]
  },
  {
   "cell_type": "code",
   "execution_count": 44,
   "id": "2c923e39",
   "metadata": {
    "scrolled": false
   },
   "outputs": [],
   "source": [
    "gamevfv_df = vf_values(wrapper)"
   ]
  },
  {
   "cell_type": "code",
   "execution_count": 45,
   "id": "41258068",
   "metadata": {},
   "outputs": [
    {
     "data": {
      "text/html": [
       "<div>\n",
       "<style scoped>\n",
       "    .dataframe tbody tr th:only-of-type {\n",
       "        vertical-align: middle;\n",
       "    }\n",
       "\n",
       "    .dataframe tbody tr th {\n",
       "        vertical-align: top;\n",
       "    }\n",
       "\n",
       "    .dataframe thead th {\n",
       "        text-align: right;\n",
       "    }\n",
       "</style>\n",
       "<table border=\"1\" class=\"dataframe\">\n",
       "  <thead>\n",
       "    <tr style=\"text-align: right;\">\n",
       "      <th></th>\n",
       "      <th>id</th>\n",
       "      <th>game</th>\n",
       "      <th>game_feature</th>\n",
       "      <th>included_feature</th>\n",
       "      <th>checksum</th>\n",
       "      <th>note</th>\n",
       "    </tr>\n",
       "  </thead>\n",
       "  <tbody>\n",
       "    <tr>\n",
       "      <th>0</th>\n",
       "      <td>1581</td>\n",
       "      <td>52617</td>\n",
       "      <td>391</td>\n",
       "      <td>0.0</td>\n",
       "      <td>1db62035-9135-3d01-25a5-9c194d8fbd8f</td>\n",
       "      <td>NaN</td>\n",
       "    </tr>\n",
       "    <tr>\n",
       "      <th>1</th>\n",
       "      <td>1590</td>\n",
       "      <td>52617</td>\n",
       "      <td>394</td>\n",
       "      <td>0.0</td>\n",
       "      <td>e2e097d5-c88d-d6ea-48cf-1f5288f6bbe2</td>\n",
       "      <td>NaN</td>\n",
       "    </tr>\n",
       "    <tr>\n",
       "      <th>2</th>\n",
       "      <td>591</td>\n",
       "      <td>39045</td>\n",
       "      <td>144</td>\n",
       "      <td>0.0</td>\n",
       "      <td>6ee07864-0f1b-d41f-e2a5-e7dc2731d9a0</td>\n",
       "      <td>NaN</td>\n",
       "    </tr>\n",
       "    <tr>\n",
       "      <th>3</th>\n",
       "      <td>1987</td>\n",
       "      <td>83886</td>\n",
       "      <td>503</td>\n",
       "      <td>2.0</td>\n",
       "      <td>612d4e1b-a3b2-60e4-680a-064c0837f71e</td>\n",
       "      <td>NaN</td>\n",
       "    </tr>\n",
       "    <tr>\n",
       "      <th>4</th>\n",
       "      <td>1600</td>\n",
       "      <td>19333</td>\n",
       "      <td>399</td>\n",
       "      <td>0.0</td>\n",
       "      <td>ba6dcc29-45c7-6412-ebce-da6731910fb9</td>\n",
       "      <td>NaN</td>\n",
       "    </tr>\n",
       "    <tr>\n",
       "      <th>...</th>\n",
       "      <td>...</td>\n",
       "      <td>...</td>\n",
       "      <td>...</td>\n",
       "      <td>...</td>\n",
       "      <td>...</td>\n",
       "      <td>...</td>\n",
       "    </tr>\n",
       "    <tr>\n",
       "      <th>17</th>\n",
       "      <td>1983</td>\n",
       "      <td>53012</td>\n",
       "      <td>503</td>\n",
       "      <td>2.0</td>\n",
       "      <td>74eacd56-d0fa-62ab-a961-df386c4cd140</td>\n",
       "      <td>NaN</td>\n",
       "    </tr>\n",
       "    <tr>\n",
       "      <th>18</th>\n",
       "      <td>2155</td>\n",
       "      <td>193391</td>\n",
       "      <td>555</td>\n",
       "      <td>1.0</td>\n",
       "      <td>2eb547da-7c57-147e-1bdd-9d9b8dcc3eac</td>\n",
       "      <td>NaN</td>\n",
       "    </tr>\n",
       "    <tr>\n",
       "      <th>19</th>\n",
       "      <td>2154</td>\n",
       "      <td>5116</td>\n",
       "      <td>555</td>\n",
       "      <td>0.0</td>\n",
       "      <td>d257f647-5899-a6e0-fca6-516809965ba1</td>\n",
       "      <td>NaN</td>\n",
       "    </tr>\n",
       "    <tr>\n",
       "      <th>20</th>\n",
       "      <td>2156</td>\n",
       "      <td>5116</td>\n",
       "      <td>556</td>\n",
       "      <td>0.0</td>\n",
       "      <td>bc29ab0a-9945-f712-2de9-752bb23c3524</td>\n",
       "      <td>NaN</td>\n",
       "    </tr>\n",
       "    <tr>\n",
       "      <th>21</th>\n",
       "      <td>2157</td>\n",
       "      <td>193391</td>\n",
       "      <td>556</td>\n",
       "      <td>1.0</td>\n",
       "      <td>507e55ed-c9ac-19c6-da91-5000ce3e51cb</td>\n",
       "      <td>NaN</td>\n",
       "    </tr>\n",
       "  </tbody>\n",
       "</table>\n",
       "<p>1522 rows × 6 columns</p>\n",
       "</div>"
      ],
      "text/plain": [
       "      id    game  game_feature  included_feature  \\\n",
       "0   1581   52617           391               0.0   \n",
       "1   1590   52617           394               0.0   \n",
       "2    591   39045           144               0.0   \n",
       "3   1987   83886           503               2.0   \n",
       "4   1600   19333           399               0.0   \n",
       "..   ...     ...           ...               ...   \n",
       "17  1983   53012           503               2.0   \n",
       "18  2155  193391           555               1.0   \n",
       "19  2154    5116           555               0.0   \n",
       "20  2156    5116           556               0.0   \n",
       "21  2157  193391           556               1.0   \n",
       "\n",
       "                                checksum note  \n",
       "0   1db62035-9135-3d01-25a5-9c194d8fbd8f  NaN  \n",
       "1   e2e097d5-c88d-d6ea-48cf-1f5288f6bbe2  NaN  \n",
       "2   6ee07864-0f1b-d41f-e2a5-e7dc2731d9a0  NaN  \n",
       "3   612d4e1b-a3b2-60e4-680a-064c0837f71e  NaN  \n",
       "4   ba6dcc29-45c7-6412-ebce-da6731910fb9  NaN  \n",
       "..                                   ...  ...  \n",
       "17  74eacd56-d0fa-62ab-a961-df386c4cd140  NaN  \n",
       "18  2eb547da-7c57-147e-1bdd-9d9b8dcc3eac  NaN  \n",
       "19  d257f647-5899-a6e0-fca6-516809965ba1  NaN  \n",
       "20  bc29ab0a-9945-f712-2de9-752bb23c3524  NaN  \n",
       "21  507e55ed-c9ac-19c6-da91-5000ce3e51cb  NaN  \n",
       "\n",
       "[1522 rows x 6 columns]"
      ]
     },
     "execution_count": 45,
     "metadata": {},
     "output_type": "execute_result"
    }
   ],
   "source": [
    "gamevfv_df"
   ]
  },
  {
   "cell_type": "code",
   "execution_count": 46,
   "id": "7edf2cb2",
   "metadata": {},
   "outputs": [],
   "source": [
    "gamevfv_df = gamevfv_df[['game','game_feature']]\n"
   ]
  },
  {
   "cell_type": "code",
   "execution_count": 47,
   "id": "af594d81",
   "metadata": {
    "scrolled": false
   },
   "outputs": [
    {
     "data": {
      "text/html": [
       "<div>\n",
       "<style scoped>\n",
       "    .dataframe tbody tr th:only-of-type {\n",
       "        vertical-align: middle;\n",
       "    }\n",
       "\n",
       "    .dataframe tbody tr th {\n",
       "        vertical-align: top;\n",
       "    }\n",
       "\n",
       "    .dataframe thead th {\n",
       "        text-align: right;\n",
       "    }\n",
       "</style>\n",
       "<table border=\"1\" class=\"dataframe\">\n",
       "  <thead>\n",
       "    <tr style=\"text-align: right;\">\n",
       "      <th></th>\n",
       "      <th>game</th>\n",
       "      <th>game_feature</th>\n",
       "    </tr>\n",
       "  </thead>\n",
       "  <tbody>\n",
       "    <tr>\n",
       "      <th>0</th>\n",
       "      <td>52617</td>\n",
       "      <td>391</td>\n",
       "    </tr>\n",
       "    <tr>\n",
       "      <th>1</th>\n",
       "      <td>52617</td>\n",
       "      <td>394</td>\n",
       "    </tr>\n",
       "    <tr>\n",
       "      <th>2</th>\n",
       "      <td>39045</td>\n",
       "      <td>144</td>\n",
       "    </tr>\n",
       "    <tr>\n",
       "      <th>3</th>\n",
       "      <td>83886</td>\n",
       "      <td>503</td>\n",
       "    </tr>\n",
       "    <tr>\n",
       "      <th>4</th>\n",
       "      <td>19333</td>\n",
       "      <td>399</td>\n",
       "    </tr>\n",
       "    <tr>\n",
       "      <th>...</th>\n",
       "      <td>...</td>\n",
       "      <td>...</td>\n",
       "    </tr>\n",
       "    <tr>\n",
       "      <th>17</th>\n",
       "      <td>53012</td>\n",
       "      <td>503</td>\n",
       "    </tr>\n",
       "    <tr>\n",
       "      <th>18</th>\n",
       "      <td>193391</td>\n",
       "      <td>555</td>\n",
       "    </tr>\n",
       "    <tr>\n",
       "      <th>19</th>\n",
       "      <td>5116</td>\n",
       "      <td>555</td>\n",
       "    </tr>\n",
       "    <tr>\n",
       "      <th>20</th>\n",
       "      <td>5116</td>\n",
       "      <td>556</td>\n",
       "    </tr>\n",
       "    <tr>\n",
       "      <th>21</th>\n",
       "      <td>193391</td>\n",
       "      <td>556</td>\n",
       "    </tr>\n",
       "  </tbody>\n",
       "</table>\n",
       "<p>1522 rows × 2 columns</p>\n",
       "</div>"
      ],
      "text/plain": [
       "      game  game_feature\n",
       "0    52617           391\n",
       "1    52617           394\n",
       "2    39045           144\n",
       "3    83886           503\n",
       "4    19333           399\n",
       "..     ...           ...\n",
       "17   53012           503\n",
       "18  193391           555\n",
       "19    5116           555\n",
       "20    5116           556\n",
       "21  193391           556\n",
       "\n",
       "[1522 rows x 2 columns]"
      ]
     },
     "execution_count": 47,
     "metadata": {},
     "output_type": "execute_result"
    }
   ],
   "source": [
    "gamevfv_df"
   ]
  },
  {
   "cell_type": "code",
   "execution_count": 48,
   "id": "da6bc2c6",
   "metadata": {},
   "outputs": [],
   "source": [
    "gamevfv_df = gamevfv_df.rename(columns={\"game_feature\": \"id\"})"
   ]
  },
  {
   "cell_type": "code",
   "execution_count": 49,
   "id": "eefec1b9",
   "metadata": {},
   "outputs": [],
   "source": [
    "gamevfv_df = gamevfv_df.set_index('id')"
   ]
  },
  {
   "cell_type": "code",
   "execution_count": 50,
   "id": "737eaa1b",
   "metadata": {},
   "outputs": [
    {
     "data": {
      "text/html": [
       "<div>\n",
       "<style scoped>\n",
       "    .dataframe tbody tr th:only-of-type {\n",
       "        vertical-align: middle;\n",
       "    }\n",
       "\n",
       "    .dataframe tbody tr th {\n",
       "        vertical-align: top;\n",
       "    }\n",
       "\n",
       "    .dataframe thead th {\n",
       "        text-align: right;\n",
       "    }\n",
       "</style>\n",
       "<table border=\"1\" class=\"dataframe\">\n",
       "  <thead>\n",
       "    <tr style=\"text-align: right;\">\n",
       "      <th></th>\n",
       "      <th>game</th>\n",
       "    </tr>\n",
       "    <tr>\n",
       "      <th>id</th>\n",
       "      <th></th>\n",
       "    </tr>\n",
       "  </thead>\n",
       "  <tbody>\n",
       "    <tr>\n",
       "      <th>391</th>\n",
       "      <td>52617</td>\n",
       "    </tr>\n",
       "    <tr>\n",
       "      <th>394</th>\n",
       "      <td>52617</td>\n",
       "    </tr>\n",
       "    <tr>\n",
       "      <th>144</th>\n",
       "      <td>39045</td>\n",
       "    </tr>\n",
       "    <tr>\n",
       "      <th>503</th>\n",
       "      <td>83886</td>\n",
       "    </tr>\n",
       "    <tr>\n",
       "      <th>399</th>\n",
       "      <td>19333</td>\n",
       "    </tr>\n",
       "    <tr>\n",
       "      <th>...</th>\n",
       "      <td>...</td>\n",
       "    </tr>\n",
       "    <tr>\n",
       "      <th>503</th>\n",
       "      <td>53012</td>\n",
       "    </tr>\n",
       "    <tr>\n",
       "      <th>555</th>\n",
       "      <td>193391</td>\n",
       "    </tr>\n",
       "    <tr>\n",
       "      <th>555</th>\n",
       "      <td>5116</td>\n",
       "    </tr>\n",
       "    <tr>\n",
       "      <th>556</th>\n",
       "      <td>5116</td>\n",
       "    </tr>\n",
       "    <tr>\n",
       "      <th>556</th>\n",
       "      <td>193391</td>\n",
       "    </tr>\n",
       "  </tbody>\n",
       "</table>\n",
       "<p>1522 rows × 1 columns</p>\n",
       "</div>"
      ],
      "text/plain": [
       "       game\n",
       "id         \n",
       "391   52617\n",
       "394   52617\n",
       "144   39045\n",
       "503   83886\n",
       "399   19333\n",
       "..      ...\n",
       "503   53012\n",
       "555  193391\n",
       "555    5116\n",
       "556    5116\n",
       "556  193391\n",
       "\n",
       "[1522 rows x 1 columns]"
      ]
     },
     "execution_count": 50,
     "metadata": {},
     "output_type": "execute_result"
    }
   ],
   "source": [
    "gamevfv_df"
   ]
  },
  {
   "cell_type": "markdown",
   "id": "47b6c2b7",
   "metadata": {},
   "source": [
    "## Merging `game_verion_feature` & `game_version_feature_value` to the main dataframe"
   ]
  },
  {
   "cell_type": "code",
   "execution_count": 51,
   "id": "c0c5fd34",
   "metadata": {
    "scrolled": false
   },
   "outputs": [
    {
     "data": {
      "text/html": [
       "<div>\n",
       "<style scoped>\n",
       "    .dataframe tbody tr th:only-of-type {\n",
       "        vertical-align: middle;\n",
       "    }\n",
       "\n",
       "    .dataframe tbody tr th {\n",
       "        vertical-align: top;\n",
       "    }\n",
       "\n",
       "    .dataframe thead th {\n",
       "        text-align: right;\n",
       "    }\n",
       "</style>\n",
       "<table border=\"1\" class=\"dataframe\">\n",
       "  <thead>\n",
       "    <tr style=\"text-align: right;\">\n",
       "      <th></th>\n",
       "      <th>game</th>\n",
       "    </tr>\n",
       "    <tr>\n",
       "      <th>id</th>\n",
       "      <th></th>\n",
       "    </tr>\n",
       "  </thead>\n",
       "  <tbody>\n",
       "    <tr>\n",
       "      <th>391</th>\n",
       "      <td>52617</td>\n",
       "    </tr>\n",
       "    <tr>\n",
       "      <th>394</th>\n",
       "      <td>52617</td>\n",
       "    </tr>\n",
       "    <tr>\n",
       "      <th>144</th>\n",
       "      <td>39045</td>\n",
       "    </tr>\n",
       "    <tr>\n",
       "      <th>503</th>\n",
       "      <td>83886</td>\n",
       "    </tr>\n",
       "    <tr>\n",
       "      <th>399</th>\n",
       "      <td>19333</td>\n",
       "    </tr>\n",
       "    <tr>\n",
       "      <th>...</th>\n",
       "      <td>...</td>\n",
       "    </tr>\n",
       "    <tr>\n",
       "      <th>503</th>\n",
       "      <td>53012</td>\n",
       "    </tr>\n",
       "    <tr>\n",
       "      <th>555</th>\n",
       "      <td>193391</td>\n",
       "    </tr>\n",
       "    <tr>\n",
       "      <th>555</th>\n",
       "      <td>5116</td>\n",
       "    </tr>\n",
       "    <tr>\n",
       "      <th>556</th>\n",
       "      <td>5116</td>\n",
       "    </tr>\n",
       "    <tr>\n",
       "      <th>556</th>\n",
       "      <td>193391</td>\n",
       "    </tr>\n",
       "  </tbody>\n",
       "</table>\n",
       "<p>1522 rows × 1 columns</p>\n",
       "</div>"
      ],
      "text/plain": [
       "       game\n",
       "id         \n",
       "391   52617\n",
       "394   52617\n",
       "144   39045\n",
       "503   83886\n",
       "399   19333\n",
       "..      ...\n",
       "503   53012\n",
       "555  193391\n",
       "555    5116\n",
       "556    5116\n",
       "556  193391\n",
       "\n",
       "[1522 rows x 1 columns]"
      ]
     },
     "execution_count": 51,
     "metadata": {},
     "output_type": "execute_result"
    }
   ],
   "source": [
    "gamevfv_df"
   ]
  },
  {
   "cell_type": "code",
   "execution_count": 52,
   "id": "abb04667",
   "metadata": {},
   "outputs": [],
   "source": [
    "#merging the game_verion_feature & game_version_feature_value\n",
    "results_df = pd.merge(gamevfv_df,  game_vf_df , how = 'left', on=\"id\")"
   ]
  },
  {
   "cell_type": "code",
   "execution_count": 57,
   "id": "3b47b5f7",
   "metadata": {
    "scrolled": true
   },
   "outputs": [
    {
     "data": {
      "text/html": [
       "<div>\n",
       "<style scoped>\n",
       "    .dataframe tbody tr th:only-of-type {\n",
       "        vertical-align: middle;\n",
       "    }\n",
       "\n",
       "    .dataframe tbody tr th {\n",
       "        vertical-align: top;\n",
       "    }\n",
       "\n",
       "    .dataframe thead th {\n",
       "        text-align: right;\n",
       "    }\n",
       "</style>\n",
       "<table border=\"1\" class=\"dataframe\">\n",
       "  <thead>\n",
       "    <tr style=\"text-align: right;\">\n",
       "      <th></th>\n",
       "      <th>id</th>\n",
       "      <th>game</th>\n",
       "      <th>version_description</th>\n",
       "      <th>title_version</th>\n",
       "    </tr>\n",
       "  </thead>\n",
       "  <tbody>\n",
       "    <tr>\n",
       "      <th>0</th>\n",
       "      <td>391</td>\n",
       "      <td>52617</td>\n",
       "      <td>Delve into the mystery of the Shining Lady, Ca...</td>\n",
       "      <td>Field Report with Removable Coin</td>\n",
       "    </tr>\n",
       "    <tr>\n",
       "      <th>1</th>\n",
       "      <td>394</td>\n",
       "      <td>52617</td>\n",
       "      <td>Show the world you've joined the siege with th...</td>\n",
       "      <td>Siege of Dragonspear Amulet</td>\n",
       "    </tr>\n",
       "    <tr>\n",
       "      <th>2</th>\n",
       "      <td>144</td>\n",
       "      <td>39045</td>\n",
       "      <td>NaN</td>\n",
       "      <td>Bayek’s Eagle Skull Amulet</td>\n",
       "    </tr>\n",
       "    <tr>\n",
       "      <th>3</th>\n",
       "      <td>503</td>\n",
       "      <td>83886</td>\n",
       "      <td>Doomsday Prepper Pack includes the prepper out...</td>\n",
       "      <td>Doomsday Prepper Pack</td>\n",
       "    </tr>\n",
       "    <tr>\n",
       "      <th>4</th>\n",
       "      <td>399</td>\n",
       "      <td>19333</td>\n",
       "      <td>Prospect Mask with a display base</td>\n",
       "      <td>Prospect Mask</td>\n",
       "    </tr>\n",
       "    <tr>\n",
       "      <th>...</th>\n",
       "      <td>...</td>\n",
       "      <td>...</td>\n",
       "      <td>...</td>\n",
       "      <td>...</td>\n",
       "    </tr>\n",
       "    <tr>\n",
       "      <th>1517</th>\n",
       "      <td>503</td>\n",
       "      <td>53012</td>\n",
       "      <td>Doomsday Prepper Pack includes the prepper out...</td>\n",
       "      <td>Doomsday Prepper Pack</td>\n",
       "    </tr>\n",
       "    <tr>\n",
       "      <th>1518</th>\n",
       "      <td>555</td>\n",
       "      <td>193391</td>\n",
       "      <td>NaN</td>\n",
       "      <td>Limited edition figurine</td>\n",
       "    </tr>\n",
       "    <tr>\n",
       "      <th>1519</th>\n",
       "      <td>555</td>\n",
       "      <td>5116</td>\n",
       "      <td>NaN</td>\n",
       "      <td>Limited edition figurine</td>\n",
       "    </tr>\n",
       "    <tr>\n",
       "      <th>1520</th>\n",
       "      <td>556</td>\n",
       "      <td>5116</td>\n",
       "      <td>NaN</td>\n",
       "      <td>In-game unlockable code</td>\n",
       "    </tr>\n",
       "    <tr>\n",
       "      <th>1521</th>\n",
       "      <td>556</td>\n",
       "      <td>193391</td>\n",
       "      <td>NaN</td>\n",
       "      <td>In-game unlockable code</td>\n",
       "    </tr>\n",
       "  </tbody>\n",
       "</table>\n",
       "<p>1522 rows × 4 columns</p>\n",
       "</div>"
      ],
      "text/plain": [
       "       id    game                                version_description  \\\n",
       "0     391   52617  Delve into the mystery of the Shining Lady, Ca...   \n",
       "1     394   52617  Show the world you've joined the siege with th...   \n",
       "2     144   39045                                                NaN   \n",
       "3     503   83886  Doomsday Prepper Pack includes the prepper out...   \n",
       "4     399   19333                  Prospect Mask with a display base   \n",
       "...   ...     ...                                                ...   \n",
       "1517  503   53012  Doomsday Prepper Pack includes the prepper out...   \n",
       "1518  555  193391                                                NaN   \n",
       "1519  555    5116                                                NaN   \n",
       "1520  556    5116                                                NaN   \n",
       "1521  556  193391                                                NaN   \n",
       "\n",
       "                         title_version  \n",
       "0     Field Report with Removable Coin  \n",
       "1          Siege of Dragonspear Amulet  \n",
       "2           Bayek’s Eagle Skull Amulet  \n",
       "3                Doomsday Prepper Pack  \n",
       "4                        Prospect Mask  \n",
       "...                                ...  \n",
       "1517             Doomsday Prepper Pack  \n",
       "1518          Limited edition figurine  \n",
       "1519          Limited edition figurine  \n",
       "1520           In-game unlockable code  \n",
       "1521           In-game unlockable code  \n",
       "\n",
       "[1522 rows x 4 columns]"
      ]
     },
     "execution_count": 57,
     "metadata": {},
     "output_type": "execute_result"
    }
   ],
   "source": [
    "results_df"
   ]
  },
  {
   "cell_type": "code",
   "execution_count": 59,
   "id": "68b29b7f",
   "metadata": {},
   "outputs": [
    {
     "data": {
      "text/html": [
       "<div>\n",
       "<style scoped>\n",
       "    .dataframe tbody tr th:only-of-type {\n",
       "        vertical-align: middle;\n",
       "    }\n",
       "\n",
       "    .dataframe tbody tr th {\n",
       "        vertical-align: top;\n",
       "    }\n",
       "\n",
       "    .dataframe thead th {\n",
       "        text-align: right;\n",
       "    }\n",
       "</style>\n",
       "<table border=\"1\" class=\"dataframe\">\n",
       "  <thead>\n",
       "    <tr style=\"text-align: right;\">\n",
       "      <th></th>\n",
       "      <th>id</th>\n",
       "      <th>game</th>\n",
       "      <th>version_description</th>\n",
       "      <th>title_version</th>\n",
       "    </tr>\n",
       "  </thead>\n",
       "  <tbody>\n",
       "    <tr>\n",
       "      <th>0</th>\n",
       "      <td>391</td>\n",
       "      <td>52617</td>\n",
       "      <td>Delve into the mystery of the Shining Lady, Ca...</td>\n",
       "      <td>Field Report with Removable Coin</td>\n",
       "    </tr>\n",
       "    <tr>\n",
       "      <th>1</th>\n",
       "      <td>394</td>\n",
       "      <td>52617</td>\n",
       "      <td>Show the world you've joined the siege with th...</td>\n",
       "      <td>Siege of Dragonspear Amulet</td>\n",
       "    </tr>\n",
       "    <tr>\n",
       "      <th>2</th>\n",
       "      <td>144</td>\n",
       "      <td>39045</td>\n",
       "      <td>NaN</td>\n",
       "      <td>Bayek’s Eagle Skull Amulet</td>\n",
       "    </tr>\n",
       "    <tr>\n",
       "      <th>3</th>\n",
       "      <td>503</td>\n",
       "      <td>83886</td>\n",
       "      <td>Doomsday Prepper Pack includes the prepper out...</td>\n",
       "      <td>Doomsday Prepper Pack</td>\n",
       "    </tr>\n",
       "    <tr>\n",
       "      <th>4</th>\n",
       "      <td>399</td>\n",
       "      <td>19333</td>\n",
       "      <td>Prospect Mask with a display base</td>\n",
       "      <td>Prospect Mask</td>\n",
       "    </tr>\n",
       "    <tr>\n",
       "      <th>...</th>\n",
       "      <td>...</td>\n",
       "      <td>...</td>\n",
       "      <td>...</td>\n",
       "      <td>...</td>\n",
       "    </tr>\n",
       "    <tr>\n",
       "      <th>1517</th>\n",
       "      <td>503</td>\n",
       "      <td>53012</td>\n",
       "      <td>Doomsday Prepper Pack includes the prepper out...</td>\n",
       "      <td>Doomsday Prepper Pack</td>\n",
       "    </tr>\n",
       "    <tr>\n",
       "      <th>1518</th>\n",
       "      <td>555</td>\n",
       "      <td>193391</td>\n",
       "      <td>NaN</td>\n",
       "      <td>Limited edition figurine</td>\n",
       "    </tr>\n",
       "    <tr>\n",
       "      <th>1519</th>\n",
       "      <td>555</td>\n",
       "      <td>5116</td>\n",
       "      <td>NaN</td>\n",
       "      <td>Limited edition figurine</td>\n",
       "    </tr>\n",
       "    <tr>\n",
       "      <th>1520</th>\n",
       "      <td>556</td>\n",
       "      <td>5116</td>\n",
       "      <td>NaN</td>\n",
       "      <td>In-game unlockable code</td>\n",
       "    </tr>\n",
       "    <tr>\n",
       "      <th>1521</th>\n",
       "      <td>556</td>\n",
       "      <td>193391</td>\n",
       "      <td>NaN</td>\n",
       "      <td>In-game unlockable code</td>\n",
       "    </tr>\n",
       "  </tbody>\n",
       "</table>\n",
       "<p>1522 rows × 4 columns</p>\n",
       "</div>"
      ],
      "text/plain": [
       "       id    game                                version_description  \\\n",
       "0     391   52617  Delve into the mystery of the Shining Lady, Ca...   \n",
       "1     394   52617  Show the world you've joined the siege with th...   \n",
       "2     144   39045                                                NaN   \n",
       "3     503   83886  Doomsday Prepper Pack includes the prepper out...   \n",
       "4     399   19333                  Prospect Mask with a display base   \n",
       "...   ...     ...                                                ...   \n",
       "1517  503   53012  Doomsday Prepper Pack includes the prepper out...   \n",
       "1518  555  193391                                                NaN   \n",
       "1519  555    5116                                                NaN   \n",
       "1520  556    5116                                                NaN   \n",
       "1521  556  193391                                                NaN   \n",
       "\n",
       "                         title_version  \n",
       "0     Field Report with Removable Coin  \n",
       "1          Siege of Dragonspear Amulet  \n",
       "2           Bayek’s Eagle Skull Amulet  \n",
       "3                Doomsday Prepper Pack  \n",
       "4                        Prospect Mask  \n",
       "...                                ...  \n",
       "1517             Doomsday Prepper Pack  \n",
       "1518          Limited edition figurine  \n",
       "1519          Limited edition figurine  \n",
       "1520           In-game unlockable code  \n",
       "1521           In-game unlockable code  \n",
       "\n",
       "[1522 rows x 4 columns]"
      ]
     },
     "execution_count": 59,
     "metadata": {},
     "output_type": "execute_result"
    }
   ],
   "source": [
    "results_df"
   ]
  },
  {
   "cell_type": "code",
   "execution_count": 61,
   "id": "1f4ade8b",
   "metadata": {},
   "outputs": [],
   "source": [
    "results_df = results_df.rename(columns={'id': 'second','game': 'id', })"
   ]
  },
  {
   "cell_type": "code",
   "execution_count": 62,
   "id": "1a7ff048",
   "metadata": {},
   "outputs": [
    {
     "data": {
      "text/html": [
       "<div>\n",
       "<style scoped>\n",
       "    .dataframe tbody tr th:only-of-type {\n",
       "        vertical-align: middle;\n",
       "    }\n",
       "\n",
       "    .dataframe tbody tr th {\n",
       "        vertical-align: top;\n",
       "    }\n",
       "\n",
       "    .dataframe thead th {\n",
       "        text-align: right;\n",
       "    }\n",
       "</style>\n",
       "<table border=\"1\" class=\"dataframe\">\n",
       "  <thead>\n",
       "    <tr style=\"text-align: right;\">\n",
       "      <th></th>\n",
       "      <th>second</th>\n",
       "      <th>id</th>\n",
       "      <th>version_description</th>\n",
       "      <th>title_version</th>\n",
       "    </tr>\n",
       "  </thead>\n",
       "  <tbody>\n",
       "    <tr>\n",
       "      <th>0</th>\n",
       "      <td>391</td>\n",
       "      <td>52617</td>\n",
       "      <td>Delve into the mystery of the Shining Lady, Ca...</td>\n",
       "      <td>Field Report with Removable Coin</td>\n",
       "    </tr>\n",
       "    <tr>\n",
       "      <th>1</th>\n",
       "      <td>394</td>\n",
       "      <td>52617</td>\n",
       "      <td>Show the world you've joined the siege with th...</td>\n",
       "      <td>Siege of Dragonspear Amulet</td>\n",
       "    </tr>\n",
       "    <tr>\n",
       "      <th>2</th>\n",
       "      <td>144</td>\n",
       "      <td>39045</td>\n",
       "      <td>NaN</td>\n",
       "      <td>Bayek’s Eagle Skull Amulet</td>\n",
       "    </tr>\n",
       "    <tr>\n",
       "      <th>3</th>\n",
       "      <td>503</td>\n",
       "      <td>83886</td>\n",
       "      <td>Doomsday Prepper Pack includes the prepper out...</td>\n",
       "      <td>Doomsday Prepper Pack</td>\n",
       "    </tr>\n",
       "    <tr>\n",
       "      <th>4</th>\n",
       "      <td>399</td>\n",
       "      <td>19333</td>\n",
       "      <td>Prospect Mask with a display base</td>\n",
       "      <td>Prospect Mask</td>\n",
       "    </tr>\n",
       "    <tr>\n",
       "      <th>...</th>\n",
       "      <td>...</td>\n",
       "      <td>...</td>\n",
       "      <td>...</td>\n",
       "      <td>...</td>\n",
       "    </tr>\n",
       "    <tr>\n",
       "      <th>1517</th>\n",
       "      <td>503</td>\n",
       "      <td>53012</td>\n",
       "      <td>Doomsday Prepper Pack includes the prepper out...</td>\n",
       "      <td>Doomsday Prepper Pack</td>\n",
       "    </tr>\n",
       "    <tr>\n",
       "      <th>1518</th>\n",
       "      <td>555</td>\n",
       "      <td>193391</td>\n",
       "      <td>NaN</td>\n",
       "      <td>Limited edition figurine</td>\n",
       "    </tr>\n",
       "    <tr>\n",
       "      <th>1519</th>\n",
       "      <td>555</td>\n",
       "      <td>5116</td>\n",
       "      <td>NaN</td>\n",
       "      <td>Limited edition figurine</td>\n",
       "    </tr>\n",
       "    <tr>\n",
       "      <th>1520</th>\n",
       "      <td>556</td>\n",
       "      <td>5116</td>\n",
       "      <td>NaN</td>\n",
       "      <td>In-game unlockable code</td>\n",
       "    </tr>\n",
       "    <tr>\n",
       "      <th>1521</th>\n",
       "      <td>556</td>\n",
       "      <td>193391</td>\n",
       "      <td>NaN</td>\n",
       "      <td>In-game unlockable code</td>\n",
       "    </tr>\n",
       "  </tbody>\n",
       "</table>\n",
       "<p>1522 rows × 4 columns</p>\n",
       "</div>"
      ],
      "text/plain": [
       "      second      id                                version_description  \\\n",
       "0        391   52617  Delve into the mystery of the Shining Lady, Ca...   \n",
       "1        394   52617  Show the world you've joined the siege with th...   \n",
       "2        144   39045                                                NaN   \n",
       "3        503   83886  Doomsday Prepper Pack includes the prepper out...   \n",
       "4        399   19333                  Prospect Mask with a display base   \n",
       "...      ...     ...                                                ...   \n",
       "1517     503   53012  Doomsday Prepper Pack includes the prepper out...   \n",
       "1518     555  193391                                                NaN   \n",
       "1519     555    5116                                                NaN   \n",
       "1520     556    5116                                                NaN   \n",
       "1521     556  193391                                                NaN   \n",
       "\n",
       "                         title_version  \n",
       "0     Field Report with Removable Coin  \n",
       "1          Siege of Dragonspear Amulet  \n",
       "2           Bayek’s Eagle Skull Amulet  \n",
       "3                Doomsday Prepper Pack  \n",
       "4                        Prospect Mask  \n",
       "...                                ...  \n",
       "1517             Doomsday Prepper Pack  \n",
       "1518          Limited edition figurine  \n",
       "1519          Limited edition figurine  \n",
       "1520           In-game unlockable code  \n",
       "1521           In-game unlockable code  \n",
       "\n",
       "[1522 rows x 4 columns]"
      ]
     },
     "execution_count": 62,
     "metadata": {},
     "output_type": "execute_result"
    }
   ],
   "source": [
    "results_df"
   ]
  },
  {
   "cell_type": "code",
   "execution_count": 63,
   "id": "2398a0cb",
   "metadata": {},
   "outputs": [],
   "source": [
    "results_df = results_df.set_index('id')"
   ]
  },
  {
   "cell_type": "code",
   "execution_count": 64,
   "id": "1dabe697",
   "metadata": {
    "scrolled": true
   },
   "outputs": [
    {
     "data": {
      "text/html": [
       "<div>\n",
       "<style scoped>\n",
       "    .dataframe tbody tr th:only-of-type {\n",
       "        vertical-align: middle;\n",
       "    }\n",
       "\n",
       "    .dataframe tbody tr th {\n",
       "        vertical-align: top;\n",
       "    }\n",
       "\n",
       "    .dataframe thead th {\n",
       "        text-align: right;\n",
       "    }\n",
       "</style>\n",
       "<table border=\"1\" class=\"dataframe\">\n",
       "  <thead>\n",
       "    <tr style=\"text-align: right;\">\n",
       "      <th></th>\n",
       "      <th>second</th>\n",
       "      <th>version_description</th>\n",
       "      <th>title_version</th>\n",
       "    </tr>\n",
       "    <tr>\n",
       "      <th>id</th>\n",
       "      <th></th>\n",
       "      <th></th>\n",
       "      <th></th>\n",
       "    </tr>\n",
       "  </thead>\n",
       "  <tbody>\n",
       "    <tr>\n",
       "      <th>52617</th>\n",
       "      <td>391</td>\n",
       "      <td>Delve into the mystery of the Shining Lady, Ca...</td>\n",
       "      <td>Field Report with Removable Coin</td>\n",
       "    </tr>\n",
       "    <tr>\n",
       "      <th>52617</th>\n",
       "      <td>394</td>\n",
       "      <td>Show the world you've joined the siege with th...</td>\n",
       "      <td>Siege of Dragonspear Amulet</td>\n",
       "    </tr>\n",
       "    <tr>\n",
       "      <th>39045</th>\n",
       "      <td>144</td>\n",
       "      <td>NaN</td>\n",
       "      <td>Bayek’s Eagle Skull Amulet</td>\n",
       "    </tr>\n",
       "    <tr>\n",
       "      <th>83886</th>\n",
       "      <td>503</td>\n",
       "      <td>Doomsday Prepper Pack includes the prepper out...</td>\n",
       "      <td>Doomsday Prepper Pack</td>\n",
       "    </tr>\n",
       "    <tr>\n",
       "      <th>19333</th>\n",
       "      <td>399</td>\n",
       "      <td>Prospect Mask with a display base</td>\n",
       "      <td>Prospect Mask</td>\n",
       "    </tr>\n",
       "    <tr>\n",
       "      <th>...</th>\n",
       "      <td>...</td>\n",
       "      <td>...</td>\n",
       "      <td>...</td>\n",
       "    </tr>\n",
       "    <tr>\n",
       "      <th>53012</th>\n",
       "      <td>503</td>\n",
       "      <td>Doomsday Prepper Pack includes the prepper out...</td>\n",
       "      <td>Doomsday Prepper Pack</td>\n",
       "    </tr>\n",
       "    <tr>\n",
       "      <th>193391</th>\n",
       "      <td>555</td>\n",
       "      <td>NaN</td>\n",
       "      <td>Limited edition figurine</td>\n",
       "    </tr>\n",
       "    <tr>\n",
       "      <th>5116</th>\n",
       "      <td>555</td>\n",
       "      <td>NaN</td>\n",
       "      <td>Limited edition figurine</td>\n",
       "    </tr>\n",
       "    <tr>\n",
       "      <th>5116</th>\n",
       "      <td>556</td>\n",
       "      <td>NaN</td>\n",
       "      <td>In-game unlockable code</td>\n",
       "    </tr>\n",
       "    <tr>\n",
       "      <th>193391</th>\n",
       "      <td>556</td>\n",
       "      <td>NaN</td>\n",
       "      <td>In-game unlockable code</td>\n",
       "    </tr>\n",
       "  </tbody>\n",
       "</table>\n",
       "<p>1522 rows × 3 columns</p>\n",
       "</div>"
      ],
      "text/plain": [
       "        second                                version_description  \\\n",
       "id                                                                  \n",
       "52617      391  Delve into the mystery of the Shining Lady, Ca...   \n",
       "52617      394  Show the world you've joined the siege with th...   \n",
       "39045      144                                                NaN   \n",
       "83886      503  Doomsday Prepper Pack includes the prepper out...   \n",
       "19333      399                  Prospect Mask with a display base   \n",
       "...        ...                                                ...   \n",
       "53012      503  Doomsday Prepper Pack includes the prepper out...   \n",
       "193391     555                                                NaN   \n",
       "5116       555                                                NaN   \n",
       "5116       556                                                NaN   \n",
       "193391     556                                                NaN   \n",
       "\n",
       "                           title_version  \n",
       "id                                        \n",
       "52617   Field Report with Removable Coin  \n",
       "52617        Siege of Dragonspear Amulet  \n",
       "39045         Bayek’s Eagle Skull Amulet  \n",
       "83886              Doomsday Prepper Pack  \n",
       "19333                      Prospect Mask  \n",
       "...                                  ...  \n",
       "53012              Doomsday Prepper Pack  \n",
       "193391          Limited edition figurine  \n",
       "5116            Limited edition figurine  \n",
       "5116             In-game unlockable code  \n",
       "193391           In-game unlockable code  \n",
       "\n",
       "[1522 rows x 3 columns]"
      ]
     },
     "execution_count": 64,
     "metadata": {},
     "output_type": "execute_result"
    }
   ],
   "source": [
    "results_df "
   ]
  },
  {
   "cell_type": "code",
   "execution_count": 65,
   "id": "fc59b892",
   "metadata": {},
   "outputs": [],
   "source": [
    "#merging the to the main dataframe\n",
    "merge_df = pd.merge(df, results_df, how = 'left', on=\"id\")"
   ]
  },
  {
   "cell_type": "code",
   "execution_count": 66,
   "id": "e2037d2c",
   "metadata": {},
   "outputs": [
    {
     "name": "stdout",
     "output_type": "stream",
     "text": [
      "<class 'pandas.core.frame.DataFrame'>\n",
      "Int64Index: 204500 entries, 0 to 499\n",
      "Data columns (total 55 columns):\n",
      " #   Column                   Non-Null Count   Dtype  \n",
      "---  ------                   --------------   -----  \n",
      " 0   id                       204500 non-null  int64  \n",
      " 1   category                 204500 non-null  int64  \n",
      " 2   created_at               204500 non-null  int64  \n",
      " 3   external_games           194593 non-null  object \n",
      " 4   first_release_date       117728 non-null  float64\n",
      " 5   genres                   158876 non-null  object \n",
      " 6   name                     204500 non-null  object \n",
      " 7   platforms                122873 non-null  object \n",
      " 8   release_dates            122501 non-null  object \n",
      " 9   similar_games            165256 non-null  object \n",
      " 10  slug                     204500 non-null  object \n",
      " 11  summary                  169636 non-null  object \n",
      " 12  tags                     165280 non-null  object \n",
      " 13  updated_at               204500 non-null  int64  \n",
      " 14  url                      204500 non-null  object \n",
      " 15  checksum                 204500 non-null  object \n",
      " 16  age_ratings              44240 non-null   object \n",
      " 17  cover                    145494 non-null  float64\n",
      " 18  involved_companies       84565 non-null   object \n",
      " 19  screenshots              138178 non-null  object \n",
      " 20  game_modes               204500 non-null  object \n",
      " 21  player_perspectives      61305 non-null   object \n",
      " 22  themes                   104453 non-null  object \n",
      " 23  websites                 130441 non-null  object \n",
      " 24  alternative_names        39541 non-null   object \n",
      " 25  artworks                 67728 non-null   object \n",
      " 26  game_engines             16315 non-null   object \n",
      " 27  keywords                 79976 non-null   object \n",
      " 28  status                   12441 non-null   float64\n",
      " 29  videos                   42329 non-null   object \n",
      " 30  rating                   28108 non-null   float64\n",
      " 31  rating_count             28108 non-null   float64\n",
      " 32  storyline                16496 non-null   object \n",
      " 33  total_rating             32932 non-null   float64\n",
      " 34  total_rating_count       32932 non-null   float64\n",
      " 35  version_parent           5089 non-null    float64\n",
      " 36  version_title            4905 non-null    object \n",
      " 37  hypes                    8492 non-null    float64\n",
      " 38  collection               32762 non-null   float64\n",
      " 39  franchises               16205 non-null   object \n",
      " 40  follows                  21061 non-null   float64\n",
      " 41  bundles                  6027 non-null    object \n",
      " 42  parent_game              20056 non-null   float64\n",
      " 43  franchise                1514 non-null    float64\n",
      " 44  aggregated_rating        13885 non-null   float64\n",
      " 45  aggregated_rating_count  13885 non-null   float64\n",
      " 46  multiplayer_modes        8974 non-null    object \n",
      " 47  remasters                570 non-null     object \n",
      " 48  remakes                  562 non-null     object \n",
      " 49  dlcs                     2100 non-null    object \n",
      " 50  ports                    2132 non-null    object \n",
      " 51  expansions               553 non-null     object \n",
      " 52  expanded_games           822 non-null     object \n",
      " 53  forks                    34 non-null      object \n",
      " 54  standalone_expansions    199 non-null     object \n",
      "dtypes: float64(15), int64(4), object(36)\n",
      "memory usage: 87.4+ MB\n"
     ]
    }
   ],
   "source": [
    "df.info()"
   ]
  },
  {
   "cell_type": "code",
   "execution_count": null,
   "id": "72411807",
   "metadata": {},
   "outputs": [],
   "source": []
  },
  {
   "cell_type": "code",
   "execution_count": null,
   "id": "97420a04",
   "metadata": {},
   "outputs": [],
   "source": []
  },
  {
   "cell_type": "code",
   "execution_count": null,
   "id": "ef3872cf",
   "metadata": {},
   "outputs": [],
   "source": []
  },
  {
   "cell_type": "code",
   "execution_count": null,
   "id": "c1b75bd8",
   "metadata": {},
   "outputs": [],
   "source": []
  },
  {
   "cell_type": "code",
   "execution_count": null,
   "id": "7d58723f",
   "metadata": {},
   "outputs": [],
   "source": []
  },
  {
   "cell_type": "code",
   "execution_count": null,
   "id": "6ba01ad0",
   "metadata": {},
   "outputs": [],
   "source": []
  },
  {
   "cell_type": "code",
   "execution_count": null,
   "id": "51cfa8fa",
   "metadata": {},
   "outputs": [],
   "source": []
  },
  {
   "cell_type": "code",
   "execution_count": null,
   "id": "da86c5ac",
   "metadata": {},
   "outputs": [],
   "source": []
  },
  {
   "cell_type": "markdown",
   "id": "077d6e33",
   "metadata": {},
   "source": [
    "# compayn"
   ]
  },
  {
   "cell_type": "code",
   "execution_count": null,
   "id": "53bca20d",
   "metadata": {},
   "outputs": [],
   "source": [
    "headers = {'Client-ID': f'{Client_ID}', 'Authorization': f'Bearer {access_token}'}\n",
    "data = 'fields *; limit 500;'\n",
    "r = requests.post('https://api.igdb.com/v4/companies' ,data=data ,  headers=headers)"
   ]
  },
  {
   "cell_type": "code",
   "execution_count": null,
   "id": "f1113251",
   "metadata": {},
   "outputs": [],
   "source": [
    "companies = wrapper.api_request('companies', 'fields *;limit 500;')"
   ]
  },
  {
   "cell_type": "code",
   "execution_count": null,
   "id": "56243604",
   "metadata": {},
   "outputs": [],
   "source": [
    "x = json.loads(companies)"
   ]
  },
  {
   "cell_type": "code",
   "execution_count": null,
   "id": "2136fada",
   "metadata": {},
   "outputs": [],
   "source": [
    "companies =pd.DataFrame(x)"
   ]
  },
  {
   "cell_type": "code",
   "execution_count": null,
   "id": "16f19d02",
   "metadata": {
    "scrolled": true
   },
   "outputs": [],
   "source": [
    "companies"
   ]
  },
  {
   "cell_type": "markdown",
   "id": "152f81b9",
   "metadata": {},
   "source": [
    "> the function "
   ]
  },
  {
   "cell_type": "code",
   "execution_count": null,
   "id": "13645e39",
   "metadata": {},
   "outputs": [],
   "source": [
    "def get_company():\n",
    "    headers = {'Client-ID': f'{Client_ID}', 'Authorization': f'Bearer {access_token}'}\n",
    "    data = 'fields *; limit 500;'\n",
    "    r = requests.post('https://api.igdb.com/v4/companies' ,data=data ,  headers=headers)\n",
    "    companies = wrapper.api_request('companies', 'fields *;limit 500;')\n",
    "    x = json.loads(companies)\n",
    "    companies =pd.DataFrame(x)\n",
    "    return companies"
   ]
  },
  {
   "cell_type": "markdown",
   "id": "bd5421b4",
   "metadata": {},
   "source": [
    "> the wrapper function "
   ]
  },
  {
   "cell_type": "code",
   "execution_count": null,
   "id": "a34803dc",
   "metadata": {},
   "outputs": [],
   "source": [
    "def get_companies(wrapper):\n",
    "    get_companies= pd.DataFrame()\n",
    "    for i in range (0, 409):\n",
    "        company = wrapper.api_request('companies', 'fields *; limit 500;' f'offset {i * 500};')\n",
    "        y = json.loads(company)\n",
    "        results_df =pd.DataFrame(y)\n",
    "        get_companies = pd.concat([get_companies, results_df])\n",
    "    return get_companies"
   ]
  },
  {
   "cell_type": "code",
   "execution_count": null,
   "id": "af95b8aa",
   "metadata": {},
   "outputs": [],
   "source": [
    "get_companies(wrapper)"
   ]
  },
  {
   "cell_type": "code",
   "execution_count": null,
   "id": "4e31aa4f",
   "metadata": {},
   "outputs": [],
   "source": []
  },
  {
   "cell_type": "code",
   "execution_count": null,
   "id": "d959447a",
   "metadata": {},
   "outputs": [],
   "source": []
  },
  {
   "cell_type": "markdown",
   "id": "e46effdb",
   "metadata": {},
   "source": [
    "# involved_companies "
   ]
  },
  {
   "cell_type": "code",
   "execution_count": null,
   "id": "3e5fdf6e",
   "metadata": {},
   "outputs": [],
   "source": [
    "headers = {'Client-ID': f'{Client_ID}', 'Authorization': f'Bearer {access_token}'}\n",
    "data = 'fields *; limit 500;'\n",
    "r = requests.post('https://api.igdb.com/v4/involved_companies' ,data=data ,  headers=headers)"
   ]
  },
  {
   "cell_type": "code",
   "execution_count": null,
   "id": "8fc19bb0",
   "metadata": {},
   "outputs": [],
   "source": [
    "involved_companies = wrapper.api_request('involved_companies', 'fields *;limit 500;')"
   ]
  },
  {
   "cell_type": "code",
   "execution_count": null,
   "id": "7aa42e14",
   "metadata": {},
   "outputs": [],
   "source": [
    "x = json.loads(involved_companies)"
   ]
  },
  {
   "cell_type": "code",
   "execution_count": null,
   "id": "3d0373db",
   "metadata": {
    "scrolled": true
   },
   "outputs": [],
   "source": [
    "involved_companies"
   ]
  },
  {
   "cell_type": "markdown",
   "id": "32e5b878",
   "metadata": {},
   "source": [
    "> the function "
   ]
  },
  {
   "cell_type": "code",
   "execution_count": null,
   "id": "3a60d2d3",
   "metadata": {},
   "outputs": [],
   "source": [
    "def get_inv_companies():\n",
    "    headers = {'Client-ID': f'{Client_ID}', 'Authorization': f'Bearer {access_token}'}\n",
    "    data = 'fields *; limit 500;'\n",
    "    r = requests.post('https://api.igdb.com/v4/involved_companies' ,data=data ,  headers=headers)\n",
    "    involved_companies = wrapper.api_request('involved_companies', 'fields *;limit 500;')\n",
    "    x = json.loads(involved_companies)\n",
    "    return involved_companies"
   ]
  },
  {
   "cell_type": "markdown",
   "id": "f09067fa",
   "metadata": {},
   "source": [
    "> the wrapper function "
   ]
  },
  {
   "cell_type": "code",
   "execution_count": null,
   "id": "5ab49339",
   "metadata": {},
   "outputs": [],
   "source": [
    "def inv_companies(wrapper):\n",
    "    inv_companies= pd.DataFrame()\n",
    "    for i in range (0, 409):\n",
    "        i_company = wrapper.api_request('companies', 'fields *; limit 500;' f'offset {i * 500};')\n",
    "        y = json.loads(i_company)\n",
    "        results_df =pd.DataFrame(y)\n",
    "        inv_companies = pd.concat([get_companies, results_df])\n",
    "    return get_companies"
   ]
  },
  {
   "cell_type": "code",
   "execution_count": null,
   "id": "ab5c283f",
   "metadata": {},
   "outputs": [],
   "source": []
  },
  {
   "cell_type": "code",
   "execution_count": null,
   "id": "e9654771",
   "metadata": {},
   "outputs": [],
   "source": []
  },
  {
   "cell_type": "code",
   "execution_count": null,
   "id": "161100cf",
   "metadata": {},
   "outputs": [],
   "source": []
  },
  {
   "cell_type": "markdown",
   "id": "11623316",
   "metadata": {},
   "source": [
    "# multi_player_mode"
   ]
  },
  {
   "cell_type": "code",
   "execution_count": null,
   "id": "c7fa7dda",
   "metadata": {},
   "outputs": [],
   "source": [
    "headers = {'Client-ID': f'{Client_ID}', 'Authorization': f'Bearer {access_token}'}\n",
    "data = 'fields *; limit 500;'\n",
    "r = requests.post('https://api.igdb.com/v4/multiplayer_modes' ,data=data ,  headers=headers)"
   ]
  },
  {
   "cell_type": "code",
   "execution_count": null,
   "id": "08b9de72",
   "metadata": {},
   "outputs": [],
   "source": [
    "multiplayer_modes = wrapper.api_request('multiplayer_modes', 'fields *;limit 500;')"
   ]
  },
  {
   "cell_type": "code",
   "execution_count": null,
   "id": "bd1a1332",
   "metadata": {},
   "outputs": [],
   "source": [
    "x = json.loads(multiplayer_modes)"
   ]
  },
  {
   "cell_type": "code",
   "execution_count": null,
   "id": "90a097cb",
   "metadata": {},
   "outputs": [],
   "source": [
    "multiplayer_modes =pd.DataFrame(x)"
   ]
  },
  {
   "cell_type": "code",
   "execution_count": null,
   "id": "fc27e895",
   "metadata": {
    "scrolled": false
   },
   "outputs": [],
   "source": [
    "multiplayer_modes"
   ]
  },
  {
   "cell_type": "markdown",
   "id": "8dad8986",
   "metadata": {},
   "source": [
    "> the function "
   ]
  },
  {
   "cell_type": "code",
   "execution_count": null,
   "id": "3e38482b",
   "metadata": {},
   "outputs": [],
   "source": [
    "def multi_player_mode():\n",
    "    headers = {'Client-ID': f'{Client_ID}', 'Authorization': f'Bearer {access_token}'}\n",
    "    data = 'fields *; limit 500;'\n",
    "    r = requests.post('https://api.igdb.com/v4/multiplayer_modes' ,data=data ,  headers=headers)\n",
    "    multiplayer_modes = wrapper.api_request('multiplayer_modes', 'fields *;limit 500;')\n",
    "    x = json.loads(multiplayer_modes)\n",
    "    multiplayer_modes =pd.DataFrame(x)\n",
    "    return multiplayer_modes"
   ]
  },
  {
   "cell_type": "code",
   "execution_count": null,
   "id": "3d0a77de",
   "metadata": {},
   "outputs": [],
   "source": [
    "# def vf_values(wrapper):\n",
    "#     vf_values= pd.DataFrame()\n",
    "#     for i in range (0, 409):\n",
    "#         gvf_values = wrapper.api_request('companies', 'fields *; limit 500;' f'offset {i * 500};')\n",
    "#         y = json.loads(gvf_values)\n",
    "#         results_df =pd.DataFrame(y)\n",
    "#         vf_values = pd.concat([vf_values, gamevfv_df])\n",
    "#     return vf_values"
   ]
  },
  {
   "cell_type": "code",
   "execution_count": null,
   "id": "1569b54c",
   "metadata": {},
   "outputs": [],
   "source": [
    "def multi_play(wrapper):\n",
    "    multi_play= pd.DataFrame()\n",
    "    for i in range (0, 409):\n",
    "        multi_values = wrapper.api_request('companies', 'fields *; limit 500;' f'offset {i * 500};')\n",
    "        y = json.loads(multi_values)\n",
    "        results_df =pd.DataFrame(y)\n",
    "        multi_play = pd.concat([multi_play, multiplayer_modes])\n",
    "    return multi_play"
   ]
  },
  {
   "cell_type": "code",
   "execution_count": null,
   "id": "7f629453",
   "metadata": {},
   "outputs": [],
   "source": [
    "multi_df = multi_play(wrapper)"
   ]
  },
  {
   "cell_type": "code",
   "execution_count": null,
   "id": "dcbadf4d",
   "metadata": {},
   "outputs": [],
   "source": [
    "multi_df"
   ]
  },
  {
   "cell_type": "code",
   "execution_count": null,
   "id": "10bd8b10",
   "metadata": {},
   "outputs": [],
   "source": [
    "multi_df = multi_df.rename(columns={'game': 'id', 'id': 'second_id'})"
   ]
  },
  {
   "cell_type": "code",
   "execution_count": null,
   "id": "fd25bbd4",
   "metadata": {},
   "outputs": [],
   "source": [
    "multi_df"
   ]
  },
  {
   "cell_type": "code",
   "execution_count": null,
   "id": "c967c668",
   "metadata": {},
   "outputs": [],
   "source": [
    "multi_df = multi_df.set_index('id')"
   ]
  },
  {
   "cell_type": "code",
   "execution_count": null,
   "id": "72a581bb",
   "metadata": {
    "scrolled": false
   },
   "outputs": [],
   "source": [
    "multi_df"
   ]
  },
  {
   "cell_type": "code",
   "execution_count": null,
   "id": "4d37f4b9",
   "metadata": {},
   "outputs": [],
   "source": [
    "#marging this together with the main df\n",
    "multi_play_df = pd.merge(df, multi_df, how = 'left', on=\"id\")"
   ]
  },
  {
   "cell_type": "code",
   "execution_count": null,
   "id": "0e6a387c",
   "metadata": {
    "scrolled": true
   },
   "outputs": [],
   "source": [
    "multi_play_df.head()"
   ]
  },
  {
   "cell_type": "code",
   "execution_count": null,
   "id": "fd54612a",
   "metadata": {},
   "outputs": [],
   "source": [
    "multi_play_df.splitscreen.value_counts()"
   ]
  },
  {
   "cell_type": "code",
   "execution_count": null,
   "id": "6b5d9fb3",
   "metadata": {},
   "outputs": [],
   "source": [
    "df.head()"
   ]
  },
  {
   "cell_type": "markdown",
   "id": "5605af7e",
   "metadata": {},
   "source": [
    "#  Random Prepare"
   ]
  },
  {
   "cell_type": "code",
   "execution_count": null,
   "id": "93501b80",
   "metadata": {},
   "outputs": [],
   "source": [
    "#this is reading the csv\n",
    "df = pd.read_csv('games.csv', index_col='Unnamed: 0')"
   ]
  },
  {
   "cell_type": "code",
   "execution_count": null,
   "id": "75b158bd",
   "metadata": {},
   "outputs": [],
   "source": [
    "#callign out one game by the name\n",
    "df[df.name == 'ESPN NFL 2K5']"
   ]
  },
  {
   "cell_type": "code",
   "execution_count": null,
   "id": "ee7e0ed2",
   "metadata": {},
   "outputs": [],
   "source": [
    "#dropping some collumns\n",
    "df = df.drop(columns=['artworks', 'cover','screenshots', 'videos', 'checksum', 'alternative_names', 'rating_count', 'total_rating_count', 'version_parent', 'hypes', 'franchises', 'follows', 'aggregated_rating_count'])\n",
    "df.shape"
   ]
  },
  {
   "cell_type": "code",
   "execution_count": null,
   "id": "f4ed122c",
   "metadata": {},
   "outputs": [],
   "source": [
    "#renaming some collumns \n",
    "df.rename(columns={'slug': 'lower_case_name', 'aggregated_rating': 'critic_rating'}, inplace=True)"
   ]
  },
  {
   "cell_type": "markdown",
   "id": "73a2e1c6",
   "metadata": {},
   "source": [
    "### Random to datetime code i needed but prob dont need "
   ]
  },
  {
   "cell_type": "code",
   "execution_count": null,
   "id": "3cc6714d",
   "metadata": {},
   "outputs": [],
   "source": [
    "from datetime import datetime"
   ]
  },
  {
   "cell_type": "code",
   "execution_count": null,
   "id": "bb13bfc6",
   "metadata": {},
   "outputs": [],
   "source": [
    "df['created_at'] = pd.to_datetime(df['created_at'],unit='s')\n"
   ]
  },
  {
   "cell_type": "code",
   "execution_count": null,
   "id": "df88682b",
   "metadata": {},
   "outputs": [],
   "source": [
    "#df['release_dates'] = pd.to_datetime(df['release_dates'],unit='s')"
   ]
  },
  {
   "cell_type": "code",
   "execution_count": null,
   "id": "70c28638",
   "metadata": {},
   "outputs": [],
   "source": []
  },
  {
   "cell_type": "code",
   "execution_count": null,
   "id": "0b74f27f",
   "metadata": {},
   "outputs": [],
   "source": []
  }
 ],
 "metadata": {
  "kernelspec": {
   "display_name": "Python 3 (ipykernel)",
   "language": "python",
   "name": "python3"
  },
  "language_info": {
   "codemirror_mode": {
    "name": "ipython",
    "version": 3
   },
   "file_extension": ".py",
   "mimetype": "text/x-python",
   "name": "python",
   "nbconvert_exporter": "python",
   "pygments_lexer": "ipython3",
   "version": "3.9.12"
  }
 },
 "nbformat": 4,
 "nbformat_minor": 5
}
