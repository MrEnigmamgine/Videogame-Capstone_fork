{
 "cells": [
  {
   "cell_type": "code",
   "execution_count": 3,
   "id": "3c5ee263",
   "metadata": {},
   "outputs": [],
   "source": [
    "import requests\n",
    "from env import Client_ID\n",
    "from bs4 import BeautifulSoup\n",
    "from igdb.wrapper import IGDBWrapper\n",
    "import os\n",
    "import pandas as pd\n",
    "import json\n",
    "import time\n",
    "import env\n",
    "from requests.models import Request, Response\n",
    "from typing import Dict, List, Optional, Union, cast"
   ]
  },
  {
   "cell_type": "markdown",
   "id": "3f13006d",
   "metadata": {},
   "source": [
    "## connect to api "
   ]
  },
  {
   "cell_type": "code",
   "execution_count": 4,
   "id": "f597e859",
   "metadata": {},
   "outputs": [],
   "source": [
    "def connect_api():   \n",
    "    url = env.get_db_url()\n",
    "    response = requests.post(url)\n",
    "    data = response.json()\n",
    "    access_token = data['access_token']\n",
    "    return access_token"
   ]
  },
  {
   "cell_type": "code",
   "execution_count": 5,
   "id": "bb3eb949",
   "metadata": {},
   "outputs": [
    {
     "data": {
      "text/plain": [
       "'971p8hx3ik3fvxbvb4uclsgf9kty7z'"
      ]
     },
     "execution_count": 5,
     "metadata": {},
     "output_type": "execute_result"
    }
   ],
   "source": [
    "connect_api()"
   ]
  },
  {
   "cell_type": "code",
   "execution_count": 6,
   "id": "cd863634",
   "metadata": {},
   "outputs": [],
   "source": [
    "access_token = connect_api()"
   ]
  },
  {
   "cell_type": "code",
   "execution_count": 7,
   "id": "016554b5",
   "metadata": {},
   "outputs": [],
   "source": [
    "def run_wrapper():\n",
    "    wrapper = IGDBWrapper(f'{Client_ID}', f'{access_token}')\n",
    "    return wrapper"
   ]
  },
  {
   "cell_type": "code",
   "execution_count": 8,
   "id": "6447873f",
   "metadata": {},
   "outputs": [],
   "source": [
    "def connect_to_games():\n",
    "    headers = {'Client-ID': f'{Client_ID}', 'Authorization': f'Bearer {access_token}'}\n",
    "    data = 'fields *; popularity;sort popularity desc;'\n",
    "    r = requests.post('https://api.igdb.com/v4/games' ,data=data ,  headers=headers)\n",
    "    return r"
   ]
  },
  {
   "cell_type": "code",
   "execution_count": 9,
   "id": "4df9163e",
   "metadata": {},
   "outputs": [],
   "source": [
    "# function that puts response list object into a dataframe for each page\n",
    "def get_game_library(wrapper):\n",
    "    game_library = pd.DataFrame()\n",
    "    for i in range (0, 409):\n",
    "        games = wrapper.api_request('games', 'fields *; limit 500;' f'offset {i * 500};')\n",
    "        y = json.loads(games)\n",
    "        results_df =pd.DataFrame(y)\n",
    "        game_library = pd.concat([game_library, results_df])\n",
    "    return game_library"
   ]
  },
  {
   "cell_type": "code",
   "execution_count": 10,
   "id": "a3534ab1",
   "metadata": {},
   "outputs": [],
   "source": [
    "wrapper = run_wrapper()"
   ]
  },
  {
   "cell_type": "code",
   "execution_count": null,
   "id": "312a3eae",
   "metadata": {},
   "outputs": [],
   "source": [
    "wrapper"
   ]
  },
  {
   "cell_type": "code",
   "execution_count": null,
   "id": "f53660b0",
   "metadata": {},
   "outputs": [],
   "source": [
    "tf = connect_to_games()"
   ]
  },
  {
   "cell_type": "code",
   "execution_count": null,
   "id": "a390b959",
   "metadata": {},
   "outputs": [],
   "source": [
    "tf"
   ]
  },
  {
   "cell_type": "code",
   "execution_count": null,
   "id": "5e0d713d",
   "metadata": {
    "scrolled": true
   },
   "outputs": [],
   "source": [
    "#tf = get_game_library(wrapper)"
   ]
  },
  {
   "cell_type": "code",
   "execution_count": 25,
   "id": "8215a5e2",
   "metadata": {},
   "outputs": [
    {
     "name": "stderr",
     "output_type": "stream",
     "text": [
      "/var/folders/f1/8blv52r50y1cffy2qpp05b5c0000gn/T/ipykernel_26247/1000456058.py:1: DtypeWarning: Columns (54) have mixed types. Specify dtype option on import or set low_memory=False.\n",
      "  df = pd.read_csv('games.csv', index_col='Unnamed: 0')\n"
     ]
    }
   ],
   "source": [
    "df = pd.read_csv('games.csv', index_col='Unnamed: 0')"
   ]
  },
  {
   "cell_type": "code",
   "execution_count": 26,
   "id": "09b5adfa",
   "metadata": {
    "scrolled": true
   },
   "outputs": [
    {
     "data": {
      "text/html": [
       "<div>\n",
       "<style scoped>\n",
       "    .dataframe tbody tr th:only-of-type {\n",
       "        vertical-align: middle;\n",
       "    }\n",
       "\n",
       "    .dataframe tbody tr th {\n",
       "        vertical-align: top;\n",
       "    }\n",
       "\n",
       "    .dataframe thead th {\n",
       "        text-align: right;\n",
       "    }\n",
       "</style>\n",
       "<table border=\"1\" class=\"dataframe\">\n",
       "  <thead>\n",
       "    <tr style=\"text-align: right;\">\n",
       "      <th></th>\n",
       "      <th>id</th>\n",
       "      <th>artworks</th>\n",
       "      <th>category</th>\n",
       "      <th>cover</th>\n",
       "      <th>created_at</th>\n",
       "      <th>external_games</th>\n",
       "      <th>genres</th>\n",
       "      <th>name</th>\n",
       "      <th>parent_game</th>\n",
       "      <th>screenshots</th>\n",
       "      <th>similar_games</th>\n",
       "      <th>slug</th>\n",
       "      <th>summary</th>\n",
       "      <th>tags</th>\n",
       "      <th>themes</th>\n",
       "      <th>updated_at</th>\n",
       "      <th>url</th>\n",
       "      <th>videos</th>\n",
       "      <th>websites</th>\n",
       "      <th>checksum</th>\n",
       "      <th>first_release_date</th>\n",
       "      <th>platforms</th>\n",
       "      <th>release_dates</th>\n",
       "      <th>age_ratings</th>\n",
       "      <th>involved_companies</th>\n",
       "      <th>game_modes</th>\n",
       "      <th>player_perspectives</th>\n",
       "      <th>alternative_names</th>\n",
       "      <th>game_engines</th>\n",
       "      <th>keywords</th>\n",
       "      <th>status</th>\n",
       "      <th>rating</th>\n",
       "      <th>rating_count</th>\n",
       "      <th>storyline</th>\n",
       "      <th>total_rating</th>\n",
       "      <th>total_rating_count</th>\n",
       "      <th>version_parent</th>\n",
       "      <th>version_title</th>\n",
       "      <th>hypes</th>\n",
       "      <th>collection</th>\n",
       "      <th>franchises</th>\n",
       "      <th>follows</th>\n",
       "      <th>bundles</th>\n",
       "      <th>franchise</th>\n",
       "      <th>aggregated_rating</th>\n",
       "      <th>aggregated_rating_count</th>\n",
       "      <th>multiplayer_modes</th>\n",
       "      <th>dlcs</th>\n",
       "      <th>ports</th>\n",
       "      <th>expansions</th>\n",
       "      <th>remakes</th>\n",
       "      <th>expanded_games</th>\n",
       "      <th>remasters</th>\n",
       "      <th>forks</th>\n",
       "      <th>standalone_expansions</th>\n",
       "    </tr>\n",
       "  </thead>\n",
       "  <tbody>\n",
       "    <tr>\n",
       "      <th>0</th>\n",
       "      <td>202489</td>\n",
       "      <td>[77476]</td>\n",
       "      <td>1</td>\n",
       "      <td>224545.0</td>\n",
       "      <td>1653310572</td>\n",
       "      <td>[2442147, 2443444]</td>\n",
       "      <td>[15, 16]</td>\n",
       "      <td>Panzer Corps 2: Axis Operations - 1943</td>\n",
       "      <td>27716.0</td>\n",
       "      <td>[798986, 798987, 798988, 798989, 798990, 79899...</td>\n",
       "      <td>[13196, 18623, 28244, 32510, 36258, 55036, 791...</td>\n",
       "      <td>panzer-corps-2-axis-operations-1943</td>\n",
       "      <td>The critical hour where the fate of Germany on...</td>\n",
       "      <td>[22, 268435471, 268435472]</td>\n",
       "      <td>[22]</td>\n",
       "      <td>1654096076</td>\n",
       "      <td>https://www.igdb.com/games/panzer-corps-2-axis...</td>\n",
       "      <td>[68880]</td>\n",
       "      <td>[285491, 286755]</td>\n",
       "      <td>2992a43b-4d59-7ab8-e500-71a352404759</td>\n",
       "      <td>NaN</td>\n",
       "      <td>NaN</td>\n",
       "      <td>NaN</td>\n",
       "      <td>NaN</td>\n",
       "      <td>NaN</td>\n",
       "      <td>NaN</td>\n",
       "      <td>NaN</td>\n",
       "      <td>NaN</td>\n",
       "      <td>NaN</td>\n",
       "      <td>NaN</td>\n",
       "      <td>NaN</td>\n",
       "      <td>NaN</td>\n",
       "      <td>NaN</td>\n",
       "      <td>NaN</td>\n",
       "      <td>NaN</td>\n",
       "      <td>NaN</td>\n",
       "      <td>NaN</td>\n",
       "      <td>NaN</td>\n",
       "      <td>NaN</td>\n",
       "      <td>NaN</td>\n",
       "      <td>NaN</td>\n",
       "      <td>NaN</td>\n",
       "      <td>NaN</td>\n",
       "      <td>NaN</td>\n",
       "      <td>NaN</td>\n",
       "      <td>NaN</td>\n",
       "      <td>NaN</td>\n",
       "      <td>NaN</td>\n",
       "      <td>NaN</td>\n",
       "      <td>NaN</td>\n",
       "      <td>NaN</td>\n",
       "      <td>NaN</td>\n",
       "      <td>NaN</td>\n",
       "      <td>NaN</td>\n",
       "      <td>NaN</td>\n",
       "    </tr>\n",
       "    <tr>\n",
       "      <th>1</th>\n",
       "      <td>40104</td>\n",
       "      <td>NaN</td>\n",
       "      <td>0</td>\n",
       "      <td>NaN</td>\n",
       "      <td>1498435200</td>\n",
       "      <td>[20127, 1988884]</td>\n",
       "      <td>[5]</td>\n",
       "      <td>Dogou Souken</td>\n",
       "      <td>NaN</td>\n",
       "      <td>NaN</td>\n",
       "      <td>[12364, 27270, 43367, 103281, 103292, 103298, ...</td>\n",
       "      <td>dogou-souken</td>\n",
       "      <td>An overhead-view shoot'em up game.</td>\n",
       "      <td>[268435461]</td>\n",
       "      <td>NaN</td>\n",
       "      <td>1604620800</td>\n",
       "      <td>https://www.igdb.com/games/dogou-souken</td>\n",
       "      <td>NaN</td>\n",
       "      <td>NaN</td>\n",
       "      <td>5e7446ff-58d9-e744-f0d3-5e10241304c1</td>\n",
       "      <td>5.364576e+08</td>\n",
       "      <td>[52]</td>\n",
       "      <td>[91007]</td>\n",
       "      <td>NaN</td>\n",
       "      <td>NaN</td>\n",
       "      <td>NaN</td>\n",
       "      <td>NaN</td>\n",
       "      <td>NaN</td>\n",
       "      <td>NaN</td>\n",
       "      <td>NaN</td>\n",
       "      <td>NaN</td>\n",
       "      <td>NaN</td>\n",
       "      <td>NaN</td>\n",
       "      <td>NaN</td>\n",
       "      <td>NaN</td>\n",
       "      <td>NaN</td>\n",
       "      <td>NaN</td>\n",
       "      <td>NaN</td>\n",
       "      <td>NaN</td>\n",
       "      <td>NaN</td>\n",
       "      <td>NaN</td>\n",
       "      <td>NaN</td>\n",
       "      <td>NaN</td>\n",
       "      <td>NaN</td>\n",
       "      <td>NaN</td>\n",
       "      <td>NaN</td>\n",
       "      <td>NaN</td>\n",
       "      <td>NaN</td>\n",
       "      <td>NaN</td>\n",
       "      <td>NaN</td>\n",
       "      <td>NaN</td>\n",
       "      <td>NaN</td>\n",
       "      <td>NaN</td>\n",
       "      <td>NaN</td>\n",
       "      <td>NaN</td>\n",
       "    </tr>\n",
       "    <tr>\n",
       "      <th>2</th>\n",
       "      <td>85031</td>\n",
       "      <td>NaN</td>\n",
       "      <td>0</td>\n",
       "      <td>61466.0</td>\n",
       "      <td>1517392813</td>\n",
       "      <td>[216805, 1969751, 2005770]</td>\n",
       "      <td>[9]</td>\n",
       "      <td>City Mysteries</td>\n",
       "      <td>NaN</td>\n",
       "      <td>[155025, 155026, 155027]</td>\n",
       "      <td>[10603, 19222, 25905, 41349, 86974, 87507, 885...</td>\n",
       "      <td>city-mysteries</td>\n",
       "      <td>Search buildings, streets, landmarks as you se...</td>\n",
       "      <td>[268435465]</td>\n",
       "      <td>NaN</td>\n",
       "      <td>1641425677</td>\n",
       "      <td>https://www.igdb.com/games/city-mysteries</td>\n",
       "      <td>NaN</td>\n",
       "      <td>NaN</td>\n",
       "      <td>87b342e7-b912-ca8d-4ffb-f91f9e4f1870</td>\n",
       "      <td>1.404346e+09</td>\n",
       "      <td>[37]</td>\n",
       "      <td>[138333]</td>\n",
       "      <td>[37944]</td>\n",
       "      <td>[130531, 130532]</td>\n",
       "      <td>NaN</td>\n",
       "      <td>NaN</td>\n",
       "      <td>NaN</td>\n",
       "      <td>NaN</td>\n",
       "      <td>NaN</td>\n",
       "      <td>NaN</td>\n",
       "      <td>NaN</td>\n",
       "      <td>NaN</td>\n",
       "      <td>NaN</td>\n",
       "      <td>NaN</td>\n",
       "      <td>NaN</td>\n",
       "      <td>NaN</td>\n",
       "      <td>NaN</td>\n",
       "      <td>NaN</td>\n",
       "      <td>NaN</td>\n",
       "      <td>NaN</td>\n",
       "      <td>NaN</td>\n",
       "      <td>NaN</td>\n",
       "      <td>NaN</td>\n",
       "      <td>NaN</td>\n",
       "      <td>NaN</td>\n",
       "      <td>NaN</td>\n",
       "      <td>NaN</td>\n",
       "      <td>NaN</td>\n",
       "      <td>NaN</td>\n",
       "      <td>NaN</td>\n",
       "      <td>NaN</td>\n",
       "      <td>NaN</td>\n",
       "      <td>NaN</td>\n",
       "      <td>NaN</td>\n",
       "    </tr>\n",
       "    <tr>\n",
       "      <th>3</th>\n",
       "      <td>99234</td>\n",
       "      <td>NaN</td>\n",
       "      <td>0</td>\n",
       "      <td>91582.0</td>\n",
       "      <td>1524843905</td>\n",
       "      <td>[603512, 1857496, 1917109]</td>\n",
       "      <td>[31, 32]</td>\n",
       "      <td>Sword of the Black Stone</td>\n",
       "      <td>NaN</td>\n",
       "      <td>[231528, 231529, 231530, 231531, 231532]</td>\n",
       "      <td>[25646, 29783, 68271, 80916, 96217, 105269, 10...</td>\n",
       "      <td>sword-of-the-black-stone</td>\n",
       "      <td>If your looking for action and adventure then ...</td>\n",
       "      <td>[1, 268435487, 268435488]</td>\n",
       "      <td>[1]</td>\n",
       "      <td>1643857546</td>\n",
       "      <td>https://www.igdb.com/games/sword-of-the-black-...</td>\n",
       "      <td>NaN</td>\n",
       "      <td>[84617]</td>\n",
       "      <td>0b575316-96dc-b056-86e0-c958c1c95efb</td>\n",
       "      <td>1.527120e+09</td>\n",
       "      <td>[6]</td>\n",
       "      <td>[188385]</td>\n",
       "      <td>NaN</td>\n",
       "      <td>[155850, 155852]</td>\n",
       "      <td>[1]</td>\n",
       "      <td>[2]</td>\n",
       "      <td>NaN</td>\n",
       "      <td>NaN</td>\n",
       "      <td>NaN</td>\n",
       "      <td>NaN</td>\n",
       "      <td>NaN</td>\n",
       "      <td>NaN</td>\n",
       "      <td>NaN</td>\n",
       "      <td>NaN</td>\n",
       "      <td>NaN</td>\n",
       "      <td>NaN</td>\n",
       "      <td>NaN</td>\n",
       "      <td>NaN</td>\n",
       "      <td>NaN</td>\n",
       "      <td>NaN</td>\n",
       "      <td>NaN</td>\n",
       "      <td>NaN</td>\n",
       "      <td>NaN</td>\n",
       "      <td>NaN</td>\n",
       "      <td>NaN</td>\n",
       "      <td>NaN</td>\n",
       "      <td>NaN</td>\n",
       "      <td>NaN</td>\n",
       "      <td>NaN</td>\n",
       "      <td>NaN</td>\n",
       "      <td>NaN</td>\n",
       "      <td>NaN</td>\n",
       "      <td>NaN</td>\n",
       "      <td>NaN</td>\n",
       "    </tr>\n",
       "    <tr>\n",
       "      <th>4</th>\n",
       "      <td>148930</td>\n",
       "      <td>[33736]</td>\n",
       "      <td>0</td>\n",
       "      <td>169077.0</td>\n",
       "      <td>1621959514</td>\n",
       "      <td>[2052375, 2057300]</td>\n",
       "      <td>[13, 15, 31, 32]</td>\n",
       "      <td>Bok-Bok: A Chicken Dating Sim</td>\n",
       "      <td>NaN</td>\n",
       "      <td>[463145, 463148, 463149, 463151, 463152]</td>\n",
       "      <td>[25311, 26145, 28277, 33603, 51577, 65827, 791...</td>\n",
       "      <td>bok-bok-a-chicken-dating-sim</td>\n",
       "      <td>Have you ever pondered what the romantic life ...</td>\n",
       "      <td>[268435469, 268435471, 268435487, 268435488]</td>\n",
       "      <td>NaN</td>\n",
       "      <td>1643850601</td>\n",
       "      <td>https://www.igdb.com/games/bok-bok-a-chicken-d...</td>\n",
       "      <td>NaN</td>\n",
       "      <td>[192858]</td>\n",
       "      <td>9585e273-2606-970f-3088-60261ea77068</td>\n",
       "      <td>NaN</td>\n",
       "      <td>NaN</td>\n",
       "      <td>NaN</td>\n",
       "      <td>NaN</td>\n",
       "      <td>NaN</td>\n",
       "      <td>NaN</td>\n",
       "      <td>NaN</td>\n",
       "      <td>[63465]</td>\n",
       "      <td>NaN</td>\n",
       "      <td>NaN</td>\n",
       "      <td>NaN</td>\n",
       "      <td>NaN</td>\n",
       "      <td>NaN</td>\n",
       "      <td>NaN</td>\n",
       "      <td>NaN</td>\n",
       "      <td>NaN</td>\n",
       "      <td>NaN</td>\n",
       "      <td>NaN</td>\n",
       "      <td>NaN</td>\n",
       "      <td>NaN</td>\n",
       "      <td>NaN</td>\n",
       "      <td>NaN</td>\n",
       "      <td>NaN</td>\n",
       "      <td>NaN</td>\n",
       "      <td>NaN</td>\n",
       "      <td>NaN</td>\n",
       "      <td>NaN</td>\n",
       "      <td>NaN</td>\n",
       "      <td>NaN</td>\n",
       "      <td>NaN</td>\n",
       "      <td>NaN</td>\n",
       "      <td>NaN</td>\n",
       "      <td>NaN</td>\n",
       "      <td>NaN</td>\n",
       "      <td>NaN</td>\n",
       "    </tr>\n",
       "  </tbody>\n",
       "</table>\n",
       "</div>"
      ],
      "text/plain": [
       "       id artworks  category     cover  created_at  \\\n",
       "0  202489  [77476]         1  224545.0  1653310572   \n",
       "1   40104      NaN         0       NaN  1498435200   \n",
       "2   85031      NaN         0   61466.0  1517392813   \n",
       "3   99234      NaN         0   91582.0  1524843905   \n",
       "4  148930  [33736]         0  169077.0  1621959514   \n",
       "\n",
       "               external_games            genres  \\\n",
       "0          [2442147, 2443444]          [15, 16]   \n",
       "1            [20127, 1988884]               [5]   \n",
       "2  [216805, 1969751, 2005770]               [9]   \n",
       "3  [603512, 1857496, 1917109]          [31, 32]   \n",
       "4          [2052375, 2057300]  [13, 15, 31, 32]   \n",
       "\n",
       "                                     name  parent_game  \\\n",
       "0  Panzer Corps 2: Axis Operations - 1943      27716.0   \n",
       "1                            Dogou Souken          NaN   \n",
       "2                          City Mysteries          NaN   \n",
       "3                Sword of the Black Stone          NaN   \n",
       "4           Bok-Bok: A Chicken Dating Sim          NaN   \n",
       "\n",
       "                                         screenshots  \\\n",
       "0  [798986, 798987, 798988, 798989, 798990, 79899...   \n",
       "1                                                NaN   \n",
       "2                           [155025, 155026, 155027]   \n",
       "3           [231528, 231529, 231530, 231531, 231532]   \n",
       "4           [463145, 463148, 463149, 463151, 463152]   \n",
       "\n",
       "                                       similar_games  \\\n",
       "0  [13196, 18623, 28244, 32510, 36258, 55036, 791...   \n",
       "1  [12364, 27270, 43367, 103281, 103292, 103298, ...   \n",
       "2  [10603, 19222, 25905, 41349, 86974, 87507, 885...   \n",
       "3  [25646, 29783, 68271, 80916, 96217, 105269, 10...   \n",
       "4  [25311, 26145, 28277, 33603, 51577, 65827, 791...   \n",
       "\n",
       "                                  slug  \\\n",
       "0  panzer-corps-2-axis-operations-1943   \n",
       "1                         dogou-souken   \n",
       "2                       city-mysteries   \n",
       "3             sword-of-the-black-stone   \n",
       "4         bok-bok-a-chicken-dating-sim   \n",
       "\n",
       "                                             summary  \\\n",
       "0  The critical hour where the fate of Germany on...   \n",
       "1                 An overhead-view shoot'em up game.   \n",
       "2  Search buildings, streets, landmarks as you se...   \n",
       "3  If your looking for action and adventure then ...   \n",
       "4  Have you ever pondered what the romantic life ...   \n",
       "\n",
       "                                           tags themes  updated_at  \\\n",
       "0                    [22, 268435471, 268435472]   [22]  1654096076   \n",
       "1                                   [268435461]    NaN  1604620800   \n",
       "2                                   [268435465]    NaN  1641425677   \n",
       "3                     [1, 268435487, 268435488]    [1]  1643857546   \n",
       "4  [268435469, 268435471, 268435487, 268435488]    NaN  1643850601   \n",
       "\n",
       "                                                 url   videos  \\\n",
       "0  https://www.igdb.com/games/panzer-corps-2-axis...  [68880]   \n",
       "1            https://www.igdb.com/games/dogou-souken      NaN   \n",
       "2          https://www.igdb.com/games/city-mysteries      NaN   \n",
       "3  https://www.igdb.com/games/sword-of-the-black-...      NaN   \n",
       "4  https://www.igdb.com/games/bok-bok-a-chicken-d...      NaN   \n",
       "\n",
       "           websites                              checksum  first_release_date  \\\n",
       "0  [285491, 286755]  2992a43b-4d59-7ab8-e500-71a352404759                 NaN   \n",
       "1               NaN  5e7446ff-58d9-e744-f0d3-5e10241304c1        5.364576e+08   \n",
       "2               NaN  87b342e7-b912-ca8d-4ffb-f91f9e4f1870        1.404346e+09   \n",
       "3           [84617]  0b575316-96dc-b056-86e0-c958c1c95efb        1.527120e+09   \n",
       "4          [192858]  9585e273-2606-970f-3088-60261ea77068                 NaN   \n",
       "\n",
       "  platforms release_dates age_ratings involved_companies game_modes  \\\n",
       "0       NaN           NaN         NaN                NaN        NaN   \n",
       "1      [52]       [91007]         NaN                NaN        NaN   \n",
       "2      [37]      [138333]     [37944]   [130531, 130532]        NaN   \n",
       "3       [6]      [188385]         NaN   [155850, 155852]        [1]   \n",
       "4       NaN           NaN         NaN                NaN        NaN   \n",
       "\n",
       "  player_perspectives alternative_names game_engines keywords  status  rating  \\\n",
       "0                 NaN               NaN          NaN      NaN     NaN     NaN   \n",
       "1                 NaN               NaN          NaN      NaN     NaN     NaN   \n",
       "2                 NaN               NaN          NaN      NaN     NaN     NaN   \n",
       "3                 [2]               NaN          NaN      NaN     NaN     NaN   \n",
       "4                 NaN           [63465]          NaN      NaN     NaN     NaN   \n",
       "\n",
       "   rating_count storyline  total_rating  total_rating_count  version_parent  \\\n",
       "0           NaN       NaN           NaN                 NaN             NaN   \n",
       "1           NaN       NaN           NaN                 NaN             NaN   \n",
       "2           NaN       NaN           NaN                 NaN             NaN   \n",
       "3           NaN       NaN           NaN                 NaN             NaN   \n",
       "4           NaN       NaN           NaN                 NaN             NaN   \n",
       "\n",
       "  version_title  hypes  collection franchises  follows bundles  franchise  \\\n",
       "0           NaN    NaN         NaN        NaN      NaN     NaN        NaN   \n",
       "1           NaN    NaN         NaN        NaN      NaN     NaN        NaN   \n",
       "2           NaN    NaN         NaN        NaN      NaN     NaN        NaN   \n",
       "3           NaN    NaN         NaN        NaN      NaN     NaN        NaN   \n",
       "4           NaN    NaN         NaN        NaN      NaN     NaN        NaN   \n",
       "\n",
       "   aggregated_rating  aggregated_rating_count multiplayer_modes dlcs ports  \\\n",
       "0                NaN                      NaN               NaN  NaN   NaN   \n",
       "1                NaN                      NaN               NaN  NaN   NaN   \n",
       "2                NaN                      NaN               NaN  NaN   NaN   \n",
       "3                NaN                      NaN               NaN  NaN   NaN   \n",
       "4                NaN                      NaN               NaN  NaN   NaN   \n",
       "\n",
       "  expansions remakes expanded_games remasters forks standalone_expansions  \n",
       "0        NaN     NaN            NaN       NaN   NaN                   NaN  \n",
       "1        NaN     NaN            NaN       NaN   NaN                   NaN  \n",
       "2        NaN     NaN            NaN       NaN   NaN                   NaN  \n",
       "3        NaN     NaN            NaN       NaN   NaN                   NaN  \n",
       "4        NaN     NaN            NaN       NaN   NaN                   NaN  "
      ]
     },
     "execution_count": 26,
     "metadata": {},
     "output_type": "execute_result"
    }
   ],
   "source": [
    "pd.set_option('display.max_columns', None)\n",
    "df.head()"
   ]
  },
  {
   "cell_type": "markdown",
   "id": "b89ab9ff",
   "metadata": {},
   "source": [
    "## Extra work "
   ]
  },
  {
   "cell_type": "code",
   "execution_count": null,
   "id": "c974ed2e",
   "metadata": {},
   "outputs": [],
   "source": [
    "frames = [df, game_modes]"
   ]
  },
  {
   "cell_type": "code",
   "execution_count": null,
   "id": "f31f1f6a",
   "metadata": {
    "scrolled": true
   },
   "outputs": [],
   "source": [
    "result = pd.concat(frames)"
   ]
  },
  {
   "cell_type": "code",
   "execution_count": null,
   "id": "3fe88b40",
   "metadata": {
    "scrolled": true
   },
   "outputs": [],
   "source": [
    "type(frames)"
   ]
  },
  {
   "cell_type": "code",
   "execution_count": null,
   "id": "d693421e",
   "metadata": {},
   "outputs": [],
   "source": [
    "type(game_modes)"
   ]
  },
  {
   "cell_type": "code",
   "execution_count": null,
   "id": "69309f0a",
   "metadata": {
    "scrolled": false
   },
   "outputs": [],
   "source": [
    "result.tail(10)"
   ]
  },
  {
   "cell_type": "code",
   "execution_count": null,
   "id": "799e87f6",
   "metadata": {},
   "outputs": [],
   "source": [
    "result = pd.concat([df, game_modes], axis=1)"
   ]
  },
  {
   "cell_type": "code",
   "execution_count": null,
   "id": "e02f6908",
   "metadata": {
    "scrolled": true
   },
   "outputs": [],
   "source": [
    "result"
   ]
  },
  {
   "cell_type": "code",
   "execution_count": null,
   "id": "0d31d11c",
   "metadata": {
    "scrolled": true
   },
   "outputs": [],
   "source": [
    "results = pd.merge(df, game_mode, how = 'left', on=\"game_modes\")"
   ]
  },
  {
   "cell_type": "code",
   "execution_count": null,
   "id": "0cd4135b",
   "metadata": {
    "scrolled": true
   },
   "outputs": [],
   "source": [
    "results"
   ]
  },
  {
   "cell_type": "markdown",
   "id": "56f2e932",
   "metadata": {},
   "source": [
    "### Data frame work"
   ]
  },
  {
   "cell_type": "code",
   "execution_count": null,
   "id": "d14006a5",
   "metadata": {},
   "outputs": [],
   "source": [
    "df.info()"
   ]
  },
  {
   "cell_type": "code",
   "execution_count": null,
   "id": "45f3f1c0",
   "metadata": {
    "scrolled": true
   },
   "outputs": [],
   "source": [
    "df.game_modes.value_counts()"
   ]
  },
  {
   "cell_type": "code",
   "execution_count": null,
   "id": "179dcf9c",
   "metadata": {},
   "outputs": [],
   "source": [
    "# Here i am making this a string with no brackets"
   ]
  },
  {
   "cell_type": "code",
   "execution_count": null,
   "id": "2fc04860",
   "metadata": {
    "scrolled": true
   },
   "outputs": [],
   "source": [
    "df[\"game_modes\"] = df[\"game_modes\"].str.replace(\"[\\]\\[]\",'')"
   ]
  },
  {
   "cell_type": "code",
   "execution_count": null,
   "id": "354e000d",
   "metadata": {
    "scrolled": false
   },
   "outputs": [],
   "source": [
    "df.game_modes.value_counts()"
   ]
  },
  {
   "cell_type": "code",
   "execution_count": null,
   "id": "5b99874d",
   "metadata": {},
   "outputs": [],
   "source": []
  },
  {
   "cell_type": "code",
   "execution_count": null,
   "id": "56c8045d",
   "metadata": {},
   "outputs": [],
   "source": [
    "#this is a merge that actually works\n",
    "#but does not work when there is a list of numbers sadly \n",
    "#results = pd.merge(df, game_modes, how = 'left', on=\"game_modes\")"
   ]
  },
  {
   "cell_type": "code",
   "execution_count": null,
   "id": "26c71076",
   "metadata": {
    "scrolled": true
   },
   "outputs": [],
   "source": [
    "results.tail(20)"
   ]
  },
  {
   "cell_type": "code",
   "execution_count": null,
   "id": "e32d2098",
   "metadata": {
    "scrolled": true
   },
   "outputs": [],
   "source": [
    "results.info()"
   ]
  },
  {
   "cell_type": "code",
   "execution_count": null,
   "id": "f0b374c3",
   "metadata": {},
   "outputs": [],
   "source": [
    "def to_1D(series):\n",
    "    return pd.Series([x for _list in series for x in _list])"
   ]
  },
  {
   "cell_type": "code",
   "execution_count": null,
   "id": "b0ecfbd6",
   "metadata": {},
   "outputs": [],
   "source": [
    "to_1D(df[\"game_modes\"])"
   ]
  },
  {
   "cell_type": "code",
   "execution_count": null,
   "id": "b70f5357",
   "metadata": {},
   "outputs": [],
   "source": [
    "type(game_modes)"
   ]
  },
  {
   "cell_type": "code",
   "execution_count": null,
   "id": "53b33aaf",
   "metadata": {},
   "outputs": [],
   "source": [
    "\n",
    "df[\"game_modes\"].apply(pd.Series)"
   ]
  },
  {
   "cell_type": "code",
   "execution_count": 88,
   "id": "f9c343b6",
   "metadata": {
    "scrolled": true
   },
   "outputs": [
    {
     "data": {
      "text/plain": [
       "0      NaN\n",
       "1      NaN\n",
       "2      NaN\n",
       "3      [1]\n",
       "4      NaN\n",
       "      ... \n",
       "495    [1]\n",
       "496    [1]\n",
       "497    NaN\n",
       "498    NaN\n",
       "499    [1]\n",
       "Name: game_modes, Length: 204500, dtype: object"
      ]
     },
     "execution_count": 88,
     "metadata": {},
     "output_type": "execute_result"
    }
   ],
   "source": [
    "df['game_modes'].replace([[1],['2'], ['3'], ['4']], [['Single player'], ['Multiplayer'], ['CO-op'], ['split screen']])"
   ]
  },
  {
   "cell_type": "code",
   "execution_count": null,
   "id": "fe1b55d6",
   "metadata": {},
   "outputs": [],
   "source": [
    "L = ['Single player'], ['Multiplayer'], ['CO-op'], ['split screen']\n",
    "    \n",
    "for x in L:\n",
    "    df.loc[df['column'].str.contains(x), \"column\"]= x\n",
    "print (df)"
   ]
  },
  {
   "cell_type": "code",
   "execution_count": null,
   "id": "d680181d",
   "metadata": {},
   "outputs": [],
   "source": [
    "df['game_modes'].replace(['1'], ['Single player']).value_counts()"
   ]
  },
  {
   "cell_type": "code",
   "execution_count": null,
   "id": "96158634",
   "metadata": {},
   "outputs": [],
   "source": [
    "df.tail()"
   ]
  },
  {
   "cell_type": "markdown",
   "id": "082ff892",
   "metadata": {},
   "source": [
    "# Aquiring diffrent data\n"
   ]
  },
  {
   "cell_type": "code",
   "execution_count": null,
   "id": "804f74cd",
   "metadata": {},
   "outputs": [],
   "source": [
    "access_token = connect_api()"
   ]
  },
  {
   "cell_type": "markdown",
   "id": "1bdf622f",
   "metadata": {},
   "source": [
    "# game modes"
   ]
  },
  {
   "cell_type": "code",
   "execution_count": 11,
   "id": "95ff7435",
   "metadata": {},
   "outputs": [],
   "source": [
    "headers = {'Client-ID': f'{Client_ID}', 'Authorization': f'Bearer {access_token}'}\n",
    "data = 'fields *; limit 500;'\n",
    "r = requests.post('https://api.igdb.com/v4/game_modes' ,data=data ,  headers=headers)\n"
   ]
  },
  {
   "cell_type": "code",
   "execution_count": 12,
   "id": "cc57a535",
   "metadata": {},
   "outputs": [],
   "source": [
    "game_modes = wrapper.api_request('game_modes', 'fields *;limit 500;')"
   ]
  },
  {
   "cell_type": "code",
   "execution_count": 13,
   "id": "aa929355",
   "metadata": {},
   "outputs": [],
   "source": [
    "x = json.loads(game_modes)"
   ]
  },
  {
   "cell_type": "code",
   "execution_count": 14,
   "id": "e134625e",
   "metadata": {},
   "outputs": [],
   "source": [
    "game_mode =pd.DataFrame(x)"
   ]
  },
  {
   "cell_type": "code",
   "execution_count": 15,
   "id": "fa429664",
   "metadata": {
    "scrolled": false
   },
   "outputs": [
    {
     "data": {
      "text/html": [
       "<div>\n",
       "<style scoped>\n",
       "    .dataframe tbody tr th:only-of-type {\n",
       "        vertical-align: middle;\n",
       "    }\n",
       "\n",
       "    .dataframe tbody tr th {\n",
       "        vertical-align: top;\n",
       "    }\n",
       "\n",
       "    .dataframe thead th {\n",
       "        text-align: right;\n",
       "    }\n",
       "</style>\n",
       "<table border=\"1\" class=\"dataframe\">\n",
       "  <thead>\n",
       "    <tr style=\"text-align: right;\">\n",
       "      <th></th>\n",
       "      <th>id</th>\n",
       "      <th>created_at</th>\n",
       "      <th>name</th>\n",
       "      <th>slug</th>\n",
       "      <th>updated_at</th>\n",
       "      <th>url</th>\n",
       "      <th>checksum</th>\n",
       "    </tr>\n",
       "  </thead>\n",
       "  <tbody>\n",
       "    <tr>\n",
       "      <th>0</th>\n",
       "      <td>1</td>\n",
       "      <td>1298937600</td>\n",
       "      <td>Single player</td>\n",
       "      <td>single-player</td>\n",
       "      <td>1323216000</td>\n",
       "      <td>https://www.igdb.com/game_modes/single-player</td>\n",
       "      <td>a43b1688-f968-3541-0897-9735ffde1745</td>\n",
       "    </tr>\n",
       "    <tr>\n",
       "      <th>1</th>\n",
       "      <td>2</td>\n",
       "      <td>1298937600</td>\n",
       "      <td>Multiplayer</td>\n",
       "      <td>multiplayer</td>\n",
       "      <td>1323216000</td>\n",
       "      <td>https://www.igdb.com/game_modes/multiplayer</td>\n",
       "      <td>288b548c-11e4-d910-f037-21d4e6a33b38</td>\n",
       "    </tr>\n",
       "    <tr>\n",
       "      <th>2</th>\n",
       "      <td>3</td>\n",
       "      <td>1298937600</td>\n",
       "      <td>Co-operative</td>\n",
       "      <td>co-operative</td>\n",
       "      <td>1323216000</td>\n",
       "      <td>https://www.igdb.com/game_modes/co-operative</td>\n",
       "      <td>e8329d55-33e6-f7ae-ae09-2848cb7ccc90</td>\n",
       "    </tr>\n",
       "    <tr>\n",
       "      <th>3</th>\n",
       "      <td>4</td>\n",
       "      <td>1298937600</td>\n",
       "      <td>Split screen</td>\n",
       "      <td>split-screen</td>\n",
       "      <td>1323216000</td>\n",
       "      <td>https://www.igdb.com/game_modes/split-screen</td>\n",
       "      <td>98247b75-6f46-7c77-521f-0945c684d842</td>\n",
       "    </tr>\n",
       "    <tr>\n",
       "      <th>4</th>\n",
       "      <td>5</td>\n",
       "      <td>1298937600</td>\n",
       "      <td>Massively Multiplayer Online (MMO)</td>\n",
       "      <td>massively-multiplayer-online-mmo</td>\n",
       "      <td>1323216000</td>\n",
       "      <td>https://www.igdb.com/game_modes/massively-mult...</td>\n",
       "      <td>307d1126-6e3b-9215-06f1-10c8ecce05b4</td>\n",
       "    </tr>\n",
       "    <tr>\n",
       "      <th>5</th>\n",
       "      <td>6</td>\n",
       "      <td>1588809600</td>\n",
       "      <td>Battle Royale</td>\n",
       "      <td>battle-royale</td>\n",
       "      <td>1588809600</td>\n",
       "      <td>https://www.igdb.com/game_modes/battle-royale</td>\n",
       "      <td>bfc388ac-0502-ba05-af25-3dcc94a0acf3</td>\n",
       "    </tr>\n",
       "  </tbody>\n",
       "</table>\n",
       "</div>"
      ],
      "text/plain": [
       "   id  created_at                                name  \\\n",
       "0   1  1298937600                       Single player   \n",
       "1   2  1298937600                         Multiplayer   \n",
       "2   3  1298937600                        Co-operative   \n",
       "3   4  1298937600                        Split screen   \n",
       "4   5  1298937600  Massively Multiplayer Online (MMO)   \n",
       "5   6  1588809600                       Battle Royale   \n",
       "\n",
       "                               slug  updated_at  \\\n",
       "0                     single-player  1323216000   \n",
       "1                       multiplayer  1323216000   \n",
       "2                      co-operative  1323216000   \n",
       "3                      split-screen  1323216000   \n",
       "4  massively-multiplayer-online-mmo  1323216000   \n",
       "5                     battle-royale  1588809600   \n",
       "\n",
       "                                                 url  \\\n",
       "0      https://www.igdb.com/game_modes/single-player   \n",
       "1        https://www.igdb.com/game_modes/multiplayer   \n",
       "2       https://www.igdb.com/game_modes/co-operative   \n",
       "3       https://www.igdb.com/game_modes/split-screen   \n",
       "4  https://www.igdb.com/game_modes/massively-mult...   \n",
       "5      https://www.igdb.com/game_modes/battle-royale   \n",
       "\n",
       "                               checksum  \n",
       "0  a43b1688-f968-3541-0897-9735ffde1745  \n",
       "1  288b548c-11e4-d910-f037-21d4e6a33b38  \n",
       "2  e8329d55-33e6-f7ae-ae09-2848cb7ccc90  \n",
       "3  98247b75-6f46-7c77-521f-0945c684d842  \n",
       "4  307d1126-6e3b-9215-06f1-10c8ecce05b4  \n",
       "5  bfc388ac-0502-ba05-af25-3dcc94a0acf3  "
      ]
     },
     "execution_count": 15,
     "metadata": {},
     "output_type": "execute_result"
    }
   ],
   "source": [
    "game_mode"
   ]
  },
  {
   "cell_type": "markdown",
   "id": "3a162efa",
   "metadata": {},
   "source": [
    "> the function "
   ]
  },
  {
   "cell_type": "code",
   "execution_count": null,
   "id": "407b896f",
   "metadata": {},
   "outputs": [],
   "source": [
    "def get_game_modes():\n",
    "    headers = {'Client-ID': f'{Client_ID}', 'Authorization': f'Bearer {access_token}'}\n",
    "    data = 'fields *; limit 500;'\n",
    "    r = requests.post('https://api.igdb.com/v4/game_modes' ,data=data ,  headers=headers)\n",
    "    game_modes = wrapper.api_request('game_modes', 'fields *;limit 500;')\n",
    "    x = json.loads(game_modes)\n",
    "    game_modes =pd.DataFrame(x)\n",
    "    return game_modes"
   ]
  },
  {
   "cell_type": "code",
   "execution_count": 61,
   "id": "52905d0e",
   "metadata": {
    "scrolled": true
   },
   "outputs": [],
   "source": [
    "game_mode = game_mode.rename(columns={\"game_mode_id\": \"game_modes\"})"
   ]
  },
  {
   "cell_type": "code",
   "execution_count": 62,
   "id": "a4dea79b",
   "metadata": {
    "scrolled": false
   },
   "outputs": [
    {
     "data": {
      "text/html": [
       "<div>\n",
       "<style scoped>\n",
       "    .dataframe tbody tr th:only-of-type {\n",
       "        vertical-align: middle;\n",
       "    }\n",
       "\n",
       "    .dataframe tbody tr th {\n",
       "        vertical-align: top;\n",
       "    }\n",
       "\n",
       "    .dataframe thead th {\n",
       "        text-align: right;\n",
       "    }\n",
       "</style>\n",
       "<table border=\"1\" class=\"dataframe\">\n",
       "  <thead>\n",
       "    <tr style=\"text-align: right;\">\n",
       "      <th></th>\n",
       "      <th>game_modes</th>\n",
       "      <th>created_at</th>\n",
       "      <th>name</th>\n",
       "      <th>slug</th>\n",
       "      <th>updated_at</th>\n",
       "      <th>url</th>\n",
       "      <th>checksum</th>\n",
       "    </tr>\n",
       "  </thead>\n",
       "  <tbody>\n",
       "    <tr>\n",
       "      <th>0</th>\n",
       "      <td>1</td>\n",
       "      <td>1298937600</td>\n",
       "      <td>Single player</td>\n",
       "      <td>single-player</td>\n",
       "      <td>1323216000</td>\n",
       "      <td>https://www.igdb.com/game_modes/single-player</td>\n",
       "      <td>a43b1688-f968-3541-0897-9735ffde1745</td>\n",
       "    </tr>\n",
       "    <tr>\n",
       "      <th>1</th>\n",
       "      <td>2</td>\n",
       "      <td>1298937600</td>\n",
       "      <td>Multiplayer</td>\n",
       "      <td>multiplayer</td>\n",
       "      <td>1323216000</td>\n",
       "      <td>https://www.igdb.com/game_modes/multiplayer</td>\n",
       "      <td>288b548c-11e4-d910-f037-21d4e6a33b38</td>\n",
       "    </tr>\n",
       "    <tr>\n",
       "      <th>2</th>\n",
       "      <td>3</td>\n",
       "      <td>1298937600</td>\n",
       "      <td>Co-operative</td>\n",
       "      <td>co-operative</td>\n",
       "      <td>1323216000</td>\n",
       "      <td>https://www.igdb.com/game_modes/co-operative</td>\n",
       "      <td>e8329d55-33e6-f7ae-ae09-2848cb7ccc90</td>\n",
       "    </tr>\n",
       "    <tr>\n",
       "      <th>3</th>\n",
       "      <td>4</td>\n",
       "      <td>1298937600</td>\n",
       "      <td>Split screen</td>\n",
       "      <td>split-screen</td>\n",
       "      <td>1323216000</td>\n",
       "      <td>https://www.igdb.com/game_modes/split-screen</td>\n",
       "      <td>98247b75-6f46-7c77-521f-0945c684d842</td>\n",
       "    </tr>\n",
       "    <tr>\n",
       "      <th>4</th>\n",
       "      <td>5</td>\n",
       "      <td>1298937600</td>\n",
       "      <td>Massively Multiplayer Online (MMO)</td>\n",
       "      <td>massively-multiplayer-online-mmo</td>\n",
       "      <td>1323216000</td>\n",
       "      <td>https://www.igdb.com/game_modes/massively-mult...</td>\n",
       "      <td>307d1126-6e3b-9215-06f1-10c8ecce05b4</td>\n",
       "    </tr>\n",
       "    <tr>\n",
       "      <th>5</th>\n",
       "      <td>6</td>\n",
       "      <td>1588809600</td>\n",
       "      <td>Battle Royale</td>\n",
       "      <td>battle-royale</td>\n",
       "      <td>1588809600</td>\n",
       "      <td>https://www.igdb.com/game_modes/battle-royale</td>\n",
       "      <td>bfc388ac-0502-ba05-af25-3dcc94a0acf3</td>\n",
       "    </tr>\n",
       "  </tbody>\n",
       "</table>\n",
       "</div>"
      ],
      "text/plain": [
       "   game_modes  created_at                                name  \\\n",
       "0           1  1298937600                       Single player   \n",
       "1           2  1298937600                         Multiplayer   \n",
       "2           3  1298937600                        Co-operative   \n",
       "3           4  1298937600                        Split screen   \n",
       "4           5  1298937600  Massively Multiplayer Online (MMO)   \n",
       "5           6  1588809600                       Battle Royale   \n",
       "\n",
       "                               slug  updated_at  \\\n",
       "0                     single-player  1323216000   \n",
       "1                       multiplayer  1323216000   \n",
       "2                      co-operative  1323216000   \n",
       "3                      split-screen  1323216000   \n",
       "4  massively-multiplayer-online-mmo  1323216000   \n",
       "5                     battle-royale  1588809600   \n",
       "\n",
       "                                                 url  \\\n",
       "0      https://www.igdb.com/game_modes/single-player   \n",
       "1        https://www.igdb.com/game_modes/multiplayer   \n",
       "2       https://www.igdb.com/game_modes/co-operative   \n",
       "3       https://www.igdb.com/game_modes/split-screen   \n",
       "4  https://www.igdb.com/game_modes/massively-mult...   \n",
       "5      https://www.igdb.com/game_modes/battle-royale   \n",
       "\n",
       "                               checksum  \n",
       "0  a43b1688-f968-3541-0897-9735ffde1745  \n",
       "1  288b548c-11e4-d910-f037-21d4e6a33b38  \n",
       "2  e8329d55-33e6-f7ae-ae09-2848cb7ccc90  \n",
       "3  98247b75-6f46-7c77-521f-0945c684d842  \n",
       "4  307d1126-6e3b-9215-06f1-10c8ecce05b4  \n",
       "5  bfc388ac-0502-ba05-af25-3dcc94a0acf3  "
      ]
     },
     "execution_count": 62,
     "metadata": {},
     "output_type": "execute_result"
    }
   ],
   "source": [
    "game_mode"
   ]
  },
  {
   "cell_type": "code",
   "execution_count": 42,
   "id": "c05e1a55",
   "metadata": {},
   "outputs": [
    {
     "name": "stdout",
     "output_type": "stream",
     "text": [
      "<class 'pandas.core.frame.DataFrame'>\n",
      "RangeIndex: 6 entries, 0 to 5\n",
      "Data columns (total 7 columns):\n",
      " #   Column        Non-Null Count  Dtype \n",
      "---  ------        --------------  ----- \n",
      " 0   game_mode_id  6 non-null      int64 \n",
      " 1   created_at    6 non-null      int64 \n",
      " 2   name          6 non-null      object\n",
      " 3   slug          6 non-null      object\n",
      " 4   updated_at    6 non-null      int64 \n",
      " 5   url           6 non-null      object\n",
      " 6   checksum      6 non-null      object\n",
      "dtypes: int64(3), object(4)\n",
      "memory usage: 464.0+ bytes\n"
     ]
    }
   ],
   "source": [
    "game_mode.info()"
   ]
  },
  {
   "cell_type": "code",
   "execution_count": null,
   "id": "48862e44",
   "metadata": {},
   "outputs": [],
   "source": []
  },
  {
   "cell_type": "code",
   "execution_count": null,
   "id": "5a147f64",
   "metadata": {},
   "outputs": [],
   "source": [
    "# game_mode.game_mode_id = game_mode.game_mode_id.astype(str)"
   ]
  },
  {
   "cell_type": "code",
   "execution_count": null,
   "id": "c4459a61",
   "metadata": {
    "scrolled": true
   },
   "outputs": [],
   "source": [
    "# game_mode.info()"
   ]
  },
  {
   "cell_type": "code",
   "execution_count": 79,
   "id": "352c765c",
   "metadata": {
    "scrolled": true
   },
   "outputs": [
    {
     "data": {
      "text/html": [
       "<div>\n",
       "<style scoped>\n",
       "    .dataframe tbody tr th:only-of-type {\n",
       "        vertical-align: middle;\n",
       "    }\n",
       "\n",
       "    .dataframe tbody tr th {\n",
       "        vertical-align: top;\n",
       "    }\n",
       "\n",
       "    .dataframe thead th {\n",
       "        text-align: right;\n",
       "    }\n",
       "</style>\n",
       "<table border=\"1\" class=\"dataframe\">\n",
       "  <thead>\n",
       "    <tr style=\"text-align: right;\">\n",
       "      <th></th>\n",
       "      <th>game_modes</th>\n",
       "      <th>name</th>\n",
       "    </tr>\n",
       "  </thead>\n",
       "  <tbody>\n",
       "    <tr>\n",
       "      <th>0</th>\n",
       "      <td>NaN</td>\n",
       "      <td>Panzer Corps 2: Axis Operations - 1943</td>\n",
       "    </tr>\n",
       "    <tr>\n",
       "      <th>1</th>\n",
       "      <td>NaN</td>\n",
       "      <td>Dogou Souken</td>\n",
       "    </tr>\n",
       "    <tr>\n",
       "      <th>2</th>\n",
       "      <td>NaN</td>\n",
       "      <td>City Mysteries</td>\n",
       "    </tr>\n",
       "    <tr>\n",
       "      <th>3</th>\n",
       "      <td>[1]</td>\n",
       "      <td>Sword of the Black Stone</td>\n",
       "    </tr>\n",
       "    <tr>\n",
       "      <th>4</th>\n",
       "      <td>NaN</td>\n",
       "      <td>Bok-Bok: A Chicken Dating Sim</td>\n",
       "    </tr>\n",
       "    <tr>\n",
       "      <th>5</th>\n",
       "      <td>[1]</td>\n",
       "      <td>sun machine</td>\n",
       "    </tr>\n",
       "    <tr>\n",
       "      <th>6</th>\n",
       "      <td>NaN</td>\n",
       "      <td>Transformers Prime: The Game</td>\n",
       "    </tr>\n",
       "    <tr>\n",
       "      <th>7</th>\n",
       "      <td>[1]</td>\n",
       "      <td>One way to exit</td>\n",
       "    </tr>\n",
       "    <tr>\n",
       "      <th>8</th>\n",
       "      <td>[1]</td>\n",
       "      <td>Bubble Whirl Shooter</td>\n",
       "    </tr>\n",
       "    <tr>\n",
       "      <th>9</th>\n",
       "      <td>NaN</td>\n",
       "      <td>Space station - build your own ISS</td>\n",
       "    </tr>\n",
       "  </tbody>\n",
       "</table>\n",
       "</div>"
      ],
      "text/plain": [
       "  game_modes                                    name\n",
       "0        NaN  Panzer Corps 2: Axis Operations - 1943\n",
       "1        NaN                            Dogou Souken\n",
       "2        NaN                          City Mysteries\n",
       "3        [1]                Sword of the Black Stone\n",
       "4        NaN           Bok-Bok: A Chicken Dating Sim\n",
       "5        [1]                             sun machine\n",
       "6        NaN            Transformers Prime: The Game\n",
       "7        [1]                         One way to exit\n",
       "8        [1]                    Bubble Whirl Shooter\n",
       "9        NaN      Space station - build your own ISS"
      ]
     },
     "execution_count": 79,
     "metadata": {},
     "output_type": "execute_result"
    }
   ],
   "source": [
    "test_library = df[['game_modes' , 'name']].head(10)\n",
    "test_library"
   ]
  },
  {
   "cell_type": "code",
   "execution_count": 64,
   "id": "16976dd7",
   "metadata": {},
   "outputs": [
    {
     "name": "stdout",
     "output_type": "stream",
     "text": [
      "<class 'pandas.core.frame.DataFrame'>\n",
      "RangeIndex: 5 entries, 0 to 4\n",
      "Data columns (total 2 columns):\n",
      " #   Column      Non-Null Count  Dtype \n",
      "---  ------      --------------  ----- \n",
      " 0   game_modes  5 non-null      int64 \n",
      " 1   name        5 non-null      object\n",
      "dtypes: int64(1), object(1)\n",
      "memory usage: 208.0+ bytes\n"
     ]
    }
   ],
   "source": [
    "test_library.info()"
   ]
  },
  {
   "cell_type": "code",
   "execution_count": null,
   "id": "f5a09678",
   "metadata": {},
   "outputs": [],
   "source": [
    "#this is to se the index which helped in the earlier merge but that didnt work \n",
    "#game_modes = game_mode.set_index('game_modes')"
   ]
  },
  {
   "cell_type": "code",
   "execution_count": 65,
   "id": "0654ab3b",
   "metadata": {},
   "outputs": [],
   "source": [
    "modelist = game_mode[['game_modes' , 'slug']].sort_values(by='game_modes').reset_index(drop=True)\n"
   ]
  },
  {
   "cell_type": "code",
   "execution_count": 66,
   "id": "0632cd3a",
   "metadata": {
    "scrolled": false
   },
   "outputs": [
    {
     "data": {
      "text/html": [
       "<div>\n",
       "<style scoped>\n",
       "    .dataframe tbody tr th:only-of-type {\n",
       "        vertical-align: middle;\n",
       "    }\n",
       "\n",
       "    .dataframe tbody tr th {\n",
       "        vertical-align: top;\n",
       "    }\n",
       "\n",
       "    .dataframe thead th {\n",
       "        text-align: right;\n",
       "    }\n",
       "</style>\n",
       "<table border=\"1\" class=\"dataframe\">\n",
       "  <thead>\n",
       "    <tr style=\"text-align: right;\">\n",
       "      <th></th>\n",
       "      <th>game_modes</th>\n",
       "      <th>slug</th>\n",
       "    </tr>\n",
       "  </thead>\n",
       "  <tbody>\n",
       "    <tr>\n",
       "      <th>0</th>\n",
       "      <td>1</td>\n",
       "      <td>single-player</td>\n",
       "    </tr>\n",
       "    <tr>\n",
       "      <th>1</th>\n",
       "      <td>2</td>\n",
       "      <td>multiplayer</td>\n",
       "    </tr>\n",
       "    <tr>\n",
       "      <th>2</th>\n",
       "      <td>3</td>\n",
       "      <td>co-operative</td>\n",
       "    </tr>\n",
       "    <tr>\n",
       "      <th>3</th>\n",
       "      <td>4</td>\n",
       "      <td>split-screen</td>\n",
       "    </tr>\n",
       "    <tr>\n",
       "      <th>4</th>\n",
       "      <td>5</td>\n",
       "      <td>massively-multiplayer-online-mmo</td>\n",
       "    </tr>\n",
       "    <tr>\n",
       "      <th>5</th>\n",
       "      <td>6</td>\n",
       "      <td>battle-royale</td>\n",
       "    </tr>\n",
       "  </tbody>\n",
       "</table>\n",
       "</div>"
      ],
      "text/plain": [
       "   game_modes                              slug\n",
       "0           1                     single-player\n",
       "1           2                       multiplayer\n",
       "2           3                      co-operative\n",
       "3           4                      split-screen\n",
       "4           5  massively-multiplayer-online-mmo\n",
       "5           6                     battle-royale"
      ]
     },
     "execution_count": 66,
     "metadata": {},
     "output_type": "execute_result"
    }
   ],
   "source": [
    "modelist"
   ]
  },
  {
   "cell_type": "code",
   "execution_count": 70,
   "id": "e8d78ac5",
   "metadata": {},
   "outputs": [],
   "source": [
    "modelist.game_modes= modelist.game_modes.astype(str)"
   ]
  },
  {
   "cell_type": "code",
   "execution_count": 71,
   "id": "3f1e4f11",
   "metadata": {},
   "outputs": [
    {
     "name": "stdout",
     "output_type": "stream",
     "text": [
      "<class 'pandas.core.frame.DataFrame'>\n",
      "RangeIndex: 6 entries, 0 to 5\n",
      "Data columns (total 2 columns):\n",
      " #   Column      Non-Null Count  Dtype \n",
      "---  ------      --------------  ----- \n",
      " 0   game_modes  6 non-null      object\n",
      " 1   slug        6 non-null      object\n",
      "dtypes: object(2)\n",
      "memory usage: 224.0+ bytes\n"
     ]
    }
   ],
   "source": [
    "modelist.info()"
   ]
  },
  {
   "cell_type": "code",
   "execution_count": 72,
   "id": "ad3abc04",
   "metadata": {},
   "outputs": [],
   "source": [
    "mode_dict = modelist.set_index('game_modes').to_dict()['slug']"
   ]
  },
  {
   "cell_type": "code",
   "execution_count": 80,
   "id": "683bda46",
   "metadata": {},
   "outputs": [
    {
     "data": {
      "text/plain": [
       "{'1': 'single-player',\n",
       " '2': 'multiplayer',\n",
       " '3': 'co-operative',\n",
       " '4': 'split-screen',\n",
       " '5': 'massively-multiplayer-online-mmo',\n",
       " '6': 'battle-royale'}"
      ]
     },
     "execution_count": 80,
     "metadata": {},
     "output_type": "execute_result"
    }
   ],
   "source": [
    "mode_dict"
   ]
  },
  {
   "cell_type": "code",
   "execution_count": 74,
   "id": "38f15481",
   "metadata": {},
   "outputs": [],
   "source": [
    "#results = pd.merge(df, modelist, how = 'left', on=\"game_modes\")"
   ]
  },
  {
   "cell_type": "code",
   "execution_count": 76,
   "id": "aaef4786",
   "metadata": {
    "scrolled": true
   },
   "outputs": [
    {
     "data": {
      "text/html": [
       "<div>\n",
       "<style scoped>\n",
       "    .dataframe tbody tr th:only-of-type {\n",
       "        vertical-align: middle;\n",
       "    }\n",
       "\n",
       "    .dataframe tbody tr th {\n",
       "        vertical-align: top;\n",
       "    }\n",
       "\n",
       "    .dataframe thead th {\n",
       "        text-align: right;\n",
       "    }\n",
       "</style>\n",
       "<table border=\"1\" class=\"dataframe\">\n",
       "  <thead>\n",
       "    <tr style=\"text-align: right;\">\n",
       "      <th></th>\n",
       "      <th>id</th>\n",
       "      <th>artworks</th>\n",
       "      <th>category</th>\n",
       "      <th>cover</th>\n",
       "      <th>created_at</th>\n",
       "      <th>external_games</th>\n",
       "      <th>genres</th>\n",
       "      <th>name</th>\n",
       "      <th>parent_game</th>\n",
       "      <th>screenshots</th>\n",
       "      <th>similar_games</th>\n",
       "      <th>slug_x</th>\n",
       "      <th>summary</th>\n",
       "      <th>tags</th>\n",
       "      <th>themes</th>\n",
       "      <th>updated_at</th>\n",
       "      <th>url</th>\n",
       "      <th>videos</th>\n",
       "      <th>websites</th>\n",
       "      <th>checksum</th>\n",
       "      <th>first_release_date</th>\n",
       "      <th>platforms</th>\n",
       "      <th>release_dates</th>\n",
       "      <th>age_ratings</th>\n",
       "      <th>involved_companies</th>\n",
       "      <th>game_modes</th>\n",
       "      <th>player_perspectives</th>\n",
       "      <th>alternative_names</th>\n",
       "      <th>game_engines</th>\n",
       "      <th>keywords</th>\n",
       "      <th>status</th>\n",
       "      <th>rating</th>\n",
       "      <th>rating_count</th>\n",
       "      <th>storyline</th>\n",
       "      <th>total_rating</th>\n",
       "      <th>total_rating_count</th>\n",
       "      <th>version_parent</th>\n",
       "      <th>version_title</th>\n",
       "      <th>hypes</th>\n",
       "      <th>collection</th>\n",
       "      <th>franchises</th>\n",
       "      <th>follows</th>\n",
       "      <th>bundles</th>\n",
       "      <th>franchise</th>\n",
       "      <th>aggregated_rating</th>\n",
       "      <th>aggregated_rating_count</th>\n",
       "      <th>multiplayer_modes</th>\n",
       "      <th>dlcs</th>\n",
       "      <th>ports</th>\n",
       "      <th>expansions</th>\n",
       "      <th>remakes</th>\n",
       "      <th>expanded_games</th>\n",
       "      <th>remasters</th>\n",
       "      <th>forks</th>\n",
       "      <th>standalone_expansions</th>\n",
       "      <th>slug_y</th>\n",
       "    </tr>\n",
       "  </thead>\n",
       "  <tbody>\n",
       "    <tr>\n",
       "      <th>204495</th>\n",
       "      <td>37016</td>\n",
       "      <td>[1213, 5039, 6007, 6376, 6377, 6378, 6379, 638...</td>\n",
       "      <td>0</td>\n",
       "      <td>71083.0</td>\n",
       "      <td>1497216279</td>\n",
       "      <td>[50659, 80860, 102139, 1593410, 1706657, 17082...</td>\n",
       "      <td>[5, 31]</td>\n",
       "      <td>Metro Exodus</td>\n",
       "      <td>NaN</td>\n",
       "      <td>[44199, 44200, 44201, 44202, 44203, 214208, 21...</td>\n",
       "      <td>[17379, 19561, 19564, 26192, 28168, 54842, 550...</td>\n",
       "      <td>metro-exodus</td>\n",
       "      <td>Metro Exodus is an epic, story-driven first pe...</td>\n",
       "      <td>[1, 18, 19, 21, 268435461, 268435487, 53687098...</td>\n",
       "      <td>[1, 18, 19, 21]</td>\n",
       "      <td>1662910768</td>\n",
       "      <td>https://www.igdb.com/games/metro-exodus</td>\n",
       "      <td>[14571, 17131, 20506, 20729, 21738, 24053, 243...</td>\n",
       "      <td>[39566, 39567, 39568, 39569, 66162, 66163, 811...</td>\n",
       "      <td>c142b442-9bbe-0cea-d317-821abc82581a</td>\n",
       "      <td>1.550189e+09</td>\n",
       "      <td>[6, 48, 49, 167, 169, 170]</td>\n",
       "      <td>[191003, 191004, 191005, 191006, 297637, 297638]</td>\n",
       "      <td>[25552, 45824, 67305]</td>\n",
       "      <td>[170144, 170145]</td>\n",
       "      <td>[1]</td>\n",
       "      <td>[1]</td>\n",
       "      <td>[49968, 49969]</td>\n",
       "      <td>[18]</td>\n",
       "      <td>[69, 208, 453, 1706, 4224, 4337, 4357, 4895, 4...</td>\n",
       "      <td>NaN</td>\n",
       "      <td>83.091874</td>\n",
       "      <td>331.0</td>\n",
       "      <td>The year is 2036. A quarter-century after nucl...</td>\n",
       "      <td>83.170937</td>\n",
       "      <td>346.0</td>\n",
       "      <td>NaN</td>\n",
       "      <td>NaN</td>\n",
       "      <td>110.0</td>\n",
       "      <td>82.0</td>\n",
       "      <td>[1344]</td>\n",
       "      <td>236.0</td>\n",
       "      <td>[95059, 109587, 136166, 147016, 154180]</td>\n",
       "      <td>NaN</td>\n",
       "      <td>83.25</td>\n",
       "      <td>15.0</td>\n",
       "      <td>NaN</td>\n",
       "      <td>[121753, 121756]</td>\n",
       "      <td>NaN</td>\n",
       "      <td>NaN</td>\n",
       "      <td>NaN</td>\n",
       "      <td>NaN</td>\n",
       "      <td>[143292]</td>\n",
       "      <td>NaN</td>\n",
       "      <td>NaN</td>\n",
       "      <td>NaN</td>\n",
       "    </tr>\n",
       "    <tr>\n",
       "      <th>204496</th>\n",
       "      <td>119381</td>\n",
       "      <td>[16649]</td>\n",
       "      <td>9</td>\n",
       "      <td>88836.0</td>\n",
       "      <td>1560262516</td>\n",
       "      <td>[1725257, 1857231, 1917363, 1941716, 1942121, ...</td>\n",
       "      <td>[11, 15, 24]</td>\n",
       "      <td>Commandos 2: HD Remaster</td>\n",
       "      <td>653.0</td>\n",
       "      <td>[307816, 307817, 307818, 307819, 307820, 30782...</td>\n",
       "      <td>[6985, 10243, 16497, 28794, 31480, 55029, 7855...</td>\n",
       "      <td>commandos-2-hd-remaster</td>\n",
       "      <td>Relive the real-time tactics masterpiece that ...</td>\n",
       "      <td>[22, 39, 268435467, 268435471, 268435480, 5368...</td>\n",
       "      <td>[22, 39]</td>\n",
       "      <td>1662723241</td>\n",
       "      <td>https://www.igdb.com/games/commandos-2-hd-rema...</td>\n",
       "      <td>[28138]</td>\n",
       "      <td>[108625, 111136, 131138]</td>\n",
       "      <td>6554c1c2-1a53-a55f-4463-a7895aeb231d</td>\n",
       "      <td>1.579824e+09</td>\n",
       "      <td>[3, 6, 14, 48, 49, 130]</td>\n",
       "      <td>[179812, 217069, 217070, 217071, 238155, 23815...</td>\n",
       "      <td>[31344, 56318, 68867]</td>\n",
       "      <td>[79883, 80040, 130646, 130648]</td>\n",
       "      <td>[1]</td>\n",
       "      <td>NaN</td>\n",
       "      <td>[56067, 100223, 100383]</td>\n",
       "      <td>NaN</td>\n",
       "      <td>[19]</td>\n",
       "      <td>NaN</td>\n",
       "      <td>50.000000</td>\n",
       "      <td>2.0</td>\n",
       "      <td>NaN</td>\n",
       "      <td>50.000000</td>\n",
       "      <td>2.0</td>\n",
       "      <td>NaN</td>\n",
       "      <td>NaN</td>\n",
       "      <td>1.0</td>\n",
       "      <td>140.0</td>\n",
       "      <td>NaN</td>\n",
       "      <td>1.0</td>\n",
       "      <td>[139932, 212870]</td>\n",
       "      <td>NaN</td>\n",
       "      <td>NaN</td>\n",
       "      <td>NaN</td>\n",
       "      <td>NaN</td>\n",
       "      <td>NaN</td>\n",
       "      <td>NaN</td>\n",
       "      <td>NaN</td>\n",
       "      <td>NaN</td>\n",
       "      <td>NaN</td>\n",
       "      <td>NaN</td>\n",
       "      <td>NaN</td>\n",
       "      <td>NaN</td>\n",
       "      <td>NaN</td>\n",
       "    </tr>\n",
       "    <tr>\n",
       "      <th>204497</th>\n",
       "      <td>155172</td>\n",
       "      <td>[40886]</td>\n",
       "      <td>1</td>\n",
       "      <td>157971.0</td>\n",
       "      <td>1626095041</td>\n",
       "      <td>[2015336, 2069785, 2081774]</td>\n",
       "      <td>[13, 15]</td>\n",
       "      <td>Tropico 6: Spitter</td>\n",
       "      <td>36649.0</td>\n",
       "      <td>[516793, 516796, 516801, 516804, 516808, 51681...</td>\n",
       "      <td>[17613, 33603, 36258, 36962, 51577, 65827, 763...</td>\n",
       "      <td>tropico-6-spitter</td>\n",
       "      <td>It's all about the fame and prestige. Nobody k...</td>\n",
       "      <td>[268435469, 268435471]</td>\n",
       "      <td>NaN</td>\n",
       "      <td>1659286811</td>\n",
       "      <td>https://www.igdb.com/games/tropico-6-spitter</td>\n",
       "      <td>NaN</td>\n",
       "      <td>[197422]</td>\n",
       "      <td>a4372b1d-9d02-314e-3664-340672dee8ae</td>\n",
       "      <td>1.587600e+09</td>\n",
       "      <td>[6, 49]</td>\n",
       "      <td>[303654, 346504, 346533]</td>\n",
       "      <td>[85872]</td>\n",
       "      <td>NaN</td>\n",
       "      <td>NaN</td>\n",
       "      <td>NaN</td>\n",
       "      <td>NaN</td>\n",
       "      <td>NaN</td>\n",
       "      <td>NaN</td>\n",
       "      <td>NaN</td>\n",
       "      <td>NaN</td>\n",
       "      <td>NaN</td>\n",
       "      <td>NaN</td>\n",
       "      <td>NaN</td>\n",
       "      <td>NaN</td>\n",
       "      <td>NaN</td>\n",
       "      <td>NaN</td>\n",
       "      <td>NaN</td>\n",
       "      <td>NaN</td>\n",
       "      <td>NaN</td>\n",
       "      <td>NaN</td>\n",
       "      <td>NaN</td>\n",
       "      <td>NaN</td>\n",
       "      <td>NaN</td>\n",
       "      <td>NaN</td>\n",
       "      <td>NaN</td>\n",
       "      <td>NaN</td>\n",
       "      <td>NaN</td>\n",
       "      <td>NaN</td>\n",
       "      <td>NaN</td>\n",
       "      <td>NaN</td>\n",
       "      <td>NaN</td>\n",
       "      <td>NaN</td>\n",
       "      <td>NaN</td>\n",
       "      <td>NaN</td>\n",
       "    </tr>\n",
       "    <tr>\n",
       "      <th>204498</th>\n",
       "      <td>124884</td>\n",
       "      <td>[39360]</td>\n",
       "      <td>1</td>\n",
       "      <td>155994.0</td>\n",
       "      <td>1571376579</td>\n",
       "      <td>[2023544, 2069800, 2222052]</td>\n",
       "      <td>[13, 15, 32]</td>\n",
       "      <td>The Escapists 2: Glorious Regime Prison</td>\n",
       "      <td>25653.0</td>\n",
       "      <td>[504452, 504459, 504464]</td>\n",
       "      <td>[31515, 33603, 37419, 51577, 55689, 55888, 658...</td>\n",
       "      <td>the-escapists-2-glorious-regime-prison</td>\n",
       "      <td>Experience the thrill of escaping the hidden c...</td>\n",
       "      <td>[33, 268435469, 268435471, 268435488]</td>\n",
       "      <td>[33]</td>\n",
       "      <td>1659342836</td>\n",
       "      <td>https://www.igdb.com/games/the-escapists-2-glo...</td>\n",
       "      <td>NaN</td>\n",
       "      <td>[120722, 225275]</td>\n",
       "      <td>f2dd576c-605e-44d7-ece9-98c603414fc5</td>\n",
       "      <td>1.503360e+09</td>\n",
       "      <td>[49]</td>\n",
       "      <td>[340382]</td>\n",
       "      <td>[86074]</td>\n",
       "      <td>NaN</td>\n",
       "      <td>NaN</td>\n",
       "      <td>NaN</td>\n",
       "      <td>NaN</td>\n",
       "      <td>NaN</td>\n",
       "      <td>NaN</td>\n",
       "      <td>NaN</td>\n",
       "      <td>NaN</td>\n",
       "      <td>NaN</td>\n",
       "      <td>Despite the towering walls, electric fences an...</td>\n",
       "      <td>NaN</td>\n",
       "      <td>NaN</td>\n",
       "      <td>NaN</td>\n",
       "      <td>NaN</td>\n",
       "      <td>NaN</td>\n",
       "      <td>NaN</td>\n",
       "      <td>NaN</td>\n",
       "      <td>NaN</td>\n",
       "      <td>NaN</td>\n",
       "      <td>NaN</td>\n",
       "      <td>NaN</td>\n",
       "      <td>NaN</td>\n",
       "      <td>NaN</td>\n",
       "      <td>NaN</td>\n",
       "      <td>NaN</td>\n",
       "      <td>NaN</td>\n",
       "      <td>NaN</td>\n",
       "      <td>NaN</td>\n",
       "      <td>NaN</td>\n",
       "      <td>NaN</td>\n",
       "      <td>NaN</td>\n",
       "      <td>NaN</td>\n",
       "    </tr>\n",
       "    <tr>\n",
       "      <th>204499</th>\n",
       "      <td>165276</td>\n",
       "      <td>[49374]</td>\n",
       "      <td>0</td>\n",
       "      <td>170495.0</td>\n",
       "      <td>1629717964</td>\n",
       "      <td>[2084059, 2088508, 2115840]</td>\n",
       "      <td>[8, 31, 32, 33]</td>\n",
       "      <td>Onde</td>\n",
       "      <td>NaN</td>\n",
       "      <td>[595189, 595190, 595191, 595192, 595193]</td>\n",
       "      <td>[20342, 28070, 29032, 51485, 77529, 96217, 106...</td>\n",
       "      <td>onde</td>\n",
       "      <td>Catch a wave in this smooth sound-surfing plat...</td>\n",
       "      <td>[17, 268435464, 268435487, 268435488, 26843548...</td>\n",
       "      <td>[17]</td>\n",
       "      <td>1659077442</td>\n",
       "      <td>https://www.igdb.com/games/onde</td>\n",
       "      <td>[53712, 64526]</td>\n",
       "      <td>[214862, 215101, 215102, 215103, 215329]</td>\n",
       "      <td>89ade22c-6ef1-2edb-86e3-fc4b7fcac37a</td>\n",
       "      <td>1.647475e+09</td>\n",
       "      <td>[6, 39, 130]</td>\n",
       "      <td>[344793, 364880, 364881]</td>\n",
       "      <td>[84445]</td>\n",
       "      <td>[174966, 174967]</td>\n",
       "      <td>[1]</td>\n",
       "      <td>NaN</td>\n",
       "      <td>NaN</td>\n",
       "      <td>NaN</td>\n",
       "      <td>[101, 168, 288, 1429, 1495, 3138]</td>\n",
       "      <td>NaN</td>\n",
       "      <td>NaN</td>\n",
       "      <td>NaN</td>\n",
       "      <td>Dive into a world filled with sounds. Let ethe...</td>\n",
       "      <td>NaN</td>\n",
       "      <td>NaN</td>\n",
       "      <td>NaN</td>\n",
       "      <td>NaN</td>\n",
       "      <td>1.0</td>\n",
       "      <td>NaN</td>\n",
       "      <td>NaN</td>\n",
       "      <td>NaN</td>\n",
       "      <td>NaN</td>\n",
       "      <td>NaN</td>\n",
       "      <td>NaN</td>\n",
       "      <td>NaN</td>\n",
       "      <td>NaN</td>\n",
       "      <td>NaN</td>\n",
       "      <td>NaN</td>\n",
       "      <td>NaN</td>\n",
       "      <td>NaN</td>\n",
       "      <td>NaN</td>\n",
       "      <td>NaN</td>\n",
       "      <td>NaN</td>\n",
       "      <td>NaN</td>\n",
       "      <td>NaN</td>\n",
       "    </tr>\n",
       "  </tbody>\n",
       "</table>\n",
       "</div>"
      ],
      "text/plain": [
       "            id                                           artworks  category  \\\n",
       "204495   37016  [1213, 5039, 6007, 6376, 6377, 6378, 6379, 638...         0   \n",
       "204496  119381                                            [16649]         9   \n",
       "204497  155172                                            [40886]         1   \n",
       "204498  124884                                            [39360]         1   \n",
       "204499  165276                                            [49374]         0   \n",
       "\n",
       "           cover  created_at  \\\n",
       "204495   71083.0  1497216279   \n",
       "204496   88836.0  1560262516   \n",
       "204497  157971.0  1626095041   \n",
       "204498  155994.0  1571376579   \n",
       "204499  170495.0  1629717964   \n",
       "\n",
       "                                           external_games           genres  \\\n",
       "204495  [50659, 80860, 102139, 1593410, 1706657, 17082...          [5, 31]   \n",
       "204496  [1725257, 1857231, 1917363, 1941716, 1942121, ...     [11, 15, 24]   \n",
       "204497                        [2015336, 2069785, 2081774]         [13, 15]   \n",
       "204498                        [2023544, 2069800, 2222052]     [13, 15, 32]   \n",
       "204499                        [2084059, 2088508, 2115840]  [8, 31, 32, 33]   \n",
       "\n",
       "                                           name  parent_game  \\\n",
       "204495                             Metro Exodus          NaN   \n",
       "204496                 Commandos 2: HD Remaster        653.0   \n",
       "204497                       Tropico 6: Spitter      36649.0   \n",
       "204498  The Escapists 2: Glorious Regime Prison      25653.0   \n",
       "204499                                     Onde          NaN   \n",
       "\n",
       "                                              screenshots  \\\n",
       "204495  [44199, 44200, 44201, 44202, 44203, 214208, 21...   \n",
       "204496  [307816, 307817, 307818, 307819, 307820, 30782...   \n",
       "204497  [516793, 516796, 516801, 516804, 516808, 51681...   \n",
       "204498                           [504452, 504459, 504464]   \n",
       "204499           [595189, 595190, 595191, 595192, 595193]   \n",
       "\n",
       "                                            similar_games  \\\n",
       "204495  [17379, 19561, 19564, 26192, 28168, 54842, 550...   \n",
       "204496  [6985, 10243, 16497, 28794, 31480, 55029, 7855...   \n",
       "204497  [17613, 33603, 36258, 36962, 51577, 65827, 763...   \n",
       "204498  [31515, 33603, 37419, 51577, 55689, 55888, 658...   \n",
       "204499  [20342, 28070, 29032, 51485, 77529, 96217, 106...   \n",
       "\n",
       "                                        slug_x  \\\n",
       "204495                            metro-exodus   \n",
       "204496                 commandos-2-hd-remaster   \n",
       "204497                       tropico-6-spitter   \n",
       "204498  the-escapists-2-glorious-regime-prison   \n",
       "204499                                    onde   \n",
       "\n",
       "                                                  summary  \\\n",
       "204495  Metro Exodus is an epic, story-driven first pe...   \n",
       "204496  Relive the real-time tactics masterpiece that ...   \n",
       "204497  It's all about the fame and prestige. Nobody k...   \n",
       "204498  Experience the thrill of escaping the hidden c...   \n",
       "204499  Catch a wave in this smooth sound-surfing plat...   \n",
       "\n",
       "                                                     tags           themes  \\\n",
       "204495  [1, 18, 19, 21, 268435461, 268435487, 53687098...  [1, 18, 19, 21]   \n",
       "204496  [22, 39, 268435467, 268435471, 268435480, 5368...         [22, 39]   \n",
       "204497                             [268435469, 268435471]              NaN   \n",
       "204498              [33, 268435469, 268435471, 268435488]             [33]   \n",
       "204499  [17, 268435464, 268435487, 268435488, 26843548...             [17]   \n",
       "\n",
       "        updated_at                                                url  \\\n",
       "204495  1662910768            https://www.igdb.com/games/metro-exodus   \n",
       "204496  1662723241  https://www.igdb.com/games/commandos-2-hd-rema...   \n",
       "204497  1659286811       https://www.igdb.com/games/tropico-6-spitter   \n",
       "204498  1659342836  https://www.igdb.com/games/the-escapists-2-glo...   \n",
       "204499  1659077442                    https://www.igdb.com/games/onde   \n",
       "\n",
       "                                                   videos  \\\n",
       "204495  [14571, 17131, 20506, 20729, 21738, 24053, 243...   \n",
       "204496                                            [28138]   \n",
       "204497                                                NaN   \n",
       "204498                                                NaN   \n",
       "204499                                     [53712, 64526]   \n",
       "\n",
       "                                                 websites  \\\n",
       "204495  [39566, 39567, 39568, 39569, 66162, 66163, 811...   \n",
       "204496                           [108625, 111136, 131138]   \n",
       "204497                                           [197422]   \n",
       "204498                                   [120722, 225275]   \n",
       "204499           [214862, 215101, 215102, 215103, 215329]   \n",
       "\n",
       "                                    checksum  first_release_date  \\\n",
       "204495  c142b442-9bbe-0cea-d317-821abc82581a        1.550189e+09   \n",
       "204496  6554c1c2-1a53-a55f-4463-a7895aeb231d        1.579824e+09   \n",
       "204497  a4372b1d-9d02-314e-3664-340672dee8ae        1.587600e+09   \n",
       "204498  f2dd576c-605e-44d7-ece9-98c603414fc5        1.503360e+09   \n",
       "204499  89ade22c-6ef1-2edb-86e3-fc4b7fcac37a        1.647475e+09   \n",
       "\n",
       "                         platforms  \\\n",
       "204495  [6, 48, 49, 167, 169, 170]   \n",
       "204496     [3, 6, 14, 48, 49, 130]   \n",
       "204497                     [6, 49]   \n",
       "204498                        [49]   \n",
       "204499                [6, 39, 130]   \n",
       "\n",
       "                                            release_dates  \\\n",
       "204495   [191003, 191004, 191005, 191006, 297637, 297638]   \n",
       "204496  [179812, 217069, 217070, 217071, 238155, 23815...   \n",
       "204497                           [303654, 346504, 346533]   \n",
       "204498                                           [340382]   \n",
       "204499                           [344793, 364880, 364881]   \n",
       "\n",
       "                  age_ratings              involved_companies game_modes  \\\n",
       "204495  [25552, 45824, 67305]                [170144, 170145]        [1]   \n",
       "204496  [31344, 56318, 68867]  [79883, 80040, 130646, 130648]        [1]   \n",
       "204497                [85872]                             NaN        NaN   \n",
       "204498                [86074]                             NaN        NaN   \n",
       "204499                [84445]                [174966, 174967]        [1]   \n",
       "\n",
       "       player_perspectives        alternative_names game_engines  \\\n",
       "204495                 [1]           [49968, 49969]         [18]   \n",
       "204496                 NaN  [56067, 100223, 100383]          NaN   \n",
       "204497                 NaN                      NaN          NaN   \n",
       "204498                 NaN                      NaN          NaN   \n",
       "204499                 NaN                      NaN          NaN   \n",
       "\n",
       "                                                 keywords  status     rating  \\\n",
       "204495  [69, 208, 453, 1706, 4224, 4337, 4357, 4895, 4...     NaN  83.091874   \n",
       "204496                                               [19]     NaN  50.000000   \n",
       "204497                                                NaN     NaN        NaN   \n",
       "204498                                                NaN     NaN        NaN   \n",
       "204499                  [101, 168, 288, 1429, 1495, 3138]     NaN        NaN   \n",
       "\n",
       "        rating_count                                          storyline  \\\n",
       "204495         331.0  The year is 2036. A quarter-century after nucl...   \n",
       "204496           2.0                                                NaN   \n",
       "204497           NaN                                                NaN   \n",
       "204498           NaN  Despite the towering walls, electric fences an...   \n",
       "204499           NaN  Dive into a world filled with sounds. Let ethe...   \n",
       "\n",
       "        total_rating  total_rating_count  version_parent version_title  hypes  \\\n",
       "204495     83.170937               346.0             NaN           NaN  110.0   \n",
       "204496     50.000000                 2.0             NaN           NaN    1.0   \n",
       "204497           NaN                 NaN             NaN           NaN    NaN   \n",
       "204498           NaN                 NaN             NaN           NaN    NaN   \n",
       "204499           NaN                 NaN             NaN           NaN    1.0   \n",
       "\n",
       "        collection franchises  follows  \\\n",
       "204495        82.0     [1344]    236.0   \n",
       "204496       140.0        NaN      1.0   \n",
       "204497         NaN        NaN      NaN   \n",
       "204498         NaN        NaN      NaN   \n",
       "204499         NaN        NaN      NaN   \n",
       "\n",
       "                                        bundles  franchise  aggregated_rating  \\\n",
       "204495  [95059, 109587, 136166, 147016, 154180]        NaN              83.25   \n",
       "204496                         [139932, 212870]        NaN                NaN   \n",
       "204497                                      NaN        NaN                NaN   \n",
       "204498                                      NaN        NaN                NaN   \n",
       "204499                                      NaN        NaN                NaN   \n",
       "\n",
       "        aggregated_rating_count multiplayer_modes              dlcs ports  \\\n",
       "204495                     15.0               NaN  [121753, 121756]   NaN   \n",
       "204496                      NaN               NaN               NaN   NaN   \n",
       "204497                      NaN               NaN               NaN   NaN   \n",
       "204498                      NaN               NaN               NaN   NaN   \n",
       "204499                      NaN               NaN               NaN   NaN   \n",
       "\n",
       "       expansions remakes expanded_games remasters forks  \\\n",
       "204495        NaN     NaN            NaN  [143292]   NaN   \n",
       "204496        NaN     NaN            NaN       NaN   NaN   \n",
       "204497        NaN     NaN            NaN       NaN   NaN   \n",
       "204498        NaN     NaN            NaN       NaN   NaN   \n",
       "204499        NaN     NaN            NaN       NaN   NaN   \n",
       "\n",
       "       standalone_expansions slug_y  \n",
       "204495                   NaN    NaN  \n",
       "204496                   NaN    NaN  \n",
       "204497                   NaN    NaN  \n",
       "204498                   NaN    NaN  \n",
       "204499                   NaN    NaN  "
      ]
     },
     "execution_count": 76,
     "metadata": {},
     "output_type": "execute_result"
    }
   ],
   "source": [
    "results.tail()"
   ]
  },
  {
   "cell_type": "code",
   "execution_count": 84,
   "id": "e20e71fd",
   "metadata": {},
   "outputs": [
    {
     "data": {
      "text/html": [
       "<div>\n",
       "<style scoped>\n",
       "    .dataframe tbody tr th:only-of-type {\n",
       "        vertical-align: middle;\n",
       "    }\n",
       "\n",
       "    .dataframe tbody tr th {\n",
       "        vertical-align: top;\n",
       "    }\n",
       "\n",
       "    .dataframe thead th {\n",
       "        text-align: right;\n",
       "    }\n",
       "</style>\n",
       "<table border=\"1\" class=\"dataframe\">\n",
       "  <thead>\n",
       "    <tr style=\"text-align: right;\">\n",
       "      <th></th>\n",
       "      <th>id</th>\n",
       "      <th>artworks</th>\n",
       "      <th>category</th>\n",
       "      <th>cover</th>\n",
       "      <th>created_at</th>\n",
       "      <th>external_games</th>\n",
       "      <th>genres</th>\n",
       "      <th>name</th>\n",
       "      <th>parent_game</th>\n",
       "      <th>screenshots</th>\n",
       "      <th>similar_games</th>\n",
       "      <th>slug</th>\n",
       "      <th>summary</th>\n",
       "      <th>tags</th>\n",
       "      <th>themes</th>\n",
       "      <th>updated_at</th>\n",
       "      <th>url</th>\n",
       "      <th>videos</th>\n",
       "      <th>websites</th>\n",
       "      <th>checksum</th>\n",
       "      <th>first_release_date</th>\n",
       "      <th>platforms</th>\n",
       "      <th>release_dates</th>\n",
       "      <th>age_ratings</th>\n",
       "      <th>involved_companies</th>\n",
       "      <th>game_modes</th>\n",
       "      <th>player_perspectives</th>\n",
       "      <th>alternative_names</th>\n",
       "      <th>game_engines</th>\n",
       "      <th>keywords</th>\n",
       "      <th>status</th>\n",
       "      <th>rating</th>\n",
       "      <th>rating_count</th>\n",
       "      <th>storyline</th>\n",
       "      <th>total_rating</th>\n",
       "      <th>total_rating_count</th>\n",
       "      <th>version_parent</th>\n",
       "      <th>version_title</th>\n",
       "      <th>hypes</th>\n",
       "      <th>collection</th>\n",
       "      <th>franchises</th>\n",
       "      <th>follows</th>\n",
       "      <th>bundles</th>\n",
       "      <th>franchise</th>\n",
       "      <th>aggregated_rating</th>\n",
       "      <th>aggregated_rating_count</th>\n",
       "      <th>multiplayer_modes</th>\n",
       "      <th>dlcs</th>\n",
       "      <th>ports</th>\n",
       "      <th>expansions</th>\n",
       "      <th>remakes</th>\n",
       "      <th>expanded_games</th>\n",
       "      <th>remasters</th>\n",
       "      <th>forks</th>\n",
       "      <th>standalone_expansions</th>\n",
       "    </tr>\n",
       "  </thead>\n",
       "  <tbody>\n",
       "    <tr>\n",
       "      <th>0</th>\n",
       "      <td>202489</td>\n",
       "      <td>[77476]</td>\n",
       "      <td>1</td>\n",
       "      <td>224545.0</td>\n",
       "      <td>1653310572</td>\n",
       "      <td>[2442147, 2443444]</td>\n",
       "      <td>[15, 16]</td>\n",
       "      <td>Panzer Corps 2: Axis Operations - 1943</td>\n",
       "      <td>27716.0</td>\n",
       "      <td>[798986, 798987, 798988, 798989, 798990, 79899...</td>\n",
       "      <td>[13196, 18623, 28244, 32510, 36258, 55036, 791...</td>\n",
       "      <td>panzer-corps-2-axis-operations-1943</td>\n",
       "      <td>The critical hour where the fate of Germany on...</td>\n",
       "      <td>[22, 268435471, 268435472]</td>\n",
       "      <td>[22]</td>\n",
       "      <td>1654096076</td>\n",
       "      <td>https://www.igdb.com/games/panzer-corps-2-axis...</td>\n",
       "      <td>[68880]</td>\n",
       "      <td>[285491, 286755]</td>\n",
       "      <td>2992a43b-4d59-7ab8-e500-71a352404759</td>\n",
       "      <td>NaN</td>\n",
       "      <td>NaN</td>\n",
       "      <td>NaN</td>\n",
       "      <td>NaN</td>\n",
       "      <td>NaN</td>\n",
       "      <td>NaN</td>\n",
       "      <td>NaN</td>\n",
       "      <td>NaN</td>\n",
       "      <td>NaN</td>\n",
       "      <td>NaN</td>\n",
       "      <td>NaN</td>\n",
       "      <td>NaN</td>\n",
       "      <td>NaN</td>\n",
       "      <td>NaN</td>\n",
       "      <td>NaN</td>\n",
       "      <td>NaN</td>\n",
       "      <td>NaN</td>\n",
       "      <td>NaN</td>\n",
       "      <td>NaN</td>\n",
       "      <td>NaN</td>\n",
       "      <td>NaN</td>\n",
       "      <td>NaN</td>\n",
       "      <td>NaN</td>\n",
       "      <td>NaN</td>\n",
       "      <td>NaN</td>\n",
       "      <td>NaN</td>\n",
       "      <td>NaN</td>\n",
       "      <td>NaN</td>\n",
       "      <td>NaN</td>\n",
       "      <td>NaN</td>\n",
       "      <td>NaN</td>\n",
       "      <td>NaN</td>\n",
       "      <td>NaN</td>\n",
       "      <td>NaN</td>\n",
       "      <td>NaN</td>\n",
       "    </tr>\n",
       "    <tr>\n",
       "      <th>1</th>\n",
       "      <td>40104</td>\n",
       "      <td>NaN</td>\n",
       "      <td>0</td>\n",
       "      <td>NaN</td>\n",
       "      <td>1498435200</td>\n",
       "      <td>[20127, 1988884]</td>\n",
       "      <td>[5]</td>\n",
       "      <td>Dogou Souken</td>\n",
       "      <td>NaN</td>\n",
       "      <td>NaN</td>\n",
       "      <td>[12364, 27270, 43367, 103281, 103292, 103298, ...</td>\n",
       "      <td>dogou-souken</td>\n",
       "      <td>An overhead-view shoot'em up game.</td>\n",
       "      <td>[268435461]</td>\n",
       "      <td>NaN</td>\n",
       "      <td>1604620800</td>\n",
       "      <td>https://www.igdb.com/games/dogou-souken</td>\n",
       "      <td>NaN</td>\n",
       "      <td>NaN</td>\n",
       "      <td>5e7446ff-58d9-e744-f0d3-5e10241304c1</td>\n",
       "      <td>5.364576e+08</td>\n",
       "      <td>[52]</td>\n",
       "      <td>[91007]</td>\n",
       "      <td>NaN</td>\n",
       "      <td>NaN</td>\n",
       "      <td>NaN</td>\n",
       "      <td>NaN</td>\n",
       "      <td>NaN</td>\n",
       "      <td>NaN</td>\n",
       "      <td>NaN</td>\n",
       "      <td>NaN</td>\n",
       "      <td>NaN</td>\n",
       "      <td>NaN</td>\n",
       "      <td>NaN</td>\n",
       "      <td>NaN</td>\n",
       "      <td>NaN</td>\n",
       "      <td>NaN</td>\n",
       "      <td>NaN</td>\n",
       "      <td>NaN</td>\n",
       "      <td>NaN</td>\n",
       "      <td>NaN</td>\n",
       "      <td>NaN</td>\n",
       "      <td>NaN</td>\n",
       "      <td>NaN</td>\n",
       "      <td>NaN</td>\n",
       "      <td>NaN</td>\n",
       "      <td>NaN</td>\n",
       "      <td>NaN</td>\n",
       "      <td>NaN</td>\n",
       "      <td>NaN</td>\n",
       "      <td>NaN</td>\n",
       "      <td>NaN</td>\n",
       "      <td>NaN</td>\n",
       "      <td>NaN</td>\n",
       "      <td>NaN</td>\n",
       "    </tr>\n",
       "    <tr>\n",
       "      <th>2</th>\n",
       "      <td>85031</td>\n",
       "      <td>NaN</td>\n",
       "      <td>0</td>\n",
       "      <td>61466.0</td>\n",
       "      <td>1517392813</td>\n",
       "      <td>[216805, 1969751, 2005770]</td>\n",
       "      <td>[9]</td>\n",
       "      <td>City Mysteries</td>\n",
       "      <td>NaN</td>\n",
       "      <td>[155025, 155026, 155027]</td>\n",
       "      <td>[10603, 19222, 25905, 41349, 86974, 87507, 885...</td>\n",
       "      <td>city-mysteries</td>\n",
       "      <td>Search buildings, streets, landmarks as you se...</td>\n",
       "      <td>[268435465]</td>\n",
       "      <td>NaN</td>\n",
       "      <td>1641425677</td>\n",
       "      <td>https://www.igdb.com/games/city-mysteries</td>\n",
       "      <td>NaN</td>\n",
       "      <td>NaN</td>\n",
       "      <td>87b342e7-b912-ca8d-4ffb-f91f9e4f1870</td>\n",
       "      <td>1.404346e+09</td>\n",
       "      <td>[37]</td>\n",
       "      <td>[138333]</td>\n",
       "      <td>[37944]</td>\n",
       "      <td>[130531, 130532]</td>\n",
       "      <td>NaN</td>\n",
       "      <td>NaN</td>\n",
       "      <td>NaN</td>\n",
       "      <td>NaN</td>\n",
       "      <td>NaN</td>\n",
       "      <td>NaN</td>\n",
       "      <td>NaN</td>\n",
       "      <td>NaN</td>\n",
       "      <td>NaN</td>\n",
       "      <td>NaN</td>\n",
       "      <td>NaN</td>\n",
       "      <td>NaN</td>\n",
       "      <td>NaN</td>\n",
       "      <td>NaN</td>\n",
       "      <td>NaN</td>\n",
       "      <td>NaN</td>\n",
       "      <td>NaN</td>\n",
       "      <td>NaN</td>\n",
       "      <td>NaN</td>\n",
       "      <td>NaN</td>\n",
       "      <td>NaN</td>\n",
       "      <td>NaN</td>\n",
       "      <td>NaN</td>\n",
       "      <td>NaN</td>\n",
       "      <td>NaN</td>\n",
       "      <td>NaN</td>\n",
       "      <td>NaN</td>\n",
       "      <td>NaN</td>\n",
       "      <td>NaN</td>\n",
       "      <td>NaN</td>\n",
       "    </tr>\n",
       "    <tr>\n",
       "      <th>3</th>\n",
       "      <td>99234</td>\n",
       "      <td>NaN</td>\n",
       "      <td>0</td>\n",
       "      <td>91582.0</td>\n",
       "      <td>1524843905</td>\n",
       "      <td>[603512, 1857496, 1917109]</td>\n",
       "      <td>[31, 32]</td>\n",
       "      <td>Sword of the Black Stone</td>\n",
       "      <td>NaN</td>\n",
       "      <td>[231528, 231529, 231530, 231531, 231532]</td>\n",
       "      <td>[25646, 29783, 68271, 80916, 96217, 105269, 10...</td>\n",
       "      <td>sword-of-the-black-stone</td>\n",
       "      <td>If your looking for action and adventure then ...</td>\n",
       "      <td>[1, 268435487, 268435488]</td>\n",
       "      <td>[1]</td>\n",
       "      <td>1643857546</td>\n",
       "      <td>https://www.igdb.com/games/sword-of-the-black-...</td>\n",
       "      <td>NaN</td>\n",
       "      <td>[84617]</td>\n",
       "      <td>0b575316-96dc-b056-86e0-c958c1c95efb</td>\n",
       "      <td>1.527120e+09</td>\n",
       "      <td>[6]</td>\n",
       "      <td>[188385]</td>\n",
       "      <td>NaN</td>\n",
       "      <td>[155850, 155852]</td>\n",
       "      <td>[1]</td>\n",
       "      <td>[2]</td>\n",
       "      <td>NaN</td>\n",
       "      <td>NaN</td>\n",
       "      <td>NaN</td>\n",
       "      <td>NaN</td>\n",
       "      <td>NaN</td>\n",
       "      <td>NaN</td>\n",
       "      <td>NaN</td>\n",
       "      <td>NaN</td>\n",
       "      <td>NaN</td>\n",
       "      <td>NaN</td>\n",
       "      <td>NaN</td>\n",
       "      <td>NaN</td>\n",
       "      <td>NaN</td>\n",
       "      <td>NaN</td>\n",
       "      <td>NaN</td>\n",
       "      <td>NaN</td>\n",
       "      <td>NaN</td>\n",
       "      <td>NaN</td>\n",
       "      <td>NaN</td>\n",
       "      <td>NaN</td>\n",
       "      <td>NaN</td>\n",
       "      <td>NaN</td>\n",
       "      <td>NaN</td>\n",
       "      <td>NaN</td>\n",
       "      <td>NaN</td>\n",
       "      <td>NaN</td>\n",
       "      <td>NaN</td>\n",
       "      <td>NaN</td>\n",
       "    </tr>\n",
       "    <tr>\n",
       "      <th>4</th>\n",
       "      <td>148930</td>\n",
       "      <td>[33736]</td>\n",
       "      <td>0</td>\n",
       "      <td>169077.0</td>\n",
       "      <td>1621959514</td>\n",
       "      <td>[2052375, 2057300]</td>\n",
       "      <td>[13, 15, 31, 32]</td>\n",
       "      <td>Bok-Bok: A Chicken Dating Sim</td>\n",
       "      <td>NaN</td>\n",
       "      <td>[463145, 463148, 463149, 463151, 463152]</td>\n",
       "      <td>[25311, 26145, 28277, 33603, 51577, 65827, 791...</td>\n",
       "      <td>bok-bok-a-chicken-dating-sim</td>\n",
       "      <td>Have you ever pondered what the romantic life ...</td>\n",
       "      <td>[268435469, 268435471, 268435487, 268435488]</td>\n",
       "      <td>NaN</td>\n",
       "      <td>1643850601</td>\n",
       "      <td>https://www.igdb.com/games/bok-bok-a-chicken-d...</td>\n",
       "      <td>NaN</td>\n",
       "      <td>[192858]</td>\n",
       "      <td>9585e273-2606-970f-3088-60261ea77068</td>\n",
       "      <td>NaN</td>\n",
       "      <td>NaN</td>\n",
       "      <td>NaN</td>\n",
       "      <td>NaN</td>\n",
       "      <td>NaN</td>\n",
       "      <td>NaN</td>\n",
       "      <td>NaN</td>\n",
       "      <td>[63465]</td>\n",
       "      <td>NaN</td>\n",
       "      <td>NaN</td>\n",
       "      <td>NaN</td>\n",
       "      <td>NaN</td>\n",
       "      <td>NaN</td>\n",
       "      <td>NaN</td>\n",
       "      <td>NaN</td>\n",
       "      <td>NaN</td>\n",
       "      <td>NaN</td>\n",
       "      <td>NaN</td>\n",
       "      <td>NaN</td>\n",
       "      <td>NaN</td>\n",
       "      <td>NaN</td>\n",
       "      <td>NaN</td>\n",
       "      <td>NaN</td>\n",
       "      <td>NaN</td>\n",
       "      <td>NaN</td>\n",
       "      <td>NaN</td>\n",
       "      <td>NaN</td>\n",
       "      <td>NaN</td>\n",
       "      <td>NaN</td>\n",
       "      <td>NaN</td>\n",
       "      <td>NaN</td>\n",
       "      <td>NaN</td>\n",
       "      <td>NaN</td>\n",
       "      <td>NaN</td>\n",
       "      <td>NaN</td>\n",
       "    </tr>\n",
       "  </tbody>\n",
       "</table>\n",
       "</div>"
      ],
      "text/plain": [
       "       id artworks  category     cover  created_at  \\\n",
       "0  202489  [77476]         1  224545.0  1653310572   \n",
       "1   40104      NaN         0       NaN  1498435200   \n",
       "2   85031      NaN         0   61466.0  1517392813   \n",
       "3   99234      NaN         0   91582.0  1524843905   \n",
       "4  148930  [33736]         0  169077.0  1621959514   \n",
       "\n",
       "               external_games            genres  \\\n",
       "0          [2442147, 2443444]          [15, 16]   \n",
       "1            [20127, 1988884]               [5]   \n",
       "2  [216805, 1969751, 2005770]               [9]   \n",
       "3  [603512, 1857496, 1917109]          [31, 32]   \n",
       "4          [2052375, 2057300]  [13, 15, 31, 32]   \n",
       "\n",
       "                                     name  parent_game  \\\n",
       "0  Panzer Corps 2: Axis Operations - 1943      27716.0   \n",
       "1                            Dogou Souken          NaN   \n",
       "2                          City Mysteries          NaN   \n",
       "3                Sword of the Black Stone          NaN   \n",
       "4           Bok-Bok: A Chicken Dating Sim          NaN   \n",
       "\n",
       "                                         screenshots  \\\n",
       "0  [798986, 798987, 798988, 798989, 798990, 79899...   \n",
       "1                                                NaN   \n",
       "2                           [155025, 155026, 155027]   \n",
       "3           [231528, 231529, 231530, 231531, 231532]   \n",
       "4           [463145, 463148, 463149, 463151, 463152]   \n",
       "\n",
       "                                       similar_games  \\\n",
       "0  [13196, 18623, 28244, 32510, 36258, 55036, 791...   \n",
       "1  [12364, 27270, 43367, 103281, 103292, 103298, ...   \n",
       "2  [10603, 19222, 25905, 41349, 86974, 87507, 885...   \n",
       "3  [25646, 29783, 68271, 80916, 96217, 105269, 10...   \n",
       "4  [25311, 26145, 28277, 33603, 51577, 65827, 791...   \n",
       "\n",
       "                                  slug  \\\n",
       "0  panzer-corps-2-axis-operations-1943   \n",
       "1                         dogou-souken   \n",
       "2                       city-mysteries   \n",
       "3             sword-of-the-black-stone   \n",
       "4         bok-bok-a-chicken-dating-sim   \n",
       "\n",
       "                                             summary  \\\n",
       "0  The critical hour where the fate of Germany on...   \n",
       "1                 An overhead-view shoot'em up game.   \n",
       "2  Search buildings, streets, landmarks as you se...   \n",
       "3  If your looking for action and adventure then ...   \n",
       "4  Have you ever pondered what the romantic life ...   \n",
       "\n",
       "                                           tags themes  updated_at  \\\n",
       "0                    [22, 268435471, 268435472]   [22]  1654096076   \n",
       "1                                   [268435461]    NaN  1604620800   \n",
       "2                                   [268435465]    NaN  1641425677   \n",
       "3                     [1, 268435487, 268435488]    [1]  1643857546   \n",
       "4  [268435469, 268435471, 268435487, 268435488]    NaN  1643850601   \n",
       "\n",
       "                                                 url   videos  \\\n",
       "0  https://www.igdb.com/games/panzer-corps-2-axis...  [68880]   \n",
       "1            https://www.igdb.com/games/dogou-souken      NaN   \n",
       "2          https://www.igdb.com/games/city-mysteries      NaN   \n",
       "3  https://www.igdb.com/games/sword-of-the-black-...      NaN   \n",
       "4  https://www.igdb.com/games/bok-bok-a-chicken-d...      NaN   \n",
       "\n",
       "           websites                              checksum  first_release_date  \\\n",
       "0  [285491, 286755]  2992a43b-4d59-7ab8-e500-71a352404759                 NaN   \n",
       "1               NaN  5e7446ff-58d9-e744-f0d3-5e10241304c1        5.364576e+08   \n",
       "2               NaN  87b342e7-b912-ca8d-4ffb-f91f9e4f1870        1.404346e+09   \n",
       "3           [84617]  0b575316-96dc-b056-86e0-c958c1c95efb        1.527120e+09   \n",
       "4          [192858]  9585e273-2606-970f-3088-60261ea77068                 NaN   \n",
       "\n",
       "  platforms release_dates age_ratings involved_companies game_modes  \\\n",
       "0       NaN           NaN         NaN                NaN        NaN   \n",
       "1      [52]       [91007]         NaN                NaN        NaN   \n",
       "2      [37]      [138333]     [37944]   [130531, 130532]        NaN   \n",
       "3       [6]      [188385]         NaN   [155850, 155852]        [1]   \n",
       "4       NaN           NaN         NaN                NaN        NaN   \n",
       "\n",
       "  player_perspectives alternative_names game_engines keywords  status  rating  \\\n",
       "0                 NaN               NaN          NaN      NaN     NaN     NaN   \n",
       "1                 NaN               NaN          NaN      NaN     NaN     NaN   \n",
       "2                 NaN               NaN          NaN      NaN     NaN     NaN   \n",
       "3                 [2]               NaN          NaN      NaN     NaN     NaN   \n",
       "4                 NaN           [63465]          NaN      NaN     NaN     NaN   \n",
       "\n",
       "   rating_count storyline  total_rating  total_rating_count  version_parent  \\\n",
       "0           NaN       NaN           NaN                 NaN             NaN   \n",
       "1           NaN       NaN           NaN                 NaN             NaN   \n",
       "2           NaN       NaN           NaN                 NaN             NaN   \n",
       "3           NaN       NaN           NaN                 NaN             NaN   \n",
       "4           NaN       NaN           NaN                 NaN             NaN   \n",
       "\n",
       "  version_title  hypes  collection franchises  follows bundles  franchise  \\\n",
       "0           NaN    NaN         NaN        NaN      NaN     NaN        NaN   \n",
       "1           NaN    NaN         NaN        NaN      NaN     NaN        NaN   \n",
       "2           NaN    NaN         NaN        NaN      NaN     NaN        NaN   \n",
       "3           NaN    NaN         NaN        NaN      NaN     NaN        NaN   \n",
       "4           NaN    NaN         NaN        NaN      NaN     NaN        NaN   \n",
       "\n",
       "   aggregated_rating  aggregated_rating_count multiplayer_modes dlcs ports  \\\n",
       "0                NaN                      NaN               NaN  NaN   NaN   \n",
       "1                NaN                      NaN               NaN  NaN   NaN   \n",
       "2                NaN                      NaN               NaN  NaN   NaN   \n",
       "3                NaN                      NaN               NaN  NaN   NaN   \n",
       "4                NaN                      NaN               NaN  NaN   NaN   \n",
       "\n",
       "  expansions remakes expanded_games remasters forks standalone_expansions  \n",
       "0        NaN     NaN            NaN       NaN   NaN                   NaN  \n",
       "1        NaN     NaN            NaN       NaN   NaN                   NaN  \n",
       "2        NaN     NaN            NaN       NaN   NaN                   NaN  \n",
       "3        NaN     NaN            NaN       NaN   NaN                   NaN  \n",
       "4        NaN     NaN            NaN       NaN   NaN                   NaN  "
      ]
     },
     "execution_count": 84,
     "metadata": {},
     "output_type": "execute_result"
    }
   ],
   "source": [
    "df.head()"
   ]
  },
  {
   "cell_type": "code",
   "execution_count": 81,
   "id": "dcb9aae3",
   "metadata": {},
   "outputs": [
    {
     "data": {
      "text/plain": [
       "{'1': 'single-player',\n",
       " '2': 'multiplayer',\n",
       " '3': 'co-operative',\n",
       " '4': 'split-screen',\n",
       " '5': 'massively-multiplayer-online-mmo',\n",
       " '6': 'battle-royale'}"
      ]
     },
     "execution_count": 81,
     "metadata": {},
     "output_type": "execute_result"
    }
   ],
   "source": [
    "mode_dict"
   ]
  },
  {
   "cell_type": "code",
   "execution_count": 83,
   "id": "95b37f53",
   "metadata": {},
   "outputs": [],
   "source": [
    "def test_funct (random_list):\n",
    "    new_list = [mode_dict[i] for i in random_list]\n",
    "    return new_list"
   ]
  },
  {
   "cell_type": "code",
   "execution_count": 85,
   "id": "f6ff4753",
   "metadata": {
    "scrolled": true
   },
   "outputs": [
    {
     "ename": "TypeError",
     "evalue": "'float' object is not iterable",
     "output_type": "error",
     "traceback": [
      "\u001b[0;31m---------------------------------------------------------------------------\u001b[0m",
      "\u001b[0;31mTypeError\u001b[0m                                 Traceback (most recent call last)",
      "Input \u001b[0;32mIn [85]\u001b[0m, in \u001b[0;36m<cell line: 1>\u001b[0;34m()\u001b[0m\n\u001b[0;32m----> 1\u001b[0m df[\u001b[38;5;124m'\u001b[39m\u001b[38;5;124mgame_modes\u001b[39m\u001b[38;5;124m'\u001b[39m] \u001b[38;5;241m=\u001b[39m pd\u001b[38;5;241m.\u001b[39mmerge(\u001b[43mdf\u001b[49m\u001b[38;5;241;43m.\u001b[39;49m\u001b[43mgame_modes\u001b[49m\u001b[38;5;241;43m.\u001b[39;49m\u001b[43mapply\u001b[49m\u001b[43m(\u001b[49m\u001b[43mtest_funct\u001b[49m\u001b[43m)\u001b[49m)\n",
      "File \u001b[0;32m/opt/homebrew/anaconda3/lib/python3.9/site-packages/pandas/core/series.py:4433\u001b[0m, in \u001b[0;36mSeries.apply\u001b[0;34m(self, func, convert_dtype, args, **kwargs)\u001b[0m\n\u001b[1;32m   4323\u001b[0m \u001b[38;5;28;01mdef\u001b[39;00m \u001b[38;5;21mapply\u001b[39m(\n\u001b[1;32m   4324\u001b[0m     \u001b[38;5;28mself\u001b[39m,\n\u001b[1;32m   4325\u001b[0m     func: AggFuncType,\n\u001b[0;32m   (...)\u001b[0m\n\u001b[1;32m   4328\u001b[0m     \u001b[38;5;241m*\u001b[39m\u001b[38;5;241m*\u001b[39mkwargs,\n\u001b[1;32m   4329\u001b[0m ) \u001b[38;5;241m-\u001b[39m\u001b[38;5;241m>\u001b[39m DataFrame \u001b[38;5;241m|\u001b[39m Series:\n\u001b[1;32m   4330\u001b[0m     \u001b[38;5;124;03m\"\"\"\u001b[39;00m\n\u001b[1;32m   4331\u001b[0m \u001b[38;5;124;03m    Invoke function on values of Series.\u001b[39;00m\n\u001b[1;32m   4332\u001b[0m \n\u001b[0;32m   (...)\u001b[0m\n\u001b[1;32m   4431\u001b[0m \u001b[38;5;124;03m    dtype: float64\u001b[39;00m\n\u001b[1;32m   4432\u001b[0m \u001b[38;5;124;03m    \"\"\"\u001b[39;00m\n\u001b[0;32m-> 4433\u001b[0m     \u001b[38;5;28;01mreturn\u001b[39;00m \u001b[43mSeriesApply\u001b[49m\u001b[43m(\u001b[49m\u001b[38;5;28;43mself\u001b[39;49m\u001b[43m,\u001b[49m\u001b[43m \u001b[49m\u001b[43mfunc\u001b[49m\u001b[43m,\u001b[49m\u001b[43m \u001b[49m\u001b[43mconvert_dtype\u001b[49m\u001b[43m,\u001b[49m\u001b[43m \u001b[49m\u001b[43margs\u001b[49m\u001b[43m,\u001b[49m\u001b[43m \u001b[49m\u001b[43mkwargs\u001b[49m\u001b[43m)\u001b[49m\u001b[38;5;241;43m.\u001b[39;49m\u001b[43mapply\u001b[49m\u001b[43m(\u001b[49m\u001b[43m)\u001b[49m\n",
      "File \u001b[0;32m/opt/homebrew/anaconda3/lib/python3.9/site-packages/pandas/core/apply.py:1082\u001b[0m, in \u001b[0;36mSeriesApply.apply\u001b[0;34m(self)\u001b[0m\n\u001b[1;32m   1078\u001b[0m \u001b[38;5;28;01mif\u001b[39;00m \u001b[38;5;28misinstance\u001b[39m(\u001b[38;5;28mself\u001b[39m\u001b[38;5;241m.\u001b[39mf, \u001b[38;5;28mstr\u001b[39m):\n\u001b[1;32m   1079\u001b[0m     \u001b[38;5;66;03m# if we are a string, try to dispatch\u001b[39;00m\n\u001b[1;32m   1080\u001b[0m     \u001b[38;5;28;01mreturn\u001b[39;00m \u001b[38;5;28mself\u001b[39m\u001b[38;5;241m.\u001b[39mapply_str()\n\u001b[0;32m-> 1082\u001b[0m \u001b[38;5;28;01mreturn\u001b[39;00m \u001b[38;5;28;43mself\u001b[39;49m\u001b[38;5;241;43m.\u001b[39;49m\u001b[43mapply_standard\u001b[49m\u001b[43m(\u001b[49m\u001b[43m)\u001b[49m\n",
      "File \u001b[0;32m/opt/homebrew/anaconda3/lib/python3.9/site-packages/pandas/core/apply.py:1137\u001b[0m, in \u001b[0;36mSeriesApply.apply_standard\u001b[0;34m(self)\u001b[0m\n\u001b[1;32m   1131\u001b[0m         values \u001b[38;5;241m=\u001b[39m obj\u001b[38;5;241m.\u001b[39mastype(\u001b[38;5;28mobject\u001b[39m)\u001b[38;5;241m.\u001b[39m_values\n\u001b[1;32m   1132\u001b[0m         \u001b[38;5;66;03m# error: Argument 2 to \"map_infer\" has incompatible type\u001b[39;00m\n\u001b[1;32m   1133\u001b[0m         \u001b[38;5;66;03m# \"Union[Callable[..., Any], str, List[Union[Callable[..., Any], str]],\u001b[39;00m\n\u001b[1;32m   1134\u001b[0m         \u001b[38;5;66;03m# Dict[Hashable, Union[Union[Callable[..., Any], str],\u001b[39;00m\n\u001b[1;32m   1135\u001b[0m         \u001b[38;5;66;03m# List[Union[Callable[..., Any], str]]]]]\"; expected\u001b[39;00m\n\u001b[1;32m   1136\u001b[0m         \u001b[38;5;66;03m# \"Callable[[Any], Any]\"\u001b[39;00m\n\u001b[0;32m-> 1137\u001b[0m         mapped \u001b[38;5;241m=\u001b[39m \u001b[43mlib\u001b[49m\u001b[38;5;241;43m.\u001b[39;49m\u001b[43mmap_infer\u001b[49m\u001b[43m(\u001b[49m\n\u001b[1;32m   1138\u001b[0m \u001b[43m            \u001b[49m\u001b[43mvalues\u001b[49m\u001b[43m,\u001b[49m\n\u001b[1;32m   1139\u001b[0m \u001b[43m            \u001b[49m\u001b[43mf\u001b[49m\u001b[43m,\u001b[49m\u001b[43m  \u001b[49m\u001b[38;5;66;43;03m# type: ignore[arg-type]\u001b[39;49;00m\n\u001b[1;32m   1140\u001b[0m \u001b[43m            \u001b[49m\u001b[43mconvert\u001b[49m\u001b[38;5;241;43m=\u001b[39;49m\u001b[38;5;28;43mself\u001b[39;49m\u001b[38;5;241;43m.\u001b[39;49m\u001b[43mconvert_dtype\u001b[49m\u001b[43m,\u001b[49m\n\u001b[1;32m   1141\u001b[0m \u001b[43m        \u001b[49m\u001b[43m)\u001b[49m\n\u001b[1;32m   1143\u001b[0m \u001b[38;5;28;01mif\u001b[39;00m \u001b[38;5;28mlen\u001b[39m(mapped) \u001b[38;5;129;01mand\u001b[39;00m \u001b[38;5;28misinstance\u001b[39m(mapped[\u001b[38;5;241m0\u001b[39m], ABCSeries):\n\u001b[1;32m   1144\u001b[0m     \u001b[38;5;66;03m# GH#43986 Need to do list(mapped) in order to get treated as nested\u001b[39;00m\n\u001b[1;32m   1145\u001b[0m     \u001b[38;5;66;03m#  See also GH#25959 regarding EA support\u001b[39;00m\n\u001b[1;32m   1146\u001b[0m     \u001b[38;5;28;01mreturn\u001b[39;00m obj\u001b[38;5;241m.\u001b[39m_constructor_expanddim(\u001b[38;5;28mlist\u001b[39m(mapped), index\u001b[38;5;241m=\u001b[39mobj\u001b[38;5;241m.\u001b[39mindex)\n",
      "File \u001b[0;32m/opt/homebrew/anaconda3/lib/python3.9/site-packages/pandas/_libs/lib.pyx:2870\u001b[0m, in \u001b[0;36mpandas._libs.lib.map_infer\u001b[0;34m()\u001b[0m\n",
      "Input \u001b[0;32mIn [83]\u001b[0m, in \u001b[0;36mtest_funct\u001b[0;34m(random_list)\u001b[0m\n\u001b[1;32m      1\u001b[0m \u001b[38;5;28;01mdef\u001b[39;00m \u001b[38;5;21mtest_funct\u001b[39m (random_list):\n\u001b[0;32m----> 2\u001b[0m     new_list \u001b[38;5;241m=\u001b[39m [mode_dict[i] \u001b[38;5;28;01mfor\u001b[39;00m i \u001b[38;5;129;01min\u001b[39;00m random_list]\n\u001b[1;32m      3\u001b[0m     \u001b[38;5;28;01mreturn\u001b[39;00m new_list\n",
      "\u001b[0;31mTypeError\u001b[0m: 'float' object is not iterable"
     ]
    }
   ],
   "source": [
    "df['game_modes'] = pd.merge(df.game_modes.apply(test_funct))"
   ]
  },
  {
   "cell_type": "code",
   "execution_count": null,
   "id": "d35ed818",
   "metadata": {},
   "outputs": [],
   "source": []
  },
  {
   "cell_type": "markdown",
   "id": "c4d2aafc",
   "metadata": {},
   "source": [
    "# game_version"
   ]
  },
  {
   "cell_type": "code",
   "execution_count": null,
   "id": "69e498a0",
   "metadata": {},
   "outputs": [],
   "source": [
    "headers = {'Client-ID': f'{Client_ID}', 'Authorization': f'Bearer {access_token}'}\n",
    "data = 'fields *; limit 500;'\n",
    "r = requests.post('https://api.igdb.com/v4/game_versions' ,data=data ,  headers=headers)\n"
   ]
  },
  {
   "cell_type": "code",
   "execution_count": null,
   "id": "99e8eaa0",
   "metadata": {},
   "outputs": [],
   "source": [
    "game_versions = wrapper.api_request('game_versions', 'fields *;limit 500;')"
   ]
  },
  {
   "cell_type": "code",
   "execution_count": null,
   "id": "6602ae15",
   "metadata": {},
   "outputs": [],
   "source": [
    "x = json.loads(game_versions)"
   ]
  },
  {
   "cell_type": "code",
   "execution_count": null,
   "id": "af7d31b7",
   "metadata": {},
   "outputs": [],
   "source": [
    "game_versions =pd.DataFrame(x)"
   ]
  },
  {
   "cell_type": "code",
   "execution_count": null,
   "id": "35ddabdf",
   "metadata": {
    "scrolled": false
   },
   "outputs": [],
   "source": [
    "game_versions"
   ]
  },
  {
   "cell_type": "markdown",
   "id": "a3f4207b",
   "metadata": {},
   "source": [
    "> ## the function "
   ]
  },
  {
   "cell_type": "code",
   "execution_count": null,
   "id": "96106599",
   "metadata": {},
   "outputs": [],
   "source": [
    "def get_game_version():\n",
    "    headers = {'Client-ID': f'{Client_ID}', 'Authorization': f'Bearer {access_token}'}\n",
    "    data = 'fields *; limit 500;'\n",
    "    r = requests.post('https://api.igdb.com/v4/game_versions' ,data=data ,  headers=headers)\n",
    "    game_versions = wrapper.api_request('game_versions', 'fields *;limit 500;')\n",
    "    x = json.loads(game_versions)\n",
    "    game_versions =pd.DataFrame(x)\n",
    "    return game_version"
   ]
  },
  {
   "cell_type": "markdown",
   "id": "97dab921",
   "metadata": {},
   "source": [
    "# game_version_features"
   ]
  },
  {
   "cell_type": "code",
   "execution_count": null,
   "id": "849a5a90",
   "metadata": {},
   "outputs": [],
   "source": [
    "headers = {'Client-ID': f'{Client_ID}', 'Authorization': f'Bearer {access_token}'}\n",
    "data = 'fields *; limit 500;'\n",
    "r = requests.post('https://api.igdb.com/v4/game_version_features' ,data=data ,  headers=headers)\n"
   ]
  },
  {
   "cell_type": "code",
   "execution_count": null,
   "id": "52cec8b8",
   "metadata": {},
   "outputs": [],
   "source": [
    "game_version_features = wrapper.api_request('game_version_features', 'fields *;limit 500;')"
   ]
  },
  {
   "cell_type": "code",
   "execution_count": null,
   "id": "10962945",
   "metadata": {},
   "outputs": [],
   "source": [
    "x = json.loads(game_version_features)"
   ]
  },
  {
   "cell_type": "code",
   "execution_count": null,
   "id": "e768d53b",
   "metadata": {},
   "outputs": [],
   "source": [
    "game_versions_features =pd.DataFrame(x)"
   ]
  },
  {
   "cell_type": "code",
   "execution_count": null,
   "id": "0a2ec0a6",
   "metadata": {
    "scrolled": false
   },
   "outputs": [],
   "source": [
    "game_versions_features"
   ]
  },
  {
   "cell_type": "markdown",
   "id": "9c3dff88",
   "metadata": {},
   "source": [
    "> ## the function "
   ]
  },
  {
   "cell_type": "code",
   "execution_count": null,
   "id": "23a26256",
   "metadata": {},
   "outputs": [],
   "source": [
    "def get_game_v_features():\n",
    "    headers = {'Client-ID': f'{Client_ID}', 'Authorization': f'Bearer {access_token}'}\n",
    "    data = 'fields *; limit 500;'\n",
    "    r = requests.post('https://api.igdb.com/v4/game_version_features' ,data=data ,  headers=headers)\n",
    "    game_version_features = wrapper.api_request('game_version_features', 'fields *;limit 500;')\n",
    "    x = json.loads(game_version_features)\n",
    "    game_versions_features =pd.DataFrame(x)\n",
    "    return game_versions_features"
   ]
  },
  {
   "cell_type": "markdown",
   "id": "eaa983da",
   "metadata": {},
   "source": [
    "# game_version_feature_values"
   ]
  },
  {
   "cell_type": "code",
   "execution_count": null,
   "id": "978b2379",
   "metadata": {},
   "outputs": [],
   "source": [
    "headers = {'Client-ID': f'{Client_ID}', 'Authorization': f'Bearer {access_token}'}\n",
    "data = 'fields *; limit 500;'\n",
    "r = requests.post('https://api.igdb.com/v4/game_version_feature_values' ,data=data ,  headers=headers)\n"
   ]
  },
  {
   "cell_type": "code",
   "execution_count": null,
   "id": "bcca86ef",
   "metadata": {},
   "outputs": [],
   "source": [
    "game_version_feature_values = wrapper.api_request('game_version_feature_values', 'fields *;limit 500;')"
   ]
  },
  {
   "cell_type": "code",
   "execution_count": null,
   "id": "65fa99f0",
   "metadata": {},
   "outputs": [],
   "source": [
    "x = json.loads(game_version_feature_values)"
   ]
  },
  {
   "cell_type": "code",
   "execution_count": null,
   "id": "f94ec74c",
   "metadata": {},
   "outputs": [],
   "source": [
    "game_versions_feature_values =pd.DataFrame(x)"
   ]
  },
  {
   "cell_type": "code",
   "execution_count": null,
   "id": "a6807f25",
   "metadata": {
    "scrolled": true
   },
   "outputs": [],
   "source": [
    "game_versions_feature_values"
   ]
  },
  {
   "cell_type": "markdown",
   "id": "a1cc3c1b",
   "metadata": {},
   "source": [
    "> ## the function "
   ]
  },
  {
   "cell_type": "code",
   "execution_count": null,
   "id": "1de3813d",
   "metadata": {},
   "outputs": [],
   "source": [
    "def get_version_features_values():\n",
    "    headers = {'Client-ID': f'{Client_ID}', 'Authorization': f'Bearer {access_token}'}\n",
    "    data = 'fields *; limit 500;'\n",
    "    r = requests.post('https://api.igdb.com/v4/game_version_feature_values' ,data=data ,  headers=headers)\n",
    "    game_version_feature_values = wrapper.api_request('game_version_feature_values', 'fields *;limit 500;')\n",
    "    x = json.loads(game_version_feature_values)\n",
    "    game_versions_feature_values =pd.DataFrame(x)\n",
    "    return game_versions_feature_values"
   ]
  },
  {
   "cell_type": "code",
   "execution_count": null,
   "id": "df1d0dcb",
   "metadata": {},
   "outputs": [],
   "source": []
  },
  {
   "cell_type": "markdown",
   "id": "077d6e33",
   "metadata": {},
   "source": [
    "# compayn"
   ]
  },
  {
   "cell_type": "code",
   "execution_count": null,
   "id": "53bca20d",
   "metadata": {},
   "outputs": [],
   "source": [
    "headers = {'Client-ID': f'{Client_ID}', 'Authorization': f'Bearer {access_token}'}\n",
    "data = 'fields *; limit 500;'\n",
    "r = requests.post('https://api.igdb.com/v4/companies' ,data=data ,  headers=headers)"
   ]
  },
  {
   "cell_type": "code",
   "execution_count": null,
   "id": "f1113251",
   "metadata": {},
   "outputs": [],
   "source": [
    "companies = wrapper.api_request('companies', 'fields *;limit 500;')"
   ]
  },
  {
   "cell_type": "code",
   "execution_count": null,
   "id": "56243604",
   "metadata": {},
   "outputs": [],
   "source": [
    "x = json.loads(companies)"
   ]
  },
  {
   "cell_type": "code",
   "execution_count": null,
   "id": "2136fada",
   "metadata": {},
   "outputs": [],
   "source": [
    "companies =pd.DataFrame(x)"
   ]
  },
  {
   "cell_type": "code",
   "execution_count": null,
   "id": "16f19d02",
   "metadata": {
    "scrolled": true
   },
   "outputs": [],
   "source": [
    "companies"
   ]
  },
  {
   "cell_type": "markdown",
   "id": "152f81b9",
   "metadata": {},
   "source": [
    "> the function "
   ]
  },
  {
   "cell_type": "code",
   "execution_count": null,
   "id": "13645e39",
   "metadata": {},
   "outputs": [],
   "source": [
    "def get_company():\n",
    "    headers = {'Client-ID': f'{Client_ID}', 'Authorization': f'Bearer {access_token}'}\n",
    "    data = 'fields *; limit 500;'\n",
    "    r = requests.post('https://api.igdb.com/v4/companies' ,data=data ,  headers=headers)\n",
    "    companies = wrapper.api_request('companies', 'fields *;limit 500;')\n",
    "    x = json.loads(companies)\n",
    "    companies =pd.DataFrame(x)\n",
    "    return companies"
   ]
  },
  {
   "cell_type": "markdown",
   "id": "bd5421b4",
   "metadata": {},
   "source": [
    "> the wrapper function "
   ]
  },
  {
   "cell_type": "code",
   "execution_count": null,
   "id": "a34803dc",
   "metadata": {},
   "outputs": [],
   "source": [
    "def get_companies(wrapper):\n",
    "    get_companies= pd.DataFrame()\n",
    "    for i in range (0, 409):\n",
    "        company = wrapper.api_request('companies', 'fields *; limit 500;' f'offset {i * 500};')\n",
    "        y = json.loads(company)\n",
    "        results_df =pd.DataFrame(y)\n",
    "        get_companies = pd.concat([get_companies, results_df])\n",
    "    return get_companies"
   ]
  },
  {
   "cell_type": "code",
   "execution_count": null,
   "id": "af95b8aa",
   "metadata": {},
   "outputs": [],
   "source": [
    "get_companies(wrapper)"
   ]
  },
  {
   "cell_type": "code",
   "execution_count": null,
   "id": "4e31aa4f",
   "metadata": {},
   "outputs": [],
   "source": []
  },
  {
   "cell_type": "code",
   "execution_count": null,
   "id": "d959447a",
   "metadata": {},
   "outputs": [],
   "source": []
  },
  {
   "cell_type": "markdown",
   "id": "e46effdb",
   "metadata": {},
   "source": [
    "# involved_companies "
   ]
  },
  {
   "cell_type": "code",
   "execution_count": null,
   "id": "3e5fdf6e",
   "metadata": {},
   "outputs": [],
   "source": [
    "headers = {'Client-ID': f'{Client_ID}', 'Authorization': f'Bearer {access_token}'}\n",
    "data = 'fields *; limit 500;'\n",
    "r = requests.post('https://api.igdb.com/v4/involved_companies' ,data=data ,  headers=headers)"
   ]
  },
  {
   "cell_type": "code",
   "execution_count": null,
   "id": "8fc19bb0",
   "metadata": {},
   "outputs": [],
   "source": [
    "involved_companies = wrapper.api_request('involved_companies', 'fields *;limit 500;')"
   ]
  },
  {
   "cell_type": "code",
   "execution_count": null,
   "id": "7aa42e14",
   "metadata": {},
   "outputs": [],
   "source": [
    "x = json.loads(involved_companies)"
   ]
  },
  {
   "cell_type": "code",
   "execution_count": null,
   "id": "3d0373db",
   "metadata": {
    "scrolled": true
   },
   "outputs": [],
   "source": [
    "involved_companies"
   ]
  },
  {
   "cell_type": "markdown",
   "id": "32e5b878",
   "metadata": {},
   "source": [
    "> the function "
   ]
  },
  {
   "cell_type": "code",
   "execution_count": null,
   "id": "3a60d2d3",
   "metadata": {},
   "outputs": [],
   "source": [
    "def get_inv_companies():\n",
    "    headers = {'Client-ID': f'{Client_ID}', 'Authorization': f'Bearer {access_token}'}\n",
    "    data = 'fields *; limit 500;'\n",
    "    r = requests.post('https://api.igdb.com/v4/involved_companies' ,data=data ,  headers=headers)\n",
    "    involved_companies = wrapper.api_request('involved_companies', 'fields *;limit 500;')\n",
    "    x = json.loads(involved_companies)\n",
    "    return involved_companies"
   ]
  },
  {
   "cell_type": "markdown",
   "id": "f09067fa",
   "metadata": {},
   "source": [
    "> the wrapper function "
   ]
  },
  {
   "cell_type": "code",
   "execution_count": null,
   "id": "5ab49339",
   "metadata": {},
   "outputs": [],
   "source": [
    "def inv_companies(wrapper):\n",
    "    inv_companies= pd.DataFrame()\n",
    "    for i in range (0, 409):\n",
    "        i_company = wrapper.api_request('companies', 'fields *; limit 500;' f'offset {i * 500};')\n",
    "        y = json.loads(i_company)\n",
    "        results_df =pd.DataFrame(y)\n",
    "        inv_companies = pd.concat([get_companies, results_df])\n",
    "    return get_companies"
   ]
  },
  {
   "cell_type": "code",
   "execution_count": null,
   "id": "ab5c283f",
   "metadata": {},
   "outputs": [],
   "source": []
  },
  {
   "cell_type": "code",
   "execution_count": null,
   "id": "e9654771",
   "metadata": {},
   "outputs": [],
   "source": []
  },
  {
   "cell_type": "code",
   "execution_count": null,
   "id": "161100cf",
   "metadata": {},
   "outputs": [],
   "source": []
  },
  {
   "cell_type": "markdown",
   "id": "11623316",
   "metadata": {},
   "source": [
    "# multi_player_mode"
   ]
  },
  {
   "cell_type": "code",
   "execution_count": null,
   "id": "c7fa7dda",
   "metadata": {},
   "outputs": [],
   "source": [
    "headers = {'Client-ID': f'{Client_ID}', 'Authorization': f'Bearer {access_token}'}\n",
    "data = 'fields *; limit 500;'\n",
    "r = requests.post('https://api.igdb.com/v4/multiplayer_modes' ,data=data ,  headers=headers)"
   ]
  },
  {
   "cell_type": "code",
   "execution_count": null,
   "id": "08b9de72",
   "metadata": {},
   "outputs": [],
   "source": [
    "multiplayer_modes = wrapper.api_request('multiplayer_modes', 'fields *;limit 500;')"
   ]
  },
  {
   "cell_type": "code",
   "execution_count": null,
   "id": "bd1a1332",
   "metadata": {},
   "outputs": [],
   "source": [
    "x = json.loads(multiplayer_modes)"
   ]
  },
  {
   "cell_type": "code",
   "execution_count": null,
   "id": "90a097cb",
   "metadata": {},
   "outputs": [],
   "source": [
    "multiplayer_modes =pd.DataFrame(x)"
   ]
  },
  {
   "cell_type": "code",
   "execution_count": null,
   "id": "fc27e895",
   "metadata": {
    "scrolled": false
   },
   "outputs": [],
   "source": [
    "multiplayer_modes"
   ]
  },
  {
   "cell_type": "markdown",
   "id": "8dad8986",
   "metadata": {},
   "source": [
    "> the function "
   ]
  },
  {
   "cell_type": "code",
   "execution_count": null,
   "id": "3e38482b",
   "metadata": {},
   "outputs": [],
   "source": [
    "def multi_player_mode():\n",
    "    headers = {'Client-ID': f'{Client_ID}', 'Authorization': f'Bearer {access_token}'}\n",
    "    data = 'fields *; limit 500;'\n",
    "    r = requests.post('https://api.igdb.com/v4/multiplayer_modes' ,data=data ,  headers=headers)\n",
    "    multiplayer_modes = wrapper.api_request('multiplayer_modes', 'fields *;limit 500;')\n",
    "    x = json.loads(multiplayer_modes)\n",
    "    multiplayer_modes =pd.DataFrame(x)\n",
    "    return multiplayer_modes"
   ]
  },
  {
   "cell_type": "code",
   "execution_count": null,
   "id": "1569b54c",
   "metadata": {},
   "outputs": [],
   "source": []
  },
  {
   "cell_type": "code",
   "execution_count": null,
   "id": "7f629453",
   "metadata": {},
   "outputs": [],
   "source": []
  },
  {
   "cell_type": "code",
   "execution_count": null,
   "id": "c967c668",
   "metadata": {},
   "outputs": [],
   "source": []
  },
  {
   "cell_type": "markdown",
   "id": "2e468192",
   "metadata": {},
   "source": [
    "# this is random code from aquire"
   ]
  },
  {
   "cell_type": "code",
   "execution_count": null,
   "id": "096d90c5",
   "metadata": {},
   "outputs": [],
   "source": [
    "#connect_api()"
   ]
  },
  {
   "cell_type": "code",
   "execution_count": null,
   "id": "bb42027a",
   "metadata": {},
   "outputs": [],
   "source": [
    "#access_token, r = get_api()"
   ]
  },
  {
   "cell_type": "code",
   "execution_count": null,
   "id": "6c49b599",
   "metadata": {},
   "outputs": [],
   "source": [
    "# def get_games(access_token, Client_ID):\n",
    "    \n",
    "#     testgames = []\n",
    "    \n",
    "#     headers = {'Client-ID': f'{Client_ID}', 'Authorization': f'Bearer {access_token}'}\n",
    "#     data = 'fields *; limit 500;'\n",
    "#     r = requests.post('https://api.igdb.com/v4/games', data=data, headers=headers)\n",
    "#     wrapper = IGDBWrapper(f'{Client_ID}', f'Bearer {access_token}')\n",
    "    \n",
    "    \n",
    "#     for i in range(0, 409):\n",
    "#         games = wrapper.api_request('games', 'fields *; limit 500;' f'offset {i * 409};')\n",
    "#         testgames.append(games)\n",
    "    \n",
    "#     return testgames "
   ]
  },
  {
   "cell_type": "code",
   "execution_count": null,
   "id": "a690b76d",
   "metadata": {
    "scrolled": true
   },
   "outputs": [],
   "source": [
    "testgames = get_games(access_token, Client_ID)"
   ]
  },
  {
   "cell_type": "code",
   "execution_count": null,
   "id": "aa43c354",
   "metadata": {
    "scrolled": true
   },
   "outputs": [],
   "source": [
    "testgames "
   ]
  },
  {
   "cell_type": "code",
   "execution_count": null,
   "id": "5ed1ce60",
   "metadata": {},
   "outputs": [],
   "source": [
    "#access_token"
   ]
  },
  {
   "cell_type": "code",
   "execution_count": null,
   "id": "c9a30c0c",
   "metadata": {},
   "outputs": [],
   "source": [
    "wrapper = IGDBWrapper(f'{Client_ID}', f'Bearer {access_token}')"
   ]
  },
  {
   "cell_type": "code",
   "execution_count": null,
   "id": "0b208647",
   "metadata": {},
   "outputs": [],
   "source": [
    "testgames = []\n",
    "for i in range(0, 409):\n",
    "    games = wrapper.api_request('games', 'fields *; limit 500;' f'offset {i * 409};')\n",
    "    testgames.append(games)"
   ]
  },
  {
   "cell_type": "code",
   "execution_count": null,
   "id": "d9e8687b",
   "metadata": {},
   "outputs": [],
   "source": []
  },
  {
   "cell_type": "code",
   "execution_count": null,
   "id": "581baee5",
   "metadata": {},
   "outputs": [],
   "source": [
    "url = env.get_db_url()\n",
    "response = requests.post(url)\n",
    "data = response.json()\n",
    "access_token = data['access_token']"
   ]
  },
  {
   "cell_type": "code",
   "execution_count": null,
   "id": "01016b27",
   "metadata": {},
   "outputs": [],
   "source": [
    "#access_token "
   ]
  },
  {
   "cell_type": "code",
   "execution_count": null,
   "id": "a1eb7c74",
   "metadata": {},
   "outputs": [],
   "source": [
    "headers = {'Client-ID': f'{Client_ID}', 'Authorization': f'Bearer {access_token}'}\n",
    "data = 'fields *; limit 500;'\n",
    "r = requests.post('https://api.igdb.com/v4/games/', data=data, headers=headers)\n",
    "wrapper = IGDBWrapper(env.Client_ID, \"***\")"
   ]
  },
  {
   "cell_type": "code",
   "execution_count": null,
   "id": "cdfd0075",
   "metadata": {},
   "outputs": [],
   "source": [
    "testgames = []\n",
    "for i in range(0, 409):\n",
    "    games = wrapper.api_request('games', 'fields *; limit 500;' f'offset {i * 409};')\n",
    "    testgames.append(games)"
   ]
  },
  {
   "cell_type": "code",
   "execution_count": null,
   "id": "01424157",
   "metadata": {},
   "outputs": [],
   "source": [
    "wrapper = IGDBWrapper(env.Client_ID, \"**\")"
   ]
  },
  {
   "cell_type": "code",
   "execution_count": null,
   "id": "74564ef5",
   "metadata": {},
   "outputs": [],
   "source": []
  },
  {
   "cell_type": "code",
   "execution_count": null,
   "id": "a40bec97",
   "metadata": {},
   "outputs": [],
   "source": [
    "url = 'https://api.igdb.com/v4/age_ratings'\n",
    "headers = {'Client-ID': f'{Client_ID}', 'Authorization': f'Bearer {access_token}'}\n",
    "data = 'category,checksum,content_descriptions,rating,rating_cover_url,synopsis;'\n",
    "response = requests.post(url, headers=headers, data = data)\n"
   ]
  },
  {
   "cell_type": "code",
   "execution_count": null,
   "id": "5634eb7c",
   "metadata": {},
   "outputs": [],
   "source": []
  },
  {
   "cell_type": "code",
   "execution_count": null,
   "id": "d5db64ce",
   "metadata": {},
   "outputs": [],
   "source": []
  },
  {
   "cell_type": "code",
   "execution_count": null,
   "id": "f7a49b6a",
   "metadata": {},
   "outputs": [],
   "source": []
  },
  {
   "cell_type": "code",
   "execution_count": null,
   "id": "4ebdc6a5",
   "metadata": {
    "scrolled": false
   },
   "outputs": [],
   "source": [
    "data = response.json()\n",
    "print(type(data))\n",
    "data\n"
   ]
  },
  {
   "cell_type": "code",
   "execution_count": null,
   "id": "9e588931",
   "metadata": {
    "scrolled": true
   },
   "outputs": [],
   "source": [
    "\n",
    "#print(response.text[17:48])"
   ]
  },
  {
   "cell_type": "code",
   "execution_count": null,
   "id": "2bf76d34",
   "metadata": {},
   "outputs": [],
   "source": [
    "access_token = data['access_token']"
   ]
  },
  {
   "cell_type": "code",
   "execution_count": null,
   "id": "bde2fa47",
   "metadata": {},
   "outputs": [],
   "source": [
    "#access_token"
   ]
  },
  {
   "cell_type": "code",
   "execution_count": null,
   "id": "205659a5",
   "metadata": {
    "scrolled": true
   },
   "outputs": [],
   "source": [
    "print(r.text[:5000])"
   ]
  },
  {
   "cell_type": "code",
   "execution_count": null,
   "id": "77c3bc65",
   "metadata": {
    "scrolled": true
   },
   "outputs": [],
   "source": [
    "r.text"
   ]
  },
  {
   "cell_type": "code",
   "execution_count": null,
   "id": "e6ab8595",
   "metadata": {},
   "outputs": [],
   "source": [
    "# Make a soup variable holding the response content\n",
    "soup = BeautifulSoup(r.content, 'html.parser')"
   ]
  },
  {
   "cell_type": "code",
   "execution_count": null,
   "id": "4bf7cdac",
   "metadata": {},
   "outputs": [],
   "source": [
    "games2 = r.json()"
   ]
  },
  {
   "cell_type": "code",
   "execution_count": null,
   "id": "23100383",
   "metadata": {
    "scrolled": true
   },
   "outputs": [],
   "source": [
    "games2"
   ]
  },
  {
   "cell_type": "code",
   "execution_count": null,
   "id": "76279826",
   "metadata": {},
   "outputs": [],
   "source": [
    "games = pd.DataFrame(r.json())"
   ]
  },
  {
   "cell_type": "code",
   "execution_count": null,
   "id": "bdab90a8",
   "metadata": {
    "scrolled": true
   },
   "outputs": [],
   "source": [
    "games.head()"
   ]
  },
  {
   "cell_type": "code",
   "execution_count": null,
   "id": "6bf63d87",
   "metadata": {},
   "outputs": [],
   "source": []
  },
  {
   "cell_type": "code",
   "execution_count": null,
   "id": "20619325",
   "metadata": {},
   "outputs": [],
   "source": []
  },
  {
   "cell_type": "code",
   "execution_count": null,
   "id": "6d6510db",
   "metadata": {},
   "outputs": [],
   "source": [
    "headers = {'Client-ID': f'{Client_ID}', 'Authorization': f'Bearer {}'}\n",
    "data = 'fields *; limit 500; offset 500;'\n",
    "r2 = requests.post('https://api.igdb.com/v4/games/',data = data ,  headers=headers)"
   ]
  },
  {
   "cell_type": "code",
   "execution_count": null,
   "id": "1f54bbc7",
   "metadata": {},
   "outputs": [],
   "source": [
    "r2.text"
   ]
  },
  {
   "cell_type": "code",
   "execution_count": null,
   "id": "21eb188a",
   "metadata": {},
   "outputs": [],
   "source": [
    "games2 = pd.DataFrame(r2.json())"
   ]
  },
  {
   "cell_type": "code",
   "execution_count": null,
   "id": "e3db804f",
   "metadata": {},
   "outputs": [],
   "source": [
    "games2.head()"
   ]
  },
  {
   "cell_type": "code",
   "execution_count": null,
   "id": "bad92137",
   "metadata": {},
   "outputs": [],
   "source": [
    "for i in range(0, 800):\n",
    "    wrapper.api_request('games','fields *; limit 500;' f'offset {i * 500};')"
   ]
  },
  {
   "cell_type": "code",
   "execution_count": null,
   "id": "be2fe836",
   "metadata": {},
   "outputs": [],
   "source": []
  },
  {
   "cell_type": "code",
   "execution_count": null,
   "id": "c6d4a15c",
   "metadata": {},
   "outputs": [],
   "source": [
    "testgames = []\n",
    "for i in range(0, 500):\n",
    "    games = wrapper.api_request('games', 'fields *; limit 500;' f'offset {i * 500};')\n",
    "    testgames.append(games)"
   ]
  },
  {
   "cell_type": "code",
   "execution_count": null,
   "id": "78a22635",
   "metadata": {
    "scrolled": true
   },
   "outputs": [],
   "source": [
    "testgames[2]"
   ]
  },
  {
   "cell_type": "code",
   "execution_count": null,
   "id": "2975f74a",
   "metadata": {},
   "outputs": [],
   "source": [
    "pd.DataFrame(testgames)"
   ]
  },
  {
   "cell_type": "code",
   "execution_count": null,
   "id": "67f82b72",
   "metadata": {},
   "outputs": [],
   "source": [
    "for offset in range(0, 500):\n",
    "    url = 'https://api.igdb.com/v4/games/' +str(offset)\n",
    "    data = 'fields *; limit 500; offset 500;' \n",
    "    response = requests.get(url=url, headers=headers, data = data)        \n",
    "    all_items.append(response)       \n",
    "    offset = offset * 500\n",
    "    \n",
    "    print(offset)"
   ]
  },
  {
   "cell_type": "code",
   "execution_count": null,
   "id": "69d3ae12",
   "metadata": {},
   "outputs": [],
   "source": []
  },
  {
   "cell_type": "code",
   "execution_count": null,
   "id": "b9c2708b",
   "metadata": {},
   "outputs": [],
   "source": [
    "# pip install igdb-api-v4\n"
   ]
  },
  {
   "cell_type": "code",
   "execution_count": null,
   "id": "ccd90680",
   "metadata": {},
   "outputs": [],
   "source": [
    "wrapper = IGDBWrapper(env.Client_ID, \"\")"
   ]
  },
  {
   "cell_type": "code",
   "execution_count": null,
   "id": "ca72b182",
   "metadata": {},
   "outputs": [],
   "source": [
    "'''With a wrapper instance already created'''\n",
    "# JSON API request\n",
    "byte_array = wrapper.api_request(\n",
    "            'games',\n",
    "            'fields *; limit 500;'\n",
    "          )\n",
    "# parse into JSON however you like...\n",
    "\n",
    "# Protobuf API request\n",
    "from igdb.igdbapi_pb2 import GameResult\n",
    "byte_array = wrapper.api_request(\n",
    "            'games.pb', # Note the '.pb' suffix at the endpoint\n",
    "            'fields *; limit 500;'\n",
    "          )\n",
    "games_message = GameResult()\n",
    "games_message.ParseFromString(byte_array)# Fills the protobuf message object with the response"
   ]
  },
  {
   "cell_type": "code",
   "execution_count": null,
   "id": "a7c8b284",
   "metadata": {
    "scrolled": true
   },
   "outputs": [],
   "source": [
    "games_message"
   ]
  },
  {
   "cell_type": "code",
   "execution_count": null,
   "id": "1e06be72",
   "metadata": {
    "scrolled": true
   },
   "outputs": [],
   "source": [
    "#y = json.loads(games_message)"
   ]
  },
  {
   "cell_type": "code",
   "execution_count": null,
   "id": "c61ad5b6",
   "metadata": {},
   "outputs": [],
   "source": [
    "byte_array = wrapper.api_request(\n",
    "            'games',\n",
    "            'fields *; limit 500;'\n",
    "          )"
   ]
  },
  {
   "cell_type": "code",
   "execution_count": null,
   "id": "69ec48ad",
   "metadata": {},
   "outputs": [],
   "source": [
    "import json\n",
    "y = json.loads(byte_array)"
   ]
  },
  {
   "cell_type": "code",
   "execution_count": null,
   "id": "18814ed0",
   "metadata": {},
   "outputs": [],
   "source": [
    "pd.DataFrame(y)"
   ]
  },
  {
   "cell_type": "code",
   "execution_count": null,
   "id": "43525b1e",
   "metadata": {
    "scrolled": true
   },
   "outputs": [],
   "source": [
    "# lists the column names\n",
    "pd.DataFrame(y).columns"
   ]
  },
  {
   "cell_type": "code",
   "execution_count": null,
   "id": "55bc6137",
   "metadata": {},
   "outputs": [],
   "source": []
  },
  {
   "cell_type": "markdown",
   "id": "5605af7e",
   "metadata": {},
   "source": [
    "# Prepare"
   ]
  },
  {
   "cell_type": "code",
   "execution_count": null,
   "id": "93501b80",
   "metadata": {},
   "outputs": [],
   "source": [
    "df = pd.read_csv('games.csv', index_col='Unnamed: 0')"
   ]
  },
  {
   "cell_type": "code",
   "execution_count": null,
   "id": "350b9391",
   "metadata": {},
   "outputs": [],
   "source": [
    "df.head()"
   ]
  },
  {
   "cell_type": "code",
   "execution_count": null,
   "id": "a071f836",
   "metadata": {},
   "outputs": [],
   "source": [
    "df.info()"
   ]
  },
  {
   "cell_type": "code",
   "execution_count": null,
   "id": "8c465dc0",
   "metadata": {},
   "outputs": [],
   "source": [
    "df.id.value_counts()"
   ]
  },
  {
   "cell_type": "code",
   "execution_count": null,
   "id": "23fbdd1e",
   "metadata": {},
   "outputs": [],
   "source": [
    "df.rating.value_counts()"
   ]
  },
  {
   "cell_type": "code",
   "execution_count": null,
   "id": "85e13176",
   "metadata": {},
   "outputs": [],
   "source": [
    "df.aggregated_rating.notnull()"
   ]
  },
  {
   "cell_type": "code",
   "execution_count": null,
   "id": "cff3aaa5",
   "metadata": {},
   "outputs": [],
   "source": [
    "df.forks.value_counts()"
   ]
  },
  {
   "cell_type": "code",
   "execution_count": null,
   "id": "75b158bd",
   "metadata": {},
   "outputs": [],
   "source": [
    "df[df.name == 'ESPN NFL 2K5']"
   ]
  },
  {
   "cell_type": "code",
   "execution_count": null,
   "id": "168668ae",
   "metadata": {},
   "outputs": [],
   "source": [
    "df.genres.value_counts()"
   ]
  },
  {
   "cell_type": "code",
   "execution_count": null,
   "id": "43b32c65",
   "metadata": {},
   "outputs": [],
   "source": [
    "df.platforms.value_counts()"
   ]
  },
  {
   "cell_type": "code",
   "execution_count": null,
   "id": "ee7e0ed2",
   "metadata": {},
   "outputs": [],
   "source": [
    "df = df.drop(columns=['artworks', 'cover','screenshots', 'videos', 'checksum', 'alternative_names', 'rating_count', 'total_rating_count', 'version_parent', 'hypes', 'franchises', 'follows', 'aggregated_rating_count'])\n",
    "df.shape"
   ]
  },
  {
   "cell_type": "code",
   "execution_count": null,
   "id": "3575e80b",
   "metadata": {},
   "outputs": [],
   "source": [
    "df.info()"
   ]
  },
  {
   "cell_type": "code",
   "execution_count": null,
   "id": "e985acb6",
   "metadata": {
    "scrolled": true
   },
   "outputs": [],
   "source": [
    "#df.head(30)"
   ]
  },
  {
   "cell_type": "code",
   "execution_count": null,
   "id": "a87dfbb3",
   "metadata": {},
   "outputs": [],
   "source": [
    "from datetime import datetime"
   ]
  },
  {
   "cell_type": "code",
   "execution_count": null,
   "id": "b275c0ef",
   "metadata": {},
   "outputs": [],
   "source": [
    "#df.created_at = df.created_at.apply(lambda d: datetime.datetime.fromtimestamp(int(d)).strftime('%Y-%m-%d'))"
   ]
  },
  {
   "cell_type": "code",
   "execution_count": null,
   "id": "e0cdefc2",
   "metadata": {},
   "outputs": [],
   "source": [
    "# df.columns = [\"created_at\"]\n",
    "# #convert dates \n",
    "# df.date = df.date.apply(lambda d: datetime.strptime(d, \"%Y-%m-%d\"))\n",
    "# df.index = df.date   "
   ]
  },
  {
   "cell_type": "code",
   "execution_count": null,
   "id": "6d250d42",
   "metadata": {},
   "outputs": [],
   "source": [
    "# df.created_at = pd.to_datetime(df.created_at)"
   ]
  },
  {
   "cell_type": "code",
   "execution_count": null,
   "id": "aa2fc317",
   "metadata": {
    "scrolled": true
   },
   "outputs": [],
   "source": [
    "df.head(30)"
   ]
  },
  {
   "cell_type": "code",
   "execution_count": null,
   "id": "97d0604c",
   "metadata": {},
   "outputs": [],
   "source": [
    "df.created_at.value_counts()"
   ]
  },
  {
   "cell_type": "code",
   "execution_count": null,
   "id": "f4ed122c",
   "metadata": {},
   "outputs": [],
   "source": [
    "df.rename(columns={'slug': 'lower_case_name', 'aggregated_rating': 'critic_rating'}, inplace=True)"
   ]
  },
  {
   "cell_type": "code",
   "execution_count": null,
   "id": "53cfa0bd",
   "metadata": {},
   "outputs": [],
   "source": [
    "df.head(3)"
   ]
  },
  {
   "cell_type": "code",
   "execution_count": null,
   "id": "bb13bfc6",
   "metadata": {},
   "outputs": [],
   "source": [
    "df['created_at'] = pd.to_datetime(df['created_at'],unit='s')\n"
   ]
  },
  {
   "cell_type": "code",
   "execution_count": null,
   "id": "e3a24e1f",
   "metadata": {
    "scrolled": true
   },
   "outputs": [],
   "source": [
    "df.head()"
   ]
  },
  {
   "cell_type": "code",
   "execution_count": null,
   "id": "4ed2a73a",
   "metadata": {},
   "outputs": [],
   "source": [
    "df['updated_at'] = pd.to_datetime(df['updated_at'],unit='s')\n"
   ]
  },
  {
   "cell_type": "code",
   "execution_count": null,
   "id": "51154652",
   "metadata": {
    "scrolled": true
   },
   "outputs": [],
   "source": [
    "df.head()"
   ]
  },
  {
   "cell_type": "code",
   "execution_count": null,
   "id": "c17f3cc9",
   "metadata": {},
   "outputs": [],
   "source": [
    "df['first_release_date'] = pd.to_datetime(df['first_release_date'],unit='s')"
   ]
  },
  {
   "cell_type": "code",
   "execution_count": null,
   "id": "bfe5228c",
   "metadata": {
    "scrolled": false
   },
   "outputs": [],
   "source": [
    "df.head(20)"
   ]
  },
  {
   "cell_type": "code",
   "execution_count": null,
   "id": "09cec24b",
   "metadata": {},
   "outputs": [],
   "source": []
  },
  {
   "cell_type": "code",
   "execution_count": null,
   "id": "6ef54783",
   "metadata": {},
   "outputs": [],
   "source": []
  },
  {
   "cell_type": "code",
   "execution_count": null,
   "id": "83bced0d",
   "metadata": {},
   "outputs": [],
   "source": []
  },
  {
   "cell_type": "code",
   "execution_count": null,
   "id": "30f8de71",
   "metadata": {},
   "outputs": [],
   "source": []
  },
  {
   "cell_type": "code",
   "execution_count": null,
   "id": "2c7d1735",
   "metadata": {},
   "outputs": [],
   "source": []
  },
  {
   "cell_type": "code",
   "execution_count": null,
   "id": "1dcbe45e",
   "metadata": {},
   "outputs": [],
   "source": []
  },
  {
   "cell_type": "code",
   "execution_count": null,
   "id": "827081ef",
   "metadata": {},
   "outputs": [],
   "source": []
  },
  {
   "cell_type": "code",
   "execution_count": null,
   "id": "df88682b",
   "metadata": {},
   "outputs": [],
   "source": [
    "#df['release_dates'] = pd.to_datetime(df['release_dates'],unit='s')"
   ]
  },
  {
   "cell_type": "code",
   "execution_count": null,
   "id": "da01adcc",
   "metadata": {},
   "outputs": [],
   "source": [
    "df['first_release_date'] = pd.to_datetime(df['first_release_date'],unit='s')"
   ]
  },
  {
   "cell_type": "code",
   "execution_count": null,
   "id": "8688ed89",
   "metadata": {},
   "outputs": [],
   "source": [
    "df.category.value_counts()"
   ]
  },
  {
   "cell_type": "code",
   "execution_count": null,
   "id": "70c28638",
   "metadata": {},
   "outputs": [],
   "source": []
  },
  {
   "cell_type": "code",
   "execution_count": null,
   "id": "36179aa5",
   "metadata": {
    "scrolled": true
   },
   "outputs": [],
   "source": [
    "url = 'https://api.igdb.com/v4/age_ratings'\n",
    "headers = {'Client-ID': f'{Client_ID}', 'Authorization': f'Bearer {access_token}'}\n",
    "data = 'category,checksum,content_descriptions,rating,rating_cover_url,synopsis;'\n",
    "response = requests.post(url, headers=headers, data = data)\n"
   ]
  },
  {
   "cell_type": "code",
   "execution_count": null,
   "id": "2c7c3db7",
   "metadata": {},
   "outputs": [],
   "source": [
    "print(response.text)"
   ]
  },
  {
   "cell_type": "code",
   "execution_count": null,
   "id": "da4bfa3d",
   "metadata": {},
   "outputs": [],
   "source": [
    "url = 'https://api.igdb.com/v4/age_rating_content_descriptions'\n",
    "headers = {'Client-ID': f'{Client_ID}', 'Authorization': f'Bearer {access_token}'}\n",
    "data = 'fields *;'\n",
    "response = get(url, headers=headers, data = data)"
   ]
  },
  {
   "cell_type": "code",
   "execution_count": null,
   "id": "a052a5da",
   "metadata": {},
   "outputs": [],
   "source": [
    "print(response.text)"
   ]
  },
  {
   "cell_type": "code",
   "execution_count": null,
   "id": "0b74f27f",
   "metadata": {},
   "outputs": [],
   "source": []
  }
 ],
 "metadata": {
  "kernelspec": {
   "display_name": "Python 3 (ipykernel)",
   "language": "python",
   "name": "python3"
  },
  "language_info": {
   "codemirror_mode": {
    "name": "ipython",
    "version": 3
   },
   "file_extension": ".py",
   "mimetype": "text/x-python",
   "name": "python",
   "nbconvert_exporter": "python",
   "pygments_lexer": "ipython3",
   "version": "3.9.12"
  }
 },
 "nbformat": 4,
 "nbformat_minor": 5
}
