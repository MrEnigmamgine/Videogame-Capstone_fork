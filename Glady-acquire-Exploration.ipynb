{
 "cells": [
  {
   "cell_type": "markdown",
   "id": "b1976c97",
   "metadata": {},
   "source": [
    "# creating the game_library dataframe"
   ]
  },
  {
   "cell_type": "code",
   "execution_count": 17,
   "id": "8c08c2e9",
   "metadata": {},
   "outputs": [],
   "source": [
    "import requests\n",
    "import env\n",
    "from requests.models import Request, Response\n",
    "from env import Client_ID\n",
    "import pandas as pd\n",
    "from igdb.igdbapi_pb2 import GameResult\n",
    "from typing import Dict, List, Optional, Union, cast\n",
    "import acquire\n",
    "import json\n",
    "from igdb.wrapper import IGDBWrapper\n",
    "import matplotlib.pyplot as plt\n",
    "import seaborn as sns\n",
    "from sklearn.model_selection import train_test_split"
   ]
  },
  {
   "cell_type": "code",
   "execution_count": null,
   "id": "9cc15d94",
   "metadata": {},
   "outputs": [],
   "source": [
    "game_library = pd.read_json(\"game_library.json\")"
   ]
  },
  {
   "cell_type": "code",
   "execution_count": null,
   "id": "32d9d70c",
   "metadata": {},
   "outputs": [],
   "source": [
    "#game_library.shape"
   ]
  },
  {
   "cell_type": "markdown",
   "id": "45f6ed64",
   "metadata": {},
   "source": [
    "#  Pre-Explore Part 1 (just looking at the data)"
   ]
  },
  {
   "cell_type": "markdown",
   "id": "342e4c3f",
   "metadata": {},
   "source": [
    "### the dataframe"
   ]
  },
  {
   "cell_type": "code",
   "execution_count": null,
   "id": "7cfa7680",
   "metadata": {
    "scrolled": true
   },
   "outputs": [],
   "source": [
    "game_library.head()"
   ]
  },
  {
   "cell_type": "code",
   "execution_count": null,
   "id": "9f410dee",
   "metadata": {},
   "outputs": [],
   "source": [
    "# Genre "
   ]
  },
  {
   "cell_type": "markdown",
   "id": "6a329137",
   "metadata": {},
   "source": [
    "### What genre are most common in this dataset ?"
   ]
  },
  {
   "cell_type": "code",
   "execution_count": 13,
   "id": "bc324018",
   "metadata": {},
   "outputs": [],
   "source": [
    "def to_1D(series):\n",
    "    return pd.Series([x for _list in series for x in _list])"
   ]
  },
  {
   "cell_type": "code",
   "execution_count": null,
   "id": "7ac1474e",
   "metadata": {},
   "outputs": [],
   "source": [
    " #pd.set_option('display.max_columns', None)\n",
    "game_library.genres.value_counts()"
   ]
  },
  {
   "cell_type": "code",
   "execution_count": null,
   "id": "61b49fe9",
   "metadata": {},
   "outputs": [],
   "source": []
  },
  {
   "cell_type": "code",
   "execution_count": null,
   "id": "7dd97f38",
   "metadata": {},
   "outputs": [],
   "source": [
    "to_1D(game_library[\"genres\"])\n"
   ]
  },
  {
   "cell_type": "code",
   "execution_count": null,
   "id": "19b3619a",
   "metadata": {},
   "outputs": [],
   "source": [
    "to_1D(game_library[\"genres\"]).value_counts()"
   ]
  },
  {
   "cell_type": "code",
   "execution_count": null,
   "id": "5a97aaad",
   "metadata": {
    "scrolled": true
   },
   "outputs": [],
   "source": [
    "fig, ax = plt.subplots(figsize = (14,4))\n",
    "ax.bar(to_1D(game_library[\"genres\"]).value_counts().iloc[:4].index,\n",
    "        to_1D(game_library[\"genres\"]).value_counts().iloc[:4].values)\n",
    "ax.set_ylabel(\"Frequency\", size = 12)\n",
    "ax.set_title(\"genres\", size = 14)\n",
    "\n"
   ]
  },
  {
   "cell_type": "code",
   "execution_count": null,
   "id": "85c6a5e2",
   "metadata": {},
   "outputs": [],
   "source": [
    "# def test_functg(random_list):\n",
    "#     if type(random_list) == list:\n",
    "#         return [genres_dict[i] for i in random_list]\n",
    "#     else:  \n",
    "#         return [\"Not_available\"] "
   ]
  },
  {
   "cell_type": "code",
   "execution_count": null,
   "id": "2c4d0396",
   "metadata": {},
   "outputs": [],
   "source": []
  },
  {
   "cell_type": "code",
   "execution_count": null,
   "id": "44c99bb9",
   "metadata": {
    "scrolled": true
   },
   "outputs": [],
   "source": [
    "#sns.countplot(x='genres', data=game_library)b"
   ]
  },
  {
   "cell_type": "markdown",
   "id": "908f611f",
   "metadata": {},
   "source": [
    "### What themes are most common in this dataset "
   ]
  },
  {
   "cell_type": "code",
   "execution_count": null,
   "id": "9a41cc24",
   "metadata": {
    "scrolled": true
   },
   "outputs": [],
   "source": [
    "to_1D(game_library[\"themes\"])"
   ]
  },
  {
   "cell_type": "code",
   "execution_count": null,
   "id": "18593748",
   "metadata": {
    "scrolled": false
   },
   "outputs": [],
   "source": [
    "to_1D(game_library[\"themes\"]).value_counts()"
   ]
  },
  {
   "cell_type": "code",
   "execution_count": null,
   "id": "82f44a40",
   "metadata": {
    "scrolled": true
   },
   "outputs": [],
   "source": [
    "fig, ax = plt.subplots(figsize = (16,4))\n",
    "ax.bar(to_1D(game_library[\"themes\"]).value_counts().iloc[:4].index,\n",
    "        to_1D(game_library[\"themes\"]).value_counts().iloc[:4].values)\n",
    "ax.set_ylabel(\"Frequency\", size = 12)\n",
    "ax.set_title(\"genres\", size = 14)"
   ]
  },
  {
   "cell_type": "code",
   "execution_count": null,
   "id": "804b25e5",
   "metadata": {
    "scrolled": true
   },
   "outputs": [],
   "source": [
    "game_library.head(3)"
   ]
  },
  {
   "cell_type": "code",
   "execution_count": null,
   "id": "beb90f3c",
   "metadata": {},
   "outputs": [],
   "source": []
  },
  {
   "cell_type": "code",
   "execution_count": null,
   "id": "7d7d1a91",
   "metadata": {
    "scrolled": false
   },
   "outputs": [],
   "source": [
    "pd.set_option('display.max_columns', None)\n",
    "game_library.head(3)"
   ]
  },
  {
   "cell_type": "code",
   "execution_count": null,
   "id": "10a8e955",
   "metadata": {},
   "outputs": [],
   "source": [
    "game_library.themes.value_counts()"
   ]
  },
  {
   "cell_type": "markdown",
   "id": "000e55c6",
   "metadata": {},
   "source": [
    "###   land co-op"
   ]
  },
  {
   "cell_type": "code",
   "execution_count": null,
   "id": "8be815ad",
   "metadata": {
    "scrolled": true
   },
   "outputs": [],
   "source": [
    "sns.countplot(x='lancoop', data=game_library)"
   ]
  },
  {
   "cell_type": "markdown",
   "id": "28e82210",
   "metadata": {},
   "source": [
    "### In a videogame what is the most common version titles ?"
   ]
  },
  {
   "cell_type": "code",
   "execution_count": null,
   "id": "b319d630",
   "metadata": {
    "scrolled": true
   },
   "outputs": [],
   "source": [
    "sns.countplot(x='version_title', data=game_library, order=game_library.version_title.value_counts().iloc[:4].index)"
   ]
  },
  {
   "cell_type": "code",
   "execution_count": null,
   "id": "74eb14e3",
   "metadata": {
    "scrolled": true
   },
   "outputs": [],
   "source": [
    "game_library.version_title.value_counts()"
   ]
  },
  {
   "cell_type": "markdown",
   "id": "eb1154cf",
   "metadata": {},
   "source": [
    "### What are the most common platforms ?"
   ]
  },
  {
   "cell_type": "code",
   "execution_count": null,
   "id": "4401d294",
   "metadata": {},
   "outputs": [],
   "source": [
    "game_library.platforms.value_counts()"
   ]
  },
  {
   "cell_type": "code",
   "execution_count": null,
   "id": "f8d322d0",
   "metadata": {},
   "outputs": [],
   "source": [
    "to_1D(game_library[\"platforms\"])"
   ]
  },
  {
   "cell_type": "code",
   "execution_count": null,
   "id": "4c1accf4",
   "metadata": {},
   "outputs": [],
   "source": [
    "to_1D(game_library[\"platforms\"]).value_counts()"
   ]
  },
  {
   "cell_type": "code",
   "execution_count": null,
   "id": "3694c5dc",
   "metadata": {},
   "outputs": [],
   "source": [
    "fig, ax = plt.subplots(figsize = (14,4))\n",
    "ax.barplot(to_1D(game_library[\"platforms\"]).value_counts().iloc[:7].index,\n",
    "        to_1D(game_library[\"platforms\"]).value_counts().iloc[:7].values, hue = )\n",
    "ax.set_ylabel(\"Frequency\", size = 12)\n",
    "ax.set_title(\"platforms\", size = 14)"
   ]
  },
  {
   "cell_type": "code",
   "execution_count": null,
   "id": "49d028f2",
   "metadata": {},
   "outputs": [],
   "source": [
    "game_library.head()"
   ]
  },
  {
   "cell_type": "code",
   "execution_count": null,
   "id": "3ed2480f",
   "metadata": {},
   "outputs": [],
   "source": [
    "to_1D(game_library[\"rating\"])"
   ]
  },
  {
   "cell_type": "code",
   "execution_count": null,
   "id": "a266949a",
   "metadata": {
    "scrolled": true
   },
   "outputs": [],
   "source": [
    "game_library.rating.value_counts()"
   ]
  },
  {
   "cell_type": "code",
   "execution_count": null,
   "id": "2c4f71d2",
   "metadata": {},
   "outputs": [],
   "source": [
    "game_library.rating_count.value_counts()"
   ]
  },
  {
   "cell_type": "code",
   "execution_count": null,
   "id": "8249de91",
   "metadata": {
    "scrolled": true
   },
   "outputs": [],
   "source": [
    "game_library.total_rating.value_counts()"
   ]
  },
  {
   "cell_type": "code",
   "execution_count": null,
   "id": "d49d637e",
   "metadata": {},
   "outputs": [],
   "source": [
    "game_library.shape"
   ]
  },
  {
   "cell_type": "code",
   "execution_count": null,
   "id": "13abc43f",
   "metadata": {},
   "outputs": [],
   "source": [
    "#game_library.info()"
   ]
  },
  {
   "cell_type": "markdown",
   "id": "78826610",
   "metadata": {},
   "source": [
    "## Splitting the data (from data with ratings and non-ratings)\n",
    "\n",
    "- we are splitting the data with GAMES that have a rating and games that dont have a rating "
   ]
  },
  {
   "cell_type": "code",
   "execution_count": null,
   "id": "1229a2e6",
   "metadata": {
    "scrolled": true
   },
   "outputs": [],
   "source": [
    "#this is the dataframe that ONLY has ratings \n",
    "df2 = game_library[game_library['rating'].notnull()]\n",
    "df2\n"
   ]
  },
  {
   "cell_type": "code",
   "execution_count": null,
   "id": "a7a3cccf",
   "metadata": {},
   "outputs": [],
   "source": [
    "#this is a dataframe with no ratings \n",
    "df3= game_library[game_library['rating'].isnull()]"
   ]
  },
  {
   "cell_type": "code",
   "execution_count": null,
   "id": "3b909a4c",
   "metadata": {
    "scrolled": true
   },
   "outputs": [],
   "source": [
    "pd.set_option('display.max_columns', None)\n",
    "df3.head()"
   ]
  },
  {
   "cell_type": "markdown",
   "id": "6afbcaba",
   "metadata": {},
   "source": [
    "> dont forget to bin the data from the diffrent ratings "
   ]
  },
  {
   "cell_type": "code",
   "execution_count": null,
   "id": "0b33ae53",
   "metadata": {},
   "outputs": [],
   "source": [
    "df2['rating_bin'] = pd.cut(df2.rating, \n",
    "                           bins = [0,10,20, 30, 40, 50, 60, 70, 80, 90, 100],\n",
    "                           labels = ['awful','very_bad','bad','unimpressive','average','fair','alright','good','great', 'subperb'])\n"
   ]
  },
  {
   "cell_type": "code",
   "execution_count": null,
   "id": "6603e5dd",
   "metadata": {
    "scrolled": true
   },
   "outputs": [],
   "source": [
    "#df2.head()"
   ]
  },
  {
   "cell_type": "code",
   "execution_count": null,
   "id": "a0ad8a56",
   "metadata": {},
   "outputs": [],
   "source": [
    "#creating the json for the data that HAS ratings \n",
    "#df2.to_json(\"explore_game_library.json\")"
   ]
  },
  {
   "cell_type": "code",
   "execution_count": null,
   "id": "3629b54b",
   "metadata": {},
   "outputs": [],
   "source": [
    "pd.set_option('display.max_columns', 500)\n",
    "df2.head()"
   ]
  },
  {
   "cell_type": "markdown",
   "id": "f5481028",
   "metadata": {},
   "source": [
    "# Exploration "
   ]
  },
  {
   "cell_type": "code",
   "execution_count": 14,
   "id": "9d993e28",
   "metadata": {
    "scrolled": true
   },
   "outputs": [],
   "source": [
    "df2 = pd.read_json(\"explore_game_library.json\")"
   ]
  },
  {
   "cell_type": "code",
   "execution_count": null,
   "id": "c8094990",
   "metadata": {},
   "outputs": [],
   "source": [
    "pd.set_option('display.max_columns', 500)\n",
    "\n",
    "df2.head()"
   ]
  },
  {
   "cell_type": "code",
   "execution_count": null,
   "id": "07c6695b",
   "metadata": {},
   "outputs": [],
   "source": [
    "#this is for tablaue \n",
    "#df2 = pd.read_csv(\"explore_game_library.csv\")"
   ]
  },
  {
   "cell_type": "code",
   "execution_count": null,
   "id": "a2936954",
   "metadata": {},
   "outputs": [],
   "source": [
    "#df2"
   ]
  },
  {
   "cell_type": "code",
   "execution_count": null,
   "id": "187e753f",
   "metadata": {
    "scrolled": false
   },
   "outputs": [],
   "source": [
    "df2.info()"
   ]
  },
  {
   "cell_type": "code",
   "execution_count": null,
   "id": "c4a0597a",
   "metadata": {
    "scrolled": true
   },
   "outputs": [],
   "source": [
    "df2.isnull().sum()"
   ]
  },
  {
   "cell_type": "code",
   "execution_count": null,
   "id": "299843c5",
   "metadata": {},
   "outputs": [],
   "source": [
    "df2 = df2.drop(columns=['ports','expansions','expanded_games','remasters','standalone_expansions','version_description','title_version','second_id'])"
   ]
  },
  {
   "cell_type": "markdown",
   "id": "8dbc95c6",
   "metadata": {},
   "source": [
    "- these are collumns that where dropped for me, I dont think these are needed \n",
    "'ports',\n",
    "'expansions',\n",
    "'expanded_games',\n",
    "'remasters','\n",
    "standalone_expansions',\n",
    "'version_description',\n",
    "'title_version',\n",
    "'second_id'"
   ]
  },
  {
   "cell_type": "code",
   "execution_count": null,
   "id": "edbc1da8",
   "metadata": {
    "scrolled": true
   },
   "outputs": [],
   "source": [
    "df2.info()                 "
   ]
  },
  {
   "cell_type": "code",
   "execution_count": null,
   "id": "45552b0e",
   "metadata": {},
   "outputs": [],
   "source": [
    "status\n",
    "storyline\n",
    "version_title\n",
    "version_parent\n",
    "forks\n",
    "second "
   ]
  },
  {
   "cell_type": "code",
   "execution_count": null,
   "id": "92768f6f",
   "metadata": {},
   "outputs": [],
   "source": [
    "df2 = df2.drop(columns=['status','storyline','version_title','version_parent','forks','second'])"
   ]
  },
  {
   "cell_type": "code",
   "execution_count": null,
   "id": "658292a5",
   "metadata": {},
   "outputs": [],
   "source": [
    "df2.info()"
   ]
  },
  {
   "cell_type": "code",
   "execution_count": null,
   "id": "93400ac9",
   "metadata": {},
   "outputs": [],
   "source": [
    "df2 = df2.drop(columns= 'remakes')"
   ]
  },
  {
   "cell_type": "code",
   "execution_count": null,
   "id": "6eff8d45",
   "metadata": {},
   "outputs": [],
   "source": [
    "df2.info()"
   ]
  },
  {
   "cell_type": "code",
   "execution_count": null,
   "id": "41d1202c",
   "metadata": {},
   "outputs": [],
   "source": [
    "# 24  alternative_names        83906 non-null   object        \n",
    "#  25  artworks                 89968 non-null   object        \n",
    "#  26  game_engines             51633 non-null   object        \n",
    "#  27  keywords                 138083 non-null  object        \n",
    "#  28  status                   7688 non-null    float64   "
   ]
  },
  {
   "cell_type": "code",
   "execution_count": null,
   "id": "8ec4d4ab",
   "metadata": {},
   "outputs": [],
   "source": [
    "#calling the prepared datafram\n",
    "#df2.to_json(\"explore_game.json\")"
   ]
  },
  {
   "cell_type": "code",
   "execution_count": 2,
   "id": "225a7e51",
   "metadata": {},
   "outputs": [],
   "source": [
    "df2 = pd.read_json(\"explore_game.json\")"
   ]
  },
  {
   "cell_type": "code",
   "execution_count": 49,
   "id": "ea1bd8ec",
   "metadata": {},
   "outputs": [
    {
     "data": {
      "text/plain": [
       "good            58053\n",
       "alright         40702\n",
       "great           24885\n",
       "fair            16162\n",
       "average         11413\n",
       "unimpressive     4041\n",
       "subperb          1624\n",
       "bad              1588\n",
       "very_bad          176\n",
       "Name: rating_bin, dtype: int64"
      ]
     },
     "execution_count": 49,
     "metadata": {},
     "output_type": "execute_result"
    }
   ],
   "source": [
    "df2.rating_bin.value_counts()"
   ]
  },
  {
   "cell_type": "code",
   "execution_count": 15,
   "id": "eae5490c",
   "metadata": {},
   "outputs": [],
   "source": [
    "def train_validate_test_split(df):\n",
    "    '''\n",
    "    This function performs split on telco data, stratify churn.\n",
    "    Returns train, validate, and test dfs.\n",
    "    '''\n",
    "    train_validate, test = train_test_split(df, test_size=.2, \n",
    "                                        random_state=123, stratify=df2.rating_bin)\n",
    "    train, validate = train_test_split(train_validate, test_size=.3, \n",
    "                                   random_state=123,  stratify=train_validate.rating_bin)\n",
    "\n",
    "    return train, validate, test\n"
   ]
  },
  {
   "cell_type": "code",
   "execution_count": 42,
   "id": "847e0e99",
   "metadata": {
    "scrolled": true
   },
   "outputs": [
    {
     "data": {
      "text/plain": [
       "((88840, 72), (38075, 72), (31729, 72))"
      ]
     },
     "execution_count": 42,
     "metadata": {},
     "output_type": "execute_result"
    }
   ],
   "source": [
    "train, validate, test = train_validate_test_split(df2)\n",
    "\n",
    "train.shape, validate.shape, test.shape"
   ]
  },
  {
   "cell_type": "code",
   "execution_count": 43,
   "id": "c745ec21",
   "metadata": {},
   "outputs": [],
   "source": [
    "def to_1D(series):\n",
    "    return pd.Series([x for _list in series for x in _list])"
   ]
  },
  {
   "cell_type": "markdown",
   "id": "f4567703",
   "metadata": {},
   "source": [
    "\n",
    "\n",
    "## (more complicated Questions)"
   ]
  },
  {
   "cell_type": "markdown",
   "id": "ea9fd6a6",
   "metadata": {},
   "source": [
    "# Do video games on certain platforms get better user ratings?\n"
   ]
  },
  {
   "cell_type": "markdown",
   "id": "dc838867",
   "metadata": {},
   "source": [
    "- Yes it looks like for the games in the three highest member ratings (good, great,subperb) the majority of those games are played on \n",
    "    - PC(microsoft Windows)\n",
    "    - MAC \n",
    "    - X-Box 360\n",
    "    - ps 3 and 4 "
   ]
  },
  {
   "cell_type": "code",
   "execution_count": null,
   "id": "93b285e4",
   "metadata": {},
   "outputs": [],
   "source": [
    "#the diffrent platforms in the dataframe"
   ]
  },
  {
   "cell_type": "code",
   "execution_count": 97,
   "id": "8a211cba",
   "metadata": {
    "scrolled": true
   },
   "outputs": [
    {
     "data": {
      "text/plain": [
       "Text(0.5, 1.0, 'platforms')"
      ]
     },
     "execution_count": 97,
     "metadata": {},
     "output_type": "execute_result"
    },
    {
     "data": {
      "image/png": "[encoded data removed]",
      "text/plain": [
       "<Figure size 1008x288 with 1 Axes>"
      ]
     },
     "metadata": {},
     "output_type": "display_data"
    }
   ],
   "source": [
    "fig, ax = plt.subplots(figsize = (14,4))\n",
    "ax.bar(to_1D(train[\"platforms\"]).value_counts().iloc[:7].index,\n",
    "        to_1D(train[\"platforms\"]).value_counts().iloc[:7].values)\n",
    "ax.set_ylabel(\"Frequency\", size = 12)\n",
    "ax.set_title(\"platforms\", size = 14)"
   ]
  },
  {
   "cell_type": "code",
   "execution_count": null,
   "id": "3bb6d8c5",
   "metadata": {},
   "outputs": [],
   "source": []
  },
  {
   "cell_type": "code",
   "execution_count": null,
   "id": "73e60176",
   "metadata": {},
   "outputs": [],
   "source": [
    "sns.countplot(x='rating', data=train, order=train.rating.value_counts().iloc[:5].index)"
   ]
  },
  {
   "cell_type": "code",
   "execution_count": null,
   "id": "d6b57c32",
   "metadata": {
    "scrolled": false
   },
   "outputs": [],
   "source": [
    "sns.countplot(x='rating_bin', data=train, order=train.rating_bin.value_counts().iloc[:9].index)"
   ]
  },
  {
   "cell_type": "markdown",
   "id": "f8d46291",
   "metadata": {},
   "source": [
    "## Exploring `good rating`"
   ]
  },
  {
   "cell_type": "code",
   "execution_count": null,
   "id": "192bb17c",
   "metadata": {
    "scrolled": true
   },
   "outputs": [],
   "source": [
    "df_good_rating = train[train['rating_bin']== 'good']\n",
    "df_good_rating.head()"
   ]
  },
  {
   "cell_type": "code",
   "execution_count": null,
   "id": "b3e82acf",
   "metadata": {},
   "outputs": [],
   "source": [
    "fig, ax = plt.subplots(figsize = (14,4))\n",
    "ax.bar(to_1D(df_good_rating[\"platforms\"]).value_counts().iloc[:7].index,\n",
    "        to_1D(df_good_rating[\"platforms\"]).value_counts().iloc[:7].values)\n",
    "ax.set_ylabel(\"Frequency\", size = 12)\n",
    "ax.set_title(\"platforms\", size = 14)"
   ]
  },
  {
   "cell_type": "markdown",
   "id": "99cdb131",
   "metadata": {},
   "source": [
    "- for the ratings \"good\" the most used platforms is (in order) pc, xbox 360, ps3, ps4"
   ]
  },
  {
   "cell_type": "markdown",
   "id": "5d68515b",
   "metadata": {},
   "source": [
    "##  Exploring `suberb raitng`"
   ]
  },
  {
   "cell_type": "code",
   "execution_count": 24,
   "id": "5e5b1f87",
   "metadata": {
    "scrolled": true
   },
   "outputs": [
    {
     "data": {
      "text/html": [
       "<div>\n",
       "<style scoped>\n",
       "    .dataframe tbody tr th:only-of-type {\n",
       "        vertical-align: middle;\n",
       "    }\n",
       "\n",
       "    .dataframe tbody tr th {\n",
       "        vertical-align: top;\n",
       "    }\n",
       "\n",
       "    .dataframe thead th {\n",
       "        text-align: right;\n",
       "    }\n",
       "</style>\n",
       "<table border=\"1\" class=\"dataframe\">\n",
       "  <thead>\n",
       "    <tr style=\"text-align: right;\">\n",
       "      <th></th>\n",
       "      <th>id</th>\n",
       "      <th>category</th>\n",
       "      <th>created_at</th>\n",
       "      <th>external_games</th>\n",
       "      <th>first_release_date</th>\n",
       "      <th>genres</th>\n",
       "      <th>name</th>\n",
       "      <th>platforms</th>\n",
       "      <th>release_dates</th>\n",
       "      <th>similar_games</th>\n",
       "      <th>...</th>\n",
       "      <th>offlinecoop</th>\n",
       "      <th>offlinemax</th>\n",
       "      <th>onlinecoop</th>\n",
       "      <th>platform</th>\n",
       "      <th>splitscreen</th>\n",
       "      <th>checksum_y</th>\n",
       "      <th>offlinecoopmax</th>\n",
       "      <th>onlinecoopmax</th>\n",
       "      <th>onlinemax</th>\n",
       "      <th>rating_bin</th>\n",
       "    </tr>\n",
       "  </thead>\n",
       "  <tbody>\n",
       "    <tr>\n",
       "      <th>350151</th>\n",
       "      <td>2617</td>\n",
       "      <td>3</td>\n",
       "      <td>2013-07-17 16:09:09</td>\n",
       "      <td>[43459, 78277]</td>\n",
       "      <td>8.703936e+08</td>\n",
       "      <td>[real-time-strategy-rts, simulator, strategy]</td>\n",
       "      <td>The Settlers II: Gold Edition</td>\n",
       "      <td>[DOS, Mac, Nintendo DS]</td>\n",
       "      <td>[194838, 194839, 194840]</td>\n",
       "      <td>[9789, 18623, 20776, 28325, 29173, 31480, 3151...</td>\n",
       "      <td>...</td>\n",
       "      <td>False</td>\n",
       "      <td>0</td>\n",
       "      <td>False</td>\n",
       "      <td>NaN</td>\n",
       "      <td>False</td>\n",
       "      <td>1c2dfca2-6ee8-b54e-b243-05ffb0c646bc</td>\n",
       "      <td>0</td>\n",
       "      <td>0</td>\n",
       "      <td>0</td>\n",
       "      <td>subperb</td>\n",
       "    </tr>\n",
       "    <tr>\n",
       "      <th>404391</th>\n",
       "      <td>29207</td>\n",
       "      <td>0</td>\n",
       "      <td>2017-05-20 12:20:49</td>\n",
       "      <td>[14106, 77210, 85081, 96659, 2136317]</td>\n",
       "      <td>1.133222e+09</td>\n",
       "      <td>[role-playing-rpg]</td>\n",
       "      <td>Gothic II: Gold Edition</td>\n",
       "      <td>[PC (Microsoft Windows)]</td>\n",
       "      <td>[196063]</td>\n",
       "      <td>[19164, 54775, 81249, 96217, 99118, 101608, 10...</td>\n",
       "      <td>...</td>\n",
       "      <td>False</td>\n",
       "      <td>0</td>\n",
       "      <td>False</td>\n",
       "      <td>NaN</td>\n",
       "      <td>False</td>\n",
       "      <td>None</td>\n",
       "      <td>0</td>\n",
       "      <td>0</td>\n",
       "      <td>0</td>\n",
       "      <td>subperb</td>\n",
       "    </tr>\n",
       "    <tr>\n",
       "      <th>413553</th>\n",
       "      <td>59849</td>\n",
       "      <td>9</td>\n",
       "      <td>2017-09-07 18:41:31</td>\n",
       "      <td>[197757, 210636, 398654, 1237237, 2000741, 211...</td>\n",
       "      <td>1.510618e+09</td>\n",
       "      <td>[shooter, strategy, adventure]</td>\n",
       "      <td>L.A. Noire</td>\n",
       "      <td>[PlayStation 4, Xbox One]</td>\n",
       "      <td>[112409, 112410, 135021, 135022, 136102]</td>\n",
       "      <td>[17379, 17548, 18167, 18225, 26574, 27092, 285...</td>\n",
       "      <td>...</td>\n",
       "      <td>False</td>\n",
       "      <td>0</td>\n",
       "      <td>False</td>\n",
       "      <td>NaN</td>\n",
       "      <td>False</td>\n",
       "      <td>None</td>\n",
       "      <td>0</td>\n",
       "      <td>0</td>\n",
       "      <td>0</td>\n",
       "      <td>subperb</td>\n",
       "    </tr>\n",
       "  </tbody>\n",
       "</table>\n",
       "<p>3 rows × 72 columns</p>\n",
       "</div>"
      ],
      "text/plain": [
       "           id  category          created_at  \\\n",
       "350151   2617         3 2013-07-17 16:09:09   \n",
       "404391  29207         0 2017-05-20 12:20:49   \n",
       "413553  59849         9 2017-09-07 18:41:31   \n",
       "\n",
       "                                           external_games  first_release_date  \\\n",
       "350151                                     [43459, 78277]        8.703936e+08   \n",
       "404391              [14106, 77210, 85081, 96659, 2136317]        1.133222e+09   \n",
       "413553  [197757, 210636, 398654, 1237237, 2000741, 211...        1.510618e+09   \n",
       "\n",
       "                                               genres  \\\n",
       "350151  [real-time-strategy-rts, simulator, strategy]   \n",
       "404391                             [role-playing-rpg]   \n",
       "413553                 [shooter, strategy, adventure]   \n",
       "\n",
       "                                 name                  platforms  \\\n",
       "350151  The Settlers II: Gold Edition    [DOS, Mac, Nintendo DS]   \n",
       "404391        Gothic II: Gold Edition   [PC (Microsoft Windows)]   \n",
       "413553                     L.A. Noire  [PlayStation 4, Xbox One]   \n",
       "\n",
       "                                   release_dates  \\\n",
       "350151                  [194838, 194839, 194840]   \n",
       "404391                                  [196063]   \n",
       "413553  [112409, 112410, 135021, 135022, 136102]   \n",
       "\n",
       "                                            similar_games  ... offlinecoop  \\\n",
       "350151  [9789, 18623, 20776, 28325, 29173, 31480, 3151...  ...       False   \n",
       "404391  [19164, 54775, 81249, 96217, 99118, 101608, 10...  ...       False   \n",
       "413553  [17379, 17548, 18167, 18225, 26574, 27092, 285...  ...       False   \n",
       "\n",
       "       offlinemax onlinecoop platform splitscreen  \\\n",
       "350151          0      False      NaN       False   \n",
       "404391          0      False      NaN       False   \n",
       "413553          0      False      NaN       False   \n",
       "\n",
       "                                  checksum_y offlinecoopmax  onlinecoopmax  \\\n",
       "350151  1c2dfca2-6ee8-b54e-b243-05ffb0c646bc              0              0   \n",
       "404391                                  None              0              0   \n",
       "413553                                  None              0              0   \n",
       "\n",
       "       onlinemax rating_bin  \n",
       "350151         0    subperb  \n",
       "404391         0    subperb  \n",
       "413553         0    subperb  \n",
       "\n",
       "[3 rows x 72 columns]"
      ]
     },
     "execution_count": 24,
     "metadata": {},
     "output_type": "execute_result"
    }
   ],
   "source": [
    "df_subperb_rating = train[train['rating_bin']== 'subperb']\n",
    "df_subperb_rating.head(3)"
   ]
  },
  {
   "cell_type": "markdown",
   "id": "279c2959",
   "metadata": {},
   "source": [
    "> ### Most frequent platforms in the raiting `subperb`"
   ]
  },
  {
   "cell_type": "code",
   "execution_count": 98,
   "id": "1190f25e",
   "metadata": {
    "scrolled": false
   },
   "outputs": [
    {
     "data": {
      "text/plain": [
       "Text(0.5, 1.0, 'platforms')"
      ]
     },
     "execution_count": 98,
     "metadata": {},
     "output_type": "execute_result"
    },
    {
     "data": {
      "image/png": "[encoded data removed]",
      "text/plain": [
       "<Figure size 1008x288 with 1 Axes>"
      ]
     },
     "metadata": {},
     "output_type": "display_data"
    }
   ],
   "source": [
    "fig, ax = plt.subplots(figsize = (14,4))\n",
    "ax.bar(to_1D(df_subperb_rating[\"platforms\"]).value_counts().iloc[:7].index,\n",
    "        to_1D(df_subperb_rating[\"platforms\"]).value_counts().iloc[:7].values)\n",
    "ax.set_ylabel(\"Frequency\", size = 12)\n",
    "ax.set_title(\"platforms\", size = 14)"
   ]
  },
  {
   "cell_type": "markdown",
   "id": "03c9af95",
   "metadata": {},
   "source": [
    "- suberb rating is mostly mac and PC top two, and mest three are ps4 and ps3."
   ]
  },
  {
   "cell_type": "markdown",
   "id": "28ed0173",
   "metadata": {},
   "source": [
    "## Exploring `great rating`"
   ]
  },
  {
   "cell_type": "code",
   "execution_count": null,
   "id": "ffbb2a86",
   "metadata": {},
   "outputs": [],
   "source": [
    "df_great_rating = train[train['rating_bin']== 'great']\n",
    "df_great_rating.head(3)"
   ]
  },
  {
   "cell_type": "code",
   "execution_count": null,
   "id": "b1f07a62",
   "metadata": {},
   "outputs": [],
   "source": [
    "fig, ax = plt.subplots(figsize = (14,4))\n",
    "ax.bar(to_1D(df_great_rating[\"platforms\"]).value_counts().iloc[:7].index,\n",
    "        to_1D(df_great_rating[\"platforms\"]).value_counts().iloc[:7].values)\n",
    "ax.set_ylabel(\"Frequency\", size = 12)\n",
    "ax.set_title(\"platforms\", size = 14)"
   ]
  },
  {
   "cell_type": "code",
   "execution_count": null,
   "id": "ae65bb53",
   "metadata": {
    "scrolled": false
   },
   "outputs": [],
   "source": [
    "\n",
    "df_top3_rating = train[(train['rating_bin']== 'great') | (train['rating_bin']== 'good') | (train['rating_bin']== 'subperb')]\n",
    "df_top3_rating.head(1)"
   ]
  },
  {
   "cell_type": "markdown",
   "id": "a6517ba3",
   "metadata": {},
   "source": [
    "## These are the top 7 platforms for the three best ratings (good, great, subperb)"
   ]
  },
  {
   "cell_type": "code",
   "execution_count": 100,
   "id": "a8cf9f83",
   "metadata": {
    "scrolled": true
   },
   "outputs": [
    {
     "data": {
      "text/plain": [
       "Text(0.5, 1.0, \"Best rated games's platforms\")"
      ]
     },
     "execution_count": 100,
     "metadata": {},
     "output_type": "execute_result"
    },
    {
     "data": {
      "image/png": "[encoded data removed]",
      "text/plain": [
       "<Figure size 1008x432 with 1 Axes>"
      ]
     },
     "metadata": {},
     "output_type": "display_data"
    }
   ],
   "source": [
    "fig, ax = plt.subplots(figsize = (14,6))\n",
    "\n",
    "ax.bar(to_1D(df_subperb_rating[\"platforms\"]).value_counts().iloc[:4].index,\n",
    "        to_1D(df_subperb_rating[\"platforms\"]).value_counts().iloc[:4].values,\n",
    "          color= ['purple'])\n",
    "ax.set_ylabel(\"Frequency\", size = 20)\n",
    "ax.set_title(\"Best rated games's platforms\", size = 20)"
   ]
  },
  {
   "cell_type": "code",
   "execution_count": 103,
   "id": "2800ddd4",
   "metadata": {},
   "outputs": [
    {
     "data": {
      "text/plain": [
       "Index(['Mac', 'PC (Microsoft Windows)', 'PlayStation 4', 'Nintendo 3DS'], dtype='object')"
      ]
     },
     "execution_count": 103,
     "metadata": {},
     "output_type": "execute_result"
    }
   ],
   "source": [
    "to_1D(df_subperb_rating[\"platforms\"]).value_counts().iloc[:4].index"
   ]
  },
  {
   "cell_type": "code",
   "execution_count": 104,
   "id": "0fd1d977",
   "metadata": {},
   "outputs": [
    {
     "data": {
      "text/plain": [
       "array([490, 373, 306, 254])"
      ]
     },
     "execution_count": 104,
     "metadata": {},
     "output_type": "execute_result"
    }
   ],
   "source": [
    "to_1D(df_subperb_rating[\"platforms\"]).value_counts().iloc[:4].values"
   ]
  },
  {
   "cell_type": "code",
   "execution_count": 106,
   "id": "337356db",
   "metadata": {},
   "outputs": [
    {
     "data": {
      "application/vnd.plotly.v1+json": {
       "config": {
        "plotlyServerURL": "https://plot.ly"
       },
       "data": [
        {
         "marker": {
          "color": [
           "purple",
           "purple",
           "purple",
           "purple",
           "purple"
          ]
         },
         "type": "bar",
         "x": [
          "Mac",
          "PC (Microsoft Windows)",
          "PlayStation 4",
          "Nintendo 3DS"
         ],
         "y": [
          490,
          373,
          306,
          254
         ]
        }
       ],
       "layout": {
        "template": {
         "data": {
          "bar": [
           {
            "error_x": {
             "color": "#2a3f5f"
            },
            "error_y": {
             "color": "#2a3f5f"
            },
            "marker": {
             "line": {
              "color": "#E5ECF6",
              "width": 0.5
             },
             "pattern": {
              "fillmode": "overlay",
              "size": 10,
              "solidity": 0.2
             }
            },
            "type": "bar"
           }
          ],
          "barpolar": [
           {
            "marker": {
             "line": {
              "color": "#E5ECF6",
              "width": 0.5
             },
             "pattern": {
              "fillmode": "overlay",
              "size": 10,
              "solidity": 0.2
             }
            },
            "type": "barpolar"
           }
          ],
          "carpet": [
           {
            "aaxis": {
             "endlinecolor": "#2a3f5f",
             "gridcolor": "white",
             "linecolor": "white",
             "minorgridcolor": "white",
             "startlinecolor": "#2a3f5f"
            },
            "baxis": {
             "endlinecolor": "#2a3f5f",
             "gridcolor": "white",
             "linecolor": "white",
             "minorgridcolor": "white",
             "startlinecolor": "#2a3f5f"
            },
            "type": "carpet"
           }
          ],
          "choropleth": [
           {
            "colorbar": {
             "outlinewidth": 0,
             "ticks": ""
            },
            "type": "choropleth"
           }
          ],
          "contour": [
           {
            "colorbar": {
             "outlinewidth": 0,
             "ticks": ""
            },
            "colorscale": [
             [
              0,
              "#0d0887"
             ],
             [
              0.1111111111111111,
              "#46039f"
             ],
             [
              0.2222222222222222,
              "#7201a8"
             ],
             [
              0.3333333333333333,
              "#9c179e"
             ],
             [
              0.4444444444444444,
              "#bd3786"
             ],
             [
              0.5555555555555556,
              "#d8576b"
             ],
             [
              0.6666666666666666,
              "#ed7953"
             ],
             [
              0.7777777777777778,
              "#fb9f3a"
             ],
             [
              0.8888888888888888,
              "#fdca26"
             ],
             [
              1,
              "#f0f921"
             ]
            ],
            "type": "contour"
           }
          ],
          "contourcarpet": [
           {
            "colorbar": {
             "outlinewidth": 0,
             "ticks": ""
            },
            "type": "contourcarpet"
           }
          ],
          "heatmap": [
           {
            "colorbar": {
             "outlinewidth": 0,
             "ticks": ""
            },
            "colorscale": [
             [
              0,
              "#0d0887"
             ],
             [
              0.1111111111111111,
              "#46039f"
             ],
             [
              0.2222222222222222,
              "#7201a8"
             ],
             [
              0.3333333333333333,
              "#9c179e"
             ],
             [
              0.4444444444444444,
              "#bd3786"
             ],
             [
              0.5555555555555556,
              "#d8576b"
             ],
             [
              0.6666666666666666,
              "#ed7953"
             ],
             [
              0.7777777777777778,
              "#fb9f3a"
             ],
             [
              0.8888888888888888,
              "#fdca26"
             ],
             [
              1,
              "#f0f921"
             ]
            ],
            "type": "heatmap"
           }
          ],
          "heatmapgl": [
           {
            "colorbar": {
             "outlinewidth": 0,
             "ticks": ""
            },
            "colorscale": [
             [
              0,
              "#0d0887"
             ],
             [
              0.1111111111111111,
              "#46039f"
             ],
             [
              0.2222222222222222,
              "#7201a8"
             ],
             [
              0.3333333333333333,
              "#9c179e"
             ],
             [
              0.4444444444444444,
              "#bd3786"
             ],
             [
              0.5555555555555556,
              "#d8576b"
             ],
             [
              0.6666666666666666,
              "#ed7953"
             ],
             [
              0.7777777777777778,
              "#fb9f3a"
             ],
             [
              0.8888888888888888,
              "#fdca26"
             ],
             [
              1,
              "#f0f921"
             ]
            ],
            "type": "heatmapgl"
           }
          ],
          "histogram": [
           {
            "marker": {
             "pattern": {
              "fillmode": "overlay",
              "size": 10,
              "solidity": 0.2
             }
            },
            "type": "histogram"
           }
          ],
          "histogram2d": [
           {
            "colorbar": {
             "outlinewidth": 0,
             "ticks": ""
            },
            "colorscale": [
             [
              0,
              "#0d0887"
             ],
             [
              0.1111111111111111,
              "#46039f"
             ],
             [
              0.2222222222222222,
              "#7201a8"
             ],
             [
              0.3333333333333333,
              "#9c179e"
             ],
             [
              0.4444444444444444,
              "#bd3786"
             ],
             [
              0.5555555555555556,
              "#d8576b"
             ],
             [
              0.6666666666666666,
              "#ed7953"
             ],
             [
              0.7777777777777778,
              "#fb9f3a"
             ],
             [
              0.8888888888888888,
              "#fdca26"
             ],
             [
              1,
              "#f0f921"
             ]
            ],
            "type": "histogram2d"
           }
          ],
          "histogram2dcontour": [
           {
            "colorbar": {
             "outlinewidth": 0,
             "ticks": ""
            },
            "colorscale": [
             [
              0,
              "#0d0887"
             ],
             [
              0.1111111111111111,
              "#46039f"
             ],
             [
              0.2222222222222222,
              "#7201a8"
             ],
             [
              0.3333333333333333,
              "#9c179e"
             ],
             [
              0.4444444444444444,
              "#bd3786"
             ],
             [
              0.5555555555555556,
              "#d8576b"
             ],
             [
              0.6666666666666666,
              "#ed7953"
             ],
             [
              0.7777777777777778,
              "#fb9f3a"
             ],
             [
              0.8888888888888888,
              "#fdca26"
             ],
             [
              1,
              "#f0f921"
             ]
            ],
            "type": "histogram2dcontour"
           }
          ],
          "mesh3d": [
           {
            "colorbar": {
             "outlinewidth": 0,
             "ticks": ""
            },
            "type": "mesh3d"
           }
          ],
          "parcoords": [
           {
            "line": {
             "colorbar": {
              "outlinewidth": 0,
              "ticks": ""
             }
            },
            "type": "parcoords"
           }
          ],
          "pie": [
           {
            "automargin": true,
            "type": "pie"
           }
          ],
          "scatter": [
           {
            "marker": {
             "colorbar": {
              "outlinewidth": 0,
              "ticks": ""
             }
            },
            "type": "scatter"
           }
          ],
          "scatter3d": [
           {
            "line": {
             "colorbar": {
              "outlinewidth": 0,
              "ticks": ""
             }
            },
            "marker": {
             "colorbar": {
              "outlinewidth": 0,
              "ticks": ""
             }
            },
            "type": "scatter3d"
           }
          ],
          "scattercarpet": [
           {
            "marker": {
             "colorbar": {
              "outlinewidth": 0,
              "ticks": ""
             }
            },
            "type": "scattercarpet"
           }
          ],
          "scattergeo": [
           {
            "marker": {
             "colorbar": {
              "outlinewidth": 0,
              "ticks": ""
             }
            },
            "type": "scattergeo"
           }
          ],
          "scattergl": [
           {
            "marker": {
             "colorbar": {
              "outlinewidth": 0,
              "ticks": ""
             }
            },
            "type": "scattergl"
           }
          ],
          "scattermapbox": [
           {
            "marker": {
             "colorbar": {
              "outlinewidth": 0,
              "ticks": ""
             }
            },
            "type": "scattermapbox"
           }
          ],
          "scatterpolar": [
           {
            "marker": {
             "colorbar": {
              "outlinewidth": 0,
              "ticks": ""
             }
            },
            "type": "scatterpolar"
           }
          ],
          "scatterpolargl": [
           {
            "marker": {
             "colorbar": {
              "outlinewidth": 0,
              "ticks": ""
             }
            },
            "type": "scatterpolargl"
           }
          ],
          "scatterternary": [
           {
            "marker": {
             "colorbar": {
              "outlinewidth": 0,
              "ticks": ""
             }
            },
            "type": "scatterternary"
           }
          ],
          "surface": [
           {
            "colorbar": {
             "outlinewidth": 0,
             "ticks": ""
            },
            "colorscale": [
             [
              0,
              "#0d0887"
             ],
             [
              0.1111111111111111,
              "#46039f"
             ],
             [
              0.2222222222222222,
              "#7201a8"
             ],
             [
              0.3333333333333333,
              "#9c179e"
             ],
             [
              0.4444444444444444,
              "#bd3786"
             ],
             [
              0.5555555555555556,
              "#d8576b"
             ],
             [
              0.6666666666666666,
              "#ed7953"
             ],
             [
              0.7777777777777778,
              "#fb9f3a"
             ],
             [
              0.8888888888888888,
              "#fdca26"
             ],
             [
              1,
              "#f0f921"
             ]
            ],
            "type": "surface"
           }
          ],
          "table": [
           {
            "cells": {
             "fill": {
              "color": "#EBF0F8"
             },
             "line": {
              "color": "white"
             }
            },
            "header": {
             "fill": {
              "color": "#C8D4E3"
             },
             "line": {
              "color": "white"
             }
            },
            "type": "table"
           }
          ]
         },
         "layout": {
          "annotationdefaults": {
           "arrowcolor": "#2a3f5f",
           "arrowhead": 0,
           "arrowwidth": 1
          },
          "autotypenumbers": "strict",
          "coloraxis": {
           "colorbar": {
            "outlinewidth": 0,
            "ticks": ""
           }
          },
          "colorscale": {
           "diverging": [
            [
             0,
             "#8e0152"
            ],
            [
             0.1,
             "#c51b7d"
            ],
            [
             0.2,
             "#de77ae"
            ],
            [
             0.3,
             "#f1b6da"
            ],
            [
             0.4,
             "#fde0ef"
            ],
            [
             0.5,
             "#f7f7f7"
            ],
            [
             0.6,
             "#e6f5d0"
            ],
            [
             0.7,
             "#b8e186"
            ],
            [
             0.8,
             "#7fbc41"
            ],
            [
             0.9,
             "#4d9221"
            ],
            [
             1,
             "#276419"
            ]
           ],
           "sequential": [
            [
             0,
             "#0d0887"
            ],
            [
             0.1111111111111111,
             "#46039f"
            ],
            [
             0.2222222222222222,
             "#7201a8"
            ],
            [
             0.3333333333333333,
             "#9c179e"
            ],
            [
             0.4444444444444444,
             "#bd3786"
            ],
            [
             0.5555555555555556,
             "#d8576b"
            ],
            [
             0.6666666666666666,
             "#ed7953"
            ],
            [
             0.7777777777777778,
             "#fb9f3a"
            ],
            [
             0.8888888888888888,
             "#fdca26"
            ],
            [
             1,
             "#f0f921"
            ]
           ],
           "sequentialminus": [
            [
             0,
             "#0d0887"
            ],
            [
             0.1111111111111111,
             "#46039f"
            ],
            [
             0.2222222222222222,
             "#7201a8"
            ],
            [
             0.3333333333333333,
             "#9c179e"
            ],
            [
             0.4444444444444444,
             "#bd3786"
            ],
            [
             0.5555555555555556,
             "#d8576b"
            ],
            [
             0.6666666666666666,
             "#ed7953"
            ],
            [
             0.7777777777777778,
             "#fb9f3a"
            ],
            [
             0.8888888888888888,
             "#fdca26"
            ],
            [
             1,
             "#f0f921"
            ]
           ]
          },
          "colorway": [
           "#636efa",
           "#EF553B",
           "#00cc96",
           "#ab63fa",
           "#FFA15A",
           "#19d3f3",
           "#FF6692",
           "#B6E880",
           "#FF97FF",
           "#FECB52"
          ],
          "font": {
           "color": "#2a3f5f"
          },
          "geo": {
           "bgcolor": "white",
           "lakecolor": "white",
           "landcolor": "#E5ECF6",
           "showlakes": true,
           "showland": true,
           "subunitcolor": "white"
          },
          "hoverlabel": {
           "align": "left"
          },
          "hovermode": "closest",
          "mapbox": {
           "style": "light"
          },
          "paper_bgcolor": "white",
          "plot_bgcolor": "#E5ECF6",
          "polar": {
           "angularaxis": {
            "gridcolor": "white",
            "linecolor": "white",
            "ticks": ""
           },
           "bgcolor": "#E5ECF6",
           "radialaxis": {
            "gridcolor": "white",
            "linecolor": "white",
            "ticks": ""
           }
          },
          "scene": {
           "xaxis": {
            "backgroundcolor": "#E5ECF6",
            "gridcolor": "white",
            "gridwidth": 2,
            "linecolor": "white",
            "showbackground": true,
            "ticks": "",
            "zerolinecolor": "white"
           },
           "yaxis": {
            "backgroundcolor": "#E5ECF6",
            "gridcolor": "white",
            "gridwidth": 2,
            "linecolor": "white",
            "showbackground": true,
            "ticks": "",
            "zerolinecolor": "white"
           },
           "zaxis": {
            "backgroundcolor": "#E5ECF6",
            "gridcolor": "white",
            "gridwidth": 2,
            "linecolor": "white",
            "showbackground": true,
            "ticks": "",
            "zerolinecolor": "white"
           }
          },
          "shapedefaults": {
           "line": {
            "color": "#2a3f5f"
           }
          },
          "ternary": {
           "aaxis": {
            "gridcolor": "white",
            "linecolor": "white",
            "ticks": ""
           },
           "baxis": {
            "gridcolor": "white",
            "linecolor": "white",
            "ticks": ""
           },
           "bgcolor": "#E5ECF6",
           "caxis": {
            "gridcolor": "white",
            "linecolor": "white",
            "ticks": ""
           }
          },
          "title": {
           "x": 0.05
          },
          "xaxis": {
           "automargin": true,
           "gridcolor": "white",
           "linecolor": "white",
           "ticks": "",
           "title": {
            "standoff": 15
           },
           "zerolinecolor": "white",
           "zerolinewidth": 2
          },
          "yaxis": {
           "automargin": true,
           "gridcolor": "white",
           "linecolor": "white",
           "ticks": "",
           "title": {
            "standoff": 15
           },
           "zerolinecolor": "white",
           "zerolinewidth": 2
          }
         }
        },
        "title": {
         "text": "Superb Platforms"
        }
       }
      },
      "text/html": [
       "<div>                            <div id=\"0ed5caa4-6306-4629-8957-97643243182b\" class=\"plotly-graph-div\" style=\"height:525px; width:100%;\"></div>            <script type=\"text/javascript\">                require([\"plotly\"], function(Plotly) {                    window.PLOTLYENV=window.PLOTLYENV || {};                                    if (document.getElementById(\"0ed5caa4-6306-4629-8957-97643243182b\")) {                    Plotly.newPlot(                        \"0ed5caa4-6306-4629-8957-97643243182b\",                        [{\"marker\":{\"color\":[\"purple\",\"purple\",\"purple\",\"purple\",\"purple\"]},\"type\":\"bar\",\"x\":[\"Mac\",\"PC (Microsoft Windows)\",\"PlayStation 4\",\"Nintendo 3DS\"],\"y\":[490,373,306,254]}],                        {\"template\":{\"data\":{\"bar\":[{\"error_x\":{\"color\":\"#2a3f5f\"},\"error_y\":{\"color\":\"#2a3f5f\"},\"marker\":{\"line\":{\"color\":\"#E5ECF6\",\"width\":0.5},\"pattern\":{\"fillmode\":\"overlay\",\"size\":10,\"solidity\":0.2}},\"type\":\"bar\"}],\"barpolar\":[{\"marker\":{\"line\":{\"color\":\"#E5ECF6\",\"width\":0.5},\"pattern\":{\"fillmode\":\"overlay\",\"size\":10,\"solidity\":0.2}},\"type\":\"barpolar\"}],\"carpet\":[{\"aaxis\":{\"endlinecolor\":\"#2a3f5f\",\"gridcolor\":\"white\",\"linecolor\":\"white\",\"minorgridcolor\":\"white\",\"startlinecolor\":\"#2a3f5f\"},\"baxis\":{\"endlinecolor\":\"#2a3f5f\",\"gridcolor\":\"white\",\"linecolor\":\"white\",\"minorgridcolor\":\"white\",\"startlinecolor\":\"#2a3f5f\"},\"type\":\"carpet\"}],\"choropleth\":[{\"colorbar\":{\"outlinewidth\":0,\"ticks\":\"\"},\"type\":\"choropleth\"}],\"contour\":[{\"colorbar\":{\"outlinewidth\":0,\"ticks\":\"\"},\"colorscale\":[[0.0,\"#0d0887\"],[0.1111111111111111,\"#46039f\"],[0.2222222222222222,\"#7201a8\"],[0.3333333333333333,\"#9c179e\"],[0.4444444444444444,\"#bd3786\"],[0.5555555555555556,\"#d8576b\"],[0.6666666666666666,\"#ed7953\"],[0.7777777777777778,\"#fb9f3a\"],[0.8888888888888888,\"#fdca26\"],[1.0,\"#f0f921\"]],\"type\":\"contour\"}],\"contourcarpet\":[{\"colorbar\":{\"outlinewidth\":0,\"ticks\":\"\"},\"type\":\"contourcarpet\"}],\"heatmap\":[{\"colorbar\":{\"outlinewidth\":0,\"ticks\":\"\"},\"colorscale\":[[0.0,\"#0d0887\"],[0.1111111111111111,\"#46039f\"],[0.2222222222222222,\"#7201a8\"],[0.3333333333333333,\"#9c179e\"],[0.4444444444444444,\"#bd3786\"],[0.5555555555555556,\"#d8576b\"],[0.6666666666666666,\"#ed7953\"],[0.7777777777777778,\"#fb9f3a\"],[0.8888888888888888,\"#fdca26\"],[1.0,\"#f0f921\"]],\"type\":\"heatmap\"}],\"heatmapgl\":[{\"colorbar\":{\"outlinewidth\":0,\"ticks\":\"\"},\"colorscale\":[[0.0,\"#0d0887\"],[0.1111111111111111,\"#46039f\"],[0.2222222222222222,\"#7201a8\"],[0.3333333333333333,\"#9c179e\"],[0.4444444444444444,\"#bd3786\"],[0.5555555555555556,\"#d8576b\"],[0.6666666666666666,\"#ed7953\"],[0.7777777777777778,\"#fb9f3a\"],[0.8888888888888888,\"#fdca26\"],[1.0,\"#f0f921\"]],\"type\":\"heatmapgl\"}],\"histogram\":[{\"marker\":{\"pattern\":{\"fillmode\":\"overlay\",\"size\":10,\"solidity\":0.2}},\"type\":\"histogram\"}],\"histogram2d\":[{\"colorbar\":{\"outlinewidth\":0,\"ticks\":\"\"},\"colorscale\":[[0.0,\"#0d0887\"],[0.1111111111111111,\"#46039f\"],[0.2222222222222222,\"#7201a8\"],[0.3333333333333333,\"#9c179e\"],[0.4444444444444444,\"#bd3786\"],[0.5555555555555556,\"#d8576b\"],[0.6666666666666666,\"#ed7953\"],[0.7777777777777778,\"#fb9f3a\"],[0.8888888888888888,\"#fdca26\"],[1.0,\"#f0f921\"]],\"type\":\"histogram2d\"}],\"histogram2dcontour\":[{\"colorbar\":{\"outlinewidth\":0,\"ticks\":\"\"},\"colorscale\":[[0.0,\"#0d0887\"],[0.1111111111111111,\"#46039f\"],[0.2222222222222222,\"#7201a8\"],[0.3333333333333333,\"#9c179e\"],[0.4444444444444444,\"#bd3786\"],[0.5555555555555556,\"#d8576b\"],[0.6666666666666666,\"#ed7953\"],[0.7777777777777778,\"#fb9f3a\"],[0.8888888888888888,\"#fdca26\"],[1.0,\"#f0f921\"]],\"type\":\"histogram2dcontour\"}],\"mesh3d\":[{\"colorbar\":{\"outlinewidth\":0,\"ticks\":\"\"},\"type\":\"mesh3d\"}],\"parcoords\":[{\"line\":{\"colorbar\":{\"outlinewidth\":0,\"ticks\":\"\"}},\"type\":\"parcoords\"}],\"pie\":[{\"automargin\":true,\"type\":\"pie\"}],\"scatter\":[{\"marker\":{\"colorbar\":{\"outlinewidth\":0,\"ticks\":\"\"}},\"type\":\"scatter\"}],\"scatter3d\":[{\"line\":{\"colorbar\":{\"outlinewidth\":0,\"ticks\":\"\"}},\"marker\":{\"colorbar\":{\"outlinewidth\":0,\"ticks\":\"\"}},\"type\":\"scatter3d\"}],\"scattercarpet\":[{\"marker\":{\"colorbar\":{\"outlinewidth\":0,\"ticks\":\"\"}},\"type\":\"scattercarpet\"}],\"scattergeo\":[{\"marker\":{\"colorbar\":{\"outlinewidth\":0,\"ticks\":\"\"}},\"type\":\"scattergeo\"}],\"scattergl\":[{\"marker\":{\"colorbar\":{\"outlinewidth\":0,\"ticks\":\"\"}},\"type\":\"scattergl\"}],\"scattermapbox\":[{\"marker\":{\"colorbar\":{\"outlinewidth\":0,\"ticks\":\"\"}},\"type\":\"scattermapbox\"}],\"scatterpolar\":[{\"marker\":{\"colorbar\":{\"outlinewidth\":0,\"ticks\":\"\"}},\"type\":\"scatterpolar\"}],\"scatterpolargl\":[{\"marker\":{\"colorbar\":{\"outlinewidth\":0,\"ticks\":\"\"}},\"type\":\"scatterpolargl\"}],\"scatterternary\":[{\"marker\":{\"colorbar\":{\"outlinewidth\":0,\"ticks\":\"\"}},\"type\":\"scatterternary\"}],\"surface\":[{\"colorbar\":{\"outlinewidth\":0,\"ticks\":\"\"},\"colorscale\":[[0.0,\"#0d0887\"],[0.1111111111111111,\"#46039f\"],[0.2222222222222222,\"#7201a8\"],[0.3333333333333333,\"#9c179e\"],[0.4444444444444444,\"#bd3786\"],[0.5555555555555556,\"#d8576b\"],[0.6666666666666666,\"#ed7953\"],[0.7777777777777778,\"#fb9f3a\"],[0.8888888888888888,\"#fdca26\"],[1.0,\"#f0f921\"]],\"type\":\"surface\"}],\"table\":[{\"cells\":{\"fill\":{\"color\":\"#EBF0F8\"},\"line\":{\"color\":\"white\"}},\"header\":{\"fill\":{\"color\":\"#C8D4E3\"},\"line\":{\"color\":\"white\"}},\"type\":\"table\"}]},\"layout\":{\"annotationdefaults\":{\"arrowcolor\":\"#2a3f5f\",\"arrowhead\":0,\"arrowwidth\":1},\"autotypenumbers\":\"strict\",\"coloraxis\":{\"colorbar\":{\"outlinewidth\":0,\"ticks\":\"\"}},\"colorscale\":{\"diverging\":[[0,\"#8e0152\"],[0.1,\"#c51b7d\"],[0.2,\"#de77ae\"],[0.3,\"#f1b6da\"],[0.4,\"#fde0ef\"],[0.5,\"#f7f7f7\"],[0.6,\"#e6f5d0\"],[0.7,\"#b8e186\"],[0.8,\"#7fbc41\"],[0.9,\"#4d9221\"],[1,\"#276419\"]],\"sequential\":[[0.0,\"#0d0887\"],[0.1111111111111111,\"#46039f\"],[0.2222222222222222,\"#7201a8\"],[0.3333333333333333,\"#9c179e\"],[0.4444444444444444,\"#bd3786\"],[0.5555555555555556,\"#d8576b\"],[0.6666666666666666,\"#ed7953\"],[0.7777777777777778,\"#fb9f3a\"],[0.8888888888888888,\"#fdca26\"],[1.0,\"#f0f921\"]],\"sequentialminus\":[[0.0,\"#0d0887\"],[0.1111111111111111,\"#46039f\"],[0.2222222222222222,\"#7201a8\"],[0.3333333333333333,\"#9c179e\"],[0.4444444444444444,\"#bd3786\"],[0.5555555555555556,\"#d8576b\"],[0.6666666666666666,\"#ed7953\"],[0.7777777777777778,\"#fb9f3a\"],[0.8888888888888888,\"#fdca26\"],[1.0,\"#f0f921\"]]},\"colorway\":[\"#636efa\",\"#EF553B\",\"#00cc96\",\"#ab63fa\",\"#FFA15A\",\"#19d3f3\",\"#FF6692\",\"#B6E880\",\"#FF97FF\",\"#FECB52\"],\"font\":{\"color\":\"#2a3f5f\"},\"geo\":{\"bgcolor\":\"white\",\"lakecolor\":\"white\",\"landcolor\":\"#E5ECF6\",\"showlakes\":true,\"showland\":true,\"subunitcolor\":\"white\"},\"hoverlabel\":{\"align\":\"left\"},\"hovermode\":\"closest\",\"mapbox\":{\"style\":\"light\"},\"paper_bgcolor\":\"white\",\"plot_bgcolor\":\"#E5ECF6\",\"polar\":{\"angularaxis\":{\"gridcolor\":\"white\",\"linecolor\":\"white\",\"ticks\":\"\"},\"bgcolor\":\"#E5ECF6\",\"radialaxis\":{\"gridcolor\":\"white\",\"linecolor\":\"white\",\"ticks\":\"\"}},\"scene\":{\"xaxis\":{\"backgroundcolor\":\"#E5ECF6\",\"gridcolor\":\"white\",\"gridwidth\":2,\"linecolor\":\"white\",\"showbackground\":true,\"ticks\":\"\",\"zerolinecolor\":\"white\"},\"yaxis\":{\"backgroundcolor\":\"#E5ECF6\",\"gridcolor\":\"white\",\"gridwidth\":2,\"linecolor\":\"white\",\"showbackground\":true,\"ticks\":\"\",\"zerolinecolor\":\"white\"},\"zaxis\":{\"backgroundcolor\":\"#E5ECF6\",\"gridcolor\":\"white\",\"gridwidth\":2,\"linecolor\":\"white\",\"showbackground\":true,\"ticks\":\"\",\"zerolinecolor\":\"white\"}},\"shapedefaults\":{\"line\":{\"color\":\"#2a3f5f\"}},\"ternary\":{\"aaxis\":{\"gridcolor\":\"white\",\"linecolor\":\"white\",\"ticks\":\"\"},\"baxis\":{\"gridcolor\":\"white\",\"linecolor\":\"white\",\"ticks\":\"\"},\"bgcolor\":\"#E5ECF6\",\"caxis\":{\"gridcolor\":\"white\",\"linecolor\":\"white\",\"ticks\":\"\"}},\"title\":{\"x\":0.05},\"xaxis\":{\"automargin\":true,\"gridcolor\":\"white\",\"linecolor\":\"white\",\"ticks\":\"\",\"title\":{\"standoff\":15},\"zerolinecolor\":\"white\",\"zerolinewidth\":2},\"yaxis\":{\"automargin\":true,\"gridcolor\":\"white\",\"linecolor\":\"white\",\"ticks\":\"\",\"title\":{\"standoff\":15},\"zerolinecolor\":\"white\",\"zerolinewidth\":2}}},\"title\":{\"text\":\"Superb Platforms\"}},                        {\"responsive\": true}                    ).then(function(){\n",
       "                            \n",
       "var gd = document.getElementById('0ed5caa4-6306-4629-8957-97643243182b');\n",
       "var x = new MutationObserver(function (mutations, observer) {{\n",
       "        var display = window.getComputedStyle(gd).display;\n",
       "        if (!display || display === 'none') {{\n",
       "            console.log([gd, 'removed!']);\n",
       "            Plotly.purge(gd);\n",
       "            observer.disconnect();\n",
       "        }}\n",
       "}});\n",
       "\n",
       "// Listen for the removal of the full notebook cells\n",
       "var notebookContainer = gd.closest('#notebook-container');\n",
       "if (notebookContainer) {{\n",
       "    x.observe(notebookContainer, {childList: true});\n",
       "}}\n",
       "\n",
       "// Listen for the clearing of the current output cell\n",
       "var outputEl = gd.closest('.output');\n",
       "if (outputEl) {{\n",
       "    x.observe(outputEl, {childList: true});\n",
       "}}\n",
       "\n",
       "                        })                };                });            </script>        </div>"
      ]
     },
     "metadata": {},
     "output_type": "display_data"
    }
   ],
   "source": [
    "colors = ['purple',] * 5\n",
    "\n",
    "\n",
    "fig = go.Figure(data=[go.Bar(\n",
    "    x=['Mac', 'PC (Microsoft Windows)', 'PlayStation 4', 'Nintendo 3DS'],\n",
    "    y=[490, 373, 306, 254],\n",
    "    marker_color=colors # marker color can be a single color value or an iterable\n",
    ")])\n",
    "fig.update_layout(title_text='Superb Platforms')"
   ]
  },
  {
   "cell_type": "markdown",
   "id": "307b2dd0",
   "metadata": {},
   "source": [
    "- Yes it looks like for the games in the three highest member ratings (good, great,subperb) the majority of those games are played on \n",
    "    - PC(microsoft Windows)\n",
    "    - X-Box 360\n",
    "    - ps 3 and 4 \n",
    "    - X-box 1"
   ]
  },
  {
   "cell_type": "markdown",
   "id": "c101725e",
   "metadata": {},
   "source": [
    "## These are the top 7 platforms for the lowest  ratings (bad, very bad , awful)"
   ]
  },
  {
   "cell_type": "code",
   "execution_count": 59,
   "id": "9e96532d",
   "metadata": {},
   "outputs": [
    {
     "data": {
      "text/html": [
       "<div>\n",
       "<style scoped>\n",
       "    .dataframe tbody tr th:only-of-type {\n",
       "        vertical-align: middle;\n",
       "    }\n",
       "\n",
       "    .dataframe tbody tr th {\n",
       "        vertical-align: top;\n",
       "    }\n",
       "\n",
       "    .dataframe thead th {\n",
       "        text-align: right;\n",
       "    }\n",
       "</style>\n",
       "<table border=\"1\" class=\"dataframe\">\n",
       "  <thead>\n",
       "    <tr style=\"text-align: right;\">\n",
       "      <th></th>\n",
       "      <th>id</th>\n",
       "      <th>category</th>\n",
       "      <th>created_at</th>\n",
       "      <th>external_games</th>\n",
       "      <th>first_release_date</th>\n",
       "      <th>genres</th>\n",
       "      <th>name</th>\n",
       "      <th>platforms</th>\n",
       "      <th>release_dates</th>\n",
       "      <th>similar_games</th>\n",
       "      <th>slug</th>\n",
       "      <th>summary</th>\n",
       "      <th>tags</th>\n",
       "      <th>updated_at</th>\n",
       "      <th>url</th>\n",
       "      <th>checksum_x</th>\n",
       "      <th>age_ratings</th>\n",
       "      <th>cover</th>\n",
       "      <th>involved_companies</th>\n",
       "      <th>screenshots</th>\n",
       "      <th>game_modes</th>\n",
       "      <th>player_perspectives</th>\n",
       "      <th>themes</th>\n",
       "      <th>websites</th>\n",
       "      <th>alternative_names</th>\n",
       "      <th>artworks</th>\n",
       "      <th>game_engines</th>\n",
       "      <th>keywords</th>\n",
       "      <th>status</th>\n",
       "      <th>videos</th>\n",
       "      <th>rating</th>\n",
       "      <th>rating_count</th>\n",
       "      <th>storyline</th>\n",
       "      <th>total_rating</th>\n",
       "      <th>total_rating_count</th>\n",
       "      <th>version_parent</th>\n",
       "      <th>version_title</th>\n",
       "      <th>hypes</th>\n",
       "      <th>collection</th>\n",
       "      <th>franchises</th>\n",
       "      <th>follows</th>\n",
       "      <th>aggregated_rating</th>\n",
       "      <th>aggregated_rating_count</th>\n",
       "      <th>dlcs</th>\n",
       "      <th>bundles</th>\n",
       "      <th>parent_game</th>\n",
       "      <th>franchise</th>\n",
       "      <th>multiplayer_modes</th>\n",
       "      <th>remakes</th>\n",
       "      <th>ports</th>\n",
       "      <th>expansions</th>\n",
       "      <th>expanded_games</th>\n",
       "      <th>remasters</th>\n",
       "      <th>forks</th>\n",
       "      <th>standalone_expansions</th>\n",
       "      <th>second</th>\n",
       "      <th>version_description</th>\n",
       "      <th>title_version</th>\n",
       "      <th>second_id</th>\n",
       "      <th>campaigncoop</th>\n",
       "      <th>dropin</th>\n",
       "      <th>lancoop</th>\n",
       "      <th>offlinecoop</th>\n",
       "      <th>offlinemax</th>\n",
       "      <th>onlinecoop</th>\n",
       "      <th>platform</th>\n",
       "      <th>splitscreen</th>\n",
       "      <th>checksum_y</th>\n",
       "      <th>offlinecoopmax</th>\n",
       "      <th>onlinecoopmax</th>\n",
       "      <th>onlinemax</th>\n",
       "      <th>rating_bin</th>\n",
       "    </tr>\n",
       "  </thead>\n",
       "  <tbody>\n",
       "    <tr>\n",
       "      <th>1855</th>\n",
       "      <td>3854</td>\n",
       "      <td>0</td>\n",
       "      <td>2014-01-19</td>\n",
       "      <td>[35445, 1744593, 1946817]</td>\n",
       "      <td>1.058400e+09</td>\n",
       "      <td>[racing]</td>\n",
       "      <td>Charinko Hero</td>\n",
       "      <td>[Nintendo GameCube]</td>\n",
       "      <td>[8811]</td>\n",
       "      <td>[96476, 103301, 105011, 109292, 111130, 113895...</td>\n",
       "      <td>charinko-hero</td>\n",
       "      <td>Charinko Hero is a Racing game, developed and ...</td>\n",
       "      <td>[1, 268435466, 536871308]</td>\n",
       "      <td>2020-11-06</td>\n",
       "      <td>https://www.igdb.com/games/charinko-hero</td>\n",
       "      <td>c9e8c906-4031-9530-70c2-6f4d85546065</td>\n",
       "      <td>None</td>\n",
       "      <td>4078.0</td>\n",
       "      <td>[10014]</td>\n",
       "      <td>None</td>\n",
       "      <td>[single-player, split-screen]</td>\n",
       "      <td>[Third person]</td>\n",
       "      <td>[Action]</td>\n",
       "      <td>None</td>\n",
       "      <td>[32596]</td>\n",
       "      <td>None</td>\n",
       "      <td>None</td>\n",
       "      <td>[396]</td>\n",
       "      <td>NaN</td>\n",
       "      <td>None</td>\n",
       "      <td>16.0</td>\n",
       "      <td>0</td>\n",
       "      <td>None</td>\n",
       "      <td>16.0</td>\n",
       "      <td>0</td>\n",
       "      <td>NaN</td>\n",
       "      <td>None</td>\n",
       "      <td>NaN</td>\n",
       "      <td>NaN</td>\n",
       "      <td>None</td>\n",
       "      <td>NaN</td>\n",
       "      <td>NaN</td>\n",
       "      <td>NaN</td>\n",
       "      <td>None</td>\n",
       "      <td>None</td>\n",
       "      <td>NaN</td>\n",
       "      <td>NaN</td>\n",
       "      <td>None</td>\n",
       "      <td>None</td>\n",
       "      <td>None</td>\n",
       "      <td>None</td>\n",
       "      <td>None</td>\n",
       "      <td>None</td>\n",
       "      <td>None</td>\n",
       "      <td>None</td>\n",
       "      <td>NaN</td>\n",
       "      <td>None</td>\n",
       "      <td>None</td>\n",
       "      <td>NaN</td>\n",
       "      <td>False</td>\n",
       "      <td>False</td>\n",
       "      <td>False</td>\n",
       "      <td>False</td>\n",
       "      <td>0</td>\n",
       "      <td>False</td>\n",
       "      <td>NaN</td>\n",
       "      <td>False</td>\n",
       "      <td>None</td>\n",
       "      <td>0</td>\n",
       "      <td>0</td>\n",
       "      <td>0</td>\n",
       "      <td>very_bad</td>\n",
       "    </tr>\n",
       "  </tbody>\n",
       "</table>\n",
       "</div>"
      ],
      "text/plain": [
       "        id  category created_at             external_games  \\\n",
       "1855  3854         0 2014-01-19  [35445, 1744593, 1946817]   \n",
       "\n",
       "      first_release_date    genres           name            platforms  \\\n",
       "1855        1.058400e+09  [racing]  Charinko Hero  [Nintendo GameCube]   \n",
       "\n",
       "     release_dates                                      similar_games  \\\n",
       "1855        [8811]  [96476, 103301, 105011, 109292, 111130, 113895...   \n",
       "\n",
       "               slug                                            summary  \\\n",
       "1855  charinko-hero  Charinko Hero is a Racing game, developed and ...   \n",
       "\n",
       "                           tags updated_at  \\\n",
       "1855  [1, 268435466, 536871308] 2020-11-06   \n",
       "\n",
       "                                           url  \\\n",
       "1855  https://www.igdb.com/games/charinko-hero   \n",
       "\n",
       "                                checksum_x age_ratings   cover  \\\n",
       "1855  c9e8c906-4031-9530-70c2-6f4d85546065        None  4078.0   \n",
       "\n",
       "     involved_companies screenshots                     game_modes  \\\n",
       "1855            [10014]        None  [single-player, split-screen]   \n",
       "\n",
       "     player_perspectives    themes websites alternative_names artworks  \\\n",
       "1855      [Third person]  [Action]     None           [32596]     None   \n",
       "\n",
       "     game_engines keywords  status videos  rating  rating_count storyline  \\\n",
       "1855         None    [396]     NaN   None    16.0             0      None   \n",
       "\n",
       "      total_rating  total_rating_count  version_parent version_title  hypes  \\\n",
       "1855          16.0                   0             NaN          None    NaN   \n",
       "\n",
       "      collection franchises  follows  aggregated_rating  \\\n",
       "1855         NaN       None      NaN                NaN   \n",
       "\n",
       "      aggregated_rating_count  dlcs bundles  parent_game  franchise  \\\n",
       "1855                      NaN  None    None          NaN        NaN   \n",
       "\n",
       "     multiplayer_modes remakes ports expansions expanded_games remasters  \\\n",
       "1855              None    None  None       None           None      None   \n",
       "\n",
       "     forks standalone_expansions  second version_description title_version  \\\n",
       "1855  None                  None     NaN                None          None   \n",
       "\n",
       "      second_id  campaigncoop  dropin  lancoop  offlinecoop  offlinemax  \\\n",
       "1855        NaN         False   False    False        False           0   \n",
       "\n",
       "      onlinecoop  platform  splitscreen checksum_y  offlinecoopmax  \\\n",
       "1855       False       NaN        False       None               0   \n",
       "\n",
       "      onlinecoopmax  onlinemax rating_bin  \n",
       "1855              0          0   very_bad  "
      ]
     },
     "execution_count": 59,
     "metadata": {},
     "output_type": "execute_result"
    }
   ],
   "source": [
    "df_low3_rating = df2[(df2['rating_bin']== 'bad') | (df2['rating_bin']== 'very_bad') | (df2['rating_bin']== 'awful')]\n",
    "df_low3_rating.head(1)"
   ]
  },
  {
   "cell_type": "code",
   "execution_count": 67,
   "id": "4916b716",
   "metadata": {},
   "outputs": [
    {
     "data": {
      "text/plain": [
       "Text(0.5, 1.0, 'platforms')"
      ]
     },
     "execution_count": 67,
     "metadata": {},
     "output_type": "execute_result"
    },
    {
     "data": {
      "image/png": "[encoded data removed]",
      "text/plain": [
       "<Figure size 1008x288 with 1 Axes>"
      ]
     },
     "metadata": {
      "needs_background": "light"
     },
     "output_type": "display_data"
    }
   ],
   "source": [
    "fig, ax = plt.subplots(figsize = (14,4))\n",
    "ax.bar(to_1D(df_low3_rating[\"platforms\"]).value_counts().iloc[:7].index,\n",
    "        to_1D(df_low3_rating[\"platforms\"]).value_counts().iloc[:7].values)\n",
    "ax.set_ylabel(\"Frequency\", size = 12)\n",
    "ax.set_title(\"platforms\", size = 14)"
   ]
  },
  {
   "cell_type": "code",
   "execution_count": null,
   "id": "8174a7a3",
   "metadata": {},
   "outputs": [],
   "source": []
  },
  {
   "cell_type": "markdown",
   "id": "17eea102",
   "metadata": {},
   "source": [
    "# Q2- what is the most common genre in games that are `subperb` (the highest rating)"
   ]
  },
  {
   "cell_type": "markdown",
   "id": "e773b478",
   "metadata": {},
   "source": [
    "- Answer- the most common Genre in the higest rating are adventure, role-playing- rpg, shoter, rts, racing "
   ]
  },
  {
   "cell_type": "code",
   "execution_count": 33,
   "id": "817481e2",
   "metadata": {
    "scrolled": true
   },
   "outputs": [
    {
     "data": {
      "text/html": [
       "<div>\n",
       "<style scoped>\n",
       "    .dataframe tbody tr th:only-of-type {\n",
       "        vertical-align: middle;\n",
       "    }\n",
       "\n",
       "    .dataframe tbody tr th {\n",
       "        vertical-align: top;\n",
       "    }\n",
       "\n",
       "    .dataframe thead th {\n",
       "        text-align: right;\n",
       "    }\n",
       "</style>\n",
       "<table border=\"1\" class=\"dataframe\">\n",
       "  <thead>\n",
       "    <tr style=\"text-align: right;\">\n",
       "      <th></th>\n",
       "      <th>id</th>\n",
       "      <th>category</th>\n",
       "      <th>created_at</th>\n",
       "      <th>external_games</th>\n",
       "      <th>first_release_date</th>\n",
       "      <th>genres</th>\n",
       "      <th>name</th>\n",
       "      <th>platforms</th>\n",
       "      <th>release_dates</th>\n",
       "      <th>similar_games</th>\n",
       "      <th>...</th>\n",
       "      <th>offlinecoop</th>\n",
       "      <th>offlinemax</th>\n",
       "      <th>onlinecoop</th>\n",
       "      <th>platform</th>\n",
       "      <th>splitscreen</th>\n",
       "      <th>checksum_y</th>\n",
       "      <th>offlinecoopmax</th>\n",
       "      <th>onlinecoopmax</th>\n",
       "      <th>onlinemax</th>\n",
       "      <th>rating_bin</th>\n",
       "    </tr>\n",
       "  </thead>\n",
       "  <tbody>\n",
       "    <tr>\n",
       "      <th>350151</th>\n",
       "      <td>2617</td>\n",
       "      <td>3</td>\n",
       "      <td>2013-07-17 16:09:09</td>\n",
       "      <td>[43459, 78277]</td>\n",
       "      <td>8.703936e+08</td>\n",
       "      <td>[real-time-strategy-rts, simulator, strategy]</td>\n",
       "      <td>The Settlers II: Gold Edition</td>\n",
       "      <td>[DOS, Mac, Nintendo DS]</td>\n",
       "      <td>[194838, 194839, 194840]</td>\n",
       "      <td>[9789, 18623, 20776, 28325, 29173, 31480, 3151...</td>\n",
       "      <td>...</td>\n",
       "      <td>False</td>\n",
       "      <td>0</td>\n",
       "      <td>False</td>\n",
       "      <td>NaN</td>\n",
       "      <td>False</td>\n",
       "      <td>1c2dfca2-6ee8-b54e-b243-05ffb0c646bc</td>\n",
       "      <td>0</td>\n",
       "      <td>0</td>\n",
       "      <td>0</td>\n",
       "      <td>subperb</td>\n",
       "    </tr>\n",
       "    <tr>\n",
       "      <th>404391</th>\n",
       "      <td>29207</td>\n",
       "      <td>0</td>\n",
       "      <td>2017-05-20 12:20:49</td>\n",
       "      <td>[14106, 77210, 85081, 96659, 2136317]</td>\n",
       "      <td>1.133222e+09</td>\n",
       "      <td>[role-playing-rpg]</td>\n",
       "      <td>Gothic II: Gold Edition</td>\n",
       "      <td>[PC (Microsoft Windows)]</td>\n",
       "      <td>[196063]</td>\n",
       "      <td>[19164, 54775, 81249, 96217, 99118, 101608, 10...</td>\n",
       "      <td>...</td>\n",
       "      <td>False</td>\n",
       "      <td>0</td>\n",
       "      <td>False</td>\n",
       "      <td>NaN</td>\n",
       "      <td>False</td>\n",
       "      <td>None</td>\n",
       "      <td>0</td>\n",
       "      <td>0</td>\n",
       "      <td>0</td>\n",
       "      <td>subperb</td>\n",
       "    </tr>\n",
       "    <tr>\n",
       "      <th>413553</th>\n",
       "      <td>59849</td>\n",
       "      <td>9</td>\n",
       "      <td>2017-09-07 18:41:31</td>\n",
       "      <td>[197757, 210636, 398654, 1237237, 2000741, 211...</td>\n",
       "      <td>1.510618e+09</td>\n",
       "      <td>[shooter, strategy, adventure]</td>\n",
       "      <td>L.A. Noire</td>\n",
       "      <td>[PlayStation 4, Xbox One]</td>\n",
       "      <td>[112409, 112410, 135021, 135022, 136102]</td>\n",
       "      <td>[17379, 17548, 18167, 18225, 26574, 27092, 285...</td>\n",
       "      <td>...</td>\n",
       "      <td>False</td>\n",
       "      <td>0</td>\n",
       "      <td>False</td>\n",
       "      <td>NaN</td>\n",
       "      <td>False</td>\n",
       "      <td>None</td>\n",
       "      <td>0</td>\n",
       "      <td>0</td>\n",
       "      <td>0</td>\n",
       "      <td>subperb</td>\n",
       "    </tr>\n",
       "    <tr>\n",
       "      <th>418493</th>\n",
       "      <td>74</td>\n",
       "      <td>0</td>\n",
       "      <td>2011-02-18 09:01:17</td>\n",
       "      <td>[14434, 80756, 86905, 137458, 213810, 245424, ...</td>\n",
       "      <td>1.264464e+09</td>\n",
       "      <td>[shooter, role-playing-rpg, simulator, adventure]</td>\n",
       "      <td>Mass Effect 2</td>\n",
       "      <td>[PC (Microsoft Windows), PlayStation 3, Xbox 360]</td>\n",
       "      <td>[20909, 20910, 20911, 20912, 20913, 20914, 209...</td>\n",
       "      <td>[16, 21, 41, 43, 533, 571, 960, 1020, 1985, 2031]</td>\n",
       "      <td>...</td>\n",
       "      <td>False</td>\n",
       "      <td>0</td>\n",
       "      <td>False</td>\n",
       "      <td>NaN</td>\n",
       "      <td>False</td>\n",
       "      <td>None</td>\n",
       "      <td>0</td>\n",
       "      <td>0</td>\n",
       "      <td>0</td>\n",
       "      <td>subperb</td>\n",
       "    </tr>\n",
       "    <tr>\n",
       "      <th>350022</th>\n",
       "      <td>2617</td>\n",
       "      <td>3</td>\n",
       "      <td>2013-07-17 16:09:09</td>\n",
       "      <td>[43459, 78277]</td>\n",
       "      <td>8.703936e+08</td>\n",
       "      <td>[real-time-strategy-rts, simulator, strategy]</td>\n",
       "      <td>The Settlers II: Gold Edition</td>\n",
       "      <td>[DOS, Mac, Nintendo DS]</td>\n",
       "      <td>[194838, 194839, 194840]</td>\n",
       "      <td>[9789, 18623, 20776, 28325, 29173, 31480, 3151...</td>\n",
       "      <td>...</td>\n",
       "      <td>False</td>\n",
       "      <td>0</td>\n",
       "      <td>False</td>\n",
       "      <td>NaN</td>\n",
       "      <td>False</td>\n",
       "      <td>1c2dfca2-6ee8-b54e-b243-05ffb0c646bc</td>\n",
       "      <td>0</td>\n",
       "      <td>0</td>\n",
       "      <td>0</td>\n",
       "      <td>subperb</td>\n",
       "    </tr>\n",
       "    <tr>\n",
       "      <th>...</th>\n",
       "      <td>...</td>\n",
       "      <td>...</td>\n",
       "      <td>...</td>\n",
       "      <td>...</td>\n",
       "      <td>...</td>\n",
       "      <td>...</td>\n",
       "      <td>...</td>\n",
       "      <td>...</td>\n",
       "      <td>...</td>\n",
       "      <td>...</td>\n",
       "      <td>...</td>\n",
       "      <td>...</td>\n",
       "      <td>...</td>\n",
       "      <td>...</td>\n",
       "      <td>...</td>\n",
       "      <td>...</td>\n",
       "      <td>...</td>\n",
       "      <td>...</td>\n",
       "      <td>...</td>\n",
       "      <td>...</td>\n",
       "      <td>...</td>\n",
       "    </tr>\n",
       "    <tr>\n",
       "      <th>349937</th>\n",
       "      <td>2617</td>\n",
       "      <td>3</td>\n",
       "      <td>2013-07-17 16:09:09</td>\n",
       "      <td>[43459, 78277]</td>\n",
       "      <td>8.703936e+08</td>\n",
       "      <td>[real-time-strategy-rts, simulator, strategy]</td>\n",
       "      <td>The Settlers II: Gold Edition</td>\n",
       "      <td>[DOS, Mac, Nintendo DS]</td>\n",
       "      <td>[194838, 194839, 194840]</td>\n",
       "      <td>[9789, 18623, 20776, 28325, 29173, 31480, 3151...</td>\n",
       "      <td>...</td>\n",
       "      <td>False</td>\n",
       "      <td>0</td>\n",
       "      <td>False</td>\n",
       "      <td>NaN</td>\n",
       "      <td>False</td>\n",
       "      <td>1c2dfca2-6ee8-b54e-b243-05ffb0c646bc</td>\n",
       "      <td>0</td>\n",
       "      <td>0</td>\n",
       "      <td>0</td>\n",
       "      <td>subperb</td>\n",
       "    </tr>\n",
       "    <tr>\n",
       "      <th>388383</th>\n",
       "      <td>6440</td>\n",
       "      <td>0</td>\n",
       "      <td>2014-04-25 09:48:13</td>\n",
       "      <td>[28211, 74916, 115817, 219004, 246341, 1929988...</td>\n",
       "      <td>1.412986e+09</td>\n",
       "      <td>[role-playing-rpg, adventure]</td>\n",
       "      <td>Monster Hunter 4 Ultimate</td>\n",
       "      <td>[Nintendo 3DS]</td>\n",
       "      <td>[25676, 25677, 25678, 129943]</td>\n",
       "      <td>[6, 121, 125, 472, 1879, 2155, 2368, 2480, 396...</td>\n",
       "      <td>...</td>\n",
       "      <td>False</td>\n",
       "      <td>0</td>\n",
       "      <td>True</td>\n",
       "      <td>37.0</td>\n",
       "      <td>False</td>\n",
       "      <td>ed1ef7e9-f817-f949-00bb-9fbc9a1f2b07</td>\n",
       "      <td>0</td>\n",
       "      <td>4</td>\n",
       "      <td>0</td>\n",
       "      <td>subperb</td>\n",
       "    </tr>\n",
       "    <tr>\n",
       "      <th>350134</th>\n",
       "      <td>2617</td>\n",
       "      <td>3</td>\n",
       "      <td>2013-07-17 16:09:09</td>\n",
       "      <td>[43459, 78277]</td>\n",
       "      <td>8.703936e+08</td>\n",
       "      <td>[real-time-strategy-rts, simulator, strategy]</td>\n",
       "      <td>The Settlers II: Gold Edition</td>\n",
       "      <td>[DOS, Mac, Nintendo DS]</td>\n",
       "      <td>[194838, 194839, 194840]</td>\n",
       "      <td>[9789, 18623, 20776, 28325, 29173, 31480, 3151...</td>\n",
       "      <td>...</td>\n",
       "      <td>False</td>\n",
       "      <td>0</td>\n",
       "      <td>False</td>\n",
       "      <td>NaN</td>\n",
       "      <td>False</td>\n",
       "      <td>1c2dfca2-6ee8-b54e-b243-05ffb0c646bc</td>\n",
       "      <td>0</td>\n",
       "      <td>0</td>\n",
       "      <td>0</td>\n",
       "      <td>subperb</td>\n",
       "    </tr>\n",
       "    <tr>\n",
       "      <th>420836</th>\n",
       "      <td>25358</td>\n",
       "      <td>0</td>\n",
       "      <td>2016-11-01 09:07:23</td>\n",
       "      <td>[14912, 76955]</td>\n",
       "      <td>9.616320e+08</td>\n",
       "      <td>[shooter, role-playing-rpg, adventure]</td>\n",
       "      <td>Deus Ex: Game of the Year Edition</td>\n",
       "      <td>[PC (Microsoft Windows)]</td>\n",
       "      <td>[66779]</td>\n",
       "      <td>[25311, 55038, 76877, 96217, 103301, 105049, 1...</td>\n",
       "      <td>...</td>\n",
       "      <td>False</td>\n",
       "      <td>0</td>\n",
       "      <td>False</td>\n",
       "      <td>NaN</td>\n",
       "      <td>False</td>\n",
       "      <td>None</td>\n",
       "      <td>0</td>\n",
       "      <td>0</td>\n",
       "      <td>0</td>\n",
       "      <td>subperb</td>\n",
       "    </tr>\n",
       "    <tr>\n",
       "      <th>234229</th>\n",
       "      <td>21892</td>\n",
       "      <td>3</td>\n",
       "      <td>2016-07-29 19:59:44</td>\n",
       "      <td>[14487, 25620, 77117, 84333, 96369, 1929837, 1...</td>\n",
       "      <td>1.255392e+09</td>\n",
       "      <td>[shooter, role-playing-rpg, adventure]</td>\n",
       "      <td>Fallout 3: Game of the Year Edition</td>\n",
       "      <td>[PC (Microsoft Windows), PlayStation 3, Xbox 360]</td>\n",
       "      <td>[115449, 115450, 115451]</td>\n",
       "      <td>[1877, 17379, 26574, 44076, 54842, 55038, 1012...</td>\n",
       "      <td>...</td>\n",
       "      <td>False</td>\n",
       "      <td>0</td>\n",
       "      <td>False</td>\n",
       "      <td>NaN</td>\n",
       "      <td>False</td>\n",
       "      <td>None</td>\n",
       "      <td>0</td>\n",
       "      <td>0</td>\n",
       "      <td>0</td>\n",
       "      <td>subperb</td>\n",
       "    </tr>\n",
       "  </tbody>\n",
       "</table>\n",
       "<p>909 rows × 72 columns</p>\n",
       "</div>"
      ],
      "text/plain": [
       "           id  category          created_at  \\\n",
       "350151   2617         3 2013-07-17 16:09:09   \n",
       "404391  29207         0 2017-05-20 12:20:49   \n",
       "413553  59849         9 2017-09-07 18:41:31   \n",
       "418493     74         0 2011-02-18 09:01:17   \n",
       "350022   2617         3 2013-07-17 16:09:09   \n",
       "...       ...       ...                 ...   \n",
       "349937   2617         3 2013-07-17 16:09:09   \n",
       "388383   6440         0 2014-04-25 09:48:13   \n",
       "350134   2617         3 2013-07-17 16:09:09   \n",
       "420836  25358         0 2016-11-01 09:07:23   \n",
       "234229  21892         3 2016-07-29 19:59:44   \n",
       "\n",
       "                                           external_games  first_release_date  \\\n",
       "350151                                     [43459, 78277]        8.703936e+08   \n",
       "404391              [14106, 77210, 85081, 96659, 2136317]        1.133222e+09   \n",
       "413553  [197757, 210636, 398654, 1237237, 2000741, 211...        1.510618e+09   \n",
       "418493  [14434, 80756, 86905, 137458, 213810, 245424, ...        1.264464e+09   \n",
       "350022                                     [43459, 78277]        8.703936e+08   \n",
       "...                                                   ...                 ...   \n",
       "349937                                     [43459, 78277]        8.703936e+08   \n",
       "388383  [28211, 74916, 115817, 219004, 246341, 1929988...        1.412986e+09   \n",
       "350134                                     [43459, 78277]        8.703936e+08   \n",
       "420836                                     [14912, 76955]        9.616320e+08   \n",
       "234229  [14487, 25620, 77117, 84333, 96369, 1929837, 1...        1.255392e+09   \n",
       "\n",
       "                                                   genres  \\\n",
       "350151      [real-time-strategy-rts, simulator, strategy]   \n",
       "404391                                 [role-playing-rpg]   \n",
       "413553                     [shooter, strategy, adventure]   \n",
       "418493  [shooter, role-playing-rpg, simulator, adventure]   \n",
       "350022      [real-time-strategy-rts, simulator, strategy]   \n",
       "...                                                   ...   \n",
       "349937      [real-time-strategy-rts, simulator, strategy]   \n",
       "388383                      [role-playing-rpg, adventure]   \n",
       "350134      [real-time-strategy-rts, simulator, strategy]   \n",
       "420836             [shooter, role-playing-rpg, adventure]   \n",
       "234229             [shooter, role-playing-rpg, adventure]   \n",
       "\n",
       "                                       name  \\\n",
       "350151        The Settlers II: Gold Edition   \n",
       "404391              Gothic II: Gold Edition   \n",
       "413553                           L.A. Noire   \n",
       "418493                        Mass Effect 2   \n",
       "350022        The Settlers II: Gold Edition   \n",
       "...                                     ...   \n",
       "349937        The Settlers II: Gold Edition   \n",
       "388383            Monster Hunter 4 Ultimate   \n",
       "350134        The Settlers II: Gold Edition   \n",
       "420836    Deus Ex: Game of the Year Edition   \n",
       "234229  Fallout 3: Game of the Year Edition   \n",
       "\n",
       "                                                platforms  \\\n",
       "350151                            [DOS, Mac, Nintendo DS]   \n",
       "404391                           [PC (Microsoft Windows)]   \n",
       "413553                          [PlayStation 4, Xbox One]   \n",
       "418493  [PC (Microsoft Windows), PlayStation 3, Xbox 360]   \n",
       "350022                            [DOS, Mac, Nintendo DS]   \n",
       "...                                                   ...   \n",
       "349937                            [DOS, Mac, Nintendo DS]   \n",
       "388383                                     [Nintendo 3DS]   \n",
       "350134                            [DOS, Mac, Nintendo DS]   \n",
       "420836                           [PC (Microsoft Windows)]   \n",
       "234229  [PC (Microsoft Windows), PlayStation 3, Xbox 360]   \n",
       "\n",
       "                                            release_dates  \\\n",
       "350151                           [194838, 194839, 194840]   \n",
       "404391                                           [196063]   \n",
       "413553           [112409, 112410, 135021, 135022, 136102]   \n",
       "418493  [20909, 20910, 20911, 20912, 20913, 20914, 209...   \n",
       "350022                           [194838, 194839, 194840]   \n",
       "...                                                   ...   \n",
       "349937                           [194838, 194839, 194840]   \n",
       "388383                      [25676, 25677, 25678, 129943]   \n",
       "350134                           [194838, 194839, 194840]   \n",
       "420836                                            [66779]   \n",
       "234229                           [115449, 115450, 115451]   \n",
       "\n",
       "                                            similar_games  ... offlinecoop  \\\n",
       "350151  [9789, 18623, 20776, 28325, 29173, 31480, 3151...  ...       False   \n",
       "404391  [19164, 54775, 81249, 96217, 99118, 101608, 10...  ...       False   \n",
       "413553  [17379, 17548, 18167, 18225, 26574, 27092, 285...  ...       False   \n",
       "418493  [16, 21, 41, 43, 533, 571, 960, 1020, 1985, 2031]  ...       False   \n",
       "350022  [9789, 18623, 20776, 28325, 29173, 31480, 3151...  ...       False   \n",
       "...                                                   ...  ...         ...   \n",
       "349937  [9789, 18623, 20776, 28325, 29173, 31480, 3151...  ...       False   \n",
       "388383  [6, 121, 125, 472, 1879, 2155, 2368, 2480, 396...  ...       False   \n",
       "350134  [9789, 18623, 20776, 28325, 29173, 31480, 3151...  ...       False   \n",
       "420836  [25311, 55038, 76877, 96217, 103301, 105049, 1...  ...       False   \n",
       "234229  [1877, 17379, 26574, 44076, 54842, 55038, 1012...  ...       False   \n",
       "\n",
       "       offlinemax onlinecoop platform splitscreen  \\\n",
       "350151          0      False      NaN       False   \n",
       "404391          0      False      NaN       False   \n",
       "413553          0      False      NaN       False   \n",
       "418493          0      False      NaN       False   \n",
       "350022          0      False      NaN       False   \n",
       "...           ...        ...      ...         ...   \n",
       "349937          0      False      NaN       False   \n",
       "388383          0       True     37.0       False   \n",
       "350134          0      False      NaN       False   \n",
       "420836          0      False      NaN       False   \n",
       "234229          0      False      NaN       False   \n",
       "\n",
       "                                  checksum_y offlinecoopmax  onlinecoopmax  \\\n",
       "350151  1c2dfca2-6ee8-b54e-b243-05ffb0c646bc              0              0   \n",
       "404391                                  None              0              0   \n",
       "413553                                  None              0              0   \n",
       "418493                                  None              0              0   \n",
       "350022  1c2dfca2-6ee8-b54e-b243-05ffb0c646bc              0              0   \n",
       "...                                      ...            ...            ...   \n",
       "349937  1c2dfca2-6ee8-b54e-b243-05ffb0c646bc              0              0   \n",
       "388383  ed1ef7e9-f817-f949-00bb-9fbc9a1f2b07              0              4   \n",
       "350134  1c2dfca2-6ee8-b54e-b243-05ffb0c646bc              0              0   \n",
       "420836                                  None              0              0   \n",
       "234229                                  None              0              0   \n",
       "\n",
       "       onlinemax rating_bin  \n",
       "350151         0    subperb  \n",
       "404391         0    subperb  \n",
       "413553         0    subperb  \n",
       "418493         0    subperb  \n",
       "350022         0    subperb  \n",
       "...          ...        ...  \n",
       "349937         0    subperb  \n",
       "388383         0    subperb  \n",
       "350134         0    subperb  \n",
       "420836         0    subperb  \n",
       "234229         0    subperb  \n",
       "\n",
       "[909 rows x 72 columns]"
      ]
     },
     "execution_count": 33,
     "metadata": {},
     "output_type": "execute_result"
    }
   ],
   "source": [
    "df_subperb_rating"
   ]
  },
  {
   "cell_type": "code",
   "execution_count": 34,
   "id": "91718ea8",
   "metadata": {
    "scrolled": false
   },
   "outputs": [
    {
     "data": {
      "text/html": [
       "<div>\n",
       "<style scoped>\n",
       "    .dataframe tbody tr th:only-of-type {\n",
       "        vertical-align: middle;\n",
       "    }\n",
       "\n",
       "    .dataframe tbody tr th {\n",
       "        vertical-align: top;\n",
       "    }\n",
       "\n",
       "    .dataframe thead th {\n",
       "        text-align: right;\n",
       "    }\n",
       "</style>\n",
       "<table border=\"1\" class=\"dataframe\">\n",
       "  <thead>\n",
       "    <tr style=\"text-align: right;\">\n",
       "      <th></th>\n",
       "      <th>id</th>\n",
       "      <th>category</th>\n",
       "      <th>created_at</th>\n",
       "      <th>external_games</th>\n",
       "      <th>first_release_date</th>\n",
       "      <th>genres</th>\n",
       "      <th>name</th>\n",
       "      <th>platforms</th>\n",
       "      <th>release_dates</th>\n",
       "      <th>similar_games</th>\n",
       "      <th>slug</th>\n",
       "      <th>summary</th>\n",
       "      <th>tags</th>\n",
       "      <th>updated_at</th>\n",
       "      <th>url</th>\n",
       "      <th>checksum_x</th>\n",
       "      <th>age_ratings</th>\n",
       "      <th>cover</th>\n",
       "      <th>involved_companies</th>\n",
       "      <th>screenshots</th>\n",
       "      <th>game_modes</th>\n",
       "      <th>player_perspectives</th>\n",
       "      <th>themes</th>\n",
       "      <th>websites</th>\n",
       "      <th>alternative_names</th>\n",
       "      <th>artworks</th>\n",
       "      <th>game_engines</th>\n",
       "      <th>keywords</th>\n",
       "      <th>status</th>\n",
       "      <th>videos</th>\n",
       "      <th>rating</th>\n",
       "      <th>rating_count</th>\n",
       "      <th>storyline</th>\n",
       "      <th>total_rating</th>\n",
       "      <th>total_rating_count</th>\n",
       "      <th>version_parent</th>\n",
       "      <th>version_title</th>\n",
       "      <th>hypes</th>\n",
       "      <th>collection</th>\n",
       "      <th>franchises</th>\n",
       "      <th>follows</th>\n",
       "      <th>aggregated_rating</th>\n",
       "      <th>aggregated_rating_count</th>\n",
       "      <th>dlcs</th>\n",
       "      <th>bundles</th>\n",
       "      <th>parent_game</th>\n",
       "      <th>franchise</th>\n",
       "      <th>multiplayer_modes</th>\n",
       "      <th>remakes</th>\n",
       "      <th>ports</th>\n",
       "      <th>expansions</th>\n",
       "      <th>expanded_games</th>\n",
       "      <th>remasters</th>\n",
       "      <th>forks</th>\n",
       "      <th>standalone_expansions</th>\n",
       "      <th>second</th>\n",
       "      <th>version_description</th>\n",
       "      <th>title_version</th>\n",
       "      <th>second_id</th>\n",
       "      <th>campaigncoop</th>\n",
       "      <th>dropin</th>\n",
       "      <th>lancoop</th>\n",
       "      <th>offlinecoop</th>\n",
       "      <th>offlinemax</th>\n",
       "      <th>onlinecoop</th>\n",
       "      <th>platform</th>\n",
       "      <th>splitscreen</th>\n",
       "      <th>checksum_y</th>\n",
       "      <th>offlinecoopmax</th>\n",
       "      <th>onlinecoopmax</th>\n",
       "      <th>onlinemax</th>\n",
       "      <th>rating_bin</th>\n",
       "    </tr>\n",
       "  </thead>\n",
       "  <tbody>\n",
       "    <tr>\n",
       "      <th>350151</th>\n",
       "      <td>2617</td>\n",
       "      <td>3</td>\n",
       "      <td>2013-07-17 16:09:09</td>\n",
       "      <td>[43459, 78277]</td>\n",
       "      <td>8.703936e+08</td>\n",
       "      <td>[real-time-strategy-rts, simulator, strategy]</td>\n",
       "      <td>The Settlers II: Gold Edition</td>\n",
       "      <td>[DOS, Mac, Nintendo DS]</td>\n",
       "      <td>[194838, 194839, 194840]</td>\n",
       "      <td>[9789, 18623, 20776, 28325, 29173, 31480, 3151...</td>\n",
       "      <td>the-settlers-ii-gold-edition</td>\n",
       "      <td>The goal of this game is to build a prosperous...</td>\n",
       "      <td>[22, 268435467, 268435469, 268435471, 53687097...</td>\n",
       "      <td>2022-07-11 11:30:50</td>\n",
       "      <td>https://www.igdb.com/games/the-settlers-ii-gol...</td>\n",
       "      <td>db85c417-67eb-2742-d6d1-f80aad673a6a</td>\n",
       "      <td>[27816, 78303]</td>\n",
       "      <td>99902.0</td>\n",
       "      <td>[97957]</td>\n",
       "      <td>[22965, 383044, 383045, 383046]</td>\n",
       "      <td>[single-player, multiplayer, split-screen]</td>\n",
       "      <td>[Bird view / Isometric]</td>\n",
       "      <td>[Historical]</td>\n",
       "      <td>[119754, 139873]</td>\n",
       "      <td>[32095]</td>\n",
       "      <td>None</td>\n",
       "      <td>None</td>\n",
       "      <td>[60, 64, 171, 606, 994, 1148, 1471, 1922, 2002...</td>\n",
       "      <td>NaN</td>\n",
       "      <td>[35570]</td>\n",
       "      <td>92.221300</td>\n",
       "      <td>36</td>\n",
       "      <td>After fighting a losing battle with the raging...</td>\n",
       "      <td>92.221300</td>\n",
       "      <td>36</td>\n",
       "      <td>2596.0</td>\n",
       "      <td>Gold Edition</td>\n",
       "      <td>NaN</td>\n",
       "      <td>619.0</td>\n",
       "      <td>[2165]</td>\n",
       "      <td>22.0</td>\n",
       "      <td>NaN</td>\n",
       "      <td>NaN</td>\n",
       "      <td>None</td>\n",
       "      <td>None</td>\n",
       "      <td>NaN</td>\n",
       "      <td>NaN</td>\n",
       "      <td>[7365]</td>\n",
       "      <td>None</td>\n",
       "      <td>[86493]</td>\n",
       "      <td>None</td>\n",
       "      <td>None</td>\n",
       "      <td>None</td>\n",
       "      <td>None</td>\n",
       "      <td>None</td>\n",
       "      <td>NaN</td>\n",
       "      <td>None</td>\n",
       "      <td>None</td>\n",
       "      <td>7365.0</td>\n",
       "      <td>False</td>\n",
       "      <td>False</td>\n",
       "      <td>False</td>\n",
       "      <td>False</td>\n",
       "      <td>0</td>\n",
       "      <td>False</td>\n",
       "      <td>NaN</td>\n",
       "      <td>False</td>\n",
       "      <td>1c2dfca2-6ee8-b54e-b243-05ffb0c646bc</td>\n",
       "      <td>0</td>\n",
       "      <td>0</td>\n",
       "      <td>0</td>\n",
       "      <td>subperb</td>\n",
       "    </tr>\n",
       "    <tr>\n",
       "      <th>404391</th>\n",
       "      <td>29207</td>\n",
       "      <td>0</td>\n",
       "      <td>2017-05-20 12:20:49</td>\n",
       "      <td>[14106, 77210, 85081, 96659, 2136317]</td>\n",
       "      <td>1.133222e+09</td>\n",
       "      <td>[role-playing-rpg]</td>\n",
       "      <td>Gothic II: Gold Edition</td>\n",
       "      <td>[PC (Microsoft Windows)]</td>\n",
       "      <td>[196063]</td>\n",
       "      <td>[19164, 54775, 81249, 96217, 99118, 101608, 10...</td>\n",
       "      <td>gothic-ii-gold-edition</td>\n",
       "      <td>Gothic II: Gold Edition brings together the ex...</td>\n",
       "      <td>[1, 17, 38, 268435468]</td>\n",
       "      <td>2022-09-25 09:56:26</td>\n",
       "      <td>https://www.igdb.com/games/gothic-ii-gold-edition</td>\n",
       "      <td>0b0d512e-1add-c724-d6a5-f69e9043c619</td>\n",
       "      <td>[27942]</td>\n",
       "      <td>81332.0</td>\n",
       "      <td>[47901, 99186]</td>\n",
       "      <td>[102680, 102681, 102682, 102683, 102684]</td>\n",
       "      <td>[single-player]</td>\n",
       "      <td>[Third person]</td>\n",
       "      <td>[Action, Fantasy, Open world]</td>\n",
       "      <td>[26765, 26766, 118909, 140843]</td>\n",
       "      <td>None</td>\n",
       "      <td>[55855]</td>\n",
       "      <td>[134]</td>\n",
       "      <td>None</td>\n",
       "      <td>NaN</td>\n",
       "      <td>None</td>\n",
       "      <td>90.003422</td>\n",
       "      <td>5</td>\n",
       "      <td>None</td>\n",
       "      <td>90.003422</td>\n",
       "      <td>5</td>\n",
       "      <td>2262.0</td>\n",
       "      <td>Gold Edition</td>\n",
       "      <td>NaN</td>\n",
       "      <td>463.0</td>\n",
       "      <td>None</td>\n",
       "      <td>NaN</td>\n",
       "      <td>NaN</td>\n",
       "      <td>NaN</td>\n",
       "      <td>None</td>\n",
       "      <td>None</td>\n",
       "      <td>NaN</td>\n",
       "      <td>NaN</td>\n",
       "      <td>None</td>\n",
       "      <td>None</td>\n",
       "      <td>None</td>\n",
       "      <td>None</td>\n",
       "      <td>None</td>\n",
       "      <td>None</td>\n",
       "      <td>None</td>\n",
       "      <td>None</td>\n",
       "      <td>NaN</td>\n",
       "      <td>None</td>\n",
       "      <td>None</td>\n",
       "      <td>NaN</td>\n",
       "      <td>False</td>\n",
       "      <td>False</td>\n",
       "      <td>False</td>\n",
       "      <td>False</td>\n",
       "      <td>0</td>\n",
       "      <td>False</td>\n",
       "      <td>NaN</td>\n",
       "      <td>False</td>\n",
       "      <td>None</td>\n",
       "      <td>0</td>\n",
       "      <td>0</td>\n",
       "      <td>0</td>\n",
       "      <td>subperb</td>\n",
       "    </tr>\n",
       "    <tr>\n",
       "      <th>413553</th>\n",
       "      <td>59849</td>\n",
       "      <td>9</td>\n",
       "      <td>2017-09-07 18:41:31</td>\n",
       "      <td>[197757, 210636, 398654, 1237237, 2000741, 211...</td>\n",
       "      <td>1.510618e+09</td>\n",
       "      <td>[shooter, strategy, adventure]</td>\n",
       "      <td>L.A. Noire</td>\n",
       "      <td>[PlayStation 4, Xbox One]</td>\n",
       "      <td>[112409, 112410, 135021, 135022, 136102]</td>\n",
       "      <td>[17379, 17548, 18167, 18225, 26574, 27092, 285...</td>\n",
       "      <td>la-noire</td>\n",
       "      <td>L.A. Noire for PlayStation 4 and Xbox One deli...</td>\n",
       "      <td>[1, 20, 22, 33, 38, 39, 43, 268435461, 2684354...</td>\n",
       "      <td>2022-09-22 13:55:14</td>\n",
       "      <td>https://www.igdb.com/games/la-noire</td>\n",
       "      <td>1db7b5e1-bc8b-cc45-e4b5-2f7b15aa5cf2</td>\n",
       "      <td>[61480, 62001, 93238]</td>\n",
       "      <td>120996.0</td>\n",
       "      <td>[54124]</td>\n",
       "      <td>[141184, 141185, 141186, 141187, 146355]</td>\n",
       "      <td>[single-player]</td>\n",
       "      <td>[Third person]</td>\n",
       "      <td>[Action, Thriller, Historical, Sandbox, Open w...</td>\n",
       "      <td>[56427]</td>\n",
       "      <td>[60591, 103643]</td>\n",
       "      <td>[46639, 46640]</td>\n",
       "      <td>None</td>\n",
       "      <td>[1323, 1669, 4076, 4357, 16826, 16828, 16894, ...</td>\n",
       "      <td>NaN</td>\n",
       "      <td>[16469, 16484]</td>\n",
       "      <td>92.990746</td>\n",
       "      <td>23</td>\n",
       "      <td>None</td>\n",
       "      <td>83.162040</td>\n",
       "      <td>29</td>\n",
       "      <td>NaN</td>\n",
       "      <td>None</td>\n",
       "      <td>1.0</td>\n",
       "      <td>NaN</td>\n",
       "      <td>None</td>\n",
       "      <td>15.0</td>\n",
       "      <td>73.333333</td>\n",
       "      <td>6.0</td>\n",
       "      <td>None</td>\n",
       "      <td>None</td>\n",
       "      <td>109.0</td>\n",
       "      <td>NaN</td>\n",
       "      <td>None</td>\n",
       "      <td>None</td>\n",
       "      <td>None</td>\n",
       "      <td>None</td>\n",
       "      <td>None</td>\n",
       "      <td>None</td>\n",
       "      <td>None</td>\n",
       "      <td>None</td>\n",
       "      <td>341.0</td>\n",
       "      <td>At 9.45 in the morning, a thunderous explosio...</td>\n",
       "      <td>DLC: \"Nicholson Electroplating\" Arson Case</td>\n",
       "      <td>NaN</td>\n",
       "      <td>False</td>\n",
       "      <td>False</td>\n",
       "      <td>False</td>\n",
       "      <td>False</td>\n",
       "      <td>0</td>\n",
       "      <td>False</td>\n",
       "      <td>NaN</td>\n",
       "      <td>False</td>\n",
       "      <td>None</td>\n",
       "      <td>0</td>\n",
       "      <td>0</td>\n",
       "      <td>0</td>\n",
       "      <td>subperb</td>\n",
       "    </tr>\n",
       "    <tr>\n",
       "      <th>418493</th>\n",
       "      <td>74</td>\n",
       "      <td>0</td>\n",
       "      <td>2011-02-18 09:01:17</td>\n",
       "      <td>[14434, 80756, 86905, 137458, 213810, 245424, ...</td>\n",
       "      <td>1.264464e+09</td>\n",
       "      <td>[shooter, role-playing-rpg, simulator, adventure]</td>\n",
       "      <td>Mass Effect 2</td>\n",
       "      <td>[PC (Microsoft Windows), PlayStation 3, Xbox 360]</td>\n",
       "      <td>[20909, 20910, 20911, 20912, 20913, 20914, 209...</td>\n",
       "      <td>[16, 21, 41, 43, 533, 571, 960, 1020, 1985, 2031]</td>\n",
       "      <td>mass-effect-2</td>\n",
       "      <td>Are you prepared to lose everything to save th...</td>\n",
       "      <td>[1, 18, 268435461, 268435468, 268435469, 26843...</td>\n",
       "      <td>2022-09-22 14:33:34</td>\n",
       "      <td>https://www.igdb.com/games/mass-effect-2</td>\n",
       "      <td>acafc118-bdb5-5783-2982-9417efb5cafb</td>\n",
       "      <td>[4666, 46183, 79400]</td>\n",
       "      <td>93684.0</td>\n",
       "      <td>[5240, 5241, 18482, 52062]</td>\n",
       "      <td>[892, 893, 8205, 8206, 8218]</td>\n",
       "      <td>[single-player]</td>\n",
       "      <td>[Third person]</td>\n",
       "      <td>[Action, Science fiction]</td>\n",
       "      <td>[18939, 18940, 18941, 18942, 18943, 18944, 403...</td>\n",
       "      <td>[19924, 45203, 50352]</td>\n",
       "      <td>[4512, 4513, 4514, 4515, 4516, 4517, 4518, 451...</td>\n",
       "      <td>[351]</td>\n",
       "      <td>[3, 22, 72, 129, 159, 201, 274, 284, 301, 558,...</td>\n",
       "      <td>NaN</td>\n",
       "      <td>[3344]</td>\n",
       "      <td>91.418551</td>\n",
       "      <td>1924</td>\n",
       "      <td>Two years after Commander Shepard repelled inv...</td>\n",
       "      <td>93.509276</td>\n",
       "      <td>1938</td>\n",
       "      <td>NaN</td>\n",
       "      <td>None</td>\n",
       "      <td>1.0</td>\n",
       "      <td>25.0</td>\n",
       "      <td>None</td>\n",
       "      <td>796.0</td>\n",
       "      <td>95.600000</td>\n",
       "      <td>14.0</td>\n",
       "      <td>[782, 783, 1596, 13790, 13794, 13798, 13885, 2...</td>\n",
       "      <td>[45181, 140839]</td>\n",
       "      <td>NaN</td>\n",
       "      <td>NaN</td>\n",
       "      <td>None</td>\n",
       "      <td>None</td>\n",
       "      <td>None</td>\n",
       "      <td>None</td>\n",
       "      <td>None</td>\n",
       "      <td>None</td>\n",
       "      <td>None</td>\n",
       "      <td>None</td>\n",
       "      <td>426.0</td>\n",
       "      <td>None</td>\n",
       "      <td>Bonus DVD with behind-the-scenes and making-of...</td>\n",
       "      <td>NaN</td>\n",
       "      <td>False</td>\n",
       "      <td>False</td>\n",
       "      <td>False</td>\n",
       "      <td>False</td>\n",
       "      <td>0</td>\n",
       "      <td>False</td>\n",
       "      <td>NaN</td>\n",
       "      <td>False</td>\n",
       "      <td>None</td>\n",
       "      <td>0</td>\n",
       "      <td>0</td>\n",
       "      <td>0</td>\n",
       "      <td>subperb</td>\n",
       "    </tr>\n",
       "    <tr>\n",
       "      <th>350022</th>\n",
       "      <td>2617</td>\n",
       "      <td>3</td>\n",
       "      <td>2013-07-17 16:09:09</td>\n",
       "      <td>[43459, 78277]</td>\n",
       "      <td>8.703936e+08</td>\n",
       "      <td>[real-time-strategy-rts, simulator, strategy]</td>\n",
       "      <td>The Settlers II: Gold Edition</td>\n",
       "      <td>[DOS, Mac, Nintendo DS]</td>\n",
       "      <td>[194838, 194839, 194840]</td>\n",
       "      <td>[9789, 18623, 20776, 28325, 29173, 31480, 3151...</td>\n",
       "      <td>the-settlers-ii-gold-edition</td>\n",
       "      <td>The goal of this game is to build a prosperous...</td>\n",
       "      <td>[22, 268435467, 268435469, 268435471, 53687097...</td>\n",
       "      <td>2022-07-11 11:30:50</td>\n",
       "      <td>https://www.igdb.com/games/the-settlers-ii-gol...</td>\n",
       "      <td>db85c417-67eb-2742-d6d1-f80aad673a6a</td>\n",
       "      <td>[27816, 78303]</td>\n",
       "      <td>99902.0</td>\n",
       "      <td>[97957]</td>\n",
       "      <td>[22965, 383044, 383045, 383046]</td>\n",
       "      <td>[single-player, multiplayer, split-screen]</td>\n",
       "      <td>[Bird view / Isometric]</td>\n",
       "      <td>[Historical]</td>\n",
       "      <td>[119754, 139873]</td>\n",
       "      <td>[32095]</td>\n",
       "      <td>None</td>\n",
       "      <td>None</td>\n",
       "      <td>[60, 64, 171, 606, 994, 1148, 1471, 1922, 2002...</td>\n",
       "      <td>NaN</td>\n",
       "      <td>[35570]</td>\n",
       "      <td>92.221300</td>\n",
       "      <td>36</td>\n",
       "      <td>After fighting a losing battle with the raging...</td>\n",
       "      <td>92.221300</td>\n",
       "      <td>36</td>\n",
       "      <td>2596.0</td>\n",
       "      <td>Gold Edition</td>\n",
       "      <td>NaN</td>\n",
       "      <td>619.0</td>\n",
       "      <td>[2165]</td>\n",
       "      <td>22.0</td>\n",
       "      <td>NaN</td>\n",
       "      <td>NaN</td>\n",
       "      <td>None</td>\n",
       "      <td>None</td>\n",
       "      <td>NaN</td>\n",
       "      <td>NaN</td>\n",
       "      <td>[7365]</td>\n",
       "      <td>None</td>\n",
       "      <td>[86493]</td>\n",
       "      <td>None</td>\n",
       "      <td>None</td>\n",
       "      <td>None</td>\n",
       "      <td>None</td>\n",
       "      <td>None</td>\n",
       "      <td>NaN</td>\n",
       "      <td>None</td>\n",
       "      <td>None</td>\n",
       "      <td>7365.0</td>\n",
       "      <td>False</td>\n",
       "      <td>False</td>\n",
       "      <td>False</td>\n",
       "      <td>False</td>\n",
       "      <td>0</td>\n",
       "      <td>False</td>\n",
       "      <td>NaN</td>\n",
       "      <td>False</td>\n",
       "      <td>1c2dfca2-6ee8-b54e-b243-05ffb0c646bc</td>\n",
       "      <td>0</td>\n",
       "      <td>0</td>\n",
       "      <td>0</td>\n",
       "      <td>subperb</td>\n",
       "    </tr>\n",
       "  </tbody>\n",
       "</table>\n",
       "</div>"
      ],
      "text/plain": [
       "           id  category          created_at  \\\n",
       "350151   2617         3 2013-07-17 16:09:09   \n",
       "404391  29207         0 2017-05-20 12:20:49   \n",
       "413553  59849         9 2017-09-07 18:41:31   \n",
       "418493     74         0 2011-02-18 09:01:17   \n",
       "350022   2617         3 2013-07-17 16:09:09   \n",
       "\n",
       "                                           external_games  first_release_date  \\\n",
       "350151                                     [43459, 78277]        8.703936e+08   \n",
       "404391              [14106, 77210, 85081, 96659, 2136317]        1.133222e+09   \n",
       "413553  [197757, 210636, 398654, 1237237, 2000741, 211...        1.510618e+09   \n",
       "418493  [14434, 80756, 86905, 137458, 213810, 245424, ...        1.264464e+09   \n",
       "350022                                     [43459, 78277]        8.703936e+08   \n",
       "\n",
       "                                                   genres  \\\n",
       "350151      [real-time-strategy-rts, simulator, strategy]   \n",
       "404391                                 [role-playing-rpg]   \n",
       "413553                     [shooter, strategy, adventure]   \n",
       "418493  [shooter, role-playing-rpg, simulator, adventure]   \n",
       "350022      [real-time-strategy-rts, simulator, strategy]   \n",
       "\n",
       "                                 name  \\\n",
       "350151  The Settlers II: Gold Edition   \n",
       "404391        Gothic II: Gold Edition   \n",
       "413553                     L.A. Noire   \n",
       "418493                  Mass Effect 2   \n",
       "350022  The Settlers II: Gold Edition   \n",
       "\n",
       "                                                platforms  \\\n",
       "350151                            [DOS, Mac, Nintendo DS]   \n",
       "404391                           [PC (Microsoft Windows)]   \n",
       "413553                          [PlayStation 4, Xbox One]   \n",
       "418493  [PC (Microsoft Windows), PlayStation 3, Xbox 360]   \n",
       "350022                            [DOS, Mac, Nintendo DS]   \n",
       "\n",
       "                                            release_dates  \\\n",
       "350151                           [194838, 194839, 194840]   \n",
       "404391                                           [196063]   \n",
       "413553           [112409, 112410, 135021, 135022, 136102]   \n",
       "418493  [20909, 20910, 20911, 20912, 20913, 20914, 209...   \n",
       "350022                           [194838, 194839, 194840]   \n",
       "\n",
       "                                            similar_games  \\\n",
       "350151  [9789, 18623, 20776, 28325, 29173, 31480, 3151...   \n",
       "404391  [19164, 54775, 81249, 96217, 99118, 101608, 10...   \n",
       "413553  [17379, 17548, 18167, 18225, 26574, 27092, 285...   \n",
       "418493  [16, 21, 41, 43, 533, 571, 960, 1020, 1985, 2031]   \n",
       "350022  [9789, 18623, 20776, 28325, 29173, 31480, 3151...   \n",
       "\n",
       "                                slug  \\\n",
       "350151  the-settlers-ii-gold-edition   \n",
       "404391        gothic-ii-gold-edition   \n",
       "413553                      la-noire   \n",
       "418493                 mass-effect-2   \n",
       "350022  the-settlers-ii-gold-edition   \n",
       "\n",
       "                                                  summary  \\\n",
       "350151  The goal of this game is to build a prosperous...   \n",
       "404391  Gothic II: Gold Edition brings together the ex...   \n",
       "413553  L.A. Noire for PlayStation 4 and Xbox One deli...   \n",
       "418493  Are you prepared to lose everything to save th...   \n",
       "350022  The goal of this game is to build a prosperous...   \n",
       "\n",
       "                                                     tags          updated_at  \\\n",
       "350151  [22, 268435467, 268435469, 268435471, 53687097... 2022-07-11 11:30:50   \n",
       "404391                             [1, 17, 38, 268435468] 2022-09-25 09:56:26   \n",
       "413553  [1, 20, 22, 33, 38, 39, 43, 268435461, 2684354... 2022-09-22 13:55:14   \n",
       "418493  [1, 18, 268435461, 268435468, 268435469, 26843... 2022-09-22 14:33:34   \n",
       "350022  [22, 268435467, 268435469, 268435471, 53687097... 2022-07-11 11:30:50   \n",
       "\n",
       "                                                      url  \\\n",
       "350151  https://www.igdb.com/games/the-settlers-ii-gol...   \n",
       "404391  https://www.igdb.com/games/gothic-ii-gold-edition   \n",
       "413553                https://www.igdb.com/games/la-noire   \n",
       "418493           https://www.igdb.com/games/mass-effect-2   \n",
       "350022  https://www.igdb.com/games/the-settlers-ii-gol...   \n",
       "\n",
       "                                  checksum_x            age_ratings     cover  \\\n",
       "350151  db85c417-67eb-2742-d6d1-f80aad673a6a         [27816, 78303]   99902.0   \n",
       "404391  0b0d512e-1add-c724-d6a5-f69e9043c619                [27942]   81332.0   \n",
       "413553  1db7b5e1-bc8b-cc45-e4b5-2f7b15aa5cf2  [61480, 62001, 93238]  120996.0   \n",
       "418493  acafc118-bdb5-5783-2982-9417efb5cafb   [4666, 46183, 79400]   93684.0   \n",
       "350022  db85c417-67eb-2742-d6d1-f80aad673a6a         [27816, 78303]   99902.0   \n",
       "\n",
       "                involved_companies                               screenshots  \\\n",
       "350151                     [97957]           [22965, 383044, 383045, 383046]   \n",
       "404391              [47901, 99186]  [102680, 102681, 102682, 102683, 102684]   \n",
       "413553                     [54124]  [141184, 141185, 141186, 141187, 146355]   \n",
       "418493  [5240, 5241, 18482, 52062]              [892, 893, 8205, 8206, 8218]   \n",
       "350022                     [97957]           [22965, 383044, 383045, 383046]   \n",
       "\n",
       "                                        game_modes      player_perspectives  \\\n",
       "350151  [single-player, multiplayer, split-screen]  [Bird view / Isometric]   \n",
       "404391                             [single-player]           [Third person]   \n",
       "413553                             [single-player]           [Third person]   \n",
       "418493                             [single-player]           [Third person]   \n",
       "350022  [single-player, multiplayer, split-screen]  [Bird view / Isometric]   \n",
       "\n",
       "                                                   themes  \\\n",
       "350151                                       [Historical]   \n",
       "404391                      [Action, Fantasy, Open world]   \n",
       "413553  [Action, Thriller, Historical, Sandbox, Open w...   \n",
       "418493                          [Action, Science fiction]   \n",
       "350022                                       [Historical]   \n",
       "\n",
       "                                                 websites  \\\n",
       "350151                                   [119754, 139873]   \n",
       "404391                     [26765, 26766, 118909, 140843]   \n",
       "413553                                            [56427]   \n",
       "418493  [18939, 18940, 18941, 18942, 18943, 18944, 403...   \n",
       "350022                                   [119754, 139873]   \n",
       "\n",
       "            alternative_names  \\\n",
       "350151                [32095]   \n",
       "404391                   None   \n",
       "413553        [60591, 103643]   \n",
       "418493  [19924, 45203, 50352]   \n",
       "350022                [32095]   \n",
       "\n",
       "                                                 artworks game_engines  \\\n",
       "350151                                               None         None   \n",
       "404391                                            [55855]        [134]   \n",
       "413553                                     [46639, 46640]         None   \n",
       "418493  [4512, 4513, 4514, 4515, 4516, 4517, 4518, 451...        [351]   \n",
       "350022                                               None         None   \n",
       "\n",
       "                                                 keywords  status  \\\n",
       "350151  [60, 64, 171, 606, 994, 1148, 1471, 1922, 2002...     NaN   \n",
       "404391                                               None     NaN   \n",
       "413553  [1323, 1669, 4076, 4357, 16826, 16828, 16894, ...     NaN   \n",
       "418493  [3, 22, 72, 129, 159, 201, 274, 284, 301, 558,...     NaN   \n",
       "350022  [60, 64, 171, 606, 994, 1148, 1471, 1922, 2002...     NaN   \n",
       "\n",
       "                videos     rating  rating_count  \\\n",
       "350151         [35570]  92.221300            36   \n",
       "404391            None  90.003422             5   \n",
       "413553  [16469, 16484]  92.990746            23   \n",
       "418493          [3344]  91.418551          1924   \n",
       "350022         [35570]  92.221300            36   \n",
       "\n",
       "                                                storyline  total_rating  \\\n",
       "350151  After fighting a losing battle with the raging...     92.221300   \n",
       "404391                                               None     90.003422   \n",
       "413553                                               None     83.162040   \n",
       "418493  Two years after Commander Shepard repelled inv...     93.509276   \n",
       "350022  After fighting a losing battle with the raging...     92.221300   \n",
       "\n",
       "        total_rating_count  version_parent version_title  hypes  collection  \\\n",
       "350151                  36          2596.0  Gold Edition    NaN       619.0   \n",
       "404391                   5          2262.0  Gold Edition    NaN       463.0   \n",
       "413553                  29             NaN          None    1.0         NaN   \n",
       "418493                1938             NaN          None    1.0        25.0   \n",
       "350022                  36          2596.0  Gold Edition    NaN       619.0   \n",
       "\n",
       "       franchises  follows  aggregated_rating  aggregated_rating_count  \\\n",
       "350151     [2165]     22.0                NaN                      NaN   \n",
       "404391       None      NaN                NaN                      NaN   \n",
       "413553       None     15.0          73.333333                      6.0   \n",
       "418493       None    796.0          95.600000                     14.0   \n",
       "350022     [2165]     22.0                NaN                      NaN   \n",
       "\n",
       "                                                     dlcs          bundles  \\\n",
       "350151                                               None             None   \n",
       "404391                                               None             None   \n",
       "413553                                               None             None   \n",
       "418493  [782, 783, 1596, 13790, 13794, 13798, 13885, 2...  [45181, 140839]   \n",
       "350022                                               None             None   \n",
       "\n",
       "        parent_game  franchise multiplayer_modes remakes    ports expansions  \\\n",
       "350151          NaN        NaN            [7365]    None  [86493]       None   \n",
       "404391          NaN        NaN              None    None     None       None   \n",
       "413553        109.0        NaN              None    None     None       None   \n",
       "418493          NaN        NaN              None    None     None       None   \n",
       "350022          NaN        NaN            [7365]    None  [86493]       None   \n",
       "\n",
       "       expanded_games remasters forks standalone_expansions  second  \\\n",
       "350151           None      None  None                  None     NaN   \n",
       "404391           None      None  None                  None     NaN   \n",
       "413553           None      None  None                  None   341.0   \n",
       "418493           None      None  None                  None   426.0   \n",
       "350022           None      None  None                  None     NaN   \n",
       "\n",
       "                                      version_description  \\\n",
       "350151                                               None   \n",
       "404391                                               None   \n",
       "413553   At 9.45 in the morning, a thunderous explosio...   \n",
       "418493                                               None   \n",
       "350022                                               None   \n",
       "\n",
       "                                            title_version  second_id  \\\n",
       "350151                                               None     7365.0   \n",
       "404391                                               None        NaN   \n",
       "413553         DLC: \"Nicholson Electroplating\" Arson Case        NaN   \n",
       "418493  Bonus DVD with behind-the-scenes and making-of...        NaN   \n",
       "350022                                               None     7365.0   \n",
       "\n",
       "        campaigncoop  dropin  lancoop  offlinecoop  offlinemax  onlinecoop  \\\n",
       "350151         False   False    False        False           0       False   \n",
       "404391         False   False    False        False           0       False   \n",
       "413553         False   False    False        False           0       False   \n",
       "418493         False   False    False        False           0       False   \n",
       "350022         False   False    False        False           0       False   \n",
       "\n",
       "        platform  splitscreen                            checksum_y  \\\n",
       "350151       NaN        False  1c2dfca2-6ee8-b54e-b243-05ffb0c646bc   \n",
       "404391       NaN        False                                  None   \n",
       "413553       NaN        False                                  None   \n",
       "418493       NaN        False                                  None   \n",
       "350022       NaN        False  1c2dfca2-6ee8-b54e-b243-05ffb0c646bc   \n",
       "\n",
       "        offlinecoopmax  onlinecoopmax  onlinemax rating_bin  \n",
       "350151               0              0          0    subperb  \n",
       "404391               0              0          0    subperb  \n",
       "413553               0              0          0    subperb  \n",
       "418493               0              0          0    subperb  \n",
       "350022               0              0          0    subperb  "
      ]
     },
     "execution_count": 34,
     "metadata": {},
     "output_type": "execute_result"
    }
   ],
   "source": [
    "pd.set_option('display.max_columns', 500)\n",
    "df_subperb_rating.head()"
   ]
  },
  {
   "cell_type": "code",
   "execution_count": 35,
   "id": "885fa0e5",
   "metadata": {
    "scrolled": false
   },
   "outputs": [
    {
     "data": {
      "text/plain": [
       "Text(0.5, 1.0, 'Most common Genre in Superb Games')"
      ]
     },
     "execution_count": 35,
     "metadata": {},
     "output_type": "execute_result"
    },
    {
     "data": {
      "image/png": "[encoded data removed]",
      "text/plain": [
       "<Figure size 1008x432 with 1 Axes>"
      ]
     },
     "metadata": {
      "needs_background": "light"
     },
     "output_type": "display_data"
    }
   ],
   "source": [
    "fig, ax = plt.subplots(figsize = (14,6))\n",
    "ax.bar(to_1D(df_subperb_rating[\"genres\"]).value_counts().iloc[:4].index,\n",
    "        to_1D(df_subperb_rating[\"genres\"]).value_counts().iloc[:4].values,\n",
    "         color= ['purple'])\n",
    "ax.set_ylabel(\"Frequency\", size = 20)\n",
    "ax.set_title(\"Most common Genre in Superb Games\", size = 20)"
   ]
  },
  {
   "cell_type": "code",
   "execution_count": 87,
   "id": "51f705c2",
   "metadata": {
    "scrolled": true
   },
   "outputs": [
    {
     "data": {
      "text/plain": [
       "Index([                  ['role-playing-rpg', 'adventure'],\n",
       "                        ['shooter', 'racing', 'adventure'],\n",
       "       ['real-time-strategy-rts', 'simulator', 'strategy'],\n",
       "                                      ['role-playing-rpg']],\n",
       "      dtype='object')"
      ]
     },
     "execution_count": 87,
     "metadata": {},
     "output_type": "execute_result"
    }
   ],
   "source": [
    "df_subperb_rating[\"genres\"].value_counts().iloc[:4].index"
   ]
  },
  {
   "cell_type": "code",
   "execution_count": 89,
   "id": "10ebb355",
   "metadata": {},
   "outputs": [
    {
     "data": {
      "text/plain": [
       "array([285, 226, 218,  11])"
      ]
     },
     "execution_count": 89,
     "metadata": {},
     "output_type": "execute_result"
    }
   ],
   "source": [
    "df_subperb_rating[\"genres\"].value_counts().iloc[:4].values"
   ]
  },
  {
   "cell_type": "code",
   "execution_count": 94,
   "id": "e70e0da5",
   "metadata": {},
   "outputs": [
    {
     "data": {
      "application/vnd.plotly.v1+json": {
       "config": {
        "plotlyServerURL": "https://plot.ly"
       },
       "data": [
        {
         "marker": {
          "color": [
           "purple",
           "purple",
           "purple",
           "purple",
           "purple"
          ]
         },
         "type": "bar",
         "x": [
          "role-playing-rpg & adventure",
          "shooter , racing , adventure",
          "real-time-strategy-rts , simulator , strategy",
          "role-playing-rpg"
         ],
         "y": [
          285,
          226,
          218,
          11
         ]
        }
       ],
       "layout": {
        "template": {
         "data": {
          "bar": [
           {
            "error_x": {
             "color": "#2a3f5f"
            },
            "error_y": {
             "color": "#2a3f5f"
            },
            "marker": {
             "line": {
              "color": "#E5ECF6",
              "width": 0.5
             },
             "pattern": {
              "fillmode": "overlay",
              "size": 10,
              "solidity": 0.2
             }
            },
            "type": "bar"
           }
          ],
          "barpolar": [
           {
            "marker": {
             "line": {
              "color": "#E5ECF6",
              "width": 0.5
             },
             "pattern": {
              "fillmode": "overlay",
              "size": 10,
              "solidity": 0.2
             }
            },
            "type": "barpolar"
           }
          ],
          "carpet": [
           {
            "aaxis": {
             "endlinecolor": "#2a3f5f",
             "gridcolor": "white",
             "linecolor": "white",
             "minorgridcolor": "white",
             "startlinecolor": "#2a3f5f"
            },
            "baxis": {
             "endlinecolor": "#2a3f5f",
             "gridcolor": "white",
             "linecolor": "white",
             "minorgridcolor": "white",
             "startlinecolor": "#2a3f5f"
            },
            "type": "carpet"
           }
          ],
          "choropleth": [
           {
            "colorbar": {
             "outlinewidth": 0,
             "ticks": ""
            },
            "type": "choropleth"
           }
          ],
          "contour": [
           {
            "colorbar": {
             "outlinewidth": 0,
             "ticks": ""
            },
            "colorscale": [
             [
              0,
              "#0d0887"
             ],
             [
              0.1111111111111111,
              "#46039f"
             ],
             [
              0.2222222222222222,
              "#7201a8"
             ],
             [
              0.3333333333333333,
              "#9c179e"
             ],
             [
              0.4444444444444444,
              "#bd3786"
             ],
             [
              0.5555555555555556,
              "#d8576b"
             ],
             [
              0.6666666666666666,
              "#ed7953"
             ],
             [
              0.7777777777777778,
              "#fb9f3a"
             ],
             [
              0.8888888888888888,
              "#fdca26"
             ],
             [
              1,
              "#f0f921"
             ]
            ],
            "type": "contour"
           }
          ],
          "contourcarpet": [
           {
            "colorbar": {
             "outlinewidth": 0,
             "ticks": ""
            },
            "type": "contourcarpet"
           }
          ],
          "heatmap": [
           {
            "colorbar": {
             "outlinewidth": 0,
             "ticks": ""
            },
            "colorscale": [
             [
              0,
              "#0d0887"
             ],
             [
              0.1111111111111111,
              "#46039f"
             ],
             [
              0.2222222222222222,
              "#7201a8"
             ],
             [
              0.3333333333333333,
              "#9c179e"
             ],
             [
              0.4444444444444444,
              "#bd3786"
             ],
             [
              0.5555555555555556,
              "#d8576b"
             ],
             [
              0.6666666666666666,
              "#ed7953"
             ],
             [
              0.7777777777777778,
              "#fb9f3a"
             ],
             [
              0.8888888888888888,
              "#fdca26"
             ],
             [
              1,
              "#f0f921"
             ]
            ],
            "type": "heatmap"
           }
          ],
          "heatmapgl": [
           {
            "colorbar": {
             "outlinewidth": 0,
             "ticks": ""
            },
            "colorscale": [
             [
              0,
              "#0d0887"
             ],
             [
              0.1111111111111111,
              "#46039f"
             ],
             [
              0.2222222222222222,
              "#7201a8"
             ],
             [
              0.3333333333333333,
              "#9c179e"
             ],
             [
              0.4444444444444444,
              "#bd3786"
             ],
             [
              0.5555555555555556,
              "#d8576b"
             ],
             [
              0.6666666666666666,
              "#ed7953"
             ],
             [
              0.7777777777777778,
              "#fb9f3a"
             ],
             [
              0.8888888888888888,
              "#fdca26"
             ],
             [
              1,
              "#f0f921"
             ]
            ],
            "type": "heatmapgl"
           }
          ],
          "histogram": [
           {
            "marker": {
             "pattern": {
              "fillmode": "overlay",
              "size": 10,
              "solidity": 0.2
             }
            },
            "type": "histogram"
           }
          ],
          "histogram2d": [
           {
            "colorbar": {
             "outlinewidth": 0,
             "ticks": ""
            },
            "colorscale": [
             [
              0,
              "#0d0887"
             ],
             [
              0.1111111111111111,
              "#46039f"
             ],
             [
              0.2222222222222222,
              "#7201a8"
             ],
             [
              0.3333333333333333,
              "#9c179e"
             ],
             [
              0.4444444444444444,
              "#bd3786"
             ],
             [
              0.5555555555555556,
              "#d8576b"
             ],
             [
              0.6666666666666666,
              "#ed7953"
             ],
             [
              0.7777777777777778,
              "#fb9f3a"
             ],
             [
              0.8888888888888888,
              "#fdca26"
             ],
             [
              1,
              "#f0f921"
             ]
            ],
            "type": "histogram2d"
           }
          ],
          "histogram2dcontour": [
           {
            "colorbar": {
             "outlinewidth": 0,
             "ticks": ""
            },
            "colorscale": [
             [
              0,
              "#0d0887"
             ],
             [
              0.1111111111111111,
              "#46039f"
             ],
             [
              0.2222222222222222,
              "#7201a8"
             ],
             [
              0.3333333333333333,
              "#9c179e"
             ],
             [
              0.4444444444444444,
              "#bd3786"
             ],
             [
              0.5555555555555556,
              "#d8576b"
             ],
             [
              0.6666666666666666,
              "#ed7953"
             ],
             [
              0.7777777777777778,
              "#fb9f3a"
             ],
             [
              0.8888888888888888,
              "#fdca26"
             ],
             [
              1,
              "#f0f921"
             ]
            ],
            "type": "histogram2dcontour"
           }
          ],
          "mesh3d": [
           {
            "colorbar": {
             "outlinewidth": 0,
             "ticks": ""
            },
            "type": "mesh3d"
           }
          ],
          "parcoords": [
           {
            "line": {
             "colorbar": {
              "outlinewidth": 0,
              "ticks": ""
             }
            },
            "type": "parcoords"
           }
          ],
          "pie": [
           {
            "automargin": true,
            "type": "pie"
           }
          ],
          "scatter": [
           {
            "marker": {
             "colorbar": {
              "outlinewidth": 0,
              "ticks": ""
             }
            },
            "type": "scatter"
           }
          ],
          "scatter3d": [
           {
            "line": {
             "colorbar": {
              "outlinewidth": 0,
              "ticks": ""
             }
            },
            "marker": {
             "colorbar": {
              "outlinewidth": 0,
              "ticks": ""
             }
            },
            "type": "scatter3d"
           }
          ],
          "scattercarpet": [
           {
            "marker": {
             "colorbar": {
              "outlinewidth": 0,
              "ticks": ""
             }
            },
            "type": "scattercarpet"
           }
          ],
          "scattergeo": [
           {
            "marker": {
             "colorbar": {
              "outlinewidth": 0,
              "ticks": ""
             }
            },
            "type": "scattergeo"
           }
          ],
          "scattergl": [
           {
            "marker": {
             "colorbar": {
              "outlinewidth": 0,
              "ticks": ""
             }
            },
            "type": "scattergl"
           }
          ],
          "scattermapbox": [
           {
            "marker": {
             "colorbar": {
              "outlinewidth": 0,
              "ticks": ""
             }
            },
            "type": "scattermapbox"
           }
          ],
          "scatterpolar": [
           {
            "marker": {
             "colorbar": {
              "outlinewidth": 0,
              "ticks": ""
             }
            },
            "type": "scatterpolar"
           }
          ],
          "scatterpolargl": [
           {
            "marker": {
             "colorbar": {
              "outlinewidth": 0,
              "ticks": ""
             }
            },
            "type": "scatterpolargl"
           }
          ],
          "scatterternary": [
           {
            "marker": {
             "colorbar": {
              "outlinewidth": 0,
              "ticks": ""
             }
            },
            "type": "scatterternary"
           }
          ],
          "surface": [
           {
            "colorbar": {
             "outlinewidth": 0,
             "ticks": ""
            },
            "colorscale": [
             [
              0,
              "#0d0887"
             ],
             [
              0.1111111111111111,
              "#46039f"
             ],
             [
              0.2222222222222222,
              "#7201a8"
             ],
             [
              0.3333333333333333,
              "#9c179e"
             ],
             [
              0.4444444444444444,
              "#bd3786"
             ],
             [
              0.5555555555555556,
              "#d8576b"
             ],
             [
              0.6666666666666666,
              "#ed7953"
             ],
             [
              0.7777777777777778,
              "#fb9f3a"
             ],
             [
              0.8888888888888888,
              "#fdca26"
             ],
             [
              1,
              "#f0f921"
             ]
            ],
            "type": "surface"
           }
          ],
          "table": [
           {
            "cells": {
             "fill": {
              "color": "#EBF0F8"
             },
             "line": {
              "color": "white"
             }
            },
            "header": {
             "fill": {
              "color": "#C8D4E3"
             },
             "line": {
              "color": "white"
             }
            },
            "type": "table"
           }
          ]
         },
         "layout": {
          "annotationdefaults": {
           "arrowcolor": "#2a3f5f",
           "arrowhead": 0,
           "arrowwidth": 1
          },
          "autotypenumbers": "strict",
          "coloraxis": {
           "colorbar": {
            "outlinewidth": 0,
            "ticks": ""
           }
          },
          "colorscale": {
           "diverging": [
            [
             0,
             "#8e0152"
            ],
            [
             0.1,
             "#c51b7d"
            ],
            [
             0.2,
             "#de77ae"
            ],
            [
             0.3,
             "#f1b6da"
            ],
            [
             0.4,
             "#fde0ef"
            ],
            [
             0.5,
             "#f7f7f7"
            ],
            [
             0.6,
             "#e6f5d0"
            ],
            [
             0.7,
             "#b8e186"
            ],
            [
             0.8,
             "#7fbc41"
            ],
            [
             0.9,
             "#4d9221"
            ],
            [
             1,
             "#276419"
            ]
           ],
           "sequential": [
            [
             0,
             "#0d0887"
            ],
            [
             0.1111111111111111,
             "#46039f"
            ],
            [
             0.2222222222222222,
             "#7201a8"
            ],
            [
             0.3333333333333333,
             "#9c179e"
            ],
            [
             0.4444444444444444,
             "#bd3786"
            ],
            [
             0.5555555555555556,
             "#d8576b"
            ],
            [
             0.6666666666666666,
             "#ed7953"
            ],
            [
             0.7777777777777778,
             "#fb9f3a"
            ],
            [
             0.8888888888888888,
             "#fdca26"
            ],
            [
             1,
             "#f0f921"
            ]
           ],
           "sequentialminus": [
            [
             0,
             "#0d0887"
            ],
            [
             0.1111111111111111,
             "#46039f"
            ],
            [
             0.2222222222222222,
             "#7201a8"
            ],
            [
             0.3333333333333333,
             "#9c179e"
            ],
            [
             0.4444444444444444,
             "#bd3786"
            ],
            [
             0.5555555555555556,
             "#d8576b"
            ],
            [
             0.6666666666666666,
             "#ed7953"
            ],
            [
             0.7777777777777778,
             "#fb9f3a"
            ],
            [
             0.8888888888888888,
             "#fdca26"
            ],
            [
             1,
             "#f0f921"
            ]
           ]
          },
          "colorway": [
           "#636efa",
           "#EF553B",
           "#00cc96",
           "#ab63fa",
           "#FFA15A",
           "#19d3f3",
           "#FF6692",
           "#B6E880",
           "#FF97FF",
           "#FECB52"
          ],
          "font": {
           "color": "#2a3f5f"
          },
          "geo": {
           "bgcolor": "white",
           "lakecolor": "white",
           "landcolor": "#E5ECF6",
           "showlakes": true,
           "showland": true,
           "subunitcolor": "white"
          },
          "hoverlabel": {
           "align": "left"
          },
          "hovermode": "closest",
          "mapbox": {
           "style": "light"
          },
          "paper_bgcolor": "white",
          "plot_bgcolor": "#E5ECF6",
          "polar": {
           "angularaxis": {
            "gridcolor": "white",
            "linecolor": "white",
            "ticks": ""
           },
           "bgcolor": "#E5ECF6",
           "radialaxis": {
            "gridcolor": "white",
            "linecolor": "white",
            "ticks": ""
           }
          },
          "scene": {
           "xaxis": {
            "backgroundcolor": "#E5ECF6",
            "gridcolor": "white",
            "gridwidth": 2,
            "linecolor": "white",
            "showbackground": true,
            "ticks": "",
            "zerolinecolor": "white"
           },
           "yaxis": {
            "backgroundcolor": "#E5ECF6",
            "gridcolor": "white",
            "gridwidth": 2,
            "linecolor": "white",
            "showbackground": true,
            "ticks": "",
            "zerolinecolor": "white"
           },
           "zaxis": {
            "backgroundcolor": "#E5ECF6",
            "gridcolor": "white",
            "gridwidth": 2,
            "linecolor": "white",
            "showbackground": true,
            "ticks": "",
            "zerolinecolor": "white"
           }
          },
          "shapedefaults": {
           "line": {
            "color": "#2a3f5f"
           }
          },
          "ternary": {
           "aaxis": {
            "gridcolor": "white",
            "linecolor": "white",
            "ticks": ""
           },
           "baxis": {
            "gridcolor": "white",
            "linecolor": "white",
            "ticks": ""
           },
           "bgcolor": "#E5ECF6",
           "caxis": {
            "gridcolor": "white",
            "linecolor": "white",
            "ticks": ""
           }
          },
          "title": {
           "x": 0.05
          },
          "xaxis": {
           "automargin": true,
           "gridcolor": "white",
           "linecolor": "white",
           "ticks": "",
           "title": {
            "standoff": 15
           },
           "zerolinecolor": "white",
           "zerolinewidth": 2
          },
          "yaxis": {
           "automargin": true,
           "gridcolor": "white",
           "linecolor": "white",
           "ticks": "",
           "title": {
            "standoff": 15
           },
           "zerolinecolor": "white",
           "zerolinewidth": 2
          }
         }
        },
        "title": {
         "text": "Superb Genre Combintaion"
        }
       }
      },
      "text/html": [
       "<div>                            <div id=\"c2376c0a-c2d2-4da1-8259-b8e7c7eff566\" class=\"plotly-graph-div\" style=\"height:525px; width:100%;\"></div>            <script type=\"text/javascript\">                require([\"plotly\"], function(Plotly) {                    window.PLOTLYENV=window.PLOTLYENV || {};                                    if (document.getElementById(\"c2376c0a-c2d2-4da1-8259-b8e7c7eff566\")) {                    Plotly.newPlot(                        \"c2376c0a-c2d2-4da1-8259-b8e7c7eff566\",                        [{\"marker\":{\"color\":[\"purple\",\"purple\",\"purple\",\"purple\",\"purple\"]},\"type\":\"bar\",\"x\":[\"role-playing-rpg & adventure\",\"shooter , racing , adventure\",\"real-time-strategy-rts , simulator , strategy\",\"role-playing-rpg\"],\"y\":[285,226,218,11]}],                        {\"template\":{\"data\":{\"bar\":[{\"error_x\":{\"color\":\"#2a3f5f\"},\"error_y\":{\"color\":\"#2a3f5f\"},\"marker\":{\"line\":{\"color\":\"#E5ECF6\",\"width\":0.5},\"pattern\":{\"fillmode\":\"overlay\",\"size\":10,\"solidity\":0.2}},\"type\":\"bar\"}],\"barpolar\":[{\"marker\":{\"line\":{\"color\":\"#E5ECF6\",\"width\":0.5},\"pattern\":{\"fillmode\":\"overlay\",\"size\":10,\"solidity\":0.2}},\"type\":\"barpolar\"}],\"carpet\":[{\"aaxis\":{\"endlinecolor\":\"#2a3f5f\",\"gridcolor\":\"white\",\"linecolor\":\"white\",\"minorgridcolor\":\"white\",\"startlinecolor\":\"#2a3f5f\"},\"baxis\":{\"endlinecolor\":\"#2a3f5f\",\"gridcolor\":\"white\",\"linecolor\":\"white\",\"minorgridcolor\":\"white\",\"startlinecolor\":\"#2a3f5f\"},\"type\":\"carpet\"}],\"choropleth\":[{\"colorbar\":{\"outlinewidth\":0,\"ticks\":\"\"},\"type\":\"choropleth\"}],\"contour\":[{\"colorbar\":{\"outlinewidth\":0,\"ticks\":\"\"},\"colorscale\":[[0.0,\"#0d0887\"],[0.1111111111111111,\"#46039f\"],[0.2222222222222222,\"#7201a8\"],[0.3333333333333333,\"#9c179e\"],[0.4444444444444444,\"#bd3786\"],[0.5555555555555556,\"#d8576b\"],[0.6666666666666666,\"#ed7953\"],[0.7777777777777778,\"#fb9f3a\"],[0.8888888888888888,\"#fdca26\"],[1.0,\"#f0f921\"]],\"type\":\"contour\"}],\"contourcarpet\":[{\"colorbar\":{\"outlinewidth\":0,\"ticks\":\"\"},\"type\":\"contourcarpet\"}],\"heatmap\":[{\"colorbar\":{\"outlinewidth\":0,\"ticks\":\"\"},\"colorscale\":[[0.0,\"#0d0887\"],[0.1111111111111111,\"#46039f\"],[0.2222222222222222,\"#7201a8\"],[0.3333333333333333,\"#9c179e\"],[0.4444444444444444,\"#bd3786\"],[0.5555555555555556,\"#d8576b\"],[0.6666666666666666,\"#ed7953\"],[0.7777777777777778,\"#fb9f3a\"],[0.8888888888888888,\"#fdca26\"],[1.0,\"#f0f921\"]],\"type\":\"heatmap\"}],\"heatmapgl\":[{\"colorbar\":{\"outlinewidth\":0,\"ticks\":\"\"},\"colorscale\":[[0.0,\"#0d0887\"],[0.1111111111111111,\"#46039f\"],[0.2222222222222222,\"#7201a8\"],[0.3333333333333333,\"#9c179e\"],[0.4444444444444444,\"#bd3786\"],[0.5555555555555556,\"#d8576b\"],[0.6666666666666666,\"#ed7953\"],[0.7777777777777778,\"#fb9f3a\"],[0.8888888888888888,\"#fdca26\"],[1.0,\"#f0f921\"]],\"type\":\"heatmapgl\"}],\"histogram\":[{\"marker\":{\"pattern\":{\"fillmode\":\"overlay\",\"size\":10,\"solidity\":0.2}},\"type\":\"histogram\"}],\"histogram2d\":[{\"colorbar\":{\"outlinewidth\":0,\"ticks\":\"\"},\"colorscale\":[[0.0,\"#0d0887\"],[0.1111111111111111,\"#46039f\"],[0.2222222222222222,\"#7201a8\"],[0.3333333333333333,\"#9c179e\"],[0.4444444444444444,\"#bd3786\"],[0.5555555555555556,\"#d8576b\"],[0.6666666666666666,\"#ed7953\"],[0.7777777777777778,\"#fb9f3a\"],[0.8888888888888888,\"#fdca26\"],[1.0,\"#f0f921\"]],\"type\":\"histogram2d\"}],\"histogram2dcontour\":[{\"colorbar\":{\"outlinewidth\":0,\"ticks\":\"\"},\"colorscale\":[[0.0,\"#0d0887\"],[0.1111111111111111,\"#46039f\"],[0.2222222222222222,\"#7201a8\"],[0.3333333333333333,\"#9c179e\"],[0.4444444444444444,\"#bd3786\"],[0.5555555555555556,\"#d8576b\"],[0.6666666666666666,\"#ed7953\"],[0.7777777777777778,\"#fb9f3a\"],[0.8888888888888888,\"#fdca26\"],[1.0,\"#f0f921\"]],\"type\":\"histogram2dcontour\"}],\"mesh3d\":[{\"colorbar\":{\"outlinewidth\":0,\"ticks\":\"\"},\"type\":\"mesh3d\"}],\"parcoords\":[{\"line\":{\"colorbar\":{\"outlinewidth\":0,\"ticks\":\"\"}},\"type\":\"parcoords\"}],\"pie\":[{\"automargin\":true,\"type\":\"pie\"}],\"scatter\":[{\"marker\":{\"colorbar\":{\"outlinewidth\":0,\"ticks\":\"\"}},\"type\":\"scatter\"}],\"scatter3d\":[{\"line\":{\"colorbar\":{\"outlinewidth\":0,\"ticks\":\"\"}},\"marker\":{\"colorbar\":{\"outlinewidth\":0,\"ticks\":\"\"}},\"type\":\"scatter3d\"}],\"scattercarpet\":[{\"marker\":{\"colorbar\":{\"outlinewidth\":0,\"ticks\":\"\"}},\"type\":\"scattercarpet\"}],\"scattergeo\":[{\"marker\":{\"colorbar\":{\"outlinewidth\":0,\"ticks\":\"\"}},\"type\":\"scattergeo\"}],\"scattergl\":[{\"marker\":{\"colorbar\":{\"outlinewidth\":0,\"ticks\":\"\"}},\"type\":\"scattergl\"}],\"scattermapbox\":[{\"marker\":{\"colorbar\":{\"outlinewidth\":0,\"ticks\":\"\"}},\"type\":\"scattermapbox\"}],\"scatterpolar\":[{\"marker\":{\"colorbar\":{\"outlinewidth\":0,\"ticks\":\"\"}},\"type\":\"scatterpolar\"}],\"scatterpolargl\":[{\"marker\":{\"colorbar\":{\"outlinewidth\":0,\"ticks\":\"\"}},\"type\":\"scatterpolargl\"}],\"scatterternary\":[{\"marker\":{\"colorbar\":{\"outlinewidth\":0,\"ticks\":\"\"}},\"type\":\"scatterternary\"}],\"surface\":[{\"colorbar\":{\"outlinewidth\":0,\"ticks\":\"\"},\"colorscale\":[[0.0,\"#0d0887\"],[0.1111111111111111,\"#46039f\"],[0.2222222222222222,\"#7201a8\"],[0.3333333333333333,\"#9c179e\"],[0.4444444444444444,\"#bd3786\"],[0.5555555555555556,\"#d8576b\"],[0.6666666666666666,\"#ed7953\"],[0.7777777777777778,\"#fb9f3a\"],[0.8888888888888888,\"#fdca26\"],[1.0,\"#f0f921\"]],\"type\":\"surface\"}],\"table\":[{\"cells\":{\"fill\":{\"color\":\"#EBF0F8\"},\"line\":{\"color\":\"white\"}},\"header\":{\"fill\":{\"color\":\"#C8D4E3\"},\"line\":{\"color\":\"white\"}},\"type\":\"table\"}]},\"layout\":{\"annotationdefaults\":{\"arrowcolor\":\"#2a3f5f\",\"arrowhead\":0,\"arrowwidth\":1},\"autotypenumbers\":\"strict\",\"coloraxis\":{\"colorbar\":{\"outlinewidth\":0,\"ticks\":\"\"}},\"colorscale\":{\"diverging\":[[0,\"#8e0152\"],[0.1,\"#c51b7d\"],[0.2,\"#de77ae\"],[0.3,\"#f1b6da\"],[0.4,\"#fde0ef\"],[0.5,\"#f7f7f7\"],[0.6,\"#e6f5d0\"],[0.7,\"#b8e186\"],[0.8,\"#7fbc41\"],[0.9,\"#4d9221\"],[1,\"#276419\"]],\"sequential\":[[0.0,\"#0d0887\"],[0.1111111111111111,\"#46039f\"],[0.2222222222222222,\"#7201a8\"],[0.3333333333333333,\"#9c179e\"],[0.4444444444444444,\"#bd3786\"],[0.5555555555555556,\"#d8576b\"],[0.6666666666666666,\"#ed7953\"],[0.7777777777777778,\"#fb9f3a\"],[0.8888888888888888,\"#fdca26\"],[1.0,\"#f0f921\"]],\"sequentialminus\":[[0.0,\"#0d0887\"],[0.1111111111111111,\"#46039f\"],[0.2222222222222222,\"#7201a8\"],[0.3333333333333333,\"#9c179e\"],[0.4444444444444444,\"#bd3786\"],[0.5555555555555556,\"#d8576b\"],[0.6666666666666666,\"#ed7953\"],[0.7777777777777778,\"#fb9f3a\"],[0.8888888888888888,\"#fdca26\"],[1.0,\"#f0f921\"]]},\"colorway\":[\"#636efa\",\"#EF553B\",\"#00cc96\",\"#ab63fa\",\"#FFA15A\",\"#19d3f3\",\"#FF6692\",\"#B6E880\",\"#FF97FF\",\"#FECB52\"],\"font\":{\"color\":\"#2a3f5f\"},\"geo\":{\"bgcolor\":\"white\",\"lakecolor\":\"white\",\"landcolor\":\"#E5ECF6\",\"showlakes\":true,\"showland\":true,\"subunitcolor\":\"white\"},\"hoverlabel\":{\"align\":\"left\"},\"hovermode\":\"closest\",\"mapbox\":{\"style\":\"light\"},\"paper_bgcolor\":\"white\",\"plot_bgcolor\":\"#E5ECF6\",\"polar\":{\"angularaxis\":{\"gridcolor\":\"white\",\"linecolor\":\"white\",\"ticks\":\"\"},\"bgcolor\":\"#E5ECF6\",\"radialaxis\":{\"gridcolor\":\"white\",\"linecolor\":\"white\",\"ticks\":\"\"}},\"scene\":{\"xaxis\":{\"backgroundcolor\":\"#E5ECF6\",\"gridcolor\":\"white\",\"gridwidth\":2,\"linecolor\":\"white\",\"showbackground\":true,\"ticks\":\"\",\"zerolinecolor\":\"white\"},\"yaxis\":{\"backgroundcolor\":\"#E5ECF6\",\"gridcolor\":\"white\",\"gridwidth\":2,\"linecolor\":\"white\",\"showbackground\":true,\"ticks\":\"\",\"zerolinecolor\":\"white\"},\"zaxis\":{\"backgroundcolor\":\"#E5ECF6\",\"gridcolor\":\"white\",\"gridwidth\":2,\"linecolor\":\"white\",\"showbackground\":true,\"ticks\":\"\",\"zerolinecolor\":\"white\"}},\"shapedefaults\":{\"line\":{\"color\":\"#2a3f5f\"}},\"ternary\":{\"aaxis\":{\"gridcolor\":\"white\",\"linecolor\":\"white\",\"ticks\":\"\"},\"baxis\":{\"gridcolor\":\"white\",\"linecolor\":\"white\",\"ticks\":\"\"},\"bgcolor\":\"#E5ECF6\",\"caxis\":{\"gridcolor\":\"white\",\"linecolor\":\"white\",\"ticks\":\"\"}},\"title\":{\"x\":0.05},\"xaxis\":{\"automargin\":true,\"gridcolor\":\"white\",\"linecolor\":\"white\",\"ticks\":\"\",\"title\":{\"standoff\":15},\"zerolinecolor\":\"white\",\"zerolinewidth\":2},\"yaxis\":{\"automargin\":true,\"gridcolor\":\"white\",\"linecolor\":\"white\",\"ticks\":\"\",\"title\":{\"standoff\":15},\"zerolinecolor\":\"white\",\"zerolinewidth\":2}}},\"title\":{\"text\":\"Superb Genre Combintaion\"}},                        {\"responsive\": true}                    ).then(function(){\n",
       "                            \n",
       "var gd = document.getElementById('c2376c0a-c2d2-4da1-8259-b8e7c7eff566');\n",
       "var x = new MutationObserver(function (mutations, observer) {{\n",
       "        var display = window.getComputedStyle(gd).display;\n",
       "        if (!display || display === 'none') {{\n",
       "            console.log([gd, 'removed!']);\n",
       "            Plotly.purge(gd);\n",
       "            observer.disconnect();\n",
       "        }}\n",
       "}});\n",
       "\n",
       "// Listen for the removal of the full notebook cells\n",
       "var notebookContainer = gd.closest('#notebook-container');\n",
       "if (notebookContainer) {{\n",
       "    x.observe(notebookContainer, {childList: true});\n",
       "}}\n",
       "\n",
       "// Listen for the clearing of the current output cell\n",
       "var outputEl = gd.closest('.output');\n",
       "if (outputEl) {{\n",
       "    x.observe(outputEl, {childList: true});\n",
       "}}\n",
       "\n",
       "                        })                };                });            </script>        </div>"
      ]
     },
     "metadata": {},
     "output_type": "display_data"
    }
   ],
   "source": [
    "colors = ['purple',] * 5\n",
    "\n",
    "\n",
    "fig = go.Figure(data=[go.Bar(\n",
    "    x=['role-playing-rpg & adventure', 'shooter , racing , adventure','real-time-strategy-rts , simulator , strategy', 'role-playing-rpg'],\n",
    "    y=[285, 226, 218,  11],\n",
    "    marker_color=colors # marker color can be a single color value or an iterable\n",
    ")])\n",
    "fig.update_layout(title_text='Superb Genre Combintaion')"
   ]
  },
  {
   "cell_type": "code",
   "execution_count": null,
   "id": "3a184b23",
   "metadata": {},
   "outputs": [],
   "source": []
  },
  {
   "cell_type": "code",
   "execution_count": null,
   "id": "54f101bf",
   "metadata": {},
   "outputs": [],
   "source": []
  },
  {
   "cell_type": "markdown",
   "id": "3ac0946e",
   "metadata": {},
   "source": [
    ">- Answer- the most common Genre in the higest rating are adventure, role-playing- rpg, shoter, rts, racing "
   ]
  },
  {
   "cell_type": "markdown",
   "id": "70e821dc",
   "metadata": {},
   "source": [
    "## Q 2.1 what about the three highest ratings (good, great, subperb) ? what is the overall most highest genre"
   ]
  },
  {
   "cell_type": "code",
   "execution_count": null,
   "id": "b6df1bc3",
   "metadata": {},
   "outputs": [],
   "source": [
    "fig, ax = plt.subplots(figsize = (14,4))\n",
    "ax.bar(to_1D(df_top3_rating[\"genres\"]).value_counts().iloc[:7].index,\n",
    "        to_1D(df_top3_rating[\"genres\"]).value_counts().iloc[:7].values)\n",
    "ax.set_ylabel(\"Frequency\", size = 12)\n",
    "ax.set_title(\"genres\", size = 14)"
   ]
  },
  {
   "cell_type": "markdown",
   "id": "ab66e13f",
   "metadata": {},
   "source": [
    "## Q 2.2 what about the three lowest ratings ((bad, very bad , awful)) ? what is the overall most highest genre in these low rating games?"
   ]
  },
  {
   "cell_type": "code",
   "execution_count": 61,
   "id": "f5837580",
   "metadata": {
    "scrolled": true
   },
   "outputs": [
    {
     "data": {
      "text/plain": [
       "Text(0.5, 1.0, 'platforms')"
      ]
     },
     "execution_count": 61,
     "metadata": {},
     "output_type": "execute_result"
    },
    {
     "data": {
      "image/png": "[encoded data removed]",
      "text/plain": [
       "<Figure size 1008x288 with 1 Axes>"
      ]
     },
     "metadata": {
      "needs_background": "light"
     },
     "output_type": "display_data"
    }
   ],
   "source": [
    "fig, ax = plt.subplots(figsize = (14,4))\n",
    "ax.bar(to_1D(df_low3_rating[\"genres\"]).value_counts().iloc[:7].index,\n",
    "        to_1D(df_low3_rating[\"genres\"]).value_counts().iloc[:7].values)\n",
    "ax.set_ylabel(\"Frequency\", size = 12)\n",
    "ax.set_title(\"platforms\", size = 14)"
   ]
  },
  {
   "cell_type": "code",
   "execution_count": 58,
   "id": "b9566f10",
   "metadata": {
    "scrolled": true
   },
   "outputs": [
    {
     "data": {
      "text/html": [
       "<div>\n",
       "<style scoped>\n",
       "    .dataframe tbody tr th:only-of-type {\n",
       "        vertical-align: middle;\n",
       "    }\n",
       "\n",
       "    .dataframe tbody tr th {\n",
       "        vertical-align: top;\n",
       "    }\n",
       "\n",
       "    .dataframe thead th {\n",
       "        text-align: right;\n",
       "    }\n",
       "</style>\n",
       "<table border=\"1\" class=\"dataframe\">\n",
       "  <thead>\n",
       "    <tr style=\"text-align: right;\">\n",
       "      <th></th>\n",
       "      <th>id</th>\n",
       "      <th>category</th>\n",
       "      <th>created_at</th>\n",
       "      <th>external_games</th>\n",
       "      <th>first_release_date</th>\n",
       "      <th>genres</th>\n",
       "      <th>name</th>\n",
       "      <th>platforms</th>\n",
       "      <th>release_dates</th>\n",
       "      <th>similar_games</th>\n",
       "      <th>slug</th>\n",
       "      <th>summary</th>\n",
       "      <th>tags</th>\n",
       "      <th>updated_at</th>\n",
       "      <th>url</th>\n",
       "      <th>checksum_x</th>\n",
       "      <th>age_ratings</th>\n",
       "      <th>cover</th>\n",
       "      <th>involved_companies</th>\n",
       "      <th>screenshots</th>\n",
       "      <th>game_modes</th>\n",
       "      <th>player_perspectives</th>\n",
       "      <th>themes</th>\n",
       "      <th>websites</th>\n",
       "      <th>alternative_names</th>\n",
       "      <th>artworks</th>\n",
       "      <th>game_engines</th>\n",
       "      <th>keywords</th>\n",
       "      <th>status</th>\n",
       "      <th>videos</th>\n",
       "      <th>rating</th>\n",
       "      <th>rating_count</th>\n",
       "      <th>storyline</th>\n",
       "      <th>total_rating</th>\n",
       "      <th>total_rating_count</th>\n",
       "      <th>version_parent</th>\n",
       "      <th>version_title</th>\n",
       "      <th>hypes</th>\n",
       "      <th>collection</th>\n",
       "      <th>franchises</th>\n",
       "      <th>follows</th>\n",
       "      <th>aggregated_rating</th>\n",
       "      <th>aggregated_rating_count</th>\n",
       "      <th>dlcs</th>\n",
       "      <th>bundles</th>\n",
       "      <th>parent_game</th>\n",
       "      <th>franchise</th>\n",
       "      <th>multiplayer_modes</th>\n",
       "      <th>remakes</th>\n",
       "      <th>ports</th>\n",
       "      <th>expansions</th>\n",
       "      <th>expanded_games</th>\n",
       "      <th>remasters</th>\n",
       "      <th>forks</th>\n",
       "      <th>standalone_expansions</th>\n",
       "      <th>second</th>\n",
       "      <th>version_description</th>\n",
       "      <th>title_version</th>\n",
       "      <th>second_id</th>\n",
       "      <th>campaigncoop</th>\n",
       "      <th>dropin</th>\n",
       "      <th>lancoop</th>\n",
       "      <th>offlinecoop</th>\n",
       "      <th>offlinemax</th>\n",
       "      <th>onlinecoop</th>\n",
       "      <th>platform</th>\n",
       "      <th>splitscreen</th>\n",
       "      <th>checksum_y</th>\n",
       "      <th>offlinecoopmax</th>\n",
       "      <th>onlinecoopmax</th>\n",
       "      <th>onlinemax</th>\n",
       "      <th>rating_bin</th>\n",
       "    </tr>\n",
       "  </thead>\n",
       "  <tbody>\n",
       "    <tr>\n",
       "      <th>1855</th>\n",
       "      <td>3854</td>\n",
       "      <td>0</td>\n",
       "      <td>2014-01-19</td>\n",
       "      <td>[35445, 1744593, 1946817]</td>\n",
       "      <td>1.058400e+09</td>\n",
       "      <td>[racing]</td>\n",
       "      <td>Charinko Hero</td>\n",
       "      <td>[Nintendo GameCube]</td>\n",
       "      <td>[8811]</td>\n",
       "      <td>[96476, 103301, 105011, 109292, 111130, 113895...</td>\n",
       "      <td>charinko-hero</td>\n",
       "      <td>Charinko Hero is a Racing game, developed and ...</td>\n",
       "      <td>[1, 268435466, 536871308]</td>\n",
       "      <td>2020-11-06</td>\n",
       "      <td>https://www.igdb.com/games/charinko-hero</td>\n",
       "      <td>c9e8c906-4031-9530-70c2-6f4d85546065</td>\n",
       "      <td>None</td>\n",
       "      <td>4078.0</td>\n",
       "      <td>[10014]</td>\n",
       "      <td>None</td>\n",
       "      <td>[single-player, split-screen]</td>\n",
       "      <td>[Third person]</td>\n",
       "      <td>[Action]</td>\n",
       "      <td>None</td>\n",
       "      <td>[32596]</td>\n",
       "      <td>None</td>\n",
       "      <td>None</td>\n",
       "      <td>[396]</td>\n",
       "      <td>NaN</td>\n",
       "      <td>None</td>\n",
       "      <td>16.0</td>\n",
       "      <td>0</td>\n",
       "      <td>None</td>\n",
       "      <td>16.0</td>\n",
       "      <td>0</td>\n",
       "      <td>NaN</td>\n",
       "      <td>None</td>\n",
       "      <td>NaN</td>\n",
       "      <td>NaN</td>\n",
       "      <td>None</td>\n",
       "      <td>NaN</td>\n",
       "      <td>NaN</td>\n",
       "      <td>NaN</td>\n",
       "      <td>None</td>\n",
       "      <td>None</td>\n",
       "      <td>NaN</td>\n",
       "      <td>NaN</td>\n",
       "      <td>None</td>\n",
       "      <td>None</td>\n",
       "      <td>None</td>\n",
       "      <td>None</td>\n",
       "      <td>None</td>\n",
       "      <td>None</td>\n",
       "      <td>None</td>\n",
       "      <td>None</td>\n",
       "      <td>NaN</td>\n",
       "      <td>None</td>\n",
       "      <td>None</td>\n",
       "      <td>NaN</td>\n",
       "      <td>False</td>\n",
       "      <td>False</td>\n",
       "      <td>False</td>\n",
       "      <td>False</td>\n",
       "      <td>0</td>\n",
       "      <td>False</td>\n",
       "      <td>NaN</td>\n",
       "      <td>False</td>\n",
       "      <td>None</td>\n",
       "      <td>0</td>\n",
       "      <td>0</td>\n",
       "      <td>0</td>\n",
       "      <td>very_bad</td>\n",
       "    </tr>\n",
       "    <tr>\n",
       "      <th>2270</th>\n",
       "      <td>88344</td>\n",
       "      <td>0</td>\n",
       "      <td>2018-02-21</td>\n",
       "      <td>[224288, 240667, 1992847]</td>\n",
       "      <td>NaN</td>\n",
       "      <td>[Not available]</td>\n",
       "      <td>Lola's ABC Party - Learn to Read</td>\n",
       "      <td>[Not available]</td>\n",
       "      <td>None</td>\n",
       "      <td>None</td>\n",
       "      <td>lolas-abc-party-learn-to-read</td>\n",
       "      <td>None</td>\n",
       "      <td>None</td>\n",
       "      <td>2020-11-06</td>\n",
       "      <td>https://www.igdb.com/games/lolas-abc-party-lea...</td>\n",
       "      <td>07ee8340-7fd4-d10a-faf7-5ed2836cae44</td>\n",
       "      <td>None</td>\n",
       "      <td>NaN</td>\n",
       "      <td>None</td>\n",
       "      <td>None</td>\n",
       "      <td>[Not available]</td>\n",
       "      <td>[Not available]</td>\n",
       "      <td>[Not available]</td>\n",
       "      <td>None</td>\n",
       "      <td>None</td>\n",
       "      <td>None</td>\n",
       "      <td>None</td>\n",
       "      <td>None</td>\n",
       "      <td>NaN</td>\n",
       "      <td>None</td>\n",
       "      <td>20.0</td>\n",
       "      <td>0</td>\n",
       "      <td>None</td>\n",
       "      <td>20.0</td>\n",
       "      <td>0</td>\n",
       "      <td>NaN</td>\n",
       "      <td>None</td>\n",
       "      <td>NaN</td>\n",
       "      <td>NaN</td>\n",
       "      <td>None</td>\n",
       "      <td>NaN</td>\n",
       "      <td>NaN</td>\n",
       "      <td>NaN</td>\n",
       "      <td>None</td>\n",
       "      <td>None</td>\n",
       "      <td>NaN</td>\n",
       "      <td>NaN</td>\n",
       "      <td>None</td>\n",
       "      <td>None</td>\n",
       "      <td>None</td>\n",
       "      <td>None</td>\n",
       "      <td>None</td>\n",
       "      <td>None</td>\n",
       "      <td>None</td>\n",
       "      <td>None</td>\n",
       "      <td>NaN</td>\n",
       "      <td>None</td>\n",
       "      <td>None</td>\n",
       "      <td>NaN</td>\n",
       "      <td>False</td>\n",
       "      <td>False</td>\n",
       "      <td>False</td>\n",
       "      <td>False</td>\n",
       "      <td>0</td>\n",
       "      <td>False</td>\n",
       "      <td>NaN</td>\n",
       "      <td>False</td>\n",
       "      <td>None</td>\n",
       "      <td>0</td>\n",
       "      <td>0</td>\n",
       "      <td>0</td>\n",
       "      <td>very_bad</td>\n",
       "    </tr>\n",
       "    <tr>\n",
       "      <th>3142</th>\n",
       "      <td>90820</td>\n",
       "      <td>0</td>\n",
       "      <td>2018-03-13</td>\n",
       "      <td>[287523, 1994803]</td>\n",
       "      <td>NaN</td>\n",
       "      <td>[Not available]</td>\n",
       "      <td>Minimonsters Crush</td>\n",
       "      <td>[Not available]</td>\n",
       "      <td>None</td>\n",
       "      <td>None</td>\n",
       "      <td>minimonsters-crush</td>\n",
       "      <td>None</td>\n",
       "      <td>None</td>\n",
       "      <td>2020-11-06</td>\n",
       "      <td>https://www.igdb.com/games/minimonsters-crush</td>\n",
       "      <td>9d2a81dc-4846-0bdb-a115-c95551febecd</td>\n",
       "      <td>None</td>\n",
       "      <td>NaN</td>\n",
       "      <td>None</td>\n",
       "      <td>None</td>\n",
       "      <td>[Not available]</td>\n",
       "      <td>[Not available]</td>\n",
       "      <td>[Not available]</td>\n",
       "      <td>None</td>\n",
       "      <td>None</td>\n",
       "      <td>None</td>\n",
       "      <td>None</td>\n",
       "      <td>None</td>\n",
       "      <td>NaN</td>\n",
       "      <td>None</td>\n",
       "      <td>20.0</td>\n",
       "      <td>0</td>\n",
       "      <td>None</td>\n",
       "      <td>20.0</td>\n",
       "      <td>0</td>\n",
       "      <td>NaN</td>\n",
       "      <td>None</td>\n",
       "      <td>NaN</td>\n",
       "      <td>NaN</td>\n",
       "      <td>None</td>\n",
       "      <td>NaN</td>\n",
       "      <td>NaN</td>\n",
       "      <td>NaN</td>\n",
       "      <td>None</td>\n",
       "      <td>None</td>\n",
       "      <td>NaN</td>\n",
       "      <td>NaN</td>\n",
       "      <td>None</td>\n",
       "      <td>None</td>\n",
       "      <td>None</td>\n",
       "      <td>None</td>\n",
       "      <td>None</td>\n",
       "      <td>None</td>\n",
       "      <td>None</td>\n",
       "      <td>None</td>\n",
       "      <td>NaN</td>\n",
       "      <td>None</td>\n",
       "      <td>None</td>\n",
       "      <td>NaN</td>\n",
       "      <td>False</td>\n",
       "      <td>False</td>\n",
       "      <td>False</td>\n",
       "      <td>False</td>\n",
       "      <td>0</td>\n",
       "      <td>False</td>\n",
       "      <td>NaN</td>\n",
       "      <td>False</td>\n",
       "      <td>None</td>\n",
       "      <td>0</td>\n",
       "      <td>0</td>\n",
       "      <td>0</td>\n",
       "      <td>very_bad</td>\n",
       "    </tr>\n",
       "    <tr>\n",
       "      <th>3252</th>\n",
       "      <td>95527</td>\n",
       "      <td>0</td>\n",
       "      <td>2018-03-24</td>\n",
       "      <td>[340180, 1967131]</td>\n",
       "      <td>NaN</td>\n",
       "      <td>[Not available]</td>\n",
       "      <td>Vuzzl - Create Animated Jigsaw Puzzles</td>\n",
       "      <td>[Not available]</td>\n",
       "      <td>None</td>\n",
       "      <td>None</td>\n",
       "      <td>vuzzl-create-animated-jigsaw-puzzles</td>\n",
       "      <td>None</td>\n",
       "      <td>None</td>\n",
       "      <td>2020-11-06</td>\n",
       "      <td>https://www.igdb.com/games/vuzzl-create-animat...</td>\n",
       "      <td>bc0d790d-c817-1a23-bdda-8f102daa1843</td>\n",
       "      <td>None</td>\n",
       "      <td>NaN</td>\n",
       "      <td>None</td>\n",
       "      <td>None</td>\n",
       "      <td>[Not available]</td>\n",
       "      <td>[Not available]</td>\n",
       "      <td>[Not available]</td>\n",
       "      <td>None</td>\n",
       "      <td>None</td>\n",
       "      <td>None</td>\n",
       "      <td>None</td>\n",
       "      <td>None</td>\n",
       "      <td>NaN</td>\n",
       "      <td>None</td>\n",
       "      <td>20.0</td>\n",
       "      <td>0</td>\n",
       "      <td>None</td>\n",
       "      <td>20.0</td>\n",
       "      <td>0</td>\n",
       "      <td>NaN</td>\n",
       "      <td>None</td>\n",
       "      <td>NaN</td>\n",
       "      <td>NaN</td>\n",
       "      <td>None</td>\n",
       "      <td>NaN</td>\n",
       "      <td>NaN</td>\n",
       "      <td>NaN</td>\n",
       "      <td>None</td>\n",
       "      <td>None</td>\n",
       "      <td>NaN</td>\n",
       "      <td>NaN</td>\n",
       "      <td>None</td>\n",
       "      <td>None</td>\n",
       "      <td>None</td>\n",
       "      <td>None</td>\n",
       "      <td>None</td>\n",
       "      <td>None</td>\n",
       "      <td>None</td>\n",
       "      <td>None</td>\n",
       "      <td>NaN</td>\n",
       "      <td>None</td>\n",
       "      <td>None</td>\n",
       "      <td>NaN</td>\n",
       "      <td>False</td>\n",
       "      <td>False</td>\n",
       "      <td>False</td>\n",
       "      <td>False</td>\n",
       "      <td>0</td>\n",
       "      <td>False</td>\n",
       "      <td>NaN</td>\n",
       "      <td>False</td>\n",
       "      <td>None</td>\n",
       "      <td>0</td>\n",
       "      <td>0</td>\n",
       "      <td>0</td>\n",
       "      <td>very_bad</td>\n",
       "    </tr>\n",
       "    <tr>\n",
       "      <th>4490</th>\n",
       "      <td>92092</td>\n",
       "      <td>0</td>\n",
       "      <td>2018-03-16</td>\n",
       "      <td>[316488, 1947110]</td>\n",
       "      <td>NaN</td>\n",
       "      <td>[Not available]</td>\n",
       "      <td>Funtoon's World HD</td>\n",
       "      <td>[Not available]</td>\n",
       "      <td>None</td>\n",
       "      <td>None</td>\n",
       "      <td>funtoons-world-hd</td>\n",
       "      <td>None</td>\n",
       "      <td>None</td>\n",
       "      <td>2020-11-06</td>\n",
       "      <td>https://www.igdb.com/games/funtoons-world-hd</td>\n",
       "      <td>6484c567-e288-985d-95ba-e692eb63b50f</td>\n",
       "      <td>None</td>\n",
       "      <td>NaN</td>\n",
       "      <td>None</td>\n",
       "      <td>None</td>\n",
       "      <td>[Not available]</td>\n",
       "      <td>[Not available]</td>\n",
       "      <td>[Not available]</td>\n",
       "      <td>None</td>\n",
       "      <td>None</td>\n",
       "      <td>None</td>\n",
       "      <td>None</td>\n",
       "      <td>None</td>\n",
       "      <td>NaN</td>\n",
       "      <td>None</td>\n",
       "      <td>20.0</td>\n",
       "      <td>0</td>\n",
       "      <td>None</td>\n",
       "      <td>20.0</td>\n",
       "      <td>0</td>\n",
       "      <td>NaN</td>\n",
       "      <td>None</td>\n",
       "      <td>NaN</td>\n",
       "      <td>NaN</td>\n",
       "      <td>None</td>\n",
       "      <td>NaN</td>\n",
       "      <td>NaN</td>\n",
       "      <td>NaN</td>\n",
       "      <td>None</td>\n",
       "      <td>None</td>\n",
       "      <td>NaN</td>\n",
       "      <td>NaN</td>\n",
       "      <td>None</td>\n",
       "      <td>None</td>\n",
       "      <td>None</td>\n",
       "      <td>None</td>\n",
       "      <td>None</td>\n",
       "      <td>None</td>\n",
       "      <td>None</td>\n",
       "      <td>None</td>\n",
       "      <td>NaN</td>\n",
       "      <td>None</td>\n",
       "      <td>None</td>\n",
       "      <td>NaN</td>\n",
       "      <td>False</td>\n",
       "      <td>False</td>\n",
       "      <td>False</td>\n",
       "      <td>False</td>\n",
       "      <td>0</td>\n",
       "      <td>False</td>\n",
       "      <td>NaN</td>\n",
       "      <td>False</td>\n",
       "      <td>None</td>\n",
       "      <td>0</td>\n",
       "      <td>0</td>\n",
       "      <td>0</td>\n",
       "      <td>very_bad</td>\n",
       "    </tr>\n",
       "  </tbody>\n",
       "</table>\n",
       "</div>"
      ],
      "text/plain": [
       "         id  category created_at             external_games  \\\n",
       "1855   3854         0 2014-01-19  [35445, 1744593, 1946817]   \n",
       "2270  88344         0 2018-02-21  [224288, 240667, 1992847]   \n",
       "3142  90820         0 2018-03-13          [287523, 1994803]   \n",
       "3252  95527         0 2018-03-24          [340180, 1967131]   \n",
       "4490  92092         0 2018-03-16          [316488, 1947110]   \n",
       "\n",
       "      first_release_date           genres  \\\n",
       "1855        1.058400e+09         [racing]   \n",
       "2270                 NaN  [Not available]   \n",
       "3142                 NaN  [Not available]   \n",
       "3252                 NaN  [Not available]   \n",
       "4490                 NaN  [Not available]   \n",
       "\n",
       "                                        name            platforms  \\\n",
       "1855                           Charinko Hero  [Nintendo GameCube]   \n",
       "2270        Lola's ABC Party - Learn to Read      [Not available]   \n",
       "3142                      Minimonsters Crush      [Not available]   \n",
       "3252  Vuzzl - Create Animated Jigsaw Puzzles      [Not available]   \n",
       "4490                      Funtoon's World HD      [Not available]   \n",
       "\n",
       "     release_dates                                      similar_games  \\\n",
       "1855        [8811]  [96476, 103301, 105011, 109292, 111130, 113895...   \n",
       "2270          None                                               None   \n",
       "3142          None                                               None   \n",
       "3252          None                                               None   \n",
       "4490          None                                               None   \n",
       "\n",
       "                                      slug  \\\n",
       "1855                         charinko-hero   \n",
       "2270         lolas-abc-party-learn-to-read   \n",
       "3142                    minimonsters-crush   \n",
       "3252  vuzzl-create-animated-jigsaw-puzzles   \n",
       "4490                     funtoons-world-hd   \n",
       "\n",
       "                                                summary  \\\n",
       "1855  Charinko Hero is a Racing game, developed and ...   \n",
       "2270                                               None   \n",
       "3142                                               None   \n",
       "3252                                               None   \n",
       "4490                                               None   \n",
       "\n",
       "                           tags updated_at  \\\n",
       "1855  [1, 268435466, 536871308] 2020-11-06   \n",
       "2270                       None 2020-11-06   \n",
       "3142                       None 2020-11-06   \n",
       "3252                       None 2020-11-06   \n",
       "4490                       None 2020-11-06   \n",
       "\n",
       "                                                    url  \\\n",
       "1855           https://www.igdb.com/games/charinko-hero   \n",
       "2270  https://www.igdb.com/games/lolas-abc-party-lea...   \n",
       "3142      https://www.igdb.com/games/minimonsters-crush   \n",
       "3252  https://www.igdb.com/games/vuzzl-create-animat...   \n",
       "4490       https://www.igdb.com/games/funtoons-world-hd   \n",
       "\n",
       "                                checksum_x age_ratings   cover  \\\n",
       "1855  c9e8c906-4031-9530-70c2-6f4d85546065        None  4078.0   \n",
       "2270  07ee8340-7fd4-d10a-faf7-5ed2836cae44        None     NaN   \n",
       "3142  9d2a81dc-4846-0bdb-a115-c95551febecd        None     NaN   \n",
       "3252  bc0d790d-c817-1a23-bdda-8f102daa1843        None     NaN   \n",
       "4490  6484c567-e288-985d-95ba-e692eb63b50f        None     NaN   \n",
       "\n",
       "     involved_companies screenshots                     game_modes  \\\n",
       "1855            [10014]        None  [single-player, split-screen]   \n",
       "2270               None        None                [Not available]   \n",
       "3142               None        None                [Not available]   \n",
       "3252               None        None                [Not available]   \n",
       "4490               None        None                [Not available]   \n",
       "\n",
       "     player_perspectives           themes websites alternative_names artworks  \\\n",
       "1855      [Third person]         [Action]     None           [32596]     None   \n",
       "2270     [Not available]  [Not available]     None              None     None   \n",
       "3142     [Not available]  [Not available]     None              None     None   \n",
       "3252     [Not available]  [Not available]     None              None     None   \n",
       "4490     [Not available]  [Not available]     None              None     None   \n",
       "\n",
       "     game_engines keywords  status videos  rating  rating_count storyline  \\\n",
       "1855         None    [396]     NaN   None    16.0             0      None   \n",
       "2270         None     None     NaN   None    20.0             0      None   \n",
       "3142         None     None     NaN   None    20.0             0      None   \n",
       "3252         None     None     NaN   None    20.0             0      None   \n",
       "4490         None     None     NaN   None    20.0             0      None   \n",
       "\n",
       "      total_rating  total_rating_count  version_parent version_title  hypes  \\\n",
       "1855          16.0                   0             NaN          None    NaN   \n",
       "2270          20.0                   0             NaN          None    NaN   \n",
       "3142          20.0                   0             NaN          None    NaN   \n",
       "3252          20.0                   0             NaN          None    NaN   \n",
       "4490          20.0                   0             NaN          None    NaN   \n",
       "\n",
       "      collection franchises  follows  aggregated_rating  \\\n",
       "1855         NaN       None      NaN                NaN   \n",
       "2270         NaN       None      NaN                NaN   \n",
       "3142         NaN       None      NaN                NaN   \n",
       "3252         NaN       None      NaN                NaN   \n",
       "4490         NaN       None      NaN                NaN   \n",
       "\n",
       "      aggregated_rating_count  dlcs bundles  parent_game  franchise  \\\n",
       "1855                      NaN  None    None          NaN        NaN   \n",
       "2270                      NaN  None    None          NaN        NaN   \n",
       "3142                      NaN  None    None          NaN        NaN   \n",
       "3252                      NaN  None    None          NaN        NaN   \n",
       "4490                      NaN  None    None          NaN        NaN   \n",
       "\n",
       "     multiplayer_modes remakes ports expansions expanded_games remasters  \\\n",
       "1855              None    None  None       None           None      None   \n",
       "2270              None    None  None       None           None      None   \n",
       "3142              None    None  None       None           None      None   \n",
       "3252              None    None  None       None           None      None   \n",
       "4490              None    None  None       None           None      None   \n",
       "\n",
       "     forks standalone_expansions  second version_description title_version  \\\n",
       "1855  None                  None     NaN                None          None   \n",
       "2270  None                  None     NaN                None          None   \n",
       "3142  None                  None     NaN                None          None   \n",
       "3252  None                  None     NaN                None          None   \n",
       "4490  None                  None     NaN                None          None   \n",
       "\n",
       "      second_id  campaigncoop  dropin  lancoop  offlinecoop  offlinemax  \\\n",
       "1855        NaN         False   False    False        False           0   \n",
       "2270        NaN         False   False    False        False           0   \n",
       "3142        NaN         False   False    False        False           0   \n",
       "3252        NaN         False   False    False        False           0   \n",
       "4490        NaN         False   False    False        False           0   \n",
       "\n",
       "      onlinecoop  platform  splitscreen checksum_y  offlinecoopmax  \\\n",
       "1855       False       NaN        False       None               0   \n",
       "2270       False       NaN        False       None               0   \n",
       "3142       False       NaN        False       None               0   \n",
       "3252       False       NaN        False       None               0   \n",
       "4490       False       NaN        False       None               0   \n",
       "\n",
       "      onlinecoopmax  onlinemax rating_bin  \n",
       "1855              0          0   very_bad  \n",
       "2270              0          0   very_bad  \n",
       "3142              0          0   very_bad  \n",
       "3252              0          0   very_bad  \n",
       "4490              0          0   very_bad  "
      ]
     },
     "execution_count": 58,
     "metadata": {},
     "output_type": "execute_result"
    }
   ],
   "source": [
    "df_low2_rating = df2[(df2['rating_bin']== 'very_bad') | (df2['rating_bin']== 'awful')]\n",
    "df_low2_rating.head()"
   ]
  },
  {
   "cell_type": "code",
   "execution_count": 60,
   "id": "6e397582",
   "metadata": {},
   "outputs": [
    {
     "data": {
      "text/plain": [
       "Text(0.5, 1.0, 'platforms')"
      ]
     },
     "execution_count": 60,
     "metadata": {},
     "output_type": "execute_result"
    },
    {
     "data": {
      "image/png": "[encoded data removed]",
      "text/plain": [
       "<Figure size 1008x288 with 1 Axes>"
      ]
     },
     "metadata": {
      "needs_background": "light"
     },
     "output_type": "display_data"
    }
   ],
   "source": [
    "fig, ax = plt.subplots(figsize = (14,4))\n",
    "ax.bar(to_1D(df_low2_rating[\"genres\"]).value_counts().iloc[:7].index,\n",
    "        to_1D(df_low2_rating[\"genres\"]).value_counts().iloc[:7].values)\n",
    "ax.set_ylabel(\"Frequency\", size = 12)\n",
    "ax.set_title(\"platforms\", size = 14)"
   ]
  },
  {
   "cell_type": "code",
   "execution_count": null,
   "id": "7c80efae",
   "metadata": {},
   "outputs": [],
   "source": []
  },
  {
   "cell_type": "markdown",
   "id": "003fb78f",
   "metadata": {},
   "source": [
    "### Q 2.2 what about the three lowest ratings (awful) ? what is the overall most highest genre in these low rating games?"
   ]
  },
  {
   "cell_type": "code",
   "execution_count": 62,
   "id": "7b7dbec2",
   "metadata": {},
   "outputs": [
    {
     "data": {
      "text/html": [
       "<div>\n",
       "<style scoped>\n",
       "    .dataframe tbody tr th:only-of-type {\n",
       "        vertical-align: middle;\n",
       "    }\n",
       "\n",
       "    .dataframe tbody tr th {\n",
       "        vertical-align: top;\n",
       "    }\n",
       "\n",
       "    .dataframe thead th {\n",
       "        text-align: right;\n",
       "    }\n",
       "</style>\n",
       "<table border=\"1\" class=\"dataframe\">\n",
       "  <thead>\n",
       "    <tr style=\"text-align: right;\">\n",
       "      <th></th>\n",
       "      <th>id</th>\n",
       "      <th>category</th>\n",
       "      <th>created_at</th>\n",
       "      <th>external_games</th>\n",
       "      <th>first_release_date</th>\n",
       "      <th>genres</th>\n",
       "      <th>name</th>\n",
       "      <th>platforms</th>\n",
       "      <th>release_dates</th>\n",
       "      <th>similar_games</th>\n",
       "      <th>slug</th>\n",
       "      <th>summary</th>\n",
       "      <th>tags</th>\n",
       "      <th>updated_at</th>\n",
       "      <th>url</th>\n",
       "      <th>checksum_x</th>\n",
       "      <th>age_ratings</th>\n",
       "      <th>cover</th>\n",
       "      <th>involved_companies</th>\n",
       "      <th>screenshots</th>\n",
       "      <th>game_modes</th>\n",
       "      <th>player_perspectives</th>\n",
       "      <th>themes</th>\n",
       "      <th>websites</th>\n",
       "      <th>alternative_names</th>\n",
       "      <th>artworks</th>\n",
       "      <th>game_engines</th>\n",
       "      <th>keywords</th>\n",
       "      <th>status</th>\n",
       "      <th>videos</th>\n",
       "      <th>rating</th>\n",
       "      <th>rating_count</th>\n",
       "      <th>storyline</th>\n",
       "      <th>total_rating</th>\n",
       "      <th>total_rating_count</th>\n",
       "      <th>version_parent</th>\n",
       "      <th>version_title</th>\n",
       "      <th>hypes</th>\n",
       "      <th>collection</th>\n",
       "      <th>franchises</th>\n",
       "      <th>follows</th>\n",
       "      <th>aggregated_rating</th>\n",
       "      <th>aggregated_rating_count</th>\n",
       "      <th>dlcs</th>\n",
       "      <th>bundles</th>\n",
       "      <th>parent_game</th>\n",
       "      <th>franchise</th>\n",
       "      <th>multiplayer_modes</th>\n",
       "      <th>remakes</th>\n",
       "      <th>ports</th>\n",
       "      <th>expansions</th>\n",
       "      <th>expanded_games</th>\n",
       "      <th>remasters</th>\n",
       "      <th>forks</th>\n",
       "      <th>standalone_expansions</th>\n",
       "      <th>second</th>\n",
       "      <th>version_description</th>\n",
       "      <th>title_version</th>\n",
       "      <th>second_id</th>\n",
       "      <th>campaigncoop</th>\n",
       "      <th>dropin</th>\n",
       "      <th>lancoop</th>\n",
       "      <th>offlinecoop</th>\n",
       "      <th>offlinemax</th>\n",
       "      <th>onlinecoop</th>\n",
       "      <th>platform</th>\n",
       "      <th>splitscreen</th>\n",
       "      <th>checksum_y</th>\n",
       "      <th>offlinecoopmax</th>\n",
       "      <th>onlinecoopmax</th>\n",
       "      <th>onlinemax</th>\n",
       "      <th>rating_bin</th>\n",
       "    </tr>\n",
       "  </thead>\n",
       "  <tbody>\n",
       "  </tbody>\n",
       "</table>\n",
       "</div>"
      ],
      "text/plain": [
       "Empty DataFrame\n",
       "Columns: [id, category, created_at, external_games, first_release_date, genres, name, platforms, release_dates, similar_games, slug, summary, tags, updated_at, url, checksum_x, age_ratings, cover, involved_companies, screenshots, game_modes, player_perspectives, themes, websites, alternative_names, artworks, game_engines, keywords, status, videos, rating, rating_count, storyline, total_rating, total_rating_count, version_parent, version_title, hypes, collection, franchises, follows, aggregated_rating, aggregated_rating_count, dlcs, bundles, parent_game, franchise, multiplayer_modes, remakes, ports, expansions, expanded_games, remasters, forks, standalone_expansions, second, version_description, title_version, second_id, campaigncoop, dropin, lancoop, offlinecoop, offlinemax, onlinecoop, platform, splitscreen, checksum_y, offlinecoopmax, onlinecoopmax, onlinemax, rating_bin]\n",
       "Index: []"
      ]
     },
     "execution_count": 62,
     "metadata": {},
     "output_type": "execute_result"
    }
   ],
   "source": [
    "df_awful_rating = train[train['rating_bin']== 'awful']\n",
    "df_awful_rating.head()"
   ]
  },
  {
   "cell_type": "code",
   "execution_count": 44,
   "id": "fb8c0fdb",
   "metadata": {},
   "outputs": [
    {
     "data": {
      "text/plain": [
       "good            32509\n",
       "alright         22793\n",
       "great           13936\n",
       "fair             9051\n",
       "average          6391\n",
       "unimpressive     2263\n",
       "subperb           909\n",
       "bad               889\n",
       "very_bad           99\n",
       "Name: rating_bin, dtype: int64"
      ]
     },
     "execution_count": 44,
     "metadata": {},
     "output_type": "execute_result"
    }
   ],
   "source": [
    "train.rating_bin.value_counts()"
   ]
  },
  {
   "cell_type": "markdown",
   "id": "18a69a2d",
   "metadata": {},
   "source": [
    "# Q3- what is the most common theme in games that are subperb (the highest rating)"
   ]
  },
  {
   "cell_type": "markdown",
   "id": "74003c51",
   "metadata": {},
   "source": [
    "Answer - the most common themes in the subperb is action, fantasy, science fiction, historical."
   ]
  },
  {
   "cell_type": "code",
   "execution_count": 66,
   "id": "b8cc1f70",
   "metadata": {},
   "outputs": [
    {
     "data": {
      "text/plain": [
       "Text(0.5, 1.0, 'Most common themes in superb games')"
      ]
     },
     "execution_count": 66,
     "metadata": {},
     "output_type": "execute_result"
    },
    {
     "data": {
      "image/png": "[encoded data removed]",
      "text/plain": [
       "<Figure size 1008x432 with 1 Axes>"
      ]
     },
     "metadata": {
      "needs_background": "light"
     },
     "output_type": "display_data"
    }
   ],
   "source": [
    "fig, ax = plt.subplots(figsize = (14,6))\n",
    "ax.bar(to_1D(df_subperb_rating[\"themes\"]).value_counts().iloc[:4].index,\n",
    "        to_1D(df_subperb_rating[\"themes\"]).value_counts().iloc[:4].values,\n",
    "           color= ['purple'])\n",
    "ax.set_ylabel(\"Frequency\", size = 20)\n",
    "ax.set_title(\"Most common themes in superb games\", size = 20)"
   ]
  },
  {
   "cell_type": "markdown",
   "id": "fbb47346",
   "metadata": {},
   "source": [
    "## Q3.1- what is the most common theme in games that are three highest ratings (good, great, subperb)?"
   ]
  },
  {
   "cell_type": "code",
   "execution_count": 64,
   "id": "fa216673",
   "metadata": {},
   "outputs": [
    {
     "ename": "NameError",
     "evalue": "name 'df_top3_rating' is not defined",
     "output_type": "error",
     "traceback": [
      "\u001b[0;31m---------------------------------------------------------------------------\u001b[0m",
      "\u001b[0;31mNameError\u001b[0m                                 Traceback (most recent call last)",
      "Input \u001b[0;32mIn [64]\u001b[0m, in \u001b[0;36m<cell line: 2>\u001b[0;34m()\u001b[0m\n\u001b[1;32m      1\u001b[0m fig, ax \u001b[38;5;241m=\u001b[39m plt\u001b[38;5;241m.\u001b[39msubplots(figsize \u001b[38;5;241m=\u001b[39m (\u001b[38;5;241m14\u001b[39m,\u001b[38;5;241m4\u001b[39m))\n\u001b[0;32m----> 2\u001b[0m ax\u001b[38;5;241m.\u001b[39mbar(to_1D(\u001b[43mdf_top3_rating\u001b[49m[\u001b[38;5;124m\"\u001b[39m\u001b[38;5;124mthemes\u001b[39m\u001b[38;5;124m\"\u001b[39m])\u001b[38;5;241m.\u001b[39mvalue_counts()\u001b[38;5;241m.\u001b[39miloc[:\u001b[38;5;241m7\u001b[39m]\u001b[38;5;241m.\u001b[39mindex,\n\u001b[1;32m      3\u001b[0m         to_1D(df_top3_rating[\u001b[38;5;124m\"\u001b[39m\u001b[38;5;124mthemes\u001b[39m\u001b[38;5;124m\"\u001b[39m])\u001b[38;5;241m.\u001b[39mvalue_counts()\u001b[38;5;241m.\u001b[39miloc[:\u001b[38;5;241m7\u001b[39m]\u001b[38;5;241m.\u001b[39mvalues)\n\u001b[1;32m      4\u001b[0m ax\u001b[38;5;241m.\u001b[39mset_ylabel(\u001b[38;5;124m\"\u001b[39m\u001b[38;5;124mFrequency\u001b[39m\u001b[38;5;124m\"\u001b[39m, size \u001b[38;5;241m=\u001b[39m \u001b[38;5;241m12\u001b[39m)\n\u001b[1;32m      5\u001b[0m ax\u001b[38;5;241m.\u001b[39mset_title(\u001b[38;5;124m\"\u001b[39m\u001b[38;5;124mThemes\u001b[39m\u001b[38;5;124m\"\u001b[39m, size \u001b[38;5;241m=\u001b[39m \u001b[38;5;241m14\u001b[39m)\n",
      "\u001b[0;31mNameError\u001b[0m: name 'df_top3_rating' is not defined"
     ]
    },
    {
     "data": {
      "image/png": "[encoded data removed]",
      "text/plain": [
       "<Figure size 1008x288 with 1 Axes>"
      ]
     },
     "metadata": {
      "needs_background": "light"
     },
     "output_type": "display_data"
    }
   ],
   "source": [
    "fig, ax = plt.subplots(figsize = (14,4))\n",
    "ax.bar(to_1D(df_top3_rating[\"themes\"]).value_counts().iloc[:7].index,\n",
    "        to_1D(df_top3_rating[\"themes\"]).value_counts().iloc[:7].values)\n",
    "ax.set_ylabel(\"Frequency\", size = 12)\n",
    "ax.set_title(\"Themes\", size = 14)"
   ]
  },
  {
   "cell_type": "markdown",
   "id": "8eb0a738",
   "metadata": {},
   "source": [
    "## Q3.1- what is the most common theme in games that are three lowest ratings ((bad, very bad , awful)) ?"
   ]
  },
  {
   "cell_type": "code",
   "execution_count": 68,
   "id": "6fd627ff",
   "metadata": {
    "scrolled": true
   },
   "outputs": [
    {
     "data": {
      "text/plain": [
       "Text(0.5, 1.0, 'Themes')"
      ]
     },
     "execution_count": 68,
     "metadata": {},
     "output_type": "execute_result"
    },
    {
     "data": {
      "image/png": "[encoded data removed]",
      "text/plain": [
       "<Figure size 1008x288 with 1 Axes>"
      ]
     },
     "metadata": {
      "needs_background": "light"
     },
     "output_type": "display_data"
    }
   ],
   "source": [
    "fig, ax = plt.subplots(figsize = (14,4))\n",
    "ax.bar(to_1D(df_low3_rating[\"themes\"]).value_counts().iloc[:7].index,\n",
    "        to_1D(df_low3_rating[\"themes\"]).value_counts().iloc[:7].values)\n",
    "ax.set_ylabel(\"Frequency\", size = 12)\n",
    "ax.set_title(\"Themes\", size = 14)"
   ]
  },
  {
   "cell_type": "code",
   "execution_count": 78,
   "id": "7c00dff1",
   "metadata": {},
   "outputs": [
    {
     "data": {
      "text/plain": [
       "Index([    ['Action', 'Non-fiction'], ['Action', 'Science fiction'],\n",
       "                   ['Not available'],                    ['Action'],\n",
       "                ['Action', 'Horror'],           ['Science fiction'],\n",
       "                     ['Non-fiction']],\n",
       "      dtype='object')"
      ]
     },
     "execution_count": 78,
     "metadata": {},
     "output_type": "execute_result"
    }
   ],
   "source": [
    "df_low3_rating[\"themes\"].value_counts().iloc[:7].index"
   ]
  },
  {
   "cell_type": "code",
   "execution_count": 79,
   "id": "302dc031",
   "metadata": {},
   "outputs": [
    {
     "data": {
      "text/plain": [
       "array([819, 421, 283, 130,   9,   7,   7])"
      ]
     },
     "execution_count": 79,
     "metadata": {},
     "output_type": "execute_result"
    }
   ],
   "source": [
    "df_low3_rating[\"themes\"].value_counts().iloc[:7].values"
   ]
  },
  {
   "cell_type": "code",
   "execution_count": null,
   "id": "8a0678b6",
   "metadata": {},
   "outputs": [],
   "source": []
  },
  {
   "cell_type": "code",
   "execution_count": 75,
   "id": "9510786d",
   "metadata": {},
   "outputs": [
    {
     "data": {
      "text/plain": [
       "Index(['Action', 'Non-fiction', 'Science fiction', 'Not available', 'Horror',\n",
       "       'Fantasy', 'Comedy'],\n",
       "      dtype='object')"
      ]
     },
     "execution_count": 75,
     "metadata": {},
     "output_type": "execute_result"
    }
   ],
   "source": [
    "to_1D(df_low3_rating[\"themes\"]).value_counts().iloc[:7].index"
   ]
  },
  {
   "cell_type": "code",
   "execution_count": 74,
   "id": "3d6b95ac",
   "metadata": {},
   "outputs": [
    {
     "data": {
      "text/plain": [
       "array([1413,  827,  438,  283,   24,   17,   11])"
      ]
     },
     "execution_count": 74,
     "metadata": {},
     "output_type": "execute_result"
    }
   ],
   "source": [
    "to_1D(df_low3_rating[\"themes\"]).value_counts().iloc[:7].values"
   ]
  },
  {
   "cell_type": "code",
   "execution_count": 91,
   "id": "36b3e280",
   "metadata": {},
   "outputs": [
    {
     "data": {
      "application/vnd.plotly.v1+json": {
       "config": {
        "plotlyServerURL": "https://plot.ly"
       },
       "data": [
        {
         "marker": {
          "color": [
           "purple",
           "purple",
           "purple",
           "purple",
           "purple"
          ]
         },
         "type": "bar",
         "x": [
          "Action & Non-fiction",
          "Action & Science fiction",
          "Action",
          "Action & Horror",
          "Science fiction",
          "Non-fiction"
         ],
         "y": [
          819,
          421,
          130,
          9,
          7,
          7
         ]
        }
       ],
       "layout": {
        "template": {
         "data": {
          "bar": [
           {
            "error_x": {
             "color": "#2a3f5f"
            },
            "error_y": {
             "color": "#2a3f5f"
            },
            "marker": {
             "line": {
              "color": "#E5ECF6",
              "width": 0.5
             },
             "pattern": {
              "fillmode": "overlay",
              "size": 10,
              "solidity": 0.2
             }
            },
            "type": "bar"
           }
          ],
          "barpolar": [
           {
            "marker": {
             "line": {
              "color": "#E5ECF6",
              "width": 0.5
             },
             "pattern": {
              "fillmode": "overlay",
              "size": 10,
              "solidity": 0.2
             }
            },
            "type": "barpolar"
           }
          ],
          "carpet": [
           {
            "aaxis": {
             "endlinecolor": "#2a3f5f",
             "gridcolor": "white",
             "linecolor": "white",
             "minorgridcolor": "white",
             "startlinecolor": "#2a3f5f"
            },
            "baxis": {
             "endlinecolor": "#2a3f5f",
             "gridcolor": "white",
             "linecolor": "white",
             "minorgridcolor": "white",
             "startlinecolor": "#2a3f5f"
            },
            "type": "carpet"
           }
          ],
          "choropleth": [
           {
            "colorbar": {
             "outlinewidth": 0,
             "ticks": ""
            },
            "type": "choropleth"
           }
          ],
          "contour": [
           {
            "colorbar": {
             "outlinewidth": 0,
             "ticks": ""
            },
            "colorscale": [
             [
              0,
              "#0d0887"
             ],
             [
              0.1111111111111111,
              "#46039f"
             ],
             [
              0.2222222222222222,
              "#7201a8"
             ],
             [
              0.3333333333333333,
              "#9c179e"
             ],
             [
              0.4444444444444444,
              "#bd3786"
             ],
             [
              0.5555555555555556,
              "#d8576b"
             ],
             [
              0.6666666666666666,
              "#ed7953"
             ],
             [
              0.7777777777777778,
              "#fb9f3a"
             ],
             [
              0.8888888888888888,
              "#fdca26"
             ],
             [
              1,
              "#f0f921"
             ]
            ],
            "type": "contour"
           }
          ],
          "contourcarpet": [
           {
            "colorbar": {
             "outlinewidth": 0,
             "ticks": ""
            },
            "type": "contourcarpet"
           }
          ],
          "heatmap": [
           {
            "colorbar": {
             "outlinewidth": 0,
             "ticks": ""
            },
            "colorscale": [
             [
              0,
              "#0d0887"
             ],
             [
              0.1111111111111111,
              "#46039f"
             ],
             [
              0.2222222222222222,
              "#7201a8"
             ],
             [
              0.3333333333333333,
              "#9c179e"
             ],
             [
              0.4444444444444444,
              "#bd3786"
             ],
             [
              0.5555555555555556,
              "#d8576b"
             ],
             [
              0.6666666666666666,
              "#ed7953"
             ],
             [
              0.7777777777777778,
              "#fb9f3a"
             ],
             [
              0.8888888888888888,
              "#fdca26"
             ],
             [
              1,
              "#f0f921"
             ]
            ],
            "type": "heatmap"
           }
          ],
          "heatmapgl": [
           {
            "colorbar": {
             "outlinewidth": 0,
             "ticks": ""
            },
            "colorscale": [
             [
              0,
              "#0d0887"
             ],
             [
              0.1111111111111111,
              "#46039f"
             ],
             [
              0.2222222222222222,
              "#7201a8"
             ],
             [
              0.3333333333333333,
              "#9c179e"
             ],
             [
              0.4444444444444444,
              "#bd3786"
             ],
             [
              0.5555555555555556,
              "#d8576b"
             ],
             [
              0.6666666666666666,
              "#ed7953"
             ],
             [
              0.7777777777777778,
              "#fb9f3a"
             ],
             [
              0.8888888888888888,
              "#fdca26"
             ],
             [
              1,
              "#f0f921"
             ]
            ],
            "type": "heatmapgl"
           }
          ],
          "histogram": [
           {
            "marker": {
             "pattern": {
              "fillmode": "overlay",
              "size": 10,
              "solidity": 0.2
             }
            },
            "type": "histogram"
           }
          ],
          "histogram2d": [
           {
            "colorbar": {
             "outlinewidth": 0,
             "ticks": ""
            },
            "colorscale": [
             [
              0,
              "#0d0887"
             ],
             [
              0.1111111111111111,
              "#46039f"
             ],
             [
              0.2222222222222222,
              "#7201a8"
             ],
             [
              0.3333333333333333,
              "#9c179e"
             ],
             [
              0.4444444444444444,
              "#bd3786"
             ],
             [
              0.5555555555555556,
              "#d8576b"
             ],
             [
              0.6666666666666666,
              "#ed7953"
             ],
             [
              0.7777777777777778,
              "#fb9f3a"
             ],
             [
              0.8888888888888888,
              "#fdca26"
             ],
             [
              1,
              "#f0f921"
             ]
            ],
            "type": "histogram2d"
           }
          ],
          "histogram2dcontour": [
           {
            "colorbar": {
             "outlinewidth": 0,
             "ticks": ""
            },
            "colorscale": [
             [
              0,
              "#0d0887"
             ],
             [
              0.1111111111111111,
              "#46039f"
             ],
             [
              0.2222222222222222,
              "#7201a8"
             ],
             [
              0.3333333333333333,
              "#9c179e"
             ],
             [
              0.4444444444444444,
              "#bd3786"
             ],
             [
              0.5555555555555556,
              "#d8576b"
             ],
             [
              0.6666666666666666,
              "#ed7953"
             ],
             [
              0.7777777777777778,
              "#fb9f3a"
             ],
             [
              0.8888888888888888,
              "#fdca26"
             ],
             [
              1,
              "#f0f921"
             ]
            ],
            "type": "histogram2dcontour"
           }
          ],
          "mesh3d": [
           {
            "colorbar": {
             "outlinewidth": 0,
             "ticks": ""
            },
            "type": "mesh3d"
           }
          ],
          "parcoords": [
           {
            "line": {
             "colorbar": {
              "outlinewidth": 0,
              "ticks": ""
             }
            },
            "type": "parcoords"
           }
          ],
          "pie": [
           {
            "automargin": true,
            "type": "pie"
           }
          ],
          "scatter": [
           {
            "marker": {
             "colorbar": {
              "outlinewidth": 0,
              "ticks": ""
             }
            },
            "type": "scatter"
           }
          ],
          "scatter3d": [
           {
            "line": {
             "colorbar": {
              "outlinewidth": 0,
              "ticks": ""
             }
            },
            "marker": {
             "colorbar": {
              "outlinewidth": 0,
              "ticks": ""
             }
            },
            "type": "scatter3d"
           }
          ],
          "scattercarpet": [
           {
            "marker": {
             "colorbar": {
              "outlinewidth": 0,
              "ticks": ""
             }
            },
            "type": "scattercarpet"
           }
          ],
          "scattergeo": [
           {
            "marker": {
             "colorbar": {
              "outlinewidth": 0,
              "ticks": ""
             }
            },
            "type": "scattergeo"
           }
          ],
          "scattergl": [
           {
            "marker": {
             "colorbar": {
              "outlinewidth": 0,
              "ticks": ""
             }
            },
            "type": "scattergl"
           }
          ],
          "scattermapbox": [
           {
            "marker": {
             "colorbar": {
              "outlinewidth": 0,
              "ticks": ""
             }
            },
            "type": "scattermapbox"
           }
          ],
          "scatterpolar": [
           {
            "marker": {
             "colorbar": {
              "outlinewidth": 0,
              "ticks": ""
             }
            },
            "type": "scatterpolar"
           }
          ],
          "scatterpolargl": [
           {
            "marker": {
             "colorbar": {
              "outlinewidth": 0,
              "ticks": ""
             }
            },
            "type": "scatterpolargl"
           }
          ],
          "scatterternary": [
           {
            "marker": {
             "colorbar": {
              "outlinewidth": 0,
              "ticks": ""
             }
            },
            "type": "scatterternary"
           }
          ],
          "surface": [
           {
            "colorbar": {
             "outlinewidth": 0,
             "ticks": ""
            },
            "colorscale": [
             [
              0,
              "#0d0887"
             ],
             [
              0.1111111111111111,
              "#46039f"
             ],
             [
              0.2222222222222222,
              "#7201a8"
             ],
             [
              0.3333333333333333,
              "#9c179e"
             ],
             [
              0.4444444444444444,
              "#bd3786"
             ],
             [
              0.5555555555555556,
              "#d8576b"
             ],
             [
              0.6666666666666666,
              "#ed7953"
             ],
             [
              0.7777777777777778,
              "#fb9f3a"
             ],
             [
              0.8888888888888888,
              "#fdca26"
             ],
             [
              1,
              "#f0f921"
             ]
            ],
            "type": "surface"
           }
          ],
          "table": [
           {
            "cells": {
             "fill": {
              "color": "#EBF0F8"
             },
             "line": {
              "color": "white"
             }
            },
            "header": {
             "fill": {
              "color": "#C8D4E3"
             },
             "line": {
              "color": "white"
             }
            },
            "type": "table"
           }
          ]
         },
         "layout": {
          "annotationdefaults": {
           "arrowcolor": "#2a3f5f",
           "arrowhead": 0,
           "arrowwidth": 1
          },
          "autotypenumbers": "strict",
          "coloraxis": {
           "colorbar": {
            "outlinewidth": 0,
            "ticks": ""
           }
          },
          "colorscale": {
           "diverging": [
            [
             0,
             "#8e0152"
            ],
            [
             0.1,
             "#c51b7d"
            ],
            [
             0.2,
             "#de77ae"
            ],
            [
             0.3,
             "#f1b6da"
            ],
            [
             0.4,
             "#fde0ef"
            ],
            [
             0.5,
             "#f7f7f7"
            ],
            [
             0.6,
             "#e6f5d0"
            ],
            [
             0.7,
             "#b8e186"
            ],
            [
             0.8,
             "#7fbc41"
            ],
            [
             0.9,
             "#4d9221"
            ],
            [
             1,
             "#276419"
            ]
           ],
           "sequential": [
            [
             0,
             "#0d0887"
            ],
            [
             0.1111111111111111,
             "#46039f"
            ],
            [
             0.2222222222222222,
             "#7201a8"
            ],
            [
             0.3333333333333333,
             "#9c179e"
            ],
            [
             0.4444444444444444,
             "#bd3786"
            ],
            [
             0.5555555555555556,
             "#d8576b"
            ],
            [
             0.6666666666666666,
             "#ed7953"
            ],
            [
             0.7777777777777778,
             "#fb9f3a"
            ],
            [
             0.8888888888888888,
             "#fdca26"
            ],
            [
             1,
             "#f0f921"
            ]
           ],
           "sequentialminus": [
            [
             0,
             "#0d0887"
            ],
            [
             0.1111111111111111,
             "#46039f"
            ],
            [
             0.2222222222222222,
             "#7201a8"
            ],
            [
             0.3333333333333333,
             "#9c179e"
            ],
            [
             0.4444444444444444,
             "#bd3786"
            ],
            [
             0.5555555555555556,
             "#d8576b"
            ],
            [
             0.6666666666666666,
             "#ed7953"
            ],
            [
             0.7777777777777778,
             "#fb9f3a"
            ],
            [
             0.8888888888888888,
             "#fdca26"
            ],
            [
             1,
             "#f0f921"
            ]
           ]
          },
          "colorway": [
           "#636efa",
           "#EF553B",
           "#00cc96",
           "#ab63fa",
           "#FFA15A",
           "#19d3f3",
           "#FF6692",
           "#B6E880",
           "#FF97FF",
           "#FECB52"
          ],
          "font": {
           "color": "#2a3f5f"
          },
          "geo": {
           "bgcolor": "white",
           "lakecolor": "white",
           "landcolor": "#E5ECF6",
           "showlakes": true,
           "showland": true,
           "subunitcolor": "white"
          },
          "hoverlabel": {
           "align": "left"
          },
          "hovermode": "closest",
          "mapbox": {
           "style": "light"
          },
          "paper_bgcolor": "white",
          "plot_bgcolor": "#E5ECF6",
          "polar": {
           "angularaxis": {
            "gridcolor": "white",
            "linecolor": "white",
            "ticks": ""
           },
           "bgcolor": "#E5ECF6",
           "radialaxis": {
            "gridcolor": "white",
            "linecolor": "white",
            "ticks": ""
           }
          },
          "scene": {
           "xaxis": {
            "backgroundcolor": "#E5ECF6",
            "gridcolor": "white",
            "gridwidth": 2,
            "linecolor": "white",
            "showbackground": true,
            "ticks": "",
            "zerolinecolor": "white"
           },
           "yaxis": {
            "backgroundcolor": "#E5ECF6",
            "gridcolor": "white",
            "gridwidth": 2,
            "linecolor": "white",
            "showbackground": true,
            "ticks": "",
            "zerolinecolor": "white"
           },
           "zaxis": {
            "backgroundcolor": "#E5ECF6",
            "gridcolor": "white",
            "gridwidth": 2,
            "linecolor": "white",
            "showbackground": true,
            "ticks": "",
            "zerolinecolor": "white"
           }
          },
          "shapedefaults": {
           "line": {
            "color": "#2a3f5f"
           }
          },
          "ternary": {
           "aaxis": {
            "gridcolor": "white",
            "linecolor": "white",
            "ticks": ""
           },
           "baxis": {
            "gridcolor": "white",
            "linecolor": "white",
            "ticks": ""
           },
           "bgcolor": "#E5ECF6",
           "caxis": {
            "gridcolor": "white",
            "linecolor": "white",
            "ticks": ""
           }
          },
          "title": {
           "x": 0.05
          },
          "xaxis": {
           "automargin": true,
           "gridcolor": "white",
           "linecolor": "white",
           "ticks": "",
           "title": {
            "standoff": 15
           },
           "zerolinecolor": "white",
           "zerolinewidth": 2
          },
          "yaxis": {
           "automargin": true,
           "gridcolor": "white",
           "linecolor": "white",
           "ticks": "",
           "title": {
            "standoff": 15
           },
           "zerolinecolor": "white",
           "zerolinewidth": 2
          }
         }
        },
        "title": {
         "text": "Least Used Feature"
        }
       }
      },
      "text/html": [
       "<div>                            <div id=\"09553692-8bb8-4e38-89a5-105bbaa69335\" class=\"plotly-graph-div\" style=\"height:525px; width:100%;\"></div>            <script type=\"text/javascript\">                require([\"plotly\"], function(Plotly) {                    window.PLOTLYENV=window.PLOTLYENV || {};                                    if (document.getElementById(\"09553692-8bb8-4e38-89a5-105bbaa69335\")) {                    Plotly.newPlot(                        \"09553692-8bb8-4e38-89a5-105bbaa69335\",                        [{\"marker\":{\"color\":[\"purple\",\"purple\",\"purple\",\"purple\",\"purple\"]},\"type\":\"bar\",\"x\":[\"Action & Non-fiction\",\"Action & Science fiction\",\"Action\",\"Action & Horror\",\"Science fiction\",\"Non-fiction\"],\"y\":[819,421,130,9,7,7]}],                        {\"template\":{\"data\":{\"bar\":[{\"error_x\":{\"color\":\"#2a3f5f\"},\"error_y\":{\"color\":\"#2a3f5f\"},\"marker\":{\"line\":{\"color\":\"#E5ECF6\",\"width\":0.5},\"pattern\":{\"fillmode\":\"overlay\",\"size\":10,\"solidity\":0.2}},\"type\":\"bar\"}],\"barpolar\":[{\"marker\":{\"line\":{\"color\":\"#E5ECF6\",\"width\":0.5},\"pattern\":{\"fillmode\":\"overlay\",\"size\":10,\"solidity\":0.2}},\"type\":\"barpolar\"}],\"carpet\":[{\"aaxis\":{\"endlinecolor\":\"#2a3f5f\",\"gridcolor\":\"white\",\"linecolor\":\"white\",\"minorgridcolor\":\"white\",\"startlinecolor\":\"#2a3f5f\"},\"baxis\":{\"endlinecolor\":\"#2a3f5f\",\"gridcolor\":\"white\",\"linecolor\":\"white\",\"minorgridcolor\":\"white\",\"startlinecolor\":\"#2a3f5f\"},\"type\":\"carpet\"}],\"choropleth\":[{\"colorbar\":{\"outlinewidth\":0,\"ticks\":\"\"},\"type\":\"choropleth\"}],\"contour\":[{\"colorbar\":{\"outlinewidth\":0,\"ticks\":\"\"},\"colorscale\":[[0.0,\"#0d0887\"],[0.1111111111111111,\"#46039f\"],[0.2222222222222222,\"#7201a8\"],[0.3333333333333333,\"#9c179e\"],[0.4444444444444444,\"#bd3786\"],[0.5555555555555556,\"#d8576b\"],[0.6666666666666666,\"#ed7953\"],[0.7777777777777778,\"#fb9f3a\"],[0.8888888888888888,\"#fdca26\"],[1.0,\"#f0f921\"]],\"type\":\"contour\"}],\"contourcarpet\":[{\"colorbar\":{\"outlinewidth\":0,\"ticks\":\"\"},\"type\":\"contourcarpet\"}],\"heatmap\":[{\"colorbar\":{\"outlinewidth\":0,\"ticks\":\"\"},\"colorscale\":[[0.0,\"#0d0887\"],[0.1111111111111111,\"#46039f\"],[0.2222222222222222,\"#7201a8\"],[0.3333333333333333,\"#9c179e\"],[0.4444444444444444,\"#bd3786\"],[0.5555555555555556,\"#d8576b\"],[0.6666666666666666,\"#ed7953\"],[0.7777777777777778,\"#fb9f3a\"],[0.8888888888888888,\"#fdca26\"],[1.0,\"#f0f921\"]],\"type\":\"heatmap\"}],\"heatmapgl\":[{\"colorbar\":{\"outlinewidth\":0,\"ticks\":\"\"},\"colorscale\":[[0.0,\"#0d0887\"],[0.1111111111111111,\"#46039f\"],[0.2222222222222222,\"#7201a8\"],[0.3333333333333333,\"#9c179e\"],[0.4444444444444444,\"#bd3786\"],[0.5555555555555556,\"#d8576b\"],[0.6666666666666666,\"#ed7953\"],[0.7777777777777778,\"#fb9f3a\"],[0.8888888888888888,\"#fdca26\"],[1.0,\"#f0f921\"]],\"type\":\"heatmapgl\"}],\"histogram\":[{\"marker\":{\"pattern\":{\"fillmode\":\"overlay\",\"size\":10,\"solidity\":0.2}},\"type\":\"histogram\"}],\"histogram2d\":[{\"colorbar\":{\"outlinewidth\":0,\"ticks\":\"\"},\"colorscale\":[[0.0,\"#0d0887\"],[0.1111111111111111,\"#46039f\"],[0.2222222222222222,\"#7201a8\"],[0.3333333333333333,\"#9c179e\"],[0.4444444444444444,\"#bd3786\"],[0.5555555555555556,\"#d8576b\"],[0.6666666666666666,\"#ed7953\"],[0.7777777777777778,\"#fb9f3a\"],[0.8888888888888888,\"#fdca26\"],[1.0,\"#f0f921\"]],\"type\":\"histogram2d\"}],\"histogram2dcontour\":[{\"colorbar\":{\"outlinewidth\":0,\"ticks\":\"\"},\"colorscale\":[[0.0,\"#0d0887\"],[0.1111111111111111,\"#46039f\"],[0.2222222222222222,\"#7201a8\"],[0.3333333333333333,\"#9c179e\"],[0.4444444444444444,\"#bd3786\"],[0.5555555555555556,\"#d8576b\"],[0.6666666666666666,\"#ed7953\"],[0.7777777777777778,\"#fb9f3a\"],[0.8888888888888888,\"#fdca26\"],[1.0,\"#f0f921\"]],\"type\":\"histogram2dcontour\"}],\"mesh3d\":[{\"colorbar\":{\"outlinewidth\":0,\"ticks\":\"\"},\"type\":\"mesh3d\"}],\"parcoords\":[{\"line\":{\"colorbar\":{\"outlinewidth\":0,\"ticks\":\"\"}},\"type\":\"parcoords\"}],\"pie\":[{\"automargin\":true,\"type\":\"pie\"}],\"scatter\":[{\"marker\":{\"colorbar\":{\"outlinewidth\":0,\"ticks\":\"\"}},\"type\":\"scatter\"}],\"scatter3d\":[{\"line\":{\"colorbar\":{\"outlinewidth\":0,\"ticks\":\"\"}},\"marker\":{\"colorbar\":{\"outlinewidth\":0,\"ticks\":\"\"}},\"type\":\"scatter3d\"}],\"scattercarpet\":[{\"marker\":{\"colorbar\":{\"outlinewidth\":0,\"ticks\":\"\"}},\"type\":\"scattercarpet\"}],\"scattergeo\":[{\"marker\":{\"colorbar\":{\"outlinewidth\":0,\"ticks\":\"\"}},\"type\":\"scattergeo\"}],\"scattergl\":[{\"marker\":{\"colorbar\":{\"outlinewidth\":0,\"ticks\":\"\"}},\"type\":\"scattergl\"}],\"scattermapbox\":[{\"marker\":{\"colorbar\":{\"outlinewidth\":0,\"ticks\":\"\"}},\"type\":\"scattermapbox\"}],\"scatterpolar\":[{\"marker\":{\"colorbar\":{\"outlinewidth\":0,\"ticks\":\"\"}},\"type\":\"scatterpolar\"}],\"scatterpolargl\":[{\"marker\":{\"colorbar\":{\"outlinewidth\":0,\"ticks\":\"\"}},\"type\":\"scatterpolargl\"}],\"scatterternary\":[{\"marker\":{\"colorbar\":{\"outlinewidth\":0,\"ticks\":\"\"}},\"type\":\"scatterternary\"}],\"surface\":[{\"colorbar\":{\"outlinewidth\":0,\"ticks\":\"\"},\"colorscale\":[[0.0,\"#0d0887\"],[0.1111111111111111,\"#46039f\"],[0.2222222222222222,\"#7201a8\"],[0.3333333333333333,\"#9c179e\"],[0.4444444444444444,\"#bd3786\"],[0.5555555555555556,\"#d8576b\"],[0.6666666666666666,\"#ed7953\"],[0.7777777777777778,\"#fb9f3a\"],[0.8888888888888888,\"#fdca26\"],[1.0,\"#f0f921\"]],\"type\":\"surface\"}],\"table\":[{\"cells\":{\"fill\":{\"color\":\"#EBF0F8\"},\"line\":{\"color\":\"white\"}},\"header\":{\"fill\":{\"color\":\"#C8D4E3\"},\"line\":{\"color\":\"white\"}},\"type\":\"table\"}]},\"layout\":{\"annotationdefaults\":{\"arrowcolor\":\"#2a3f5f\",\"arrowhead\":0,\"arrowwidth\":1},\"autotypenumbers\":\"strict\",\"coloraxis\":{\"colorbar\":{\"outlinewidth\":0,\"ticks\":\"\"}},\"colorscale\":{\"diverging\":[[0,\"#8e0152\"],[0.1,\"#c51b7d\"],[0.2,\"#de77ae\"],[0.3,\"#f1b6da\"],[0.4,\"#fde0ef\"],[0.5,\"#f7f7f7\"],[0.6,\"#e6f5d0\"],[0.7,\"#b8e186\"],[0.8,\"#7fbc41\"],[0.9,\"#4d9221\"],[1,\"#276419\"]],\"sequential\":[[0.0,\"#0d0887\"],[0.1111111111111111,\"#46039f\"],[0.2222222222222222,\"#7201a8\"],[0.3333333333333333,\"#9c179e\"],[0.4444444444444444,\"#bd3786\"],[0.5555555555555556,\"#d8576b\"],[0.6666666666666666,\"#ed7953\"],[0.7777777777777778,\"#fb9f3a\"],[0.8888888888888888,\"#fdca26\"],[1.0,\"#f0f921\"]],\"sequentialminus\":[[0.0,\"#0d0887\"],[0.1111111111111111,\"#46039f\"],[0.2222222222222222,\"#7201a8\"],[0.3333333333333333,\"#9c179e\"],[0.4444444444444444,\"#bd3786\"],[0.5555555555555556,\"#d8576b\"],[0.6666666666666666,\"#ed7953\"],[0.7777777777777778,\"#fb9f3a\"],[0.8888888888888888,\"#fdca26\"],[1.0,\"#f0f921\"]]},\"colorway\":[\"#636efa\",\"#EF553B\",\"#00cc96\",\"#ab63fa\",\"#FFA15A\",\"#19d3f3\",\"#FF6692\",\"#B6E880\",\"#FF97FF\",\"#FECB52\"],\"font\":{\"color\":\"#2a3f5f\"},\"geo\":{\"bgcolor\":\"white\",\"lakecolor\":\"white\",\"landcolor\":\"#E5ECF6\",\"showlakes\":true,\"showland\":true,\"subunitcolor\":\"white\"},\"hoverlabel\":{\"align\":\"left\"},\"hovermode\":\"closest\",\"mapbox\":{\"style\":\"light\"},\"paper_bgcolor\":\"white\",\"plot_bgcolor\":\"#E5ECF6\",\"polar\":{\"angularaxis\":{\"gridcolor\":\"white\",\"linecolor\":\"white\",\"ticks\":\"\"},\"bgcolor\":\"#E5ECF6\",\"radialaxis\":{\"gridcolor\":\"white\",\"linecolor\":\"white\",\"ticks\":\"\"}},\"scene\":{\"xaxis\":{\"backgroundcolor\":\"#E5ECF6\",\"gridcolor\":\"white\",\"gridwidth\":2,\"linecolor\":\"white\",\"showbackground\":true,\"ticks\":\"\",\"zerolinecolor\":\"white\"},\"yaxis\":{\"backgroundcolor\":\"#E5ECF6\",\"gridcolor\":\"white\",\"gridwidth\":2,\"linecolor\":\"white\",\"showbackground\":true,\"ticks\":\"\",\"zerolinecolor\":\"white\"},\"zaxis\":{\"backgroundcolor\":\"#E5ECF6\",\"gridcolor\":\"white\",\"gridwidth\":2,\"linecolor\":\"white\",\"showbackground\":true,\"ticks\":\"\",\"zerolinecolor\":\"white\"}},\"shapedefaults\":{\"line\":{\"color\":\"#2a3f5f\"}},\"ternary\":{\"aaxis\":{\"gridcolor\":\"white\",\"linecolor\":\"white\",\"ticks\":\"\"},\"baxis\":{\"gridcolor\":\"white\",\"linecolor\":\"white\",\"ticks\":\"\"},\"bgcolor\":\"#E5ECF6\",\"caxis\":{\"gridcolor\":\"white\",\"linecolor\":\"white\",\"ticks\":\"\"}},\"title\":{\"x\":0.05},\"xaxis\":{\"automargin\":true,\"gridcolor\":\"white\",\"linecolor\":\"white\",\"ticks\":\"\",\"title\":{\"standoff\":15},\"zerolinecolor\":\"white\",\"zerolinewidth\":2},\"yaxis\":{\"automargin\":true,\"gridcolor\":\"white\",\"linecolor\":\"white\",\"ticks\":\"\",\"title\":{\"standoff\":15},\"zerolinecolor\":\"white\",\"zerolinewidth\":2}}},\"title\":{\"text\":\"Least Used Feature\"}},                        {\"responsive\": true}                    ).then(function(){\n",
       "                            \n",
       "var gd = document.getElementById('09553692-8bb8-4e38-89a5-105bbaa69335');\n",
       "var x = new MutationObserver(function (mutations, observer) {{\n",
       "        var display = window.getComputedStyle(gd).display;\n",
       "        if (!display || display === 'none') {{\n",
       "            console.log([gd, 'removed!']);\n",
       "            Plotly.purge(gd);\n",
       "            observer.disconnect();\n",
       "        }}\n",
       "}});\n",
       "\n",
       "// Listen for the removal of the full notebook cells\n",
       "var notebookContainer = gd.closest('#notebook-container');\n",
       "if (notebookContainer) {{\n",
       "    x.observe(notebookContainer, {childList: true});\n",
       "}}\n",
       "\n",
       "// Listen for the clearing of the current output cell\n",
       "var outputEl = gd.closest('.output');\n",
       "if (outputEl) {{\n",
       "    x.observe(outputEl, {childList: true});\n",
       "}}\n",
       "\n",
       "                        })                };                });            </script>        </div>"
      ]
     },
     "metadata": {},
     "output_type": "display_data"
    }
   ],
   "source": [
    "colors = ['purple',] * 5\n",
    "\n",
    "\n",
    "fig = go.Figure(data=[go.Bar(\n",
    "    x=['Action & Non-fiction','Action & Science fiction','Action', 'Action & Horror','Science fiction','Non-fiction'],\n",
    "    y=[819,  421,  130,  9,   7,   7],\n",
    "    marker_color=colors # marker color can be a single color value or an iterable\n",
    ")])\n",
    "fig.update_layout(title_text='Least Used Feature')"
   ]
  },
  {
   "cell_type": "code",
   "execution_count": null,
   "id": "bc6b5ba4",
   "metadata": {},
   "outputs": [],
   "source": []
  },
  {
   "cell_type": "code",
   "execution_count": null,
   "id": "de6d78da",
   "metadata": {},
   "outputs": [],
   "source": []
  },
  {
   "cell_type": "markdown",
   "id": "cf7d7a0c",
   "metadata": {},
   "source": [
    "# Q4-  Do users rate games with online multiplayer modes higher than games that lack online multiplayer modes?\n",
    "\n",
    "> since there is a gap time from game that can be played online and games that cannot- we decided to remove that gap and make sure that the games all come out in the same time period\n",
    "\n",
    "\n",
    "### _answer:_ even after removing that time gap the games that are `NOT` multiplayer online games are rated higher than non-multiplayer games"
   ]
  },
  {
   "cell_type": "code",
   "execution_count": null,
   "id": "52c4080a",
   "metadata": {
    "scrolled": false
   },
   "outputs": [],
   "source": [
    "df2.head(2)"
   ]
  },
  {
   "cell_type": "markdown",
   "id": "238d6ae5",
   "metadata": {},
   "source": [
    ">## Not online multi"
   ]
  },
  {
   "cell_type": "code",
   "execution_count": null,
   "id": "b8fc51ba",
   "metadata": {},
   "outputs": [],
   "source": [
    "#making sure all games are comming out of the same time period\n",
    "train['created_at'] = pd.to_datetime(train['created_at'],unit='s')"
   ]
  },
  {
   "cell_type": "code",
   "execution_count": null,
   "id": "4e7b94b9",
   "metadata": {
    "scrolled": false
   },
   "outputs": [],
   "source": [
    "train.onlinecoop.value_counts()"
   ]
  },
  {
   "cell_type": "code",
   "execution_count": null,
   "id": "3f8d95d1",
   "metadata": {
    "scrolled": false
   },
   "outputs": [],
   "source": [
    "NOT_online_multi = train[train['onlinecoop']== False]\n",
    "NOT_online_multi.head(1)"
   ]
  },
  {
   "cell_type": "code",
   "execution_count": null,
   "id": "222c402c",
   "metadata": {
    "scrolled": true
   },
   "outputs": [],
   "source": [
    "NOT_online_multi['first_release_date'] = pd.to_datetime(NOT_online_multi['first_release_date'],unit='s')"
   ]
  },
  {
   "cell_type": "code",
   "execution_count": null,
   "id": "2c84c79a",
   "metadata": {
    "scrolled": true
   },
   "outputs": [],
   "source": [
    "NOT_online_multi.head()"
   ]
  },
  {
   "cell_type": "code",
   "execution_count": null,
   "id": "59e21a92",
   "metadata": {
    "scrolled": true
   },
   "outputs": [],
   "source": [
    "NOT_online_multi.first_release_date.value_counts()"
   ]
  },
  {
   "cell_type": "code",
   "execution_count": null,
   "id": "268bcca1",
   "metadata": {},
   "outputs": [],
   "source": [
    "NOT_online_multi['first_release_date_year'] = NOT_online_multi.first_release_date.dt.year"
   ]
  },
  {
   "cell_type": "code",
   "execution_count": null,
   "id": "05a6d2bc",
   "metadata": {
    "scrolled": true
   },
   "outputs": [],
   "source": [
    "NOT_online_multi.first_release_date_year.value_counts()"
   ]
  },
  {
   "cell_type": "code",
   "execution_count": null,
   "id": "f4ce5bf4",
   "metadata": {},
   "outputs": [],
   "source": [
    "NOT_online_multi.head()"
   ]
  },
  {
   "cell_type": "code",
   "execution_count": null,
   "id": "dd0a9d46",
   "metadata": {},
   "outputs": [],
   "source": [
    "#1981 is the lowest date in online i will it cut it off there "
   ]
  },
  {
   "cell_type": "code",
   "execution_count": null,
   "id": "11680d24",
   "metadata": {
    "scrolled": true
   },
   "outputs": [],
   "source": [
    "NOT_online_multi = NOT_online_multi[NOT_online_multi['first_release_date_year'] > 1981.0]\n",
    "NOT_online_multi.head(1)"
   ]
  },
  {
   "cell_type": "code",
   "execution_count": null,
   "id": "30959447",
   "metadata": {
    "scrolled": true
   },
   "outputs": [],
   "source": [
    "NOT_online_multi.first_release_date_year.value_counts()"
   ]
  },
  {
   "cell_type": "markdown",
   "id": "79f5a5b9",
   "metadata": {},
   "source": [
    "## Not online multi-player that games are after 1981"
   ]
  },
  {
   "cell_type": "code",
   "execution_count": null,
   "id": "5ec8adb8",
   "metadata": {},
   "outputs": [],
   "source": [
    "plt.figure(figsize=(12,5))\n",
    "c = sns.countplot(x='rating_bin', data=NOT_online_multi)\n",
    "\n",
    "for p in c.patches:\n",
    "    c.annotate(p.get_height(), \n",
    "                (p.get_x() + p.get_width() / 2.0, \n",
    "                 p.get_height()), \n",
    "                 ha = 'center', \n",
    "                 va = 'center', \n",
    "                 xytext = (1, 5),\n",
    "                 textcoords = 'offset points')"
   ]
  },
  {
   "cell_type": "markdown",
   "id": "e24a2db5",
   "metadata": {},
   "source": [
    ">##  online multi"
   ]
  },
  {
   "cell_type": "code",
   "execution_count": null,
   "id": "d2070864",
   "metadata": {
    "scrolled": true
   },
   "outputs": [],
   "source": [
    "df_online_multi = df2[df2['onlinecoop']== True]\n",
    "df_online_multi.head(1)"
   ]
  },
  {
   "cell_type": "markdown",
   "id": "57412b0e",
   "metadata": {},
   "source": [
    "## Games that are after 1981 - Ratings "
   ]
  },
  {
   "cell_type": "code",
   "execution_count": null,
   "id": "c9d5793c",
   "metadata": {
    "scrolled": true
   },
   "outputs": [],
   "source": [
    "plt.figure(figsize=(12,5))\n",
    "c = sns.countplot(x='rating_bin', data=df_online_multi)\n",
    "\n",
    "for p in c.patches:\n",
    "    c.annotate(p.get_height(), \n",
    "                (p.get_x() + p.get_width() / 2.0, \n",
    "                 p.get_height()), \n",
    "                 ha = 'center', \n",
    "                 va = 'center', \n",
    "                 xytext = (1, 5),\n",
    "                 textcoords = 'offset points')"
   ]
  },
  {
   "cell_type": "markdown",
   "id": "89f13fa2",
   "metadata": {},
   "source": [
    "### figuring out the time period for online games"
   ]
  },
  {
   "cell_type": "code",
   "execution_count": null,
   "id": "4b35e92c",
   "metadata": {},
   "outputs": [],
   "source": [
    "df_online_multi['first_release_date'] = pd.to_datetime(df_online_multi['first_release_date'],unit='s')"
   ]
  },
  {
   "cell_type": "code",
   "execution_count": null,
   "id": "2c5df8f9",
   "metadata": {},
   "outputs": [],
   "source": [
    "df_online_multi.head(1)"
   ]
  },
  {
   "cell_type": "code",
   "execution_count": null,
   "id": "72ef927d",
   "metadata": {},
   "outputs": [],
   "source": [
    "df_online_multi['first_release_date_year'] = df_online_multi.first_release_date.dt.year"
   ]
  },
  {
   "cell_type": "code",
   "execution_count": null,
   "id": "122e49ed",
   "metadata": {
    "scrolled": true
   },
   "outputs": [],
   "source": [
    "df_online_multi.first_release_date_year.value_counts()"
   ]
  },
  {
   "cell_type": "markdown",
   "id": "da2266c2",
   "metadata": {},
   "source": [
    " # Q 4- Does a certain game_mode determine the game rating?"
   ]
  },
  {
   "cell_type": "code",
   "execution_count": null,
   "id": "edc71e0f",
   "metadata": {
    "scrolled": true
   },
   "outputs": [],
   "source": [
    "train.head()"
   ]
  },
  {
   "cell_type": "code",
   "execution_count": null,
   "id": "87171fb1",
   "metadata": {},
   "outputs": [],
   "source": [
    "fig, ax = plt.subplots(figsize = (14,4))\n",
    "ax.bar(to_1D(train[\"game_modes\"]).value_counts().iloc[:7].index,\n",
    "        to_1D(train[\"game_modes\"]).value_counts().iloc[:7].values)\n",
    "ax.set_ylabel(\"Frequency\", size = 12)\n",
    "ax.set_title(\"platforms\", size = 14)"
   ]
  },
  {
   "cell_type": "markdown",
   "id": "957aac7d",
   "metadata": {},
   "source": [
    "- looks liek most common games are single and multi player, and co op "
   ]
  },
  {
   "cell_type": "code",
   "execution_count": null,
   "id": "6a45486a",
   "metadata": {},
   "outputs": [],
   "source": [
    "fig, ax = plt.subplots(figsize = (14,6))\n",
    "ax.bar(to_1D(df_subperb_rating[\"game_modes\"]).value_counts().iloc[:4].index,\n",
    "        to_1D(df_subperb_rating[\"game_modes\"]).value_counts().iloc[:4].values,\n",
    "         color= ['purple'])\n",
    "ax.set_ylabel(\"Frequency\", size = 20)\n",
    "ax.set_title(\"Most common Genre in Superb Games\", size = 20)"
   ]
  },
  {
   "cell_type": "markdown",
   "id": "5a36ed6f",
   "metadata": {},
   "source": [
    "- didnt find anything important"
   ]
  },
  {
   "cell_type": "code",
   "execution_count": null,
   "id": "2aa757e5",
   "metadata": {},
   "outputs": [],
   "source": [
    "train.head(3)"
   ]
  },
  {
   "cell_type": "code",
   "execution_count": null,
   "id": "4410c559",
   "metadata": {},
   "outputs": [],
   "source": []
  },
  {
   "cell_type": "markdown",
   "id": "065a3d1c",
   "metadata": {},
   "source": [
    "# Question - What are the top 5 most highest member rated videogames?"
   ]
  },
  {
   "cell_type": "code",
   "execution_count": null,
   "id": "956bcc4f",
   "metadata": {},
   "outputs": [],
   "source": [
    "super_high_rating = df_subperb_rating[df_subperb_rating['rating'] > 99]"
   ]
  },
  {
   "cell_type": "code",
   "execution_count": null,
   "id": "e1f1f03f",
   "metadata": {},
   "outputs": [],
   "source": [
    "super_high_rating.head()"
   ]
  },
  {
   "cell_type": "markdown",
   "id": "869da924",
   "metadata": {},
   "source": [
    "# What Are the most common player perspectives in "
   ]
  },
  {
   "cell_type": "code",
   "execution_count": 32,
   "id": "db067be2",
   "metadata": {
    "scrolled": true
   },
   "outputs": [
    {
     "data": {
      "text/plain": [
       "[Third person]                                                          329\n",
       "[Bird view / Isometric]                                                 247\n",
       "[First person, Third person]                                            235\n",
       "[Side view]                                                              31\n",
       "[Not available]                                                          20\n",
       "[First person]                                                           15\n",
       "[Third person, Bird view / Isometric]                                     6\n",
       "[Text]                                                                    5\n",
       "[Bird view / Isometric, Text]                                             4\n",
       "[Bird view / Isometric, Side view]                                        3\n",
       "[First person, Text]                                                      2\n",
       "[Bird view / Isometric, Auditory]                                         1\n",
       "[Auditory]                                                                1\n",
       "[Third person, Text]                                                      1\n",
       "[First person, Third person, Text]                                        1\n",
       "[First person, Third person, Side view]                                   1\n",
       "[First person, Bird view / Isometric]                                     1\n",
       "[First person, Third person, Bird view / Isometric, Side view, Text]      1\n",
       "[Third person, Side view]                                                 1\n",
       "[Virtual Reality]                                                         1\n",
       "[First person, Third person, Bird view / Isometric]                       1\n",
       "[Side view, Text]                                                         1\n",
       "[First person, Virtual Reality]                                           1\n",
       "Name: player_perspectives, dtype: int64"
      ]
     },
     "execution_count": 32,
     "metadata": {},
     "output_type": "execute_result"
    }
   ],
   "source": [
    "df_subperb_rating.player_perspectives.value_counts()"
   ]
  },
  {
   "cell_type": "code",
   "execution_count": 51,
   "id": "97f5a99f",
   "metadata": {
    "scrolled": false
   },
   "outputs": [
    {
     "data": {
      "text/plain": [
       "Text(0.5, 1.0, 'Most common Player Perspective in Superb Rated Games')"
      ]
     },
     "execution_count": 51,
     "metadata": {},
     "output_type": "execute_result"
    },
    {
     "data": {
      "image/png": "[encoded data removed]",
      "text/plain": [
       "<Figure size 1008x432 with 1 Axes>"
      ]
     },
     "metadata": {
      "needs_background": "light"
     },
     "output_type": "display_data"
    }
   ],
   "source": [
    "fig, ax = plt.subplots(figsize = (14,6))\n",
    "ax.bar(to_1D(df_subperb_rating[\"player_perspectives\"]).value_counts().iloc[:4].index,\n",
    "        to_1D(df_subperb_rating[\"player_perspectives\"]).value_counts().iloc[:4].values,\n",
    "         color= ['purple'])\n",
    "ax.set_ylabel(\"Frequency\", size = 20)\n",
    "ax.set_title(\"Most common Player Perspective in Superb Rated Games\", size = 20)"
   ]
  },
  {
   "cell_type": "markdown",
   "id": "60352d1e",
   "metadata": {},
   "source": [
    "- looks like the majority of the best games have third person and, bird view/isometric "
   ]
  },
  {
   "cell_type": "code",
   "execution_count": null,
   "id": "11fe115c",
   "metadata": {},
   "outputs": [],
   "source": []
  },
  {
   "cell_type": "code",
   "execution_count": null,
   "id": "06c048aa",
   "metadata": {},
   "outputs": [],
   "source": []
  },
  {
   "cell_type": "code",
   "execution_count": null,
   "id": "1b24c683",
   "metadata": {},
   "outputs": [],
   "source": []
  },
  {
   "cell_type": "code",
   "execution_count": null,
   "id": "89b6f72c",
   "metadata": {},
   "outputs": [],
   "source": []
  },
  {
   "cell_type": "code",
   "execution_count": null,
   "id": "4f9cbb5f",
   "metadata": {},
   "outputs": [],
   "source": []
  },
  {
   "cell_type": "code",
   "execution_count": null,
   "id": "a3d65724",
   "metadata": {},
   "outputs": [],
   "source": []
  },
  {
   "cell_type": "markdown",
   "id": "91f4d129",
   "metadata": {},
   "source": [
    "Q- Maybe there is some common words in the suberb? NLP idea"
   ]
  },
  {
   "cell_type": "code",
   "execution_count": null,
   "id": "59da6a07",
   "metadata": {},
   "outputs": [],
   "source": [
    "df_subperb_rating.summary.head(20)"
   ]
  },
  {
   "cell_type": "code",
   "execution_count": null,
   "id": "c26adf68",
   "metadata": {},
   "outputs": [],
   "source": [
    "#pip install plotly==5.0.0\n"
   ]
  },
  {
   "cell_type": "code",
   "execution_count": 20,
   "id": "5ee6d937",
   "metadata": {},
   "outputs": [],
   "source": [
    "import chart_studio.plotly as py"
   ]
  },
  {
   "cell_type": "code",
   "execution_count": null,
   "id": "73a7aaee",
   "metadata": {},
   "outputs": [],
   "source": [
    "#pip install dash==1.20.0\n"
   ]
  },
  {
   "cell_type": "code",
   "execution_count": null,
   "id": "2cc4c045",
   "metadata": {},
   "outputs": [],
   "source": [
    "#pip install &quot;notebook&gt;=5.3&quot; &quot;ipywidgets&gt;=7.5&quot;"
   ]
  },
  {
   "cell_type": "code",
   "execution_count": 21,
   "id": "a0d6a071",
   "metadata": {},
   "outputs": [
    {
     "data": {
      "application/vnd.plotly.v1+json": {
       "config": {
        "plotlyServerURL": "https://plot.ly"
       },
       "data": [
        {
         "alignmentgroup": "True",
         "hovertemplate": "x=%{x}<br>y=%{y}<extra></extra>",
         "legendgroup": "",
         "marker": {
          "color": "#636efa",
          "pattern": {
           "shape": ""
          }
         },
         "name": "",
         "offsetgroup": "",
         "orientation": "v",
         "showlegend": false,
         "textposition": "auto",
         "type": "bar",
         "x": [
          "a",
          "b",
          "c"
         ],
         "xaxis": "x",
         "y": [
          1,
          3,
          2
         ],
         "yaxis": "y"
        }
       ],
       "layout": {
        "barmode": "relative",
        "legend": {
         "tracegroupgap": 0
        },
        "margin": {
         "t": 60
        },
        "template": {
         "data": {
          "bar": [
           {
            "error_x": {
             "color": "#2a3f5f"
            },
            "error_y": {
             "color": "#2a3f5f"
            },
            "marker": {
             "line": {
              "color": "#E5ECF6",
              "width": 0.5
             },
             "pattern": {
              "fillmode": "overlay",
              "size": 10,
              "solidity": 0.2
             }
            },
            "type": "bar"
           }
          ],
          "barpolar": [
           {
            "marker": {
             "line": {
              "color": "#E5ECF6",
              "width": 0.5
             },
             "pattern": {
              "fillmode": "overlay",
              "size": 10,
              "solidity": 0.2
             }
            },
            "type": "barpolar"
           }
          ],
          "carpet": [
           {
            "aaxis": {
             "endlinecolor": "#2a3f5f",
             "gridcolor": "white",
             "linecolor": "white",
             "minorgridcolor": "white",
             "startlinecolor": "#2a3f5f"
            },
            "baxis": {
             "endlinecolor": "#2a3f5f",
             "gridcolor": "white",
             "linecolor": "white",
             "minorgridcolor": "white",
             "startlinecolor": "#2a3f5f"
            },
            "type": "carpet"
           }
          ],
          "choropleth": [
           {
            "colorbar": {
             "outlinewidth": 0,
             "ticks": ""
            },
            "type": "choropleth"
           }
          ],
          "contour": [
           {
            "colorbar": {
             "outlinewidth": 0,
             "ticks": ""
            },
            "colorscale": [
             [
              0,
              "#0d0887"
             ],
             [
              0.1111111111111111,
              "#46039f"
             ],
             [
              0.2222222222222222,
              "#7201a8"
             ],
             [
              0.3333333333333333,
              "#9c179e"
             ],
             [
              0.4444444444444444,
              "#bd3786"
             ],
             [
              0.5555555555555556,
              "#d8576b"
             ],
             [
              0.6666666666666666,
              "#ed7953"
             ],
             [
              0.7777777777777778,
              "#fb9f3a"
             ],
             [
              0.8888888888888888,
              "#fdca26"
             ],
             [
              1,
              "#f0f921"
             ]
            ],
            "type": "contour"
           }
          ],
          "contourcarpet": [
           {
            "colorbar": {
             "outlinewidth": 0,
             "ticks": ""
            },
            "type": "contourcarpet"
           }
          ],
          "heatmap": [
           {
            "colorbar": {
             "outlinewidth": 0,
             "ticks": ""
            },
            "colorscale": [
             [
              0,
              "#0d0887"
             ],
             [
              0.1111111111111111,
              "#46039f"
             ],
             [
              0.2222222222222222,
              "#7201a8"
             ],
             [
              0.3333333333333333,
              "#9c179e"
             ],
             [
              0.4444444444444444,
              "#bd3786"
             ],
             [
              0.5555555555555556,
              "#d8576b"
             ],
             [
              0.6666666666666666,
              "#ed7953"
             ],
             [
              0.7777777777777778,
              "#fb9f3a"
             ],
             [
              0.8888888888888888,
              "#fdca26"
             ],
             [
              1,
              "#f0f921"
             ]
            ],
            "type": "heatmap"
           }
          ],
          "heatmapgl": [
           {
            "colorbar": {
             "outlinewidth": 0,
             "ticks": ""
            },
            "colorscale": [
             [
              0,
              "#0d0887"
             ],
             [
              0.1111111111111111,
              "#46039f"
             ],
             [
              0.2222222222222222,
              "#7201a8"
             ],
             [
              0.3333333333333333,
              "#9c179e"
             ],
             [
              0.4444444444444444,
              "#bd3786"
             ],
             [
              0.5555555555555556,
              "#d8576b"
             ],
             [
              0.6666666666666666,
              "#ed7953"
             ],
             [
              0.7777777777777778,
              "#fb9f3a"
             ],
             [
              0.8888888888888888,
              "#fdca26"
             ],
             [
              1,
              "#f0f921"
             ]
            ],
            "type": "heatmapgl"
           }
          ],
          "histogram": [
           {
            "marker": {
             "pattern": {
              "fillmode": "overlay",
              "size": 10,
              "solidity": 0.2
             }
            },
            "type": "histogram"
           }
          ],
          "histogram2d": [
           {
            "colorbar": {
             "outlinewidth": 0,
             "ticks": ""
            },
            "colorscale": [
             [
              0,
              "#0d0887"
             ],
             [
              0.1111111111111111,
              "#46039f"
             ],
             [
              0.2222222222222222,
              "#7201a8"
             ],
             [
              0.3333333333333333,
              "#9c179e"
             ],
             [
              0.4444444444444444,
              "#bd3786"
             ],
             [
              0.5555555555555556,
              "#d8576b"
             ],
             [
              0.6666666666666666,
              "#ed7953"
             ],
             [
              0.7777777777777778,
              "#fb9f3a"
             ],
             [
              0.8888888888888888,
              "#fdca26"
             ],
             [
              1,
              "#f0f921"
             ]
            ],
            "type": "histogram2d"
           }
          ],
          "histogram2dcontour": [
           {
            "colorbar": {
             "outlinewidth": 0,
             "ticks": ""
            },
            "colorscale": [
             [
              0,
              "#0d0887"
             ],
             [
              0.1111111111111111,
              "#46039f"
             ],
             [
              0.2222222222222222,
              "#7201a8"
             ],
             [
              0.3333333333333333,
              "#9c179e"
             ],
             [
              0.4444444444444444,
              "#bd3786"
             ],
             [
              0.5555555555555556,
              "#d8576b"
             ],
             [
              0.6666666666666666,
              "#ed7953"
             ],
             [
              0.7777777777777778,
              "#fb9f3a"
             ],
             [
              0.8888888888888888,
              "#fdca26"
             ],
             [
              1,
              "#f0f921"
             ]
            ],
            "type": "histogram2dcontour"
           }
          ],
          "mesh3d": [
           {
            "colorbar": {
             "outlinewidth": 0,
             "ticks": ""
            },
            "type": "mesh3d"
           }
          ],
          "parcoords": [
           {
            "line": {
             "colorbar": {
              "outlinewidth": 0,
              "ticks": ""
             }
            },
            "type": "parcoords"
           }
          ],
          "pie": [
           {
            "automargin": true,
            "type": "pie"
           }
          ],
          "scatter": [
           {
            "marker": {
             "colorbar": {
              "outlinewidth": 0,
              "ticks": ""
             }
            },
            "type": "scatter"
           }
          ],
          "scatter3d": [
           {
            "line": {
             "colorbar": {
              "outlinewidth": 0,
              "ticks": ""
             }
            },
            "marker": {
             "colorbar": {
              "outlinewidth": 0,
              "ticks": ""
             }
            },
            "type": "scatter3d"
           }
          ],
          "scattercarpet": [
           {
            "marker": {
             "colorbar": {
              "outlinewidth": 0,
              "ticks": ""
             }
            },
            "type": "scattercarpet"
           }
          ],
          "scattergeo": [
           {
            "marker": {
             "colorbar": {
              "outlinewidth": 0,
              "ticks": ""
             }
            },
            "type": "scattergeo"
           }
          ],
          "scattergl": [
           {
            "marker": {
             "colorbar": {
              "outlinewidth": 0,
              "ticks": ""
             }
            },
            "type": "scattergl"
           }
          ],
          "scattermapbox": [
           {
            "marker": {
             "colorbar": {
              "outlinewidth": 0,
              "ticks": ""
             }
            },
            "type": "scattermapbox"
           }
          ],
          "scatterpolar": [
           {
            "marker": {
             "colorbar": {
              "outlinewidth": 0,
              "ticks": ""
             }
            },
            "type": "scatterpolar"
           }
          ],
          "scatterpolargl": [
           {
            "marker": {
             "colorbar": {
              "outlinewidth": 0,
              "ticks": ""
             }
            },
            "type": "scatterpolargl"
           }
          ],
          "scatterternary": [
           {
            "marker": {
             "colorbar": {
              "outlinewidth": 0,
              "ticks": ""
             }
            },
            "type": "scatterternary"
           }
          ],
          "surface": [
           {
            "colorbar": {
             "outlinewidth": 0,
             "ticks": ""
            },
            "colorscale": [
             [
              0,
              "#0d0887"
             ],
             [
              0.1111111111111111,
              "#46039f"
             ],
             [
              0.2222222222222222,
              "#7201a8"
             ],
             [
              0.3333333333333333,
              "#9c179e"
             ],
             [
              0.4444444444444444,
              "#bd3786"
             ],
             [
              0.5555555555555556,
              "#d8576b"
             ],
             [
              0.6666666666666666,
              "#ed7953"
             ],
             [
              0.7777777777777778,
              "#fb9f3a"
             ],
             [
              0.8888888888888888,
              "#fdca26"
             ],
             [
              1,
              "#f0f921"
             ]
            ],
            "type": "surface"
           }
          ],
          "table": [
           {
            "cells": {
             "fill": {
              "color": "#EBF0F8"
             },
             "line": {
              "color": "white"
             }
            },
            "header": {
             "fill": {
              "color": "#C8D4E3"
             },
             "line": {
              "color": "white"
             }
            },
            "type": "table"
           }
          ]
         },
         "layout": {
          "annotationdefaults": {
           "arrowcolor": "#2a3f5f",
           "arrowhead": 0,
           "arrowwidth": 1
          },
          "autotypenumbers": "strict",
          "coloraxis": {
           "colorbar": {
            "outlinewidth": 0,
            "ticks": ""
           }
          },
          "colorscale": {
           "diverging": [
            [
             0,
             "#8e0152"
            ],
            [
             0.1,
             "#c51b7d"
            ],
            [
             0.2,
             "#de77ae"
            ],
            [
             0.3,
             "#f1b6da"
            ],
            [
             0.4,
             "#fde0ef"
            ],
            [
             0.5,
             "#f7f7f7"
            ],
            [
             0.6,
             "#e6f5d0"
            ],
            [
             0.7,
             "#b8e186"
            ],
            [
             0.8,
             "#7fbc41"
            ],
            [
             0.9,
             "#4d9221"
            ],
            [
             1,
             "#276419"
            ]
           ],
           "sequential": [
            [
             0,
             "#0d0887"
            ],
            [
             0.1111111111111111,
             "#46039f"
            ],
            [
             0.2222222222222222,
             "#7201a8"
            ],
            [
             0.3333333333333333,
             "#9c179e"
            ],
            [
             0.4444444444444444,
             "#bd3786"
            ],
            [
             0.5555555555555556,
             "#d8576b"
            ],
            [
             0.6666666666666666,
             "#ed7953"
            ],
            [
             0.7777777777777778,
             "#fb9f3a"
            ],
            [
             0.8888888888888888,
             "#fdca26"
            ],
            [
             1,
             "#f0f921"
            ]
           ],
           "sequentialminus": [
            [
             0,
             "#0d0887"
            ],
            [
             0.1111111111111111,
             "#46039f"
            ],
            [
             0.2222222222222222,
             "#7201a8"
            ],
            [
             0.3333333333333333,
             "#9c179e"
            ],
            [
             0.4444444444444444,
             "#bd3786"
            ],
            [
             0.5555555555555556,
             "#d8576b"
            ],
            [
             0.6666666666666666,
             "#ed7953"
            ],
            [
             0.7777777777777778,
             "#fb9f3a"
            ],
            [
             0.8888888888888888,
             "#fdca26"
            ],
            [
             1,
             "#f0f921"
            ]
           ]
          },
          "colorway": [
           "#636efa",
           "#EF553B",
           "#00cc96",
           "#ab63fa",
           "#FFA15A",
           "#19d3f3",
           "#FF6692",
           "#B6E880",
           "#FF97FF",
           "#FECB52"
          ],
          "font": {
           "color": "#2a3f5f"
          },
          "geo": {
           "bgcolor": "white",
           "lakecolor": "white",
           "landcolor": "#E5ECF6",
           "showlakes": true,
           "showland": true,
           "subunitcolor": "white"
          },
          "hoverlabel": {
           "align": "left"
          },
          "hovermode": "closest",
          "mapbox": {
           "style": "light"
          },
          "paper_bgcolor": "white",
          "plot_bgcolor": "#E5ECF6",
          "polar": {
           "angularaxis": {
            "gridcolor": "white",
            "linecolor": "white",
            "ticks": ""
           },
           "bgcolor": "#E5ECF6",
           "radialaxis": {
            "gridcolor": "white",
            "linecolor": "white",
            "ticks": ""
           }
          },
          "scene": {
           "xaxis": {
            "backgroundcolor": "#E5ECF6",
            "gridcolor": "white",
            "gridwidth": 2,
            "linecolor": "white",
            "showbackground": true,
            "ticks": "",
            "zerolinecolor": "white"
           },
           "yaxis": {
            "backgroundcolor": "#E5ECF6",
            "gridcolor": "white",
            "gridwidth": 2,
            "linecolor": "white",
            "showbackground": true,
            "ticks": "",
            "zerolinecolor": "white"
           },
           "zaxis": {
            "backgroundcolor": "#E5ECF6",
            "gridcolor": "white",
            "gridwidth": 2,
            "linecolor": "white",
            "showbackground": true,
            "ticks": "",
            "zerolinecolor": "white"
           }
          },
          "shapedefaults": {
           "line": {
            "color": "#2a3f5f"
           }
          },
          "ternary": {
           "aaxis": {
            "gridcolor": "white",
            "linecolor": "white",
            "ticks": ""
           },
           "baxis": {
            "gridcolor": "white",
            "linecolor": "white",
            "ticks": ""
           },
           "bgcolor": "#E5ECF6",
           "caxis": {
            "gridcolor": "white",
            "linecolor": "white",
            "ticks": ""
           }
          },
          "title": {
           "x": 0.05
          },
          "xaxis": {
           "automargin": true,
           "gridcolor": "white",
           "linecolor": "white",
           "ticks": "",
           "title": {
            "standoff": 15
           },
           "zerolinecolor": "white",
           "zerolinewidth": 2
          },
          "yaxis": {
           "automargin": true,
           "gridcolor": "white",
           "linecolor": "white",
           "ticks": "",
           "title": {
            "standoff": 15
           },
           "zerolinecolor": "white",
           "zerolinewidth": 2
          }
         }
        },
        "xaxis": {
         "anchor": "y",
         "domain": [
          0,
          1
         ],
         "title": {
          "text": "x"
         }
        },
        "yaxis": {
         "anchor": "x",
         "domain": [
          0,
          1
         ],
         "title": {
          "text": "y"
         }
        }
       }
      },
      "text/html": [
       "<div>                            <div id=\"c665853a-5959-424c-aad4-0ab973b6a1bb\" class=\"plotly-graph-div\" style=\"height:525px; width:100%;\"></div>            <script type=\"text/javascript\">                require([\"plotly\"], function(Plotly) {                    window.PLOTLYENV=window.PLOTLYENV || {};                                    if (document.getElementById(\"c665853a-5959-424c-aad4-0ab973b6a1bb\")) {                    Plotly.newPlot(                        \"c665853a-5959-424c-aad4-0ab973b6a1bb\",                        [{\"alignmentgroup\":\"True\",\"hovertemplate\":\"x=%{x}<br>y=%{y}<extra></extra>\",\"legendgroup\":\"\",\"marker\":{\"color\":\"#636efa\",\"pattern\":{\"shape\":\"\"}},\"name\":\"\",\"offsetgroup\":\"\",\"orientation\":\"v\",\"showlegend\":false,\"textposition\":\"auto\",\"type\":\"bar\",\"x\":[\"a\",\"b\",\"c\"],\"xaxis\":\"x\",\"y\":[1,3,2],\"yaxis\":\"y\"}],                        {\"barmode\":\"relative\",\"legend\":{\"tracegroupgap\":0},\"margin\":{\"t\":60},\"template\":{\"data\":{\"bar\":[{\"error_x\":{\"color\":\"#2a3f5f\"},\"error_y\":{\"color\":\"#2a3f5f\"},\"marker\":{\"line\":{\"color\":\"#E5ECF6\",\"width\":0.5},\"pattern\":{\"fillmode\":\"overlay\",\"size\":10,\"solidity\":0.2}},\"type\":\"bar\"}],\"barpolar\":[{\"marker\":{\"line\":{\"color\":\"#E5ECF6\",\"width\":0.5},\"pattern\":{\"fillmode\":\"overlay\",\"size\":10,\"solidity\":0.2}},\"type\":\"barpolar\"}],\"carpet\":[{\"aaxis\":{\"endlinecolor\":\"#2a3f5f\",\"gridcolor\":\"white\",\"linecolor\":\"white\",\"minorgridcolor\":\"white\",\"startlinecolor\":\"#2a3f5f\"},\"baxis\":{\"endlinecolor\":\"#2a3f5f\",\"gridcolor\":\"white\",\"linecolor\":\"white\",\"minorgridcolor\":\"white\",\"startlinecolor\":\"#2a3f5f\"},\"type\":\"carpet\"}],\"choropleth\":[{\"colorbar\":{\"outlinewidth\":0,\"ticks\":\"\"},\"type\":\"choropleth\"}],\"contour\":[{\"colorbar\":{\"outlinewidth\":0,\"ticks\":\"\"},\"colorscale\":[[0.0,\"#0d0887\"],[0.1111111111111111,\"#46039f\"],[0.2222222222222222,\"#7201a8\"],[0.3333333333333333,\"#9c179e\"],[0.4444444444444444,\"#bd3786\"],[0.5555555555555556,\"#d8576b\"],[0.6666666666666666,\"#ed7953\"],[0.7777777777777778,\"#fb9f3a\"],[0.8888888888888888,\"#fdca26\"],[1.0,\"#f0f921\"]],\"type\":\"contour\"}],\"contourcarpet\":[{\"colorbar\":{\"outlinewidth\":0,\"ticks\":\"\"},\"type\":\"contourcarpet\"}],\"heatmap\":[{\"colorbar\":{\"outlinewidth\":0,\"ticks\":\"\"},\"colorscale\":[[0.0,\"#0d0887\"],[0.1111111111111111,\"#46039f\"],[0.2222222222222222,\"#7201a8\"],[0.3333333333333333,\"#9c179e\"],[0.4444444444444444,\"#bd3786\"],[0.5555555555555556,\"#d8576b\"],[0.6666666666666666,\"#ed7953\"],[0.7777777777777778,\"#fb9f3a\"],[0.8888888888888888,\"#fdca26\"],[1.0,\"#f0f921\"]],\"type\":\"heatmap\"}],\"heatmapgl\":[{\"colorbar\":{\"outlinewidth\":0,\"ticks\":\"\"},\"colorscale\":[[0.0,\"#0d0887\"],[0.1111111111111111,\"#46039f\"],[0.2222222222222222,\"#7201a8\"],[0.3333333333333333,\"#9c179e\"],[0.4444444444444444,\"#bd3786\"],[0.5555555555555556,\"#d8576b\"],[0.6666666666666666,\"#ed7953\"],[0.7777777777777778,\"#fb9f3a\"],[0.8888888888888888,\"#fdca26\"],[1.0,\"#f0f921\"]],\"type\":\"heatmapgl\"}],\"histogram\":[{\"marker\":{\"pattern\":{\"fillmode\":\"overlay\",\"size\":10,\"solidity\":0.2}},\"type\":\"histogram\"}],\"histogram2d\":[{\"colorbar\":{\"outlinewidth\":0,\"ticks\":\"\"},\"colorscale\":[[0.0,\"#0d0887\"],[0.1111111111111111,\"#46039f\"],[0.2222222222222222,\"#7201a8\"],[0.3333333333333333,\"#9c179e\"],[0.4444444444444444,\"#bd3786\"],[0.5555555555555556,\"#d8576b\"],[0.6666666666666666,\"#ed7953\"],[0.7777777777777778,\"#fb9f3a\"],[0.8888888888888888,\"#fdca26\"],[1.0,\"#f0f921\"]],\"type\":\"histogram2d\"}],\"histogram2dcontour\":[{\"colorbar\":{\"outlinewidth\":0,\"ticks\":\"\"},\"colorscale\":[[0.0,\"#0d0887\"],[0.1111111111111111,\"#46039f\"],[0.2222222222222222,\"#7201a8\"],[0.3333333333333333,\"#9c179e\"],[0.4444444444444444,\"#bd3786\"],[0.5555555555555556,\"#d8576b\"],[0.6666666666666666,\"#ed7953\"],[0.7777777777777778,\"#fb9f3a\"],[0.8888888888888888,\"#fdca26\"],[1.0,\"#f0f921\"]],\"type\":\"histogram2dcontour\"}],\"mesh3d\":[{\"colorbar\":{\"outlinewidth\":0,\"ticks\":\"\"},\"type\":\"mesh3d\"}],\"parcoords\":[{\"line\":{\"colorbar\":{\"outlinewidth\":0,\"ticks\":\"\"}},\"type\":\"parcoords\"}],\"pie\":[{\"automargin\":true,\"type\":\"pie\"}],\"scatter\":[{\"marker\":{\"colorbar\":{\"outlinewidth\":0,\"ticks\":\"\"}},\"type\":\"scatter\"}],\"scatter3d\":[{\"line\":{\"colorbar\":{\"outlinewidth\":0,\"ticks\":\"\"}},\"marker\":{\"colorbar\":{\"outlinewidth\":0,\"ticks\":\"\"}},\"type\":\"scatter3d\"}],\"scattercarpet\":[{\"marker\":{\"colorbar\":{\"outlinewidth\":0,\"ticks\":\"\"}},\"type\":\"scattercarpet\"}],\"scattergeo\":[{\"marker\":{\"colorbar\":{\"outlinewidth\":0,\"ticks\":\"\"}},\"type\":\"scattergeo\"}],\"scattergl\":[{\"marker\":{\"colorbar\":{\"outlinewidth\":0,\"ticks\":\"\"}},\"type\":\"scattergl\"}],\"scattermapbox\":[{\"marker\":{\"colorbar\":{\"outlinewidth\":0,\"ticks\":\"\"}},\"type\":\"scattermapbox\"}],\"scatterpolar\":[{\"marker\":{\"colorbar\":{\"outlinewidth\":0,\"ticks\":\"\"}},\"type\":\"scatterpolar\"}],\"scatterpolargl\":[{\"marker\":{\"colorbar\":{\"outlinewidth\":0,\"ticks\":\"\"}},\"type\":\"scatterpolargl\"}],\"scatterternary\":[{\"marker\":{\"colorbar\":{\"outlinewidth\":0,\"ticks\":\"\"}},\"type\":\"scatterternary\"}],\"surface\":[{\"colorbar\":{\"outlinewidth\":0,\"ticks\":\"\"},\"colorscale\":[[0.0,\"#0d0887\"],[0.1111111111111111,\"#46039f\"],[0.2222222222222222,\"#7201a8\"],[0.3333333333333333,\"#9c179e\"],[0.4444444444444444,\"#bd3786\"],[0.5555555555555556,\"#d8576b\"],[0.6666666666666666,\"#ed7953\"],[0.7777777777777778,\"#fb9f3a\"],[0.8888888888888888,\"#fdca26\"],[1.0,\"#f0f921\"]],\"type\":\"surface\"}],\"table\":[{\"cells\":{\"fill\":{\"color\":\"#EBF0F8\"},\"line\":{\"color\":\"white\"}},\"header\":{\"fill\":{\"color\":\"#C8D4E3\"},\"line\":{\"color\":\"white\"}},\"type\":\"table\"}]},\"layout\":{\"annotationdefaults\":{\"arrowcolor\":\"#2a3f5f\",\"arrowhead\":0,\"arrowwidth\":1},\"autotypenumbers\":\"strict\",\"coloraxis\":{\"colorbar\":{\"outlinewidth\":0,\"ticks\":\"\"}},\"colorscale\":{\"diverging\":[[0,\"#8e0152\"],[0.1,\"#c51b7d\"],[0.2,\"#de77ae\"],[0.3,\"#f1b6da\"],[0.4,\"#fde0ef\"],[0.5,\"#f7f7f7\"],[0.6,\"#e6f5d0\"],[0.7,\"#b8e186\"],[0.8,\"#7fbc41\"],[0.9,\"#4d9221\"],[1,\"#276419\"]],\"sequential\":[[0.0,\"#0d0887\"],[0.1111111111111111,\"#46039f\"],[0.2222222222222222,\"#7201a8\"],[0.3333333333333333,\"#9c179e\"],[0.4444444444444444,\"#bd3786\"],[0.5555555555555556,\"#d8576b\"],[0.6666666666666666,\"#ed7953\"],[0.7777777777777778,\"#fb9f3a\"],[0.8888888888888888,\"#fdca26\"],[1.0,\"#f0f921\"]],\"sequentialminus\":[[0.0,\"#0d0887\"],[0.1111111111111111,\"#46039f\"],[0.2222222222222222,\"#7201a8\"],[0.3333333333333333,\"#9c179e\"],[0.4444444444444444,\"#bd3786\"],[0.5555555555555556,\"#d8576b\"],[0.6666666666666666,\"#ed7953\"],[0.7777777777777778,\"#fb9f3a\"],[0.8888888888888888,\"#fdca26\"],[1.0,\"#f0f921\"]]},\"colorway\":[\"#636efa\",\"#EF553B\",\"#00cc96\",\"#ab63fa\",\"#FFA15A\",\"#19d3f3\",\"#FF6692\",\"#B6E880\",\"#FF97FF\",\"#FECB52\"],\"font\":{\"color\":\"#2a3f5f\"},\"geo\":{\"bgcolor\":\"white\",\"lakecolor\":\"white\",\"landcolor\":\"#E5ECF6\",\"showlakes\":true,\"showland\":true,\"subunitcolor\":\"white\"},\"hoverlabel\":{\"align\":\"left\"},\"hovermode\":\"closest\",\"mapbox\":{\"style\":\"light\"},\"paper_bgcolor\":\"white\",\"plot_bgcolor\":\"#E5ECF6\",\"polar\":{\"angularaxis\":{\"gridcolor\":\"white\",\"linecolor\":\"white\",\"ticks\":\"\"},\"bgcolor\":\"#E5ECF6\",\"radialaxis\":{\"gridcolor\":\"white\",\"linecolor\":\"white\",\"ticks\":\"\"}},\"scene\":{\"xaxis\":{\"backgroundcolor\":\"#E5ECF6\",\"gridcolor\":\"white\",\"gridwidth\":2,\"linecolor\":\"white\",\"showbackground\":true,\"ticks\":\"\",\"zerolinecolor\":\"white\"},\"yaxis\":{\"backgroundcolor\":\"#E5ECF6\",\"gridcolor\":\"white\",\"gridwidth\":2,\"linecolor\":\"white\",\"showbackground\":true,\"ticks\":\"\",\"zerolinecolor\":\"white\"},\"zaxis\":{\"backgroundcolor\":\"#E5ECF6\",\"gridcolor\":\"white\",\"gridwidth\":2,\"linecolor\":\"white\",\"showbackground\":true,\"ticks\":\"\",\"zerolinecolor\":\"white\"}},\"shapedefaults\":{\"line\":{\"color\":\"#2a3f5f\"}},\"ternary\":{\"aaxis\":{\"gridcolor\":\"white\",\"linecolor\":\"white\",\"ticks\":\"\"},\"baxis\":{\"gridcolor\":\"white\",\"linecolor\":\"white\",\"ticks\":\"\"},\"bgcolor\":\"#E5ECF6\",\"caxis\":{\"gridcolor\":\"white\",\"linecolor\":\"white\",\"ticks\":\"\"}},\"title\":{\"x\":0.05},\"xaxis\":{\"automargin\":true,\"gridcolor\":\"white\",\"linecolor\":\"white\",\"ticks\":\"\",\"title\":{\"standoff\":15},\"zerolinecolor\":\"white\",\"zerolinewidth\":2},\"yaxis\":{\"automargin\":true,\"gridcolor\":\"white\",\"linecolor\":\"white\",\"ticks\":\"\",\"title\":{\"standoff\":15},\"zerolinecolor\":\"white\",\"zerolinewidth\":2}}},\"xaxis\":{\"anchor\":\"y\",\"domain\":[0.0,1.0],\"title\":{\"text\":\"x\"}},\"yaxis\":{\"anchor\":\"x\",\"domain\":[0.0,1.0],\"title\":{\"text\":\"y\"}}},                        {\"responsive\": true}                    ).then(function(){\n",
       "                            \n",
       "var gd = document.getElementById('c665853a-5959-424c-aad4-0ab973b6a1bb');\n",
       "var x = new MutationObserver(function (mutations, observer) {{\n",
       "        var display = window.getComputedStyle(gd).display;\n",
       "        if (!display || display === 'none') {{\n",
       "            console.log([gd, 'removed!']);\n",
       "            Plotly.purge(gd);\n",
       "            observer.disconnect();\n",
       "        }}\n",
       "}});\n",
       "\n",
       "// Listen for the removal of the full notebook cells\n",
       "var notebookContainer = gd.closest('#notebook-container');\n",
       "if (notebookContainer) {{\n",
       "    x.observe(notebookContainer, {childList: true});\n",
       "}}\n",
       "\n",
       "// Listen for the clearing of the current output cell\n",
       "var outputEl = gd.closest('.output');\n",
       "if (outputEl) {{\n",
       "    x.observe(outputEl, {childList: true});\n",
       "}}\n",
       "\n",
       "                        })                };                });            </script>        </div>"
      ]
     },
     "metadata": {},
     "output_type": "display_data"
    }
   ],
   "source": [
    "import plotly.express as px\n",
    "fig = px.bar(x=[\"a\", \"b\", \"c\"], y=[1, 3, 2])\n",
    "fig.show()\n"
   ]
  },
  {
   "cell_type": "code",
   "execution_count": 22,
   "id": "29454bde",
   "metadata": {},
   "outputs": [
    {
     "data": {
      "application/vnd.plotly.v1+json": {
       "config": {
        "plotlyServerURL": "https://plot.ly"
       },
       "data": [
        {
         "alignmentgroup": "True",
         "customdata": [
          [
           68.75,
           11367.16112
          ],
          [
           69.96,
           12489.95006
          ],
          [
           71.3,
           13462.48555
          ],
          [
           72.13,
           16076.58803
          ],
          [
           72.88,
           18970.57086
          ],
          [
           74.21,
           22090.88306
          ],
          [
           75.76,
           22898.79214
          ],
          [
           76.86,
           26626.51503
          ],
          [
           77.95,
           26342.88426
          ],
          [
           78.61,
           28954.92589
          ],
          [
           79.77,
           33328.96507
          ],
          [
           80.653,
           36319.23501
          ]
         ],
         "hovertemplate": "year=%{x}<br>population of Canada=%{y}<br>lifeExp=%{marker.color}<br>gdpPercap=%{customdata[1]}<extra></extra>",
         "legendgroup": "",
         "marker": {
          "color": [
           68.75,
           69.96,
           71.3,
           72.13,
           72.88,
           74.21,
           75.76,
           76.86,
           77.95,
           78.61,
           79.77,
           80.653
          ],
          "coloraxis": "coloraxis",
          "pattern": {
           "shape": ""
          }
         },
         "name": "",
         "offsetgroup": "",
         "orientation": "v",
         "showlegend": false,
         "textposition": "auto",
         "type": "bar",
         "x": [
          1952,
          1957,
          1962,
          1967,
          1972,
          1977,
          1982,
          1987,
          1992,
          1997,
          2002,
          2007
         ],
         "xaxis": "x",
         "y": [
          14785584,
          17010154,
          18985849,
          20819767,
          22284500,
          23796400,
          25201900,
          26549700,
          28523502,
          30305843,
          31902268,
          33390141
         ],
         "yaxis": "y"
        }
       ],
       "layout": {
        "barmode": "relative",
        "coloraxis": {
         "colorbar": {
          "title": {
           "text": "lifeExp"
          }
         },
         "colorscale": [
          [
           0,
           "#0d0887"
          ],
          [
           0.1111111111111111,
           "#46039f"
          ],
          [
           0.2222222222222222,
           "#7201a8"
          ],
          [
           0.3333333333333333,
           "#9c179e"
          ],
          [
           0.4444444444444444,
           "#bd3786"
          ],
          [
           0.5555555555555556,
           "#d8576b"
          ],
          [
           0.6666666666666666,
           "#ed7953"
          ],
          [
           0.7777777777777778,
           "#fb9f3a"
          ],
          [
           0.8888888888888888,
           "#fdca26"
          ],
          [
           1,
           "#f0f921"
          ]
         ]
        },
        "height": 400,
        "legend": {
         "tracegroupgap": 0
        },
        "margin": {
         "t": 60
        },
        "template": {
         "data": {
          "bar": [
           {
            "error_x": {
             "color": "#2a3f5f"
            },
            "error_y": {
             "color": "#2a3f5f"
            },
            "marker": {
             "line": {
              "color": "#E5ECF6",
              "width": 0.5
             },
             "pattern": {
              "fillmode": "overlay",
              "size": 10,
              "solidity": 0.2
             }
            },
            "type": "bar"
           }
          ],
          "barpolar": [
           {
            "marker": {
             "line": {
              "color": "#E5ECF6",
              "width": 0.5
             },
             "pattern": {
              "fillmode": "overlay",
              "size": 10,
              "solidity": 0.2
             }
            },
            "type": "barpolar"
           }
          ],
          "carpet": [
           {
            "aaxis": {
             "endlinecolor": "#2a3f5f",
             "gridcolor": "white",
             "linecolor": "white",
             "minorgridcolor": "white",
             "startlinecolor": "#2a3f5f"
            },
            "baxis": {
             "endlinecolor": "#2a3f5f",
             "gridcolor": "white",
             "linecolor": "white",
             "minorgridcolor": "white",
             "startlinecolor": "#2a3f5f"
            },
            "type": "carpet"
           }
          ],
          "choropleth": [
           {
            "colorbar": {
             "outlinewidth": 0,
             "ticks": ""
            },
            "type": "choropleth"
           }
          ],
          "contour": [
           {
            "colorbar": {
             "outlinewidth": 0,
             "ticks": ""
            },
            "colorscale": [
             [
              0,
              "#0d0887"
             ],
             [
              0.1111111111111111,
              "#46039f"
             ],
             [
              0.2222222222222222,
              "#7201a8"
             ],
             [
              0.3333333333333333,
              "#9c179e"
             ],
             [
              0.4444444444444444,
              "#bd3786"
             ],
             [
              0.5555555555555556,
              "#d8576b"
             ],
             [
              0.6666666666666666,
              "#ed7953"
             ],
             [
              0.7777777777777778,
              "#fb9f3a"
             ],
             [
              0.8888888888888888,
              "#fdca26"
             ],
             [
              1,
              "#f0f921"
             ]
            ],
            "type": "contour"
           }
          ],
          "contourcarpet": [
           {
            "colorbar": {
             "outlinewidth": 0,
             "ticks": ""
            },
            "type": "contourcarpet"
           }
          ],
          "heatmap": [
           {
            "colorbar": {
             "outlinewidth": 0,
             "ticks": ""
            },
            "colorscale": [
             [
              0,
              "#0d0887"
             ],
             [
              0.1111111111111111,
              "#46039f"
             ],
             [
              0.2222222222222222,
              "#7201a8"
             ],
             [
              0.3333333333333333,
              "#9c179e"
             ],
             [
              0.4444444444444444,
              "#bd3786"
             ],
             [
              0.5555555555555556,
              "#d8576b"
             ],
             [
              0.6666666666666666,
              "#ed7953"
             ],
             [
              0.7777777777777778,
              "#fb9f3a"
             ],
             [
              0.8888888888888888,
              "#fdca26"
             ],
             [
              1,
              "#f0f921"
             ]
            ],
            "type": "heatmap"
           }
          ],
          "heatmapgl": [
           {
            "colorbar": {
             "outlinewidth": 0,
             "ticks": ""
            },
            "colorscale": [
             [
              0,
              "#0d0887"
             ],
             [
              0.1111111111111111,
              "#46039f"
             ],
             [
              0.2222222222222222,
              "#7201a8"
             ],
             [
              0.3333333333333333,
              "#9c179e"
             ],
             [
              0.4444444444444444,
              "#bd3786"
             ],
             [
              0.5555555555555556,
              "#d8576b"
             ],
             [
              0.6666666666666666,
              "#ed7953"
             ],
             [
              0.7777777777777778,
              "#fb9f3a"
             ],
             [
              0.8888888888888888,
              "#fdca26"
             ],
             [
              1,
              "#f0f921"
             ]
            ],
            "type": "heatmapgl"
           }
          ],
          "histogram": [
           {
            "marker": {
             "pattern": {
              "fillmode": "overlay",
              "size": 10,
              "solidity": 0.2
             }
            },
            "type": "histogram"
           }
          ],
          "histogram2d": [
           {
            "colorbar": {
             "outlinewidth": 0,
             "ticks": ""
            },
            "colorscale": [
             [
              0,
              "#0d0887"
             ],
             [
              0.1111111111111111,
              "#46039f"
             ],
             [
              0.2222222222222222,
              "#7201a8"
             ],
             [
              0.3333333333333333,
              "#9c179e"
             ],
             [
              0.4444444444444444,
              "#bd3786"
             ],
             [
              0.5555555555555556,
              "#d8576b"
             ],
             [
              0.6666666666666666,
              "#ed7953"
             ],
             [
              0.7777777777777778,
              "#fb9f3a"
             ],
             [
              0.8888888888888888,
              "#fdca26"
             ],
             [
              1,
              "#f0f921"
             ]
            ],
            "type": "histogram2d"
           }
          ],
          "histogram2dcontour": [
           {
            "colorbar": {
             "outlinewidth": 0,
             "ticks": ""
            },
            "colorscale": [
             [
              0,
              "#0d0887"
             ],
             [
              0.1111111111111111,
              "#46039f"
             ],
             [
              0.2222222222222222,
              "#7201a8"
             ],
             [
              0.3333333333333333,
              "#9c179e"
             ],
             [
              0.4444444444444444,
              "#bd3786"
             ],
             [
              0.5555555555555556,
              "#d8576b"
             ],
             [
              0.6666666666666666,
              "#ed7953"
             ],
             [
              0.7777777777777778,
              "#fb9f3a"
             ],
             [
              0.8888888888888888,
              "#fdca26"
             ],
             [
              1,
              "#f0f921"
             ]
            ],
            "type": "histogram2dcontour"
           }
          ],
          "mesh3d": [
           {
            "colorbar": {
             "outlinewidth": 0,
             "ticks": ""
            },
            "type": "mesh3d"
           }
          ],
          "parcoords": [
           {
            "line": {
             "colorbar": {
              "outlinewidth": 0,
              "ticks": ""
             }
            },
            "type": "parcoords"
           }
          ],
          "pie": [
           {
            "automargin": true,
            "type": "pie"
           }
          ],
          "scatter": [
           {
            "marker": {
             "colorbar": {
              "outlinewidth": 0,
              "ticks": ""
             }
            },
            "type": "scatter"
           }
          ],
          "scatter3d": [
           {
            "line": {
             "colorbar": {
              "outlinewidth": 0,
              "ticks": ""
             }
            },
            "marker": {
             "colorbar": {
              "outlinewidth": 0,
              "ticks": ""
             }
            },
            "type": "scatter3d"
           }
          ],
          "scattercarpet": [
           {
            "marker": {
             "colorbar": {
              "outlinewidth": 0,
              "ticks": ""
             }
            },
            "type": "scattercarpet"
           }
          ],
          "scattergeo": [
           {
            "marker": {
             "colorbar": {
              "outlinewidth": 0,
              "ticks": ""
             }
            },
            "type": "scattergeo"
           }
          ],
          "scattergl": [
           {
            "marker": {
             "colorbar": {
              "outlinewidth": 0,
              "ticks": ""
             }
            },
            "type": "scattergl"
           }
          ],
          "scattermapbox": [
           {
            "marker": {
             "colorbar": {
              "outlinewidth": 0,
              "ticks": ""
             }
            },
            "type": "scattermapbox"
           }
          ],
          "scatterpolar": [
           {
            "marker": {
             "colorbar": {
              "outlinewidth": 0,
              "ticks": ""
             }
            },
            "type": "scatterpolar"
           }
          ],
          "scatterpolargl": [
           {
            "marker": {
             "colorbar": {
              "outlinewidth": 0,
              "ticks": ""
             }
            },
            "type": "scatterpolargl"
           }
          ],
          "scatterternary": [
           {
            "marker": {
             "colorbar": {
              "outlinewidth": 0,
              "ticks": ""
             }
            },
            "type": "scatterternary"
           }
          ],
          "surface": [
           {
            "colorbar": {
             "outlinewidth": 0,
             "ticks": ""
            },
            "colorscale": [
             [
              0,
              "#0d0887"
             ],
             [
              0.1111111111111111,
              "#46039f"
             ],
             [
              0.2222222222222222,
              "#7201a8"
             ],
             [
              0.3333333333333333,
              "#9c179e"
             ],
             [
              0.4444444444444444,
              "#bd3786"
             ],
             [
              0.5555555555555556,
              "#d8576b"
             ],
             [
              0.6666666666666666,
              "#ed7953"
             ],
             [
              0.7777777777777778,
              "#fb9f3a"
             ],
             [
              0.8888888888888888,
              "#fdca26"
             ],
             [
              1,
              "#f0f921"
             ]
            ],
            "type": "surface"
           }
          ],
          "table": [
           {
            "cells": {
             "fill": {
              "color": "#EBF0F8"
             },
             "line": {
              "color": "white"
             }
            },
            "header": {
             "fill": {
              "color": "#C8D4E3"
             },
             "line": {
              "color": "white"
             }
            },
            "type": "table"
           }
          ]
         },
         "layout": {
          "annotationdefaults": {
           "arrowcolor": "#2a3f5f",
           "arrowhead": 0,
           "arrowwidth": 1
          },
          "autotypenumbers": "strict",
          "coloraxis": {
           "colorbar": {
            "outlinewidth": 0,
            "ticks": ""
           }
          },
          "colorscale": {
           "diverging": [
            [
             0,
             "#8e0152"
            ],
            [
             0.1,
             "#c51b7d"
            ],
            [
             0.2,
             "#de77ae"
            ],
            [
             0.3,
             "#f1b6da"
            ],
            [
             0.4,
             "#fde0ef"
            ],
            [
             0.5,
             "#f7f7f7"
            ],
            [
             0.6,
             "#e6f5d0"
            ],
            [
             0.7,
             "#b8e186"
            ],
            [
             0.8,
             "#7fbc41"
            ],
            [
             0.9,
             "#4d9221"
            ],
            [
             1,
             "#276419"
            ]
           ],
           "sequential": [
            [
             0,
             "#0d0887"
            ],
            [
             0.1111111111111111,
             "#46039f"
            ],
            [
             0.2222222222222222,
             "#7201a8"
            ],
            [
             0.3333333333333333,
             "#9c179e"
            ],
            [
             0.4444444444444444,
             "#bd3786"
            ],
            [
             0.5555555555555556,
             "#d8576b"
            ],
            [
             0.6666666666666666,
             "#ed7953"
            ],
            [
             0.7777777777777778,
             "#fb9f3a"
            ],
            [
             0.8888888888888888,
             "#fdca26"
            ],
            [
             1,
             "#f0f921"
            ]
           ],
           "sequentialminus": [
            [
             0,
             "#0d0887"
            ],
            [
             0.1111111111111111,
             "#46039f"
            ],
            [
             0.2222222222222222,
             "#7201a8"
            ],
            [
             0.3333333333333333,
             "#9c179e"
            ],
            [
             0.4444444444444444,
             "#bd3786"
            ],
            [
             0.5555555555555556,
             "#d8576b"
            ],
            [
             0.6666666666666666,
             "#ed7953"
            ],
            [
             0.7777777777777778,
             "#fb9f3a"
            ],
            [
             0.8888888888888888,
             "#fdca26"
            ],
            [
             1,
             "#f0f921"
            ]
           ]
          },
          "colorway": [
           "#636efa",
           "#EF553B",
           "#00cc96",
           "#ab63fa",
           "#FFA15A",
           "#19d3f3",
           "#FF6692",
           "#B6E880",
           "#FF97FF",
           "#FECB52"
          ],
          "font": {
           "color": "#2a3f5f"
          },
          "geo": {
           "bgcolor": "white",
           "lakecolor": "white",
           "landcolor": "#E5ECF6",
           "showlakes": true,
           "showland": true,
           "subunitcolor": "white"
          },
          "hoverlabel": {
           "align": "left"
          },
          "hovermode": "closest",
          "mapbox": {
           "style": "light"
          },
          "paper_bgcolor": "white",
          "plot_bgcolor": "#E5ECF6",
          "polar": {
           "angularaxis": {
            "gridcolor": "white",
            "linecolor": "white",
            "ticks": ""
           },
           "bgcolor": "#E5ECF6",
           "radialaxis": {
            "gridcolor": "white",
            "linecolor": "white",
            "ticks": ""
           }
          },
          "scene": {
           "xaxis": {
            "backgroundcolor": "#E5ECF6",
            "gridcolor": "white",
            "gridwidth": 2,
            "linecolor": "white",
            "showbackground": true,
            "ticks": "",
            "zerolinecolor": "white"
           },
           "yaxis": {
            "backgroundcolor": "#E5ECF6",
            "gridcolor": "white",
            "gridwidth": 2,
            "linecolor": "white",
            "showbackground": true,
            "ticks": "",
            "zerolinecolor": "white"
           },
           "zaxis": {
            "backgroundcolor": "#E5ECF6",
            "gridcolor": "white",
            "gridwidth": 2,
            "linecolor": "white",
            "showbackground": true,
            "ticks": "",
            "zerolinecolor": "white"
           }
          },
          "shapedefaults": {
           "line": {
            "color": "#2a3f5f"
           }
          },
          "ternary": {
           "aaxis": {
            "gridcolor": "white",
            "linecolor": "white",
            "ticks": ""
           },
           "baxis": {
            "gridcolor": "white",
            "linecolor": "white",
            "ticks": ""
           },
           "bgcolor": "#E5ECF6",
           "caxis": {
            "gridcolor": "white",
            "linecolor": "white",
            "ticks": ""
           }
          },
          "title": {
           "x": 0.05
          },
          "xaxis": {
           "automargin": true,
           "gridcolor": "white",
           "linecolor": "white",
           "ticks": "",
           "title": {
            "standoff": 15
           },
           "zerolinecolor": "white",
           "zerolinewidth": 2
          },
          "yaxis": {
           "automargin": true,
           "gridcolor": "white",
           "linecolor": "white",
           "ticks": "",
           "title": {
            "standoff": 15
           },
           "zerolinecolor": "white",
           "zerolinewidth": 2
          }
         }
        },
        "xaxis": {
         "anchor": "y",
         "domain": [
          0,
          1
         ],
         "title": {
          "text": "year"
         }
        },
        "yaxis": {
         "anchor": "x",
         "domain": [
          0,
          1
         ],
         "title": {
          "text": "population of Canada"
         }
        }
       }
      },
      "text/html": [
       "<div>                            <div id=\"b7bdaebd-8630-48ec-995c-3b32b6ecddcc\" class=\"plotly-graph-div\" style=\"height:400px; width:100%;\"></div>            <script type=\"text/javascript\">                require([\"plotly\"], function(Plotly) {                    window.PLOTLYENV=window.PLOTLYENV || {};                                    if (document.getElementById(\"b7bdaebd-8630-48ec-995c-3b32b6ecddcc\")) {                    Plotly.newPlot(                        \"b7bdaebd-8630-48ec-995c-3b32b6ecddcc\",                        [{\"alignmentgroup\":\"True\",\"customdata\":[[68.75,11367.16112],[69.96,12489.95006],[71.3,13462.48555],[72.13,16076.58803],[72.88,18970.57086],[74.21,22090.88306],[75.76,22898.79214],[76.86,26626.51503],[77.95,26342.88426],[78.61,28954.92589],[79.77,33328.96507],[80.653,36319.23501]],\"hovertemplate\":\"year=%{x}<br>population of Canada=%{y}<br>lifeExp=%{marker.color}<br>gdpPercap=%{customdata[1]}<extra></extra>\",\"legendgroup\":\"\",\"marker\":{\"color\":[68.75,69.96,71.3,72.13,72.88,74.21,75.76,76.86,77.95,78.61,79.77,80.653],\"coloraxis\":\"coloraxis\",\"pattern\":{\"shape\":\"\"}},\"name\":\"\",\"offsetgroup\":\"\",\"orientation\":\"v\",\"showlegend\":false,\"textposition\":\"auto\",\"type\":\"bar\",\"x\":[1952,1957,1962,1967,1972,1977,1982,1987,1992,1997,2002,2007],\"xaxis\":\"x\",\"y\":[14785584,17010154,18985849,20819767,22284500,23796400,25201900,26549700,28523502,30305843,31902268,33390141],\"yaxis\":\"y\"}],                        {\"barmode\":\"relative\",\"coloraxis\":{\"colorbar\":{\"title\":{\"text\":\"lifeExp\"}},\"colorscale\":[[0.0,\"#0d0887\"],[0.1111111111111111,\"#46039f\"],[0.2222222222222222,\"#7201a8\"],[0.3333333333333333,\"#9c179e\"],[0.4444444444444444,\"#bd3786\"],[0.5555555555555556,\"#d8576b\"],[0.6666666666666666,\"#ed7953\"],[0.7777777777777778,\"#fb9f3a\"],[0.8888888888888888,\"#fdca26\"],[1.0,\"#f0f921\"]]},\"height\":400,\"legend\":{\"tracegroupgap\":0},\"margin\":{\"t\":60},\"template\":{\"data\":{\"bar\":[{\"error_x\":{\"color\":\"#2a3f5f\"},\"error_y\":{\"color\":\"#2a3f5f\"},\"marker\":{\"line\":{\"color\":\"#E5ECF6\",\"width\":0.5},\"pattern\":{\"fillmode\":\"overlay\",\"size\":10,\"solidity\":0.2}},\"type\":\"bar\"}],\"barpolar\":[{\"marker\":{\"line\":{\"color\":\"#E5ECF6\",\"width\":0.5},\"pattern\":{\"fillmode\":\"overlay\",\"size\":10,\"solidity\":0.2}},\"type\":\"barpolar\"}],\"carpet\":[{\"aaxis\":{\"endlinecolor\":\"#2a3f5f\",\"gridcolor\":\"white\",\"linecolor\":\"white\",\"minorgridcolor\":\"white\",\"startlinecolor\":\"#2a3f5f\"},\"baxis\":{\"endlinecolor\":\"#2a3f5f\",\"gridcolor\":\"white\",\"linecolor\":\"white\",\"minorgridcolor\":\"white\",\"startlinecolor\":\"#2a3f5f\"},\"type\":\"carpet\"}],\"choropleth\":[{\"colorbar\":{\"outlinewidth\":0,\"ticks\":\"\"},\"type\":\"choropleth\"}],\"contour\":[{\"colorbar\":{\"outlinewidth\":0,\"ticks\":\"\"},\"colorscale\":[[0.0,\"#0d0887\"],[0.1111111111111111,\"#46039f\"],[0.2222222222222222,\"#7201a8\"],[0.3333333333333333,\"#9c179e\"],[0.4444444444444444,\"#bd3786\"],[0.5555555555555556,\"#d8576b\"],[0.6666666666666666,\"#ed7953\"],[0.7777777777777778,\"#fb9f3a\"],[0.8888888888888888,\"#fdca26\"],[1.0,\"#f0f921\"]],\"type\":\"contour\"}],\"contourcarpet\":[{\"colorbar\":{\"outlinewidth\":0,\"ticks\":\"\"},\"type\":\"contourcarpet\"}],\"heatmap\":[{\"colorbar\":{\"outlinewidth\":0,\"ticks\":\"\"},\"colorscale\":[[0.0,\"#0d0887\"],[0.1111111111111111,\"#46039f\"],[0.2222222222222222,\"#7201a8\"],[0.3333333333333333,\"#9c179e\"],[0.4444444444444444,\"#bd3786\"],[0.5555555555555556,\"#d8576b\"],[0.6666666666666666,\"#ed7953\"],[0.7777777777777778,\"#fb9f3a\"],[0.8888888888888888,\"#fdca26\"],[1.0,\"#f0f921\"]],\"type\":\"heatmap\"}],\"heatmapgl\":[{\"colorbar\":{\"outlinewidth\":0,\"ticks\":\"\"},\"colorscale\":[[0.0,\"#0d0887\"],[0.1111111111111111,\"#46039f\"],[0.2222222222222222,\"#7201a8\"],[0.3333333333333333,\"#9c179e\"],[0.4444444444444444,\"#bd3786\"],[0.5555555555555556,\"#d8576b\"],[0.6666666666666666,\"#ed7953\"],[0.7777777777777778,\"#fb9f3a\"],[0.8888888888888888,\"#fdca26\"],[1.0,\"#f0f921\"]],\"type\":\"heatmapgl\"}],\"histogram\":[{\"marker\":{\"pattern\":{\"fillmode\":\"overlay\",\"size\":10,\"solidity\":0.2}},\"type\":\"histogram\"}],\"histogram2d\":[{\"colorbar\":{\"outlinewidth\":0,\"ticks\":\"\"},\"colorscale\":[[0.0,\"#0d0887\"],[0.1111111111111111,\"#46039f\"],[0.2222222222222222,\"#7201a8\"],[0.3333333333333333,\"#9c179e\"],[0.4444444444444444,\"#bd3786\"],[0.5555555555555556,\"#d8576b\"],[0.6666666666666666,\"#ed7953\"],[0.7777777777777778,\"#fb9f3a\"],[0.8888888888888888,\"#fdca26\"],[1.0,\"#f0f921\"]],\"type\":\"histogram2d\"}],\"histogram2dcontour\":[{\"colorbar\":{\"outlinewidth\":0,\"ticks\":\"\"},\"colorscale\":[[0.0,\"#0d0887\"],[0.1111111111111111,\"#46039f\"],[0.2222222222222222,\"#7201a8\"],[0.3333333333333333,\"#9c179e\"],[0.4444444444444444,\"#bd3786\"],[0.5555555555555556,\"#d8576b\"],[0.6666666666666666,\"#ed7953\"],[0.7777777777777778,\"#fb9f3a\"],[0.8888888888888888,\"#fdca26\"],[1.0,\"#f0f921\"]],\"type\":\"histogram2dcontour\"}],\"mesh3d\":[{\"colorbar\":{\"outlinewidth\":0,\"ticks\":\"\"},\"type\":\"mesh3d\"}],\"parcoords\":[{\"line\":{\"colorbar\":{\"outlinewidth\":0,\"ticks\":\"\"}},\"type\":\"parcoords\"}],\"pie\":[{\"automargin\":true,\"type\":\"pie\"}],\"scatter\":[{\"marker\":{\"colorbar\":{\"outlinewidth\":0,\"ticks\":\"\"}},\"type\":\"scatter\"}],\"scatter3d\":[{\"line\":{\"colorbar\":{\"outlinewidth\":0,\"ticks\":\"\"}},\"marker\":{\"colorbar\":{\"outlinewidth\":0,\"ticks\":\"\"}},\"type\":\"scatter3d\"}],\"scattercarpet\":[{\"marker\":{\"colorbar\":{\"outlinewidth\":0,\"ticks\":\"\"}},\"type\":\"scattercarpet\"}],\"scattergeo\":[{\"marker\":{\"colorbar\":{\"outlinewidth\":0,\"ticks\":\"\"}},\"type\":\"scattergeo\"}],\"scattergl\":[{\"marker\":{\"colorbar\":{\"outlinewidth\":0,\"ticks\":\"\"}},\"type\":\"scattergl\"}],\"scattermapbox\":[{\"marker\":{\"colorbar\":{\"outlinewidth\":0,\"ticks\":\"\"}},\"type\":\"scattermapbox\"}],\"scatterpolar\":[{\"marker\":{\"colorbar\":{\"outlinewidth\":0,\"ticks\":\"\"}},\"type\":\"scatterpolar\"}],\"scatterpolargl\":[{\"marker\":{\"colorbar\":{\"outlinewidth\":0,\"ticks\":\"\"}},\"type\":\"scatterpolargl\"}],\"scatterternary\":[{\"marker\":{\"colorbar\":{\"outlinewidth\":0,\"ticks\":\"\"}},\"type\":\"scatterternary\"}],\"surface\":[{\"colorbar\":{\"outlinewidth\":0,\"ticks\":\"\"},\"colorscale\":[[0.0,\"#0d0887\"],[0.1111111111111111,\"#46039f\"],[0.2222222222222222,\"#7201a8\"],[0.3333333333333333,\"#9c179e\"],[0.4444444444444444,\"#bd3786\"],[0.5555555555555556,\"#d8576b\"],[0.6666666666666666,\"#ed7953\"],[0.7777777777777778,\"#fb9f3a\"],[0.8888888888888888,\"#fdca26\"],[1.0,\"#f0f921\"]],\"type\":\"surface\"}],\"table\":[{\"cells\":{\"fill\":{\"color\":\"#EBF0F8\"},\"line\":{\"color\":\"white\"}},\"header\":{\"fill\":{\"color\":\"#C8D4E3\"},\"line\":{\"color\":\"white\"}},\"type\":\"table\"}]},\"layout\":{\"annotationdefaults\":{\"arrowcolor\":\"#2a3f5f\",\"arrowhead\":0,\"arrowwidth\":1},\"autotypenumbers\":\"strict\",\"coloraxis\":{\"colorbar\":{\"outlinewidth\":0,\"ticks\":\"\"}},\"colorscale\":{\"diverging\":[[0,\"#8e0152\"],[0.1,\"#c51b7d\"],[0.2,\"#de77ae\"],[0.3,\"#f1b6da\"],[0.4,\"#fde0ef\"],[0.5,\"#f7f7f7\"],[0.6,\"#e6f5d0\"],[0.7,\"#b8e186\"],[0.8,\"#7fbc41\"],[0.9,\"#4d9221\"],[1,\"#276419\"]],\"sequential\":[[0.0,\"#0d0887\"],[0.1111111111111111,\"#46039f\"],[0.2222222222222222,\"#7201a8\"],[0.3333333333333333,\"#9c179e\"],[0.4444444444444444,\"#bd3786\"],[0.5555555555555556,\"#d8576b\"],[0.6666666666666666,\"#ed7953\"],[0.7777777777777778,\"#fb9f3a\"],[0.8888888888888888,\"#fdca26\"],[1.0,\"#f0f921\"]],\"sequentialminus\":[[0.0,\"#0d0887\"],[0.1111111111111111,\"#46039f\"],[0.2222222222222222,\"#7201a8\"],[0.3333333333333333,\"#9c179e\"],[0.4444444444444444,\"#bd3786\"],[0.5555555555555556,\"#d8576b\"],[0.6666666666666666,\"#ed7953\"],[0.7777777777777778,\"#fb9f3a\"],[0.8888888888888888,\"#fdca26\"],[1.0,\"#f0f921\"]]},\"colorway\":[\"#636efa\",\"#EF553B\",\"#00cc96\",\"#ab63fa\",\"#FFA15A\",\"#19d3f3\",\"#FF6692\",\"#B6E880\",\"#FF97FF\",\"#FECB52\"],\"font\":{\"color\":\"#2a3f5f\"},\"geo\":{\"bgcolor\":\"white\",\"lakecolor\":\"white\",\"landcolor\":\"#E5ECF6\",\"showlakes\":true,\"showland\":true,\"subunitcolor\":\"white\"},\"hoverlabel\":{\"align\":\"left\"},\"hovermode\":\"closest\",\"mapbox\":{\"style\":\"light\"},\"paper_bgcolor\":\"white\",\"plot_bgcolor\":\"#E5ECF6\",\"polar\":{\"angularaxis\":{\"gridcolor\":\"white\",\"linecolor\":\"white\",\"ticks\":\"\"},\"bgcolor\":\"#E5ECF6\",\"radialaxis\":{\"gridcolor\":\"white\",\"linecolor\":\"white\",\"ticks\":\"\"}},\"scene\":{\"xaxis\":{\"backgroundcolor\":\"#E5ECF6\",\"gridcolor\":\"white\",\"gridwidth\":2,\"linecolor\":\"white\",\"showbackground\":true,\"ticks\":\"\",\"zerolinecolor\":\"white\"},\"yaxis\":{\"backgroundcolor\":\"#E5ECF6\",\"gridcolor\":\"white\",\"gridwidth\":2,\"linecolor\":\"white\",\"showbackground\":true,\"ticks\":\"\",\"zerolinecolor\":\"white\"},\"zaxis\":{\"backgroundcolor\":\"#E5ECF6\",\"gridcolor\":\"white\",\"gridwidth\":2,\"linecolor\":\"white\",\"showbackground\":true,\"ticks\":\"\",\"zerolinecolor\":\"white\"}},\"shapedefaults\":{\"line\":{\"color\":\"#2a3f5f\"}},\"ternary\":{\"aaxis\":{\"gridcolor\":\"white\",\"linecolor\":\"white\",\"ticks\":\"\"},\"baxis\":{\"gridcolor\":\"white\",\"linecolor\":\"white\",\"ticks\":\"\"},\"bgcolor\":\"#E5ECF6\",\"caxis\":{\"gridcolor\":\"white\",\"linecolor\":\"white\",\"ticks\":\"\"}},\"title\":{\"x\":0.05},\"xaxis\":{\"automargin\":true,\"gridcolor\":\"white\",\"linecolor\":\"white\",\"ticks\":\"\",\"title\":{\"standoff\":15},\"zerolinecolor\":\"white\",\"zerolinewidth\":2},\"yaxis\":{\"automargin\":true,\"gridcolor\":\"white\",\"linecolor\":\"white\",\"ticks\":\"\",\"title\":{\"standoff\":15},\"zerolinecolor\":\"white\",\"zerolinewidth\":2}}},\"xaxis\":{\"anchor\":\"y\",\"domain\":[0.0,1.0],\"title\":{\"text\":\"year\"}},\"yaxis\":{\"anchor\":\"x\",\"domain\":[0.0,1.0],\"title\":{\"text\":\"population of Canada\"}}},                        {\"responsive\": true}                    ).then(function(){\n",
       "                            \n",
       "var gd = document.getElementById('b7bdaebd-8630-48ec-995c-3b32b6ecddcc');\n",
       "var x = new MutationObserver(function (mutations, observer) {{\n",
       "        var display = window.getComputedStyle(gd).display;\n",
       "        if (!display || display === 'none') {{\n",
       "            console.log([gd, 'removed!']);\n",
       "            Plotly.purge(gd);\n",
       "            observer.disconnect();\n",
       "        }}\n",
       "}});\n",
       "\n",
       "// Listen for the removal of the full notebook cells\n",
       "var notebookContainer = gd.closest('#notebook-container');\n",
       "if (notebookContainer) {{\n",
       "    x.observe(notebookContainer, {childList: true});\n",
       "}}\n",
       "\n",
       "// Listen for the clearing of the current output cell\n",
       "var outputEl = gd.closest('.output');\n",
       "if (outputEl) {{\n",
       "    x.observe(outputEl, {childList: true});\n",
       "}}\n",
       "\n",
       "                        })                };                });            </script>        </div>"
      ]
     },
     "metadata": {},
     "output_type": "display_data"
    }
   ],
   "source": [
    "df = px.data.gapminder().query(\"country == 'Canada'\")\n",
    "fig = px.bar(df, x='year', y='pop',\n",
    "             hover_data=['lifeExp', 'gdpPercap'], color='lifeExp',\n",
    "             labels={'pop':'population of Canada'}, height=400)\n",
    "fig.show()"
   ]
  },
  {
   "cell_type": "code",
   "execution_count": 29,
   "id": "488b5ac3",
   "metadata": {},
   "outputs": [
    {
     "ename": "AttributeError",
     "evalue": "'AxesSubplot' object has no attribute 'subplots'",
     "output_type": "error",
     "traceback": [
      "\u001b[0;31m---------------------------------------------------------------------------\u001b[0m",
      "\u001b[0;31mAttributeError\u001b[0m                            Traceback (most recent call last)",
      "Input \u001b[0;32mIn [29]\u001b[0m, in \u001b[0;36m<cell line: 1>\u001b[0;34m()\u001b[0m\n\u001b[0;32m----> 1\u001b[0m fig, px \u001b[38;5;241m=\u001b[39m \u001b[43mpx\u001b[49m\u001b[38;5;241;43m.\u001b[39;49m\u001b[43msubplots\u001b[49m(figsize \u001b[38;5;241m=\u001b[39m (\u001b[38;5;241m14\u001b[39m,\u001b[38;5;241m6\u001b[39m))\n\u001b[1;32m      2\u001b[0m px\u001b[38;5;241m.\u001b[39mbar(x\u001b[38;5;241m=\u001b[39m to_1D(df_subperb_rating[\u001b[38;5;124m\"\u001b[39m\u001b[38;5;124mplayer_perspectives\u001b[39m\u001b[38;5;124m\"\u001b[39m])\u001b[38;5;241m.\u001b[39mvalue_counts()\u001b[38;5;241m.\u001b[39miloc[:\u001b[38;5;241m4\u001b[39m]\u001b[38;5;241m.\u001b[39mindex,\n\u001b[1;32m      3\u001b[0m         y \u001b[38;5;241m=\u001b[39m to_1D(df_subperb_rating[\u001b[38;5;124m\"\u001b[39m\u001b[38;5;124mplayer_perspectives\u001b[39m\u001b[38;5;124m\"\u001b[39m])\u001b[38;5;241m.\u001b[39mvalue_counts()\u001b[38;5;241m.\u001b[39miloc[:\u001b[38;5;241m4\u001b[39m]\u001b[38;5;241m.\u001b[39mvalues,\n\u001b[1;32m      4\u001b[0m          color\u001b[38;5;241m=\u001b[39m [\u001b[38;5;124m'\u001b[39m\u001b[38;5;124mpurple\u001b[39m\u001b[38;5;124m'\u001b[39m])\n\u001b[1;32m      5\u001b[0m px\u001b[38;5;241m.\u001b[39mset_ylabel(\u001b[38;5;124m\"\u001b[39m\u001b[38;5;124mFrequency\u001b[39m\u001b[38;5;124m\"\u001b[39m, size \u001b[38;5;241m=\u001b[39m \u001b[38;5;241m20\u001b[39m)\n",
      "\u001b[0;31mAttributeError\u001b[0m: 'AxesSubplot' object has no attribute 'subplots'"
     ]
    }
   ],
   "source": [
    "fig, px = px.subplots(figsize = (14,6))\n",
    "\n",
    "px.bar(x= to_1D(df_subperb_rating[\"player_perspectives\"]).value_counts().iloc[:4].index,\n",
    "        y = to_1D(df_subperb_rating[\"player_perspectives\"]).value_counts().iloc[:4].values,\n",
    "         color= ['purple'])\n",
    "px.set_ylabel(\"Frequency\", size = 20)\n",
    "px.set_title(\"Most common Genre in Superb Games\", size = 20)"
   ]
  },
  {
   "cell_type": "code",
   "execution_count": null,
   "id": "61ca775e",
   "metadata": {},
   "outputs": [],
   "source": []
  }
 ],
 "metadata": {
  "kernelspec": {
   "display_name": "Python 3 (ipykernel)",
   "language": "python",
   "name": "python3"
  },
  "language_info": {
   "codemirror_mode": {
    "name": "ipython",
    "version": 3
   },
   "file_extension": ".py",
   "mimetype": "text/x-python",
   "name": "python",
   "nbconvert_exporter": "python",
   "pygments_lexer": "ipython3",
   "version": "3.9.12"
  }
 },
 "nbformat": 4,
 "nbformat_minor": 5
}
