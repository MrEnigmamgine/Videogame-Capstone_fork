{
 "cells": [
  {
   "cell_type": "code",
   "execution_count": null,
   "id": "756e2b8e",
   "metadata": {},
   "outputs": [],
   "source": [
    "import requests\n",
    "import env\n",
    "from requests.models import Request, Response\n",
    "from env import Client_ID\n",
    "import pandas as pd\n",
    "from igdb.igdbapi_pb2 import GameResult\n",
    "from typing import Dict, List, Optional, Union, cast\n",
    "import acquire\n",
    "import json\n",
    "from igdb.wrapper import IGDBWrapper"
   ]
  },
  {
   "cell_type": "markdown",
   "id": "86d5eb2a",
   "metadata": {},
   "source": [
    "### Connect to API and scrape the data needed\n",
    "#### get the access token and 200 response "
   ]
  },
  {
   "cell_type": "code",
   "execution_count": null,
   "id": "b019b251",
   "metadata": {},
   "outputs": [],
   "source": [
    "def get_api():   \n",
    "    url = env.get_db_url()\n",
    "    response = requests.post(url)\n",
    "    data = response.json()\n",
    "    access_token = data['access_token']\n",
    "    headers = {'Client-ID': f'{Client_ID}', 'Authorization': f'Bearer {access_token}'}\n",
    "    data = 'fields *;'\n",
    "    r = requests.post('https://api.igdb.com/v4/games', data=data, headers=headers)\n",
    "    return access_token, r"
   ]
  },
  {
   "cell_type": "code",
   "execution_count": null,
   "id": "bdc02b3a",
   "metadata": {},
   "outputs": [],
   "source": [
    "access_token = acquire.connect_api()"
   ]
  },
  {
   "cell_type": "code",
   "execution_count": null,
   "id": "5f4d286c",
   "metadata": {},
   "outputs": [],
   "source": [
    "#access_token"
   ]
  },
  {
   "cell_type": "code",
   "execution_count": null,
   "id": "41cd1d2e",
   "metadata": {},
   "outputs": [],
   "source": [
    "tf = acquire.connect_to_games()"
   ]
  },
  {
   "cell_type": "code",
   "execution_count": null,
   "id": "74faf77c",
   "metadata": {},
   "outputs": [],
   "source": [
    "tf"
   ]
  },
  {
   "cell_type": "code",
   "execution_count": null,
   "id": "2cf01ac8",
   "metadata": {},
   "outputs": [],
   "source": [
    "wrapper = acquire.run_wrapper()"
   ]
  },
  {
   "cell_type": "code",
   "execution_count": null,
   "id": "7be8e418",
   "metadata": {},
   "outputs": [],
   "source": [
    "wrapper"
   ]
  },
  {
   "cell_type": "code",
   "execution_count": null,
   "id": "ef9aa9ab",
   "metadata": {},
   "outputs": [],
   "source": [
    "game_library = acquire.get_game_library(wrapper)\n",
    "game_library.head()"
   ]
  },
  {
   "cell_type": "code",
   "execution_count": null,
   "id": "f1db810c",
   "metadata": {},
   "outputs": [],
   "source": [
    "#df.platforms.tail(10).values[0]"
   ]
  },
  {
   "cell_type": "markdown",
   "id": "245d0954",
   "metadata": {},
   "source": [
    "## scraping endpoints\n",
    "### scrape the end points of each category "
   ]
  },
  {
   "cell_type": "markdown",
   "id": "485d64df",
   "metadata": {},
   "source": [
    "### platform_families"
   ]
  },
  {
   "cell_type": "code",
   "execution_count": null,
   "id": "83d42a29",
   "metadata": {},
   "outputs": [],
   "source": [
    "def get_platform_families():\n",
    "    headers = {'Client-ID': f'{Client_ID}', 'Authorization': f'Bearer {access_token}'}\n",
    "    data = 'fields *; '\n",
    "    r = requests.post('https://api.igdb.com/v4/platform_families' ,data=data ,  headers=headers)\n",
    "    platform_families = wrapper.api_request('platform_families', 'fields *;limit 500;')\n",
    "    x = json.loads(platform_families)\n",
    "    platform_families =pd.DataFrame(x)\n",
    "    return platform_families"
   ]
  },
  {
   "cell_type": "code",
   "execution_count": null,
   "id": "be24dc51",
   "metadata": {},
   "outputs": [],
   "source": [
    "platform_families = get_platform_families()\n",
    "platform_families.head()"
   ]
  },
  {
   "cell_type": "markdown",
   "id": "3a460323",
   "metadata": {},
   "source": [
    "### platform_version_release_dates"
   ]
  },
  {
   "cell_type": "code",
   "execution_count": null,
   "id": "032c7c0d",
   "metadata": {},
   "outputs": [],
   "source": [
    "def get_platform_version_release():\n",
    "    headers = {'Client-ID': f'{Client_ID}', 'Authorization': f'Bearer {access_token}'}\n",
    "    data = 'fields *; '\n",
    "    r = requests.post('https://api.igdb.com/v4/platform_version_release_dates' ,data=data ,  headers=headers)\n",
    "    platform_version_release_dates = wrapper.api_request('platform_version_release_dates', 'fields *;limit 500;')\n",
    "    x = json.loads(platform_version_release_dates)\n",
    "    platform_version_release_dates =pd.DataFrame(x)\n",
    "    return platform_version_release_dates"
   ]
  },
  {
   "cell_type": "code",
   "execution_count": null,
   "id": "ac0a6e2f",
   "metadata": {
    "scrolled": true
   },
   "outputs": [],
   "source": [
    "platform_version_release_dates = get_platform_version_release()\n",
    "platform_version_release_dates"
   ]
  },
  {
   "cell_type": "code",
   "execution_count": null,
   "id": "4ba07f8a",
   "metadata": {},
   "outputs": [],
   "source": [
    "# drop columns not needed\n",
    "platform_version_release_dates = platform_version_release_dates.drop(columns=['category', 'date', 'm', 'y', 'region', 'updated_at', 'checksum', 'updated_at'])\n",
    "platform_version_release_dates.head()\n"
   ]
  },
  {
   "cell_type": "code",
   "execution_count": null,
   "id": "3f990a3a",
   "metadata": {},
   "outputs": [],
   "source": [
    "#df.head()"
   ]
  },
  {
   "cell_type": "code",
   "execution_count": null,
   "id": "88ebff77",
   "metadata": {},
   "outputs": [],
   "source": [
    "# version_dates_dict[9] = 'not_available'\n",
    "# version_dates_dict[384] = 'not_available'\n",
    "# version_dates_dict[386] = 'not_available'\n"
   ]
  },
  {
   "cell_type": "code",
   "execution_count": null,
   "id": "5621dce6",
   "metadata": {},
   "outputs": [],
   "source": [
    "# version_dates_list = platform_version_release_dates[['game' , 'human']].sort_values(by='game').reset_index(drop=True)\n",
    "# version_dates_dict = platform_version_release_dates.set_index('game').to_dict()['human']"
   ]
  },
  {
   "cell_type": "code",
   "execution_count": null,
   "id": "a6da81f7",
   "metadata": {},
   "outputs": [],
   "source": [
    "def test_funct3(random_list):\n",
    "    if type(random_list) == list:\n",
    "        return [version_dates_dict[i] for i in random_list]\n",
    "    else:  \n",
    "        return [\"Not available\"]"
   ]
  },
  {
   "cell_type": "code",
   "execution_count": null,
   "id": "0bc1f5fe",
   "metadata": {},
   "outputs": [],
   "source": [
    "# platforms.set_index('Locality', inplace=True)\n",
    "# data.set_index('Locality', inplace=True)\n"
   ]
  },
  {
   "cell_type": "code",
   "execution_count": null,
   "id": "e39acb5c",
   "metadata": {},
   "outputs": [],
   "source": [
    "# df['release_dates'] = df.release_dates.apply(test_funct3)\n",
    "# df.head()"
   ]
  },
  {
   "cell_type": "code",
   "execution_count": null,
   "id": "35f8212f",
   "metadata": {},
   "outputs": [],
   "source": [
    "# all_release_dates = pd.merge(release_dates, platform_version_release_dates, how = 'inner', on=\"human\")"
   ]
  },
  {
   "cell_type": "code",
   "execution_count": null,
   "id": "ec0a6d8e",
   "metadata": {},
   "outputs": [],
   "source": [
    "# #pd.set_option('display.max_rows', 500)\n",
    "# pd.set_option('display.max_columns', 500)\n",
    "# pd.set_option('display.width', 1000)\n",
    "# df.head()"
   ]
  },
  {
   "cell_type": "markdown",
   "id": "27b593c8",
   "metadata": {},
   "source": [
    "### platform_version_companies"
   ]
  },
  {
   "cell_type": "code",
   "execution_count": null,
   "id": "604c0139",
   "metadata": {},
   "outputs": [],
   "source": [
    "def get_platform_version_companies():\n",
    "    headers = {'Client-ID': f'{Client_ID}', 'Authorization': f'Bearer {access_token}'}\n",
    "    data = 'fields *; '\n",
    "    r = requests.post('https://api.igdb.com/v4/platform_version_companies' ,data=data ,  headers=headers)\n",
    "    platform_version_companies = wrapper.api_request('platform_version_companies', 'fields *;limit 500;')\n",
    "    x = json.loads(platform_version_companies)\n",
    "    platform_version_companies =pd.DataFrame(x)\n",
    "    return platform_version_companies"
   ]
  },
  {
   "cell_type": "code",
   "execution_count": null,
   "id": "50415545",
   "metadata": {},
   "outputs": [],
   "source": [
    "platform_version_companies=get_platform_version_companies()\n",
    "platform_version_companies.head()"
   ]
  },
  {
   "cell_type": "markdown",
   "id": "933f868d",
   "metadata": {},
   "source": [
    "### platforms (use this)"
   ]
  },
  {
   "cell_type": "code",
   "execution_count": null,
   "id": "81c1abfb",
   "metadata": {},
   "outputs": [],
   "source": [
    "def get_platforms():\n",
    "    headers = {'Client-ID': f'{Client_ID}', 'Authorization': f'Bearer {access_token}'}\n",
    "    data = 'fields *; '\n",
    "    r = requests.post('https://api.igdb.com/v4/platforms' ,data=data ,  headers=headers)\n",
    "    platforms = wrapper.api_request('platforms', 'fields *;limit 500;')\n",
    "    x = json.loads(platforms)\n",
    "    platforms =pd.DataFrame(x)\n",
    "    return platforms"
   ]
  },
  {
   "cell_type": "code",
   "execution_count": null,
   "id": "ba7e2d96",
   "metadata": {},
   "outputs": [],
   "source": [
    "platform = get_platforms()\n",
    "platform.shape"
   ]
  },
  {
   "cell_type": "code",
   "execution_count": null,
   "id": "be3c3fa4",
   "metadata": {},
   "outputs": [],
   "source": [
    "platform.head()"
   ]
  },
  {
   "cell_type": "code",
   "execution_count": null,
   "id": "97d85d39",
   "metadata": {},
   "outputs": [],
   "source": [
    "# see if there is a number in id that matches the big df\n",
    "platform.loc[platform['id'] == 5]"
   ]
  },
  {
   "cell_type": "code",
   "execution_count": null,
   "id": "71a11ccc",
   "metadata": {},
   "outputs": [],
   "source": [
    "platform = platform.drop(columns=['alternative_name', 'category', 'created_at', 'platform_logo', 'updated_at', 'url', 'checksum', 'versions', 'websites', 'generation', 'platform_family', 'abbreviation', 'summary'])\n",
    "platform.head()\n"
   ]
  },
  {
   "cell_type": "code",
   "execution_count": null,
   "id": "4c3d3d95",
   "metadata": {},
   "outputs": [],
   "source": [
    "# looking at the dictionary\n",
    "print(game_library.get(92, \"Not found\"))"
   ]
  },
  {
   "cell_type": "code",
   "execution_count": null,
   "id": "d6ab0b55",
   "metadata": {
    "scrolled": true
   },
   "outputs": [],
   "source": [
    "game_library.platforms.iloc[2]"
   ]
  },
  {
   "cell_type": "code",
   "execution_count": null,
   "id": "24acc625",
   "metadata": {},
   "outputs": [],
   "source": [
    "platformlist = platform[['id' , 'name']].sort_values(by='id').reset_index(drop=True)\n"
   ]
  },
  {
   "cell_type": "code",
   "execution_count": null,
   "id": "e76c2f03",
   "metadata": {},
   "outputs": [],
   "source": [
    "platform_dict = platformlist.set_index('id').to_dict()['name']"
   ]
  },
  {
   "cell_type": "code",
   "execution_count": null,
   "id": "fdb8b595",
   "metadata": {},
   "outputs": [],
   "source": [
    "platform_dict[92] = 'not_available'"
   ]
  },
  {
   "cell_type": "code",
   "execution_count": null,
   "id": "b8511d51",
   "metadata": {},
   "outputs": [],
   "source": [
    "platform_dict['0'] = 'not_available'"
   ]
  },
  {
   "cell_type": "code",
   "execution_count": null,
   "id": "af240c92",
   "metadata": {},
   "outputs": [],
   "source": [
    "import numpy as np\n",
    "platform.head()"
   ]
  },
  {
   "cell_type": "code",
   "execution_count": null,
   "id": "a7abde3f",
   "metadata": {},
   "outputs": [],
   "source": [
    "platform_dict"
   ]
  },
  {
   "cell_type": "code",
   "execution_count": null,
   "id": "5463f812",
   "metadata": {},
   "outputs": [],
   "source": [
    "def test_funct(random_list):\n",
    "    if type(random_list) == list:\n",
    "        return [platform_dict[i] for i in random_list]\n",
    "    else:  \n",
    "        return [\"Not available\"]"
   ]
  },
  {
   "cell_type": "code",
   "execution_count": null,
   "id": "7594e844",
   "metadata": {},
   "outputs": [],
   "source": [
    "print(platform.get('id', \"Not found\"))"
   ]
  },
  {
   "cell_type": "code",
   "execution_count": null,
   "id": "eeed7823",
   "metadata": {},
   "outputs": [],
   "source": [
    "# df.platforms.info(10)"
   ]
  },
  {
   "cell_type": "code",
   "execution_count": null,
   "id": "d5c1eb31",
   "metadata": {
    "scrolled": true
   },
   "outputs": [],
   "source": [
    "game_library['platforms'] = game_library.platforms.apply(test_funct)\n",
    "game_library.head()"
   ]
  },
  {
   "cell_type": "code",
   "execution_count": null,
   "id": "2c4e1566",
   "metadata": {
    "scrolled": true
   },
   "outputs": [],
   "source": [
    "game_library.loc[game_library['platforms'] == '3ds']"
   ]
  },
  {
   "cell_type": "code",
   "execution_count": null,
   "id": "b54f0525",
   "metadata": {},
   "outputs": [],
   "source": [
    "game_library.loc[game_library['platforms'].notnull()]"
   ]
  },
  {
   "cell_type": "markdown",
   "id": "ad12ddfe",
   "metadata": {},
   "source": [
    "### release_dates"
   ]
  },
  {
   "cell_type": "code",
   "execution_count": null,
   "id": "fc3d5322",
   "metadata": {},
   "outputs": [],
   "source": [
    "def get_release_dates():\n",
    "    headers = {'Client-ID': f'{Client_ID}', 'Authorization': f'Bearer {access_token}'}\n",
    "    data = 'fields *; '\n",
    "    r = requests.post('https://api.igdb.com/v4/release_dates' ,data=data ,  headers=headers)\n",
    "    release_dates = wrapper.api_request('release_dates', 'fields *;limit 500;')\n",
    "    x = json.loads(release_dates)\n",
    "    release_dates =pd.DataFrame(x)\n",
    "    return release_dates"
   ]
  },
  {
   "cell_type": "code",
   "execution_count": null,
   "id": "f9846064",
   "metadata": {},
   "outputs": [],
   "source": [
    "release_dates = get_release_dates()\n",
    "release_dates.shape"
   ]
  },
  {
   "cell_type": "code",
   "execution_count": null,
   "id": "ce5a6853",
   "metadata": {},
   "outputs": [],
   "source": [
    "release_dates = release_dates.drop(columns=['category', 'date', 'm', 'region', 'updated_at', 'y', 'checksum', 'created_at', 'platform'])\n",
    "release_dates.head()"
   ]
  },
  {
   "cell_type": "code",
   "execution_count": null,
   "id": "3aa68ca6",
   "metadata": {},
   "outputs": [],
   "source": [
    "release_dates"
   ]
  },
  {
   "cell_type": "code",
   "execution_count": null,
   "id": "d3b36517",
   "metadata": {},
   "outputs": [],
   "source": [
    "# add to dictionary\n",
    "# release_dict[91007] = \"not-available\"\n",
    "# release_dict[138333] = \"not-available\"\n",
    "# release_dict[188385] = \"not-available\"\n",
    "# release_dict[213594] = \"not-available\"\n",
    "# release_dict[77755] = \"not-available\"\n"
   ]
  },
  {
   "cell_type": "code",
   "execution_count": null,
   "id": "93413d80",
   "metadata": {},
   "outputs": [],
   "source": [
    "releaselist = release_dates[['game' , 'human']].sort_values(by='game').reset_index(drop=True)\n",
    "release_dict = releaselist.set_index('game').to_dict()['human']"
   ]
  },
  {
   "cell_type": "code",
   "execution_count": null,
   "id": "6a0767e4",
   "metadata": {},
   "outputs": [],
   "source": [
    "release_dates.head()"
   ]
  },
  {
   "cell_type": "code",
   "execution_count": null,
   "id": "40b30760",
   "metadata": {},
   "outputs": [],
   "source": [
    "def test_funct2(random_list):\n",
    "    if type(random_list) == list:\n",
    "        return [release_dict[i] for i in random_list]\n",
    "    else:  \n",
    "        return [\"Not available\"]"
   ]
  },
  {
   "cell_type": "code",
   "execution_count": null,
   "id": "c10b45b6",
   "metadata": {},
   "outputs": [],
   "source": [
    "release_dict"
   ]
  },
  {
   "cell_type": "code",
   "execution_count": null,
   "id": "9726da44",
   "metadata": {},
   "outputs": [],
   "source": [
    "game_library.release_dates.head()"
   ]
  },
  {
   "cell_type": "code",
   "execution_count": null,
   "id": "77212a08",
   "metadata": {},
   "outputs": [],
   "source": [
    "# game_library['release_dates'] = pd.DataFrame(game_library.release_dates.apply(test_funct2))\n",
    "# game_library"
   ]
  },
  {
   "cell_type": "code",
   "execution_count": null,
   "id": "cfc9e3a6",
   "metadata": {},
   "outputs": [],
   "source": [
    "release_dict"
   ]
  },
  {
   "cell_type": "code",
   "execution_count": null,
   "id": "8c120388",
   "metadata": {},
   "outputs": [],
   "source": [
    "# add 0 and description to dictionary\n",
    "release_dict[\"0\"] = \"not-available\""
   ]
  },
  {
   "cell_type": "markdown",
   "id": "d5f4acf9",
   "metadata": {},
   "source": [
    "### platform_versions"
   ]
  },
  {
   "cell_type": "code",
   "execution_count": null,
   "id": "6475eaa8",
   "metadata": {},
   "outputs": [],
   "source": [
    "def get_platform_versions():\n",
    "    headers = {'Client-ID': f'{Client_ID}', 'Authorization': f'Bearer {access_token}'}\n",
    "    data = 'fields *; '\n",
    "    r = requests.post('https://api.igdb.com/v4/platform_versions' ,data=data ,  headers=headers)\n",
    "    platform_versions = wrapper.api_request('platform_versions', 'fields *;limit 500;')\n",
    "    x = json.loads(platform_versions)\n",
    "    platform_versions=pd.DataFrame(x)\n",
    "    return platform_versions"
   ]
  },
  {
   "cell_type": "code",
   "execution_count": null,
   "id": "0d583836",
   "metadata": {},
   "outputs": [],
   "source": [
    "platform_versions = get_platform_versions()\n",
    "platform_versions.shape"
   ]
  },
  {
   "cell_type": "code",
   "execution_count": null,
   "id": "43f71e27",
   "metadata": {},
   "outputs": [],
   "source": [
    "platform_versions.head()"
   ]
  },
  {
   "cell_type": "code",
   "execution_count": null,
   "id": "9256782b",
   "metadata": {},
   "outputs": [],
   "source": [
    "#df.columns"
   ]
  },
  {
   "cell_type": "markdown",
   "id": "cb4085cc",
   "metadata": {},
   "source": [
    "### player_perspectives (use this)"
   ]
  },
  {
   "cell_type": "code",
   "execution_count": null,
   "id": "5febd14b",
   "metadata": {},
   "outputs": [],
   "source": [
    "def get_player_perspectives():\n",
    "    headers = {'Client-ID': f'{Client_ID}', 'Authorization': f'Bearer {access_token}'}\n",
    "    data = 'fields *; '\n",
    "    r = requests.post('https://api.igdb.com/v4/player_perspectives' ,data=data ,  headers=headers)\n",
    "    player_perspectives = wrapper.api_request('player_perspectives', 'fields *;limit 500;')\n",
    "    x = json.loads(player_perspectives)\n",
    "    player_perspectives=pd.DataFrame(x)\n",
    "    return player_perspectives"
   ]
  },
  {
   "cell_type": "code",
   "execution_count": null,
   "id": "0b27f62a",
   "metadata": {},
   "outputs": [],
   "source": [
    "player_perspectives = get_player_perspectives()\n",
    "player_perspectives.shape"
   ]
  },
  {
   "cell_type": "code",
   "execution_count": null,
   "id": "2b795107",
   "metadata": {},
   "outputs": [],
   "source": [
    "player_perspectives.head()"
   ]
  },
  {
   "cell_type": "code",
   "execution_count": null,
   "id": "8496ce97",
   "metadata": {},
   "outputs": [],
   "source": [
    "player_perspectives = player_perspectives.drop(columns=['created_at','updated_at', 'url', 'checksum'])\n",
    "player_perspectives.head()\n"
   ]
  },
  {
   "cell_type": "code",
   "execution_count": null,
   "id": "d485a7dc",
   "metadata": {},
   "outputs": [],
   "source": [
    "player_perspectives_list = player_perspectives[['id' , 'name']].sort_values(by='id').reset_index(drop=True)\n",
    "player_perspectives_dict = player_perspectives.set_index('id').to_dict()['name']"
   ]
  },
  {
   "cell_type": "code",
   "execution_count": null,
   "id": "9aa191d6",
   "metadata": {},
   "outputs": [],
   "source": [
    "def test_funct4(random_list):\n",
    "    if type(random_list) == list:\n",
    "        return [player_perspectives_dict[i] for i in random_list]\n",
    "    else:  \n",
    "        return [\"Not available\"]"
   ]
  },
  {
   "cell_type": "code",
   "execution_count": null,
   "id": "9ad93617",
   "metadata": {},
   "outputs": [],
   "source": [
    "game_library['player_perspectives'] = pd.DataFrame(game_library.player_perspectives.apply(test_funct4))\n",
    "game_library.head()"
   ]
  },
  {
   "cell_type": "code",
   "execution_count": null,
   "id": "16baf7f1",
   "metadata": {},
   "outputs": [],
   "source": [
    "game_library.columns"
   ]
  },
  {
   "cell_type": "markdown",
   "id": "e580653a",
   "metadata": {},
   "source": [
    "### themes (use this)"
   ]
  },
  {
   "cell_type": "code",
   "execution_count": null,
   "id": "28e005b1",
   "metadata": {},
   "outputs": [],
   "source": [
    "def get_themes():\n",
    "    headers = {'Client-ID': f'{Client_ID}', 'Authorization': f'Bearer {access_token}'}\n",
    "    data = 'fields *; '\n",
    "    r = requests.post('https://api.igdb.com/v4/themes' ,data=data ,  headers=headers)\n",
    "    themes = wrapper.api_request('themes', 'fields *;limit 500;')\n",
    "    x = json.loads(themes)\n",
    "    themes=pd.DataFrame(x)\n",
    "    return themes"
   ]
  },
  {
   "cell_type": "code",
   "execution_count": null,
   "id": "2162186d",
   "metadata": {},
   "outputs": [],
   "source": [
    "themes = get_themes()\n",
    "themes.shape"
   ]
  },
  {
   "cell_type": "code",
   "execution_count": null,
   "id": "199c2a6c",
   "metadata": {},
   "outputs": [],
   "source": [
    "themes.head()"
   ]
  },
  {
   "cell_type": "code",
   "execution_count": null,
   "id": "61877dfd",
   "metadata": {},
   "outputs": [],
   "source": [
    "themes_list = themes[['id' , 'name']].sort_values(by='id').reset_index(drop=True)\n",
    "themes_dict = themes.set_index('id').to_dict()['name']"
   ]
  },
  {
   "cell_type": "code",
   "execution_count": null,
   "id": "644ee39c",
   "metadata": {},
   "outputs": [],
   "source": [
    "def test_funct5(random_list):\n",
    "    if type(random_list) == list:\n",
    "        return [themes_dict[i] for i in random_list]\n",
    "    else:  \n",
    "        return [\"Not available\"]"
   ]
  },
  {
   "cell_type": "code",
   "execution_count": null,
   "id": "6c6d5b9e",
   "metadata": {},
   "outputs": [],
   "source": [
    "game_library['themes'] = pd.DataFrame(game_library.themes.apply(test_funct5))\n",
    "game_library.head()"
   ]
  },
  {
   "cell_type": "markdown",
   "id": "29168194",
   "metadata": {},
   "source": [
    "### Genres (use this)"
   ]
  },
  {
   "cell_type": "code",
   "execution_count": null,
   "id": "46aa9e26",
   "metadata": {},
   "outputs": [],
   "source": [
    "# function that puts response list object into a dataframe for each page\n",
    "def get_genres(wrapper):\n",
    "    genres = pd.DataFrame()\n",
    "    for i in range (0, 409):\n",
    "        genre = wrapper.api_request('genres', 'fields *; limit 500;')\n",
    "        y = json.loads(genre)\n",
    "        results_df =pd.DataFrame(y)\n",
    "        genres = pd.concat([genres, results_df])\n",
    "    return genres"
   ]
  },
  {
   "cell_type": "code",
   "execution_count": null,
   "id": "bc6aaba5",
   "metadata": {},
   "outputs": [],
   "source": [
    "genres = get_genres(wrapper)\n",
    "genres.head()"
   ]
  },
  {
   "cell_type": "code",
   "execution_count": null,
   "id": "574df63b",
   "metadata": {},
   "outputs": [],
   "source": [
    "genreslist = genres[['id' , 'slug']].sort_values(by='id').reset_index(drop=True)\n",
    "genres_dict = genreslist.set_index('id').to_dict()['slug']"
   ]
  },
  {
   "cell_type": "code",
   "execution_count": null,
   "id": "185f6b6e",
   "metadata": {},
   "outputs": [],
   "source": [
    "def test_functg(random_list):\n",
    "    if type(random_list) == list:\n",
    "        return [genres_dict[i] for i in random_list]\n",
    "    else:  \n",
    "        return [\"Not available\"] "
   ]
  },
  {
   "cell_type": "code",
   "execution_count": null,
   "id": "c1aee103",
   "metadata": {},
   "outputs": [],
   "source": [
    "game_library['genres'] = pd.DataFrame(game_library.genres.apply(test_functg))\n",
    "game_library.head()"
   ]
  },
  {
   "cell_type": "markdown",
   "id": "418da08b",
   "metadata": {},
   "source": [
    "## Game modes (use this)"
   ]
  },
  {
   "cell_type": "code",
   "execution_count": null,
   "id": "905f7840",
   "metadata": {},
   "outputs": [],
   "source": [
    "def get_game_modes():\n",
    "     headers = {'Client-ID': f'{Client_ID}', 'Authorization': f'Bearer {access_token}'}\n",
    "     data = 'fields *; limit 500;'\n",
    "     r = requests.post('https://api.igdb.com/v4/game_modes' ,data=data ,  headers=headers)\n",
    "     game_modes = wrapper.api_request('game_modes', 'fields *;limit 500;')\n",
    "     x = json.loads(game_modes)\n",
    "     game_modes =pd.DataFrame(x)\n",
    "     return game_modes"
   ]
  },
  {
   "cell_type": "code",
   "execution_count": null,
   "id": "27dd85cd",
   "metadata": {},
   "outputs": [],
   "source": [
    "game_mode = get_game_modes()"
   ]
  },
  {
   "cell_type": "code",
   "execution_count": null,
   "id": "9536076f",
   "metadata": {},
   "outputs": [],
   "source": [
    "game_mode.head()"
   ]
  },
  {
   "cell_type": "code",
   "execution_count": null,
   "id": "a970d9aa",
   "metadata": {},
   "outputs": [],
   "source": [
    "modelist = game_mode[['id' , 'slug']].sort_values(by='id').reset_index(drop=True)\n",
    "mode_dict = modelist.set_index('id').to_dict()['slug']"
   ]
  },
  {
   "cell_type": "code",
   "execution_count": null,
   "id": "017a24bc",
   "metadata": {},
   "outputs": [],
   "source": [
    "def test_functm(random_list):\n",
    "    if type(random_list) == list:\n",
    "        return [mode_dict[i] for i in random_list]\n",
    "    else:  \n",
    "        return [\"Not available\"]"
   ]
  },
  {
   "cell_type": "code",
   "execution_count": null,
   "id": "b75bb64a",
   "metadata": {},
   "outputs": [],
   "source": [
    "game_library['game_modes'] = pd.DataFrame(game_library.game_modes.apply(test_functm))\n",
    "game_library.head()"
   ]
  },
  {
   "cell_type": "code",
   "execution_count": null,
   "id": "8353f218",
   "metadata": {},
   "outputs": [],
   "source": [
    "game_library.head()"
   ]
  },
  {
   "cell_type": "markdown",
   "id": "fadb9c8e",
   "metadata": {},
   "source": [
    "## Game version features (use this)"
   ]
  },
  {
   "cell_type": "code",
   "execution_count": null,
   "id": "e7a706a1",
   "metadata": {},
   "outputs": [],
   "source": [
    "def get_game_version_features(wrapper):\n",
    "    game_version_features = pd.DataFrame()\n",
    "    for i in range (0, 409):\n",
    "        a_ratings = wrapper.api_request('game_version_features', 'fields *; limit 500;' f'offset {i * 500};')\n",
    "        y = json.loads(a_ratings)\n",
    "        results_df =pd.DataFrame(y)\n",
    "        game_version_features = pd.concat([game_version_features, results_df])\n",
    "    return game_version_features"
   ]
  },
  {
   "cell_type": "code",
   "execution_count": null,
   "id": "2a5e7fb8",
   "metadata": {
    "scrolled": true
   },
   "outputs": [],
   "source": [
    "game_version_features = get_game_version_features(wrapper)\n",
    "game_version_features.head()"
   ]
  },
  {
   "cell_type": "code",
   "execution_count": null,
   "id": "d0a65f29",
   "metadata": {
    "scrolled": true
   },
   "outputs": [],
   "source": [
    "game_vf_df = game_version_features[['id','description', 'title']]\n",
    "game_vf_df.head()"
   ]
  },
  {
   "cell_type": "code",
   "execution_count": null,
   "id": "64d22d4b",
   "metadata": {},
   "outputs": [],
   "source": [
    "game_vf_df = game_vf_df.rename(columns={'description': 'version_description', 'title': 'title_version'})"
   ]
  },
  {
   "cell_type": "markdown",
   "id": "3b6a691a",
   "metadata": {},
   "source": [
    "## Game version feature values (use this)"
   ]
  },
  {
   "cell_type": "code",
   "execution_count": null,
   "id": "5b53c015",
   "metadata": {},
   "outputs": [],
   "source": [
    "def vf_values(wrapper):\n",
    "    vf_values= pd.DataFrame()\n",
    "    for i in range (0, 409):\n",
    "        gvf_values = wrapper.api_request('game_version_feature_values', 'fields *; limit 500;' f'offset {i * 500};')\n",
    "        y = json.loads(gvf_values)\n",
    "        results_df =pd.DataFrame(y)\n",
    "        vf_values = pd.concat([vf_values, results_df])\n",
    "    return vf_values"
   ]
  },
  {
   "cell_type": "code",
   "execution_count": null,
   "id": "d3c7c1bb",
   "metadata": {},
   "outputs": [],
   "source": [
    "gamevfv_df = vf_values(wrapper)\n",
    "gamevfv_df.head()"
   ]
  },
  {
   "cell_type": "code",
   "execution_count": null,
   "id": "b6bcfd5a",
   "metadata": {},
   "outputs": [],
   "source": [
    "gamevfv_df.head()"
   ]
  },
  {
   "cell_type": "code",
   "execution_count": null,
   "id": "c4812208",
   "metadata": {},
   "outputs": [],
   "source": [
    "gamevfv_df = gamevfv_df[['game','game_feature']]\n",
    "gamevfv_df.head()"
   ]
  },
  {
   "cell_type": "code",
   "execution_count": null,
   "id": "9fcede70",
   "metadata": {},
   "outputs": [],
   "source": [
    "gamevfv_df = gamevfv_df.rename(columns={\"game_feature\": \"id\"})"
   ]
  },
  {
   "cell_type": "code",
   "execution_count": null,
   "id": "125956b1",
   "metadata": {},
   "outputs": [],
   "source": [
    "gamevfv_df = gamevfv_df.set_index('id')\n",
    "gamevfv_df.head()"
   ]
  },
  {
   "cell_type": "markdown",
   "id": "34f3c731",
   "metadata": {},
   "source": [
    "### Merging game feature version and game feature version values (use this)"
   ]
  },
  {
   "cell_type": "code",
   "execution_count": null,
   "id": "31e2ba1d",
   "metadata": {},
   "outputs": [],
   "source": [
    "results_df = pd.merge(gamevfv_df,  game_vf_df , how = 'left', on=\"id\")\n",
    "results_df.head()"
   ]
  },
  {
   "cell_type": "code",
   "execution_count": null,
   "id": "311e9ca2",
   "metadata": {},
   "outputs": [],
   "source": [
    "results_df = results_df.rename(columns={'id': 'second','game': 'id' })\n",
    "results_df = results_df.set_index('id')\n",
    "results_df.head()"
   ]
  },
  {
   "cell_type": "code",
   "execution_count": null,
   "id": "8b17202b",
   "metadata": {},
   "outputs": [],
   "source": [
    "#merging the to the main dataframe\n",
    "game_library = pd.merge(game_library, results_df, how = 'left', on=\"id\")\n",
    "game_library.head()"
   ]
  },
  {
   "cell_type": "code",
   "execution_count": null,
   "id": "33e7e391",
   "metadata": {
    "scrolled": true
   },
   "outputs": [],
   "source": [
    "game_library.info()"
   ]
  },
  {
   "cell_type": "code",
   "execution_count": null,
   "id": "be5af1ec",
   "metadata": {
    "scrolled": true
   },
   "outputs": [],
   "source": [
    "game_library.version_description.value_counts()"
   ]
  },
  {
   "cell_type": "code",
   "execution_count": null,
   "id": "82a9f937",
   "metadata": {},
   "outputs": [],
   "source": [
    "game_library.title_version.value_counts()"
   ]
  },
  {
   "cell_type": "markdown",
   "id": "4aed514a",
   "metadata": {},
   "source": [
    "## Multi player mode (use this)"
   ]
  },
  {
   "cell_type": "code",
   "execution_count": null,
   "id": "83ffe1ea",
   "metadata": {},
   "outputs": [],
   "source": [
    "headers = {'Client-ID': f'{Client_ID}', 'Authorization': f'Bearer {access_token}'}\n",
    "data = 'fields *; limit 500;'\n",
    "r = requests.post('https://api.igdb.com/v4/multiplayer_modes' ,data=data ,  headers=headers)\n",
    "multiplayer_modes = wrapper.api_request('multiplayer_modes', 'fields *;limit 500;')\n",
    "x = json.loads(multiplayer_modes)\n",
    "multiplayer_modes =pd.DataFrame(x)"
   ]
  },
  {
   "cell_type": "code",
   "execution_count": null,
   "id": "fd4748ad",
   "metadata": {},
   "outputs": [],
   "source": [
    "multiplayer_modes.head()"
   ]
  },
  {
   "cell_type": "code",
   "execution_count": null,
   "id": "4930944b",
   "metadata": {},
   "outputs": [],
   "source": [
    "def multi_play(wrapper):\n",
    "    multi_play= pd.DataFrame()\n",
    "    for i in range (0, 409):\n",
    "        multi_values = wrapper.api_request('multiplayer_modes', 'fields *; limit 500;' f'offset {i * 500};')\n",
    "        y = json.loads(multi_values)\n",
    "        results_df =pd.DataFrame(y)\n",
    "        multi_play = pd.concat([multi_play, multiplayer_modes])\n",
    "    return multi_play"
   ]
  },
  {
   "cell_type": "code",
   "execution_count": null,
   "id": "4c817764",
   "metadata": {},
   "outputs": [],
   "source": [
    "multi_df = multi_play(wrapper)"
   ]
  },
  {
   "cell_type": "code",
   "execution_count": null,
   "id": "3689b875",
   "metadata": {},
   "outputs": [],
   "source": [
    "multi_df.head()"
   ]
  },
  {
   "cell_type": "code",
   "execution_count": null,
   "id": "884ca0d0",
   "metadata": {},
   "outputs": [],
   "source": [
    "def test_functg(random_list):\n",
    "    if type(random_list) == list:\n",
    "        return [genres_dict[i] for i in random_list]\n",
    "    else:  \n",
    "        return [\"Not_available\"] "
   ]
  },
  {
   "cell_type": "code",
   "execution_count": null,
   "id": "d3d8bf2a",
   "metadata": {},
   "outputs": [],
   "source": [
    "multi_df = multi_df.rename(columns={'game': 'id', 'id': 'second_id'})"
   ]
  },
  {
   "cell_type": "code",
   "execution_count": null,
   "id": "5dec81e2",
   "metadata": {},
   "outputs": [],
   "source": [
    "multi_df = multi_df.set_index('id')"
   ]
  },
  {
   "cell_type": "code",
   "execution_count": null,
   "id": "b66f17f8",
   "metadata": {},
   "outputs": [],
   "source": [
    "#game_library.dropin.tail(30)"
   ]
  },
  {
   "cell_type": "code",
   "execution_count": null,
   "id": "c3627ad9",
   "metadata": {},
   "outputs": [],
   "source": [
    "#marging this together with the main df\n",
    "game_library = pd.merge(game_library, multi_df, how = 'left', on=\"id\")\n",
    "game_library.head()"
   ]
  },
  {
   "cell_type": "code",
   "execution_count": null,
   "id": "6bc49840",
   "metadata": {},
   "outputs": [],
   "source": [
    "game_library.columns"
   ]
  },
  {
   "cell_type": "code",
   "execution_count": null,
   "id": "eaad7b17",
   "metadata": {
    "scrolled": true
   },
   "outputs": [],
   "source": [
    "game_library.splitscreen.value_counts()"
   ]
  },
  {
   "cell_type": "code",
   "execution_count": null,
   "id": "fa019b74",
   "metadata": {},
   "outputs": [],
   "source": [
    "game_library"
   ]
  },
  {
   "cell_type": "code",
   "execution_count": null,
   "id": "dc7df503",
   "metadata": {},
   "outputs": [],
   "source": [
    "game_library.id.value_counts()"
   ]
  },
  {
   "cell_type": "code",
   "execution_count": null,
   "id": "def89ae9",
   "metadata": {},
   "outputs": [],
   "source": [
    "game_library['campaigncoop'].fillna(False, inplace = True)\n",
    "game_library['dropin'].fillna(False, inplace = True)\n",
    "game_library['lancoop'].fillna(False, inplace = True)\n",
    "game_library['offlinecoop'].fillna(False, inplace = True)\n",
    "game_library['offlinemax'].fillna(0, inplace = True)\n",
    "game_library['onlinecoop'].fillna(False, inplace = True)\n",
    "game_library['splitscreen'].fillna(False, inplace = True)\n",
    "game_library['offlinecoopmax'].fillna(0, inplace = True)\n",
    "game_library['onlinecoopmax'].fillna(0, inplace = True)\n",
    "game_library['onlinemax'].fillna(0, inplace = True)"
   ]
  },
  {
   "cell_type": "code",
   "execution_count": null,
   "id": "f116f818",
   "metadata": {},
   "outputs": [],
   "source": [
    "game_library.shape"
   ]
  },
  {
   "cell_type": "code",
   "execution_count": null,
   "id": "4e77004a",
   "metadata": {},
   "outputs": [],
   "source": [
    "game_library.to_json(\"game_library.json\")"
   ]
  },
  {
   "cell_type": "markdown",
   "id": "fad205f7",
   "metadata": {},
   "source": [
    "# creating the game_library dataframe"
   ]
  },
  {
   "cell_type": "code",
   "execution_count": 1,
   "id": "8875fadf",
   "metadata": {},
   "outputs": [],
   "source": [
    "import requests\n",
    "import env\n",
    "from requests.models import Request, Response\n",
    "from env import Client_ID\n",
    "import pandas as pd\n",
    "from igdb.igdbapi_pb2 import GameResult\n",
    "from typing import Dict, List, Optional, Union, cast\n",
    "import acquire\n",
    "import json\n",
    "from igdb.wrapper import IGDBWrapper\n",
    "import matplotlib.pyplot as plt\n",
    "import seaborn as sns"
   ]
  },
  {
   "cell_type": "code",
   "execution_count": null,
   "id": "ecaf1a08",
   "metadata": {},
   "outputs": [],
   "source": [
    "game_library = pd.read_json(\"game_library.json\")"
   ]
  },
  {
   "cell_type": "code",
   "execution_count": null,
   "id": "e9c9ea2e",
   "metadata": {},
   "outputs": [],
   "source": [
    "game_library.shape"
   ]
  },
  {
   "cell_type": "markdown",
   "id": "45f6ed64",
   "metadata": {},
   "source": [
    "# Explore Part 1 (ignore)"
   ]
  },
  {
   "cell_type": "markdown",
   "id": "342e4c3f",
   "metadata": {},
   "source": [
    "# the dataframe"
   ]
  },
  {
   "cell_type": "code",
   "execution_count": null,
   "id": "7cfa7680",
   "metadata": {
    "scrolled": true
   },
   "outputs": [],
   "source": [
    "game_library.head()"
   ]
  },
  {
   "cell_type": "code",
   "execution_count": null,
   "id": "9f410dee",
   "metadata": {},
   "outputs": [],
   "source": [
    "# Genre "
   ]
  },
  {
   "cell_type": "markdown",
   "id": "6a329137",
   "metadata": {},
   "source": [
    "# What genre are most common in this dataset ?"
   ]
  },
  {
   "cell_type": "code",
   "execution_count": null,
   "id": "bc324018",
   "metadata": {},
   "outputs": [],
   "source": [
    "def to_1D(series):\n",
    "    return pd.Series([x for _list in series for x in _list])"
   ]
  },
  {
   "cell_type": "code",
   "execution_count": null,
   "id": "7ac1474e",
   "metadata": {},
   "outputs": [],
   "source": [
    " #pd.set_option('display.max_columns', None)\n",
    "game_library.genres.value_counts()"
   ]
  },
  {
   "cell_type": "code",
   "execution_count": null,
   "id": "61b49fe9",
   "metadata": {},
   "outputs": [],
   "source": []
  },
  {
   "cell_type": "code",
   "execution_count": null,
   "id": "7dd97f38",
   "metadata": {},
   "outputs": [],
   "source": [
    "to_1D(game_library[\"genres\"])\n"
   ]
  },
  {
   "cell_type": "code",
   "execution_count": null,
   "id": "19b3619a",
   "metadata": {},
   "outputs": [],
   "source": [
    "to_1D(game_library[\"genres\"]).value_counts()"
   ]
  },
  {
   "cell_type": "code",
   "execution_count": null,
   "id": "5a97aaad",
   "metadata": {
    "scrolled": true
   },
   "outputs": [],
   "source": [
    "fig, ax = plt.subplots(figsize = (14,4))\n",
    "ax.bar(to_1D(game_library[\"genres\"]).value_counts().iloc[:4].index,\n",
    "        to_1D(game_library[\"genres\"]).value_counts().iloc[:4].values)\n",
    "ax.set_ylabel(\"Frequency\", size = 12)\n",
    "ax.set_title(\"genres\", size = 14)\n",
    "\n"
   ]
  },
  {
   "cell_type": "code",
   "execution_count": null,
   "id": "85c6a5e2",
   "metadata": {},
   "outputs": [],
   "source": [
    "# def test_functg(random_list):\n",
    "#     if type(random_list) == list:\n",
    "#         return [genres_dict[i] for i in random_list]\n",
    "#     else:  \n",
    "#         return [\"Not_available\"] "
   ]
  },
  {
   "cell_type": "code",
   "execution_count": null,
   "id": "2c4d0396",
   "metadata": {},
   "outputs": [],
   "source": []
  },
  {
   "cell_type": "code",
   "execution_count": null,
   "id": "44c99bb9",
   "metadata": {
    "scrolled": true
   },
   "outputs": [],
   "source": [
    "#sns.countplot(x='genres', data=game_library)b"
   ]
  },
  {
   "cell_type": "markdown",
   "id": "908f611f",
   "metadata": {},
   "source": [
    "# What themes are most common in this dataset "
   ]
  },
  {
   "cell_type": "code",
   "execution_count": null,
   "id": "9a41cc24",
   "metadata": {
    "scrolled": true
   },
   "outputs": [],
   "source": [
    "to_1D(game_library[\"themes\"])"
   ]
  },
  {
   "cell_type": "code",
   "execution_count": null,
   "id": "18593748",
   "metadata": {
    "scrolled": false
   },
   "outputs": [],
   "source": [
    "to_1D(game_library[\"themes\"]).value_counts()"
   ]
  },
  {
   "cell_type": "code",
   "execution_count": null,
   "id": "82f44a40",
   "metadata": {
    "scrolled": true
   },
   "outputs": [],
   "source": [
    "fig, ax = plt.subplots(figsize = (16,4))\n",
    "ax.bar(to_1D(game_library[\"themes\"]).value_counts().iloc[:4].index,\n",
    "        to_1D(game_library[\"themes\"]).value_counts().iloc[:4].values)\n",
    "ax.set_ylabel(\"Frequency\", size = 12)\n",
    "ax.set_title(\"genres\", size = 14)"
   ]
  },
  {
   "cell_type": "code",
   "execution_count": null,
   "id": "804b25e5",
   "metadata": {
    "scrolled": true
   },
   "outputs": [],
   "source": [
    "game_library.head(3)"
   ]
  },
  {
   "cell_type": "code",
   "execution_count": null,
   "id": "beb90f3c",
   "metadata": {},
   "outputs": [],
   "source": []
  },
  {
   "cell_type": "code",
   "execution_count": null,
   "id": "7d7d1a91",
   "metadata": {
    "scrolled": false
   },
   "outputs": [],
   "source": [
    "pd.set_option('display.max_columns', None)\n",
    "game_library.head(3)"
   ]
  },
  {
   "cell_type": "code",
   "execution_count": null,
   "id": "10a8e955",
   "metadata": {},
   "outputs": [],
   "source": [
    "game_library.themes.value_counts()"
   ]
  },
  {
   "cell_type": "markdown",
   "id": "000e55c6",
   "metadata": {},
   "source": [
    "#   land co-op"
   ]
  },
  {
   "cell_type": "code",
   "execution_count": null,
   "id": "8be815ad",
   "metadata": {
    "scrolled": true
   },
   "outputs": [],
   "source": [
    "sns.countplot(x='lancoop', data=game_library)"
   ]
  },
  {
   "cell_type": "markdown",
   "id": "28e82210",
   "metadata": {},
   "source": [
    "# In a videogame what is the most common version titles ?"
   ]
  },
  {
   "cell_type": "code",
   "execution_count": null,
   "id": "b319d630",
   "metadata": {
    "scrolled": true
   },
   "outputs": [],
   "source": [
    "sns.countplot(x='version_title', data=game_library, order=game_library.version_title.value_counts().iloc[:4].index)"
   ]
  },
  {
   "cell_type": "code",
   "execution_count": null,
   "id": "74eb14e3",
   "metadata": {
    "scrolled": true
   },
   "outputs": [],
   "source": [
    "game_library.version_title.value_counts()"
   ]
  },
  {
   "cell_type": "markdown",
   "id": "eb1154cf",
   "metadata": {},
   "source": [
    "# What are the most common platforms ?"
   ]
  },
  {
   "cell_type": "code",
   "execution_count": null,
   "id": "4401d294",
   "metadata": {},
   "outputs": [],
   "source": [
    "game_library.platforms.value_counts()"
   ]
  },
  {
   "cell_type": "code",
   "execution_count": null,
   "id": "f8d322d0",
   "metadata": {},
   "outputs": [],
   "source": [
    "to_1D(game_library[\"platforms\"])"
   ]
  },
  {
   "cell_type": "code",
   "execution_count": null,
   "id": "4c1accf4",
   "metadata": {},
   "outputs": [],
   "source": [
    "to_1D(game_library[\"platforms\"]).value_counts()"
   ]
  },
  {
   "cell_type": "code",
   "execution_count": null,
   "id": "3694c5dc",
   "metadata": {},
   "outputs": [],
   "source": [
    "fig, ax = plt.subplots(figsize = (14,4))\n",
    "ax.barplot(to_1D(game_library[\"platforms\"]).value_counts().iloc[:7].index,\n",
    "        to_1D(game_library[\"platforms\"]).value_counts().iloc[:7].values, hue = )\n",
    "ax.set_ylabel(\"Frequency\", size = 12)\n",
    "ax.set_title(\"platforms\", size = 14)"
   ]
  },
  {
   "cell_type": "code",
   "execution_count": null,
   "id": "49d028f2",
   "metadata": {},
   "outputs": [],
   "source": [
    "game_library.head()"
   ]
  },
  {
   "cell_type": "code",
   "execution_count": null,
   "id": "3ed2480f",
   "metadata": {},
   "outputs": [],
   "source": [
    "to_1D(game_library[\"rating\"])"
   ]
  },
  {
   "cell_type": "code",
   "execution_count": null,
   "id": "a266949a",
   "metadata": {
    "scrolled": true
   },
   "outputs": [],
   "source": [
    "game_library.rating.value_counts()"
   ]
  },
  {
   "cell_type": "code",
   "execution_count": null,
   "id": "2c4f71d2",
   "metadata": {},
   "outputs": [],
   "source": [
    "game_library.rating_count.value_counts()"
   ]
  },
  {
   "cell_type": "code",
   "execution_count": null,
   "id": "8249de91",
   "metadata": {
    "scrolled": true
   },
   "outputs": [],
   "source": [
    "game_library.total_rating.value_counts()"
   ]
  },
  {
   "cell_type": "code",
   "execution_count": null,
   "id": "d49d637e",
   "metadata": {},
   "outputs": [],
   "source": [
    "game_library.shape"
   ]
  },
  {
   "cell_type": "code",
   "execution_count": null,
   "id": "13abc43f",
   "metadata": {},
   "outputs": [],
   "source": [
    "#game_library.info()"
   ]
  },
  {
   "cell_type": "markdown",
   "id": "78826610",
   "metadata": {},
   "source": [
    "# splitting the data\n",
    "\n",
    "- we are splitting the data with GAMES that have a rating and games that dont have a rating "
   ]
  },
  {
   "cell_type": "code",
   "execution_count": null,
   "id": "1229a2e6",
   "metadata": {
    "scrolled": true
   },
   "outputs": [],
   "source": [
    "#this is the dataframe that ONLY has ratings \n",
    "df2 = game_library[game_library['rating'].notnull()]\n",
    "df2\n"
   ]
  },
  {
   "cell_type": "code",
   "execution_count": null,
   "id": "8ad3356f",
   "metadata": {},
   "outputs": [],
   "source": [
    "df2.shape"
   ]
  },
  {
   "cell_type": "code",
   "execution_count": null,
   "id": "eb92ccc5",
   "metadata": {},
   "outputs": [],
   "source": [
    "pd.set_option('display.max_rows', 500)"
   ]
  },
  {
   "cell_type": "code",
   "execution_count": null,
   "id": "77be523b",
   "metadata": {
    "scrolled": true
   },
   "outputs": [],
   "source": [
    "df2.head()"
   ]
  },
  {
   "cell_type": "code",
   "execution_count": null,
   "id": "9f201f0d",
   "metadata": {},
   "outputs": [],
   "source": [
    "df2.to_json(\"explore_game_library.json\")"
   ]
  },
  {
   "cell_type": "code",
   "execution_count": null,
   "id": "f82c3d28",
   "metadata": {},
   "outputs": [],
   "source": []
  },
  {
   "cell_type": "markdown",
   "id": "6afbcaba",
   "metadata": {},
   "source": [
    "> dont forget to bin the data"
   ]
  },
  {
   "cell_type": "code",
   "execution_count": null,
   "id": "0b33ae53",
   "metadata": {},
   "outputs": [],
   "source": [
    "df2['rating_bin'] = pd.cut(df2.rating, \n",
    "                           bins = [0,10,20, 30, 40, 50, 60, 70, 80, 90, 100],\n",
    "                           labels = ['awful','very_bad','bad','unimpressive','average','fair','alright','good','great', 'subperb'])\n"
   ]
  },
  {
   "cell_type": "code",
   "execution_count": null,
   "id": "57356b46",
   "metadata": {},
   "outputs": [],
   "source": [
    "\n",
    "pd.set_option('display.max_columns', 500)\n",
    "df2.head()"
   ]
  },
  {
   "cell_type": "code",
   "execution_count": null,
   "id": "bc846bd1",
   "metadata": {},
   "outputs": [],
   "source": []
  },
  {
   "cell_type": "markdown",
   "id": "a29b580e",
   "metadata": {},
   "source": [
    "> splitting the data"
   ]
  },
  {
   "cell_type": "markdown",
   "id": "8e9ea5c3",
   "metadata": {},
   "source": [
    "# Exploration "
   ]
  },
  {
   "cell_type": "code",
   "execution_count": 2,
   "id": "a8399dbe",
   "metadata": {},
   "outputs": [],
   "source": [
    "df2 = pd.read_json(\"explore_game_library.json\")"
   ]
  },
  {
   "cell_type": "code",
   "execution_count": 3,
   "id": "44c3bc68",
   "metadata": {},
   "outputs": [],
   "source": [
    "from sklearn.model_selection import train_test_split"
   ]
  },
  {
   "cell_type": "code",
   "execution_count": 4,
   "id": "eae5490c",
   "metadata": {},
   "outputs": [],
   "source": [
    "def train_validate_test_split(df):\n",
    "    '''\n",
    "    This function performs split on telco data, stratify churn.\n",
    "    Returns train, validate, and test dfs.\n",
    "    '''\n",
    "    train_validate, test = train_test_split(df, test_size=.2, \n",
    "                                        random_state=123, stratify=df2.rating_bin)\n",
    "    train, validate = train_test_split(train_validate, test_size=.3, \n",
    "                                   random_state=123,  stratify=train_validate.rating_bin)\n",
    "\n",
    "    return train, validate, test\n"
   ]
  },
  {
   "cell_type": "code",
   "execution_count": 5,
   "id": "847e0e99",
   "metadata": {
    "scrolled": true
   },
   "outputs": [
    {
     "data": {
      "text/plain": [
       "((88840, 72), (38075, 72), (31729, 72))"
      ]
     },
     "execution_count": 5,
     "metadata": {},
     "output_type": "execute_result"
    }
   ],
   "source": [
    "train, validate, test = train_validate_test_split(df2)\n",
    "\n",
    "train.shape, validate.shape, test.shape"
   ]
  },
  {
   "cell_type": "code",
   "execution_count": 6,
   "id": "e7577aed",
   "metadata": {},
   "outputs": [],
   "source": [
    "def to_1D(series):\n",
    "    return pd.Series([x for _list in series for x in _list])"
   ]
  },
  {
   "cell_type": "code",
   "execution_count": null,
   "id": "42cbb6ec",
   "metadata": {},
   "outputs": [],
   "source": []
  },
  {
   "cell_type": "code",
   "execution_count": null,
   "id": "e65052c4",
   "metadata": {},
   "outputs": [],
   "source": []
  },
  {
   "cell_type": "code",
   "execution_count": null,
   "id": "c81f5223",
   "metadata": {},
   "outputs": [],
   "source": []
  },
  {
   "cell_type": "code",
   "execution_count": null,
   "id": "b5cfe463",
   "metadata": {},
   "outputs": [],
   "source": []
  },
  {
   "cell_type": "markdown",
   "id": "f4567703",
   "metadata": {},
   "source": [
    "\n",
    "\n",
    "## more complicated Questions"
   ]
  },
  {
   "cell_type": "markdown",
   "id": "ea9fd6a6",
   "metadata": {},
   "source": [
    "# Do video games on certain platforms get better user ratings?\n"
   ]
  },
  {
   "cell_type": "markdown",
   "id": "dc838867",
   "metadata": {},
   "source": [
    "- Yes it looks like for the games in the three highest member ratings (good, great,subperb) the majority of those games are played on \n",
    "    - PC(microsoft Windows)\n",
    "    - MAC \n",
    "    - X-Box 360\n",
    "    - ps 3 and 4 "
   ]
  },
  {
   "cell_type": "code",
   "execution_count": null,
   "id": "93b285e4",
   "metadata": {},
   "outputs": [],
   "source": [
    "#the diffrent platforms in the dataframe"
   ]
  },
  {
   "cell_type": "code",
   "execution_count": 9,
   "id": "8a211cba",
   "metadata": {
    "scrolled": true
   },
   "outputs": [
    {
     "data": {
      "text/plain": [
       "Text(0.5, 1.0, 'platforms')"
      ]
     },
     "execution_count": 9,
     "metadata": {},
     "output_type": "execute_result"
    },
    {
     "data": {
      "image/png": "[encoded data removed]",
      "text/plain": [
       "<Figure size 1008x288 with 1 Axes>"
      ]
     },
     "metadata": {
      "needs_background": "light"
     },
     "output_type": "display_data"
    }
   ],
   "source": [
    "fig, ax = plt.subplots(figsize = (14,4))\n",
    "ax.bar(to_1D(train[\"platforms\"]).value_counts().iloc[:7].index,\n",
    "        to_1D(train[\"platforms\"]).value_counts().iloc[:7].values)\n",
    "ax.set_ylabel(\"Frequency\", size = 12)\n",
    "ax.set_title(\"platforms\", size = 14)"
   ]
  },
  {
   "cell_type": "code",
   "execution_count": null,
   "id": "3bb6d8c5",
   "metadata": {},
   "outputs": [],
   "source": []
  },
  {
   "cell_type": "code",
   "execution_count": 11,
   "id": "73e60176",
   "metadata": {},
   "outputs": [
    {
     "data": {
      "text/plain": [
       "<AxesSubplot:xlabel='rating', ylabel='count'>"
      ]
     },
     "execution_count": 11,
     "metadata": {},
     "output_type": "execute_result"
    },
    {
     "data": {
      "image/png": "[encoded data removed]",
      "text/plain": [
       "<Figure size 432x288 with 1 Axes>"
      ]
     },
     "metadata": {
      "needs_background": "light"
     },
     "output_type": "display_data"
    }
   ],
   "source": [
    "sns.countplot(x='rating', data=train, order=train.rating.value_counts().iloc[:5].index)"
   ]
  },
  {
   "cell_type": "code",
   "execution_count": 12,
   "id": "d6b57c32",
   "metadata": {
    "scrolled": false
   },
   "outputs": [
    {
     "data": {
      "text/plain": [
       "<AxesSubplot:xlabel='rating_bin', ylabel='count'>"
      ]
     },
     "execution_count": 12,
     "metadata": {},
     "output_type": "execute_result"
    },
    {
     "data": {
      "image/png": "[encoded data removed]",
      "text/plain": [
       "<Figure size 432x288 with 1 Axes>"
      ]
     },
     "metadata": {
      "needs_background": "light"
     },
     "output_type": "display_data"
    }
   ],
   "source": [
    "sns.countplot(x='rating_bin', data=train, order=train.rating_bin.value_counts().iloc[:9].index)"
   ]
  },
  {
   "cell_type": "markdown",
   "id": "f8d46291",
   "metadata": {},
   "source": [
    "## Exploring `good rating`"
   ]
  },
  {
   "cell_type": "code",
   "execution_count": 13,
   "id": "192bb17c",
   "metadata": {
    "scrolled": true
   },
   "outputs": [
    {
     "data": {
      "text/html": [
       "<div>\n",
       "<style scoped>\n",
       "    .dataframe tbody tr th:only-of-type {\n",
       "        vertical-align: middle;\n",
       "    }\n",
       "\n",
       "    .dataframe tbody tr th {\n",
       "        vertical-align: top;\n",
       "    }\n",
       "\n",
       "    .dataframe thead th {\n",
       "        text-align: right;\n",
       "    }\n",
       "</style>\n",
       "<table border=\"1\" class=\"dataframe\">\n",
       "  <thead>\n",
       "    <tr style=\"text-align: right;\">\n",
       "      <th></th>\n",
       "      <th>id</th>\n",
       "      <th>category</th>\n",
       "      <th>created_at</th>\n",
       "      <th>external_games</th>\n",
       "      <th>first_release_date</th>\n",
       "      <th>genres</th>\n",
       "      <th>name</th>\n",
       "      <th>platforms</th>\n",
       "      <th>release_dates</th>\n",
       "      <th>similar_games</th>\n",
       "      <th>...</th>\n",
       "      <th>offlinecoop</th>\n",
       "      <th>offlinemax</th>\n",
       "      <th>onlinecoop</th>\n",
       "      <th>platform</th>\n",
       "      <th>splitscreen</th>\n",
       "      <th>checksum_y</th>\n",
       "      <th>offlinecoopmax</th>\n",
       "      <th>onlinecoopmax</th>\n",
       "      <th>onlinemax</th>\n",
       "      <th>rating_bin</th>\n",
       "    </tr>\n",
       "  </thead>\n",
       "  <tbody>\n",
       "    <tr>\n",
       "      <th>23551</th>\n",
       "      <td>3078</td>\n",
       "      <td>0</td>\n",
       "      <td>2013-10-21 21:16:24</td>\n",
       "      <td>[13807, 74105, 82858, 90156, 93362, 93363, 935...</td>\n",
       "      <td>1.335744e+09</td>\n",
       "      <td>[shooter, tactical]</td>\n",
       "      <td>Sniper Elite V2</td>\n",
       "      <td>[PC (Microsoft Windows), PlayStation 3, Xbox 3...</td>\n",
       "      <td>[6787, 6789, 12580, 105629, 143251, 143252, 33...</td>\n",
       "      <td>[494, 564, 1006, 3077, 5647, 7020, 8366, 9377,...</td>\n",
       "      <td>...</td>\n",
       "      <td>False</td>\n",
       "      <td>0</td>\n",
       "      <td>True</td>\n",
       "      <td>9.0</td>\n",
       "      <td>False</td>\n",
       "      <td>bc474aae-c001-91c1-1960-63066661414f</td>\n",
       "      <td>0</td>\n",
       "      <td>2</td>\n",
       "      <td>0</td>\n",
       "      <td>good</td>\n",
       "    </tr>\n",
       "    <tr>\n",
       "      <th>382218</th>\n",
       "      <td>572</td>\n",
       "      <td>0</td>\n",
       "      <td>2011-10-04 10:43:58</td>\n",
       "      <td>[37676, 72907, 137515, 190175, 210035, 215243,...</td>\n",
       "      <td>1.245197e+09</td>\n",
       "      <td>[shooter, simulator, strategy, tactical]</td>\n",
       "      <td>ArmA 2</td>\n",
       "      <td>[PC (Microsoft Windows)]</td>\n",
       "      <td>[1299]</td>\n",
       "      <td>[241, 277, 343, 451, 564, 1294, 1881, 2942, 58...</td>\n",
       "      <td>...</td>\n",
       "      <td>False</td>\n",
       "      <td>0</td>\n",
       "      <td>True</td>\n",
       "      <td>6.0</td>\n",
       "      <td>False</td>\n",
       "      <td>b98380db-3bd7-46fb-5bd5-5aa0784c1806</td>\n",
       "      <td>0</td>\n",
       "      <td>4</td>\n",
       "      <td>0</td>\n",
       "      <td>good</td>\n",
       "    </tr>\n",
       "    <tr>\n",
       "      <th>194182</th>\n",
       "      <td>7696</td>\n",
       "      <td>0</td>\n",
       "      <td>2014-08-27 12:15:08</td>\n",
       "      <td>[39541, 147091, 1871375]</td>\n",
       "      <td>5.995296e+08</td>\n",
       "      <td>[point-and-click, adventure]</td>\n",
       "      <td>Manhunter: New York</td>\n",
       "      <td>[DOS, Mac, Amiga, Atari ST/STE, Apple II, Appl...</td>\n",
       "      <td>[112938, 112939, 112940, 112941, 112942, 112943]</td>\n",
       "      <td>[7697, 13189, 13210, 18011, 25222, 25646, 3599...</td>\n",
       "      <td>...</td>\n",
       "      <td>False</td>\n",
       "      <td>0</td>\n",
       "      <td>False</td>\n",
       "      <td>NaN</td>\n",
       "      <td>False</td>\n",
       "      <td>None</td>\n",
       "      <td>0</td>\n",
       "      <td>0</td>\n",
       "      <td>0</td>\n",
       "      <td>good</td>\n",
       "    </tr>\n",
       "    <tr>\n",
       "      <th>402612</th>\n",
       "      <td>6043</td>\n",
       "      <td>0</td>\n",
       "      <td>2014-04-13 18:16:51</td>\n",
       "      <td>[11465, 73299, 89711, 98662, 147772, 1919594, ...</td>\n",
       "      <td>1.087258e+09</td>\n",
       "      <td>[shooter]</td>\n",
       "      <td>Shadow Ops: Red Mercury</td>\n",
       "      <td>[PC (Microsoft Windows), Xbox]</td>\n",
       "      <td>[27965, 27966, 27967, 27968, 27969, 27970, 279...</td>\n",
       "      <td>[241, 316, 564, 908, 1294, 1372, 1842, 3201, 5...</td>\n",
       "      <td>...</td>\n",
       "      <td>True</td>\n",
       "      <td>0</td>\n",
       "      <td>False</td>\n",
       "      <td>11.0</td>\n",
       "      <td>True</td>\n",
       "      <td>169c879b-3b84-5e63-51e7-9310fb5897cd</td>\n",
       "      <td>2</td>\n",
       "      <td>0</td>\n",
       "      <td>0</td>\n",
       "      <td>good</td>\n",
       "    </tr>\n",
       "    <tr>\n",
       "      <th>414065</th>\n",
       "      <td>8908</td>\n",
       "      <td>0</td>\n",
       "      <td>2015-02-02 17:03:06</td>\n",
       "      <td>[16575, 143945, 1719664, 1919909]</td>\n",
       "      <td>7.257600e+08</td>\n",
       "      <td>[shooter, platform, adventure]</td>\n",
       "      <td>Alien 3</td>\n",
       "      <td>[Commodore C64/128/MAX, Amiga, Nintendo Entert...</td>\n",
       "      <td>[26533, 26534, 26535, 26536, 26537, 26538, 216...</td>\n",
       "      <td>[18225, 25646, 55038, 56033, 57187, 68286, 103...</td>\n",
       "      <td>...</td>\n",
       "      <td>False</td>\n",
       "      <td>0</td>\n",
       "      <td>False</td>\n",
       "      <td>19.0</td>\n",
       "      <td>False</td>\n",
       "      <td>81b2e55b-d660-8680-966c-b03265de4799</td>\n",
       "      <td>0</td>\n",
       "      <td>0</td>\n",
       "      <td>0</td>\n",
       "      <td>good</td>\n",
       "    </tr>\n",
       "  </tbody>\n",
       "</table>\n",
       "<p>5 rows × 72 columns</p>\n",
       "</div>"
      ],
      "text/plain": [
       "          id  category          created_at  \\\n",
       "23551   3078         0 2013-10-21 21:16:24   \n",
       "382218   572         0 2011-10-04 10:43:58   \n",
       "194182  7696         0 2014-08-27 12:15:08   \n",
       "402612  6043         0 2014-04-13 18:16:51   \n",
       "414065  8908         0 2015-02-02 17:03:06   \n",
       "\n",
       "                                           external_games  first_release_date  \\\n",
       "23551   [13807, 74105, 82858, 90156, 93362, 93363, 935...        1.335744e+09   \n",
       "382218  [37676, 72907, 137515, 190175, 210035, 215243,...        1.245197e+09   \n",
       "194182                           [39541, 147091, 1871375]        5.995296e+08   \n",
       "402612  [11465, 73299, 89711, 98662, 147772, 1919594, ...        1.087258e+09   \n",
       "414065                  [16575, 143945, 1719664, 1919909]        7.257600e+08   \n",
       "\n",
       "                                          genres                     name  \\\n",
       "23551                        [shooter, tactical]          Sniper Elite V2   \n",
       "382218  [shooter, simulator, strategy, tactical]                   ArmA 2   \n",
       "194182              [point-and-click, adventure]      Manhunter: New York   \n",
       "402612                                 [shooter]  Shadow Ops: Red Mercury   \n",
       "414065            [shooter, platform, adventure]                  Alien 3   \n",
       "\n",
       "                                                platforms  \\\n",
       "23551   [PC (Microsoft Windows), PlayStation 3, Xbox 3...   \n",
       "382218                           [PC (Microsoft Windows)]   \n",
       "194182  [DOS, Mac, Amiga, Atari ST/STE, Apple II, Appl...   \n",
       "402612                     [PC (Microsoft Windows), Xbox]   \n",
       "414065  [Commodore C64/128/MAX, Amiga, Nintendo Entert...   \n",
       "\n",
       "                                            release_dates  \\\n",
       "23551   [6787, 6789, 12580, 105629, 143251, 143252, 33...   \n",
       "382218                                             [1299]   \n",
       "194182   [112938, 112939, 112940, 112941, 112942, 112943]   \n",
       "402612  [27965, 27966, 27967, 27968, 27969, 27970, 279...   \n",
       "414065  [26533, 26534, 26535, 26536, 26537, 26538, 216...   \n",
       "\n",
       "                                            similar_games  ... offlinecoop  \\\n",
       "23551   [494, 564, 1006, 3077, 5647, 7020, 8366, 9377,...  ...       False   \n",
       "382218  [241, 277, 343, 451, 564, 1294, 1881, 2942, 58...  ...       False   \n",
       "194182  [7697, 13189, 13210, 18011, 25222, 25646, 3599...  ...       False   \n",
       "402612  [241, 316, 564, 908, 1294, 1372, 1842, 3201, 5...  ...        True   \n",
       "414065  [18225, 25646, 55038, 56033, 57187, 68286, 103...  ...       False   \n",
       "\n",
       "       offlinemax onlinecoop platform splitscreen  \\\n",
       "23551           0       True      9.0       False   \n",
       "382218          0       True      6.0       False   \n",
       "194182          0      False      NaN       False   \n",
       "402612          0      False     11.0        True   \n",
       "414065          0      False     19.0       False   \n",
       "\n",
       "                                  checksum_y offlinecoopmax  onlinecoopmax  \\\n",
       "23551   bc474aae-c001-91c1-1960-63066661414f              0              2   \n",
       "382218  b98380db-3bd7-46fb-5bd5-5aa0784c1806              0              4   \n",
       "194182                                  None              0              0   \n",
       "402612  169c879b-3b84-5e63-51e7-9310fb5897cd              2              0   \n",
       "414065  81b2e55b-d660-8680-966c-b03265de4799              0              0   \n",
       "\n",
       "       onlinemax rating_bin  \n",
       "23551          0       good  \n",
       "382218         0       good  \n",
       "194182         0       good  \n",
       "402612         0       good  \n",
       "414065         0       good  \n",
       "\n",
       "[5 rows x 72 columns]"
      ]
     },
     "execution_count": 13,
     "metadata": {},
     "output_type": "execute_result"
    }
   ],
   "source": [
    "df_good_rating = train[train['rating_bin']== 'good']\n",
    "df_good_rating.head()"
   ]
  },
  {
   "cell_type": "code",
   "execution_count": 17,
   "id": "b3e82acf",
   "metadata": {},
   "outputs": [
    {
     "data": {
      "text/plain": [
       "Text(0.5, 1.0, 'platforms')"
      ]
     },
     "execution_count": 17,
     "metadata": {},
     "output_type": "execute_result"
    },
    {
     "data": {
      "image/png": "[encoded data removed]",
      "text/plain": [
       "<Figure size 1008x288 with 1 Axes>"
      ]
     },
     "metadata": {
      "needs_background": "light"
     },
     "output_type": "display_data"
    }
   ],
   "source": [
    "fig, ax = plt.subplots(figsize = (14,4))\n",
    "ax.bar(to_1D(df_good_rating[\"platforms\"]).value_counts().iloc[:7].index,\n",
    "        to_1D(df_good_rating[\"platforms\"]).value_counts().iloc[:7].values)\n",
    "ax.set_ylabel(\"Frequency\", size = 12)\n",
    "ax.set_title(\"platforms\", size = 14)"
   ]
  },
  {
   "cell_type": "markdown",
   "id": "99cdb131",
   "metadata": {},
   "source": [
    "- for the ratings \"good\" the most used platforms is (in order) pc, xbox 360, ps3, ps4"
   ]
  },
  {
   "cell_type": "markdown",
   "id": "5d68515b",
   "metadata": {},
   "source": [
    "##  Exploring `suberb raitng`"
   ]
  },
  {
   "cell_type": "code",
   "execution_count": 18,
   "id": "5e5b1f87",
   "metadata": {
    "scrolled": true
   },
   "outputs": [
    {
     "data": {
      "text/html": [
       "<div>\n",
       "<style scoped>\n",
       "    .dataframe tbody tr th:only-of-type {\n",
       "        vertical-align: middle;\n",
       "    }\n",
       "\n",
       "    .dataframe tbody tr th {\n",
       "        vertical-align: top;\n",
       "    }\n",
       "\n",
       "    .dataframe thead th {\n",
       "        text-align: right;\n",
       "    }\n",
       "</style>\n",
       "<table border=\"1\" class=\"dataframe\">\n",
       "  <thead>\n",
       "    <tr style=\"text-align: right;\">\n",
       "      <th></th>\n",
       "      <th>id</th>\n",
       "      <th>category</th>\n",
       "      <th>created_at</th>\n",
       "      <th>external_games</th>\n",
       "      <th>first_release_date</th>\n",
       "      <th>genres</th>\n",
       "      <th>name</th>\n",
       "      <th>platforms</th>\n",
       "      <th>release_dates</th>\n",
       "      <th>similar_games</th>\n",
       "      <th>...</th>\n",
       "      <th>offlinecoop</th>\n",
       "      <th>offlinemax</th>\n",
       "      <th>onlinecoop</th>\n",
       "      <th>platform</th>\n",
       "      <th>splitscreen</th>\n",
       "      <th>checksum_y</th>\n",
       "      <th>offlinecoopmax</th>\n",
       "      <th>onlinecoopmax</th>\n",
       "      <th>onlinemax</th>\n",
       "      <th>rating_bin</th>\n",
       "    </tr>\n",
       "  </thead>\n",
       "  <tbody>\n",
       "    <tr>\n",
       "      <th>350151</th>\n",
       "      <td>2617</td>\n",
       "      <td>3</td>\n",
       "      <td>2013-07-17 16:09:09</td>\n",
       "      <td>[43459, 78277]</td>\n",
       "      <td>8.703936e+08</td>\n",
       "      <td>[real-time-strategy-rts, simulator, strategy]</td>\n",
       "      <td>The Settlers II: Gold Edition</td>\n",
       "      <td>[DOS, Mac, Nintendo DS]</td>\n",
       "      <td>[194838, 194839, 194840]</td>\n",
       "      <td>[9789, 18623, 20776, 28325, 29173, 31480, 3151...</td>\n",
       "      <td>...</td>\n",
       "      <td>False</td>\n",
       "      <td>0</td>\n",
       "      <td>False</td>\n",
       "      <td>NaN</td>\n",
       "      <td>False</td>\n",
       "      <td>1c2dfca2-6ee8-b54e-b243-05ffb0c646bc</td>\n",
       "      <td>0</td>\n",
       "      <td>0</td>\n",
       "      <td>0</td>\n",
       "      <td>subperb</td>\n",
       "    </tr>\n",
       "    <tr>\n",
       "      <th>404391</th>\n",
       "      <td>29207</td>\n",
       "      <td>0</td>\n",
       "      <td>2017-05-20 12:20:49</td>\n",
       "      <td>[14106, 77210, 85081, 96659, 2136317]</td>\n",
       "      <td>1.133222e+09</td>\n",
       "      <td>[role-playing-rpg]</td>\n",
       "      <td>Gothic II: Gold Edition</td>\n",
       "      <td>[PC (Microsoft Windows)]</td>\n",
       "      <td>[196063]</td>\n",
       "      <td>[19164, 54775, 81249, 96217, 99118, 101608, 10...</td>\n",
       "      <td>...</td>\n",
       "      <td>False</td>\n",
       "      <td>0</td>\n",
       "      <td>False</td>\n",
       "      <td>NaN</td>\n",
       "      <td>False</td>\n",
       "      <td>None</td>\n",
       "      <td>0</td>\n",
       "      <td>0</td>\n",
       "      <td>0</td>\n",
       "      <td>subperb</td>\n",
       "    </tr>\n",
       "    <tr>\n",
       "      <th>413553</th>\n",
       "      <td>59849</td>\n",
       "      <td>9</td>\n",
       "      <td>2017-09-07 18:41:31</td>\n",
       "      <td>[197757, 210636, 398654, 1237237, 2000741, 211...</td>\n",
       "      <td>1.510618e+09</td>\n",
       "      <td>[shooter, strategy, adventure]</td>\n",
       "      <td>L.A. Noire</td>\n",
       "      <td>[PlayStation 4, Xbox One]</td>\n",
       "      <td>[112409, 112410, 135021, 135022, 136102]</td>\n",
       "      <td>[17379, 17548, 18167, 18225, 26574, 27092, 285...</td>\n",
       "      <td>...</td>\n",
       "      <td>False</td>\n",
       "      <td>0</td>\n",
       "      <td>False</td>\n",
       "      <td>NaN</td>\n",
       "      <td>False</td>\n",
       "      <td>None</td>\n",
       "      <td>0</td>\n",
       "      <td>0</td>\n",
       "      <td>0</td>\n",
       "      <td>subperb</td>\n",
       "    </tr>\n",
       "  </tbody>\n",
       "</table>\n",
       "<p>3 rows × 72 columns</p>\n",
       "</div>"
      ],
      "text/plain": [
       "           id  category          created_at  \\\n",
       "350151   2617         3 2013-07-17 16:09:09   \n",
       "404391  29207         0 2017-05-20 12:20:49   \n",
       "413553  59849         9 2017-09-07 18:41:31   \n",
       "\n",
       "                                           external_games  first_release_date  \\\n",
       "350151                                     [43459, 78277]        8.703936e+08   \n",
       "404391              [14106, 77210, 85081, 96659, 2136317]        1.133222e+09   \n",
       "413553  [197757, 210636, 398654, 1237237, 2000741, 211...        1.510618e+09   \n",
       "\n",
       "                                               genres  \\\n",
       "350151  [real-time-strategy-rts, simulator, strategy]   \n",
       "404391                             [role-playing-rpg]   \n",
       "413553                 [shooter, strategy, adventure]   \n",
       "\n",
       "                                 name                  platforms  \\\n",
       "350151  The Settlers II: Gold Edition    [DOS, Mac, Nintendo DS]   \n",
       "404391        Gothic II: Gold Edition   [PC (Microsoft Windows)]   \n",
       "413553                     L.A. Noire  [PlayStation 4, Xbox One]   \n",
       "\n",
       "                                   release_dates  \\\n",
       "350151                  [194838, 194839, 194840]   \n",
       "404391                                  [196063]   \n",
       "413553  [112409, 112410, 135021, 135022, 136102]   \n",
       "\n",
       "                                            similar_games  ... offlinecoop  \\\n",
       "350151  [9789, 18623, 20776, 28325, 29173, 31480, 3151...  ...       False   \n",
       "404391  [19164, 54775, 81249, 96217, 99118, 101608, 10...  ...       False   \n",
       "413553  [17379, 17548, 18167, 18225, 26574, 27092, 285...  ...       False   \n",
       "\n",
       "       offlinemax onlinecoop platform splitscreen  \\\n",
       "350151          0      False      NaN       False   \n",
       "404391          0      False      NaN       False   \n",
       "413553          0      False      NaN       False   \n",
       "\n",
       "                                  checksum_y offlinecoopmax  onlinecoopmax  \\\n",
       "350151  1c2dfca2-6ee8-b54e-b243-05ffb0c646bc              0              0   \n",
       "404391                                  None              0              0   \n",
       "413553                                  None              0              0   \n",
       "\n",
       "       onlinemax rating_bin  \n",
       "350151         0    subperb  \n",
       "404391         0    subperb  \n",
       "413553         0    subperb  \n",
       "\n",
       "[3 rows x 72 columns]"
      ]
     },
     "execution_count": 18,
     "metadata": {},
     "output_type": "execute_result"
    }
   ],
   "source": [
    "df_subperb_rating = train[train['rating_bin']== 'subperb']\n",
    "df_subperb_rating.head(3)"
   ]
  },
  {
   "cell_type": "markdown",
   "id": "279c2959",
   "metadata": {},
   "source": [
    "> ### Most frequent platforms in the raiting `subperb`"
   ]
  },
  {
   "cell_type": "code",
   "execution_count": 19,
   "id": "1190f25e",
   "metadata": {
    "scrolled": true
   },
   "outputs": [
    {
     "data": {
      "text/plain": [
       "Text(0.5, 1.0, 'platforms')"
      ]
     },
     "execution_count": 19,
     "metadata": {},
     "output_type": "execute_result"
    },
    {
     "data": {
      "image/png": "[encoded data removed]",
      "text/plain": [
       "<Figure size 1008x288 with 1 Axes>"
      ]
     },
     "metadata": {
      "needs_background": "light"
     },
     "output_type": "display_data"
    }
   ],
   "source": [
    "fig, ax = plt.subplots(figsize = (14,4))\n",
    "ax.bar(to_1D(df_subperb_rating[\"platforms\"]).value_counts().iloc[:7].index,\n",
    "        to_1D(df_subperb_rating[\"platforms\"]).value_counts().iloc[:7].values)\n",
    "ax.set_ylabel(\"Frequency\", size = 12)\n",
    "ax.set_title(\"platforms\", size = 14)"
   ]
  },
  {
   "cell_type": "markdown",
   "id": "03c9af95",
   "metadata": {},
   "source": [
    "- suberb rating is mostly mac and PC top two, and mest three are ps4 and ps3."
   ]
  },
  {
   "cell_type": "markdown",
   "id": "28ed0173",
   "metadata": {},
   "source": [
    "## Exploring `great rating`"
   ]
  },
  {
   "cell_type": "code",
   "execution_count": 20,
   "id": "ffbb2a86",
   "metadata": {},
   "outputs": [
    {
     "data": {
      "text/html": [
       "<div>\n",
       "<style scoped>\n",
       "    .dataframe tbody tr th:only-of-type {\n",
       "        vertical-align: middle;\n",
       "    }\n",
       "\n",
       "    .dataframe tbody tr th {\n",
       "        vertical-align: top;\n",
       "    }\n",
       "\n",
       "    .dataframe thead th {\n",
       "        text-align: right;\n",
       "    }\n",
       "</style>\n",
       "<table border=\"1\" class=\"dataframe\">\n",
       "  <thead>\n",
       "    <tr style=\"text-align: right;\">\n",
       "      <th></th>\n",
       "      <th>id</th>\n",
       "      <th>category</th>\n",
       "      <th>created_at</th>\n",
       "      <th>external_games</th>\n",
       "      <th>first_release_date</th>\n",
       "      <th>genres</th>\n",
       "      <th>name</th>\n",
       "      <th>platforms</th>\n",
       "      <th>release_dates</th>\n",
       "      <th>similar_games</th>\n",
       "      <th>...</th>\n",
       "      <th>offlinecoop</th>\n",
       "      <th>offlinemax</th>\n",
       "      <th>onlinecoop</th>\n",
       "      <th>platform</th>\n",
       "      <th>splitscreen</th>\n",
       "      <th>checksum_y</th>\n",
       "      <th>offlinecoopmax</th>\n",
       "      <th>onlinecoopmax</th>\n",
       "      <th>onlinemax</th>\n",
       "      <th>rating_bin</th>\n",
       "    </tr>\n",
       "  </thead>\n",
       "  <tbody>\n",
       "    <tr>\n",
       "      <th>277283</th>\n",
       "      <td>529</td>\n",
       "      <td>0</td>\n",
       "      <td>2011-07-19 08:20:05</td>\n",
       "      <td>[12940, 25578, 74170, 79751, 84411, 93406, 934...</td>\n",
       "      <td>1.354061e+09</td>\n",
       "      <td>[shooter, adventure]</td>\n",
       "      <td>Far Cry 3</td>\n",
       "      <td>[PC (Microsoft Windows), PlayStation 3, Xbox 360]</td>\n",
       "      <td>[2892, 2893, 2894, 102994, 102995]</td>\n",
       "      <td>[564, 960, 1020, 1121, 1985, 3025, 3042, 5647,...</td>\n",
       "      <td>...</td>\n",
       "      <td>True</td>\n",
       "      <td>0</td>\n",
       "      <td>True</td>\n",
       "      <td>9.0</td>\n",
       "      <td>True</td>\n",
       "      <td>783af69d-f6e9-d605-76de-edfff0d941fe</td>\n",
       "      <td>2</td>\n",
       "      <td>4</td>\n",
       "      <td>0</td>\n",
       "      <td>great</td>\n",
       "    </tr>\n",
       "    <tr>\n",
       "      <th>286357</th>\n",
       "      <td>27436</td>\n",
       "      <td>0</td>\n",
       "      <td>2017-02-28 19:05:26</td>\n",
       "      <td>[75751, 218377, 1048606, 1594300, 1615407, 169...</td>\n",
       "      <td>1.544486e+09</td>\n",
       "      <td>[role-playing-rpg, simulator, strategy, advent...</td>\n",
       "      <td>Kingdom Two Crowns</td>\n",
       "      <td>[Linux, PC (Microsoft Windows), Mac, iOS, Play...</td>\n",
       "      <td>[161076, 161077, 161078, 161079, 161080, 31852...</td>\n",
       "      <td>[17548, 25311, 26145, 26574, 27092, 35994, 791...</td>\n",
       "      <td>...</td>\n",
       "      <td>True</td>\n",
       "      <td>0</td>\n",
       "      <td>False</td>\n",
       "      <td>130.0</td>\n",
       "      <td>True</td>\n",
       "      <td>7b20d3b9-73e4-08bb-b0f0-445e5dba1c22</td>\n",
       "      <td>2</td>\n",
       "      <td>0</td>\n",
       "      <td>0</td>\n",
       "      <td>great</td>\n",
       "    </tr>\n",
       "    <tr>\n",
       "      <th>64561</th>\n",
       "      <td>295</td>\n",
       "      <td>0</td>\n",
       "      <td>2011-03-17 08:45:25</td>\n",
       "      <td>[37473, 156771, 247559]</td>\n",
       "      <td>8.486208e+08</td>\n",
       "      <td>[real-time-strategy-rts, strategy]</td>\n",
       "      <td>Command &amp; Conquer: Red Alert</td>\n",
       "      <td>[PC (Microsoft Windows), PlayStation, PlayStat...</td>\n",
       "      <td>[173844, 178440, 178441, 178442, 178443, 17844...</td>\n",
       "      <td>[276, 649, 848, 959, 2040, 9363, 9538, 20776, ...</td>\n",
       "      <td>...</td>\n",
       "      <td>False</td>\n",
       "      <td>8</td>\n",
       "      <td>False</td>\n",
       "      <td>6.0</td>\n",
       "      <td>False</td>\n",
       "      <td>45f1ed05-6d40-4b8d-f42c-730db216f9d9</td>\n",
       "      <td>0</td>\n",
       "      <td>0</td>\n",
       "      <td>8</td>\n",
       "      <td>great</td>\n",
       "    </tr>\n",
       "  </tbody>\n",
       "</table>\n",
       "<p>3 rows × 72 columns</p>\n",
       "</div>"
      ],
      "text/plain": [
       "           id  category          created_at  \\\n",
       "277283    529         0 2011-07-19 08:20:05   \n",
       "286357  27436         0 2017-02-28 19:05:26   \n",
       "64561     295         0 2011-03-17 08:45:25   \n",
       "\n",
       "                                           external_games  first_release_date  \\\n",
       "277283  [12940, 25578, 74170, 79751, 84411, 93406, 934...        1.354061e+09   \n",
       "286357  [75751, 218377, 1048606, 1594300, 1615407, 169...        1.544486e+09   \n",
       "64561                             [37473, 156771, 247559]        8.486208e+08   \n",
       "\n",
       "                                                   genres  \\\n",
       "277283                               [shooter, adventure]   \n",
       "286357  [role-playing-rpg, simulator, strategy, advent...   \n",
       "64561                  [real-time-strategy-rts, strategy]   \n",
       "\n",
       "                                name  \\\n",
       "277283                     Far Cry 3   \n",
       "286357            Kingdom Two Crowns   \n",
       "64561   Command & Conquer: Red Alert   \n",
       "\n",
       "                                                platforms  \\\n",
       "277283  [PC (Microsoft Windows), PlayStation 3, Xbox 360]   \n",
       "286357  [Linux, PC (Microsoft Windows), Mac, iOS, Play...   \n",
       "64561   [PC (Microsoft Windows), PlayStation, PlayStat...   \n",
       "\n",
       "                                            release_dates  \\\n",
       "277283                 [2892, 2893, 2894, 102994, 102995]   \n",
       "286357  [161076, 161077, 161078, 161079, 161080, 31852...   \n",
       "64561   [173844, 178440, 178441, 178442, 178443, 17844...   \n",
       "\n",
       "                                            similar_games  ... offlinecoop  \\\n",
       "277283  [564, 960, 1020, 1121, 1985, 3025, 3042, 5647,...  ...        True   \n",
       "286357  [17548, 25311, 26145, 26574, 27092, 35994, 791...  ...        True   \n",
       "64561   [276, 649, 848, 959, 2040, 9363, 9538, 20776, ...  ...       False   \n",
       "\n",
       "       offlinemax onlinecoop platform splitscreen  \\\n",
       "277283          0       True      9.0        True   \n",
       "286357          0      False    130.0        True   \n",
       "64561           8      False      6.0       False   \n",
       "\n",
       "                                  checksum_y offlinecoopmax  onlinecoopmax  \\\n",
       "277283  783af69d-f6e9-d605-76de-edfff0d941fe              2              4   \n",
       "286357  7b20d3b9-73e4-08bb-b0f0-445e5dba1c22              2              0   \n",
       "64561   45f1ed05-6d40-4b8d-f42c-730db216f9d9              0              0   \n",
       "\n",
       "       onlinemax rating_bin  \n",
       "277283         0      great  \n",
       "286357         0      great  \n",
       "64561          8      great  \n",
       "\n",
       "[3 rows x 72 columns]"
      ]
     },
     "execution_count": 20,
     "metadata": {},
     "output_type": "execute_result"
    }
   ],
   "source": [
    "df_great_rating = train[train['rating_bin']== 'great']\n",
    "df_great_rating.head(3)"
   ]
  },
  {
   "cell_type": "code",
   "execution_count": 21,
   "id": "b1f07a62",
   "metadata": {},
   "outputs": [
    {
     "data": {
      "text/plain": [
       "Text(0.5, 1.0, 'platforms')"
      ]
     },
     "execution_count": 21,
     "metadata": {},
     "output_type": "execute_result"
    },
    {
     "data": {
      "image/png": "[encoded data removed]",
      "text/plain": [
       "<Figure size 1008x288 with 1 Axes>"
      ]
     },
     "metadata": {
      "needs_background": "light"
     },
     "output_type": "display_data"
    }
   ],
   "source": [
    "fig, ax = plt.subplots(figsize = (14,4))\n",
    "ax.bar(to_1D(df_great_rating[\"platforms\"]).value_counts().iloc[:7].index,\n",
    "        to_1D(df_great_rating[\"platforms\"]).value_counts().iloc[:7].values)\n",
    "ax.set_ylabel(\"Frequency\", size = 12)\n",
    "ax.set_title(\"platforms\", size = 14)"
   ]
  },
  {
   "cell_type": "code",
   "execution_count": 22,
   "id": "ae65bb53",
   "metadata": {
    "scrolled": false
   },
   "outputs": [
    {
     "data": {
      "text/html": [
       "<div>\n",
       "<style scoped>\n",
       "    .dataframe tbody tr th:only-of-type {\n",
       "        vertical-align: middle;\n",
       "    }\n",
       "\n",
       "    .dataframe tbody tr th {\n",
       "        vertical-align: top;\n",
       "    }\n",
       "\n",
       "    .dataframe thead th {\n",
       "        text-align: right;\n",
       "    }\n",
       "</style>\n",
       "<table border=\"1\" class=\"dataframe\">\n",
       "  <thead>\n",
       "    <tr style=\"text-align: right;\">\n",
       "      <th></th>\n",
       "      <th>id</th>\n",
       "      <th>category</th>\n",
       "      <th>created_at</th>\n",
       "      <th>external_games</th>\n",
       "      <th>first_release_date</th>\n",
       "      <th>genres</th>\n",
       "      <th>name</th>\n",
       "      <th>platforms</th>\n",
       "      <th>release_dates</th>\n",
       "      <th>similar_games</th>\n",
       "      <th>...</th>\n",
       "      <th>offlinecoop</th>\n",
       "      <th>offlinemax</th>\n",
       "      <th>onlinecoop</th>\n",
       "      <th>platform</th>\n",
       "      <th>splitscreen</th>\n",
       "      <th>checksum_y</th>\n",
       "      <th>offlinecoopmax</th>\n",
       "      <th>onlinecoopmax</th>\n",
       "      <th>onlinemax</th>\n",
       "      <th>rating_bin</th>\n",
       "    </tr>\n",
       "  </thead>\n",
       "  <tbody>\n",
       "    <tr>\n",
       "      <th>277283</th>\n",
       "      <td>529</td>\n",
       "      <td>0</td>\n",
       "      <td>2011-07-19 08:20:05</td>\n",
       "      <td>[12940, 25578, 74170, 79751, 84411, 93406, 934...</td>\n",
       "      <td>1.354061e+09</td>\n",
       "      <td>[shooter, adventure]</td>\n",
       "      <td>Far Cry 3</td>\n",
       "      <td>[PC (Microsoft Windows), PlayStation 3, Xbox 360]</td>\n",
       "      <td>[2892, 2893, 2894, 102994, 102995]</td>\n",
       "      <td>[564, 960, 1020, 1121, 1985, 3025, 3042, 5647,...</td>\n",
       "      <td>...</td>\n",
       "      <td>True</td>\n",
       "      <td>0</td>\n",
       "      <td>True</td>\n",
       "      <td>9.0</td>\n",
       "      <td>True</td>\n",
       "      <td>783af69d-f6e9-d605-76de-edfff0d941fe</td>\n",
       "      <td>2</td>\n",
       "      <td>4</td>\n",
       "      <td>0</td>\n",
       "      <td>great</td>\n",
       "    </tr>\n",
       "  </tbody>\n",
       "</table>\n",
       "<p>1 rows × 72 columns</p>\n",
       "</div>"
      ],
      "text/plain": [
       "         id  category          created_at  \\\n",
       "277283  529         0 2011-07-19 08:20:05   \n",
       "\n",
       "                                           external_games  first_release_date  \\\n",
       "277283  [12940, 25578, 74170, 79751, 84411, 93406, 934...        1.354061e+09   \n",
       "\n",
       "                      genres       name  \\\n",
       "277283  [shooter, adventure]  Far Cry 3   \n",
       "\n",
       "                                                platforms  \\\n",
       "277283  [PC (Microsoft Windows), PlayStation 3, Xbox 360]   \n",
       "\n",
       "                             release_dates  \\\n",
       "277283  [2892, 2893, 2894, 102994, 102995]   \n",
       "\n",
       "                                            similar_games  ... offlinecoop  \\\n",
       "277283  [564, 960, 1020, 1121, 1985, 3025, 3042, 5647,...  ...        True   \n",
       "\n",
       "       offlinemax onlinecoop platform splitscreen  \\\n",
       "277283          0       True      9.0        True   \n",
       "\n",
       "                                  checksum_y offlinecoopmax  onlinecoopmax  \\\n",
       "277283  783af69d-f6e9-d605-76de-edfff0d941fe              2              4   \n",
       "\n",
       "       onlinemax rating_bin  \n",
       "277283         0      great  \n",
       "\n",
       "[1 rows x 72 columns]"
      ]
     },
     "execution_count": 22,
     "metadata": {},
     "output_type": "execute_result"
    }
   ],
   "source": [
    "\n",
    "df_top3_rating = train[(train['rating_bin']== 'great') | (train['rating_bin']== 'good') | (train['rating_bin']== 'subperb')]\n",
    "df_top3_rating.head(1)"
   ]
  },
  {
   "cell_type": "markdown",
   "id": "a6517ba3",
   "metadata": {},
   "source": [
    "## These are the top 7 platforms for the three best ratings (good, great, subperb)"
   ]
  },
  {
   "cell_type": "code",
   "execution_count": 38,
   "id": "a8cf9f83",
   "metadata": {
    "scrolled": false
   },
   "outputs": [
    {
     "data": {
      "text/plain": [
       "Text(0.5, 1.0, 'platforms')"
      ]
     },
     "execution_count": 38,
     "metadata": {},
     "output_type": "execute_result"
    },
    {
     "data": {
      "image/png": "[encoded data removed]",
      "text/plain": [
       "<Figure size 1008x288 with 1 Axes>"
      ]
     },
     "metadata": {},
     "output_type": "display_data"
    }
   ],
   "source": [
    "fig, ax = plt.subplots(figsize = (14,4))\n",
    "sns.set_style(\"dark\")\n",
    "ax.bar(to_1D(df_top3_rating[\"platforms\"]).value_counts().iloc[:7].index,\n",
    "        to_1D(df_top3_rating[\"platforms\"]).value_counts().iloc[:7].values,\n",
    "          color= ['purple'])\n",
    "ax.set_ylabel(\"Frequency\", size = 12)\n",
    "ax.set_title(\"platforms\", size = 14)"
   ]
  },
  {
   "cell_type": "markdown",
   "id": "307b2dd0",
   "metadata": {},
   "source": [
    "- Yes it looks like for the games in the three highest member ratings (good, great,subperb) the majority of those games are played on \n",
    "    - PC(microsoft Windows)\n",
    "    - X-Box 360\n",
    "    - ps 3 and 4 \n",
    "    - X-box 1"
   ]
  },
  {
   "cell_type": "markdown",
   "id": "c101725e",
   "metadata": {},
   "source": [
    "## These are the top 7 platforms for the lowest  ratings (bad, very bad , awful)"
   ]
  },
  {
   "cell_type": "code",
   "execution_count": 39,
   "id": "9e96532d",
   "metadata": {},
   "outputs": [
    {
     "data": {
      "text/html": [
       "<div>\n",
       "<style scoped>\n",
       "    .dataframe tbody tr th:only-of-type {\n",
       "        vertical-align: middle;\n",
       "    }\n",
       "\n",
       "    .dataframe tbody tr th {\n",
       "        vertical-align: top;\n",
       "    }\n",
       "\n",
       "    .dataframe thead th {\n",
       "        text-align: right;\n",
       "    }\n",
       "</style>\n",
       "<table border=\"1\" class=\"dataframe\">\n",
       "  <thead>\n",
       "    <tr style=\"text-align: right;\">\n",
       "      <th></th>\n",
       "      <th>id</th>\n",
       "      <th>category</th>\n",
       "      <th>created_at</th>\n",
       "      <th>external_games</th>\n",
       "      <th>first_release_date</th>\n",
       "      <th>genres</th>\n",
       "      <th>name</th>\n",
       "      <th>platforms</th>\n",
       "      <th>release_dates</th>\n",
       "      <th>similar_games</th>\n",
       "      <th>...</th>\n",
       "      <th>offlinecoop</th>\n",
       "      <th>offlinemax</th>\n",
       "      <th>onlinecoop</th>\n",
       "      <th>platform</th>\n",
       "      <th>splitscreen</th>\n",
       "      <th>checksum_y</th>\n",
       "      <th>offlinecoopmax</th>\n",
       "      <th>onlinecoopmax</th>\n",
       "      <th>onlinemax</th>\n",
       "      <th>rating_bin</th>\n",
       "    </tr>\n",
       "  </thead>\n",
       "  <tbody>\n",
       "    <tr>\n",
       "      <th>1909</th>\n",
       "      <td>30886</td>\n",
       "      <td>0</td>\n",
       "      <td>2017-05-23</td>\n",
       "      <td>[2456, 1993129]</td>\n",
       "      <td>1.480982e+09</td>\n",
       "      <td>[adventure, indie]</td>\n",
       "      <td>Time Of Silence</td>\n",
       "      <td>[PC (Microsoft Windows)]</td>\n",
       "      <td>[73864]</td>\n",
       "      <td>[28277, 37419, 55282, 75948, 81275, 106992, 10...</td>\n",
       "      <td>...</td>\n",
       "      <td>False</td>\n",
       "      <td>0</td>\n",
       "      <td>False</td>\n",
       "      <td>NaN</td>\n",
       "      <td>False</td>\n",
       "      <td>None</td>\n",
       "      <td>0</td>\n",
       "      <td>0</td>\n",
       "      <td>0</td>\n",
       "      <td>bad</td>\n",
       "    </tr>\n",
       "  </tbody>\n",
       "</table>\n",
       "<p>1 rows × 72 columns</p>\n",
       "</div>"
      ],
      "text/plain": [
       "         id  category created_at   external_games  first_release_date  \\\n",
       "1909  30886         0 2017-05-23  [2456, 1993129]        1.480982e+09   \n",
       "\n",
       "                  genres             name                 platforms  \\\n",
       "1909  [adventure, indie]  Time Of Silence  [PC (Microsoft Windows)]   \n",
       "\n",
       "     release_dates                                      similar_games  ...  \\\n",
       "1909       [73864]  [28277, 37419, 55282, 75948, 81275, 106992, 10...  ...   \n",
       "\n",
       "     offlinecoop offlinemax onlinecoop platform splitscreen checksum_y  \\\n",
       "1909       False          0      False      NaN       False       None   \n",
       "\n",
       "     offlinecoopmax  onlinecoopmax onlinemax rating_bin  \n",
       "1909              0              0         0        bad  \n",
       "\n",
       "[1 rows x 72 columns]"
      ]
     },
     "execution_count": 39,
     "metadata": {},
     "output_type": "execute_result"
    }
   ],
   "source": [
    "df_low3_rating = df2[(df2['rating_bin']== 'bad') | (df2['rating_bin']== 'very bad') | (df2['rating_bin']== 'awful')]\n",
    "df_low3_rating.head(1)"
   ]
  },
  {
   "cell_type": "code",
   "execution_count": 40,
   "id": "4916b716",
   "metadata": {},
   "outputs": [
    {
     "data": {
      "text/plain": [
       "Text(0.5, 1.0, 'platforms')"
      ]
     },
     "execution_count": 40,
     "metadata": {},
     "output_type": "execute_result"
    },
    {
     "data": {
      "image/png": "[encoded data removed]",
      "text/plain": [
       "<Figure size 1008x288 with 1 Axes>"
      ]
     },
     "metadata": {},
     "output_type": "display_data"
    }
   ],
   "source": [
    "fig, ax = plt.subplots(figsize = (14,4))\n",
    "ax.bar(to_1D(df_low3_rating[\"platforms\"]).value_counts().iloc[:7].index,\n",
    "        to_1D(df_low3_rating[\"platforms\"]).value_counts().iloc[:7].values)\n",
    "ax.set_ylabel(\"Frequency\", size = 12)\n",
    "ax.set_title(\"platforms\", size = 14)"
   ]
  },
  {
   "cell_type": "code",
   "execution_count": null,
   "id": "8174a7a3",
   "metadata": {},
   "outputs": [],
   "source": []
  },
  {
   "cell_type": "markdown",
   "id": "17eea102",
   "metadata": {},
   "source": [
    "# Q2- what is the most common genre in games that are `subperb` (the highest rating)"
   ]
  },
  {
   "cell_type": "markdown",
   "id": "e773b478",
   "metadata": {},
   "source": [
    "- Answer- the most common Genre in the higest rating are adventure, role-playing- rpg, shoter, rts, racing "
   ]
  },
  {
   "cell_type": "code",
   "execution_count": null,
   "id": "817481e2",
   "metadata": {
    "scrolled": true
   },
   "outputs": [],
   "source": [
    "df_subperb_rating"
   ]
  },
  {
   "cell_type": "code",
   "execution_count": null,
   "id": "885fa0e5",
   "metadata": {
    "scrolled": true
   },
   "outputs": [],
   "source": [
    "fig, ax = plt.subplots(figsize = (14,4))\n",
    "ax.bar(to_1D(df_subperb_rating[\"genres\"]).value_counts().iloc[:7].index,\n",
    "        to_1D(df_subperb_rating[\"genres\"]).value_counts().iloc[:7].values)\n",
    "ax.set_ylabel(\"Frequency\", size = 12)\n",
    "ax.set_title(\"genre\", size = 14)"
   ]
  },
  {
   "cell_type": "markdown",
   "id": "3ac0946e",
   "metadata": {},
   "source": [
    ">- Answer- the most common Genre in the higest rating are adventure, role-playing- rpg, shoter, rts, racing "
   ]
  },
  {
   "cell_type": "markdown",
   "id": "70e821dc",
   "metadata": {},
   "source": [
    "## Q 2.1 what about the three highest ratings (good, great, subperb) ? what is the overall most highest genre"
   ]
  },
  {
   "cell_type": "code",
   "execution_count": null,
   "id": "b6df1bc3",
   "metadata": {},
   "outputs": [],
   "source": [
    "fig, ax = plt.subplots(figsize = (14,4))\n",
    "ax.bar(to_1D(df_top3_rating[\"genres\"]).value_counts().iloc[:7].index,\n",
    "        to_1D(df_top3_rating[\"genres\"]).value_counts().iloc[:7].values)\n",
    "ax.set_ylabel(\"Frequency\", size = 12)\n",
    "ax.set_title(\"genres\", size = 14)"
   ]
  },
  {
   "cell_type": "markdown",
   "id": "ab66e13f",
   "metadata": {},
   "source": [
    "## Q 2.2 what about the three lowest ratings ((bad, very bad , awful)) ? what is the overall most highest genre in these low rating games?"
   ]
  },
  {
   "cell_type": "code",
   "execution_count": null,
   "id": "f5837580",
   "metadata": {},
   "outputs": [],
   "source": [
    "fig, ax = plt.subplots(figsize = (14,4))\n",
    "ax.bar(to_1D(df_low3_rating[\"genres\"]).value_counts().iloc[:7].index,\n",
    "        to_1D(df_low3_rating[\"genres\"]).value_counts().iloc[:7].values)\n",
    "ax.set_ylabel(\"Frequency\", size = 12)\n",
    "ax.set_title(\"platforms\", size = 14)"
   ]
  },
  {
   "cell_type": "code",
   "execution_count": null,
   "id": "76f44ccd",
   "metadata": {},
   "outputs": [],
   "source": []
  },
  {
   "cell_type": "markdown",
   "id": "18a69a2d",
   "metadata": {},
   "source": [
    "# Q3- what is the most common theme in games that are subperb (the highest rating)"
   ]
  },
  {
   "cell_type": "markdown",
   "id": "74003c51",
   "metadata": {},
   "source": [
    "Answer - the most common themes in the subperb is action, fantasy, science fiction, historical."
   ]
  },
  {
   "cell_type": "code",
   "execution_count": null,
   "id": "b8cc1f70",
   "metadata": {},
   "outputs": [],
   "source": [
    "fig, ax = plt.subplots(figsize = (14,4))\n",
    "ax.bar(to_1D(df_great_rating[\"themes\"]).value_counts().iloc[:7].index,\n",
    "        to_1D(df_great_rating[\"themes\"]).value_counts().iloc[:7].values)\n",
    "ax.set_ylabel(\"Frequency\", size = 12)\n",
    "ax.set_title(\"themes\", size = 14)"
   ]
  },
  {
   "cell_type": "markdown",
   "id": "fbb47346",
   "metadata": {},
   "source": [
    "## Q3.1- what is the most common theme in games that are three highest ratings (good, great, subperb)?"
   ]
  },
  {
   "cell_type": "code",
   "execution_count": null,
   "id": "fa216673",
   "metadata": {},
   "outputs": [],
   "source": [
    "fig, ax = plt.subplots(figsize = (14,4))\n",
    "ax.bar(to_1D(df_top3_rating[\"themes\"]).value_counts().iloc[:7].index,\n",
    "        to_1D(df_top3_rating[\"themes\"]).value_counts().iloc[:7].values)\n",
    "ax.set_ylabel(\"Frequency\", size = 12)\n",
    "ax.set_title(\"Themes\", size = 14)"
   ]
  },
  {
   "cell_type": "markdown",
   "id": "8eb0a738",
   "metadata": {},
   "source": [
    "## Q3.1- what is the most common theme in games that are three lowest ratings ((bad, very bad , awful)) ?"
   ]
  },
  {
   "cell_type": "code",
   "execution_count": null,
   "id": "6fd627ff",
   "metadata": {},
   "outputs": [],
   "source": [
    "fig, ax = plt.subplots(figsize = (14,4))\n",
    "ax.bar(to_1D(df_low3_rating[\"themes\"]).value_counts().iloc[:7].index,\n",
    "        to_1D(df_low3_rating[\"themes\"]).value_counts().iloc[:7].values)\n",
    "ax.set_ylabel(\"Frequency\", size = 12)\n",
    "ax.set_title(\"Themes\", size = 14)"
   ]
  },
  {
   "cell_type": "code",
   "execution_count": null,
   "id": "f9253e2c",
   "metadata": {},
   "outputs": [],
   "source": []
  },
  {
   "cell_type": "markdown",
   "id": "cf7d7a0c",
   "metadata": {},
   "source": [
    "# Q4-  Do users rate games with online multiplayer modes higher than games that lack online multiplayer modes?\n",
    "\n",
    "> since there is a gap time from game that can be played online and games that cannot- we decided to remove that gap and make sure that the games all come out in the same time period\n",
    "\n",
    "\n",
    "### _answer:_ even after removing that time gap the games that are `NOT` multiplayer online games are rated higher than non-multiplayer games"
   ]
  },
  {
   "cell_type": "code",
   "execution_count": null,
   "id": "52c4080a",
   "metadata": {
    "scrolled": false
   },
   "outputs": [],
   "source": [
    "df2.head(2)"
   ]
  },
  {
   "cell_type": "markdown",
   "id": "238d6ae5",
   "metadata": {},
   "source": [
    ">## Not online multi"
   ]
  },
  {
   "cell_type": "code",
   "execution_count": null,
   "id": "b8fc51ba",
   "metadata": {},
   "outputs": [],
   "source": [
    "#making sure all games are comming out of the same time period\n",
    "train['created_at'] = pd.to_datetime(train['created_at'],unit='s')"
   ]
  },
  {
   "cell_type": "code",
   "execution_count": null,
   "id": "4e7b94b9",
   "metadata": {
    "scrolled": false
   },
   "outputs": [],
   "source": [
    "train.onlinecoop.value_counts()"
   ]
  },
  {
   "cell_type": "code",
   "execution_count": null,
   "id": "3f8d95d1",
   "metadata": {
    "scrolled": false
   },
   "outputs": [],
   "source": [
    "NOT_online_multi = train[train['onlinecoop']== False]\n",
    "NOT_online_multi.head(1)"
   ]
  },
  {
   "cell_type": "code",
   "execution_count": null,
   "id": "222c402c",
   "metadata": {
    "scrolled": true
   },
   "outputs": [],
   "source": [
    "NOT_online_multi['first_release_date'] = pd.to_datetime(NOT_online_multi['first_release_date'],unit='s')"
   ]
  },
  {
   "cell_type": "code",
   "execution_count": null,
   "id": "2c84c79a",
   "metadata": {
    "scrolled": true
   },
   "outputs": [],
   "source": [
    "NOT_online_multi.head()"
   ]
  },
  {
   "cell_type": "code",
   "execution_count": null,
   "id": "59e21a92",
   "metadata": {
    "scrolled": true
   },
   "outputs": [],
   "source": [
    "NOT_online_multi.first_release_date.value_counts()"
   ]
  },
  {
   "cell_type": "code",
   "execution_count": null,
   "id": "268bcca1",
   "metadata": {},
   "outputs": [],
   "source": [
    "NOT_online_multi['first_release_date_year'] = NOT_online_multi.first_release_date.dt.year"
   ]
  },
  {
   "cell_type": "code",
   "execution_count": null,
   "id": "05a6d2bc",
   "metadata": {
    "scrolled": true
   },
   "outputs": [],
   "source": [
    "NOT_online_multi.first_release_date_year.value_counts()"
   ]
  },
  {
   "cell_type": "code",
   "execution_count": null,
   "id": "f4ce5bf4",
   "metadata": {},
   "outputs": [],
   "source": [
    "NOT_online_multi.head()"
   ]
  },
  {
   "cell_type": "code",
   "execution_count": null,
   "id": "dd0a9d46",
   "metadata": {},
   "outputs": [],
   "source": [
    "#1981 is the lowest date in online i will it cut it off there "
   ]
  },
  {
   "cell_type": "code",
   "execution_count": null,
   "id": "11680d24",
   "metadata": {
    "scrolled": true
   },
   "outputs": [],
   "source": [
    "NOT_online_multi = NOT_online_multi[NOT_online_multi['first_release_date_year'] > 1981.0]\n",
    "NOT_online_multi.head(1)"
   ]
  },
  {
   "cell_type": "code",
   "execution_count": null,
   "id": "30959447",
   "metadata": {
    "scrolled": true
   },
   "outputs": [],
   "source": [
    "NOT_online_multi.first_release_date_year.value_counts()"
   ]
  },
  {
   "cell_type": "markdown",
   "id": "79f5a5b9",
   "metadata": {},
   "source": [
    "## Not online multi-player that games are after 1981"
   ]
  },
  {
   "cell_type": "code",
   "execution_count": null,
   "id": "5ec8adb8",
   "metadata": {},
   "outputs": [],
   "source": [
    "plt.figure(figsize=(12,5))\n",
    "c = sns.countplot(x='rating_bin', data=NOT_online_multi)\n",
    "\n",
    "for p in c.patches:\n",
    "    c.annotate(p.get_height(), \n",
    "                (p.get_x() + p.get_width() / 2.0, \n",
    "                 p.get_height()), \n",
    "                 ha = 'center', \n",
    "                 va = 'center', \n",
    "                 xytext = (1, 5),\n",
    "                 textcoords = 'offset points')"
   ]
  },
  {
   "cell_type": "markdown",
   "id": "e24a2db5",
   "metadata": {},
   "source": [
    ">##  online multi"
   ]
  },
  {
   "cell_type": "code",
   "execution_count": null,
   "id": "d2070864",
   "metadata": {
    "scrolled": true
   },
   "outputs": [],
   "source": [
    "df_online_multi = df2[df2['onlinecoop']== True]\n",
    "df_online_multi.head(1)"
   ]
  },
  {
   "cell_type": "markdown",
   "id": "57412b0e",
   "metadata": {},
   "source": [
    "## Games that are after 1981 - Ratings "
   ]
  },
  {
   "cell_type": "code",
   "execution_count": null,
   "id": "c9d5793c",
   "metadata": {
    "scrolled": true
   },
   "outputs": [],
   "source": [
    "plt.figure(figsize=(12,5))\n",
    "c = sns.countplot(x='rating_bin', data=df_online_multi)\n",
    "\n",
    "for p in c.patches:\n",
    "    c.annotate(p.get_height(), \n",
    "                (p.get_x() + p.get_width() / 2.0, \n",
    "                 p.get_height()), \n",
    "                 ha = 'center', \n",
    "                 va = 'center', \n",
    "                 xytext = (1, 5),\n",
    "                 textcoords = 'offset points')"
   ]
  },
  {
   "cell_type": "markdown",
   "id": "89f13fa2",
   "metadata": {},
   "source": [
    "### figuring out the time period for online games"
   ]
  },
  {
   "cell_type": "code",
   "execution_count": null,
   "id": "4b35e92c",
   "metadata": {},
   "outputs": [],
   "source": [
    "df_online_multi['first_release_date'] = pd.to_datetime(df_online_multi['first_release_date'],unit='s')"
   ]
  },
  {
   "cell_type": "code",
   "execution_count": null,
   "id": "2c5df8f9",
   "metadata": {},
   "outputs": [],
   "source": [
    "df_online_multi.head(1)"
   ]
  },
  {
   "cell_type": "code",
   "execution_count": null,
   "id": "72ef927d",
   "metadata": {},
   "outputs": [],
   "source": [
    "df_online_multi['first_release_date_year'] = df_online_multi.first_release_date.dt.year"
   ]
  },
  {
   "cell_type": "code",
   "execution_count": null,
   "id": "122e49ed",
   "metadata": {
    "scrolled": true
   },
   "outputs": [],
   "source": [
    "df_online_multi.first_release_date_year.value_counts()"
   ]
  },
  {
   "cell_type": "markdown",
   "id": "da2266c2",
   "metadata": {},
   "source": [
    " # Q 4- Does a certain game_mode determine the game rating?"
   ]
  },
  {
   "cell_type": "code",
   "execution_count": null,
   "id": "edc71e0f",
   "metadata": {},
   "outputs": [],
   "source": []
  },
  {
   "cell_type": "markdown",
   "id": "489a4148",
   "metadata": {},
   "source": [
    "# preparing for modeling the data pt 2"
   ]
  },
  {
   "cell_type": "code",
   "execution_count": null,
   "id": "bd55656c",
   "metadata": {},
   "outputs": [],
   "source": [
    "genres_dict"
   ]
  },
  {
   "cell_type": "code",
   "execution_count": null,
   "id": "e31dc7ef",
   "metadata": {},
   "outputs": [],
   "source": [
    "# loop through genres list"
   ]
  },
  {
   "cell_type": "code",
   "execution_count": null,
   "id": "c3cf1517",
   "metadata": {},
   "outputs": [],
   "source": [
    "# list of genres to add\n",
    "items = ['point-and-click', 'fighting', 'shooter', 'music', 'platform', 'puzzle', 'racing', 'real-time-strategy-rts', 'role-playing-rpg', 'simulator', 'sport', 'strategy', 'turn-based-strategy-tbs', 'tactical', 'hack-and-slash-beat-em-up', 'quiz-trivia', 'pinball', 'adventure', 'indie', 'arcade', 'visual-novel', 'card-and-board-game', 'moba']\n",
    "# function to loop through column list and check for genre\n",
    "def my_list(column, word):\n",
    "    if word in column:\n",
    "        return 1\n",
    "    else:\n",
    "        return 0"
   ]
  },
  {
   "cell_type": "code",
   "execution_count": null,
   "id": "fc0925e8",
   "metadata": {},
   "outputs": [],
   "source": [
    "for item in items:\n",
    "    game_library[item] = game_library['genres'].apply(my_list, word=item)"
   ]
  },
  {
   "cell_type": "code",
   "execution_count": null,
   "id": "1c771f50",
   "metadata": {},
   "outputs": [],
   "source": [
    "\n",
    "game_library.head()"
   ]
  },
  {
   "cell_type": "code",
   "execution_count": null,
   "id": "1e39cecf",
   "metadata": {},
   "outputs": [],
   "source": [
    "platform_dict"
   ]
  },
  {
   "cell_type": "code",
   "execution_count": null,
   "id": "59f3c1c1",
   "metadata": {},
   "outputs": [],
   "source": [
    "# Adding platforms to game_library"
   ]
  },
  {
   "cell_type": "code",
   "execution_count": null,
   "id": "6957a0f8",
   "metadata": {},
   "outputs": [],
   "source": [
    "# list of platformd to add\n",
    "platforms = ['Linux', 'Nintendo 64', 'Wii', 'PC (Microsoft Windows)', 'PlayStation', 'PlayStation 2', 'PlayStation 3', 'Xbox', 'Xbox 360', 'DOS', 'Mac', 'Nintendo Entertainment System', 'Super Nintendo Entertainment System', 'Nintendo DS', 'Nintendo GameCube', 'Game Boy Color', 'Game Boy Advance', 'Sega Mega Drive/Genesis','Sega Saturn', 'Game Boy', 'Android', 'Nintendo 3DS','PlayStation Portable', 'iOS', 'Wii U', 'PlayStation Vita', 'Virtual Console (Nintendo)', 'PlayStation 4', 'Xbox One', 'Family Computer Disk System', 'Arcade', 'Windows Phone', 'Apple II', 'Web browser', 'Odyssey', 'Commodore 16', 'New Nintendo 3DS']\n"
   ]
  },
  {
   "cell_type": "code",
   "execution_count": null,
   "id": "64faa235",
   "metadata": {},
   "outputs": [],
   "source": [
    "# function to loop through column list and check for genre\n",
    "def my_list(column, word):\n",
    "    if word in column:\n",
    "        return 1\n",
    "    else:\n",
    "        return 0"
   ]
  },
  {
   "cell_type": "code",
   "execution_count": null,
   "id": "7b7743cb",
   "metadata": {},
   "outputs": [],
   "source": [
    "for platform in platforms:\n",
    "    game_library[platform] = game_library['platforms'].apply(my_list, word=platform)"
   ]
  },
  {
   "cell_type": "code",
   "execution_count": null,
   "id": "23c863ae",
   "metadata": {
    "scrolled": true
   },
   "outputs": [],
   "source": [
    "game_library.head()"
   ]
  },
  {
   "cell_type": "markdown",
   "id": "801211fa",
   "metadata": {},
   "source": [
    "## Add theams to game library"
   ]
  },
  {
   "cell_type": "code",
   "execution_count": null,
   "id": "f55049e7",
   "metadata": {},
   "outputs": [],
   "source": [
    "themes = ['Thriller', 'Science fiction', 'Action', 'Horror', 'Survival', 'Fantasy', 'Historical', 'Stealth', 'Comedy', 'Business', 'Drama', 'Non-fiction', 'Kids', 'Sandbox', 'Open world', 'Warfare', 'Educational', 'Mystery', 'Party', 'Romance', 'Erotic']\n",
    "\n",
    "def my_list_themes(column, word):\n",
    "    if word in column:\n",
    "        return 1\n",
    "    else:\n",
    "        return 0"
   ]
  },
  {
   "cell_type": "code",
   "execution_count": null,
   "id": "8094436d",
   "metadata": {},
   "outputs": [],
   "source": [
    "for theme in themes:\n",
    "    game_library[theme] = game_library['themes'].apply(my_list_themes, word=theme)"
   ]
  },
  {
   "cell_type": "code",
   "execution_count": null,
   "id": "747b1b80",
   "metadata": {},
   "outputs": [],
   "source": [
    "game_library.head()"
   ]
  },
  {
   "cell_type": "markdown",
   "id": "3d034d8f",
   "metadata": {},
   "source": [
    "## Add player perspective"
   ]
  },
  {
   "cell_type": "code",
   "execution_count": null,
   "id": "b054912a",
   "metadata": {},
   "outputs": [],
   "source": [
    "players = ['First person', 'Third person', 'Bird view / Isometric', 'Text', 'Side view', 'Virtual Reality', 'Auditory'  'Drama']\n",
    "\n",
    "def my_list_player(column, word):\n",
    "    if word in column:\n",
    "        return 1\n",
    "    else:\n",
    "        return 0"
   ]
  },
  {
   "cell_type": "code",
   "execution_count": null,
   "id": "de23a7b7",
   "metadata": {},
   "outputs": [],
   "source": [
    "for player in players:\n",
    "    game_library[player] = game_library['player_perspectives'].apply(my_list_player, word=player)\n"
   ]
  },
  {
   "cell_type": "code",
   "execution_count": null,
   "id": "fe68c4c4",
   "metadata": {},
   "outputs": [],
   "source": [
    "game_library.head()"
   ]
  },
  {
   "cell_type": "markdown",
   "id": "3dbd5ae1",
   "metadata": {},
   "source": [
    "## Add game modes"
   ]
  },
  {
   "cell_type": "code",
   "execution_count": null,
   "id": "5a9c04d6",
   "metadata": {},
   "outputs": [],
   "source": [
    "modes = ['single-player', 'multiplayer', 'co-operative', 'split-screen', 'massively-multiplayer-online-mmo', 'battle-royale']\n",
    "\n",
    "def my_list(column, word):\n",
    "    if word in column:\n",
    "        return 1\n",
    "    else:\n",
    "        return 0"
   ]
  },
  {
   "cell_type": "code",
   "execution_count": null,
   "id": "26a8cb37",
   "metadata": {},
   "outputs": [],
   "source": [
    "for mode in modes:\n",
    "    game_library[mode] = game_library['player_perspectives'].apply(my_list, word=mode)"
   ]
  },
  {
   "cell_type": "markdown",
   "id": "b4ce6a73",
   "metadata": {},
   "source": [
    "## turn dlc column into boolean column\n"
   ]
  },
  {
   "cell_type": "code",
   "execution_count": null,
   "id": "da7e201f",
   "metadata": {},
   "outputs": [],
   "source": [
    "game_library['dlcs'] = game_library['dlcs'].fillna(0)\n",
    "game_library.head()"
   ]
  },
  {
   "cell_type": "code",
   "execution_count": null,
   "id": "1022c3fa",
   "metadata": {},
   "outputs": [],
   "source": [
    "def dlcs_col(df):\n",
    "    game_library['has_dlcs'] = np.where(game_library.dlcs == 0, 1, 0)  \n",
    "    return df"
   ]
  },
  {
   "cell_type": "code",
   "execution_count": null,
   "id": "d164b766",
   "metadata": {},
   "outputs": [],
   "source": [
    "game_library = dlcs_col(game_library)"
   ]
  },
  {
   "cell_type": "code",
   "execution_count": null,
   "id": "a93a4872",
   "metadata": {},
   "outputs": [],
   "source": [
    "game_library.has_dlcs.head()"
   ]
  },
  {
   "cell_type": "code",
   "execution_count": null,
   "id": "4dd0e705",
   "metadata": {},
   "outputs": [],
   "source": [
    "game_library = game_library.drop(columns=['websites', 'collection', 'external_games', 'updated_at', 'artworks', 'genres', 'platforms', 'similar_games', 'tags', 'release_dates', 'cover','screenshots', 'videos', 'checksum_x', 'alternative_names', 'rating_count', 'total_rating_count', 'version_parent', 'hypes', 'url', 'franchises', 'follows', 'aggregated_rating_count', 'game_modes', 'player_perspectives', 'themes', 'game_engines', 'keywords', 'storyline', 'version_title', 'follows', 'bundles', 'franchise', 'checksum_y', 'second_id', 'offlinecoopmax', 'onlinecoopmax', 'onlinecoopmax'])\n",
    "game_library.shape"
   ]
  },
  {
   "cell_type": "code",
   "execution_count": null,
   "id": "67daab0d",
   "metadata": {},
   "outputs": [],
   "source": [
    "game_library = game_library.drop(columns=['remasters', 'summary', 'age_ratings', 'involved_companies', 'status', 'aggregated_rating', 'total_rating', 'remakes', 'ports', 'parent_game', 'aggregated_rating', 'multiplayer_modes', 'expansions', 'expanded_games', 'forks', 'standalone_expansions', 'second', 'version_description', 'title_version'])"
   ]
  },
  {
   "cell_type": "code",
   "execution_count": null,
   "id": "1722df03",
   "metadata": {},
   "outputs": [],
   "source": [
    "game_library.head()"
   ]
  },
  {
   "cell_type": "code",
   "execution_count": null,
   "id": "15c629ad",
   "metadata": {},
   "outputs": [],
   "source": [
    "game_library['rating_bin'] = pd.cut(game_library.rating, \n",
    "                           bins = [0,10,20, 30, 40, 50, 60, 70, 80, 90, 100],\n",
    "                           labels = ['awful','very_bad','bad','unimpressive','average','fair','alright','good','great', 'subperb'])"
   ]
  },
  {
   "cell_type": "code",
   "execution_count": null,
   "id": "959a2572",
   "metadata": {},
   "outputs": [],
   "source": [
    "\n",
    "game_library.slug.head()\n"
   ]
  },
  {
   "cell_type": "code",
   "execution_count": null,
   "id": "280832a5",
   "metadata": {},
   "outputs": [],
   "source": [
    "game_library = game_library.drop(columns=['platform'])\n",
    "game_library.shape\n"
   ]
  },
  {
   "cell_type": "code",
   "execution_count": null,
   "id": "f69698ea",
   "metadata": {},
   "outputs": [],
   "source": [
    "game_library.shape"
   ]
  },
  {
   "cell_type": "code",
   "execution_count": null,
   "id": "98f45a9b",
   "metadata": {},
   "outputs": [],
   "source": [
    "game_library.head()"
   ]
  },
  {
   "cell_type": "code",
   "execution_count": null,
   "id": "2503ebc1",
   "metadata": {},
   "outputs": [],
   "source": [
    "game_library = game_library.drop(columns=['name'])\n"
   ]
  },
  {
   "cell_type": "code",
   "execution_count": null,
   "id": "661ba266",
   "metadata": {},
   "outputs": [],
   "source": [
    "game_library['slug'] = game_library['slug'].str.replace('-',' ')\n"
   ]
  },
  {
   "cell_type": "code",
   "execution_count": null,
   "id": "a3194e7a",
   "metadata": {},
   "outputs": [],
   "source": [
    "#game_library[\"slug\"] = pd.to_numeric(game_library[\"slug\"], downcast=\"float\")"
   ]
  },
  {
   "cell_type": "markdown",
   "id": "bc600c86",
   "metadata": {},
   "source": [
    "## Dataframe with ratings"
   ]
  },
  {
   "cell_type": "code",
   "execution_count": null,
   "id": "b031576a",
   "metadata": {
    "scrolled": true
   },
   "outputs": [],
   "source": [
    "game_library.campaigncoop.value_counts()"
   ]
  },
  {
   "cell_type": "code",
   "execution_count": null,
   "id": "aa6ece24",
   "metadata": {
    "scrolled": false
   },
   "outputs": [],
   "source": [
    "game_library.dropin.value_counts()"
   ]
  },
  {
   "cell_type": "code",
   "execution_count": null,
   "id": "ed2a11e9",
   "metadata": {},
   "outputs": [],
   "source": []
  },
  {
   "cell_type": "code",
   "execution_count": null,
   "id": "6eeef749",
   "metadata": {},
   "outputs": [],
   "source": [
    "game_ratings = pd.read_json(\"game_ratings.json\")"
   ]
  },
  {
   "cell_type": "code",
   "execution_count": null,
   "id": "2de98335",
   "metadata": {},
   "outputs": [],
   "source": [
    "game_ratings"
   ]
  },
  {
   "cell_type": "code",
   "execution_count": null,
   "id": "a0cac4cb",
   "metadata": {},
   "outputs": [],
   "source": [
    "game_ratings = game_library[game_library['rating_bin'].notnull()]\n",
    "game_ratings.shape"
   ]
  },
  {
   "cell_type": "code",
   "execution_count": null,
   "id": "f38a0697",
   "metadata": {
    "scrolled": true
   },
   "outputs": [],
   "source": [
    "game_ratings.slug.info()\n"
   ]
  },
  {
   "cell_type": "code",
   "execution_count": null,
   "id": "26d1e718",
   "metadata": {
    "scrolled": false
   },
   "outputs": [],
   "source": [
    "game_ratings"
   ]
  },
  {
   "cell_type": "code",
   "execution_count": null,
   "id": "3ed904f0",
   "metadata": {},
   "outputs": [],
   "source": [
    "game_ratings = game_ratings.drop(columns=['slug'])\n"
   ]
  },
  {
   "cell_type": "code",
   "execution_count": null,
   "id": "486850e8",
   "metadata": {},
   "outputs": [],
   "source": [
    "game_ratings_df = game_ratings.to_json(orient='index')\n",
    "print(game_ratings_df)"
   ]
  },
  {
   "cell_type": "code",
   "execution_count": null,
   "id": "3a16c753",
   "metadata": {},
   "outputs": [],
   "source": [
    "print(game_ratings_df)"
   ]
  },
  {
   "cell_type": "code",
   "execution_count": null,
   "id": "7025bbe9",
   "metadata": {},
   "outputs": [],
   "source": [
    "def split(game_ratings, stratify_by='rating_bin'):\n",
    "    # split df into train_validate \n",
    "    train_validate, test = train_test_split(game_ratings, test_size=.20, random_state=13)\n",
    "    train, validate = train_test_split(train_validate, test_size=.3, random_state=13)\n",
    "\n",
    "    X_train = train.drop(columns=['rating_bin'])\n",
    "    y_train = train[['rating_bin']]\n",
    "\n",
    "    X_validate = validate.drop(columns=['rating_bin'])\n",
    "    y_validate = validate[['rating_bin']]\n",
    "\n",
    "    X_test = test.drop(columns=['rating_bin'])\n",
    "    y_test = test[['rating_bin']]\n",
    "\n",
    "    return train, X_train, X_validate, X_test, y_train, y_validate, y_test"
   ]
  },
  {
   "cell_type": "code",
   "execution_count": null,
   "id": "ecc446d4",
   "metadata": {
    "scrolled": false
   },
   "outputs": [],
   "source": [
    "train, X_train, X_validate, X_test, y_train, y_validate, y_test = split(game_ratings, stratify_by='rating') #split data\n",
    "train.head()\n"
   ]
  },
  {
   "cell_type": "code",
   "execution_count": null,
   "id": "83a0ea8f",
   "metadata": {},
   "outputs": [],
   "source": []
  },
  {
   "cell_type": "code",
   "execution_count": null,
   "id": "256c8820",
   "metadata": {},
   "outputs": [],
   "source": [
    "import os\n",
    "from sklearn.feature_selection import SelectKBest, chi2, mutual_info_classif"
   ]
  },
  {
   "cell_type": "code",
   "execution_count": null,
   "id": "19b72c93",
   "metadata": {},
   "outputs": [],
   "source": [
    "def feature_chi2(X_train, X_validate, X_test, y_train, k = 21):\n",
    "     \n",
    "    # Feature selection\n",
    "    fs = SelectKBest(score_func = chi2, k = k)\n",
    "    fs.fit(X_train, y_train)\n",
    "    \n",
    "    # Selected columns\n",
    "    cols = fs.get_support(indices = True)\n",
    "    \n",
    "    # Output data\n",
    "    X_train_fs = X_train.iloc[:, cols]\n",
    "    X_validate_fs = X_validate.iloc[:, cols]\n",
    "    X_test_fs = X_test.iloc[:, cols]\n",
    "    \n",
    "    return X_train_fs, X_validate_fs, X_test_fs"
   ]
  },
  {
   "cell_type": "code",
   "execution_count": null,
   "id": "8faec950",
   "metadata": {
    "scrolled": true
   },
   "outputs": [],
   "source": [
    "X_train_fs, X_validate_fs, X_test_fs = feature_chi2(X_train, X_validate, X_test, y_train, k = 21) # fitting the df to the function \n",
    "X_train_fs.head()"
   ]
  },
  {
   "cell_type": "code",
   "execution_count": null,
   "id": "bb74626b",
   "metadata": {},
   "outputs": [],
   "source": [
    "# def split(game_ratings, stratify_by='rating_bin'):\n",
    "#     # split df into train_validate \n",
    "#     train_validate, test = train_test_split(game_ratings, test_size=.20, random_state=13)\n",
    "#     train, validate = train_test_split(train_validate, test_size=.3, random_state=13)\n",
    "\n",
    "#     X_train = train.drop(columns=['rating_bin'])\n",
    "#     y_train = train[['rating_bin']]\n",
    "\n",
    "#     X_validate = validate.drop(columns=['rating_bin'])\n",
    "#     y_validate = validate[['rating_bin']]\n",
    "\n",
    "#     X_test = test.drop(columns=['rating_bin'])\n",
    "#     y_test = test[['rating_bin']]\n",
    "\n",
    "#     return train, X_train, X_validate, X_test, y_train, y_validate, y_test"
   ]
  },
  {
   "cell_type": "code",
   "execution_count": null,
   "id": "aafb30ff",
   "metadata": {
    "scrolled": true
   },
   "outputs": [],
   "source": [
    "from sklearn.feature_selection import SelectKBest, f_regression\n",
    "\n",
    "# parameters: f_regression stats test, give me 8 features\n",
    "f_selector = SelectKBest(f_regression, k=8)\n",
    "\n",
    "# find the top 8 X's correlated with y\n",
    "f_selector.fit(X_train, y_train)\n",
    "\n",
    "# boolean mask of whether the column was selected or not. \n",
    "feature_mask = f_selector.get_support()\n",
    "\n",
    "# get list of top K features. \n",
    "f_feature = X_train.iloc[:,feature_mask].columns.tolist()\n",
    "\n"
   ]
  },
  {
   "cell_type": "code",
   "execution_count": null,
   "id": "7739d07e",
   "metadata": {},
   "outputs": [],
   "source": []
  },
  {
   "cell_type": "code",
   "execution_count": null,
   "id": "e1bec920",
   "metadata": {},
   "outputs": [],
   "source": [
    "def replace_boolean(data):\n",
    "    for col in data:\n",
    "        data[col].replace(True, 1, inplace=True)\n",
    "        data[col].replace(False, 0, inplace=True)\n",
    "\n",
    "replace_boolean(test)"
   ]
  },
  {
   "cell_type": "code",
   "execution_count": null,
   "id": "6bf07961",
   "metadata": {},
   "outputs": [],
   "source": []
  },
  {
   "cell_type": "code",
   "execution_count": null,
   "id": "948c36fb",
   "metadata": {},
   "outputs": [],
   "source": []
  },
  {
   "cell_type": "code",
   "execution_count": null,
   "id": "e606546c",
   "metadata": {},
   "outputs": [],
   "source": []
  },
  {
   "cell_type": "code",
   "execution_count": null,
   "id": "473c5476",
   "metadata": {},
   "outputs": [],
   "source": []
  },
  {
   "cell_type": "code",
   "execution_count": null,
   "id": "fc500298",
   "metadata": {},
   "outputs": [],
   "source": [
    "df3 = game_library[game_library['rating'].isnull()]\n",
    "df3.shape"
   ]
  },
  {
   "cell_type": "markdown",
   "id": "c2988651",
   "metadata": {},
   "source": [
    "### Read the CSV for games "
   ]
  },
  {
   "cell_type": "code",
   "execution_count": null,
   "id": "37cec840",
   "metadata": {},
   "outputs": [],
   "source": [
    "#pd.set_option('display.max_rows', 500)\n",
    "pd.set_option('display.max_columns', 500)\n",
    "pd.set_option('display.width', 1000)"
   ]
  },
  {
   "cell_type": "code",
   "execution_count": null,
   "id": "6e3f5822",
   "metadata": {},
   "outputs": [],
   "source": [
    "game_library.shape"
   ]
  },
  {
   "cell_type": "code",
   "execution_count": null,
   "id": "eac44653",
   "metadata": {},
   "outputs": [],
   "source": [
    "game_library = game_library.drop(columns=['websites', 'created_at', 'updated_at', 'artworks', 'cover','screenshots', 'videos', 'checksum', 'alternative_names', 'rating_count', 'total_rating_count', 'version_parent', 'hypes', 'franchises', 'follows', 'aggregated_rating_count'])\n",
    "game_library.shape"
   ]
  },
  {
   "cell_type": "code",
   "execution_count": null,
   "id": "7d694380",
   "metadata": {},
   "outputs": [],
   "source": [
    "game_library.shape"
   ]
  },
  {
   "cell_type": "code",
   "execution_count": null,
   "id": "8bf4cc9c",
   "metadata": {},
   "outputs": [],
   "source": [
    "game_library.rename(columns={'slug': 'lower_case_name', 'aggregated_rating': 'critic_rating'}, inplace=True)\n",
    "game_library.head()"
   ]
  },
  {
   "cell_type": "markdown",
   "id": "bb262942",
   "metadata": {},
   "source": [
    "### Dataframe with ratings"
   ]
  },
  {
   "cell_type": "code",
   "execution_count": null,
   "id": "813a1e78",
   "metadata": {},
   "outputs": [],
   "source": [
    "df2 = df[df['rating'].notnull()]\n",
    "df2.head()"
   ]
  },
  {
   "cell_type": "code",
   "execution_count": null,
   "id": "df1987ed",
   "metadata": {},
   "outputs": [],
   "source": [
    "df2.rating.isnull().sum()"
   ]
  },
  {
   "cell_type": "markdown",
   "id": "48f8f21a",
   "metadata": {},
   "source": [
    "### Dataframe with nulls in rating column "
   ]
  },
  {
   "cell_type": "code",
   "execution_count": null,
   "id": "3ceee285",
   "metadata": {},
   "outputs": [],
   "source": [
    "df3 = df[df['rating'].isnull()]\n",
    "df3.shape"
   ]
  }
 ],
 "metadata": {
  "kernelspec": {
   "display_name": "Python 3 (ipykernel)",
   "language": "python",
   "name": "python3"
  },
  "language_info": {
   "codemirror_mode": {
    "name": "ipython",
    "version": 3
   },
   "file_extension": ".py",
   "mimetype": "text/x-python",
   "name": "python",
   "nbconvert_exporter": "python",
   "pygments_lexer": "ipython3",
   "version": "3.9.12"
  }
 },
 "nbformat": 4,
 "nbformat_minor": 5
}
