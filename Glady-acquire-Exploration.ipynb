{
 "cells": [
  {
   "cell_type": "markdown",
   "id": "b1976c97",
   "metadata": {},
   "source": [
    "# creating the game_library dataframe"
   ]
  },
  {
   "cell_type": "code",
   "execution_count": 4,
   "id": "8c08c2e9",
   "metadata": {},
   "outputs": [],
   "source": [
    "import requests\n",
    "import env\n",
    "from requests.models import Request, Response\n",
    "from env import Client_ID\n",
    "import pandas as pd\n",
    "from igdb.igdbapi_pb2 import GameResult\n",
    "from typing import Dict, List, Optional, Union, cast\n",
    "import acquire\n",
    "import json\n",
    "import prepare\n",
    "from igdb.wrapper import IGDBWrapper\n",
    "import matplotlib.pyplot as plt\n",
    "import seaborn as sns\n",
    "from sklearn.model_selection import train_test_split\n",
    "from prepare import wrangle_data\n",
    "import plotly.graph_objects as go"
   ]
  },
  {
   "cell_type": "code",
   "execution_count": null,
   "id": "9cc15d94",
   "metadata": {},
   "outputs": [],
   "source": [
    "# game_library = pd.read_json(\"game_library.json\")"
   ]
  },
  {
   "cell_type": "code",
   "execution_count": null,
   "id": "32d9d70c",
   "metadata": {},
   "outputs": [],
   "source": [
    "#game_library.shape"
   ]
  },
  {
   "cell_type": "markdown",
   "id": "45f6ed64",
   "metadata": {},
   "source": [
    "#  Pre-Explore Part 1 (just looking at the data)"
   ]
  },
  {
   "cell_type": "markdown",
   "id": "6a329137",
   "metadata": {},
   "source": [
    "### What genre are most common in this dataset ?"
   ]
  },
  {
   "cell_type": "code",
   "execution_count": null,
   "id": "bc324018",
   "metadata": {},
   "outputs": [],
   "source": [
    "# def to_1D(series):\n",
    "#     return pd.Series([x for _list in series for x in _list])"
   ]
  },
  {
   "cell_type": "code",
   "execution_count": null,
   "id": "7ac1474e",
   "metadata": {},
   "outputs": [],
   "source": [
    " #pd.set_option('display.max_columns', None)\n",
    "# game_library.genres.value_counts()"
   ]
  },
  {
   "cell_type": "code",
   "execution_count": null,
   "id": "85c6a5e2",
   "metadata": {},
   "outputs": [],
   "source": [
    "# def test_functg(random_list):\n",
    "#     if type(random_list) == list:\n",
    "#         return [genres_dict[i] for i in random_list]\n",
    "#     else:  \n",
    "#         return [\"Not_available\"] "
   ]
  },
  {
   "cell_type": "markdown",
   "id": "77c5a16e",
   "metadata": {},
   "source": [
    "# Calling the data using the main wrangle function"
   ]
  },
  {
   "cell_type": "code",
   "execution_count": 2,
   "id": "c03ea730",
   "metadata": {},
   "outputs": [
    {
     "name": "stdout",
     "output_type": "stream",
     "text": [
      "Completed import for game_library\n",
      "Completed import for genres\n",
      "Completed import for age_ratings\n",
      "Completed import for age_rating_desc\n",
      "Completed import for collections\n",
      "Completed import for game_modes\n",
      "Completed import for multi_player_modes\n",
      "Completed import for platforms\n",
      "Completed import for platform_families\n",
      "Completed import for player_perspectives\n",
      "Completed import for themes\n",
      "Completed import for game_engines\n"
     ]
    },
    {
     "name": "stderr",
     "output_type": "stream",
     "text": [
      "/Users/gladybarrios/codeup-data-science/Videogame-Capstone/prepare.py:286: PerformanceWarning: DataFrame is highly fragmented.  This is usually the result of calling `frame.insert` many times, which has poor performance.  Consider joining all columns at once using pd.concat(axis=1) instead. To get a de-fragmented frame, use `newframe = frame.copy()`\n",
      "  game_library[platform] = game_library['platforms'].apply(my_list, word=platform)\n",
      "/Users/gladybarrios/codeup-data-science/Videogame-Capstone/prepare.py:286: PerformanceWarning: DataFrame is highly fragmented.  This is usually the result of calling `frame.insert` many times, which has poor performance.  Consider joining all columns at once using pd.concat(axis=1) instead. To get a de-fragmented frame, use `newframe = frame.copy()`\n",
      "  game_library[platform] = game_library['platforms'].apply(my_list, word=platform)\n",
      "/Users/gladybarrios/codeup-data-science/Videogame-Capstone/prepare.py:286: PerformanceWarning: DataFrame is highly fragmented.  This is usually the result of calling `frame.insert` many times, which has poor performance.  Consider joining all columns at once using pd.concat(axis=1) instead. To get a de-fragmented frame, use `newframe = frame.copy()`\n",
      "  game_library[platform] = game_library['platforms'].apply(my_list, word=platform)\n",
      "/Users/gladybarrios/codeup-data-science/Videogame-Capstone/prepare.py:286: PerformanceWarning: DataFrame is highly fragmented.  This is usually the result of calling `frame.insert` many times, which has poor performance.  Consider joining all columns at once using pd.concat(axis=1) instead. To get a de-fragmented frame, use `newframe = frame.copy()`\n",
      "  game_library[platform] = game_library['platforms'].apply(my_list, word=platform)\n",
      "/Users/gladybarrios/codeup-data-science/Videogame-Capstone/prepare.py:286: PerformanceWarning: DataFrame is highly fragmented.  This is usually the result of calling `frame.insert` many times, which has poor performance.  Consider joining all columns at once using pd.concat(axis=1) instead. To get a de-fragmented frame, use `newframe = frame.copy()`\n",
      "  game_library[platform] = game_library['platforms'].apply(my_list, word=platform)\n",
      "/Users/gladybarrios/codeup-data-science/Videogame-Capstone/prepare.py:292: PerformanceWarning: DataFrame is highly fragmented.  This is usually the result of calling `frame.insert` many times, which has poor performance.  Consider joining all columns at once using pd.concat(axis=1) instead. To get a de-fragmented frame, use `newframe = frame.copy()`\n",
      "  game_library['has_dlcs'] = np.where(game_library.dlcs != 0, 1, 0)\n",
      "/Users/gladybarrios/codeup-data-science/Videogame-Capstone/prepare.py:296: PerformanceWarning: DataFrame is highly fragmented.  This is usually the result of calling `frame.insert` many times, which has poor performance.  Consider joining all columns at once using pd.concat(axis=1) instead. To get a de-fragmented frame, use `newframe = frame.copy()`\n",
      "  game_library['rating_bin'] = pd.cut(game_library.rating,\n"
     ]
    }
   ],
   "source": [
    "game_library, game_ratings, not_rated = wrangle_data()\n"
   ]
  },
  {
   "cell_type": "code",
   "execution_count": null,
   "id": "d039cbc5",
   "metadata": {
    "scrolled": true
   },
   "outputs": [],
   "source": [
    "pd.set_option('display.max_columns', None)\n",
    "game_ratings.head()"
   ]
  },
  {
   "cell_type": "code",
   "execution_count": null,
   "id": "139a2e75",
   "metadata": {},
   "outputs": [],
   "source": []
  },
  {
   "cell_type": "code",
   "execution_count": null,
   "id": "89b393cc",
   "metadata": {},
   "outputs": [],
   "source": [
    "game_ratings.player_perspectives.value_counts()"
   ]
  },
  {
   "cell_type": "markdown",
   "id": "908f611f",
   "metadata": {},
   "source": [
    "### What themes are most common in this dataset "
   ]
  },
  {
   "cell_type": "code",
   "execution_count": null,
   "id": "82f44a40",
   "metadata": {
    "scrolled": true
   },
   "outputs": [],
   "source": [
    "# fig, ax = plt.subplots(figsize = (16,4))\n",
    "# ax.bar(to_1D(game_library[\"themes\"]).value_counts().iloc[:4].index,\n",
    "#         to_1D(game_library[\"themes\"]).value_counts().iloc[:4].values)\n",
    "# ax.set_ylabel(\"Frequency\", size = 12)\n",
    "# ax.set_title(\"genres\", size = 14)"
   ]
  },
  {
   "cell_type": "markdown",
   "id": "000e55c6",
   "metadata": {},
   "source": [
    "###   land co-op"
   ]
  },
  {
   "cell_type": "code",
   "execution_count": null,
   "id": "8be815ad",
   "metadata": {
    "scrolled": true
   },
   "outputs": [],
   "source": [
    "sns.countplot(x='lancoop', data=game_library)"
   ]
  },
  {
   "cell_type": "markdown",
   "id": "28e82210",
   "metadata": {},
   "source": [
    "### In a videogame what is the most common version titles ?"
   ]
  },
  {
   "cell_type": "code",
   "execution_count": null,
   "id": "b319d630",
   "metadata": {
    "scrolled": true
   },
   "outputs": [],
   "source": [
    "sns.countplot(x='version_title', data=game_library, order=game_library.version_title.value_counts().iloc[:4].index)"
   ]
  },
  {
   "cell_type": "markdown",
   "id": "eb1154cf",
   "metadata": {},
   "source": [
    "### What are the most common platforms ?"
   ]
  },
  {
   "cell_type": "code",
   "execution_count": null,
   "id": "3694c5dc",
   "metadata": {},
   "outputs": [],
   "source": [
    "fig, ax = plt.subplots(figsize = (14,4))\n",
    "ax.barplot(to_1D(game_library[\"platforms\"]).value_counts().iloc[:7].index,\n",
    "        to_1D(game_library[\"platforms\"]).value_counts().iloc[:7].values, hue = )\n",
    "ax.set_ylabel(\"Frequency\", size = 12)\n",
    "ax.set_title(\"platforms\", size = 14)"
   ]
  },
  {
   "cell_type": "markdown",
   "id": "78826610",
   "metadata": {},
   "source": [
    "## Splitting the data (from data with ratings and non-ratings)\n",
    "\n",
    "- we are splitting the data with GAMES that have a rating and games that dont have a rating "
   ]
  },
  {
   "cell_type": "code",
   "execution_count": null,
   "id": "1229a2e6",
   "metadata": {
    "scrolled": true
   },
   "outputs": [],
   "source": [
    "#this is the dataframe that ONLY has ratings \n",
    "# df2 = game_library[game_library['rating'].notnull()]\n",
    "# df2\n"
   ]
  },
  {
   "cell_type": "code",
   "execution_count": null,
   "id": "abaee828",
   "metadata": {},
   "outputs": [],
   "source": [
    "#this is a dataframe with no ratings \n",
    "# df3= game_library[game_library['rating'].isnull()]"
   ]
  },
  {
   "cell_type": "code",
   "execution_count": null,
   "id": "b500ad2d",
   "metadata": {
    "scrolled": true
   },
   "outputs": [],
   "source": [
    "# pd.set_option('display.max_columns', None)\n",
    "# df3.head()"
   ]
  },
  {
   "cell_type": "markdown",
   "id": "6afbcaba",
   "metadata": {},
   "source": [
    "> dont forget to bin the data from the diffrent ratings "
   ]
  },
  {
   "cell_type": "code",
   "execution_count": null,
   "id": "0b33ae53",
   "metadata": {},
   "outputs": [],
   "source": [
    "# df2['rating_bin'] = pd.cut(df2.rating, \n",
    "#                            bins = [0,10,20, 30, 40, 50, 60, 70, 80, 90, 100],\n",
    "#                            labels = ['awful','very_bad','bad','unimpressive','average','fair','alright','good','great', 'subperb'])\n"
   ]
  },
  {
   "cell_type": "code",
   "execution_count": null,
   "id": "6603e5dd",
   "metadata": {
    "scrolled": true
   },
   "outputs": [],
   "source": [
    "#df2.head()"
   ]
  },
  {
   "cell_type": "code",
   "execution_count": null,
   "id": "a0ad8a56",
   "metadata": {},
   "outputs": [],
   "source": [
    "#creating the json for the data that HAS ratings \n",
    "#df2.to_json(\"explore_game_library.json\")"
   ]
  },
  {
   "cell_type": "code",
   "execution_count": null,
   "id": "3629b54b",
   "metadata": {},
   "outputs": [],
   "source": [
    "# pd.set_option('display.max_columns', 500)\n",
    "# df2.head()"
   ]
  },
  {
   "cell_type": "markdown",
   "id": "f5481028",
   "metadata": {},
   "source": [
    "# Exploration "
   ]
  },
  {
   "cell_type": "code",
   "execution_count": null,
   "id": "9d993e28",
   "metadata": {
    "scrolled": true
   },
   "outputs": [],
   "source": [
    "# df2 = pd.read_json(\"explore_game_library.json\")"
   ]
  },
  {
   "cell_type": "code",
   "execution_count": null,
   "id": "b83930b1",
   "metadata": {},
   "outputs": [],
   "source": [
    "# pd.set_option('display.max_columns', 500)\n",
    "\n",
    "# df2.head()"
   ]
  },
  {
   "cell_type": "code",
   "execution_count": null,
   "id": "897c887c",
   "metadata": {},
   "outputs": [],
   "source": [
    "#this is for tablaue \n",
    "#df2 = pd.read_csv(\"explore_game_library.csv\")"
   ]
  },
  {
   "cell_type": "code",
   "execution_count": null,
   "id": "225a7e51",
   "metadata": {},
   "outputs": [],
   "source": [
    "# df2 = pd.read_json(\"explore_game.json\")"
   ]
  },
  {
   "cell_type": "code",
   "execution_count": 5,
   "id": "8dc62097",
   "metadata": {},
   "outputs": [
    {
     "data": {
      "text/html": [
       "<div>\n",
       "<style scoped>\n",
       "    .dataframe tbody tr th:only-of-type {\n",
       "        vertical-align: middle;\n",
       "    }\n",
       "\n",
       "    .dataframe tbody tr th {\n",
       "        vertical-align: top;\n",
       "    }\n",
       "\n",
       "    .dataframe thead th {\n",
       "        text-align: right;\n",
       "    }\n",
       "</style>\n",
       "<table border=\"1\" class=\"dataframe\">\n",
       "  <thead>\n",
       "    <tr style=\"text-align: right;\">\n",
       "      <th></th>\n",
       "      <th>id</th>\n",
       "      <th>first_release_date</th>\n",
       "      <th>genres</th>\n",
       "      <th>name</th>\n",
       "      <th>platforms</th>\n",
       "      <th>slug</th>\n",
       "      <th>player_perspectives</th>\n",
       "      <th>themes</th>\n",
       "      <th>campaigncoop</th>\n",
       "      <th>dropin</th>\n",
       "      <th>...</th>\n",
       "      <th>Xbox One</th>\n",
       "      <th>Family Computer Disk System</th>\n",
       "      <th>Arcade</th>\n",
       "      <th>Windows Phone</th>\n",
       "      <th>Apple II</th>\n",
       "      <th>Web browser</th>\n",
       "      <th>Odyssey</th>\n",
       "      <th>Commodore 16</th>\n",
       "      <th>New Nintendo 3DS</th>\n",
       "      <th>has_dlcs</th>\n",
       "    </tr>\n",
       "  </thead>\n",
       "  <tbody>\n",
       "    <tr>\n",
       "      <th>156773</th>\n",
       "      <td>105583</td>\n",
       "      <td>2019-01-22</td>\n",
       "      <td>[strategy, indie]</td>\n",
       "      <td>Beware of Trains</td>\n",
       "      <td>[win]</td>\n",
       "      <td>beware-of-trains</td>\n",
       "      <td>[Not available]</td>\n",
       "      <td>[action]</td>\n",
       "      <td>0</td>\n",
       "      <td>0</td>\n",
       "      <td>...</td>\n",
       "      <td>0</td>\n",
       "      <td>0</td>\n",
       "      <td>0</td>\n",
       "      <td>0</td>\n",
       "      <td>0</td>\n",
       "      <td>0</td>\n",
       "      <td>0</td>\n",
       "      <td>0</td>\n",
       "      <td>0</td>\n",
       "      <td>0</td>\n",
       "    </tr>\n",
       "    <tr>\n",
       "      <th>176604</th>\n",
       "      <td>34461</td>\n",
       "      <td>2015-09-11</td>\n",
       "      <td>[adventure, indie, visual-novel]</td>\n",
       "      <td>Sakura Swim Club</td>\n",
       "      <td>[linux, win, mac, ps4--1, switch, ps5]</td>\n",
       "      <td>sakura-swim-club</td>\n",
       "      <td>[text]</td>\n",
       "      <td>[erotic, romance]</td>\n",
       "      <td>0</td>\n",
       "      <td>0</td>\n",
       "      <td>...</td>\n",
       "      <td>0</td>\n",
       "      <td>0</td>\n",
       "      <td>0</td>\n",
       "      <td>0</td>\n",
       "      <td>0</td>\n",
       "      <td>0</td>\n",
       "      <td>0</td>\n",
       "      <td>0</td>\n",
       "      <td>0</td>\n",
       "      <td>0</td>\n",
       "    </tr>\n",
       "    <tr>\n",
       "      <th>185694</th>\n",
       "      <td>115866</td>\n",
       "      <td>2019-05-24</td>\n",
       "      <td>[adventure, indie]</td>\n",
       "      <td>Vampire &amp; Monsters: Hidden Object Games</td>\n",
       "      <td>[win, mac]</td>\n",
       "      <td>vampire-and-monsters-hidden-object-games</td>\n",
       "      <td>[Not available]</td>\n",
       "      <td>[Not available]</td>\n",
       "      <td>0</td>\n",
       "      <td>0</td>\n",
       "      <td>...</td>\n",
       "      <td>0</td>\n",
       "      <td>0</td>\n",
       "      <td>0</td>\n",
       "      <td>0</td>\n",
       "      <td>0</td>\n",
       "      <td>0</td>\n",
       "      <td>0</td>\n",
       "      <td>0</td>\n",
       "      <td>0</td>\n",
       "      <td>0</td>\n",
       "    </tr>\n",
       "    <tr>\n",
       "      <th>70709</th>\n",
       "      <td>76217</td>\n",
       "      <td>2017-11-10</td>\n",
       "      <td>[shooter]</td>\n",
       "      <td>DOOM</td>\n",
       "      <td>[switch]</td>\n",
       "      <td>doom--1</td>\n",
       "      <td>[first-person]</td>\n",
       "      <td>[action, science-fiction, horror, survival]</td>\n",
       "      <td>0</td>\n",
       "      <td>0</td>\n",
       "      <td>...</td>\n",
       "      <td>0</td>\n",
       "      <td>0</td>\n",
       "      <td>0</td>\n",
       "      <td>0</td>\n",
       "      <td>0</td>\n",
       "      <td>0</td>\n",
       "      <td>0</td>\n",
       "      <td>0</td>\n",
       "      <td>0</td>\n",
       "      <td>0</td>\n",
       "    </tr>\n",
       "    <tr>\n",
       "      <th>125000</th>\n",
       "      <td>888</td>\n",
       "      <td>2007-11-06</td>\n",
       "      <td>[real-time-strategy-rts, strategy]</td>\n",
       "      <td>Supreme Commander: Forged Alliance</td>\n",
       "      <td>[linux, win]</td>\n",
       "      <td>supreme-commander-forged-alliance</td>\n",
       "      <td>[bird-view-slash-isometric]</td>\n",
       "      <td>[action, science-fiction]</td>\n",
       "      <td>0</td>\n",
       "      <td>0</td>\n",
       "      <td>...</td>\n",
       "      <td>0</td>\n",
       "      <td>0</td>\n",
       "      <td>0</td>\n",
       "      <td>0</td>\n",
       "      <td>0</td>\n",
       "      <td>0</td>\n",
       "      <td>0</td>\n",
       "      <td>0</td>\n",
       "      <td>0</td>\n",
       "      <td>0</td>\n",
       "    </tr>\n",
       "  </tbody>\n",
       "</table>\n",
       "<p>5 rows × 110 columns</p>\n",
       "</div>"
      ],
      "text/plain": [
       "            id first_release_date                              genres  \\\n",
       "156773  105583         2019-01-22                   [strategy, indie]   \n",
       "176604   34461         2015-09-11    [adventure, indie, visual-novel]   \n",
       "185694  115866         2019-05-24                  [adventure, indie]   \n",
       "70709    76217         2017-11-10                           [shooter]   \n",
       "125000     888         2007-11-06  [real-time-strategy-rts, strategy]   \n",
       "\n",
       "                                           name  \\\n",
       "156773                         Beware of Trains   \n",
       "176604                         Sakura Swim Club   \n",
       "185694  Vampire & Monsters: Hidden Object Games   \n",
       "70709                                      DOOM   \n",
       "125000       Supreme Commander: Forged Alliance   \n",
       "\n",
       "                                     platforms  \\\n",
       "156773                                   [win]   \n",
       "176604  [linux, win, mac, ps4--1, switch, ps5]   \n",
       "185694                              [win, mac]   \n",
       "70709                                 [switch]   \n",
       "125000                            [linux, win]   \n",
       "\n",
       "                                            slug          player_perspectives  \\\n",
       "156773                          beware-of-trains              [Not available]   \n",
       "176604                          sakura-swim-club                       [text]   \n",
       "185694  vampire-and-monsters-hidden-object-games              [Not available]   \n",
       "70709                                    doom--1               [first-person]   \n",
       "125000         supreme-commander-forged-alliance  [bird-view-slash-isometric]   \n",
       "\n",
       "                                             themes  campaigncoop  dropin  \\\n",
       "156773                                     [action]             0       0   \n",
       "176604                            [erotic, romance]             0       0   \n",
       "185694                              [Not available]             0       0   \n",
       "70709   [action, science-fiction, horror, survival]             0       0   \n",
       "125000                    [action, science-fiction]             0       0   \n",
       "\n",
       "        ...  Xbox One  Family Computer Disk System  Arcade  Windows Phone  \\\n",
       "156773  ...         0                            0       0              0   \n",
       "176604  ...         0                            0       0              0   \n",
       "185694  ...         0                            0       0              0   \n",
       "70709   ...         0                            0       0              0   \n",
       "125000  ...         0                            0       0              0   \n",
       "\n",
       "        Apple II  Web browser  Odyssey  Commodore 16  New Nintendo 3DS  \\\n",
       "156773         0            0        0             0                 0   \n",
       "176604         0            0        0             0                 0   \n",
       "185694         0            0        0             0                 0   \n",
       "70709          0            0        0             0                 0   \n",
       "125000         0            0        0             0                 0   \n",
       "\n",
       "        has_dlcs  \n",
       "156773         0  \n",
       "176604         0  \n",
       "185694         0  \n",
       "70709          0  \n",
       "125000         0  \n",
       "\n",
       "[5 rows x 110 columns]"
      ]
     },
     "execution_count": 5,
     "metadata": {},
     "output_type": "execute_result"
    }
   ],
   "source": [
    "train, X_train, X_validate, X_test, y_train, y_validate, y_test = prepare.split(game_ratings, stratify_by='rating_bin')\n",
    "X_train.head()"
   ]
  },
  {
   "cell_type": "code",
   "execution_count": null,
   "id": "eae5490c",
   "metadata": {},
   "outputs": [],
   "source": [
    "# def train_validate_test_split(df):\n",
    "#     '''\n",
    "#     This function performs split on telco data, stratify churn.\n",
    "#     Returns train, validate, and test dfs.\n",
    "#     '''\n",
    "#     train_validate, test = train_test_split(df, test_size=.2, \n",
    "#                                         random_state=13, stratify=game_ratings.rating_bin)\n",
    "#     train, validate = train_test_split(train_validate, test_size=.3, \n",
    "#                                    random_state=13,  stratify=train_validate.rating_bin)\n",
    "\n",
    "#     return train, validate, test\n"
   ]
  },
  {
   "cell_type": "code",
   "execution_count": null,
   "id": "847e0e99",
   "metadata": {
    "scrolled": true
   },
   "outputs": [],
   "source": [
    "# train, validate, test = train_validate_test_split(game_ratings)\n",
    "\n",
    "# train.shape, validate.shape, test.shape"
   ]
  },
  {
   "cell_type": "code",
   "execution_count": 6,
   "id": "c745ec21",
   "metadata": {},
   "outputs": [],
   "source": [
    "def to_1D(series):\n",
    "    return pd.Series([x for _list in series for x in _list])"
   ]
  },
  {
   "cell_type": "markdown",
   "id": "f4567703",
   "metadata": {},
   "source": [
    "\n",
    "\n",
    "## (more complicated Questions)"
   ]
  },
  {
   "cell_type": "markdown",
   "id": "ea9fd6a6",
   "metadata": {},
   "source": [
    "# Do video games on certain platforms get better user ratings?\n"
   ]
  },
  {
   "cell_type": "markdown",
   "id": "dc838867",
   "metadata": {},
   "source": [
    "- Yes it looks like for the games in the three highest member ratings (good, great,subperb) the majority of those games are played on \n",
    "    - PC(microsoft Windows)\n",
    "    - MAC \n",
    "    - X-Box 360\n",
    "    - ps 3 and 4 "
   ]
  },
  {
   "cell_type": "code",
   "execution_count": null,
   "id": "93b285e4",
   "metadata": {},
   "outputs": [],
   "source": [
    "#the diffrent platforms in the dataframe"
   ]
  },
  {
   "cell_type": "code",
   "execution_count": null,
   "id": "8a211cba",
   "metadata": {
    "scrolled": true
   },
   "outputs": [],
   "source": [
    "# fig, ax = plt.subplots(figsize = (14,4))\n",
    "# ax.bar(to_1D(train[\"platforms\"]).value_counts().iloc[:7].index,\n",
    "#         to_1D(train[\"platforms\"]).value_counts().iloc[:7].values)\n",
    "# ax.set_ylabel(\"Frequency\", size = 12)\n",
    "# ax.set_title(\"platforms\", size = 14)"
   ]
  },
  {
   "cell_type": "markdown",
   "id": "f8d46291",
   "metadata": {},
   "source": [
    "## Exploring `good rating`"
   ]
  },
  {
   "cell_type": "code",
   "execution_count": null,
   "id": "192bb17c",
   "metadata": {
    "scrolled": true
   },
   "outputs": [],
   "source": [
    "# df_good_rating = train[train['rating_bin']== 'good']\n",
    "# df_good_rating.head()"
   ]
  },
  {
   "cell_type": "code",
   "execution_count": null,
   "id": "b3e82acf",
   "metadata": {},
   "outputs": [],
   "source": [
    "# fig, ax = plt.subplots(figsize = (14,4))\n",
    "# ax.bar(to_1D(df_good_rating[\"platforms\"]).value_counts().iloc[:7].index,\n",
    "#         to_1D(df_good_rating[\"platforms\"]).value_counts().iloc[:7].values)\n",
    "# ax.set_ylabel(\"Frequency\", size = 12)\n",
    "# ax.set_title(\"platforms\", size = 14)"
   ]
  },
  {
   "cell_type": "markdown",
   "id": "99cdb131",
   "metadata": {},
   "source": [
    "- for the ratings \"good\" the most used platforms is (in order) pc, xbox 360, ps3, ps4"
   ]
  },
  {
   "cell_type": "markdown",
   "id": "5d68515b",
   "metadata": {},
   "source": [
    "##  Exploring `suberb raitng`"
   ]
  },
  {
   "cell_type": "code",
   "execution_count": 7,
   "id": "5e5b1f87",
   "metadata": {
    "scrolled": false
   },
   "outputs": [
    {
     "data": {
      "text/html": [
       "<div>\n",
       "<style scoped>\n",
       "    .dataframe tbody tr th:only-of-type {\n",
       "        vertical-align: middle;\n",
       "    }\n",
       "\n",
       "    .dataframe tbody tr th {\n",
       "        vertical-align: top;\n",
       "    }\n",
       "\n",
       "    .dataframe thead th {\n",
       "        text-align: right;\n",
       "    }\n",
       "</style>\n",
       "<table border=\"1\" class=\"dataframe\">\n",
       "  <thead>\n",
       "    <tr style=\"text-align: right;\">\n",
       "      <th></th>\n",
       "      <th>id</th>\n",
       "      <th>first_release_date</th>\n",
       "      <th>genres</th>\n",
       "      <th>name</th>\n",
       "      <th>platforms</th>\n",
       "      <th>slug</th>\n",
       "      <th>player_perspectives</th>\n",
       "      <th>themes</th>\n",
       "      <th>campaigncoop</th>\n",
       "      <th>dropin</th>\n",
       "      <th>...</th>\n",
       "      <th>Family Computer Disk System</th>\n",
       "      <th>Arcade</th>\n",
       "      <th>Windows Phone</th>\n",
       "      <th>Apple II</th>\n",
       "      <th>Web browser</th>\n",
       "      <th>Odyssey</th>\n",
       "      <th>Commodore 16</th>\n",
       "      <th>New Nintendo 3DS</th>\n",
       "      <th>has_dlcs</th>\n",
       "      <th>rating_bin</th>\n",
       "    </tr>\n",
       "  </thead>\n",
       "  <tbody>\n",
       "    <tr>\n",
       "      <th>168408</th>\n",
       "      <td>142289</td>\n",
       "      <td>2018-03-14</td>\n",
       "      <td>[point-and-click, adventure, indie]</td>\n",
       "      <td>Two Hours One Life</td>\n",
       "      <td>[linux, win]</td>\n",
       "      <td>two-hours-one-life</td>\n",
       "      <td>[third-person]</td>\n",
       "      <td>[survival, open-world]</td>\n",
       "      <td>0</td>\n",
       "      <td>1</td>\n",
       "      <td>...</td>\n",
       "      <td>0</td>\n",
       "      <td>0</td>\n",
       "      <td>0</td>\n",
       "      <td>0</td>\n",
       "      <td>0</td>\n",
       "      <td>0</td>\n",
       "      <td>0</td>\n",
       "      <td>0</td>\n",
       "      <td>0</td>\n",
       "      <td>subperb</td>\n",
       "    </tr>\n",
       "    <tr>\n",
       "      <th>193244</th>\n",
       "      <td>24080</td>\n",
       "      <td>2002-04-26</td>\n",
       "      <td>[role-playing-rpg, tactical, visual-novel]</td>\n",
       "      <td>Utawarerumono</td>\n",
       "      <td>[win, ps2, psp]</td>\n",
       "      <td>utawarerumono</td>\n",
       "      <td>[Not available]</td>\n",
       "      <td>[Not available]</td>\n",
       "      <td>0</td>\n",
       "      <td>0</td>\n",
       "      <td>...</td>\n",
       "      <td>0</td>\n",
       "      <td>0</td>\n",
       "      <td>0</td>\n",
       "      <td>0</td>\n",
       "      <td>0</td>\n",
       "      <td>0</td>\n",
       "      <td>0</td>\n",
       "      <td>0</td>\n",
       "      <td>0</td>\n",
       "      <td>subperb</td>\n",
       "    </tr>\n",
       "    <tr>\n",
       "      <th>162112</th>\n",
       "      <td>26916</td>\n",
       "      <td>2017-03-28</td>\n",
       "      <td>[role-playing-rpg, adventure]</td>\n",
       "      <td>Dark Souls III: The Ringed City</td>\n",
       "      <td>[win, ps4--1, xboxone]</td>\n",
       "      <td>dark-souls-iii-the-ringed-city</td>\n",
       "      <td>[third-person]</td>\n",
       "      <td>[action, fantasy, open-world]</td>\n",
       "      <td>0</td>\n",
       "      <td>0</td>\n",
       "      <td>...</td>\n",
       "      <td>0</td>\n",
       "      <td>0</td>\n",
       "      <td>0</td>\n",
       "      <td>0</td>\n",
       "      <td>0</td>\n",
       "      <td>0</td>\n",
       "      <td>0</td>\n",
       "      <td>0</td>\n",
       "      <td>0</td>\n",
       "      <td>subperb</td>\n",
       "    </tr>\n",
       "  </tbody>\n",
       "</table>\n",
       "<p>3 rows × 111 columns</p>\n",
       "</div>"
      ],
      "text/plain": [
       "            id first_release_date                                      genres  \\\n",
       "168408  142289         2018-03-14         [point-and-click, adventure, indie]   \n",
       "193244   24080         2002-04-26  [role-playing-rpg, tactical, visual-novel]   \n",
       "162112   26916         2017-03-28               [role-playing-rpg, adventure]   \n",
       "\n",
       "                                   name               platforms  \\\n",
       "168408               Two Hours One Life            [linux, win]   \n",
       "193244                    Utawarerumono         [win, ps2, psp]   \n",
       "162112  Dark Souls III: The Ringed City  [win, ps4--1, xboxone]   \n",
       "\n",
       "                                  slug player_perspectives  \\\n",
       "168408              two-hours-one-life      [third-person]   \n",
       "193244                   utawarerumono     [Not available]   \n",
       "162112  dark-souls-iii-the-ringed-city      [third-person]   \n",
       "\n",
       "                               themes  campaigncoop  dropin  ...  \\\n",
       "168408         [survival, open-world]             0       1  ...   \n",
       "193244                [Not available]             0       0  ...   \n",
       "162112  [action, fantasy, open-world]             0       0  ...   \n",
       "\n",
       "        Family Computer Disk System  Arcade  Windows Phone  Apple II  \\\n",
       "168408                            0       0              0         0   \n",
       "193244                            0       0              0         0   \n",
       "162112                            0       0              0         0   \n",
       "\n",
       "        Web browser  Odyssey  Commodore 16  New Nintendo 3DS  has_dlcs  \\\n",
       "168408            0        0             0                 0         0   \n",
       "193244            0        0             0                 0         0   \n",
       "162112            0        0             0                 0         0   \n",
       "\n",
       "        rating_bin  \n",
       "168408     subperb  \n",
       "193244     subperb  \n",
       "162112     subperb  \n",
       "\n",
       "[3 rows x 111 columns]"
      ]
     },
     "execution_count": 7,
     "metadata": {},
     "output_type": "execute_result"
    }
   ],
   "source": [
    "df_subperb_rating = train[train['rating_bin']== 'subperb']\n",
    "df_subperb_rating.head(3)"
   ]
  },
  {
   "cell_type": "code",
   "execution_count": 8,
   "id": "4cce3625",
   "metadata": {},
   "outputs": [],
   "source": [
    "#drop those duplicates!!!\n",
    "df_subperb_rating = df_subperb_rating.drop_duplicates(subset = \"id\")"
   ]
  },
  {
   "cell_type": "markdown",
   "id": "279c2959",
   "metadata": {},
   "source": [
    "> ### Most frequent platforms in the raiting `subperb`"
   ]
  },
  {
   "cell_type": "code",
   "execution_count": null,
   "id": "1190f25e",
   "metadata": {
    "scrolled": false
   },
   "outputs": [],
   "source": [
    "# fig, ax = plt.subplots(figsize = (14,4))\n",
    "# ax.bar(to_1D(df_subperb_rating[\"platforms\"]).value_counts().iloc[:7].index,\n",
    "#         to_1D(df_subperb_rating[\"platforms\"]).value_counts().iloc[:7].values)\n",
    "# ax.set_ylabel(\"Frequency\", size = 12)\n",
    "# ax.set_title(\"platforms\", size = 14)"
   ]
  },
  {
   "cell_type": "markdown",
   "id": "03c9af95",
   "metadata": {},
   "source": [
    "- suberb rating is mostly mac and PC top two, and mest three are ps4 and ps3."
   ]
  },
  {
   "cell_type": "markdown",
   "id": "28ed0173",
   "metadata": {},
   "source": [
    "## Exploring `great rating`"
   ]
  },
  {
   "cell_type": "code",
   "execution_count": null,
   "id": "ffbb2a86",
   "metadata": {},
   "outputs": [],
   "source": [
    "# df_great_rating = train[train['rating_bin']== 'great']\n",
    "# df_great_rating.head(3)"
   ]
  },
  {
   "cell_type": "code",
   "execution_count": null,
   "id": "b1f07a62",
   "metadata": {},
   "outputs": [],
   "source": [
    "# fig, ax = plt.subplots(figsize = (14,4))\n",
    "# ax.bar(to_1D(df_great_rating[\"platforms\"]).value_counts().iloc[:7].index,\n",
    "#         to_1D(df_great_rating[\"platforms\"]).value_counts().iloc[:7].values)\n",
    "# ax.set_ylabel(\"Frequency\", size = 12)\n",
    "# ax.set_title(\"platforms\", size = 14)"
   ]
  },
  {
   "cell_type": "code",
   "execution_count": null,
   "id": "ae65bb53",
   "metadata": {
    "scrolled": false
   },
   "outputs": [],
   "source": [
    "\n",
    "# df_top3_rating = train[(train['rating_bin']== 'great') | (train['rating_bin']== 'good') | (train['rating_bin']== 'subperb')]\n",
    "# df_top3_rating.head(1)"
   ]
  },
  {
   "cell_type": "markdown",
   "id": "a6517ba3",
   "metadata": {},
   "source": [
    "## These are the top 4 platforms for the rating (subperb)"
   ]
  },
  {
   "cell_type": "code",
   "execution_count": 9,
   "id": "a8cf9f83",
   "metadata": {
    "scrolled": false
   },
   "outputs": [
    {
     "data": {
      "text/plain": [
       "([0, 1, 2, 3],\n",
       " [Text(0, 0, ''), Text(0, 0, ''), Text(0, 0, ''), Text(0, 0, '')])"
      ]
     },
     "execution_count": 9,
     "metadata": {},
     "output_type": "execute_result"
    },
    {
     "data": {
      "image/png": "[encoded data removed]",
      "text/plain": [
       "<Figure size 1008x432 with 1 Axes>"
      ]
     },
     "metadata": {
      "needs_background": "light"
     },
     "output_type": "display_data"
    }
   ],
   "source": [
    "fig, ax = plt.subplots(figsize = (14,6))\n",
    "\n",
    "ax.bar(to_1D(df_subperb_rating[\"platforms\"]).value_counts().iloc[:4].index,\n",
    "        to_1D(df_subperb_rating[\"platforms\"]).value_counts().iloc[:4].values,\n",
    "          color= ['purple'])\n",
    "ax.set_ylabel(\"Frequency\", size = 20)\n",
    "ax.set_title(\"Superb platforms\", size = 20)\n",
    "plt.xticks(fontsize = 15)"
   ]
  },
  {
   "cell_type": "code",
   "execution_count": null,
   "id": "4f53f6a8",
   "metadata": {},
   "outputs": [],
   "source": [
    "to_1D(df_subperb_rating[\"platforms\"]).value_counts().iloc[:4].index"
   ]
  },
  {
   "cell_type": "code",
   "execution_count": null,
   "id": "b7d5e224",
   "metadata": {},
   "outputs": [],
   "source": [
    "to_1D(df_subperb_rating[\"platforms\"]).value_counts().iloc[:4].values"
   ]
  },
  {
   "cell_type": "code",
   "execution_count": null,
   "id": "f4804504",
   "metadata": {},
   "outputs": [],
   "source": [
    "colors = ['purple',] * 5\n",
    "\n",
    "\n",
    "fig = go.Figure(data=[go.Bar(\n",
    "    x=['PC (Microsoft Windows)', 'PlayStation4' , 'MAC' , 'Xbox one'],\n",
    "    y=[121, 63, 44,  41],\n",
    "    marker_color=colors # marker color can be a single color value or an iterable\n",
    ")])\n",
    "\n",
    "\n",
    "\n",
    "fig.update_layout(title_text='Platforms', font=dict(size=17, color=\"black\"))\n",
    "\n",
    "\n",
    "fig.show()"
   ]
  },
  {
   "cell_type": "code",
   "execution_count": null,
   "id": "6532e1f2",
   "metadata": {},
   "outputs": [],
   "source": [
    "# df_subperb_rating[\"platforms\"].value_counts().iloc[:4].index"
   ]
  },
  {
   "cell_type": "code",
   "execution_count": null,
   "id": "ba654ccc",
   "metadata": {},
   "outputs": [],
   "source": [
    "# to_1D(df_subperb_rating[\"platforms\"]).value_counts().iloc[:4].index"
   ]
  },
  {
   "cell_type": "code",
   "execution_count": null,
   "id": "b356a60b",
   "metadata": {
    "scrolled": true
   },
   "outputs": [],
   "source": [
    "# to_1D(df_subperb_rating[\"platforms\"]).value_counts().iloc[:4].values"
   ]
  },
  {
   "cell_type": "code",
   "execution_count": null,
   "id": "aa8d07a8",
   "metadata": {},
   "outputs": [],
   "source": [
    "# df_subperb_rating[\"platforms\"].value_counts().iloc[:4].index"
   ]
  },
  {
   "cell_type": "markdown",
   "id": "307b2dd0",
   "metadata": {},
   "source": [
    "- Yes it looks like for the games in the three highest member ratings (good, great,subperb) the majority of those games are played on \n",
    "    - PC(microsoft Windows)\n",
    "    - Play Station 4 \n",
    "    - X-box 1\n",
    "    - Nintendo Switch"
   ]
  },
  {
   "cell_type": "markdown",
   "id": "c101725e",
   "metadata": {},
   "source": [
    "## These are the top 7 platforms for the lowest  ratings (bad, very bad , awful)"
   ]
  },
  {
   "cell_type": "code",
   "execution_count": 10,
   "id": "9e96532d",
   "metadata": {},
   "outputs": [
    {
     "data": {
      "text/html": [
       "<div>\n",
       "<style scoped>\n",
       "    .dataframe tbody tr th:only-of-type {\n",
       "        vertical-align: middle;\n",
       "    }\n",
       "\n",
       "    .dataframe tbody tr th {\n",
       "        vertical-align: top;\n",
       "    }\n",
       "\n",
       "    .dataframe thead th {\n",
       "        text-align: right;\n",
       "    }\n",
       "</style>\n",
       "<table border=\"1\" class=\"dataframe\">\n",
       "  <thead>\n",
       "    <tr style=\"text-align: right;\">\n",
       "      <th></th>\n",
       "      <th>id</th>\n",
       "      <th>first_release_date</th>\n",
       "      <th>genres</th>\n",
       "      <th>name</th>\n",
       "      <th>platforms</th>\n",
       "      <th>slug</th>\n",
       "      <th>player_perspectives</th>\n",
       "      <th>themes</th>\n",
       "      <th>campaigncoop</th>\n",
       "      <th>dropin</th>\n",
       "      <th>...</th>\n",
       "      <th>Family Computer Disk System</th>\n",
       "      <th>Arcade</th>\n",
       "      <th>Windows Phone</th>\n",
       "      <th>Apple II</th>\n",
       "      <th>Web browser</th>\n",
       "      <th>Odyssey</th>\n",
       "      <th>Commodore 16</th>\n",
       "      <th>New Nintendo 3DS</th>\n",
       "      <th>has_dlcs</th>\n",
       "      <th>rating_bin</th>\n",
       "    </tr>\n",
       "  </thead>\n",
       "  <tbody>\n",
       "    <tr>\n",
       "      <th>130342</th>\n",
       "      <td>124494</td>\n",
       "      <td>2005-12-31</td>\n",
       "      <td>[sport]</td>\n",
       "      <td>Jikkyou Powerful Pro Yakyuu 12 Ketteiban</td>\n",
       "      <td>[ps2, ngc]</td>\n",
       "      <td>jikkyou-powerful-pro-yakyuu-12-ketteiban</td>\n",
       "      <td>[third-person, bird-view-slash-isometric]</td>\n",
       "      <td>[Not available]</td>\n",
       "      <td>0</td>\n",
       "      <td>0</td>\n",
       "      <td>...</td>\n",
       "      <td>0</td>\n",
       "      <td>0</td>\n",
       "      <td>0</td>\n",
       "      <td>0</td>\n",
       "      <td>0</td>\n",
       "      <td>0</td>\n",
       "      <td>0</td>\n",
       "      <td>0</td>\n",
       "      <td>0</td>\n",
       "      <td>bad</td>\n",
       "    </tr>\n",
       "    <tr>\n",
       "      <th>178318</th>\n",
       "      <td>100545</td>\n",
       "      <td>2018-05-31</td>\n",
       "      <td>[simulator, strategy]</td>\n",
       "      <td>Airport Simulator 2019</td>\n",
       "      <td>[win, ps4--1, xboxone, switch]</td>\n",
       "      <td>airport-simulator-2019</td>\n",
       "      <td>[third-person, bird-view-slash-isometric]</td>\n",
       "      <td>[business]</td>\n",
       "      <td>0</td>\n",
       "      <td>0</td>\n",
       "      <td>...</td>\n",
       "      <td>0</td>\n",
       "      <td>0</td>\n",
       "      <td>0</td>\n",
       "      <td>0</td>\n",
       "      <td>0</td>\n",
       "      <td>0</td>\n",
       "      <td>0</td>\n",
       "      <td>0</td>\n",
       "      <td>0</td>\n",
       "      <td>bad</td>\n",
       "    </tr>\n",
       "    <tr>\n",
       "      <th>50488</th>\n",
       "      <td>89055</td>\n",
       "      <td>NaT</td>\n",
       "      <td>[Not available]</td>\n",
       "      <td>RC Car</td>\n",
       "      <td>[Not available]</td>\n",
       "      <td>rc-car</td>\n",
       "      <td>[Not available]</td>\n",
       "      <td>[Not available]</td>\n",
       "      <td>0</td>\n",
       "      <td>0</td>\n",
       "      <td>...</td>\n",
       "      <td>0</td>\n",
       "      <td>0</td>\n",
       "      <td>0</td>\n",
       "      <td>0</td>\n",
       "      <td>0</td>\n",
       "      <td>0</td>\n",
       "      <td>0</td>\n",
       "      <td>0</td>\n",
       "      <td>0</td>\n",
       "      <td>very_bad</td>\n",
       "    </tr>\n",
       "    <tr>\n",
       "      <th>143925</th>\n",
       "      <td>86726</td>\n",
       "      <td>2018-01-12</td>\n",
       "      <td>[puzzle]</td>\n",
       "      <td>Word Puzzle Game</td>\n",
       "      <td>[mac]</td>\n",
       "      <td>word-puzzle-game</td>\n",
       "      <td>[Not available]</td>\n",
       "      <td>[Not available]</td>\n",
       "      <td>0</td>\n",
       "      <td>0</td>\n",
       "      <td>...</td>\n",
       "      <td>0</td>\n",
       "      <td>0</td>\n",
       "      <td>0</td>\n",
       "      <td>0</td>\n",
       "      <td>0</td>\n",
       "      <td>0</td>\n",
       "      <td>0</td>\n",
       "      <td>0</td>\n",
       "      <td>0</td>\n",
       "      <td>very_bad</td>\n",
       "    </tr>\n",
       "    <tr>\n",
       "      <th>96611</th>\n",
       "      <td>35833</td>\n",
       "      <td>2015-01-27</td>\n",
       "      <td>[indie]</td>\n",
       "      <td>Break the Cube</td>\n",
       "      <td>[win]</td>\n",
       "      <td>break-the-cube</td>\n",
       "      <td>[Not available]</td>\n",
       "      <td>[Not available]</td>\n",
       "      <td>0</td>\n",
       "      <td>0</td>\n",
       "      <td>...</td>\n",
       "      <td>0</td>\n",
       "      <td>0</td>\n",
       "      <td>0</td>\n",
       "      <td>0</td>\n",
       "      <td>0</td>\n",
       "      <td>0</td>\n",
       "      <td>0</td>\n",
       "      <td>0</td>\n",
       "      <td>0</td>\n",
       "      <td>bad</td>\n",
       "    </tr>\n",
       "    <tr>\n",
       "      <th>...</th>\n",
       "      <td>...</td>\n",
       "      <td>...</td>\n",
       "      <td>...</td>\n",
       "      <td>...</td>\n",
       "      <td>...</td>\n",
       "      <td>...</td>\n",
       "      <td>...</td>\n",
       "      <td>...</td>\n",
       "      <td>...</td>\n",
       "      <td>...</td>\n",
       "      <td>...</td>\n",
       "      <td>...</td>\n",
       "      <td>...</td>\n",
       "      <td>...</td>\n",
       "      <td>...</td>\n",
       "      <td>...</td>\n",
       "      <td>...</td>\n",
       "      <td>...</td>\n",
       "      <td>...</td>\n",
       "      <td>...</td>\n",
       "      <td>...</td>\n",
       "    </tr>\n",
       "    <tr>\n",
       "      <th>115164</th>\n",
       "      <td>29442</td>\n",
       "      <td>2017-03-16</td>\n",
       "      <td>[Not available]</td>\n",
       "      <td>The Last Patient</td>\n",
       "      <td>[win]</td>\n",
       "      <td>the-last-patient</td>\n",
       "      <td>[Not available]</td>\n",
       "      <td>[action]</td>\n",
       "      <td>0</td>\n",
       "      <td>0</td>\n",
       "      <td>...</td>\n",
       "      <td>0</td>\n",
       "      <td>0</td>\n",
       "      <td>0</td>\n",
       "      <td>0</td>\n",
       "      <td>0</td>\n",
       "      <td>0</td>\n",
       "      <td>0</td>\n",
       "      <td>0</td>\n",
       "      <td>0</td>\n",
       "      <td>bad</td>\n",
       "    </tr>\n",
       "    <tr>\n",
       "      <th>36021</th>\n",
       "      <td>89573</td>\n",
       "      <td>NaT</td>\n",
       "      <td>[Not available]</td>\n",
       "      <td>Color Math</td>\n",
       "      <td>[Not available]</td>\n",
       "      <td>color-math</td>\n",
       "      <td>[Not available]</td>\n",
       "      <td>[Not available]</td>\n",
       "      <td>0</td>\n",
       "      <td>0</td>\n",
       "      <td>...</td>\n",
       "      <td>0</td>\n",
       "      <td>0</td>\n",
       "      <td>0</td>\n",
       "      <td>0</td>\n",
       "      <td>0</td>\n",
       "      <td>0</td>\n",
       "      <td>0</td>\n",
       "      <td>0</td>\n",
       "      <td>0</td>\n",
       "      <td>very_bad</td>\n",
       "    </tr>\n",
       "    <tr>\n",
       "      <th>199471</th>\n",
       "      <td>13127</td>\n",
       "      <td>2005-11-17</td>\n",
       "      <td>[simulator]</td>\n",
       "      <td>The Sims 2: Happy Holiday Pack</td>\n",
       "      <td>[win]</td>\n",
       "      <td>the-sims-2-happy-holiday-pack</td>\n",
       "      <td>[bird-view-slash-isometric]</td>\n",
       "      <td>[sandbox]</td>\n",
       "      <td>0</td>\n",
       "      <td>0</td>\n",
       "      <td>...</td>\n",
       "      <td>0</td>\n",
       "      <td>0</td>\n",
       "      <td>0</td>\n",
       "      <td>0</td>\n",
       "      <td>0</td>\n",
       "      <td>0</td>\n",
       "      <td>0</td>\n",
       "      <td>0</td>\n",
       "      <td>0</td>\n",
       "      <td>very_bad</td>\n",
       "    </tr>\n",
       "    <tr>\n",
       "      <th>66132</th>\n",
       "      <td>74556</td>\n",
       "      <td>NaT</td>\n",
       "      <td>[shooter]</td>\n",
       "      <td>Until None Remain - Battle Royale VR</td>\n",
       "      <td>[Not available]</td>\n",
       "      <td>until-none-remain-battle-royale-vr</td>\n",
       "      <td>[first-person, virtual-reality]</td>\n",
       "      <td>[action, science-fiction]</td>\n",
       "      <td>0</td>\n",
       "      <td>0</td>\n",
       "      <td>...</td>\n",
       "      <td>0</td>\n",
       "      <td>0</td>\n",
       "      <td>0</td>\n",
       "      <td>0</td>\n",
       "      <td>0</td>\n",
       "      <td>0</td>\n",
       "      <td>0</td>\n",
       "      <td>0</td>\n",
       "      <td>0</td>\n",
       "      <td>bad</td>\n",
       "    </tr>\n",
       "    <tr>\n",
       "      <th>124883</th>\n",
       "      <td>14883</td>\n",
       "      <td>2010-09-14</td>\n",
       "      <td>[simulator, strategy]</td>\n",
       "      <td>Prison Tycoon: Alcatraz</td>\n",
       "      <td>[win]</td>\n",
       "      <td>prison-tycoon-alcatraz</td>\n",
       "      <td>[bird-view-slash-isometric]</td>\n",
       "      <td>[business]</td>\n",
       "      <td>0</td>\n",
       "      <td>0</td>\n",
       "      <td>...</td>\n",
       "      <td>0</td>\n",
       "      <td>0</td>\n",
       "      <td>0</td>\n",
       "      <td>0</td>\n",
       "      <td>0</td>\n",
       "      <td>0</td>\n",
       "      <td>0</td>\n",
       "      <td>0</td>\n",
       "      <td>0</td>\n",
       "      <td>bad</td>\n",
       "    </tr>\n",
       "  </tbody>\n",
       "</table>\n",
       "<p>325 rows × 111 columns</p>\n",
       "</div>"
      ],
      "text/plain": [
       "            id first_release_date                 genres  \\\n",
       "130342  124494         2005-12-31                [sport]   \n",
       "178318  100545         2018-05-31  [simulator, strategy]   \n",
       "50488    89055                NaT        [Not available]   \n",
       "143925   86726         2018-01-12               [puzzle]   \n",
       "96611    35833         2015-01-27                [indie]   \n",
       "...        ...                ...                    ...   \n",
       "115164   29442         2017-03-16        [Not available]   \n",
       "36021    89573                NaT        [Not available]   \n",
       "199471   13127         2005-11-17            [simulator]   \n",
       "66132    74556                NaT              [shooter]   \n",
       "124883   14883         2010-09-14  [simulator, strategy]   \n",
       "\n",
       "                                            name  \\\n",
       "130342  Jikkyou Powerful Pro Yakyuu 12 Ketteiban   \n",
       "178318                    Airport Simulator 2019   \n",
       "50488                                     RC Car   \n",
       "143925                          Word Puzzle Game   \n",
       "96611                             Break the Cube   \n",
       "...                                          ...   \n",
       "115164                          The Last Patient   \n",
       "36021                                 Color Math   \n",
       "199471            The Sims 2: Happy Holiday Pack   \n",
       "66132       Until None Remain - Battle Royale VR   \n",
       "124883                   Prison Tycoon: Alcatraz   \n",
       "\n",
       "                             platforms  \\\n",
       "130342                      [ps2, ngc]   \n",
       "178318  [win, ps4--1, xboxone, switch]   \n",
       "50488                  [Not available]   \n",
       "143925                           [mac]   \n",
       "96611                            [win]   \n",
       "...                                ...   \n",
       "115164                           [win]   \n",
       "36021                  [Not available]   \n",
       "199471                           [win]   \n",
       "66132                  [Not available]   \n",
       "124883                           [win]   \n",
       "\n",
       "                                            slug  \\\n",
       "130342  jikkyou-powerful-pro-yakyuu-12-ketteiban   \n",
       "178318                    airport-simulator-2019   \n",
       "50488                                     rc-car   \n",
       "143925                          word-puzzle-game   \n",
       "96611                             break-the-cube   \n",
       "...                                          ...   \n",
       "115164                          the-last-patient   \n",
       "36021                                 color-math   \n",
       "199471             the-sims-2-happy-holiday-pack   \n",
       "66132         until-none-remain-battle-royale-vr   \n",
       "124883                    prison-tycoon-alcatraz   \n",
       "\n",
       "                              player_perspectives                     themes  \\\n",
       "130342  [third-person, bird-view-slash-isometric]            [Not available]   \n",
       "178318  [third-person, bird-view-slash-isometric]                 [business]   \n",
       "50488                             [Not available]            [Not available]   \n",
       "143925                            [Not available]            [Not available]   \n",
       "96611                             [Not available]            [Not available]   \n",
       "...                                           ...                        ...   \n",
       "115164                            [Not available]                   [action]   \n",
       "36021                             [Not available]            [Not available]   \n",
       "199471                [bird-view-slash-isometric]                  [sandbox]   \n",
       "66132             [first-person, virtual-reality]  [action, science-fiction]   \n",
       "124883                [bird-view-slash-isometric]                 [business]   \n",
       "\n",
       "        campaigncoop  dropin  ...  Family Computer Disk System  Arcade  \\\n",
       "130342             0       0  ...                            0       0   \n",
       "178318             0       0  ...                            0       0   \n",
       "50488              0       0  ...                            0       0   \n",
       "143925             0       0  ...                            0       0   \n",
       "96611              0       0  ...                            0       0   \n",
       "...              ...     ...  ...                          ...     ...   \n",
       "115164             0       0  ...                            0       0   \n",
       "36021              0       0  ...                            0       0   \n",
       "199471             0       0  ...                            0       0   \n",
       "66132              0       0  ...                            0       0   \n",
       "124883             0       0  ...                            0       0   \n",
       "\n",
       "        Windows Phone  Apple II  Web browser  Odyssey  Commodore 16  \\\n",
       "130342              0         0            0        0             0   \n",
       "178318              0         0            0        0             0   \n",
       "50488               0         0            0        0             0   \n",
       "143925              0         0            0        0             0   \n",
       "96611               0         0            0        0             0   \n",
       "...               ...       ...          ...      ...           ...   \n",
       "115164              0         0            0        0             0   \n",
       "36021               0         0            0        0             0   \n",
       "199471              0         0            0        0             0   \n",
       "66132               0         0            0        0             0   \n",
       "124883              0         0            0        0             0   \n",
       "\n",
       "        New Nintendo 3DS  has_dlcs  rating_bin  \n",
       "130342                 0         0         bad  \n",
       "178318                 0         0         bad  \n",
       "50488                  0         0    very_bad  \n",
       "143925                 0         0    very_bad  \n",
       "96611                  0         0         bad  \n",
       "...                  ...       ...         ...  \n",
       "115164                 0         0         bad  \n",
       "36021                  0         0    very_bad  \n",
       "199471                 0         0    very_bad  \n",
       "66132                  0         0         bad  \n",
       "124883                 0         0         bad  \n",
       "\n",
       "[325 rows x 111 columns]"
      ]
     },
     "execution_count": 10,
     "metadata": {},
     "output_type": "execute_result"
    }
   ],
   "source": [
    "df_low3_rating = train[(train['rating_bin']== 'bad') | (train['rating_bin']== 'very_bad') | (train['rating_bin']== 'awful')]\n",
    "df_low3_rating"
   ]
  },
  {
   "cell_type": "code",
   "execution_count": 11,
   "id": "0245e827",
   "metadata": {},
   "outputs": [],
   "source": [
    "df_low3_rating = df_low3_rating.drop_duplicates(subset = \"id\")"
   ]
  },
  {
   "cell_type": "code",
   "execution_count": 12,
   "id": "4916b716",
   "metadata": {},
   "outputs": [
    {
     "data": {
      "text/plain": [
       "Text(0.5, 1.0, 'platforms')"
      ]
     },
     "execution_count": 12,
     "metadata": {},
     "output_type": "execute_result"
    },
    {
     "data": {
      "image/png": "[encoded data removed]",
      "text/plain": [
       "<Figure size 1008x288 with 1 Axes>"
      ]
     },
     "metadata": {
      "needs_background": "light"
     },
     "output_type": "display_data"
    }
   ],
   "source": [
    "fig, ax = plt.subplots(figsize = (14,4))\n",
    "ax.bar(to_1D(df_low3_rating[\"platforms\"]).value_counts().iloc[:4].index,\n",
    "        to_1D(df_low3_rating[\"platforms\"]).value_counts().iloc[:4].values)\n",
    "ax.set_ylabel(\"Frequency\", size = 12)\n",
    "ax.set_title(\"platforms\", size = 14)"
   ]
  },
  {
   "cell_type": "code",
   "execution_count": 13,
   "id": "8174a7a3",
   "metadata": {
    "scrolled": false
   },
   "outputs": [
    {
     "data": {
      "text/plain": [
       "[win]                                            115\n",
       "[Not available]                                   87\n",
       "[ios]                                             13\n",
       "[linux, win, mac]                                 12\n",
       "[ps2, ngc]                                        10\n",
       "[mac]                                             10\n",
       "[win, mac]                                         8\n",
       "[ngc]                                              6\n",
       "[win, ps4--1, xboxone]                             5\n",
       "[nds]                                              3\n",
       "[gb]                                               3\n",
       "[win, android, ios]                                3\n",
       "[ps2, xbox, ngc]                                   3\n",
       "[linux, win]                                       2\n",
       "[win, ps4--1, xboxone, switch]                     2\n",
       "[win, ps, saturn]                                  1\n",
       "[sfam]                                             1\n",
       "[amiga, gb, atari-st]                              1\n",
       "[nes, trs-80]                                      1\n",
       "[gba]                                              1\n",
       "[dos, snes, smd]                                   1\n",
       "[win, psvita, ps4--1]                              1\n",
       "[win, switch]                                      1\n",
       "[win, mac, android, ios]                           1\n",
       "[win, ps4--1, 3do, switch, ps5]                    1\n",
       "[android, ios]                                     1\n",
       "[linux, win, mac, switch]                          1\n",
       "[win, android, switch]                             1\n",
       "[win, dos]                                         1\n",
       "[ps2, xbox, ngc, zod]                              1\n",
       "[linux, win, mac, android, xboxone]                1\n",
       "[dos, amiga, snes, smd, gb, gamegear, sms]         1\n",
       "[win, xbox360, ios, winphone]                      1\n",
       "[win, ps3, psvita]                                 1\n",
       "[wii]                                              1\n",
       "[win, mac, ios, ps4--1, switch]                    1\n",
       "[linux, win, mac, xboxone]                         1\n",
       "[amiga]                                            1\n",
       "[wiiu]                                             1\n",
       "[win, ps4--1, xboxone, switch, ps5, series-x]      1\n",
       "[xboxone]                                          1\n",
       "[win, ps4--1]                                      1\n",
       "[ios, nintendo-dsi]                                1\n",
       "[wii, win, ps2, ngc]                               1\n",
       "[win, ps3, xbox360]                                1\n",
       "[wii, win, ps2, ps3, xbox360]                      1\n",
       "[win, xbox360]                                     1\n",
       "[3ds]                                              1\n",
       "[nes]                                              1\n",
       "[ps2, ngc, gba]                                    1\n",
       "[wii, ps2, ngc]                                    1\n",
       "[xbox360]                                          1\n",
       "[ps4--1, xboxone]                                  1\n",
       "[ps]                                               1\n",
       "[ps4--1]                                           1\n",
       "Name: platforms, dtype: int64"
      ]
     },
     "execution_count": 13,
     "metadata": {},
     "output_type": "execute_result"
    }
   ],
   "source": [
    "df_low3_rating.platforms.value_counts()"
   ]
  },
  {
   "cell_type": "markdown",
   "id": "ad232c2e",
   "metadata": {},
   "source": [
    "---------"
   ]
  },
  {
   "cell_type": "markdown",
   "id": "17eea102",
   "metadata": {},
   "source": [
    "# Q2- what is the most common genre in games that are `subperb` (the highest rating)"
   ]
  },
  {
   "cell_type": "markdown",
   "id": "e773b478",
   "metadata": {},
   "source": [
    "- Answer- the most common Genre in the higest rating are adventure, role-playing- rpg, shoter, rts, racing "
   ]
  },
  {
   "cell_type": "code",
   "execution_count": null,
   "id": "91718ea8",
   "metadata": {
    "scrolled": false
   },
   "outputs": [],
   "source": [
    "pd.set_option('display.max_columns', 500)\n",
    "df_subperb_rating.head()"
   ]
  },
  {
   "cell_type": "code",
   "execution_count": 14,
   "id": "885fa0e5",
   "metadata": {
    "scrolled": false
   },
   "outputs": [
    {
     "data": {
      "text/plain": [
       "([0, 1, 2, 3],\n",
       " [Text(0, 0, ''), Text(0, 0, ''), Text(0, 0, ''), Text(0, 0, '')])"
      ]
     },
     "execution_count": 14,
     "metadata": {},
     "output_type": "execute_result"
    },
    {
     "data": {
      "image/png": "[encoded data removed]",
      "text/plain": [
       "<Figure size 1008x432 with 1 Axes>"
      ]
     },
     "metadata": {
      "needs_background": "light"
     },
     "output_type": "display_data"
    }
   ],
   "source": [
    "fig, ax = plt.subplots(figsize = (14,6))\n",
    "ax.bar(to_1D(df_subperb_rating[\"genres\"]).value_counts().iloc[:4].index,\n",
    "        to_1D(df_subperb_rating[\"genres\"]).value_counts().iloc[:4].values,\n",
    "         color= ['purple'])\n",
    "ax.set_ylabel(\"Frequency\", size = 20)\n",
    "ax.set_title(\"Most common Genre in Superb Games\", size = 20)\n",
    "plt.xticks(fontsize = 15)"
   ]
  },
  {
   "cell_type": "code",
   "execution_count": null,
   "id": "51f705c2",
   "metadata": {
    "scrolled": true
   },
   "outputs": [],
   "source": [
    "(to_1D(df_subperb_rating[\"genres\"]).value_counts().iloc[:4].index)"
   ]
  },
  {
   "cell_type": "code",
   "execution_count": null,
   "id": "10ebb355",
   "metadata": {},
   "outputs": [],
   "source": [
    "(to_1D(df_subperb_rating[\"genres\"]).value_counts().iloc[:4].values)"
   ]
  },
  {
   "cell_type": "code",
   "execution_count": null,
   "id": "d916fce2",
   "metadata": {},
   "outputs": [],
   "source": [
    "colors = ['purple',] * 5\n",
    "\n",
    "\n",
    "fig = go.Figure(data=[go.Bar(\n",
    "    x=['Adventure', 'Role-Playing-RPG' , 'Indie' , 'Strategy'],\n",
    "    y=[104, 75, 48,  41],\n",
    "    marker_color=colors # marker color can be a single color value or an iterable\n",
    ")])\n",
    "fig.update_layout(title_text='Genre', font=dict(size=17, color=\"black\"))"
   ]
  },
  {
   "cell_type": "markdown",
   "id": "3ac0946e",
   "metadata": {},
   "source": [
    ">- Answer- the most common Genre in the higest rating are adventure, role-playing- rpg, shoter, rts, racing "
   ]
  },
  {
   "cell_type": "markdown",
   "id": "70e821dc",
   "metadata": {},
   "source": [
    "## Q 2.1 what about the three highest ratings (good, great, subperb) ? what is the overall most highest genre"
   ]
  },
  {
   "cell_type": "code",
   "execution_count": null,
   "id": "b6df1bc3",
   "metadata": {},
   "outputs": [],
   "source": [
    "# fig, ax = plt.subplots(figsize = (14,4))\n",
    "# ax.bar(to_1D(df_top3_rating[\"genres\"]).value_counts().iloc[:7].index,\n",
    "#         to_1D(df_top3_rating[\"genres\"]).value_counts().iloc[:7].values)\n",
    "# ax.set_ylabel(\"Frequency\", size = 12)\n",
    "# ax.set_title(\"genres\", size = 14)"
   ]
  },
  {
   "cell_type": "markdown",
   "id": "ab66e13f",
   "metadata": {},
   "source": [
    "## Q 2.2 what about the three lowest ratings ((bad, very bad , awful)) ? what is the overall most highest genre in these low rating games?"
   ]
  },
  {
   "cell_type": "code",
   "execution_count": 15,
   "id": "f5837580",
   "metadata": {
    "scrolled": true
   },
   "outputs": [
    {
     "data": {
      "text/plain": [
       "Text(0.5, 1.0, 'genre')"
      ]
     },
     "execution_count": 15,
     "metadata": {},
     "output_type": "execute_result"
    },
    {
     "data": {
      "image/png": "[encoded data removed]",
      "text/plain": [
       "<Figure size 1008x288 with 1 Axes>"
      ]
     },
     "metadata": {
      "needs_background": "light"
     },
     "output_type": "display_data"
    }
   ],
   "source": [
    "fig, ax = plt.subplots(figsize = (14,4))\n",
    "ax.bar(to_1D(df_low3_rating[\"genres\"]).value_counts().iloc[:4].index,\n",
    "        to_1D(df_low3_rating[\"genres\"]).value_counts().iloc[:4].values)\n",
    "ax.set_ylabel(\"Frequency\", size = 12)\n",
    "ax.set_title(\"genre\", size = 14)"
   ]
  },
  {
   "cell_type": "code",
   "execution_count": null,
   "id": "2f70abd2",
   "metadata": {},
   "outputs": [],
   "source": [
    "colors = ['blue',] * 5\n",
    "\n",
    "\n",
    "fig = go.Figure(data=[go.Bar(\n",
    "    x=['indie', 'adventure', 'Not available', 'simulator'],\n",
    "    y=[94, 80, 73, 69],\n",
    "    marker_color=colors # marker color can be a single color value or an iterable\n",
    ")])\n",
    "fig.update_layout(title_text='Genre', font=dict(size=17, color=\"black\"))"
   ]
  },
  {
   "cell_type": "code",
   "execution_count": null,
   "id": "f2950a80",
   "metadata": {},
   "outputs": [],
   "source": [
    "to_1D(df_low3_rating[\"genres\"]).value_counts().iloc[:4].index"
   ]
  },
  {
   "cell_type": "code",
   "execution_count": null,
   "id": "c1556e24",
   "metadata": {},
   "outputs": [],
   "source": [
    "to_1D(df_low3_rating[\"genres\"]).value_counts().iloc[:4].values"
   ]
  },
  {
   "cell_type": "code",
   "execution_count": null,
   "id": "15aa2e40",
   "metadata": {
    "scrolled": true
   },
   "outputs": [],
   "source": [
    "# df_low2_rating = df2[(df2['rating_bin']== 'very_bad') | (df2['rating_bin']== 'awful')]\n",
    "# df_low2_rating.head()\n",
    "#this was not needed "
   ]
  },
  {
   "cell_type": "code",
   "execution_count": null,
   "id": "cfe1efdb",
   "metadata": {},
   "outputs": [],
   "source": []
  },
  {
   "cell_type": "markdown",
   "id": "18a69a2d",
   "metadata": {},
   "source": [
    "# Q3- what is the most common theme in games that are subperb (the highest rating)"
   ]
  },
  {
   "cell_type": "markdown",
   "id": "74003c51",
   "metadata": {},
   "source": [
    "Answer - the most common themes in the subperb is action, fantasy, science fiction, historical."
   ]
  },
  {
   "cell_type": "code",
   "execution_count": 16,
   "id": "b8cc1f70",
   "metadata": {},
   "outputs": [
    {
     "data": {
      "text/plain": [
       "([0, 1, 2, 3],\n",
       " [Text(0, 0, ''), Text(0, 0, ''), Text(0, 0, ''), Text(0, 0, '')])"
      ]
     },
     "execution_count": 16,
     "metadata": {},
     "output_type": "execute_result"
    },
    {
     "data": {
      "image/png": "[encoded data removed]",
      "text/plain": [
       "<Figure size 1008x432 with 1 Axes>"
      ]
     },
     "metadata": {
      "needs_background": "light"
     },
     "output_type": "display_data"
    }
   ],
   "source": [
    "fig, ax = plt.subplots(figsize = (14,6))\n",
    "ax.bar(to_1D(df_subperb_rating[\"themes\"]).value_counts().iloc[:4].index,\n",
    "        to_1D(df_subperb_rating[\"themes\"]).value_counts().iloc[:4].values,\n",
    "           color= ['purple'])\n",
    "ax.set_ylabel(\"Frequency\", size = 20)\n",
    "ax.set_title(\"Most common themes in superb games\", size = 20)\n",
    "plt.xticks(fontsize = 15)"
   ]
  },
  {
   "cell_type": "code",
   "execution_count": null,
   "id": "3f4ff69a",
   "metadata": {},
   "outputs": [],
   "source": [
    "to_1D(df_subperb_rating[\"themes\"]).value_counts().iloc[:4].index"
   ]
  },
  {
   "cell_type": "code",
   "execution_count": null,
   "id": "c1dd7bb5",
   "metadata": {},
   "outputs": [],
   "source": [
    "to_1D(df_subperb_rating[\"themes\"]).value_counts().iloc[:4].values"
   ]
  },
  {
   "cell_type": "code",
   "execution_count": null,
   "id": "b4caf0f4",
   "metadata": {},
   "outputs": [],
   "source": [
    "colors = ['purple',] * 5\n",
    "\n",
    "\n",
    "fig = go.Figure(data=[go.Bar(\n",
    "    x=['Action', 'Fantasy', 'Science-Fiction', 'Open-World'],\n",
    "    y=[107,  66,  36,  28],\n",
    "    marker_color=colors # marker color can be a single color value or an iterable\n",
    ")])\n",
    "fig.update_layout(title_text='Themes', font=dict(size=17, color=\"black\"))"
   ]
  },
  {
   "cell_type": "markdown",
   "id": "fbb47346",
   "metadata": {},
   "source": [
    "## Q3.1- what is the most common theme in games that are three highest ratings (good, great, subperb)?"
   ]
  },
  {
   "cell_type": "code",
   "execution_count": null,
   "id": "fa216673",
   "metadata": {},
   "outputs": [],
   "source": [
    "# fig, ax = plt.subplots(figsize = (14,4))\n",
    "# ax.bar(to_1D(df_top3_rating[\"themes\"]).value_counts().iloc[:7].index,\n",
    "#         to_1D(df_top3_rating[\"themes\"]).value_counts().iloc[:7].values)\n",
    "# ax.set_ylabel(\"Frequency\", size = 12)\n",
    "# ax.set_title(\"Themes\", size = 14)"
   ]
  },
  {
   "cell_type": "markdown",
   "id": "8eb0a738",
   "metadata": {},
   "source": [
    "## Q3.1- what is the most common theme in games that are three lowest ratings ((bad, very bad , awful)) ?"
   ]
  },
  {
   "cell_type": "code",
   "execution_count": 17,
   "id": "6fd627ff",
   "metadata": {
    "scrolled": true
   },
   "outputs": [
    {
     "data": {
      "text/plain": [
       "Text(0.5, 1.0, 'Themes')"
      ]
     },
     "execution_count": 17,
     "metadata": {},
     "output_type": "execute_result"
    },
    {
     "data": {
      "image/png": "[encoded data removed]",
      "text/plain": [
       "<Figure size 1008x288 with 1 Axes>"
      ]
     },
     "metadata": {
      "needs_background": "light"
     },
     "output_type": "display_data"
    }
   ],
   "source": [
    "fig, ax = plt.subplots(figsize = (14,4))\n",
    "ax.bar(to_1D(df_low3_rating[\"themes\"]).value_counts().iloc[:4].index,\n",
    "        to_1D(df_low3_rating[\"themes\"]).value_counts().iloc[:4].values)\n",
    "ax.set_ylabel(\"Frequency\", size = 12)\n",
    "ax.set_title(\"Themes\", size = 14)"
   ]
  },
  {
   "cell_type": "code",
   "execution_count": null,
   "id": "97b2c141",
   "metadata": {},
   "outputs": [],
   "source": []
  },
  {
   "cell_type": "code",
   "execution_count": null,
   "id": "b4937e4e",
   "metadata": {},
   "outputs": [],
   "source": []
  },
  {
   "cell_type": "markdown",
   "id": "cf7d7a0c",
   "metadata": {},
   "source": [
    "# Q4-  Do users rate games with online multiplayer modes higher than games that lack online multiplayer modes?\n",
    "\n",
    "> since there is a gap time from game that can be played online and games that cannot- we decided to remove that gap and make sure that the games all come out in the same time period\n",
    "\n",
    "\n",
    "### _answer:_ even after removing that time gap the games that are `NOT` multiplayer online games are rated higher than non-multiplayer games"
   ]
  },
  {
   "cell_type": "code",
   "execution_count": null,
   "id": "52c4080a",
   "metadata": {
    "scrolled": false
   },
   "outputs": [],
   "source": [
    "df2.head(2)"
   ]
  },
  {
   "cell_type": "markdown",
   "id": "238d6ae5",
   "metadata": {},
   "source": [
    ">## Not online multi"
   ]
  },
  {
   "cell_type": "code",
   "execution_count": null,
   "id": "b8fc51ba",
   "metadata": {},
   "outputs": [],
   "source": [
    "#making sure all games are comming out of the same time period\n",
    "train['created_at'] = pd.to_datetime(train['created_at'],unit='s')"
   ]
  },
  {
   "cell_type": "code",
   "execution_count": null,
   "id": "4e7b94b9",
   "metadata": {
    "scrolled": false
   },
   "outputs": [],
   "source": [
    "train.onlinecoop.value_counts()"
   ]
  },
  {
   "cell_type": "code",
   "execution_count": null,
   "id": "3f8d95d1",
   "metadata": {
    "scrolled": false
   },
   "outputs": [],
   "source": [
    "NOT_online_multi = train[train['onlinecoop']== False]\n",
    "NOT_online_multi.head(1)"
   ]
  },
  {
   "cell_type": "code",
   "execution_count": null,
   "id": "222c402c",
   "metadata": {
    "scrolled": true
   },
   "outputs": [],
   "source": [
    "NOT_online_multi['first_release_date'] = pd.to_datetime(NOT_online_multi['first_release_date'],unit='s')"
   ]
  },
  {
   "cell_type": "code",
   "execution_count": null,
   "id": "2c84c79a",
   "metadata": {
    "scrolled": true
   },
   "outputs": [],
   "source": [
    "NOT_online_multi.head()"
   ]
  },
  {
   "cell_type": "code",
   "execution_count": null,
   "id": "59e21a92",
   "metadata": {
    "scrolled": true
   },
   "outputs": [],
   "source": [
    "NOT_online_multi.first_release_date.value_counts()"
   ]
  },
  {
   "cell_type": "code",
   "execution_count": null,
   "id": "268bcca1",
   "metadata": {},
   "outputs": [],
   "source": [
    "NOT_online_multi['first_release_date_year'] = NOT_online_multi.first_release_date.dt.year"
   ]
  },
  {
   "cell_type": "code",
   "execution_count": null,
   "id": "05a6d2bc",
   "metadata": {
    "scrolled": true
   },
   "outputs": [],
   "source": [
    "NOT_online_multi.first_release_date_year.value_counts()"
   ]
  },
  {
   "cell_type": "code",
   "execution_count": null,
   "id": "f4ce5bf4",
   "metadata": {},
   "outputs": [],
   "source": [
    "NOT_online_multi.head()"
   ]
  },
  {
   "cell_type": "code",
   "execution_count": null,
   "id": "dd0a9d46",
   "metadata": {},
   "outputs": [],
   "source": [
    "#1981 is the lowest date in online i will it cut it off there "
   ]
  },
  {
   "cell_type": "code",
   "execution_count": null,
   "id": "11680d24",
   "metadata": {
    "scrolled": true
   },
   "outputs": [],
   "source": [
    "NOT_online_multi = NOT_online_multi[NOT_online_multi['first_release_date_year'] > 1981.0]\n",
    "NOT_online_multi.head(1)"
   ]
  },
  {
   "cell_type": "code",
   "execution_count": null,
   "id": "30959447",
   "metadata": {
    "scrolled": true
   },
   "outputs": [],
   "source": [
    "NOT_online_multi.first_release_date_year.value_counts()"
   ]
  },
  {
   "cell_type": "markdown",
   "id": "79f5a5b9",
   "metadata": {},
   "source": [
    "## Not online multi-player that games are after 1981"
   ]
  },
  {
   "cell_type": "code",
   "execution_count": null,
   "id": "5ec8adb8",
   "metadata": {},
   "outputs": [],
   "source": [
    "plt.figure(figsize=(12,5))\n",
    "c = sns.countplot(x='rating_bin', data=NOT_online_multi)\n",
    "\n",
    "for p in c.patches:\n",
    "    c.annotate(p.get_height(), \n",
    "                (p.get_x() + p.get_width() / 2.0, \n",
    "                 p.get_height()), \n",
    "                 ha = 'center', \n",
    "                 va = 'center', \n",
    "                 xytext = (1, 5),\n",
    "                 textcoords = 'offset points')"
   ]
  },
  {
   "cell_type": "markdown",
   "id": "e24a2db5",
   "metadata": {},
   "source": [
    ">##  online multi"
   ]
  },
  {
   "cell_type": "code",
   "execution_count": null,
   "id": "d2070864",
   "metadata": {
    "scrolled": true
   },
   "outputs": [],
   "source": [
    "df_online_multi = df2[df2['onlinecoop']== True]\n",
    "df_online_multi.head(1)"
   ]
  },
  {
   "cell_type": "markdown",
   "id": "57412b0e",
   "metadata": {},
   "source": [
    "## Games that are after 1981 - Ratings "
   ]
  },
  {
   "cell_type": "code",
   "execution_count": null,
   "id": "c9d5793c",
   "metadata": {
    "scrolled": true
   },
   "outputs": [],
   "source": [
    "plt.figure(figsize=(12,5))\n",
    "c = sns.countplot(x='rating_bin', data=df_online_multi)\n",
    "\n",
    "for p in c.patches:\n",
    "    c.annotate(p.get_height(), \n",
    "                (p.get_x() + p.get_width() / 2.0, \n",
    "                 p.get_height()), \n",
    "                 ha = 'center', \n",
    "                 va = 'center', \n",
    "                 xytext = (1, 5),\n",
    "                 textcoords = 'offset points')"
   ]
  },
  {
   "cell_type": "markdown",
   "id": "89f13fa2",
   "metadata": {},
   "source": [
    "### figuring out the time period for online games"
   ]
  },
  {
   "cell_type": "code",
   "execution_count": null,
   "id": "4b35e92c",
   "metadata": {},
   "outputs": [],
   "source": [
    "df_online_multi['first_release_date'] = pd.to_datetime(df_online_multi['first_release_date'],unit='s')"
   ]
  },
  {
   "cell_type": "code",
   "execution_count": null,
   "id": "2c5df8f9",
   "metadata": {},
   "outputs": [],
   "source": [
    "df_online_multi.head(1)"
   ]
  },
  {
   "cell_type": "code",
   "execution_count": null,
   "id": "72ef927d",
   "metadata": {},
   "outputs": [],
   "source": [
    "df_online_multi['first_release_date_year'] = df_online_multi.first_release_date.dt.year"
   ]
  },
  {
   "cell_type": "code",
   "execution_count": null,
   "id": "122e49ed",
   "metadata": {
    "scrolled": true
   },
   "outputs": [],
   "source": [
    "df_online_multi.first_release_date_year.value_counts()"
   ]
  },
  {
   "cell_type": "markdown",
   "id": "da2266c2",
   "metadata": {},
   "source": [
    " # Q 4- Does a certain game_mode determine the game rating?"
   ]
  },
  {
   "cell_type": "code",
   "execution_count": null,
   "id": "edc71e0f",
   "metadata": {
    "scrolled": true
   },
   "outputs": [],
   "source": [
    "train.head()"
   ]
  },
  {
   "cell_type": "code",
   "execution_count": null,
   "id": "87171fb1",
   "metadata": {},
   "outputs": [],
   "source": [
    "fig, ax = plt.subplots(figsize = (14,4))\n",
    "ax.bar(to_1D(train[\"game_modes\"]).value_counts().iloc[:7].index,\n",
    "        to_1D(train[\"game_modes\"]).value_counts().iloc[:7].values)\n",
    "ax.set_ylabel(\"Frequency\", size = 12)\n",
    "ax.set_title(\"platforms\", size = 14)"
   ]
  },
  {
   "cell_type": "markdown",
   "id": "957aac7d",
   "metadata": {},
   "source": [
    "- looks liek most common games are single and multi player, and co op "
   ]
  },
  {
   "cell_type": "code",
   "execution_count": null,
   "id": "6a45486a",
   "metadata": {},
   "outputs": [],
   "source": [
    "fig, ax = plt.subplots(figsize = (14,6))\n",
    "ax.bar(to_1D(df_subperb_rating[\"game_modes\"]).value_counts().iloc[:4].index,\n",
    "        to_1D(df_subperb_rating[\"game_modes\"]).value_counts().iloc[:4].values,\n",
    "         color= ['purple'])\n",
    "ax.set_ylabel(\"Frequency\", size = 20)\n",
    "ax.set_title(\"Most common Genre in Superb Games\", size = 20)"
   ]
  },
  {
   "cell_type": "markdown",
   "id": "5a36ed6f",
   "metadata": {},
   "source": [
    "- didnt find anything important"
   ]
  },
  {
   "cell_type": "code",
   "execution_count": null,
   "id": "2aa757e5",
   "metadata": {},
   "outputs": [],
   "source": [
    "train.head(3)"
   ]
  },
  {
   "cell_type": "code",
   "execution_count": null,
   "id": "4410c559",
   "metadata": {},
   "outputs": [],
   "source": []
  },
  {
   "cell_type": "code",
   "execution_count": null,
   "id": "fb67eaeb",
   "metadata": {},
   "outputs": [],
   "source": []
  },
  {
   "cell_type": "markdown",
   "id": "db1a3976",
   "metadata": {},
   "source": [
    "# What Are the most common player perspectives in "
   ]
  },
  {
   "cell_type": "code",
   "execution_count": null,
   "id": "db067be2",
   "metadata": {
    "scrolled": true
   },
   "outputs": [],
   "source": [
    "df_subperb_rating.player_perspectives.value_counts()"
   ]
  },
  {
   "cell_type": "code",
   "execution_count": 18,
   "id": "31b24d3b",
   "metadata": {
    "scrolled": false
   },
   "outputs": [
    {
     "data": {
      "text/plain": [
       "([0, 1, 2, 3],\n",
       " [Text(0, 0, ''), Text(0, 0, ''), Text(0, 0, ''), Text(0, 0, '')])"
      ]
     },
     "execution_count": 18,
     "metadata": {},
     "output_type": "execute_result"
    },
    {
     "data": {
      "image/png": "[encoded data removed]",
      "text/plain": [
       "<Figure size 1008x432 with 1 Axes>"
      ]
     },
     "metadata": {
      "needs_background": "light"
     },
     "output_type": "display_data"
    }
   ],
   "source": [
    "fig, ax = plt.subplots(figsize = (14,6))\n",
    "ax.bar(to_1D(df_subperb_rating[\"player_perspectives\"]).value_counts().iloc[:4].index,\n",
    "        to_1D(df_subperb_rating[\"player_perspectives\"]).value_counts().iloc[:4].values,\n",
    "         color= ['purple'])\n",
    "\n",
    "ax.set_ylabel(\"Frequency\", size = 20)\n",
    "ax.set_title(\"Most common Player Perspective in Superb Rated Games\", size = 20, fontweight='bold')\n",
    "\n",
    "plt.xticks(fontsize = 15)"
   ]
  },
  {
   "cell_type": "code",
   "execution_count": null,
   "id": "e3140547",
   "metadata": {},
   "outputs": [],
   "source": [
    "to_1D(df_subperb_rating[\"player_perspectives\"]).value_counts().iloc[:4].index"
   ]
  },
  {
   "cell_type": "code",
   "execution_count": null,
   "id": "ef8f7ad0",
   "metadata": {},
   "outputs": [],
   "source": [
    "to_1D(df_subperb_rating[\"player_perspectives\"]).value_counts().iloc[:4].values"
   ]
  },
  {
   "cell_type": "code",
   "execution_count": null,
   "id": "ba7f010c",
   "metadata": {},
   "outputs": [],
   "source": []
  },
  {
   "cell_type": "code",
   "execution_count": null,
   "id": "921c3e58",
   "metadata": {},
   "outputs": [],
   "source": [
    "colors = ['purple',] * 5\n",
    "\n",
    "\n",
    "fig = go.Figure(data=[go.Bar(\n",
    "    x=['Third-Person', 'Bird-view / Isometric', 'Side-View','First-Person'],\n",
    "    y=[285, 226, 218,  11],\n",
    "    marker_color=colors # marker color can be a single color value or an iterable\n",
    ")])\n",
    "fig.update_layout(title_text='Player Perspectives',  font=dict(size=17, color=\"black\"))"
   ]
  },
  {
   "cell_type": "code",
   "execution_count": 19,
   "id": "73b96cf4",
   "metadata": {},
   "outputs": [
    {
     "data": {
      "text/plain": [
       "([0, 1, 2, 3],\n",
       " [Text(0, 0, ''), Text(0, 0, ''), Text(0, 0, ''), Text(0, 0, '')])"
      ]
     },
     "execution_count": 19,
     "metadata": {},
     "output_type": "execute_result"
    },
    {
     "data": {
      "image/png": "[encoded data removed]",
      "text/plain": [
       "<Figure size 1008x432 with 1 Axes>"
      ]
     },
     "metadata": {
      "needs_background": "light"
     },
     "output_type": "display_data"
    }
   ],
   "source": [
    "fig, ax = plt.subplots(figsize = (14,6))\n",
    "ax.bar(to_1D(df_low3_rating[\"player_perspectives\"]).value_counts().iloc[:4].index,\n",
    "        to_1D(df_low3_rating[\"player_perspectives\"]).value_counts().iloc[:4].values)\n",
    "\n",
    "ax.set_ylabel(\"Frequency\", size = 20)\n",
    "ax.set_title(\"Most common Player Perspective in the lowest Rated Games\", size = 20, fontweight='bold')\n",
    "\n",
    "plt.xticks(fontsize = 15)"
   ]
  },
  {
   "cell_type": "code",
   "execution_count": null,
   "id": "c915529d",
   "metadata": {},
   "outputs": [],
   "source": []
  },
  {
   "cell_type": "markdown",
   "id": "e0b1da57",
   "metadata": {},
   "source": [
    "- looks like the majority of the best games have third person and, bird view/isometric "
   ]
  },
  {
   "cell_type": "markdown",
   "id": "10876cda",
   "metadata": {},
   "source": [
    "# what can i find more info on subperb ratings?"
   ]
  },
  {
   "cell_type": "code",
   "execution_count": null,
   "id": "ed080fd6",
   "metadata": {},
   "outputs": [],
   "source": [
    "df_subperb_rating"
   ]
  },
  {
   "cell_type": "code",
   "execution_count": null,
   "id": "6ceaa35d",
   "metadata": {},
   "outputs": [],
   "source": [
    "df_subperb_rating.id.unique()"
   ]
  },
  {
   "cell_type": "code",
   "execution_count": null,
   "id": "27dc7020",
   "metadata": {},
   "outputs": [],
   "source": [
    "print(df_subperb_rating[\"id\"].unique())"
   ]
  },
  {
   "cell_type": "code",
   "execution_count": null,
   "id": "870af103",
   "metadata": {
    "scrolled": true
   },
   "outputs": [],
   "source": [
    "print(df_subperb_rating[\"id\"].nunique())"
   ]
  },
  {
   "cell_type": "code",
   "execution_count": null,
   "id": "1c90ea5c",
   "metadata": {
    "scrolled": true
   },
   "outputs": [],
   "source": [
    "df_subperb_rating.id.value_counts()"
   ]
  },
  {
   "cell_type": "code",
   "execution_count": null,
   "id": "bf0c541f",
   "metadata": {},
   "outputs": [],
   "source": [
    "df_subperb_rating[\"id\"]== 6440"
   ]
  },
  {
   "cell_type": "code",
   "execution_count": null,
   "id": "df0debd6",
   "metadata": {
    "scrolled": true
   },
   "outputs": [],
   "source": [
    "df_subperb_rating.loc[df_subperb_rating['id'] == 1070]"
   ]
  },
  {
   "cell_type": "code",
   "execution_count": null,
   "id": "4bfad84a",
   "metadata": {
    "scrolled": false
   },
   "outputs": [],
   "source": [
    "df_subperb_rating.loc[df_subperb_rating['id'] == 6440]"
   ]
  },
  {
   "cell_type": "code",
   "execution_count": null,
   "id": "fb308a9a",
   "metadata": {},
   "outputs": [],
   "source": [
    "df_subperb_rating = df_subperb_rating.drop_duplicates(subset = \"id\")"
   ]
  },
  {
   "cell_type": "code",
   "execution_count": null,
   "id": "60e52482",
   "metadata": {},
   "outputs": [],
   "source": [
    "df_subperb_rating"
   ]
  },
  {
   "cell_type": "code",
   "execution_count": null,
   "id": "5c0b0cbd",
   "metadata": {},
   "outputs": [],
   "source": []
  }
 ],
 "metadata": {
  "kernelspec": {
   "display_name": "Python 3 (ipykernel)",
   "language": "python",
   "name": "python3"
  },
  "language_info": {
   "codemirror_mode": {
    "name": "ipython",
    "version": 3
   },
   "file_extension": ".py",
   "mimetype": "text/x-python",
   "name": "python",
   "nbconvert_exporter": "python",
   "pygments_lexer": "ipython3",
   "version": "3.9.12"
  }
 },
 "nbformat": 4,
 "nbformat_minor": 5
}
