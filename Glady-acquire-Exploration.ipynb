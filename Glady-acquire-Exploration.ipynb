{
 "cells": [
  {
   "cell_type": "markdown",
   "id": "b1976c97",
   "metadata": {},
   "source": [
    "# creating the game_library dataframe"
   ]
  },
  {
   "cell_type": "code",
   "execution_count": 17,
   "id": "8c08c2e9",
   "metadata": {},
   "outputs": [],
   "source": [
    "import requests\n",
    "import env\n",
    "from requests.models import Request, Response\n",
    "from env import Client_ID\n",
    "import pandas as pd\n",
    "from igdb.igdbapi_pb2 import GameResult\n",
    "from typing import Dict, List, Optional, Union, cast\n",
    "import acquire\n",
    "import json\n",
    "from igdb.wrapper import IGDBWrapper\n",
    "import matplotlib.pyplot as plt\n",
    "import seaborn as sns\n",
    "from sklearn.model_selection import train_test_split"
   ]
  },
  {
   "cell_type": "code",
   "execution_count": null,
   "id": "9cc15d94",
   "metadata": {},
   "outputs": [],
   "source": [
    "game_library = pd.read_json(\"game_library.json\")"
   ]
  },
  {
   "cell_type": "code",
   "execution_count": null,
   "id": "32d9d70c",
   "metadata": {},
   "outputs": [],
   "source": [
    "#game_library.shape"
   ]
  },
  {
   "cell_type": "markdown",
   "id": "45f6ed64",
   "metadata": {},
   "source": [
    "#  Pre-Explore Part 1 (just looking at the data)"
   ]
  },
  {
   "cell_type": "markdown",
   "id": "342e4c3f",
   "metadata": {},
   "source": [
    "### the dataframe"
   ]
  },
  {
   "cell_type": "code",
   "execution_count": null,
   "id": "7cfa7680",
   "metadata": {
    "scrolled": true
   },
   "outputs": [],
   "source": [
    "game_library.head()"
   ]
  },
  {
   "cell_type": "code",
   "execution_count": null,
   "id": "9f410dee",
   "metadata": {},
   "outputs": [],
   "source": [
    "# Genre "
   ]
  },
  {
   "cell_type": "markdown",
   "id": "6a329137",
   "metadata": {},
   "source": [
    "### What genre are most common in this dataset ?"
   ]
  },
  {
   "cell_type": "code",
   "execution_count": 13,
   "id": "bc324018",
   "metadata": {},
   "outputs": [],
   "source": [
    "def to_1D(series):\n",
    "    return pd.Series([x for _list in series for x in _list])"
   ]
  },
  {
   "cell_type": "code",
   "execution_count": null,
   "id": "7ac1474e",
   "metadata": {},
   "outputs": [],
   "source": [
    " #pd.set_option('display.max_columns', None)\n",
    "game_library.genres.value_counts()"
   ]
  },
  {
   "cell_type": "code",
   "execution_count": null,
   "id": "61b49fe9",
   "metadata": {},
   "outputs": [],
   "source": []
  },
  {
   "cell_type": "code",
   "execution_count": null,
   "id": "7dd97f38",
   "metadata": {},
   "outputs": [],
   "source": [
    "to_1D(game_library[\"genres\"])\n"
   ]
  },
  {
   "cell_type": "code",
   "execution_count": null,
   "id": "19b3619a",
   "metadata": {},
   "outputs": [],
   "source": [
    "to_1D(game_library[\"genres\"]).value_counts()"
   ]
  },
  {
   "cell_type": "code",
   "execution_count": null,
   "id": "5a97aaad",
   "metadata": {
    "scrolled": true
   },
   "outputs": [],
   "source": [
    "fig, ax = plt.subplots(figsize = (14,4))\n",
    "ax.bar(to_1D(game_library[\"genres\"]).value_counts().iloc[:4].index,\n",
    "        to_1D(game_library[\"genres\"]).value_counts().iloc[:4].values)\n",
    "ax.set_ylabel(\"Frequency\", size = 12)\n",
    "ax.set_title(\"genres\", size = 14)\n",
    "\n"
   ]
  },
  {
   "cell_type": "code",
   "execution_count": null,
   "id": "85c6a5e2",
   "metadata": {},
   "outputs": [],
   "source": [
    "# def test_functg(random_list):\n",
    "#     if type(random_list) == list:\n",
    "#         return [genres_dict[i] for i in random_list]\n",
    "#     else:  \n",
    "#         return [\"Not_available\"] "
   ]
  },
  {
   "cell_type": "code",
   "execution_count": null,
   "id": "2c4d0396",
   "metadata": {},
   "outputs": [],
   "source": []
  },
  {
   "cell_type": "code",
   "execution_count": null,
   "id": "44c99bb9",
   "metadata": {
    "scrolled": true
   },
   "outputs": [],
   "source": [
    "#sns.countplot(x='genres', data=game_library)b"
   ]
  },
  {
   "cell_type": "markdown",
   "id": "908f611f",
   "metadata": {},
   "source": [
    "### What themes are most common in this dataset "
   ]
  },
  {
   "cell_type": "code",
   "execution_count": null,
   "id": "9a41cc24",
   "metadata": {
    "scrolled": true
   },
   "outputs": [],
   "source": [
    "to_1D(game_library[\"themes\"])"
   ]
  },
  {
   "cell_type": "code",
   "execution_count": null,
   "id": "18593748",
   "metadata": {
    "scrolled": false
   },
   "outputs": [],
   "source": [
    "to_1D(game_library[\"themes\"]).value_counts()"
   ]
  },
  {
   "cell_type": "code",
   "execution_count": null,
   "id": "82f44a40",
   "metadata": {
    "scrolled": true
   },
   "outputs": [],
   "source": [
    "fig, ax = plt.subplots(figsize = (16,4))\n",
    "ax.bar(to_1D(game_library[\"themes\"]).value_counts().iloc[:4].index,\n",
    "        to_1D(game_library[\"themes\"]).value_counts().iloc[:4].values)\n",
    "ax.set_ylabel(\"Frequency\", size = 12)\n",
    "ax.set_title(\"genres\", size = 14)"
   ]
  },
  {
   "cell_type": "code",
   "execution_count": null,
   "id": "804b25e5",
   "metadata": {
    "scrolled": true
   },
   "outputs": [],
   "source": [
    "game_library.head(3)"
   ]
  },
  {
   "cell_type": "code",
   "execution_count": null,
   "id": "beb90f3c",
   "metadata": {},
   "outputs": [],
   "source": []
  },
  {
   "cell_type": "code",
   "execution_count": null,
   "id": "7d7d1a91",
   "metadata": {
    "scrolled": false
   },
   "outputs": [],
   "source": [
    "pd.set_option('display.max_columns', None)\n",
    "game_library.head(3)"
   ]
  },
  {
   "cell_type": "code",
   "execution_count": null,
   "id": "10a8e955",
   "metadata": {},
   "outputs": [],
   "source": [
    "game_library.themes.value_counts()"
   ]
  },
  {
   "cell_type": "markdown",
   "id": "000e55c6",
   "metadata": {},
   "source": [
    "###   land co-op"
   ]
  },
  {
   "cell_type": "code",
   "execution_count": null,
   "id": "8be815ad",
   "metadata": {
    "scrolled": true
   },
   "outputs": [],
   "source": [
    "sns.countplot(x='lancoop', data=game_library)"
   ]
  },
  {
   "cell_type": "markdown",
   "id": "28e82210",
   "metadata": {},
   "source": [
    "### In a videogame what is the most common version titles ?"
   ]
  },
  {
   "cell_type": "code",
   "execution_count": null,
   "id": "b319d630",
   "metadata": {
    "scrolled": true
   },
   "outputs": [],
   "source": [
    "sns.countplot(x='version_title', data=game_library, order=game_library.version_title.value_counts().iloc[:4].index)"
   ]
  },
  {
   "cell_type": "code",
   "execution_count": null,
   "id": "74eb14e3",
   "metadata": {
    "scrolled": true
   },
   "outputs": [],
   "source": [
    "game_library.version_title.value_counts()"
   ]
  },
  {
   "cell_type": "markdown",
   "id": "eb1154cf",
   "metadata": {},
   "source": [
    "### What are the most common platforms ?"
   ]
  },
  {
   "cell_type": "code",
   "execution_count": null,
   "id": "4401d294",
   "metadata": {},
   "outputs": [],
   "source": [
    "game_library.platforms.value_counts()"
   ]
  },
  {
   "cell_type": "code",
   "execution_count": null,
   "id": "f8d322d0",
   "metadata": {},
   "outputs": [],
   "source": [
    "to_1D(game_library[\"platforms\"])"
   ]
  },
  {
   "cell_type": "code",
   "execution_count": null,
   "id": "4c1accf4",
   "metadata": {},
   "outputs": [],
   "source": [
    "to_1D(game_library[\"platforms\"]).value_counts()"
   ]
  },
  {
   "cell_type": "code",
   "execution_count": null,
   "id": "3694c5dc",
   "metadata": {},
   "outputs": [],
   "source": [
    "fig, ax = plt.subplots(figsize = (14,4))\n",
    "ax.barplot(to_1D(game_library[\"platforms\"]).value_counts().iloc[:7].index,\n",
    "        to_1D(game_library[\"platforms\"]).value_counts().iloc[:7].values, hue = )\n",
    "ax.set_ylabel(\"Frequency\", size = 12)\n",
    "ax.set_title(\"platforms\", size = 14)"
   ]
  },
  {
   "cell_type": "code",
   "execution_count": null,
   "id": "49d028f2",
   "metadata": {},
   "outputs": [],
   "source": [
    "game_library.head()"
   ]
  },
  {
   "cell_type": "code",
   "execution_count": null,
   "id": "3ed2480f",
   "metadata": {},
   "outputs": [],
   "source": [
    "to_1D(game_library[\"rating\"])"
   ]
  },
  {
   "cell_type": "code",
   "execution_count": null,
   "id": "a266949a",
   "metadata": {
    "scrolled": true
   },
   "outputs": [],
   "source": [
    "game_library.rating.value_counts()"
   ]
  },
  {
   "cell_type": "code",
   "execution_count": null,
   "id": "2c4f71d2",
   "metadata": {},
   "outputs": [],
   "source": [
    "game_library.rating_count.value_counts()"
   ]
  },
  {
   "cell_type": "code",
   "execution_count": null,
   "id": "8249de91",
   "metadata": {
    "scrolled": true
   },
   "outputs": [],
   "source": [
    "game_library.total_rating.value_counts()"
   ]
  },
  {
   "cell_type": "code",
   "execution_count": null,
   "id": "d49d637e",
   "metadata": {},
   "outputs": [],
   "source": [
    "game_library.shape"
   ]
  },
  {
   "cell_type": "code",
   "execution_count": null,
   "id": "13abc43f",
   "metadata": {},
   "outputs": [],
   "source": [
    "#game_library.info()"
   ]
  },
  {
   "cell_type": "markdown",
   "id": "78826610",
   "metadata": {},
   "source": [
    "## Splitting the data (from data with ratings and non-ratings)\n",
    "\n",
    "- we are splitting the data with GAMES that have a rating and games that dont have a rating "
   ]
  },
  {
   "cell_type": "code",
   "execution_count": null,
   "id": "1229a2e6",
   "metadata": {
    "scrolled": true
   },
   "outputs": [],
   "source": [
    "#this is the dataframe that ONLY has ratings \n",
    "df2 = game_library[game_library['rating'].notnull()]\n",
    "df2\n"
   ]
  },
  {
   "cell_type": "code",
   "execution_count": null,
   "id": "880ec046",
   "metadata": {},
   "outputs": [],
   "source": [
    "#this is a dataframe with no ratings \n",
    "df3= game_library[game_library['rating'].isnull()]"
   ]
  },
  {
   "cell_type": "code",
   "execution_count": null,
   "id": "09adc98b",
   "metadata": {
    "scrolled": true
   },
   "outputs": [],
   "source": [
    "pd.set_option('display.max_columns', None)\n",
    "df3.head()"
   ]
  },
  {
   "cell_type": "markdown",
   "id": "6afbcaba",
   "metadata": {},
   "source": [
    "> dont forget to bin the data from the diffrent ratings "
   ]
  },
  {
   "cell_type": "code",
   "execution_count": null,
   "id": "0b33ae53",
   "metadata": {},
   "outputs": [],
   "source": [
    "df2['rating_bin'] = pd.cut(df2.rating, \n",
    "                           bins = [0,10,20, 30, 40, 50, 60, 70, 80, 90, 100],\n",
    "                           labels = ['awful','very_bad','bad','unimpressive','average','fair','alright','good','great', 'subperb'])\n"
   ]
  },
  {
   "cell_type": "code",
   "execution_count": null,
   "id": "6603e5dd",
   "metadata": {
    "scrolled": true
   },
   "outputs": [],
   "source": [
    "#df2.head()"
   ]
  },
  {
   "cell_type": "code",
   "execution_count": null,
   "id": "a0ad8a56",
   "metadata": {},
   "outputs": [],
   "source": [
    "#creating the json for the data that HAS ratings \n",
    "#df2.to_json(\"explore_game_library.json\")"
   ]
  },
  {
   "cell_type": "code",
   "execution_count": null,
   "id": "3629b54b",
   "metadata": {},
   "outputs": [],
   "source": [
    "pd.set_option('display.max_columns', 500)\n",
    "df2.head()"
   ]
  },
  {
   "cell_type": "markdown",
   "id": "f5481028",
   "metadata": {},
   "source": [
    "# Exploration "
   ]
  },
  {
   "cell_type": "code",
   "execution_count": 14,
   "id": "9d993e28",
   "metadata": {
    "scrolled": true
   },
   "outputs": [],
   "source": [
    "df2 = pd.read_json(\"explore_game_library.json\")"
   ]
  },
  {
   "cell_type": "code",
   "execution_count": null,
   "id": "e71997f1",
   "metadata": {},
   "outputs": [],
   "source": [
    "pd.set_option('display.max_columns', 500)\n",
    "\n",
    "df2.head()"
   ]
  },
  {
   "cell_type": "code",
   "execution_count": null,
   "id": "904def28",
   "metadata": {},
   "outputs": [],
   "source": [
    "#this is for tablaue \n",
    "#df2 = pd.read_csv(\"explore_game_library.csv\")"
   ]
  },
  {
   "cell_type": "code",
   "execution_count": null,
   "id": "a2936954",
   "metadata": {},
   "outputs": [],
   "source": [
    "#df2"
   ]
  },
  {
   "cell_type": "code",
   "execution_count": null,
   "id": "187e753f",
   "metadata": {
    "scrolled": false
   },
   "outputs": [],
   "source": [
    "df2.info()"
   ]
  },
  {
   "cell_type": "code",
   "execution_count": null,
   "id": "c4a0597a",
   "metadata": {
    "scrolled": true
   },
   "outputs": [],
   "source": [
    "df2.isnull().sum()"
   ]
  },
  {
   "cell_type": "code",
   "execution_count": null,
   "id": "299843c5",
   "metadata": {},
   "outputs": [],
   "source": [
    "df2 = df2.drop(columns=['ports','expansions','expanded_games','remasters','standalone_expansions','version_description','title_version','second_id'])"
   ]
  },
  {
   "cell_type": "markdown",
   "id": "c81add3b",
   "metadata": {},
   "source": [
    "- these are collumns that where dropped for me, I dont think these are needed \n",
    "'ports',\n",
    "'expansions',\n",
    "'expanded_games',\n",
    "'remasters','\n",
    "standalone_expansions',\n",
    "'version_description',\n",
    "'title_version',\n",
    "'second_id'"
   ]
  },
  {
   "cell_type": "code",
   "execution_count": null,
   "id": "edbc1da8",
   "metadata": {
    "scrolled": true
   },
   "outputs": [],
   "source": [
    "df2.info()                 "
   ]
  },
  {
   "cell_type": "code",
   "execution_count": null,
   "id": "56b64ee2",
   "metadata": {},
   "outputs": [],
   "source": [
    "status\n",
    "storyline\n",
    "version_title\n",
    "version_parent\n",
    "forks\n",
    "second "
   ]
  },
  {
   "cell_type": "code",
   "execution_count": null,
   "id": "55fa09f2",
   "metadata": {},
   "outputs": [],
   "source": [
    "df2 = df2.drop(columns=['status','storyline','version_title','version_parent','forks','second'])"
   ]
  },
  {
   "cell_type": "code",
   "execution_count": null,
   "id": "283f1d78",
   "metadata": {},
   "outputs": [],
   "source": [
    "df2.info()"
   ]
  },
  {
   "cell_type": "code",
   "execution_count": null,
   "id": "01c2fe76",
   "metadata": {},
   "outputs": [],
   "source": [
    "df2 = df2.drop(columns= 'remakes')"
   ]
  },
  {
   "cell_type": "code",
   "execution_count": null,
   "id": "e79a1beb",
   "metadata": {},
   "outputs": [],
   "source": [
    "df2.info()"
   ]
  },
  {
   "cell_type": "code",
   "execution_count": null,
   "id": "41d1202c",
   "metadata": {},
   "outputs": [],
   "source": [
    "# 24  alternative_names        83906 non-null   object        \n",
    "#  25  artworks                 89968 non-null   object        \n",
    "#  26  game_engines             51633 non-null   object        \n",
    "#  27  keywords                 138083 non-null  object        \n",
    "#  28  status                   7688 non-null    float64   "
   ]
  },
  {
   "cell_type": "code",
   "execution_count": null,
   "id": "8ec4d4ab",
   "metadata": {},
   "outputs": [],
   "source": [
    "#calling the prepared datafram\n",
    "#df2.to_json(\"explore_game.json\")"
   ]
  },
  {
   "cell_type": "code",
   "execution_count": 2,
   "id": "225a7e51",
   "metadata": {},
   "outputs": [],
   "source": [
    "df2 = pd.read_json(\"explore_game.json\")"
   ]
  },
  {
   "cell_type": "code",
   "execution_count": 49,
   "id": "b9f4f218",
   "metadata": {},
   "outputs": [
    {
     "data": {
      "text/plain": [
       "good            58053\n",
       "alright         40702\n",
       "great           24885\n",
       "fair            16162\n",
       "average         11413\n",
       "unimpressive     4041\n",
       "subperb          1624\n",
       "bad              1588\n",
       "very_bad          176\n",
       "Name: rating_bin, dtype: int64"
      ]
     },
     "execution_count": 49,
     "metadata": {},
     "output_type": "execute_result"
    }
   ],
   "source": [
    "df2.rating_bin.value_counts()"
   ]
  },
  {
   "cell_type": "code",
   "execution_count": 15,
   "id": "eae5490c",
   "metadata": {},
   "outputs": [],
   "source": [
    "def train_validate_test_split(df):\n",
    "    '''\n",
    "    This function performs split on telco data, stratify churn.\n",
    "    Returns train, validate, and test dfs.\n",
    "    '''\n",
    "    train_validate, test = train_test_split(df, test_size=.2, \n",
    "                                        random_state=123, stratify=df2.rating_bin)\n",
    "    train, validate = train_test_split(train_validate, test_size=.3, \n",
    "                                   random_state=123,  stratify=train_validate.rating_bin)\n",
    "\n",
    "    return train, validate, test\n"
   ]
  },
  {
   "cell_type": "code",
   "execution_count": 42,
   "id": "847e0e99",
   "metadata": {
    "scrolled": true
   },
   "outputs": [
    {
     "data": {
      "text/plain": [
       "((88840, 72), (38075, 72), (31729, 72))"
      ]
     },
     "execution_count": 42,
     "metadata": {},
     "output_type": "execute_result"
    }
   ],
   "source": [
    "train, validate, test = train_validate_test_split(df2)\n",
    "\n",
    "train.shape, validate.shape, test.shape"
   ]
  },
  {
   "cell_type": "code",
   "execution_count": 43,
   "id": "c745ec21",
   "metadata": {},
   "outputs": [],
   "source": [
    "def to_1D(series):\n",
    "    return pd.Series([x for _list in series for x in _list])"
   ]
  },
  {
   "cell_type": "markdown",
   "id": "f4567703",
   "metadata": {},
   "source": [
    "\n",
    "\n",
    "## (more complicated Questions)"
   ]
  },
  {
   "cell_type": "markdown",
   "id": "ea9fd6a6",
   "metadata": {},
   "source": [
    "# Do video games on certain platforms get better user ratings?\n"
   ]
  },
  {
   "cell_type": "markdown",
   "id": "dc838867",
   "metadata": {},
   "source": [
    "- Yes it looks like for the games in the three highest member ratings (good, great,subperb) the majority of those games are played on \n",
    "    - PC(microsoft Windows)\n",
    "    - MAC \n",
    "    - X-Box 360\n",
    "    - ps 3 and 4 "
   ]
  },
  {
   "cell_type": "code",
   "execution_count": null,
   "id": "93b285e4",
   "metadata": {},
   "outputs": [],
   "source": [
    "#the diffrent platforms in the dataframe"
   ]
  },
  {
   "cell_type": "code",
   "execution_count": 97,
   "id": "8a211cba",
   "metadata": {
    "scrolled": true
   },
   "outputs": [
    {
     "data": {
      "text/plain": [
       "Text(0.5, 1.0, 'platforms')"
      ]
     },
     "execution_count": 97,
     "metadata": {},
     "output_type": "execute_result"
    },
    {
     "data": {
      "image/png": "[encoded data removed]",
      "text/plain": [
       "<Figure size 1008x288 with 1 Axes>"
      ]
     },
     "metadata": {},
     "output_type": "display_data"
    }
   ],
   "source": [
    "fig, ax = plt.subplots(figsize = (14,4))\n",
    "ax.bar(to_1D(train[\"platforms\"]).value_counts().iloc[:7].index,\n",
    "        to_1D(train[\"platforms\"]).value_counts().iloc[:7].values)\n",
    "ax.set_ylabel(\"Frequency\", size = 12)\n",
    "ax.set_title(\"platforms\", size = 14)"
   ]
  },
  {
   "cell_type": "code",
   "execution_count": null,
   "id": "3bb6d8c5",
   "metadata": {},
   "outputs": [],
   "source": []
  },
  {
   "cell_type": "code",
   "execution_count": null,
   "id": "73e60176",
   "metadata": {},
   "outputs": [],
   "source": [
    "sns.countplot(x='rating', data=train, order=train.rating.value_counts().iloc[:5].index)"
   ]
  },
  {
   "cell_type": "code",
   "execution_count": null,
   "id": "d6b57c32",
   "metadata": {
    "scrolled": false
   },
   "outputs": [],
   "source": [
    "sns.countplot(x='rating_bin', data=train, order=train.rating_bin.value_counts().iloc[:9].index)"
   ]
  },
  {
   "cell_type": "markdown",
   "id": "f8d46291",
   "metadata": {},
   "source": [
    "## Exploring `good rating`"
   ]
  },
  {
   "cell_type": "code",
   "execution_count": null,
   "id": "192bb17c",
   "metadata": {
    "scrolled": true
   },
   "outputs": [],
   "source": [
    "df_good_rating = train[train['rating_bin']== 'good']\n",
    "df_good_rating.head()"
   ]
  },
  {
   "cell_type": "code",
   "execution_count": null,
   "id": "b3e82acf",
   "metadata": {},
   "outputs": [],
   "source": [
    "fig, ax = plt.subplots(figsize = (14,4))\n",
    "ax.bar(to_1D(df_good_rating[\"platforms\"]).value_counts().iloc[:7].index,\n",
    "        to_1D(df_good_rating[\"platforms\"]).value_counts().iloc[:7].values)\n",
    "ax.set_ylabel(\"Frequency\", size = 12)\n",
    "ax.set_title(\"platforms\", size = 14)"
   ]
  },
  {
   "cell_type": "markdown",
   "id": "99cdb131",
   "metadata": {},
   "source": [
    "- for the ratings \"good\" the most used platforms is (in order) pc, xbox 360, ps3, ps4"
   ]
  },
  {
   "cell_type": "markdown",
   "id": "5d68515b",
   "metadata": {},
   "source": [
    "##  Exploring `suberb raitng`"
   ]
  },
  {
   "cell_type": "code",
   "execution_count": 24,
   "id": "5e5b1f87",
   "metadata": {
    "scrolled": true
   },
   "outputs": [
    {
     "data": {
      "text/html": [
       "<div>\n",
       "<style scoped>\n",
       "    .dataframe tbody tr th:only-of-type {\n",
       "        vertical-align: middle;\n",
       "    }\n",
       "\n",
       "    .dataframe tbody tr th {\n",
       "        vertical-align: top;\n",
       "    }\n",
       "\n",
       "    .dataframe thead th {\n",
       "        text-align: right;\n",
       "    }\n",
       "</style>\n",
       "<table border=\"1\" class=\"dataframe\">\n",
       "  <thead>\n",
       "    <tr style=\"text-align: right;\">\n",
       "      <th></th>\n",
       "      <th>id</th>\n",
       "      <th>category</th>\n",
       "      <th>created_at</th>\n",
       "      <th>external_games</th>\n",
       "      <th>first_release_date</th>\n",
       "      <th>genres</th>\n",
       "      <th>name</th>\n",
       "      <th>platforms</th>\n",
       "      <th>release_dates</th>\n",
       "      <th>similar_games</th>\n",
       "      <th>...</th>\n",
       "      <th>offlinecoop</th>\n",
       "      <th>offlinemax</th>\n",
       "      <th>onlinecoop</th>\n",
       "      <th>platform</th>\n",
       "      <th>splitscreen</th>\n",
       "      <th>checksum_y</th>\n",
       "      <th>offlinecoopmax</th>\n",
       "      <th>onlinecoopmax</th>\n",
       "      <th>onlinemax</th>\n",
       "      <th>rating_bin</th>\n",
       "    </tr>\n",
       "  </thead>\n",
       "  <tbody>\n",
       "    <tr>\n",
       "      <th>350151</th>\n",
       "      <td>2617</td>\n",
       "      <td>3</td>\n",
       "      <td>2013-07-17 16:09:09</td>\n",
       "      <td>[43459, 78277]</td>\n",
       "      <td>8.703936e+08</td>\n",
       "      <td>[real-time-strategy-rts, simulator, strategy]</td>\n",
       "      <td>The Settlers II: Gold Edition</td>\n",
       "      <td>[DOS, Mac, Nintendo DS]</td>\n",
       "      <td>[194838, 194839, 194840]</td>\n",
       "      <td>[9789, 18623, 20776, 28325, 29173, 31480, 3151...</td>\n",
       "      <td>...</td>\n",
       "      <td>False</td>\n",
       "      <td>0</td>\n",
       "      <td>False</td>\n",
       "      <td>NaN</td>\n",
       "      <td>False</td>\n",
       "      <td>1c2dfca2-6ee8-b54e-b243-05ffb0c646bc</td>\n",
       "      <td>0</td>\n",
       "      <td>0</td>\n",
       "      <td>0</td>\n",
       "      <td>subperb</td>\n",
       "    </tr>\n",
       "    <tr>\n",
       "      <th>404391</th>\n",
       "      <td>29207</td>\n",
       "      <td>0</td>\n",
       "      <td>2017-05-20 12:20:49</td>\n",
       "      <td>[14106, 77210, 85081, 96659, 2136317]</td>\n",
       "      <td>1.133222e+09</td>\n",
       "      <td>[role-playing-rpg]</td>\n",
       "      <td>Gothic II: Gold Edition</td>\n",
       "      <td>[PC (Microsoft Windows)]</td>\n",
       "      <td>[196063]</td>\n",
       "      <td>[19164, 54775, 81249, 96217, 99118, 101608, 10...</td>\n",
       "      <td>...</td>\n",
       "      <td>False</td>\n",
       "      <td>0</td>\n",
       "      <td>False</td>\n",
       "      <td>NaN</td>\n",
       "      <td>False</td>\n",
       "      <td>None</td>\n",
       "      <td>0</td>\n",
       "      <td>0</td>\n",
       "      <td>0</td>\n",
       "      <td>subperb</td>\n",
       "    </tr>\n",
       "    <tr>\n",
       "      <th>413553</th>\n",
       "      <td>59849</td>\n",
       "      <td>9</td>\n",
       "      <td>2017-09-07 18:41:31</td>\n",
       "      <td>[197757, 210636, 398654, 1237237, 2000741, 211...</td>\n",
       "      <td>1.510618e+09</td>\n",
       "      <td>[shooter, strategy, adventure]</td>\n",
       "      <td>L.A. Noire</td>\n",
       "      <td>[PlayStation 4, Xbox One]</td>\n",
       "      <td>[112409, 112410, 135021, 135022, 136102]</td>\n",
       "      <td>[17379, 17548, 18167, 18225, 26574, 27092, 285...</td>\n",
       "      <td>...</td>\n",
       "      <td>False</td>\n",
       "      <td>0</td>\n",
       "      <td>False</td>\n",
       "      <td>NaN</td>\n",
       "      <td>False</td>\n",
       "      <td>None</td>\n",
       "      <td>0</td>\n",
       "      <td>0</td>\n",
       "      <td>0</td>\n",
       "      <td>subperb</td>\n",
       "    </tr>\n",
       "  </tbody>\n",
       "</table>\n",
       "<p>3 rows × 72 columns</p>\n",
       "</div>"
      ],
      "text/plain": [
       "           id  category          created_at  \\\n",
       "350151   2617         3 2013-07-17 16:09:09   \n",
       "404391  29207         0 2017-05-20 12:20:49   \n",
       "413553  59849         9 2017-09-07 18:41:31   \n",
       "\n",
       "                                           external_games  first_release_date  \\\n",
       "350151                                     [43459, 78277]        8.703936e+08   \n",
       "404391              [14106, 77210, 85081, 96659, 2136317]        1.133222e+09   \n",
       "413553  [197757, 210636, 398654, 1237237, 2000741, 211...        1.510618e+09   \n",
       "\n",
       "                                               genres  \\\n",
       "350151  [real-time-strategy-rts, simulator, strategy]   \n",
       "404391                             [role-playing-rpg]   \n",
       "413553                 [shooter, strategy, adventure]   \n",
       "\n",
       "                                 name                  platforms  \\\n",
       "350151  The Settlers II: Gold Edition    [DOS, Mac, Nintendo DS]   \n",
       "404391        Gothic II: Gold Edition   [PC (Microsoft Windows)]   \n",
       "413553                     L.A. Noire  [PlayStation 4, Xbox One]   \n",
       "\n",
       "                                   release_dates  \\\n",
       "350151                  [194838, 194839, 194840]   \n",
       "404391                                  [196063]   \n",
       "413553  [112409, 112410, 135021, 135022, 136102]   \n",
       "\n",
       "                                            similar_games  ... offlinecoop  \\\n",
       "350151  [9789, 18623, 20776, 28325, 29173, 31480, 3151...  ...       False   \n",
       "404391  [19164, 54775, 81249, 96217, 99118, 101608, 10...  ...       False   \n",
       "413553  [17379, 17548, 18167, 18225, 26574, 27092, 285...  ...       False   \n",
       "\n",
       "       offlinemax onlinecoop platform splitscreen  \\\n",
       "350151          0      False      NaN       False   \n",
       "404391          0      False      NaN       False   \n",
       "413553          0      False      NaN       False   \n",
       "\n",
       "                                  checksum_y offlinecoopmax  onlinecoopmax  \\\n",
       "350151  1c2dfca2-6ee8-b54e-b243-05ffb0c646bc              0              0   \n",
       "404391                                  None              0              0   \n",
       "413553                                  None              0              0   \n",
       "\n",
       "       onlinemax rating_bin  \n",
       "350151         0    subperb  \n",
       "404391         0    subperb  \n",
       "413553         0    subperb  \n",
       "\n",
       "[3 rows x 72 columns]"
      ]
     },
     "execution_count": 24,
     "metadata": {},
     "output_type": "execute_result"
    }
   ],
   "source": [
    "df_subperb_rating = train[train['rating_bin']== 'subperb']\n",
    "df_subperb_rating.head(3)"
   ]
  },
  {
   "cell_type": "markdown",
   "id": "279c2959",
   "metadata": {},
   "source": [
    "> ### Most frequent platforms in the raiting `subperb`"
   ]
  },
  {
   "cell_type": "code",
   "execution_count": 98,
   "id": "1190f25e",
   "metadata": {
    "scrolled": false
   },
   "outputs": [
    {
     "data": {
      "text/plain": [
       "Text(0.5, 1.0, 'platforms')"
      ]
     },
     "execution_count": 98,
     "metadata": {},
     "output_type": "execute_result"
    },
    {
     "data": {
      "image/png": "[encoded data removed]",
      "text/plain": [
       "<Figure size 1008x288 with 1 Axes>"
      ]
     },
     "metadata": {},
     "output_type": "display_data"
    }
   ],
   "source": [
    "fig, ax = plt.subplots(figsize = (14,4))\n",
    "ax.bar(to_1D(df_subperb_rating[\"platforms\"]).value_counts().iloc[:7].index,\n",
    "        to_1D(df_subperb_rating[\"platforms\"]).value_counts().iloc[:7].values)\n",
    "ax.set_ylabel(\"Frequency\", size = 12)\n",
    "ax.set_title(\"platforms\", size = 14)"
   ]
  },
  {
   "cell_type": "markdown",
   "id": "03c9af95",
   "metadata": {},
   "source": [
    "- suberb rating is mostly mac and PC top two, and mest three are ps4 and ps3."
   ]
  },
  {
   "cell_type": "markdown",
   "id": "28ed0173",
   "metadata": {},
   "source": [
    "## Exploring `great rating`"
   ]
  },
  {
   "cell_type": "code",
   "execution_count": null,
   "id": "ffbb2a86",
   "metadata": {},
   "outputs": [],
   "source": [
    "df_great_rating = train[train['rating_bin']== 'great']\n",
    "df_great_rating.head(3)"
   ]
  },
  {
   "cell_type": "code",
   "execution_count": null,
   "id": "b1f07a62",
   "metadata": {},
   "outputs": [],
   "source": [
    "fig, ax = plt.subplots(figsize = (14,4))\n",
    "ax.bar(to_1D(df_great_rating[\"platforms\"]).value_counts().iloc[:7].index,\n",
    "        to_1D(df_great_rating[\"platforms\"]).value_counts().iloc[:7].values)\n",
    "ax.set_ylabel(\"Frequency\", size = 12)\n",
    "ax.set_title(\"platforms\", size = 14)"
   ]
  },
  {
   "cell_type": "code",
   "execution_count": null,
   "id": "ae65bb53",
   "metadata": {
    "scrolled": false
   },
   "outputs": [],
   "source": [
    "\n",
    "df_top3_rating = train[(train['rating_bin']== 'great') | (train['rating_bin']== 'good') | (train['rating_bin']== 'subperb')]\n",
    "df_top3_rating.head(1)"
   ]
  },
  {
   "cell_type": "markdown",
   "id": "a6517ba3",
   "metadata": {},
   "source": [
    "## These are the top 7 platforms for the three best ratings (good, great, subperb)"
   ]
  },
  {
   "cell_type": "code",
   "execution_count": 128,
   "id": "a8cf9f83",
   "metadata": {
    "scrolled": false
   },
   "outputs": [
    {
     "data": {
      "text/plain": [
       "Text(0.5, 1.0, 'Superb platforms')"
      ]
     },
     "execution_count": 128,
     "metadata": {},
     "output_type": "execute_result"
    },
    {
     "data": {
      "image/png": "[encoded data removed]",
      "text/plain": [
       "<Figure size 1008x432 with 1 Axes>"
      ]
     },
     "metadata": {},
     "output_type": "display_data"
    }
   ],
   "source": [
    "fig, ax = plt.subplots(figsize = (14,6))\n",
    "\n",
    "ax.bar(to_1D(df_subperb_rating[\"platforms\"]).value_counts().iloc[:4].index,\n",
    "        to_1D(df_subperb_rating[\"platforms\"]).value_counts().iloc[:4].values,\n",
    "          color= ['purple'])\n",
    "ax.set_ylabel(\"Frequency\", size = 20)\n",
    "ax.set_title(\"Superb platforms\", size = 20)"
   ]
  },
  {
   "cell_type": "code",
   "execution_count": 103,
   "id": "037129b4",
   "metadata": {},
   "outputs": [
    {
     "data": {
      "text/plain": [
       "Index(['Mac', 'PC (Microsoft Windows)', 'PlayStation 4', 'Nintendo 3DS'], dtype='object')"
      ]
     },
     "execution_count": 103,
     "metadata": {},
     "output_type": "execute_result"
    }
   ],
   "source": [
    "to_1D(df_subperb_rating[\"platforms\"]).value_counts().iloc[:4].index"
   ]
  },
  {
   "cell_type": "code",
   "execution_count": 104,
   "id": "c1de8fd8",
   "metadata": {},
   "outputs": [
    {
     "data": {
      "text/plain": [
       "array([490, 373, 306, 254])"
      ]
     },
     "execution_count": 104,
     "metadata": {},
     "output_type": "execute_result"
    }
   ],
   "source": [
    "to_1D(df_subperb_rating[\"platforms\"]).value_counts().iloc[:4].values"
   ]
  },
  {
   "cell_type": "code",
   "execution_count": 129,
   "id": "033f2c9c",
   "metadata": {},
   "outputs": [
    {
     "data": {
      "application/vnd.plotly.v1+json": {
       "config": {
        "plotlyServerURL": "https://plot.ly"
       },
       "data": [
        {
         "marker": {
          "color": [
           "purple",
           "purple",
           "purple",
           "purple",
           "purple"
          ]
         },
         "type": "bar",
         "x": [
          "Mac",
          "PC (Microsoft Windows)",
          "PlayStation 4",
          "Nintendo 3DS"
         ],
         "y": [
          490,
          373,
          306,
          254
         ]
        }
       ],
       "layout": {
        "template": {
         "data": {
          "bar": [
           {
            "error_x": {
             "color": "#2a3f5f"
            },
            "error_y": {
             "color": "#2a3f5f"
            },
            "marker": {
             "line": {
              "color": "#E5ECF6",
              "width": 0.5
             },
             "pattern": {
              "fillmode": "overlay",
              "size": 10,
              "solidity": 0.2
             }
            },
            "type": "bar"
           }
          ],
          "barpolar": [
           {
            "marker": {
             "line": {
              "color": "#E5ECF6",
              "width": 0.5
             },
             "pattern": {
              "fillmode": "overlay",
              "size": 10,
              "solidity": 0.2
             }
            },
            "type": "barpolar"
           }
          ],
          "carpet": [
           {
            "aaxis": {
             "endlinecolor": "#2a3f5f",
             "gridcolor": "white",
             "linecolor": "white",
             "minorgridcolor": "white",
             "startlinecolor": "#2a3f5f"
            },
            "baxis": {
             "endlinecolor": "#2a3f5f",
             "gridcolor": "white",
             "linecolor": "white",
             "minorgridcolor": "white",
             "startlinecolor": "#2a3f5f"
            },
            "type": "carpet"
           }
          ],
          "choropleth": [
           {
            "colorbar": {
             "outlinewidth": 0,
             "ticks": ""
            },
            "type": "choropleth"
           }
          ],
          "contour": [
           {
            "colorbar": {
             "outlinewidth": 0,
             "ticks": ""
            },
            "colorscale": [
             [
              0,
              "#0d0887"
             ],
             [
              0.1111111111111111,
              "#46039f"
             ],
             [
              0.2222222222222222,
              "#7201a8"
             ],
             [
              0.3333333333333333,
              "#9c179e"
             ],
             [
              0.4444444444444444,
              "#bd3786"
             ],
             [
              0.5555555555555556,
              "#d8576b"
             ],
             [
              0.6666666666666666,
              "#ed7953"
             ],
             [
              0.7777777777777778,
              "#fb9f3a"
             ],
             [
              0.8888888888888888,
              "#fdca26"
             ],
             [
              1,
              "#f0f921"
             ]
            ],
            "type": "contour"
           }
          ],
          "contourcarpet": [
           {
            "colorbar": {
             "outlinewidth": 0,
             "ticks": ""
            },
            "type": "contourcarpet"
           }
          ],
          "heatmap": [
           {
            "colorbar": {
             "outlinewidth": 0,
             "ticks": ""
            },
            "colorscale": [
             [
              0,
              "#0d0887"
             ],
             [
              0.1111111111111111,
              "#46039f"
             ],
             [
              0.2222222222222222,
              "#7201a8"
             ],
             [
              0.3333333333333333,
              "#9c179e"
             ],
             [
              0.4444444444444444,
              "#bd3786"
             ],
             [
              0.5555555555555556,
              "#d8576b"
             ],
             [
              0.6666666666666666,
              "#ed7953"
             ],
             [
              0.7777777777777778,
              "#fb9f3a"
             ],
             [
              0.8888888888888888,
              "#fdca26"
             ],
             [
              1,
              "#f0f921"
             ]
            ],
            "type": "heatmap"
           }
          ],
          "heatmapgl": [
           {
            "colorbar": {
             "outlinewidth": 0,
             "ticks": ""
            },
            "colorscale": [
             [
              0,
              "#0d0887"
             ],
             [
              0.1111111111111111,
              "#46039f"
             ],
             [
              0.2222222222222222,
              "#7201a8"
             ],
             [
              0.3333333333333333,
              "#9c179e"
             ],
             [
              0.4444444444444444,
              "#bd3786"
             ],
             [
              0.5555555555555556,
              "#d8576b"
             ],
             [
              0.6666666666666666,
              "#ed7953"
             ],
             [
              0.7777777777777778,
              "#fb9f3a"
             ],
             [
              0.8888888888888888,
              "#fdca26"
             ],
             [
              1,
              "#f0f921"
             ]
            ],
            "type": "heatmapgl"
           }
          ],
          "histogram": [
           {
            "marker": {
             "pattern": {
              "fillmode": "overlay",
              "size": 10,
              "solidity": 0.2
             }
            },
            "type": "histogram"
           }
          ],
          "histogram2d": [
           {
            "colorbar": {
             "outlinewidth": 0,
             "ticks": ""
            },
            "colorscale": [
             [
              0,
              "#0d0887"
             ],
             [
              0.1111111111111111,
              "#46039f"
             ],
             [
              0.2222222222222222,
              "#7201a8"
             ],
             [
              0.3333333333333333,
              "#9c179e"
             ],
             [
              0.4444444444444444,
              "#bd3786"
             ],
             [
              0.5555555555555556,
              "#d8576b"
             ],
             [
              0.6666666666666666,
              "#ed7953"
             ],
             [
              0.7777777777777778,
              "#fb9f3a"
             ],
             [
              0.8888888888888888,
              "#fdca26"
             ],
             [
              1,
              "#f0f921"
             ]
            ],
            "type": "histogram2d"
           }
          ],
          "histogram2dcontour": [
           {
            "colorbar": {
             "outlinewidth": 0,
             "ticks": ""
            },
            "colorscale": [
             [
              0,
              "#0d0887"
             ],
             [
              0.1111111111111111,
              "#46039f"
             ],
             [
              0.2222222222222222,
              "#7201a8"
             ],
             [
              0.3333333333333333,
              "#9c179e"
             ],
             [
              0.4444444444444444,
              "#bd3786"
             ],
             [
              0.5555555555555556,
              "#d8576b"
             ],
             [
              0.6666666666666666,
              "#ed7953"
             ],
             [
              0.7777777777777778,
              "#fb9f3a"
             ],
             [
              0.8888888888888888,
              "#fdca26"
             ],
             [
              1,
              "#f0f921"
             ]
            ],
            "type": "histogram2dcontour"
           }
          ],
          "mesh3d": [
           {
            "colorbar": {
             "outlinewidth": 0,
             "ticks": ""
            },
            "type": "mesh3d"
           }
          ],
          "parcoords": [
           {
            "line": {
             "colorbar": {
              "outlinewidth": 0,
              "ticks": ""
             }
            },
            "type": "parcoords"
           }
          ],
          "pie": [
           {
            "automargin": true,
            "type": "pie"
           }
          ],
          "scatter": [
           {
            "marker": {
             "colorbar": {
              "outlinewidth": 0,
              "ticks": ""
             }
            },
            "type": "scatter"
           }
          ],
          "scatter3d": [
           {
            "line": {
             "colorbar": {
              "outlinewidth": 0,
              "ticks": ""
             }
            },
            "marker": {
             "colorbar": {
              "outlinewidth": 0,
              "ticks": ""
             }
            },
            "type": "scatter3d"
           }
          ],
          "scattercarpet": [
           {
            "marker": {
             "colorbar": {
              "outlinewidth": 0,
              "ticks": ""
             }
            },
            "type": "scattercarpet"
           }
          ],
          "scattergeo": [
           {
            "marker": {
             "colorbar": {
              "outlinewidth": 0,
              "ticks": ""
             }
            },
            "type": "scattergeo"
           }
          ],
          "scattergl": [
           {
            "marker": {
             "colorbar": {
              "outlinewidth": 0,
              "ticks": ""
             }
            },
            "type": "scattergl"
           }
          ],
          "scattermapbox": [
           {
            "marker": {
             "colorbar": {
              "outlinewidth": 0,
              "ticks": ""
             }
            },
            "type": "scattermapbox"
           }
          ],
          "scatterpolar": [
           {
            "marker": {
             "colorbar": {
              "outlinewidth": 0,
              "ticks": ""
             }
            },
            "type": "scatterpolar"
           }
          ],
          "scatterpolargl": [
           {
            "marker": {
             "colorbar": {
              "outlinewidth": 0,
              "ticks": ""
             }
            },
            "type": "scatterpolargl"
           }
          ],
          "scatterternary": [
           {
            "marker": {
             "colorbar": {
              "outlinewidth": 0,
              "ticks": ""
             }
            },
            "type": "scatterternary"
           }
          ],
          "surface": [
           {
            "colorbar": {
             "outlinewidth": 0,
             "ticks": ""
            },
            "colorscale": [
             [
              0,
              "#0d0887"
             ],
             [
              0.1111111111111111,
              "#46039f"
             ],
             [
              0.2222222222222222,
              "#7201a8"
             ],
             [
              0.3333333333333333,
              "#9c179e"
             ],
             [
              0.4444444444444444,
              "#bd3786"
             ],
             [
              0.5555555555555556,
              "#d8576b"
             ],
             [
              0.6666666666666666,
              "#ed7953"
             ],
             [
              0.7777777777777778,
              "#fb9f3a"
             ],
             [
              0.8888888888888888,
              "#fdca26"
             ],
             [
              1,
              "#f0f921"
             ]
            ],
            "type": "surface"
           }
          ],
          "table": [
           {
            "cells": {
             "fill": {
              "color": "#EBF0F8"
             },
             "line": {
              "color": "white"
             }
            },
            "header": {
             "fill": {
              "color": "#C8D4E3"
             },
             "line": {
              "color": "white"
             }
            },
            "type": "table"
           }
          ]
         },
         "layout": {
          "annotationdefaults": {
           "arrowcolor": "#2a3f5f",
           "arrowhead": 0,
           "arrowwidth": 1
          },
          "autotypenumbers": "strict",
          "coloraxis": {
           "colorbar": {
            "outlinewidth": 0,
            "ticks": ""
           }
          },
          "colorscale": {
           "diverging": [
            [
             0,
             "#8e0152"
            ],
            [
             0.1,
             "#c51b7d"
            ],
            [
             0.2,
             "#de77ae"
            ],
            [
             0.3,
             "#f1b6da"
            ],
            [
             0.4,
             "#fde0ef"
            ],
            [
             0.5,
             "#f7f7f7"
            ],
            [
             0.6,
             "#e6f5d0"
            ],
            [
             0.7,
             "#b8e186"
            ],
            [
             0.8,
             "#7fbc41"
            ],
            [
             0.9,
             "#4d9221"
            ],
            [
             1,
             "#276419"
            ]
           ],
           "sequential": [
            [
             0,
             "#0d0887"
            ],
            [
             0.1111111111111111,
             "#46039f"
            ],
            [
             0.2222222222222222,
             "#7201a8"
            ],
            [
             0.3333333333333333,
             "#9c179e"
            ],
            [
             0.4444444444444444,
             "#bd3786"
            ],
            [
             0.5555555555555556,
             "#d8576b"
            ],
            [
             0.6666666666666666,
             "#ed7953"
            ],
            [
             0.7777777777777778,
             "#fb9f3a"
            ],
            [
             0.8888888888888888,
             "#fdca26"
            ],
            [
             1,
             "#f0f921"
            ]
           ],
           "sequentialminus": [
            [
             0,
             "#0d0887"
            ],
            [
             0.1111111111111111,
             "#46039f"
            ],
            [
             0.2222222222222222,
             "#7201a8"
            ],
            [
             0.3333333333333333,
             "#9c179e"
            ],
            [
             0.4444444444444444,
             "#bd3786"
            ],
            [
             0.5555555555555556,
             "#d8576b"
            ],
            [
             0.6666666666666666,
             "#ed7953"
            ],
            [
             0.7777777777777778,
             "#fb9f3a"
            ],
            [
             0.8888888888888888,
             "#fdca26"
            ],
            [
             1,
             "#f0f921"
            ]
           ]
          },
          "colorway": [
           "#636efa",
           "#EF553B",
           "#00cc96",
           "#ab63fa",
           "#FFA15A",
           "#19d3f3",
           "#FF6692",
           "#B6E880",
           "#FF97FF",
           "#FECB52"
          ],
          "font": {
           "color": "#2a3f5f"
          },
          "geo": {
           "bgcolor": "white",
           "lakecolor": "white",
           "landcolor": "#E5ECF6",
           "showlakes": true,
           "showland": true,
           "subunitcolor": "white"
          },
          "hoverlabel": {
           "align": "left"
          },
          "hovermode": "closest",
          "mapbox": {
           "style": "light"
          },
          "paper_bgcolor": "white",
          "plot_bgcolor": "#E5ECF6",
          "polar": {
           "angularaxis": {
            "gridcolor": "white",
            "linecolor": "white",
            "ticks": ""
           },
           "bgcolor": "#E5ECF6",
           "radialaxis": {
            "gridcolor": "white",
            "linecolor": "white",
            "ticks": ""
           }
          },
          "scene": {
           "xaxis": {
            "backgroundcolor": "#E5ECF6",
            "gridcolor": "white",
            "gridwidth": 2,
            "linecolor": "white",
            "showbackground": true,
            "ticks": "",
            "zerolinecolor": "white"
           },
           "yaxis": {
            "backgroundcolor": "#E5ECF6",
            "gridcolor": "white",
            "gridwidth": 2,
            "linecolor": "white",
            "showbackground": true,
            "ticks": "",
            "zerolinecolor": "white"
           },
           "zaxis": {
            "backgroundcolor": "#E5ECF6",
            "gridcolor": "white",
            "gridwidth": 2,
            "linecolor": "white",
            "showbackground": true,
            "ticks": "",
            "zerolinecolor": "white"
           }
          },
          "shapedefaults": {
           "line": {
            "color": "#2a3f5f"
           }
          },
          "ternary": {
           "aaxis": {
            "gridcolor": "white",
            "linecolor": "white",
            "ticks": ""
           },
           "baxis": {
            "gridcolor": "white",
            "linecolor": "white",
            "ticks": ""
           },
           "bgcolor": "#E5ECF6",
           "caxis": {
            "gridcolor": "white",
            "linecolor": "white",
            "ticks": ""
           }
          },
          "title": {
           "x": 0.05
          },
          "xaxis": {
           "automargin": true,
           "gridcolor": "white",
           "linecolor": "white",
           "ticks": "",
           "title": {
            "standoff": 15
           },
           "zerolinecolor": "white",
           "zerolinewidth": 2
          },
          "yaxis": {
           "automargin": true,
           "gridcolor": "white",
           "linecolor": "white",
           "ticks": "",
           "title": {
            "standoff": 15
           },
           "zerolinecolor": "white",
           "zerolinewidth": 2
          }
         }
        },
        "title": {
         "text": "Superb Platforms"
        }
       }
      },
      "text/html": [
       "<div>                            <div id=\"4bdae780-3cdf-4590-a714-0f5a31fececa\" class=\"plotly-graph-div\" style=\"height:525px; width:100%;\"></div>            <script type=\"text/javascript\">                require([\"plotly\"], function(Plotly) {                    window.PLOTLYENV=window.PLOTLYENV || {};                                    if (document.getElementById(\"4bdae780-3cdf-4590-a714-0f5a31fececa\")) {                    Plotly.newPlot(                        \"4bdae780-3cdf-4590-a714-0f5a31fececa\",                        [{\"marker\":{\"color\":[\"purple\",\"purple\",\"purple\",\"purple\",\"purple\"]},\"type\":\"bar\",\"x\":[\"Mac\",\"PC (Microsoft Windows)\",\"PlayStation 4\",\"Nintendo 3DS\"],\"y\":[490,373,306,254]}],                        {\"template\":{\"data\":{\"bar\":[{\"error_x\":{\"color\":\"#2a3f5f\"},\"error_y\":{\"color\":\"#2a3f5f\"},\"marker\":{\"line\":{\"color\":\"#E5ECF6\",\"width\":0.5},\"pattern\":{\"fillmode\":\"overlay\",\"size\":10,\"solidity\":0.2}},\"type\":\"bar\"}],\"barpolar\":[{\"marker\":{\"line\":{\"color\":\"#E5ECF6\",\"width\":0.5},\"pattern\":{\"fillmode\":\"overlay\",\"size\":10,\"solidity\":0.2}},\"type\":\"barpolar\"}],\"carpet\":[{\"aaxis\":{\"endlinecolor\":\"#2a3f5f\",\"gridcolor\":\"white\",\"linecolor\":\"white\",\"minorgridcolor\":\"white\",\"startlinecolor\":\"#2a3f5f\"},\"baxis\":{\"endlinecolor\":\"#2a3f5f\",\"gridcolor\":\"white\",\"linecolor\":\"white\",\"minorgridcolor\":\"white\",\"startlinecolor\":\"#2a3f5f\"},\"type\":\"carpet\"}],\"choropleth\":[{\"colorbar\":{\"outlinewidth\":0,\"ticks\":\"\"},\"type\":\"choropleth\"}],\"contour\":[{\"colorbar\":{\"outlinewidth\":0,\"ticks\":\"\"},\"colorscale\":[[0.0,\"#0d0887\"],[0.1111111111111111,\"#46039f\"],[0.2222222222222222,\"#7201a8\"],[0.3333333333333333,\"#9c179e\"],[0.4444444444444444,\"#bd3786\"],[0.5555555555555556,\"#d8576b\"],[0.6666666666666666,\"#ed7953\"],[0.7777777777777778,\"#fb9f3a\"],[0.8888888888888888,\"#fdca26\"],[1.0,\"#f0f921\"]],\"type\":\"contour\"}],\"contourcarpet\":[{\"colorbar\":{\"outlinewidth\":0,\"ticks\":\"\"},\"type\":\"contourcarpet\"}],\"heatmap\":[{\"colorbar\":{\"outlinewidth\":0,\"ticks\":\"\"},\"colorscale\":[[0.0,\"#0d0887\"],[0.1111111111111111,\"#46039f\"],[0.2222222222222222,\"#7201a8\"],[0.3333333333333333,\"#9c179e\"],[0.4444444444444444,\"#bd3786\"],[0.5555555555555556,\"#d8576b\"],[0.6666666666666666,\"#ed7953\"],[0.7777777777777778,\"#fb9f3a\"],[0.8888888888888888,\"#fdca26\"],[1.0,\"#f0f921\"]],\"type\":\"heatmap\"}],\"heatmapgl\":[{\"colorbar\":{\"outlinewidth\":0,\"ticks\":\"\"},\"colorscale\":[[0.0,\"#0d0887\"],[0.1111111111111111,\"#46039f\"],[0.2222222222222222,\"#7201a8\"],[0.3333333333333333,\"#9c179e\"],[0.4444444444444444,\"#bd3786\"],[0.5555555555555556,\"#d8576b\"],[0.6666666666666666,\"#ed7953\"],[0.7777777777777778,\"#fb9f3a\"],[0.8888888888888888,\"#fdca26\"],[1.0,\"#f0f921\"]],\"type\":\"heatmapgl\"}],\"histogram\":[{\"marker\":{\"pattern\":{\"fillmode\":\"overlay\",\"size\":10,\"solidity\":0.2}},\"type\":\"histogram\"}],\"histogram2d\":[{\"colorbar\":{\"outlinewidth\":0,\"ticks\":\"\"},\"colorscale\":[[0.0,\"#0d0887\"],[0.1111111111111111,\"#46039f\"],[0.2222222222222222,\"#7201a8\"],[0.3333333333333333,\"#9c179e\"],[0.4444444444444444,\"#bd3786\"],[0.5555555555555556,\"#d8576b\"],[0.6666666666666666,\"#ed7953\"],[0.7777777777777778,\"#fb9f3a\"],[0.8888888888888888,\"#fdca26\"],[1.0,\"#f0f921\"]],\"type\":\"histogram2d\"}],\"histogram2dcontour\":[{\"colorbar\":{\"outlinewidth\":0,\"ticks\":\"\"},\"colorscale\":[[0.0,\"#0d0887\"],[0.1111111111111111,\"#46039f\"],[0.2222222222222222,\"#7201a8\"],[0.3333333333333333,\"#9c179e\"],[0.4444444444444444,\"#bd3786\"],[0.5555555555555556,\"#d8576b\"],[0.6666666666666666,\"#ed7953\"],[0.7777777777777778,\"#fb9f3a\"],[0.8888888888888888,\"#fdca26\"],[1.0,\"#f0f921\"]],\"type\":\"histogram2dcontour\"}],\"mesh3d\":[{\"colorbar\":{\"outlinewidth\":0,\"ticks\":\"\"},\"type\":\"mesh3d\"}],\"parcoords\":[{\"line\":{\"colorbar\":{\"outlinewidth\":0,\"ticks\":\"\"}},\"type\":\"parcoords\"}],\"pie\":[{\"automargin\":true,\"type\":\"pie\"}],\"scatter\":[{\"marker\":{\"colorbar\":{\"outlinewidth\":0,\"ticks\":\"\"}},\"type\":\"scatter\"}],\"scatter3d\":[{\"line\":{\"colorbar\":{\"outlinewidth\":0,\"ticks\":\"\"}},\"marker\":{\"colorbar\":{\"outlinewidth\":0,\"ticks\":\"\"}},\"type\":\"scatter3d\"}],\"scattercarpet\":[{\"marker\":{\"colorbar\":{\"outlinewidth\":0,\"ticks\":\"\"}},\"type\":\"scattercarpet\"}],\"scattergeo\":[{\"marker\":{\"colorbar\":{\"outlinewidth\":0,\"ticks\":\"\"}},\"type\":\"scattergeo\"}],\"scattergl\":[{\"marker\":{\"colorbar\":{\"outlinewidth\":0,\"ticks\":\"\"}},\"type\":\"scattergl\"}],\"scattermapbox\":[{\"marker\":{\"colorbar\":{\"outlinewidth\":0,\"ticks\":\"\"}},\"type\":\"scattermapbox\"}],\"scatterpolar\":[{\"marker\":{\"colorbar\":{\"outlinewidth\":0,\"ticks\":\"\"}},\"type\":\"scatterpolar\"}],\"scatterpolargl\":[{\"marker\":{\"colorbar\":{\"outlinewidth\":0,\"ticks\":\"\"}},\"type\":\"scatterpolargl\"}],\"scatterternary\":[{\"marker\":{\"colorbar\":{\"outlinewidth\":0,\"ticks\":\"\"}},\"type\":\"scatterternary\"}],\"surface\":[{\"colorbar\":{\"outlinewidth\":0,\"ticks\":\"\"},\"colorscale\":[[0.0,\"#0d0887\"],[0.1111111111111111,\"#46039f\"],[0.2222222222222222,\"#7201a8\"],[0.3333333333333333,\"#9c179e\"],[0.4444444444444444,\"#bd3786\"],[0.5555555555555556,\"#d8576b\"],[0.6666666666666666,\"#ed7953\"],[0.7777777777777778,\"#fb9f3a\"],[0.8888888888888888,\"#fdca26\"],[1.0,\"#f0f921\"]],\"type\":\"surface\"}],\"table\":[{\"cells\":{\"fill\":{\"color\":\"#EBF0F8\"},\"line\":{\"color\":\"white\"}},\"header\":{\"fill\":{\"color\":\"#C8D4E3\"},\"line\":{\"color\":\"white\"}},\"type\":\"table\"}]},\"layout\":{\"annotationdefaults\":{\"arrowcolor\":\"#2a3f5f\",\"arrowhead\":0,\"arrowwidth\":1},\"autotypenumbers\":\"strict\",\"coloraxis\":{\"colorbar\":{\"outlinewidth\":0,\"ticks\":\"\"}},\"colorscale\":{\"diverging\":[[0,\"#8e0152\"],[0.1,\"#c51b7d\"],[0.2,\"#de77ae\"],[0.3,\"#f1b6da\"],[0.4,\"#fde0ef\"],[0.5,\"#f7f7f7\"],[0.6,\"#e6f5d0\"],[0.7,\"#b8e186\"],[0.8,\"#7fbc41\"],[0.9,\"#4d9221\"],[1,\"#276419\"]],\"sequential\":[[0.0,\"#0d0887\"],[0.1111111111111111,\"#46039f\"],[0.2222222222222222,\"#7201a8\"],[0.3333333333333333,\"#9c179e\"],[0.4444444444444444,\"#bd3786\"],[0.5555555555555556,\"#d8576b\"],[0.6666666666666666,\"#ed7953\"],[0.7777777777777778,\"#fb9f3a\"],[0.8888888888888888,\"#fdca26\"],[1.0,\"#f0f921\"]],\"sequentialminus\":[[0.0,\"#0d0887\"],[0.1111111111111111,\"#46039f\"],[0.2222222222222222,\"#7201a8\"],[0.3333333333333333,\"#9c179e\"],[0.4444444444444444,\"#bd3786\"],[0.5555555555555556,\"#d8576b\"],[0.6666666666666666,\"#ed7953\"],[0.7777777777777778,\"#fb9f3a\"],[0.8888888888888888,\"#fdca26\"],[1.0,\"#f0f921\"]]},\"colorway\":[\"#636efa\",\"#EF553B\",\"#00cc96\",\"#ab63fa\",\"#FFA15A\",\"#19d3f3\",\"#FF6692\",\"#B6E880\",\"#FF97FF\",\"#FECB52\"],\"font\":{\"color\":\"#2a3f5f\"},\"geo\":{\"bgcolor\":\"white\",\"lakecolor\":\"white\",\"landcolor\":\"#E5ECF6\",\"showlakes\":true,\"showland\":true,\"subunitcolor\":\"white\"},\"hoverlabel\":{\"align\":\"left\"},\"hovermode\":\"closest\",\"mapbox\":{\"style\":\"light\"},\"paper_bgcolor\":\"white\",\"plot_bgcolor\":\"#E5ECF6\",\"polar\":{\"angularaxis\":{\"gridcolor\":\"white\",\"linecolor\":\"white\",\"ticks\":\"\"},\"bgcolor\":\"#E5ECF6\",\"radialaxis\":{\"gridcolor\":\"white\",\"linecolor\":\"white\",\"ticks\":\"\"}},\"scene\":{\"xaxis\":{\"backgroundcolor\":\"#E5ECF6\",\"gridcolor\":\"white\",\"gridwidth\":2,\"linecolor\":\"white\",\"showbackground\":true,\"ticks\":\"\",\"zerolinecolor\":\"white\"},\"yaxis\":{\"backgroundcolor\":\"#E5ECF6\",\"gridcolor\":\"white\",\"gridwidth\":2,\"linecolor\":\"white\",\"showbackground\":true,\"ticks\":\"\",\"zerolinecolor\":\"white\"},\"zaxis\":{\"backgroundcolor\":\"#E5ECF6\",\"gridcolor\":\"white\",\"gridwidth\":2,\"linecolor\":\"white\",\"showbackground\":true,\"ticks\":\"\",\"zerolinecolor\":\"white\"}},\"shapedefaults\":{\"line\":{\"color\":\"#2a3f5f\"}},\"ternary\":{\"aaxis\":{\"gridcolor\":\"white\",\"linecolor\":\"white\",\"ticks\":\"\"},\"baxis\":{\"gridcolor\":\"white\",\"linecolor\":\"white\",\"ticks\":\"\"},\"bgcolor\":\"#E5ECF6\",\"caxis\":{\"gridcolor\":\"white\",\"linecolor\":\"white\",\"ticks\":\"\"}},\"title\":{\"x\":0.05},\"xaxis\":{\"automargin\":true,\"gridcolor\":\"white\",\"linecolor\":\"white\",\"ticks\":\"\",\"title\":{\"standoff\":15},\"zerolinecolor\":\"white\",\"zerolinewidth\":2},\"yaxis\":{\"automargin\":true,\"gridcolor\":\"white\",\"linecolor\":\"white\",\"ticks\":\"\",\"title\":{\"standoff\":15},\"zerolinecolor\":\"white\",\"zerolinewidth\":2}}},\"title\":{\"text\":\"Superb Platforms\"}},                        {\"responsive\": true}                    ).then(function(){\n",
       "                            \n",
       "var gd = document.getElementById('4bdae780-3cdf-4590-a714-0f5a31fececa');\n",
       "var x = new MutationObserver(function (mutations, observer) {{\n",
       "        var display = window.getComputedStyle(gd).display;\n",
       "        if (!display || display === 'none') {{\n",
       "            console.log([gd, 'removed!']);\n",
       "            Plotly.purge(gd);\n",
       "            observer.disconnect();\n",
       "        }}\n",
       "}});\n",
       "\n",
       "// Listen for the removal of the full notebook cells\n",
       "var notebookContainer = gd.closest('#notebook-container');\n",
       "if (notebookContainer) {{\n",
       "    x.observe(notebookContainer, {childList: true});\n",
       "}}\n",
       "\n",
       "// Listen for the clearing of the current output cell\n",
       "var outputEl = gd.closest('.output');\n",
       "if (outputEl) {{\n",
       "    x.observe(outputEl, {childList: true});\n",
       "}}\n",
       "\n",
       "                        })                };                });            </script>        </div>"
      ]
     },
     "metadata": {},
     "output_type": "display_data"
    }
   ],
   "source": [
    "colors = ['purple',] * 5\n",
    "\n",
    "\n",
    "fig = go.Figure(data=[go.Bar(\n",
    "    x=['Mac', 'PC (Microsoft Windows)', 'PlayStation 4', 'Nintendo 3DS'],\n",
    "    y=[490, 373, 306, 254],\n",
    "    marker_color=colors # marker color can be a single color value or an iterable\n",
    ")])\n",
    "fig.update_layout(title_text='Superb Platforms')"
   ]
  },
  {
   "cell_type": "markdown",
   "id": "307b2dd0",
   "metadata": {},
   "source": [
    "- Yes it looks like for the games in the three highest member ratings (good, great,subperb) the majority of those games are played on \n",
    "    - PC(microsoft Windows)\n",
    "    - X-Box 360\n",
    "    - ps 3 and 4 \n",
    "    - X-box 1"
   ]
  },
  {
   "cell_type": "markdown",
   "id": "c101725e",
   "metadata": {},
   "source": [
    "## These are the top 7 platforms for the lowest  ratings (bad, very bad , awful)"
   ]
  },
  {
   "cell_type": "code",
   "execution_count": 59,
   "id": "9e96532d",
   "metadata": {},
   "outputs": [
    {
     "data": {
      "text/html": [
       "<div>\n",
       "<style scoped>\n",
       "    .dataframe tbody tr th:only-of-type {\n",
       "        vertical-align: middle;\n",
       "    }\n",
       "\n",
       "    .dataframe tbody tr th {\n",
       "        vertical-align: top;\n",
       "    }\n",
       "\n",
       "    .dataframe thead th {\n",
       "        text-align: right;\n",
       "    }\n",
       "</style>\n",
       "<table border=\"1\" class=\"dataframe\">\n",
       "  <thead>\n",
       "    <tr style=\"text-align: right;\">\n",
       "      <th></th>\n",
       "      <th>id</th>\n",
       "      <th>category</th>\n",
       "      <th>created_at</th>\n",
       "      <th>external_games</th>\n",
       "      <th>first_release_date</th>\n",
       "      <th>genres</th>\n",
       "      <th>name</th>\n",
       "      <th>platforms</th>\n",
       "      <th>release_dates</th>\n",
       "      <th>similar_games</th>\n",
       "      <th>slug</th>\n",
       "      <th>summary</th>\n",
       "      <th>tags</th>\n",
       "      <th>updated_at</th>\n",
       "      <th>url</th>\n",
       "      <th>checksum_x</th>\n",
       "      <th>age_ratings</th>\n",
       "      <th>cover</th>\n",
       "      <th>involved_companies</th>\n",
       "      <th>screenshots</th>\n",
       "      <th>game_modes</th>\n",
       "      <th>player_perspectives</th>\n",
       "      <th>themes</th>\n",
       "      <th>websites</th>\n",
       "      <th>alternative_names</th>\n",
       "      <th>artworks</th>\n",
       "      <th>game_engines</th>\n",
       "      <th>keywords</th>\n",
       "      <th>status</th>\n",
       "      <th>videos</th>\n",
       "      <th>rating</th>\n",
       "      <th>rating_count</th>\n",
       "      <th>storyline</th>\n",
       "      <th>total_rating</th>\n",
       "      <th>total_rating_count</th>\n",
       "      <th>version_parent</th>\n",
       "      <th>version_title</th>\n",
       "      <th>hypes</th>\n",
       "      <th>collection</th>\n",
       "      <th>franchises</th>\n",
       "      <th>follows</th>\n",
       "      <th>aggregated_rating</th>\n",
       "      <th>aggregated_rating_count</th>\n",
       "      <th>dlcs</th>\n",
       "      <th>bundles</th>\n",
       "      <th>parent_game</th>\n",
       "      <th>franchise</th>\n",
       "      <th>multiplayer_modes</th>\n",
       "      <th>remakes</th>\n",
       "      <th>ports</th>\n",
       "      <th>expansions</th>\n",
       "      <th>expanded_games</th>\n",
       "      <th>remasters</th>\n",
       "      <th>forks</th>\n",
       "      <th>standalone_expansions</th>\n",
       "      <th>second</th>\n",
       "      <th>version_description</th>\n",
       "      <th>title_version</th>\n",
       "      <th>second_id</th>\n",
       "      <th>campaigncoop</th>\n",
       "      <th>dropin</th>\n",
       "      <th>lancoop</th>\n",
       "      <th>offlinecoop</th>\n",
       "      <th>offlinemax</th>\n",
       "      <th>onlinecoop</th>\n",
       "      <th>platform</th>\n",
       "      <th>splitscreen</th>\n",
       "      <th>checksum_y</th>\n",
       "      <th>offlinecoopmax</th>\n",
       "      <th>onlinecoopmax</th>\n",
       "      <th>onlinemax</th>\n",
       "      <th>rating_bin</th>\n",
       "    </tr>\n",
       "  </thead>\n",
       "  <tbody>\n",
       "    <tr>\n",
       "      <th>1855</th>\n",
       "      <td>3854</td>\n",
       "      <td>0</td>\n",
       "      <td>2014-01-19</td>\n",
       "      <td>[35445, 1744593, 1946817]</td>\n",
       "      <td>1.058400e+09</td>\n",
       "      <td>[racing]</td>\n",
       "      <td>Charinko Hero</td>\n",
       "      <td>[Nintendo GameCube]</td>\n",
       "      <td>[8811]</td>\n",
       "      <td>[96476, 103301, 105011, 109292, 111130, 113895...</td>\n",
       "      <td>charinko-hero</td>\n",
       "      <td>Charinko Hero is a Racing game, developed and ...</td>\n",
       "      <td>[1, 268435466, 536871308]</td>\n",
       "      <td>2020-11-06</td>\n",
       "      <td>https://www.igdb.com/games/charinko-hero</td>\n",
       "      <td>c9e8c906-4031-9530-70c2-6f4d85546065</td>\n",
       "      <td>None</td>\n",
       "      <td>4078.0</td>\n",
       "      <td>[10014]</td>\n",
       "      <td>None</td>\n",
       "      <td>[single-player, split-screen]</td>\n",
       "      <td>[Third person]</td>\n",
       "      <td>[Action]</td>\n",
       "      <td>None</td>\n",
       "      <td>[32596]</td>\n",
       "      <td>None</td>\n",
       "      <td>None</td>\n",
       "      <td>[396]</td>\n",
       "      <td>NaN</td>\n",
       "      <td>None</td>\n",
       "      <td>16.0</td>\n",
       "      <td>0</td>\n",
       "      <td>None</td>\n",
       "      <td>16.0</td>\n",
       "      <td>0</td>\n",
       "      <td>NaN</td>\n",
       "      <td>None</td>\n",
       "      <td>NaN</td>\n",
       "      <td>NaN</td>\n",
       "      <td>None</td>\n",
       "      <td>NaN</td>\n",
       "      <td>NaN</td>\n",
       "      <td>NaN</td>\n",
       "      <td>None</td>\n",
       "      <td>None</td>\n",
       "      <td>NaN</td>\n",
       "      <td>NaN</td>\n",
       "      <td>None</td>\n",
       "      <td>None</td>\n",
       "      <td>None</td>\n",
       "      <td>None</td>\n",
       "      <td>None</td>\n",
       "      <td>None</td>\n",
       "      <td>None</td>\n",
       "      <td>None</td>\n",
       "      <td>NaN</td>\n",
       "      <td>None</td>\n",
       "      <td>None</td>\n",
       "      <td>NaN</td>\n",
       "      <td>False</td>\n",
       "      <td>False</td>\n",
       "      <td>False</td>\n",
       "      <td>False</td>\n",
       "      <td>0</td>\n",
       "      <td>False</td>\n",
       "      <td>NaN</td>\n",
       "      <td>False</td>\n",
       "      <td>None</td>\n",
       "      <td>0</td>\n",
       "      <td>0</td>\n",
       "      <td>0</td>\n",
       "      <td>very_bad</td>\n",
       "    </tr>\n",
       "  </tbody>\n",
       "</table>\n",
       "</div>"
      ],
      "text/plain": [
       "        id  category created_at             external_games  \\\n",
       "1855  3854         0 2014-01-19  [35445, 1744593, 1946817]   \n",
       "\n",
       "      first_release_date    genres           name            platforms  \\\n",
       "1855        1.058400e+09  [racing]  Charinko Hero  [Nintendo GameCube]   \n",
       "\n",
       "     release_dates                                      similar_games  \\\n",
       "1855        [8811]  [96476, 103301, 105011, 109292, 111130, 113895...   \n",
       "\n",
       "               slug                                            summary  \\\n",
       "1855  charinko-hero  Charinko Hero is a Racing game, developed and ...   \n",
       "\n",
       "                           tags updated_at  \\\n",
       "1855  [1, 268435466, 536871308] 2020-11-06   \n",
       "\n",
       "                                           url  \\\n",
       "1855  https://www.igdb.com/games/charinko-hero   \n",
       "\n",
       "                                checksum_x age_ratings   cover  \\\n",
       "1855  c9e8c906-4031-9530-70c2-6f4d85546065        None  4078.0   \n",
       "\n",
       "     involved_companies screenshots                     game_modes  \\\n",
       "1855            [10014]        None  [single-player, split-screen]   \n",
       "\n",
       "     player_perspectives    themes websites alternative_names artworks  \\\n",
       "1855      [Third person]  [Action]     None           [32596]     None   \n",
       "\n",
       "     game_engines keywords  status videos  rating  rating_count storyline  \\\n",
       "1855         None    [396]     NaN   None    16.0             0      None   \n",
       "\n",
       "      total_rating  total_rating_count  version_parent version_title  hypes  \\\n",
       "1855          16.0                   0             NaN          None    NaN   \n",
       "\n",
       "      collection franchises  follows  aggregated_rating  \\\n",
       "1855         NaN       None      NaN                NaN   \n",
       "\n",
       "      aggregated_rating_count  dlcs bundles  parent_game  franchise  \\\n",
       "1855                      NaN  None    None          NaN        NaN   \n",
       "\n",
       "     multiplayer_modes remakes ports expansions expanded_games remasters  \\\n",
       "1855              None    None  None       None           None      None   \n",
       "\n",
       "     forks standalone_expansions  second version_description title_version  \\\n",
       "1855  None                  None     NaN                None          None   \n",
       "\n",
       "      second_id  campaigncoop  dropin  lancoop  offlinecoop  offlinemax  \\\n",
       "1855        NaN         False   False    False        False           0   \n",
       "\n",
       "      onlinecoop  platform  splitscreen checksum_y  offlinecoopmax  \\\n",
       "1855       False       NaN        False       None               0   \n",
       "\n",
       "      onlinecoopmax  onlinemax rating_bin  \n",
       "1855              0          0   very_bad  "
      ]
     },
     "execution_count": 59,
     "metadata": {},
     "output_type": "execute_result"
    }
   ],
   "source": [
    "df_low3_rating = df2[(df2['rating_bin']== 'bad') | (df2['rating_bin']== 'very_bad') | (df2['rating_bin']== 'awful')]\n",
    "df_low3_rating.head(1)"
   ]
  },
  {
   "cell_type": "code",
   "execution_count": 67,
   "id": "4916b716",
   "metadata": {},
   "outputs": [
    {
     "data": {
      "text/plain": [
       "Text(0.5, 1.0, 'platforms')"
      ]
     },
     "execution_count": 67,
     "metadata": {},
     "output_type": "execute_result"
    },
    {
     "data": {
      "image/png": "[encoded data removed]",
      "text/plain": [
       "<Figure size 1008x288 with 1 Axes>"
      ]
     },
     "metadata": {
      "needs_background": "light"
     },
     "output_type": "display_data"
    }
   ],
   "source": [
    "fig, ax = plt.subplots(figsize = (14,4))\n",
    "ax.bar(to_1D(df_low3_rating[\"platforms\"]).value_counts().iloc[:7].index,\n",
    "        to_1D(df_low3_rating[\"platforms\"]).value_counts().iloc[:7].values)\n",
    "ax.set_ylabel(\"Frequency\", size = 12)\n",
    "ax.set_title(\"platforms\", size = 14)"
   ]
  },
  {
   "cell_type": "code",
   "execution_count": null,
   "id": "8174a7a3",
   "metadata": {},
   "outputs": [],
   "source": []
  },
  {
   "cell_type": "markdown",
   "id": "17eea102",
   "metadata": {},
   "source": [
    "# Q2- what is the most common genre in games that are `subperb` (the highest rating)"
   ]
  },
  {
   "cell_type": "markdown",
   "id": "e773b478",
   "metadata": {},
   "source": [
    "- Answer- the most common Genre in the higest rating are adventure, role-playing- rpg, shoter, rts, racing "
   ]
  },
  {
   "cell_type": "code",
   "execution_count": 33,
   "id": "817481e2",
   "metadata": {
    "scrolled": true
   },
   "outputs": [
    {
     "data": {
      "text/html": [
       "<div>\n",
       "<style scoped>\n",
       "    .dataframe tbody tr th:only-of-type {\n",
       "        vertical-align: middle;\n",
       "    }\n",
       "\n",
       "    .dataframe tbody tr th {\n",
       "        vertical-align: top;\n",
       "    }\n",
       "\n",
       "    .dataframe thead th {\n",
       "        text-align: right;\n",
       "    }\n",
       "</style>\n",
       "<table border=\"1\" class=\"dataframe\">\n",
       "  <thead>\n",
       "    <tr style=\"text-align: right;\">\n",
       "      <th></th>\n",
       "      <th>id</th>\n",
       "      <th>category</th>\n",
       "      <th>created_at</th>\n",
       "      <th>external_games</th>\n",
       "      <th>first_release_date</th>\n",
       "      <th>genres</th>\n",
       "      <th>name</th>\n",
       "      <th>platforms</th>\n",
       "      <th>release_dates</th>\n",
       "      <th>similar_games</th>\n",
       "      <th>...</th>\n",
       "      <th>offlinecoop</th>\n",
       "      <th>offlinemax</th>\n",
       "      <th>onlinecoop</th>\n",
       "      <th>platform</th>\n",
       "      <th>splitscreen</th>\n",
       "      <th>checksum_y</th>\n",
       "      <th>offlinecoopmax</th>\n",
       "      <th>onlinecoopmax</th>\n",
       "      <th>onlinemax</th>\n",
       "      <th>rating_bin</th>\n",
       "    </tr>\n",
       "  </thead>\n",
       "  <tbody>\n",
       "    <tr>\n",
       "      <th>350151</th>\n",
       "      <td>2617</td>\n",
       "      <td>3</td>\n",
       "      <td>2013-07-17 16:09:09</td>\n",
       "      <td>[43459, 78277]</td>\n",
       "      <td>8.703936e+08</td>\n",
       "      <td>[real-time-strategy-rts, simulator, strategy]</td>\n",
       "      <td>The Settlers II: Gold Edition</td>\n",
       "      <td>[DOS, Mac, Nintendo DS]</td>\n",
       "      <td>[194838, 194839, 194840]</td>\n",
       "      <td>[9789, 18623, 20776, 28325, 29173, 31480, 3151...</td>\n",
       "      <td>...</td>\n",
       "      <td>False</td>\n",
       "      <td>0</td>\n",
       "      <td>False</td>\n",
       "      <td>NaN</td>\n",
       "      <td>False</td>\n",
       "      <td>1c2dfca2-6ee8-b54e-b243-05ffb0c646bc</td>\n",
       "      <td>0</td>\n",
       "      <td>0</td>\n",
       "      <td>0</td>\n",
       "      <td>subperb</td>\n",
       "    </tr>\n",
       "    <tr>\n",
       "      <th>404391</th>\n",
       "      <td>29207</td>\n",
       "      <td>0</td>\n",
       "      <td>2017-05-20 12:20:49</td>\n",
       "      <td>[14106, 77210, 85081, 96659, 2136317]</td>\n",
       "      <td>1.133222e+09</td>\n",
       "      <td>[role-playing-rpg]</td>\n",
       "      <td>Gothic II: Gold Edition</td>\n",
       "      <td>[PC (Microsoft Windows)]</td>\n",
       "      <td>[196063]</td>\n",
       "      <td>[19164, 54775, 81249, 96217, 99118, 101608, 10...</td>\n",
       "      <td>...</td>\n",
       "      <td>False</td>\n",
       "      <td>0</td>\n",
       "      <td>False</td>\n",
       "      <td>NaN</td>\n",
       "      <td>False</td>\n",
       "      <td>None</td>\n",
       "      <td>0</td>\n",
       "      <td>0</td>\n",
       "      <td>0</td>\n",
       "      <td>subperb</td>\n",
       "    </tr>\n",
       "    <tr>\n",
       "      <th>413553</th>\n",
       "      <td>59849</td>\n",
       "      <td>9</td>\n",
       "      <td>2017-09-07 18:41:31</td>\n",
       "      <td>[197757, 210636, 398654, 1237237, 2000741, 211...</td>\n",
       "      <td>1.510618e+09</td>\n",
       "      <td>[shooter, strategy, adventure]</td>\n",
       "      <td>L.A. Noire</td>\n",
       "      <td>[PlayStation 4, Xbox One]</td>\n",
       "      <td>[112409, 112410, 135021, 135022, 136102]</td>\n",
       "      <td>[17379, 17548, 18167, 18225, 26574, 27092, 285...</td>\n",
       "      <td>...</td>\n",
       "      <td>False</td>\n",
       "      <td>0</td>\n",
       "      <td>False</td>\n",
       "      <td>NaN</td>\n",
       "      <td>False</td>\n",
       "      <td>None</td>\n",
       "      <td>0</td>\n",
       "      <td>0</td>\n",
       "      <td>0</td>\n",
       "      <td>subperb</td>\n",
       "    </tr>\n",
       "    <tr>\n",
       "      <th>418493</th>\n",
       "      <td>74</td>\n",
       "      <td>0</td>\n",
       "      <td>2011-02-18 09:01:17</td>\n",
       "      <td>[14434, 80756, 86905, 137458, 213810, 245424, ...</td>\n",
       "      <td>1.264464e+09</td>\n",
       "      <td>[shooter, role-playing-rpg, simulator, adventure]</td>\n",
       "      <td>Mass Effect 2</td>\n",
       "      <td>[PC (Microsoft Windows), PlayStation 3, Xbox 360]</td>\n",
       "      <td>[20909, 20910, 20911, 20912, 20913, 20914, 209...</td>\n",
       "      <td>[16, 21, 41, 43, 533, 571, 960, 1020, 1985, 2031]</td>\n",
       "      <td>...</td>\n",
       "      <td>False</td>\n",
       "      <td>0</td>\n",
       "      <td>False</td>\n",
       "      <td>NaN</td>\n",
       "      <td>False</td>\n",
       "      <td>None</td>\n",
       "      <td>0</td>\n",
       "      <td>0</td>\n",
       "      <td>0</td>\n",
       "      <td>subperb</td>\n",
       "    </tr>\n",
       "    <tr>\n",
       "      <th>350022</th>\n",
       "      <td>2617</td>\n",
       "      <td>3</td>\n",
       "      <td>2013-07-17 16:09:09</td>\n",
       "      <td>[43459, 78277]</td>\n",
       "      <td>8.703936e+08</td>\n",
       "      <td>[real-time-strategy-rts, simulator, strategy]</td>\n",
       "      <td>The Settlers II: Gold Edition</td>\n",
       "      <td>[DOS, Mac, Nintendo DS]</td>\n",
       "      <td>[194838, 194839, 194840]</td>\n",
       "      <td>[9789, 18623, 20776, 28325, 29173, 31480, 3151...</td>\n",
       "      <td>...</td>\n",
       "      <td>False</td>\n",
       "      <td>0</td>\n",
       "      <td>False</td>\n",
       "      <td>NaN</td>\n",
       "      <td>False</td>\n",
       "      <td>1c2dfca2-6ee8-b54e-b243-05ffb0c646bc</td>\n",
       "      <td>0</td>\n",
       "      <td>0</td>\n",
       "      <td>0</td>\n",
       "      <td>subperb</td>\n",
       "    </tr>\n",
       "    <tr>\n",
       "      <th>...</th>\n",
       "      <td>...</td>\n",
       "      <td>...</td>\n",
       "      <td>...</td>\n",
       "      <td>...</td>\n",
       "      <td>...</td>\n",
       "      <td>...</td>\n",
       "      <td>...</td>\n",
       "      <td>...</td>\n",
       "      <td>...</td>\n",
       "      <td>...</td>\n",
       "      <td>...</td>\n",
       "      <td>...</td>\n",
       "      <td>...</td>\n",
       "      <td>...</td>\n",
       "      <td>...</td>\n",
       "      <td>...</td>\n",
       "      <td>...</td>\n",
       "      <td>...</td>\n",
       "      <td>...</td>\n",
       "      <td>...</td>\n",
       "      <td>...</td>\n",
       "    </tr>\n",
       "    <tr>\n",
       "      <th>349937</th>\n",
       "      <td>2617</td>\n",
       "      <td>3</td>\n",
       "      <td>2013-07-17 16:09:09</td>\n",
       "      <td>[43459, 78277]</td>\n",
       "      <td>8.703936e+08</td>\n",
       "      <td>[real-time-strategy-rts, simulator, strategy]</td>\n",
       "      <td>The Settlers II: Gold Edition</td>\n",
       "      <td>[DOS, Mac, Nintendo DS]</td>\n",
       "      <td>[194838, 194839, 194840]</td>\n",
       "      <td>[9789, 18623, 20776, 28325, 29173, 31480, 3151...</td>\n",
       "      <td>...</td>\n",
       "      <td>False</td>\n",
       "      <td>0</td>\n",
       "      <td>False</td>\n",
       "      <td>NaN</td>\n",
       "      <td>False</td>\n",
       "      <td>1c2dfca2-6ee8-b54e-b243-05ffb0c646bc</td>\n",
       "      <td>0</td>\n",
       "      <td>0</td>\n",
       "      <td>0</td>\n",
       "      <td>subperb</td>\n",
       "    </tr>\n",
       "    <tr>\n",
       "      <th>388383</th>\n",
       "      <td>6440</td>\n",
       "      <td>0</td>\n",
       "      <td>2014-04-25 09:48:13</td>\n",
       "      <td>[28211, 74916, 115817, 219004, 246341, 1929988...</td>\n",
       "      <td>1.412986e+09</td>\n",
       "      <td>[role-playing-rpg, adventure]</td>\n",
       "      <td>Monster Hunter 4 Ultimate</td>\n",
       "      <td>[Nintendo 3DS]</td>\n",
       "      <td>[25676, 25677, 25678, 129943]</td>\n",
       "      <td>[6, 121, 125, 472, 1879, 2155, 2368, 2480, 396...</td>\n",
       "      <td>...</td>\n",
       "      <td>False</td>\n",
       "      <td>0</td>\n",
       "      <td>True</td>\n",
       "      <td>37.0</td>\n",
       "      <td>False</td>\n",
       "      <td>ed1ef7e9-f817-f949-00bb-9fbc9a1f2b07</td>\n",
       "      <td>0</td>\n",
       "      <td>4</td>\n",
       "      <td>0</td>\n",
       "      <td>subperb</td>\n",
       "    </tr>\n",
       "    <tr>\n",
       "      <th>350134</th>\n",
       "      <td>2617</td>\n",
       "      <td>3</td>\n",
       "      <td>2013-07-17 16:09:09</td>\n",
       "      <td>[43459, 78277]</td>\n",
       "      <td>8.703936e+08</td>\n",
       "      <td>[real-time-strategy-rts, simulator, strategy]</td>\n",
       "      <td>The Settlers II: Gold Edition</td>\n",
       "      <td>[DOS, Mac, Nintendo DS]</td>\n",
       "      <td>[194838, 194839, 194840]</td>\n",
       "      <td>[9789, 18623, 20776, 28325, 29173, 31480, 3151...</td>\n",
       "      <td>...</td>\n",
       "      <td>False</td>\n",
       "      <td>0</td>\n",
       "      <td>False</td>\n",
       "      <td>NaN</td>\n",
       "      <td>False</td>\n",
       "      <td>1c2dfca2-6ee8-b54e-b243-05ffb0c646bc</td>\n",
       "      <td>0</td>\n",
       "      <td>0</td>\n",
       "      <td>0</td>\n",
       "      <td>subperb</td>\n",
       "    </tr>\n",
       "    <tr>\n",
       "      <th>420836</th>\n",
       "      <td>25358</td>\n",
       "      <td>0</td>\n",
       "      <td>2016-11-01 09:07:23</td>\n",
       "      <td>[14912, 76955]</td>\n",
       "      <td>9.616320e+08</td>\n",
       "      <td>[shooter, role-playing-rpg, adventure]</td>\n",
       "      <td>Deus Ex: Game of the Year Edition</td>\n",
       "      <td>[PC (Microsoft Windows)]</td>\n",
       "      <td>[66779]</td>\n",
       "      <td>[25311, 55038, 76877, 96217, 103301, 105049, 1...</td>\n",
       "      <td>...</td>\n",
       "      <td>False</td>\n",
       "      <td>0</td>\n",
       "      <td>False</td>\n",
       "      <td>NaN</td>\n",
       "      <td>False</td>\n",
       "      <td>None</td>\n",
       "      <td>0</td>\n",
       "      <td>0</td>\n",
       "      <td>0</td>\n",
       "      <td>subperb</td>\n",
       "    </tr>\n",
       "    <tr>\n",
       "      <th>234229</th>\n",
       "      <td>21892</td>\n",
       "      <td>3</td>\n",
       "      <td>2016-07-29 19:59:44</td>\n",
       "      <td>[14487, 25620, 77117, 84333, 96369, 1929837, 1...</td>\n",
       "      <td>1.255392e+09</td>\n",
       "      <td>[shooter, role-playing-rpg, adventure]</td>\n",
       "      <td>Fallout 3: Game of the Year Edition</td>\n",
       "      <td>[PC (Microsoft Windows), PlayStation 3, Xbox 360]</td>\n",
       "      <td>[115449, 115450, 115451]</td>\n",
       "      <td>[1877, 17379, 26574, 44076, 54842, 55038, 1012...</td>\n",
       "      <td>...</td>\n",
       "      <td>False</td>\n",
       "      <td>0</td>\n",
       "      <td>False</td>\n",
       "      <td>NaN</td>\n",
       "      <td>False</td>\n",
       "      <td>None</td>\n",
       "      <td>0</td>\n",
       "      <td>0</td>\n",
       "      <td>0</td>\n",
       "      <td>subperb</td>\n",
       "    </tr>\n",
       "  </tbody>\n",
       "</table>\n",
       "<p>909 rows × 72 columns</p>\n",
       "</div>"
      ],
      "text/plain": [
       "           id  category          created_at  \\\n",
       "350151   2617         3 2013-07-17 16:09:09   \n",
       "404391  29207         0 2017-05-20 12:20:49   \n",
       "413553  59849         9 2017-09-07 18:41:31   \n",
       "418493     74         0 2011-02-18 09:01:17   \n",
       "350022   2617         3 2013-07-17 16:09:09   \n",
       "...       ...       ...                 ...   \n",
       "349937   2617         3 2013-07-17 16:09:09   \n",
       "388383   6440         0 2014-04-25 09:48:13   \n",
       "350134   2617         3 2013-07-17 16:09:09   \n",
       "420836  25358         0 2016-11-01 09:07:23   \n",
       "234229  21892         3 2016-07-29 19:59:44   \n",
       "\n",
       "                                           external_games  first_release_date  \\\n",
       "350151                                     [43459, 78277]        8.703936e+08   \n",
       "404391              [14106, 77210, 85081, 96659, 2136317]        1.133222e+09   \n",
       "413553  [197757, 210636, 398654, 1237237, 2000741, 211...        1.510618e+09   \n",
       "418493  [14434, 80756, 86905, 137458, 213810, 245424, ...        1.264464e+09   \n",
       "350022                                     [43459, 78277]        8.703936e+08   \n",
       "...                                                   ...                 ...   \n",
       "349937                                     [43459, 78277]        8.703936e+08   \n",
       "388383  [28211, 74916, 115817, 219004, 246341, 1929988...        1.412986e+09   \n",
       "350134                                     [43459, 78277]        8.703936e+08   \n",
       "420836                                     [14912, 76955]        9.616320e+08   \n",
       "234229  [14487, 25620, 77117, 84333, 96369, 1929837, 1...        1.255392e+09   \n",
       "\n",
       "                                                   genres  \\\n",
       "350151      [real-time-strategy-rts, simulator, strategy]   \n",
       "404391                                 [role-playing-rpg]   \n",
       "413553                     [shooter, strategy, adventure]   \n",
       "418493  [shooter, role-playing-rpg, simulator, adventure]   \n",
       "350022      [real-time-strategy-rts, simulator, strategy]   \n",
       "...                                                   ...   \n",
       "349937      [real-time-strategy-rts, simulator, strategy]   \n",
       "388383                      [role-playing-rpg, adventure]   \n",
       "350134      [real-time-strategy-rts, simulator, strategy]   \n",
       "420836             [shooter, role-playing-rpg, adventure]   \n",
       "234229             [shooter, role-playing-rpg, adventure]   \n",
       "\n",
       "                                       name  \\\n",
       "350151        The Settlers II: Gold Edition   \n",
       "404391              Gothic II: Gold Edition   \n",
       "413553                           L.A. Noire   \n",
       "418493                        Mass Effect 2   \n",
       "350022        The Settlers II: Gold Edition   \n",
       "...                                     ...   \n",
       "349937        The Settlers II: Gold Edition   \n",
       "388383            Monster Hunter 4 Ultimate   \n",
       "350134        The Settlers II: Gold Edition   \n",
       "420836    Deus Ex: Game of the Year Edition   \n",
       "234229  Fallout 3: Game of the Year Edition   \n",
       "\n",
       "                                                platforms  \\\n",
       "350151                            [DOS, Mac, Nintendo DS]   \n",
       "404391                           [PC (Microsoft Windows)]   \n",
       "413553                          [PlayStation 4, Xbox One]   \n",
       "418493  [PC (Microsoft Windows), PlayStation 3, Xbox 360]   \n",
       "350022                            [DOS, Mac, Nintendo DS]   \n",
       "...                                                   ...   \n",
       "349937                            [DOS, Mac, Nintendo DS]   \n",
       "388383                                     [Nintendo 3DS]   \n",
       "350134                            [DOS, Mac, Nintendo DS]   \n",
       "420836                           [PC (Microsoft Windows)]   \n",
       "234229  [PC (Microsoft Windows), PlayStation 3, Xbox 360]   \n",
       "\n",
       "                                            release_dates  \\\n",
       "350151                           [194838, 194839, 194840]   \n",
       "404391                                           [196063]   \n",
       "413553           [112409, 112410, 135021, 135022, 136102]   \n",
       "418493  [20909, 20910, 20911, 20912, 20913, 20914, 209...   \n",
       "350022                           [194838, 194839, 194840]   \n",
       "...                                                   ...   \n",
       "349937                           [194838, 194839, 194840]   \n",
       "388383                      [25676, 25677, 25678, 129943]   \n",
       "350134                           [194838, 194839, 194840]   \n",
       "420836                                            [66779]   \n",
       "234229                           [115449, 115450, 115451]   \n",
       "\n",
       "                                            similar_games  ... offlinecoop  \\\n",
       "350151  [9789, 18623, 20776, 28325, 29173, 31480, 3151...  ...       False   \n",
       "404391  [19164, 54775, 81249, 96217, 99118, 101608, 10...  ...       False   \n",
       "413553  [17379, 17548, 18167, 18225, 26574, 27092, 285...  ...       False   \n",
       "418493  [16, 21, 41, 43, 533, 571, 960, 1020, 1985, 2031]  ...       False   \n",
       "350022  [9789, 18623, 20776, 28325, 29173, 31480, 3151...  ...       False   \n",
       "...                                                   ...  ...         ...   \n",
       "349937  [9789, 18623, 20776, 28325, 29173, 31480, 3151...  ...       False   \n",
       "388383  [6, 121, 125, 472, 1879, 2155, 2368, 2480, 396...  ...       False   \n",
       "350134  [9789, 18623, 20776, 28325, 29173, 31480, 3151...  ...       False   \n",
       "420836  [25311, 55038, 76877, 96217, 103301, 105049, 1...  ...       False   \n",
       "234229  [1877, 17379, 26574, 44076, 54842, 55038, 1012...  ...       False   \n",
       "\n",
       "       offlinemax onlinecoop platform splitscreen  \\\n",
       "350151          0      False      NaN       False   \n",
       "404391          0      False      NaN       False   \n",
       "413553          0      False      NaN       False   \n",
       "418493          0      False      NaN       False   \n",
       "350022          0      False      NaN       False   \n",
       "...           ...        ...      ...         ...   \n",
       "349937          0      False      NaN       False   \n",
       "388383          0       True     37.0       False   \n",
       "350134          0      False      NaN       False   \n",
       "420836          0      False      NaN       False   \n",
       "234229          0      False      NaN       False   \n",
       "\n",
       "                                  checksum_y offlinecoopmax  onlinecoopmax  \\\n",
       "350151  1c2dfca2-6ee8-b54e-b243-05ffb0c646bc              0              0   \n",
       "404391                                  None              0              0   \n",
       "413553                                  None              0              0   \n",
       "418493                                  None              0              0   \n",
       "350022  1c2dfca2-6ee8-b54e-b243-05ffb0c646bc              0              0   \n",
       "...                                      ...            ...            ...   \n",
       "349937  1c2dfca2-6ee8-b54e-b243-05ffb0c646bc              0              0   \n",
       "388383  ed1ef7e9-f817-f949-00bb-9fbc9a1f2b07              0              4   \n",
       "350134  1c2dfca2-6ee8-b54e-b243-05ffb0c646bc              0              0   \n",
       "420836                                  None              0              0   \n",
       "234229                                  None              0              0   \n",
       "\n",
       "       onlinemax rating_bin  \n",
       "350151         0    subperb  \n",
       "404391         0    subperb  \n",
       "413553         0    subperb  \n",
       "418493         0    subperb  \n",
       "350022         0    subperb  \n",
       "...          ...        ...  \n",
       "349937         0    subperb  \n",
       "388383         0    subperb  \n",
       "350134         0    subperb  \n",
       "420836         0    subperb  \n",
       "234229         0    subperb  \n",
       "\n",
       "[909 rows x 72 columns]"
      ]
     },
     "execution_count": 33,
     "metadata": {},
     "output_type": "execute_result"
    }
   ],
   "source": [
    "df_subperb_rating"
   ]
  },
  {
   "cell_type": "code",
   "execution_count": 34,
   "id": "91718ea8",
   "metadata": {
    "scrolled": false
   },
   "outputs": [
    {
     "data": {
      "text/html": [
       "<div>\n",
       "<style scoped>\n",
       "    .dataframe tbody tr th:only-of-type {\n",
       "        vertical-align: middle;\n",
       "    }\n",
       "\n",
       "    .dataframe tbody tr th {\n",
       "        vertical-align: top;\n",
       "    }\n",
       "\n",
       "    .dataframe thead th {\n",
       "        text-align: right;\n",
       "    }\n",
       "</style>\n",
       "<table border=\"1\" class=\"dataframe\">\n",
       "  <thead>\n",
       "    <tr style=\"text-align: right;\">\n",
       "      <th></th>\n",
       "      <th>id</th>\n",
       "      <th>category</th>\n",
       "      <th>created_at</th>\n",
       "      <th>external_games</th>\n",
       "      <th>first_release_date</th>\n",
       "      <th>genres</th>\n",
       "      <th>name</th>\n",
       "      <th>platforms</th>\n",
       "      <th>release_dates</th>\n",
       "      <th>similar_games</th>\n",
       "      <th>slug</th>\n",
       "      <th>summary</th>\n",
       "      <th>tags</th>\n",
       "      <th>updated_at</th>\n",
       "      <th>url</th>\n",
       "      <th>checksum_x</th>\n",
       "      <th>age_ratings</th>\n",
       "      <th>cover</th>\n",
       "      <th>involved_companies</th>\n",
       "      <th>screenshots</th>\n",
       "      <th>game_modes</th>\n",
       "      <th>player_perspectives</th>\n",
       "      <th>themes</th>\n",
       "      <th>websites</th>\n",
       "      <th>alternative_names</th>\n",
       "      <th>artworks</th>\n",
       "      <th>game_engines</th>\n",
       "      <th>keywords</th>\n",
       "      <th>status</th>\n",
       "      <th>videos</th>\n",
       "      <th>rating</th>\n",
       "      <th>rating_count</th>\n",
       "      <th>storyline</th>\n",
       "      <th>total_rating</th>\n",
       "      <th>total_rating_count</th>\n",
       "      <th>version_parent</th>\n",
       "      <th>version_title</th>\n",
       "      <th>hypes</th>\n",
       "      <th>collection</th>\n",
       "      <th>franchises</th>\n",
       "      <th>follows</th>\n",
       "      <th>aggregated_rating</th>\n",
       "      <th>aggregated_rating_count</th>\n",
       "      <th>dlcs</th>\n",
       "      <th>bundles</th>\n",
       "      <th>parent_game</th>\n",
       "      <th>franchise</th>\n",
       "      <th>multiplayer_modes</th>\n",
       "      <th>remakes</th>\n",
       "      <th>ports</th>\n",
       "      <th>expansions</th>\n",
       "      <th>expanded_games</th>\n",
       "      <th>remasters</th>\n",
       "      <th>forks</th>\n",
       "      <th>standalone_expansions</th>\n",
       "      <th>second</th>\n",
       "      <th>version_description</th>\n",
       "      <th>title_version</th>\n",
       "      <th>second_id</th>\n",
       "      <th>campaigncoop</th>\n",
       "      <th>dropin</th>\n",
       "      <th>lancoop</th>\n",
       "      <th>offlinecoop</th>\n",
       "      <th>offlinemax</th>\n",
       "      <th>onlinecoop</th>\n",
       "      <th>platform</th>\n",
       "      <th>splitscreen</th>\n",
       "      <th>checksum_y</th>\n",
       "      <th>offlinecoopmax</th>\n",
       "      <th>onlinecoopmax</th>\n",
       "      <th>onlinemax</th>\n",
       "      <th>rating_bin</th>\n",
       "    </tr>\n",
       "  </thead>\n",
       "  <tbody>\n",
       "    <tr>\n",
       "      <th>350151</th>\n",
       "      <td>2617</td>\n",
       "      <td>3</td>\n",
       "      <td>2013-07-17 16:09:09</td>\n",
       "      <td>[43459, 78277]</td>\n",
       "      <td>8.703936e+08</td>\n",
       "      <td>[real-time-strategy-rts, simulator, strategy]</td>\n",
       "      <td>The Settlers II: Gold Edition</td>\n",
       "      <td>[DOS, Mac, Nintendo DS]</td>\n",
       "      <td>[194838, 194839, 194840]</td>\n",
       "      <td>[9789, 18623, 20776, 28325, 29173, 31480, 3151...</td>\n",
       "      <td>the-settlers-ii-gold-edition</td>\n",
       "      <td>The goal of this game is to build a prosperous...</td>\n",
       "      <td>[22, 268435467, 268435469, 268435471, 53687097...</td>\n",
       "      <td>2022-07-11 11:30:50</td>\n",
       "      <td>https://www.igdb.com/games/the-settlers-ii-gol...</td>\n",
       "      <td>db85c417-67eb-2742-d6d1-f80aad673a6a</td>\n",
       "      <td>[27816, 78303]</td>\n",
       "      <td>99902.0</td>\n",
       "      <td>[97957]</td>\n",
       "      <td>[22965, 383044, 383045, 383046]</td>\n",
       "      <td>[single-player, multiplayer, split-screen]</td>\n",
       "      <td>[Bird view / Isometric]</td>\n",
       "      <td>[Historical]</td>\n",
       "      <td>[119754, 139873]</td>\n",
       "      <td>[32095]</td>\n",
       "      <td>None</td>\n",
       "      <td>None</td>\n",
       "      <td>[60, 64, 171, 606, 994, 1148, 1471, 1922, 2002...</td>\n",
       "      <td>NaN</td>\n",
       "      <td>[35570]</td>\n",
       "      <td>92.221300</td>\n",
       "      <td>36</td>\n",
       "      <td>After fighting a losing battle with the raging...</td>\n",
       "      <td>92.221300</td>\n",
       "      <td>36</td>\n",
       "      <td>2596.0</td>\n",
       "      <td>Gold Edition</td>\n",
       "      <td>NaN</td>\n",
       "      <td>619.0</td>\n",
       "      <td>[2165]</td>\n",
       "      <td>22.0</td>\n",
       "      <td>NaN</td>\n",
       "      <td>NaN</td>\n",
       "      <td>None</td>\n",
       "      <td>None</td>\n",
       "      <td>NaN</td>\n",
       "      <td>NaN</td>\n",
       "      <td>[7365]</td>\n",
       "      <td>None</td>\n",
       "      <td>[86493]</td>\n",
       "      <td>None</td>\n",
       "      <td>None</td>\n",
       "      <td>None</td>\n",
       "      <td>None</td>\n",
       "      <td>None</td>\n",
       "      <td>NaN</td>\n",
       "      <td>None</td>\n",
       "      <td>None</td>\n",
       "      <td>7365.0</td>\n",
       "      <td>False</td>\n",
       "      <td>False</td>\n",
       "      <td>False</td>\n",
       "      <td>False</td>\n",
       "      <td>0</td>\n",
       "      <td>False</td>\n",
       "      <td>NaN</td>\n",
       "      <td>False</td>\n",
       "      <td>1c2dfca2-6ee8-b54e-b243-05ffb0c646bc</td>\n",
       "      <td>0</td>\n",
       "      <td>0</td>\n",
       "      <td>0</td>\n",
       "      <td>subperb</td>\n",
       "    </tr>\n",
       "    <tr>\n",
       "      <th>404391</th>\n",
       "      <td>29207</td>\n",
       "      <td>0</td>\n",
       "      <td>2017-05-20 12:20:49</td>\n",
       "      <td>[14106, 77210, 85081, 96659, 2136317]</td>\n",
       "      <td>1.133222e+09</td>\n",
       "      <td>[role-playing-rpg]</td>\n",
       "      <td>Gothic II: Gold Edition</td>\n",
       "      <td>[PC (Microsoft Windows)]</td>\n",
       "      <td>[196063]</td>\n",
       "      <td>[19164, 54775, 81249, 96217, 99118, 101608, 10...</td>\n",
       "      <td>gothic-ii-gold-edition</td>\n",
       "      <td>Gothic II: Gold Edition brings together the ex...</td>\n",
       "      <td>[1, 17, 38, 268435468]</td>\n",
       "      <td>2022-09-25 09:56:26</td>\n",
       "      <td>https://www.igdb.com/games/gothic-ii-gold-edition</td>\n",
       "      <td>0b0d512e-1add-c724-d6a5-f69e9043c619</td>\n",
       "      <td>[27942]</td>\n",
       "      <td>81332.0</td>\n",
       "      <td>[47901, 99186]</td>\n",
       "      <td>[102680, 102681, 102682, 102683, 102684]</td>\n",
       "      <td>[single-player]</td>\n",
       "      <td>[Third person]</td>\n",
       "      <td>[Action, Fantasy, Open world]</td>\n",
       "      <td>[26765, 26766, 118909, 140843]</td>\n",
       "      <td>None</td>\n",
       "      <td>[55855]</td>\n",
       "      <td>[134]</td>\n",
       "      <td>None</td>\n",
       "      <td>NaN</td>\n",
       "      <td>None</td>\n",
       "      <td>90.003422</td>\n",
       "      <td>5</td>\n",
       "      <td>None</td>\n",
       "      <td>90.003422</td>\n",
       "      <td>5</td>\n",
       "      <td>2262.0</td>\n",
       "      <td>Gold Edition</td>\n",
       "      <td>NaN</td>\n",
       "      <td>463.0</td>\n",
       "      <td>None</td>\n",
       "      <td>NaN</td>\n",
       "      <td>NaN</td>\n",
       "      <td>NaN</td>\n",
       "      <td>None</td>\n",
       "      <td>None</td>\n",
       "      <td>NaN</td>\n",
       "      <td>NaN</td>\n",
       "      <td>None</td>\n",
       "      <td>None</td>\n",
       "      <td>None</td>\n",
       "      <td>None</td>\n",
       "      <td>None</td>\n",
       "      <td>None</td>\n",
       "      <td>None</td>\n",
       "      <td>None</td>\n",
       "      <td>NaN</td>\n",
       "      <td>None</td>\n",
       "      <td>None</td>\n",
       "      <td>NaN</td>\n",
       "      <td>False</td>\n",
       "      <td>False</td>\n",
       "      <td>False</td>\n",
       "      <td>False</td>\n",
       "      <td>0</td>\n",
       "      <td>False</td>\n",
       "      <td>NaN</td>\n",
       "      <td>False</td>\n",
       "      <td>None</td>\n",
       "      <td>0</td>\n",
       "      <td>0</td>\n",
       "      <td>0</td>\n",
       "      <td>subperb</td>\n",
       "    </tr>\n",
       "    <tr>\n",
       "      <th>413553</th>\n",
       "      <td>59849</td>\n",
       "      <td>9</td>\n",
       "      <td>2017-09-07 18:41:31</td>\n",
       "      <td>[197757, 210636, 398654, 1237237, 2000741, 211...</td>\n",
       "      <td>1.510618e+09</td>\n",
       "      <td>[shooter, strategy, adventure]</td>\n",
       "      <td>L.A. Noire</td>\n",
       "      <td>[PlayStation 4, Xbox One]</td>\n",
       "      <td>[112409, 112410, 135021, 135022, 136102]</td>\n",
       "      <td>[17379, 17548, 18167, 18225, 26574, 27092, 285...</td>\n",
       "      <td>la-noire</td>\n",
       "      <td>L.A. Noire for PlayStation 4 and Xbox One deli...</td>\n",
       "      <td>[1, 20, 22, 33, 38, 39, 43, 268435461, 2684354...</td>\n",
       "      <td>2022-09-22 13:55:14</td>\n",
       "      <td>https://www.igdb.com/games/la-noire</td>\n",
       "      <td>1db7b5e1-bc8b-cc45-e4b5-2f7b15aa5cf2</td>\n",
       "      <td>[61480, 62001, 93238]</td>\n",
       "      <td>120996.0</td>\n",
       "      <td>[54124]</td>\n",
       "      <td>[141184, 141185, 141186, 141187, 146355]</td>\n",
       "      <td>[single-player]</td>\n",
       "      <td>[Third person]</td>\n",
       "      <td>[Action, Thriller, Historical, Sandbox, Open w...</td>\n",
       "      <td>[56427]</td>\n",
       "      <td>[60591, 103643]</td>\n",
       "      <td>[46639, 46640]</td>\n",
       "      <td>None</td>\n",
       "      <td>[1323, 1669, 4076, 4357, 16826, 16828, 16894, ...</td>\n",
       "      <td>NaN</td>\n",
       "      <td>[16469, 16484]</td>\n",
       "      <td>92.990746</td>\n",
       "      <td>23</td>\n",
       "      <td>None</td>\n",
       "      <td>83.162040</td>\n",
       "      <td>29</td>\n",
       "      <td>NaN</td>\n",
       "      <td>None</td>\n",
       "      <td>1.0</td>\n",
       "      <td>NaN</td>\n",
       "      <td>None</td>\n",
       "      <td>15.0</td>\n",
       "      <td>73.333333</td>\n",
       "      <td>6.0</td>\n",
       "      <td>None</td>\n",
       "      <td>None</td>\n",
       "      <td>109.0</td>\n",
       "      <td>NaN</td>\n",
       "      <td>None</td>\n",
       "      <td>None</td>\n",
       "      <td>None</td>\n",
       "      <td>None</td>\n",
       "      <td>None</td>\n",
       "      <td>None</td>\n",
       "      <td>None</td>\n",
       "      <td>None</td>\n",
       "      <td>341.0</td>\n",
       "      <td>At 9.45 in the morning, a thunderous explosio...</td>\n",
       "      <td>DLC: \"Nicholson Electroplating\" Arson Case</td>\n",
       "      <td>NaN</td>\n",
       "      <td>False</td>\n",
       "      <td>False</td>\n",
       "      <td>False</td>\n",
       "      <td>False</td>\n",
       "      <td>0</td>\n",
       "      <td>False</td>\n",
       "      <td>NaN</td>\n",
       "      <td>False</td>\n",
       "      <td>None</td>\n",
       "      <td>0</td>\n",
       "      <td>0</td>\n",
       "      <td>0</td>\n",
       "      <td>subperb</td>\n",
       "    </tr>\n",
       "    <tr>\n",
       "      <th>418493</th>\n",
       "      <td>74</td>\n",
       "      <td>0</td>\n",
       "      <td>2011-02-18 09:01:17</td>\n",
       "      <td>[14434, 80756, 86905, 137458, 213810, 245424, ...</td>\n",
       "      <td>1.264464e+09</td>\n",
       "      <td>[shooter, role-playing-rpg, simulator, adventure]</td>\n",
       "      <td>Mass Effect 2</td>\n",
       "      <td>[PC (Microsoft Windows), PlayStation 3, Xbox 360]</td>\n",
       "      <td>[20909, 20910, 20911, 20912, 20913, 20914, 209...</td>\n",
       "      <td>[16, 21, 41, 43, 533, 571, 960, 1020, 1985, 2031]</td>\n",
       "      <td>mass-effect-2</td>\n",
       "      <td>Are you prepared to lose everything to save th...</td>\n",
       "      <td>[1, 18, 268435461, 268435468, 268435469, 26843...</td>\n",
       "      <td>2022-09-22 14:33:34</td>\n",
       "      <td>https://www.igdb.com/games/mass-effect-2</td>\n",
       "      <td>acafc118-bdb5-5783-2982-9417efb5cafb</td>\n",
       "      <td>[4666, 46183, 79400]</td>\n",
       "      <td>93684.0</td>\n",
       "      <td>[5240, 5241, 18482, 52062]</td>\n",
       "      <td>[892, 893, 8205, 8206, 8218]</td>\n",
       "      <td>[single-player]</td>\n",
       "      <td>[Third person]</td>\n",
       "      <td>[Action, Science fiction]</td>\n",
       "      <td>[18939, 18940, 18941, 18942, 18943, 18944, 403...</td>\n",
       "      <td>[19924, 45203, 50352]</td>\n",
       "      <td>[4512, 4513, 4514, 4515, 4516, 4517, 4518, 451...</td>\n",
       "      <td>[351]</td>\n",
       "      <td>[3, 22, 72, 129, 159, 201, 274, 284, 301, 558,...</td>\n",
       "      <td>NaN</td>\n",
       "      <td>[3344]</td>\n",
       "      <td>91.418551</td>\n",
       "      <td>1924</td>\n",
       "      <td>Two years after Commander Shepard repelled inv...</td>\n",
       "      <td>93.509276</td>\n",
       "      <td>1938</td>\n",
       "      <td>NaN</td>\n",
       "      <td>None</td>\n",
       "      <td>1.0</td>\n",
       "      <td>25.0</td>\n",
       "      <td>None</td>\n",
       "      <td>796.0</td>\n",
       "      <td>95.600000</td>\n",
       "      <td>14.0</td>\n",
       "      <td>[782, 783, 1596, 13790, 13794, 13798, 13885, 2...</td>\n",
       "      <td>[45181, 140839]</td>\n",
       "      <td>NaN</td>\n",
       "      <td>NaN</td>\n",
       "      <td>None</td>\n",
       "      <td>None</td>\n",
       "      <td>None</td>\n",
       "      <td>None</td>\n",
       "      <td>None</td>\n",
       "      <td>None</td>\n",
       "      <td>None</td>\n",
       "      <td>None</td>\n",
       "      <td>426.0</td>\n",
       "      <td>None</td>\n",
       "      <td>Bonus DVD with behind-the-scenes and making-of...</td>\n",
       "      <td>NaN</td>\n",
       "      <td>False</td>\n",
       "      <td>False</td>\n",
       "      <td>False</td>\n",
       "      <td>False</td>\n",
       "      <td>0</td>\n",
       "      <td>False</td>\n",
       "      <td>NaN</td>\n",
       "      <td>False</td>\n",
       "      <td>None</td>\n",
       "      <td>0</td>\n",
       "      <td>0</td>\n",
       "      <td>0</td>\n",
       "      <td>subperb</td>\n",
       "    </tr>\n",
       "    <tr>\n",
       "      <th>350022</th>\n",
       "      <td>2617</td>\n",
       "      <td>3</td>\n",
       "      <td>2013-07-17 16:09:09</td>\n",
       "      <td>[43459, 78277]</td>\n",
       "      <td>8.703936e+08</td>\n",
       "      <td>[real-time-strategy-rts, simulator, strategy]</td>\n",
       "      <td>The Settlers II: Gold Edition</td>\n",
       "      <td>[DOS, Mac, Nintendo DS]</td>\n",
       "      <td>[194838, 194839, 194840]</td>\n",
       "      <td>[9789, 18623, 20776, 28325, 29173, 31480, 3151...</td>\n",
       "      <td>the-settlers-ii-gold-edition</td>\n",
       "      <td>The goal of this game is to build a prosperous...</td>\n",
       "      <td>[22, 268435467, 268435469, 268435471, 53687097...</td>\n",
       "      <td>2022-07-11 11:30:50</td>\n",
       "      <td>https://www.igdb.com/games/the-settlers-ii-gol...</td>\n",
       "      <td>db85c417-67eb-2742-d6d1-f80aad673a6a</td>\n",
       "      <td>[27816, 78303]</td>\n",
       "      <td>99902.0</td>\n",
       "      <td>[97957]</td>\n",
       "      <td>[22965, 383044, 383045, 383046]</td>\n",
       "      <td>[single-player, multiplayer, split-screen]</td>\n",
       "      <td>[Bird view / Isometric]</td>\n",
       "      <td>[Historical]</td>\n",
       "      <td>[119754, 139873]</td>\n",
       "      <td>[32095]</td>\n",
       "      <td>None</td>\n",
       "      <td>None</td>\n",
       "      <td>[60, 64, 171, 606, 994, 1148, 1471, 1922, 2002...</td>\n",
       "      <td>NaN</td>\n",
       "      <td>[35570]</td>\n",
       "      <td>92.221300</td>\n",
       "      <td>36</td>\n",
       "      <td>After fighting a losing battle with the raging...</td>\n",
       "      <td>92.221300</td>\n",
       "      <td>36</td>\n",
       "      <td>2596.0</td>\n",
       "      <td>Gold Edition</td>\n",
       "      <td>NaN</td>\n",
       "      <td>619.0</td>\n",
       "      <td>[2165]</td>\n",
       "      <td>22.0</td>\n",
       "      <td>NaN</td>\n",
       "      <td>NaN</td>\n",
       "      <td>None</td>\n",
       "      <td>None</td>\n",
       "      <td>NaN</td>\n",
       "      <td>NaN</td>\n",
       "      <td>[7365]</td>\n",
       "      <td>None</td>\n",
       "      <td>[86493]</td>\n",
       "      <td>None</td>\n",
       "      <td>None</td>\n",
       "      <td>None</td>\n",
       "      <td>None</td>\n",
       "      <td>None</td>\n",
       "      <td>NaN</td>\n",
       "      <td>None</td>\n",
       "      <td>None</td>\n",
       "      <td>7365.0</td>\n",
       "      <td>False</td>\n",
       "      <td>False</td>\n",
       "      <td>False</td>\n",
       "      <td>False</td>\n",
       "      <td>0</td>\n",
       "      <td>False</td>\n",
       "      <td>NaN</td>\n",
       "      <td>False</td>\n",
       "      <td>1c2dfca2-6ee8-b54e-b243-05ffb0c646bc</td>\n",
       "      <td>0</td>\n",
       "      <td>0</td>\n",
       "      <td>0</td>\n",
       "      <td>subperb</td>\n",
       "    </tr>\n",
       "  </tbody>\n",
       "</table>\n",
       "</div>"
      ],
      "text/plain": [
       "           id  category          created_at  \\\n",
       "350151   2617         3 2013-07-17 16:09:09   \n",
       "404391  29207         0 2017-05-20 12:20:49   \n",
       "413553  59849         9 2017-09-07 18:41:31   \n",
       "418493     74         0 2011-02-18 09:01:17   \n",
       "350022   2617         3 2013-07-17 16:09:09   \n",
       "\n",
       "                                           external_games  first_release_date  \\\n",
       "350151                                     [43459, 78277]        8.703936e+08   \n",
       "404391              [14106, 77210, 85081, 96659, 2136317]        1.133222e+09   \n",
       "413553  [197757, 210636, 398654, 1237237, 2000741, 211...        1.510618e+09   \n",
       "418493  [14434, 80756, 86905, 137458, 213810, 245424, ...        1.264464e+09   \n",
       "350022                                     [43459, 78277]        8.703936e+08   \n",
       "\n",
       "                                                   genres  \\\n",
       "350151      [real-time-strategy-rts, simulator, strategy]   \n",
       "404391                                 [role-playing-rpg]   \n",
       "413553                     [shooter, strategy, adventure]   \n",
       "418493  [shooter, role-playing-rpg, simulator, adventure]   \n",
       "350022      [real-time-strategy-rts, simulator, strategy]   \n",
       "\n",
       "                                 name  \\\n",
       "350151  The Settlers II: Gold Edition   \n",
       "404391        Gothic II: Gold Edition   \n",
       "413553                     L.A. Noire   \n",
       "418493                  Mass Effect 2   \n",
       "350022  The Settlers II: Gold Edition   \n",
       "\n",
       "                                                platforms  \\\n",
       "350151                            [DOS, Mac, Nintendo DS]   \n",
       "404391                           [PC (Microsoft Windows)]   \n",
       "413553                          [PlayStation 4, Xbox One]   \n",
       "418493  [PC (Microsoft Windows), PlayStation 3, Xbox 360]   \n",
       "350022                            [DOS, Mac, Nintendo DS]   \n",
       "\n",
       "                                            release_dates  \\\n",
       "350151                           [194838, 194839, 194840]   \n",
       "404391                                           [196063]   \n",
       "413553           [112409, 112410, 135021, 135022, 136102]   \n",
       "418493  [20909, 20910, 20911, 20912, 20913, 20914, 209...   \n",
       "350022                           [194838, 194839, 194840]   \n",
       "\n",
       "                                            similar_games  \\\n",
       "350151  [9789, 18623, 20776, 28325, 29173, 31480, 3151...   \n",
       "404391  [19164, 54775, 81249, 96217, 99118, 101608, 10...   \n",
       "413553  [17379, 17548, 18167, 18225, 26574, 27092, 285...   \n",
       "418493  [16, 21, 41, 43, 533, 571, 960, 1020, 1985, 2031]   \n",
       "350022  [9789, 18623, 20776, 28325, 29173, 31480, 3151...   \n",
       "\n",
       "                                slug  \\\n",
       "350151  the-settlers-ii-gold-edition   \n",
       "404391        gothic-ii-gold-edition   \n",
       "413553                      la-noire   \n",
       "418493                 mass-effect-2   \n",
       "350022  the-settlers-ii-gold-edition   \n",
       "\n",
       "                                                  summary  \\\n",
       "350151  The goal of this game is to build a prosperous...   \n",
       "404391  Gothic II: Gold Edition brings together the ex...   \n",
       "413553  L.A. Noire for PlayStation 4 and Xbox One deli...   \n",
       "418493  Are you prepared to lose everything to save th...   \n",
       "350022  The goal of this game is to build a prosperous...   \n",
       "\n",
       "                                                     tags          updated_at  \\\n",
       "350151  [22, 268435467, 268435469, 268435471, 53687097... 2022-07-11 11:30:50   \n",
       "404391                             [1, 17, 38, 268435468] 2022-09-25 09:56:26   \n",
       "413553  [1, 20, 22, 33, 38, 39, 43, 268435461, 2684354... 2022-09-22 13:55:14   \n",
       "418493  [1, 18, 268435461, 268435468, 268435469, 26843... 2022-09-22 14:33:34   \n",
       "350022  [22, 268435467, 268435469, 268435471, 53687097... 2022-07-11 11:30:50   \n",
       "\n",
       "                                                      url  \\\n",
       "350151  https://www.igdb.com/games/the-settlers-ii-gol...   \n",
       "404391  https://www.igdb.com/games/gothic-ii-gold-edition   \n",
       "413553                https://www.igdb.com/games/la-noire   \n",
       "418493           https://www.igdb.com/games/mass-effect-2   \n",
       "350022  https://www.igdb.com/games/the-settlers-ii-gol...   \n",
       "\n",
       "                                  checksum_x            age_ratings     cover  \\\n",
       "350151  db85c417-67eb-2742-d6d1-f80aad673a6a         [27816, 78303]   99902.0   \n",
       "404391  0b0d512e-1add-c724-d6a5-f69e9043c619                [27942]   81332.0   \n",
       "413553  1db7b5e1-bc8b-cc45-e4b5-2f7b15aa5cf2  [61480, 62001, 93238]  120996.0   \n",
       "418493  acafc118-bdb5-5783-2982-9417efb5cafb   [4666, 46183, 79400]   93684.0   \n",
       "350022  db85c417-67eb-2742-d6d1-f80aad673a6a         [27816, 78303]   99902.0   \n",
       "\n",
       "                involved_companies                               screenshots  \\\n",
       "350151                     [97957]           [22965, 383044, 383045, 383046]   \n",
       "404391              [47901, 99186]  [102680, 102681, 102682, 102683, 102684]   \n",
       "413553                     [54124]  [141184, 141185, 141186, 141187, 146355]   \n",
       "418493  [5240, 5241, 18482, 52062]              [892, 893, 8205, 8206, 8218]   \n",
       "350022                     [97957]           [22965, 383044, 383045, 383046]   \n",
       "\n",
       "                                        game_modes      player_perspectives  \\\n",
       "350151  [single-player, multiplayer, split-screen]  [Bird view / Isometric]   \n",
       "404391                             [single-player]           [Third person]   \n",
       "413553                             [single-player]           [Third person]   \n",
       "418493                             [single-player]           [Third person]   \n",
       "350022  [single-player, multiplayer, split-screen]  [Bird view / Isometric]   \n",
       "\n",
       "                                                   themes  \\\n",
       "350151                                       [Historical]   \n",
       "404391                      [Action, Fantasy, Open world]   \n",
       "413553  [Action, Thriller, Historical, Sandbox, Open w...   \n",
       "418493                          [Action, Science fiction]   \n",
       "350022                                       [Historical]   \n",
       "\n",
       "                                                 websites  \\\n",
       "350151                                   [119754, 139873]   \n",
       "404391                     [26765, 26766, 118909, 140843]   \n",
       "413553                                            [56427]   \n",
       "418493  [18939, 18940, 18941, 18942, 18943, 18944, 403...   \n",
       "350022                                   [119754, 139873]   \n",
       "\n",
       "            alternative_names  \\\n",
       "350151                [32095]   \n",
       "404391                   None   \n",
       "413553        [60591, 103643]   \n",
       "418493  [19924, 45203, 50352]   \n",
       "350022                [32095]   \n",
       "\n",
       "                                                 artworks game_engines  \\\n",
       "350151                                               None         None   \n",
       "404391                                            [55855]        [134]   \n",
       "413553                                     [46639, 46640]         None   \n",
       "418493  [4512, 4513, 4514, 4515, 4516, 4517, 4518, 451...        [351]   \n",
       "350022                                               None         None   \n",
       "\n",
       "                                                 keywords  status  \\\n",
       "350151  [60, 64, 171, 606, 994, 1148, 1471, 1922, 2002...     NaN   \n",
       "404391                                               None     NaN   \n",
       "413553  [1323, 1669, 4076, 4357, 16826, 16828, 16894, ...     NaN   \n",
       "418493  [3, 22, 72, 129, 159, 201, 274, 284, 301, 558,...     NaN   \n",
       "350022  [60, 64, 171, 606, 994, 1148, 1471, 1922, 2002...     NaN   \n",
       "\n",
       "                videos     rating  rating_count  \\\n",
       "350151         [35570]  92.221300            36   \n",
       "404391            None  90.003422             5   \n",
       "413553  [16469, 16484]  92.990746            23   \n",
       "418493          [3344]  91.418551          1924   \n",
       "350022         [35570]  92.221300            36   \n",
       "\n",
       "                                                storyline  total_rating  \\\n",
       "350151  After fighting a losing battle with the raging...     92.221300   \n",
       "404391                                               None     90.003422   \n",
       "413553                                               None     83.162040   \n",
       "418493  Two years after Commander Shepard repelled inv...     93.509276   \n",
       "350022  After fighting a losing battle with the raging...     92.221300   \n",
       "\n",
       "        total_rating_count  version_parent version_title  hypes  collection  \\\n",
       "350151                  36          2596.0  Gold Edition    NaN       619.0   \n",
       "404391                   5          2262.0  Gold Edition    NaN       463.0   \n",
       "413553                  29             NaN          None    1.0         NaN   \n",
       "418493                1938             NaN          None    1.0        25.0   \n",
       "350022                  36          2596.0  Gold Edition    NaN       619.0   \n",
       "\n",
       "       franchises  follows  aggregated_rating  aggregated_rating_count  \\\n",
       "350151     [2165]     22.0                NaN                      NaN   \n",
       "404391       None      NaN                NaN                      NaN   \n",
       "413553       None     15.0          73.333333                      6.0   \n",
       "418493       None    796.0          95.600000                     14.0   \n",
       "350022     [2165]     22.0                NaN                      NaN   \n",
       "\n",
       "                                                     dlcs          bundles  \\\n",
       "350151                                               None             None   \n",
       "404391                                               None             None   \n",
       "413553                                               None             None   \n",
       "418493  [782, 783, 1596, 13790, 13794, 13798, 13885, 2...  [45181, 140839]   \n",
       "350022                                               None             None   \n",
       "\n",
       "        parent_game  franchise multiplayer_modes remakes    ports expansions  \\\n",
       "350151          NaN        NaN            [7365]    None  [86493]       None   \n",
       "404391          NaN        NaN              None    None     None       None   \n",
       "413553        109.0        NaN              None    None     None       None   \n",
       "418493          NaN        NaN              None    None     None       None   \n",
       "350022          NaN        NaN            [7365]    None  [86493]       None   \n",
       "\n",
       "       expanded_games remasters forks standalone_expansions  second  \\\n",
       "350151           None      None  None                  None     NaN   \n",
       "404391           None      None  None                  None     NaN   \n",
       "413553           None      None  None                  None   341.0   \n",
       "418493           None      None  None                  None   426.0   \n",
       "350022           None      None  None                  None     NaN   \n",
       "\n",
       "                                      version_description  \\\n",
       "350151                                               None   \n",
       "404391                                               None   \n",
       "413553   At 9.45 in the morning, a thunderous explosio...   \n",
       "418493                                               None   \n",
       "350022                                               None   \n",
       "\n",
       "                                            title_version  second_id  \\\n",
       "350151                                               None     7365.0   \n",
       "404391                                               None        NaN   \n",
       "413553         DLC: \"Nicholson Electroplating\" Arson Case        NaN   \n",
       "418493  Bonus DVD with behind-the-scenes and making-of...        NaN   \n",
       "350022                                               None     7365.0   \n",
       "\n",
       "        campaigncoop  dropin  lancoop  offlinecoop  offlinemax  onlinecoop  \\\n",
       "350151         False   False    False        False           0       False   \n",
       "404391         False   False    False        False           0       False   \n",
       "413553         False   False    False        False           0       False   \n",
       "418493         False   False    False        False           0       False   \n",
       "350022         False   False    False        False           0       False   \n",
       "\n",
       "        platform  splitscreen                            checksum_y  \\\n",
       "350151       NaN        False  1c2dfca2-6ee8-b54e-b243-05ffb0c646bc   \n",
       "404391       NaN        False                                  None   \n",
       "413553       NaN        False                                  None   \n",
       "418493       NaN        False                                  None   \n",
       "350022       NaN        False  1c2dfca2-6ee8-b54e-b243-05ffb0c646bc   \n",
       "\n",
       "        offlinecoopmax  onlinecoopmax  onlinemax rating_bin  \n",
       "350151               0              0          0    subperb  \n",
       "404391               0              0          0    subperb  \n",
       "413553               0              0          0    subperb  \n",
       "418493               0              0          0    subperb  \n",
       "350022               0              0          0    subperb  "
      ]
     },
     "execution_count": 34,
     "metadata": {},
     "output_type": "execute_result"
    }
   ],
   "source": [
    "pd.set_option('display.max_columns', 500)\n",
    "df_subperb_rating.head()"
   ]
  },
  {
   "cell_type": "code",
   "execution_count": 130,
   "id": "885fa0e5",
   "metadata": {
    "scrolled": false
   },
   "outputs": [
    {
     "data": {
      "text/plain": [
       "Text(0.5, 1.0, 'Most common Genre in Superb Games')"
      ]
     },
     "execution_count": 130,
     "metadata": {},
     "output_type": "execute_result"
    },
    {
     "data": {
      "image/png": "[encoded data removed]",
      "text/plain": [
       "<Figure size 1008x432 with 1 Axes>"
      ]
     },
     "metadata": {},
     "output_type": "display_data"
    }
   ],
   "source": [
    "fig, ax = plt.subplots(figsize = (14,6))\n",
    "ax.bar(to_1D(df_subperb_rating[\"genres\"]).value_counts().iloc[:4].index,\n",
    "        to_1D(df_subperb_rating[\"genres\"]).value_counts().iloc[:4].values,\n",
    "         color= ['purple'])\n",
    "ax.set_ylabel(\"Frequency\", size = 20)\n",
    "ax.set_title(\"Most common Genre in Superb Games\", size = 20)"
   ]
  },
  {
   "cell_type": "code",
   "execution_count": 87,
   "id": "51f705c2",
   "metadata": {
    "scrolled": true
   },
   "outputs": [
    {
     "data": {
      "text/plain": [
       "Index([                  ['role-playing-rpg', 'adventure'],\n",
       "                        ['shooter', 'racing', 'adventure'],\n",
       "       ['real-time-strategy-rts', 'simulator', 'strategy'],\n",
       "                                      ['role-playing-rpg']],\n",
       "      dtype='object')"
      ]
     },
     "execution_count": 87,
     "metadata": {},
     "output_type": "execute_result"
    }
   ],
   "source": [
    "df_subperb_rating[\"genres\"].value_counts().iloc[:4].index"
   ]
  },
  {
   "cell_type": "code",
   "execution_count": 89,
   "id": "10ebb355",
   "metadata": {},
   "outputs": [
    {
     "data": {
      "text/plain": [
       "array([285, 226, 218,  11])"
      ]
     },
     "execution_count": 89,
     "metadata": {},
     "output_type": "execute_result"
    }
   ],
   "source": [
    "df_subperb_rating[\"genres\"].value_counts().iloc[:4].values"
   ]
  },
  {
   "cell_type": "code",
   "execution_count": 94,
   "id": "4dd92d81",
   "metadata": {},
   "outputs": [
    {
     "data": {
      "application/vnd.plotly.v1+json": {
       "config": {
        "plotlyServerURL": "https://plot.ly"
       },
       "data": [
        {
         "marker": {
          "color": [
           "purple",
           "purple",
           "purple",
           "purple",
           "purple"
          ]
         },
         "type": "bar",
         "x": [
          "role-playing-rpg & adventure",
          "shooter , racing , adventure",
          "real-time-strategy-rts , simulator , strategy",
          "role-playing-rpg"
         ],
         "y": [
          285,
          226,
          218,
          11
         ]
        }
       ],
       "layout": {
        "template": {
         "data": {
          "bar": [
           {
            "error_x": {
             "color": "#2a3f5f"
            },
            "error_y": {
             "color": "#2a3f5f"
            },
            "marker": {
             "line": {
              "color": "#E5ECF6",
              "width": 0.5
             },
             "pattern": {
              "fillmode": "overlay",
              "size": 10,
              "solidity": 0.2
             }
            },
            "type": "bar"
           }
          ],
          "barpolar": [
           {
            "marker": {
             "line": {
              "color": "#E5ECF6",
              "width": 0.5
             },
             "pattern": {
              "fillmode": "overlay",
              "size": 10,
              "solidity": 0.2
             }
            },
            "type": "barpolar"
           }
          ],
          "carpet": [
           {
            "aaxis": {
             "endlinecolor": "#2a3f5f",
             "gridcolor": "white",
             "linecolor": "white",
             "minorgridcolor": "white",
             "startlinecolor": "#2a3f5f"
            },
            "baxis": {
             "endlinecolor": "#2a3f5f",
             "gridcolor": "white",
             "linecolor": "white",
             "minorgridcolor": "white",
             "startlinecolor": "#2a3f5f"
            },
            "type": "carpet"
           }
          ],
          "choropleth": [
           {
            "colorbar": {
             "outlinewidth": 0,
             "ticks": ""
            },
            "type": "choropleth"
           }
          ],
          "contour": [
           {
            "colorbar": {
             "outlinewidth": 0,
             "ticks": ""
            },
            "colorscale": [
             [
              0,
              "#0d0887"
             ],
             [
              0.1111111111111111,
              "#46039f"
             ],
             [
              0.2222222222222222,
              "#7201a8"
             ],
             [
              0.3333333333333333,
              "#9c179e"
             ],
             [
              0.4444444444444444,
              "#bd3786"
             ],
             [
              0.5555555555555556,
              "#d8576b"
             ],
             [
              0.6666666666666666,
              "#ed7953"
             ],
             [
              0.7777777777777778,
              "#fb9f3a"
             ],
             [
              0.8888888888888888,
              "#fdca26"
             ],
             [
              1,
              "#f0f921"
             ]
            ],
            "type": "contour"
           }
          ],
          "contourcarpet": [
           {
            "colorbar": {
             "outlinewidth": 0,
             "ticks": ""
            },
            "type": "contourcarpet"
           }
          ],
          "heatmap": [
           {
            "colorbar": {
             "outlinewidth": 0,
             "ticks": ""
            },
            "colorscale": [
             [
              0,
              "#0d0887"
             ],
             [
              0.1111111111111111,
              "#46039f"
             ],
             [
              0.2222222222222222,
              "#7201a8"
             ],
             [
              0.3333333333333333,
              "#9c179e"
             ],
             [
              0.4444444444444444,
              "#bd3786"
             ],
             [
              0.5555555555555556,
              "#d8576b"
             ],
             [
              0.6666666666666666,
              "#ed7953"
             ],
             [
              0.7777777777777778,
              "#fb9f3a"
             ],
             [
              0.8888888888888888,
              "#fdca26"
             ],
             [
              1,
              "#f0f921"
             ]
            ],
            "type": "heatmap"
           }
          ],
          "heatmapgl": [
           {
            "colorbar": {
             "outlinewidth": 0,
             "ticks": ""
            },
            "colorscale": [
             [
              0,
              "#0d0887"
             ],
             [
              0.1111111111111111,
              "#46039f"
             ],
             [
              0.2222222222222222,
              "#7201a8"
             ],
             [
              0.3333333333333333,
              "#9c179e"
             ],
             [
              0.4444444444444444,
              "#bd3786"
             ],
             [
              0.5555555555555556,
              "#d8576b"
             ],
             [
              0.6666666666666666,
              "#ed7953"
             ],
             [
              0.7777777777777778,
              "#fb9f3a"
             ],
             [
              0.8888888888888888,
              "#fdca26"
             ],
             [
              1,
              "#f0f921"
             ]
            ],
            "type": "heatmapgl"
           }
          ],
          "histogram": [
           {
            "marker": {
             "pattern": {
              "fillmode": "overlay",
              "size": 10,
              "solidity": 0.2
             }
            },
            "type": "histogram"
           }
          ],
          "histogram2d": [
           {
            "colorbar": {
             "outlinewidth": 0,
             "ticks": ""
            },
            "colorscale": [
             [
              0,
              "#0d0887"
             ],
             [
              0.1111111111111111,
              "#46039f"
             ],
             [
              0.2222222222222222,
              "#7201a8"
             ],
             [
              0.3333333333333333,
              "#9c179e"
             ],
             [
              0.4444444444444444,
              "#bd3786"
             ],
             [
              0.5555555555555556,
              "#d8576b"
             ],
             [
              0.6666666666666666,
              "#ed7953"
             ],
             [
              0.7777777777777778,
              "#fb9f3a"
             ],
             [
              0.8888888888888888,
              "#fdca26"
             ],
             [
              1,
              "#f0f921"
             ]
            ],
            "type": "histogram2d"
           }
          ],
          "histogram2dcontour": [
           {
            "colorbar": {
             "outlinewidth": 0,
             "ticks": ""
            },
            "colorscale": [
             [
              0,
              "#0d0887"
             ],
             [
              0.1111111111111111,
              "#46039f"
             ],
             [
              0.2222222222222222,
              "#7201a8"
             ],
             [
              0.3333333333333333,
              "#9c179e"
             ],
             [
              0.4444444444444444,
              "#bd3786"
             ],
             [
              0.5555555555555556,
              "#d8576b"
             ],
             [
              0.6666666666666666,
              "#ed7953"
             ],
             [
              0.7777777777777778,
              "#fb9f3a"
             ],
             [
              0.8888888888888888,
              "#fdca26"
             ],
             [
              1,
              "#f0f921"
             ]
            ],
            "type": "histogram2dcontour"
           }
          ],
          "mesh3d": [
           {
            "colorbar": {
             "outlinewidth": 0,
             "ticks": ""
            },
            "type": "mesh3d"
           }
          ],
          "parcoords": [
           {
            "line": {
             "colorbar": {
              "outlinewidth": 0,
              "ticks": ""
             }
            },
            "type": "parcoords"
           }
          ],
          "pie": [
           {
            "automargin": true,
            "type": "pie"
           }
          ],
          "scatter": [
           {
            "marker": {
             "colorbar": {
              "outlinewidth": 0,
              "ticks": ""
             }
            },
            "type": "scatter"
           }
          ],
          "scatter3d": [
           {
            "line": {
             "colorbar": {
              "outlinewidth": 0,
              "ticks": ""
             }
            },
            "marker": {
             "colorbar": {
              "outlinewidth": 0,
              "ticks": ""
             }
            },
            "type": "scatter3d"
           }
          ],
          "scattercarpet": [
           {
            "marker": {
             "colorbar": {
              "outlinewidth": 0,
              "ticks": ""
             }
            },
            "type": "scattercarpet"
           }
          ],
          "scattergeo": [
           {
            "marker": {
             "colorbar": {
              "outlinewidth": 0,
              "ticks": ""
             }
            },
            "type": "scattergeo"
           }
          ],
          "scattergl": [
           {
            "marker": {
             "colorbar": {
              "outlinewidth": 0,
              "ticks": ""
             }
            },
            "type": "scattergl"
           }
          ],
          "scattermapbox": [
           {
            "marker": {
             "colorbar": {
              "outlinewidth": 0,
              "ticks": ""
             }
            },
            "type": "scattermapbox"
           }
          ],
          "scatterpolar": [
           {
            "marker": {
             "colorbar": {
              "outlinewidth": 0,
              "ticks": ""
             }
            },
            "type": "scatterpolar"
           }
          ],
          "scatterpolargl": [
           {
            "marker": {
             "colorbar": {
              "outlinewidth": 0,
              "ticks": ""
             }
            },
            "type": "scatterpolargl"
           }
          ],
          "scatterternary": [
           {
            "marker": {
             "colorbar": {
              "outlinewidth": 0,
              "ticks": ""
             }
            },
            "type": "scatterternary"
           }
          ],
          "surface": [
           {
            "colorbar": {
             "outlinewidth": 0,
             "ticks": ""
            },
            "colorscale": [
             [
              0,
              "#0d0887"
             ],
             [
              0.1111111111111111,
              "#46039f"
             ],
             [
              0.2222222222222222,
              "#7201a8"
             ],
             [
              0.3333333333333333,
              "#9c179e"
             ],
             [
              0.4444444444444444,
              "#bd3786"
             ],
             [
              0.5555555555555556,
              "#d8576b"
             ],
             [
              0.6666666666666666,
              "#ed7953"
             ],
             [
              0.7777777777777778,
              "#fb9f3a"
             ],
             [
              0.8888888888888888,
              "#fdca26"
             ],
             [
              1,
              "#f0f921"
             ]
            ],
            "type": "surface"
           }
          ],
          "table": [
           {
            "cells": {
             "fill": {
              "color": "#EBF0F8"
             },
             "line": {
              "color": "white"
             }
            },
            "header": {
             "fill": {
              "color": "#C8D4E3"
             },
             "line": {
              "color": "white"
             }
            },
            "type": "table"
           }
          ]
         },
         "layout": {
          "annotationdefaults": {
           "arrowcolor": "#2a3f5f",
           "arrowhead": 0,
           "arrowwidth": 1
          },
          "autotypenumbers": "strict",
          "coloraxis": {
           "colorbar": {
            "outlinewidth": 0,
            "ticks": ""
           }
          },
          "colorscale": {
           "diverging": [
            [
             0,
             "#8e0152"
            ],
            [
             0.1,
             "#c51b7d"
            ],
            [
             0.2,
             "#de77ae"
            ],
            [
             0.3,
             "#f1b6da"
            ],
            [
             0.4,
             "#fde0ef"
            ],
            [
             0.5,
             "#f7f7f7"
            ],
            [
             0.6,
             "#e6f5d0"
            ],
            [
             0.7,
             "#b8e186"
            ],
            [
             0.8,
             "#7fbc41"
            ],
            [
             0.9,
             "#4d9221"
            ],
            [
             1,
             "#276419"
            ]
           ],
           "sequential": [
            [
             0,
             "#0d0887"
            ],
            [
             0.1111111111111111,
             "#46039f"
            ],
            [
             0.2222222222222222,
             "#7201a8"
            ],
            [
             0.3333333333333333,
             "#9c179e"
            ],
            [
             0.4444444444444444,
             "#bd3786"
            ],
            [
             0.5555555555555556,
             "#d8576b"
            ],
            [
             0.6666666666666666,
             "#ed7953"
            ],
            [
             0.7777777777777778,
             "#fb9f3a"
            ],
            [
             0.8888888888888888,
             "#fdca26"
            ],
            [
             1,
             "#f0f921"
            ]
           ],
           "sequentialminus": [
            [
             0,
             "#0d0887"
            ],
            [
             0.1111111111111111,
             "#46039f"
            ],
            [
             0.2222222222222222,
             "#7201a8"
            ],
            [
             0.3333333333333333,
             "#9c179e"
            ],
            [
             0.4444444444444444,
             "#bd3786"
            ],
            [
             0.5555555555555556,
             "#d8576b"
            ],
            [
             0.6666666666666666,
             "#ed7953"
            ],
            [
             0.7777777777777778,
             "#fb9f3a"
            ],
            [
             0.8888888888888888,
             "#fdca26"
            ],
            [
             1,
             "#f0f921"
            ]
           ]
          },
          "colorway": [
           "#636efa",
           "#EF553B",
           "#00cc96",
           "#ab63fa",
           "#FFA15A",
           "#19d3f3",
           "#FF6692",
           "#B6E880",
           "#FF97FF",
           "#FECB52"
          ],
          "font": {
           "color": "#2a3f5f"
          },
          "geo": {
           "bgcolor": "white",
           "lakecolor": "white",
           "landcolor": "#E5ECF6",
           "showlakes": true,
           "showland": true,
           "subunitcolor": "white"
          },
          "hoverlabel": {
           "align": "left"
          },
          "hovermode": "closest",
          "mapbox": {
           "style": "light"
          },
          "paper_bgcolor": "white",
          "plot_bgcolor": "#E5ECF6",
          "polar": {
           "angularaxis": {
            "gridcolor": "white",
            "linecolor": "white",
            "ticks": ""
           },
           "bgcolor": "#E5ECF6",
           "radialaxis": {
            "gridcolor": "white",
            "linecolor": "white",
            "ticks": ""
           }
          },
          "scene": {
           "xaxis": {
            "backgroundcolor": "#E5ECF6",
            "gridcolor": "white",
            "gridwidth": 2,
            "linecolor": "white",
            "showbackground": true,
            "ticks": "",
            "zerolinecolor": "white"
           },
           "yaxis": {
            "backgroundcolor": "#E5ECF6",
            "gridcolor": "white",
            "gridwidth": 2,
            "linecolor": "white",
            "showbackground": true,
            "ticks": "",
            "zerolinecolor": "white"
           },
           "zaxis": {
            "backgroundcolor": "#E5ECF6",
            "gridcolor": "white",
            "gridwidth": 2,
            "linecolor": "white",
            "showbackground": true,
            "ticks": "",
            "zerolinecolor": "white"
           }
          },
          "shapedefaults": {
           "line": {
            "color": "#2a3f5f"
           }
          },
          "ternary": {
           "aaxis": {
            "gridcolor": "white",
            "linecolor": "white",
            "ticks": ""
           },
           "baxis": {
            "gridcolor": "white",
            "linecolor": "white",
            "ticks": ""
           },
           "bgcolor": "#E5ECF6",
           "caxis": {
            "gridcolor": "white",
            "linecolor": "white",
            "ticks": ""
           }
          },
          "title": {
           "x": 0.05
          },
          "xaxis": {
           "automargin": true,
           "gridcolor": "white",
           "linecolor": "white",
           "ticks": "",
           "title": {
            "standoff": 15
           },
           "zerolinecolor": "white",
           "zerolinewidth": 2
          },
          "yaxis": {
           "automargin": true,
           "gridcolor": "white",
           "linecolor": "white",
           "ticks": "",
           "title": {
            "standoff": 15
           },
           "zerolinecolor": "white",
           "zerolinewidth": 2
          }
         }
        },
        "title": {
         "text": "Superb Genre Combintaion"
        }
       }
      },
      "text/html": [
       "<div>                            <div id=\"c2376c0a-c2d2-4da1-8259-b8e7c7eff566\" class=\"plotly-graph-div\" style=\"height:525px; width:100%;\"></div>            <script type=\"text/javascript\">                require([\"plotly\"], function(Plotly) {                    window.PLOTLYENV=window.PLOTLYENV || {};                                    if (document.getElementById(\"c2376c0a-c2d2-4da1-8259-b8e7c7eff566\")) {                    Plotly.newPlot(                        \"c2376c0a-c2d2-4da1-8259-b8e7c7eff566\",                        [{\"marker\":{\"color\":[\"purple\",\"purple\",\"purple\",\"purple\",\"purple\"]},\"type\":\"bar\",\"x\":[\"role-playing-rpg & adventure\",\"shooter , racing , adventure\",\"real-time-strategy-rts , simulator , strategy\",\"role-playing-rpg\"],\"y\":[285,226,218,11]}],                        {\"template\":{\"data\":{\"bar\":[{\"error_x\":{\"color\":\"#2a3f5f\"},\"error_y\":{\"color\":\"#2a3f5f\"},\"marker\":{\"line\":{\"color\":\"#E5ECF6\",\"width\":0.5},\"pattern\":{\"fillmode\":\"overlay\",\"size\":10,\"solidity\":0.2}},\"type\":\"bar\"}],\"barpolar\":[{\"marker\":{\"line\":{\"color\":\"#E5ECF6\",\"width\":0.5},\"pattern\":{\"fillmode\":\"overlay\",\"size\":10,\"solidity\":0.2}},\"type\":\"barpolar\"}],\"carpet\":[{\"aaxis\":{\"endlinecolor\":\"#2a3f5f\",\"gridcolor\":\"white\",\"linecolor\":\"white\",\"minorgridcolor\":\"white\",\"startlinecolor\":\"#2a3f5f\"},\"baxis\":{\"endlinecolor\":\"#2a3f5f\",\"gridcolor\":\"white\",\"linecolor\":\"white\",\"minorgridcolor\":\"white\",\"startlinecolor\":\"#2a3f5f\"},\"type\":\"carpet\"}],\"choropleth\":[{\"colorbar\":{\"outlinewidth\":0,\"ticks\":\"\"},\"type\":\"choropleth\"}],\"contour\":[{\"colorbar\":{\"outlinewidth\":0,\"ticks\":\"\"},\"colorscale\":[[0.0,\"#0d0887\"],[0.1111111111111111,\"#46039f\"],[0.2222222222222222,\"#7201a8\"],[0.3333333333333333,\"#9c179e\"],[0.4444444444444444,\"#bd3786\"],[0.5555555555555556,\"#d8576b\"],[0.6666666666666666,\"#ed7953\"],[0.7777777777777778,\"#fb9f3a\"],[0.8888888888888888,\"#fdca26\"],[1.0,\"#f0f921\"]],\"type\":\"contour\"}],\"contourcarpet\":[{\"colorbar\":{\"outlinewidth\":0,\"ticks\":\"\"},\"type\":\"contourcarpet\"}],\"heatmap\":[{\"colorbar\":{\"outlinewidth\":0,\"ticks\":\"\"},\"colorscale\":[[0.0,\"#0d0887\"],[0.1111111111111111,\"#46039f\"],[0.2222222222222222,\"#7201a8\"],[0.3333333333333333,\"#9c179e\"],[0.4444444444444444,\"#bd3786\"],[0.5555555555555556,\"#d8576b\"],[0.6666666666666666,\"#ed7953\"],[0.7777777777777778,\"#fb9f3a\"],[0.8888888888888888,\"#fdca26\"],[1.0,\"#f0f921\"]],\"type\":\"heatmap\"}],\"heatmapgl\":[{\"colorbar\":{\"outlinewidth\":0,\"ticks\":\"\"},\"colorscale\":[[0.0,\"#0d0887\"],[0.1111111111111111,\"#46039f\"],[0.2222222222222222,\"#7201a8\"],[0.3333333333333333,\"#9c179e\"],[0.4444444444444444,\"#bd3786\"],[0.5555555555555556,\"#d8576b\"],[0.6666666666666666,\"#ed7953\"],[0.7777777777777778,\"#fb9f3a\"],[0.8888888888888888,\"#fdca26\"],[1.0,\"#f0f921\"]],\"type\":\"heatmapgl\"}],\"histogram\":[{\"marker\":{\"pattern\":{\"fillmode\":\"overlay\",\"size\":10,\"solidity\":0.2}},\"type\":\"histogram\"}],\"histogram2d\":[{\"colorbar\":{\"outlinewidth\":0,\"ticks\":\"\"},\"colorscale\":[[0.0,\"#0d0887\"],[0.1111111111111111,\"#46039f\"],[0.2222222222222222,\"#7201a8\"],[0.3333333333333333,\"#9c179e\"],[0.4444444444444444,\"#bd3786\"],[0.5555555555555556,\"#d8576b\"],[0.6666666666666666,\"#ed7953\"],[0.7777777777777778,\"#fb9f3a\"],[0.8888888888888888,\"#fdca26\"],[1.0,\"#f0f921\"]],\"type\":\"histogram2d\"}],\"histogram2dcontour\":[{\"colorbar\":{\"outlinewidth\":0,\"ticks\":\"\"},\"colorscale\":[[0.0,\"#0d0887\"],[0.1111111111111111,\"#46039f\"],[0.2222222222222222,\"#7201a8\"],[0.3333333333333333,\"#9c179e\"],[0.4444444444444444,\"#bd3786\"],[0.5555555555555556,\"#d8576b\"],[0.6666666666666666,\"#ed7953\"],[0.7777777777777778,\"#fb9f3a\"],[0.8888888888888888,\"#fdca26\"],[1.0,\"#f0f921\"]],\"type\":\"histogram2dcontour\"}],\"mesh3d\":[{\"colorbar\":{\"outlinewidth\":0,\"ticks\":\"\"},\"type\":\"mesh3d\"}],\"parcoords\":[{\"line\":{\"colorbar\":{\"outlinewidth\":0,\"ticks\":\"\"}},\"type\":\"parcoords\"}],\"pie\":[{\"automargin\":true,\"type\":\"pie\"}],\"scatter\":[{\"marker\":{\"colorbar\":{\"outlinewidth\":0,\"ticks\":\"\"}},\"type\":\"scatter\"}],\"scatter3d\":[{\"line\":{\"colorbar\":{\"outlinewidth\":0,\"ticks\":\"\"}},\"marker\":{\"colorbar\":{\"outlinewidth\":0,\"ticks\":\"\"}},\"type\":\"scatter3d\"}],\"scattercarpet\":[{\"marker\":{\"colorbar\":{\"outlinewidth\":0,\"ticks\":\"\"}},\"type\":\"scattercarpet\"}],\"scattergeo\":[{\"marker\":{\"colorbar\":{\"outlinewidth\":0,\"ticks\":\"\"}},\"type\":\"scattergeo\"}],\"scattergl\":[{\"marker\":{\"colorbar\":{\"outlinewidth\":0,\"ticks\":\"\"}},\"type\":\"scattergl\"}],\"scattermapbox\":[{\"marker\":{\"colorbar\":{\"outlinewidth\":0,\"ticks\":\"\"}},\"type\":\"scattermapbox\"}],\"scatterpolar\":[{\"marker\":{\"colorbar\":{\"outlinewidth\":0,\"ticks\":\"\"}},\"type\":\"scatterpolar\"}],\"scatterpolargl\":[{\"marker\":{\"colorbar\":{\"outlinewidth\":0,\"ticks\":\"\"}},\"type\":\"scatterpolargl\"}],\"scatterternary\":[{\"marker\":{\"colorbar\":{\"outlinewidth\":0,\"ticks\":\"\"}},\"type\":\"scatterternary\"}],\"surface\":[{\"colorbar\":{\"outlinewidth\":0,\"ticks\":\"\"},\"colorscale\":[[0.0,\"#0d0887\"],[0.1111111111111111,\"#46039f\"],[0.2222222222222222,\"#7201a8\"],[0.3333333333333333,\"#9c179e\"],[0.4444444444444444,\"#bd3786\"],[0.5555555555555556,\"#d8576b\"],[0.6666666666666666,\"#ed7953\"],[0.7777777777777778,\"#fb9f3a\"],[0.8888888888888888,\"#fdca26\"],[1.0,\"#f0f921\"]],\"type\":\"surface\"}],\"table\":[{\"cells\":{\"fill\":{\"color\":\"#EBF0F8\"},\"line\":{\"color\":\"white\"}},\"header\":{\"fill\":{\"color\":\"#C8D4E3\"},\"line\":{\"color\":\"white\"}},\"type\":\"table\"}]},\"layout\":{\"annotationdefaults\":{\"arrowcolor\":\"#2a3f5f\",\"arrowhead\":0,\"arrowwidth\":1},\"autotypenumbers\":\"strict\",\"coloraxis\":{\"colorbar\":{\"outlinewidth\":0,\"ticks\":\"\"}},\"colorscale\":{\"diverging\":[[0,\"#8e0152\"],[0.1,\"#c51b7d\"],[0.2,\"#de77ae\"],[0.3,\"#f1b6da\"],[0.4,\"#fde0ef\"],[0.5,\"#f7f7f7\"],[0.6,\"#e6f5d0\"],[0.7,\"#b8e186\"],[0.8,\"#7fbc41\"],[0.9,\"#4d9221\"],[1,\"#276419\"]],\"sequential\":[[0.0,\"#0d0887\"],[0.1111111111111111,\"#46039f\"],[0.2222222222222222,\"#7201a8\"],[0.3333333333333333,\"#9c179e\"],[0.4444444444444444,\"#bd3786\"],[0.5555555555555556,\"#d8576b\"],[0.6666666666666666,\"#ed7953\"],[0.7777777777777778,\"#fb9f3a\"],[0.8888888888888888,\"#fdca26\"],[1.0,\"#f0f921\"]],\"sequentialminus\":[[0.0,\"#0d0887\"],[0.1111111111111111,\"#46039f\"],[0.2222222222222222,\"#7201a8\"],[0.3333333333333333,\"#9c179e\"],[0.4444444444444444,\"#bd3786\"],[0.5555555555555556,\"#d8576b\"],[0.6666666666666666,\"#ed7953\"],[0.7777777777777778,\"#fb9f3a\"],[0.8888888888888888,\"#fdca26\"],[1.0,\"#f0f921\"]]},\"colorway\":[\"#636efa\",\"#EF553B\",\"#00cc96\",\"#ab63fa\",\"#FFA15A\",\"#19d3f3\",\"#FF6692\",\"#B6E880\",\"#FF97FF\",\"#FECB52\"],\"font\":{\"color\":\"#2a3f5f\"},\"geo\":{\"bgcolor\":\"white\",\"lakecolor\":\"white\",\"landcolor\":\"#E5ECF6\",\"showlakes\":true,\"showland\":true,\"subunitcolor\":\"white\"},\"hoverlabel\":{\"align\":\"left\"},\"hovermode\":\"closest\",\"mapbox\":{\"style\":\"light\"},\"paper_bgcolor\":\"white\",\"plot_bgcolor\":\"#E5ECF6\",\"polar\":{\"angularaxis\":{\"gridcolor\":\"white\",\"linecolor\":\"white\",\"ticks\":\"\"},\"bgcolor\":\"#E5ECF6\",\"radialaxis\":{\"gridcolor\":\"white\",\"linecolor\":\"white\",\"ticks\":\"\"}},\"scene\":{\"xaxis\":{\"backgroundcolor\":\"#E5ECF6\",\"gridcolor\":\"white\",\"gridwidth\":2,\"linecolor\":\"white\",\"showbackground\":true,\"ticks\":\"\",\"zerolinecolor\":\"white\"},\"yaxis\":{\"backgroundcolor\":\"#E5ECF6\",\"gridcolor\":\"white\",\"gridwidth\":2,\"linecolor\":\"white\",\"showbackground\":true,\"ticks\":\"\",\"zerolinecolor\":\"white\"},\"zaxis\":{\"backgroundcolor\":\"#E5ECF6\",\"gridcolor\":\"white\",\"gridwidth\":2,\"linecolor\":\"white\",\"showbackground\":true,\"ticks\":\"\",\"zerolinecolor\":\"white\"}},\"shapedefaults\":{\"line\":{\"color\":\"#2a3f5f\"}},\"ternary\":{\"aaxis\":{\"gridcolor\":\"white\",\"linecolor\":\"white\",\"ticks\":\"\"},\"baxis\":{\"gridcolor\":\"white\",\"linecolor\":\"white\",\"ticks\":\"\"},\"bgcolor\":\"#E5ECF6\",\"caxis\":{\"gridcolor\":\"white\",\"linecolor\":\"white\",\"ticks\":\"\"}},\"title\":{\"x\":0.05},\"xaxis\":{\"automargin\":true,\"gridcolor\":\"white\",\"linecolor\":\"white\",\"ticks\":\"\",\"title\":{\"standoff\":15},\"zerolinecolor\":\"white\",\"zerolinewidth\":2},\"yaxis\":{\"automargin\":true,\"gridcolor\":\"white\",\"linecolor\":\"white\",\"ticks\":\"\",\"title\":{\"standoff\":15},\"zerolinecolor\":\"white\",\"zerolinewidth\":2}}},\"title\":{\"text\":\"Superb Genre Combintaion\"}},                        {\"responsive\": true}                    ).then(function(){\n",
       "                            \n",
       "var gd = document.getElementById('c2376c0a-c2d2-4da1-8259-b8e7c7eff566');\n",
       "var x = new MutationObserver(function (mutations, observer) {{\n",
       "        var display = window.getComputedStyle(gd).display;\n",
       "        if (!display || display === 'none') {{\n",
       "            console.log([gd, 'removed!']);\n",
       "            Plotly.purge(gd);\n",
       "            observer.disconnect();\n",
       "        }}\n",
       "}});\n",
       "\n",
       "// Listen for the removal of the full notebook cells\n",
       "var notebookContainer = gd.closest('#notebook-container');\n",
       "if (notebookContainer) {{\n",
       "    x.observe(notebookContainer, {childList: true});\n",
       "}}\n",
       "\n",
       "// Listen for the clearing of the current output cell\n",
       "var outputEl = gd.closest('.output');\n",
       "if (outputEl) {{\n",
       "    x.observe(outputEl, {childList: true});\n",
       "}}\n",
       "\n",
       "                        })                };                });            </script>        </div>"
      ]
     },
     "metadata": {},
     "output_type": "display_data"
    }
   ],
   "source": [
    "colors = ['purple',] * 5\n",
    "\n",
    "\n",
    "fig = go.Figure(data=[go.Bar(\n",
    "    x=['role-playing-rpg & adventure', 'shooter , racing , adventure','real-time-strategy-rts , simulator , strategy', 'role-playing-rpg'],\n",
    "    y=[285, 226, 218,  11],\n",
    "    marker_color=colors # marker color can be a single color value or an iterable\n",
    ")])\n",
    "fig.update_layout(title_text='Superb Genre Combintaion')"
   ]
  },
  {
   "cell_type": "code",
   "execution_count": null,
   "id": "48ba270b",
   "metadata": {},
   "outputs": [],
   "source": []
  },
  {
   "cell_type": "code",
   "execution_count": null,
   "id": "0c9cee71",
   "metadata": {},
   "outputs": [],
   "source": []
  },
  {
   "cell_type": "markdown",
   "id": "3ac0946e",
   "metadata": {},
   "source": [
    ">- Answer- the most common Genre in the higest rating are adventure, role-playing- rpg, shoter, rts, racing "
   ]
  },
  {
   "cell_type": "markdown",
   "id": "70e821dc",
   "metadata": {},
   "source": [
    "## Q 2.1 what about the three highest ratings (good, great, subperb) ? what is the overall most highest genre"
   ]
  },
  {
   "cell_type": "code",
   "execution_count": null,
   "id": "b6df1bc3",
   "metadata": {},
   "outputs": [],
   "source": [
    "fig, ax = plt.subplots(figsize = (14,4))\n",
    "ax.bar(to_1D(df_top3_rating[\"genres\"]).value_counts().iloc[:7].index,\n",
    "        to_1D(df_top3_rating[\"genres\"]).value_counts().iloc[:7].values)\n",
    "ax.set_ylabel(\"Frequency\", size = 12)\n",
    "ax.set_title(\"genres\", size = 14)"
   ]
  },
  {
   "cell_type": "markdown",
   "id": "ab66e13f",
   "metadata": {},
   "source": [
    "## Q 2.2 what about the three lowest ratings ((bad, very bad , awful)) ? what is the overall most highest genre in these low rating games?"
   ]
  },
  {
   "cell_type": "code",
   "execution_count": 61,
   "id": "f5837580",
   "metadata": {
    "scrolled": true
   },
   "outputs": [
    {
     "data": {
      "text/plain": [
       "Text(0.5, 1.0, 'platforms')"
      ]
     },
     "execution_count": 61,
     "metadata": {},
     "output_type": "execute_result"
    },
    {
     "data": {
      "image/png": "[encoded data removed]",
      "text/plain": [
       "<Figure size 1008x288 with 1 Axes>"
      ]
     },
     "metadata": {
      "needs_background": "light"
     },
     "output_type": "display_data"
    }
   ],
   "source": [
    "fig, ax = plt.subplots(figsize = (14,4))\n",
    "ax.bar(to_1D(df_low3_rating[\"genres\"]).value_counts().iloc[:7].index,\n",
    "        to_1D(df_low3_rating[\"genres\"]).value_counts().iloc[:7].values)\n",
    "ax.set_ylabel(\"Frequency\", size = 12)\n",
    "ax.set_title(\"platforms\", size = 14)"
   ]
  },
  {
   "cell_type": "code",
   "execution_count": 58,
   "id": "d8393ba3",
   "metadata": {
    "scrolled": true
   },
   "outputs": [
    {
     "data": {
      "text/html": [
       "<div>\n",
       "<style scoped>\n",
       "    .dataframe tbody tr th:only-of-type {\n",
       "        vertical-align: middle;\n",
       "    }\n",
       "\n",
       "    .dataframe tbody tr th {\n",
       "        vertical-align: top;\n",
       "    }\n",
       "\n",
       "    .dataframe thead th {\n",
       "        text-align: right;\n",
       "    }\n",
       "</style>\n",
       "<table border=\"1\" class=\"dataframe\">\n",
       "  <thead>\n",
       "    <tr style=\"text-align: right;\">\n",
       "      <th></th>\n",
       "      <th>id</th>\n",
       "      <th>category</th>\n",
       "      <th>created_at</th>\n",
       "      <th>external_games</th>\n",
       "      <th>first_release_date</th>\n",
       "      <th>genres</th>\n",
       "      <th>name</th>\n",
       "      <th>platforms</th>\n",
       "      <th>release_dates</th>\n",
       "      <th>similar_games</th>\n",
       "      <th>slug</th>\n",
       "      <th>summary</th>\n",
       "      <th>tags</th>\n",
       "      <th>updated_at</th>\n",
       "      <th>url</th>\n",
       "      <th>checksum_x</th>\n",
       "      <th>age_ratings</th>\n",
       "      <th>cover</th>\n",
       "      <th>involved_companies</th>\n",
       "      <th>screenshots</th>\n",
       "      <th>game_modes</th>\n",
       "      <th>player_perspectives</th>\n",
       "      <th>themes</th>\n",
       "      <th>websites</th>\n",
       "      <th>alternative_names</th>\n",
       "      <th>artworks</th>\n",
       "      <th>game_engines</th>\n",
       "      <th>keywords</th>\n",
       "      <th>status</th>\n",
       "      <th>videos</th>\n",
       "      <th>rating</th>\n",
       "      <th>rating_count</th>\n",
       "      <th>storyline</th>\n",
       "      <th>total_rating</th>\n",
       "      <th>total_rating_count</th>\n",
       "      <th>version_parent</th>\n",
       "      <th>version_title</th>\n",
       "      <th>hypes</th>\n",
       "      <th>collection</th>\n",
       "      <th>franchises</th>\n",
       "      <th>follows</th>\n",
       "      <th>aggregated_rating</th>\n",
       "      <th>aggregated_rating_count</th>\n",
       "      <th>dlcs</th>\n",
       "      <th>bundles</th>\n",
       "      <th>parent_game</th>\n",
       "      <th>franchise</th>\n",
       "      <th>multiplayer_modes</th>\n",
       "      <th>remakes</th>\n",
       "      <th>ports</th>\n",
       "      <th>expansions</th>\n",
       "      <th>expanded_games</th>\n",
       "      <th>remasters</th>\n",
       "      <th>forks</th>\n",
       "      <th>standalone_expansions</th>\n",
       "      <th>second</th>\n",
       "      <th>version_description</th>\n",
       "      <th>title_version</th>\n",
       "      <th>second_id</th>\n",
       "      <th>campaigncoop</th>\n",
       "      <th>dropin</th>\n",
       "      <th>lancoop</th>\n",
       "      <th>offlinecoop</th>\n",
       "      <th>offlinemax</th>\n",
       "      <th>onlinecoop</th>\n",
       "      <th>platform</th>\n",
       "      <th>splitscreen</th>\n",
       "      <th>checksum_y</th>\n",
       "      <th>offlinecoopmax</th>\n",
       "      <th>onlinecoopmax</th>\n",
       "      <th>onlinemax</th>\n",
       "      <th>rating_bin</th>\n",
       "    </tr>\n",
       "  </thead>\n",
       "  <tbody>\n",
       "    <tr>\n",
       "      <th>1855</th>\n",
       "      <td>3854</td>\n",
       "      <td>0</td>\n",
       "      <td>2014-01-19</td>\n",
       "      <td>[35445, 1744593, 1946817]</td>\n",
       "      <td>1.058400e+09</td>\n",
       "      <td>[racing]</td>\n",
       "      <td>Charinko Hero</td>\n",
       "      <td>[Nintendo GameCube]</td>\n",
       "      <td>[8811]</td>\n",
       "      <td>[96476, 103301, 105011, 109292, 111130, 113895...</td>\n",
       "      <td>charinko-hero</td>\n",
       "      <td>Charinko Hero is a Racing game, developed and ...</td>\n",
       "      <td>[1, 268435466, 536871308]</td>\n",
       "      <td>2020-11-06</td>\n",
       "      <td>https://www.igdb.com/games/charinko-hero</td>\n",
       "      <td>c9e8c906-4031-9530-70c2-6f4d85546065</td>\n",
       "      <td>None</td>\n",
       "      <td>4078.0</td>\n",
       "      <td>[10014]</td>\n",
       "      <td>None</td>\n",
       "      <td>[single-player, split-screen]</td>\n",
       "      <td>[Third person]</td>\n",
       "      <td>[Action]</td>\n",
       "      <td>None</td>\n",
       "      <td>[32596]</td>\n",
       "      <td>None</td>\n",
       "      <td>None</td>\n",
       "      <td>[396]</td>\n",
       "      <td>NaN</td>\n",
       "      <td>None</td>\n",
       "      <td>16.0</td>\n",
       "      <td>0</td>\n",
       "      <td>None</td>\n",
       "      <td>16.0</td>\n",
       "      <td>0</td>\n",
       "      <td>NaN</td>\n",
       "      <td>None</td>\n",
       "      <td>NaN</td>\n",
       "      <td>NaN</td>\n",
       "      <td>None</td>\n",
       "      <td>NaN</td>\n",
       "      <td>NaN</td>\n",
       "      <td>NaN</td>\n",
       "      <td>None</td>\n",
       "      <td>None</td>\n",
       "      <td>NaN</td>\n",
       "      <td>NaN</td>\n",
       "      <td>None</td>\n",
       "      <td>None</td>\n",
       "      <td>None</td>\n",
       "      <td>None</td>\n",
       "      <td>None</td>\n",
       "      <td>None</td>\n",
       "      <td>None</td>\n",
       "      <td>None</td>\n",
       "      <td>NaN</td>\n",
       "      <td>None</td>\n",
       "      <td>None</td>\n",
       "      <td>NaN</td>\n",
       "      <td>False</td>\n",
       "      <td>False</td>\n",
       "      <td>False</td>\n",
       "      <td>False</td>\n",
       "      <td>0</td>\n",
       "      <td>False</td>\n",
       "      <td>NaN</td>\n",
       "      <td>False</td>\n",
       "      <td>None</td>\n",
       "      <td>0</td>\n",
       "      <td>0</td>\n",
       "      <td>0</td>\n",
       "      <td>very_bad</td>\n",
       "    </tr>\n",
       "    <tr>\n",
       "      <th>2270</th>\n",
       "      <td>88344</td>\n",
       "      <td>0</td>\n",
       "      <td>2018-02-21</td>\n",
       "      <td>[224288, 240667, 1992847]</td>\n",
       "      <td>NaN</td>\n",
       "      <td>[Not available]</td>\n",
       "      <td>Lola's ABC Party - Learn to Read</td>\n",
       "      <td>[Not available]</td>\n",
       "      <td>None</td>\n",
       "      <td>None</td>\n",
       "      <td>lolas-abc-party-learn-to-read</td>\n",
       "      <td>None</td>\n",
       "      <td>None</td>\n",
       "      <td>2020-11-06</td>\n",
       "      <td>https://www.igdb.com/games/lolas-abc-party-lea...</td>\n",
       "      <td>07ee8340-7fd4-d10a-faf7-5ed2836cae44</td>\n",
       "      <td>None</td>\n",
       "      <td>NaN</td>\n",
       "      <td>None</td>\n",
       "      <td>None</td>\n",
       "      <td>[Not available]</td>\n",
       "      <td>[Not available]</td>\n",
       "      <td>[Not available]</td>\n",
       "      <td>None</td>\n",
       "      <td>None</td>\n",
       "      <td>None</td>\n",
       "      <td>None</td>\n",
       "      <td>None</td>\n",
       "      <td>NaN</td>\n",
       "      <td>None</td>\n",
       "      <td>20.0</td>\n",
       "      <td>0</td>\n",
       "      <td>None</td>\n",
       "      <td>20.0</td>\n",
       "      <td>0</td>\n",
       "      <td>NaN</td>\n",
       "      <td>None</td>\n",
       "      <td>NaN</td>\n",
       "      <td>NaN</td>\n",
       "      <td>None</td>\n",
       "      <td>NaN</td>\n",
       "      <td>NaN</td>\n",
       "      <td>NaN</td>\n",
       "      <td>None</td>\n",
       "      <td>None</td>\n",
       "      <td>NaN</td>\n",
       "      <td>NaN</td>\n",
       "      <td>None</td>\n",
       "      <td>None</td>\n",
       "      <td>None</td>\n",
       "      <td>None</td>\n",
       "      <td>None</td>\n",
       "      <td>None</td>\n",
       "      <td>None</td>\n",
       "      <td>None</td>\n",
       "      <td>NaN</td>\n",
       "      <td>None</td>\n",
       "      <td>None</td>\n",
       "      <td>NaN</td>\n",
       "      <td>False</td>\n",
       "      <td>False</td>\n",
       "      <td>False</td>\n",
       "      <td>False</td>\n",
       "      <td>0</td>\n",
       "      <td>False</td>\n",
       "      <td>NaN</td>\n",
       "      <td>False</td>\n",
       "      <td>None</td>\n",
       "      <td>0</td>\n",
       "      <td>0</td>\n",
       "      <td>0</td>\n",
       "      <td>very_bad</td>\n",
       "    </tr>\n",
       "    <tr>\n",
       "      <th>3142</th>\n",
       "      <td>90820</td>\n",
       "      <td>0</td>\n",
       "      <td>2018-03-13</td>\n",
       "      <td>[287523, 1994803]</td>\n",
       "      <td>NaN</td>\n",
       "      <td>[Not available]</td>\n",
       "      <td>Minimonsters Crush</td>\n",
       "      <td>[Not available]</td>\n",
       "      <td>None</td>\n",
       "      <td>None</td>\n",
       "      <td>minimonsters-crush</td>\n",
       "      <td>None</td>\n",
       "      <td>None</td>\n",
       "      <td>2020-11-06</td>\n",
       "      <td>https://www.igdb.com/games/minimonsters-crush</td>\n",
       "      <td>9d2a81dc-4846-0bdb-a115-c95551febecd</td>\n",
       "      <td>None</td>\n",
       "      <td>NaN</td>\n",
       "      <td>None</td>\n",
       "      <td>None</td>\n",
       "      <td>[Not available]</td>\n",
       "      <td>[Not available]</td>\n",
       "      <td>[Not available]</td>\n",
       "      <td>None</td>\n",
       "      <td>None</td>\n",
       "      <td>None</td>\n",
       "      <td>None</td>\n",
       "      <td>None</td>\n",
       "      <td>NaN</td>\n",
       "      <td>None</td>\n",
       "      <td>20.0</td>\n",
       "      <td>0</td>\n",
       "      <td>None</td>\n",
       "      <td>20.0</td>\n",
       "      <td>0</td>\n",
       "      <td>NaN</td>\n",
       "      <td>None</td>\n",
       "      <td>NaN</td>\n",
       "      <td>NaN</td>\n",
       "      <td>None</td>\n",
       "      <td>NaN</td>\n",
       "      <td>NaN</td>\n",
       "      <td>NaN</td>\n",
       "      <td>None</td>\n",
       "      <td>None</td>\n",
       "      <td>NaN</td>\n",
       "      <td>NaN</td>\n",
       "      <td>None</td>\n",
       "      <td>None</td>\n",
       "      <td>None</td>\n",
       "      <td>None</td>\n",
       "      <td>None</td>\n",
       "      <td>None</td>\n",
       "      <td>None</td>\n",
       "      <td>None</td>\n",
       "      <td>NaN</td>\n",
       "      <td>None</td>\n",
       "      <td>None</td>\n",
       "      <td>NaN</td>\n",
       "      <td>False</td>\n",
       "      <td>False</td>\n",
       "      <td>False</td>\n",
       "      <td>False</td>\n",
       "      <td>0</td>\n",
       "      <td>False</td>\n",
       "      <td>NaN</td>\n",
       "      <td>False</td>\n",
       "      <td>None</td>\n",
       "      <td>0</td>\n",
       "      <td>0</td>\n",
       "      <td>0</td>\n",
       "      <td>very_bad</td>\n",
       "    </tr>\n",
       "    <tr>\n",
       "      <th>3252</th>\n",
       "      <td>95527</td>\n",
       "      <td>0</td>\n",
       "      <td>2018-03-24</td>\n",
       "      <td>[340180, 1967131]</td>\n",
       "      <td>NaN</td>\n",
       "      <td>[Not available]</td>\n",
       "      <td>Vuzzl - Create Animated Jigsaw Puzzles</td>\n",
       "      <td>[Not available]</td>\n",
       "      <td>None</td>\n",
       "      <td>None</td>\n",
       "      <td>vuzzl-create-animated-jigsaw-puzzles</td>\n",
       "      <td>None</td>\n",
       "      <td>None</td>\n",
       "      <td>2020-11-06</td>\n",
       "      <td>https://www.igdb.com/games/vuzzl-create-animat...</td>\n",
       "      <td>bc0d790d-c817-1a23-bdda-8f102daa1843</td>\n",
       "      <td>None</td>\n",
       "      <td>NaN</td>\n",
       "      <td>None</td>\n",
       "      <td>None</td>\n",
       "      <td>[Not available]</td>\n",
       "      <td>[Not available]</td>\n",
       "      <td>[Not available]</td>\n",
       "      <td>None</td>\n",
       "      <td>None</td>\n",
       "      <td>None</td>\n",
       "      <td>None</td>\n",
       "      <td>None</td>\n",
       "      <td>NaN</td>\n",
       "      <td>None</td>\n",
       "      <td>20.0</td>\n",
       "      <td>0</td>\n",
       "      <td>None</td>\n",
       "      <td>20.0</td>\n",
       "      <td>0</td>\n",
       "      <td>NaN</td>\n",
       "      <td>None</td>\n",
       "      <td>NaN</td>\n",
       "      <td>NaN</td>\n",
       "      <td>None</td>\n",
       "      <td>NaN</td>\n",
       "      <td>NaN</td>\n",
       "      <td>NaN</td>\n",
       "      <td>None</td>\n",
       "      <td>None</td>\n",
       "      <td>NaN</td>\n",
       "      <td>NaN</td>\n",
       "      <td>None</td>\n",
       "      <td>None</td>\n",
       "      <td>None</td>\n",
       "      <td>None</td>\n",
       "      <td>None</td>\n",
       "      <td>None</td>\n",
       "      <td>None</td>\n",
       "      <td>None</td>\n",
       "      <td>NaN</td>\n",
       "      <td>None</td>\n",
       "      <td>None</td>\n",
       "      <td>NaN</td>\n",
       "      <td>False</td>\n",
       "      <td>False</td>\n",
       "      <td>False</td>\n",
       "      <td>False</td>\n",
       "      <td>0</td>\n",
       "      <td>False</td>\n",
       "      <td>NaN</td>\n",
       "      <td>False</td>\n",
       "      <td>None</td>\n",
       "      <td>0</td>\n",
       "      <td>0</td>\n",
       "      <td>0</td>\n",
       "      <td>very_bad</td>\n",
       "    </tr>\n",
       "    <tr>\n",
       "      <th>4490</th>\n",
       "      <td>92092</td>\n",
       "      <td>0</td>\n",
       "      <td>2018-03-16</td>\n",
       "      <td>[316488, 1947110]</td>\n",
       "      <td>NaN</td>\n",
       "      <td>[Not available]</td>\n",
       "      <td>Funtoon's World HD</td>\n",
       "      <td>[Not available]</td>\n",
       "      <td>None</td>\n",
       "      <td>None</td>\n",
       "      <td>funtoons-world-hd</td>\n",
       "      <td>None</td>\n",
       "      <td>None</td>\n",
       "      <td>2020-11-06</td>\n",
       "      <td>https://www.igdb.com/games/funtoons-world-hd</td>\n",
       "      <td>6484c567-e288-985d-95ba-e692eb63b50f</td>\n",
       "      <td>None</td>\n",
       "      <td>NaN</td>\n",
       "      <td>None</td>\n",
       "      <td>None</td>\n",
       "      <td>[Not available]</td>\n",
       "      <td>[Not available]</td>\n",
       "      <td>[Not available]</td>\n",
       "      <td>None</td>\n",
       "      <td>None</td>\n",
       "      <td>None</td>\n",
       "      <td>None</td>\n",
       "      <td>None</td>\n",
       "      <td>NaN</td>\n",
       "      <td>None</td>\n",
       "      <td>20.0</td>\n",
       "      <td>0</td>\n",
       "      <td>None</td>\n",
       "      <td>20.0</td>\n",
       "      <td>0</td>\n",
       "      <td>NaN</td>\n",
       "      <td>None</td>\n",
       "      <td>NaN</td>\n",
       "      <td>NaN</td>\n",
       "      <td>None</td>\n",
       "      <td>NaN</td>\n",
       "      <td>NaN</td>\n",
       "      <td>NaN</td>\n",
       "      <td>None</td>\n",
       "      <td>None</td>\n",
       "      <td>NaN</td>\n",
       "      <td>NaN</td>\n",
       "      <td>None</td>\n",
       "      <td>None</td>\n",
       "      <td>None</td>\n",
       "      <td>None</td>\n",
       "      <td>None</td>\n",
       "      <td>None</td>\n",
       "      <td>None</td>\n",
       "      <td>None</td>\n",
       "      <td>NaN</td>\n",
       "      <td>None</td>\n",
       "      <td>None</td>\n",
       "      <td>NaN</td>\n",
       "      <td>False</td>\n",
       "      <td>False</td>\n",
       "      <td>False</td>\n",
       "      <td>False</td>\n",
       "      <td>0</td>\n",
       "      <td>False</td>\n",
       "      <td>NaN</td>\n",
       "      <td>False</td>\n",
       "      <td>None</td>\n",
       "      <td>0</td>\n",
       "      <td>0</td>\n",
       "      <td>0</td>\n",
       "      <td>very_bad</td>\n",
       "    </tr>\n",
       "  </tbody>\n",
       "</table>\n",
       "</div>"
      ],
      "text/plain": [
       "         id  category created_at             external_games  \\\n",
       "1855   3854         0 2014-01-19  [35445, 1744593, 1946817]   \n",
       "2270  88344         0 2018-02-21  [224288, 240667, 1992847]   \n",
       "3142  90820         0 2018-03-13          [287523, 1994803]   \n",
       "3252  95527         0 2018-03-24          [340180, 1967131]   \n",
       "4490  92092         0 2018-03-16          [316488, 1947110]   \n",
       "\n",
       "      first_release_date           genres  \\\n",
       "1855        1.058400e+09         [racing]   \n",
       "2270                 NaN  [Not available]   \n",
       "3142                 NaN  [Not available]   \n",
       "3252                 NaN  [Not available]   \n",
       "4490                 NaN  [Not available]   \n",
       "\n",
       "                                        name            platforms  \\\n",
       "1855                           Charinko Hero  [Nintendo GameCube]   \n",
       "2270        Lola's ABC Party - Learn to Read      [Not available]   \n",
       "3142                      Minimonsters Crush      [Not available]   \n",
       "3252  Vuzzl - Create Animated Jigsaw Puzzles      [Not available]   \n",
       "4490                      Funtoon's World HD      [Not available]   \n",
       "\n",
       "     release_dates                                      similar_games  \\\n",
       "1855        [8811]  [96476, 103301, 105011, 109292, 111130, 113895...   \n",
       "2270          None                                               None   \n",
       "3142          None                                               None   \n",
       "3252          None                                               None   \n",
       "4490          None                                               None   \n",
       "\n",
       "                                      slug  \\\n",
       "1855                         charinko-hero   \n",
       "2270         lolas-abc-party-learn-to-read   \n",
       "3142                    minimonsters-crush   \n",
       "3252  vuzzl-create-animated-jigsaw-puzzles   \n",
       "4490                     funtoons-world-hd   \n",
       "\n",
       "                                                summary  \\\n",
       "1855  Charinko Hero is a Racing game, developed and ...   \n",
       "2270                                               None   \n",
       "3142                                               None   \n",
       "3252                                               None   \n",
       "4490                                               None   \n",
       "\n",
       "                           tags updated_at  \\\n",
       "1855  [1, 268435466, 536871308] 2020-11-06   \n",
       "2270                       None 2020-11-06   \n",
       "3142                       None 2020-11-06   \n",
       "3252                       None 2020-11-06   \n",
       "4490                       None 2020-11-06   \n",
       "\n",
       "                                                    url  \\\n",
       "1855           https://www.igdb.com/games/charinko-hero   \n",
       "2270  https://www.igdb.com/games/lolas-abc-party-lea...   \n",
       "3142      https://www.igdb.com/games/minimonsters-crush   \n",
       "3252  https://www.igdb.com/games/vuzzl-create-animat...   \n",
       "4490       https://www.igdb.com/games/funtoons-world-hd   \n",
       "\n",
       "                                checksum_x age_ratings   cover  \\\n",
       "1855  c9e8c906-4031-9530-70c2-6f4d85546065        None  4078.0   \n",
       "2270  07ee8340-7fd4-d10a-faf7-5ed2836cae44        None     NaN   \n",
       "3142  9d2a81dc-4846-0bdb-a115-c95551febecd        None     NaN   \n",
       "3252  bc0d790d-c817-1a23-bdda-8f102daa1843        None     NaN   \n",
       "4490  6484c567-e288-985d-95ba-e692eb63b50f        None     NaN   \n",
       "\n",
       "     involved_companies screenshots                     game_modes  \\\n",
       "1855            [10014]        None  [single-player, split-screen]   \n",
       "2270               None        None                [Not available]   \n",
       "3142               None        None                [Not available]   \n",
       "3252               None        None                [Not available]   \n",
       "4490               None        None                [Not available]   \n",
       "\n",
       "     player_perspectives           themes websites alternative_names artworks  \\\n",
       "1855      [Third person]         [Action]     None           [32596]     None   \n",
       "2270     [Not available]  [Not available]     None              None     None   \n",
       "3142     [Not available]  [Not available]     None              None     None   \n",
       "3252     [Not available]  [Not available]     None              None     None   \n",
       "4490     [Not available]  [Not available]     None              None     None   \n",
       "\n",
       "     game_engines keywords  status videos  rating  rating_count storyline  \\\n",
       "1855         None    [396]     NaN   None    16.0             0      None   \n",
       "2270         None     None     NaN   None    20.0             0      None   \n",
       "3142         None     None     NaN   None    20.0             0      None   \n",
       "3252         None     None     NaN   None    20.0             0      None   \n",
       "4490         None     None     NaN   None    20.0             0      None   \n",
       "\n",
       "      total_rating  total_rating_count  version_parent version_title  hypes  \\\n",
       "1855          16.0                   0             NaN          None    NaN   \n",
       "2270          20.0                   0             NaN          None    NaN   \n",
       "3142          20.0                   0             NaN          None    NaN   \n",
       "3252          20.0                   0             NaN          None    NaN   \n",
       "4490          20.0                   0             NaN          None    NaN   \n",
       "\n",
       "      collection franchises  follows  aggregated_rating  \\\n",
       "1855         NaN       None      NaN                NaN   \n",
       "2270         NaN       None      NaN                NaN   \n",
       "3142         NaN       None      NaN                NaN   \n",
       "3252         NaN       None      NaN                NaN   \n",
       "4490         NaN       None      NaN                NaN   \n",
       "\n",
       "      aggregated_rating_count  dlcs bundles  parent_game  franchise  \\\n",
       "1855                      NaN  None    None          NaN        NaN   \n",
       "2270                      NaN  None    None          NaN        NaN   \n",
       "3142                      NaN  None    None          NaN        NaN   \n",
       "3252                      NaN  None    None          NaN        NaN   \n",
       "4490                      NaN  None    None          NaN        NaN   \n",
       "\n",
       "     multiplayer_modes remakes ports expansions expanded_games remasters  \\\n",
       "1855              None    None  None       None           None      None   \n",
       "2270              None    None  None       None           None      None   \n",
       "3142              None    None  None       None           None      None   \n",
       "3252              None    None  None       None           None      None   \n",
       "4490              None    None  None       None           None      None   \n",
       "\n",
       "     forks standalone_expansions  second version_description title_version  \\\n",
       "1855  None                  None     NaN                None          None   \n",
       "2270  None                  None     NaN                None          None   \n",
       "3142  None                  None     NaN                None          None   \n",
       "3252  None                  None     NaN                None          None   \n",
       "4490  None                  None     NaN                None          None   \n",
       "\n",
       "      second_id  campaigncoop  dropin  lancoop  offlinecoop  offlinemax  \\\n",
       "1855        NaN         False   False    False        False           0   \n",
       "2270        NaN         False   False    False        False           0   \n",
       "3142        NaN         False   False    False        False           0   \n",
       "3252        NaN         False   False    False        False           0   \n",
       "4490        NaN         False   False    False        False           0   \n",
       "\n",
       "      onlinecoop  platform  splitscreen checksum_y  offlinecoopmax  \\\n",
       "1855       False       NaN        False       None               0   \n",
       "2270       False       NaN        False       None               0   \n",
       "3142       False       NaN        False       None               0   \n",
       "3252       False       NaN        False       None               0   \n",
       "4490       False       NaN        False       None               0   \n",
       "\n",
       "      onlinecoopmax  onlinemax rating_bin  \n",
       "1855              0          0   very_bad  \n",
       "2270              0          0   very_bad  \n",
       "3142              0          0   very_bad  \n",
       "3252              0          0   very_bad  \n",
       "4490              0          0   very_bad  "
      ]
     },
     "execution_count": 58,
     "metadata": {},
     "output_type": "execute_result"
    }
   ],
   "source": [
    "df_low2_rating = df2[(df2['rating_bin']== 'very_bad') | (df2['rating_bin']== 'awful')]\n",
    "df_low2_rating.head()"
   ]
  },
  {
   "cell_type": "code",
   "execution_count": 60,
   "id": "8a62415a",
   "metadata": {},
   "outputs": [
    {
     "data": {
      "text/plain": [
       "Text(0.5, 1.0, 'platforms')"
      ]
     },
     "execution_count": 60,
     "metadata": {},
     "output_type": "execute_result"
    },
    {
     "data": {
      "image/png": "[encoded data removed]",
      "text/plain": [
       "<Figure size 1008x288 with 1 Axes>"
      ]
     },
     "metadata": {
      "needs_background": "light"
     },
     "output_type": "display_data"
    }
   ],
   "source": [
    "fig, ax = plt.subplots(figsize = (14,4))\n",
    "ax.bar(to_1D(df_low2_rating[\"genres\"]).value_counts().iloc[:7].index,\n",
    "        to_1D(df_low2_rating[\"genres\"]).value_counts().iloc[:7].values)\n",
    "ax.set_ylabel(\"Frequency\", size = 12)\n",
    "ax.set_title(\"platforms\", size = 14)"
   ]
  },
  {
   "cell_type": "code",
   "execution_count": null,
   "id": "5b031c82",
   "metadata": {},
   "outputs": [],
   "source": []
  },
  {
   "cell_type": "markdown",
   "id": "840678cf",
   "metadata": {},
   "source": [
    "### Q 2.2 what about the three lowest ratings (awful) ? what is the overall most highest genre in these low rating games?"
   ]
  },
  {
   "cell_type": "code",
   "execution_count": 62,
   "id": "4a40e8cb",
   "metadata": {},
   "outputs": [
    {
     "data": {
      "text/html": [
       "<div>\n",
       "<style scoped>\n",
       "    .dataframe tbody tr th:only-of-type {\n",
       "        vertical-align: middle;\n",
       "    }\n",
       "\n",
       "    .dataframe tbody tr th {\n",
       "        vertical-align: top;\n",
       "    }\n",
       "\n",
       "    .dataframe thead th {\n",
       "        text-align: right;\n",
       "    }\n",
       "</style>\n",
       "<table border=\"1\" class=\"dataframe\">\n",
       "  <thead>\n",
       "    <tr style=\"text-align: right;\">\n",
       "      <th></th>\n",
       "      <th>id</th>\n",
       "      <th>category</th>\n",
       "      <th>created_at</th>\n",
       "      <th>external_games</th>\n",
       "      <th>first_release_date</th>\n",
       "      <th>genres</th>\n",
       "      <th>name</th>\n",
       "      <th>platforms</th>\n",
       "      <th>release_dates</th>\n",
       "      <th>similar_games</th>\n",
       "      <th>slug</th>\n",
       "      <th>summary</th>\n",
       "      <th>tags</th>\n",
       "      <th>updated_at</th>\n",
       "      <th>url</th>\n",
       "      <th>checksum_x</th>\n",
       "      <th>age_ratings</th>\n",
       "      <th>cover</th>\n",
       "      <th>involved_companies</th>\n",
       "      <th>screenshots</th>\n",
       "      <th>game_modes</th>\n",
       "      <th>player_perspectives</th>\n",
       "      <th>themes</th>\n",
       "      <th>websites</th>\n",
       "      <th>alternative_names</th>\n",
       "      <th>artworks</th>\n",
       "      <th>game_engines</th>\n",
       "      <th>keywords</th>\n",
       "      <th>status</th>\n",
       "      <th>videos</th>\n",
       "      <th>rating</th>\n",
       "      <th>rating_count</th>\n",
       "      <th>storyline</th>\n",
       "      <th>total_rating</th>\n",
       "      <th>total_rating_count</th>\n",
       "      <th>version_parent</th>\n",
       "      <th>version_title</th>\n",
       "      <th>hypes</th>\n",
       "      <th>collection</th>\n",
       "      <th>franchises</th>\n",
       "      <th>follows</th>\n",
       "      <th>aggregated_rating</th>\n",
       "      <th>aggregated_rating_count</th>\n",
       "      <th>dlcs</th>\n",
       "      <th>bundles</th>\n",
       "      <th>parent_game</th>\n",
       "      <th>franchise</th>\n",
       "      <th>multiplayer_modes</th>\n",
       "      <th>remakes</th>\n",
       "      <th>ports</th>\n",
       "      <th>expansions</th>\n",
       "      <th>expanded_games</th>\n",
       "      <th>remasters</th>\n",
       "      <th>forks</th>\n",
       "      <th>standalone_expansions</th>\n",
       "      <th>second</th>\n",
       "      <th>version_description</th>\n",
       "      <th>title_version</th>\n",
       "      <th>second_id</th>\n",
       "      <th>campaigncoop</th>\n",
       "      <th>dropin</th>\n",
       "      <th>lancoop</th>\n",
       "      <th>offlinecoop</th>\n",
       "      <th>offlinemax</th>\n",
       "      <th>onlinecoop</th>\n",
       "      <th>platform</th>\n",
       "      <th>splitscreen</th>\n",
       "      <th>checksum_y</th>\n",
       "      <th>offlinecoopmax</th>\n",
       "      <th>onlinecoopmax</th>\n",
       "      <th>onlinemax</th>\n",
       "      <th>rating_bin</th>\n",
       "    </tr>\n",
       "  </thead>\n",
       "  <tbody>\n",
       "  </tbody>\n",
       "</table>\n",
       "</div>"
      ],
      "text/plain": [
       "Empty DataFrame\n",
       "Columns: [id, category, created_at, external_games, first_release_date, genres, name, platforms, release_dates, similar_games, slug, summary, tags, updated_at, url, checksum_x, age_ratings, cover, involved_companies, screenshots, game_modes, player_perspectives, themes, websites, alternative_names, artworks, game_engines, keywords, status, videos, rating, rating_count, storyline, total_rating, total_rating_count, version_parent, version_title, hypes, collection, franchises, follows, aggregated_rating, aggregated_rating_count, dlcs, bundles, parent_game, franchise, multiplayer_modes, remakes, ports, expansions, expanded_games, remasters, forks, standalone_expansions, second, version_description, title_version, second_id, campaigncoop, dropin, lancoop, offlinecoop, offlinemax, onlinecoop, platform, splitscreen, checksum_y, offlinecoopmax, onlinecoopmax, onlinemax, rating_bin]\n",
       "Index: []"
      ]
     },
     "execution_count": 62,
     "metadata": {},
     "output_type": "execute_result"
    }
   ],
   "source": [
    "df_awful_rating = train[train['rating_bin']== 'awful']\n",
    "df_awful_rating.head()"
   ]
  },
  {
   "cell_type": "code",
   "execution_count": 44,
   "id": "9d3c1063",
   "metadata": {},
   "outputs": [
    {
     "data": {
      "text/plain": [
       "good            32509\n",
       "alright         22793\n",
       "great           13936\n",
       "fair             9051\n",
       "average          6391\n",
       "unimpressive     2263\n",
       "subperb           909\n",
       "bad               889\n",
       "very_bad           99\n",
       "Name: rating_bin, dtype: int64"
      ]
     },
     "execution_count": 44,
     "metadata": {},
     "output_type": "execute_result"
    }
   ],
   "source": [
    "train.rating_bin.value_counts()"
   ]
  },
  {
   "cell_type": "markdown",
   "id": "18a69a2d",
   "metadata": {},
   "source": [
    "# Q3- what is the most common theme in games that are subperb (the highest rating)"
   ]
  },
  {
   "cell_type": "markdown",
   "id": "74003c51",
   "metadata": {},
   "source": [
    "Answer - the most common themes in the subperb is action, fantasy, science fiction, historical."
   ]
  },
  {
   "cell_type": "code",
   "execution_count": 134,
   "id": "b8cc1f70",
   "metadata": {},
   "outputs": [
    {
     "data": {
      "text/plain": [
       "Text(0.5, 1.0, 'Most common themes in superb games')"
      ]
     },
     "execution_count": 134,
     "metadata": {},
     "output_type": "execute_result"
    },
    {
     "data": {
      "image/png": "[encoded data removed]",
      "text/plain": [
       "<Figure size 1008x432 with 1 Axes>"
      ]
     },
     "metadata": {},
     "output_type": "display_data"
    }
   ],
   "source": [
    "fig, ax = plt.subplots(figsize = (14,6))\n",
    "ax.bar(to_1D(df_subperb_rating[\"themes\"]).value_counts().iloc[:4].index,\n",
    "        to_1D(df_subperb_rating[\"themes\"]).value_counts().iloc[:4].values,\n",
    "           color= ['purple'])\n",
    "ax.set_ylabel(\"Frequency\", size = 20)\n",
    "ax.set_title(\"Most common themes in superb games\", size = 20)"
   ]
  },
  {
   "cell_type": "code",
   "execution_count": 132,
   "id": "e58d2f41",
   "metadata": {},
   "outputs": [
    {
     "data": {
      "text/plain": [
       "Index([['Action', 'Science fiction'],             ['Not available'],\n",
       "                          ['Action'],         ['Action', 'Fantasy']],\n",
       "      dtype='object')"
      ]
     },
     "execution_count": 132,
     "metadata": {},
     "output_type": "execute_result"
    }
   ],
   "source": [
    "df_subperb_rating[\"themes\"].value_counts().iloc[:4].index"
   ]
  },
  {
   "cell_type": "code",
   "execution_count": null,
   "id": "75c82fae",
   "metadata": {},
   "outputs": [],
   "source": []
  },
  {
   "cell_type": "code",
   "execution_count": null,
   "id": "1fb17491",
   "metadata": {},
   "outputs": [],
   "source": []
  },
  {
   "cell_type": "markdown",
   "id": "fbb47346",
   "metadata": {},
   "source": [
    "## Q3.1- what is the most common theme in games that are three highest ratings (good, great, subperb)?"
   ]
  },
  {
   "cell_type": "code",
   "execution_count": 64,
   "id": "fa216673",
   "metadata": {},
   "outputs": [
    {
     "ename": "NameError",
     "evalue": "name 'df_top3_rating' is not defined",
     "output_type": "error",
     "traceback": [
      "\u001b[0;31m---------------------------------------------------------------------------\u001b[0m",
      "\u001b[0;31mNameError\u001b[0m                                 Traceback (most recent call last)",
      "Input \u001b[0;32mIn [64]\u001b[0m, in \u001b[0;36m<cell line: 2>\u001b[0;34m()\u001b[0m\n\u001b[1;32m      1\u001b[0m fig, ax \u001b[38;5;241m=\u001b[39m plt\u001b[38;5;241m.\u001b[39msubplots(figsize \u001b[38;5;241m=\u001b[39m (\u001b[38;5;241m14\u001b[39m,\u001b[38;5;241m4\u001b[39m))\n\u001b[0;32m----> 2\u001b[0m ax\u001b[38;5;241m.\u001b[39mbar(to_1D(\u001b[43mdf_top3_rating\u001b[49m[\u001b[38;5;124m\"\u001b[39m\u001b[38;5;124mthemes\u001b[39m\u001b[38;5;124m\"\u001b[39m])\u001b[38;5;241m.\u001b[39mvalue_counts()\u001b[38;5;241m.\u001b[39miloc[:\u001b[38;5;241m7\u001b[39m]\u001b[38;5;241m.\u001b[39mindex,\n\u001b[1;32m      3\u001b[0m         to_1D(df_top3_rating[\u001b[38;5;124m\"\u001b[39m\u001b[38;5;124mthemes\u001b[39m\u001b[38;5;124m\"\u001b[39m])\u001b[38;5;241m.\u001b[39mvalue_counts()\u001b[38;5;241m.\u001b[39miloc[:\u001b[38;5;241m7\u001b[39m]\u001b[38;5;241m.\u001b[39mvalues)\n\u001b[1;32m      4\u001b[0m ax\u001b[38;5;241m.\u001b[39mset_ylabel(\u001b[38;5;124m\"\u001b[39m\u001b[38;5;124mFrequency\u001b[39m\u001b[38;5;124m\"\u001b[39m, size \u001b[38;5;241m=\u001b[39m \u001b[38;5;241m12\u001b[39m)\n\u001b[1;32m      5\u001b[0m ax\u001b[38;5;241m.\u001b[39mset_title(\u001b[38;5;124m\"\u001b[39m\u001b[38;5;124mThemes\u001b[39m\u001b[38;5;124m\"\u001b[39m, size \u001b[38;5;241m=\u001b[39m \u001b[38;5;241m14\u001b[39m)\n",
      "\u001b[0;31mNameError\u001b[0m: name 'df_top3_rating' is not defined"
     ]
    },
    {
     "data": {
      "image/png": "[encoded data removed]",
      "text/plain": [
       "<Figure size 1008x288 with 1 Axes>"
      ]
     },
     "metadata": {
      "needs_background": "light"
     },
     "output_type": "display_data"
    }
   ],
   "source": [
    "fig, ax = plt.subplots(figsize = (14,4))\n",
    "ax.bar(to_1D(df_top3_rating[\"themes\"]).value_counts().iloc[:7].index,\n",
    "        to_1D(df_top3_rating[\"themes\"]).value_counts().iloc[:7].values)\n",
    "ax.set_ylabel(\"Frequency\", size = 12)\n",
    "ax.set_title(\"Themes\", size = 14)"
   ]
  },
  {
   "cell_type": "markdown",
   "id": "8eb0a738",
   "metadata": {},
   "source": [
    "## Q3.1- what is the most common theme in games that are three lowest ratings ((bad, very bad , awful)) ?"
   ]
  },
  {
   "cell_type": "code",
   "execution_count": 68,
   "id": "6fd627ff",
   "metadata": {
    "scrolled": true
   },
   "outputs": [
    {
     "data": {
      "text/plain": [
       "Text(0.5, 1.0, 'Themes')"
      ]
     },
     "execution_count": 68,
     "metadata": {},
     "output_type": "execute_result"
    },
    {
     "data": {
      "image/png": "[encoded data removed]",
      "text/plain": [
       "<Figure size 1008x288 with 1 Axes>"
      ]
     },
     "metadata": {
      "needs_background": "light"
     },
     "output_type": "display_data"
    }
   ],
   "source": [
    "fig, ax = plt.subplots(figsize = (14,4))\n",
    "ax.bar(to_1D(df_low3_rating[\"themes\"]).value_counts().iloc[:7].index,\n",
    "        to_1D(df_low3_rating[\"themes\"]).value_counts().iloc[:7].values)\n",
    "ax.set_ylabel(\"Frequency\", size = 12)\n",
    "ax.set_title(\"Themes\", size = 14)"
   ]
  },
  {
   "cell_type": "code",
   "execution_count": 78,
   "id": "364758b4",
   "metadata": {},
   "outputs": [
    {
     "data": {
      "text/plain": [
       "Index([    ['Action', 'Non-fiction'], ['Action', 'Science fiction'],\n",
       "                   ['Not available'],                    ['Action'],\n",
       "                ['Action', 'Horror'],           ['Science fiction'],\n",
       "                     ['Non-fiction']],\n",
       "      dtype='object')"
      ]
     },
     "execution_count": 78,
     "metadata": {},
     "output_type": "execute_result"
    }
   ],
   "source": [
    "df_low3_rating[\"themes\"].value_counts().iloc[:7].index"
   ]
  },
  {
   "cell_type": "code",
   "execution_count": 79,
   "id": "a5b2cd21",
   "metadata": {},
   "outputs": [
    {
     "data": {
      "text/plain": [
       "array([819, 421, 283, 130,   9,   7,   7])"
      ]
     },
     "execution_count": 79,
     "metadata": {},
     "output_type": "execute_result"
    }
   ],
   "source": [
    "df_low3_rating[\"themes\"].value_counts().iloc[:7].values"
   ]
  },
  {
   "cell_type": "code",
   "execution_count": null,
   "id": "e6505b5a",
   "metadata": {},
   "outputs": [],
   "source": []
  },
  {
   "cell_type": "code",
   "execution_count": 75,
   "id": "f496d611",
   "metadata": {},
   "outputs": [
    {
     "data": {
      "text/plain": [
       "Index(['Action', 'Non-fiction', 'Science fiction', 'Not available', 'Horror',\n",
       "       'Fantasy', 'Comedy'],\n",
       "      dtype='object')"
      ]
     },
     "execution_count": 75,
     "metadata": {},
     "output_type": "execute_result"
    }
   ],
   "source": [
    "to_1D(df_low3_rating[\"themes\"]).value_counts().iloc[:7].index"
   ]
  },
  {
   "cell_type": "code",
   "execution_count": 74,
   "id": "3df56391",
   "metadata": {},
   "outputs": [
    {
     "data": {
      "text/plain": [
       "array([1413,  827,  438,  283,   24,   17,   11])"
      ]
     },
     "execution_count": 74,
     "metadata": {},
     "output_type": "execute_result"
    }
   ],
   "source": [
    "to_1D(df_low3_rating[\"themes\"]).value_counts().iloc[:7].values"
   ]
  },
  {
   "cell_type": "code",
   "execution_count": 91,
   "id": "c6d657a6",
   "metadata": {},
   "outputs": [
    {
     "data": {
      "application/vnd.plotly.v1+json": {
       "config": {
        "plotlyServerURL": "https://plot.ly"
       },
       "data": [
        {
         "marker": {
          "color": [
           "purple",
           "purple",
           "purple",
           "purple",
           "purple"
          ]
         },
         "type": "bar",
         "x": [
          "Action & Non-fiction",
          "Action & Science fiction",
          "Action",
          "Action & Horror",
          "Science fiction",
          "Non-fiction"
         ],
         "y": [
          819,
          421,
          130,
          9,
          7,
          7
         ]
        }
       ],
       "layout": {
        "template": {
         "data": {
          "bar": [
           {
            "error_x": {
             "color": "#2a3f5f"
            },
            "error_y": {
             "color": "#2a3f5f"
            },
            "marker": {
             "line": {
              "color": "#E5ECF6",
              "width": 0.5
             },
             "pattern": {
              "fillmode": "overlay",
              "size": 10,
              "solidity": 0.2
             }
            },
            "type": "bar"
           }
          ],
          "barpolar": [
           {
            "marker": {
             "line": {
              "color": "#E5ECF6",
              "width": 0.5
             },
             "pattern": {
              "fillmode": "overlay",
              "size": 10,
              "solidity": 0.2
             }
            },
            "type": "barpolar"
           }
          ],
          "carpet": [
           {
            "aaxis": {
             "endlinecolor": "#2a3f5f",
             "gridcolor": "white",
             "linecolor": "white",
             "minorgridcolor": "white",
             "startlinecolor": "#2a3f5f"
            },
            "baxis": {
             "endlinecolor": "#2a3f5f",
             "gridcolor": "white",
             "linecolor": "white",
             "minorgridcolor": "white",
             "startlinecolor": "#2a3f5f"
            },
            "type": "carpet"
           }
          ],
          "choropleth": [
           {
            "colorbar": {
             "outlinewidth": 0,
             "ticks": ""
            },
            "type": "choropleth"
           }
          ],
          "contour": [
           {
            "colorbar": {
             "outlinewidth": 0,
             "ticks": ""
            },
            "colorscale": [
             [
              0,
              "#0d0887"
             ],
             [
              0.1111111111111111,
              "#46039f"
             ],
             [
              0.2222222222222222,
              "#7201a8"
             ],
             [
              0.3333333333333333,
              "#9c179e"
             ],
             [
              0.4444444444444444,
              "#bd3786"
             ],
             [
              0.5555555555555556,
              "#d8576b"
             ],
             [
              0.6666666666666666,
              "#ed7953"
             ],
             [
              0.7777777777777778,
              "#fb9f3a"
             ],
             [
              0.8888888888888888,
              "#fdca26"
             ],
             [
              1,
              "#f0f921"
             ]
            ],
            "type": "contour"
           }
          ],
          "contourcarpet": [
           {
            "colorbar": {
             "outlinewidth": 0,
             "ticks": ""
            },
            "type": "contourcarpet"
           }
          ],
          "heatmap": [
           {
            "colorbar": {
             "outlinewidth": 0,
             "ticks": ""
            },
            "colorscale": [
             [
              0,
              "#0d0887"
             ],
             [
              0.1111111111111111,
              "#46039f"
             ],
             [
              0.2222222222222222,
              "#7201a8"
             ],
             [
              0.3333333333333333,
              "#9c179e"
             ],
             [
              0.4444444444444444,
              "#bd3786"
             ],
             [
              0.5555555555555556,
              "#d8576b"
             ],
             [
              0.6666666666666666,
              "#ed7953"
             ],
             [
              0.7777777777777778,
              "#fb9f3a"
             ],
             [
              0.8888888888888888,
              "#fdca26"
             ],
             [
              1,
              "#f0f921"
             ]
            ],
            "type": "heatmap"
           }
          ],
          "heatmapgl": [
           {
            "colorbar": {
             "outlinewidth": 0,
             "ticks": ""
            },
            "colorscale": [
             [
              0,
              "#0d0887"
             ],
             [
              0.1111111111111111,
              "#46039f"
             ],
             [
              0.2222222222222222,
              "#7201a8"
             ],
             [
              0.3333333333333333,
              "#9c179e"
             ],
             [
              0.4444444444444444,
              "#bd3786"
             ],
             [
              0.5555555555555556,
              "#d8576b"
             ],
             [
              0.6666666666666666,
              "#ed7953"
             ],
             [
              0.7777777777777778,
              "#fb9f3a"
             ],
             [
              0.8888888888888888,
              "#fdca26"
             ],
             [
              1,
              "#f0f921"
             ]
            ],
            "type": "heatmapgl"
           }
          ],
          "histogram": [
           {
            "marker": {
             "pattern": {
              "fillmode": "overlay",
              "size": 10,
              "solidity": 0.2
             }
            },
            "type": "histogram"
           }
          ],
          "histogram2d": [
           {
            "colorbar": {
             "outlinewidth": 0,
             "ticks": ""
            },
            "colorscale": [
             [
              0,
              "#0d0887"
             ],
             [
              0.1111111111111111,
              "#46039f"
             ],
             [
              0.2222222222222222,
              "#7201a8"
             ],
             [
              0.3333333333333333,
              "#9c179e"
             ],
             [
              0.4444444444444444,
              "#bd3786"
             ],
             [
              0.5555555555555556,
              "#d8576b"
             ],
             [
              0.6666666666666666,
              "#ed7953"
             ],
             [
              0.7777777777777778,
              "#fb9f3a"
             ],
             [
              0.8888888888888888,
              "#fdca26"
             ],
             [
              1,
              "#f0f921"
             ]
            ],
            "type": "histogram2d"
           }
          ],
          "histogram2dcontour": [
           {
            "colorbar": {
             "outlinewidth": 0,
             "ticks": ""
            },
            "colorscale": [
             [
              0,
              "#0d0887"
             ],
             [
              0.1111111111111111,
              "#46039f"
             ],
             [
              0.2222222222222222,
              "#7201a8"
             ],
             [
              0.3333333333333333,
              "#9c179e"
             ],
             [
              0.4444444444444444,
              "#bd3786"
             ],
             [
              0.5555555555555556,
              "#d8576b"
             ],
             [
              0.6666666666666666,
              "#ed7953"
             ],
             [
              0.7777777777777778,
              "#fb9f3a"
             ],
             [
              0.8888888888888888,
              "#fdca26"
             ],
             [
              1,
              "#f0f921"
             ]
            ],
            "type": "histogram2dcontour"
           }
          ],
          "mesh3d": [
           {
            "colorbar": {
             "outlinewidth": 0,
             "ticks": ""
            },
            "type": "mesh3d"
           }
          ],
          "parcoords": [
           {
            "line": {
             "colorbar": {
              "outlinewidth": 0,
              "ticks": ""
             }
            },
            "type": "parcoords"
           }
          ],
          "pie": [
           {
            "automargin": true,
            "type": "pie"
           }
          ],
          "scatter": [
           {
            "marker": {
             "colorbar": {
              "outlinewidth": 0,
              "ticks": ""
             }
            },
            "type": "scatter"
           }
          ],
          "scatter3d": [
           {
            "line": {
             "colorbar": {
              "outlinewidth": 0,
              "ticks": ""
             }
            },
            "marker": {
             "colorbar": {
              "outlinewidth": 0,
              "ticks": ""
             }
            },
            "type": "scatter3d"
           }
          ],
          "scattercarpet": [
           {
            "marker": {
             "colorbar": {
              "outlinewidth": 0,
              "ticks": ""
             }
            },
            "type": "scattercarpet"
           }
          ],
          "scattergeo": [
           {
            "marker": {
             "colorbar": {
              "outlinewidth": 0,
              "ticks": ""
             }
            },
            "type": "scattergeo"
           }
          ],
          "scattergl": [
           {
            "marker": {
             "colorbar": {
              "outlinewidth": 0,
              "ticks": ""
             }
            },
            "type": "scattergl"
           }
          ],
          "scattermapbox": [
           {
            "marker": {
             "colorbar": {
              "outlinewidth": 0,
              "ticks": ""
             }
            },
            "type": "scattermapbox"
           }
          ],
          "scatterpolar": [
           {
            "marker": {
             "colorbar": {
              "outlinewidth": 0,
              "ticks": ""
             }
            },
            "type": "scatterpolar"
           }
          ],
          "scatterpolargl": [
           {
            "marker": {
             "colorbar": {
              "outlinewidth": 0,
              "ticks": ""
             }
            },
            "type": "scatterpolargl"
           }
          ],
          "scatterternary": [
           {
            "marker": {
             "colorbar": {
              "outlinewidth": 0,
              "ticks": ""
             }
            },
            "type": "scatterternary"
           }
          ],
          "surface": [
           {
            "colorbar": {
             "outlinewidth": 0,
             "ticks": ""
            },
            "colorscale": [
             [
              0,
              "#0d0887"
             ],
             [
              0.1111111111111111,
              "#46039f"
             ],
             [
              0.2222222222222222,
              "#7201a8"
             ],
             [
              0.3333333333333333,
              "#9c179e"
             ],
             [
              0.4444444444444444,
              "#bd3786"
             ],
             [
              0.5555555555555556,
              "#d8576b"
             ],
             [
              0.6666666666666666,
              "#ed7953"
             ],
             [
              0.7777777777777778,
              "#fb9f3a"
             ],
             [
              0.8888888888888888,
              "#fdca26"
             ],
             [
              1,
              "#f0f921"
             ]
            ],
            "type": "surface"
           }
          ],
          "table": [
           {
            "cells": {
             "fill": {
              "color": "#EBF0F8"
             },
             "line": {
              "color": "white"
             }
            },
            "header": {
             "fill": {
              "color": "#C8D4E3"
             },
             "line": {
              "color": "white"
             }
            },
            "type": "table"
           }
          ]
         },
         "layout": {
          "annotationdefaults": {
           "arrowcolor": "#2a3f5f",
           "arrowhead": 0,
           "arrowwidth": 1
          },
          "autotypenumbers": "strict",
          "coloraxis": {
           "colorbar": {
            "outlinewidth": 0,
            "ticks": ""
           }
          },
          "colorscale": {
           "diverging": [
            [
             0,
             "#8e0152"
            ],
            [
             0.1,
             "#c51b7d"
            ],
            [
             0.2,
             "#de77ae"
            ],
            [
             0.3,
             "#f1b6da"
            ],
            [
             0.4,
             "#fde0ef"
            ],
            [
             0.5,
             "#f7f7f7"
            ],
            [
             0.6,
             "#e6f5d0"
            ],
            [
             0.7,
             "#b8e186"
            ],
            [
             0.8,
             "#7fbc41"
            ],
            [
             0.9,
             "#4d9221"
            ],
            [
             1,
             "#276419"
            ]
           ],
           "sequential": [
            [
             0,
             "#0d0887"
            ],
            [
             0.1111111111111111,
             "#46039f"
            ],
            [
             0.2222222222222222,
             "#7201a8"
            ],
            [
             0.3333333333333333,
             "#9c179e"
            ],
            [
             0.4444444444444444,
             "#bd3786"
            ],
            [
             0.5555555555555556,
             "#d8576b"
            ],
            [
             0.6666666666666666,
             "#ed7953"
            ],
            [
             0.7777777777777778,
             "#fb9f3a"
            ],
            [
             0.8888888888888888,
             "#fdca26"
            ],
            [
             1,
             "#f0f921"
            ]
           ],
           "sequentialminus": [
            [
             0,
             "#0d0887"
            ],
            [
             0.1111111111111111,
             "#46039f"
            ],
            [
             0.2222222222222222,
             "#7201a8"
            ],
            [
             0.3333333333333333,
             "#9c179e"
            ],
            [
             0.4444444444444444,
             "#bd3786"
            ],
            [
             0.5555555555555556,
             "#d8576b"
            ],
            [
             0.6666666666666666,
             "#ed7953"
            ],
            [
             0.7777777777777778,
             "#fb9f3a"
            ],
            [
             0.8888888888888888,
             "#fdca26"
            ],
            [
             1,
             "#f0f921"
            ]
           ]
          },
          "colorway": [
           "#636efa",
           "#EF553B",
           "#00cc96",
           "#ab63fa",
           "#FFA15A",
           "#19d3f3",
           "#FF6692",
           "#B6E880",
           "#FF97FF",
           "#FECB52"
          ],
          "font": {
           "color": "#2a3f5f"
          },
          "geo": {
           "bgcolor": "white",
           "lakecolor": "white",
           "landcolor": "#E5ECF6",
           "showlakes": true,
           "showland": true,
           "subunitcolor": "white"
          },
          "hoverlabel": {
           "align": "left"
          },
          "hovermode": "closest",
          "mapbox": {
           "style": "light"
          },
          "paper_bgcolor": "white",
          "plot_bgcolor": "#E5ECF6",
          "polar": {
           "angularaxis": {
            "gridcolor": "white",
            "linecolor": "white",
            "ticks": ""
           },
           "bgcolor": "#E5ECF6",
           "radialaxis": {
            "gridcolor": "white",
            "linecolor": "white",
            "ticks": ""
           }
          },
          "scene": {
           "xaxis": {
            "backgroundcolor": "#E5ECF6",
            "gridcolor": "white",
            "gridwidth": 2,
            "linecolor": "white",
            "showbackground": true,
            "ticks": "",
            "zerolinecolor": "white"
           },
           "yaxis": {
            "backgroundcolor": "#E5ECF6",
            "gridcolor": "white",
            "gridwidth": 2,
            "linecolor": "white",
            "showbackground": true,
            "ticks": "",
            "zerolinecolor": "white"
           },
           "zaxis": {
            "backgroundcolor": "#E5ECF6",
            "gridcolor": "white",
            "gridwidth": 2,
            "linecolor": "white",
            "showbackground": true,
            "ticks": "",
            "zerolinecolor": "white"
           }
          },
          "shapedefaults": {
           "line": {
            "color": "#2a3f5f"
           }
          },
          "ternary": {
           "aaxis": {
            "gridcolor": "white",
            "linecolor": "white",
            "ticks": ""
           },
           "baxis": {
            "gridcolor": "white",
            "linecolor": "white",
            "ticks": ""
           },
           "bgcolor": "#E5ECF6",
           "caxis": {
            "gridcolor": "white",
            "linecolor": "white",
            "ticks": ""
           }
          },
          "title": {
           "x": 0.05
          },
          "xaxis": {
           "automargin": true,
           "gridcolor": "white",
           "linecolor": "white",
           "ticks": "",
           "title": {
            "standoff": 15
           },
           "zerolinecolor": "white",
           "zerolinewidth": 2
          },
          "yaxis": {
           "automargin": true,
           "gridcolor": "white",
           "linecolor": "white",
           "ticks": "",
           "title": {
            "standoff": 15
           },
           "zerolinecolor": "white",
           "zerolinewidth": 2
          }
         }
        },
        "title": {
         "text": "Least Used Feature"
        }
       }
      },
      "text/html": [
       "<div>                            <div id=\"09553692-8bb8-4e38-89a5-105bbaa69335\" class=\"plotly-graph-div\" style=\"height:525px; width:100%;\"></div>            <script type=\"text/javascript\">                require([\"plotly\"], function(Plotly) {                    window.PLOTLYENV=window.PLOTLYENV || {};                                    if (document.getElementById(\"09553692-8bb8-4e38-89a5-105bbaa69335\")) {                    Plotly.newPlot(                        \"09553692-8bb8-4e38-89a5-105bbaa69335\",                        [{\"marker\":{\"color\":[\"purple\",\"purple\",\"purple\",\"purple\",\"purple\"]},\"type\":\"bar\",\"x\":[\"Action & Non-fiction\",\"Action & Science fiction\",\"Action\",\"Action & Horror\",\"Science fiction\",\"Non-fiction\"],\"y\":[819,421,130,9,7,7]}],                        {\"template\":{\"data\":{\"bar\":[{\"error_x\":{\"color\":\"#2a3f5f\"},\"error_y\":{\"color\":\"#2a3f5f\"},\"marker\":{\"line\":{\"color\":\"#E5ECF6\",\"width\":0.5},\"pattern\":{\"fillmode\":\"overlay\",\"size\":10,\"solidity\":0.2}},\"type\":\"bar\"}],\"barpolar\":[{\"marker\":{\"line\":{\"color\":\"#E5ECF6\",\"width\":0.5},\"pattern\":{\"fillmode\":\"overlay\",\"size\":10,\"solidity\":0.2}},\"type\":\"barpolar\"}],\"carpet\":[{\"aaxis\":{\"endlinecolor\":\"#2a3f5f\",\"gridcolor\":\"white\",\"linecolor\":\"white\",\"minorgridcolor\":\"white\",\"startlinecolor\":\"#2a3f5f\"},\"baxis\":{\"endlinecolor\":\"#2a3f5f\",\"gridcolor\":\"white\",\"linecolor\":\"white\",\"minorgridcolor\":\"white\",\"startlinecolor\":\"#2a3f5f\"},\"type\":\"carpet\"}],\"choropleth\":[{\"colorbar\":{\"outlinewidth\":0,\"ticks\":\"\"},\"type\":\"choropleth\"}],\"contour\":[{\"colorbar\":{\"outlinewidth\":0,\"ticks\":\"\"},\"colorscale\":[[0.0,\"#0d0887\"],[0.1111111111111111,\"#46039f\"],[0.2222222222222222,\"#7201a8\"],[0.3333333333333333,\"#9c179e\"],[0.4444444444444444,\"#bd3786\"],[0.5555555555555556,\"#d8576b\"],[0.6666666666666666,\"#ed7953\"],[0.7777777777777778,\"#fb9f3a\"],[0.8888888888888888,\"#fdca26\"],[1.0,\"#f0f921\"]],\"type\":\"contour\"}],\"contourcarpet\":[{\"colorbar\":{\"outlinewidth\":0,\"ticks\":\"\"},\"type\":\"contourcarpet\"}],\"heatmap\":[{\"colorbar\":{\"outlinewidth\":0,\"ticks\":\"\"},\"colorscale\":[[0.0,\"#0d0887\"],[0.1111111111111111,\"#46039f\"],[0.2222222222222222,\"#7201a8\"],[0.3333333333333333,\"#9c179e\"],[0.4444444444444444,\"#bd3786\"],[0.5555555555555556,\"#d8576b\"],[0.6666666666666666,\"#ed7953\"],[0.7777777777777778,\"#fb9f3a\"],[0.8888888888888888,\"#fdca26\"],[1.0,\"#f0f921\"]],\"type\":\"heatmap\"}],\"heatmapgl\":[{\"colorbar\":{\"outlinewidth\":0,\"ticks\":\"\"},\"colorscale\":[[0.0,\"#0d0887\"],[0.1111111111111111,\"#46039f\"],[0.2222222222222222,\"#7201a8\"],[0.3333333333333333,\"#9c179e\"],[0.4444444444444444,\"#bd3786\"],[0.5555555555555556,\"#d8576b\"],[0.6666666666666666,\"#ed7953\"],[0.7777777777777778,\"#fb9f3a\"],[0.8888888888888888,\"#fdca26\"],[1.0,\"#f0f921\"]],\"type\":\"heatmapgl\"}],\"histogram\":[{\"marker\":{\"pattern\":{\"fillmode\":\"overlay\",\"size\":10,\"solidity\":0.2}},\"type\":\"histogram\"}],\"histogram2d\":[{\"colorbar\":{\"outlinewidth\":0,\"ticks\":\"\"},\"colorscale\":[[0.0,\"#0d0887\"],[0.1111111111111111,\"#46039f\"],[0.2222222222222222,\"#7201a8\"],[0.3333333333333333,\"#9c179e\"],[0.4444444444444444,\"#bd3786\"],[0.5555555555555556,\"#d8576b\"],[0.6666666666666666,\"#ed7953\"],[0.7777777777777778,\"#fb9f3a\"],[0.8888888888888888,\"#fdca26\"],[1.0,\"#f0f921\"]],\"type\":\"histogram2d\"}],\"histogram2dcontour\":[{\"colorbar\":{\"outlinewidth\":0,\"ticks\":\"\"},\"colorscale\":[[0.0,\"#0d0887\"],[0.1111111111111111,\"#46039f\"],[0.2222222222222222,\"#7201a8\"],[0.3333333333333333,\"#9c179e\"],[0.4444444444444444,\"#bd3786\"],[0.5555555555555556,\"#d8576b\"],[0.6666666666666666,\"#ed7953\"],[0.7777777777777778,\"#fb9f3a\"],[0.8888888888888888,\"#fdca26\"],[1.0,\"#f0f921\"]],\"type\":\"histogram2dcontour\"}],\"mesh3d\":[{\"colorbar\":{\"outlinewidth\":0,\"ticks\":\"\"},\"type\":\"mesh3d\"}],\"parcoords\":[{\"line\":{\"colorbar\":{\"outlinewidth\":0,\"ticks\":\"\"}},\"type\":\"parcoords\"}],\"pie\":[{\"automargin\":true,\"type\":\"pie\"}],\"scatter\":[{\"marker\":{\"colorbar\":{\"outlinewidth\":0,\"ticks\":\"\"}},\"type\":\"scatter\"}],\"scatter3d\":[{\"line\":{\"colorbar\":{\"outlinewidth\":0,\"ticks\":\"\"}},\"marker\":{\"colorbar\":{\"outlinewidth\":0,\"ticks\":\"\"}},\"type\":\"scatter3d\"}],\"scattercarpet\":[{\"marker\":{\"colorbar\":{\"outlinewidth\":0,\"ticks\":\"\"}},\"type\":\"scattercarpet\"}],\"scattergeo\":[{\"marker\":{\"colorbar\":{\"outlinewidth\":0,\"ticks\":\"\"}},\"type\":\"scattergeo\"}],\"scattergl\":[{\"marker\":{\"colorbar\":{\"outlinewidth\":0,\"ticks\":\"\"}},\"type\":\"scattergl\"}],\"scattermapbox\":[{\"marker\":{\"colorbar\":{\"outlinewidth\":0,\"ticks\":\"\"}},\"type\":\"scattermapbox\"}],\"scatterpolar\":[{\"marker\":{\"colorbar\":{\"outlinewidth\":0,\"ticks\":\"\"}},\"type\":\"scatterpolar\"}],\"scatterpolargl\":[{\"marker\":{\"colorbar\":{\"outlinewidth\":0,\"ticks\":\"\"}},\"type\":\"scatterpolargl\"}],\"scatterternary\":[{\"marker\":{\"colorbar\":{\"outlinewidth\":0,\"ticks\":\"\"}},\"type\":\"scatterternary\"}],\"surface\":[{\"colorbar\":{\"outlinewidth\":0,\"ticks\":\"\"},\"colorscale\":[[0.0,\"#0d0887\"],[0.1111111111111111,\"#46039f\"],[0.2222222222222222,\"#7201a8\"],[0.3333333333333333,\"#9c179e\"],[0.4444444444444444,\"#bd3786\"],[0.5555555555555556,\"#d8576b\"],[0.6666666666666666,\"#ed7953\"],[0.7777777777777778,\"#fb9f3a\"],[0.8888888888888888,\"#fdca26\"],[1.0,\"#f0f921\"]],\"type\":\"surface\"}],\"table\":[{\"cells\":{\"fill\":{\"color\":\"#EBF0F8\"},\"line\":{\"color\":\"white\"}},\"header\":{\"fill\":{\"color\":\"#C8D4E3\"},\"line\":{\"color\":\"white\"}},\"type\":\"table\"}]},\"layout\":{\"annotationdefaults\":{\"arrowcolor\":\"#2a3f5f\",\"arrowhead\":0,\"arrowwidth\":1},\"autotypenumbers\":\"strict\",\"coloraxis\":{\"colorbar\":{\"outlinewidth\":0,\"ticks\":\"\"}},\"colorscale\":{\"diverging\":[[0,\"#8e0152\"],[0.1,\"#c51b7d\"],[0.2,\"#de77ae\"],[0.3,\"#f1b6da\"],[0.4,\"#fde0ef\"],[0.5,\"#f7f7f7\"],[0.6,\"#e6f5d0\"],[0.7,\"#b8e186\"],[0.8,\"#7fbc41\"],[0.9,\"#4d9221\"],[1,\"#276419\"]],\"sequential\":[[0.0,\"#0d0887\"],[0.1111111111111111,\"#46039f\"],[0.2222222222222222,\"#7201a8\"],[0.3333333333333333,\"#9c179e\"],[0.4444444444444444,\"#bd3786\"],[0.5555555555555556,\"#d8576b\"],[0.6666666666666666,\"#ed7953\"],[0.7777777777777778,\"#fb9f3a\"],[0.8888888888888888,\"#fdca26\"],[1.0,\"#f0f921\"]],\"sequentialminus\":[[0.0,\"#0d0887\"],[0.1111111111111111,\"#46039f\"],[0.2222222222222222,\"#7201a8\"],[0.3333333333333333,\"#9c179e\"],[0.4444444444444444,\"#bd3786\"],[0.5555555555555556,\"#d8576b\"],[0.6666666666666666,\"#ed7953\"],[0.7777777777777778,\"#fb9f3a\"],[0.8888888888888888,\"#fdca26\"],[1.0,\"#f0f921\"]]},\"colorway\":[\"#636efa\",\"#EF553B\",\"#00cc96\",\"#ab63fa\",\"#FFA15A\",\"#19d3f3\",\"#FF6692\",\"#B6E880\",\"#FF97FF\",\"#FECB52\"],\"font\":{\"color\":\"#2a3f5f\"},\"geo\":{\"bgcolor\":\"white\",\"lakecolor\":\"white\",\"landcolor\":\"#E5ECF6\",\"showlakes\":true,\"showland\":true,\"subunitcolor\":\"white\"},\"hoverlabel\":{\"align\":\"left\"},\"hovermode\":\"closest\",\"mapbox\":{\"style\":\"light\"},\"paper_bgcolor\":\"white\",\"plot_bgcolor\":\"#E5ECF6\",\"polar\":{\"angularaxis\":{\"gridcolor\":\"white\",\"linecolor\":\"white\",\"ticks\":\"\"},\"bgcolor\":\"#E5ECF6\",\"radialaxis\":{\"gridcolor\":\"white\",\"linecolor\":\"white\",\"ticks\":\"\"}},\"scene\":{\"xaxis\":{\"backgroundcolor\":\"#E5ECF6\",\"gridcolor\":\"white\",\"gridwidth\":2,\"linecolor\":\"white\",\"showbackground\":true,\"ticks\":\"\",\"zerolinecolor\":\"white\"},\"yaxis\":{\"backgroundcolor\":\"#E5ECF6\",\"gridcolor\":\"white\",\"gridwidth\":2,\"linecolor\":\"white\",\"showbackground\":true,\"ticks\":\"\",\"zerolinecolor\":\"white\"},\"zaxis\":{\"backgroundcolor\":\"#E5ECF6\",\"gridcolor\":\"white\",\"gridwidth\":2,\"linecolor\":\"white\",\"showbackground\":true,\"ticks\":\"\",\"zerolinecolor\":\"white\"}},\"shapedefaults\":{\"line\":{\"color\":\"#2a3f5f\"}},\"ternary\":{\"aaxis\":{\"gridcolor\":\"white\",\"linecolor\":\"white\",\"ticks\":\"\"},\"baxis\":{\"gridcolor\":\"white\",\"linecolor\":\"white\",\"ticks\":\"\"},\"bgcolor\":\"#E5ECF6\",\"caxis\":{\"gridcolor\":\"white\",\"linecolor\":\"white\",\"ticks\":\"\"}},\"title\":{\"x\":0.05},\"xaxis\":{\"automargin\":true,\"gridcolor\":\"white\",\"linecolor\":\"white\",\"ticks\":\"\",\"title\":{\"standoff\":15},\"zerolinecolor\":\"white\",\"zerolinewidth\":2},\"yaxis\":{\"automargin\":true,\"gridcolor\":\"white\",\"linecolor\":\"white\",\"ticks\":\"\",\"title\":{\"standoff\":15},\"zerolinecolor\":\"white\",\"zerolinewidth\":2}}},\"title\":{\"text\":\"Least Used Feature\"}},                        {\"responsive\": true}                    ).then(function(){\n",
       "                            \n",
       "var gd = document.getElementById('09553692-8bb8-4e38-89a5-105bbaa69335');\n",
       "var x = new MutationObserver(function (mutations, observer) {{\n",
       "        var display = window.getComputedStyle(gd).display;\n",
       "        if (!display || display === 'none') {{\n",
       "            console.log([gd, 'removed!']);\n",
       "            Plotly.purge(gd);\n",
       "            observer.disconnect();\n",
       "        }}\n",
       "}});\n",
       "\n",
       "// Listen for the removal of the full notebook cells\n",
       "var notebookContainer = gd.closest('#notebook-container');\n",
       "if (notebookContainer) {{\n",
       "    x.observe(notebookContainer, {childList: true});\n",
       "}}\n",
       "\n",
       "// Listen for the clearing of the current output cell\n",
       "var outputEl = gd.closest('.output');\n",
       "if (outputEl) {{\n",
       "    x.observe(outputEl, {childList: true});\n",
       "}}\n",
       "\n",
       "                        })                };                });            </script>        </div>"
      ]
     },
     "metadata": {},
     "output_type": "display_data"
    }
   ],
   "source": [
    "colors = ['purple',] * 5\n",
    "\n",
    "\n",
    "fig = go.Figure(data=[go.Bar(\n",
    "    x=['Action & Non-fiction','Action & Science fiction','Action', 'Action & Horror','Science fiction','Non-fiction'],\n",
    "    y=[819,  421,  130,  9,   7,   7],\n",
    "    marker_color=colors # marker color can be a single color value or an iterable\n",
    ")])\n",
    "fig.update_layout(title_text='Least Used Feature')"
   ]
  },
  {
   "cell_type": "code",
   "execution_count": null,
   "id": "6a595073",
   "metadata": {},
   "outputs": [],
   "source": []
  },
  {
   "cell_type": "code",
   "execution_count": null,
   "id": "0753a28a",
   "metadata": {},
   "outputs": [],
   "source": []
  },
  {
   "cell_type": "markdown",
   "id": "cf7d7a0c",
   "metadata": {},
   "source": [
    "# Q4-  Do users rate games with online multiplayer modes higher than games that lack online multiplayer modes?\n",
    "\n",
    "> since there is a gap time from game that can be played online and games that cannot- we decided to remove that gap and make sure that the games all come out in the same time period\n",
    "\n",
    "\n",
    "### _answer:_ even after removing that time gap the games that are `NOT` multiplayer online games are rated higher than non-multiplayer games"
   ]
  },
  {
   "cell_type": "code",
   "execution_count": null,
   "id": "52c4080a",
   "metadata": {
    "scrolled": false
   },
   "outputs": [],
   "source": [
    "df2.head(2)"
   ]
  },
  {
   "cell_type": "markdown",
   "id": "238d6ae5",
   "metadata": {},
   "source": [
    ">## Not online multi"
   ]
  },
  {
   "cell_type": "code",
   "execution_count": null,
   "id": "b8fc51ba",
   "metadata": {},
   "outputs": [],
   "source": [
    "#making sure all games are comming out of the same time period\n",
    "train['created_at'] = pd.to_datetime(train['created_at'],unit='s')"
   ]
  },
  {
   "cell_type": "code",
   "execution_count": null,
   "id": "4e7b94b9",
   "metadata": {
    "scrolled": false
   },
   "outputs": [],
   "source": [
    "train.onlinecoop.value_counts()"
   ]
  },
  {
   "cell_type": "code",
   "execution_count": null,
   "id": "3f8d95d1",
   "metadata": {
    "scrolled": false
   },
   "outputs": [],
   "source": [
    "NOT_online_multi = train[train['onlinecoop']== False]\n",
    "NOT_online_multi.head(1)"
   ]
  },
  {
   "cell_type": "code",
   "execution_count": null,
   "id": "222c402c",
   "metadata": {
    "scrolled": true
   },
   "outputs": [],
   "source": [
    "NOT_online_multi['first_release_date'] = pd.to_datetime(NOT_online_multi['first_release_date'],unit='s')"
   ]
  },
  {
   "cell_type": "code",
   "execution_count": null,
   "id": "2c84c79a",
   "metadata": {
    "scrolled": true
   },
   "outputs": [],
   "source": [
    "NOT_online_multi.head()"
   ]
  },
  {
   "cell_type": "code",
   "execution_count": null,
   "id": "59e21a92",
   "metadata": {
    "scrolled": true
   },
   "outputs": [],
   "source": [
    "NOT_online_multi.first_release_date.value_counts()"
   ]
  },
  {
   "cell_type": "code",
   "execution_count": null,
   "id": "268bcca1",
   "metadata": {},
   "outputs": [],
   "source": [
    "NOT_online_multi['first_release_date_year'] = NOT_online_multi.first_release_date.dt.year"
   ]
  },
  {
   "cell_type": "code",
   "execution_count": null,
   "id": "05a6d2bc",
   "metadata": {
    "scrolled": true
   },
   "outputs": [],
   "source": [
    "NOT_online_multi.first_release_date_year.value_counts()"
   ]
  },
  {
   "cell_type": "code",
   "execution_count": null,
   "id": "f4ce5bf4",
   "metadata": {},
   "outputs": [],
   "source": [
    "NOT_online_multi.head()"
   ]
  },
  {
   "cell_type": "code",
   "execution_count": null,
   "id": "dd0a9d46",
   "metadata": {},
   "outputs": [],
   "source": [
    "#1981 is the lowest date in online i will it cut it off there "
   ]
  },
  {
   "cell_type": "code",
   "execution_count": null,
   "id": "11680d24",
   "metadata": {
    "scrolled": true
   },
   "outputs": [],
   "source": [
    "NOT_online_multi = NOT_online_multi[NOT_online_multi['first_release_date_year'] > 1981.0]\n",
    "NOT_online_multi.head(1)"
   ]
  },
  {
   "cell_type": "code",
   "execution_count": null,
   "id": "30959447",
   "metadata": {
    "scrolled": true
   },
   "outputs": [],
   "source": [
    "NOT_online_multi.first_release_date_year.value_counts()"
   ]
  },
  {
   "cell_type": "markdown",
   "id": "79f5a5b9",
   "metadata": {},
   "source": [
    "## Not online multi-player that games are after 1981"
   ]
  },
  {
   "cell_type": "code",
   "execution_count": null,
   "id": "5ec8adb8",
   "metadata": {},
   "outputs": [],
   "source": [
    "plt.figure(figsize=(12,5))\n",
    "c = sns.countplot(x='rating_bin', data=NOT_online_multi)\n",
    "\n",
    "for p in c.patches:\n",
    "    c.annotate(p.get_height(), \n",
    "                (p.get_x() + p.get_width() / 2.0, \n",
    "                 p.get_height()), \n",
    "                 ha = 'center', \n",
    "                 va = 'center', \n",
    "                 xytext = (1, 5),\n",
    "                 textcoords = 'offset points')"
   ]
  },
  {
   "cell_type": "markdown",
   "id": "e24a2db5",
   "metadata": {},
   "source": [
    ">##  online multi"
   ]
  },
  {
   "cell_type": "code",
   "execution_count": null,
   "id": "d2070864",
   "metadata": {
    "scrolled": true
   },
   "outputs": [],
   "source": [
    "df_online_multi = df2[df2['onlinecoop']== True]\n",
    "df_online_multi.head(1)"
   ]
  },
  {
   "cell_type": "markdown",
   "id": "57412b0e",
   "metadata": {},
   "source": [
    "## Games that are after 1981 - Ratings "
   ]
  },
  {
   "cell_type": "code",
   "execution_count": null,
   "id": "c9d5793c",
   "metadata": {
    "scrolled": true
   },
   "outputs": [],
   "source": [
    "plt.figure(figsize=(12,5))\n",
    "c = sns.countplot(x='rating_bin', data=df_online_multi)\n",
    "\n",
    "for p in c.patches:\n",
    "    c.annotate(p.get_height(), \n",
    "                (p.get_x() + p.get_width() / 2.0, \n",
    "                 p.get_height()), \n",
    "                 ha = 'center', \n",
    "                 va = 'center', \n",
    "                 xytext = (1, 5),\n",
    "                 textcoords = 'offset points')"
   ]
  },
  {
   "cell_type": "markdown",
   "id": "89f13fa2",
   "metadata": {},
   "source": [
    "### figuring out the time period for online games"
   ]
  },
  {
   "cell_type": "code",
   "execution_count": null,
   "id": "4b35e92c",
   "metadata": {},
   "outputs": [],
   "source": [
    "df_online_multi['first_release_date'] = pd.to_datetime(df_online_multi['first_release_date'],unit='s')"
   ]
  },
  {
   "cell_type": "code",
   "execution_count": null,
   "id": "2c5df8f9",
   "metadata": {},
   "outputs": [],
   "source": [
    "df_online_multi.head(1)"
   ]
  },
  {
   "cell_type": "code",
   "execution_count": null,
   "id": "72ef927d",
   "metadata": {},
   "outputs": [],
   "source": [
    "df_online_multi['first_release_date_year'] = df_online_multi.first_release_date.dt.year"
   ]
  },
  {
   "cell_type": "code",
   "execution_count": null,
   "id": "122e49ed",
   "metadata": {
    "scrolled": true
   },
   "outputs": [],
   "source": [
    "df_online_multi.first_release_date_year.value_counts()"
   ]
  },
  {
   "cell_type": "markdown",
   "id": "da2266c2",
   "metadata": {},
   "source": [
    " # Q 4- Does a certain game_mode determine the game rating?"
   ]
  },
  {
   "cell_type": "code",
   "execution_count": null,
   "id": "edc71e0f",
   "metadata": {
    "scrolled": true
   },
   "outputs": [],
   "source": [
    "train.head()"
   ]
  },
  {
   "cell_type": "code",
   "execution_count": null,
   "id": "87171fb1",
   "metadata": {},
   "outputs": [],
   "source": [
    "fig, ax = plt.subplots(figsize = (14,4))\n",
    "ax.bar(to_1D(train[\"game_modes\"]).value_counts().iloc[:7].index,\n",
    "        to_1D(train[\"game_modes\"]).value_counts().iloc[:7].values)\n",
    "ax.set_ylabel(\"Frequency\", size = 12)\n",
    "ax.set_title(\"platforms\", size = 14)"
   ]
  },
  {
   "cell_type": "markdown",
   "id": "957aac7d",
   "metadata": {},
   "source": [
    "- looks liek most common games are single and multi player, and co op "
   ]
  },
  {
   "cell_type": "code",
   "execution_count": null,
   "id": "6a45486a",
   "metadata": {},
   "outputs": [],
   "source": [
    "fig, ax = plt.subplots(figsize = (14,6))\n",
    "ax.bar(to_1D(df_subperb_rating[\"game_modes\"]).value_counts().iloc[:4].index,\n",
    "        to_1D(df_subperb_rating[\"game_modes\"]).value_counts().iloc[:4].values,\n",
    "         color= ['purple'])\n",
    "ax.set_ylabel(\"Frequency\", size = 20)\n",
    "ax.set_title(\"Most common Genre in Superb Games\", size = 20)"
   ]
  },
  {
   "cell_type": "markdown",
   "id": "5a36ed6f",
   "metadata": {},
   "source": [
    "- didnt find anything important"
   ]
  },
  {
   "cell_type": "code",
   "execution_count": null,
   "id": "2aa757e5",
   "metadata": {},
   "outputs": [],
   "source": [
    "train.head(3)"
   ]
  },
  {
   "cell_type": "code",
   "execution_count": null,
   "id": "4410c559",
   "metadata": {},
   "outputs": [],
   "source": []
  },
  {
   "cell_type": "markdown",
   "id": "065a3d1c",
   "metadata": {},
   "source": [
    "# Question - What are the top 5 most highest member rated videogames?"
   ]
  },
  {
   "cell_type": "code",
   "execution_count": 107,
   "id": "956bcc4f",
   "metadata": {},
   "outputs": [],
   "source": [
    "super_high_rating = df_subperb_rating[df_subperb_rating['rating'] > 99]\n",
    "\n"
   ]
  },
  {
   "cell_type": "code",
   "execution_count": 109,
   "id": "e1f1f03f",
   "metadata": {},
   "outputs": [
    {
     "data": {
      "text/html": [
       "<div>\n",
       "<style scoped>\n",
       "    .dataframe tbody tr th:only-of-type {\n",
       "        vertical-align: middle;\n",
       "    }\n",
       "\n",
       "    .dataframe tbody tr th {\n",
       "        vertical-align: top;\n",
       "    }\n",
       "\n",
       "    .dataframe thead th {\n",
       "        text-align: right;\n",
       "    }\n",
       "</style>\n",
       "<table border=\"1\" class=\"dataframe\">\n",
       "  <thead>\n",
       "    <tr style=\"text-align: right;\">\n",
       "      <th></th>\n",
       "      <th>id</th>\n",
       "      <th>category</th>\n",
       "      <th>created_at</th>\n",
       "      <th>external_games</th>\n",
       "      <th>first_release_date</th>\n",
       "      <th>genres</th>\n",
       "      <th>name</th>\n",
       "      <th>platforms</th>\n",
       "      <th>release_dates</th>\n",
       "      <th>similar_games</th>\n",
       "      <th>slug</th>\n",
       "      <th>summary</th>\n",
       "      <th>tags</th>\n",
       "      <th>updated_at</th>\n",
       "      <th>url</th>\n",
       "      <th>checksum_x</th>\n",
       "      <th>age_ratings</th>\n",
       "      <th>cover</th>\n",
       "      <th>involved_companies</th>\n",
       "      <th>screenshots</th>\n",
       "      <th>game_modes</th>\n",
       "      <th>player_perspectives</th>\n",
       "      <th>themes</th>\n",
       "      <th>websites</th>\n",
       "      <th>alternative_names</th>\n",
       "      <th>artworks</th>\n",
       "      <th>game_engines</th>\n",
       "      <th>keywords</th>\n",
       "      <th>status</th>\n",
       "      <th>videos</th>\n",
       "      <th>rating</th>\n",
       "      <th>rating_count</th>\n",
       "      <th>storyline</th>\n",
       "      <th>total_rating</th>\n",
       "      <th>total_rating_count</th>\n",
       "      <th>version_parent</th>\n",
       "      <th>version_title</th>\n",
       "      <th>hypes</th>\n",
       "      <th>collection</th>\n",
       "      <th>franchises</th>\n",
       "      <th>follows</th>\n",
       "      <th>aggregated_rating</th>\n",
       "      <th>aggregated_rating_count</th>\n",
       "      <th>dlcs</th>\n",
       "      <th>bundles</th>\n",
       "      <th>parent_game</th>\n",
       "      <th>franchise</th>\n",
       "      <th>multiplayer_modes</th>\n",
       "      <th>remakes</th>\n",
       "      <th>ports</th>\n",
       "      <th>expansions</th>\n",
       "      <th>expanded_games</th>\n",
       "      <th>remasters</th>\n",
       "      <th>forks</th>\n",
       "      <th>standalone_expansions</th>\n",
       "      <th>second</th>\n",
       "      <th>version_description</th>\n",
       "      <th>title_version</th>\n",
       "      <th>second_id</th>\n",
       "      <th>campaigncoop</th>\n",
       "      <th>dropin</th>\n",
       "      <th>lancoop</th>\n",
       "      <th>offlinecoop</th>\n",
       "      <th>offlinemax</th>\n",
       "      <th>onlinecoop</th>\n",
       "      <th>platform</th>\n",
       "      <th>splitscreen</th>\n",
       "      <th>checksum_y</th>\n",
       "      <th>offlinecoopmax</th>\n",
       "      <th>onlinecoopmax</th>\n",
       "      <th>onlinemax</th>\n",
       "      <th>rating_bin</th>\n",
       "    </tr>\n",
       "  </thead>\n",
       "  <tbody>\n",
       "    <tr>\n",
       "      <th>238245</th>\n",
       "      <td>14173</td>\n",
       "      <td>1</td>\n",
       "      <td>2015-10-22 20:27:31</td>\n",
       "      <td>None</td>\n",
       "      <td>1.072829e+09</td>\n",
       "      <td>[turn-based-strategy-tbs]</td>\n",
       "      <td>Heroes of Might and Magic III: Horn of the Abyss</td>\n",
       "      <td>[PC (Microsoft Windows)]</td>\n",
       "      <td>[197137]</td>\n",
       "      <td>[7615, 9472, 13196, 93694, 99118, 106104, 1111...</td>\n",
       "      <td>heroes-of-might-and-magic-iii-horn-of-the-abyss</td>\n",
       "      <td>Heroes of Might and Magic III: Horn of the Aby...</td>\n",
       "      <td>[17, 268435472, 536871946, 536872059, 53687246...</td>\n",
       "      <td>2022-08-10 06:34:00</td>\n",
       "      <td>https://www.igdb.com/games/heroes-of-might-and...</td>\n",
       "      <td>75e4c77f-8b08-6cb7-90a6-6eb8dd908495</td>\n",
       "      <td>None</td>\n",
       "      <td>12745.0</td>\n",
       "      <td>[99879]</td>\n",
       "      <td>None</td>\n",
       "      <td>[single-player, multiplayer]</td>\n",
       "      <td>[Bird view / Isometric]</td>\n",
       "      <td>[Fantasy]</td>\n",
       "      <td>[5046, 5047]</td>\n",
       "      <td>[49693]</td>\n",
       "      <td>None</td>\n",
       "      <td>None</td>\n",
       "      <td>[1034, 1147, 1549, 2004]</td>\n",
       "      <td>NaN</td>\n",
       "      <td>None</td>\n",
       "      <td>99.264183</td>\n",
       "      <td>13</td>\n",
       "      <td>None</td>\n",
       "      <td>99.264183</td>\n",
       "      <td>13</td>\n",
       "      <td>NaN</td>\n",
       "      <td>None</td>\n",
       "      <td>3.0</td>\n",
       "      <td>194.0</td>\n",
       "      <td>[458]</td>\n",
       "      <td>5.0</td>\n",
       "      <td>NaN</td>\n",
       "      <td>NaN</td>\n",
       "      <td>None</td>\n",
       "      <td>None</td>\n",
       "      <td>366.0</td>\n",
       "      <td>NaN</td>\n",
       "      <td>None</td>\n",
       "      <td>None</td>\n",
       "      <td>None</td>\n",
       "      <td>None</td>\n",
       "      <td>None</td>\n",
       "      <td>None</td>\n",
       "      <td>None</td>\n",
       "      <td>None</td>\n",
       "      <td>NaN</td>\n",
       "      <td>None</td>\n",
       "      <td>None</td>\n",
       "      <td>NaN</td>\n",
       "      <td>False</td>\n",
       "      <td>False</td>\n",
       "      <td>False</td>\n",
       "      <td>False</td>\n",
       "      <td>0</td>\n",
       "      <td>False</td>\n",
       "      <td>NaN</td>\n",
       "      <td>False</td>\n",
       "      <td>None</td>\n",
       "      <td>0</td>\n",
       "      <td>0</td>\n",
       "      <td>0</td>\n",
       "      <td>subperb</td>\n",
       "    </tr>\n",
       "    <tr>\n",
       "      <th>352643</th>\n",
       "      <td>138851</td>\n",
       "      <td>12</td>\n",
       "      <td>2020-09-15 01:13:40</td>\n",
       "      <td>[1998974]</td>\n",
       "      <td>1.298938e+09</td>\n",
       "      <td>[music]</td>\n",
       "      <td>Not In The Groove</td>\n",
       "      <td>[PC (Microsoft Windows)]</td>\n",
       "      <td>[210626]</td>\n",
       "      <td>[31496, 63933, 77720, 84922, 86847, 87150, 110...</td>\n",
       "      <td>not-in-the-groove</td>\n",
       "      <td>A rhythm game based on StepMania, In The Groov...</td>\n",
       "      <td>[268435463, 536871946, 536872476, 536872612, 5...</td>\n",
       "      <td>2022-01-14 23:10:25</td>\n",
       "      <td>https://www.igdb.com/games/not-in-the-groove</td>\n",
       "      <td>71fc1566-5699-0a21-35d8-9bfdfc44f68d</td>\n",
       "      <td>None</td>\n",
       "      <td>114716.0</td>\n",
       "      <td>None</td>\n",
       "      <td>None</td>\n",
       "      <td>[single-player, multiplayer]</td>\n",
       "      <td>[Auditory]</td>\n",
       "      <td>[Not available]</td>\n",
       "      <td>[256486]</td>\n",
       "      <td>[49298, 56117]</td>\n",
       "      <td>None</td>\n",
       "      <td>None</td>\n",
       "      <td>[1034, 1564, 1700, 12853, 20708]</td>\n",
       "      <td>NaN</td>\n",
       "      <td>None</td>\n",
       "      <td>99.033844</td>\n",
       "      <td>13</td>\n",
       "      <td>None</td>\n",
       "      <td>99.033844</td>\n",
       "      <td>13</td>\n",
       "      <td>NaN</td>\n",
       "      <td>None</td>\n",
       "      <td>1.0</td>\n",
       "      <td>NaN</td>\n",
       "      <td>None</td>\n",
       "      <td>10.0</td>\n",
       "      <td>NaN</td>\n",
       "      <td>NaN</td>\n",
       "      <td>None</td>\n",
       "      <td>None</td>\n",
       "      <td>144393.0</td>\n",
       "      <td>NaN</td>\n",
       "      <td>[11707]</td>\n",
       "      <td>None</td>\n",
       "      <td>None</td>\n",
       "      <td>None</td>\n",
       "      <td>None</td>\n",
       "      <td>None</td>\n",
       "      <td>None</td>\n",
       "      <td>None</td>\n",
       "      <td>NaN</td>\n",
       "      <td>None</td>\n",
       "      <td>None</td>\n",
       "      <td>NaN</td>\n",
       "      <td>False</td>\n",
       "      <td>False</td>\n",
       "      <td>False</td>\n",
       "      <td>False</td>\n",
       "      <td>0</td>\n",
       "      <td>False</td>\n",
       "      <td>NaN</td>\n",
       "      <td>False</td>\n",
       "      <td>None</td>\n",
       "      <td>0</td>\n",
       "      <td>0</td>\n",
       "      <td>0</td>\n",
       "      <td>subperb</td>\n",
       "    </tr>\n",
       "    <tr>\n",
       "      <th>293733</th>\n",
       "      <td>72327</td>\n",
       "      <td>0</td>\n",
       "      <td>2017-09-30 00:54:38</td>\n",
       "      <td>[73633, 119359, 1185935]</td>\n",
       "      <td>1.303344e+09</td>\n",
       "      <td>[hack-and-slash-beat-em-up]</td>\n",
       "      <td>Streets of Rage Remake</td>\n",
       "      <td>[PC (Microsoft Windows)]</td>\n",
       "      <td>[192346]</td>\n",
       "      <td>[1652, 1655, 3222, 14704, 21564, 22387, 27419,...</td>\n",
       "      <td>streets-of-rage-remake</td>\n",
       "      <td>Streets of Rage Remake is a fangame reboot on ...</td>\n",
       "      <td>[1, 18, 268435481, 536870973, 536871029, 53687...</td>\n",
       "      <td>2022-08-12 18:32:15</td>\n",
       "      <td>https://www.igdb.com/games/streets-of-rage-remake</td>\n",
       "      <td>ac41a2ee-ef9b-afe5-5048-806bb775b597</td>\n",
       "      <td>None</td>\n",
       "      <td>130589.0</td>\n",
       "      <td>[95431]</td>\n",
       "      <td>[127037, 127038, 127039]</td>\n",
       "      <td>[single-player, multiplayer, co-operative]</td>\n",
       "      <td>[Not available]</td>\n",
       "      <td>[Action, Science fiction]</td>\n",
       "      <td>[137922]</td>\n",
       "      <td>None</td>\n",
       "      <td>None</td>\n",
       "      <td>None</td>\n",
       "      <td>[61, 117, 301, 939, 982, 1059, 1147, 1617, 200...</td>\n",
       "      <td>NaN</td>\n",
       "      <td>[34876]</td>\n",
       "      <td>99.653129</td>\n",
       "      <td>8</td>\n",
       "      <td>None</td>\n",
       "      <td>99.653129</td>\n",
       "      <td>8</td>\n",
       "      <td>NaN</td>\n",
       "      <td>None</td>\n",
       "      <td>1.0</td>\n",
       "      <td>NaN</td>\n",
       "      <td>None</td>\n",
       "      <td>1.0</td>\n",
       "      <td>NaN</td>\n",
       "      <td>NaN</td>\n",
       "      <td>None</td>\n",
       "      <td>None</td>\n",
       "      <td>NaN</td>\n",
       "      <td>NaN</td>\n",
       "      <td>[14646]</td>\n",
       "      <td>None</td>\n",
       "      <td>None</td>\n",
       "      <td>None</td>\n",
       "      <td>None</td>\n",
       "      <td>None</td>\n",
       "      <td>None</td>\n",
       "      <td>None</td>\n",
       "      <td>NaN</td>\n",
       "      <td>None</td>\n",
       "      <td>None</td>\n",
       "      <td>NaN</td>\n",
       "      <td>False</td>\n",
       "      <td>False</td>\n",
       "      <td>False</td>\n",
       "      <td>False</td>\n",
       "      <td>0</td>\n",
       "      <td>False</td>\n",
       "      <td>NaN</td>\n",
       "      <td>False</td>\n",
       "      <td>None</td>\n",
       "      <td>0</td>\n",
       "      <td>0</td>\n",
       "      <td>0</td>\n",
       "      <td>subperb</td>\n",
       "    </tr>\n",
       "    <tr>\n",
       "      <th>305852</th>\n",
       "      <td>122661</td>\n",
       "      <td>2</td>\n",
       "      <td>2019-09-30 18:02:49</td>\n",
       "      <td>None</td>\n",
       "      <td>1.569974e+09</td>\n",
       "      <td>[strategy]</td>\n",
       "      <td>Gwent: Iron Judgment</td>\n",
       "      <td>[Xbox One]</td>\n",
       "      <td>[176738]</td>\n",
       "      <td>[11407, 13196, 19404, 32510, 56967, 99118, 113...</td>\n",
       "      <td>gwent-iron-judgment</td>\n",
       "      <td>The North is on the rise and Radovid is back t...</td>\n",
       "      <td>[17, 268435471, 536874083]</td>\n",
       "      <td>2022-06-26 15:17:40</td>\n",
       "      <td>https://www.igdb.com/games/gwent-iron-judgment</td>\n",
       "      <td>95911dcd-38ae-f9ce-631a-d4891df2f319</td>\n",
       "      <td>[25968, 25969]</td>\n",
       "      <td>81851.0</td>\n",
       "      <td>[92867]</td>\n",
       "      <td>[361507, 361509, 361510, 361511, 361512, 361513]</td>\n",
       "      <td>[single-player, multiplayer]</td>\n",
       "      <td>[Bird view / Isometric]</td>\n",
       "      <td>[Fantasy]</td>\n",
       "      <td>[117340, 117341, 117342, 117343, 133387, 13338...</td>\n",
       "      <td>None</td>\n",
       "      <td>None</td>\n",
       "      <td>None</td>\n",
       "      <td>[3171]</td>\n",
       "      <td>NaN</td>\n",
       "      <td>[30243]</td>\n",
       "      <td>99.526142</td>\n",
       "      <td>6</td>\n",
       "      <td>None</td>\n",
       "      <td>99.526142</td>\n",
       "      <td>6</td>\n",
       "      <td>NaN</td>\n",
       "      <td>None</td>\n",
       "      <td>NaN</td>\n",
       "      <td>62.0</td>\n",
       "      <td>[452]</td>\n",
       "      <td>1.0</td>\n",
       "      <td>NaN</td>\n",
       "      <td>NaN</td>\n",
       "      <td>None</td>\n",
       "      <td>None</td>\n",
       "      <td>19474.0</td>\n",
       "      <td>NaN</td>\n",
       "      <td>None</td>\n",
       "      <td>None</td>\n",
       "      <td>None</td>\n",
       "      <td>None</td>\n",
       "      <td>None</td>\n",
       "      <td>None</td>\n",
       "      <td>None</td>\n",
       "      <td>None</td>\n",
       "      <td>NaN</td>\n",
       "      <td>None</td>\n",
       "      <td>None</td>\n",
       "      <td>NaN</td>\n",
       "      <td>False</td>\n",
       "      <td>False</td>\n",
       "      <td>False</td>\n",
       "      <td>False</td>\n",
       "      <td>0</td>\n",
       "      <td>False</td>\n",
       "      <td>NaN</td>\n",
       "      <td>False</td>\n",
       "      <td>None</td>\n",
       "      <td>0</td>\n",
       "      <td>0</td>\n",
       "      <td>0</td>\n",
       "      <td>subperb</td>\n",
       "    </tr>\n",
       "    <tr>\n",
       "      <th>220894</th>\n",
       "      <td>212871</td>\n",
       "      <td>0</td>\n",
       "      <td>2022-08-08 16:47:12</td>\n",
       "      <td>[2529526]</td>\n",
       "      <td>1.643674e+09</td>\n",
       "      <td>[shooter, tactical, indie, arcade]</td>\n",
       "      <td>DeFi Land</td>\n",
       "      <td>[Android, iOS, Web browser]</td>\n",
       "      <td>[378539, 378540, 378541]</td>\n",
       "      <td>[19549, 25901, 32902, 38967, 43367, 55042, 762...</td>\n",
       "      <td>defi-land--2</td>\n",
       "      <td>DeFi Land is the place to enjoy a farming, fis...</td>\n",
       "      <td>[268435461, 268435480, 268435488, 268435489, 5...</td>\n",
       "      <td>2022-08-28 05:38:59</td>\n",
       "      <td>https://www.igdb.com/games/defi-land--2</td>\n",
       "      <td>07fdd449-1ff8-4598-e2b6-5f70ee279a98</td>\n",
       "      <td>None</td>\n",
       "      <td>236347.0</td>\n",
       "      <td>[182107]</td>\n",
       "      <td>None</td>\n",
       "      <td>[single-player, multiplayer]</td>\n",
       "      <td>[First person, Bird view / Isometric]</td>\n",
       "      <td>[Not available]</td>\n",
       "      <td>[302915, 302916, 302917, 302918, 302919, 302920]</td>\n",
       "      <td>None</td>\n",
       "      <td>None</td>\n",
       "      <td>None</td>\n",
       "      <td>[509, 1103, 1104, 17003, 17275, 23116, 26520, ...</td>\n",
       "      <td>3.0</td>\n",
       "      <td>[72976]</td>\n",
       "      <td>100.000000</td>\n",
       "      <td>6</td>\n",
       "      <td>None</td>\n",
       "      <td>100.000000</td>\n",
       "      <td>6</td>\n",
       "      <td>NaN</td>\n",
       "      <td>None</td>\n",
       "      <td>NaN</td>\n",
       "      <td>NaN</td>\n",
       "      <td>None</td>\n",
       "      <td>5.0</td>\n",
       "      <td>NaN</td>\n",
       "      <td>NaN</td>\n",
       "      <td>None</td>\n",
       "      <td>None</td>\n",
       "      <td>NaN</td>\n",
       "      <td>NaN</td>\n",
       "      <td>[20239, 20240, 20241]</td>\n",
       "      <td>None</td>\n",
       "      <td>None</td>\n",
       "      <td>None</td>\n",
       "      <td>None</td>\n",
       "      <td>None</td>\n",
       "      <td>None</td>\n",
       "      <td>None</td>\n",
       "      <td>NaN</td>\n",
       "      <td>None</td>\n",
       "      <td>None</td>\n",
       "      <td>NaN</td>\n",
       "      <td>False</td>\n",
       "      <td>False</td>\n",
       "      <td>False</td>\n",
       "      <td>False</td>\n",
       "      <td>0</td>\n",
       "      <td>False</td>\n",
       "      <td>NaN</td>\n",
       "      <td>False</td>\n",
       "      <td>None</td>\n",
       "      <td>0</td>\n",
       "      <td>0</td>\n",
       "      <td>0</td>\n",
       "      <td>subperb</td>\n",
       "    </tr>\n",
       "    <tr>\n",
       "      <th>397118</th>\n",
       "      <td>25651</td>\n",
       "      <td>1</td>\n",
       "      <td>2016-11-08 15:05:51</td>\n",
       "      <td>[76901, 2047519]</td>\n",
       "      <td>1.497830e+09</td>\n",
       "      <td>[strategy, adventure, indie]</td>\n",
       "      <td>Darkest Dungeon: The Crimson Court</td>\n",
       "      <td>[Linux, PC (Microsoft Windows), Mac, iOS, Play...</td>\n",
       "      <td>[108706, 108707, 108708, 108710, 108711, 108712]</td>\n",
       "      <td>[25646, 27266, 55282, 68271, 79134, 87514, 109...</td>\n",
       "      <td>darkest-dungeon-the-crimson-court</td>\n",
       "      <td>\"THE BLOOD...I MUST HAVE THE BLOOD!\" \\n \\nDark...</td>\n",
       "      <td>[19, 268435471, 268435487, 268435488]</td>\n",
       "      <td>2022-09-20 18:06:13</td>\n",
       "      <td>https://www.igdb.com/games/darkest-dungeon-the...</td>\n",
       "      <td>ad4a9a1d-9338-72f1-bf55-1d136da2acf1</td>\n",
       "      <td>None</td>\n",
       "      <td>68955.0</td>\n",
       "      <td>[52855, 97148]</td>\n",
       "      <td>[257999, 258000, 258001, 258002]</td>\n",
       "      <td>[single-player]</td>\n",
       "      <td>[Side view]</td>\n",
       "      <td>[Horror]</td>\n",
       "      <td>[53986, 53987, 92111, 118759]</td>\n",
       "      <td>None</td>\n",
       "      <td>[5554, 5555, 5556]</td>\n",
       "      <td>None</td>\n",
       "      <td>None</td>\n",
       "      <td>NaN</td>\n",
       "      <td>[22808]</td>\n",
       "      <td>99.074099</td>\n",
       "      <td>5</td>\n",
       "      <td>None</td>\n",
       "      <td>88.787049</td>\n",
       "      <td>10</td>\n",
       "      <td>NaN</td>\n",
       "      <td>None</td>\n",
       "      <td>NaN</td>\n",
       "      <td>NaN</td>\n",
       "      <td>None</td>\n",
       "      <td>5.0</td>\n",
       "      <td>78.5</td>\n",
       "      <td>5.0</td>\n",
       "      <td>None</td>\n",
       "      <td>None</td>\n",
       "      <td>8965.0</td>\n",
       "      <td>NaN</td>\n",
       "      <td>None</td>\n",
       "      <td>None</td>\n",
       "      <td>None</td>\n",
       "      <td>None</td>\n",
       "      <td>None</td>\n",
       "      <td>None</td>\n",
       "      <td>None</td>\n",
       "      <td>None</td>\n",
       "      <td>NaN</td>\n",
       "      <td>None</td>\n",
       "      <td>None</td>\n",
       "      <td>NaN</td>\n",
       "      <td>False</td>\n",
       "      <td>False</td>\n",
       "      <td>False</td>\n",
       "      <td>False</td>\n",
       "      <td>0</td>\n",
       "      <td>False</td>\n",
       "      <td>NaN</td>\n",
       "      <td>False</td>\n",
       "      <td>None</td>\n",
       "      <td>0</td>\n",
       "      <td>0</td>\n",
       "      <td>0</td>\n",
       "      <td>subperb</td>\n",
       "    </tr>\n",
       "    <tr>\n",
       "      <th>80520</th>\n",
       "      <td>11226</td>\n",
       "      <td>0</td>\n",
       "      <td>2015-06-19 06:24:46</td>\n",
       "      <td>[1985247, 2072253]</td>\n",
       "      <td>9.598176e+08</td>\n",
       "      <td>[simulator, sport]</td>\n",
       "      <td>Anstoss 3</td>\n",
       "      <td>[PC (Microsoft Windows)]</td>\n",
       "      <td>[30846]</td>\n",
       "      <td>[29173, 30830, 38967, 55888, 78511, 114285, 11...</td>\n",
       "      <td>anstoss-3</td>\n",
       "      <td>2000 wurde mit Anstoss 3 die zweite Fortsetzun...</td>\n",
       "      <td>[28, 268435469, 268435470, 536872078, 53687242...</td>\n",
       "      <td>2022-04-09 12:59:37</td>\n",
       "      <td>https://www.igdb.com/games/anstoss-3</td>\n",
       "      <td>52480bb0-5a26-8c73-6f90-4edeb85e1da5</td>\n",
       "      <td>None</td>\n",
       "      <td>10508.0</td>\n",
       "      <td>[24362]</td>\n",
       "      <td>[515729, 515730, 515731, 515732, 515733]</td>\n",
       "      <td>[single-player, multiplayer]</td>\n",
       "      <td>[Text]</td>\n",
       "      <td>[Business]</td>\n",
       "      <td>[3661, 196872]</td>\n",
       "      <td>[17971, 18442]</td>\n",
       "      <td>[40881]</td>\n",
       "      <td>None</td>\n",
       "      <td>[1166, 1511, 1626]</td>\n",
       "      <td>NaN</td>\n",
       "      <td>[4495]</td>\n",
       "      <td>99.622286</td>\n",
       "      <td>7</td>\n",
       "      <td>None</td>\n",
       "      <td>99.622286</td>\n",
       "      <td>7</td>\n",
       "      <td>NaN</td>\n",
       "      <td>None</td>\n",
       "      <td>NaN</td>\n",
       "      <td>1499.0</td>\n",
       "      <td>[583]</td>\n",
       "      <td>2.0</td>\n",
       "      <td>NaN</td>\n",
       "      <td>NaN</td>\n",
       "      <td>None</td>\n",
       "      <td>None</td>\n",
       "      <td>NaN</td>\n",
       "      <td>NaN</td>\n",
       "      <td>None</td>\n",
       "      <td>None</td>\n",
       "      <td>None</td>\n",
       "      <td>None</td>\n",
       "      <td>None</td>\n",
       "      <td>None</td>\n",
       "      <td>None</td>\n",
       "      <td>None</td>\n",
       "      <td>NaN</td>\n",
       "      <td>None</td>\n",
       "      <td>None</td>\n",
       "      <td>NaN</td>\n",
       "      <td>False</td>\n",
       "      <td>False</td>\n",
       "      <td>False</td>\n",
       "      <td>False</td>\n",
       "      <td>0</td>\n",
       "      <td>False</td>\n",
       "      <td>NaN</td>\n",
       "      <td>False</td>\n",
       "      <td>None</td>\n",
       "      <td>0</td>\n",
       "      <td>0</td>\n",
       "      <td>0</td>\n",
       "      <td>subperb</td>\n",
       "    </tr>\n",
       "    <tr>\n",
       "      <th>265893</th>\n",
       "      <td>45131</td>\n",
       "      <td>0</td>\n",
       "      <td>2017-07-07 19:05:58</td>\n",
       "      <td>[26297, 1933044]</td>\n",
       "      <td>1.379376e+09</td>\n",
       "      <td>[shooter, racing, sport]</td>\n",
       "      <td>Grand Theft Auto V: Special Edition</td>\n",
       "      <td>[PlayStation 3, Xbox 360]</td>\n",
       "      <td>[94075, 159145]</td>\n",
       "      <td>[19164, 87673, 90099, 105011, 105049, 106805, ...</td>\n",
       "      <td>grand-theft-auto-v-special-edition</td>\n",
       "      <td>The Grand Theft Auto V Special Edition include...</td>\n",
       "      <td>[1, 27, 38, 268435461, 268435466, 268435470]</td>\n",
       "      <td>2022-09-13 02:51:37</td>\n",
       "      <td>https://www.igdb.com/games/grand-theft-auto-v-...</td>\n",
       "      <td>be797ae5-6c42-7417-2fa6-09b756e3c529</td>\n",
       "      <td>[90110]</td>\n",
       "      <td>123528.0</td>\n",
       "      <td>[104253, 104254]</td>\n",
       "      <td>[344198, 393460, 393461, 393462]</td>\n",
       "      <td>[single-player]</td>\n",
       "      <td>[First person, Third person]</td>\n",
       "      <td>[Action, Comedy, Open world]</td>\n",
       "      <td>None</td>\n",
       "      <td>[53202, 53203, 53204, 53205, 53206]</td>\n",
       "      <td>None</td>\n",
       "      <td>None</td>\n",
       "      <td>None</td>\n",
       "      <td>NaN</td>\n",
       "      <td>None</td>\n",
       "      <td>99.734510</td>\n",
       "      <td>12</td>\n",
       "      <td>None</td>\n",
       "      <td>99.734510</td>\n",
       "      <td>12</td>\n",
       "      <td>1020.0</td>\n",
       "      <td>Special Edition</td>\n",
       "      <td>NaN</td>\n",
       "      <td>847.0</td>\n",
       "      <td>[493]</td>\n",
       "      <td>1.0</td>\n",
       "      <td>NaN</td>\n",
       "      <td>NaN</td>\n",
       "      <td>None</td>\n",
       "      <td>None</td>\n",
       "      <td>NaN</td>\n",
       "      <td>NaN</td>\n",
       "      <td>None</td>\n",
       "      <td>None</td>\n",
       "      <td>None</td>\n",
       "      <td>None</td>\n",
       "      <td>None</td>\n",
       "      <td>None</td>\n",
       "      <td>None</td>\n",
       "      <td>None</td>\n",
       "      <td>NaN</td>\n",
       "      <td>None</td>\n",
       "      <td>None</td>\n",
       "      <td>NaN</td>\n",
       "      <td>False</td>\n",
       "      <td>False</td>\n",
       "      <td>False</td>\n",
       "      <td>False</td>\n",
       "      <td>0</td>\n",
       "      <td>False</td>\n",
       "      <td>NaN</td>\n",
       "      <td>False</td>\n",
       "      <td>None</td>\n",
       "      <td>0</td>\n",
       "      <td>0</td>\n",
       "      <td>0</td>\n",
       "      <td>subperb</td>\n",
       "    </tr>\n",
       "  </tbody>\n",
       "</table>\n",
       "</div>"
      ],
      "text/plain": [
       "            id  category          created_at            external_games  \\\n",
       "238245   14173         1 2015-10-22 20:27:31                      None   \n",
       "352643  138851        12 2020-09-15 01:13:40                 [1998974]   \n",
       "293733   72327         0 2017-09-30 00:54:38  [73633, 119359, 1185935]   \n",
       "305852  122661         2 2019-09-30 18:02:49                      None   \n",
       "220894  212871         0 2022-08-08 16:47:12                 [2529526]   \n",
       "397118   25651         1 2016-11-08 15:05:51          [76901, 2047519]   \n",
       "80520    11226         0 2015-06-19 06:24:46        [1985247, 2072253]   \n",
       "265893   45131         0 2017-07-07 19:05:58          [26297, 1933044]   \n",
       "\n",
       "        first_release_date                              genres  \\\n",
       "238245        1.072829e+09           [turn-based-strategy-tbs]   \n",
       "352643        1.298938e+09                             [music]   \n",
       "293733        1.303344e+09         [hack-and-slash-beat-em-up]   \n",
       "305852        1.569974e+09                          [strategy]   \n",
       "220894        1.643674e+09  [shooter, tactical, indie, arcade]   \n",
       "397118        1.497830e+09        [strategy, adventure, indie]   \n",
       "80520         9.598176e+08                  [simulator, sport]   \n",
       "265893        1.379376e+09            [shooter, racing, sport]   \n",
       "\n",
       "                                                    name  \\\n",
       "238245  Heroes of Might and Magic III: Horn of the Abyss   \n",
       "352643                                 Not In The Groove   \n",
       "293733                            Streets of Rage Remake   \n",
       "305852                              Gwent: Iron Judgment   \n",
       "220894                                         DeFi Land   \n",
       "397118                Darkest Dungeon: The Crimson Court   \n",
       "80520                                          Anstoss 3   \n",
       "265893               Grand Theft Auto V: Special Edition   \n",
       "\n",
       "                                                platforms  \\\n",
       "238245                           [PC (Microsoft Windows)]   \n",
       "352643                           [PC (Microsoft Windows)]   \n",
       "293733                           [PC (Microsoft Windows)]   \n",
       "305852                                         [Xbox One]   \n",
       "220894                        [Android, iOS, Web browser]   \n",
       "397118  [Linux, PC (Microsoft Windows), Mac, iOS, Play...   \n",
       "80520                            [PC (Microsoft Windows)]   \n",
       "265893                          [PlayStation 3, Xbox 360]   \n",
       "\n",
       "                                           release_dates  \\\n",
       "238245                                          [197137]   \n",
       "352643                                          [210626]   \n",
       "293733                                          [192346]   \n",
       "305852                                          [176738]   \n",
       "220894                          [378539, 378540, 378541]   \n",
       "397118  [108706, 108707, 108708, 108710, 108711, 108712]   \n",
       "80520                                            [30846]   \n",
       "265893                                   [94075, 159145]   \n",
       "\n",
       "                                            similar_games  \\\n",
       "238245  [7615, 9472, 13196, 93694, 99118, 106104, 1111...   \n",
       "352643  [31496, 63933, 77720, 84922, 86847, 87150, 110...   \n",
       "293733  [1652, 1655, 3222, 14704, 21564, 22387, 27419,...   \n",
       "305852  [11407, 13196, 19404, 32510, 56967, 99118, 113...   \n",
       "220894  [19549, 25901, 32902, 38967, 43367, 55042, 762...   \n",
       "397118  [25646, 27266, 55282, 68271, 79134, 87514, 109...   \n",
       "80520   [29173, 30830, 38967, 55888, 78511, 114285, 11...   \n",
       "265893  [19164, 87673, 90099, 105011, 105049, 106805, ...   \n",
       "\n",
       "                                                   slug  \\\n",
       "238245  heroes-of-might-and-magic-iii-horn-of-the-abyss   \n",
       "352643                                not-in-the-groove   \n",
       "293733                           streets-of-rage-remake   \n",
       "305852                              gwent-iron-judgment   \n",
       "220894                                     defi-land--2   \n",
       "397118                darkest-dungeon-the-crimson-court   \n",
       "80520                                         anstoss-3   \n",
       "265893               grand-theft-auto-v-special-edition   \n",
       "\n",
       "                                                  summary  \\\n",
       "238245  Heroes of Might and Magic III: Horn of the Aby...   \n",
       "352643  A rhythm game based on StepMania, In The Groov...   \n",
       "293733  Streets of Rage Remake is a fangame reboot on ...   \n",
       "305852  The North is on the rise and Radovid is back t...   \n",
       "220894  DeFi Land is the place to enjoy a farming, fis...   \n",
       "397118  \"THE BLOOD...I MUST HAVE THE BLOOD!\" \\n \\nDark...   \n",
       "80520   2000 wurde mit Anstoss 3 die zweite Fortsetzun...   \n",
       "265893  The Grand Theft Auto V Special Edition include...   \n",
       "\n",
       "                                                     tags          updated_at  \\\n",
       "238245  [17, 268435472, 536871946, 536872059, 53687246... 2022-08-10 06:34:00   \n",
       "352643  [268435463, 536871946, 536872476, 536872612, 5... 2022-01-14 23:10:25   \n",
       "293733  [1, 18, 268435481, 536870973, 536871029, 53687... 2022-08-12 18:32:15   \n",
       "305852                         [17, 268435471, 536874083] 2022-06-26 15:17:40   \n",
       "220894  [268435461, 268435480, 268435488, 268435489, 5... 2022-08-28 05:38:59   \n",
       "397118              [19, 268435471, 268435487, 268435488] 2022-09-20 18:06:13   \n",
       "80520   [28, 268435469, 268435470, 536872078, 53687242... 2022-04-09 12:59:37   \n",
       "265893       [1, 27, 38, 268435461, 268435466, 268435470] 2022-09-13 02:51:37   \n",
       "\n",
       "                                                      url  \\\n",
       "238245  https://www.igdb.com/games/heroes-of-might-and...   \n",
       "352643       https://www.igdb.com/games/not-in-the-groove   \n",
       "293733  https://www.igdb.com/games/streets-of-rage-remake   \n",
       "305852     https://www.igdb.com/games/gwent-iron-judgment   \n",
       "220894            https://www.igdb.com/games/defi-land--2   \n",
       "397118  https://www.igdb.com/games/darkest-dungeon-the...   \n",
       "80520                https://www.igdb.com/games/anstoss-3   \n",
       "265893  https://www.igdb.com/games/grand-theft-auto-v-...   \n",
       "\n",
       "                                  checksum_x     age_ratings     cover  \\\n",
       "238245  75e4c77f-8b08-6cb7-90a6-6eb8dd908495            None   12745.0   \n",
       "352643  71fc1566-5699-0a21-35d8-9bfdfc44f68d            None  114716.0   \n",
       "293733  ac41a2ee-ef9b-afe5-5048-806bb775b597            None  130589.0   \n",
       "305852  95911dcd-38ae-f9ce-631a-d4891df2f319  [25968, 25969]   81851.0   \n",
       "220894  07fdd449-1ff8-4598-e2b6-5f70ee279a98            None  236347.0   \n",
       "397118  ad4a9a1d-9338-72f1-bf55-1d136da2acf1            None   68955.0   \n",
       "80520   52480bb0-5a26-8c73-6f90-4edeb85e1da5            None   10508.0   \n",
       "265893  be797ae5-6c42-7417-2fa6-09b756e3c529         [90110]  123528.0   \n",
       "\n",
       "       involved_companies                                       screenshots  \\\n",
       "238245            [99879]                                              None   \n",
       "352643               None                                              None   \n",
       "293733            [95431]                          [127037, 127038, 127039]   \n",
       "305852            [92867]  [361507, 361509, 361510, 361511, 361512, 361513]   \n",
       "220894           [182107]                                              None   \n",
       "397118     [52855, 97148]                  [257999, 258000, 258001, 258002]   \n",
       "80520             [24362]          [515729, 515730, 515731, 515732, 515733]   \n",
       "265893   [104253, 104254]                  [344198, 393460, 393461, 393462]   \n",
       "\n",
       "                                        game_modes  \\\n",
       "238245                [single-player, multiplayer]   \n",
       "352643                [single-player, multiplayer]   \n",
       "293733  [single-player, multiplayer, co-operative]   \n",
       "305852                [single-player, multiplayer]   \n",
       "220894                [single-player, multiplayer]   \n",
       "397118                             [single-player]   \n",
       "80520                 [single-player, multiplayer]   \n",
       "265893                             [single-player]   \n",
       "\n",
       "                          player_perspectives                        themes  \\\n",
       "238245                [Bird view / Isometric]                     [Fantasy]   \n",
       "352643                             [Auditory]               [Not available]   \n",
       "293733                        [Not available]     [Action, Science fiction]   \n",
       "305852                [Bird view / Isometric]                     [Fantasy]   \n",
       "220894  [First person, Bird view / Isometric]               [Not available]   \n",
       "397118                            [Side view]                      [Horror]   \n",
       "80520                                  [Text]                    [Business]   \n",
       "265893           [First person, Third person]  [Action, Comedy, Open world]   \n",
       "\n",
       "                                                 websites  \\\n",
       "238245                                       [5046, 5047]   \n",
       "352643                                           [256486]   \n",
       "293733                                           [137922]   \n",
       "305852  [117340, 117341, 117342, 117343, 133387, 13338...   \n",
       "220894   [302915, 302916, 302917, 302918, 302919, 302920]   \n",
       "397118                      [53986, 53987, 92111, 118759]   \n",
       "80520                                      [3661, 196872]   \n",
       "265893                                               None   \n",
       "\n",
       "                          alternative_names            artworks game_engines  \\\n",
       "238245                              [49693]                None         None   \n",
       "352643                       [49298, 56117]                None         None   \n",
       "293733                                 None                None         None   \n",
       "305852                                 None                None         None   \n",
       "220894                                 None                None         None   \n",
       "397118                                 None  [5554, 5555, 5556]         None   \n",
       "80520                        [17971, 18442]             [40881]         None   \n",
       "265893  [53202, 53203, 53204, 53205, 53206]                None         None   \n",
       "\n",
       "                                                 keywords  status   videos  \\\n",
       "238245                           [1034, 1147, 1549, 2004]     NaN     None   \n",
       "352643                   [1034, 1564, 1700, 12853, 20708]     NaN     None   \n",
       "293733  [61, 117, 301, 939, 982, 1059, 1147, 1617, 200...     NaN  [34876]   \n",
       "305852                                             [3171]     NaN  [30243]   \n",
       "220894  [509, 1103, 1104, 17003, 17275, 23116, 26520, ...     3.0  [72976]   \n",
       "397118                                               None     NaN  [22808]   \n",
       "80520                                  [1166, 1511, 1626]     NaN   [4495]   \n",
       "265893                                               None     NaN     None   \n",
       "\n",
       "            rating  rating_count storyline  total_rating  total_rating_count  \\\n",
       "238245   99.264183            13      None     99.264183                  13   \n",
       "352643   99.033844            13      None     99.033844                  13   \n",
       "293733   99.653129             8      None     99.653129                   8   \n",
       "305852   99.526142             6      None     99.526142                   6   \n",
       "220894  100.000000             6      None    100.000000                   6   \n",
       "397118   99.074099             5      None     88.787049                  10   \n",
       "80520    99.622286             7      None     99.622286                   7   \n",
       "265893   99.734510            12      None     99.734510                  12   \n",
       "\n",
       "        version_parent    version_title  hypes  collection franchises  \\\n",
       "238245             NaN             None    3.0       194.0      [458]   \n",
       "352643             NaN             None    1.0         NaN       None   \n",
       "293733             NaN             None    1.0         NaN       None   \n",
       "305852             NaN             None    NaN        62.0      [452]   \n",
       "220894             NaN             None    NaN         NaN       None   \n",
       "397118             NaN             None    NaN         NaN       None   \n",
       "80520              NaN             None    NaN      1499.0      [583]   \n",
       "265893          1020.0  Special Edition    NaN       847.0      [493]   \n",
       "\n",
       "        follows  aggregated_rating  aggregated_rating_count  dlcs bundles  \\\n",
       "238245      5.0                NaN                      NaN  None    None   \n",
       "352643     10.0                NaN                      NaN  None    None   \n",
       "293733      1.0                NaN                      NaN  None    None   \n",
       "305852      1.0                NaN                      NaN  None    None   \n",
       "220894      5.0                NaN                      NaN  None    None   \n",
       "397118      5.0               78.5                      5.0  None    None   \n",
       "80520       2.0                NaN                      NaN  None    None   \n",
       "265893      1.0                NaN                      NaN  None    None   \n",
       "\n",
       "        parent_game  franchise      multiplayer_modes remakes ports  \\\n",
       "238245        366.0        NaN                   None    None  None   \n",
       "352643     144393.0        NaN                [11707]    None  None   \n",
       "293733          NaN        NaN                [14646]    None  None   \n",
       "305852      19474.0        NaN                   None    None  None   \n",
       "220894          NaN        NaN  [20239, 20240, 20241]    None  None   \n",
       "397118       8965.0        NaN                   None    None  None   \n",
       "80520           NaN        NaN                   None    None  None   \n",
       "265893          NaN        NaN                   None    None  None   \n",
       "\n",
       "       expansions expanded_games remasters forks standalone_expansions  \\\n",
       "238245       None           None      None  None                  None   \n",
       "352643       None           None      None  None                  None   \n",
       "293733       None           None      None  None                  None   \n",
       "305852       None           None      None  None                  None   \n",
       "220894       None           None      None  None                  None   \n",
       "397118       None           None      None  None                  None   \n",
       "80520        None           None      None  None                  None   \n",
       "265893       None           None      None  None                  None   \n",
       "\n",
       "        second version_description title_version  second_id  campaigncoop  \\\n",
       "238245     NaN                None          None        NaN         False   \n",
       "352643     NaN                None          None        NaN         False   \n",
       "293733     NaN                None          None        NaN         False   \n",
       "305852     NaN                None          None        NaN         False   \n",
       "220894     NaN                None          None        NaN         False   \n",
       "397118     NaN                None          None        NaN         False   \n",
       "80520      NaN                None          None        NaN         False   \n",
       "265893     NaN                None          None        NaN         False   \n",
       "\n",
       "        dropin  lancoop  offlinecoop  offlinemax  onlinecoop  platform  \\\n",
       "238245   False    False        False           0       False       NaN   \n",
       "352643   False    False        False           0       False       NaN   \n",
       "293733   False    False        False           0       False       NaN   \n",
       "305852   False    False        False           0       False       NaN   \n",
       "220894   False    False        False           0       False       NaN   \n",
       "397118   False    False        False           0       False       NaN   \n",
       "80520    False    False        False           0       False       NaN   \n",
       "265893   False    False        False           0       False       NaN   \n",
       "\n",
       "        splitscreen checksum_y  offlinecoopmax  onlinecoopmax  onlinemax  \\\n",
       "238245        False       None               0              0          0   \n",
       "352643        False       None               0              0          0   \n",
       "293733        False       None               0              0          0   \n",
       "305852        False       None               0              0          0   \n",
       "220894        False       None               0              0          0   \n",
       "397118        False       None               0              0          0   \n",
       "80520         False       None               0              0          0   \n",
       "265893        False       None               0              0          0   \n",
       "\n",
       "       rating_bin  \n",
       "238245    subperb  \n",
       "352643    subperb  \n",
       "293733    subperb  \n",
       "305852    subperb  \n",
       "220894    subperb  \n",
       "397118    subperb  \n",
       "80520     subperb  \n",
       "265893    subperb  "
      ]
     },
     "execution_count": 109,
     "metadata": {},
     "output_type": "execute_result"
    }
   ],
   "source": [
    "super_high_rating"
   ]
  },
  {
   "cell_type": "markdown",
   "id": "f6273536",
   "metadata": {},
   "source": [
    "# What Are the most common player perspectives in "
   ]
  },
  {
   "cell_type": "code",
   "execution_count": 32,
   "id": "db067be2",
   "metadata": {
    "scrolled": true
   },
   "outputs": [
    {
     "data": {
      "text/plain": [
       "[Third person]                                                          329\n",
       "[Bird view / Isometric]                                                 247\n",
       "[First person, Third person]                                            235\n",
       "[Side view]                                                              31\n",
       "[Not available]                                                          20\n",
       "[First person]                                                           15\n",
       "[Third person, Bird view / Isometric]                                     6\n",
       "[Text]                                                                    5\n",
       "[Bird view / Isometric, Text]                                             4\n",
       "[Bird view / Isometric, Side view]                                        3\n",
       "[First person, Text]                                                      2\n",
       "[Bird view / Isometric, Auditory]                                         1\n",
       "[Auditory]                                                                1\n",
       "[Third person, Text]                                                      1\n",
       "[First person, Third person, Text]                                        1\n",
       "[First person, Third person, Side view]                                   1\n",
       "[First person, Bird view / Isometric]                                     1\n",
       "[First person, Third person, Bird view / Isometric, Side view, Text]      1\n",
       "[Third person, Side view]                                                 1\n",
       "[Virtual Reality]                                                         1\n",
       "[First person, Third person, Bird view / Isometric]                       1\n",
       "[Side view, Text]                                                         1\n",
       "[First person, Virtual Reality]                                           1\n",
       "Name: player_perspectives, dtype: int64"
      ]
     },
     "execution_count": 32,
     "metadata": {},
     "output_type": "execute_result"
    }
   ],
   "source": [
    "df_subperb_rating.player_perspectives.value_counts()"
   ]
  },
  {
   "cell_type": "code",
   "execution_count": 133,
   "id": "05877ada",
   "metadata": {
    "scrolled": false
   },
   "outputs": [
    {
     "data": {
      "text/plain": [
       "Text(0.5, 1.0, 'Most common Player Perspective in Superb Rated Games')"
      ]
     },
     "execution_count": 133,
     "metadata": {},
     "output_type": "execute_result"
    },
    {
     "data": {
      "image/png": "[encoded data removed]",
      "text/plain": [
       "<Figure size 1008x432 with 1 Axes>"
      ]
     },
     "metadata": {},
     "output_type": "display_data"
    }
   ],
   "source": [
    "fig, ax = plt.subplots(figsize = (14,6))\n",
    "ax.bar(to_1D(df_subperb_rating[\"player_perspectives\"]).value_counts().iloc[:4].index,\n",
    "        to_1D(df_subperb_rating[\"player_perspectives\"]).value_counts().iloc[:4].values,\n",
    "         color= ['purple'])\n",
    "ax.set_ylabel(\"Frequency\", size = 20)\n",
    "ax.set_title(\"Most common Player Perspective in Superb Rated Games\", size = 20)"
   ]
  },
  {
   "cell_type": "markdown",
   "id": "89a92ebe",
   "metadata": {},
   "source": [
    "- looks like the majority of the best games have third person and, bird view/isometric "
   ]
  },
  {
   "cell_type": "markdown",
   "id": "5c2b32a3",
   "metadata": {},
   "source": [
    "# what can i find more info on subperb ratings?"
   ]
  },
  {
   "cell_type": "code",
   "execution_count": 117,
   "id": "c0d742c8",
   "metadata": {},
   "outputs": [
    {
     "data": {
      "text/html": [
       "<div>\n",
       "<style scoped>\n",
       "    .dataframe tbody tr th:only-of-type {\n",
       "        vertical-align: middle;\n",
       "    }\n",
       "\n",
       "    .dataframe tbody tr th {\n",
       "        vertical-align: top;\n",
       "    }\n",
       "\n",
       "    .dataframe thead th {\n",
       "        text-align: right;\n",
       "    }\n",
       "</style>\n",
       "<table border=\"1\" class=\"dataframe\">\n",
       "  <thead>\n",
       "    <tr style=\"text-align: right;\">\n",
       "      <th></th>\n",
       "      <th>id</th>\n",
       "      <th>category</th>\n",
       "      <th>created_at</th>\n",
       "      <th>external_games</th>\n",
       "      <th>first_release_date</th>\n",
       "      <th>genres</th>\n",
       "      <th>name</th>\n",
       "      <th>platforms</th>\n",
       "      <th>release_dates</th>\n",
       "      <th>similar_games</th>\n",
       "      <th>slug</th>\n",
       "      <th>summary</th>\n",
       "      <th>tags</th>\n",
       "      <th>updated_at</th>\n",
       "      <th>url</th>\n",
       "      <th>checksum_x</th>\n",
       "      <th>age_ratings</th>\n",
       "      <th>cover</th>\n",
       "      <th>involved_companies</th>\n",
       "      <th>screenshots</th>\n",
       "      <th>game_modes</th>\n",
       "      <th>player_perspectives</th>\n",
       "      <th>themes</th>\n",
       "      <th>websites</th>\n",
       "      <th>alternative_names</th>\n",
       "      <th>artworks</th>\n",
       "      <th>game_engines</th>\n",
       "      <th>keywords</th>\n",
       "      <th>status</th>\n",
       "      <th>videos</th>\n",
       "      <th>rating</th>\n",
       "      <th>rating_count</th>\n",
       "      <th>storyline</th>\n",
       "      <th>total_rating</th>\n",
       "      <th>total_rating_count</th>\n",
       "      <th>version_parent</th>\n",
       "      <th>version_title</th>\n",
       "      <th>hypes</th>\n",
       "      <th>collection</th>\n",
       "      <th>franchises</th>\n",
       "      <th>follows</th>\n",
       "      <th>aggregated_rating</th>\n",
       "      <th>aggregated_rating_count</th>\n",
       "      <th>dlcs</th>\n",
       "      <th>bundles</th>\n",
       "      <th>parent_game</th>\n",
       "      <th>franchise</th>\n",
       "      <th>multiplayer_modes</th>\n",
       "      <th>remakes</th>\n",
       "      <th>ports</th>\n",
       "      <th>expansions</th>\n",
       "      <th>expanded_games</th>\n",
       "      <th>remasters</th>\n",
       "      <th>forks</th>\n",
       "      <th>standalone_expansions</th>\n",
       "      <th>second</th>\n",
       "      <th>version_description</th>\n",
       "      <th>title_version</th>\n",
       "      <th>second_id</th>\n",
       "      <th>campaigncoop</th>\n",
       "      <th>dropin</th>\n",
       "      <th>lancoop</th>\n",
       "      <th>offlinecoop</th>\n",
       "      <th>offlinemax</th>\n",
       "      <th>onlinecoop</th>\n",
       "      <th>platform</th>\n",
       "      <th>splitscreen</th>\n",
       "      <th>checksum_y</th>\n",
       "      <th>offlinecoopmax</th>\n",
       "      <th>onlinecoopmax</th>\n",
       "      <th>onlinemax</th>\n",
       "      <th>rating_bin</th>\n",
       "    </tr>\n",
       "  </thead>\n",
       "  <tbody>\n",
       "    <tr>\n",
       "      <th>350151</th>\n",
       "      <td>2617</td>\n",
       "      <td>3</td>\n",
       "      <td>2013-07-17 16:09:09</td>\n",
       "      <td>[43459, 78277]</td>\n",
       "      <td>8.703936e+08</td>\n",
       "      <td>[real-time-strategy-rts, simulator, strategy]</td>\n",
       "      <td>The Settlers II: Gold Edition</td>\n",
       "      <td>[DOS, Mac, Nintendo DS]</td>\n",
       "      <td>[194838, 194839, 194840]</td>\n",
       "      <td>[9789, 18623, 20776, 28325, 29173, 31480, 3151...</td>\n",
       "      <td>the-settlers-ii-gold-edition</td>\n",
       "      <td>The goal of this game is to build a prosperous...</td>\n",
       "      <td>[22, 268435467, 268435469, 268435471, 53687097...</td>\n",
       "      <td>2022-07-11 11:30:50</td>\n",
       "      <td>https://www.igdb.com/games/the-settlers-ii-gol...</td>\n",
       "      <td>db85c417-67eb-2742-d6d1-f80aad673a6a</td>\n",
       "      <td>[27816, 78303]</td>\n",
       "      <td>99902.0</td>\n",
       "      <td>[97957]</td>\n",
       "      <td>[22965, 383044, 383045, 383046]</td>\n",
       "      <td>[single-player, multiplayer, split-screen]</td>\n",
       "      <td>[Bird view / Isometric]</td>\n",
       "      <td>[Historical]</td>\n",
       "      <td>[119754, 139873]</td>\n",
       "      <td>[32095]</td>\n",
       "      <td>None</td>\n",
       "      <td>None</td>\n",
       "      <td>[60, 64, 171, 606, 994, 1148, 1471, 1922, 2002...</td>\n",
       "      <td>NaN</td>\n",
       "      <td>[35570]</td>\n",
       "      <td>92.221300</td>\n",
       "      <td>36</td>\n",
       "      <td>After fighting a losing battle with the raging...</td>\n",
       "      <td>92.221300</td>\n",
       "      <td>36</td>\n",
       "      <td>2596.0</td>\n",
       "      <td>Gold Edition</td>\n",
       "      <td>NaN</td>\n",
       "      <td>619.0</td>\n",
       "      <td>[2165]</td>\n",
       "      <td>22.0</td>\n",
       "      <td>NaN</td>\n",
       "      <td>NaN</td>\n",
       "      <td>None</td>\n",
       "      <td>None</td>\n",
       "      <td>NaN</td>\n",
       "      <td>NaN</td>\n",
       "      <td>[7365]</td>\n",
       "      <td>None</td>\n",
       "      <td>[86493]</td>\n",
       "      <td>None</td>\n",
       "      <td>None</td>\n",
       "      <td>None</td>\n",
       "      <td>None</td>\n",
       "      <td>None</td>\n",
       "      <td>NaN</td>\n",
       "      <td>None</td>\n",
       "      <td>None</td>\n",
       "      <td>7365.0</td>\n",
       "      <td>False</td>\n",
       "      <td>False</td>\n",
       "      <td>False</td>\n",
       "      <td>False</td>\n",
       "      <td>0</td>\n",
       "      <td>False</td>\n",
       "      <td>NaN</td>\n",
       "      <td>False</td>\n",
       "      <td>1c2dfca2-6ee8-b54e-b243-05ffb0c646bc</td>\n",
       "      <td>0</td>\n",
       "      <td>0</td>\n",
       "      <td>0</td>\n",
       "      <td>subperb</td>\n",
       "    </tr>\n",
       "    <tr>\n",
       "      <th>404391</th>\n",
       "      <td>29207</td>\n",
       "      <td>0</td>\n",
       "      <td>2017-05-20 12:20:49</td>\n",
       "      <td>[14106, 77210, 85081, 96659, 2136317]</td>\n",
       "      <td>1.133222e+09</td>\n",
       "      <td>[role-playing-rpg]</td>\n",
       "      <td>Gothic II: Gold Edition</td>\n",
       "      <td>[PC (Microsoft Windows)]</td>\n",
       "      <td>[196063]</td>\n",
       "      <td>[19164, 54775, 81249, 96217, 99118, 101608, 10...</td>\n",
       "      <td>gothic-ii-gold-edition</td>\n",
       "      <td>Gothic II: Gold Edition brings together the ex...</td>\n",
       "      <td>[1, 17, 38, 268435468]</td>\n",
       "      <td>2022-09-25 09:56:26</td>\n",
       "      <td>https://www.igdb.com/games/gothic-ii-gold-edition</td>\n",
       "      <td>0b0d512e-1add-c724-d6a5-f69e9043c619</td>\n",
       "      <td>[27942]</td>\n",
       "      <td>81332.0</td>\n",
       "      <td>[47901, 99186]</td>\n",
       "      <td>[102680, 102681, 102682, 102683, 102684]</td>\n",
       "      <td>[single-player]</td>\n",
       "      <td>[Third person]</td>\n",
       "      <td>[Action, Fantasy, Open world]</td>\n",
       "      <td>[26765, 26766, 118909, 140843]</td>\n",
       "      <td>None</td>\n",
       "      <td>[55855]</td>\n",
       "      <td>[134]</td>\n",
       "      <td>None</td>\n",
       "      <td>NaN</td>\n",
       "      <td>None</td>\n",
       "      <td>90.003422</td>\n",
       "      <td>5</td>\n",
       "      <td>None</td>\n",
       "      <td>90.003422</td>\n",
       "      <td>5</td>\n",
       "      <td>2262.0</td>\n",
       "      <td>Gold Edition</td>\n",
       "      <td>NaN</td>\n",
       "      <td>463.0</td>\n",
       "      <td>None</td>\n",
       "      <td>NaN</td>\n",
       "      <td>NaN</td>\n",
       "      <td>NaN</td>\n",
       "      <td>None</td>\n",
       "      <td>None</td>\n",
       "      <td>NaN</td>\n",
       "      <td>NaN</td>\n",
       "      <td>None</td>\n",
       "      <td>None</td>\n",
       "      <td>None</td>\n",
       "      <td>None</td>\n",
       "      <td>None</td>\n",
       "      <td>None</td>\n",
       "      <td>None</td>\n",
       "      <td>None</td>\n",
       "      <td>NaN</td>\n",
       "      <td>None</td>\n",
       "      <td>None</td>\n",
       "      <td>NaN</td>\n",
       "      <td>False</td>\n",
       "      <td>False</td>\n",
       "      <td>False</td>\n",
       "      <td>False</td>\n",
       "      <td>0</td>\n",
       "      <td>False</td>\n",
       "      <td>NaN</td>\n",
       "      <td>False</td>\n",
       "      <td>None</td>\n",
       "      <td>0</td>\n",
       "      <td>0</td>\n",
       "      <td>0</td>\n",
       "      <td>subperb</td>\n",
       "    </tr>\n",
       "    <tr>\n",
       "      <th>413553</th>\n",
       "      <td>59849</td>\n",
       "      <td>9</td>\n",
       "      <td>2017-09-07 18:41:31</td>\n",
       "      <td>[197757, 210636, 398654, 1237237, 2000741, 211...</td>\n",
       "      <td>1.510618e+09</td>\n",
       "      <td>[shooter, strategy, adventure]</td>\n",
       "      <td>L.A. Noire</td>\n",
       "      <td>[PlayStation 4, Xbox One]</td>\n",
       "      <td>[112409, 112410, 135021, 135022, 136102]</td>\n",
       "      <td>[17379, 17548, 18167, 18225, 26574, 27092, 285...</td>\n",
       "      <td>la-noire</td>\n",
       "      <td>L.A. Noire for PlayStation 4 and Xbox One deli...</td>\n",
       "      <td>[1, 20, 22, 33, 38, 39, 43, 268435461, 2684354...</td>\n",
       "      <td>2022-09-22 13:55:14</td>\n",
       "      <td>https://www.igdb.com/games/la-noire</td>\n",
       "      <td>1db7b5e1-bc8b-cc45-e4b5-2f7b15aa5cf2</td>\n",
       "      <td>[61480, 62001, 93238]</td>\n",
       "      <td>120996.0</td>\n",
       "      <td>[54124]</td>\n",
       "      <td>[141184, 141185, 141186, 141187, 146355]</td>\n",
       "      <td>[single-player]</td>\n",
       "      <td>[Third person]</td>\n",
       "      <td>[Action, Thriller, Historical, Sandbox, Open w...</td>\n",
       "      <td>[56427]</td>\n",
       "      <td>[60591, 103643]</td>\n",
       "      <td>[46639, 46640]</td>\n",
       "      <td>None</td>\n",
       "      <td>[1323, 1669, 4076, 4357, 16826, 16828, 16894, ...</td>\n",
       "      <td>NaN</td>\n",
       "      <td>[16469, 16484]</td>\n",
       "      <td>92.990746</td>\n",
       "      <td>23</td>\n",
       "      <td>None</td>\n",
       "      <td>83.162040</td>\n",
       "      <td>29</td>\n",
       "      <td>NaN</td>\n",
       "      <td>None</td>\n",
       "      <td>1.0</td>\n",
       "      <td>NaN</td>\n",
       "      <td>None</td>\n",
       "      <td>15.0</td>\n",
       "      <td>73.333333</td>\n",
       "      <td>6.0</td>\n",
       "      <td>None</td>\n",
       "      <td>None</td>\n",
       "      <td>109.0</td>\n",
       "      <td>NaN</td>\n",
       "      <td>None</td>\n",
       "      <td>None</td>\n",
       "      <td>None</td>\n",
       "      <td>None</td>\n",
       "      <td>None</td>\n",
       "      <td>None</td>\n",
       "      <td>None</td>\n",
       "      <td>None</td>\n",
       "      <td>341.0</td>\n",
       "      <td>At 9.45 in the morning, a thunderous explosio...</td>\n",
       "      <td>DLC: \"Nicholson Electroplating\" Arson Case</td>\n",
       "      <td>NaN</td>\n",
       "      <td>False</td>\n",
       "      <td>False</td>\n",
       "      <td>False</td>\n",
       "      <td>False</td>\n",
       "      <td>0</td>\n",
       "      <td>False</td>\n",
       "      <td>NaN</td>\n",
       "      <td>False</td>\n",
       "      <td>None</td>\n",
       "      <td>0</td>\n",
       "      <td>0</td>\n",
       "      <td>0</td>\n",
       "      <td>subperb</td>\n",
       "    </tr>\n",
       "    <tr>\n",
       "      <th>418493</th>\n",
       "      <td>74</td>\n",
       "      <td>0</td>\n",
       "      <td>2011-02-18 09:01:17</td>\n",
       "      <td>[14434, 80756, 86905, 137458, 213810, 245424, ...</td>\n",
       "      <td>1.264464e+09</td>\n",
       "      <td>[shooter, role-playing-rpg, simulator, adventure]</td>\n",
       "      <td>Mass Effect 2</td>\n",
       "      <td>[PC (Microsoft Windows), PlayStation 3, Xbox 360]</td>\n",
       "      <td>[20909, 20910, 20911, 20912, 20913, 20914, 209...</td>\n",
       "      <td>[16, 21, 41, 43, 533, 571, 960, 1020, 1985, 2031]</td>\n",
       "      <td>mass-effect-2</td>\n",
       "      <td>Are you prepared to lose everything to save th...</td>\n",
       "      <td>[1, 18, 268435461, 268435468, 268435469, 26843...</td>\n",
       "      <td>2022-09-22 14:33:34</td>\n",
       "      <td>https://www.igdb.com/games/mass-effect-2</td>\n",
       "      <td>acafc118-bdb5-5783-2982-9417efb5cafb</td>\n",
       "      <td>[4666, 46183, 79400]</td>\n",
       "      <td>93684.0</td>\n",
       "      <td>[5240, 5241, 18482, 52062]</td>\n",
       "      <td>[892, 893, 8205, 8206, 8218]</td>\n",
       "      <td>[single-player]</td>\n",
       "      <td>[Third person]</td>\n",
       "      <td>[Action, Science fiction]</td>\n",
       "      <td>[18939, 18940, 18941, 18942, 18943, 18944, 403...</td>\n",
       "      <td>[19924, 45203, 50352]</td>\n",
       "      <td>[4512, 4513, 4514, 4515, 4516, 4517, 4518, 451...</td>\n",
       "      <td>[351]</td>\n",
       "      <td>[3, 22, 72, 129, 159, 201, 274, 284, 301, 558,...</td>\n",
       "      <td>NaN</td>\n",
       "      <td>[3344]</td>\n",
       "      <td>91.418551</td>\n",
       "      <td>1924</td>\n",
       "      <td>Two years after Commander Shepard repelled inv...</td>\n",
       "      <td>93.509276</td>\n",
       "      <td>1938</td>\n",
       "      <td>NaN</td>\n",
       "      <td>None</td>\n",
       "      <td>1.0</td>\n",
       "      <td>25.0</td>\n",
       "      <td>None</td>\n",
       "      <td>796.0</td>\n",
       "      <td>95.600000</td>\n",
       "      <td>14.0</td>\n",
       "      <td>[782, 783, 1596, 13790, 13794, 13798, 13885, 2...</td>\n",
       "      <td>[45181, 140839]</td>\n",
       "      <td>NaN</td>\n",
       "      <td>NaN</td>\n",
       "      <td>None</td>\n",
       "      <td>None</td>\n",
       "      <td>None</td>\n",
       "      <td>None</td>\n",
       "      <td>None</td>\n",
       "      <td>None</td>\n",
       "      <td>None</td>\n",
       "      <td>None</td>\n",
       "      <td>426.0</td>\n",
       "      <td>None</td>\n",
       "      <td>Bonus DVD with behind-the-scenes and making-of...</td>\n",
       "      <td>NaN</td>\n",
       "      <td>False</td>\n",
       "      <td>False</td>\n",
       "      <td>False</td>\n",
       "      <td>False</td>\n",
       "      <td>0</td>\n",
       "      <td>False</td>\n",
       "      <td>NaN</td>\n",
       "      <td>False</td>\n",
       "      <td>None</td>\n",
       "      <td>0</td>\n",
       "      <td>0</td>\n",
       "      <td>0</td>\n",
       "      <td>subperb</td>\n",
       "    </tr>\n",
       "    <tr>\n",
       "      <th>350022</th>\n",
       "      <td>2617</td>\n",
       "      <td>3</td>\n",
       "      <td>2013-07-17 16:09:09</td>\n",
       "      <td>[43459, 78277]</td>\n",
       "      <td>8.703936e+08</td>\n",
       "      <td>[real-time-strategy-rts, simulator, strategy]</td>\n",
       "      <td>The Settlers II: Gold Edition</td>\n",
       "      <td>[DOS, Mac, Nintendo DS]</td>\n",
       "      <td>[194838, 194839, 194840]</td>\n",
       "      <td>[9789, 18623, 20776, 28325, 29173, 31480, 3151...</td>\n",
       "      <td>the-settlers-ii-gold-edition</td>\n",
       "      <td>The goal of this game is to build a prosperous...</td>\n",
       "      <td>[22, 268435467, 268435469, 268435471, 53687097...</td>\n",
       "      <td>2022-07-11 11:30:50</td>\n",
       "      <td>https://www.igdb.com/games/the-settlers-ii-gol...</td>\n",
       "      <td>db85c417-67eb-2742-d6d1-f80aad673a6a</td>\n",
       "      <td>[27816, 78303]</td>\n",
       "      <td>99902.0</td>\n",
       "      <td>[97957]</td>\n",
       "      <td>[22965, 383044, 383045, 383046]</td>\n",
       "      <td>[single-player, multiplayer, split-screen]</td>\n",
       "      <td>[Bird view / Isometric]</td>\n",
       "      <td>[Historical]</td>\n",
       "      <td>[119754, 139873]</td>\n",
       "      <td>[32095]</td>\n",
       "      <td>None</td>\n",
       "      <td>None</td>\n",
       "      <td>[60, 64, 171, 606, 994, 1148, 1471, 1922, 2002...</td>\n",
       "      <td>NaN</td>\n",
       "      <td>[35570]</td>\n",
       "      <td>92.221300</td>\n",
       "      <td>36</td>\n",
       "      <td>After fighting a losing battle with the raging...</td>\n",
       "      <td>92.221300</td>\n",
       "      <td>36</td>\n",
       "      <td>2596.0</td>\n",
       "      <td>Gold Edition</td>\n",
       "      <td>NaN</td>\n",
       "      <td>619.0</td>\n",
       "      <td>[2165]</td>\n",
       "      <td>22.0</td>\n",
       "      <td>NaN</td>\n",
       "      <td>NaN</td>\n",
       "      <td>None</td>\n",
       "      <td>None</td>\n",
       "      <td>NaN</td>\n",
       "      <td>NaN</td>\n",
       "      <td>[7365]</td>\n",
       "      <td>None</td>\n",
       "      <td>[86493]</td>\n",
       "      <td>None</td>\n",
       "      <td>None</td>\n",
       "      <td>None</td>\n",
       "      <td>None</td>\n",
       "      <td>None</td>\n",
       "      <td>NaN</td>\n",
       "      <td>None</td>\n",
       "      <td>None</td>\n",
       "      <td>7365.0</td>\n",
       "      <td>False</td>\n",
       "      <td>False</td>\n",
       "      <td>False</td>\n",
       "      <td>False</td>\n",
       "      <td>0</td>\n",
       "      <td>False</td>\n",
       "      <td>NaN</td>\n",
       "      <td>False</td>\n",
       "      <td>1c2dfca2-6ee8-b54e-b243-05ffb0c646bc</td>\n",
       "      <td>0</td>\n",
       "      <td>0</td>\n",
       "      <td>0</td>\n",
       "      <td>subperb</td>\n",
       "    </tr>\n",
       "    <tr>\n",
       "      <th>...</th>\n",
       "      <td>...</td>\n",
       "      <td>...</td>\n",
       "      <td>...</td>\n",
       "      <td>...</td>\n",
       "      <td>...</td>\n",
       "      <td>...</td>\n",
       "      <td>...</td>\n",
       "      <td>...</td>\n",
       "      <td>...</td>\n",
       "      <td>...</td>\n",
       "      <td>...</td>\n",
       "      <td>...</td>\n",
       "      <td>...</td>\n",
       "      <td>...</td>\n",
       "      <td>...</td>\n",
       "      <td>...</td>\n",
       "      <td>...</td>\n",
       "      <td>...</td>\n",
       "      <td>...</td>\n",
       "      <td>...</td>\n",
       "      <td>...</td>\n",
       "      <td>...</td>\n",
       "      <td>...</td>\n",
       "      <td>...</td>\n",
       "      <td>...</td>\n",
       "      <td>...</td>\n",
       "      <td>...</td>\n",
       "      <td>...</td>\n",
       "      <td>...</td>\n",
       "      <td>...</td>\n",
       "      <td>...</td>\n",
       "      <td>...</td>\n",
       "      <td>...</td>\n",
       "      <td>...</td>\n",
       "      <td>...</td>\n",
       "      <td>...</td>\n",
       "      <td>...</td>\n",
       "      <td>...</td>\n",
       "      <td>...</td>\n",
       "      <td>...</td>\n",
       "      <td>...</td>\n",
       "      <td>...</td>\n",
       "      <td>...</td>\n",
       "      <td>...</td>\n",
       "      <td>...</td>\n",
       "      <td>...</td>\n",
       "      <td>...</td>\n",
       "      <td>...</td>\n",
       "      <td>...</td>\n",
       "      <td>...</td>\n",
       "      <td>...</td>\n",
       "      <td>...</td>\n",
       "      <td>...</td>\n",
       "      <td>...</td>\n",
       "      <td>...</td>\n",
       "      <td>...</td>\n",
       "      <td>...</td>\n",
       "      <td>...</td>\n",
       "      <td>...</td>\n",
       "      <td>...</td>\n",
       "      <td>...</td>\n",
       "      <td>...</td>\n",
       "      <td>...</td>\n",
       "      <td>...</td>\n",
       "      <td>...</td>\n",
       "      <td>...</td>\n",
       "      <td>...</td>\n",
       "      <td>...</td>\n",
       "      <td>...</td>\n",
       "      <td>...</td>\n",
       "      <td>...</td>\n",
       "      <td>...</td>\n",
       "    </tr>\n",
       "    <tr>\n",
       "      <th>349937</th>\n",
       "      <td>2617</td>\n",
       "      <td>3</td>\n",
       "      <td>2013-07-17 16:09:09</td>\n",
       "      <td>[43459, 78277]</td>\n",
       "      <td>8.703936e+08</td>\n",
       "      <td>[real-time-strategy-rts, simulator, strategy]</td>\n",
       "      <td>The Settlers II: Gold Edition</td>\n",
       "      <td>[DOS, Mac, Nintendo DS]</td>\n",
       "      <td>[194838, 194839, 194840]</td>\n",
       "      <td>[9789, 18623, 20776, 28325, 29173, 31480, 3151...</td>\n",
       "      <td>the-settlers-ii-gold-edition</td>\n",
       "      <td>The goal of this game is to build a prosperous...</td>\n",
       "      <td>[22, 268435467, 268435469, 268435471, 53687097...</td>\n",
       "      <td>2022-07-11 11:30:50</td>\n",
       "      <td>https://www.igdb.com/games/the-settlers-ii-gol...</td>\n",
       "      <td>db85c417-67eb-2742-d6d1-f80aad673a6a</td>\n",
       "      <td>[27816, 78303]</td>\n",
       "      <td>99902.0</td>\n",
       "      <td>[97957]</td>\n",
       "      <td>[22965, 383044, 383045, 383046]</td>\n",
       "      <td>[single-player, multiplayer, split-screen]</td>\n",
       "      <td>[Bird view / Isometric]</td>\n",
       "      <td>[Historical]</td>\n",
       "      <td>[119754, 139873]</td>\n",
       "      <td>[32095]</td>\n",
       "      <td>None</td>\n",
       "      <td>None</td>\n",
       "      <td>[60, 64, 171, 606, 994, 1148, 1471, 1922, 2002...</td>\n",
       "      <td>NaN</td>\n",
       "      <td>[35570]</td>\n",
       "      <td>92.221300</td>\n",
       "      <td>36</td>\n",
       "      <td>After fighting a losing battle with the raging...</td>\n",
       "      <td>92.221300</td>\n",
       "      <td>36</td>\n",
       "      <td>2596.0</td>\n",
       "      <td>Gold Edition</td>\n",
       "      <td>NaN</td>\n",
       "      <td>619.0</td>\n",
       "      <td>[2165]</td>\n",
       "      <td>22.0</td>\n",
       "      <td>NaN</td>\n",
       "      <td>NaN</td>\n",
       "      <td>None</td>\n",
       "      <td>None</td>\n",
       "      <td>NaN</td>\n",
       "      <td>NaN</td>\n",
       "      <td>[7365]</td>\n",
       "      <td>None</td>\n",
       "      <td>[86493]</td>\n",
       "      <td>None</td>\n",
       "      <td>None</td>\n",
       "      <td>None</td>\n",
       "      <td>None</td>\n",
       "      <td>None</td>\n",
       "      <td>NaN</td>\n",
       "      <td>None</td>\n",
       "      <td>None</td>\n",
       "      <td>7365.0</td>\n",
       "      <td>False</td>\n",
       "      <td>False</td>\n",
       "      <td>False</td>\n",
       "      <td>False</td>\n",
       "      <td>0</td>\n",
       "      <td>False</td>\n",
       "      <td>NaN</td>\n",
       "      <td>False</td>\n",
       "      <td>1c2dfca2-6ee8-b54e-b243-05ffb0c646bc</td>\n",
       "      <td>0</td>\n",
       "      <td>0</td>\n",
       "      <td>0</td>\n",
       "      <td>subperb</td>\n",
       "    </tr>\n",
       "    <tr>\n",
       "      <th>388383</th>\n",
       "      <td>6440</td>\n",
       "      <td>0</td>\n",
       "      <td>2014-04-25 09:48:13</td>\n",
       "      <td>[28211, 74916, 115817, 219004, 246341, 1929988...</td>\n",
       "      <td>1.412986e+09</td>\n",
       "      <td>[role-playing-rpg, adventure]</td>\n",
       "      <td>Monster Hunter 4 Ultimate</td>\n",
       "      <td>[Nintendo 3DS]</td>\n",
       "      <td>[25676, 25677, 25678, 129943]</td>\n",
       "      <td>[6, 121, 125, 472, 1879, 2155, 2368, 2480, 396...</td>\n",
       "      <td>monster-hunter-4-ultimate</td>\n",
       "      <td>Monster Hunter 4 Ultimate (called Monster Hunt...</td>\n",
       "      <td>[1, 17, 33, 268435468, 268435487, 536870976, 5...</td>\n",
       "      <td>2022-04-11 11:42:36</td>\n",
       "      <td>https://www.igdb.com/games/monster-hunter-4-ul...</td>\n",
       "      <td>c6166764-b398-84d2-7c62-15284e69f71e</td>\n",
       "      <td>[5960, 5961]</td>\n",
       "      <td>114788.0</td>\n",
       "      <td>[15331]</td>\n",
       "      <td>[5138, 5139, 5140, 5141, 5142, 166087, 166088,...</td>\n",
       "      <td>[single-player, multiplayer]</td>\n",
       "      <td>[Third person]</td>\n",
       "      <td>[Action, Fantasy, Sandbox]</td>\n",
       "      <td>[1555, 64540, 64541]</td>\n",
       "      <td>[12016, 19202, 19912, 19913, 48648, 48649, 48650]</td>\n",
       "      <td>[73494]</td>\n",
       "      <td>None</td>\n",
       "      <td>[64, 87, 121, 129, 227, 236, 296, 301, 332, 38...</td>\n",
       "      <td>NaN</td>\n",
       "      <td>[17294, 17295, 17296, 17297, 17298, 17299, 173...</td>\n",
       "      <td>90.702176</td>\n",
       "      <td>39</td>\n",
       "      <td>None</td>\n",
       "      <td>89.172516</td>\n",
       "      <td>55</td>\n",
       "      <td>NaN</td>\n",
       "      <td>None</td>\n",
       "      <td>1.0</td>\n",
       "      <td>2948.0</td>\n",
       "      <td>[824]</td>\n",
       "      <td>17.0</td>\n",
       "      <td>87.642857</td>\n",
       "      <td>16.0</td>\n",
       "      <td>None</td>\n",
       "      <td>None</td>\n",
       "      <td>NaN</td>\n",
       "      <td>NaN</td>\n",
       "      <td>[7104]</td>\n",
       "      <td>None</td>\n",
       "      <td>None</td>\n",
       "      <td>None</td>\n",
       "      <td>None</td>\n",
       "      <td>None</td>\n",
       "      <td>None</td>\n",
       "      <td>None</td>\n",
       "      <td>NaN</td>\n",
       "      <td>None</td>\n",
       "      <td>None</td>\n",
       "      <td>7104.0</td>\n",
       "      <td>False</td>\n",
       "      <td>True</td>\n",
       "      <td>True</td>\n",
       "      <td>False</td>\n",
       "      <td>0</td>\n",
       "      <td>True</td>\n",
       "      <td>37.0</td>\n",
       "      <td>False</td>\n",
       "      <td>ed1ef7e9-f817-f949-00bb-9fbc9a1f2b07</td>\n",
       "      <td>0</td>\n",
       "      <td>4</td>\n",
       "      <td>0</td>\n",
       "      <td>subperb</td>\n",
       "    </tr>\n",
       "    <tr>\n",
       "      <th>350134</th>\n",
       "      <td>2617</td>\n",
       "      <td>3</td>\n",
       "      <td>2013-07-17 16:09:09</td>\n",
       "      <td>[43459, 78277]</td>\n",
       "      <td>8.703936e+08</td>\n",
       "      <td>[real-time-strategy-rts, simulator, strategy]</td>\n",
       "      <td>The Settlers II: Gold Edition</td>\n",
       "      <td>[DOS, Mac, Nintendo DS]</td>\n",
       "      <td>[194838, 194839, 194840]</td>\n",
       "      <td>[9789, 18623, 20776, 28325, 29173, 31480, 3151...</td>\n",
       "      <td>the-settlers-ii-gold-edition</td>\n",
       "      <td>The goal of this game is to build a prosperous...</td>\n",
       "      <td>[22, 268435467, 268435469, 268435471, 53687097...</td>\n",
       "      <td>2022-07-11 11:30:50</td>\n",
       "      <td>https://www.igdb.com/games/the-settlers-ii-gol...</td>\n",
       "      <td>db85c417-67eb-2742-d6d1-f80aad673a6a</td>\n",
       "      <td>[27816, 78303]</td>\n",
       "      <td>99902.0</td>\n",
       "      <td>[97957]</td>\n",
       "      <td>[22965, 383044, 383045, 383046]</td>\n",
       "      <td>[single-player, multiplayer, split-screen]</td>\n",
       "      <td>[Bird view / Isometric]</td>\n",
       "      <td>[Historical]</td>\n",
       "      <td>[119754, 139873]</td>\n",
       "      <td>[32095]</td>\n",
       "      <td>None</td>\n",
       "      <td>None</td>\n",
       "      <td>[60, 64, 171, 606, 994, 1148, 1471, 1922, 2002...</td>\n",
       "      <td>NaN</td>\n",
       "      <td>[35570]</td>\n",
       "      <td>92.221300</td>\n",
       "      <td>36</td>\n",
       "      <td>After fighting a losing battle with the raging...</td>\n",
       "      <td>92.221300</td>\n",
       "      <td>36</td>\n",
       "      <td>2596.0</td>\n",
       "      <td>Gold Edition</td>\n",
       "      <td>NaN</td>\n",
       "      <td>619.0</td>\n",
       "      <td>[2165]</td>\n",
       "      <td>22.0</td>\n",
       "      <td>NaN</td>\n",
       "      <td>NaN</td>\n",
       "      <td>None</td>\n",
       "      <td>None</td>\n",
       "      <td>NaN</td>\n",
       "      <td>NaN</td>\n",
       "      <td>[7365]</td>\n",
       "      <td>None</td>\n",
       "      <td>[86493]</td>\n",
       "      <td>None</td>\n",
       "      <td>None</td>\n",
       "      <td>None</td>\n",
       "      <td>None</td>\n",
       "      <td>None</td>\n",
       "      <td>NaN</td>\n",
       "      <td>None</td>\n",
       "      <td>None</td>\n",
       "      <td>7365.0</td>\n",
       "      <td>False</td>\n",
       "      <td>False</td>\n",
       "      <td>False</td>\n",
       "      <td>False</td>\n",
       "      <td>0</td>\n",
       "      <td>False</td>\n",
       "      <td>NaN</td>\n",
       "      <td>False</td>\n",
       "      <td>1c2dfca2-6ee8-b54e-b243-05ffb0c646bc</td>\n",
       "      <td>0</td>\n",
       "      <td>0</td>\n",
       "      <td>0</td>\n",
       "      <td>subperb</td>\n",
       "    </tr>\n",
       "    <tr>\n",
       "      <th>420836</th>\n",
       "      <td>25358</td>\n",
       "      <td>0</td>\n",
       "      <td>2016-11-01 09:07:23</td>\n",
       "      <td>[14912, 76955]</td>\n",
       "      <td>9.616320e+08</td>\n",
       "      <td>[shooter, role-playing-rpg, adventure]</td>\n",
       "      <td>Deus Ex: Game of the Year Edition</td>\n",
       "      <td>[PC (Microsoft Windows)]</td>\n",
       "      <td>[66779]</td>\n",
       "      <td>[25311, 55038, 76877, 96217, 103301, 105049, 1...</td>\n",
       "      <td>deus-ex-game-of-the-year-edition</td>\n",
       "      <td>The year is 2052 and the world is a dangerous ...</td>\n",
       "      <td>[1, 18, 268435461, 268435468, 268435487, 53687...</td>\n",
       "      <td>2022-05-22 10:14:30</td>\n",
       "      <td>https://www.igdb.com/games/deus-ex-game-of-the...</td>\n",
       "      <td>4c52a248-9ba2-4f25-42c1-0ab2863b7ae4</td>\n",
       "      <td>None</td>\n",
       "      <td>116138.0</td>\n",
       "      <td>[45250, 45251]</td>\n",
       "      <td>[46441, 46442, 46443, 46444, 46445]</td>\n",
       "      <td>[single-player, multiplayer]</td>\n",
       "      <td>[First person]</td>\n",
       "      <td>[Action, Science fiction]</td>\n",
       "      <td>[40862, 118799]</td>\n",
       "      <td>None</td>\n",
       "      <td>None</td>\n",
       "      <td>None</td>\n",
       "      <td>[103, 132, 1127, 2426, 3403]</td>\n",
       "      <td>NaN</td>\n",
       "      <td>None</td>\n",
       "      <td>93.648853</td>\n",
       "      <td>42</td>\n",
       "      <td>None</td>\n",
       "      <td>93.648853</td>\n",
       "      <td>42</td>\n",
       "      <td>41.0</td>\n",
       "      <td>Game of the Year Edition</td>\n",
       "      <td>NaN</td>\n",
       "      <td>NaN</td>\n",
       "      <td>None</td>\n",
       "      <td>16.0</td>\n",
       "      <td>NaN</td>\n",
       "      <td>NaN</td>\n",
       "      <td>None</td>\n",
       "      <td>[52883]</td>\n",
       "      <td>NaN</td>\n",
       "      <td>NaN</td>\n",
       "      <td>None</td>\n",
       "      <td>None</td>\n",
       "      <td>None</td>\n",
       "      <td>None</td>\n",
       "      <td>None</td>\n",
       "      <td>None</td>\n",
       "      <td>None</td>\n",
       "      <td>None</td>\n",
       "      <td>NaN</td>\n",
       "      <td>None</td>\n",
       "      <td>None</td>\n",
       "      <td>NaN</td>\n",
       "      <td>False</td>\n",
       "      <td>False</td>\n",
       "      <td>False</td>\n",
       "      <td>False</td>\n",
       "      <td>0</td>\n",
       "      <td>False</td>\n",
       "      <td>NaN</td>\n",
       "      <td>False</td>\n",
       "      <td>None</td>\n",
       "      <td>0</td>\n",
       "      <td>0</td>\n",
       "      <td>0</td>\n",
       "      <td>subperb</td>\n",
       "    </tr>\n",
       "    <tr>\n",
       "      <th>234229</th>\n",
       "      <td>21892</td>\n",
       "      <td>3</td>\n",
       "      <td>2016-07-29 19:59:44</td>\n",
       "      <td>[14487, 25620, 77117, 84333, 96369, 1929837, 1...</td>\n",
       "      <td>1.255392e+09</td>\n",
       "      <td>[shooter, role-playing-rpg, adventure]</td>\n",
       "      <td>Fallout 3: Game of the Year Edition</td>\n",
       "      <td>[PC (Microsoft Windows), PlayStation 3, Xbox 360]</td>\n",
       "      <td>[115449, 115450, 115451]</td>\n",
       "      <td>[1877, 17379, 26574, 44076, 54842, 55038, 1012...</td>\n",
       "      <td>fallout-3-game-of-the-year-edition</td>\n",
       "      <td>Prepare for the Future with Fallout 3: Game of...</td>\n",
       "      <td>[1, 18, 21, 33, 38, 268435461, 268435468, 2684...</td>\n",
       "      <td>2022-09-20 18:06:44</td>\n",
       "      <td>https://www.igdb.com/games/fallout-3-game-of-t...</td>\n",
       "      <td>b3b16470-fee3-125f-7609-b669460f2502</td>\n",
       "      <td>[69025, 89292, 89293, 89294]</td>\n",
       "      <td>91153.0</td>\n",
       "      <td>[47706, 95354]</td>\n",
       "      <td>[127267, 127268, 127269, 127270, 127271]</td>\n",
       "      <td>[single-player]</td>\n",
       "      <td>[Third person]</td>\n",
       "      <td>[Action, Science fiction, Survival, Sandbox, O...</td>\n",
       "      <td>[16771, 118837]</td>\n",
       "      <td>[9790]</td>\n",
       "      <td>[58250]</td>\n",
       "      <td>None</td>\n",
       "      <td>[69, 1459]</td>\n",
       "      <td>NaN</td>\n",
       "      <td>None</td>\n",
       "      <td>90.639950</td>\n",
       "      <td>119</td>\n",
       "      <td>Vault 101 Jewel of the Wastes. For 200 years, ...</td>\n",
       "      <td>91.319975</td>\n",
       "      <td>120</td>\n",
       "      <td>15.0</td>\n",
       "      <td>Game of the Year Edition</td>\n",
       "      <td>NaN</td>\n",
       "      <td>3.0</td>\n",
       "      <td>None</td>\n",
       "      <td>33.0</td>\n",
       "      <td>92.000000</td>\n",
       "      <td>1.0</td>\n",
       "      <td>None</td>\n",
       "      <td>[122725]</td>\n",
       "      <td>NaN</td>\n",
       "      <td>NaN</td>\n",
       "      <td>None</td>\n",
       "      <td>None</td>\n",
       "      <td>None</td>\n",
       "      <td>None</td>\n",
       "      <td>None</td>\n",
       "      <td>None</td>\n",
       "      <td>None</td>\n",
       "      <td>None</td>\n",
       "      <td>192.0</td>\n",
       "      <td>This hardcover book features nearly 100 pages ...</td>\n",
       "      <td>Art book of Fallout 3</td>\n",
       "      <td>NaN</td>\n",
       "      <td>False</td>\n",
       "      <td>False</td>\n",
       "      <td>False</td>\n",
       "      <td>False</td>\n",
       "      <td>0</td>\n",
       "      <td>False</td>\n",
       "      <td>NaN</td>\n",
       "      <td>False</td>\n",
       "      <td>None</td>\n",
       "      <td>0</td>\n",
       "      <td>0</td>\n",
       "      <td>0</td>\n",
       "      <td>subperb</td>\n",
       "    </tr>\n",
       "  </tbody>\n",
       "</table>\n",
       "<p>909 rows × 72 columns</p>\n",
       "</div>"
      ],
      "text/plain": [
       "           id  category          created_at  \\\n",
       "350151   2617         3 2013-07-17 16:09:09   \n",
       "404391  29207         0 2017-05-20 12:20:49   \n",
       "413553  59849         9 2017-09-07 18:41:31   \n",
       "418493     74         0 2011-02-18 09:01:17   \n",
       "350022   2617         3 2013-07-17 16:09:09   \n",
       "...       ...       ...                 ...   \n",
       "349937   2617         3 2013-07-17 16:09:09   \n",
       "388383   6440         0 2014-04-25 09:48:13   \n",
       "350134   2617         3 2013-07-17 16:09:09   \n",
       "420836  25358         0 2016-11-01 09:07:23   \n",
       "234229  21892         3 2016-07-29 19:59:44   \n",
       "\n",
       "                                           external_games  first_release_date  \\\n",
       "350151                                     [43459, 78277]        8.703936e+08   \n",
       "404391              [14106, 77210, 85081, 96659, 2136317]        1.133222e+09   \n",
       "413553  [197757, 210636, 398654, 1237237, 2000741, 211...        1.510618e+09   \n",
       "418493  [14434, 80756, 86905, 137458, 213810, 245424, ...        1.264464e+09   \n",
       "350022                                     [43459, 78277]        8.703936e+08   \n",
       "...                                                   ...                 ...   \n",
       "349937                                     [43459, 78277]        8.703936e+08   \n",
       "388383  [28211, 74916, 115817, 219004, 246341, 1929988...        1.412986e+09   \n",
       "350134                                     [43459, 78277]        8.703936e+08   \n",
       "420836                                     [14912, 76955]        9.616320e+08   \n",
       "234229  [14487, 25620, 77117, 84333, 96369, 1929837, 1...        1.255392e+09   \n",
       "\n",
       "                                                   genres  \\\n",
       "350151      [real-time-strategy-rts, simulator, strategy]   \n",
       "404391                                 [role-playing-rpg]   \n",
       "413553                     [shooter, strategy, adventure]   \n",
       "418493  [shooter, role-playing-rpg, simulator, adventure]   \n",
       "350022      [real-time-strategy-rts, simulator, strategy]   \n",
       "...                                                   ...   \n",
       "349937      [real-time-strategy-rts, simulator, strategy]   \n",
       "388383                      [role-playing-rpg, adventure]   \n",
       "350134      [real-time-strategy-rts, simulator, strategy]   \n",
       "420836             [shooter, role-playing-rpg, adventure]   \n",
       "234229             [shooter, role-playing-rpg, adventure]   \n",
       "\n",
       "                                       name  \\\n",
       "350151        The Settlers II: Gold Edition   \n",
       "404391              Gothic II: Gold Edition   \n",
       "413553                           L.A. Noire   \n",
       "418493                        Mass Effect 2   \n",
       "350022        The Settlers II: Gold Edition   \n",
       "...                                     ...   \n",
       "349937        The Settlers II: Gold Edition   \n",
       "388383            Monster Hunter 4 Ultimate   \n",
       "350134        The Settlers II: Gold Edition   \n",
       "420836    Deus Ex: Game of the Year Edition   \n",
       "234229  Fallout 3: Game of the Year Edition   \n",
       "\n",
       "                                                platforms  \\\n",
       "350151                            [DOS, Mac, Nintendo DS]   \n",
       "404391                           [PC (Microsoft Windows)]   \n",
       "413553                          [PlayStation 4, Xbox One]   \n",
       "418493  [PC (Microsoft Windows), PlayStation 3, Xbox 360]   \n",
       "350022                            [DOS, Mac, Nintendo DS]   \n",
       "...                                                   ...   \n",
       "349937                            [DOS, Mac, Nintendo DS]   \n",
       "388383                                     [Nintendo 3DS]   \n",
       "350134                            [DOS, Mac, Nintendo DS]   \n",
       "420836                           [PC (Microsoft Windows)]   \n",
       "234229  [PC (Microsoft Windows), PlayStation 3, Xbox 360]   \n",
       "\n",
       "                                            release_dates  \\\n",
       "350151                           [194838, 194839, 194840]   \n",
       "404391                                           [196063]   \n",
       "413553           [112409, 112410, 135021, 135022, 136102]   \n",
       "418493  [20909, 20910, 20911, 20912, 20913, 20914, 209...   \n",
       "350022                           [194838, 194839, 194840]   \n",
       "...                                                   ...   \n",
       "349937                           [194838, 194839, 194840]   \n",
       "388383                      [25676, 25677, 25678, 129943]   \n",
       "350134                           [194838, 194839, 194840]   \n",
       "420836                                            [66779]   \n",
       "234229                           [115449, 115450, 115451]   \n",
       "\n",
       "                                            similar_games  \\\n",
       "350151  [9789, 18623, 20776, 28325, 29173, 31480, 3151...   \n",
       "404391  [19164, 54775, 81249, 96217, 99118, 101608, 10...   \n",
       "413553  [17379, 17548, 18167, 18225, 26574, 27092, 285...   \n",
       "418493  [16, 21, 41, 43, 533, 571, 960, 1020, 1985, 2031]   \n",
       "350022  [9789, 18623, 20776, 28325, 29173, 31480, 3151...   \n",
       "...                                                   ...   \n",
       "349937  [9789, 18623, 20776, 28325, 29173, 31480, 3151...   \n",
       "388383  [6, 121, 125, 472, 1879, 2155, 2368, 2480, 396...   \n",
       "350134  [9789, 18623, 20776, 28325, 29173, 31480, 3151...   \n",
       "420836  [25311, 55038, 76877, 96217, 103301, 105049, 1...   \n",
       "234229  [1877, 17379, 26574, 44076, 54842, 55038, 1012...   \n",
       "\n",
       "                                      slug  \\\n",
       "350151        the-settlers-ii-gold-edition   \n",
       "404391              gothic-ii-gold-edition   \n",
       "413553                            la-noire   \n",
       "418493                       mass-effect-2   \n",
       "350022        the-settlers-ii-gold-edition   \n",
       "...                                    ...   \n",
       "349937        the-settlers-ii-gold-edition   \n",
       "388383           monster-hunter-4-ultimate   \n",
       "350134        the-settlers-ii-gold-edition   \n",
       "420836    deus-ex-game-of-the-year-edition   \n",
       "234229  fallout-3-game-of-the-year-edition   \n",
       "\n",
       "                                                  summary  \\\n",
       "350151  The goal of this game is to build a prosperous...   \n",
       "404391  Gothic II: Gold Edition brings together the ex...   \n",
       "413553  L.A. Noire for PlayStation 4 and Xbox One deli...   \n",
       "418493  Are you prepared to lose everything to save th...   \n",
       "350022  The goal of this game is to build a prosperous...   \n",
       "...                                                   ...   \n",
       "349937  The goal of this game is to build a prosperous...   \n",
       "388383  Monster Hunter 4 Ultimate (called Monster Hunt...   \n",
       "350134  The goal of this game is to build a prosperous...   \n",
       "420836  The year is 2052 and the world is a dangerous ...   \n",
       "234229  Prepare for the Future with Fallout 3: Game of...   \n",
       "\n",
       "                                                     tags          updated_at  \\\n",
       "350151  [22, 268435467, 268435469, 268435471, 53687097... 2022-07-11 11:30:50   \n",
       "404391                             [1, 17, 38, 268435468] 2022-09-25 09:56:26   \n",
       "413553  [1, 20, 22, 33, 38, 39, 43, 268435461, 2684354... 2022-09-22 13:55:14   \n",
       "418493  [1, 18, 268435461, 268435468, 268435469, 26843... 2022-09-22 14:33:34   \n",
       "350022  [22, 268435467, 268435469, 268435471, 53687097... 2022-07-11 11:30:50   \n",
       "...                                                   ...                 ...   \n",
       "349937  [22, 268435467, 268435469, 268435471, 53687097... 2022-07-11 11:30:50   \n",
       "388383  [1, 17, 33, 268435468, 268435487, 536870976, 5... 2022-04-11 11:42:36   \n",
       "350134  [22, 268435467, 268435469, 268435471, 53687097... 2022-07-11 11:30:50   \n",
       "420836  [1, 18, 268435461, 268435468, 268435487, 53687... 2022-05-22 10:14:30   \n",
       "234229  [1, 18, 21, 33, 38, 268435461, 268435468, 2684... 2022-09-20 18:06:44   \n",
       "\n",
       "                                                      url  \\\n",
       "350151  https://www.igdb.com/games/the-settlers-ii-gol...   \n",
       "404391  https://www.igdb.com/games/gothic-ii-gold-edition   \n",
       "413553                https://www.igdb.com/games/la-noire   \n",
       "418493           https://www.igdb.com/games/mass-effect-2   \n",
       "350022  https://www.igdb.com/games/the-settlers-ii-gol...   \n",
       "...                                                   ...   \n",
       "349937  https://www.igdb.com/games/the-settlers-ii-gol...   \n",
       "388383  https://www.igdb.com/games/monster-hunter-4-ul...   \n",
       "350134  https://www.igdb.com/games/the-settlers-ii-gol...   \n",
       "420836  https://www.igdb.com/games/deus-ex-game-of-the...   \n",
       "234229  https://www.igdb.com/games/fallout-3-game-of-t...   \n",
       "\n",
       "                                  checksum_x                   age_ratings  \\\n",
       "350151  db85c417-67eb-2742-d6d1-f80aad673a6a                [27816, 78303]   \n",
       "404391  0b0d512e-1add-c724-d6a5-f69e9043c619                       [27942]   \n",
       "413553  1db7b5e1-bc8b-cc45-e4b5-2f7b15aa5cf2         [61480, 62001, 93238]   \n",
       "418493  acafc118-bdb5-5783-2982-9417efb5cafb          [4666, 46183, 79400]   \n",
       "350022  db85c417-67eb-2742-d6d1-f80aad673a6a                [27816, 78303]   \n",
       "...                                      ...                           ...   \n",
       "349937  db85c417-67eb-2742-d6d1-f80aad673a6a                [27816, 78303]   \n",
       "388383  c6166764-b398-84d2-7c62-15284e69f71e                  [5960, 5961]   \n",
       "350134  db85c417-67eb-2742-d6d1-f80aad673a6a                [27816, 78303]   \n",
       "420836  4c52a248-9ba2-4f25-42c1-0ab2863b7ae4                          None   \n",
       "234229  b3b16470-fee3-125f-7609-b669460f2502  [69025, 89292, 89293, 89294]   \n",
       "\n",
       "           cover          involved_companies  \\\n",
       "350151   99902.0                     [97957]   \n",
       "404391   81332.0              [47901, 99186]   \n",
       "413553  120996.0                     [54124]   \n",
       "418493   93684.0  [5240, 5241, 18482, 52062]   \n",
       "350022   99902.0                     [97957]   \n",
       "...          ...                         ...   \n",
       "349937   99902.0                     [97957]   \n",
       "388383  114788.0                     [15331]   \n",
       "350134   99902.0                     [97957]   \n",
       "420836  116138.0              [45250, 45251]   \n",
       "234229   91153.0              [47706, 95354]   \n",
       "\n",
       "                                              screenshots  \\\n",
       "350151                    [22965, 383044, 383045, 383046]   \n",
       "404391           [102680, 102681, 102682, 102683, 102684]   \n",
       "413553           [141184, 141185, 141186, 141187, 146355]   \n",
       "418493                       [892, 893, 8205, 8206, 8218]   \n",
       "350022                    [22965, 383044, 383045, 383046]   \n",
       "...                                                   ...   \n",
       "349937                    [22965, 383044, 383045, 383046]   \n",
       "388383  [5138, 5139, 5140, 5141, 5142, 166087, 166088,...   \n",
       "350134                    [22965, 383044, 383045, 383046]   \n",
       "420836                [46441, 46442, 46443, 46444, 46445]   \n",
       "234229           [127267, 127268, 127269, 127270, 127271]   \n",
       "\n",
       "                                        game_modes      player_perspectives  \\\n",
       "350151  [single-player, multiplayer, split-screen]  [Bird view / Isometric]   \n",
       "404391                             [single-player]           [Third person]   \n",
       "413553                             [single-player]           [Third person]   \n",
       "418493                             [single-player]           [Third person]   \n",
       "350022  [single-player, multiplayer, split-screen]  [Bird view / Isometric]   \n",
       "...                                            ...                      ...   \n",
       "349937  [single-player, multiplayer, split-screen]  [Bird view / Isometric]   \n",
       "388383                [single-player, multiplayer]           [Third person]   \n",
       "350134  [single-player, multiplayer, split-screen]  [Bird view / Isometric]   \n",
       "420836                [single-player, multiplayer]           [First person]   \n",
       "234229                             [single-player]           [Third person]   \n",
       "\n",
       "                                                   themes  \\\n",
       "350151                                       [Historical]   \n",
       "404391                      [Action, Fantasy, Open world]   \n",
       "413553  [Action, Thriller, Historical, Sandbox, Open w...   \n",
       "418493                          [Action, Science fiction]   \n",
       "350022                                       [Historical]   \n",
       "...                                                   ...   \n",
       "349937                                       [Historical]   \n",
       "388383                         [Action, Fantasy, Sandbox]   \n",
       "350134                                       [Historical]   \n",
       "420836                          [Action, Science fiction]   \n",
       "234229  [Action, Science fiction, Survival, Sandbox, O...   \n",
       "\n",
       "                                                 websites  \\\n",
       "350151                                   [119754, 139873]   \n",
       "404391                     [26765, 26766, 118909, 140843]   \n",
       "413553                                            [56427]   \n",
       "418493  [18939, 18940, 18941, 18942, 18943, 18944, 403...   \n",
       "350022                                   [119754, 139873]   \n",
       "...                                                   ...   \n",
       "349937                                   [119754, 139873]   \n",
       "388383                               [1555, 64540, 64541]   \n",
       "350134                                   [119754, 139873]   \n",
       "420836                                    [40862, 118799]   \n",
       "234229                                    [16771, 118837]   \n",
       "\n",
       "                                        alternative_names  \\\n",
       "350151                                            [32095]   \n",
       "404391                                               None   \n",
       "413553                                    [60591, 103643]   \n",
       "418493                              [19924, 45203, 50352]   \n",
       "350022                                            [32095]   \n",
       "...                                                   ...   \n",
       "349937                                            [32095]   \n",
       "388383  [12016, 19202, 19912, 19913, 48648, 48649, 48650]   \n",
       "350134                                            [32095]   \n",
       "420836                                               None   \n",
       "234229                                             [9790]   \n",
       "\n",
       "                                                 artworks game_engines  \\\n",
       "350151                                               None         None   \n",
       "404391                                            [55855]        [134]   \n",
       "413553                                     [46639, 46640]         None   \n",
       "418493  [4512, 4513, 4514, 4515, 4516, 4517, 4518, 451...        [351]   \n",
       "350022                                               None         None   \n",
       "...                                                   ...          ...   \n",
       "349937                                               None         None   \n",
       "388383                                            [73494]         None   \n",
       "350134                                               None         None   \n",
       "420836                                               None         None   \n",
       "234229                                            [58250]         None   \n",
       "\n",
       "                                                 keywords  status  \\\n",
       "350151  [60, 64, 171, 606, 994, 1148, 1471, 1922, 2002...     NaN   \n",
       "404391                                               None     NaN   \n",
       "413553  [1323, 1669, 4076, 4357, 16826, 16828, 16894, ...     NaN   \n",
       "418493  [3, 22, 72, 129, 159, 201, 274, 284, 301, 558,...     NaN   \n",
       "350022  [60, 64, 171, 606, 994, 1148, 1471, 1922, 2002...     NaN   \n",
       "...                                                   ...     ...   \n",
       "349937  [60, 64, 171, 606, 994, 1148, 1471, 1922, 2002...     NaN   \n",
       "388383  [64, 87, 121, 129, 227, 236, 296, 301, 332, 38...     NaN   \n",
       "350134  [60, 64, 171, 606, 994, 1148, 1471, 1922, 2002...     NaN   \n",
       "420836                       [103, 132, 1127, 2426, 3403]     NaN   \n",
       "234229                                         [69, 1459]     NaN   \n",
       "\n",
       "                                                   videos     rating  \\\n",
       "350151                                            [35570]  92.221300   \n",
       "404391                                               None  90.003422   \n",
       "413553                                     [16469, 16484]  92.990746   \n",
       "418493                                             [3344]  91.418551   \n",
       "350022                                            [35570]  92.221300   \n",
       "...                                                   ...        ...   \n",
       "349937                                            [35570]  92.221300   \n",
       "388383  [17294, 17295, 17296, 17297, 17298, 17299, 173...  90.702176   \n",
       "350134                                            [35570]  92.221300   \n",
       "420836                                               None  93.648853   \n",
       "234229                                               None  90.639950   \n",
       "\n",
       "        rating_count                                          storyline  \\\n",
       "350151            36  After fighting a losing battle with the raging...   \n",
       "404391             5                                               None   \n",
       "413553            23                                               None   \n",
       "418493          1924  Two years after Commander Shepard repelled inv...   \n",
       "350022            36  After fighting a losing battle with the raging...   \n",
       "...              ...                                                ...   \n",
       "349937            36  After fighting a losing battle with the raging...   \n",
       "388383            39                                               None   \n",
       "350134            36  After fighting a losing battle with the raging...   \n",
       "420836            42                                               None   \n",
       "234229           119  Vault 101 Jewel of the Wastes. For 200 years, ...   \n",
       "\n",
       "        total_rating  total_rating_count  version_parent  \\\n",
       "350151     92.221300                  36          2596.0   \n",
       "404391     90.003422                   5          2262.0   \n",
       "413553     83.162040                  29             NaN   \n",
       "418493     93.509276                1938             NaN   \n",
       "350022     92.221300                  36          2596.0   \n",
       "...              ...                 ...             ...   \n",
       "349937     92.221300                  36          2596.0   \n",
       "388383     89.172516                  55             NaN   \n",
       "350134     92.221300                  36          2596.0   \n",
       "420836     93.648853                  42            41.0   \n",
       "234229     91.319975                 120            15.0   \n",
       "\n",
       "                   version_title  hypes  collection franchises  follows  \\\n",
       "350151              Gold Edition    NaN       619.0     [2165]     22.0   \n",
       "404391              Gold Edition    NaN       463.0       None      NaN   \n",
       "413553                      None    1.0         NaN       None     15.0   \n",
       "418493                      None    1.0        25.0       None    796.0   \n",
       "350022              Gold Edition    NaN       619.0     [2165]     22.0   \n",
       "...                          ...    ...         ...        ...      ...   \n",
       "349937              Gold Edition    NaN       619.0     [2165]     22.0   \n",
       "388383                      None    1.0      2948.0      [824]     17.0   \n",
       "350134              Gold Edition    NaN       619.0     [2165]     22.0   \n",
       "420836  Game of the Year Edition    NaN         NaN       None     16.0   \n",
       "234229  Game of the Year Edition    NaN         3.0       None     33.0   \n",
       "\n",
       "        aggregated_rating  aggregated_rating_count  \\\n",
       "350151                NaN                      NaN   \n",
       "404391                NaN                      NaN   \n",
       "413553          73.333333                      6.0   \n",
       "418493          95.600000                     14.0   \n",
       "350022                NaN                      NaN   \n",
       "...                   ...                      ...   \n",
       "349937                NaN                      NaN   \n",
       "388383          87.642857                     16.0   \n",
       "350134                NaN                      NaN   \n",
       "420836                NaN                      NaN   \n",
       "234229          92.000000                      1.0   \n",
       "\n",
       "                                                     dlcs          bundles  \\\n",
       "350151                                               None             None   \n",
       "404391                                               None             None   \n",
       "413553                                               None             None   \n",
       "418493  [782, 783, 1596, 13790, 13794, 13798, 13885, 2...  [45181, 140839]   \n",
       "350022                                               None             None   \n",
       "...                                                   ...              ...   \n",
       "349937                                               None             None   \n",
       "388383                                               None             None   \n",
       "350134                                               None             None   \n",
       "420836                                               None          [52883]   \n",
       "234229                                               None         [122725]   \n",
       "\n",
       "        parent_game  franchise multiplayer_modes remakes    ports expansions  \\\n",
       "350151          NaN        NaN            [7365]    None  [86493]       None   \n",
       "404391          NaN        NaN              None    None     None       None   \n",
       "413553        109.0        NaN              None    None     None       None   \n",
       "418493          NaN        NaN              None    None     None       None   \n",
       "350022          NaN        NaN            [7365]    None  [86493]       None   \n",
       "...             ...        ...               ...     ...      ...        ...   \n",
       "349937          NaN        NaN            [7365]    None  [86493]       None   \n",
       "388383          NaN        NaN            [7104]    None     None       None   \n",
       "350134          NaN        NaN            [7365]    None  [86493]       None   \n",
       "420836          NaN        NaN              None    None     None       None   \n",
       "234229          NaN        NaN              None    None     None       None   \n",
       "\n",
       "       expanded_games remasters forks standalone_expansions  second  \\\n",
       "350151           None      None  None                  None     NaN   \n",
       "404391           None      None  None                  None     NaN   \n",
       "413553           None      None  None                  None   341.0   \n",
       "418493           None      None  None                  None   426.0   \n",
       "350022           None      None  None                  None     NaN   \n",
       "...               ...       ...   ...                   ...     ...   \n",
       "349937           None      None  None                  None     NaN   \n",
       "388383           None      None  None                  None     NaN   \n",
       "350134           None      None  None                  None     NaN   \n",
       "420836           None      None  None                  None     NaN   \n",
       "234229           None      None  None                  None   192.0   \n",
       "\n",
       "                                      version_description  \\\n",
       "350151                                               None   \n",
       "404391                                               None   \n",
       "413553   At 9.45 in the morning, a thunderous explosio...   \n",
       "418493                                               None   \n",
       "350022                                               None   \n",
       "...                                                   ...   \n",
       "349937                                               None   \n",
       "388383                                               None   \n",
       "350134                                               None   \n",
       "420836                                               None   \n",
       "234229  This hardcover book features nearly 100 pages ...   \n",
       "\n",
       "                                            title_version  second_id  \\\n",
       "350151                                               None     7365.0   \n",
       "404391                                               None        NaN   \n",
       "413553         DLC: \"Nicholson Electroplating\" Arson Case        NaN   \n",
       "418493  Bonus DVD with behind-the-scenes and making-of...        NaN   \n",
       "350022                                               None     7365.0   \n",
       "...                                                   ...        ...   \n",
       "349937                                               None     7365.0   \n",
       "388383                                               None     7104.0   \n",
       "350134                                               None     7365.0   \n",
       "420836                                               None        NaN   \n",
       "234229                              Art book of Fallout 3        NaN   \n",
       "\n",
       "        campaigncoop  dropin  lancoop  offlinecoop  offlinemax  onlinecoop  \\\n",
       "350151         False   False    False        False           0       False   \n",
       "404391         False   False    False        False           0       False   \n",
       "413553         False   False    False        False           0       False   \n",
       "418493         False   False    False        False           0       False   \n",
       "350022         False   False    False        False           0       False   \n",
       "...              ...     ...      ...          ...         ...         ...   \n",
       "349937         False   False    False        False           0       False   \n",
       "388383         False    True     True        False           0        True   \n",
       "350134         False   False    False        False           0       False   \n",
       "420836         False   False    False        False           0       False   \n",
       "234229         False   False    False        False           0       False   \n",
       "\n",
       "        platform  splitscreen                            checksum_y  \\\n",
       "350151       NaN        False  1c2dfca2-6ee8-b54e-b243-05ffb0c646bc   \n",
       "404391       NaN        False                                  None   \n",
       "413553       NaN        False                                  None   \n",
       "418493       NaN        False                                  None   \n",
       "350022       NaN        False  1c2dfca2-6ee8-b54e-b243-05ffb0c646bc   \n",
       "...          ...          ...                                   ...   \n",
       "349937       NaN        False  1c2dfca2-6ee8-b54e-b243-05ffb0c646bc   \n",
       "388383      37.0        False  ed1ef7e9-f817-f949-00bb-9fbc9a1f2b07   \n",
       "350134       NaN        False  1c2dfca2-6ee8-b54e-b243-05ffb0c646bc   \n",
       "420836       NaN        False                                  None   \n",
       "234229       NaN        False                                  None   \n",
       "\n",
       "        offlinecoopmax  onlinecoopmax  onlinemax rating_bin  \n",
       "350151               0              0          0    subperb  \n",
       "404391               0              0          0    subperb  \n",
       "413553               0              0          0    subperb  \n",
       "418493               0              0          0    subperb  \n",
       "350022               0              0          0    subperb  \n",
       "...                ...            ...        ...        ...  \n",
       "349937               0              0          0    subperb  \n",
       "388383               0              4          0    subperb  \n",
       "350134               0              0          0    subperb  \n",
       "420836               0              0          0    subperb  \n",
       "234229               0              0          0    subperb  \n",
       "\n",
       "[909 rows x 72 columns]"
      ]
     },
     "execution_count": 117,
     "metadata": {},
     "output_type": "execute_result"
    }
   ],
   "source": [
    "df_subperb_rating"
   ]
  },
  {
   "cell_type": "code",
   "execution_count": 115,
   "id": "28beb2b8",
   "metadata": {},
   "outputs": [
    {
     "data": {
      "text/plain": [
       "array([  2617,  29207,  59849,     74, 144133,  16665,   6440,    732,\n",
       "        19560, 187043,  26766, 109465,   6256,   2135,  24930,   2276,\n",
       "       178264,  80236,  14173,  39034, 113119, 149292,    916,  25513,\n",
       "       132234,  89594, 109241, 141408, 138851, 145327,   9143,   1128,\n",
       "        41882,   9262,  11631,    227, 103317,  28210,  19874,  11374,\n",
       "        13093, 116146,  26916,   2481,  27844,  23701,   1046,  26255,\n",
       "          796,  20341,    228,  12503,  18337, 116559,  47445,  12151,\n",
       "        13166, 139403,   6739, 141540,   1112, 103287,  18730,  98753,\n",
       "       126032, 140204,  27820,  18182,   1074,     23, 146081,   1029,\n",
       "         7334,  72327,  26192,  96439, 119402, 122661,  74878,   9103,\n",
       "        85643,  11270,   2207,  21892,    832,    479,   5563,  12329,\n",
       "        12672,  10121, 176552,     14,  21121,  51820,  26834, 109287,\n",
       "        41829,  13177,   5982,  86295,  36278, 141828,    184,   1433,\n",
       "       112412,  77378,  22439, 212871,   1942, 191270,  28160,  23851,\n",
       "        11885,   8750,  57692, 142494,   1105, 121436, 114283,  55771,\n",
       "       127155,   3230,   3349, 146075,  35282,  59858,  25651, 105594,\n",
       "         1070,  41621,  27979,  51226,   8257,   7346,   8711,  94873,\n",
       "         9927, 125764,  18924, 154772,  13350,  11226,  11737,  59433,\n",
       "        11208, 103340,   9587, 126098,  55036, 103198,  10039,  11650,\n",
       "        24493,   4268,    233,    379,   1026,   3466,  23095,   7331,\n",
       "        55322,  45131,  84972, 168670,   7406,  24917,  83876,  24512,\n",
       "       143232,    116, 113344,  28278,  77199,   1780, 119445,  11696,\n",
       "        98077,  19131,     72,   9577, 142289, 122556, 143215,  25358])"
      ]
     },
     "execution_count": 115,
     "metadata": {},
     "output_type": "execute_result"
    }
   ],
   "source": [
    "df_subperb_rating.id.unique()"
   ]
  },
  {
   "cell_type": "code",
   "execution_count": 116,
   "id": "4b3ba048",
   "metadata": {},
   "outputs": [
    {
     "name": "stdout",
     "output_type": "stream",
     "text": [
      "[  2617  29207  59849     74 144133  16665   6440    732  19560 187043\n",
      "  26766 109465   6256   2135  24930   2276 178264  80236  14173  39034\n",
      " 113119 149292    916  25513 132234  89594 109241 141408 138851 145327\n",
      "   9143   1128  41882   9262  11631    227 103317  28210  19874  11374\n",
      "  13093 116146  26916   2481  27844  23701   1046  26255    796  20341\n",
      "    228  12503  18337 116559  47445  12151  13166 139403   6739 141540\n",
      "   1112 103287  18730  98753 126032 140204  27820  18182   1074     23\n",
      " 146081   1029   7334  72327  26192  96439 119402 122661  74878   9103\n",
      "  85643  11270   2207  21892    832    479   5563  12329  12672  10121\n",
      " 176552     14  21121  51820  26834 109287  41829  13177   5982  86295\n",
      "  36278 141828    184   1433 112412  77378  22439 212871   1942 191270\n",
      "  28160  23851  11885   8750  57692 142494   1105 121436 114283  55771\n",
      " 127155   3230   3349 146075  35282  59858  25651 105594   1070  41621\n",
      "  27979  51226   8257   7346   8711  94873   9927 125764  18924 154772\n",
      "  13350  11226  11737  59433  11208 103340   9587 126098  55036 103198\n",
      "  10039  11650  24493   4268    233    379   1026   3466  23095   7331\n",
      "  55322  45131  84972 168670   7406  24917  83876  24512 143232    116\n",
      " 113344  28278  77199   1780 119445  11696  98077  19131     72   9577\n",
      " 142289 122556 143215  25358]\n"
     ]
    }
   ],
   "source": [
    "print(df_subperb_rating[\"id\"].unique())"
   ]
  },
  {
   "cell_type": "code",
   "execution_count": 118,
   "id": "a84043ea",
   "metadata": {
    "scrolled": true
   },
   "outputs": [
    {
     "name": "stdout",
     "output_type": "stream",
     "text": [
      "184\n"
     ]
    }
   ],
   "source": [
    "print(df_subperb_rating[\"id\"].nunique())"
   ]
  },
  {
   "cell_type": "code",
   "execution_count": 121,
   "id": "1f355982",
   "metadata": {
    "scrolled": true
   },
   "outputs": [
    {
     "data": {
      "text/plain": [
       "6440      248\n",
       "732       226\n",
       "2617      218\n",
       "19560       9\n",
       "39034       9\n",
       "         ... \n",
       "1074        1\n",
       "23          1\n",
       "146081      1\n",
       "1029        1\n",
       "25358       1\n",
       "Name: id, Length: 184, dtype: int64"
      ]
     },
     "execution_count": 121,
     "metadata": {},
     "output_type": "execute_result"
    }
   ],
   "source": [
    "df_subperb_rating.id.value_counts()"
   ]
  },
  {
   "cell_type": "code",
   "execution_count": 122,
   "id": "b8ba2d3b",
   "metadata": {},
   "outputs": [
    {
     "data": {
      "text/plain": [
       "350151    False\n",
       "404391    False\n",
       "413553    False\n",
       "418493    False\n",
       "350022    False\n",
       "          ...  \n",
       "349937    False\n",
       "388383     True\n",
       "350134    False\n",
       "420836    False\n",
       "234229    False\n",
       "Name: id, Length: 909, dtype: bool"
      ]
     },
     "execution_count": 122,
     "metadata": {},
     "output_type": "execute_result"
    }
   ],
   "source": [
    "df_subperb_rating[\"id\"]== 6440"
   ]
  },
  {
   "cell_type": "code",
   "execution_count": 135,
   "id": "d10e9fd6",
   "metadata": {},
   "outputs": [
    {
     "data": {
      "text/html": [
       "<div>\n",
       "<style scoped>\n",
       "    .dataframe tbody tr th:only-of-type {\n",
       "        vertical-align: middle;\n",
       "    }\n",
       "\n",
       "    .dataframe tbody tr th {\n",
       "        vertical-align: top;\n",
       "    }\n",
       "\n",
       "    .dataframe thead th {\n",
       "        text-align: right;\n",
       "    }\n",
       "</style>\n",
       "<table border=\"1\" class=\"dataframe\">\n",
       "  <thead>\n",
       "    <tr style=\"text-align: right;\">\n",
       "      <th></th>\n",
       "      <th>id</th>\n",
       "      <th>category</th>\n",
       "      <th>created_at</th>\n",
       "      <th>external_games</th>\n",
       "      <th>first_release_date</th>\n",
       "      <th>genres</th>\n",
       "      <th>name</th>\n",
       "      <th>platforms</th>\n",
       "      <th>release_dates</th>\n",
       "      <th>similar_games</th>\n",
       "      <th>slug</th>\n",
       "      <th>summary</th>\n",
       "      <th>tags</th>\n",
       "      <th>updated_at</th>\n",
       "      <th>url</th>\n",
       "      <th>checksum_x</th>\n",
       "      <th>age_ratings</th>\n",
       "      <th>cover</th>\n",
       "      <th>involved_companies</th>\n",
       "      <th>screenshots</th>\n",
       "      <th>game_modes</th>\n",
       "      <th>player_perspectives</th>\n",
       "      <th>themes</th>\n",
       "      <th>websites</th>\n",
       "      <th>alternative_names</th>\n",
       "      <th>artworks</th>\n",
       "      <th>game_engines</th>\n",
       "      <th>keywords</th>\n",
       "      <th>status</th>\n",
       "      <th>videos</th>\n",
       "      <th>rating</th>\n",
       "      <th>rating_count</th>\n",
       "      <th>storyline</th>\n",
       "      <th>total_rating</th>\n",
       "      <th>total_rating_count</th>\n",
       "      <th>version_parent</th>\n",
       "      <th>version_title</th>\n",
       "      <th>hypes</th>\n",
       "      <th>collection</th>\n",
       "      <th>franchises</th>\n",
       "      <th>follows</th>\n",
       "      <th>aggregated_rating</th>\n",
       "      <th>aggregated_rating_count</th>\n",
       "      <th>dlcs</th>\n",
       "      <th>bundles</th>\n",
       "      <th>parent_game</th>\n",
       "      <th>franchise</th>\n",
       "      <th>multiplayer_modes</th>\n",
       "      <th>remakes</th>\n",
       "      <th>ports</th>\n",
       "      <th>expansions</th>\n",
       "      <th>expanded_games</th>\n",
       "      <th>remasters</th>\n",
       "      <th>forks</th>\n",
       "      <th>standalone_expansions</th>\n",
       "      <th>second</th>\n",
       "      <th>version_description</th>\n",
       "      <th>title_version</th>\n",
       "      <th>second_id</th>\n",
       "      <th>campaigncoop</th>\n",
       "      <th>dropin</th>\n",
       "      <th>lancoop</th>\n",
       "      <th>offlinecoop</th>\n",
       "      <th>offlinemax</th>\n",
       "      <th>onlinecoop</th>\n",
       "      <th>platform</th>\n",
       "      <th>splitscreen</th>\n",
       "      <th>checksum_y</th>\n",
       "      <th>offlinecoopmax</th>\n",
       "      <th>onlinecoopmax</th>\n",
       "      <th>onlinemax</th>\n",
       "      <th>rating_bin</th>\n",
       "    </tr>\n",
       "  </thead>\n",
       "  <tbody>\n",
       "    <tr>\n",
       "      <th>254202</th>\n",
       "      <td>732</td>\n",
       "      <td>0</td>\n",
       "      <td>2011-10-04 17:22:46</td>\n",
       "      <td>[14740, 17904, 72864, 85113, 94603, 96695, 150...</td>\n",
       "      <td>1.098749e+09</td>\n",
       "      <td>[shooter, racing, adventure]</td>\n",
       "      <td>Grand Theft Auto: San Andreas</td>\n",
       "      <td>[PC (Microsoft Windows), PlayStation 2, PlaySt...</td>\n",
       "      <td>[1613, 1614, 3317, 3318, 48660, 55583, 123523,...</td>\n",
       "      <td>[564, 730, 731, 733, 1020, 1121, 3262, 3263, 3...</td>\n",
       "      <td>grand-theft-auto-san-andreas</td>\n",
       "      <td>Returning after his mother's murder to the sem...</td>\n",
       "      <td>[1, 32, 38, 268435461, 268435466, 268435487, 5...</td>\n",
       "      <td>2022-09-24 22:01:27</td>\n",
       "      <td>https://www.igdb.com/games/grand-theft-auto-sa...</td>\n",
       "      <td>8b663686-29aa-d4d7-cb44-4cedd4e02dfe</td>\n",
       "      <td>[31849, 47915, 47916, 47917, 47918, 47919, 47920]</td>\n",
       "      <td>120933.0</td>\n",
       "      <td>[55974, 55979, 55980]</td>\n",
       "      <td>[679, 189150, 189151, 189152, 189153, 778550, ...</td>\n",
       "      <td>[single-player, co-operative]</td>\n",
       "      <td>[First person, Third person]</td>\n",
       "      <td>[Action, Non-fiction, Open world]</td>\n",
       "      <td>[12921, 12922, 12923, 12924, 12925, 12926, 670...</td>\n",
       "      <td>[2332, 6795, 52703, 52704]</td>\n",
       "      <td>[34971]</td>\n",
       "      <td>[41]</td>\n",
       "      <td>[11, 17, 21, 57, 58, 72, 79, 109, 129, 132, 15...</td>\n",
       "      <td>NaN</td>\n",
       "      <td>[19022, 19023]</td>\n",
       "      <td>90.262582</td>\n",
       "      <td>2399</td>\n",
       "      <td>Five years ago, Carl Johnson escaped from the ...</td>\n",
       "      <td>91.70272</td>\n",
       "      <td>2406</td>\n",
       "      <td>NaN</td>\n",
       "      <td>None</td>\n",
       "      <td>2.0</td>\n",
       "      <td>847.0</td>\n",
       "      <td>[493]</td>\n",
       "      <td>991.0</td>\n",
       "      <td>93.142857</td>\n",
       "      <td>7.0</td>\n",
       "      <td>None</td>\n",
       "      <td>[5850]</td>\n",
       "      <td>NaN</td>\n",
       "      <td>NaN</td>\n",
       "      <td>[1858]</td>\n",
       "      <td>None</td>\n",
       "      <td>None</td>\n",
       "      <td>None</td>\n",
       "      <td>None</td>\n",
       "      <td>[178126]</td>\n",
       "      <td>None</td>\n",
       "      <td>None</td>\n",
       "      <td>NaN</td>\n",
       "      <td>None</td>\n",
       "      <td>None</td>\n",
       "      <td>1858.0</td>\n",
       "      <td>False</td>\n",
       "      <td>False</td>\n",
       "      <td>False</td>\n",
       "      <td>True</td>\n",
       "      <td>0</td>\n",
       "      <td>False</td>\n",
       "      <td>8.0</td>\n",
       "      <td>False</td>\n",
       "      <td>b2572d9b-fe16-f867-de9f-9c93df25ad7d</td>\n",
       "      <td>2</td>\n",
       "      <td>0</td>\n",
       "      <td>0</td>\n",
       "      <td>subperb</td>\n",
       "    </tr>\n",
       "  </tbody>\n",
       "</table>\n",
       "</div>"
      ],
      "text/plain": [
       "         id  category          created_at  \\\n",
       "254202  732         0 2011-10-04 17:22:46   \n",
       "\n",
       "                                           external_games  first_release_date  \\\n",
       "254202  [14740, 17904, 72864, 85113, 94603, 96695, 150...        1.098749e+09   \n",
       "\n",
       "                              genres                           name  \\\n",
       "254202  [shooter, racing, adventure]  Grand Theft Auto: San Andreas   \n",
       "\n",
       "                                                platforms  \\\n",
       "254202  [PC (Microsoft Windows), PlayStation 2, PlaySt...   \n",
       "\n",
       "                                            release_dates  \\\n",
       "254202  [1613, 1614, 3317, 3318, 48660, 55583, 123523,...   \n",
       "\n",
       "                                            similar_games  \\\n",
       "254202  [564, 730, 731, 733, 1020, 1121, 3262, 3263, 3...   \n",
       "\n",
       "                                slug  \\\n",
       "254202  grand-theft-auto-san-andreas   \n",
       "\n",
       "                                                  summary  \\\n",
       "254202  Returning after his mother's murder to the sem...   \n",
       "\n",
       "                                                     tags          updated_at  \\\n",
       "254202  [1, 32, 38, 268435461, 268435466, 268435487, 5... 2022-09-24 22:01:27   \n",
       "\n",
       "                                                      url  \\\n",
       "254202  https://www.igdb.com/games/grand-theft-auto-sa...   \n",
       "\n",
       "                                  checksum_x  \\\n",
       "254202  8b663686-29aa-d4d7-cb44-4cedd4e02dfe   \n",
       "\n",
       "                                              age_ratings     cover  \\\n",
       "254202  [31849, 47915, 47916, 47917, 47918, 47919, 47920]  120933.0   \n",
       "\n",
       "           involved_companies  \\\n",
       "254202  [55974, 55979, 55980]   \n",
       "\n",
       "                                              screenshots  \\\n",
       "254202  [679, 189150, 189151, 189152, 189153, 778550, ...   \n",
       "\n",
       "                           game_modes           player_perspectives  \\\n",
       "254202  [single-player, co-operative]  [First person, Third person]   \n",
       "\n",
       "                                   themes  \\\n",
       "254202  [Action, Non-fiction, Open world]   \n",
       "\n",
       "                                                 websites  \\\n",
       "254202  [12921, 12922, 12923, 12924, 12925, 12926, 670...   \n",
       "\n",
       "                 alternative_names artworks game_engines  \\\n",
       "254202  [2332, 6795, 52703, 52704]  [34971]         [41]   \n",
       "\n",
       "                                                 keywords  status  \\\n",
       "254202  [11, 17, 21, 57, 58, 72, 79, 109, 129, 132, 15...     NaN   \n",
       "\n",
       "                videos     rating  rating_count  \\\n",
       "254202  [19022, 19023]  90.262582          2399   \n",
       "\n",
       "                                                storyline  total_rating  \\\n",
       "254202  Five years ago, Carl Johnson escaped from the ...      91.70272   \n",
       "\n",
       "        total_rating_count  version_parent version_title  hypes  collection  \\\n",
       "254202                2406             NaN          None    2.0       847.0   \n",
       "\n",
       "       franchises  follows  aggregated_rating  aggregated_rating_count  dlcs  \\\n",
       "254202      [493]    991.0          93.142857                      7.0  None   \n",
       "\n",
       "       bundles  parent_game  franchise multiplayer_modes remakes ports  \\\n",
       "254202  [5850]          NaN        NaN            [1858]    None  None   \n",
       "\n",
       "       expansions expanded_games remasters forks standalone_expansions  \\\n",
       "254202       None           None  [178126]  None                  None   \n",
       "\n",
       "        second version_description title_version  second_id  campaigncoop  \\\n",
       "254202     NaN                None          None     1858.0         False   \n",
       "\n",
       "        dropin  lancoop  offlinecoop  offlinemax  onlinecoop  platform  \\\n",
       "254202   False    False         True           0       False       8.0   \n",
       "\n",
       "        splitscreen                            checksum_y  offlinecoopmax  \\\n",
       "254202        False  b2572d9b-fe16-f867-de9f-9c93df25ad7d               2   \n",
       "\n",
       "        onlinecoopmax  onlinemax rating_bin  \n",
       "254202              0          0    subperb  "
      ]
     },
     "execution_count": 135,
     "metadata": {},
     "output_type": "execute_result"
    }
   ],
   "source": [
    "df_subperb_rating.loc[df_subperb_rating['id'] == 732]"
   ]
  },
  {
   "cell_type": "code",
   "execution_count": 123,
   "id": "c96a20dc",
   "metadata": {
    "scrolled": true
   },
   "outputs": [
    {
     "data": {
      "text/html": [
       "<div>\n",
       "<style scoped>\n",
       "    .dataframe tbody tr th:only-of-type {\n",
       "        vertical-align: middle;\n",
       "    }\n",
       "\n",
       "    .dataframe tbody tr th {\n",
       "        vertical-align: top;\n",
       "    }\n",
       "\n",
       "    .dataframe thead th {\n",
       "        text-align: right;\n",
       "    }\n",
       "</style>\n",
       "<table border=\"1\" class=\"dataframe\">\n",
       "  <thead>\n",
       "    <tr style=\"text-align: right;\">\n",
       "      <th></th>\n",
       "      <th>id</th>\n",
       "      <th>category</th>\n",
       "      <th>created_at</th>\n",
       "      <th>external_games</th>\n",
       "      <th>first_release_date</th>\n",
       "      <th>genres</th>\n",
       "      <th>name</th>\n",
       "      <th>platforms</th>\n",
       "      <th>release_dates</th>\n",
       "      <th>similar_games</th>\n",
       "      <th>slug</th>\n",
       "      <th>summary</th>\n",
       "      <th>tags</th>\n",
       "      <th>updated_at</th>\n",
       "      <th>url</th>\n",
       "      <th>checksum_x</th>\n",
       "      <th>age_ratings</th>\n",
       "      <th>cover</th>\n",
       "      <th>involved_companies</th>\n",
       "      <th>screenshots</th>\n",
       "      <th>game_modes</th>\n",
       "      <th>player_perspectives</th>\n",
       "      <th>themes</th>\n",
       "      <th>websites</th>\n",
       "      <th>alternative_names</th>\n",
       "      <th>artworks</th>\n",
       "      <th>game_engines</th>\n",
       "      <th>keywords</th>\n",
       "      <th>status</th>\n",
       "      <th>videos</th>\n",
       "      <th>rating</th>\n",
       "      <th>rating_count</th>\n",
       "      <th>storyline</th>\n",
       "      <th>total_rating</th>\n",
       "      <th>total_rating_count</th>\n",
       "      <th>version_parent</th>\n",
       "      <th>version_title</th>\n",
       "      <th>hypes</th>\n",
       "      <th>collection</th>\n",
       "      <th>franchises</th>\n",
       "      <th>follows</th>\n",
       "      <th>aggregated_rating</th>\n",
       "      <th>aggregated_rating_count</th>\n",
       "      <th>dlcs</th>\n",
       "      <th>bundles</th>\n",
       "      <th>parent_game</th>\n",
       "      <th>franchise</th>\n",
       "      <th>multiplayer_modes</th>\n",
       "      <th>remakes</th>\n",
       "      <th>ports</th>\n",
       "      <th>expansions</th>\n",
       "      <th>expanded_games</th>\n",
       "      <th>remasters</th>\n",
       "      <th>forks</th>\n",
       "      <th>standalone_expansions</th>\n",
       "      <th>second</th>\n",
       "      <th>version_description</th>\n",
       "      <th>title_version</th>\n",
       "      <th>second_id</th>\n",
       "      <th>campaigncoop</th>\n",
       "      <th>dropin</th>\n",
       "      <th>lancoop</th>\n",
       "      <th>offlinecoop</th>\n",
       "      <th>offlinemax</th>\n",
       "      <th>onlinecoop</th>\n",
       "      <th>platform</th>\n",
       "      <th>splitscreen</th>\n",
       "      <th>checksum_y</th>\n",
       "      <th>offlinecoopmax</th>\n",
       "      <th>onlinecoopmax</th>\n",
       "      <th>onlinemax</th>\n",
       "      <th>rating_bin</th>\n",
       "    </tr>\n",
       "  </thead>\n",
       "  <tbody>\n",
       "    <tr>\n",
       "      <th>388433</th>\n",
       "      <td>6440</td>\n",
       "      <td>0</td>\n",
       "      <td>2014-04-25 09:48:13</td>\n",
       "      <td>[28211, 74916, 115817, 219004, 246341, 1929988...</td>\n",
       "      <td>1.412986e+09</td>\n",
       "      <td>[role-playing-rpg, adventure]</td>\n",
       "      <td>Monster Hunter 4 Ultimate</td>\n",
       "      <td>[Nintendo 3DS]</td>\n",
       "      <td>[25676, 25677, 25678, 129943]</td>\n",
       "      <td>[6, 121, 125, 472, 1879, 2155, 2368, 2480, 396...</td>\n",
       "      <td>monster-hunter-4-ultimate</td>\n",
       "      <td>Monster Hunter 4 Ultimate (called Monster Hunt...</td>\n",
       "      <td>[1, 17, 33, 268435468, 268435487, 536870976, 5...</td>\n",
       "      <td>2022-04-11 11:42:36</td>\n",
       "      <td>https://www.igdb.com/games/monster-hunter-4-ul...</td>\n",
       "      <td>c6166764-b398-84d2-7c62-15284e69f71e</td>\n",
       "      <td>[5960, 5961]</td>\n",
       "      <td>114788.0</td>\n",
       "      <td>[15331]</td>\n",
       "      <td>[5138, 5139, 5140, 5141, 5142, 166087, 166088,...</td>\n",
       "      <td>[single-player, multiplayer]</td>\n",
       "      <td>[Third person]</td>\n",
       "      <td>[Action, Fantasy, Sandbox]</td>\n",
       "      <td>[1555, 64540, 64541]</td>\n",
       "      <td>[12016, 19202, 19912, 19913, 48648, 48649, 48650]</td>\n",
       "      <td>[73494]</td>\n",
       "      <td>None</td>\n",
       "      <td>[64, 87, 121, 129, 227, 236, 296, 301, 332, 38...</td>\n",
       "      <td>NaN</td>\n",
       "      <td>[17294, 17295, 17296, 17297, 17298, 17299, 173...</td>\n",
       "      <td>90.702176</td>\n",
       "      <td>39</td>\n",
       "      <td>None</td>\n",
       "      <td>89.172516</td>\n",
       "      <td>55</td>\n",
       "      <td>NaN</td>\n",
       "      <td>None</td>\n",
       "      <td>1.0</td>\n",
       "      <td>2948.0</td>\n",
       "      <td>[824]</td>\n",
       "      <td>17.0</td>\n",
       "      <td>87.642857</td>\n",
       "      <td>16.0</td>\n",
       "      <td>None</td>\n",
       "      <td>None</td>\n",
       "      <td>NaN</td>\n",
       "      <td>NaN</td>\n",
       "      <td>[7104]</td>\n",
       "      <td>None</td>\n",
       "      <td>None</td>\n",
       "      <td>None</td>\n",
       "      <td>None</td>\n",
       "      <td>None</td>\n",
       "      <td>None</td>\n",
       "      <td>None</td>\n",
       "      <td>NaN</td>\n",
       "      <td>None</td>\n",
       "      <td>None</td>\n",
       "      <td>7104.0</td>\n",
       "      <td>False</td>\n",
       "      <td>True</td>\n",
       "      <td>True</td>\n",
       "      <td>False</td>\n",
       "      <td>0</td>\n",
       "      <td>True</td>\n",
       "      <td>37.0</td>\n",
       "      <td>False</td>\n",
       "      <td>ed1ef7e9-f817-f949-00bb-9fbc9a1f2b07</td>\n",
       "      <td>0</td>\n",
       "      <td>4</td>\n",
       "      <td>0</td>\n",
       "      <td>subperb</td>\n",
       "    </tr>\n",
       "    <tr>\n",
       "      <th>388510</th>\n",
       "      <td>6440</td>\n",
       "      <td>0</td>\n",
       "      <td>2014-04-25 09:48:13</td>\n",
       "      <td>[28211, 74916, 115817, 219004, 246341, 1929988...</td>\n",
       "      <td>1.412986e+09</td>\n",
       "      <td>[role-playing-rpg, adventure]</td>\n",
       "      <td>Monster Hunter 4 Ultimate</td>\n",
       "      <td>[Nintendo 3DS]</td>\n",
       "      <td>[25676, 25677, 25678, 129943]</td>\n",
       "      <td>[6, 121, 125, 472, 1879, 2155, 2368, 2480, 396...</td>\n",
       "      <td>monster-hunter-4-ultimate</td>\n",
       "      <td>Monster Hunter 4 Ultimate (called Monster Hunt...</td>\n",
       "      <td>[1, 17, 33, 268435468, 268435487, 536870976, 5...</td>\n",
       "      <td>2022-04-11 11:42:36</td>\n",
       "      <td>https://www.igdb.com/games/monster-hunter-4-ul...</td>\n",
       "      <td>c6166764-b398-84d2-7c62-15284e69f71e</td>\n",
       "      <td>[5960, 5961]</td>\n",
       "      <td>114788.0</td>\n",
       "      <td>[15331]</td>\n",
       "      <td>[5138, 5139, 5140, 5141, 5142, 166087, 166088,...</td>\n",
       "      <td>[single-player, multiplayer]</td>\n",
       "      <td>[Third person]</td>\n",
       "      <td>[Action, Fantasy, Sandbox]</td>\n",
       "      <td>[1555, 64540, 64541]</td>\n",
       "      <td>[12016, 19202, 19912, 19913, 48648, 48649, 48650]</td>\n",
       "      <td>[73494]</td>\n",
       "      <td>None</td>\n",
       "      <td>[64, 87, 121, 129, 227, 236, 296, 301, 332, 38...</td>\n",
       "      <td>NaN</td>\n",
       "      <td>[17294, 17295, 17296, 17297, 17298, 17299, 173...</td>\n",
       "      <td>90.702176</td>\n",
       "      <td>39</td>\n",
       "      <td>None</td>\n",
       "      <td>89.172516</td>\n",
       "      <td>55</td>\n",
       "      <td>NaN</td>\n",
       "      <td>None</td>\n",
       "      <td>1.0</td>\n",
       "      <td>2948.0</td>\n",
       "      <td>[824]</td>\n",
       "      <td>17.0</td>\n",
       "      <td>87.642857</td>\n",
       "      <td>16.0</td>\n",
       "      <td>None</td>\n",
       "      <td>None</td>\n",
       "      <td>NaN</td>\n",
       "      <td>NaN</td>\n",
       "      <td>[7104]</td>\n",
       "      <td>None</td>\n",
       "      <td>None</td>\n",
       "      <td>None</td>\n",
       "      <td>None</td>\n",
       "      <td>None</td>\n",
       "      <td>None</td>\n",
       "      <td>None</td>\n",
       "      <td>NaN</td>\n",
       "      <td>None</td>\n",
       "      <td>None</td>\n",
       "      <td>7104.0</td>\n",
       "      <td>False</td>\n",
       "      <td>True</td>\n",
       "      <td>True</td>\n",
       "      <td>False</td>\n",
       "      <td>0</td>\n",
       "      <td>True</td>\n",
       "      <td>37.0</td>\n",
       "      <td>False</td>\n",
       "      <td>ed1ef7e9-f817-f949-00bb-9fbc9a1f2b07</td>\n",
       "      <td>0</td>\n",
       "      <td>4</td>\n",
       "      <td>0</td>\n",
       "      <td>subperb</td>\n",
       "    </tr>\n",
       "    <tr>\n",
       "      <th>388157</th>\n",
       "      <td>6440</td>\n",
       "      <td>0</td>\n",
       "      <td>2014-04-25 09:48:13</td>\n",
       "      <td>[28211, 74916, 115817, 219004, 246341, 1929988...</td>\n",
       "      <td>1.412986e+09</td>\n",
       "      <td>[role-playing-rpg, adventure]</td>\n",
       "      <td>Monster Hunter 4 Ultimate</td>\n",
       "      <td>[Nintendo 3DS]</td>\n",
       "      <td>[25676, 25677, 25678, 129943]</td>\n",
       "      <td>[6, 121, 125, 472, 1879, 2155, 2368, 2480, 396...</td>\n",
       "      <td>monster-hunter-4-ultimate</td>\n",
       "      <td>Monster Hunter 4 Ultimate (called Monster Hunt...</td>\n",
       "      <td>[1, 17, 33, 268435468, 268435487, 536870976, 5...</td>\n",
       "      <td>2022-04-11 11:42:36</td>\n",
       "      <td>https://www.igdb.com/games/monster-hunter-4-ul...</td>\n",
       "      <td>c6166764-b398-84d2-7c62-15284e69f71e</td>\n",
       "      <td>[5960, 5961]</td>\n",
       "      <td>114788.0</td>\n",
       "      <td>[15331]</td>\n",
       "      <td>[5138, 5139, 5140, 5141, 5142, 166087, 166088,...</td>\n",
       "      <td>[single-player, multiplayer]</td>\n",
       "      <td>[Third person]</td>\n",
       "      <td>[Action, Fantasy, Sandbox]</td>\n",
       "      <td>[1555, 64540, 64541]</td>\n",
       "      <td>[12016, 19202, 19912, 19913, 48648, 48649, 48650]</td>\n",
       "      <td>[73494]</td>\n",
       "      <td>None</td>\n",
       "      <td>[64, 87, 121, 129, 227, 236, 296, 301, 332, 38...</td>\n",
       "      <td>NaN</td>\n",
       "      <td>[17294, 17295, 17296, 17297, 17298, 17299, 173...</td>\n",
       "      <td>90.702176</td>\n",
       "      <td>39</td>\n",
       "      <td>None</td>\n",
       "      <td>89.172516</td>\n",
       "      <td>55</td>\n",
       "      <td>NaN</td>\n",
       "      <td>None</td>\n",
       "      <td>1.0</td>\n",
       "      <td>2948.0</td>\n",
       "      <td>[824]</td>\n",
       "      <td>17.0</td>\n",
       "      <td>87.642857</td>\n",
       "      <td>16.0</td>\n",
       "      <td>None</td>\n",
       "      <td>None</td>\n",
       "      <td>NaN</td>\n",
       "      <td>NaN</td>\n",
       "      <td>[7104]</td>\n",
       "      <td>None</td>\n",
       "      <td>None</td>\n",
       "      <td>None</td>\n",
       "      <td>None</td>\n",
       "      <td>None</td>\n",
       "      <td>None</td>\n",
       "      <td>None</td>\n",
       "      <td>NaN</td>\n",
       "      <td>None</td>\n",
       "      <td>None</td>\n",
       "      <td>7104.0</td>\n",
       "      <td>False</td>\n",
       "      <td>True</td>\n",
       "      <td>True</td>\n",
       "      <td>False</td>\n",
       "      <td>0</td>\n",
       "      <td>True</td>\n",
       "      <td>37.0</td>\n",
       "      <td>False</td>\n",
       "      <td>ed1ef7e9-f817-f949-00bb-9fbc9a1f2b07</td>\n",
       "      <td>0</td>\n",
       "      <td>4</td>\n",
       "      <td>0</td>\n",
       "      <td>subperb</td>\n",
       "    </tr>\n",
       "    <tr>\n",
       "      <th>388239</th>\n",
       "      <td>6440</td>\n",
       "      <td>0</td>\n",
       "      <td>2014-04-25 09:48:13</td>\n",
       "      <td>[28211, 74916, 115817, 219004, 246341, 1929988...</td>\n",
       "      <td>1.412986e+09</td>\n",
       "      <td>[role-playing-rpg, adventure]</td>\n",
       "      <td>Monster Hunter 4 Ultimate</td>\n",
       "      <td>[Nintendo 3DS]</td>\n",
       "      <td>[25676, 25677, 25678, 129943]</td>\n",
       "      <td>[6, 121, 125, 472, 1879, 2155, 2368, 2480, 396...</td>\n",
       "      <td>monster-hunter-4-ultimate</td>\n",
       "      <td>Monster Hunter 4 Ultimate (called Monster Hunt...</td>\n",
       "      <td>[1, 17, 33, 268435468, 268435487, 536870976, 5...</td>\n",
       "      <td>2022-04-11 11:42:36</td>\n",
       "      <td>https://www.igdb.com/games/monster-hunter-4-ul...</td>\n",
       "      <td>c6166764-b398-84d2-7c62-15284e69f71e</td>\n",
       "      <td>[5960, 5961]</td>\n",
       "      <td>114788.0</td>\n",
       "      <td>[15331]</td>\n",
       "      <td>[5138, 5139, 5140, 5141, 5142, 166087, 166088,...</td>\n",
       "      <td>[single-player, multiplayer]</td>\n",
       "      <td>[Third person]</td>\n",
       "      <td>[Action, Fantasy, Sandbox]</td>\n",
       "      <td>[1555, 64540, 64541]</td>\n",
       "      <td>[12016, 19202, 19912, 19913, 48648, 48649, 48650]</td>\n",
       "      <td>[73494]</td>\n",
       "      <td>None</td>\n",
       "      <td>[64, 87, 121, 129, 227, 236, 296, 301, 332, 38...</td>\n",
       "      <td>NaN</td>\n",
       "      <td>[17294, 17295, 17296, 17297, 17298, 17299, 173...</td>\n",
       "      <td>90.702176</td>\n",
       "      <td>39</td>\n",
       "      <td>None</td>\n",
       "      <td>89.172516</td>\n",
       "      <td>55</td>\n",
       "      <td>NaN</td>\n",
       "      <td>None</td>\n",
       "      <td>1.0</td>\n",
       "      <td>2948.0</td>\n",
       "      <td>[824]</td>\n",
       "      <td>17.0</td>\n",
       "      <td>87.642857</td>\n",
       "      <td>16.0</td>\n",
       "      <td>None</td>\n",
       "      <td>None</td>\n",
       "      <td>NaN</td>\n",
       "      <td>NaN</td>\n",
       "      <td>[7104]</td>\n",
       "      <td>None</td>\n",
       "      <td>None</td>\n",
       "      <td>None</td>\n",
       "      <td>None</td>\n",
       "      <td>None</td>\n",
       "      <td>None</td>\n",
       "      <td>None</td>\n",
       "      <td>NaN</td>\n",
       "      <td>None</td>\n",
       "      <td>None</td>\n",
       "      <td>7104.0</td>\n",
       "      <td>False</td>\n",
       "      <td>True</td>\n",
       "      <td>True</td>\n",
       "      <td>False</td>\n",
       "      <td>0</td>\n",
       "      <td>True</td>\n",
       "      <td>37.0</td>\n",
       "      <td>False</td>\n",
       "      <td>ed1ef7e9-f817-f949-00bb-9fbc9a1f2b07</td>\n",
       "      <td>0</td>\n",
       "      <td>4</td>\n",
       "      <td>0</td>\n",
       "      <td>subperb</td>\n",
       "    </tr>\n",
       "    <tr>\n",
       "      <th>388185</th>\n",
       "      <td>6440</td>\n",
       "      <td>0</td>\n",
       "      <td>2014-04-25 09:48:13</td>\n",
       "      <td>[28211, 74916, 115817, 219004, 246341, 1929988...</td>\n",
       "      <td>1.412986e+09</td>\n",
       "      <td>[role-playing-rpg, adventure]</td>\n",
       "      <td>Monster Hunter 4 Ultimate</td>\n",
       "      <td>[Nintendo 3DS]</td>\n",
       "      <td>[25676, 25677, 25678, 129943]</td>\n",
       "      <td>[6, 121, 125, 472, 1879, 2155, 2368, 2480, 396...</td>\n",
       "      <td>monster-hunter-4-ultimate</td>\n",
       "      <td>Monster Hunter 4 Ultimate (called Monster Hunt...</td>\n",
       "      <td>[1, 17, 33, 268435468, 268435487, 536870976, 5...</td>\n",
       "      <td>2022-04-11 11:42:36</td>\n",
       "      <td>https://www.igdb.com/games/monster-hunter-4-ul...</td>\n",
       "      <td>c6166764-b398-84d2-7c62-15284e69f71e</td>\n",
       "      <td>[5960, 5961]</td>\n",
       "      <td>114788.0</td>\n",
       "      <td>[15331]</td>\n",
       "      <td>[5138, 5139, 5140, 5141, 5142, 166087, 166088,...</td>\n",
       "      <td>[single-player, multiplayer]</td>\n",
       "      <td>[Third person]</td>\n",
       "      <td>[Action, Fantasy, Sandbox]</td>\n",
       "      <td>[1555, 64540, 64541]</td>\n",
       "      <td>[12016, 19202, 19912, 19913, 48648, 48649, 48650]</td>\n",
       "      <td>[73494]</td>\n",
       "      <td>None</td>\n",
       "      <td>[64, 87, 121, 129, 227, 236, 296, 301, 332, 38...</td>\n",
       "      <td>NaN</td>\n",
       "      <td>[17294, 17295, 17296, 17297, 17298, 17299, 173...</td>\n",
       "      <td>90.702176</td>\n",
       "      <td>39</td>\n",
       "      <td>None</td>\n",
       "      <td>89.172516</td>\n",
       "      <td>55</td>\n",
       "      <td>NaN</td>\n",
       "      <td>None</td>\n",
       "      <td>1.0</td>\n",
       "      <td>2948.0</td>\n",
       "      <td>[824]</td>\n",
       "      <td>17.0</td>\n",
       "      <td>87.642857</td>\n",
       "      <td>16.0</td>\n",
       "      <td>None</td>\n",
       "      <td>None</td>\n",
       "      <td>NaN</td>\n",
       "      <td>NaN</td>\n",
       "      <td>[7104]</td>\n",
       "      <td>None</td>\n",
       "      <td>None</td>\n",
       "      <td>None</td>\n",
       "      <td>None</td>\n",
       "      <td>None</td>\n",
       "      <td>None</td>\n",
       "      <td>None</td>\n",
       "      <td>NaN</td>\n",
       "      <td>None</td>\n",
       "      <td>None</td>\n",
       "      <td>7104.0</td>\n",
       "      <td>False</td>\n",
       "      <td>True</td>\n",
       "      <td>True</td>\n",
       "      <td>False</td>\n",
       "      <td>0</td>\n",
       "      <td>True</td>\n",
       "      <td>37.0</td>\n",
       "      <td>False</td>\n",
       "      <td>ed1ef7e9-f817-f949-00bb-9fbc9a1f2b07</td>\n",
       "      <td>0</td>\n",
       "      <td>4</td>\n",
       "      <td>0</td>\n",
       "      <td>subperb</td>\n",
       "    </tr>\n",
       "    <tr>\n",
       "      <th>...</th>\n",
       "      <td>...</td>\n",
       "      <td>...</td>\n",
       "      <td>...</td>\n",
       "      <td>...</td>\n",
       "      <td>...</td>\n",
       "      <td>...</td>\n",
       "      <td>...</td>\n",
       "      <td>...</td>\n",
       "      <td>...</td>\n",
       "      <td>...</td>\n",
       "      <td>...</td>\n",
       "      <td>...</td>\n",
       "      <td>...</td>\n",
       "      <td>...</td>\n",
       "      <td>...</td>\n",
       "      <td>...</td>\n",
       "      <td>...</td>\n",
       "      <td>...</td>\n",
       "      <td>...</td>\n",
       "      <td>...</td>\n",
       "      <td>...</td>\n",
       "      <td>...</td>\n",
       "      <td>...</td>\n",
       "      <td>...</td>\n",
       "      <td>...</td>\n",
       "      <td>...</td>\n",
       "      <td>...</td>\n",
       "      <td>...</td>\n",
       "      <td>...</td>\n",
       "      <td>...</td>\n",
       "      <td>...</td>\n",
       "      <td>...</td>\n",
       "      <td>...</td>\n",
       "      <td>...</td>\n",
       "      <td>...</td>\n",
       "      <td>...</td>\n",
       "      <td>...</td>\n",
       "      <td>...</td>\n",
       "      <td>...</td>\n",
       "      <td>...</td>\n",
       "      <td>...</td>\n",
       "      <td>...</td>\n",
       "      <td>...</td>\n",
       "      <td>...</td>\n",
       "      <td>...</td>\n",
       "      <td>...</td>\n",
       "      <td>...</td>\n",
       "      <td>...</td>\n",
       "      <td>...</td>\n",
       "      <td>...</td>\n",
       "      <td>...</td>\n",
       "      <td>...</td>\n",
       "      <td>...</td>\n",
       "      <td>...</td>\n",
       "      <td>...</td>\n",
       "      <td>...</td>\n",
       "      <td>...</td>\n",
       "      <td>...</td>\n",
       "      <td>...</td>\n",
       "      <td>...</td>\n",
       "      <td>...</td>\n",
       "      <td>...</td>\n",
       "      <td>...</td>\n",
       "      <td>...</td>\n",
       "      <td>...</td>\n",
       "      <td>...</td>\n",
       "      <td>...</td>\n",
       "      <td>...</td>\n",
       "      <td>...</td>\n",
       "      <td>...</td>\n",
       "      <td>...</td>\n",
       "      <td>...</td>\n",
       "    </tr>\n",
       "    <tr>\n",
       "      <th>388193</th>\n",
       "      <td>6440</td>\n",
       "      <td>0</td>\n",
       "      <td>2014-04-25 09:48:13</td>\n",
       "      <td>[28211, 74916, 115817, 219004, 246341, 1929988...</td>\n",
       "      <td>1.412986e+09</td>\n",
       "      <td>[role-playing-rpg, adventure]</td>\n",
       "      <td>Monster Hunter 4 Ultimate</td>\n",
       "      <td>[Nintendo 3DS]</td>\n",
       "      <td>[25676, 25677, 25678, 129943]</td>\n",
       "      <td>[6, 121, 125, 472, 1879, 2155, 2368, 2480, 396...</td>\n",
       "      <td>monster-hunter-4-ultimate</td>\n",
       "      <td>Monster Hunter 4 Ultimate (called Monster Hunt...</td>\n",
       "      <td>[1, 17, 33, 268435468, 268435487, 536870976, 5...</td>\n",
       "      <td>2022-04-11 11:42:36</td>\n",
       "      <td>https://www.igdb.com/games/monster-hunter-4-ul...</td>\n",
       "      <td>c6166764-b398-84d2-7c62-15284e69f71e</td>\n",
       "      <td>[5960, 5961]</td>\n",
       "      <td>114788.0</td>\n",
       "      <td>[15331]</td>\n",
       "      <td>[5138, 5139, 5140, 5141, 5142, 166087, 166088,...</td>\n",
       "      <td>[single-player, multiplayer]</td>\n",
       "      <td>[Third person]</td>\n",
       "      <td>[Action, Fantasy, Sandbox]</td>\n",
       "      <td>[1555, 64540, 64541]</td>\n",
       "      <td>[12016, 19202, 19912, 19913, 48648, 48649, 48650]</td>\n",
       "      <td>[73494]</td>\n",
       "      <td>None</td>\n",
       "      <td>[64, 87, 121, 129, 227, 236, 296, 301, 332, 38...</td>\n",
       "      <td>NaN</td>\n",
       "      <td>[17294, 17295, 17296, 17297, 17298, 17299, 173...</td>\n",
       "      <td>90.702176</td>\n",
       "      <td>39</td>\n",
       "      <td>None</td>\n",
       "      <td>89.172516</td>\n",
       "      <td>55</td>\n",
       "      <td>NaN</td>\n",
       "      <td>None</td>\n",
       "      <td>1.0</td>\n",
       "      <td>2948.0</td>\n",
       "      <td>[824]</td>\n",
       "      <td>17.0</td>\n",
       "      <td>87.642857</td>\n",
       "      <td>16.0</td>\n",
       "      <td>None</td>\n",
       "      <td>None</td>\n",
       "      <td>NaN</td>\n",
       "      <td>NaN</td>\n",
       "      <td>[7104]</td>\n",
       "      <td>None</td>\n",
       "      <td>None</td>\n",
       "      <td>None</td>\n",
       "      <td>None</td>\n",
       "      <td>None</td>\n",
       "      <td>None</td>\n",
       "      <td>None</td>\n",
       "      <td>NaN</td>\n",
       "      <td>None</td>\n",
       "      <td>None</td>\n",
       "      <td>7104.0</td>\n",
       "      <td>False</td>\n",
       "      <td>True</td>\n",
       "      <td>True</td>\n",
       "      <td>False</td>\n",
       "      <td>0</td>\n",
       "      <td>True</td>\n",
       "      <td>37.0</td>\n",
       "      <td>False</td>\n",
       "      <td>ed1ef7e9-f817-f949-00bb-9fbc9a1f2b07</td>\n",
       "      <td>0</td>\n",
       "      <td>4</td>\n",
       "      <td>0</td>\n",
       "      <td>subperb</td>\n",
       "    </tr>\n",
       "    <tr>\n",
       "      <th>388329</th>\n",
       "      <td>6440</td>\n",
       "      <td>0</td>\n",
       "      <td>2014-04-25 09:48:13</td>\n",
       "      <td>[28211, 74916, 115817, 219004, 246341, 1929988...</td>\n",
       "      <td>1.412986e+09</td>\n",
       "      <td>[role-playing-rpg, adventure]</td>\n",
       "      <td>Monster Hunter 4 Ultimate</td>\n",
       "      <td>[Nintendo 3DS]</td>\n",
       "      <td>[25676, 25677, 25678, 129943]</td>\n",
       "      <td>[6, 121, 125, 472, 1879, 2155, 2368, 2480, 396...</td>\n",
       "      <td>monster-hunter-4-ultimate</td>\n",
       "      <td>Monster Hunter 4 Ultimate (called Monster Hunt...</td>\n",
       "      <td>[1, 17, 33, 268435468, 268435487, 536870976, 5...</td>\n",
       "      <td>2022-04-11 11:42:36</td>\n",
       "      <td>https://www.igdb.com/games/monster-hunter-4-ul...</td>\n",
       "      <td>c6166764-b398-84d2-7c62-15284e69f71e</td>\n",
       "      <td>[5960, 5961]</td>\n",
       "      <td>114788.0</td>\n",
       "      <td>[15331]</td>\n",
       "      <td>[5138, 5139, 5140, 5141, 5142, 166087, 166088,...</td>\n",
       "      <td>[single-player, multiplayer]</td>\n",
       "      <td>[Third person]</td>\n",
       "      <td>[Action, Fantasy, Sandbox]</td>\n",
       "      <td>[1555, 64540, 64541]</td>\n",
       "      <td>[12016, 19202, 19912, 19913, 48648, 48649, 48650]</td>\n",
       "      <td>[73494]</td>\n",
       "      <td>None</td>\n",
       "      <td>[64, 87, 121, 129, 227, 236, 296, 301, 332, 38...</td>\n",
       "      <td>NaN</td>\n",
       "      <td>[17294, 17295, 17296, 17297, 17298, 17299, 173...</td>\n",
       "      <td>90.702176</td>\n",
       "      <td>39</td>\n",
       "      <td>None</td>\n",
       "      <td>89.172516</td>\n",
       "      <td>55</td>\n",
       "      <td>NaN</td>\n",
       "      <td>None</td>\n",
       "      <td>1.0</td>\n",
       "      <td>2948.0</td>\n",
       "      <td>[824]</td>\n",
       "      <td>17.0</td>\n",
       "      <td>87.642857</td>\n",
       "      <td>16.0</td>\n",
       "      <td>None</td>\n",
       "      <td>None</td>\n",
       "      <td>NaN</td>\n",
       "      <td>NaN</td>\n",
       "      <td>[7104]</td>\n",
       "      <td>None</td>\n",
       "      <td>None</td>\n",
       "      <td>None</td>\n",
       "      <td>None</td>\n",
       "      <td>None</td>\n",
       "      <td>None</td>\n",
       "      <td>None</td>\n",
       "      <td>NaN</td>\n",
       "      <td>None</td>\n",
       "      <td>None</td>\n",
       "      <td>7104.0</td>\n",
       "      <td>False</td>\n",
       "      <td>True</td>\n",
       "      <td>True</td>\n",
       "      <td>False</td>\n",
       "      <td>0</td>\n",
       "      <td>True</td>\n",
       "      <td>37.0</td>\n",
       "      <td>False</td>\n",
       "      <td>ed1ef7e9-f817-f949-00bb-9fbc9a1f2b07</td>\n",
       "      <td>0</td>\n",
       "      <td>4</td>\n",
       "      <td>0</td>\n",
       "      <td>subperb</td>\n",
       "    </tr>\n",
       "    <tr>\n",
       "      <th>388540</th>\n",
       "      <td>6440</td>\n",
       "      <td>0</td>\n",
       "      <td>2014-04-25 09:48:13</td>\n",
       "      <td>[28211, 74916, 115817, 219004, 246341, 1929988...</td>\n",
       "      <td>1.412986e+09</td>\n",
       "      <td>[role-playing-rpg, adventure]</td>\n",
       "      <td>Monster Hunter 4 Ultimate</td>\n",
       "      <td>[Nintendo 3DS]</td>\n",
       "      <td>[25676, 25677, 25678, 129943]</td>\n",
       "      <td>[6, 121, 125, 472, 1879, 2155, 2368, 2480, 396...</td>\n",
       "      <td>monster-hunter-4-ultimate</td>\n",
       "      <td>Monster Hunter 4 Ultimate (called Monster Hunt...</td>\n",
       "      <td>[1, 17, 33, 268435468, 268435487, 536870976, 5...</td>\n",
       "      <td>2022-04-11 11:42:36</td>\n",
       "      <td>https://www.igdb.com/games/monster-hunter-4-ul...</td>\n",
       "      <td>c6166764-b398-84d2-7c62-15284e69f71e</td>\n",
       "      <td>[5960, 5961]</td>\n",
       "      <td>114788.0</td>\n",
       "      <td>[15331]</td>\n",
       "      <td>[5138, 5139, 5140, 5141, 5142, 166087, 166088,...</td>\n",
       "      <td>[single-player, multiplayer]</td>\n",
       "      <td>[Third person]</td>\n",
       "      <td>[Action, Fantasy, Sandbox]</td>\n",
       "      <td>[1555, 64540, 64541]</td>\n",
       "      <td>[12016, 19202, 19912, 19913, 48648, 48649, 48650]</td>\n",
       "      <td>[73494]</td>\n",
       "      <td>None</td>\n",
       "      <td>[64, 87, 121, 129, 227, 236, 296, 301, 332, 38...</td>\n",
       "      <td>NaN</td>\n",
       "      <td>[17294, 17295, 17296, 17297, 17298, 17299, 173...</td>\n",
       "      <td>90.702176</td>\n",
       "      <td>39</td>\n",
       "      <td>None</td>\n",
       "      <td>89.172516</td>\n",
       "      <td>55</td>\n",
       "      <td>NaN</td>\n",
       "      <td>None</td>\n",
       "      <td>1.0</td>\n",
       "      <td>2948.0</td>\n",
       "      <td>[824]</td>\n",
       "      <td>17.0</td>\n",
       "      <td>87.642857</td>\n",
       "      <td>16.0</td>\n",
       "      <td>None</td>\n",
       "      <td>None</td>\n",
       "      <td>NaN</td>\n",
       "      <td>NaN</td>\n",
       "      <td>[7104]</td>\n",
       "      <td>None</td>\n",
       "      <td>None</td>\n",
       "      <td>None</td>\n",
       "      <td>None</td>\n",
       "      <td>None</td>\n",
       "      <td>None</td>\n",
       "      <td>None</td>\n",
       "      <td>NaN</td>\n",
       "      <td>None</td>\n",
       "      <td>None</td>\n",
       "      <td>7104.0</td>\n",
       "      <td>False</td>\n",
       "      <td>True</td>\n",
       "      <td>True</td>\n",
       "      <td>False</td>\n",
       "      <td>0</td>\n",
       "      <td>True</td>\n",
       "      <td>37.0</td>\n",
       "      <td>False</td>\n",
       "      <td>ed1ef7e9-f817-f949-00bb-9fbc9a1f2b07</td>\n",
       "      <td>0</td>\n",
       "      <td>4</td>\n",
       "      <td>0</td>\n",
       "      <td>subperb</td>\n",
       "    </tr>\n",
       "    <tr>\n",
       "      <th>388356</th>\n",
       "      <td>6440</td>\n",
       "      <td>0</td>\n",
       "      <td>2014-04-25 09:48:13</td>\n",
       "      <td>[28211, 74916, 115817, 219004, 246341, 1929988...</td>\n",
       "      <td>1.412986e+09</td>\n",
       "      <td>[role-playing-rpg, adventure]</td>\n",
       "      <td>Monster Hunter 4 Ultimate</td>\n",
       "      <td>[Nintendo 3DS]</td>\n",
       "      <td>[25676, 25677, 25678, 129943]</td>\n",
       "      <td>[6, 121, 125, 472, 1879, 2155, 2368, 2480, 396...</td>\n",
       "      <td>monster-hunter-4-ultimate</td>\n",
       "      <td>Monster Hunter 4 Ultimate (called Monster Hunt...</td>\n",
       "      <td>[1, 17, 33, 268435468, 268435487, 536870976, 5...</td>\n",
       "      <td>2022-04-11 11:42:36</td>\n",
       "      <td>https://www.igdb.com/games/monster-hunter-4-ul...</td>\n",
       "      <td>c6166764-b398-84d2-7c62-15284e69f71e</td>\n",
       "      <td>[5960, 5961]</td>\n",
       "      <td>114788.0</td>\n",
       "      <td>[15331]</td>\n",
       "      <td>[5138, 5139, 5140, 5141, 5142, 166087, 166088,...</td>\n",
       "      <td>[single-player, multiplayer]</td>\n",
       "      <td>[Third person]</td>\n",
       "      <td>[Action, Fantasy, Sandbox]</td>\n",
       "      <td>[1555, 64540, 64541]</td>\n",
       "      <td>[12016, 19202, 19912, 19913, 48648, 48649, 48650]</td>\n",
       "      <td>[73494]</td>\n",
       "      <td>None</td>\n",
       "      <td>[64, 87, 121, 129, 227, 236, 296, 301, 332, 38...</td>\n",
       "      <td>NaN</td>\n",
       "      <td>[17294, 17295, 17296, 17297, 17298, 17299, 173...</td>\n",
       "      <td>90.702176</td>\n",
       "      <td>39</td>\n",
       "      <td>None</td>\n",
       "      <td>89.172516</td>\n",
       "      <td>55</td>\n",
       "      <td>NaN</td>\n",
       "      <td>None</td>\n",
       "      <td>1.0</td>\n",
       "      <td>2948.0</td>\n",
       "      <td>[824]</td>\n",
       "      <td>17.0</td>\n",
       "      <td>87.642857</td>\n",
       "      <td>16.0</td>\n",
       "      <td>None</td>\n",
       "      <td>None</td>\n",
       "      <td>NaN</td>\n",
       "      <td>NaN</td>\n",
       "      <td>[7104]</td>\n",
       "      <td>None</td>\n",
       "      <td>None</td>\n",
       "      <td>None</td>\n",
       "      <td>None</td>\n",
       "      <td>None</td>\n",
       "      <td>None</td>\n",
       "      <td>None</td>\n",
       "      <td>NaN</td>\n",
       "      <td>None</td>\n",
       "      <td>None</td>\n",
       "      <td>7104.0</td>\n",
       "      <td>False</td>\n",
       "      <td>True</td>\n",
       "      <td>True</td>\n",
       "      <td>False</td>\n",
       "      <td>0</td>\n",
       "      <td>True</td>\n",
       "      <td>37.0</td>\n",
       "      <td>False</td>\n",
       "      <td>ed1ef7e9-f817-f949-00bb-9fbc9a1f2b07</td>\n",
       "      <td>0</td>\n",
       "      <td>4</td>\n",
       "      <td>0</td>\n",
       "      <td>subperb</td>\n",
       "    </tr>\n",
       "    <tr>\n",
       "      <th>388383</th>\n",
       "      <td>6440</td>\n",
       "      <td>0</td>\n",
       "      <td>2014-04-25 09:48:13</td>\n",
       "      <td>[28211, 74916, 115817, 219004, 246341, 1929988...</td>\n",
       "      <td>1.412986e+09</td>\n",
       "      <td>[role-playing-rpg, adventure]</td>\n",
       "      <td>Monster Hunter 4 Ultimate</td>\n",
       "      <td>[Nintendo 3DS]</td>\n",
       "      <td>[25676, 25677, 25678, 129943]</td>\n",
       "      <td>[6, 121, 125, 472, 1879, 2155, 2368, 2480, 396...</td>\n",
       "      <td>monster-hunter-4-ultimate</td>\n",
       "      <td>Monster Hunter 4 Ultimate (called Monster Hunt...</td>\n",
       "      <td>[1, 17, 33, 268435468, 268435487, 536870976, 5...</td>\n",
       "      <td>2022-04-11 11:42:36</td>\n",
       "      <td>https://www.igdb.com/games/monster-hunter-4-ul...</td>\n",
       "      <td>c6166764-b398-84d2-7c62-15284e69f71e</td>\n",
       "      <td>[5960, 5961]</td>\n",
       "      <td>114788.0</td>\n",
       "      <td>[15331]</td>\n",
       "      <td>[5138, 5139, 5140, 5141, 5142, 166087, 166088,...</td>\n",
       "      <td>[single-player, multiplayer]</td>\n",
       "      <td>[Third person]</td>\n",
       "      <td>[Action, Fantasy, Sandbox]</td>\n",
       "      <td>[1555, 64540, 64541]</td>\n",
       "      <td>[12016, 19202, 19912, 19913, 48648, 48649, 48650]</td>\n",
       "      <td>[73494]</td>\n",
       "      <td>None</td>\n",
       "      <td>[64, 87, 121, 129, 227, 236, 296, 301, 332, 38...</td>\n",
       "      <td>NaN</td>\n",
       "      <td>[17294, 17295, 17296, 17297, 17298, 17299, 173...</td>\n",
       "      <td>90.702176</td>\n",
       "      <td>39</td>\n",
       "      <td>None</td>\n",
       "      <td>89.172516</td>\n",
       "      <td>55</td>\n",
       "      <td>NaN</td>\n",
       "      <td>None</td>\n",
       "      <td>1.0</td>\n",
       "      <td>2948.0</td>\n",
       "      <td>[824]</td>\n",
       "      <td>17.0</td>\n",
       "      <td>87.642857</td>\n",
       "      <td>16.0</td>\n",
       "      <td>None</td>\n",
       "      <td>None</td>\n",
       "      <td>NaN</td>\n",
       "      <td>NaN</td>\n",
       "      <td>[7104]</td>\n",
       "      <td>None</td>\n",
       "      <td>None</td>\n",
       "      <td>None</td>\n",
       "      <td>None</td>\n",
       "      <td>None</td>\n",
       "      <td>None</td>\n",
       "      <td>None</td>\n",
       "      <td>NaN</td>\n",
       "      <td>None</td>\n",
       "      <td>None</td>\n",
       "      <td>7104.0</td>\n",
       "      <td>False</td>\n",
       "      <td>True</td>\n",
       "      <td>True</td>\n",
       "      <td>False</td>\n",
       "      <td>0</td>\n",
       "      <td>True</td>\n",
       "      <td>37.0</td>\n",
       "      <td>False</td>\n",
       "      <td>ed1ef7e9-f817-f949-00bb-9fbc9a1f2b07</td>\n",
       "      <td>0</td>\n",
       "      <td>4</td>\n",
       "      <td>0</td>\n",
       "      <td>subperb</td>\n",
       "    </tr>\n",
       "  </tbody>\n",
       "</table>\n",
       "<p>248 rows × 72 columns</p>\n",
       "</div>"
      ],
      "text/plain": [
       "          id  category          created_at  \\\n",
       "388433  6440         0 2014-04-25 09:48:13   \n",
       "388510  6440         0 2014-04-25 09:48:13   \n",
       "388157  6440         0 2014-04-25 09:48:13   \n",
       "388239  6440         0 2014-04-25 09:48:13   \n",
       "388185  6440         0 2014-04-25 09:48:13   \n",
       "...      ...       ...                 ...   \n",
       "388193  6440         0 2014-04-25 09:48:13   \n",
       "388329  6440         0 2014-04-25 09:48:13   \n",
       "388540  6440         0 2014-04-25 09:48:13   \n",
       "388356  6440         0 2014-04-25 09:48:13   \n",
       "388383  6440         0 2014-04-25 09:48:13   \n",
       "\n",
       "                                           external_games  first_release_date  \\\n",
       "388433  [28211, 74916, 115817, 219004, 246341, 1929988...        1.412986e+09   \n",
       "388510  [28211, 74916, 115817, 219004, 246341, 1929988...        1.412986e+09   \n",
       "388157  [28211, 74916, 115817, 219004, 246341, 1929988...        1.412986e+09   \n",
       "388239  [28211, 74916, 115817, 219004, 246341, 1929988...        1.412986e+09   \n",
       "388185  [28211, 74916, 115817, 219004, 246341, 1929988...        1.412986e+09   \n",
       "...                                                   ...                 ...   \n",
       "388193  [28211, 74916, 115817, 219004, 246341, 1929988...        1.412986e+09   \n",
       "388329  [28211, 74916, 115817, 219004, 246341, 1929988...        1.412986e+09   \n",
       "388540  [28211, 74916, 115817, 219004, 246341, 1929988...        1.412986e+09   \n",
       "388356  [28211, 74916, 115817, 219004, 246341, 1929988...        1.412986e+09   \n",
       "388383  [28211, 74916, 115817, 219004, 246341, 1929988...        1.412986e+09   \n",
       "\n",
       "                               genres                       name  \\\n",
       "388433  [role-playing-rpg, adventure]  Monster Hunter 4 Ultimate   \n",
       "388510  [role-playing-rpg, adventure]  Monster Hunter 4 Ultimate   \n",
       "388157  [role-playing-rpg, adventure]  Monster Hunter 4 Ultimate   \n",
       "388239  [role-playing-rpg, adventure]  Monster Hunter 4 Ultimate   \n",
       "388185  [role-playing-rpg, adventure]  Monster Hunter 4 Ultimate   \n",
       "...                               ...                        ...   \n",
       "388193  [role-playing-rpg, adventure]  Monster Hunter 4 Ultimate   \n",
       "388329  [role-playing-rpg, adventure]  Monster Hunter 4 Ultimate   \n",
       "388540  [role-playing-rpg, adventure]  Monster Hunter 4 Ultimate   \n",
       "388356  [role-playing-rpg, adventure]  Monster Hunter 4 Ultimate   \n",
       "388383  [role-playing-rpg, adventure]  Monster Hunter 4 Ultimate   \n",
       "\n",
       "             platforms                  release_dates  \\\n",
       "388433  [Nintendo 3DS]  [25676, 25677, 25678, 129943]   \n",
       "388510  [Nintendo 3DS]  [25676, 25677, 25678, 129943]   \n",
       "388157  [Nintendo 3DS]  [25676, 25677, 25678, 129943]   \n",
       "388239  [Nintendo 3DS]  [25676, 25677, 25678, 129943]   \n",
       "388185  [Nintendo 3DS]  [25676, 25677, 25678, 129943]   \n",
       "...                ...                            ...   \n",
       "388193  [Nintendo 3DS]  [25676, 25677, 25678, 129943]   \n",
       "388329  [Nintendo 3DS]  [25676, 25677, 25678, 129943]   \n",
       "388540  [Nintendo 3DS]  [25676, 25677, 25678, 129943]   \n",
       "388356  [Nintendo 3DS]  [25676, 25677, 25678, 129943]   \n",
       "388383  [Nintendo 3DS]  [25676, 25677, 25678, 129943]   \n",
       "\n",
       "                                            similar_games  \\\n",
       "388433  [6, 121, 125, 472, 1879, 2155, 2368, 2480, 396...   \n",
       "388510  [6, 121, 125, 472, 1879, 2155, 2368, 2480, 396...   \n",
       "388157  [6, 121, 125, 472, 1879, 2155, 2368, 2480, 396...   \n",
       "388239  [6, 121, 125, 472, 1879, 2155, 2368, 2480, 396...   \n",
       "388185  [6, 121, 125, 472, 1879, 2155, 2368, 2480, 396...   \n",
       "...                                                   ...   \n",
       "388193  [6, 121, 125, 472, 1879, 2155, 2368, 2480, 396...   \n",
       "388329  [6, 121, 125, 472, 1879, 2155, 2368, 2480, 396...   \n",
       "388540  [6, 121, 125, 472, 1879, 2155, 2368, 2480, 396...   \n",
       "388356  [6, 121, 125, 472, 1879, 2155, 2368, 2480, 396...   \n",
       "388383  [6, 121, 125, 472, 1879, 2155, 2368, 2480, 396...   \n",
       "\n",
       "                             slug  \\\n",
       "388433  monster-hunter-4-ultimate   \n",
       "388510  monster-hunter-4-ultimate   \n",
       "388157  monster-hunter-4-ultimate   \n",
       "388239  monster-hunter-4-ultimate   \n",
       "388185  monster-hunter-4-ultimate   \n",
       "...                           ...   \n",
       "388193  monster-hunter-4-ultimate   \n",
       "388329  monster-hunter-4-ultimate   \n",
       "388540  monster-hunter-4-ultimate   \n",
       "388356  monster-hunter-4-ultimate   \n",
       "388383  monster-hunter-4-ultimate   \n",
       "\n",
       "                                                  summary  \\\n",
       "388433  Monster Hunter 4 Ultimate (called Monster Hunt...   \n",
       "388510  Monster Hunter 4 Ultimate (called Monster Hunt...   \n",
       "388157  Monster Hunter 4 Ultimate (called Monster Hunt...   \n",
       "388239  Monster Hunter 4 Ultimate (called Monster Hunt...   \n",
       "388185  Monster Hunter 4 Ultimate (called Monster Hunt...   \n",
       "...                                                   ...   \n",
       "388193  Monster Hunter 4 Ultimate (called Monster Hunt...   \n",
       "388329  Monster Hunter 4 Ultimate (called Monster Hunt...   \n",
       "388540  Monster Hunter 4 Ultimate (called Monster Hunt...   \n",
       "388356  Monster Hunter 4 Ultimate (called Monster Hunt...   \n",
       "388383  Monster Hunter 4 Ultimate (called Monster Hunt...   \n",
       "\n",
       "                                                     tags          updated_at  \\\n",
       "388433  [1, 17, 33, 268435468, 268435487, 536870976, 5... 2022-04-11 11:42:36   \n",
       "388510  [1, 17, 33, 268435468, 268435487, 536870976, 5... 2022-04-11 11:42:36   \n",
       "388157  [1, 17, 33, 268435468, 268435487, 536870976, 5... 2022-04-11 11:42:36   \n",
       "388239  [1, 17, 33, 268435468, 268435487, 536870976, 5... 2022-04-11 11:42:36   \n",
       "388185  [1, 17, 33, 268435468, 268435487, 536870976, 5... 2022-04-11 11:42:36   \n",
       "...                                                   ...                 ...   \n",
       "388193  [1, 17, 33, 268435468, 268435487, 536870976, 5... 2022-04-11 11:42:36   \n",
       "388329  [1, 17, 33, 268435468, 268435487, 536870976, 5... 2022-04-11 11:42:36   \n",
       "388540  [1, 17, 33, 268435468, 268435487, 536870976, 5... 2022-04-11 11:42:36   \n",
       "388356  [1, 17, 33, 268435468, 268435487, 536870976, 5... 2022-04-11 11:42:36   \n",
       "388383  [1, 17, 33, 268435468, 268435487, 536870976, 5... 2022-04-11 11:42:36   \n",
       "\n",
       "                                                      url  \\\n",
       "388433  https://www.igdb.com/games/monster-hunter-4-ul...   \n",
       "388510  https://www.igdb.com/games/monster-hunter-4-ul...   \n",
       "388157  https://www.igdb.com/games/monster-hunter-4-ul...   \n",
       "388239  https://www.igdb.com/games/monster-hunter-4-ul...   \n",
       "388185  https://www.igdb.com/games/monster-hunter-4-ul...   \n",
       "...                                                   ...   \n",
       "388193  https://www.igdb.com/games/monster-hunter-4-ul...   \n",
       "388329  https://www.igdb.com/games/monster-hunter-4-ul...   \n",
       "388540  https://www.igdb.com/games/monster-hunter-4-ul...   \n",
       "388356  https://www.igdb.com/games/monster-hunter-4-ul...   \n",
       "388383  https://www.igdb.com/games/monster-hunter-4-ul...   \n",
       "\n",
       "                                  checksum_x   age_ratings     cover  \\\n",
       "388433  c6166764-b398-84d2-7c62-15284e69f71e  [5960, 5961]  114788.0   \n",
       "388510  c6166764-b398-84d2-7c62-15284e69f71e  [5960, 5961]  114788.0   \n",
       "388157  c6166764-b398-84d2-7c62-15284e69f71e  [5960, 5961]  114788.0   \n",
       "388239  c6166764-b398-84d2-7c62-15284e69f71e  [5960, 5961]  114788.0   \n",
       "388185  c6166764-b398-84d2-7c62-15284e69f71e  [5960, 5961]  114788.0   \n",
       "...                                      ...           ...       ...   \n",
       "388193  c6166764-b398-84d2-7c62-15284e69f71e  [5960, 5961]  114788.0   \n",
       "388329  c6166764-b398-84d2-7c62-15284e69f71e  [5960, 5961]  114788.0   \n",
       "388540  c6166764-b398-84d2-7c62-15284e69f71e  [5960, 5961]  114788.0   \n",
       "388356  c6166764-b398-84d2-7c62-15284e69f71e  [5960, 5961]  114788.0   \n",
       "388383  c6166764-b398-84d2-7c62-15284e69f71e  [5960, 5961]  114788.0   \n",
       "\n",
       "       involved_companies                                        screenshots  \\\n",
       "388433            [15331]  [5138, 5139, 5140, 5141, 5142, 166087, 166088,...   \n",
       "388510            [15331]  [5138, 5139, 5140, 5141, 5142, 166087, 166088,...   \n",
       "388157            [15331]  [5138, 5139, 5140, 5141, 5142, 166087, 166088,...   \n",
       "388239            [15331]  [5138, 5139, 5140, 5141, 5142, 166087, 166088,...   \n",
       "388185            [15331]  [5138, 5139, 5140, 5141, 5142, 166087, 166088,...   \n",
       "...                   ...                                                ...   \n",
       "388193            [15331]  [5138, 5139, 5140, 5141, 5142, 166087, 166088,...   \n",
       "388329            [15331]  [5138, 5139, 5140, 5141, 5142, 166087, 166088,...   \n",
       "388540            [15331]  [5138, 5139, 5140, 5141, 5142, 166087, 166088,...   \n",
       "388356            [15331]  [5138, 5139, 5140, 5141, 5142, 166087, 166088,...   \n",
       "388383            [15331]  [5138, 5139, 5140, 5141, 5142, 166087, 166088,...   \n",
       "\n",
       "                          game_modes player_perspectives  \\\n",
       "388433  [single-player, multiplayer]      [Third person]   \n",
       "388510  [single-player, multiplayer]      [Third person]   \n",
       "388157  [single-player, multiplayer]      [Third person]   \n",
       "388239  [single-player, multiplayer]      [Third person]   \n",
       "388185  [single-player, multiplayer]      [Third person]   \n",
       "...                              ...                 ...   \n",
       "388193  [single-player, multiplayer]      [Third person]   \n",
       "388329  [single-player, multiplayer]      [Third person]   \n",
       "388540  [single-player, multiplayer]      [Third person]   \n",
       "388356  [single-player, multiplayer]      [Third person]   \n",
       "388383  [single-player, multiplayer]      [Third person]   \n",
       "\n",
       "                            themes              websites  \\\n",
       "388433  [Action, Fantasy, Sandbox]  [1555, 64540, 64541]   \n",
       "388510  [Action, Fantasy, Sandbox]  [1555, 64540, 64541]   \n",
       "388157  [Action, Fantasy, Sandbox]  [1555, 64540, 64541]   \n",
       "388239  [Action, Fantasy, Sandbox]  [1555, 64540, 64541]   \n",
       "388185  [Action, Fantasy, Sandbox]  [1555, 64540, 64541]   \n",
       "...                            ...                   ...   \n",
       "388193  [Action, Fantasy, Sandbox]  [1555, 64540, 64541]   \n",
       "388329  [Action, Fantasy, Sandbox]  [1555, 64540, 64541]   \n",
       "388540  [Action, Fantasy, Sandbox]  [1555, 64540, 64541]   \n",
       "388356  [Action, Fantasy, Sandbox]  [1555, 64540, 64541]   \n",
       "388383  [Action, Fantasy, Sandbox]  [1555, 64540, 64541]   \n",
       "\n",
       "                                        alternative_names artworks  \\\n",
       "388433  [12016, 19202, 19912, 19913, 48648, 48649, 48650]  [73494]   \n",
       "388510  [12016, 19202, 19912, 19913, 48648, 48649, 48650]  [73494]   \n",
       "388157  [12016, 19202, 19912, 19913, 48648, 48649, 48650]  [73494]   \n",
       "388239  [12016, 19202, 19912, 19913, 48648, 48649, 48650]  [73494]   \n",
       "388185  [12016, 19202, 19912, 19913, 48648, 48649, 48650]  [73494]   \n",
       "...                                                   ...      ...   \n",
       "388193  [12016, 19202, 19912, 19913, 48648, 48649, 48650]  [73494]   \n",
       "388329  [12016, 19202, 19912, 19913, 48648, 48649, 48650]  [73494]   \n",
       "388540  [12016, 19202, 19912, 19913, 48648, 48649, 48650]  [73494]   \n",
       "388356  [12016, 19202, 19912, 19913, 48648, 48649, 48650]  [73494]   \n",
       "388383  [12016, 19202, 19912, 19913, 48648, 48649, 48650]  [73494]   \n",
       "\n",
       "       game_engines                                           keywords  \\\n",
       "388433         None  [64, 87, 121, 129, 227, 236, 296, 301, 332, 38...   \n",
       "388510         None  [64, 87, 121, 129, 227, 236, 296, 301, 332, 38...   \n",
       "388157         None  [64, 87, 121, 129, 227, 236, 296, 301, 332, 38...   \n",
       "388239         None  [64, 87, 121, 129, 227, 236, 296, 301, 332, 38...   \n",
       "388185         None  [64, 87, 121, 129, 227, 236, 296, 301, 332, 38...   \n",
       "...             ...                                                ...   \n",
       "388193         None  [64, 87, 121, 129, 227, 236, 296, 301, 332, 38...   \n",
       "388329         None  [64, 87, 121, 129, 227, 236, 296, 301, 332, 38...   \n",
       "388540         None  [64, 87, 121, 129, 227, 236, 296, 301, 332, 38...   \n",
       "388356         None  [64, 87, 121, 129, 227, 236, 296, 301, 332, 38...   \n",
       "388383         None  [64, 87, 121, 129, 227, 236, 296, 301, 332, 38...   \n",
       "\n",
       "        status                                             videos     rating  \\\n",
       "388433     NaN  [17294, 17295, 17296, 17297, 17298, 17299, 173...  90.702176   \n",
       "388510     NaN  [17294, 17295, 17296, 17297, 17298, 17299, 173...  90.702176   \n",
       "388157     NaN  [17294, 17295, 17296, 17297, 17298, 17299, 173...  90.702176   \n",
       "388239     NaN  [17294, 17295, 17296, 17297, 17298, 17299, 173...  90.702176   \n",
       "388185     NaN  [17294, 17295, 17296, 17297, 17298, 17299, 173...  90.702176   \n",
       "...        ...                                                ...        ...   \n",
       "388193     NaN  [17294, 17295, 17296, 17297, 17298, 17299, 173...  90.702176   \n",
       "388329     NaN  [17294, 17295, 17296, 17297, 17298, 17299, 173...  90.702176   \n",
       "388540     NaN  [17294, 17295, 17296, 17297, 17298, 17299, 173...  90.702176   \n",
       "388356     NaN  [17294, 17295, 17296, 17297, 17298, 17299, 173...  90.702176   \n",
       "388383     NaN  [17294, 17295, 17296, 17297, 17298, 17299, 173...  90.702176   \n",
       "\n",
       "        rating_count storyline  total_rating  total_rating_count  \\\n",
       "388433            39      None     89.172516                  55   \n",
       "388510            39      None     89.172516                  55   \n",
       "388157            39      None     89.172516                  55   \n",
       "388239            39      None     89.172516                  55   \n",
       "388185            39      None     89.172516                  55   \n",
       "...              ...       ...           ...                 ...   \n",
       "388193            39      None     89.172516                  55   \n",
       "388329            39      None     89.172516                  55   \n",
       "388540            39      None     89.172516                  55   \n",
       "388356            39      None     89.172516                  55   \n",
       "388383            39      None     89.172516                  55   \n",
       "\n",
       "        version_parent version_title  hypes  collection franchises  follows  \\\n",
       "388433             NaN          None    1.0      2948.0      [824]     17.0   \n",
       "388510             NaN          None    1.0      2948.0      [824]     17.0   \n",
       "388157             NaN          None    1.0      2948.0      [824]     17.0   \n",
       "388239             NaN          None    1.0      2948.0      [824]     17.0   \n",
       "388185             NaN          None    1.0      2948.0      [824]     17.0   \n",
       "...                ...           ...    ...         ...        ...      ...   \n",
       "388193             NaN          None    1.0      2948.0      [824]     17.0   \n",
       "388329             NaN          None    1.0      2948.0      [824]     17.0   \n",
       "388540             NaN          None    1.0      2948.0      [824]     17.0   \n",
       "388356             NaN          None    1.0      2948.0      [824]     17.0   \n",
       "388383             NaN          None    1.0      2948.0      [824]     17.0   \n",
       "\n",
       "        aggregated_rating  aggregated_rating_count  dlcs bundles  parent_game  \\\n",
       "388433          87.642857                     16.0  None    None          NaN   \n",
       "388510          87.642857                     16.0  None    None          NaN   \n",
       "388157          87.642857                     16.0  None    None          NaN   \n",
       "388239          87.642857                     16.0  None    None          NaN   \n",
       "388185          87.642857                     16.0  None    None          NaN   \n",
       "...                   ...                      ...   ...     ...          ...   \n",
       "388193          87.642857                     16.0  None    None          NaN   \n",
       "388329          87.642857                     16.0  None    None          NaN   \n",
       "388540          87.642857                     16.0  None    None          NaN   \n",
       "388356          87.642857                     16.0  None    None          NaN   \n",
       "388383          87.642857                     16.0  None    None          NaN   \n",
       "\n",
       "        franchise multiplayer_modes remakes ports expansions expanded_games  \\\n",
       "388433        NaN            [7104]    None  None       None           None   \n",
       "388510        NaN            [7104]    None  None       None           None   \n",
       "388157        NaN            [7104]    None  None       None           None   \n",
       "388239        NaN            [7104]    None  None       None           None   \n",
       "388185        NaN            [7104]    None  None       None           None   \n",
       "...           ...               ...     ...   ...        ...            ...   \n",
       "388193        NaN            [7104]    None  None       None           None   \n",
       "388329        NaN            [7104]    None  None       None           None   \n",
       "388540        NaN            [7104]    None  None       None           None   \n",
       "388356        NaN            [7104]    None  None       None           None   \n",
       "388383        NaN            [7104]    None  None       None           None   \n",
       "\n",
       "       remasters forks standalone_expansions  second version_description  \\\n",
       "388433      None  None                  None     NaN                None   \n",
       "388510      None  None                  None     NaN                None   \n",
       "388157      None  None                  None     NaN                None   \n",
       "388239      None  None                  None     NaN                None   \n",
       "388185      None  None                  None     NaN                None   \n",
       "...          ...   ...                   ...     ...                 ...   \n",
       "388193      None  None                  None     NaN                None   \n",
       "388329      None  None                  None     NaN                None   \n",
       "388540      None  None                  None     NaN                None   \n",
       "388356      None  None                  None     NaN                None   \n",
       "388383      None  None                  None     NaN                None   \n",
       "\n",
       "       title_version  second_id  campaigncoop  dropin  lancoop  offlinecoop  \\\n",
       "388433          None     7104.0         False    True     True        False   \n",
       "388510          None     7104.0         False    True     True        False   \n",
       "388157          None     7104.0         False    True     True        False   \n",
       "388239          None     7104.0         False    True     True        False   \n",
       "388185          None     7104.0         False    True     True        False   \n",
       "...              ...        ...           ...     ...      ...          ...   \n",
       "388193          None     7104.0         False    True     True        False   \n",
       "388329          None     7104.0         False    True     True        False   \n",
       "388540          None     7104.0         False    True     True        False   \n",
       "388356          None     7104.0         False    True     True        False   \n",
       "388383          None     7104.0         False    True     True        False   \n",
       "\n",
       "        offlinemax  onlinecoop  platform  splitscreen  \\\n",
       "388433           0        True      37.0        False   \n",
       "388510           0        True      37.0        False   \n",
       "388157           0        True      37.0        False   \n",
       "388239           0        True      37.0        False   \n",
       "388185           0        True      37.0        False   \n",
       "...            ...         ...       ...          ...   \n",
       "388193           0        True      37.0        False   \n",
       "388329           0        True      37.0        False   \n",
       "388540           0        True      37.0        False   \n",
       "388356           0        True      37.0        False   \n",
       "388383           0        True      37.0        False   \n",
       "\n",
       "                                  checksum_y  offlinecoopmax  onlinecoopmax  \\\n",
       "388433  ed1ef7e9-f817-f949-00bb-9fbc9a1f2b07               0              4   \n",
       "388510  ed1ef7e9-f817-f949-00bb-9fbc9a1f2b07               0              4   \n",
       "388157  ed1ef7e9-f817-f949-00bb-9fbc9a1f2b07               0              4   \n",
       "388239  ed1ef7e9-f817-f949-00bb-9fbc9a1f2b07               0              4   \n",
       "388185  ed1ef7e9-f817-f949-00bb-9fbc9a1f2b07               0              4   \n",
       "...                                      ...             ...            ...   \n",
       "388193  ed1ef7e9-f817-f949-00bb-9fbc9a1f2b07               0              4   \n",
       "388329  ed1ef7e9-f817-f949-00bb-9fbc9a1f2b07               0              4   \n",
       "388540  ed1ef7e9-f817-f949-00bb-9fbc9a1f2b07               0              4   \n",
       "388356  ed1ef7e9-f817-f949-00bb-9fbc9a1f2b07               0              4   \n",
       "388383  ed1ef7e9-f817-f949-00bb-9fbc9a1f2b07               0              4   \n",
       "\n",
       "        onlinemax rating_bin  \n",
       "388433          0    subperb  \n",
       "388510          0    subperb  \n",
       "388157          0    subperb  \n",
       "388239          0    subperb  \n",
       "388185          0    subperb  \n",
       "...           ...        ...  \n",
       "388193          0    subperb  \n",
       "388329          0    subperb  \n",
       "388540          0    subperb  \n",
       "388356          0    subperb  \n",
       "388383          0    subperb  \n",
       "\n",
       "[248 rows x 72 columns]"
      ]
     },
     "execution_count": 123,
     "metadata": {},
     "output_type": "execute_result"
    }
   ],
   "source": [
    "df_subperb_rating.loc[df_subperb_rating['id'] == 6440]"
   ]
  },
  {
   "cell_type": "code",
   "execution_count": null,
   "id": "bd62b8c1",
   "metadata": {},
   "outputs": [],
   "source": []
  },
  {
   "cell_type": "code",
   "execution_count": 126,
   "id": "744e4a52",
   "metadata": {},
   "outputs": [],
   "source": [
    "df_subperb_rating = df_subperb_rating.drop_duplicates(subset = \"id\")"
   ]
  },
  {
   "cell_type": "code",
   "execution_count": 127,
   "id": "5b75d522",
   "metadata": {},
   "outputs": [
    {
     "data": {
      "text/html": [
       "<div>\n",
       "<style scoped>\n",
       "    .dataframe tbody tr th:only-of-type {\n",
       "        vertical-align: middle;\n",
       "    }\n",
       "\n",
       "    .dataframe tbody tr th {\n",
       "        vertical-align: top;\n",
       "    }\n",
       "\n",
       "    .dataframe thead th {\n",
       "        text-align: right;\n",
       "    }\n",
       "</style>\n",
       "<table border=\"1\" class=\"dataframe\">\n",
       "  <thead>\n",
       "    <tr style=\"text-align: right;\">\n",
       "      <th></th>\n",
       "      <th>id</th>\n",
       "      <th>category</th>\n",
       "      <th>created_at</th>\n",
       "      <th>external_games</th>\n",
       "      <th>first_release_date</th>\n",
       "      <th>genres</th>\n",
       "      <th>name</th>\n",
       "      <th>platforms</th>\n",
       "      <th>release_dates</th>\n",
       "      <th>similar_games</th>\n",
       "      <th>slug</th>\n",
       "      <th>summary</th>\n",
       "      <th>tags</th>\n",
       "      <th>updated_at</th>\n",
       "      <th>url</th>\n",
       "      <th>checksum_x</th>\n",
       "      <th>age_ratings</th>\n",
       "      <th>cover</th>\n",
       "      <th>involved_companies</th>\n",
       "      <th>screenshots</th>\n",
       "      <th>game_modes</th>\n",
       "      <th>player_perspectives</th>\n",
       "      <th>themes</th>\n",
       "      <th>websites</th>\n",
       "      <th>alternative_names</th>\n",
       "      <th>artworks</th>\n",
       "      <th>game_engines</th>\n",
       "      <th>keywords</th>\n",
       "      <th>status</th>\n",
       "      <th>videos</th>\n",
       "      <th>rating</th>\n",
       "      <th>rating_count</th>\n",
       "      <th>storyline</th>\n",
       "      <th>total_rating</th>\n",
       "      <th>total_rating_count</th>\n",
       "      <th>version_parent</th>\n",
       "      <th>version_title</th>\n",
       "      <th>hypes</th>\n",
       "      <th>collection</th>\n",
       "      <th>franchises</th>\n",
       "      <th>follows</th>\n",
       "      <th>aggregated_rating</th>\n",
       "      <th>aggregated_rating_count</th>\n",
       "      <th>dlcs</th>\n",
       "      <th>bundles</th>\n",
       "      <th>parent_game</th>\n",
       "      <th>franchise</th>\n",
       "      <th>multiplayer_modes</th>\n",
       "      <th>remakes</th>\n",
       "      <th>ports</th>\n",
       "      <th>expansions</th>\n",
       "      <th>expanded_games</th>\n",
       "      <th>remasters</th>\n",
       "      <th>forks</th>\n",
       "      <th>standalone_expansions</th>\n",
       "      <th>second</th>\n",
       "      <th>version_description</th>\n",
       "      <th>title_version</th>\n",
       "      <th>second_id</th>\n",
       "      <th>campaigncoop</th>\n",
       "      <th>dropin</th>\n",
       "      <th>lancoop</th>\n",
       "      <th>offlinecoop</th>\n",
       "      <th>offlinemax</th>\n",
       "      <th>onlinecoop</th>\n",
       "      <th>platform</th>\n",
       "      <th>splitscreen</th>\n",
       "      <th>checksum_y</th>\n",
       "      <th>offlinecoopmax</th>\n",
       "      <th>onlinecoopmax</th>\n",
       "      <th>onlinemax</th>\n",
       "      <th>rating_bin</th>\n",
       "    </tr>\n",
       "  </thead>\n",
       "  <tbody>\n",
       "    <tr>\n",
       "      <th>350151</th>\n",
       "      <td>2617</td>\n",
       "      <td>3</td>\n",
       "      <td>2013-07-17 16:09:09</td>\n",
       "      <td>[43459, 78277]</td>\n",
       "      <td>8.703936e+08</td>\n",
       "      <td>[real-time-strategy-rts, simulator, strategy]</td>\n",
       "      <td>The Settlers II: Gold Edition</td>\n",
       "      <td>[DOS, Mac, Nintendo DS]</td>\n",
       "      <td>[194838, 194839, 194840]</td>\n",
       "      <td>[9789, 18623, 20776, 28325, 29173, 31480, 3151...</td>\n",
       "      <td>the-settlers-ii-gold-edition</td>\n",
       "      <td>The goal of this game is to build a prosperous...</td>\n",
       "      <td>[22, 268435467, 268435469, 268435471, 53687097...</td>\n",
       "      <td>2022-07-11 11:30:50</td>\n",
       "      <td>https://www.igdb.com/games/the-settlers-ii-gol...</td>\n",
       "      <td>db85c417-67eb-2742-d6d1-f80aad673a6a</td>\n",
       "      <td>[27816, 78303]</td>\n",
       "      <td>99902.0</td>\n",
       "      <td>[97957]</td>\n",
       "      <td>[22965, 383044, 383045, 383046]</td>\n",
       "      <td>[single-player, multiplayer, split-screen]</td>\n",
       "      <td>[Bird view / Isometric]</td>\n",
       "      <td>[Historical]</td>\n",
       "      <td>[119754, 139873]</td>\n",
       "      <td>[32095]</td>\n",
       "      <td>None</td>\n",
       "      <td>None</td>\n",
       "      <td>[60, 64, 171, 606, 994, 1148, 1471, 1922, 2002...</td>\n",
       "      <td>NaN</td>\n",
       "      <td>[35570]</td>\n",
       "      <td>92.221300</td>\n",
       "      <td>36</td>\n",
       "      <td>After fighting a losing battle with the raging...</td>\n",
       "      <td>92.221300</td>\n",
       "      <td>36</td>\n",
       "      <td>2596.0</td>\n",
       "      <td>Gold Edition</td>\n",
       "      <td>NaN</td>\n",
       "      <td>619.0</td>\n",
       "      <td>[2165]</td>\n",
       "      <td>22.0</td>\n",
       "      <td>NaN</td>\n",
       "      <td>NaN</td>\n",
       "      <td>None</td>\n",
       "      <td>None</td>\n",
       "      <td>NaN</td>\n",
       "      <td>NaN</td>\n",
       "      <td>[7365]</td>\n",
       "      <td>None</td>\n",
       "      <td>[86493]</td>\n",
       "      <td>None</td>\n",
       "      <td>None</td>\n",
       "      <td>None</td>\n",
       "      <td>None</td>\n",
       "      <td>None</td>\n",
       "      <td>NaN</td>\n",
       "      <td>None</td>\n",
       "      <td>None</td>\n",
       "      <td>7365.0</td>\n",
       "      <td>False</td>\n",
       "      <td>False</td>\n",
       "      <td>False</td>\n",
       "      <td>False</td>\n",
       "      <td>0</td>\n",
       "      <td>False</td>\n",
       "      <td>NaN</td>\n",
       "      <td>False</td>\n",
       "      <td>1c2dfca2-6ee8-b54e-b243-05ffb0c646bc</td>\n",
       "      <td>0</td>\n",
       "      <td>0</td>\n",
       "      <td>0</td>\n",
       "      <td>subperb</td>\n",
       "    </tr>\n",
       "    <tr>\n",
       "      <th>404391</th>\n",
       "      <td>29207</td>\n",
       "      <td>0</td>\n",
       "      <td>2017-05-20 12:20:49</td>\n",
       "      <td>[14106, 77210, 85081, 96659, 2136317]</td>\n",
       "      <td>1.133222e+09</td>\n",
       "      <td>[role-playing-rpg]</td>\n",
       "      <td>Gothic II: Gold Edition</td>\n",
       "      <td>[PC (Microsoft Windows)]</td>\n",
       "      <td>[196063]</td>\n",
       "      <td>[19164, 54775, 81249, 96217, 99118, 101608, 10...</td>\n",
       "      <td>gothic-ii-gold-edition</td>\n",
       "      <td>Gothic II: Gold Edition brings together the ex...</td>\n",
       "      <td>[1, 17, 38, 268435468]</td>\n",
       "      <td>2022-09-25 09:56:26</td>\n",
       "      <td>https://www.igdb.com/games/gothic-ii-gold-edition</td>\n",
       "      <td>0b0d512e-1add-c724-d6a5-f69e9043c619</td>\n",
       "      <td>[27942]</td>\n",
       "      <td>81332.0</td>\n",
       "      <td>[47901, 99186]</td>\n",
       "      <td>[102680, 102681, 102682, 102683, 102684]</td>\n",
       "      <td>[single-player]</td>\n",
       "      <td>[Third person]</td>\n",
       "      <td>[Action, Fantasy, Open world]</td>\n",
       "      <td>[26765, 26766, 118909, 140843]</td>\n",
       "      <td>None</td>\n",
       "      <td>[55855]</td>\n",
       "      <td>[134]</td>\n",
       "      <td>None</td>\n",
       "      <td>NaN</td>\n",
       "      <td>None</td>\n",
       "      <td>90.003422</td>\n",
       "      <td>5</td>\n",
       "      <td>None</td>\n",
       "      <td>90.003422</td>\n",
       "      <td>5</td>\n",
       "      <td>2262.0</td>\n",
       "      <td>Gold Edition</td>\n",
       "      <td>NaN</td>\n",
       "      <td>463.0</td>\n",
       "      <td>None</td>\n",
       "      <td>NaN</td>\n",
       "      <td>NaN</td>\n",
       "      <td>NaN</td>\n",
       "      <td>None</td>\n",
       "      <td>None</td>\n",
       "      <td>NaN</td>\n",
       "      <td>NaN</td>\n",
       "      <td>None</td>\n",
       "      <td>None</td>\n",
       "      <td>None</td>\n",
       "      <td>None</td>\n",
       "      <td>None</td>\n",
       "      <td>None</td>\n",
       "      <td>None</td>\n",
       "      <td>None</td>\n",
       "      <td>NaN</td>\n",
       "      <td>None</td>\n",
       "      <td>None</td>\n",
       "      <td>NaN</td>\n",
       "      <td>False</td>\n",
       "      <td>False</td>\n",
       "      <td>False</td>\n",
       "      <td>False</td>\n",
       "      <td>0</td>\n",
       "      <td>False</td>\n",
       "      <td>NaN</td>\n",
       "      <td>False</td>\n",
       "      <td>None</td>\n",
       "      <td>0</td>\n",
       "      <td>0</td>\n",
       "      <td>0</td>\n",
       "      <td>subperb</td>\n",
       "    </tr>\n",
       "    <tr>\n",
       "      <th>413553</th>\n",
       "      <td>59849</td>\n",
       "      <td>9</td>\n",
       "      <td>2017-09-07 18:41:31</td>\n",
       "      <td>[197757, 210636, 398654, 1237237, 2000741, 211...</td>\n",
       "      <td>1.510618e+09</td>\n",
       "      <td>[shooter, strategy, adventure]</td>\n",
       "      <td>L.A. Noire</td>\n",
       "      <td>[PlayStation 4, Xbox One]</td>\n",
       "      <td>[112409, 112410, 135021, 135022, 136102]</td>\n",
       "      <td>[17379, 17548, 18167, 18225, 26574, 27092, 285...</td>\n",
       "      <td>la-noire</td>\n",
       "      <td>L.A. Noire for PlayStation 4 and Xbox One deli...</td>\n",
       "      <td>[1, 20, 22, 33, 38, 39, 43, 268435461, 2684354...</td>\n",
       "      <td>2022-09-22 13:55:14</td>\n",
       "      <td>https://www.igdb.com/games/la-noire</td>\n",
       "      <td>1db7b5e1-bc8b-cc45-e4b5-2f7b15aa5cf2</td>\n",
       "      <td>[61480, 62001, 93238]</td>\n",
       "      <td>120996.0</td>\n",
       "      <td>[54124]</td>\n",
       "      <td>[141184, 141185, 141186, 141187, 146355]</td>\n",
       "      <td>[single-player]</td>\n",
       "      <td>[Third person]</td>\n",
       "      <td>[Action, Thriller, Historical, Sandbox, Open w...</td>\n",
       "      <td>[56427]</td>\n",
       "      <td>[60591, 103643]</td>\n",
       "      <td>[46639, 46640]</td>\n",
       "      <td>None</td>\n",
       "      <td>[1323, 1669, 4076, 4357, 16826, 16828, 16894, ...</td>\n",
       "      <td>NaN</td>\n",
       "      <td>[16469, 16484]</td>\n",
       "      <td>92.990746</td>\n",
       "      <td>23</td>\n",
       "      <td>None</td>\n",
       "      <td>83.162040</td>\n",
       "      <td>29</td>\n",
       "      <td>NaN</td>\n",
       "      <td>None</td>\n",
       "      <td>1.0</td>\n",
       "      <td>NaN</td>\n",
       "      <td>None</td>\n",
       "      <td>15.0</td>\n",
       "      <td>73.333333</td>\n",
       "      <td>6.0</td>\n",
       "      <td>None</td>\n",
       "      <td>None</td>\n",
       "      <td>109.0</td>\n",
       "      <td>NaN</td>\n",
       "      <td>None</td>\n",
       "      <td>None</td>\n",
       "      <td>None</td>\n",
       "      <td>None</td>\n",
       "      <td>None</td>\n",
       "      <td>None</td>\n",
       "      <td>None</td>\n",
       "      <td>None</td>\n",
       "      <td>341.0</td>\n",
       "      <td>At 9.45 in the morning, a thunderous explosio...</td>\n",
       "      <td>DLC: \"Nicholson Electroplating\" Arson Case</td>\n",
       "      <td>NaN</td>\n",
       "      <td>False</td>\n",
       "      <td>False</td>\n",
       "      <td>False</td>\n",
       "      <td>False</td>\n",
       "      <td>0</td>\n",
       "      <td>False</td>\n",
       "      <td>NaN</td>\n",
       "      <td>False</td>\n",
       "      <td>None</td>\n",
       "      <td>0</td>\n",
       "      <td>0</td>\n",
       "      <td>0</td>\n",
       "      <td>subperb</td>\n",
       "    </tr>\n",
       "    <tr>\n",
       "      <th>418493</th>\n",
       "      <td>74</td>\n",
       "      <td>0</td>\n",
       "      <td>2011-02-18 09:01:17</td>\n",
       "      <td>[14434, 80756, 86905, 137458, 213810, 245424, ...</td>\n",
       "      <td>1.264464e+09</td>\n",
       "      <td>[shooter, role-playing-rpg, simulator, adventure]</td>\n",
       "      <td>Mass Effect 2</td>\n",
       "      <td>[PC (Microsoft Windows), PlayStation 3, Xbox 360]</td>\n",
       "      <td>[20909, 20910, 20911, 20912, 20913, 20914, 209...</td>\n",
       "      <td>[16, 21, 41, 43, 533, 571, 960, 1020, 1985, 2031]</td>\n",
       "      <td>mass-effect-2</td>\n",
       "      <td>Are you prepared to lose everything to save th...</td>\n",
       "      <td>[1, 18, 268435461, 268435468, 268435469, 26843...</td>\n",
       "      <td>2022-09-22 14:33:34</td>\n",
       "      <td>https://www.igdb.com/games/mass-effect-2</td>\n",
       "      <td>acafc118-bdb5-5783-2982-9417efb5cafb</td>\n",
       "      <td>[4666, 46183, 79400]</td>\n",
       "      <td>93684.0</td>\n",
       "      <td>[5240, 5241, 18482, 52062]</td>\n",
       "      <td>[892, 893, 8205, 8206, 8218]</td>\n",
       "      <td>[single-player]</td>\n",
       "      <td>[Third person]</td>\n",
       "      <td>[Action, Science fiction]</td>\n",
       "      <td>[18939, 18940, 18941, 18942, 18943, 18944, 403...</td>\n",
       "      <td>[19924, 45203, 50352]</td>\n",
       "      <td>[4512, 4513, 4514, 4515, 4516, 4517, 4518, 451...</td>\n",
       "      <td>[351]</td>\n",
       "      <td>[3, 22, 72, 129, 159, 201, 274, 284, 301, 558,...</td>\n",
       "      <td>NaN</td>\n",
       "      <td>[3344]</td>\n",
       "      <td>91.418551</td>\n",
       "      <td>1924</td>\n",
       "      <td>Two years after Commander Shepard repelled inv...</td>\n",
       "      <td>93.509276</td>\n",
       "      <td>1938</td>\n",
       "      <td>NaN</td>\n",
       "      <td>None</td>\n",
       "      <td>1.0</td>\n",
       "      <td>25.0</td>\n",
       "      <td>None</td>\n",
       "      <td>796.0</td>\n",
       "      <td>95.600000</td>\n",
       "      <td>14.0</td>\n",
       "      <td>[782, 783, 1596, 13790, 13794, 13798, 13885, 2...</td>\n",
       "      <td>[45181, 140839]</td>\n",
       "      <td>NaN</td>\n",
       "      <td>NaN</td>\n",
       "      <td>None</td>\n",
       "      <td>None</td>\n",
       "      <td>None</td>\n",
       "      <td>None</td>\n",
       "      <td>None</td>\n",
       "      <td>None</td>\n",
       "      <td>None</td>\n",
       "      <td>None</td>\n",
       "      <td>426.0</td>\n",
       "      <td>None</td>\n",
       "      <td>Bonus DVD with behind-the-scenes and making-of...</td>\n",
       "      <td>NaN</td>\n",
       "      <td>False</td>\n",
       "      <td>False</td>\n",
       "      <td>False</td>\n",
       "      <td>False</td>\n",
       "      <td>0</td>\n",
       "      <td>False</td>\n",
       "      <td>NaN</td>\n",
       "      <td>False</td>\n",
       "      <td>None</td>\n",
       "      <td>0</td>\n",
       "      <td>0</td>\n",
       "      <td>0</td>\n",
       "      <td>subperb</td>\n",
       "    </tr>\n",
       "    <tr>\n",
       "      <th>211427</th>\n",
       "      <td>144133</td>\n",
       "      <td>0</td>\n",
       "      <td>2021-03-01 18:55:36</td>\n",
       "      <td>[1998760, 2036025]</td>\n",
       "      <td>1.614557e+09</td>\n",
       "      <td>[indie, arcade]</td>\n",
       "      <td>Gloam</td>\n",
       "      <td>[PC (Microsoft Windows), Android]</td>\n",
       "      <td>[231043]</td>\n",
       "      <td>[25640, 38967, 43367, 65827, 87514, 90965, 106...</td>\n",
       "      <td>gloam</td>\n",
       "      <td>In Gloam, the player embodies a small candle w...</td>\n",
       "      <td>[268435488, 268435489, 536881820, 536890364]</td>\n",
       "      <td>2022-02-03 06:14:46</td>\n",
       "      <td>https://www.igdb.com/games/gloam</td>\n",
       "      <td>e97a9ea6-026d-6e35-2ce7-0b43b83b3ef3</td>\n",
       "      <td>None</td>\n",
       "      <td>132441.0</td>\n",
       "      <td>[120218]</td>\n",
       "      <td>[424461, 424462]</td>\n",
       "      <td>[battle-royale]</td>\n",
       "      <td>[Bird view / Isometric]</td>\n",
       "      <td>[Not available]</td>\n",
       "      <td>[171546, 171547, 171548, 171549]</td>\n",
       "      <td>None</td>\n",
       "      <td>[20013]</td>\n",
       "      <td>None</td>\n",
       "      <td>[10908, 19452]</td>\n",
       "      <td>4.0</td>\n",
       "      <td>[46132]</td>\n",
       "      <td>92.592593</td>\n",
       "      <td>11</td>\n",
       "      <td>None</td>\n",
       "      <td>92.592593</td>\n",
       "      <td>11</td>\n",
       "      <td>NaN</td>\n",
       "      <td>None</td>\n",
       "      <td>1.0</td>\n",
       "      <td>NaN</td>\n",
       "      <td>None</td>\n",
       "      <td>7.0</td>\n",
       "      <td>NaN</td>\n",
       "      <td>NaN</td>\n",
       "      <td>None</td>\n",
       "      <td>None</td>\n",
       "      <td>NaN</td>\n",
       "      <td>NaN</td>\n",
       "      <td>None</td>\n",
       "      <td>None</td>\n",
       "      <td>None</td>\n",
       "      <td>None</td>\n",
       "      <td>None</td>\n",
       "      <td>None</td>\n",
       "      <td>None</td>\n",
       "      <td>None</td>\n",
       "      <td>NaN</td>\n",
       "      <td>None</td>\n",
       "      <td>None</td>\n",
       "      <td>NaN</td>\n",
       "      <td>False</td>\n",
       "      <td>False</td>\n",
       "      <td>False</td>\n",
       "      <td>False</td>\n",
       "      <td>0</td>\n",
       "      <td>False</td>\n",
       "      <td>NaN</td>\n",
       "      <td>False</td>\n",
       "      <td>None</td>\n",
       "      <td>0</td>\n",
       "      <td>0</td>\n",
       "      <td>0</td>\n",
       "      <td>subperb</td>\n",
       "    </tr>\n",
       "    <tr>\n",
       "      <th>...</th>\n",
       "      <td>...</td>\n",
       "      <td>...</td>\n",
       "      <td>...</td>\n",
       "      <td>...</td>\n",
       "      <td>...</td>\n",
       "      <td>...</td>\n",
       "      <td>...</td>\n",
       "      <td>...</td>\n",
       "      <td>...</td>\n",
       "      <td>...</td>\n",
       "      <td>...</td>\n",
       "      <td>...</td>\n",
       "      <td>...</td>\n",
       "      <td>...</td>\n",
       "      <td>...</td>\n",
       "      <td>...</td>\n",
       "      <td>...</td>\n",
       "      <td>...</td>\n",
       "      <td>...</td>\n",
       "      <td>...</td>\n",
       "      <td>...</td>\n",
       "      <td>...</td>\n",
       "      <td>...</td>\n",
       "      <td>...</td>\n",
       "      <td>...</td>\n",
       "      <td>...</td>\n",
       "      <td>...</td>\n",
       "      <td>...</td>\n",
       "      <td>...</td>\n",
       "      <td>...</td>\n",
       "      <td>...</td>\n",
       "      <td>...</td>\n",
       "      <td>...</td>\n",
       "      <td>...</td>\n",
       "      <td>...</td>\n",
       "      <td>...</td>\n",
       "      <td>...</td>\n",
       "      <td>...</td>\n",
       "      <td>...</td>\n",
       "      <td>...</td>\n",
       "      <td>...</td>\n",
       "      <td>...</td>\n",
       "      <td>...</td>\n",
       "      <td>...</td>\n",
       "      <td>...</td>\n",
       "      <td>...</td>\n",
       "      <td>...</td>\n",
       "      <td>...</td>\n",
       "      <td>...</td>\n",
       "      <td>...</td>\n",
       "      <td>...</td>\n",
       "      <td>...</td>\n",
       "      <td>...</td>\n",
       "      <td>...</td>\n",
       "      <td>...</td>\n",
       "      <td>...</td>\n",
       "      <td>...</td>\n",
       "      <td>...</td>\n",
       "      <td>...</td>\n",
       "      <td>...</td>\n",
       "      <td>...</td>\n",
       "      <td>...</td>\n",
       "      <td>...</td>\n",
       "      <td>...</td>\n",
       "      <td>...</td>\n",
       "      <td>...</td>\n",
       "      <td>...</td>\n",
       "      <td>...</td>\n",
       "      <td>...</td>\n",
       "      <td>...</td>\n",
       "      <td>...</td>\n",
       "      <td>...</td>\n",
       "    </tr>\n",
       "    <tr>\n",
       "      <th>413293</th>\n",
       "      <td>9577</td>\n",
       "      <td>0</td>\n",
       "      <td>2015-04-11 16:35:22</td>\n",
       "      <td>[52137, 152947, 248429]</td>\n",
       "      <td>1.152749e+09</td>\n",
       "      <td>[role-playing-rpg, simulator, turn-based-strat...</td>\n",
       "      <td>Persona 3</td>\n",
       "      <td>[PlayStation 2]</td>\n",
       "      <td>[28474, 28475, 28476, 28477]</td>\n",
       "      <td>[660, 7194, 9927, 10388, 11292, 11646, 14394, ...</td>\n",
       "      <td>persona-3</td>\n",
       "      <td>Shin Megami Tensei: Persona 3 is a role-playin...</td>\n",
       "      <td>[1, 18, 31, 268435468, 268435469, 268435472, 2...</td>\n",
       "      <td>2022-09-11 09:04:16</td>\n",
       "      <td>https://www.igdb.com/games/persona-3</td>\n",
       "      <td>575effb8-33ef-8838-3692-c97be3f58109</td>\n",
       "      <td>[6536, 33418]</td>\n",
       "      <td>79062.0</td>\n",
       "      <td>[22955, 22956, 22957]</td>\n",
       "      <td>[438099, 438100, 438101, 438102, 438103, 43810...</td>\n",
       "      <td>[single-player]</td>\n",
       "      <td>[Third person]</td>\n",
       "      <td>[Action, Science fiction, Drama]</td>\n",
       "      <td>[111832, 111833, 111834]</td>\n",
       "      <td>[4746, 18011, 25220, 25221, 41488, 41489, 41490]</td>\n",
       "      <td>[3768, 3769, 3770, 3771, 3772, 3773, 3774]</td>\n",
       "      <td>None</td>\n",
       "      <td>[43, 78, 226, 258, 296, 358, 396, 415, 508, 52...</td>\n",
       "      <td>NaN</td>\n",
       "      <td>[3778, 3779]</td>\n",
       "      <td>92.717431</td>\n",
       "      <td>88</td>\n",
       "      <td>None</td>\n",
       "      <td>91.358715</td>\n",
       "      <td>93</td>\n",
       "      <td>NaN</td>\n",
       "      <td>None</td>\n",
       "      <td>NaN</td>\n",
       "      <td>552.0</td>\n",
       "      <td>[538, 592]</td>\n",
       "      <td>28.0</td>\n",
       "      <td>90.000000</td>\n",
       "      <td>5.0</td>\n",
       "      <td>None</td>\n",
       "      <td>None</td>\n",
       "      <td>NaN</td>\n",
       "      <td>NaN</td>\n",
       "      <td>None</td>\n",
       "      <td>None</td>\n",
       "      <td>None</td>\n",
       "      <td>None</td>\n",
       "      <td>[11416, 11437]</td>\n",
       "      <td>None</td>\n",
       "      <td>None</td>\n",
       "      <td>None</td>\n",
       "      <td>NaN</td>\n",
       "      <td>None</td>\n",
       "      <td>None</td>\n",
       "      <td>NaN</td>\n",
       "      <td>False</td>\n",
       "      <td>False</td>\n",
       "      <td>False</td>\n",
       "      <td>False</td>\n",
       "      <td>0</td>\n",
       "      <td>False</td>\n",
       "      <td>NaN</td>\n",
       "      <td>False</td>\n",
       "      <td>None</td>\n",
       "      <td>0</td>\n",
       "      <td>0</td>\n",
       "      <td>0</td>\n",
       "      <td>subperb</td>\n",
       "    </tr>\n",
       "    <tr>\n",
       "      <th>329281</th>\n",
       "      <td>142289</td>\n",
       "      <td>12</td>\n",
       "      <td>2021-01-08 05:02:30</td>\n",
       "      <td>[1998925]</td>\n",
       "      <td>1.520986e+09</td>\n",
       "      <td>[point-and-click, adventure, indie]</td>\n",
       "      <td>Two Hours One Life</td>\n",
       "      <td>[Linux, PC (Microsoft Windows)]</td>\n",
       "      <td>[224316, 224317]</td>\n",
       "      <td>[9243, 10032, 10776, 13189, 23732, 25222, 2614...</td>\n",
       "      <td>two-hours-one-life</td>\n",
       "      <td>A fork of One Hour One Life that explores less...</td>\n",
       "      <td>[21, 38, 268435458, 268435487, 268435488, 5368...</td>\n",
       "      <td>2022-04-15 13:42:53</td>\n",
       "      <td>https://www.igdb.com/games/two-hours-one-life</td>\n",
       "      <td>6d93b9d8-6b14-41eb-e384-7c1c6a6b91dc</td>\n",
       "      <td>None</td>\n",
       "      <td>217811.0</td>\n",
       "      <td>None</td>\n",
       "      <td>[417228, 427463, 427464, 427465, 427466, 42746...</td>\n",
       "      <td>[multiplayer, co-operative, massively-multipla...</td>\n",
       "      <td>[Third person]</td>\n",
       "      <td>[Survival, Open world]</td>\n",
       "      <td>[165552, 165553, 174428]</td>\n",
       "      <td>[53853]</td>\n",
       "      <td>None</td>\n",
       "      <td>[1162]</td>\n",
       "      <td>[121, 339, 510, 1473, 2739, 27782]</td>\n",
       "      <td>NaN</td>\n",
       "      <td>[46914, 46915]</td>\n",
       "      <td>95.000000</td>\n",
       "      <td>6</td>\n",
       "      <td>None</td>\n",
       "      <td>95.000000</td>\n",
       "      <td>6</td>\n",
       "      <td>NaN</td>\n",
       "      <td>None</td>\n",
       "      <td>NaN</td>\n",
       "      <td>NaN</td>\n",
       "      <td>None</td>\n",
       "      <td>5.0</td>\n",
       "      <td>NaN</td>\n",
       "      <td>NaN</td>\n",
       "      <td>None</td>\n",
       "      <td>None</td>\n",
       "      <td>56997.0</td>\n",
       "      <td>NaN</td>\n",
       "      <td>[13761, 13762]</td>\n",
       "      <td>None</td>\n",
       "      <td>None</td>\n",
       "      <td>None</td>\n",
       "      <td>None</td>\n",
       "      <td>None</td>\n",
       "      <td>None</td>\n",
       "      <td>None</td>\n",
       "      <td>NaN</td>\n",
       "      <td>None</td>\n",
       "      <td>None</td>\n",
       "      <td>NaN</td>\n",
       "      <td>False</td>\n",
       "      <td>False</td>\n",
       "      <td>False</td>\n",
       "      <td>False</td>\n",
       "      <td>0</td>\n",
       "      <td>False</td>\n",
       "      <td>NaN</td>\n",
       "      <td>False</td>\n",
       "      <td>None</td>\n",
       "      <td>0</td>\n",
       "      <td>0</td>\n",
       "      <td>0</td>\n",
       "      <td>subperb</td>\n",
       "    </tr>\n",
       "    <tr>\n",
       "      <th>340385</th>\n",
       "      <td>122556</td>\n",
       "      <td>1</td>\n",
       "      <td>2019-09-20 08:14:07</td>\n",
       "      <td>None</td>\n",
       "      <td>1.567987e+09</td>\n",
       "      <td>[platform]</td>\n",
       "      <td>Celeste: Farewell</td>\n",
       "      <td>[Linux, PC (Microsoft Windows), Mac, PlayStati...</td>\n",
       "      <td>[175874, 175875, 175876, 175877, 175878, 175879]</td>\n",
       "      <td>[28070, 29032, 55190, 63138, 81680, 96452, 103...</td>\n",
       "      <td>celeste-farewell</td>\n",
       "      <td>This DLC adds 100 new levels and 40 minutes of...</td>\n",
       "      <td>[1, 31, 268435464, 536888784, 536895931]</td>\n",
       "      <td>2022-09-20 17:46:23</td>\n",
       "      <td>https://www.igdb.com/games/celeste-farewell</td>\n",
       "      <td>73cfe454-3181-a820-6640-7e6c8d1c176c</td>\n",
       "      <td>[86249]</td>\n",
       "      <td>94842.0</td>\n",
       "      <td>[153407]</td>\n",
       "      <td>[376121, 376122, 376123, 376124]</td>\n",
       "      <td>[single-player]</td>\n",
       "      <td>[Side view]</td>\n",
       "      <td>[Action, Drama]</td>\n",
       "      <td>None</td>\n",
       "      <td>None</td>\n",
       "      <td>None</td>\n",
       "      <td>None</td>\n",
       "      <td>[17872, 25019]</td>\n",
       "      <td>NaN</td>\n",
       "      <td>None</td>\n",
       "      <td>95.861697</td>\n",
       "      <td>7</td>\n",
       "      <td>None</td>\n",
       "      <td>95.861697</td>\n",
       "      <td>7</td>\n",
       "      <td>NaN</td>\n",
       "      <td>None</td>\n",
       "      <td>NaN</td>\n",
       "      <td>3109.0</td>\n",
       "      <td>[1530]</td>\n",
       "      <td>3.0</td>\n",
       "      <td>NaN</td>\n",
       "      <td>NaN</td>\n",
       "      <td>None</td>\n",
       "      <td>None</td>\n",
       "      <td>26226.0</td>\n",
       "      <td>NaN</td>\n",
       "      <td>None</td>\n",
       "      <td>None</td>\n",
       "      <td>None</td>\n",
       "      <td>None</td>\n",
       "      <td>None</td>\n",
       "      <td>None</td>\n",
       "      <td>None</td>\n",
       "      <td>None</td>\n",
       "      <td>NaN</td>\n",
       "      <td>None</td>\n",
       "      <td>None</td>\n",
       "      <td>NaN</td>\n",
       "      <td>False</td>\n",
       "      <td>False</td>\n",
       "      <td>False</td>\n",
       "      <td>False</td>\n",
       "      <td>0</td>\n",
       "      <td>False</td>\n",
       "      <td>NaN</td>\n",
       "      <td>False</td>\n",
       "      <td>None</td>\n",
       "      <td>0</td>\n",
       "      <td>0</td>\n",
       "      <td>0</td>\n",
       "      <td>subperb</td>\n",
       "    </tr>\n",
       "    <tr>\n",
       "      <th>368219</th>\n",
       "      <td>143215</td>\n",
       "      <td>0</td>\n",
       "      <td>2021-02-05 16:13:19</td>\n",
       "      <td>[1997919]</td>\n",
       "      <td>1.578614e+09</td>\n",
       "      <td>[visual-novel]</td>\n",
       "      <td>Super Danganronpa Another 2 ~The Moon of Hope ...</td>\n",
       "      <td>[PC (Microsoft Windows)]</td>\n",
       "      <td>[227480]</td>\n",
       "      <td>[19075, 26870, 74946, 105060, 110779, 143213, ...</td>\n",
       "      <td>super-danganronpa-another-2-the-moon-of-hope-a...</td>\n",
       "      <td>Super Danganronpa Another 2 ~The Moon of Hope ...</td>\n",
       "      <td>[268435490, 536874296, 536898200]</td>\n",
       "      <td>2022-08-07 16:59:16</td>\n",
       "      <td>https://www.igdb.com/games/super-danganronpa-a...</td>\n",
       "      <td>5c289a8f-7a53-541b-5425-117ec982b768</td>\n",
       "      <td>None</td>\n",
       "      <td>129754.0</td>\n",
       "      <td>[118507]</td>\n",
       "      <td>[421016]</td>\n",
       "      <td>[single-player]</td>\n",
       "      <td>[Bird view / Isometric, Text]</td>\n",
       "      <td>[Not available]</td>\n",
       "      <td>[168651, 168652]</td>\n",
       "      <td>[54752, 54753, 54754, 54755]</td>\n",
       "      <td>None</td>\n",
       "      <td>[81]</td>\n",
       "      <td>[3384, 27288]</td>\n",
       "      <td>NaN</td>\n",
       "      <td>None</td>\n",
       "      <td>98.367347</td>\n",
       "      <td>5</td>\n",
       "      <td>None</td>\n",
       "      <td>98.367347</td>\n",
       "      <td>5</td>\n",
       "      <td>NaN</td>\n",
       "      <td>None</td>\n",
       "      <td>NaN</td>\n",
       "      <td>6747.0</td>\n",
       "      <td>[2251]</td>\n",
       "      <td>NaN</td>\n",
       "      <td>NaN</td>\n",
       "      <td>NaN</td>\n",
       "      <td>None</td>\n",
       "      <td>None</td>\n",
       "      <td>NaN</td>\n",
       "      <td>NaN</td>\n",
       "      <td>None</td>\n",
       "      <td>None</td>\n",
       "      <td>None</td>\n",
       "      <td>None</td>\n",
       "      <td>None</td>\n",
       "      <td>None</td>\n",
       "      <td>None</td>\n",
       "      <td>None</td>\n",
       "      <td>NaN</td>\n",
       "      <td>None</td>\n",
       "      <td>None</td>\n",
       "      <td>NaN</td>\n",
       "      <td>False</td>\n",
       "      <td>False</td>\n",
       "      <td>False</td>\n",
       "      <td>False</td>\n",
       "      <td>0</td>\n",
       "      <td>False</td>\n",
       "      <td>NaN</td>\n",
       "      <td>False</td>\n",
       "      <td>None</td>\n",
       "      <td>0</td>\n",
       "      <td>0</td>\n",
       "      <td>0</td>\n",
       "      <td>subperb</td>\n",
       "    </tr>\n",
       "    <tr>\n",
       "      <th>420836</th>\n",
       "      <td>25358</td>\n",
       "      <td>0</td>\n",
       "      <td>2016-11-01 09:07:23</td>\n",
       "      <td>[14912, 76955]</td>\n",
       "      <td>9.616320e+08</td>\n",
       "      <td>[shooter, role-playing-rpg, adventure]</td>\n",
       "      <td>Deus Ex: Game of the Year Edition</td>\n",
       "      <td>[PC (Microsoft Windows)]</td>\n",
       "      <td>[66779]</td>\n",
       "      <td>[25311, 55038, 76877, 96217, 103301, 105049, 1...</td>\n",
       "      <td>deus-ex-game-of-the-year-edition</td>\n",
       "      <td>The year is 2052 and the world is a dangerous ...</td>\n",
       "      <td>[1, 18, 268435461, 268435468, 268435487, 53687...</td>\n",
       "      <td>2022-05-22 10:14:30</td>\n",
       "      <td>https://www.igdb.com/games/deus-ex-game-of-the...</td>\n",
       "      <td>4c52a248-9ba2-4f25-42c1-0ab2863b7ae4</td>\n",
       "      <td>None</td>\n",
       "      <td>116138.0</td>\n",
       "      <td>[45250, 45251]</td>\n",
       "      <td>[46441, 46442, 46443, 46444, 46445]</td>\n",
       "      <td>[single-player, multiplayer]</td>\n",
       "      <td>[First person]</td>\n",
       "      <td>[Action, Science fiction]</td>\n",
       "      <td>[40862, 118799]</td>\n",
       "      <td>None</td>\n",
       "      <td>None</td>\n",
       "      <td>None</td>\n",
       "      <td>[103, 132, 1127, 2426, 3403]</td>\n",
       "      <td>NaN</td>\n",
       "      <td>None</td>\n",
       "      <td>93.648853</td>\n",
       "      <td>42</td>\n",
       "      <td>None</td>\n",
       "      <td>93.648853</td>\n",
       "      <td>42</td>\n",
       "      <td>41.0</td>\n",
       "      <td>Game of the Year Edition</td>\n",
       "      <td>NaN</td>\n",
       "      <td>NaN</td>\n",
       "      <td>None</td>\n",
       "      <td>16.0</td>\n",
       "      <td>NaN</td>\n",
       "      <td>NaN</td>\n",
       "      <td>None</td>\n",
       "      <td>[52883]</td>\n",
       "      <td>NaN</td>\n",
       "      <td>NaN</td>\n",
       "      <td>None</td>\n",
       "      <td>None</td>\n",
       "      <td>None</td>\n",
       "      <td>None</td>\n",
       "      <td>None</td>\n",
       "      <td>None</td>\n",
       "      <td>None</td>\n",
       "      <td>None</td>\n",
       "      <td>NaN</td>\n",
       "      <td>None</td>\n",
       "      <td>None</td>\n",
       "      <td>NaN</td>\n",
       "      <td>False</td>\n",
       "      <td>False</td>\n",
       "      <td>False</td>\n",
       "      <td>False</td>\n",
       "      <td>0</td>\n",
       "      <td>False</td>\n",
       "      <td>NaN</td>\n",
       "      <td>False</td>\n",
       "      <td>None</td>\n",
       "      <td>0</td>\n",
       "      <td>0</td>\n",
       "      <td>0</td>\n",
       "      <td>subperb</td>\n",
       "    </tr>\n",
       "  </tbody>\n",
       "</table>\n",
       "<p>184 rows × 72 columns</p>\n",
       "</div>"
      ],
      "text/plain": [
       "            id  category          created_at  \\\n",
       "350151    2617         3 2013-07-17 16:09:09   \n",
       "404391   29207         0 2017-05-20 12:20:49   \n",
       "413553   59849         9 2017-09-07 18:41:31   \n",
       "418493      74         0 2011-02-18 09:01:17   \n",
       "211427  144133         0 2021-03-01 18:55:36   \n",
       "...        ...       ...                 ...   \n",
       "413293    9577         0 2015-04-11 16:35:22   \n",
       "329281  142289        12 2021-01-08 05:02:30   \n",
       "340385  122556         1 2019-09-20 08:14:07   \n",
       "368219  143215         0 2021-02-05 16:13:19   \n",
       "420836   25358         0 2016-11-01 09:07:23   \n",
       "\n",
       "                                           external_games  first_release_date  \\\n",
       "350151                                     [43459, 78277]        8.703936e+08   \n",
       "404391              [14106, 77210, 85081, 96659, 2136317]        1.133222e+09   \n",
       "413553  [197757, 210636, 398654, 1237237, 2000741, 211...        1.510618e+09   \n",
       "418493  [14434, 80756, 86905, 137458, 213810, 245424, ...        1.264464e+09   \n",
       "211427                                 [1998760, 2036025]        1.614557e+09   \n",
       "...                                                   ...                 ...   \n",
       "413293                            [52137, 152947, 248429]        1.152749e+09   \n",
       "329281                                          [1998925]        1.520986e+09   \n",
       "340385                                               None        1.567987e+09   \n",
       "368219                                          [1997919]        1.578614e+09   \n",
       "420836                                     [14912, 76955]        9.616320e+08   \n",
       "\n",
       "                                                   genres  \\\n",
       "350151      [real-time-strategy-rts, simulator, strategy]   \n",
       "404391                                 [role-playing-rpg]   \n",
       "413553                     [shooter, strategy, adventure]   \n",
       "418493  [shooter, role-playing-rpg, simulator, adventure]   \n",
       "211427                                    [indie, arcade]   \n",
       "...                                                   ...   \n",
       "413293  [role-playing-rpg, simulator, turn-based-strat...   \n",
       "329281                [point-and-click, adventure, indie]   \n",
       "340385                                         [platform]   \n",
       "368219                                     [visual-novel]   \n",
       "420836             [shooter, role-playing-rpg, adventure]   \n",
       "\n",
       "                                                     name  \\\n",
       "350151                      The Settlers II: Gold Edition   \n",
       "404391                            Gothic II: Gold Edition   \n",
       "413553                                         L.A. Noire   \n",
       "418493                                      Mass Effect 2   \n",
       "211427                                              Gloam   \n",
       "...                                                   ...   \n",
       "413293                                          Persona 3   \n",
       "329281                                 Two Hours One Life   \n",
       "340385                                  Celeste: Farewell   \n",
       "368219  Super Danganronpa Another 2 ~The Moon of Hope ...   \n",
       "420836                  Deus Ex: Game of the Year Edition   \n",
       "\n",
       "                                                platforms  \\\n",
       "350151                            [DOS, Mac, Nintendo DS]   \n",
       "404391                           [PC (Microsoft Windows)]   \n",
       "413553                          [PlayStation 4, Xbox One]   \n",
       "418493  [PC (Microsoft Windows), PlayStation 3, Xbox 360]   \n",
       "211427                  [PC (Microsoft Windows), Android]   \n",
       "...                                                   ...   \n",
       "413293                                    [PlayStation 2]   \n",
       "329281                    [Linux, PC (Microsoft Windows)]   \n",
       "340385  [Linux, PC (Microsoft Windows), Mac, PlayStati...   \n",
       "368219                           [PC (Microsoft Windows)]   \n",
       "420836                           [PC (Microsoft Windows)]   \n",
       "\n",
       "                                            release_dates  \\\n",
       "350151                           [194838, 194839, 194840]   \n",
       "404391                                           [196063]   \n",
       "413553           [112409, 112410, 135021, 135022, 136102]   \n",
       "418493  [20909, 20910, 20911, 20912, 20913, 20914, 209...   \n",
       "211427                                           [231043]   \n",
       "...                                                   ...   \n",
       "413293                       [28474, 28475, 28476, 28477]   \n",
       "329281                                   [224316, 224317]   \n",
       "340385   [175874, 175875, 175876, 175877, 175878, 175879]   \n",
       "368219                                           [227480]   \n",
       "420836                                            [66779]   \n",
       "\n",
       "                                            similar_games  \\\n",
       "350151  [9789, 18623, 20776, 28325, 29173, 31480, 3151...   \n",
       "404391  [19164, 54775, 81249, 96217, 99118, 101608, 10...   \n",
       "413553  [17379, 17548, 18167, 18225, 26574, 27092, 285...   \n",
       "418493  [16, 21, 41, 43, 533, 571, 960, 1020, 1985, 2031]   \n",
       "211427  [25640, 38967, 43367, 65827, 87514, 90965, 106...   \n",
       "...                                                   ...   \n",
       "413293  [660, 7194, 9927, 10388, 11292, 11646, 14394, ...   \n",
       "329281  [9243, 10032, 10776, 13189, 23732, 25222, 2614...   \n",
       "340385  [28070, 29032, 55190, 63138, 81680, 96452, 103...   \n",
       "368219  [19075, 26870, 74946, 105060, 110779, 143213, ...   \n",
       "420836  [25311, 55038, 76877, 96217, 103301, 105049, 1...   \n",
       "\n",
       "                                                     slug  \\\n",
       "350151                       the-settlers-ii-gold-edition   \n",
       "404391                             gothic-ii-gold-edition   \n",
       "413553                                           la-noire   \n",
       "418493                                      mass-effect-2   \n",
       "211427                                              gloam   \n",
       "...                                                   ...   \n",
       "413293                                          persona-3   \n",
       "329281                                 two-hours-one-life   \n",
       "340385                                   celeste-farewell   \n",
       "368219  super-danganronpa-another-2-the-moon-of-hope-a...   \n",
       "420836                   deus-ex-game-of-the-year-edition   \n",
       "\n",
       "                                                  summary  \\\n",
       "350151  The goal of this game is to build a prosperous...   \n",
       "404391  Gothic II: Gold Edition brings together the ex...   \n",
       "413553  L.A. Noire for PlayStation 4 and Xbox One deli...   \n",
       "418493  Are you prepared to lose everything to save th...   \n",
       "211427  In Gloam, the player embodies a small candle w...   \n",
       "...                                                   ...   \n",
       "413293  Shin Megami Tensei: Persona 3 is a role-playin...   \n",
       "329281  A fork of One Hour One Life that explores less...   \n",
       "340385  This DLC adds 100 new levels and 40 minutes of...   \n",
       "368219  Super Danganronpa Another 2 ~The Moon of Hope ...   \n",
       "420836  The year is 2052 and the world is a dangerous ...   \n",
       "\n",
       "                                                     tags          updated_at  \\\n",
       "350151  [22, 268435467, 268435469, 268435471, 53687097... 2022-07-11 11:30:50   \n",
       "404391                             [1, 17, 38, 268435468] 2022-09-25 09:56:26   \n",
       "413553  [1, 20, 22, 33, 38, 39, 43, 268435461, 2684354... 2022-09-22 13:55:14   \n",
       "418493  [1, 18, 268435461, 268435468, 268435469, 26843... 2022-09-22 14:33:34   \n",
       "211427       [268435488, 268435489, 536881820, 536890364] 2022-02-03 06:14:46   \n",
       "...                                                   ...                 ...   \n",
       "413293  [1, 18, 31, 268435468, 268435469, 268435472, 2... 2022-09-11 09:04:16   \n",
       "329281  [21, 38, 268435458, 268435487, 268435488, 5368... 2022-04-15 13:42:53   \n",
       "340385           [1, 31, 268435464, 536888784, 536895931] 2022-09-20 17:46:23   \n",
       "368219                  [268435490, 536874296, 536898200] 2022-08-07 16:59:16   \n",
       "420836  [1, 18, 268435461, 268435468, 268435487, 53687... 2022-05-22 10:14:30   \n",
       "\n",
       "                                                      url  \\\n",
       "350151  https://www.igdb.com/games/the-settlers-ii-gol...   \n",
       "404391  https://www.igdb.com/games/gothic-ii-gold-edition   \n",
       "413553                https://www.igdb.com/games/la-noire   \n",
       "418493           https://www.igdb.com/games/mass-effect-2   \n",
       "211427                   https://www.igdb.com/games/gloam   \n",
       "...                                                   ...   \n",
       "413293               https://www.igdb.com/games/persona-3   \n",
       "329281      https://www.igdb.com/games/two-hours-one-life   \n",
       "340385        https://www.igdb.com/games/celeste-farewell   \n",
       "368219  https://www.igdb.com/games/super-danganronpa-a...   \n",
       "420836  https://www.igdb.com/games/deus-ex-game-of-the...   \n",
       "\n",
       "                                  checksum_x            age_ratings     cover  \\\n",
       "350151  db85c417-67eb-2742-d6d1-f80aad673a6a         [27816, 78303]   99902.0   \n",
       "404391  0b0d512e-1add-c724-d6a5-f69e9043c619                [27942]   81332.0   \n",
       "413553  1db7b5e1-bc8b-cc45-e4b5-2f7b15aa5cf2  [61480, 62001, 93238]  120996.0   \n",
       "418493  acafc118-bdb5-5783-2982-9417efb5cafb   [4666, 46183, 79400]   93684.0   \n",
       "211427  e97a9ea6-026d-6e35-2ce7-0b43b83b3ef3                   None  132441.0   \n",
       "...                                      ...                    ...       ...   \n",
       "413293  575effb8-33ef-8838-3692-c97be3f58109          [6536, 33418]   79062.0   \n",
       "329281  6d93b9d8-6b14-41eb-e384-7c1c6a6b91dc                   None  217811.0   \n",
       "340385  73cfe454-3181-a820-6640-7e6c8d1c176c                [86249]   94842.0   \n",
       "368219  5c289a8f-7a53-541b-5425-117ec982b768                   None  129754.0   \n",
       "420836  4c52a248-9ba2-4f25-42c1-0ab2863b7ae4                   None  116138.0   \n",
       "\n",
       "                involved_companies  \\\n",
       "350151                     [97957]   \n",
       "404391              [47901, 99186]   \n",
       "413553                     [54124]   \n",
       "418493  [5240, 5241, 18482, 52062]   \n",
       "211427                    [120218]   \n",
       "...                            ...   \n",
       "413293       [22955, 22956, 22957]   \n",
       "329281                        None   \n",
       "340385                    [153407]   \n",
       "368219                    [118507]   \n",
       "420836              [45250, 45251]   \n",
       "\n",
       "                                              screenshots  \\\n",
       "350151                    [22965, 383044, 383045, 383046]   \n",
       "404391           [102680, 102681, 102682, 102683, 102684]   \n",
       "413553           [141184, 141185, 141186, 141187, 146355]   \n",
       "418493                       [892, 893, 8205, 8206, 8218]   \n",
       "211427                                   [424461, 424462]   \n",
       "...                                                   ...   \n",
       "413293  [438099, 438100, 438101, 438102, 438103, 43810...   \n",
       "329281  [417228, 427463, 427464, 427465, 427466, 42746...   \n",
       "340385                   [376121, 376122, 376123, 376124]   \n",
       "368219                                           [421016]   \n",
       "420836                [46441, 46442, 46443, 46444, 46445]   \n",
       "\n",
       "                                               game_modes  \\\n",
       "350151         [single-player, multiplayer, split-screen]   \n",
       "404391                                    [single-player]   \n",
       "413553                                    [single-player]   \n",
       "418493                                    [single-player]   \n",
       "211427                                    [battle-royale]   \n",
       "...                                                   ...   \n",
       "413293                                    [single-player]   \n",
       "329281  [multiplayer, co-operative, massively-multipla...   \n",
       "340385                                    [single-player]   \n",
       "368219                                    [single-player]   \n",
       "420836                       [single-player, multiplayer]   \n",
       "\n",
       "                  player_perspectives  \\\n",
       "350151        [Bird view / Isometric]   \n",
       "404391                 [Third person]   \n",
       "413553                 [Third person]   \n",
       "418493                 [Third person]   \n",
       "211427        [Bird view / Isometric]   \n",
       "...                               ...   \n",
       "413293                 [Third person]   \n",
       "329281                 [Third person]   \n",
       "340385                    [Side view]   \n",
       "368219  [Bird view / Isometric, Text]   \n",
       "420836                 [First person]   \n",
       "\n",
       "                                                   themes  \\\n",
       "350151                                       [Historical]   \n",
       "404391                      [Action, Fantasy, Open world]   \n",
       "413553  [Action, Thriller, Historical, Sandbox, Open w...   \n",
       "418493                          [Action, Science fiction]   \n",
       "211427                                    [Not available]   \n",
       "...                                                   ...   \n",
       "413293                   [Action, Science fiction, Drama]   \n",
       "329281                             [Survival, Open world]   \n",
       "340385                                    [Action, Drama]   \n",
       "368219                                    [Not available]   \n",
       "420836                          [Action, Science fiction]   \n",
       "\n",
       "                                                 websites  \\\n",
       "350151                                   [119754, 139873]   \n",
       "404391                     [26765, 26766, 118909, 140843]   \n",
       "413553                                            [56427]   \n",
       "418493  [18939, 18940, 18941, 18942, 18943, 18944, 403...   \n",
       "211427                   [171546, 171547, 171548, 171549]   \n",
       "...                                                   ...   \n",
       "413293                           [111832, 111833, 111834]   \n",
       "329281                           [165552, 165553, 174428]   \n",
       "340385                                               None   \n",
       "368219                                   [168651, 168652]   \n",
       "420836                                    [40862, 118799]   \n",
       "\n",
       "                                       alternative_names  \\\n",
       "350151                                           [32095]   \n",
       "404391                                              None   \n",
       "413553                                   [60591, 103643]   \n",
       "418493                             [19924, 45203, 50352]   \n",
       "211427                                              None   \n",
       "...                                                  ...   \n",
       "413293  [4746, 18011, 25220, 25221, 41488, 41489, 41490]   \n",
       "329281                                           [53853]   \n",
       "340385                                              None   \n",
       "368219                      [54752, 54753, 54754, 54755]   \n",
       "420836                                              None   \n",
       "\n",
       "                                                 artworks game_engines  \\\n",
       "350151                                               None         None   \n",
       "404391                                            [55855]        [134]   \n",
       "413553                                     [46639, 46640]         None   \n",
       "418493  [4512, 4513, 4514, 4515, 4516, 4517, 4518, 451...        [351]   \n",
       "211427                                            [20013]         None   \n",
       "...                                                   ...          ...   \n",
       "413293         [3768, 3769, 3770, 3771, 3772, 3773, 3774]         None   \n",
       "329281                                               None       [1162]   \n",
       "340385                                               None         None   \n",
       "368219                                               None         [81]   \n",
       "420836                                               None         None   \n",
       "\n",
       "                                                 keywords  status  \\\n",
       "350151  [60, 64, 171, 606, 994, 1148, 1471, 1922, 2002...     NaN   \n",
       "404391                                               None     NaN   \n",
       "413553  [1323, 1669, 4076, 4357, 16826, 16828, 16894, ...     NaN   \n",
       "418493  [3, 22, 72, 129, 159, 201, 274, 284, 301, 558,...     NaN   \n",
       "211427                                     [10908, 19452]     4.0   \n",
       "...                                                   ...     ...   \n",
       "413293  [43, 78, 226, 258, 296, 358, 396, 415, 508, 52...     NaN   \n",
       "329281                 [121, 339, 510, 1473, 2739, 27782]     NaN   \n",
       "340385                                     [17872, 25019]     NaN   \n",
       "368219                                      [3384, 27288]     NaN   \n",
       "420836                       [103, 132, 1127, 2426, 3403]     NaN   \n",
       "\n",
       "                videos     rating  rating_count  \\\n",
       "350151         [35570]  92.221300            36   \n",
       "404391            None  90.003422             5   \n",
       "413553  [16469, 16484]  92.990746            23   \n",
       "418493          [3344]  91.418551          1924   \n",
       "211427         [46132]  92.592593            11   \n",
       "...                ...        ...           ...   \n",
       "413293    [3778, 3779]  92.717431            88   \n",
       "329281  [46914, 46915]  95.000000             6   \n",
       "340385            None  95.861697             7   \n",
       "368219            None  98.367347             5   \n",
       "420836            None  93.648853            42   \n",
       "\n",
       "                                                storyline  total_rating  \\\n",
       "350151  After fighting a losing battle with the raging...     92.221300   \n",
       "404391                                               None     90.003422   \n",
       "413553                                               None     83.162040   \n",
       "418493  Two years after Commander Shepard repelled inv...     93.509276   \n",
       "211427                                               None     92.592593   \n",
       "...                                                   ...           ...   \n",
       "413293                                               None     91.358715   \n",
       "329281                                               None     95.000000   \n",
       "340385                                               None     95.861697   \n",
       "368219                                               None     98.367347   \n",
       "420836                                               None     93.648853   \n",
       "\n",
       "        total_rating_count  version_parent             version_title  hypes  \\\n",
       "350151                  36          2596.0              Gold Edition    NaN   \n",
       "404391                   5          2262.0              Gold Edition    NaN   \n",
       "413553                  29             NaN                      None    1.0   \n",
       "418493                1938             NaN                      None    1.0   \n",
       "211427                  11             NaN                      None    1.0   \n",
       "...                    ...             ...                       ...    ...   \n",
       "413293                  93             NaN                      None    NaN   \n",
       "329281                   6             NaN                      None    NaN   \n",
       "340385                   7             NaN                      None    NaN   \n",
       "368219                   5             NaN                      None    NaN   \n",
       "420836                  42            41.0  Game of the Year Edition    NaN   \n",
       "\n",
       "        collection  franchises  follows  aggregated_rating  \\\n",
       "350151       619.0      [2165]     22.0                NaN   \n",
       "404391       463.0        None      NaN                NaN   \n",
       "413553         NaN        None     15.0          73.333333   \n",
       "418493        25.0        None    796.0          95.600000   \n",
       "211427         NaN        None      7.0                NaN   \n",
       "...            ...         ...      ...                ...   \n",
       "413293       552.0  [538, 592]     28.0          90.000000   \n",
       "329281         NaN        None      5.0                NaN   \n",
       "340385      3109.0      [1530]      3.0                NaN   \n",
       "368219      6747.0      [2251]      NaN                NaN   \n",
       "420836         NaN        None     16.0                NaN   \n",
       "\n",
       "        aggregated_rating_count  \\\n",
       "350151                      NaN   \n",
       "404391                      NaN   \n",
       "413553                      6.0   \n",
       "418493                     14.0   \n",
       "211427                      NaN   \n",
       "...                         ...   \n",
       "413293                      5.0   \n",
       "329281                      NaN   \n",
       "340385                      NaN   \n",
       "368219                      NaN   \n",
       "420836                      NaN   \n",
       "\n",
       "                                                     dlcs          bundles  \\\n",
       "350151                                               None             None   \n",
       "404391                                               None             None   \n",
       "413553                                               None             None   \n",
       "418493  [782, 783, 1596, 13790, 13794, 13798, 13885, 2...  [45181, 140839]   \n",
       "211427                                               None             None   \n",
       "...                                                   ...              ...   \n",
       "413293                                               None             None   \n",
       "329281                                               None             None   \n",
       "340385                                               None             None   \n",
       "368219                                               None             None   \n",
       "420836                                               None          [52883]   \n",
       "\n",
       "        parent_game  franchise multiplayer_modes remakes    ports expansions  \\\n",
       "350151          NaN        NaN            [7365]    None  [86493]       None   \n",
       "404391          NaN        NaN              None    None     None       None   \n",
       "413553        109.0        NaN              None    None     None       None   \n",
       "418493          NaN        NaN              None    None     None       None   \n",
       "211427          NaN        NaN              None    None     None       None   \n",
       "...             ...        ...               ...     ...      ...        ...   \n",
       "413293          NaN        NaN              None    None     None       None   \n",
       "329281      56997.0        NaN    [13761, 13762]    None     None       None   \n",
       "340385      26226.0        NaN              None    None     None       None   \n",
       "368219          NaN        NaN              None    None     None       None   \n",
       "420836          NaN        NaN              None    None     None       None   \n",
       "\n",
       "        expanded_games remasters forks standalone_expansions  second  \\\n",
       "350151            None      None  None                  None     NaN   \n",
       "404391            None      None  None                  None     NaN   \n",
       "413553            None      None  None                  None   341.0   \n",
       "418493            None      None  None                  None   426.0   \n",
       "211427            None      None  None                  None     NaN   \n",
       "...                ...       ...   ...                   ...     ...   \n",
       "413293  [11416, 11437]      None  None                  None     NaN   \n",
       "329281            None      None  None                  None     NaN   \n",
       "340385            None      None  None                  None     NaN   \n",
       "368219            None      None  None                  None     NaN   \n",
       "420836            None      None  None                  None     NaN   \n",
       "\n",
       "                                      version_description  \\\n",
       "350151                                               None   \n",
       "404391                                               None   \n",
       "413553   At 9.45 in the morning, a thunderous explosio...   \n",
       "418493                                               None   \n",
       "211427                                               None   \n",
       "...                                                   ...   \n",
       "413293                                               None   \n",
       "329281                                               None   \n",
       "340385                                               None   \n",
       "368219                                               None   \n",
       "420836                                               None   \n",
       "\n",
       "                                            title_version  second_id  \\\n",
       "350151                                               None     7365.0   \n",
       "404391                                               None        NaN   \n",
       "413553         DLC: \"Nicholson Electroplating\" Arson Case        NaN   \n",
       "418493  Bonus DVD with behind-the-scenes and making-of...        NaN   \n",
       "211427                                               None        NaN   \n",
       "...                                                   ...        ...   \n",
       "413293                                               None        NaN   \n",
       "329281                                               None        NaN   \n",
       "340385                                               None        NaN   \n",
       "368219                                               None        NaN   \n",
       "420836                                               None        NaN   \n",
       "\n",
       "        campaigncoop  dropin  lancoop  offlinecoop  offlinemax  onlinecoop  \\\n",
       "350151         False   False    False        False           0       False   \n",
       "404391         False   False    False        False           0       False   \n",
       "413553         False   False    False        False           0       False   \n",
       "418493         False   False    False        False           0       False   \n",
       "211427         False   False    False        False           0       False   \n",
       "...              ...     ...      ...          ...         ...         ...   \n",
       "413293         False   False    False        False           0       False   \n",
       "329281         False   False    False        False           0       False   \n",
       "340385         False   False    False        False           0       False   \n",
       "368219         False   False    False        False           0       False   \n",
       "420836         False   False    False        False           0       False   \n",
       "\n",
       "        platform  splitscreen                            checksum_y  \\\n",
       "350151       NaN        False  1c2dfca2-6ee8-b54e-b243-05ffb0c646bc   \n",
       "404391       NaN        False                                  None   \n",
       "413553       NaN        False                                  None   \n",
       "418493       NaN        False                                  None   \n",
       "211427       NaN        False                                  None   \n",
       "...          ...          ...                                   ...   \n",
       "413293       NaN        False                                  None   \n",
       "329281       NaN        False                                  None   \n",
       "340385       NaN        False                                  None   \n",
       "368219       NaN        False                                  None   \n",
       "420836       NaN        False                                  None   \n",
       "\n",
       "        offlinecoopmax  onlinecoopmax  onlinemax rating_bin  \n",
       "350151               0              0          0    subperb  \n",
       "404391               0              0          0    subperb  \n",
       "413553               0              0          0    subperb  \n",
       "418493               0              0          0    subperb  \n",
       "211427               0              0          0    subperb  \n",
       "...                ...            ...        ...        ...  \n",
       "413293               0              0          0    subperb  \n",
       "329281               0              0          0    subperb  \n",
       "340385               0              0          0    subperb  \n",
       "368219               0              0          0    subperb  \n",
       "420836               0              0          0    subperb  \n",
       "\n",
       "[184 rows x 72 columns]"
      ]
     },
     "execution_count": 127,
     "metadata": {},
     "output_type": "execute_result"
    }
   ],
   "source": [
    "df_subperb_rating"
   ]
  },
  {
   "cell_type": "markdown",
   "id": "51c03a99",
   "metadata": {},
   "source": [
    "Q- Maybe there is some common words in the suberb? NLP idea"
   ]
  },
  {
   "cell_type": "code",
   "execution_count": 136,
   "id": "e10d4d55",
   "metadata": {},
   "outputs": [
    {
     "data": {
      "text/plain": [
       "350151    The goal of this game is to build a prosperous...\n",
       "404391    Gothic II: Gold Edition brings together the ex...\n",
       "413553    L.A. Noire for PlayStation 4 and Xbox One deli...\n",
       "418493    Are you prepared to lose everything to save th...\n",
       "211427    In Gloam, the player embodies a small candle w...\n",
       "280400    Picking up shortly after The Legend of Heroes:...\n",
       "388433    Monster Hunter 4 Ultimate (called Monster Hunt...\n",
       "254202    Returning after his mother's murder to the sem...\n",
       "362784    God of War is the sequel to God of War III as ...\n",
       "90142     Free to play NFT based music career game. Earn...\n",
       "414387    The next adventure is on the Nintendo Switch c...\n",
       "2033      \"Chocobos don't just kick, and aren't just cut...\n",
       "397555    Who needs backstory? Who needs resource-gather...\n",
       "419252    The witching hour strikes again. Brimming with...\n",
       "275642    The player is tasked with controlling the Batt...\n",
       "414325    An HD remaster of The Legend of Zelda: The Win...\n",
       "147723    Welcome to Bad End Theater! Select your protag...\n",
       "215393                          The Giana Sisters are back!\n",
       "238245    Heroes of Might and Magic III: Horn of the Aby...\n",
       "302174    Over 50 E3 Awards & Nominations\\n\\nASSASSIN’S ...\n",
       "Name: summary, dtype: object"
      ]
     },
     "execution_count": 136,
     "metadata": {},
     "output_type": "execute_result"
    }
   ],
   "source": [
    "df_subperb_rating.summary.head(20)"
   ]
  },
  {
   "cell_type": "code",
   "execution_count": null,
   "id": "3d1ca9b8",
   "metadata": {},
   "outputs": [],
   "source": []
  }
 ],
 "metadata": {
  "kernelspec": {
   "display_name": "Python 3 (ipykernel)",
   "language": "python",
   "name": "python3"
  },
  "language_info": {
   "codemirror_mode": {
    "name": "ipython",
    "version": 3
   },
   "file_extension": ".py",
   "mimetype": "text/x-python",
   "name": "python",
   "nbconvert_exporter": "python",
   "pygments_lexer": "ipython3",
   "version": "3.9.12"
  }
 },
 "nbformat": 4,
 "nbformat_minor": 5
}
