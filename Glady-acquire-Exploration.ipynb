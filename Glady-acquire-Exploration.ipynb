{
 "cells": [
  {
   "cell_type": "markdown",
   "id": "b1976c97",
   "metadata": {},
   "source": [
    "# creating the game_library dataframe"
   ]
  },
  {
   "cell_type": "code",
   "execution_count": 25,
   "id": "8c08c2e9",
   "metadata": {},
   "outputs": [],
   "source": [
    "import requests\n",
    "import env\n",
    "from requests.models import Request, Response\n",
    "from env import Client_ID\n",
    "import pandas as pd\n",
    "from igdb.igdbapi_pb2 import GameResult\n",
    "from typing import Dict, List, Optional, Union, cast\n",
    "import acquire\n",
    "import json\n",
    "from igdb.wrapper import IGDBWrapper\n",
    "import matplotlib.pyplot as plt\n",
    "import seaborn as sns\n",
    "from sklearn.model_selection import train_test_split\n",
    "from prepare import wrangle_data\n",
    "import plotly.graph_objects as go"
   ]
  },
  {
   "cell_type": "code",
   "execution_count": null,
   "id": "9cc15d94",
   "metadata": {},
   "outputs": [],
   "source": [
    "# game_library = pd.read_json(\"game_library.json\")"
   ]
  },
  {
   "cell_type": "code",
   "execution_count": null,
   "id": "32d9d70c",
   "metadata": {},
   "outputs": [],
   "source": [
    "#game_library.shape"
   ]
  },
  {
   "cell_type": "markdown",
   "id": "45f6ed64",
   "metadata": {},
   "source": [
    "#  Pre-Explore Part 1 (just looking at the data)"
   ]
  },
  {
   "cell_type": "markdown",
   "id": "6a329137",
   "metadata": {},
   "source": [
    "### What genre are most common in this dataset ?"
   ]
  },
  {
   "cell_type": "code",
   "execution_count": null,
   "id": "bc324018",
   "metadata": {},
   "outputs": [],
   "source": [
    "# def to_1D(series):\n",
    "#     return pd.Series([x for _list in series for x in _list])"
   ]
  },
  {
   "cell_type": "code",
   "execution_count": null,
   "id": "7ac1474e",
   "metadata": {},
   "outputs": [],
   "source": [
    " #pd.set_option('display.max_columns', None)\n",
    "# game_library.genres.value_counts()"
   ]
  },
  {
   "cell_type": "code",
   "execution_count": null,
   "id": "85c6a5e2",
   "metadata": {},
   "outputs": [],
   "source": [
    "# def test_functg(random_list):\n",
    "#     if type(random_list) == list:\n",
    "#         return [genres_dict[i] for i in random_list]\n",
    "#     else:  \n",
    "#         return [\"Not_available\"] "
   ]
  },
  {
   "cell_type": "markdown",
   "id": "c3d0592a",
   "metadata": {},
   "source": [
    "# Calling the data using the main wrangle function"
   ]
  },
  {
   "cell_type": "code",
   "execution_count": 2,
   "id": "6375ebba",
   "metadata": {},
   "outputs": [
    {
     "name": "stdout",
     "output_type": "stream",
     "text": [
      "Completed import for game_library\n",
      "Completed import for genres\n",
      "Completed import for age_ratings\n",
      "Completed import for age_rating_desc\n",
      "Completed import for collections\n",
      "Completed import for game_modes\n",
      "Completed import for multi_player_modes\n",
      "Completed import for platforms\n",
      "Completed import for platform_families\n",
      "Completed import for player_perspectives\n",
      "Completed import for themes\n",
      "Completed import for game_engines\n"
     ]
    },
    {
     "name": "stderr",
     "output_type": "stream",
     "text": [
      "/Users/gladybarrios/codeup-data-science/Videogame-Capstone/prepare.py:285: PerformanceWarning: DataFrame is highly fragmented.  This is usually the result of calling `frame.insert` many times, which has poor performance.  Consider joining all columns at once using pd.concat(axis=1) instead. To get a de-fragmented frame, use `newframe = frame.copy()`\n",
      "  game_library[platform] = game_library['platforms'].apply(my_list, word=platform)\n",
      "/Users/gladybarrios/codeup-data-science/Videogame-Capstone/prepare.py:285: PerformanceWarning: DataFrame is highly fragmented.  This is usually the result of calling `frame.insert` many times, which has poor performance.  Consider joining all columns at once using pd.concat(axis=1) instead. To get a de-fragmented frame, use `newframe = frame.copy()`\n",
      "  game_library[platform] = game_library['platforms'].apply(my_list, word=platform)\n",
      "/Users/gladybarrios/codeup-data-science/Videogame-Capstone/prepare.py:285: PerformanceWarning: DataFrame is highly fragmented.  This is usually the result of calling `frame.insert` many times, which has poor performance.  Consider joining all columns at once using pd.concat(axis=1) instead. To get a de-fragmented frame, use `newframe = frame.copy()`\n",
      "  game_library[platform] = game_library['platforms'].apply(my_list, word=platform)\n",
      "/Users/gladybarrios/codeup-data-science/Videogame-Capstone/prepare.py:285: PerformanceWarning: DataFrame is highly fragmented.  This is usually the result of calling `frame.insert` many times, which has poor performance.  Consider joining all columns at once using pd.concat(axis=1) instead. To get a de-fragmented frame, use `newframe = frame.copy()`\n",
      "  game_library[platform] = game_library['platforms'].apply(my_list, word=platform)\n",
      "/Users/gladybarrios/codeup-data-science/Videogame-Capstone/prepare.py:285: PerformanceWarning: DataFrame is highly fragmented.  This is usually the result of calling `frame.insert` many times, which has poor performance.  Consider joining all columns at once using pd.concat(axis=1) instead. To get a de-fragmented frame, use `newframe = frame.copy()`\n",
      "  game_library[platform] = game_library['platforms'].apply(my_list, word=platform)\n",
      "/Users/gladybarrios/codeup-data-science/Videogame-Capstone/prepare.py:291: PerformanceWarning: DataFrame is highly fragmented.  This is usually the result of calling `frame.insert` many times, which has poor performance.  Consider joining all columns at once using pd.concat(axis=1) instead. To get a de-fragmented frame, use `newframe = frame.copy()`\n",
      "  game_library['has_dlcs'] = np.where(game_library.dlcs != 0, 1, 0)\n",
      "/Users/gladybarrios/codeup-data-science/Videogame-Capstone/prepare.py:295: PerformanceWarning: DataFrame is highly fragmented.  This is usually the result of calling `frame.insert` many times, which has poor performance.  Consider joining all columns at once using pd.concat(axis=1) instead. To get a de-fragmented frame, use `newframe = frame.copy()`\n",
      "  game_library['rating_bin'] = pd.cut(game_library.rating,\n"
     ]
    }
   ],
   "source": [
    "game_library, game_ratings, not_rated = wrangle_data()"
   ]
  },
  {
   "cell_type": "code",
   "execution_count": 3,
   "id": "0aa6f3d9",
   "metadata": {
    "scrolled": true
   },
   "outputs": [
    {
     "data": {
      "text/html": [
       "<div>\n",
       "<style scoped>\n",
       "    .dataframe tbody tr th:only-of-type {\n",
       "        vertical-align: middle;\n",
       "    }\n",
       "\n",
       "    .dataframe tbody tr th {\n",
       "        vertical-align: top;\n",
       "    }\n",
       "\n",
       "    .dataframe thead th {\n",
       "        text-align: right;\n",
       "    }\n",
       "</style>\n",
       "<table border=\"1\" class=\"dataframe\">\n",
       "  <thead>\n",
       "    <tr style=\"text-align: right;\">\n",
       "      <th></th>\n",
       "      <th>id</th>\n",
       "      <th>first_release_date</th>\n",
       "      <th>genres</th>\n",
       "      <th>name</th>\n",
       "      <th>platforms</th>\n",
       "      <th>slug</th>\n",
       "      <th>player_perspectives</th>\n",
       "      <th>themes</th>\n",
       "      <th>campaigncoop</th>\n",
       "      <th>dropin</th>\n",
       "      <th>lancoop</th>\n",
       "      <th>offlinecoop</th>\n",
       "      <th>onlinecoop</th>\n",
       "      <th>splitscreen</th>\n",
       "      <th>point-and-click</th>\n",
       "      <th>fighting</th>\n",
       "      <th>shooter</th>\n",
       "      <th>music</th>\n",
       "      <th>platform</th>\n",
       "      <th>puzzle</th>\n",
       "      <th>racing</th>\n",
       "      <th>real-time-strategy-rts</th>\n",
       "      <th>role-playing-rpg</th>\n",
       "      <th>simulator</th>\n",
       "      <th>sport</th>\n",
       "      <th>strategy</th>\n",
       "      <th>turn-based-strategy-tbs</th>\n",
       "      <th>tactical</th>\n",
       "      <th>hack-and-slash-beat-em-up</th>\n",
       "      <th>quiz-trivia</th>\n",
       "      <th>pinball</th>\n",
       "      <th>adventure</th>\n",
       "      <th>indie</th>\n",
       "      <th>arcade</th>\n",
       "      <th>visual-novel</th>\n",
       "      <th>card-and-board-game</th>\n",
       "      <th>moba</th>\n",
       "      <th>single-player</th>\n",
       "      <th>multiplayer</th>\n",
       "      <th>co-operative</th>\n",
       "      <th>split-screen</th>\n",
       "      <th>massively-multiplayer-online-mmo</th>\n",
       "      <th>battle-royale</th>\n",
       "      <th>First person</th>\n",
       "      <th>Third person</th>\n",
       "      <th>Bird view-Isometric</th>\n",
       "      <th>Text</th>\n",
       "      <th>Side view</th>\n",
       "      <th>Virtual Reality</th>\n",
       "      <th>AuditoryDrama</th>\n",
       "      <th>thriller</th>\n",
       "      <th>Science-Fiction</th>\n",
       "      <th>Action</th>\n",
       "      <th>horror</th>\n",
       "      <th>survival</th>\n",
       "      <th>Fantasy</th>\n",
       "      <th>historical</th>\n",
       "      <th>stealth</th>\n",
       "      <th>comedy</th>\n",
       "      <th>business</th>\n",
       "      <th>drama</th>\n",
       "      <th>non-fiction</th>\n",
       "      <th>kids</th>\n",
       "      <th>sandbox</th>\n",
       "      <th>Open-World</th>\n",
       "      <th>warfare</th>\n",
       "      <th>4x-explore-expand-exploit-and-exterminate</th>\n",
       "      <th>educational</th>\n",
       "      <th>mystery</th>\n",
       "      <th>party</th>\n",
       "      <th>romance</th>\n",
       "      <th>erotic</th>\n",
       "      <th>Linux</th>\n",
       "      <th>Nintendo 64</th>\n",
       "      <th>Wii</th>\n",
       "      <th>PC (Microsoft Windows)</th>\n",
       "      <th>PlayStation</th>\n",
       "      <th>PlayStation 2</th>\n",
       "      <th>PlayStation 3</th>\n",
       "      <th>Xbox</th>\n",
       "      <th>Xbox 360</th>\n",
       "      <th>DOS</th>\n",
       "      <th>Mac</th>\n",
       "      <th>Nintendo Entertainment System</th>\n",
       "      <th>Super Nintendo Entertainment System</th>\n",
       "      <th>Nintendo DS</th>\n",
       "      <th>Nintendo GameCube</th>\n",
       "      <th>Game Boy Color</th>\n",
       "      <th>Game Boy Advance</th>\n",
       "      <th>Sega Mega Drive/Genesis</th>\n",
       "      <th>Sega Saturn</th>\n",
       "      <th>Game Boy</th>\n",
       "      <th>Android</th>\n",
       "      <th>Nintendo 3DS</th>\n",
       "      <th>PlayStatio n Portable</th>\n",
       "      <th>iOS</th>\n",
       "      <th>Wii U</th>\n",
       "      <th>PlayStation Vita</th>\n",
       "      <th>Virtual Console (Nintendo)</th>\n",
       "      <th>PlayStation 4</th>\n",
       "      <th>Xbox One</th>\n",
       "      <th>Family Computer Disk System</th>\n",
       "      <th>Arcade</th>\n",
       "      <th>Windows Phone</th>\n",
       "      <th>Apple II</th>\n",
       "      <th>Web browser</th>\n",
       "      <th>Odyssey</th>\n",
       "      <th>Commodore 16</th>\n",
       "      <th>New Nintendo 3DS</th>\n",
       "      <th>has_dlcs</th>\n",
       "      <th>rating_bin</th>\n",
       "    </tr>\n",
       "  </thead>\n",
       "  <tbody>\n",
       "    <tr>\n",
       "      <th>17</th>\n",
       "      <td>18248</td>\n",
       "      <td>2010-04-20</td>\n",
       "      <td>[music]</td>\n",
       "      <td>Beat City</td>\n",
       "      <td>[nds]</td>\n",
       "      <td>beat-city</td>\n",
       "      <td>[side-view]</td>\n",
       "      <td>[action]</td>\n",
       "      <td>0</td>\n",
       "      <td>0</td>\n",
       "      <td>0</td>\n",
       "      <td>0</td>\n",
       "      <td>0</td>\n",
       "      <td>0</td>\n",
       "      <td>0</td>\n",
       "      <td>0</td>\n",
       "      <td>0</td>\n",
       "      <td>1</td>\n",
       "      <td>0</td>\n",
       "      <td>0</td>\n",
       "      <td>0</td>\n",
       "      <td>0</td>\n",
       "      <td>0</td>\n",
       "      <td>0</td>\n",
       "      <td>0</td>\n",
       "      <td>0</td>\n",
       "      <td>0</td>\n",
       "      <td>0</td>\n",
       "      <td>0</td>\n",
       "      <td>0</td>\n",
       "      <td>0</td>\n",
       "      <td>0</td>\n",
       "      <td>0</td>\n",
       "      <td>0</td>\n",
       "      <td>0</td>\n",
       "      <td>0</td>\n",
       "      <td>0</td>\n",
       "      <td>1</td>\n",
       "      <td>0</td>\n",
       "      <td>0</td>\n",
       "      <td>0</td>\n",
       "      <td>0</td>\n",
       "      <td>0</td>\n",
       "      <td>0</td>\n",
       "      <td>0</td>\n",
       "      <td>0</td>\n",
       "      <td>0</td>\n",
       "      <td>0</td>\n",
       "      <td>0</td>\n",
       "      <td>0</td>\n",
       "      <td>0</td>\n",
       "      <td>0</td>\n",
       "      <td>0</td>\n",
       "      <td>0</td>\n",
       "      <td>0</td>\n",
       "      <td>0</td>\n",
       "      <td>0</td>\n",
       "      <td>0</td>\n",
       "      <td>0</td>\n",
       "      <td>0</td>\n",
       "      <td>0</td>\n",
       "      <td>0</td>\n",
       "      <td>0</td>\n",
       "      <td>0</td>\n",
       "      <td>0</td>\n",
       "      <td>0</td>\n",
       "      <td>0</td>\n",
       "      <td>0</td>\n",
       "      <td>0</td>\n",
       "      <td>0</td>\n",
       "      <td>0</td>\n",
       "      <td>0</td>\n",
       "      <td>0</td>\n",
       "      <td>0</td>\n",
       "      <td>0</td>\n",
       "      <td>0</td>\n",
       "      <td>0</td>\n",
       "      <td>0</td>\n",
       "      <td>0</td>\n",
       "      <td>0</td>\n",
       "      <td>0</td>\n",
       "      <td>0</td>\n",
       "      <td>0</td>\n",
       "      <td>0</td>\n",
       "      <td>0</td>\n",
       "      <td>0</td>\n",
       "      <td>0</td>\n",
       "      <td>0</td>\n",
       "      <td>0</td>\n",
       "      <td>0</td>\n",
       "      <td>0</td>\n",
       "      <td>0</td>\n",
       "      <td>0</td>\n",
       "      <td>0</td>\n",
       "      <td>0</td>\n",
       "      <td>0</td>\n",
       "      <td>0</td>\n",
       "      <td>0</td>\n",
       "      <td>0</td>\n",
       "      <td>0</td>\n",
       "      <td>0</td>\n",
       "      <td>0</td>\n",
       "      <td>0</td>\n",
       "      <td>0</td>\n",
       "      <td>0</td>\n",
       "      <td>0</td>\n",
       "      <td>0</td>\n",
       "      <td>0</td>\n",
       "      <td>0</td>\n",
       "      <td>0</td>\n",
       "      <td>fair</td>\n",
       "    </tr>\n",
       "    <tr>\n",
       "      <th>24</th>\n",
       "      <td>100789</td>\n",
       "      <td>NaT</td>\n",
       "      <td>[sport, arcade]</td>\n",
       "      <td>Flying Arrow!.</td>\n",
       "      <td>[Not available]</td>\n",
       "      <td>flying-arrow--1</td>\n",
       "      <td>[Not available]</td>\n",
       "      <td>[Not available]</td>\n",
       "      <td>0</td>\n",
       "      <td>0</td>\n",
       "      <td>0</td>\n",
       "      <td>0</td>\n",
       "      <td>0</td>\n",
       "      <td>0</td>\n",
       "      <td>0</td>\n",
       "      <td>0</td>\n",
       "      <td>0</td>\n",
       "      <td>0</td>\n",
       "      <td>0</td>\n",
       "      <td>0</td>\n",
       "      <td>0</td>\n",
       "      <td>0</td>\n",
       "      <td>0</td>\n",
       "      <td>0</td>\n",
       "      <td>1</td>\n",
       "      <td>0</td>\n",
       "      <td>0</td>\n",
       "      <td>0</td>\n",
       "      <td>0</td>\n",
       "      <td>0</td>\n",
       "      <td>0</td>\n",
       "      <td>0</td>\n",
       "      <td>0</td>\n",
       "      <td>1</td>\n",
       "      <td>0</td>\n",
       "      <td>0</td>\n",
       "      <td>0</td>\n",
       "      <td>0</td>\n",
       "      <td>0</td>\n",
       "      <td>0</td>\n",
       "      <td>0</td>\n",
       "      <td>0</td>\n",
       "      <td>0</td>\n",
       "      <td>0</td>\n",
       "      <td>0</td>\n",
       "      <td>0</td>\n",
       "      <td>0</td>\n",
       "      <td>0</td>\n",
       "      <td>0</td>\n",
       "      <td>0</td>\n",
       "      <td>0</td>\n",
       "      <td>0</td>\n",
       "      <td>0</td>\n",
       "      <td>0</td>\n",
       "      <td>0</td>\n",
       "      <td>0</td>\n",
       "      <td>0</td>\n",
       "      <td>0</td>\n",
       "      <td>0</td>\n",
       "      <td>0</td>\n",
       "      <td>0</td>\n",
       "      <td>0</td>\n",
       "      <td>0</td>\n",
       "      <td>0</td>\n",
       "      <td>0</td>\n",
       "      <td>0</td>\n",
       "      <td>0</td>\n",
       "      <td>0</td>\n",
       "      <td>0</td>\n",
       "      <td>0</td>\n",
       "      <td>0</td>\n",
       "      <td>0</td>\n",
       "      <td>0</td>\n",
       "      <td>0</td>\n",
       "      <td>0</td>\n",
       "      <td>0</td>\n",
       "      <td>0</td>\n",
       "      <td>0</td>\n",
       "      <td>0</td>\n",
       "      <td>0</td>\n",
       "      <td>0</td>\n",
       "      <td>0</td>\n",
       "      <td>0</td>\n",
       "      <td>0</td>\n",
       "      <td>0</td>\n",
       "      <td>0</td>\n",
       "      <td>0</td>\n",
       "      <td>0</td>\n",
       "      <td>0</td>\n",
       "      <td>0</td>\n",
       "      <td>0</td>\n",
       "      <td>0</td>\n",
       "      <td>0</td>\n",
       "      <td>0</td>\n",
       "      <td>0</td>\n",
       "      <td>0</td>\n",
       "      <td>0</td>\n",
       "      <td>0</td>\n",
       "      <td>0</td>\n",
       "      <td>0</td>\n",
       "      <td>0</td>\n",
       "      <td>0</td>\n",
       "      <td>0</td>\n",
       "      <td>0</td>\n",
       "      <td>0</td>\n",
       "      <td>0</td>\n",
       "      <td>0</td>\n",
       "      <td>0</td>\n",
       "      <td>0</td>\n",
       "      <td>0</td>\n",
       "      <td>unimpressive</td>\n",
       "    </tr>\n",
       "    <tr>\n",
       "      <th>43</th>\n",
       "      <td>75935</td>\n",
       "      <td>2017-11-01</td>\n",
       "      <td>[indie]</td>\n",
       "      <td>Boinks</td>\n",
       "      <td>[win, mac]</td>\n",
       "      <td>boinks</td>\n",
       "      <td>[Not available]</td>\n",
       "      <td>[action]</td>\n",
       "      <td>0</td>\n",
       "      <td>0</td>\n",
       "      <td>0</td>\n",
       "      <td>0</td>\n",
       "      <td>0</td>\n",
       "      <td>0</td>\n",
       "      <td>0</td>\n",
       "      <td>0</td>\n",
       "      <td>0</td>\n",
       "      <td>0</td>\n",
       "      <td>0</td>\n",
       "      <td>0</td>\n",
       "      <td>0</td>\n",
       "      <td>0</td>\n",
       "      <td>0</td>\n",
       "      <td>0</td>\n",
       "      <td>0</td>\n",
       "      <td>0</td>\n",
       "      <td>0</td>\n",
       "      <td>0</td>\n",
       "      <td>0</td>\n",
       "      <td>0</td>\n",
       "      <td>0</td>\n",
       "      <td>0</td>\n",
       "      <td>1</td>\n",
       "      <td>0</td>\n",
       "      <td>0</td>\n",
       "      <td>0</td>\n",
       "      <td>0</td>\n",
       "      <td>1</td>\n",
       "      <td>0</td>\n",
       "      <td>0</td>\n",
       "      <td>0</td>\n",
       "      <td>0</td>\n",
       "      <td>0</td>\n",
       "      <td>0</td>\n",
       "      <td>0</td>\n",
       "      <td>0</td>\n",
       "      <td>0</td>\n",
       "      <td>0</td>\n",
       "      <td>0</td>\n",
       "      <td>0</td>\n",
       "      <td>0</td>\n",
       "      <td>0</td>\n",
       "      <td>0</td>\n",
       "      <td>0</td>\n",
       "      <td>0</td>\n",
       "      <td>0</td>\n",
       "      <td>0</td>\n",
       "      <td>0</td>\n",
       "      <td>0</td>\n",
       "      <td>0</td>\n",
       "      <td>0</td>\n",
       "      <td>0</td>\n",
       "      <td>0</td>\n",
       "      <td>0</td>\n",
       "      <td>0</td>\n",
       "      <td>0</td>\n",
       "      <td>0</td>\n",
       "      <td>0</td>\n",
       "      <td>0</td>\n",
       "      <td>0</td>\n",
       "      <td>0</td>\n",
       "      <td>0</td>\n",
       "      <td>0</td>\n",
       "      <td>0</td>\n",
       "      <td>0</td>\n",
       "      <td>0</td>\n",
       "      <td>0</td>\n",
       "      <td>0</td>\n",
       "      <td>0</td>\n",
       "      <td>0</td>\n",
       "      <td>0</td>\n",
       "      <td>0</td>\n",
       "      <td>0</td>\n",
       "      <td>0</td>\n",
       "      <td>0</td>\n",
       "      <td>0</td>\n",
       "      <td>0</td>\n",
       "      <td>0</td>\n",
       "      <td>0</td>\n",
       "      <td>0</td>\n",
       "      <td>0</td>\n",
       "      <td>0</td>\n",
       "      <td>0</td>\n",
       "      <td>0</td>\n",
       "      <td>0</td>\n",
       "      <td>0</td>\n",
       "      <td>0</td>\n",
       "      <td>0</td>\n",
       "      <td>0</td>\n",
       "      <td>0</td>\n",
       "      <td>0</td>\n",
       "      <td>0</td>\n",
       "      <td>0</td>\n",
       "      <td>0</td>\n",
       "      <td>0</td>\n",
       "      <td>0</td>\n",
       "      <td>0</td>\n",
       "      <td>0</td>\n",
       "      <td>0</td>\n",
       "      <td>0</td>\n",
       "      <td>alright</td>\n",
       "    </tr>\n",
       "    <tr>\n",
       "      <th>48</th>\n",
       "      <td>88912</td>\n",
       "      <td>2013-05-15</td>\n",
       "      <td>[platform, arcade]</td>\n",
       "      <td>Sonic the Hedgehog Classic</td>\n",
       "      <td>[android, ios]</td>\n",
       "      <td>sonic-the-hedgehog-classic</td>\n",
       "      <td>[side-view]</td>\n",
       "      <td>[action]</td>\n",
       "      <td>0</td>\n",
       "      <td>0</td>\n",
       "      <td>0</td>\n",
       "      <td>0</td>\n",
       "      <td>0</td>\n",
       "      <td>0</td>\n",
       "      <td>0</td>\n",
       "      <td>0</td>\n",
       "      <td>0</td>\n",
       "      <td>0</td>\n",
       "      <td>1</td>\n",
       "      <td>0</td>\n",
       "      <td>0</td>\n",
       "      <td>0</td>\n",
       "      <td>0</td>\n",
       "      <td>0</td>\n",
       "      <td>0</td>\n",
       "      <td>0</td>\n",
       "      <td>0</td>\n",
       "      <td>0</td>\n",
       "      <td>0</td>\n",
       "      <td>0</td>\n",
       "      <td>0</td>\n",
       "      <td>0</td>\n",
       "      <td>0</td>\n",
       "      <td>1</td>\n",
       "      <td>0</td>\n",
       "      <td>0</td>\n",
       "      <td>0</td>\n",
       "      <td>1</td>\n",
       "      <td>0</td>\n",
       "      <td>0</td>\n",
       "      <td>0</td>\n",
       "      <td>0</td>\n",
       "      <td>0</td>\n",
       "      <td>0</td>\n",
       "      <td>0</td>\n",
       "      <td>0</td>\n",
       "      <td>0</td>\n",
       "      <td>0</td>\n",
       "      <td>0</td>\n",
       "      <td>0</td>\n",
       "      <td>0</td>\n",
       "      <td>0</td>\n",
       "      <td>0</td>\n",
       "      <td>0</td>\n",
       "      <td>0</td>\n",
       "      <td>0</td>\n",
       "      <td>0</td>\n",
       "      <td>0</td>\n",
       "      <td>0</td>\n",
       "      <td>0</td>\n",
       "      <td>0</td>\n",
       "      <td>0</td>\n",
       "      <td>0</td>\n",
       "      <td>0</td>\n",
       "      <td>0</td>\n",
       "      <td>0</td>\n",
       "      <td>0</td>\n",
       "      <td>0</td>\n",
       "      <td>0</td>\n",
       "      <td>0</td>\n",
       "      <td>0</td>\n",
       "      <td>0</td>\n",
       "      <td>0</td>\n",
       "      <td>0</td>\n",
       "      <td>0</td>\n",
       "      <td>0</td>\n",
       "      <td>0</td>\n",
       "      <td>0</td>\n",
       "      <td>0</td>\n",
       "      <td>0</td>\n",
       "      <td>0</td>\n",
       "      <td>0</td>\n",
       "      <td>0</td>\n",
       "      <td>0</td>\n",
       "      <td>0</td>\n",
       "      <td>0</td>\n",
       "      <td>0</td>\n",
       "      <td>0</td>\n",
       "      <td>0</td>\n",
       "      <td>0</td>\n",
       "      <td>0</td>\n",
       "      <td>0</td>\n",
       "      <td>0</td>\n",
       "      <td>0</td>\n",
       "      <td>0</td>\n",
       "      <td>0</td>\n",
       "      <td>0</td>\n",
       "      <td>0</td>\n",
       "      <td>0</td>\n",
       "      <td>0</td>\n",
       "      <td>0</td>\n",
       "      <td>0</td>\n",
       "      <td>0</td>\n",
       "      <td>0</td>\n",
       "      <td>0</td>\n",
       "      <td>0</td>\n",
       "      <td>0</td>\n",
       "      <td>0</td>\n",
       "      <td>0</td>\n",
       "      <td>0</td>\n",
       "      <td>good</td>\n",
       "    </tr>\n",
       "    <tr>\n",
       "      <th>52</th>\n",
       "      <td>35350</td>\n",
       "      <td>2016-09-23</td>\n",
       "      <td>[adventure, indie]</td>\n",
       "      <td>Vernon's Legacy</td>\n",
       "      <td>[win]</td>\n",
       "      <td>vernons-legacy</td>\n",
       "      <td>[Not available]</td>\n",
       "      <td>[horror]</td>\n",
       "      <td>0</td>\n",
       "      <td>0</td>\n",
       "      <td>0</td>\n",
       "      <td>0</td>\n",
       "      <td>0</td>\n",
       "      <td>0</td>\n",
       "      <td>0</td>\n",
       "      <td>0</td>\n",
       "      <td>0</td>\n",
       "      <td>0</td>\n",
       "      <td>0</td>\n",
       "      <td>0</td>\n",
       "      <td>0</td>\n",
       "      <td>0</td>\n",
       "      <td>0</td>\n",
       "      <td>0</td>\n",
       "      <td>0</td>\n",
       "      <td>0</td>\n",
       "      <td>0</td>\n",
       "      <td>0</td>\n",
       "      <td>0</td>\n",
       "      <td>0</td>\n",
       "      <td>0</td>\n",
       "      <td>1</td>\n",
       "      <td>1</td>\n",
       "      <td>0</td>\n",
       "      <td>0</td>\n",
       "      <td>0</td>\n",
       "      <td>0</td>\n",
       "      <td>1</td>\n",
       "      <td>0</td>\n",
       "      <td>0</td>\n",
       "      <td>0</td>\n",
       "      <td>0</td>\n",
       "      <td>0</td>\n",
       "      <td>0</td>\n",
       "      <td>0</td>\n",
       "      <td>0</td>\n",
       "      <td>0</td>\n",
       "      <td>0</td>\n",
       "      <td>0</td>\n",
       "      <td>0</td>\n",
       "      <td>0</td>\n",
       "      <td>0</td>\n",
       "      <td>0</td>\n",
       "      <td>1</td>\n",
       "      <td>0</td>\n",
       "      <td>0</td>\n",
       "      <td>0</td>\n",
       "      <td>0</td>\n",
       "      <td>0</td>\n",
       "      <td>0</td>\n",
       "      <td>0</td>\n",
       "      <td>0</td>\n",
       "      <td>0</td>\n",
       "      <td>0</td>\n",
       "      <td>0</td>\n",
       "      <td>0</td>\n",
       "      <td>0</td>\n",
       "      <td>0</td>\n",
       "      <td>0</td>\n",
       "      <td>0</td>\n",
       "      <td>0</td>\n",
       "      <td>0</td>\n",
       "      <td>0</td>\n",
       "      <td>0</td>\n",
       "      <td>0</td>\n",
       "      <td>0</td>\n",
       "      <td>0</td>\n",
       "      <td>0</td>\n",
       "      <td>0</td>\n",
       "      <td>0</td>\n",
       "      <td>0</td>\n",
       "      <td>0</td>\n",
       "      <td>0</td>\n",
       "      <td>0</td>\n",
       "      <td>0</td>\n",
       "      <td>0</td>\n",
       "      <td>0</td>\n",
       "      <td>0</td>\n",
       "      <td>0</td>\n",
       "      <td>0</td>\n",
       "      <td>0</td>\n",
       "      <td>0</td>\n",
       "      <td>0</td>\n",
       "      <td>0</td>\n",
       "      <td>0</td>\n",
       "      <td>0</td>\n",
       "      <td>0</td>\n",
       "      <td>0</td>\n",
       "      <td>0</td>\n",
       "      <td>0</td>\n",
       "      <td>0</td>\n",
       "      <td>0</td>\n",
       "      <td>0</td>\n",
       "      <td>0</td>\n",
       "      <td>0</td>\n",
       "      <td>0</td>\n",
       "      <td>0</td>\n",
       "      <td>0</td>\n",
       "      <td>0</td>\n",
       "      <td>0</td>\n",
       "      <td>average</td>\n",
       "    </tr>\n",
       "  </tbody>\n",
       "</table>\n",
       "</div>"
      ],
      "text/plain": [
       "        id first_release_date              genres                        name  \\\n",
       "17   18248         2010-04-20             [music]                   Beat City   \n",
       "24  100789                NaT     [sport, arcade]              Flying Arrow!.   \n",
       "43   75935         2017-11-01             [indie]                      Boinks   \n",
       "48   88912         2013-05-15  [platform, arcade]  Sonic the Hedgehog Classic   \n",
       "52   35350         2016-09-23  [adventure, indie]             Vernon's Legacy   \n",
       "\n",
       "          platforms                        slug player_perspectives  \\\n",
       "17            [nds]                   beat-city         [side-view]   \n",
       "24  [Not available]             flying-arrow--1     [Not available]   \n",
       "43       [win, mac]                      boinks     [Not available]   \n",
       "48   [android, ios]  sonic-the-hedgehog-classic         [side-view]   \n",
       "52            [win]              vernons-legacy     [Not available]   \n",
       "\n",
       "             themes  campaigncoop  dropin  lancoop  offlinecoop  onlinecoop  \\\n",
       "17         [action]             0       0        0            0           0   \n",
       "24  [Not available]             0       0        0            0           0   \n",
       "43         [action]             0       0        0            0           0   \n",
       "48         [action]             0       0        0            0           0   \n",
       "52         [horror]             0       0        0            0           0   \n",
       "\n",
       "    splitscreen  point-and-click  fighting  shooter  music  platform  puzzle  \\\n",
       "17            0                0         0        0      1         0       0   \n",
       "24            0                0         0        0      0         0       0   \n",
       "43            0                0         0        0      0         0       0   \n",
       "48            0                0         0        0      0         1       0   \n",
       "52            0                0         0        0      0         0       0   \n",
       "\n",
       "    racing  real-time-strategy-rts  role-playing-rpg  simulator  sport  \\\n",
       "17       0                       0                 0          0      0   \n",
       "24       0                       0                 0          0      1   \n",
       "43       0                       0                 0          0      0   \n",
       "48       0                       0                 0          0      0   \n",
       "52       0                       0                 0          0      0   \n",
       "\n",
       "    strategy  turn-based-strategy-tbs  tactical  hack-and-slash-beat-em-up  \\\n",
       "17         0                        0         0                          0   \n",
       "24         0                        0         0                          0   \n",
       "43         0                        0         0                          0   \n",
       "48         0                        0         0                          0   \n",
       "52         0                        0         0                          0   \n",
       "\n",
       "    quiz-trivia  pinball  adventure  indie  arcade  visual-novel  \\\n",
       "17            0        0          0      0       0             0   \n",
       "24            0        0          0      0       1             0   \n",
       "43            0        0          0      1       0             0   \n",
       "48            0        0          0      0       1             0   \n",
       "52            0        0          1      1       0             0   \n",
       "\n",
       "    card-and-board-game  moba  single-player  multiplayer  co-operative  \\\n",
       "17                    0     0              1            0             0   \n",
       "24                    0     0              0            0             0   \n",
       "43                    0     0              1            0             0   \n",
       "48                    0     0              1            0             0   \n",
       "52                    0     0              1            0             0   \n",
       "\n",
       "    split-screen  massively-multiplayer-online-mmo  battle-royale  \\\n",
       "17             0                                 0              0   \n",
       "24             0                                 0              0   \n",
       "43             0                                 0              0   \n",
       "48             0                                 0              0   \n",
       "52             0                                 0              0   \n",
       "\n",
       "    First person  Third person  Bird view-Isometric  Text  Side view  \\\n",
       "17             0             0                    0     0          0   \n",
       "24             0             0                    0     0          0   \n",
       "43             0             0                    0     0          0   \n",
       "48             0             0                    0     0          0   \n",
       "52             0             0                    0     0          0   \n",
       "\n",
       "    Virtual Reality  AuditoryDrama  thriller  Science-Fiction  Action  horror  \\\n",
       "17                0              0         0                0       0       0   \n",
       "24                0              0         0                0       0       0   \n",
       "43                0              0         0                0       0       0   \n",
       "48                0              0         0                0       0       0   \n",
       "52                0              0         0                0       0       1   \n",
       "\n",
       "    survival  Fantasy  historical  stealth  comedy  business  drama  \\\n",
       "17         0        0           0        0       0         0      0   \n",
       "24         0        0           0        0       0         0      0   \n",
       "43         0        0           0        0       0         0      0   \n",
       "48         0        0           0        0       0         0      0   \n",
       "52         0        0           0        0       0         0      0   \n",
       "\n",
       "    non-fiction  kids  sandbox  Open-World  warfare  \\\n",
       "17            0     0        0           0        0   \n",
       "24            0     0        0           0        0   \n",
       "43            0     0        0           0        0   \n",
       "48            0     0        0           0        0   \n",
       "52            0     0        0           0        0   \n",
       "\n",
       "    4x-explore-expand-exploit-and-exterminate  educational  mystery  party  \\\n",
       "17                                          0            0        0      0   \n",
       "24                                          0            0        0      0   \n",
       "43                                          0            0        0      0   \n",
       "48                                          0            0        0      0   \n",
       "52                                          0            0        0      0   \n",
       "\n",
       "    romance  erotic  Linux  Nintendo 64  Wii  PC (Microsoft Windows)  \\\n",
       "17        0       0      0            0    0                       0   \n",
       "24        0       0      0            0    0                       0   \n",
       "43        0       0      0            0    0                       0   \n",
       "48        0       0      0            0    0                       0   \n",
       "52        0       0      0            0    0                       0   \n",
       "\n",
       "    PlayStation  PlayStation 2  PlayStation 3  Xbox  Xbox 360  DOS  Mac  \\\n",
       "17            0              0              0     0         0    0    0   \n",
       "24            0              0              0     0         0    0    0   \n",
       "43            0              0              0     0         0    0    0   \n",
       "48            0              0              0     0         0    0    0   \n",
       "52            0              0              0     0         0    0    0   \n",
       "\n",
       "    Nintendo Entertainment System  Super Nintendo Entertainment System  \\\n",
       "17                              0                                    0   \n",
       "24                              0                                    0   \n",
       "43                              0                                    0   \n",
       "48                              0                                    0   \n",
       "52                              0                                    0   \n",
       "\n",
       "    Nintendo DS  Nintendo GameCube  Game Boy Color  Game Boy Advance  \\\n",
       "17            0                  0               0                 0   \n",
       "24            0                  0               0                 0   \n",
       "43            0                  0               0                 0   \n",
       "48            0                  0               0                 0   \n",
       "52            0                  0               0                 0   \n",
       "\n",
       "    Sega Mega Drive/Genesis  Sega Saturn  Game Boy  Android  Nintendo 3DS  \\\n",
       "17                        0            0         0        0             0   \n",
       "24                        0            0         0        0             0   \n",
       "43                        0            0         0        0             0   \n",
       "48                        0            0         0        0             0   \n",
       "52                        0            0         0        0             0   \n",
       "\n",
       "    PlayStatio n Portable  iOS  Wii U  PlayStation Vita  \\\n",
       "17                      0    0      0                 0   \n",
       "24                      0    0      0                 0   \n",
       "43                      0    0      0                 0   \n",
       "48                      0    0      0                 0   \n",
       "52                      0    0      0                 0   \n",
       "\n",
       "    Virtual Console (Nintendo)  PlayStation 4  Xbox One  \\\n",
       "17                           0              0         0   \n",
       "24                           0              0         0   \n",
       "43                           0              0         0   \n",
       "48                           0              0         0   \n",
       "52                           0              0         0   \n",
       "\n",
       "    Family Computer Disk System  Arcade  Windows Phone  Apple II  Web browser  \\\n",
       "17                            0       0              0         0            0   \n",
       "24                            0       0              0         0            0   \n",
       "43                            0       0              0         0            0   \n",
       "48                            0       0              0         0            0   \n",
       "52                            0       0              0         0            0   \n",
       "\n",
       "    Odyssey  Commodore 16  New Nintendo 3DS  has_dlcs    rating_bin  \n",
       "17        0             0                 0         0          fair  \n",
       "24        0             0                 0         0  unimpressive  \n",
       "43        0             0                 0         0       alright  \n",
       "48        0             0                 0         0          good  \n",
       "52        0             0                 0         0       average  "
      ]
     },
     "execution_count": 3,
     "metadata": {},
     "output_type": "execute_result"
    }
   ],
   "source": [
    "pd.set_option('display.max_columns', None)\n",
    "game_ratings.head()"
   ]
  },
  {
   "cell_type": "code",
   "execution_count": null,
   "id": "e0a6a98f",
   "metadata": {},
   "outputs": [],
   "source": []
  },
  {
   "cell_type": "code",
   "execution_count": 5,
   "id": "7bf2a0da",
   "metadata": {},
   "outputs": [
    {
     "data": {
      "text/plain": [
       "[Not available]                                                                        13344\n",
       "[third-person]                                                                          3790\n",
       "[side-view]                                                                             3556\n",
       "[bird-view-slash-isometric]                                                             3428\n",
       "[first-person]                                                                          2258\n",
       "[first-person, third-person]                                                             727\n",
       "[third-person, bird-view-slash-isometric]                                                401\n",
       "[virtual-reality]                                                                        363\n",
       "[text]                                                                                   289\n",
       "[bird-view-slash-isometric, side-view]                                                   220\n",
       "[first-person, virtual-reality]                                                          218\n",
       "[third-person, side-view]                                                                213\n",
       "[first-person, bird-view-slash-isometric]                                                 78\n",
       "[first-person, third-person, bird-view-slash-isometric]                                   66\n",
       "[side-view, text]                                                                         64\n",
       "[first-person, third-person, virtual-reality]                                             64\n",
       "[first-person, text]                                                                      60\n",
       "[bird-view-slash-isometric, text]                                                         59\n",
       "[auditory]                                                                                36\n",
       "[third-person, bird-view-slash-isometric, side-view]                                      32\n",
       "[third-person, virtual-reality]                                                           30\n",
       "[first-person, side-view]                                                                 29\n",
       "[third-person, text]                                                                      19\n",
       "[first-person, third-person, side-view]                                                   13\n",
       "[first-person, third-person, bird-view-slash-isometric, side-view]                        10\n",
       "[first-person, third-person, text]                                                         7\n",
       "[first-person, bird-view-slash-isometric, text]                                            6\n",
       "[side-view, virtual-reality]                                                               6\n",
       "[bird-view-slash-isometric, side-view, text]                                               6\n",
       "[first-person, third-person, bird-view-slash-isometric, side-view, virtual-reality]        5\n",
       "[third-person, auditory]                                                                   5\n",
       "[bird-view-slash-isometric, virtual-reality]                                               5\n",
       "[first-person, auditory, virtual-reality]                                                  4\n",
       "[first-person, bird-view-slash-isometric, side-view]                                       4\n",
       "[third-person, bird-view-slash-isometric, text]                                            3\n",
       "[third-person, bird-view-slash-isometric, virtual-reality]                                 3\n",
       "[text, auditory]                                                                           2\n",
       "[first-person, bird-view-slash-isometric, side-view, text]                                 2\n",
       "[third-person, bird-view-slash-isometric, side-view, text]                                 2\n",
       "[bird-view-slash-isometric, auditory]                                                      2\n",
       "[first-person, side-view, text]                                                            2\n",
       "[auditory, virtual-reality]                                                                2\n",
       "[first-person, text, auditory]                                                             1\n",
       "[first-person, third-person, bird-view-slash-isometric, virtual-reality]                   1\n",
       "[third-person, bird-view-slash-isometric, side-view, virtual-reality]                      1\n",
       "[first-person, third-person, bird-view-slash-isometric, side-view, text, auditory]         1\n",
       "[first-person, third-person, bird-view-slash-isometric, side-view, text]                   1\n",
       "[side-view, auditory]                                                                      1\n",
       "[first-person, auditory]                                                                   1\n",
       "[third-person, side-view, text]                                                            1\n",
       "[first-person, bird-view-slash-isometric, side-view, virtual-reality]                      1\n",
       "[first-person, third-person, bird-view-slash-isometric, text]                              1\n",
       "[side-view, text, auditory]                                                                1\n",
       "[bird-view-slash-isometric, side-view, auditory]                                           1\n",
       "[first-person, third-person, side-view, virtual-reality]                                   1\n",
       "Name: player_perspectives, dtype: int64"
      ]
     },
     "execution_count": 5,
     "metadata": {},
     "output_type": "execute_result"
    }
   ],
   "source": [
    "game_ratings.player_perspectives.value_counts()"
   ]
  },
  {
   "cell_type": "markdown",
   "id": "908f611f",
   "metadata": {},
   "source": [
    "### What themes are most common in this dataset "
   ]
  },
  {
   "cell_type": "code",
   "execution_count": null,
   "id": "82f44a40",
   "metadata": {
    "scrolled": true
   },
   "outputs": [],
   "source": [
    "# fig, ax = plt.subplots(figsize = (16,4))\n",
    "# ax.bar(to_1D(game_library[\"themes\"]).value_counts().iloc[:4].index,\n",
    "#         to_1D(game_library[\"themes\"]).value_counts().iloc[:4].values)\n",
    "# ax.set_ylabel(\"Frequency\", size = 12)\n",
    "# ax.set_title(\"genres\", size = 14)"
   ]
  },
  {
   "cell_type": "markdown",
   "id": "000e55c6",
   "metadata": {},
   "source": [
    "###   land co-op"
   ]
  },
  {
   "cell_type": "code",
   "execution_count": null,
   "id": "8be815ad",
   "metadata": {
    "scrolled": true
   },
   "outputs": [],
   "source": [
    "sns.countplot(x='lancoop', data=game_library)"
   ]
  },
  {
   "cell_type": "markdown",
   "id": "28e82210",
   "metadata": {},
   "source": [
    "### In a videogame what is the most common version titles ?"
   ]
  },
  {
   "cell_type": "code",
   "execution_count": null,
   "id": "b319d630",
   "metadata": {
    "scrolled": true
   },
   "outputs": [],
   "source": [
    "sns.countplot(x='version_title', data=game_library, order=game_library.version_title.value_counts().iloc[:4].index)"
   ]
  },
  {
   "cell_type": "markdown",
   "id": "eb1154cf",
   "metadata": {},
   "source": [
    "### What are the most common platforms ?"
   ]
  },
  {
   "cell_type": "code",
   "execution_count": null,
   "id": "3694c5dc",
   "metadata": {},
   "outputs": [],
   "source": [
    "fig, ax = plt.subplots(figsize = (14,4))\n",
    "ax.barplot(to_1D(game_library[\"platforms\"]).value_counts().iloc[:7].index,\n",
    "        to_1D(game_library[\"platforms\"]).value_counts().iloc[:7].values, hue = )\n",
    "ax.set_ylabel(\"Frequency\", size = 12)\n",
    "ax.set_title(\"platforms\", size = 14)"
   ]
  },
  {
   "cell_type": "markdown",
   "id": "78826610",
   "metadata": {},
   "source": [
    "## Splitting the data (from data with ratings and non-ratings)\n",
    "\n",
    "- we are splitting the data with GAMES that have a rating and games that dont have a rating "
   ]
  },
  {
   "cell_type": "code",
   "execution_count": null,
   "id": "1229a2e6",
   "metadata": {
    "scrolled": true
   },
   "outputs": [],
   "source": [
    "#this is the dataframe that ONLY has ratings \n",
    "# df2 = game_library[game_library['rating'].notnull()]\n",
    "# df2\n"
   ]
  },
  {
   "cell_type": "code",
   "execution_count": null,
   "id": "d473d570",
   "metadata": {},
   "outputs": [],
   "source": [
    "#this is a dataframe with no ratings \n",
    "# df3= game_library[game_library['rating'].isnull()]"
   ]
  },
  {
   "cell_type": "code",
   "execution_count": null,
   "id": "2c045e80",
   "metadata": {
    "scrolled": true
   },
   "outputs": [],
   "source": [
    "# pd.set_option('display.max_columns', None)\n",
    "# df3.head()"
   ]
  },
  {
   "cell_type": "markdown",
   "id": "6afbcaba",
   "metadata": {},
   "source": [
    "> dont forget to bin the data from the diffrent ratings "
   ]
  },
  {
   "cell_type": "code",
   "execution_count": null,
   "id": "0b33ae53",
   "metadata": {},
   "outputs": [],
   "source": [
    "# df2['rating_bin'] = pd.cut(df2.rating, \n",
    "#                            bins = [0,10,20, 30, 40, 50, 60, 70, 80, 90, 100],\n",
    "#                            labels = ['awful','very_bad','bad','unimpressive','average','fair','alright','good','great', 'subperb'])\n"
   ]
  },
  {
   "cell_type": "code",
   "execution_count": null,
   "id": "6603e5dd",
   "metadata": {
    "scrolled": true
   },
   "outputs": [],
   "source": [
    "#df2.head()"
   ]
  },
  {
   "cell_type": "code",
   "execution_count": null,
   "id": "a0ad8a56",
   "metadata": {},
   "outputs": [],
   "source": [
    "#creating the json for the data that HAS ratings \n",
    "#df2.to_json(\"explore_game_library.json\")"
   ]
  },
  {
   "cell_type": "code",
   "execution_count": null,
   "id": "3629b54b",
   "metadata": {},
   "outputs": [],
   "source": [
    "# pd.set_option('display.max_columns', 500)\n",
    "# df2.head()"
   ]
  },
  {
   "cell_type": "markdown",
   "id": "f5481028",
   "metadata": {},
   "source": [
    "# Exploration "
   ]
  },
  {
   "cell_type": "code",
   "execution_count": null,
   "id": "9d993e28",
   "metadata": {
    "scrolled": true
   },
   "outputs": [],
   "source": [
    "# df2 = pd.read_json(\"explore_game_library.json\")"
   ]
  },
  {
   "cell_type": "code",
   "execution_count": null,
   "id": "17130df2",
   "metadata": {},
   "outputs": [],
   "source": [
    "# pd.set_option('display.max_columns', 500)\n",
    "\n",
    "# df2.head()"
   ]
  },
  {
   "cell_type": "code",
   "execution_count": null,
   "id": "c07108a8",
   "metadata": {},
   "outputs": [],
   "source": [
    "#this is for tablaue \n",
    "#df2 = pd.read_csv(\"explore_game_library.csv\")"
   ]
  },
  {
   "cell_type": "code",
   "execution_count": null,
   "id": "225a7e51",
   "metadata": {},
   "outputs": [],
   "source": [
    "# df2 = pd.read_json(\"explore_game.json\")"
   ]
  },
  {
   "cell_type": "code",
   "execution_count": 8,
   "id": "eae5490c",
   "metadata": {},
   "outputs": [],
   "source": [
    "def train_validate_test_split(df):\n",
    "    '''\n",
    "    This function performs split on telco data, stratify churn.\n",
    "    Returns train, validate, and test dfs.\n",
    "    '''\n",
    "    train_validate, test = train_test_split(df, test_size=.2, \n",
    "                                        random_state=123, stratify=game_ratings.rating_bin)\n",
    "    train, validate = train_test_split(train_validate, test_size=.3, \n",
    "                                   random_state=123,  stratify=train_validate.rating_bin)\n",
    "\n",
    "    return train, validate, test\n"
   ]
  },
  {
   "cell_type": "code",
   "execution_count": 9,
   "id": "847e0e99",
   "metadata": {
    "scrolled": true
   },
   "outputs": [
    {
     "data": {
      "text/plain": [
       "((16489, 111), (7067, 111), (5890, 111))"
      ]
     },
     "execution_count": 9,
     "metadata": {},
     "output_type": "execute_result"
    }
   ],
   "source": [
    "train, validate, test = train_validate_test_split(game_ratings)\n",
    "\n",
    "train.shape, validate.shape, test.shape"
   ]
  },
  {
   "cell_type": "code",
   "execution_count": 10,
   "id": "c745ec21",
   "metadata": {},
   "outputs": [],
   "source": [
    "def to_1D(series):\n",
    "    return pd.Series([x for _list in series for x in _list])"
   ]
  },
  {
   "cell_type": "markdown",
   "id": "f4567703",
   "metadata": {},
   "source": [
    "\n",
    "\n",
    "## (more complicated Questions)"
   ]
  },
  {
   "cell_type": "markdown",
   "id": "ea9fd6a6",
   "metadata": {},
   "source": [
    "# Do video games on certain platforms get better user ratings?\n"
   ]
  },
  {
   "cell_type": "markdown",
   "id": "dc838867",
   "metadata": {},
   "source": [
    "- Yes it looks like for the games in the three highest member ratings (good, great,subperb) the majority of those games are played on \n",
    "    - PC(microsoft Windows)\n",
    "    - MAC \n",
    "    - X-Box 360\n",
    "    - ps 3 and 4 "
   ]
  },
  {
   "cell_type": "code",
   "execution_count": null,
   "id": "93b285e4",
   "metadata": {},
   "outputs": [],
   "source": [
    "#the diffrent platforms in the dataframe"
   ]
  },
  {
   "cell_type": "code",
   "execution_count": null,
   "id": "8a211cba",
   "metadata": {
    "scrolled": true
   },
   "outputs": [],
   "source": [
    "# fig, ax = plt.subplots(figsize = (14,4))\n",
    "# ax.bar(to_1D(train[\"platforms\"]).value_counts().iloc[:7].index,\n",
    "#         to_1D(train[\"platforms\"]).value_counts().iloc[:7].values)\n",
    "# ax.set_ylabel(\"Frequency\", size = 12)\n",
    "# ax.set_title(\"platforms\", size = 14)"
   ]
  },
  {
   "cell_type": "markdown",
   "id": "f8d46291",
   "metadata": {},
   "source": [
    "## Exploring `good rating`"
   ]
  },
  {
   "cell_type": "code",
   "execution_count": null,
   "id": "192bb17c",
   "metadata": {
    "scrolled": true
   },
   "outputs": [],
   "source": [
    "# df_good_rating = train[train['rating_bin']== 'good']\n",
    "# df_good_rating.head()"
   ]
  },
  {
   "cell_type": "code",
   "execution_count": null,
   "id": "b3e82acf",
   "metadata": {},
   "outputs": [],
   "source": [
    "# fig, ax = plt.subplots(figsize = (14,4))\n",
    "# ax.bar(to_1D(df_good_rating[\"platforms\"]).value_counts().iloc[:7].index,\n",
    "#         to_1D(df_good_rating[\"platforms\"]).value_counts().iloc[:7].values)\n",
    "# ax.set_ylabel(\"Frequency\", size = 12)\n",
    "# ax.set_title(\"platforms\", size = 14)"
   ]
  },
  {
   "cell_type": "markdown",
   "id": "99cdb131",
   "metadata": {},
   "source": [
    "- for the ratings \"good\" the most used platforms is (in order) pc, xbox 360, ps3, ps4"
   ]
  },
  {
   "cell_type": "markdown",
   "id": "5d68515b",
   "metadata": {},
   "source": [
    "##  Exploring `suberb raitng`"
   ]
  },
  {
   "cell_type": "code",
   "execution_count": 11,
   "id": "5e5b1f87",
   "metadata": {
    "scrolled": false
   },
   "outputs": [
    {
     "data": {
      "text/html": [
       "<div>\n",
       "<style scoped>\n",
       "    .dataframe tbody tr th:only-of-type {\n",
       "        vertical-align: middle;\n",
       "    }\n",
       "\n",
       "    .dataframe tbody tr th {\n",
       "        vertical-align: top;\n",
       "    }\n",
       "\n",
       "    .dataframe thead th {\n",
       "        text-align: right;\n",
       "    }\n",
       "</style>\n",
       "<table border=\"1\" class=\"dataframe\">\n",
       "  <thead>\n",
       "    <tr style=\"text-align: right;\">\n",
       "      <th></th>\n",
       "      <th>id</th>\n",
       "      <th>first_release_date</th>\n",
       "      <th>genres</th>\n",
       "      <th>name</th>\n",
       "      <th>platforms</th>\n",
       "      <th>slug</th>\n",
       "      <th>player_perspectives</th>\n",
       "      <th>themes</th>\n",
       "      <th>campaigncoop</th>\n",
       "      <th>dropin</th>\n",
       "      <th>lancoop</th>\n",
       "      <th>offlinecoop</th>\n",
       "      <th>onlinecoop</th>\n",
       "      <th>splitscreen</th>\n",
       "      <th>point-and-click</th>\n",
       "      <th>fighting</th>\n",
       "      <th>shooter</th>\n",
       "      <th>music</th>\n",
       "      <th>platform</th>\n",
       "      <th>puzzle</th>\n",
       "      <th>racing</th>\n",
       "      <th>real-time-strategy-rts</th>\n",
       "      <th>role-playing-rpg</th>\n",
       "      <th>simulator</th>\n",
       "      <th>sport</th>\n",
       "      <th>strategy</th>\n",
       "      <th>turn-based-strategy-tbs</th>\n",
       "      <th>tactical</th>\n",
       "      <th>hack-and-slash-beat-em-up</th>\n",
       "      <th>quiz-trivia</th>\n",
       "      <th>pinball</th>\n",
       "      <th>adventure</th>\n",
       "      <th>indie</th>\n",
       "      <th>arcade</th>\n",
       "      <th>visual-novel</th>\n",
       "      <th>card-and-board-game</th>\n",
       "      <th>moba</th>\n",
       "      <th>single-player</th>\n",
       "      <th>multiplayer</th>\n",
       "      <th>co-operative</th>\n",
       "      <th>split-screen</th>\n",
       "      <th>massively-multiplayer-online-mmo</th>\n",
       "      <th>battle-royale</th>\n",
       "      <th>First person</th>\n",
       "      <th>Third person</th>\n",
       "      <th>Bird view-Isometric</th>\n",
       "      <th>Text</th>\n",
       "      <th>Side view</th>\n",
       "      <th>Virtual Reality</th>\n",
       "      <th>AuditoryDrama</th>\n",
       "      <th>thriller</th>\n",
       "      <th>Science-Fiction</th>\n",
       "      <th>Action</th>\n",
       "      <th>horror</th>\n",
       "      <th>survival</th>\n",
       "      <th>Fantasy</th>\n",
       "      <th>historical</th>\n",
       "      <th>stealth</th>\n",
       "      <th>comedy</th>\n",
       "      <th>business</th>\n",
       "      <th>drama</th>\n",
       "      <th>non-fiction</th>\n",
       "      <th>kids</th>\n",
       "      <th>sandbox</th>\n",
       "      <th>Open-World</th>\n",
       "      <th>warfare</th>\n",
       "      <th>4x-explore-expand-exploit-and-exterminate</th>\n",
       "      <th>educational</th>\n",
       "      <th>mystery</th>\n",
       "      <th>party</th>\n",
       "      <th>romance</th>\n",
       "      <th>erotic</th>\n",
       "      <th>Linux</th>\n",
       "      <th>Nintendo 64</th>\n",
       "      <th>Wii</th>\n",
       "      <th>PC (Microsoft Windows)</th>\n",
       "      <th>PlayStation</th>\n",
       "      <th>PlayStation 2</th>\n",
       "      <th>PlayStation 3</th>\n",
       "      <th>Xbox</th>\n",
       "      <th>Xbox 360</th>\n",
       "      <th>DOS</th>\n",
       "      <th>Mac</th>\n",
       "      <th>Nintendo Entertainment System</th>\n",
       "      <th>Super Nintendo Entertainment System</th>\n",
       "      <th>Nintendo DS</th>\n",
       "      <th>Nintendo GameCube</th>\n",
       "      <th>Game Boy Color</th>\n",
       "      <th>Game Boy Advance</th>\n",
       "      <th>Sega Mega Drive/Genesis</th>\n",
       "      <th>Sega Saturn</th>\n",
       "      <th>Game Boy</th>\n",
       "      <th>Android</th>\n",
       "      <th>Nintendo 3DS</th>\n",
       "      <th>PlayStatio n Portable</th>\n",
       "      <th>iOS</th>\n",
       "      <th>Wii U</th>\n",
       "      <th>PlayStation Vita</th>\n",
       "      <th>Virtual Console (Nintendo)</th>\n",
       "      <th>PlayStation 4</th>\n",
       "      <th>Xbox One</th>\n",
       "      <th>Family Computer Disk System</th>\n",
       "      <th>Arcade</th>\n",
       "      <th>Windows Phone</th>\n",
       "      <th>Apple II</th>\n",
       "      <th>Web browser</th>\n",
       "      <th>Odyssey</th>\n",
       "      <th>Commodore 16</th>\n",
       "      <th>New Nintendo 3DS</th>\n",
       "      <th>has_dlcs</th>\n",
       "      <th>rating_bin</th>\n",
       "    </tr>\n",
       "  </thead>\n",
       "  <tbody>\n",
       "    <tr>\n",
       "      <th>199552</th>\n",
       "      <td>152122</td>\n",
       "      <td>2021-06-30</td>\n",
       "      <td>[role-playing-rpg, simulator, adventure, indie...</td>\n",
       "      <td>Doki Doki Literature Club Plus!</td>\n",
       "      <td>[win, mac, ps4--1, xboxone, switch, ps5]</td>\n",
       "      <td>doki-doki-literature-club-plus</td>\n",
       "      <td>[text]</td>\n",
       "      <td>[horror, romance]</td>\n",
       "      <td>0</td>\n",
       "      <td>0</td>\n",
       "      <td>0</td>\n",
       "      <td>0</td>\n",
       "      <td>0</td>\n",
       "      <td>0</td>\n",
       "      <td>0</td>\n",
       "      <td>0</td>\n",
       "      <td>0</td>\n",
       "      <td>0</td>\n",
       "      <td>0</td>\n",
       "      <td>0</td>\n",
       "      <td>0</td>\n",
       "      <td>0</td>\n",
       "      <td>1</td>\n",
       "      <td>1</td>\n",
       "      <td>0</td>\n",
       "      <td>0</td>\n",
       "      <td>0</td>\n",
       "      <td>0</td>\n",
       "      <td>0</td>\n",
       "      <td>0</td>\n",
       "      <td>0</td>\n",
       "      <td>1</td>\n",
       "      <td>1</td>\n",
       "      <td>0</td>\n",
       "      <td>1</td>\n",
       "      <td>0</td>\n",
       "      <td>0</td>\n",
       "      <td>1</td>\n",
       "      <td>0</td>\n",
       "      <td>0</td>\n",
       "      <td>0</td>\n",
       "      <td>0</td>\n",
       "      <td>0</td>\n",
       "      <td>0</td>\n",
       "      <td>0</td>\n",
       "      <td>0</td>\n",
       "      <td>0</td>\n",
       "      <td>0</td>\n",
       "      <td>0</td>\n",
       "      <td>0</td>\n",
       "      <td>0</td>\n",
       "      <td>0</td>\n",
       "      <td>0</td>\n",
       "      <td>1</td>\n",
       "      <td>0</td>\n",
       "      <td>0</td>\n",
       "      <td>0</td>\n",
       "      <td>0</td>\n",
       "      <td>0</td>\n",
       "      <td>0</td>\n",
       "      <td>0</td>\n",
       "      <td>0</td>\n",
       "      <td>0</td>\n",
       "      <td>0</td>\n",
       "      <td>0</td>\n",
       "      <td>0</td>\n",
       "      <td>0</td>\n",
       "      <td>0</td>\n",
       "      <td>0</td>\n",
       "      <td>0</td>\n",
       "      <td>1</td>\n",
       "      <td>0</td>\n",
       "      <td>0</td>\n",
       "      <td>0</td>\n",
       "      <td>0</td>\n",
       "      <td>0</td>\n",
       "      <td>0</td>\n",
       "      <td>0</td>\n",
       "      <td>0</td>\n",
       "      <td>0</td>\n",
       "      <td>0</td>\n",
       "      <td>0</td>\n",
       "      <td>0</td>\n",
       "      <td>0</td>\n",
       "      <td>0</td>\n",
       "      <td>0</td>\n",
       "      <td>0</td>\n",
       "      <td>0</td>\n",
       "      <td>0</td>\n",
       "      <td>0</td>\n",
       "      <td>0</td>\n",
       "      <td>0</td>\n",
       "      <td>0</td>\n",
       "      <td>0</td>\n",
       "      <td>0</td>\n",
       "      <td>0</td>\n",
       "      <td>0</td>\n",
       "      <td>0</td>\n",
       "      <td>0</td>\n",
       "      <td>0</td>\n",
       "      <td>0</td>\n",
       "      <td>0</td>\n",
       "      <td>0</td>\n",
       "      <td>0</td>\n",
       "      <td>0</td>\n",
       "      <td>0</td>\n",
       "      <td>0</td>\n",
       "      <td>0</td>\n",
       "      <td>0</td>\n",
       "      <td>0</td>\n",
       "      <td>subperb</td>\n",
       "    </tr>\n",
       "    <tr>\n",
       "      <th>120410</th>\n",
       "      <td>126489</td>\n",
       "      <td>2018-10-02</td>\n",
       "      <td>[simulator, indie]</td>\n",
       "      <td>WorldBox: God Simulator</td>\n",
       "      <td>[linux, win, android, ios]</td>\n",
       "      <td>worldbox-god-simulator</td>\n",
       "      <td>[bird-view-slash-isometric]</td>\n",
       "      <td>[sandbox]</td>\n",
       "      <td>0</td>\n",
       "      <td>0</td>\n",
       "      <td>0</td>\n",
       "      <td>0</td>\n",
       "      <td>0</td>\n",
       "      <td>0</td>\n",
       "      <td>0</td>\n",
       "      <td>0</td>\n",
       "      <td>0</td>\n",
       "      <td>0</td>\n",
       "      <td>0</td>\n",
       "      <td>0</td>\n",
       "      <td>0</td>\n",
       "      <td>0</td>\n",
       "      <td>0</td>\n",
       "      <td>1</td>\n",
       "      <td>0</td>\n",
       "      <td>0</td>\n",
       "      <td>0</td>\n",
       "      <td>0</td>\n",
       "      <td>0</td>\n",
       "      <td>0</td>\n",
       "      <td>0</td>\n",
       "      <td>0</td>\n",
       "      <td>1</td>\n",
       "      <td>0</td>\n",
       "      <td>0</td>\n",
       "      <td>0</td>\n",
       "      <td>0</td>\n",
       "      <td>0</td>\n",
       "      <td>0</td>\n",
       "      <td>0</td>\n",
       "      <td>0</td>\n",
       "      <td>0</td>\n",
       "      <td>0</td>\n",
       "      <td>0</td>\n",
       "      <td>0</td>\n",
       "      <td>0</td>\n",
       "      <td>0</td>\n",
       "      <td>0</td>\n",
       "      <td>0</td>\n",
       "      <td>0</td>\n",
       "      <td>0</td>\n",
       "      <td>0</td>\n",
       "      <td>0</td>\n",
       "      <td>0</td>\n",
       "      <td>0</td>\n",
       "      <td>0</td>\n",
       "      <td>0</td>\n",
       "      <td>0</td>\n",
       "      <td>0</td>\n",
       "      <td>0</td>\n",
       "      <td>0</td>\n",
       "      <td>0</td>\n",
       "      <td>0</td>\n",
       "      <td>1</td>\n",
       "      <td>0</td>\n",
       "      <td>0</td>\n",
       "      <td>0</td>\n",
       "      <td>0</td>\n",
       "      <td>0</td>\n",
       "      <td>0</td>\n",
       "      <td>0</td>\n",
       "      <td>0</td>\n",
       "      <td>0</td>\n",
       "      <td>0</td>\n",
       "      <td>0</td>\n",
       "      <td>0</td>\n",
       "      <td>0</td>\n",
       "      <td>0</td>\n",
       "      <td>0</td>\n",
       "      <td>0</td>\n",
       "      <td>0</td>\n",
       "      <td>0</td>\n",
       "      <td>0</td>\n",
       "      <td>0</td>\n",
       "      <td>0</td>\n",
       "      <td>0</td>\n",
       "      <td>0</td>\n",
       "      <td>0</td>\n",
       "      <td>0</td>\n",
       "      <td>0</td>\n",
       "      <td>0</td>\n",
       "      <td>0</td>\n",
       "      <td>0</td>\n",
       "      <td>0</td>\n",
       "      <td>0</td>\n",
       "      <td>0</td>\n",
       "      <td>0</td>\n",
       "      <td>0</td>\n",
       "      <td>0</td>\n",
       "      <td>0</td>\n",
       "      <td>0</td>\n",
       "      <td>0</td>\n",
       "      <td>0</td>\n",
       "      <td>0</td>\n",
       "      <td>0</td>\n",
       "      <td>0</td>\n",
       "      <td>0</td>\n",
       "      <td>0</td>\n",
       "      <td>0</td>\n",
       "      <td>0</td>\n",
       "      <td>subperb</td>\n",
       "    </tr>\n",
       "    <tr>\n",
       "      <th>208393</th>\n",
       "      <td>1070</td>\n",
       "      <td>1990-11-21</td>\n",
       "      <td>[platform, adventure]</td>\n",
       "      <td>Super Mario World</td>\n",
       "      <td>[wii, snes, wiiu, sfam, new-nintendo-3ds]</td>\n",
       "      <td>super-mario-world</td>\n",
       "      <td>[side-view]</td>\n",
       "      <td>[action, fantasy]</td>\n",
       "      <td>0</td>\n",
       "      <td>0</td>\n",
       "      <td>0</td>\n",
       "      <td>0</td>\n",
       "      <td>0</td>\n",
       "      <td>0</td>\n",
       "      <td>0</td>\n",
       "      <td>0</td>\n",
       "      <td>0</td>\n",
       "      <td>0</td>\n",
       "      <td>1</td>\n",
       "      <td>0</td>\n",
       "      <td>0</td>\n",
       "      <td>0</td>\n",
       "      <td>0</td>\n",
       "      <td>0</td>\n",
       "      <td>0</td>\n",
       "      <td>0</td>\n",
       "      <td>0</td>\n",
       "      <td>0</td>\n",
       "      <td>0</td>\n",
       "      <td>0</td>\n",
       "      <td>0</td>\n",
       "      <td>1</td>\n",
       "      <td>0</td>\n",
       "      <td>0</td>\n",
       "      <td>0</td>\n",
       "      <td>0</td>\n",
       "      <td>0</td>\n",
       "      <td>1</td>\n",
       "      <td>1</td>\n",
       "      <td>0</td>\n",
       "      <td>0</td>\n",
       "      <td>0</td>\n",
       "      <td>0</td>\n",
       "      <td>0</td>\n",
       "      <td>0</td>\n",
       "      <td>0</td>\n",
       "      <td>0</td>\n",
       "      <td>0</td>\n",
       "      <td>0</td>\n",
       "      <td>0</td>\n",
       "      <td>0</td>\n",
       "      <td>0</td>\n",
       "      <td>0</td>\n",
       "      <td>0</td>\n",
       "      <td>0</td>\n",
       "      <td>0</td>\n",
       "      <td>0</td>\n",
       "      <td>0</td>\n",
       "      <td>0</td>\n",
       "      <td>0</td>\n",
       "      <td>0</td>\n",
       "      <td>0</td>\n",
       "      <td>0</td>\n",
       "      <td>0</td>\n",
       "      <td>0</td>\n",
       "      <td>0</td>\n",
       "      <td>0</td>\n",
       "      <td>0</td>\n",
       "      <td>0</td>\n",
       "      <td>0</td>\n",
       "      <td>0</td>\n",
       "      <td>0</td>\n",
       "      <td>0</td>\n",
       "      <td>0</td>\n",
       "      <td>0</td>\n",
       "      <td>0</td>\n",
       "      <td>0</td>\n",
       "      <td>0</td>\n",
       "      <td>0</td>\n",
       "      <td>0</td>\n",
       "      <td>0</td>\n",
       "      <td>0</td>\n",
       "      <td>0</td>\n",
       "      <td>0</td>\n",
       "      <td>0</td>\n",
       "      <td>0</td>\n",
       "      <td>0</td>\n",
       "      <td>0</td>\n",
       "      <td>0</td>\n",
       "      <td>0</td>\n",
       "      <td>0</td>\n",
       "      <td>0</td>\n",
       "      <td>0</td>\n",
       "      <td>0</td>\n",
       "      <td>0</td>\n",
       "      <td>0</td>\n",
       "      <td>0</td>\n",
       "      <td>0</td>\n",
       "      <td>0</td>\n",
       "      <td>0</td>\n",
       "      <td>0</td>\n",
       "      <td>0</td>\n",
       "      <td>0</td>\n",
       "      <td>0</td>\n",
       "      <td>0</td>\n",
       "      <td>0</td>\n",
       "      <td>0</td>\n",
       "      <td>0</td>\n",
       "      <td>0</td>\n",
       "      <td>0</td>\n",
       "      <td>subperb</td>\n",
       "    </tr>\n",
       "  </tbody>\n",
       "</table>\n",
       "</div>"
      ],
      "text/plain": [
       "            id first_release_date  \\\n",
       "199552  152122         2021-06-30   \n",
       "120410  126489         2018-10-02   \n",
       "208393    1070         1990-11-21   \n",
       "\n",
       "                                                   genres  \\\n",
       "199552  [role-playing-rpg, simulator, adventure, indie...   \n",
       "120410                                 [simulator, indie]   \n",
       "208393                              [platform, adventure]   \n",
       "\n",
       "                                   name  \\\n",
       "199552  Doki Doki Literature Club Plus!   \n",
       "120410          WorldBox: God Simulator   \n",
       "208393                Super Mario World   \n",
       "\n",
       "                                        platforms  \\\n",
       "199552   [win, mac, ps4--1, xboxone, switch, ps5]   \n",
       "120410                 [linux, win, android, ios]   \n",
       "208393  [wii, snes, wiiu, sfam, new-nintendo-3ds]   \n",
       "\n",
       "                                  slug          player_perspectives  \\\n",
       "199552  doki-doki-literature-club-plus                       [text]   \n",
       "120410          worldbox-god-simulator  [bird-view-slash-isometric]   \n",
       "208393               super-mario-world                  [side-view]   \n",
       "\n",
       "                   themes  campaigncoop  dropin  lancoop  offlinecoop  \\\n",
       "199552  [horror, romance]             0       0        0            0   \n",
       "120410          [sandbox]             0       0        0            0   \n",
       "208393  [action, fantasy]             0       0        0            0   \n",
       "\n",
       "        onlinecoop  splitscreen  point-and-click  fighting  shooter  music  \\\n",
       "199552           0            0                0         0        0      0   \n",
       "120410           0            0                0         0        0      0   \n",
       "208393           0            0                0         0        0      0   \n",
       "\n",
       "        platform  puzzle  racing  real-time-strategy-rts  role-playing-rpg  \\\n",
       "199552         0       0       0                       0                 1   \n",
       "120410         0       0       0                       0                 0   \n",
       "208393         1       0       0                       0                 0   \n",
       "\n",
       "        simulator  sport  strategy  turn-based-strategy-tbs  tactical  \\\n",
       "199552          1      0         0                        0         0   \n",
       "120410          1      0         0                        0         0   \n",
       "208393          0      0         0                        0         0   \n",
       "\n",
       "        hack-and-slash-beat-em-up  quiz-trivia  pinball  adventure  indie  \\\n",
       "199552                          0            0        0          1      1   \n",
       "120410                          0            0        0          0      1   \n",
       "208393                          0            0        0          1      0   \n",
       "\n",
       "        arcade  visual-novel  card-and-board-game  moba  single-player  \\\n",
       "199552       0             1                    0     0              1   \n",
       "120410       0             0                    0     0              0   \n",
       "208393       0             0                    0     0              1   \n",
       "\n",
       "        multiplayer  co-operative  split-screen  \\\n",
       "199552            0             0             0   \n",
       "120410            0             0             0   \n",
       "208393            1             0             0   \n",
       "\n",
       "        massively-multiplayer-online-mmo  battle-royale  First person  \\\n",
       "199552                                 0              0             0   \n",
       "120410                                 0              0             0   \n",
       "208393                                 0              0             0   \n",
       "\n",
       "        Third person  Bird view-Isometric  Text  Side view  Virtual Reality  \\\n",
       "199552             0                    0     0          0                0   \n",
       "120410             0                    0     0          0                0   \n",
       "208393             0                    0     0          0                0   \n",
       "\n",
       "        AuditoryDrama  thriller  Science-Fiction  Action  horror  survival  \\\n",
       "199552              0         0                0       0       1         0   \n",
       "120410              0         0                0       0       0         0   \n",
       "208393              0         0                0       0       0         0   \n",
       "\n",
       "        Fantasy  historical  stealth  comedy  business  drama  non-fiction  \\\n",
       "199552        0           0        0       0         0      0            0   \n",
       "120410        0           0        0       0         0      0            0   \n",
       "208393        0           0        0       0         0      0            0   \n",
       "\n",
       "        kids  sandbox  Open-World  warfare  \\\n",
       "199552     0        0           0        0   \n",
       "120410     0        1           0        0   \n",
       "208393     0        0           0        0   \n",
       "\n",
       "        4x-explore-expand-exploit-and-exterminate  educational  mystery  \\\n",
       "199552                                          0            0        0   \n",
       "120410                                          0            0        0   \n",
       "208393                                          0            0        0   \n",
       "\n",
       "        party  romance  erotic  Linux  Nintendo 64  Wii  \\\n",
       "199552      0        1       0      0            0    0   \n",
       "120410      0        0       0      0            0    0   \n",
       "208393      0        0       0      0            0    0   \n",
       "\n",
       "        PC (Microsoft Windows)  PlayStation  PlayStation 2  PlayStation 3  \\\n",
       "199552                       0            0              0              0   \n",
       "120410                       0            0              0              0   \n",
       "208393                       0            0              0              0   \n",
       "\n",
       "        Xbox  Xbox 360  DOS  Mac  Nintendo Entertainment System  \\\n",
       "199552     0         0    0    0                              0   \n",
       "120410     0         0    0    0                              0   \n",
       "208393     0         0    0    0                              0   \n",
       "\n",
       "        Super Nintendo Entertainment System  Nintendo DS  Nintendo GameCube  \\\n",
       "199552                                    0            0                  0   \n",
       "120410                                    0            0                  0   \n",
       "208393                                    0            0                  0   \n",
       "\n",
       "        Game Boy Color  Game Boy Advance  Sega Mega Drive/Genesis  \\\n",
       "199552               0                 0                        0   \n",
       "120410               0                 0                        0   \n",
       "208393               0                 0                        0   \n",
       "\n",
       "        Sega Saturn  Game Boy  Android  Nintendo 3DS  PlayStatio n Portable  \\\n",
       "199552            0         0        0             0                      0   \n",
       "120410            0         0        0             0                      0   \n",
       "208393            0         0        0             0                      0   \n",
       "\n",
       "        iOS  Wii U  PlayStation Vita  Virtual Console (Nintendo)  \\\n",
       "199552    0      0                 0                           0   \n",
       "120410    0      0                 0                           0   \n",
       "208393    0      0                 0                           0   \n",
       "\n",
       "        PlayStation 4  Xbox One  Family Computer Disk System  Arcade  \\\n",
       "199552              0         0                            0       0   \n",
       "120410              0         0                            0       0   \n",
       "208393              0         0                            0       0   \n",
       "\n",
       "        Windows Phone  Apple II  Web browser  Odyssey  Commodore 16  \\\n",
       "199552              0         0            0        0             0   \n",
       "120410              0         0            0        0             0   \n",
       "208393              0         0            0        0             0   \n",
       "\n",
       "        New Nintendo 3DS  has_dlcs rating_bin  \n",
       "199552                 0         0    subperb  \n",
       "120410                 0         0    subperb  \n",
       "208393                 0         0    subperb  "
      ]
     },
     "execution_count": 11,
     "metadata": {},
     "output_type": "execute_result"
    }
   ],
   "source": [
    "df_subperb_rating = train[train['rating_bin']== 'subperb']\n",
    "df_subperb_rating.head(3)"
   ]
  },
  {
   "cell_type": "code",
   "execution_count": 12,
   "id": "8f2a50e4",
   "metadata": {},
   "outputs": [],
   "source": [
    "#drop those duplicates!!!\n",
    "df_subperb_rating = df_subperb_rating.drop_duplicates(subset = \"id\")"
   ]
  },
  {
   "cell_type": "markdown",
   "id": "279c2959",
   "metadata": {},
   "source": [
    "> ### Most frequent platforms in the raiting `subperb`"
   ]
  },
  {
   "cell_type": "code",
   "execution_count": null,
   "id": "1190f25e",
   "metadata": {
    "scrolled": false
   },
   "outputs": [],
   "source": [
    "# fig, ax = plt.subplots(figsize = (14,4))\n",
    "# ax.bar(to_1D(df_subperb_rating[\"platforms\"]).value_counts().iloc[:7].index,\n",
    "#         to_1D(df_subperb_rating[\"platforms\"]).value_counts().iloc[:7].values)\n",
    "# ax.set_ylabel(\"Frequency\", size = 12)\n",
    "# ax.set_title(\"platforms\", size = 14)"
   ]
  },
  {
   "cell_type": "markdown",
   "id": "03c9af95",
   "metadata": {},
   "source": [
    "- suberb rating is mostly mac and PC top two, and mest three are ps4 and ps3."
   ]
  },
  {
   "cell_type": "markdown",
   "id": "28ed0173",
   "metadata": {},
   "source": [
    "## Exploring `great rating`"
   ]
  },
  {
   "cell_type": "code",
   "execution_count": null,
   "id": "ffbb2a86",
   "metadata": {},
   "outputs": [],
   "source": [
    "# df_great_rating = train[train['rating_bin']== 'great']\n",
    "# df_great_rating.head(3)"
   ]
  },
  {
   "cell_type": "code",
   "execution_count": null,
   "id": "b1f07a62",
   "metadata": {},
   "outputs": [],
   "source": [
    "# fig, ax = plt.subplots(figsize = (14,4))\n",
    "# ax.bar(to_1D(df_great_rating[\"platforms\"]).value_counts().iloc[:7].index,\n",
    "#         to_1D(df_great_rating[\"platforms\"]).value_counts().iloc[:7].values)\n",
    "# ax.set_ylabel(\"Frequency\", size = 12)\n",
    "# ax.set_title(\"platforms\", size = 14)"
   ]
  },
  {
   "cell_type": "code",
   "execution_count": null,
   "id": "ae65bb53",
   "metadata": {
    "scrolled": false
   },
   "outputs": [],
   "source": [
    "\n",
    "# df_top3_rating = train[(train['rating_bin']== 'great') | (train['rating_bin']== 'good') | (train['rating_bin']== 'subperb')]\n",
    "# df_top3_rating.head(1)"
   ]
  },
  {
   "cell_type": "markdown",
   "id": "a6517ba3",
   "metadata": {},
   "source": [
    "## These are the top 4 platforms for the rating (subperb)"
   ]
  },
  {
   "cell_type": "code",
   "execution_count": 13,
   "id": "a8cf9f83",
   "metadata": {
    "scrolled": false
   },
   "outputs": [
    {
     "data": {
      "text/plain": [
       "([0, 1, 2, 3],\n",
       " [Text(0, 0, ''), Text(0, 0, ''), Text(0, 0, ''), Text(0, 0, '')])"
      ]
     },
     "execution_count": 13,
     "metadata": {},
     "output_type": "execute_result"
    },
    {
     "data": {
      "image/png": "[encoded data removed]",
      "text/plain": [
       "<Figure size 1008x432 with 1 Axes>"
      ]
     },
     "metadata": {
      "needs_background": "light"
     },
     "output_type": "display_data"
    }
   ],
   "source": [
    "fig, ax = plt.subplots(figsize = (14,6))\n",
    "\n",
    "ax.bar(to_1D(df_subperb_rating[\"platforms\"]).value_counts().iloc[:4].index,\n",
    "        to_1D(df_subperb_rating[\"platforms\"]).value_counts().iloc[:4].values,\n",
    "          color= ['purple'])\n",
    "ax.set_ylabel(\"Frequency\", size = 20)\n",
    "ax.set_title(\"Superb platforms\", size = 20)\n",
    "plt.xticks(fontsize = 15)"
   ]
  },
  {
   "cell_type": "code",
   "execution_count": null,
   "id": "4ddb8d14",
   "metadata": {},
   "outputs": [],
   "source": [
    "to_1D(df_subperb_rating[\"platforms\"]).value_counts().iloc[:4].index"
   ]
  },
  {
   "cell_type": "code",
   "execution_count": 27,
   "id": "f05853c9",
   "metadata": {},
   "outputs": [
    {
     "data": {
      "text/plain": [
       "array([121,  63,  44,  41])"
      ]
     },
     "execution_count": 27,
     "metadata": {},
     "output_type": "execute_result"
    }
   ],
   "source": [
    "to_1D(df_subperb_rating[\"platforms\"]).value_counts().iloc[:4].values"
   ]
  },
  {
   "cell_type": "code",
   "execution_count": 76,
   "id": "43fc29bd",
   "metadata": {},
   "outputs": [
    {
     "data": {
      "application/vnd.plotly.v1+json": {
       "config": {
        "plotlyServerURL": "https://plot.ly"
       },
       "data": [
        {
         "marker": {
          "color": [
           "purple",
           "purple",
           "purple",
           "purple",
           "purple"
          ]
         },
         "type": "bar",
         "x": [
          "PC (Microsoft Windows)",
          "PlayStation4",
          "Xbox One",
          "Nintendo Switch"
         ],
         "y": [
          121,
          63,
          44,
          41
         ]
        }
       ],
       "layout": {
        "font": {
         "color": "black",
         "size": 17
        },
        "template": {
         "data": {
          "bar": [
           {
            "error_x": {
             "color": "#2a3f5f"
            },
            "error_y": {
             "color": "#2a3f5f"
            },
            "marker": {
             "line": {
              "color": "#E5ECF6",
              "width": 0.5
             },
             "pattern": {
              "fillmode": "overlay",
              "size": 10,
              "solidity": 0.2
             }
            },
            "type": "bar"
           }
          ],
          "barpolar": [
           {
            "marker": {
             "line": {
              "color": "#E5ECF6",
              "width": 0.5
             },
             "pattern": {
              "fillmode": "overlay",
              "size": 10,
              "solidity": 0.2
             }
            },
            "type": "barpolar"
           }
          ],
          "carpet": [
           {
            "aaxis": {
             "endlinecolor": "#2a3f5f",
             "gridcolor": "white",
             "linecolor": "white",
             "minorgridcolor": "white",
             "startlinecolor": "#2a3f5f"
            },
            "baxis": {
             "endlinecolor": "#2a3f5f",
             "gridcolor": "white",
             "linecolor": "white",
             "minorgridcolor": "white",
             "startlinecolor": "#2a3f5f"
            },
            "type": "carpet"
           }
          ],
          "choropleth": [
           {
            "colorbar": {
             "outlinewidth": 0,
             "ticks": ""
            },
            "type": "choropleth"
           }
          ],
          "contour": [
           {
            "colorbar": {
             "outlinewidth": 0,
             "ticks": ""
            },
            "colorscale": [
             [
              0,
              "#0d0887"
             ],
             [
              0.1111111111111111,
              "#46039f"
             ],
             [
              0.2222222222222222,
              "#7201a8"
             ],
             [
              0.3333333333333333,
              "#9c179e"
             ],
             [
              0.4444444444444444,
              "#bd3786"
             ],
             [
              0.5555555555555556,
              "#d8576b"
             ],
             [
              0.6666666666666666,
              "#ed7953"
             ],
             [
              0.7777777777777778,
              "#fb9f3a"
             ],
             [
              0.8888888888888888,
              "#fdca26"
             ],
             [
              1,
              "#f0f921"
             ]
            ],
            "type": "contour"
           }
          ],
          "contourcarpet": [
           {
            "colorbar": {
             "outlinewidth": 0,
             "ticks": ""
            },
            "type": "contourcarpet"
           }
          ],
          "heatmap": [
           {
            "colorbar": {
             "outlinewidth": 0,
             "ticks": ""
            },
            "colorscale": [
             [
              0,
              "#0d0887"
             ],
             [
              0.1111111111111111,
              "#46039f"
             ],
             [
              0.2222222222222222,
              "#7201a8"
             ],
             [
              0.3333333333333333,
              "#9c179e"
             ],
             [
              0.4444444444444444,
              "#bd3786"
             ],
             [
              0.5555555555555556,
              "#d8576b"
             ],
             [
              0.6666666666666666,
              "#ed7953"
             ],
             [
              0.7777777777777778,
              "#fb9f3a"
             ],
             [
              0.8888888888888888,
              "#fdca26"
             ],
             [
              1,
              "#f0f921"
             ]
            ],
            "type": "heatmap"
           }
          ],
          "heatmapgl": [
           {
            "colorbar": {
             "outlinewidth": 0,
             "ticks": ""
            },
            "colorscale": [
             [
              0,
              "#0d0887"
             ],
             [
              0.1111111111111111,
              "#46039f"
             ],
             [
              0.2222222222222222,
              "#7201a8"
             ],
             [
              0.3333333333333333,
              "#9c179e"
             ],
             [
              0.4444444444444444,
              "#bd3786"
             ],
             [
              0.5555555555555556,
              "#d8576b"
             ],
             [
              0.6666666666666666,
              "#ed7953"
             ],
             [
              0.7777777777777778,
              "#fb9f3a"
             ],
             [
              0.8888888888888888,
              "#fdca26"
             ],
             [
              1,
              "#f0f921"
             ]
            ],
            "type": "heatmapgl"
           }
          ],
          "histogram": [
           {
            "marker": {
             "pattern": {
              "fillmode": "overlay",
              "size": 10,
              "solidity": 0.2
             }
            },
            "type": "histogram"
           }
          ],
          "histogram2d": [
           {
            "colorbar": {
             "outlinewidth": 0,
             "ticks": ""
            },
            "colorscale": [
             [
              0,
              "#0d0887"
             ],
             [
              0.1111111111111111,
              "#46039f"
             ],
             [
              0.2222222222222222,
              "#7201a8"
             ],
             [
              0.3333333333333333,
              "#9c179e"
             ],
             [
              0.4444444444444444,
              "#bd3786"
             ],
             [
              0.5555555555555556,
              "#d8576b"
             ],
             [
              0.6666666666666666,
              "#ed7953"
             ],
             [
              0.7777777777777778,
              "#fb9f3a"
             ],
             [
              0.8888888888888888,
              "#fdca26"
             ],
             [
              1,
              "#f0f921"
             ]
            ],
            "type": "histogram2d"
           }
          ],
          "histogram2dcontour": [
           {
            "colorbar": {
             "outlinewidth": 0,
             "ticks": ""
            },
            "colorscale": [
             [
              0,
              "#0d0887"
             ],
             [
              0.1111111111111111,
              "#46039f"
             ],
             [
              0.2222222222222222,
              "#7201a8"
             ],
             [
              0.3333333333333333,
              "#9c179e"
             ],
             [
              0.4444444444444444,
              "#bd3786"
             ],
             [
              0.5555555555555556,
              "#d8576b"
             ],
             [
              0.6666666666666666,
              "#ed7953"
             ],
             [
              0.7777777777777778,
              "#fb9f3a"
             ],
             [
              0.8888888888888888,
              "#fdca26"
             ],
             [
              1,
              "#f0f921"
             ]
            ],
            "type": "histogram2dcontour"
           }
          ],
          "mesh3d": [
           {
            "colorbar": {
             "outlinewidth": 0,
             "ticks": ""
            },
            "type": "mesh3d"
           }
          ],
          "parcoords": [
           {
            "line": {
             "colorbar": {
              "outlinewidth": 0,
              "ticks": ""
             }
            },
            "type": "parcoords"
           }
          ],
          "pie": [
           {
            "automargin": true,
            "type": "pie"
           }
          ],
          "scatter": [
           {
            "marker": {
             "colorbar": {
              "outlinewidth": 0,
              "ticks": ""
             }
            },
            "type": "scatter"
           }
          ],
          "scatter3d": [
           {
            "line": {
             "colorbar": {
              "outlinewidth": 0,
              "ticks": ""
             }
            },
            "marker": {
             "colorbar": {
              "outlinewidth": 0,
              "ticks": ""
             }
            },
            "type": "scatter3d"
           }
          ],
          "scattercarpet": [
           {
            "marker": {
             "colorbar": {
              "outlinewidth": 0,
              "ticks": ""
             }
            },
            "type": "scattercarpet"
           }
          ],
          "scattergeo": [
           {
            "marker": {
             "colorbar": {
              "outlinewidth": 0,
              "ticks": ""
             }
            },
            "type": "scattergeo"
           }
          ],
          "scattergl": [
           {
            "marker": {
             "colorbar": {
              "outlinewidth": 0,
              "ticks": ""
             }
            },
            "type": "scattergl"
           }
          ],
          "scattermapbox": [
           {
            "marker": {
             "colorbar": {
              "outlinewidth": 0,
              "ticks": ""
             }
            },
            "type": "scattermapbox"
           }
          ],
          "scatterpolar": [
           {
            "marker": {
             "colorbar": {
              "outlinewidth": 0,
              "ticks": ""
             }
            },
            "type": "scatterpolar"
           }
          ],
          "scatterpolargl": [
           {
            "marker": {
             "colorbar": {
              "outlinewidth": 0,
              "ticks": ""
             }
            },
            "type": "scatterpolargl"
           }
          ],
          "scatterternary": [
           {
            "marker": {
             "colorbar": {
              "outlinewidth": 0,
              "ticks": ""
             }
            },
            "type": "scatterternary"
           }
          ],
          "surface": [
           {
            "colorbar": {
             "outlinewidth": 0,
             "ticks": ""
            },
            "colorscale": [
             [
              0,
              "#0d0887"
             ],
             [
              0.1111111111111111,
              "#46039f"
             ],
             [
              0.2222222222222222,
              "#7201a8"
             ],
             [
              0.3333333333333333,
              "#9c179e"
             ],
             [
              0.4444444444444444,
              "#bd3786"
             ],
             [
              0.5555555555555556,
              "#d8576b"
             ],
             [
              0.6666666666666666,
              "#ed7953"
             ],
             [
              0.7777777777777778,
              "#fb9f3a"
             ],
             [
              0.8888888888888888,
              "#fdca26"
             ],
             [
              1,
              "#f0f921"
             ]
            ],
            "type": "surface"
           }
          ],
          "table": [
           {
            "cells": {
             "fill": {
              "color": "#EBF0F8"
             },
             "line": {
              "color": "white"
             }
            },
            "header": {
             "fill": {
              "color": "#C8D4E3"
             },
             "line": {
              "color": "white"
             }
            },
            "type": "table"
           }
          ]
         },
         "layout": {
          "annotationdefaults": {
           "arrowcolor": "#2a3f5f",
           "arrowhead": 0,
           "arrowwidth": 1
          },
          "autotypenumbers": "strict",
          "coloraxis": {
           "colorbar": {
            "outlinewidth": 0,
            "ticks": ""
           }
          },
          "colorscale": {
           "diverging": [
            [
             0,
             "#8e0152"
            ],
            [
             0.1,
             "#c51b7d"
            ],
            [
             0.2,
             "#de77ae"
            ],
            [
             0.3,
             "#f1b6da"
            ],
            [
             0.4,
             "#fde0ef"
            ],
            [
             0.5,
             "#f7f7f7"
            ],
            [
             0.6,
             "#e6f5d0"
            ],
            [
             0.7,
             "#b8e186"
            ],
            [
             0.8,
             "#7fbc41"
            ],
            [
             0.9,
             "#4d9221"
            ],
            [
             1,
             "#276419"
            ]
           ],
           "sequential": [
            [
             0,
             "#0d0887"
            ],
            [
             0.1111111111111111,
             "#46039f"
            ],
            [
             0.2222222222222222,
             "#7201a8"
            ],
            [
             0.3333333333333333,
             "#9c179e"
            ],
            [
             0.4444444444444444,
             "#bd3786"
            ],
            [
             0.5555555555555556,
             "#d8576b"
            ],
            [
             0.6666666666666666,
             "#ed7953"
            ],
            [
             0.7777777777777778,
             "#fb9f3a"
            ],
            [
             0.8888888888888888,
             "#fdca26"
            ],
            [
             1,
             "#f0f921"
            ]
           ],
           "sequentialminus": [
            [
             0,
             "#0d0887"
            ],
            [
             0.1111111111111111,
             "#46039f"
            ],
            [
             0.2222222222222222,
             "#7201a8"
            ],
            [
             0.3333333333333333,
             "#9c179e"
            ],
            [
             0.4444444444444444,
             "#bd3786"
            ],
            [
             0.5555555555555556,
             "#d8576b"
            ],
            [
             0.6666666666666666,
             "#ed7953"
            ],
            [
             0.7777777777777778,
             "#fb9f3a"
            ],
            [
             0.8888888888888888,
             "#fdca26"
            ],
            [
             1,
             "#f0f921"
            ]
           ]
          },
          "colorway": [
           "#636efa",
           "#EF553B",
           "#00cc96",
           "#ab63fa",
           "#FFA15A",
           "#19d3f3",
           "#FF6692",
           "#B6E880",
           "#FF97FF",
           "#FECB52"
          ],
          "font": {
           "color": "#2a3f5f"
          },
          "geo": {
           "bgcolor": "white",
           "lakecolor": "white",
           "landcolor": "#E5ECF6",
           "showlakes": true,
           "showland": true,
           "subunitcolor": "white"
          },
          "hoverlabel": {
           "align": "left"
          },
          "hovermode": "closest",
          "mapbox": {
           "style": "light"
          },
          "paper_bgcolor": "white",
          "plot_bgcolor": "#E5ECF6",
          "polar": {
           "angularaxis": {
            "gridcolor": "white",
            "linecolor": "white",
            "ticks": ""
           },
           "bgcolor": "#E5ECF6",
           "radialaxis": {
            "gridcolor": "white",
            "linecolor": "white",
            "ticks": ""
           }
          },
          "scene": {
           "xaxis": {
            "backgroundcolor": "#E5ECF6",
            "gridcolor": "white",
            "gridwidth": 2,
            "linecolor": "white",
            "showbackground": true,
            "ticks": "",
            "zerolinecolor": "white"
           },
           "yaxis": {
            "backgroundcolor": "#E5ECF6",
            "gridcolor": "white",
            "gridwidth": 2,
            "linecolor": "white",
            "showbackground": true,
            "ticks": "",
            "zerolinecolor": "white"
           },
           "zaxis": {
            "backgroundcolor": "#E5ECF6",
            "gridcolor": "white",
            "gridwidth": 2,
            "linecolor": "white",
            "showbackground": true,
            "ticks": "",
            "zerolinecolor": "white"
           }
          },
          "shapedefaults": {
           "line": {
            "color": "#2a3f5f"
           }
          },
          "ternary": {
           "aaxis": {
            "gridcolor": "white",
            "linecolor": "white",
            "ticks": ""
           },
           "baxis": {
            "gridcolor": "white",
            "linecolor": "white",
            "ticks": ""
           },
           "bgcolor": "#E5ECF6",
           "caxis": {
            "gridcolor": "white",
            "linecolor": "white",
            "ticks": ""
           }
          },
          "title": {
           "x": 0.05
          },
          "xaxis": {
           "automargin": true,
           "gridcolor": "white",
           "linecolor": "white",
           "ticks": "",
           "title": {
            "standoff": 15
           },
           "zerolinecolor": "white",
           "zerolinewidth": 2
          },
          "yaxis": {
           "automargin": true,
           "gridcolor": "white",
           "linecolor": "white",
           "ticks": "",
           "title": {
            "standoff": 15
           },
           "zerolinecolor": "white",
           "zerolinewidth": 2
          }
         }
        },
        "title": {
         "text": "Platforms"
        }
       }
      },
      "text/html": [
       "<div>                            <div id=\"a6fe5f9f-8cb1-4f87-82cb-a52585cb46d3\" class=\"plotly-graph-div\" style=\"height:525px; width:100%;\"></div>            <script type=\"text/javascript\">                require([\"plotly\"], function(Plotly) {                    window.PLOTLYENV=window.PLOTLYENV || {};                                    if (document.getElementById(\"a6fe5f9f-8cb1-4f87-82cb-a52585cb46d3\")) {                    Plotly.newPlot(                        \"a6fe5f9f-8cb1-4f87-82cb-a52585cb46d3\",                        [{\"marker\":{\"color\":[\"purple\",\"purple\",\"purple\",\"purple\",\"purple\"]},\"type\":\"bar\",\"x\":[\"PC (Microsoft Windows)\",\"PlayStation4\",\"Xbox One\",\"Nintendo Switch\"],\"y\":[121,63,44,41]}],                        {\"font\":{\"color\":\"black\",\"size\":17},\"template\":{\"data\":{\"bar\":[{\"error_x\":{\"color\":\"#2a3f5f\"},\"error_y\":{\"color\":\"#2a3f5f\"},\"marker\":{\"line\":{\"color\":\"#E5ECF6\",\"width\":0.5},\"pattern\":{\"fillmode\":\"overlay\",\"size\":10,\"solidity\":0.2}},\"type\":\"bar\"}],\"barpolar\":[{\"marker\":{\"line\":{\"color\":\"#E5ECF6\",\"width\":0.5},\"pattern\":{\"fillmode\":\"overlay\",\"size\":10,\"solidity\":0.2}},\"type\":\"barpolar\"}],\"carpet\":[{\"aaxis\":{\"endlinecolor\":\"#2a3f5f\",\"gridcolor\":\"white\",\"linecolor\":\"white\",\"minorgridcolor\":\"white\",\"startlinecolor\":\"#2a3f5f\"},\"baxis\":{\"endlinecolor\":\"#2a3f5f\",\"gridcolor\":\"white\",\"linecolor\":\"white\",\"minorgridcolor\":\"white\",\"startlinecolor\":\"#2a3f5f\"},\"type\":\"carpet\"}],\"choropleth\":[{\"colorbar\":{\"outlinewidth\":0,\"ticks\":\"\"},\"type\":\"choropleth\"}],\"contour\":[{\"colorbar\":{\"outlinewidth\":0,\"ticks\":\"\"},\"colorscale\":[[0.0,\"#0d0887\"],[0.1111111111111111,\"#46039f\"],[0.2222222222222222,\"#7201a8\"],[0.3333333333333333,\"#9c179e\"],[0.4444444444444444,\"#bd3786\"],[0.5555555555555556,\"#d8576b\"],[0.6666666666666666,\"#ed7953\"],[0.7777777777777778,\"#fb9f3a\"],[0.8888888888888888,\"#fdca26\"],[1.0,\"#f0f921\"]],\"type\":\"contour\"}],\"contourcarpet\":[{\"colorbar\":{\"outlinewidth\":0,\"ticks\":\"\"},\"type\":\"contourcarpet\"}],\"heatmap\":[{\"colorbar\":{\"outlinewidth\":0,\"ticks\":\"\"},\"colorscale\":[[0.0,\"#0d0887\"],[0.1111111111111111,\"#46039f\"],[0.2222222222222222,\"#7201a8\"],[0.3333333333333333,\"#9c179e\"],[0.4444444444444444,\"#bd3786\"],[0.5555555555555556,\"#d8576b\"],[0.6666666666666666,\"#ed7953\"],[0.7777777777777778,\"#fb9f3a\"],[0.8888888888888888,\"#fdca26\"],[1.0,\"#f0f921\"]],\"type\":\"heatmap\"}],\"heatmapgl\":[{\"colorbar\":{\"outlinewidth\":0,\"ticks\":\"\"},\"colorscale\":[[0.0,\"#0d0887\"],[0.1111111111111111,\"#46039f\"],[0.2222222222222222,\"#7201a8\"],[0.3333333333333333,\"#9c179e\"],[0.4444444444444444,\"#bd3786\"],[0.5555555555555556,\"#d8576b\"],[0.6666666666666666,\"#ed7953\"],[0.7777777777777778,\"#fb9f3a\"],[0.8888888888888888,\"#fdca26\"],[1.0,\"#f0f921\"]],\"type\":\"heatmapgl\"}],\"histogram\":[{\"marker\":{\"pattern\":{\"fillmode\":\"overlay\",\"size\":10,\"solidity\":0.2}},\"type\":\"histogram\"}],\"histogram2d\":[{\"colorbar\":{\"outlinewidth\":0,\"ticks\":\"\"},\"colorscale\":[[0.0,\"#0d0887\"],[0.1111111111111111,\"#46039f\"],[0.2222222222222222,\"#7201a8\"],[0.3333333333333333,\"#9c179e\"],[0.4444444444444444,\"#bd3786\"],[0.5555555555555556,\"#d8576b\"],[0.6666666666666666,\"#ed7953\"],[0.7777777777777778,\"#fb9f3a\"],[0.8888888888888888,\"#fdca26\"],[1.0,\"#f0f921\"]],\"type\":\"histogram2d\"}],\"histogram2dcontour\":[{\"colorbar\":{\"outlinewidth\":0,\"ticks\":\"\"},\"colorscale\":[[0.0,\"#0d0887\"],[0.1111111111111111,\"#46039f\"],[0.2222222222222222,\"#7201a8\"],[0.3333333333333333,\"#9c179e\"],[0.4444444444444444,\"#bd3786\"],[0.5555555555555556,\"#d8576b\"],[0.6666666666666666,\"#ed7953\"],[0.7777777777777778,\"#fb9f3a\"],[0.8888888888888888,\"#fdca26\"],[1.0,\"#f0f921\"]],\"type\":\"histogram2dcontour\"}],\"mesh3d\":[{\"colorbar\":{\"outlinewidth\":0,\"ticks\":\"\"},\"type\":\"mesh3d\"}],\"parcoords\":[{\"line\":{\"colorbar\":{\"outlinewidth\":0,\"ticks\":\"\"}},\"type\":\"parcoords\"}],\"pie\":[{\"automargin\":true,\"type\":\"pie\"}],\"scatter\":[{\"marker\":{\"colorbar\":{\"outlinewidth\":0,\"ticks\":\"\"}},\"type\":\"scatter\"}],\"scatter3d\":[{\"line\":{\"colorbar\":{\"outlinewidth\":0,\"ticks\":\"\"}},\"marker\":{\"colorbar\":{\"outlinewidth\":0,\"ticks\":\"\"}},\"type\":\"scatter3d\"}],\"scattercarpet\":[{\"marker\":{\"colorbar\":{\"outlinewidth\":0,\"ticks\":\"\"}},\"type\":\"scattercarpet\"}],\"scattergeo\":[{\"marker\":{\"colorbar\":{\"outlinewidth\":0,\"ticks\":\"\"}},\"type\":\"scattergeo\"}],\"scattergl\":[{\"marker\":{\"colorbar\":{\"outlinewidth\":0,\"ticks\":\"\"}},\"type\":\"scattergl\"}],\"scattermapbox\":[{\"marker\":{\"colorbar\":{\"outlinewidth\":0,\"ticks\":\"\"}},\"type\":\"scattermapbox\"}],\"scatterpolar\":[{\"marker\":{\"colorbar\":{\"outlinewidth\":0,\"ticks\":\"\"}},\"type\":\"scatterpolar\"}],\"scatterpolargl\":[{\"marker\":{\"colorbar\":{\"outlinewidth\":0,\"ticks\":\"\"}},\"type\":\"scatterpolargl\"}],\"scatterternary\":[{\"marker\":{\"colorbar\":{\"outlinewidth\":0,\"ticks\":\"\"}},\"type\":\"scatterternary\"}],\"surface\":[{\"colorbar\":{\"outlinewidth\":0,\"ticks\":\"\"},\"colorscale\":[[0.0,\"#0d0887\"],[0.1111111111111111,\"#46039f\"],[0.2222222222222222,\"#7201a8\"],[0.3333333333333333,\"#9c179e\"],[0.4444444444444444,\"#bd3786\"],[0.5555555555555556,\"#d8576b\"],[0.6666666666666666,\"#ed7953\"],[0.7777777777777778,\"#fb9f3a\"],[0.8888888888888888,\"#fdca26\"],[1.0,\"#f0f921\"]],\"type\":\"surface\"}],\"table\":[{\"cells\":{\"fill\":{\"color\":\"#EBF0F8\"},\"line\":{\"color\":\"white\"}},\"header\":{\"fill\":{\"color\":\"#C8D4E3\"},\"line\":{\"color\":\"white\"}},\"type\":\"table\"}]},\"layout\":{\"annotationdefaults\":{\"arrowcolor\":\"#2a3f5f\",\"arrowhead\":0,\"arrowwidth\":1},\"autotypenumbers\":\"strict\",\"coloraxis\":{\"colorbar\":{\"outlinewidth\":0,\"ticks\":\"\"}},\"colorscale\":{\"diverging\":[[0,\"#8e0152\"],[0.1,\"#c51b7d\"],[0.2,\"#de77ae\"],[0.3,\"#f1b6da\"],[0.4,\"#fde0ef\"],[0.5,\"#f7f7f7\"],[0.6,\"#e6f5d0\"],[0.7,\"#b8e186\"],[0.8,\"#7fbc41\"],[0.9,\"#4d9221\"],[1,\"#276419\"]],\"sequential\":[[0.0,\"#0d0887\"],[0.1111111111111111,\"#46039f\"],[0.2222222222222222,\"#7201a8\"],[0.3333333333333333,\"#9c179e\"],[0.4444444444444444,\"#bd3786\"],[0.5555555555555556,\"#d8576b\"],[0.6666666666666666,\"#ed7953\"],[0.7777777777777778,\"#fb9f3a\"],[0.8888888888888888,\"#fdca26\"],[1.0,\"#f0f921\"]],\"sequentialminus\":[[0.0,\"#0d0887\"],[0.1111111111111111,\"#46039f\"],[0.2222222222222222,\"#7201a8\"],[0.3333333333333333,\"#9c179e\"],[0.4444444444444444,\"#bd3786\"],[0.5555555555555556,\"#d8576b\"],[0.6666666666666666,\"#ed7953\"],[0.7777777777777778,\"#fb9f3a\"],[0.8888888888888888,\"#fdca26\"],[1.0,\"#f0f921\"]]},\"colorway\":[\"#636efa\",\"#EF553B\",\"#00cc96\",\"#ab63fa\",\"#FFA15A\",\"#19d3f3\",\"#FF6692\",\"#B6E880\",\"#FF97FF\",\"#FECB52\"],\"font\":{\"color\":\"#2a3f5f\"},\"geo\":{\"bgcolor\":\"white\",\"lakecolor\":\"white\",\"landcolor\":\"#E5ECF6\",\"showlakes\":true,\"showland\":true,\"subunitcolor\":\"white\"},\"hoverlabel\":{\"align\":\"left\"},\"hovermode\":\"closest\",\"mapbox\":{\"style\":\"light\"},\"paper_bgcolor\":\"white\",\"plot_bgcolor\":\"#E5ECF6\",\"polar\":{\"angularaxis\":{\"gridcolor\":\"white\",\"linecolor\":\"white\",\"ticks\":\"\"},\"bgcolor\":\"#E5ECF6\",\"radialaxis\":{\"gridcolor\":\"white\",\"linecolor\":\"white\",\"ticks\":\"\"}},\"scene\":{\"xaxis\":{\"backgroundcolor\":\"#E5ECF6\",\"gridcolor\":\"white\",\"gridwidth\":2,\"linecolor\":\"white\",\"showbackground\":true,\"ticks\":\"\",\"zerolinecolor\":\"white\"},\"yaxis\":{\"backgroundcolor\":\"#E5ECF6\",\"gridcolor\":\"white\",\"gridwidth\":2,\"linecolor\":\"white\",\"showbackground\":true,\"ticks\":\"\",\"zerolinecolor\":\"white\"},\"zaxis\":{\"backgroundcolor\":\"#E5ECF6\",\"gridcolor\":\"white\",\"gridwidth\":2,\"linecolor\":\"white\",\"showbackground\":true,\"ticks\":\"\",\"zerolinecolor\":\"white\"}},\"shapedefaults\":{\"line\":{\"color\":\"#2a3f5f\"}},\"ternary\":{\"aaxis\":{\"gridcolor\":\"white\",\"linecolor\":\"white\",\"ticks\":\"\"},\"baxis\":{\"gridcolor\":\"white\",\"linecolor\":\"white\",\"ticks\":\"\"},\"bgcolor\":\"#E5ECF6\",\"caxis\":{\"gridcolor\":\"white\",\"linecolor\":\"white\",\"ticks\":\"\"}},\"title\":{\"x\":0.05},\"xaxis\":{\"automargin\":true,\"gridcolor\":\"white\",\"linecolor\":\"white\",\"ticks\":\"\",\"title\":{\"standoff\":15},\"zerolinecolor\":\"white\",\"zerolinewidth\":2},\"yaxis\":{\"automargin\":true,\"gridcolor\":\"white\",\"linecolor\":\"white\",\"ticks\":\"\",\"title\":{\"standoff\":15},\"zerolinecolor\":\"white\",\"zerolinewidth\":2}}},\"title\":{\"text\":\"Platforms\"}},                        {\"responsive\": true}                    ).then(function(){\n",
       "                            \n",
       "var gd = document.getElementById('a6fe5f9f-8cb1-4f87-82cb-a52585cb46d3');\n",
       "var x = new MutationObserver(function (mutations, observer) {{\n",
       "        var display = window.getComputedStyle(gd).display;\n",
       "        if (!display || display === 'none') {{\n",
       "            console.log([gd, 'removed!']);\n",
       "            Plotly.purge(gd);\n",
       "            observer.disconnect();\n",
       "        }}\n",
       "}});\n",
       "\n",
       "// Listen for the removal of the full notebook cells\n",
       "var notebookContainer = gd.closest('#notebook-container');\n",
       "if (notebookContainer) {{\n",
       "    x.observe(notebookContainer, {childList: true});\n",
       "}}\n",
       "\n",
       "// Listen for the clearing of the current output cell\n",
       "var outputEl = gd.closest('.output');\n",
       "if (outputEl) {{\n",
       "    x.observe(outputEl, {childList: true});\n",
       "}}\n",
       "\n",
       "                        })                };                });            </script>        </div>"
      ]
     },
     "metadata": {},
     "output_type": "display_data"
    }
   ],
   "source": [
    "colors = ['purple',] * 5\n",
    "\n",
    "\n",
    "fig = go.Figure(data=[go.Bar(\n",
    "    x=['PC (Microsoft Windows)', 'PlayStation4' , 'Xbox One' , 'Nintendo Switch'],\n",
    "    y=[121, 63, 44,  41],\n",
    "    marker_color=colors # marker color can be a single color value or an iterable\n",
    ")])\n",
    "\n",
    "\n",
    "\n",
    "fig.update_layout(title_text='Platforms', font=dict(size=17, color=\"black\"))\n",
    "\n",
    "\n",
    "fig.show()"
   ]
  },
  {
   "cell_type": "code",
   "execution_count": null,
   "id": "7c4fc77d",
   "metadata": {},
   "outputs": [],
   "source": [
    "# df_subperb_rating[\"platforms\"].value_counts().iloc[:4].index"
   ]
  },
  {
   "cell_type": "code",
   "execution_count": null,
   "id": "603edb61",
   "metadata": {},
   "outputs": [],
   "source": [
    "# to_1D(df_subperb_rating[\"platforms\"]).value_counts().iloc[:4].index"
   ]
  },
  {
   "cell_type": "code",
   "execution_count": null,
   "id": "7d3102ac",
   "metadata": {
    "scrolled": true
   },
   "outputs": [],
   "source": [
    "# to_1D(df_subperb_rating[\"platforms\"]).value_counts().iloc[:4].values"
   ]
  },
  {
   "cell_type": "code",
   "execution_count": null,
   "id": "56bacae7",
   "metadata": {},
   "outputs": [],
   "source": [
    "# df_subperb_rating[\"platforms\"].value_counts().iloc[:4].index"
   ]
  },
  {
   "cell_type": "markdown",
   "id": "307b2dd0",
   "metadata": {},
   "source": [
    "- Yes it looks like for the games in the three highest member ratings (good, great,subperb) the majority of those games are played on \n",
    "    - PC(microsoft Windows)\n",
    "    - Play Station 4 \n",
    "    - X-box 1\n",
    "    - Nintendo Switch"
   ]
  },
  {
   "cell_type": "markdown",
   "id": "c101725e",
   "metadata": {},
   "source": [
    "## These are the top 7 platforms for the lowest  ratings (bad, very bad , awful)"
   ]
  },
  {
   "cell_type": "code",
   "execution_count": 14,
   "id": "9e96532d",
   "metadata": {},
   "outputs": [
    {
     "data": {
      "text/html": [
       "<div>\n",
       "<style scoped>\n",
       "    .dataframe tbody tr th:only-of-type {\n",
       "        vertical-align: middle;\n",
       "    }\n",
       "\n",
       "    .dataframe tbody tr th {\n",
       "        vertical-align: top;\n",
       "    }\n",
       "\n",
       "    .dataframe thead th {\n",
       "        text-align: right;\n",
       "    }\n",
       "</style>\n",
       "<table border=\"1\" class=\"dataframe\">\n",
       "  <thead>\n",
       "    <tr style=\"text-align: right;\">\n",
       "      <th></th>\n",
       "      <th>id</th>\n",
       "      <th>first_release_date</th>\n",
       "      <th>genres</th>\n",
       "      <th>name</th>\n",
       "      <th>platforms</th>\n",
       "      <th>slug</th>\n",
       "      <th>player_perspectives</th>\n",
       "      <th>themes</th>\n",
       "      <th>campaigncoop</th>\n",
       "      <th>dropin</th>\n",
       "      <th>lancoop</th>\n",
       "      <th>offlinecoop</th>\n",
       "      <th>onlinecoop</th>\n",
       "      <th>splitscreen</th>\n",
       "      <th>point-and-click</th>\n",
       "      <th>fighting</th>\n",
       "      <th>shooter</th>\n",
       "      <th>music</th>\n",
       "      <th>platform</th>\n",
       "      <th>puzzle</th>\n",
       "      <th>racing</th>\n",
       "      <th>real-time-strategy-rts</th>\n",
       "      <th>role-playing-rpg</th>\n",
       "      <th>simulator</th>\n",
       "      <th>sport</th>\n",
       "      <th>strategy</th>\n",
       "      <th>turn-based-strategy-tbs</th>\n",
       "      <th>tactical</th>\n",
       "      <th>hack-and-slash-beat-em-up</th>\n",
       "      <th>quiz-trivia</th>\n",
       "      <th>pinball</th>\n",
       "      <th>adventure</th>\n",
       "      <th>indie</th>\n",
       "      <th>arcade</th>\n",
       "      <th>visual-novel</th>\n",
       "      <th>card-and-board-game</th>\n",
       "      <th>moba</th>\n",
       "      <th>single-player</th>\n",
       "      <th>multiplayer</th>\n",
       "      <th>co-operative</th>\n",
       "      <th>split-screen</th>\n",
       "      <th>massively-multiplayer-online-mmo</th>\n",
       "      <th>battle-royale</th>\n",
       "      <th>First person</th>\n",
       "      <th>Third person</th>\n",
       "      <th>Bird view-Isometric</th>\n",
       "      <th>Text</th>\n",
       "      <th>Side view</th>\n",
       "      <th>Virtual Reality</th>\n",
       "      <th>AuditoryDrama</th>\n",
       "      <th>thriller</th>\n",
       "      <th>Science-Fiction</th>\n",
       "      <th>Action</th>\n",
       "      <th>horror</th>\n",
       "      <th>survival</th>\n",
       "      <th>Fantasy</th>\n",
       "      <th>historical</th>\n",
       "      <th>stealth</th>\n",
       "      <th>comedy</th>\n",
       "      <th>business</th>\n",
       "      <th>drama</th>\n",
       "      <th>non-fiction</th>\n",
       "      <th>kids</th>\n",
       "      <th>sandbox</th>\n",
       "      <th>Open-World</th>\n",
       "      <th>warfare</th>\n",
       "      <th>4x-explore-expand-exploit-and-exterminate</th>\n",
       "      <th>educational</th>\n",
       "      <th>mystery</th>\n",
       "      <th>party</th>\n",
       "      <th>romance</th>\n",
       "      <th>erotic</th>\n",
       "      <th>Linux</th>\n",
       "      <th>Nintendo 64</th>\n",
       "      <th>Wii</th>\n",
       "      <th>PC (Microsoft Windows)</th>\n",
       "      <th>PlayStation</th>\n",
       "      <th>PlayStation 2</th>\n",
       "      <th>PlayStation 3</th>\n",
       "      <th>Xbox</th>\n",
       "      <th>Xbox 360</th>\n",
       "      <th>DOS</th>\n",
       "      <th>Mac</th>\n",
       "      <th>Nintendo Entertainment System</th>\n",
       "      <th>Super Nintendo Entertainment System</th>\n",
       "      <th>Nintendo DS</th>\n",
       "      <th>Nintendo GameCube</th>\n",
       "      <th>Game Boy Color</th>\n",
       "      <th>Game Boy Advance</th>\n",
       "      <th>Sega Mega Drive/Genesis</th>\n",
       "      <th>Sega Saturn</th>\n",
       "      <th>Game Boy</th>\n",
       "      <th>Android</th>\n",
       "      <th>Nintendo 3DS</th>\n",
       "      <th>PlayStatio n Portable</th>\n",
       "      <th>iOS</th>\n",
       "      <th>Wii U</th>\n",
       "      <th>PlayStation Vita</th>\n",
       "      <th>Virtual Console (Nintendo)</th>\n",
       "      <th>PlayStation 4</th>\n",
       "      <th>Xbox One</th>\n",
       "      <th>Family Computer Disk System</th>\n",
       "      <th>Arcade</th>\n",
       "      <th>Windows Phone</th>\n",
       "      <th>Apple II</th>\n",
       "      <th>Web browser</th>\n",
       "      <th>Odyssey</th>\n",
       "      <th>Commodore 16</th>\n",
       "      <th>New Nintendo 3DS</th>\n",
       "      <th>has_dlcs</th>\n",
       "      <th>rating_bin</th>\n",
       "    </tr>\n",
       "  </thead>\n",
       "  <tbody>\n",
       "    <tr>\n",
       "      <th>127219</th>\n",
       "      <td>126859</td>\n",
       "      <td>2020-02-29</td>\n",
       "      <td>[role-playing-rpg, adventure]</td>\n",
       "      <td>Knights of Light: The Prologue</td>\n",
       "      <td>[win]</td>\n",
       "      <td>knights-of-light-the-prologue</td>\n",
       "      <td>[Not available]</td>\n",
       "      <td>[action]</td>\n",
       "      <td>0</td>\n",
       "      <td>0</td>\n",
       "      <td>0</td>\n",
       "      <td>0</td>\n",
       "      <td>0</td>\n",
       "      <td>0</td>\n",
       "      <td>0</td>\n",
       "      <td>0</td>\n",
       "      <td>0</td>\n",
       "      <td>0</td>\n",
       "      <td>0</td>\n",
       "      <td>0</td>\n",
       "      <td>0</td>\n",
       "      <td>0</td>\n",
       "      <td>1</td>\n",
       "      <td>0</td>\n",
       "      <td>0</td>\n",
       "      <td>0</td>\n",
       "      <td>0</td>\n",
       "      <td>0</td>\n",
       "      <td>0</td>\n",
       "      <td>0</td>\n",
       "      <td>0</td>\n",
       "      <td>1</td>\n",
       "      <td>0</td>\n",
       "      <td>0</td>\n",
       "      <td>0</td>\n",
       "      <td>0</td>\n",
       "      <td>0</td>\n",
       "      <td>1</td>\n",
       "      <td>0</td>\n",
       "      <td>0</td>\n",
       "      <td>0</td>\n",
       "      <td>0</td>\n",
       "      <td>0</td>\n",
       "      <td>0</td>\n",
       "      <td>0</td>\n",
       "      <td>0</td>\n",
       "      <td>0</td>\n",
       "      <td>0</td>\n",
       "      <td>0</td>\n",
       "      <td>0</td>\n",
       "      <td>0</td>\n",
       "      <td>0</td>\n",
       "      <td>0</td>\n",
       "      <td>0</td>\n",
       "      <td>0</td>\n",
       "      <td>0</td>\n",
       "      <td>0</td>\n",
       "      <td>0</td>\n",
       "      <td>0</td>\n",
       "      <td>0</td>\n",
       "      <td>0</td>\n",
       "      <td>0</td>\n",
       "      <td>0</td>\n",
       "      <td>0</td>\n",
       "      <td>0</td>\n",
       "      <td>0</td>\n",
       "      <td>0</td>\n",
       "      <td>0</td>\n",
       "      <td>0</td>\n",
       "      <td>0</td>\n",
       "      <td>0</td>\n",
       "      <td>0</td>\n",
       "      <td>0</td>\n",
       "      <td>0</td>\n",
       "      <td>0</td>\n",
       "      <td>0</td>\n",
       "      <td>0</td>\n",
       "      <td>0</td>\n",
       "      <td>0</td>\n",
       "      <td>0</td>\n",
       "      <td>0</td>\n",
       "      <td>0</td>\n",
       "      <td>0</td>\n",
       "      <td>0</td>\n",
       "      <td>0</td>\n",
       "      <td>0</td>\n",
       "      <td>0</td>\n",
       "      <td>0</td>\n",
       "      <td>0</td>\n",
       "      <td>0</td>\n",
       "      <td>0</td>\n",
       "      <td>0</td>\n",
       "      <td>0</td>\n",
       "      <td>0</td>\n",
       "      <td>0</td>\n",
       "      <td>0</td>\n",
       "      <td>0</td>\n",
       "      <td>0</td>\n",
       "      <td>0</td>\n",
       "      <td>0</td>\n",
       "      <td>0</td>\n",
       "      <td>0</td>\n",
       "      <td>0</td>\n",
       "      <td>0</td>\n",
       "      <td>0</td>\n",
       "      <td>0</td>\n",
       "      <td>0</td>\n",
       "      <td>0</td>\n",
       "      <td>0</td>\n",
       "      <td>0</td>\n",
       "      <td>bad</td>\n",
       "    </tr>\n",
       "    <tr>\n",
       "      <th>78534</th>\n",
       "      <td>101613</td>\n",
       "      <td>2018-05-25</td>\n",
       "      <td>[Not available]</td>\n",
       "      <td>Vietcong</td>\n",
       "      <td>[win]</td>\n",
       "      <td>vietcong--1</td>\n",
       "      <td>[Not available]</td>\n",
       "      <td>[action]</td>\n",
       "      <td>0</td>\n",
       "      <td>0</td>\n",
       "      <td>0</td>\n",
       "      <td>0</td>\n",
       "      <td>0</td>\n",
       "      <td>0</td>\n",
       "      <td>0</td>\n",
       "      <td>0</td>\n",
       "      <td>0</td>\n",
       "      <td>0</td>\n",
       "      <td>0</td>\n",
       "      <td>0</td>\n",
       "      <td>0</td>\n",
       "      <td>0</td>\n",
       "      <td>0</td>\n",
       "      <td>0</td>\n",
       "      <td>0</td>\n",
       "      <td>0</td>\n",
       "      <td>0</td>\n",
       "      <td>0</td>\n",
       "      <td>0</td>\n",
       "      <td>0</td>\n",
       "      <td>0</td>\n",
       "      <td>0</td>\n",
       "      <td>0</td>\n",
       "      <td>0</td>\n",
       "      <td>0</td>\n",
       "      <td>0</td>\n",
       "      <td>0</td>\n",
       "      <td>1</td>\n",
       "      <td>0</td>\n",
       "      <td>0</td>\n",
       "      <td>0</td>\n",
       "      <td>0</td>\n",
       "      <td>0</td>\n",
       "      <td>0</td>\n",
       "      <td>0</td>\n",
       "      <td>0</td>\n",
       "      <td>0</td>\n",
       "      <td>0</td>\n",
       "      <td>0</td>\n",
       "      <td>0</td>\n",
       "      <td>0</td>\n",
       "      <td>0</td>\n",
       "      <td>0</td>\n",
       "      <td>0</td>\n",
       "      <td>0</td>\n",
       "      <td>0</td>\n",
       "      <td>0</td>\n",
       "      <td>0</td>\n",
       "      <td>0</td>\n",
       "      <td>0</td>\n",
       "      <td>0</td>\n",
       "      <td>0</td>\n",
       "      <td>0</td>\n",
       "      <td>0</td>\n",
       "      <td>0</td>\n",
       "      <td>0</td>\n",
       "      <td>0</td>\n",
       "      <td>0</td>\n",
       "      <td>0</td>\n",
       "      <td>0</td>\n",
       "      <td>0</td>\n",
       "      <td>0</td>\n",
       "      <td>0</td>\n",
       "      <td>0</td>\n",
       "      <td>0</td>\n",
       "      <td>0</td>\n",
       "      <td>0</td>\n",
       "      <td>0</td>\n",
       "      <td>0</td>\n",
       "      <td>0</td>\n",
       "      <td>0</td>\n",
       "      <td>0</td>\n",
       "      <td>0</td>\n",
       "      <td>0</td>\n",
       "      <td>0</td>\n",
       "      <td>0</td>\n",
       "      <td>0</td>\n",
       "      <td>0</td>\n",
       "      <td>0</td>\n",
       "      <td>0</td>\n",
       "      <td>0</td>\n",
       "      <td>0</td>\n",
       "      <td>0</td>\n",
       "      <td>0</td>\n",
       "      <td>0</td>\n",
       "      <td>0</td>\n",
       "      <td>0</td>\n",
       "      <td>0</td>\n",
       "      <td>0</td>\n",
       "      <td>0</td>\n",
       "      <td>0</td>\n",
       "      <td>0</td>\n",
       "      <td>0</td>\n",
       "      <td>0</td>\n",
       "      <td>0</td>\n",
       "      <td>0</td>\n",
       "      <td>0</td>\n",
       "      <td>0</td>\n",
       "      <td>0</td>\n",
       "      <td>0</td>\n",
       "      <td>bad</td>\n",
       "    </tr>\n",
       "    <tr>\n",
       "      <th>183290</th>\n",
       "      <td>8534</td>\n",
       "      <td>1994-06-05</td>\n",
       "      <td>[adventure]</td>\n",
       "      <td>Zelda's Adventure</td>\n",
       "      <td>[fds, philips-cd-i]</td>\n",
       "      <td>zeldas-adventure</td>\n",
       "      <td>[bird-view-slash-isometric]</td>\n",
       "      <td>[action, fantasy]</td>\n",
       "      <td>0</td>\n",
       "      <td>0</td>\n",
       "      <td>0</td>\n",
       "      <td>0</td>\n",
       "      <td>0</td>\n",
       "      <td>0</td>\n",
       "      <td>0</td>\n",
       "      <td>0</td>\n",
       "      <td>0</td>\n",
       "      <td>0</td>\n",
       "      <td>0</td>\n",
       "      <td>0</td>\n",
       "      <td>0</td>\n",
       "      <td>0</td>\n",
       "      <td>0</td>\n",
       "      <td>0</td>\n",
       "      <td>0</td>\n",
       "      <td>0</td>\n",
       "      <td>0</td>\n",
       "      <td>0</td>\n",
       "      <td>0</td>\n",
       "      <td>0</td>\n",
       "      <td>0</td>\n",
       "      <td>1</td>\n",
       "      <td>0</td>\n",
       "      <td>0</td>\n",
       "      <td>0</td>\n",
       "      <td>0</td>\n",
       "      <td>0</td>\n",
       "      <td>1</td>\n",
       "      <td>0</td>\n",
       "      <td>0</td>\n",
       "      <td>0</td>\n",
       "      <td>0</td>\n",
       "      <td>0</td>\n",
       "      <td>0</td>\n",
       "      <td>0</td>\n",
       "      <td>0</td>\n",
       "      <td>0</td>\n",
       "      <td>0</td>\n",
       "      <td>0</td>\n",
       "      <td>0</td>\n",
       "      <td>0</td>\n",
       "      <td>0</td>\n",
       "      <td>0</td>\n",
       "      <td>0</td>\n",
       "      <td>0</td>\n",
       "      <td>0</td>\n",
       "      <td>0</td>\n",
       "      <td>0</td>\n",
       "      <td>0</td>\n",
       "      <td>0</td>\n",
       "      <td>0</td>\n",
       "      <td>0</td>\n",
       "      <td>0</td>\n",
       "      <td>0</td>\n",
       "      <td>0</td>\n",
       "      <td>0</td>\n",
       "      <td>0</td>\n",
       "      <td>0</td>\n",
       "      <td>0</td>\n",
       "      <td>0</td>\n",
       "      <td>0</td>\n",
       "      <td>0</td>\n",
       "      <td>0</td>\n",
       "      <td>0</td>\n",
       "      <td>0</td>\n",
       "      <td>0</td>\n",
       "      <td>0</td>\n",
       "      <td>0</td>\n",
       "      <td>0</td>\n",
       "      <td>0</td>\n",
       "      <td>0</td>\n",
       "      <td>0</td>\n",
       "      <td>0</td>\n",
       "      <td>0</td>\n",
       "      <td>0</td>\n",
       "      <td>0</td>\n",
       "      <td>0</td>\n",
       "      <td>0</td>\n",
       "      <td>0</td>\n",
       "      <td>0</td>\n",
       "      <td>0</td>\n",
       "      <td>0</td>\n",
       "      <td>0</td>\n",
       "      <td>0</td>\n",
       "      <td>0</td>\n",
       "      <td>0</td>\n",
       "      <td>0</td>\n",
       "      <td>0</td>\n",
       "      <td>0</td>\n",
       "      <td>0</td>\n",
       "      <td>0</td>\n",
       "      <td>0</td>\n",
       "      <td>0</td>\n",
       "      <td>0</td>\n",
       "      <td>0</td>\n",
       "      <td>0</td>\n",
       "      <td>0</td>\n",
       "      <td>0</td>\n",
       "      <td>0</td>\n",
       "      <td>0</td>\n",
       "      <td>very_bad</td>\n",
       "    </tr>\n",
       "    <tr>\n",
       "      <th>199663</th>\n",
       "      <td>13458</td>\n",
       "      <td>2012-09-27</td>\n",
       "      <td>[turn-based-strategy-tbs]</td>\n",
       "      <td>Might &amp; Magic Heroes VI: Danse Macabre</td>\n",
       "      <td>[win]</td>\n",
       "      <td>might-and-magic-heroes-vi-danse-macabre</td>\n",
       "      <td>[bird-view-slash-isometric]</td>\n",
       "      <td>[fantasy]</td>\n",
       "      <td>0</td>\n",
       "      <td>0</td>\n",
       "      <td>0</td>\n",
       "      <td>0</td>\n",
       "      <td>0</td>\n",
       "      <td>0</td>\n",
       "      <td>0</td>\n",
       "      <td>0</td>\n",
       "      <td>0</td>\n",
       "      <td>0</td>\n",
       "      <td>0</td>\n",
       "      <td>0</td>\n",
       "      <td>0</td>\n",
       "      <td>0</td>\n",
       "      <td>0</td>\n",
       "      <td>0</td>\n",
       "      <td>0</td>\n",
       "      <td>0</td>\n",
       "      <td>1</td>\n",
       "      <td>0</td>\n",
       "      <td>0</td>\n",
       "      <td>0</td>\n",
       "      <td>0</td>\n",
       "      <td>0</td>\n",
       "      <td>0</td>\n",
       "      <td>0</td>\n",
       "      <td>0</td>\n",
       "      <td>0</td>\n",
       "      <td>0</td>\n",
       "      <td>1</td>\n",
       "      <td>1</td>\n",
       "      <td>0</td>\n",
       "      <td>0</td>\n",
       "      <td>0</td>\n",
       "      <td>0</td>\n",
       "      <td>0</td>\n",
       "      <td>0</td>\n",
       "      <td>0</td>\n",
       "      <td>0</td>\n",
       "      <td>0</td>\n",
       "      <td>0</td>\n",
       "      <td>0</td>\n",
       "      <td>0</td>\n",
       "      <td>0</td>\n",
       "      <td>0</td>\n",
       "      <td>0</td>\n",
       "      <td>0</td>\n",
       "      <td>0</td>\n",
       "      <td>0</td>\n",
       "      <td>0</td>\n",
       "      <td>0</td>\n",
       "      <td>0</td>\n",
       "      <td>0</td>\n",
       "      <td>0</td>\n",
       "      <td>0</td>\n",
       "      <td>0</td>\n",
       "      <td>0</td>\n",
       "      <td>0</td>\n",
       "      <td>0</td>\n",
       "      <td>0</td>\n",
       "      <td>0</td>\n",
       "      <td>0</td>\n",
       "      <td>0</td>\n",
       "      <td>0</td>\n",
       "      <td>0</td>\n",
       "      <td>0</td>\n",
       "      <td>0</td>\n",
       "      <td>0</td>\n",
       "      <td>0</td>\n",
       "      <td>0</td>\n",
       "      <td>0</td>\n",
       "      <td>0</td>\n",
       "      <td>0</td>\n",
       "      <td>0</td>\n",
       "      <td>0</td>\n",
       "      <td>0</td>\n",
       "      <td>0</td>\n",
       "      <td>0</td>\n",
       "      <td>0</td>\n",
       "      <td>0</td>\n",
       "      <td>0</td>\n",
       "      <td>0</td>\n",
       "      <td>0</td>\n",
       "      <td>0</td>\n",
       "      <td>0</td>\n",
       "      <td>0</td>\n",
       "      <td>0</td>\n",
       "      <td>0</td>\n",
       "      <td>0</td>\n",
       "      <td>0</td>\n",
       "      <td>0</td>\n",
       "      <td>0</td>\n",
       "      <td>0</td>\n",
       "      <td>0</td>\n",
       "      <td>0</td>\n",
       "      <td>0</td>\n",
       "      <td>0</td>\n",
       "      <td>0</td>\n",
       "      <td>0</td>\n",
       "      <td>0</td>\n",
       "      <td>0</td>\n",
       "      <td>0</td>\n",
       "      <td>very_bad</td>\n",
       "    </tr>\n",
       "    <tr>\n",
       "      <th>20110</th>\n",
       "      <td>50572</td>\n",
       "      <td>NaT</td>\n",
       "      <td>[Not available]</td>\n",
       "      <td>Tengai Makyou II: Manjimaru</td>\n",
       "      <td>[Not available]</td>\n",
       "      <td>tengai-makyou-ii-manjimaru--2</td>\n",
       "      <td>[Not available]</td>\n",
       "      <td>[Not available]</td>\n",
       "      <td>0</td>\n",
       "      <td>0</td>\n",
       "      <td>0</td>\n",
       "      <td>0</td>\n",
       "      <td>0</td>\n",
       "      <td>0</td>\n",
       "      <td>0</td>\n",
       "      <td>0</td>\n",
       "      <td>0</td>\n",
       "      <td>0</td>\n",
       "      <td>0</td>\n",
       "      <td>0</td>\n",
       "      <td>0</td>\n",
       "      <td>0</td>\n",
       "      <td>0</td>\n",
       "      <td>0</td>\n",
       "      <td>0</td>\n",
       "      <td>0</td>\n",
       "      <td>0</td>\n",
       "      <td>0</td>\n",
       "      <td>0</td>\n",
       "      <td>0</td>\n",
       "      <td>0</td>\n",
       "      <td>0</td>\n",
       "      <td>0</td>\n",
       "      <td>0</td>\n",
       "      <td>0</td>\n",
       "      <td>0</td>\n",
       "      <td>0</td>\n",
       "      <td>0</td>\n",
       "      <td>0</td>\n",
       "      <td>0</td>\n",
       "      <td>0</td>\n",
       "      <td>0</td>\n",
       "      <td>0</td>\n",
       "      <td>0</td>\n",
       "      <td>0</td>\n",
       "      <td>0</td>\n",
       "      <td>0</td>\n",
       "      <td>0</td>\n",
       "      <td>0</td>\n",
       "      <td>0</td>\n",
       "      <td>0</td>\n",
       "      <td>0</td>\n",
       "      <td>0</td>\n",
       "      <td>0</td>\n",
       "      <td>0</td>\n",
       "      <td>0</td>\n",
       "      <td>0</td>\n",
       "      <td>0</td>\n",
       "      <td>0</td>\n",
       "      <td>0</td>\n",
       "      <td>0</td>\n",
       "      <td>0</td>\n",
       "      <td>0</td>\n",
       "      <td>0</td>\n",
       "      <td>0</td>\n",
       "      <td>0</td>\n",
       "      <td>0</td>\n",
       "      <td>0</td>\n",
       "      <td>0</td>\n",
       "      <td>0</td>\n",
       "      <td>0</td>\n",
       "      <td>0</td>\n",
       "      <td>0</td>\n",
       "      <td>0</td>\n",
       "      <td>0</td>\n",
       "      <td>0</td>\n",
       "      <td>0</td>\n",
       "      <td>0</td>\n",
       "      <td>0</td>\n",
       "      <td>0</td>\n",
       "      <td>0</td>\n",
       "      <td>0</td>\n",
       "      <td>0</td>\n",
       "      <td>0</td>\n",
       "      <td>0</td>\n",
       "      <td>0</td>\n",
       "      <td>0</td>\n",
       "      <td>0</td>\n",
       "      <td>0</td>\n",
       "      <td>0</td>\n",
       "      <td>0</td>\n",
       "      <td>0</td>\n",
       "      <td>0</td>\n",
       "      <td>0</td>\n",
       "      <td>0</td>\n",
       "      <td>0</td>\n",
       "      <td>0</td>\n",
       "      <td>0</td>\n",
       "      <td>0</td>\n",
       "      <td>0</td>\n",
       "      <td>0</td>\n",
       "      <td>0</td>\n",
       "      <td>0</td>\n",
       "      <td>0</td>\n",
       "      <td>0</td>\n",
       "      <td>0</td>\n",
       "      <td>0</td>\n",
       "      <td>0</td>\n",
       "      <td>0</td>\n",
       "      <td>0</td>\n",
       "      <td>bad</td>\n",
       "    </tr>\n",
       "    <tr>\n",
       "      <th>...</th>\n",
       "      <td>...</td>\n",
       "      <td>...</td>\n",
       "      <td>...</td>\n",
       "      <td>...</td>\n",
       "      <td>...</td>\n",
       "      <td>...</td>\n",
       "      <td>...</td>\n",
       "      <td>...</td>\n",
       "      <td>...</td>\n",
       "      <td>...</td>\n",
       "      <td>...</td>\n",
       "      <td>...</td>\n",
       "      <td>...</td>\n",
       "      <td>...</td>\n",
       "      <td>...</td>\n",
       "      <td>...</td>\n",
       "      <td>...</td>\n",
       "      <td>...</td>\n",
       "      <td>...</td>\n",
       "      <td>...</td>\n",
       "      <td>...</td>\n",
       "      <td>...</td>\n",
       "      <td>...</td>\n",
       "      <td>...</td>\n",
       "      <td>...</td>\n",
       "      <td>...</td>\n",
       "      <td>...</td>\n",
       "      <td>...</td>\n",
       "      <td>...</td>\n",
       "      <td>...</td>\n",
       "      <td>...</td>\n",
       "      <td>...</td>\n",
       "      <td>...</td>\n",
       "      <td>...</td>\n",
       "      <td>...</td>\n",
       "      <td>...</td>\n",
       "      <td>...</td>\n",
       "      <td>...</td>\n",
       "      <td>...</td>\n",
       "      <td>...</td>\n",
       "      <td>...</td>\n",
       "      <td>...</td>\n",
       "      <td>...</td>\n",
       "      <td>...</td>\n",
       "      <td>...</td>\n",
       "      <td>...</td>\n",
       "      <td>...</td>\n",
       "      <td>...</td>\n",
       "      <td>...</td>\n",
       "      <td>...</td>\n",
       "      <td>...</td>\n",
       "      <td>...</td>\n",
       "      <td>...</td>\n",
       "      <td>...</td>\n",
       "      <td>...</td>\n",
       "      <td>...</td>\n",
       "      <td>...</td>\n",
       "      <td>...</td>\n",
       "      <td>...</td>\n",
       "      <td>...</td>\n",
       "      <td>...</td>\n",
       "      <td>...</td>\n",
       "      <td>...</td>\n",
       "      <td>...</td>\n",
       "      <td>...</td>\n",
       "      <td>...</td>\n",
       "      <td>...</td>\n",
       "      <td>...</td>\n",
       "      <td>...</td>\n",
       "      <td>...</td>\n",
       "      <td>...</td>\n",
       "      <td>...</td>\n",
       "      <td>...</td>\n",
       "      <td>...</td>\n",
       "      <td>...</td>\n",
       "      <td>...</td>\n",
       "      <td>...</td>\n",
       "      <td>...</td>\n",
       "      <td>...</td>\n",
       "      <td>...</td>\n",
       "      <td>...</td>\n",
       "      <td>...</td>\n",
       "      <td>...</td>\n",
       "      <td>...</td>\n",
       "      <td>...</td>\n",
       "      <td>...</td>\n",
       "      <td>...</td>\n",
       "      <td>...</td>\n",
       "      <td>...</td>\n",
       "      <td>...</td>\n",
       "      <td>...</td>\n",
       "      <td>...</td>\n",
       "      <td>...</td>\n",
       "      <td>...</td>\n",
       "      <td>...</td>\n",
       "      <td>...</td>\n",
       "      <td>...</td>\n",
       "      <td>...</td>\n",
       "      <td>...</td>\n",
       "      <td>...</td>\n",
       "      <td>...</td>\n",
       "      <td>...</td>\n",
       "      <td>...</td>\n",
       "      <td>...</td>\n",
       "      <td>...</td>\n",
       "      <td>...</td>\n",
       "      <td>...</td>\n",
       "      <td>...</td>\n",
       "      <td>...</td>\n",
       "      <td>...</td>\n",
       "      <td>...</td>\n",
       "    </tr>\n",
       "    <tr>\n",
       "      <th>5017</th>\n",
       "      <td>15262</td>\n",
       "      <td>1991-12-31</td>\n",
       "      <td>[fighting]</td>\n",
       "      <td>Metal Masters</td>\n",
       "      <td>[amiga, gb, atari-st]</td>\n",
       "      <td>metal-masters</td>\n",
       "      <td>[side-view]</td>\n",
       "      <td>[Not available]</td>\n",
       "      <td>0</td>\n",
       "      <td>0</td>\n",
       "      <td>0</td>\n",
       "      <td>0</td>\n",
       "      <td>0</td>\n",
       "      <td>0</td>\n",
       "      <td>0</td>\n",
       "      <td>1</td>\n",
       "      <td>0</td>\n",
       "      <td>0</td>\n",
       "      <td>0</td>\n",
       "      <td>0</td>\n",
       "      <td>0</td>\n",
       "      <td>0</td>\n",
       "      <td>0</td>\n",
       "      <td>0</td>\n",
       "      <td>0</td>\n",
       "      <td>0</td>\n",
       "      <td>0</td>\n",
       "      <td>0</td>\n",
       "      <td>0</td>\n",
       "      <td>0</td>\n",
       "      <td>0</td>\n",
       "      <td>0</td>\n",
       "      <td>0</td>\n",
       "      <td>0</td>\n",
       "      <td>0</td>\n",
       "      <td>0</td>\n",
       "      <td>0</td>\n",
       "      <td>0</td>\n",
       "      <td>0</td>\n",
       "      <td>0</td>\n",
       "      <td>0</td>\n",
       "      <td>0</td>\n",
       "      <td>0</td>\n",
       "      <td>0</td>\n",
       "      <td>0</td>\n",
       "      <td>0</td>\n",
       "      <td>0</td>\n",
       "      <td>0</td>\n",
       "      <td>0</td>\n",
       "      <td>0</td>\n",
       "      <td>0</td>\n",
       "      <td>0</td>\n",
       "      <td>0</td>\n",
       "      <td>0</td>\n",
       "      <td>0</td>\n",
       "      <td>0</td>\n",
       "      <td>0</td>\n",
       "      <td>0</td>\n",
       "      <td>0</td>\n",
       "      <td>0</td>\n",
       "      <td>0</td>\n",
       "      <td>0</td>\n",
       "      <td>0</td>\n",
       "      <td>0</td>\n",
       "      <td>0</td>\n",
       "      <td>0</td>\n",
       "      <td>0</td>\n",
       "      <td>0</td>\n",
       "      <td>0</td>\n",
       "      <td>0</td>\n",
       "      <td>0</td>\n",
       "      <td>0</td>\n",
       "      <td>0</td>\n",
       "      <td>0</td>\n",
       "      <td>0</td>\n",
       "      <td>0</td>\n",
       "      <td>0</td>\n",
       "      <td>0</td>\n",
       "      <td>0</td>\n",
       "      <td>0</td>\n",
       "      <td>0</td>\n",
       "      <td>0</td>\n",
       "      <td>0</td>\n",
       "      <td>0</td>\n",
       "      <td>0</td>\n",
       "      <td>0</td>\n",
       "      <td>0</td>\n",
       "      <td>0</td>\n",
       "      <td>0</td>\n",
       "      <td>0</td>\n",
       "      <td>0</td>\n",
       "      <td>0</td>\n",
       "      <td>0</td>\n",
       "      <td>0</td>\n",
       "      <td>0</td>\n",
       "      <td>0</td>\n",
       "      <td>0</td>\n",
       "      <td>0</td>\n",
       "      <td>0</td>\n",
       "      <td>0</td>\n",
       "      <td>0</td>\n",
       "      <td>0</td>\n",
       "      <td>0</td>\n",
       "      <td>0</td>\n",
       "      <td>0</td>\n",
       "      <td>0</td>\n",
       "      <td>0</td>\n",
       "      <td>0</td>\n",
       "      <td>0</td>\n",
       "      <td>0</td>\n",
       "      <td>bad</td>\n",
       "    </tr>\n",
       "    <tr>\n",
       "      <th>49770</th>\n",
       "      <td>87285</td>\n",
       "      <td>2011-08-17</td>\n",
       "      <td>[Not available]</td>\n",
       "      <td>Backgammon Masters</td>\n",
       "      <td>[ios]</td>\n",
       "      <td>backgammon-masters</td>\n",
       "      <td>[Not available]</td>\n",
       "      <td>[Not available]</td>\n",
       "      <td>0</td>\n",
       "      <td>0</td>\n",
       "      <td>0</td>\n",
       "      <td>0</td>\n",
       "      <td>0</td>\n",
       "      <td>0</td>\n",
       "      <td>0</td>\n",
       "      <td>0</td>\n",
       "      <td>0</td>\n",
       "      <td>0</td>\n",
       "      <td>0</td>\n",
       "      <td>0</td>\n",
       "      <td>0</td>\n",
       "      <td>0</td>\n",
       "      <td>0</td>\n",
       "      <td>0</td>\n",
       "      <td>0</td>\n",
       "      <td>0</td>\n",
       "      <td>0</td>\n",
       "      <td>0</td>\n",
       "      <td>0</td>\n",
       "      <td>0</td>\n",
       "      <td>0</td>\n",
       "      <td>0</td>\n",
       "      <td>0</td>\n",
       "      <td>0</td>\n",
       "      <td>0</td>\n",
       "      <td>0</td>\n",
       "      <td>0</td>\n",
       "      <td>0</td>\n",
       "      <td>0</td>\n",
       "      <td>0</td>\n",
       "      <td>0</td>\n",
       "      <td>0</td>\n",
       "      <td>0</td>\n",
       "      <td>0</td>\n",
       "      <td>0</td>\n",
       "      <td>0</td>\n",
       "      <td>0</td>\n",
       "      <td>0</td>\n",
       "      <td>0</td>\n",
       "      <td>0</td>\n",
       "      <td>0</td>\n",
       "      <td>0</td>\n",
       "      <td>0</td>\n",
       "      <td>0</td>\n",
       "      <td>0</td>\n",
       "      <td>0</td>\n",
       "      <td>0</td>\n",
       "      <td>0</td>\n",
       "      <td>0</td>\n",
       "      <td>0</td>\n",
       "      <td>0</td>\n",
       "      <td>0</td>\n",
       "      <td>0</td>\n",
       "      <td>0</td>\n",
       "      <td>0</td>\n",
       "      <td>0</td>\n",
       "      <td>0</td>\n",
       "      <td>0</td>\n",
       "      <td>0</td>\n",
       "      <td>0</td>\n",
       "      <td>0</td>\n",
       "      <td>0</td>\n",
       "      <td>0</td>\n",
       "      <td>0</td>\n",
       "      <td>0</td>\n",
       "      <td>0</td>\n",
       "      <td>0</td>\n",
       "      <td>0</td>\n",
       "      <td>0</td>\n",
       "      <td>0</td>\n",
       "      <td>0</td>\n",
       "      <td>0</td>\n",
       "      <td>0</td>\n",
       "      <td>0</td>\n",
       "      <td>0</td>\n",
       "      <td>0</td>\n",
       "      <td>0</td>\n",
       "      <td>0</td>\n",
       "      <td>0</td>\n",
       "      <td>0</td>\n",
       "      <td>0</td>\n",
       "      <td>0</td>\n",
       "      <td>0</td>\n",
       "      <td>0</td>\n",
       "      <td>0</td>\n",
       "      <td>0</td>\n",
       "      <td>0</td>\n",
       "      <td>0</td>\n",
       "      <td>0</td>\n",
       "      <td>0</td>\n",
       "      <td>0</td>\n",
       "      <td>0</td>\n",
       "      <td>0</td>\n",
       "      <td>0</td>\n",
       "      <td>0</td>\n",
       "      <td>0</td>\n",
       "      <td>0</td>\n",
       "      <td>0</td>\n",
       "      <td>0</td>\n",
       "      <td>0</td>\n",
       "      <td>very_bad</td>\n",
       "    </tr>\n",
       "    <tr>\n",
       "      <th>105304</th>\n",
       "      <td>8140</td>\n",
       "      <td>2001-06-01</td>\n",
       "      <td>[turn-based-strategy-tbs]</td>\n",
       "      <td>Heroes Chronicles: The Sword of Frost</td>\n",
       "      <td>[win]</td>\n",
       "      <td>heroes-chronicles-the-sword-of-frost</td>\n",
       "      <td>[bird-view-slash-isometric]</td>\n",
       "      <td>[fantasy]</td>\n",
       "      <td>0</td>\n",
       "      <td>0</td>\n",
       "      <td>0</td>\n",
       "      <td>0</td>\n",
       "      <td>0</td>\n",
       "      <td>0</td>\n",
       "      <td>0</td>\n",
       "      <td>0</td>\n",
       "      <td>0</td>\n",
       "      <td>0</td>\n",
       "      <td>0</td>\n",
       "      <td>0</td>\n",
       "      <td>0</td>\n",
       "      <td>0</td>\n",
       "      <td>0</td>\n",
       "      <td>0</td>\n",
       "      <td>0</td>\n",
       "      <td>0</td>\n",
       "      <td>1</td>\n",
       "      <td>0</td>\n",
       "      <td>0</td>\n",
       "      <td>0</td>\n",
       "      <td>0</td>\n",
       "      <td>0</td>\n",
       "      <td>0</td>\n",
       "      <td>0</td>\n",
       "      <td>0</td>\n",
       "      <td>0</td>\n",
       "      <td>0</td>\n",
       "      <td>1</td>\n",
       "      <td>0</td>\n",
       "      <td>0</td>\n",
       "      <td>0</td>\n",
       "      <td>0</td>\n",
       "      <td>0</td>\n",
       "      <td>0</td>\n",
       "      <td>0</td>\n",
       "      <td>0</td>\n",
       "      <td>0</td>\n",
       "      <td>0</td>\n",
       "      <td>0</td>\n",
       "      <td>0</td>\n",
       "      <td>0</td>\n",
       "      <td>0</td>\n",
       "      <td>0</td>\n",
       "      <td>0</td>\n",
       "      <td>0</td>\n",
       "      <td>0</td>\n",
       "      <td>0</td>\n",
       "      <td>0</td>\n",
       "      <td>0</td>\n",
       "      <td>0</td>\n",
       "      <td>0</td>\n",
       "      <td>0</td>\n",
       "      <td>0</td>\n",
       "      <td>0</td>\n",
       "      <td>0</td>\n",
       "      <td>0</td>\n",
       "      <td>0</td>\n",
       "      <td>0</td>\n",
       "      <td>0</td>\n",
       "      <td>0</td>\n",
       "      <td>0</td>\n",
       "      <td>0</td>\n",
       "      <td>0</td>\n",
       "      <td>0</td>\n",
       "      <td>0</td>\n",
       "      <td>0</td>\n",
       "      <td>0</td>\n",
       "      <td>0</td>\n",
       "      <td>0</td>\n",
       "      <td>0</td>\n",
       "      <td>0</td>\n",
       "      <td>0</td>\n",
       "      <td>0</td>\n",
       "      <td>0</td>\n",
       "      <td>0</td>\n",
       "      <td>0</td>\n",
       "      <td>0</td>\n",
       "      <td>0</td>\n",
       "      <td>0</td>\n",
       "      <td>0</td>\n",
       "      <td>0</td>\n",
       "      <td>0</td>\n",
       "      <td>0</td>\n",
       "      <td>0</td>\n",
       "      <td>0</td>\n",
       "      <td>0</td>\n",
       "      <td>0</td>\n",
       "      <td>0</td>\n",
       "      <td>0</td>\n",
       "      <td>0</td>\n",
       "      <td>0</td>\n",
       "      <td>0</td>\n",
       "      <td>0</td>\n",
       "      <td>0</td>\n",
       "      <td>0</td>\n",
       "      <td>0</td>\n",
       "      <td>0</td>\n",
       "      <td>0</td>\n",
       "      <td>0</td>\n",
       "      <td>0</td>\n",
       "      <td>bad</td>\n",
       "    </tr>\n",
       "    <tr>\n",
       "      <th>55812</th>\n",
       "      <td>36395</td>\n",
       "      <td>2014-11-18</td>\n",
       "      <td>[simulator]</td>\n",
       "      <td>Ski-World Simulator</td>\n",
       "      <td>[win]</td>\n",
       "      <td>ski-world-simulator</td>\n",
       "      <td>[Not available]</td>\n",
       "      <td>[Not available]</td>\n",
       "      <td>0</td>\n",
       "      <td>0</td>\n",
       "      <td>0</td>\n",
       "      <td>0</td>\n",
       "      <td>0</td>\n",
       "      <td>0</td>\n",
       "      <td>0</td>\n",
       "      <td>0</td>\n",
       "      <td>0</td>\n",
       "      <td>0</td>\n",
       "      <td>0</td>\n",
       "      <td>0</td>\n",
       "      <td>0</td>\n",
       "      <td>0</td>\n",
       "      <td>0</td>\n",
       "      <td>1</td>\n",
       "      <td>0</td>\n",
       "      <td>0</td>\n",
       "      <td>0</td>\n",
       "      <td>0</td>\n",
       "      <td>0</td>\n",
       "      <td>0</td>\n",
       "      <td>0</td>\n",
       "      <td>0</td>\n",
       "      <td>0</td>\n",
       "      <td>0</td>\n",
       "      <td>0</td>\n",
       "      <td>0</td>\n",
       "      <td>0</td>\n",
       "      <td>1</td>\n",
       "      <td>1</td>\n",
       "      <td>0</td>\n",
       "      <td>0</td>\n",
       "      <td>0</td>\n",
       "      <td>0</td>\n",
       "      <td>0</td>\n",
       "      <td>0</td>\n",
       "      <td>0</td>\n",
       "      <td>0</td>\n",
       "      <td>0</td>\n",
       "      <td>0</td>\n",
       "      <td>0</td>\n",
       "      <td>0</td>\n",
       "      <td>0</td>\n",
       "      <td>0</td>\n",
       "      <td>0</td>\n",
       "      <td>0</td>\n",
       "      <td>0</td>\n",
       "      <td>0</td>\n",
       "      <td>0</td>\n",
       "      <td>0</td>\n",
       "      <td>0</td>\n",
       "      <td>0</td>\n",
       "      <td>0</td>\n",
       "      <td>0</td>\n",
       "      <td>0</td>\n",
       "      <td>0</td>\n",
       "      <td>0</td>\n",
       "      <td>0</td>\n",
       "      <td>0</td>\n",
       "      <td>0</td>\n",
       "      <td>0</td>\n",
       "      <td>0</td>\n",
       "      <td>0</td>\n",
       "      <td>0</td>\n",
       "      <td>0</td>\n",
       "      <td>0</td>\n",
       "      <td>0</td>\n",
       "      <td>0</td>\n",
       "      <td>0</td>\n",
       "      <td>0</td>\n",
       "      <td>0</td>\n",
       "      <td>0</td>\n",
       "      <td>0</td>\n",
       "      <td>0</td>\n",
       "      <td>0</td>\n",
       "      <td>0</td>\n",
       "      <td>0</td>\n",
       "      <td>0</td>\n",
       "      <td>0</td>\n",
       "      <td>0</td>\n",
       "      <td>0</td>\n",
       "      <td>0</td>\n",
       "      <td>0</td>\n",
       "      <td>0</td>\n",
       "      <td>0</td>\n",
       "      <td>0</td>\n",
       "      <td>0</td>\n",
       "      <td>0</td>\n",
       "      <td>0</td>\n",
       "      <td>0</td>\n",
       "      <td>0</td>\n",
       "      <td>0</td>\n",
       "      <td>0</td>\n",
       "      <td>0</td>\n",
       "      <td>0</td>\n",
       "      <td>0</td>\n",
       "      <td>0</td>\n",
       "      <td>0</td>\n",
       "      <td>0</td>\n",
       "      <td>0</td>\n",
       "      <td>0</td>\n",
       "      <td>bad</td>\n",
       "    </tr>\n",
       "    <tr>\n",
       "      <th>88667</th>\n",
       "      <td>10058</td>\n",
       "      <td>2014-09-05</td>\n",
       "      <td>[point-and-click]</td>\n",
       "      <td>Black Viper: Sophia's Fate</td>\n",
       "      <td>[win]</td>\n",
       "      <td>black-viper-sophias-fate</td>\n",
       "      <td>[first-person]</td>\n",
       "      <td>[Not available]</td>\n",
       "      <td>0</td>\n",
       "      <td>0</td>\n",
       "      <td>0</td>\n",
       "      <td>0</td>\n",
       "      <td>0</td>\n",
       "      <td>0</td>\n",
       "      <td>1</td>\n",
       "      <td>0</td>\n",
       "      <td>0</td>\n",
       "      <td>0</td>\n",
       "      <td>0</td>\n",
       "      <td>0</td>\n",
       "      <td>0</td>\n",
       "      <td>0</td>\n",
       "      <td>0</td>\n",
       "      <td>0</td>\n",
       "      <td>0</td>\n",
       "      <td>0</td>\n",
       "      <td>0</td>\n",
       "      <td>0</td>\n",
       "      <td>0</td>\n",
       "      <td>0</td>\n",
       "      <td>0</td>\n",
       "      <td>0</td>\n",
       "      <td>0</td>\n",
       "      <td>0</td>\n",
       "      <td>0</td>\n",
       "      <td>0</td>\n",
       "      <td>0</td>\n",
       "      <td>1</td>\n",
       "      <td>0</td>\n",
       "      <td>0</td>\n",
       "      <td>0</td>\n",
       "      <td>0</td>\n",
       "      <td>0</td>\n",
       "      <td>0</td>\n",
       "      <td>0</td>\n",
       "      <td>0</td>\n",
       "      <td>0</td>\n",
       "      <td>0</td>\n",
       "      <td>0</td>\n",
       "      <td>0</td>\n",
       "      <td>0</td>\n",
       "      <td>0</td>\n",
       "      <td>0</td>\n",
       "      <td>0</td>\n",
       "      <td>0</td>\n",
       "      <td>0</td>\n",
       "      <td>0</td>\n",
       "      <td>0</td>\n",
       "      <td>0</td>\n",
       "      <td>0</td>\n",
       "      <td>0</td>\n",
       "      <td>0</td>\n",
       "      <td>0</td>\n",
       "      <td>0</td>\n",
       "      <td>0</td>\n",
       "      <td>0</td>\n",
       "      <td>0</td>\n",
       "      <td>0</td>\n",
       "      <td>0</td>\n",
       "      <td>0</td>\n",
       "      <td>0</td>\n",
       "      <td>0</td>\n",
       "      <td>0</td>\n",
       "      <td>0</td>\n",
       "      <td>0</td>\n",
       "      <td>0</td>\n",
       "      <td>0</td>\n",
       "      <td>0</td>\n",
       "      <td>0</td>\n",
       "      <td>0</td>\n",
       "      <td>0</td>\n",
       "      <td>0</td>\n",
       "      <td>0</td>\n",
       "      <td>0</td>\n",
       "      <td>0</td>\n",
       "      <td>0</td>\n",
       "      <td>0</td>\n",
       "      <td>0</td>\n",
       "      <td>0</td>\n",
       "      <td>0</td>\n",
       "      <td>0</td>\n",
       "      <td>0</td>\n",
       "      <td>0</td>\n",
       "      <td>0</td>\n",
       "      <td>0</td>\n",
       "      <td>0</td>\n",
       "      <td>0</td>\n",
       "      <td>0</td>\n",
       "      <td>0</td>\n",
       "      <td>0</td>\n",
       "      <td>0</td>\n",
       "      <td>0</td>\n",
       "      <td>0</td>\n",
       "      <td>0</td>\n",
       "      <td>0</td>\n",
       "      <td>0</td>\n",
       "      <td>0</td>\n",
       "      <td>0</td>\n",
       "      <td>0</td>\n",
       "      <td>0</td>\n",
       "      <td>bad</td>\n",
       "    </tr>\n",
       "  </tbody>\n",
       "</table>\n",
       "<p>308 rows × 111 columns</p>\n",
       "</div>"
      ],
      "text/plain": [
       "            id first_release_date                         genres  \\\n",
       "127219  126859         2020-02-29  [role-playing-rpg, adventure]   \n",
       "78534   101613         2018-05-25                [Not available]   \n",
       "183290    8534         1994-06-05                    [adventure]   \n",
       "199663   13458         2012-09-27      [turn-based-strategy-tbs]   \n",
       "20110    50572                NaT                [Not available]   \n",
       "...        ...                ...                            ...   \n",
       "5017     15262         1991-12-31                     [fighting]   \n",
       "49770    87285         2011-08-17                [Not available]   \n",
       "105304    8140         2001-06-01      [turn-based-strategy-tbs]   \n",
       "55812    36395         2014-11-18                    [simulator]   \n",
       "88667    10058         2014-09-05              [point-and-click]   \n",
       "\n",
       "                                          name              platforms  \\\n",
       "127219          Knights of Light: The Prologue                  [win]   \n",
       "78534                                 Vietcong                  [win]   \n",
       "183290                       Zelda's Adventure    [fds, philips-cd-i]   \n",
       "199663  Might & Magic Heroes VI: Danse Macabre                  [win]   \n",
       "20110              Tengai Makyou II: Manjimaru        [Not available]   \n",
       "...                                        ...                    ...   \n",
       "5017                             Metal Masters  [amiga, gb, atari-st]   \n",
       "49770                       Backgammon Masters                  [ios]   \n",
       "105304   Heroes Chronicles: The Sword of Frost                  [win]   \n",
       "55812                      Ski-World Simulator                  [win]   \n",
       "88667               Black Viper: Sophia's Fate                  [win]   \n",
       "\n",
       "                                           slug          player_perspectives  \\\n",
       "127219            knights-of-light-the-prologue              [Not available]   \n",
       "78534                               vietcong--1              [Not available]   \n",
       "183290                         zeldas-adventure  [bird-view-slash-isometric]   \n",
       "199663  might-and-magic-heroes-vi-danse-macabre  [bird-view-slash-isometric]   \n",
       "20110             tengai-makyou-ii-manjimaru--2              [Not available]   \n",
       "...                                         ...                          ...   \n",
       "5017                              metal-masters                  [side-view]   \n",
       "49770                        backgammon-masters              [Not available]   \n",
       "105304     heroes-chronicles-the-sword-of-frost  [bird-view-slash-isometric]   \n",
       "55812                       ski-world-simulator              [Not available]   \n",
       "88667                  black-viper-sophias-fate               [first-person]   \n",
       "\n",
       "                   themes  campaigncoop  dropin  lancoop  offlinecoop  \\\n",
       "127219           [action]             0       0        0            0   \n",
       "78534            [action]             0       0        0            0   \n",
       "183290  [action, fantasy]             0       0        0            0   \n",
       "199663          [fantasy]             0       0        0            0   \n",
       "20110     [Not available]             0       0        0            0   \n",
       "...                   ...           ...     ...      ...          ...   \n",
       "5017      [Not available]             0       0        0            0   \n",
       "49770     [Not available]             0       0        0            0   \n",
       "105304          [fantasy]             0       0        0            0   \n",
       "55812     [Not available]             0       0        0            0   \n",
       "88667     [Not available]             0       0        0            0   \n",
       "\n",
       "        onlinecoop  splitscreen  point-and-click  fighting  shooter  music  \\\n",
       "127219           0            0                0         0        0      0   \n",
       "78534            0            0                0         0        0      0   \n",
       "183290           0            0                0         0        0      0   \n",
       "199663           0            0                0         0        0      0   \n",
       "20110            0            0                0         0        0      0   \n",
       "...            ...          ...              ...       ...      ...    ...   \n",
       "5017             0            0                0         1        0      0   \n",
       "49770            0            0                0         0        0      0   \n",
       "105304           0            0                0         0        0      0   \n",
       "55812            0            0                0         0        0      0   \n",
       "88667            0            0                1         0        0      0   \n",
       "\n",
       "        platform  puzzle  racing  real-time-strategy-rts  role-playing-rpg  \\\n",
       "127219         0       0       0                       0                 1   \n",
       "78534          0       0       0                       0                 0   \n",
       "183290         0       0       0                       0                 0   \n",
       "199663         0       0       0                       0                 0   \n",
       "20110          0       0       0                       0                 0   \n",
       "...          ...     ...     ...                     ...               ...   \n",
       "5017           0       0       0                       0                 0   \n",
       "49770          0       0       0                       0                 0   \n",
       "105304         0       0       0                       0                 0   \n",
       "55812          0       0       0                       0                 0   \n",
       "88667          0       0       0                       0                 0   \n",
       "\n",
       "        simulator  sport  strategy  turn-based-strategy-tbs  tactical  \\\n",
       "127219          0      0         0                        0         0   \n",
       "78534           0      0         0                        0         0   \n",
       "183290          0      0         0                        0         0   \n",
       "199663          0      0         0                        1         0   \n",
       "20110           0      0         0                        0         0   \n",
       "...           ...    ...       ...                      ...       ...   \n",
       "5017            0      0         0                        0         0   \n",
       "49770           0      0         0                        0         0   \n",
       "105304          0      0         0                        1         0   \n",
       "55812           1      0         0                        0         0   \n",
       "88667           0      0         0                        0         0   \n",
       "\n",
       "        hack-and-slash-beat-em-up  quiz-trivia  pinball  adventure  indie  \\\n",
       "127219                          0            0        0          1      0   \n",
       "78534                           0            0        0          0      0   \n",
       "183290                          0            0        0          1      0   \n",
       "199663                          0            0        0          0      0   \n",
       "20110                           0            0        0          0      0   \n",
       "...                           ...          ...      ...        ...    ...   \n",
       "5017                            0            0        0          0      0   \n",
       "49770                           0            0        0          0      0   \n",
       "105304                          0            0        0          0      0   \n",
       "55812                           0            0        0          0      0   \n",
       "88667                           0            0        0          0      0   \n",
       "\n",
       "        arcade  visual-novel  card-and-board-game  moba  single-player  \\\n",
       "127219       0             0                    0     0              1   \n",
       "78534        0             0                    0     0              1   \n",
       "183290       0             0                    0     0              1   \n",
       "199663       0             0                    0     0              1   \n",
       "20110        0             0                    0     0              0   \n",
       "...        ...           ...                  ...   ...            ...   \n",
       "5017         0             0                    0     0              0   \n",
       "49770        0             0                    0     0              0   \n",
       "105304       0             0                    0     0              1   \n",
       "55812        0             0                    0     0              1   \n",
       "88667        0             0                    0     0              1   \n",
       "\n",
       "        multiplayer  co-operative  split-screen  \\\n",
       "127219            0             0             0   \n",
       "78534             0             0             0   \n",
       "183290            0             0             0   \n",
       "199663            1             0             0   \n",
       "20110             0             0             0   \n",
       "...             ...           ...           ...   \n",
       "5017              0             0             0   \n",
       "49770             0             0             0   \n",
       "105304            0             0             0   \n",
       "55812             1             0             0   \n",
       "88667             0             0             0   \n",
       "\n",
       "        massively-multiplayer-online-mmo  battle-royale  First person  \\\n",
       "127219                                 0              0             0   \n",
       "78534                                  0              0             0   \n",
       "183290                                 0              0             0   \n",
       "199663                                 0              0             0   \n",
       "20110                                  0              0             0   \n",
       "...                                  ...            ...           ...   \n",
       "5017                                   0              0             0   \n",
       "49770                                  0              0             0   \n",
       "105304                                 0              0             0   \n",
       "55812                                  0              0             0   \n",
       "88667                                  0              0             0   \n",
       "\n",
       "        Third person  Bird view-Isometric  Text  Side view  Virtual Reality  \\\n",
       "127219             0                    0     0          0                0   \n",
       "78534              0                    0     0          0                0   \n",
       "183290             0                    0     0          0                0   \n",
       "199663             0                    0     0          0                0   \n",
       "20110              0                    0     0          0                0   \n",
       "...              ...                  ...   ...        ...              ...   \n",
       "5017               0                    0     0          0                0   \n",
       "49770              0                    0     0          0                0   \n",
       "105304             0                    0     0          0                0   \n",
       "55812              0                    0     0          0                0   \n",
       "88667              0                    0     0          0                0   \n",
       "\n",
       "        AuditoryDrama  thriller  Science-Fiction  Action  horror  survival  \\\n",
       "127219              0         0                0       0       0         0   \n",
       "78534               0         0                0       0       0         0   \n",
       "183290              0         0                0       0       0         0   \n",
       "199663              0         0                0       0       0         0   \n",
       "20110               0         0                0       0       0         0   \n",
       "...               ...       ...              ...     ...     ...       ...   \n",
       "5017                0         0                0       0       0         0   \n",
       "49770               0         0                0       0       0         0   \n",
       "105304              0         0                0       0       0         0   \n",
       "55812               0         0                0       0       0         0   \n",
       "88667               0         0                0       0       0         0   \n",
       "\n",
       "        Fantasy  historical  stealth  comedy  business  drama  non-fiction  \\\n",
       "127219        0           0        0       0         0      0            0   \n",
       "78534         0           0        0       0         0      0            0   \n",
       "183290        0           0        0       0         0      0            0   \n",
       "199663        0           0        0       0         0      0            0   \n",
       "20110         0           0        0       0         0      0            0   \n",
       "...         ...         ...      ...     ...       ...    ...          ...   \n",
       "5017          0           0        0       0         0      0            0   \n",
       "49770         0           0        0       0         0      0            0   \n",
       "105304        0           0        0       0         0      0            0   \n",
       "55812         0           0        0       0         0      0            0   \n",
       "88667         0           0        0       0         0      0            0   \n",
       "\n",
       "        kids  sandbox  Open-World  warfare  \\\n",
       "127219     0        0           0        0   \n",
       "78534      0        0           0        0   \n",
       "183290     0        0           0        0   \n",
       "199663     0        0           0        0   \n",
       "20110      0        0           0        0   \n",
       "...      ...      ...         ...      ...   \n",
       "5017       0        0           0        0   \n",
       "49770      0        0           0        0   \n",
       "105304     0        0           0        0   \n",
       "55812      0        0           0        0   \n",
       "88667      0        0           0        0   \n",
       "\n",
       "        4x-explore-expand-exploit-and-exterminate  educational  mystery  \\\n",
       "127219                                          0            0        0   \n",
       "78534                                           0            0        0   \n",
       "183290                                          0            0        0   \n",
       "199663                                          0            0        0   \n",
       "20110                                           0            0        0   \n",
       "...                                           ...          ...      ...   \n",
       "5017                                            0            0        0   \n",
       "49770                                           0            0        0   \n",
       "105304                                          0            0        0   \n",
       "55812                                           0            0        0   \n",
       "88667                                           0            0        0   \n",
       "\n",
       "        party  romance  erotic  Linux  Nintendo 64  Wii  \\\n",
       "127219      0        0       0      0            0    0   \n",
       "78534       0        0       0      0            0    0   \n",
       "183290      0        0       0      0            0    0   \n",
       "199663      0        0       0      0            0    0   \n",
       "20110       0        0       0      0            0    0   \n",
       "...       ...      ...     ...    ...          ...  ...   \n",
       "5017        0        0       0      0            0    0   \n",
       "49770       0        0       0      0            0    0   \n",
       "105304      0        0       0      0            0    0   \n",
       "55812       0        0       0      0            0    0   \n",
       "88667       0        0       0      0            0    0   \n",
       "\n",
       "        PC (Microsoft Windows)  PlayStation  PlayStation 2  PlayStation 3  \\\n",
       "127219                       0            0              0              0   \n",
       "78534                        0            0              0              0   \n",
       "183290                       0            0              0              0   \n",
       "199663                       0            0              0              0   \n",
       "20110                        0            0              0              0   \n",
       "...                        ...          ...            ...            ...   \n",
       "5017                         0            0              0              0   \n",
       "49770                        0            0              0              0   \n",
       "105304                       0            0              0              0   \n",
       "55812                        0            0              0              0   \n",
       "88667                        0            0              0              0   \n",
       "\n",
       "        Xbox  Xbox 360  DOS  Mac  Nintendo Entertainment System  \\\n",
       "127219     0         0    0    0                              0   \n",
       "78534      0         0    0    0                              0   \n",
       "183290     0         0    0    0                              0   \n",
       "199663     0         0    0    0                              0   \n",
       "20110      0         0    0    0                              0   \n",
       "...      ...       ...  ...  ...                            ...   \n",
       "5017       0         0    0    0                              0   \n",
       "49770      0         0    0    0                              0   \n",
       "105304     0         0    0    0                              0   \n",
       "55812      0         0    0    0                              0   \n",
       "88667      0         0    0    0                              0   \n",
       "\n",
       "        Super Nintendo Entertainment System  Nintendo DS  Nintendo GameCube  \\\n",
       "127219                                    0            0                  0   \n",
       "78534                                     0            0                  0   \n",
       "183290                                    0            0                  0   \n",
       "199663                                    0            0                  0   \n",
       "20110                                     0            0                  0   \n",
       "...                                     ...          ...                ...   \n",
       "5017                                      0            0                  0   \n",
       "49770                                     0            0                  0   \n",
       "105304                                    0            0                  0   \n",
       "55812                                     0            0                  0   \n",
       "88667                                     0            0                  0   \n",
       "\n",
       "        Game Boy Color  Game Boy Advance  Sega Mega Drive/Genesis  \\\n",
       "127219               0                 0                        0   \n",
       "78534                0                 0                        0   \n",
       "183290               0                 0                        0   \n",
       "199663               0                 0                        0   \n",
       "20110                0                 0                        0   \n",
       "...                ...               ...                      ...   \n",
       "5017                 0                 0                        0   \n",
       "49770                0                 0                        0   \n",
       "105304               0                 0                        0   \n",
       "55812                0                 0                        0   \n",
       "88667                0                 0                        0   \n",
       "\n",
       "        Sega Saturn  Game Boy  Android  Nintendo 3DS  PlayStatio n Portable  \\\n",
       "127219            0         0        0             0                      0   \n",
       "78534             0         0        0             0                      0   \n",
       "183290            0         0        0             0                      0   \n",
       "199663            0         0        0             0                      0   \n",
       "20110             0         0        0             0                      0   \n",
       "...             ...       ...      ...           ...                    ...   \n",
       "5017              0         0        0             0                      0   \n",
       "49770             0         0        0             0                      0   \n",
       "105304            0         0        0             0                      0   \n",
       "55812             0         0        0             0                      0   \n",
       "88667             0         0        0             0                      0   \n",
       "\n",
       "        iOS  Wii U  PlayStation Vita  Virtual Console (Nintendo)  \\\n",
       "127219    0      0                 0                           0   \n",
       "78534     0      0                 0                           0   \n",
       "183290    0      0                 0                           0   \n",
       "199663    0      0                 0                           0   \n",
       "20110     0      0                 0                           0   \n",
       "...     ...    ...               ...                         ...   \n",
       "5017      0      0                 0                           0   \n",
       "49770     0      0                 0                           0   \n",
       "105304    0      0                 0                           0   \n",
       "55812     0      0                 0                           0   \n",
       "88667     0      0                 0                           0   \n",
       "\n",
       "        PlayStation 4  Xbox One  Family Computer Disk System  Arcade  \\\n",
       "127219              0         0                            0       0   \n",
       "78534               0         0                            0       0   \n",
       "183290              0         0                            0       0   \n",
       "199663              0         0                            0       0   \n",
       "20110               0         0                            0       0   \n",
       "...               ...       ...                          ...     ...   \n",
       "5017                0         0                            0       0   \n",
       "49770               0         0                            0       0   \n",
       "105304              0         0                            0       0   \n",
       "55812               0         0                            0       0   \n",
       "88667               0         0                            0       0   \n",
       "\n",
       "        Windows Phone  Apple II  Web browser  Odyssey  Commodore 16  \\\n",
       "127219              0         0            0        0             0   \n",
       "78534               0         0            0        0             0   \n",
       "183290              0         0            0        0             0   \n",
       "199663              0         0            0        0             0   \n",
       "20110               0         0            0        0             0   \n",
       "...               ...       ...          ...      ...           ...   \n",
       "5017                0         0            0        0             0   \n",
       "49770               0         0            0        0             0   \n",
       "105304              0         0            0        0             0   \n",
       "55812               0         0            0        0             0   \n",
       "88667               0         0            0        0             0   \n",
       "\n",
       "        New Nintendo 3DS  has_dlcs rating_bin  \n",
       "127219                 0         0        bad  \n",
       "78534                  0         0        bad  \n",
       "183290                 0         0   very_bad  \n",
       "199663                 0         0   very_bad  \n",
       "20110                  0         0        bad  \n",
       "...                  ...       ...        ...  \n",
       "5017                   0         0        bad  \n",
       "49770                  0         0   very_bad  \n",
       "105304                 0         0        bad  \n",
       "55812                  0         0        bad  \n",
       "88667                  0         0        bad  \n",
       "\n",
       "[308 rows x 111 columns]"
      ]
     },
     "execution_count": 14,
     "metadata": {},
     "output_type": "execute_result"
    }
   ],
   "source": [
    "df_low3_rating = train[(train['rating_bin']== 'bad') | (train['rating_bin']== 'very_bad') | (train['rating_bin']== 'awful')]\n",
    "df_low3_rating"
   ]
  },
  {
   "cell_type": "code",
   "execution_count": 15,
   "id": "cf630964",
   "metadata": {},
   "outputs": [],
   "source": [
    "df_low3_rating = df_low3_rating.drop_duplicates(subset = \"id\")"
   ]
  },
  {
   "cell_type": "code",
   "execution_count": 18,
   "id": "4916b716",
   "metadata": {},
   "outputs": [
    {
     "data": {
      "text/plain": [
       "Text(0.5, 1.0, 'platforms')"
      ]
     },
     "execution_count": 18,
     "metadata": {},
     "output_type": "execute_result"
    },
    {
     "data": {
      "image/png": "[encoded data removed]",
      "text/plain": [
       "<Figure size 1008x288 with 1 Axes>"
      ]
     },
     "metadata": {
      "needs_background": "light"
     },
     "output_type": "display_data"
    }
   ],
   "source": [
    "fig, ax = plt.subplots(figsize = (14,4))\n",
    "ax.bar(to_1D(df_low3_rating[\"platforms\"]).value_counts().iloc[:4].index,\n",
    "        to_1D(df_low3_rating[\"platforms\"]).value_counts().iloc[:4].values)\n",
    "ax.set_ylabel(\"Frequency\", size = 12)\n",
    "ax.set_title(\"platforms\", size = 14)"
   ]
  },
  {
   "cell_type": "code",
   "execution_count": 17,
   "id": "8174a7a3",
   "metadata": {
    "scrolled": true
   },
   "outputs": [
    {
     "data": {
      "text/plain": [
       "[win]                                                 112\n",
       "[Not available]                                        80\n",
       "[linux, win, mac]                                      15\n",
       "[ps2, ngc]                                             10\n",
       "[ios]                                                  10\n",
       "[ngc]                                                   7\n",
       "[win, mac]                                              5\n",
       "[mac]                                                   4\n",
       "[3ds]                                                   3\n",
       "[linux, win]                                            3\n",
       "[nds]                                                   3\n",
       "[win, ps4--1, xboxone, switch, ps5, series-x]           2\n",
       "[win, android, ios]                                     2\n",
       "[win, ps3, xbox360]                                     2\n",
       "[gba]                                                   2\n",
       "[android, ios]                                          2\n",
       "[wii, win, ps2, ngc]                                    1\n",
       "[win, ps2, xbox, xbox360, ngc]                          1\n",
       "[linux, win, mac, xboxone, switch]                      1\n",
       "[win, switch]                                           1\n",
       "[win, ps3, psvita]                                      1\n",
       "[n64]                                                   1\n",
       "[linux, win, mac, switch]                               1\n",
       "[win, mac, android, ios]                                1\n",
       "[win, ps2, ngc, gba]                                    1\n",
       "[psp]                                                   1\n",
       "[nes, trs-80]                                           1\n",
       "[gb]                                                    1\n",
       "[wii, ps2, ngc]                                         1\n",
       "[arcade]                                                1\n",
       "[dos, mac]                                              1\n",
       "[wii, nes, fds, arcade, famicom]                        1\n",
       "[win, ps4--1, 3do, switch, ps5]                         1\n",
       "[wii, win, ps2, ps3, xbox360]                           1\n",
       "[dos, gb]                                               1\n",
       "[ps4--1]                                                1\n",
       "[dos, nes, snes, smd, gb]                               1\n",
       "[win, mac, gb, android, gamegear]                       1\n",
       "[nes]                                                   1\n",
       "[ps4--1, xboxone]                                       1\n",
       "[ps2, xbox, ngc, zod]                                   1\n",
       "[linux, win, mac, android, ios, ps4--1, xboxone]        1\n",
       "[win, ps, saturn]                                       1\n",
       "[linux, win, mac, ios]                                  1\n",
       "[wiiu]                                                  1\n",
       "[win, ps2, xbox, ngc, gba]                              1\n",
       "[win, xbox360]                                          1\n",
       "[ps2, xbox, ngc]                                        1\n",
       "[wii, c64, nes, msx, 3ds, wiiu, arcade, atari8bit]      1\n",
       "[xbox360]                                               1\n",
       "[linux, win, mac, xboxone]                              1\n",
       "[ps]                                                    1\n",
       "[win, ps4--1, xboxone]                                  1\n",
       "[ps3]                                                   1\n",
       "[fds, philips-cd-i]                                     1\n",
       "[win, ps4--1, xboxone, ps5, series-x, stadia]           1\n",
       "[dos, snes, smd]                                        1\n",
       "[win, mac, switch]                                      1\n",
       "[amiga, gb, atari-st]                                   1\n",
       "Name: platforms, dtype: int64"
      ]
     },
     "execution_count": 17,
     "metadata": {},
     "output_type": "execute_result"
    }
   ],
   "source": [
    "df_low3_rating.platforms.value_counts()"
   ]
  },
  {
   "cell_type": "markdown",
   "id": "6f1bd66a",
   "metadata": {},
   "source": [
    "---------"
   ]
  },
  {
   "cell_type": "markdown",
   "id": "17eea102",
   "metadata": {},
   "source": [
    "# Q2- what is the most common genre in games that are `subperb` (the highest rating)"
   ]
  },
  {
   "cell_type": "markdown",
   "id": "e773b478",
   "metadata": {},
   "source": [
    "- Answer- the most common Genre in the higest rating are adventure, role-playing- rpg, shoter, rts, racing "
   ]
  },
  {
   "cell_type": "code",
   "execution_count": 20,
   "id": "91718ea8",
   "metadata": {
    "scrolled": false
   },
   "outputs": [
    {
     "data": {
      "text/html": [
       "<div>\n",
       "<style scoped>\n",
       "    .dataframe tbody tr th:only-of-type {\n",
       "        vertical-align: middle;\n",
       "    }\n",
       "\n",
       "    .dataframe tbody tr th {\n",
       "        vertical-align: top;\n",
       "    }\n",
       "\n",
       "    .dataframe thead th {\n",
       "        text-align: right;\n",
       "    }\n",
       "</style>\n",
       "<table border=\"1\" class=\"dataframe\">\n",
       "  <thead>\n",
       "    <tr style=\"text-align: right;\">\n",
       "      <th></th>\n",
       "      <th>id</th>\n",
       "      <th>first_release_date</th>\n",
       "      <th>genres</th>\n",
       "      <th>name</th>\n",
       "      <th>platforms</th>\n",
       "      <th>slug</th>\n",
       "      <th>player_perspectives</th>\n",
       "      <th>themes</th>\n",
       "      <th>campaigncoop</th>\n",
       "      <th>dropin</th>\n",
       "      <th>lancoop</th>\n",
       "      <th>offlinecoop</th>\n",
       "      <th>onlinecoop</th>\n",
       "      <th>splitscreen</th>\n",
       "      <th>point-and-click</th>\n",
       "      <th>fighting</th>\n",
       "      <th>shooter</th>\n",
       "      <th>music</th>\n",
       "      <th>platform</th>\n",
       "      <th>puzzle</th>\n",
       "      <th>racing</th>\n",
       "      <th>real-time-strategy-rts</th>\n",
       "      <th>role-playing-rpg</th>\n",
       "      <th>simulator</th>\n",
       "      <th>sport</th>\n",
       "      <th>strategy</th>\n",
       "      <th>turn-based-strategy-tbs</th>\n",
       "      <th>tactical</th>\n",
       "      <th>hack-and-slash-beat-em-up</th>\n",
       "      <th>quiz-trivia</th>\n",
       "      <th>pinball</th>\n",
       "      <th>adventure</th>\n",
       "      <th>indie</th>\n",
       "      <th>arcade</th>\n",
       "      <th>visual-novel</th>\n",
       "      <th>card-and-board-game</th>\n",
       "      <th>moba</th>\n",
       "      <th>single-player</th>\n",
       "      <th>multiplayer</th>\n",
       "      <th>co-operative</th>\n",
       "      <th>split-screen</th>\n",
       "      <th>massively-multiplayer-online-mmo</th>\n",
       "      <th>battle-royale</th>\n",
       "      <th>First person</th>\n",
       "      <th>Third person</th>\n",
       "      <th>Bird view-Isometric</th>\n",
       "      <th>Text</th>\n",
       "      <th>Side view</th>\n",
       "      <th>Virtual Reality</th>\n",
       "      <th>AuditoryDrama</th>\n",
       "      <th>thriller</th>\n",
       "      <th>Science-Fiction</th>\n",
       "      <th>Action</th>\n",
       "      <th>horror</th>\n",
       "      <th>survival</th>\n",
       "      <th>Fantasy</th>\n",
       "      <th>historical</th>\n",
       "      <th>stealth</th>\n",
       "      <th>comedy</th>\n",
       "      <th>business</th>\n",
       "      <th>drama</th>\n",
       "      <th>non-fiction</th>\n",
       "      <th>kids</th>\n",
       "      <th>sandbox</th>\n",
       "      <th>Open-World</th>\n",
       "      <th>warfare</th>\n",
       "      <th>4x-explore-expand-exploit-and-exterminate</th>\n",
       "      <th>educational</th>\n",
       "      <th>mystery</th>\n",
       "      <th>party</th>\n",
       "      <th>romance</th>\n",
       "      <th>erotic</th>\n",
       "      <th>Linux</th>\n",
       "      <th>Nintendo 64</th>\n",
       "      <th>Wii</th>\n",
       "      <th>PC (Microsoft Windows)</th>\n",
       "      <th>PlayStation</th>\n",
       "      <th>PlayStation 2</th>\n",
       "      <th>PlayStation 3</th>\n",
       "      <th>Xbox</th>\n",
       "      <th>Xbox 360</th>\n",
       "      <th>DOS</th>\n",
       "      <th>Mac</th>\n",
       "      <th>Nintendo Entertainment System</th>\n",
       "      <th>Super Nintendo Entertainment System</th>\n",
       "      <th>Nintendo DS</th>\n",
       "      <th>Nintendo GameCube</th>\n",
       "      <th>Game Boy Color</th>\n",
       "      <th>Game Boy Advance</th>\n",
       "      <th>Sega Mega Drive/Genesis</th>\n",
       "      <th>Sega Saturn</th>\n",
       "      <th>Game Boy</th>\n",
       "      <th>Android</th>\n",
       "      <th>Nintendo 3DS</th>\n",
       "      <th>PlayStatio n Portable</th>\n",
       "      <th>iOS</th>\n",
       "      <th>Wii U</th>\n",
       "      <th>PlayStation Vita</th>\n",
       "      <th>Virtual Console (Nintendo)</th>\n",
       "      <th>PlayStation 4</th>\n",
       "      <th>Xbox One</th>\n",
       "      <th>Family Computer Disk System</th>\n",
       "      <th>Arcade</th>\n",
       "      <th>Windows Phone</th>\n",
       "      <th>Apple II</th>\n",
       "      <th>Web browser</th>\n",
       "      <th>Odyssey</th>\n",
       "      <th>Commodore 16</th>\n",
       "      <th>New Nintendo 3DS</th>\n",
       "      <th>has_dlcs</th>\n",
       "      <th>rating_bin</th>\n",
       "    </tr>\n",
       "  </thead>\n",
       "  <tbody>\n",
       "    <tr>\n",
       "      <th>199552</th>\n",
       "      <td>152122</td>\n",
       "      <td>2021-06-30</td>\n",
       "      <td>[role-playing-rpg, simulator, adventure, indie...</td>\n",
       "      <td>Doki Doki Literature Club Plus!</td>\n",
       "      <td>[win, mac, ps4--1, xboxone, switch, ps5]</td>\n",
       "      <td>doki-doki-literature-club-plus</td>\n",
       "      <td>[text]</td>\n",
       "      <td>[horror, romance]</td>\n",
       "      <td>0</td>\n",
       "      <td>0</td>\n",
       "      <td>0</td>\n",
       "      <td>0</td>\n",
       "      <td>0</td>\n",
       "      <td>0</td>\n",
       "      <td>0</td>\n",
       "      <td>0</td>\n",
       "      <td>0</td>\n",
       "      <td>0</td>\n",
       "      <td>0</td>\n",
       "      <td>0</td>\n",
       "      <td>0</td>\n",
       "      <td>0</td>\n",
       "      <td>1</td>\n",
       "      <td>1</td>\n",
       "      <td>0</td>\n",
       "      <td>0</td>\n",
       "      <td>0</td>\n",
       "      <td>0</td>\n",
       "      <td>0</td>\n",
       "      <td>0</td>\n",
       "      <td>0</td>\n",
       "      <td>1</td>\n",
       "      <td>1</td>\n",
       "      <td>0</td>\n",
       "      <td>1</td>\n",
       "      <td>0</td>\n",
       "      <td>0</td>\n",
       "      <td>1</td>\n",
       "      <td>0</td>\n",
       "      <td>0</td>\n",
       "      <td>0</td>\n",
       "      <td>0</td>\n",
       "      <td>0</td>\n",
       "      <td>0</td>\n",
       "      <td>0</td>\n",
       "      <td>0</td>\n",
       "      <td>0</td>\n",
       "      <td>0</td>\n",
       "      <td>0</td>\n",
       "      <td>0</td>\n",
       "      <td>0</td>\n",
       "      <td>0</td>\n",
       "      <td>0</td>\n",
       "      <td>1</td>\n",
       "      <td>0</td>\n",
       "      <td>0</td>\n",
       "      <td>0</td>\n",
       "      <td>0</td>\n",
       "      <td>0</td>\n",
       "      <td>0</td>\n",
       "      <td>0</td>\n",
       "      <td>0</td>\n",
       "      <td>0</td>\n",
       "      <td>0</td>\n",
       "      <td>0</td>\n",
       "      <td>0</td>\n",
       "      <td>0</td>\n",
       "      <td>0</td>\n",
       "      <td>0</td>\n",
       "      <td>0</td>\n",
       "      <td>1</td>\n",
       "      <td>0</td>\n",
       "      <td>0</td>\n",
       "      <td>0</td>\n",
       "      <td>0</td>\n",
       "      <td>0</td>\n",
       "      <td>0</td>\n",
       "      <td>0</td>\n",
       "      <td>0</td>\n",
       "      <td>0</td>\n",
       "      <td>0</td>\n",
       "      <td>0</td>\n",
       "      <td>0</td>\n",
       "      <td>0</td>\n",
       "      <td>0</td>\n",
       "      <td>0</td>\n",
       "      <td>0</td>\n",
       "      <td>0</td>\n",
       "      <td>0</td>\n",
       "      <td>0</td>\n",
       "      <td>0</td>\n",
       "      <td>0</td>\n",
       "      <td>0</td>\n",
       "      <td>0</td>\n",
       "      <td>0</td>\n",
       "      <td>0</td>\n",
       "      <td>0</td>\n",
       "      <td>0</td>\n",
       "      <td>0</td>\n",
       "      <td>0</td>\n",
       "      <td>0</td>\n",
       "      <td>0</td>\n",
       "      <td>0</td>\n",
       "      <td>0</td>\n",
       "      <td>0</td>\n",
       "      <td>0</td>\n",
       "      <td>0</td>\n",
       "      <td>0</td>\n",
       "      <td>0</td>\n",
       "      <td>0</td>\n",
       "      <td>subperb</td>\n",
       "    </tr>\n",
       "    <tr>\n",
       "      <th>120410</th>\n",
       "      <td>126489</td>\n",
       "      <td>2018-10-02</td>\n",
       "      <td>[simulator, indie]</td>\n",
       "      <td>WorldBox: God Simulator</td>\n",
       "      <td>[linux, win, android, ios]</td>\n",
       "      <td>worldbox-god-simulator</td>\n",
       "      <td>[bird-view-slash-isometric]</td>\n",
       "      <td>[sandbox]</td>\n",
       "      <td>0</td>\n",
       "      <td>0</td>\n",
       "      <td>0</td>\n",
       "      <td>0</td>\n",
       "      <td>0</td>\n",
       "      <td>0</td>\n",
       "      <td>0</td>\n",
       "      <td>0</td>\n",
       "      <td>0</td>\n",
       "      <td>0</td>\n",
       "      <td>0</td>\n",
       "      <td>0</td>\n",
       "      <td>0</td>\n",
       "      <td>0</td>\n",
       "      <td>0</td>\n",
       "      <td>1</td>\n",
       "      <td>0</td>\n",
       "      <td>0</td>\n",
       "      <td>0</td>\n",
       "      <td>0</td>\n",
       "      <td>0</td>\n",
       "      <td>0</td>\n",
       "      <td>0</td>\n",
       "      <td>0</td>\n",
       "      <td>1</td>\n",
       "      <td>0</td>\n",
       "      <td>0</td>\n",
       "      <td>0</td>\n",
       "      <td>0</td>\n",
       "      <td>0</td>\n",
       "      <td>0</td>\n",
       "      <td>0</td>\n",
       "      <td>0</td>\n",
       "      <td>0</td>\n",
       "      <td>0</td>\n",
       "      <td>0</td>\n",
       "      <td>0</td>\n",
       "      <td>0</td>\n",
       "      <td>0</td>\n",
       "      <td>0</td>\n",
       "      <td>0</td>\n",
       "      <td>0</td>\n",
       "      <td>0</td>\n",
       "      <td>0</td>\n",
       "      <td>0</td>\n",
       "      <td>0</td>\n",
       "      <td>0</td>\n",
       "      <td>0</td>\n",
       "      <td>0</td>\n",
       "      <td>0</td>\n",
       "      <td>0</td>\n",
       "      <td>0</td>\n",
       "      <td>0</td>\n",
       "      <td>0</td>\n",
       "      <td>0</td>\n",
       "      <td>1</td>\n",
       "      <td>0</td>\n",
       "      <td>0</td>\n",
       "      <td>0</td>\n",
       "      <td>0</td>\n",
       "      <td>0</td>\n",
       "      <td>0</td>\n",
       "      <td>0</td>\n",
       "      <td>0</td>\n",
       "      <td>0</td>\n",
       "      <td>0</td>\n",
       "      <td>0</td>\n",
       "      <td>0</td>\n",
       "      <td>0</td>\n",
       "      <td>0</td>\n",
       "      <td>0</td>\n",
       "      <td>0</td>\n",
       "      <td>0</td>\n",
       "      <td>0</td>\n",
       "      <td>0</td>\n",
       "      <td>0</td>\n",
       "      <td>0</td>\n",
       "      <td>0</td>\n",
       "      <td>0</td>\n",
       "      <td>0</td>\n",
       "      <td>0</td>\n",
       "      <td>0</td>\n",
       "      <td>0</td>\n",
       "      <td>0</td>\n",
       "      <td>0</td>\n",
       "      <td>0</td>\n",
       "      <td>0</td>\n",
       "      <td>0</td>\n",
       "      <td>0</td>\n",
       "      <td>0</td>\n",
       "      <td>0</td>\n",
       "      <td>0</td>\n",
       "      <td>0</td>\n",
       "      <td>0</td>\n",
       "      <td>0</td>\n",
       "      <td>0</td>\n",
       "      <td>0</td>\n",
       "      <td>0</td>\n",
       "      <td>0</td>\n",
       "      <td>0</td>\n",
       "      <td>0</td>\n",
       "      <td>0</td>\n",
       "      <td>subperb</td>\n",
       "    </tr>\n",
       "    <tr>\n",
       "      <th>208393</th>\n",
       "      <td>1070</td>\n",
       "      <td>1990-11-21</td>\n",
       "      <td>[platform, adventure]</td>\n",
       "      <td>Super Mario World</td>\n",
       "      <td>[wii, snes, wiiu, sfam, new-nintendo-3ds]</td>\n",
       "      <td>super-mario-world</td>\n",
       "      <td>[side-view]</td>\n",
       "      <td>[action, fantasy]</td>\n",
       "      <td>0</td>\n",
       "      <td>0</td>\n",
       "      <td>0</td>\n",
       "      <td>0</td>\n",
       "      <td>0</td>\n",
       "      <td>0</td>\n",
       "      <td>0</td>\n",
       "      <td>0</td>\n",
       "      <td>0</td>\n",
       "      <td>0</td>\n",
       "      <td>1</td>\n",
       "      <td>0</td>\n",
       "      <td>0</td>\n",
       "      <td>0</td>\n",
       "      <td>0</td>\n",
       "      <td>0</td>\n",
       "      <td>0</td>\n",
       "      <td>0</td>\n",
       "      <td>0</td>\n",
       "      <td>0</td>\n",
       "      <td>0</td>\n",
       "      <td>0</td>\n",
       "      <td>0</td>\n",
       "      <td>1</td>\n",
       "      <td>0</td>\n",
       "      <td>0</td>\n",
       "      <td>0</td>\n",
       "      <td>0</td>\n",
       "      <td>0</td>\n",
       "      <td>1</td>\n",
       "      <td>1</td>\n",
       "      <td>0</td>\n",
       "      <td>0</td>\n",
       "      <td>0</td>\n",
       "      <td>0</td>\n",
       "      <td>0</td>\n",
       "      <td>0</td>\n",
       "      <td>0</td>\n",
       "      <td>0</td>\n",
       "      <td>0</td>\n",
       "      <td>0</td>\n",
       "      <td>0</td>\n",
       "      <td>0</td>\n",
       "      <td>0</td>\n",
       "      <td>0</td>\n",
       "      <td>0</td>\n",
       "      <td>0</td>\n",
       "      <td>0</td>\n",
       "      <td>0</td>\n",
       "      <td>0</td>\n",
       "      <td>0</td>\n",
       "      <td>0</td>\n",
       "      <td>0</td>\n",
       "      <td>0</td>\n",
       "      <td>0</td>\n",
       "      <td>0</td>\n",
       "      <td>0</td>\n",
       "      <td>0</td>\n",
       "      <td>0</td>\n",
       "      <td>0</td>\n",
       "      <td>0</td>\n",
       "      <td>0</td>\n",
       "      <td>0</td>\n",
       "      <td>0</td>\n",
       "      <td>0</td>\n",
       "      <td>0</td>\n",
       "      <td>0</td>\n",
       "      <td>0</td>\n",
       "      <td>0</td>\n",
       "      <td>0</td>\n",
       "      <td>0</td>\n",
       "      <td>0</td>\n",
       "      <td>0</td>\n",
       "      <td>0</td>\n",
       "      <td>0</td>\n",
       "      <td>0</td>\n",
       "      <td>0</td>\n",
       "      <td>0</td>\n",
       "      <td>0</td>\n",
       "      <td>0</td>\n",
       "      <td>0</td>\n",
       "      <td>0</td>\n",
       "      <td>0</td>\n",
       "      <td>0</td>\n",
       "      <td>0</td>\n",
       "      <td>0</td>\n",
       "      <td>0</td>\n",
       "      <td>0</td>\n",
       "      <td>0</td>\n",
       "      <td>0</td>\n",
       "      <td>0</td>\n",
       "      <td>0</td>\n",
       "      <td>0</td>\n",
       "      <td>0</td>\n",
       "      <td>0</td>\n",
       "      <td>0</td>\n",
       "      <td>0</td>\n",
       "      <td>0</td>\n",
       "      <td>0</td>\n",
       "      <td>0</td>\n",
       "      <td>0</td>\n",
       "      <td>0</td>\n",
       "      <td>subperb</td>\n",
       "    </tr>\n",
       "    <tr>\n",
       "      <th>172684</th>\n",
       "      <td>732</td>\n",
       "      <td>2004-10-26</td>\n",
       "      <td>[shooter, racing, adventure]</td>\n",
       "      <td>Grand Theft Auto: San Andreas</td>\n",
       "      <td>[win, ps2, ps3, xbox, xbox360, mac, android, i...</td>\n",
       "      <td>grand-theft-auto-san-andreas</td>\n",
       "      <td>[first-person, third-person]</td>\n",
       "      <td>[action, non-fiction, open-world]</td>\n",
       "      <td>0</td>\n",
       "      <td>0</td>\n",
       "      <td>0</td>\n",
       "      <td>1</td>\n",
       "      <td>0</td>\n",
       "      <td>0</td>\n",
       "      <td>0</td>\n",
       "      <td>0</td>\n",
       "      <td>1</td>\n",
       "      <td>0</td>\n",
       "      <td>0</td>\n",
       "      <td>0</td>\n",
       "      <td>1</td>\n",
       "      <td>0</td>\n",
       "      <td>0</td>\n",
       "      <td>0</td>\n",
       "      <td>0</td>\n",
       "      <td>0</td>\n",
       "      <td>0</td>\n",
       "      <td>0</td>\n",
       "      <td>0</td>\n",
       "      <td>0</td>\n",
       "      <td>0</td>\n",
       "      <td>1</td>\n",
       "      <td>0</td>\n",
       "      <td>0</td>\n",
       "      <td>0</td>\n",
       "      <td>0</td>\n",
       "      <td>0</td>\n",
       "      <td>1</td>\n",
       "      <td>0</td>\n",
       "      <td>1</td>\n",
       "      <td>0</td>\n",
       "      <td>0</td>\n",
       "      <td>0</td>\n",
       "      <td>0</td>\n",
       "      <td>0</td>\n",
       "      <td>0</td>\n",
       "      <td>0</td>\n",
       "      <td>0</td>\n",
       "      <td>0</td>\n",
       "      <td>0</td>\n",
       "      <td>0</td>\n",
       "      <td>0</td>\n",
       "      <td>0</td>\n",
       "      <td>0</td>\n",
       "      <td>0</td>\n",
       "      <td>0</td>\n",
       "      <td>0</td>\n",
       "      <td>0</td>\n",
       "      <td>0</td>\n",
       "      <td>0</td>\n",
       "      <td>0</td>\n",
       "      <td>1</td>\n",
       "      <td>0</td>\n",
       "      <td>0</td>\n",
       "      <td>0</td>\n",
       "      <td>0</td>\n",
       "      <td>0</td>\n",
       "      <td>0</td>\n",
       "      <td>0</td>\n",
       "      <td>0</td>\n",
       "      <td>0</td>\n",
       "      <td>0</td>\n",
       "      <td>0</td>\n",
       "      <td>0</td>\n",
       "      <td>0</td>\n",
       "      <td>0</td>\n",
       "      <td>0</td>\n",
       "      <td>0</td>\n",
       "      <td>0</td>\n",
       "      <td>0</td>\n",
       "      <td>0</td>\n",
       "      <td>0</td>\n",
       "      <td>0</td>\n",
       "      <td>0</td>\n",
       "      <td>0</td>\n",
       "      <td>0</td>\n",
       "      <td>0</td>\n",
       "      <td>0</td>\n",
       "      <td>0</td>\n",
       "      <td>0</td>\n",
       "      <td>0</td>\n",
       "      <td>0</td>\n",
       "      <td>0</td>\n",
       "      <td>0</td>\n",
       "      <td>0</td>\n",
       "      <td>0</td>\n",
       "      <td>0</td>\n",
       "      <td>0</td>\n",
       "      <td>0</td>\n",
       "      <td>0</td>\n",
       "      <td>0</td>\n",
       "      <td>0</td>\n",
       "      <td>0</td>\n",
       "      <td>0</td>\n",
       "      <td>0</td>\n",
       "      <td>0</td>\n",
       "      <td>0</td>\n",
       "      <td>0</td>\n",
       "      <td>0</td>\n",
       "      <td>0</td>\n",
       "      <td>subperb</td>\n",
       "    </tr>\n",
       "    <tr>\n",
       "      <th>207486</th>\n",
       "      <td>120710</td>\n",
       "      <td>2020-08-07</td>\n",
       "      <td>[point-and-click, adventure, indie]</td>\n",
       "      <td>The Henry Stickmin Collection</td>\n",
       "      <td>[win, mac]</td>\n",
       "      <td>the-henry-stickmin-collection</td>\n",
       "      <td>[Not available]</td>\n",
       "      <td>[action, comedy]</td>\n",
       "      <td>0</td>\n",
       "      <td>0</td>\n",
       "      <td>0</td>\n",
       "      <td>0</td>\n",
       "      <td>0</td>\n",
       "      <td>0</td>\n",
       "      <td>1</td>\n",
       "      <td>0</td>\n",
       "      <td>0</td>\n",
       "      <td>0</td>\n",
       "      <td>0</td>\n",
       "      <td>0</td>\n",
       "      <td>0</td>\n",
       "      <td>0</td>\n",
       "      <td>0</td>\n",
       "      <td>0</td>\n",
       "      <td>0</td>\n",
       "      <td>0</td>\n",
       "      <td>0</td>\n",
       "      <td>0</td>\n",
       "      <td>0</td>\n",
       "      <td>0</td>\n",
       "      <td>0</td>\n",
       "      <td>1</td>\n",
       "      <td>1</td>\n",
       "      <td>0</td>\n",
       "      <td>0</td>\n",
       "      <td>0</td>\n",
       "      <td>0</td>\n",
       "      <td>1</td>\n",
       "      <td>0</td>\n",
       "      <td>0</td>\n",
       "      <td>0</td>\n",
       "      <td>0</td>\n",
       "      <td>0</td>\n",
       "      <td>0</td>\n",
       "      <td>0</td>\n",
       "      <td>0</td>\n",
       "      <td>0</td>\n",
       "      <td>0</td>\n",
       "      <td>0</td>\n",
       "      <td>0</td>\n",
       "      <td>0</td>\n",
       "      <td>0</td>\n",
       "      <td>0</td>\n",
       "      <td>0</td>\n",
       "      <td>0</td>\n",
       "      <td>0</td>\n",
       "      <td>0</td>\n",
       "      <td>0</td>\n",
       "      <td>1</td>\n",
       "      <td>0</td>\n",
       "      <td>0</td>\n",
       "      <td>0</td>\n",
       "      <td>0</td>\n",
       "      <td>0</td>\n",
       "      <td>0</td>\n",
       "      <td>0</td>\n",
       "      <td>0</td>\n",
       "      <td>0</td>\n",
       "      <td>0</td>\n",
       "      <td>0</td>\n",
       "      <td>0</td>\n",
       "      <td>0</td>\n",
       "      <td>0</td>\n",
       "      <td>0</td>\n",
       "      <td>0</td>\n",
       "      <td>0</td>\n",
       "      <td>0</td>\n",
       "      <td>0</td>\n",
       "      <td>0</td>\n",
       "      <td>0</td>\n",
       "      <td>0</td>\n",
       "      <td>0</td>\n",
       "      <td>0</td>\n",
       "      <td>0</td>\n",
       "      <td>0</td>\n",
       "      <td>0</td>\n",
       "      <td>0</td>\n",
       "      <td>0</td>\n",
       "      <td>0</td>\n",
       "      <td>0</td>\n",
       "      <td>0</td>\n",
       "      <td>0</td>\n",
       "      <td>0</td>\n",
       "      <td>0</td>\n",
       "      <td>0</td>\n",
       "      <td>0</td>\n",
       "      <td>0</td>\n",
       "      <td>0</td>\n",
       "      <td>0</td>\n",
       "      <td>0</td>\n",
       "      <td>0</td>\n",
       "      <td>0</td>\n",
       "      <td>0</td>\n",
       "      <td>0</td>\n",
       "      <td>0</td>\n",
       "      <td>0</td>\n",
       "      <td>0</td>\n",
       "      <td>0</td>\n",
       "      <td>0</td>\n",
       "      <td>0</td>\n",
       "      <td>subperb</td>\n",
       "    </tr>\n",
       "  </tbody>\n",
       "</table>\n",
       "</div>"
      ],
      "text/plain": [
       "            id first_release_date  \\\n",
       "199552  152122         2021-06-30   \n",
       "120410  126489         2018-10-02   \n",
       "208393    1070         1990-11-21   \n",
       "172684     732         2004-10-26   \n",
       "207486  120710         2020-08-07   \n",
       "\n",
       "                                                   genres  \\\n",
       "199552  [role-playing-rpg, simulator, adventure, indie...   \n",
       "120410                                 [simulator, indie]   \n",
       "208393                              [platform, adventure]   \n",
       "172684                       [shooter, racing, adventure]   \n",
       "207486                [point-and-click, adventure, indie]   \n",
       "\n",
       "                                   name  \\\n",
       "199552  Doki Doki Literature Club Plus!   \n",
       "120410          WorldBox: God Simulator   \n",
       "208393                Super Mario World   \n",
       "172684    Grand Theft Auto: San Andreas   \n",
       "207486    The Henry Stickmin Collection   \n",
       "\n",
       "                                                platforms  \\\n",
       "199552           [win, mac, ps4--1, xboxone, switch, ps5]   \n",
       "120410                         [linux, win, android, ios]   \n",
       "208393          [wii, snes, wiiu, sfam, new-nintendo-3ds]   \n",
       "172684  [win, ps2, ps3, xbox, xbox360, mac, android, i...   \n",
       "207486                                         [win, mac]   \n",
       "\n",
       "                                  slug           player_perspectives  \\\n",
       "199552  doki-doki-literature-club-plus                        [text]   \n",
       "120410          worldbox-god-simulator   [bird-view-slash-isometric]   \n",
       "208393               super-mario-world                   [side-view]   \n",
       "172684    grand-theft-auto-san-andreas  [first-person, third-person]   \n",
       "207486   the-henry-stickmin-collection               [Not available]   \n",
       "\n",
       "                                   themes  campaigncoop  dropin  lancoop  \\\n",
       "199552                  [horror, romance]             0       0        0   \n",
       "120410                          [sandbox]             0       0        0   \n",
       "208393                  [action, fantasy]             0       0        0   \n",
       "172684  [action, non-fiction, open-world]             0       0        0   \n",
       "207486                   [action, comedy]             0       0        0   \n",
       "\n",
       "        offlinecoop  onlinecoop  splitscreen  point-and-click  fighting  \\\n",
       "199552            0           0            0                0         0   \n",
       "120410            0           0            0                0         0   \n",
       "208393            0           0            0                0         0   \n",
       "172684            1           0            0                0         0   \n",
       "207486            0           0            0                1         0   \n",
       "\n",
       "        shooter  music  platform  puzzle  racing  real-time-strategy-rts  \\\n",
       "199552        0      0         0       0       0                       0   \n",
       "120410        0      0         0       0       0                       0   \n",
       "208393        0      0         1       0       0                       0   \n",
       "172684        1      0         0       0       1                       0   \n",
       "207486        0      0         0       0       0                       0   \n",
       "\n",
       "        role-playing-rpg  simulator  sport  strategy  turn-based-strategy-tbs  \\\n",
       "199552                 1          1      0         0                        0   \n",
       "120410                 0          1      0         0                        0   \n",
       "208393                 0          0      0         0                        0   \n",
       "172684                 0          0      0         0                        0   \n",
       "207486                 0          0      0         0                        0   \n",
       "\n",
       "        tactical  hack-and-slash-beat-em-up  quiz-trivia  pinball  adventure  \\\n",
       "199552         0                          0            0        0          1   \n",
       "120410         0                          0            0        0          0   \n",
       "208393         0                          0            0        0          1   \n",
       "172684         0                          0            0        0          1   \n",
       "207486         0                          0            0        0          1   \n",
       "\n",
       "        indie  arcade  visual-novel  card-and-board-game  moba  single-player  \\\n",
       "199552      1       0             1                    0     0              1   \n",
       "120410      1       0             0                    0     0              0   \n",
       "208393      0       0             0                    0     0              1   \n",
       "172684      0       0             0                    0     0              1   \n",
       "207486      1       0             0                    0     0              1   \n",
       "\n",
       "        multiplayer  co-operative  split-screen  \\\n",
       "199552            0             0             0   \n",
       "120410            0             0             0   \n",
       "208393            1             0             0   \n",
       "172684            0             1             0   \n",
       "207486            0             0             0   \n",
       "\n",
       "        massively-multiplayer-online-mmo  battle-royale  First person  \\\n",
       "199552                                 0              0             0   \n",
       "120410                                 0              0             0   \n",
       "208393                                 0              0             0   \n",
       "172684                                 0              0             0   \n",
       "207486                                 0              0             0   \n",
       "\n",
       "        Third person  Bird view-Isometric  Text  Side view  Virtual Reality  \\\n",
       "199552             0                    0     0          0                0   \n",
       "120410             0                    0     0          0                0   \n",
       "208393             0                    0     0          0                0   \n",
       "172684             0                    0     0          0                0   \n",
       "207486             0                    0     0          0                0   \n",
       "\n",
       "        AuditoryDrama  thriller  Science-Fiction  Action  horror  survival  \\\n",
       "199552              0         0                0       0       1         0   \n",
       "120410              0         0                0       0       0         0   \n",
       "208393              0         0                0       0       0         0   \n",
       "172684              0         0                0       0       0         0   \n",
       "207486              0         0                0       0       0         0   \n",
       "\n",
       "        Fantasy  historical  stealth  comedy  business  drama  non-fiction  \\\n",
       "199552        0           0        0       0         0      0            0   \n",
       "120410        0           0        0       0         0      0            0   \n",
       "208393        0           0        0       0         0      0            0   \n",
       "172684        0           0        0       0         0      0            1   \n",
       "207486        0           0        0       1         0      0            0   \n",
       "\n",
       "        kids  sandbox  Open-World  warfare  \\\n",
       "199552     0        0           0        0   \n",
       "120410     0        1           0        0   \n",
       "208393     0        0           0        0   \n",
       "172684     0        0           0        0   \n",
       "207486     0        0           0        0   \n",
       "\n",
       "        4x-explore-expand-exploit-and-exterminate  educational  mystery  \\\n",
       "199552                                          0            0        0   \n",
       "120410                                          0            0        0   \n",
       "208393                                          0            0        0   \n",
       "172684                                          0            0        0   \n",
       "207486                                          0            0        0   \n",
       "\n",
       "        party  romance  erotic  Linux  Nintendo 64  Wii  \\\n",
       "199552      0        1       0      0            0    0   \n",
       "120410      0        0       0      0            0    0   \n",
       "208393      0        0       0      0            0    0   \n",
       "172684      0        0       0      0            0    0   \n",
       "207486      0        0       0      0            0    0   \n",
       "\n",
       "        PC (Microsoft Windows)  PlayStation  PlayStation 2  PlayStation 3  \\\n",
       "199552                       0            0              0              0   \n",
       "120410                       0            0              0              0   \n",
       "208393                       0            0              0              0   \n",
       "172684                       0            0              0              0   \n",
       "207486                       0            0              0              0   \n",
       "\n",
       "        Xbox  Xbox 360  DOS  Mac  Nintendo Entertainment System  \\\n",
       "199552     0         0    0    0                              0   \n",
       "120410     0         0    0    0                              0   \n",
       "208393     0         0    0    0                              0   \n",
       "172684     0         0    0    0                              0   \n",
       "207486     0         0    0    0                              0   \n",
       "\n",
       "        Super Nintendo Entertainment System  Nintendo DS  Nintendo GameCube  \\\n",
       "199552                                    0            0                  0   \n",
       "120410                                    0            0                  0   \n",
       "208393                                    0            0                  0   \n",
       "172684                                    0            0                  0   \n",
       "207486                                    0            0                  0   \n",
       "\n",
       "        Game Boy Color  Game Boy Advance  Sega Mega Drive/Genesis  \\\n",
       "199552               0                 0                        0   \n",
       "120410               0                 0                        0   \n",
       "208393               0                 0                        0   \n",
       "172684               0                 0                        0   \n",
       "207486               0                 0                        0   \n",
       "\n",
       "        Sega Saturn  Game Boy  Android  Nintendo 3DS  PlayStatio n Portable  \\\n",
       "199552            0         0        0             0                      0   \n",
       "120410            0         0        0             0                      0   \n",
       "208393            0         0        0             0                      0   \n",
       "172684            0         0        0             0                      0   \n",
       "207486            0         0        0             0                      0   \n",
       "\n",
       "        iOS  Wii U  PlayStation Vita  Virtual Console (Nintendo)  \\\n",
       "199552    0      0                 0                           0   \n",
       "120410    0      0                 0                           0   \n",
       "208393    0      0                 0                           0   \n",
       "172684    0      0                 0                           0   \n",
       "207486    0      0                 0                           0   \n",
       "\n",
       "        PlayStation 4  Xbox One  Family Computer Disk System  Arcade  \\\n",
       "199552              0         0                            0       0   \n",
       "120410              0         0                            0       0   \n",
       "208393              0         0                            0       0   \n",
       "172684              0         0                            0       0   \n",
       "207486              0         0                            0       0   \n",
       "\n",
       "        Windows Phone  Apple II  Web browser  Odyssey  Commodore 16  \\\n",
       "199552              0         0            0        0             0   \n",
       "120410              0         0            0        0             0   \n",
       "208393              0         0            0        0             0   \n",
       "172684              0         0            0        0             0   \n",
       "207486              0         0            0        0             0   \n",
       "\n",
       "        New Nintendo 3DS  has_dlcs rating_bin  \n",
       "199552                 0         0    subperb  \n",
       "120410                 0         0    subperb  \n",
       "208393                 0         0    subperb  \n",
       "172684                 0         0    subperb  \n",
       "207486                 0         0    subperb  "
      ]
     },
     "execution_count": 20,
     "metadata": {},
     "output_type": "execute_result"
    }
   ],
   "source": [
    "pd.set_option('display.max_columns', 500)\n",
    "df_subperb_rating.head()"
   ]
  },
  {
   "cell_type": "code",
   "execution_count": 40,
   "id": "885fa0e5",
   "metadata": {
    "scrolled": false
   },
   "outputs": [
    {
     "data": {
      "text/plain": [
       "([0, 1, 2, 3],\n",
       " [Text(0, 0, ''), Text(0, 0, ''), Text(0, 0, ''), Text(0, 0, '')])"
      ]
     },
     "execution_count": 40,
     "metadata": {},
     "output_type": "execute_result"
    },
    {
     "data": {
      "image/png": "[encoded data removed]",
      "text/plain": [
       "<Figure size 1008x432 with 1 Axes>"
      ]
     },
     "metadata": {
      "needs_background": "light"
     },
     "output_type": "display_data"
    }
   ],
   "source": [
    "fig, ax = plt.subplots(figsize = (14,6))\n",
    "ax.bar(to_1D(df_subperb_rating[\"genres\"]).value_counts().iloc[:4].index,\n",
    "        to_1D(df_subperb_rating[\"genres\"]).value_counts().iloc[:4].values,\n",
    "         color= ['purple'])\n",
    "ax.set_ylabel(\"Frequency\", size = 20)\n",
    "ax.set_title(\"Most common Genre in Superb Games\", size = 20)\n",
    "plt.xticks(fontsize = 15)"
   ]
  },
  {
   "cell_type": "code",
   "execution_count": 42,
   "id": "51f705c2",
   "metadata": {
    "scrolled": true
   },
   "outputs": [
    {
     "data": {
      "text/plain": [
       "Index(['adventure', 'role-playing-rpg', 'indie', 'strategy'], dtype='object')"
      ]
     },
     "execution_count": 42,
     "metadata": {},
     "output_type": "execute_result"
    }
   ],
   "source": [
    "(to_1D(df_subperb_rating[\"genres\"]).value_counts().iloc[:4].index)"
   ]
  },
  {
   "cell_type": "code",
   "execution_count": 43,
   "id": "10ebb355",
   "metadata": {},
   "outputs": [
    {
     "data": {
      "text/plain": [
       "array([104,  75,  48,  41])"
      ]
     },
     "execution_count": 43,
     "metadata": {},
     "output_type": "execute_result"
    }
   ],
   "source": [
    "(to_1D(df_subperb_rating[\"genres\"]).value_counts().iloc[:4].values)"
   ]
  },
  {
   "cell_type": "code",
   "execution_count": 77,
   "id": "eb4a804f",
   "metadata": {},
   "outputs": [
    {
     "data": {
      "application/vnd.plotly.v1+json": {
       "config": {
        "plotlyServerURL": "https://plot.ly"
       },
       "data": [
        {
         "marker": {
          "color": [
           "purple",
           "purple",
           "purple",
           "purple",
           "purple"
          ]
         },
         "type": "bar",
         "x": [
          "Adventure",
          "Role-Playing-RPG",
          "Indie",
          "Strategy"
         ],
         "y": [
          104,
          75,
          48,
          41
         ]
        }
       ],
       "layout": {
        "font": {
         "color": "black",
         "size": 17
        },
        "template": {
         "data": {
          "bar": [
           {
            "error_x": {
             "color": "#2a3f5f"
            },
            "error_y": {
             "color": "#2a3f5f"
            },
            "marker": {
             "line": {
              "color": "#E5ECF6",
              "width": 0.5
             },
             "pattern": {
              "fillmode": "overlay",
              "size": 10,
              "solidity": 0.2
             }
            },
            "type": "bar"
           }
          ],
          "barpolar": [
           {
            "marker": {
             "line": {
              "color": "#E5ECF6",
              "width": 0.5
             },
             "pattern": {
              "fillmode": "overlay",
              "size": 10,
              "solidity": 0.2
             }
            },
            "type": "barpolar"
           }
          ],
          "carpet": [
           {
            "aaxis": {
             "endlinecolor": "#2a3f5f",
             "gridcolor": "white",
             "linecolor": "white",
             "minorgridcolor": "white",
             "startlinecolor": "#2a3f5f"
            },
            "baxis": {
             "endlinecolor": "#2a3f5f",
             "gridcolor": "white",
             "linecolor": "white",
             "minorgridcolor": "white",
             "startlinecolor": "#2a3f5f"
            },
            "type": "carpet"
           }
          ],
          "choropleth": [
           {
            "colorbar": {
             "outlinewidth": 0,
             "ticks": ""
            },
            "type": "choropleth"
           }
          ],
          "contour": [
           {
            "colorbar": {
             "outlinewidth": 0,
             "ticks": ""
            },
            "colorscale": [
             [
              0,
              "#0d0887"
             ],
             [
              0.1111111111111111,
              "#46039f"
             ],
             [
              0.2222222222222222,
              "#7201a8"
             ],
             [
              0.3333333333333333,
              "#9c179e"
             ],
             [
              0.4444444444444444,
              "#bd3786"
             ],
             [
              0.5555555555555556,
              "#d8576b"
             ],
             [
              0.6666666666666666,
              "#ed7953"
             ],
             [
              0.7777777777777778,
              "#fb9f3a"
             ],
             [
              0.8888888888888888,
              "#fdca26"
             ],
             [
              1,
              "#f0f921"
             ]
            ],
            "type": "contour"
           }
          ],
          "contourcarpet": [
           {
            "colorbar": {
             "outlinewidth": 0,
             "ticks": ""
            },
            "type": "contourcarpet"
           }
          ],
          "heatmap": [
           {
            "colorbar": {
             "outlinewidth": 0,
             "ticks": ""
            },
            "colorscale": [
             [
              0,
              "#0d0887"
             ],
             [
              0.1111111111111111,
              "#46039f"
             ],
             [
              0.2222222222222222,
              "#7201a8"
             ],
             [
              0.3333333333333333,
              "#9c179e"
             ],
             [
              0.4444444444444444,
              "#bd3786"
             ],
             [
              0.5555555555555556,
              "#d8576b"
             ],
             [
              0.6666666666666666,
              "#ed7953"
             ],
             [
              0.7777777777777778,
              "#fb9f3a"
             ],
             [
              0.8888888888888888,
              "#fdca26"
             ],
             [
              1,
              "#f0f921"
             ]
            ],
            "type": "heatmap"
           }
          ],
          "heatmapgl": [
           {
            "colorbar": {
             "outlinewidth": 0,
             "ticks": ""
            },
            "colorscale": [
             [
              0,
              "#0d0887"
             ],
             [
              0.1111111111111111,
              "#46039f"
             ],
             [
              0.2222222222222222,
              "#7201a8"
             ],
             [
              0.3333333333333333,
              "#9c179e"
             ],
             [
              0.4444444444444444,
              "#bd3786"
             ],
             [
              0.5555555555555556,
              "#d8576b"
             ],
             [
              0.6666666666666666,
              "#ed7953"
             ],
             [
              0.7777777777777778,
              "#fb9f3a"
             ],
             [
              0.8888888888888888,
              "#fdca26"
             ],
             [
              1,
              "#f0f921"
             ]
            ],
            "type": "heatmapgl"
           }
          ],
          "histogram": [
           {
            "marker": {
             "pattern": {
              "fillmode": "overlay",
              "size": 10,
              "solidity": 0.2
             }
            },
            "type": "histogram"
           }
          ],
          "histogram2d": [
           {
            "colorbar": {
             "outlinewidth": 0,
             "ticks": ""
            },
            "colorscale": [
             [
              0,
              "#0d0887"
             ],
             [
              0.1111111111111111,
              "#46039f"
             ],
             [
              0.2222222222222222,
              "#7201a8"
             ],
             [
              0.3333333333333333,
              "#9c179e"
             ],
             [
              0.4444444444444444,
              "#bd3786"
             ],
             [
              0.5555555555555556,
              "#d8576b"
             ],
             [
              0.6666666666666666,
              "#ed7953"
             ],
             [
              0.7777777777777778,
              "#fb9f3a"
             ],
             [
              0.8888888888888888,
              "#fdca26"
             ],
             [
              1,
              "#f0f921"
             ]
            ],
            "type": "histogram2d"
           }
          ],
          "histogram2dcontour": [
           {
            "colorbar": {
             "outlinewidth": 0,
             "ticks": ""
            },
            "colorscale": [
             [
              0,
              "#0d0887"
             ],
             [
              0.1111111111111111,
              "#46039f"
             ],
             [
              0.2222222222222222,
              "#7201a8"
             ],
             [
              0.3333333333333333,
              "#9c179e"
             ],
             [
              0.4444444444444444,
              "#bd3786"
             ],
             [
              0.5555555555555556,
              "#d8576b"
             ],
             [
              0.6666666666666666,
              "#ed7953"
             ],
             [
              0.7777777777777778,
              "#fb9f3a"
             ],
             [
              0.8888888888888888,
              "#fdca26"
             ],
             [
              1,
              "#f0f921"
             ]
            ],
            "type": "histogram2dcontour"
           }
          ],
          "mesh3d": [
           {
            "colorbar": {
             "outlinewidth": 0,
             "ticks": ""
            },
            "type": "mesh3d"
           }
          ],
          "parcoords": [
           {
            "line": {
             "colorbar": {
              "outlinewidth": 0,
              "ticks": ""
             }
            },
            "type": "parcoords"
           }
          ],
          "pie": [
           {
            "automargin": true,
            "type": "pie"
           }
          ],
          "scatter": [
           {
            "marker": {
             "colorbar": {
              "outlinewidth": 0,
              "ticks": ""
             }
            },
            "type": "scatter"
           }
          ],
          "scatter3d": [
           {
            "line": {
             "colorbar": {
              "outlinewidth": 0,
              "ticks": ""
             }
            },
            "marker": {
             "colorbar": {
              "outlinewidth": 0,
              "ticks": ""
             }
            },
            "type": "scatter3d"
           }
          ],
          "scattercarpet": [
           {
            "marker": {
             "colorbar": {
              "outlinewidth": 0,
              "ticks": ""
             }
            },
            "type": "scattercarpet"
           }
          ],
          "scattergeo": [
           {
            "marker": {
             "colorbar": {
              "outlinewidth": 0,
              "ticks": ""
             }
            },
            "type": "scattergeo"
           }
          ],
          "scattergl": [
           {
            "marker": {
             "colorbar": {
              "outlinewidth": 0,
              "ticks": ""
             }
            },
            "type": "scattergl"
           }
          ],
          "scattermapbox": [
           {
            "marker": {
             "colorbar": {
              "outlinewidth": 0,
              "ticks": ""
             }
            },
            "type": "scattermapbox"
           }
          ],
          "scatterpolar": [
           {
            "marker": {
             "colorbar": {
              "outlinewidth": 0,
              "ticks": ""
             }
            },
            "type": "scatterpolar"
           }
          ],
          "scatterpolargl": [
           {
            "marker": {
             "colorbar": {
              "outlinewidth": 0,
              "ticks": ""
             }
            },
            "type": "scatterpolargl"
           }
          ],
          "scatterternary": [
           {
            "marker": {
             "colorbar": {
              "outlinewidth": 0,
              "ticks": ""
             }
            },
            "type": "scatterternary"
           }
          ],
          "surface": [
           {
            "colorbar": {
             "outlinewidth": 0,
             "ticks": ""
            },
            "colorscale": [
             [
              0,
              "#0d0887"
             ],
             [
              0.1111111111111111,
              "#46039f"
             ],
             [
              0.2222222222222222,
              "#7201a8"
             ],
             [
              0.3333333333333333,
              "#9c179e"
             ],
             [
              0.4444444444444444,
              "#bd3786"
             ],
             [
              0.5555555555555556,
              "#d8576b"
             ],
             [
              0.6666666666666666,
              "#ed7953"
             ],
             [
              0.7777777777777778,
              "#fb9f3a"
             ],
             [
              0.8888888888888888,
              "#fdca26"
             ],
             [
              1,
              "#f0f921"
             ]
            ],
            "type": "surface"
           }
          ],
          "table": [
           {
            "cells": {
             "fill": {
              "color": "#EBF0F8"
             },
             "line": {
              "color": "white"
             }
            },
            "header": {
             "fill": {
              "color": "#C8D4E3"
             },
             "line": {
              "color": "white"
             }
            },
            "type": "table"
           }
          ]
         },
         "layout": {
          "annotationdefaults": {
           "arrowcolor": "#2a3f5f",
           "arrowhead": 0,
           "arrowwidth": 1
          },
          "autotypenumbers": "strict",
          "coloraxis": {
           "colorbar": {
            "outlinewidth": 0,
            "ticks": ""
           }
          },
          "colorscale": {
           "diverging": [
            [
             0,
             "#8e0152"
            ],
            [
             0.1,
             "#c51b7d"
            ],
            [
             0.2,
             "#de77ae"
            ],
            [
             0.3,
             "#f1b6da"
            ],
            [
             0.4,
             "#fde0ef"
            ],
            [
             0.5,
             "#f7f7f7"
            ],
            [
             0.6,
             "#e6f5d0"
            ],
            [
             0.7,
             "#b8e186"
            ],
            [
             0.8,
             "#7fbc41"
            ],
            [
             0.9,
             "#4d9221"
            ],
            [
             1,
             "#276419"
            ]
           ],
           "sequential": [
            [
             0,
             "#0d0887"
            ],
            [
             0.1111111111111111,
             "#46039f"
            ],
            [
             0.2222222222222222,
             "#7201a8"
            ],
            [
             0.3333333333333333,
             "#9c179e"
            ],
            [
             0.4444444444444444,
             "#bd3786"
            ],
            [
             0.5555555555555556,
             "#d8576b"
            ],
            [
             0.6666666666666666,
             "#ed7953"
            ],
            [
             0.7777777777777778,
             "#fb9f3a"
            ],
            [
             0.8888888888888888,
             "#fdca26"
            ],
            [
             1,
             "#f0f921"
            ]
           ],
           "sequentialminus": [
            [
             0,
             "#0d0887"
            ],
            [
             0.1111111111111111,
             "#46039f"
            ],
            [
             0.2222222222222222,
             "#7201a8"
            ],
            [
             0.3333333333333333,
             "#9c179e"
            ],
            [
             0.4444444444444444,
             "#bd3786"
            ],
            [
             0.5555555555555556,
             "#d8576b"
            ],
            [
             0.6666666666666666,
             "#ed7953"
            ],
            [
             0.7777777777777778,
             "#fb9f3a"
            ],
            [
             0.8888888888888888,
             "#fdca26"
            ],
            [
             1,
             "#f0f921"
            ]
           ]
          },
          "colorway": [
           "#636efa",
           "#EF553B",
           "#00cc96",
           "#ab63fa",
           "#FFA15A",
           "#19d3f3",
           "#FF6692",
           "#B6E880",
           "#FF97FF",
           "#FECB52"
          ],
          "font": {
           "color": "#2a3f5f"
          },
          "geo": {
           "bgcolor": "white",
           "lakecolor": "white",
           "landcolor": "#E5ECF6",
           "showlakes": true,
           "showland": true,
           "subunitcolor": "white"
          },
          "hoverlabel": {
           "align": "left"
          },
          "hovermode": "closest",
          "mapbox": {
           "style": "light"
          },
          "paper_bgcolor": "white",
          "plot_bgcolor": "#E5ECF6",
          "polar": {
           "angularaxis": {
            "gridcolor": "white",
            "linecolor": "white",
            "ticks": ""
           },
           "bgcolor": "#E5ECF6",
           "radialaxis": {
            "gridcolor": "white",
            "linecolor": "white",
            "ticks": ""
           }
          },
          "scene": {
           "xaxis": {
            "backgroundcolor": "#E5ECF6",
            "gridcolor": "white",
            "gridwidth": 2,
            "linecolor": "white",
            "showbackground": true,
            "ticks": "",
            "zerolinecolor": "white"
           },
           "yaxis": {
            "backgroundcolor": "#E5ECF6",
            "gridcolor": "white",
            "gridwidth": 2,
            "linecolor": "white",
            "showbackground": true,
            "ticks": "",
            "zerolinecolor": "white"
           },
           "zaxis": {
            "backgroundcolor": "#E5ECF6",
            "gridcolor": "white",
            "gridwidth": 2,
            "linecolor": "white",
            "showbackground": true,
            "ticks": "",
            "zerolinecolor": "white"
           }
          },
          "shapedefaults": {
           "line": {
            "color": "#2a3f5f"
           }
          },
          "ternary": {
           "aaxis": {
            "gridcolor": "white",
            "linecolor": "white",
            "ticks": ""
           },
           "baxis": {
            "gridcolor": "white",
            "linecolor": "white",
            "ticks": ""
           },
           "bgcolor": "#E5ECF6",
           "caxis": {
            "gridcolor": "white",
            "linecolor": "white",
            "ticks": ""
           }
          },
          "title": {
           "x": 0.05
          },
          "xaxis": {
           "automargin": true,
           "gridcolor": "white",
           "linecolor": "white",
           "ticks": "",
           "title": {
            "standoff": 15
           },
           "zerolinecolor": "white",
           "zerolinewidth": 2
          },
          "yaxis": {
           "automargin": true,
           "gridcolor": "white",
           "linecolor": "white",
           "ticks": "",
           "title": {
            "standoff": 15
           },
           "zerolinecolor": "white",
           "zerolinewidth": 2
          }
         }
        },
        "title": {
         "text": "Genre"
        }
       }
      },
      "text/html": [
       "<div>                            <div id=\"b8fa5939-7876-482f-aa6a-7f3928199b8b\" class=\"plotly-graph-div\" style=\"height:525px; width:100%;\"></div>            <script type=\"text/javascript\">                require([\"plotly\"], function(Plotly) {                    window.PLOTLYENV=window.PLOTLYENV || {};                                    if (document.getElementById(\"b8fa5939-7876-482f-aa6a-7f3928199b8b\")) {                    Plotly.newPlot(                        \"b8fa5939-7876-482f-aa6a-7f3928199b8b\",                        [{\"marker\":{\"color\":[\"purple\",\"purple\",\"purple\",\"purple\",\"purple\"]},\"type\":\"bar\",\"x\":[\"Adventure\",\"Role-Playing-RPG\",\"Indie\",\"Strategy\"],\"y\":[104,75,48,41]}],                        {\"font\":{\"color\":\"black\",\"size\":17},\"template\":{\"data\":{\"bar\":[{\"error_x\":{\"color\":\"#2a3f5f\"},\"error_y\":{\"color\":\"#2a3f5f\"},\"marker\":{\"line\":{\"color\":\"#E5ECF6\",\"width\":0.5},\"pattern\":{\"fillmode\":\"overlay\",\"size\":10,\"solidity\":0.2}},\"type\":\"bar\"}],\"barpolar\":[{\"marker\":{\"line\":{\"color\":\"#E5ECF6\",\"width\":0.5},\"pattern\":{\"fillmode\":\"overlay\",\"size\":10,\"solidity\":0.2}},\"type\":\"barpolar\"}],\"carpet\":[{\"aaxis\":{\"endlinecolor\":\"#2a3f5f\",\"gridcolor\":\"white\",\"linecolor\":\"white\",\"minorgridcolor\":\"white\",\"startlinecolor\":\"#2a3f5f\"},\"baxis\":{\"endlinecolor\":\"#2a3f5f\",\"gridcolor\":\"white\",\"linecolor\":\"white\",\"minorgridcolor\":\"white\",\"startlinecolor\":\"#2a3f5f\"},\"type\":\"carpet\"}],\"choropleth\":[{\"colorbar\":{\"outlinewidth\":0,\"ticks\":\"\"},\"type\":\"choropleth\"}],\"contour\":[{\"colorbar\":{\"outlinewidth\":0,\"ticks\":\"\"},\"colorscale\":[[0.0,\"#0d0887\"],[0.1111111111111111,\"#46039f\"],[0.2222222222222222,\"#7201a8\"],[0.3333333333333333,\"#9c179e\"],[0.4444444444444444,\"#bd3786\"],[0.5555555555555556,\"#d8576b\"],[0.6666666666666666,\"#ed7953\"],[0.7777777777777778,\"#fb9f3a\"],[0.8888888888888888,\"#fdca26\"],[1.0,\"#f0f921\"]],\"type\":\"contour\"}],\"contourcarpet\":[{\"colorbar\":{\"outlinewidth\":0,\"ticks\":\"\"},\"type\":\"contourcarpet\"}],\"heatmap\":[{\"colorbar\":{\"outlinewidth\":0,\"ticks\":\"\"},\"colorscale\":[[0.0,\"#0d0887\"],[0.1111111111111111,\"#46039f\"],[0.2222222222222222,\"#7201a8\"],[0.3333333333333333,\"#9c179e\"],[0.4444444444444444,\"#bd3786\"],[0.5555555555555556,\"#d8576b\"],[0.6666666666666666,\"#ed7953\"],[0.7777777777777778,\"#fb9f3a\"],[0.8888888888888888,\"#fdca26\"],[1.0,\"#f0f921\"]],\"type\":\"heatmap\"}],\"heatmapgl\":[{\"colorbar\":{\"outlinewidth\":0,\"ticks\":\"\"},\"colorscale\":[[0.0,\"#0d0887\"],[0.1111111111111111,\"#46039f\"],[0.2222222222222222,\"#7201a8\"],[0.3333333333333333,\"#9c179e\"],[0.4444444444444444,\"#bd3786\"],[0.5555555555555556,\"#d8576b\"],[0.6666666666666666,\"#ed7953\"],[0.7777777777777778,\"#fb9f3a\"],[0.8888888888888888,\"#fdca26\"],[1.0,\"#f0f921\"]],\"type\":\"heatmapgl\"}],\"histogram\":[{\"marker\":{\"pattern\":{\"fillmode\":\"overlay\",\"size\":10,\"solidity\":0.2}},\"type\":\"histogram\"}],\"histogram2d\":[{\"colorbar\":{\"outlinewidth\":0,\"ticks\":\"\"},\"colorscale\":[[0.0,\"#0d0887\"],[0.1111111111111111,\"#46039f\"],[0.2222222222222222,\"#7201a8\"],[0.3333333333333333,\"#9c179e\"],[0.4444444444444444,\"#bd3786\"],[0.5555555555555556,\"#d8576b\"],[0.6666666666666666,\"#ed7953\"],[0.7777777777777778,\"#fb9f3a\"],[0.8888888888888888,\"#fdca26\"],[1.0,\"#f0f921\"]],\"type\":\"histogram2d\"}],\"histogram2dcontour\":[{\"colorbar\":{\"outlinewidth\":0,\"ticks\":\"\"},\"colorscale\":[[0.0,\"#0d0887\"],[0.1111111111111111,\"#46039f\"],[0.2222222222222222,\"#7201a8\"],[0.3333333333333333,\"#9c179e\"],[0.4444444444444444,\"#bd3786\"],[0.5555555555555556,\"#d8576b\"],[0.6666666666666666,\"#ed7953\"],[0.7777777777777778,\"#fb9f3a\"],[0.8888888888888888,\"#fdca26\"],[1.0,\"#f0f921\"]],\"type\":\"histogram2dcontour\"}],\"mesh3d\":[{\"colorbar\":{\"outlinewidth\":0,\"ticks\":\"\"},\"type\":\"mesh3d\"}],\"parcoords\":[{\"line\":{\"colorbar\":{\"outlinewidth\":0,\"ticks\":\"\"}},\"type\":\"parcoords\"}],\"pie\":[{\"automargin\":true,\"type\":\"pie\"}],\"scatter\":[{\"marker\":{\"colorbar\":{\"outlinewidth\":0,\"ticks\":\"\"}},\"type\":\"scatter\"}],\"scatter3d\":[{\"line\":{\"colorbar\":{\"outlinewidth\":0,\"ticks\":\"\"}},\"marker\":{\"colorbar\":{\"outlinewidth\":0,\"ticks\":\"\"}},\"type\":\"scatter3d\"}],\"scattercarpet\":[{\"marker\":{\"colorbar\":{\"outlinewidth\":0,\"ticks\":\"\"}},\"type\":\"scattercarpet\"}],\"scattergeo\":[{\"marker\":{\"colorbar\":{\"outlinewidth\":0,\"ticks\":\"\"}},\"type\":\"scattergeo\"}],\"scattergl\":[{\"marker\":{\"colorbar\":{\"outlinewidth\":0,\"ticks\":\"\"}},\"type\":\"scattergl\"}],\"scattermapbox\":[{\"marker\":{\"colorbar\":{\"outlinewidth\":0,\"ticks\":\"\"}},\"type\":\"scattermapbox\"}],\"scatterpolar\":[{\"marker\":{\"colorbar\":{\"outlinewidth\":0,\"ticks\":\"\"}},\"type\":\"scatterpolar\"}],\"scatterpolargl\":[{\"marker\":{\"colorbar\":{\"outlinewidth\":0,\"ticks\":\"\"}},\"type\":\"scatterpolargl\"}],\"scatterternary\":[{\"marker\":{\"colorbar\":{\"outlinewidth\":0,\"ticks\":\"\"}},\"type\":\"scatterternary\"}],\"surface\":[{\"colorbar\":{\"outlinewidth\":0,\"ticks\":\"\"},\"colorscale\":[[0.0,\"#0d0887\"],[0.1111111111111111,\"#46039f\"],[0.2222222222222222,\"#7201a8\"],[0.3333333333333333,\"#9c179e\"],[0.4444444444444444,\"#bd3786\"],[0.5555555555555556,\"#d8576b\"],[0.6666666666666666,\"#ed7953\"],[0.7777777777777778,\"#fb9f3a\"],[0.8888888888888888,\"#fdca26\"],[1.0,\"#f0f921\"]],\"type\":\"surface\"}],\"table\":[{\"cells\":{\"fill\":{\"color\":\"#EBF0F8\"},\"line\":{\"color\":\"white\"}},\"header\":{\"fill\":{\"color\":\"#C8D4E3\"},\"line\":{\"color\":\"white\"}},\"type\":\"table\"}]},\"layout\":{\"annotationdefaults\":{\"arrowcolor\":\"#2a3f5f\",\"arrowhead\":0,\"arrowwidth\":1},\"autotypenumbers\":\"strict\",\"coloraxis\":{\"colorbar\":{\"outlinewidth\":0,\"ticks\":\"\"}},\"colorscale\":{\"diverging\":[[0,\"#8e0152\"],[0.1,\"#c51b7d\"],[0.2,\"#de77ae\"],[0.3,\"#f1b6da\"],[0.4,\"#fde0ef\"],[0.5,\"#f7f7f7\"],[0.6,\"#e6f5d0\"],[0.7,\"#b8e186\"],[0.8,\"#7fbc41\"],[0.9,\"#4d9221\"],[1,\"#276419\"]],\"sequential\":[[0.0,\"#0d0887\"],[0.1111111111111111,\"#46039f\"],[0.2222222222222222,\"#7201a8\"],[0.3333333333333333,\"#9c179e\"],[0.4444444444444444,\"#bd3786\"],[0.5555555555555556,\"#d8576b\"],[0.6666666666666666,\"#ed7953\"],[0.7777777777777778,\"#fb9f3a\"],[0.8888888888888888,\"#fdca26\"],[1.0,\"#f0f921\"]],\"sequentialminus\":[[0.0,\"#0d0887\"],[0.1111111111111111,\"#46039f\"],[0.2222222222222222,\"#7201a8\"],[0.3333333333333333,\"#9c179e\"],[0.4444444444444444,\"#bd3786\"],[0.5555555555555556,\"#d8576b\"],[0.6666666666666666,\"#ed7953\"],[0.7777777777777778,\"#fb9f3a\"],[0.8888888888888888,\"#fdca26\"],[1.0,\"#f0f921\"]]},\"colorway\":[\"#636efa\",\"#EF553B\",\"#00cc96\",\"#ab63fa\",\"#FFA15A\",\"#19d3f3\",\"#FF6692\",\"#B6E880\",\"#FF97FF\",\"#FECB52\"],\"font\":{\"color\":\"#2a3f5f\"},\"geo\":{\"bgcolor\":\"white\",\"lakecolor\":\"white\",\"landcolor\":\"#E5ECF6\",\"showlakes\":true,\"showland\":true,\"subunitcolor\":\"white\"},\"hoverlabel\":{\"align\":\"left\"},\"hovermode\":\"closest\",\"mapbox\":{\"style\":\"light\"},\"paper_bgcolor\":\"white\",\"plot_bgcolor\":\"#E5ECF6\",\"polar\":{\"angularaxis\":{\"gridcolor\":\"white\",\"linecolor\":\"white\",\"ticks\":\"\"},\"bgcolor\":\"#E5ECF6\",\"radialaxis\":{\"gridcolor\":\"white\",\"linecolor\":\"white\",\"ticks\":\"\"}},\"scene\":{\"xaxis\":{\"backgroundcolor\":\"#E5ECF6\",\"gridcolor\":\"white\",\"gridwidth\":2,\"linecolor\":\"white\",\"showbackground\":true,\"ticks\":\"\",\"zerolinecolor\":\"white\"},\"yaxis\":{\"backgroundcolor\":\"#E5ECF6\",\"gridcolor\":\"white\",\"gridwidth\":2,\"linecolor\":\"white\",\"showbackground\":true,\"ticks\":\"\",\"zerolinecolor\":\"white\"},\"zaxis\":{\"backgroundcolor\":\"#E5ECF6\",\"gridcolor\":\"white\",\"gridwidth\":2,\"linecolor\":\"white\",\"showbackground\":true,\"ticks\":\"\",\"zerolinecolor\":\"white\"}},\"shapedefaults\":{\"line\":{\"color\":\"#2a3f5f\"}},\"ternary\":{\"aaxis\":{\"gridcolor\":\"white\",\"linecolor\":\"white\",\"ticks\":\"\"},\"baxis\":{\"gridcolor\":\"white\",\"linecolor\":\"white\",\"ticks\":\"\"},\"bgcolor\":\"#E5ECF6\",\"caxis\":{\"gridcolor\":\"white\",\"linecolor\":\"white\",\"ticks\":\"\"}},\"title\":{\"x\":0.05},\"xaxis\":{\"automargin\":true,\"gridcolor\":\"white\",\"linecolor\":\"white\",\"ticks\":\"\",\"title\":{\"standoff\":15},\"zerolinecolor\":\"white\",\"zerolinewidth\":2},\"yaxis\":{\"automargin\":true,\"gridcolor\":\"white\",\"linecolor\":\"white\",\"ticks\":\"\",\"title\":{\"standoff\":15},\"zerolinecolor\":\"white\",\"zerolinewidth\":2}}},\"title\":{\"text\":\"Genre\"}},                        {\"responsive\": true}                    ).then(function(){\n",
       "                            \n",
       "var gd = document.getElementById('b8fa5939-7876-482f-aa6a-7f3928199b8b');\n",
       "var x = new MutationObserver(function (mutations, observer) {{\n",
       "        var display = window.getComputedStyle(gd).display;\n",
       "        if (!display || display === 'none') {{\n",
       "            console.log([gd, 'removed!']);\n",
       "            Plotly.purge(gd);\n",
       "            observer.disconnect();\n",
       "        }}\n",
       "}});\n",
       "\n",
       "// Listen for the removal of the full notebook cells\n",
       "var notebookContainer = gd.closest('#notebook-container');\n",
       "if (notebookContainer) {{\n",
       "    x.observe(notebookContainer, {childList: true});\n",
       "}}\n",
       "\n",
       "// Listen for the clearing of the current output cell\n",
       "var outputEl = gd.closest('.output');\n",
       "if (outputEl) {{\n",
       "    x.observe(outputEl, {childList: true});\n",
       "}}\n",
       "\n",
       "                        })                };                });            </script>        </div>"
      ]
     },
     "metadata": {},
     "output_type": "display_data"
    }
   ],
   "source": [
    "colors = ['purple',] * 5\n",
    "\n",
    "\n",
    "fig = go.Figure(data=[go.Bar(\n",
    "    x=['Adventure', 'Role-Playing-RPG' , 'Indie' , 'Strategy'],\n",
    "    y=[104, 75, 48,  41],\n",
    "    marker_color=colors # marker color can be a single color value or an iterable\n",
    ")])\n",
    "fig.update_layout(title_text='Genre', font=dict(size=17, color=\"black\"))"
   ]
  },
  {
   "cell_type": "markdown",
   "id": "3ac0946e",
   "metadata": {},
   "source": [
    ">- Answer- the most common Genre in the higest rating are adventure, role-playing- rpg, shoter, rts, racing "
   ]
  },
  {
   "cell_type": "markdown",
   "id": "70e821dc",
   "metadata": {},
   "source": [
    "## Q 2.1 what about the three highest ratings (good, great, subperb) ? what is the overall most highest genre"
   ]
  },
  {
   "cell_type": "code",
   "execution_count": null,
   "id": "b6df1bc3",
   "metadata": {},
   "outputs": [],
   "source": [
    "# fig, ax = plt.subplots(figsize = (14,4))\n",
    "# ax.bar(to_1D(df_top3_rating[\"genres\"]).value_counts().iloc[:7].index,\n",
    "#         to_1D(df_top3_rating[\"genres\"]).value_counts().iloc[:7].values)\n",
    "# ax.set_ylabel(\"Frequency\", size = 12)\n",
    "# ax.set_title(\"genres\", size = 14)"
   ]
  },
  {
   "cell_type": "markdown",
   "id": "ab66e13f",
   "metadata": {},
   "source": [
    "## Q 2.2 what about the three lowest ratings ((bad, very bad , awful)) ? what is the overall most highest genre in these low rating games?"
   ]
  },
  {
   "cell_type": "code",
   "execution_count": 89,
   "id": "f5837580",
   "metadata": {
    "scrolled": true
   },
   "outputs": [
    {
     "data": {
      "text/plain": [
       "Text(0.5, 1.0, 'genre')"
      ]
     },
     "execution_count": 89,
     "metadata": {},
     "output_type": "execute_result"
    },
    {
     "data": {
      "image/png": "[encoded data removed]",
      "text/plain": [
       "<Figure size 1008x288 with 1 Axes>"
      ]
     },
     "metadata": {
      "needs_background": "light"
     },
     "output_type": "display_data"
    }
   ],
   "source": [
    "fig, ax = plt.subplots(figsize = (14,4))\n",
    "ax.bar(to_1D(df_low3_rating[\"genres\"]).value_counts().iloc[:7].index,\n",
    "        to_1D(df_low3_rating[\"genres\"]).value_counts().iloc[:7].values)\n",
    "ax.set_ylabel(\"Frequency\", size = 12)\n",
    "ax.set_title(\"genre\", size = 14)"
   ]
  },
  {
   "cell_type": "code",
   "execution_count": null,
   "id": "27e2c29a",
   "metadata": {
    "scrolled": true
   },
   "outputs": [],
   "source": [
    "# df_low2_rating = df2[(df2['rating_bin']== 'very_bad') | (df2['rating_bin']== 'awful')]\n",
    "# df_low2_rating.head()\n",
    "#this was not needed "
   ]
  },
  {
   "cell_type": "code",
   "execution_count": null,
   "id": "ad55e5d1",
   "metadata": {},
   "outputs": [],
   "source": []
  },
  {
   "cell_type": "markdown",
   "id": "18a69a2d",
   "metadata": {},
   "source": [
    "# Q3- what is the most common theme in games that are subperb (the highest rating)"
   ]
  },
  {
   "cell_type": "markdown",
   "id": "74003c51",
   "metadata": {},
   "source": [
    "Answer - the most common themes in the subperb is action, fantasy, science fiction, historical."
   ]
  },
  {
   "cell_type": "code",
   "execution_count": 21,
   "id": "b8cc1f70",
   "metadata": {},
   "outputs": [
    {
     "data": {
      "text/plain": [
       "([0, 1, 2, 3],\n",
       " [Text(0, 0, ''), Text(0, 0, ''), Text(0, 0, ''), Text(0, 0, '')])"
      ]
     },
     "execution_count": 21,
     "metadata": {},
     "output_type": "execute_result"
    },
    {
     "data": {
      "image/png": "[encoded data removed]",
      "text/plain": [
       "<Figure size 1008x432 with 1 Axes>"
      ]
     },
     "metadata": {
      "needs_background": "light"
     },
     "output_type": "display_data"
    }
   ],
   "source": [
    "fig, ax = plt.subplots(figsize = (14,6))\n",
    "ax.bar(to_1D(df_subperb_rating[\"themes\"]).value_counts().iloc[:4].index,\n",
    "        to_1D(df_subperb_rating[\"themes\"]).value_counts().iloc[:4].values,\n",
    "           color= ['purple'])\n",
    "ax.set_ylabel(\"Frequency\", size = 20)\n",
    "ax.set_title(\"Most common themes in superb games\", size = 20)\n",
    "plt.xticks(fontsize = 15)"
   ]
  },
  {
   "cell_type": "code",
   "execution_count": 78,
   "id": "131bbcdb",
   "metadata": {},
   "outputs": [
    {
     "data": {
      "text/plain": [
       "Index(['action', 'fantasy', 'science-fiction', 'open-world'], dtype='object')"
      ]
     },
     "execution_count": 78,
     "metadata": {},
     "output_type": "execute_result"
    }
   ],
   "source": [
    "to_1D(df_subperb_rating[\"themes\"]).value_counts().iloc[:4].index"
   ]
  },
  {
   "cell_type": "code",
   "execution_count": 80,
   "id": "93f3ce61",
   "metadata": {},
   "outputs": [
    {
     "data": {
      "text/plain": [
       "array([107,  66,  36,  28])"
      ]
     },
     "execution_count": 80,
     "metadata": {},
     "output_type": "execute_result"
    }
   ],
   "source": [
    "to_1D(df_subperb_rating[\"themes\"]).value_counts().iloc[:4].values"
   ]
  },
  {
   "cell_type": "code",
   "execution_count": 82,
   "id": "4a00e1cd",
   "metadata": {},
   "outputs": [
    {
     "data": {
      "application/vnd.plotly.v1+json": {
       "config": {
        "plotlyServerURL": "https://plot.ly"
       },
       "data": [
        {
         "marker": {
          "color": [
           "purple",
           "purple",
           "purple",
           "purple",
           "purple"
          ]
         },
         "type": "bar",
         "x": [
          "Action",
          "Fantasy",
          "Science-Fiction",
          "Open-World"
         ],
         "y": [
          107,
          66,
          36,
          28
         ]
        }
       ],
       "layout": {
        "font": {
         "color": "black",
         "size": 17
        },
        "template": {
         "data": {
          "bar": [
           {
            "error_x": {
             "color": "#2a3f5f"
            },
            "error_y": {
             "color": "#2a3f5f"
            },
            "marker": {
             "line": {
              "color": "#E5ECF6",
              "width": 0.5
             },
             "pattern": {
              "fillmode": "overlay",
              "size": 10,
              "solidity": 0.2
             }
            },
            "type": "bar"
           }
          ],
          "barpolar": [
           {
            "marker": {
             "line": {
              "color": "#E5ECF6",
              "width": 0.5
             },
             "pattern": {
              "fillmode": "overlay",
              "size": 10,
              "solidity": 0.2
             }
            },
            "type": "barpolar"
           }
          ],
          "carpet": [
           {
            "aaxis": {
             "endlinecolor": "#2a3f5f",
             "gridcolor": "white",
             "linecolor": "white",
             "minorgridcolor": "white",
             "startlinecolor": "#2a3f5f"
            },
            "baxis": {
             "endlinecolor": "#2a3f5f",
             "gridcolor": "white",
             "linecolor": "white",
             "minorgridcolor": "white",
             "startlinecolor": "#2a3f5f"
            },
            "type": "carpet"
           }
          ],
          "choropleth": [
           {
            "colorbar": {
             "outlinewidth": 0,
             "ticks": ""
            },
            "type": "choropleth"
           }
          ],
          "contour": [
           {
            "colorbar": {
             "outlinewidth": 0,
             "ticks": ""
            },
            "colorscale": [
             [
              0,
              "#0d0887"
             ],
             [
              0.1111111111111111,
              "#46039f"
             ],
             [
              0.2222222222222222,
              "#7201a8"
             ],
             [
              0.3333333333333333,
              "#9c179e"
             ],
             [
              0.4444444444444444,
              "#bd3786"
             ],
             [
              0.5555555555555556,
              "#d8576b"
             ],
             [
              0.6666666666666666,
              "#ed7953"
             ],
             [
              0.7777777777777778,
              "#fb9f3a"
             ],
             [
              0.8888888888888888,
              "#fdca26"
             ],
             [
              1,
              "#f0f921"
             ]
            ],
            "type": "contour"
           }
          ],
          "contourcarpet": [
           {
            "colorbar": {
             "outlinewidth": 0,
             "ticks": ""
            },
            "type": "contourcarpet"
           }
          ],
          "heatmap": [
           {
            "colorbar": {
             "outlinewidth": 0,
             "ticks": ""
            },
            "colorscale": [
             [
              0,
              "#0d0887"
             ],
             [
              0.1111111111111111,
              "#46039f"
             ],
             [
              0.2222222222222222,
              "#7201a8"
             ],
             [
              0.3333333333333333,
              "#9c179e"
             ],
             [
              0.4444444444444444,
              "#bd3786"
             ],
             [
              0.5555555555555556,
              "#d8576b"
             ],
             [
              0.6666666666666666,
              "#ed7953"
             ],
             [
              0.7777777777777778,
              "#fb9f3a"
             ],
             [
              0.8888888888888888,
              "#fdca26"
             ],
             [
              1,
              "#f0f921"
             ]
            ],
            "type": "heatmap"
           }
          ],
          "heatmapgl": [
           {
            "colorbar": {
             "outlinewidth": 0,
             "ticks": ""
            },
            "colorscale": [
             [
              0,
              "#0d0887"
             ],
             [
              0.1111111111111111,
              "#46039f"
             ],
             [
              0.2222222222222222,
              "#7201a8"
             ],
             [
              0.3333333333333333,
              "#9c179e"
             ],
             [
              0.4444444444444444,
              "#bd3786"
             ],
             [
              0.5555555555555556,
              "#d8576b"
             ],
             [
              0.6666666666666666,
              "#ed7953"
             ],
             [
              0.7777777777777778,
              "#fb9f3a"
             ],
             [
              0.8888888888888888,
              "#fdca26"
             ],
             [
              1,
              "#f0f921"
             ]
            ],
            "type": "heatmapgl"
           }
          ],
          "histogram": [
           {
            "marker": {
             "pattern": {
              "fillmode": "overlay",
              "size": 10,
              "solidity": 0.2
             }
            },
            "type": "histogram"
           }
          ],
          "histogram2d": [
           {
            "colorbar": {
             "outlinewidth": 0,
             "ticks": ""
            },
            "colorscale": [
             [
              0,
              "#0d0887"
             ],
             [
              0.1111111111111111,
              "#46039f"
             ],
             [
              0.2222222222222222,
              "#7201a8"
             ],
             [
              0.3333333333333333,
              "#9c179e"
             ],
             [
              0.4444444444444444,
              "#bd3786"
             ],
             [
              0.5555555555555556,
              "#d8576b"
             ],
             [
              0.6666666666666666,
              "#ed7953"
             ],
             [
              0.7777777777777778,
              "#fb9f3a"
             ],
             [
              0.8888888888888888,
              "#fdca26"
             ],
             [
              1,
              "#f0f921"
             ]
            ],
            "type": "histogram2d"
           }
          ],
          "histogram2dcontour": [
           {
            "colorbar": {
             "outlinewidth": 0,
             "ticks": ""
            },
            "colorscale": [
             [
              0,
              "#0d0887"
             ],
             [
              0.1111111111111111,
              "#46039f"
             ],
             [
              0.2222222222222222,
              "#7201a8"
             ],
             [
              0.3333333333333333,
              "#9c179e"
             ],
             [
              0.4444444444444444,
              "#bd3786"
             ],
             [
              0.5555555555555556,
              "#d8576b"
             ],
             [
              0.6666666666666666,
              "#ed7953"
             ],
             [
              0.7777777777777778,
              "#fb9f3a"
             ],
             [
              0.8888888888888888,
              "#fdca26"
             ],
             [
              1,
              "#f0f921"
             ]
            ],
            "type": "histogram2dcontour"
           }
          ],
          "mesh3d": [
           {
            "colorbar": {
             "outlinewidth": 0,
             "ticks": ""
            },
            "type": "mesh3d"
           }
          ],
          "parcoords": [
           {
            "line": {
             "colorbar": {
              "outlinewidth": 0,
              "ticks": ""
             }
            },
            "type": "parcoords"
           }
          ],
          "pie": [
           {
            "automargin": true,
            "type": "pie"
           }
          ],
          "scatter": [
           {
            "marker": {
             "colorbar": {
              "outlinewidth": 0,
              "ticks": ""
             }
            },
            "type": "scatter"
           }
          ],
          "scatter3d": [
           {
            "line": {
             "colorbar": {
              "outlinewidth": 0,
              "ticks": ""
             }
            },
            "marker": {
             "colorbar": {
              "outlinewidth": 0,
              "ticks": ""
             }
            },
            "type": "scatter3d"
           }
          ],
          "scattercarpet": [
           {
            "marker": {
             "colorbar": {
              "outlinewidth": 0,
              "ticks": ""
             }
            },
            "type": "scattercarpet"
           }
          ],
          "scattergeo": [
           {
            "marker": {
             "colorbar": {
              "outlinewidth": 0,
              "ticks": ""
             }
            },
            "type": "scattergeo"
           }
          ],
          "scattergl": [
           {
            "marker": {
             "colorbar": {
              "outlinewidth": 0,
              "ticks": ""
             }
            },
            "type": "scattergl"
           }
          ],
          "scattermapbox": [
           {
            "marker": {
             "colorbar": {
              "outlinewidth": 0,
              "ticks": ""
             }
            },
            "type": "scattermapbox"
           }
          ],
          "scatterpolar": [
           {
            "marker": {
             "colorbar": {
              "outlinewidth": 0,
              "ticks": ""
             }
            },
            "type": "scatterpolar"
           }
          ],
          "scatterpolargl": [
           {
            "marker": {
             "colorbar": {
              "outlinewidth": 0,
              "ticks": ""
             }
            },
            "type": "scatterpolargl"
           }
          ],
          "scatterternary": [
           {
            "marker": {
             "colorbar": {
              "outlinewidth": 0,
              "ticks": ""
             }
            },
            "type": "scatterternary"
           }
          ],
          "surface": [
           {
            "colorbar": {
             "outlinewidth": 0,
             "ticks": ""
            },
            "colorscale": [
             [
              0,
              "#0d0887"
             ],
             [
              0.1111111111111111,
              "#46039f"
             ],
             [
              0.2222222222222222,
              "#7201a8"
             ],
             [
              0.3333333333333333,
              "#9c179e"
             ],
             [
              0.4444444444444444,
              "#bd3786"
             ],
             [
              0.5555555555555556,
              "#d8576b"
             ],
             [
              0.6666666666666666,
              "#ed7953"
             ],
             [
              0.7777777777777778,
              "#fb9f3a"
             ],
             [
              0.8888888888888888,
              "#fdca26"
             ],
             [
              1,
              "#f0f921"
             ]
            ],
            "type": "surface"
           }
          ],
          "table": [
           {
            "cells": {
             "fill": {
              "color": "#EBF0F8"
             },
             "line": {
              "color": "white"
             }
            },
            "header": {
             "fill": {
              "color": "#C8D4E3"
             },
             "line": {
              "color": "white"
             }
            },
            "type": "table"
           }
          ]
         },
         "layout": {
          "annotationdefaults": {
           "arrowcolor": "#2a3f5f",
           "arrowhead": 0,
           "arrowwidth": 1
          },
          "autotypenumbers": "strict",
          "coloraxis": {
           "colorbar": {
            "outlinewidth": 0,
            "ticks": ""
           }
          },
          "colorscale": {
           "diverging": [
            [
             0,
             "#8e0152"
            ],
            [
             0.1,
             "#c51b7d"
            ],
            [
             0.2,
             "#de77ae"
            ],
            [
             0.3,
             "#f1b6da"
            ],
            [
             0.4,
             "#fde0ef"
            ],
            [
             0.5,
             "#f7f7f7"
            ],
            [
             0.6,
             "#e6f5d0"
            ],
            [
             0.7,
             "#b8e186"
            ],
            [
             0.8,
             "#7fbc41"
            ],
            [
             0.9,
             "#4d9221"
            ],
            [
             1,
             "#276419"
            ]
           ],
           "sequential": [
            [
             0,
             "#0d0887"
            ],
            [
             0.1111111111111111,
             "#46039f"
            ],
            [
             0.2222222222222222,
             "#7201a8"
            ],
            [
             0.3333333333333333,
             "#9c179e"
            ],
            [
             0.4444444444444444,
             "#bd3786"
            ],
            [
             0.5555555555555556,
             "#d8576b"
            ],
            [
             0.6666666666666666,
             "#ed7953"
            ],
            [
             0.7777777777777778,
             "#fb9f3a"
            ],
            [
             0.8888888888888888,
             "#fdca26"
            ],
            [
             1,
             "#f0f921"
            ]
           ],
           "sequentialminus": [
            [
             0,
             "#0d0887"
            ],
            [
             0.1111111111111111,
             "#46039f"
            ],
            [
             0.2222222222222222,
             "#7201a8"
            ],
            [
             0.3333333333333333,
             "#9c179e"
            ],
            [
             0.4444444444444444,
             "#bd3786"
            ],
            [
             0.5555555555555556,
             "#d8576b"
            ],
            [
             0.6666666666666666,
             "#ed7953"
            ],
            [
             0.7777777777777778,
             "#fb9f3a"
            ],
            [
             0.8888888888888888,
             "#fdca26"
            ],
            [
             1,
             "#f0f921"
            ]
           ]
          },
          "colorway": [
           "#636efa",
           "#EF553B",
           "#00cc96",
           "#ab63fa",
           "#FFA15A",
           "#19d3f3",
           "#FF6692",
           "#B6E880",
           "#FF97FF",
           "#FECB52"
          ],
          "font": {
           "color": "#2a3f5f"
          },
          "geo": {
           "bgcolor": "white",
           "lakecolor": "white",
           "landcolor": "#E5ECF6",
           "showlakes": true,
           "showland": true,
           "subunitcolor": "white"
          },
          "hoverlabel": {
           "align": "left"
          },
          "hovermode": "closest",
          "mapbox": {
           "style": "light"
          },
          "paper_bgcolor": "white",
          "plot_bgcolor": "#E5ECF6",
          "polar": {
           "angularaxis": {
            "gridcolor": "white",
            "linecolor": "white",
            "ticks": ""
           },
           "bgcolor": "#E5ECF6",
           "radialaxis": {
            "gridcolor": "white",
            "linecolor": "white",
            "ticks": ""
           }
          },
          "scene": {
           "xaxis": {
            "backgroundcolor": "#E5ECF6",
            "gridcolor": "white",
            "gridwidth": 2,
            "linecolor": "white",
            "showbackground": true,
            "ticks": "",
            "zerolinecolor": "white"
           },
           "yaxis": {
            "backgroundcolor": "#E5ECF6",
            "gridcolor": "white",
            "gridwidth": 2,
            "linecolor": "white",
            "showbackground": true,
            "ticks": "",
            "zerolinecolor": "white"
           },
           "zaxis": {
            "backgroundcolor": "#E5ECF6",
            "gridcolor": "white",
            "gridwidth": 2,
            "linecolor": "white",
            "showbackground": true,
            "ticks": "",
            "zerolinecolor": "white"
           }
          },
          "shapedefaults": {
           "line": {
            "color": "#2a3f5f"
           }
          },
          "ternary": {
           "aaxis": {
            "gridcolor": "white",
            "linecolor": "white",
            "ticks": ""
           },
           "baxis": {
            "gridcolor": "white",
            "linecolor": "white",
            "ticks": ""
           },
           "bgcolor": "#E5ECF6",
           "caxis": {
            "gridcolor": "white",
            "linecolor": "white",
            "ticks": ""
           }
          },
          "title": {
           "x": 0.05
          },
          "xaxis": {
           "automargin": true,
           "gridcolor": "white",
           "linecolor": "white",
           "ticks": "",
           "title": {
            "standoff": 15
           },
           "zerolinecolor": "white",
           "zerolinewidth": 2
          },
          "yaxis": {
           "automargin": true,
           "gridcolor": "white",
           "linecolor": "white",
           "ticks": "",
           "title": {
            "standoff": 15
           },
           "zerolinecolor": "white",
           "zerolinewidth": 2
          }
         }
        },
        "title": {
         "text": "Themes"
        }
       }
      },
      "text/html": [
       "<div>                            <div id=\"d95eef09-d64d-48e1-9fc3-26078dbbd999\" class=\"plotly-graph-div\" style=\"height:525px; width:100%;\"></div>            <script type=\"text/javascript\">                require([\"plotly\"], function(Plotly) {                    window.PLOTLYENV=window.PLOTLYENV || {};                                    if (document.getElementById(\"d95eef09-d64d-48e1-9fc3-26078dbbd999\")) {                    Plotly.newPlot(                        \"d95eef09-d64d-48e1-9fc3-26078dbbd999\",                        [{\"marker\":{\"color\":[\"purple\",\"purple\",\"purple\",\"purple\",\"purple\"]},\"type\":\"bar\",\"x\":[\"Action\",\"Fantasy\",\"Science-Fiction\",\"Open-World\"],\"y\":[107,66,36,28]}],                        {\"font\":{\"color\":\"black\",\"size\":17},\"template\":{\"data\":{\"bar\":[{\"error_x\":{\"color\":\"#2a3f5f\"},\"error_y\":{\"color\":\"#2a3f5f\"},\"marker\":{\"line\":{\"color\":\"#E5ECF6\",\"width\":0.5},\"pattern\":{\"fillmode\":\"overlay\",\"size\":10,\"solidity\":0.2}},\"type\":\"bar\"}],\"barpolar\":[{\"marker\":{\"line\":{\"color\":\"#E5ECF6\",\"width\":0.5},\"pattern\":{\"fillmode\":\"overlay\",\"size\":10,\"solidity\":0.2}},\"type\":\"barpolar\"}],\"carpet\":[{\"aaxis\":{\"endlinecolor\":\"#2a3f5f\",\"gridcolor\":\"white\",\"linecolor\":\"white\",\"minorgridcolor\":\"white\",\"startlinecolor\":\"#2a3f5f\"},\"baxis\":{\"endlinecolor\":\"#2a3f5f\",\"gridcolor\":\"white\",\"linecolor\":\"white\",\"minorgridcolor\":\"white\",\"startlinecolor\":\"#2a3f5f\"},\"type\":\"carpet\"}],\"choropleth\":[{\"colorbar\":{\"outlinewidth\":0,\"ticks\":\"\"},\"type\":\"choropleth\"}],\"contour\":[{\"colorbar\":{\"outlinewidth\":0,\"ticks\":\"\"},\"colorscale\":[[0.0,\"#0d0887\"],[0.1111111111111111,\"#46039f\"],[0.2222222222222222,\"#7201a8\"],[0.3333333333333333,\"#9c179e\"],[0.4444444444444444,\"#bd3786\"],[0.5555555555555556,\"#d8576b\"],[0.6666666666666666,\"#ed7953\"],[0.7777777777777778,\"#fb9f3a\"],[0.8888888888888888,\"#fdca26\"],[1.0,\"#f0f921\"]],\"type\":\"contour\"}],\"contourcarpet\":[{\"colorbar\":{\"outlinewidth\":0,\"ticks\":\"\"},\"type\":\"contourcarpet\"}],\"heatmap\":[{\"colorbar\":{\"outlinewidth\":0,\"ticks\":\"\"},\"colorscale\":[[0.0,\"#0d0887\"],[0.1111111111111111,\"#46039f\"],[0.2222222222222222,\"#7201a8\"],[0.3333333333333333,\"#9c179e\"],[0.4444444444444444,\"#bd3786\"],[0.5555555555555556,\"#d8576b\"],[0.6666666666666666,\"#ed7953\"],[0.7777777777777778,\"#fb9f3a\"],[0.8888888888888888,\"#fdca26\"],[1.0,\"#f0f921\"]],\"type\":\"heatmap\"}],\"heatmapgl\":[{\"colorbar\":{\"outlinewidth\":0,\"ticks\":\"\"},\"colorscale\":[[0.0,\"#0d0887\"],[0.1111111111111111,\"#46039f\"],[0.2222222222222222,\"#7201a8\"],[0.3333333333333333,\"#9c179e\"],[0.4444444444444444,\"#bd3786\"],[0.5555555555555556,\"#d8576b\"],[0.6666666666666666,\"#ed7953\"],[0.7777777777777778,\"#fb9f3a\"],[0.8888888888888888,\"#fdca26\"],[1.0,\"#f0f921\"]],\"type\":\"heatmapgl\"}],\"histogram\":[{\"marker\":{\"pattern\":{\"fillmode\":\"overlay\",\"size\":10,\"solidity\":0.2}},\"type\":\"histogram\"}],\"histogram2d\":[{\"colorbar\":{\"outlinewidth\":0,\"ticks\":\"\"},\"colorscale\":[[0.0,\"#0d0887\"],[0.1111111111111111,\"#46039f\"],[0.2222222222222222,\"#7201a8\"],[0.3333333333333333,\"#9c179e\"],[0.4444444444444444,\"#bd3786\"],[0.5555555555555556,\"#d8576b\"],[0.6666666666666666,\"#ed7953\"],[0.7777777777777778,\"#fb9f3a\"],[0.8888888888888888,\"#fdca26\"],[1.0,\"#f0f921\"]],\"type\":\"histogram2d\"}],\"histogram2dcontour\":[{\"colorbar\":{\"outlinewidth\":0,\"ticks\":\"\"},\"colorscale\":[[0.0,\"#0d0887\"],[0.1111111111111111,\"#46039f\"],[0.2222222222222222,\"#7201a8\"],[0.3333333333333333,\"#9c179e\"],[0.4444444444444444,\"#bd3786\"],[0.5555555555555556,\"#d8576b\"],[0.6666666666666666,\"#ed7953\"],[0.7777777777777778,\"#fb9f3a\"],[0.8888888888888888,\"#fdca26\"],[1.0,\"#f0f921\"]],\"type\":\"histogram2dcontour\"}],\"mesh3d\":[{\"colorbar\":{\"outlinewidth\":0,\"ticks\":\"\"},\"type\":\"mesh3d\"}],\"parcoords\":[{\"line\":{\"colorbar\":{\"outlinewidth\":0,\"ticks\":\"\"}},\"type\":\"parcoords\"}],\"pie\":[{\"automargin\":true,\"type\":\"pie\"}],\"scatter\":[{\"marker\":{\"colorbar\":{\"outlinewidth\":0,\"ticks\":\"\"}},\"type\":\"scatter\"}],\"scatter3d\":[{\"line\":{\"colorbar\":{\"outlinewidth\":0,\"ticks\":\"\"}},\"marker\":{\"colorbar\":{\"outlinewidth\":0,\"ticks\":\"\"}},\"type\":\"scatter3d\"}],\"scattercarpet\":[{\"marker\":{\"colorbar\":{\"outlinewidth\":0,\"ticks\":\"\"}},\"type\":\"scattercarpet\"}],\"scattergeo\":[{\"marker\":{\"colorbar\":{\"outlinewidth\":0,\"ticks\":\"\"}},\"type\":\"scattergeo\"}],\"scattergl\":[{\"marker\":{\"colorbar\":{\"outlinewidth\":0,\"ticks\":\"\"}},\"type\":\"scattergl\"}],\"scattermapbox\":[{\"marker\":{\"colorbar\":{\"outlinewidth\":0,\"ticks\":\"\"}},\"type\":\"scattermapbox\"}],\"scatterpolar\":[{\"marker\":{\"colorbar\":{\"outlinewidth\":0,\"ticks\":\"\"}},\"type\":\"scatterpolar\"}],\"scatterpolargl\":[{\"marker\":{\"colorbar\":{\"outlinewidth\":0,\"ticks\":\"\"}},\"type\":\"scatterpolargl\"}],\"scatterternary\":[{\"marker\":{\"colorbar\":{\"outlinewidth\":0,\"ticks\":\"\"}},\"type\":\"scatterternary\"}],\"surface\":[{\"colorbar\":{\"outlinewidth\":0,\"ticks\":\"\"},\"colorscale\":[[0.0,\"#0d0887\"],[0.1111111111111111,\"#46039f\"],[0.2222222222222222,\"#7201a8\"],[0.3333333333333333,\"#9c179e\"],[0.4444444444444444,\"#bd3786\"],[0.5555555555555556,\"#d8576b\"],[0.6666666666666666,\"#ed7953\"],[0.7777777777777778,\"#fb9f3a\"],[0.8888888888888888,\"#fdca26\"],[1.0,\"#f0f921\"]],\"type\":\"surface\"}],\"table\":[{\"cells\":{\"fill\":{\"color\":\"#EBF0F8\"},\"line\":{\"color\":\"white\"}},\"header\":{\"fill\":{\"color\":\"#C8D4E3\"},\"line\":{\"color\":\"white\"}},\"type\":\"table\"}]},\"layout\":{\"annotationdefaults\":{\"arrowcolor\":\"#2a3f5f\",\"arrowhead\":0,\"arrowwidth\":1},\"autotypenumbers\":\"strict\",\"coloraxis\":{\"colorbar\":{\"outlinewidth\":0,\"ticks\":\"\"}},\"colorscale\":{\"diverging\":[[0,\"#8e0152\"],[0.1,\"#c51b7d\"],[0.2,\"#de77ae\"],[0.3,\"#f1b6da\"],[0.4,\"#fde0ef\"],[0.5,\"#f7f7f7\"],[0.6,\"#e6f5d0\"],[0.7,\"#b8e186\"],[0.8,\"#7fbc41\"],[0.9,\"#4d9221\"],[1,\"#276419\"]],\"sequential\":[[0.0,\"#0d0887\"],[0.1111111111111111,\"#46039f\"],[0.2222222222222222,\"#7201a8\"],[0.3333333333333333,\"#9c179e\"],[0.4444444444444444,\"#bd3786\"],[0.5555555555555556,\"#d8576b\"],[0.6666666666666666,\"#ed7953\"],[0.7777777777777778,\"#fb9f3a\"],[0.8888888888888888,\"#fdca26\"],[1.0,\"#f0f921\"]],\"sequentialminus\":[[0.0,\"#0d0887\"],[0.1111111111111111,\"#46039f\"],[0.2222222222222222,\"#7201a8\"],[0.3333333333333333,\"#9c179e\"],[0.4444444444444444,\"#bd3786\"],[0.5555555555555556,\"#d8576b\"],[0.6666666666666666,\"#ed7953\"],[0.7777777777777778,\"#fb9f3a\"],[0.8888888888888888,\"#fdca26\"],[1.0,\"#f0f921\"]]},\"colorway\":[\"#636efa\",\"#EF553B\",\"#00cc96\",\"#ab63fa\",\"#FFA15A\",\"#19d3f3\",\"#FF6692\",\"#B6E880\",\"#FF97FF\",\"#FECB52\"],\"font\":{\"color\":\"#2a3f5f\"},\"geo\":{\"bgcolor\":\"white\",\"lakecolor\":\"white\",\"landcolor\":\"#E5ECF6\",\"showlakes\":true,\"showland\":true,\"subunitcolor\":\"white\"},\"hoverlabel\":{\"align\":\"left\"},\"hovermode\":\"closest\",\"mapbox\":{\"style\":\"light\"},\"paper_bgcolor\":\"white\",\"plot_bgcolor\":\"#E5ECF6\",\"polar\":{\"angularaxis\":{\"gridcolor\":\"white\",\"linecolor\":\"white\",\"ticks\":\"\"},\"bgcolor\":\"#E5ECF6\",\"radialaxis\":{\"gridcolor\":\"white\",\"linecolor\":\"white\",\"ticks\":\"\"}},\"scene\":{\"xaxis\":{\"backgroundcolor\":\"#E5ECF6\",\"gridcolor\":\"white\",\"gridwidth\":2,\"linecolor\":\"white\",\"showbackground\":true,\"ticks\":\"\",\"zerolinecolor\":\"white\"},\"yaxis\":{\"backgroundcolor\":\"#E5ECF6\",\"gridcolor\":\"white\",\"gridwidth\":2,\"linecolor\":\"white\",\"showbackground\":true,\"ticks\":\"\",\"zerolinecolor\":\"white\"},\"zaxis\":{\"backgroundcolor\":\"#E5ECF6\",\"gridcolor\":\"white\",\"gridwidth\":2,\"linecolor\":\"white\",\"showbackground\":true,\"ticks\":\"\",\"zerolinecolor\":\"white\"}},\"shapedefaults\":{\"line\":{\"color\":\"#2a3f5f\"}},\"ternary\":{\"aaxis\":{\"gridcolor\":\"white\",\"linecolor\":\"white\",\"ticks\":\"\"},\"baxis\":{\"gridcolor\":\"white\",\"linecolor\":\"white\",\"ticks\":\"\"},\"bgcolor\":\"#E5ECF6\",\"caxis\":{\"gridcolor\":\"white\",\"linecolor\":\"white\",\"ticks\":\"\"}},\"title\":{\"x\":0.05},\"xaxis\":{\"automargin\":true,\"gridcolor\":\"white\",\"linecolor\":\"white\",\"ticks\":\"\",\"title\":{\"standoff\":15},\"zerolinecolor\":\"white\",\"zerolinewidth\":2},\"yaxis\":{\"automargin\":true,\"gridcolor\":\"white\",\"linecolor\":\"white\",\"ticks\":\"\",\"title\":{\"standoff\":15},\"zerolinecolor\":\"white\",\"zerolinewidth\":2}}},\"title\":{\"text\":\"Themes\"}},                        {\"responsive\": true}                    ).then(function(){\n",
       "                            \n",
       "var gd = document.getElementById('d95eef09-d64d-48e1-9fc3-26078dbbd999');\n",
       "var x = new MutationObserver(function (mutations, observer) {{\n",
       "        var display = window.getComputedStyle(gd).display;\n",
       "        if (!display || display === 'none') {{\n",
       "            console.log([gd, 'removed!']);\n",
       "            Plotly.purge(gd);\n",
       "            observer.disconnect();\n",
       "        }}\n",
       "}});\n",
       "\n",
       "// Listen for the removal of the full notebook cells\n",
       "var notebookContainer = gd.closest('#notebook-container');\n",
       "if (notebookContainer) {{\n",
       "    x.observe(notebookContainer, {childList: true});\n",
       "}}\n",
       "\n",
       "// Listen for the clearing of the current output cell\n",
       "var outputEl = gd.closest('.output');\n",
       "if (outputEl) {{\n",
       "    x.observe(outputEl, {childList: true});\n",
       "}}\n",
       "\n",
       "                        })                };                });            </script>        </div>"
      ]
     },
     "metadata": {},
     "output_type": "display_data"
    }
   ],
   "source": [
    "colors = ['purple',] * 5\n",
    "\n",
    "\n",
    "fig = go.Figure(data=[go.Bar(\n",
    "    x=['Action', 'Fantasy', 'Science-Fiction', 'Open-World'],\n",
    "    y=[107,  66,  36,  28],\n",
    "    marker_color=colors # marker color can be a single color value or an iterable\n",
    ")])\n",
    "fig.update_layout(title_text='Themes', font=dict(size=17, color=\"black\"))"
   ]
  },
  {
   "cell_type": "markdown",
   "id": "fbb47346",
   "metadata": {},
   "source": [
    "## Q3.1- what is the most common theme in games that are three highest ratings (good, great, subperb)?"
   ]
  },
  {
   "cell_type": "code",
   "execution_count": null,
   "id": "fa216673",
   "metadata": {},
   "outputs": [],
   "source": [
    "# fig, ax = plt.subplots(figsize = (14,4))\n",
    "# ax.bar(to_1D(df_top3_rating[\"themes\"]).value_counts().iloc[:7].index,\n",
    "#         to_1D(df_top3_rating[\"themes\"]).value_counts().iloc[:7].values)\n",
    "# ax.set_ylabel(\"Frequency\", size = 12)\n",
    "# ax.set_title(\"Themes\", size = 14)"
   ]
  },
  {
   "cell_type": "markdown",
   "id": "8eb0a738",
   "metadata": {},
   "source": [
    "## Q3.1- what is the most common theme in games that are three lowest ratings ((bad, very bad , awful)) ?"
   ]
  },
  {
   "cell_type": "code",
   "execution_count": 90,
   "id": "6fd627ff",
   "metadata": {
    "scrolled": true
   },
   "outputs": [
    {
     "data": {
      "text/plain": [
       "Text(0.5, 1.0, 'Themes')"
      ]
     },
     "execution_count": 90,
     "metadata": {},
     "output_type": "execute_result"
    },
    {
     "data": {
      "image/png": "[encoded data removed]",
      "text/plain": [
       "<Figure size 1008x288 with 1 Axes>"
      ]
     },
     "metadata": {
      "needs_background": "light"
     },
     "output_type": "display_data"
    }
   ],
   "source": [
    "fig, ax = plt.subplots(figsize = (14,4))\n",
    "ax.bar(to_1D(df_low3_rating[\"themes\"]).value_counts().iloc[:7].index,\n",
    "        to_1D(df_low3_rating[\"themes\"]).value_counts().iloc[:7].values)\n",
    "ax.set_ylabel(\"Frequency\", size = 12)\n",
    "ax.set_title(\"Themes\", size = 14)"
   ]
  },
  {
   "cell_type": "code",
   "execution_count": null,
   "id": "176f3c79",
   "metadata": {},
   "outputs": [],
   "source": []
  },
  {
   "cell_type": "code",
   "execution_count": null,
   "id": "4bff82d4",
   "metadata": {},
   "outputs": [],
   "source": []
  },
  {
   "cell_type": "markdown",
   "id": "cf7d7a0c",
   "metadata": {},
   "source": [
    "# Q4-  Do users rate games with online multiplayer modes higher than games that lack online multiplayer modes?\n",
    "\n",
    "> since there is a gap time from game that can be played online and games that cannot- we decided to remove that gap and make sure that the games all come out in the same time period\n",
    "\n",
    "\n",
    "### _answer:_ even after removing that time gap the games that are `NOT` multiplayer online games are rated higher than non-multiplayer games"
   ]
  },
  {
   "cell_type": "code",
   "execution_count": null,
   "id": "52c4080a",
   "metadata": {
    "scrolled": false
   },
   "outputs": [],
   "source": [
    "df2.head(2)"
   ]
  },
  {
   "cell_type": "markdown",
   "id": "238d6ae5",
   "metadata": {},
   "source": [
    ">## Not online multi"
   ]
  },
  {
   "cell_type": "code",
   "execution_count": null,
   "id": "b8fc51ba",
   "metadata": {},
   "outputs": [],
   "source": [
    "#making sure all games are comming out of the same time period\n",
    "train['created_at'] = pd.to_datetime(train['created_at'],unit='s')"
   ]
  },
  {
   "cell_type": "code",
   "execution_count": null,
   "id": "4e7b94b9",
   "metadata": {
    "scrolled": false
   },
   "outputs": [],
   "source": [
    "train.onlinecoop.value_counts()"
   ]
  },
  {
   "cell_type": "code",
   "execution_count": null,
   "id": "3f8d95d1",
   "metadata": {
    "scrolled": false
   },
   "outputs": [],
   "source": [
    "NOT_online_multi = train[train['onlinecoop']== False]\n",
    "NOT_online_multi.head(1)"
   ]
  },
  {
   "cell_type": "code",
   "execution_count": null,
   "id": "222c402c",
   "metadata": {
    "scrolled": true
   },
   "outputs": [],
   "source": [
    "NOT_online_multi['first_release_date'] = pd.to_datetime(NOT_online_multi['first_release_date'],unit='s')"
   ]
  },
  {
   "cell_type": "code",
   "execution_count": null,
   "id": "2c84c79a",
   "metadata": {
    "scrolled": true
   },
   "outputs": [],
   "source": [
    "NOT_online_multi.head()"
   ]
  },
  {
   "cell_type": "code",
   "execution_count": null,
   "id": "59e21a92",
   "metadata": {
    "scrolled": true
   },
   "outputs": [],
   "source": [
    "NOT_online_multi.first_release_date.value_counts()"
   ]
  },
  {
   "cell_type": "code",
   "execution_count": null,
   "id": "268bcca1",
   "metadata": {},
   "outputs": [],
   "source": [
    "NOT_online_multi['first_release_date_year'] = NOT_online_multi.first_release_date.dt.year"
   ]
  },
  {
   "cell_type": "code",
   "execution_count": null,
   "id": "05a6d2bc",
   "metadata": {
    "scrolled": true
   },
   "outputs": [],
   "source": [
    "NOT_online_multi.first_release_date_year.value_counts()"
   ]
  },
  {
   "cell_type": "code",
   "execution_count": null,
   "id": "f4ce5bf4",
   "metadata": {},
   "outputs": [],
   "source": [
    "NOT_online_multi.head()"
   ]
  },
  {
   "cell_type": "code",
   "execution_count": null,
   "id": "dd0a9d46",
   "metadata": {},
   "outputs": [],
   "source": [
    "#1981 is the lowest date in online i will it cut it off there "
   ]
  },
  {
   "cell_type": "code",
   "execution_count": null,
   "id": "11680d24",
   "metadata": {
    "scrolled": true
   },
   "outputs": [],
   "source": [
    "NOT_online_multi = NOT_online_multi[NOT_online_multi['first_release_date_year'] > 1981.0]\n",
    "NOT_online_multi.head(1)"
   ]
  },
  {
   "cell_type": "code",
   "execution_count": null,
   "id": "30959447",
   "metadata": {
    "scrolled": true
   },
   "outputs": [],
   "source": [
    "NOT_online_multi.first_release_date_year.value_counts()"
   ]
  },
  {
   "cell_type": "markdown",
   "id": "79f5a5b9",
   "metadata": {},
   "source": [
    "## Not online multi-player that games are after 1981"
   ]
  },
  {
   "cell_type": "code",
   "execution_count": null,
   "id": "5ec8adb8",
   "metadata": {},
   "outputs": [],
   "source": [
    "plt.figure(figsize=(12,5))\n",
    "c = sns.countplot(x='rating_bin', data=NOT_online_multi)\n",
    "\n",
    "for p in c.patches:\n",
    "    c.annotate(p.get_height(), \n",
    "                (p.get_x() + p.get_width() / 2.0, \n",
    "                 p.get_height()), \n",
    "                 ha = 'center', \n",
    "                 va = 'center', \n",
    "                 xytext = (1, 5),\n",
    "                 textcoords = 'offset points')"
   ]
  },
  {
   "cell_type": "markdown",
   "id": "e24a2db5",
   "metadata": {},
   "source": [
    ">##  online multi"
   ]
  },
  {
   "cell_type": "code",
   "execution_count": null,
   "id": "d2070864",
   "metadata": {
    "scrolled": true
   },
   "outputs": [],
   "source": [
    "df_online_multi = df2[df2['onlinecoop']== True]\n",
    "df_online_multi.head(1)"
   ]
  },
  {
   "cell_type": "markdown",
   "id": "57412b0e",
   "metadata": {},
   "source": [
    "## Games that are after 1981 - Ratings "
   ]
  },
  {
   "cell_type": "code",
   "execution_count": null,
   "id": "c9d5793c",
   "metadata": {
    "scrolled": true
   },
   "outputs": [],
   "source": [
    "plt.figure(figsize=(12,5))\n",
    "c = sns.countplot(x='rating_bin', data=df_online_multi)\n",
    "\n",
    "for p in c.patches:\n",
    "    c.annotate(p.get_height(), \n",
    "                (p.get_x() + p.get_width() / 2.0, \n",
    "                 p.get_height()), \n",
    "                 ha = 'center', \n",
    "                 va = 'center', \n",
    "                 xytext = (1, 5),\n",
    "                 textcoords = 'offset points')"
   ]
  },
  {
   "cell_type": "markdown",
   "id": "89f13fa2",
   "metadata": {},
   "source": [
    "### figuring out the time period for online games"
   ]
  },
  {
   "cell_type": "code",
   "execution_count": null,
   "id": "4b35e92c",
   "metadata": {},
   "outputs": [],
   "source": [
    "df_online_multi['first_release_date'] = pd.to_datetime(df_online_multi['first_release_date'],unit='s')"
   ]
  },
  {
   "cell_type": "code",
   "execution_count": null,
   "id": "2c5df8f9",
   "metadata": {},
   "outputs": [],
   "source": [
    "df_online_multi.head(1)"
   ]
  },
  {
   "cell_type": "code",
   "execution_count": null,
   "id": "72ef927d",
   "metadata": {},
   "outputs": [],
   "source": [
    "df_online_multi['first_release_date_year'] = df_online_multi.first_release_date.dt.year"
   ]
  },
  {
   "cell_type": "code",
   "execution_count": null,
   "id": "122e49ed",
   "metadata": {
    "scrolled": true
   },
   "outputs": [],
   "source": [
    "df_online_multi.first_release_date_year.value_counts()"
   ]
  },
  {
   "cell_type": "markdown",
   "id": "da2266c2",
   "metadata": {},
   "source": [
    " # Q 4- Does a certain game_mode determine the game rating?"
   ]
  },
  {
   "cell_type": "code",
   "execution_count": null,
   "id": "edc71e0f",
   "metadata": {
    "scrolled": true
   },
   "outputs": [],
   "source": [
    "train.head()"
   ]
  },
  {
   "cell_type": "code",
   "execution_count": null,
   "id": "87171fb1",
   "metadata": {},
   "outputs": [],
   "source": [
    "fig, ax = plt.subplots(figsize = (14,4))\n",
    "ax.bar(to_1D(train[\"game_modes\"]).value_counts().iloc[:7].index,\n",
    "        to_1D(train[\"game_modes\"]).value_counts().iloc[:7].values)\n",
    "ax.set_ylabel(\"Frequency\", size = 12)\n",
    "ax.set_title(\"platforms\", size = 14)"
   ]
  },
  {
   "cell_type": "markdown",
   "id": "957aac7d",
   "metadata": {},
   "source": [
    "- looks liek most common games are single and multi player, and co op "
   ]
  },
  {
   "cell_type": "code",
   "execution_count": null,
   "id": "6a45486a",
   "metadata": {},
   "outputs": [],
   "source": [
    "fig, ax = plt.subplots(figsize = (14,6))\n",
    "ax.bar(to_1D(df_subperb_rating[\"game_modes\"]).value_counts().iloc[:4].index,\n",
    "        to_1D(df_subperb_rating[\"game_modes\"]).value_counts().iloc[:4].values,\n",
    "         color= ['purple'])\n",
    "ax.set_ylabel(\"Frequency\", size = 20)\n",
    "ax.set_title(\"Most common Genre in Superb Games\", size = 20)"
   ]
  },
  {
   "cell_type": "markdown",
   "id": "5a36ed6f",
   "metadata": {},
   "source": [
    "- didnt find anything important"
   ]
  },
  {
   "cell_type": "code",
   "execution_count": null,
   "id": "2aa757e5",
   "metadata": {},
   "outputs": [],
   "source": [
    "train.head(3)"
   ]
  },
  {
   "cell_type": "code",
   "execution_count": null,
   "id": "4410c559",
   "metadata": {},
   "outputs": [],
   "source": []
  },
  {
   "cell_type": "code",
   "execution_count": null,
   "id": "b346d280",
   "metadata": {},
   "outputs": [],
   "source": []
  },
  {
   "cell_type": "markdown",
   "id": "6f4e26f9",
   "metadata": {},
   "source": [
    "# What Are the most common player perspectives in "
   ]
  },
  {
   "cell_type": "code",
   "execution_count": null,
   "id": "db067be2",
   "metadata": {
    "scrolled": true
   },
   "outputs": [],
   "source": [
    "df_subperb_rating.player_perspectives.value_counts()"
   ]
  },
  {
   "cell_type": "code",
   "execution_count": 23,
   "id": "68a0f863",
   "metadata": {
    "scrolled": false
   },
   "outputs": [
    {
     "data": {
      "text/plain": [
       "([0, 1, 2, 3],\n",
       " [Text(0, 0, ''), Text(0, 0, ''), Text(0, 0, ''), Text(0, 0, '')])"
      ]
     },
     "execution_count": 23,
     "metadata": {},
     "output_type": "execute_result"
    },
    {
     "data": {
      "image/png": "[encoded data removed]",
      "text/plain": [
       "<Figure size 1008x432 with 1 Axes>"
      ]
     },
     "metadata": {
      "needs_background": "light"
     },
     "output_type": "display_data"
    }
   ],
   "source": [
    "fig, ax = plt.subplots(figsize = (14,6))\n",
    "ax.bar(to_1D(df_subperb_rating[\"player_perspectives\"]).value_counts().iloc[:4].index,\n",
    "        to_1D(df_subperb_rating[\"player_perspectives\"]).value_counts().iloc[:4].values,\n",
    "         color= ['purple'])\n",
    "\n",
    "ax.set_ylabel(\"Frequency\", size = 20)\n",
    "ax.set_title(\"Most common Player Perspective in Superb Rated Games\", size = 20, fontweight='bold')\n",
    "\n",
    "plt.xticks(fontsize = 15)"
   ]
  },
  {
   "cell_type": "code",
   "execution_count": 83,
   "id": "66755889",
   "metadata": {},
   "outputs": [
    {
     "data": {
      "text/plain": [
       "Index(['third-person', 'bird-view-slash-isometric', 'side-view',\n",
       "       'first-person'],\n",
       "      dtype='object')"
      ]
     },
     "execution_count": 83,
     "metadata": {},
     "output_type": "execute_result"
    }
   ],
   "source": [
    "to_1D(df_subperb_rating[\"player_perspectives\"]).value_counts().iloc[:4].index"
   ]
  },
  {
   "cell_type": "code",
   "execution_count": 84,
   "id": "77068647",
   "metadata": {},
   "outputs": [
    {
     "data": {
      "text/plain": [
       "array([70, 59, 40, 34])"
      ]
     },
     "execution_count": 84,
     "metadata": {},
     "output_type": "execute_result"
    }
   ],
   "source": [
    "to_1D(df_subperb_rating[\"player_perspectives\"]).value_counts().iloc[:4].values"
   ]
  },
  {
   "cell_type": "code",
   "execution_count": null,
   "id": "8ace3f79",
   "metadata": {},
   "outputs": [],
   "source": []
  },
  {
   "cell_type": "code",
   "execution_count": 88,
   "id": "f74fabd4",
   "metadata": {},
   "outputs": [
    {
     "data": {
      "application/vnd.plotly.v1+json": {
       "config": {
        "plotlyServerURL": "https://plot.ly"
       },
       "data": [
        {
         "marker": {
          "color": [
           "purple",
           "purple",
           "purple",
           "purple",
           "purple"
          ]
         },
         "type": "bar",
         "x": [
          "Third-Person",
          "Bird-view / Isometric",
          "Side-View",
          "First-Person"
         ],
         "y": [
          285,
          226,
          218,
          11
         ]
        }
       ],
       "layout": {
        "font": {
         "color": "black",
         "size": 17
        },
        "template": {
         "data": {
          "bar": [
           {
            "error_x": {
             "color": "#2a3f5f"
            },
            "error_y": {
             "color": "#2a3f5f"
            },
            "marker": {
             "line": {
              "color": "#E5ECF6",
              "width": 0.5
             },
             "pattern": {
              "fillmode": "overlay",
              "size": 10,
              "solidity": 0.2
             }
            },
            "type": "bar"
           }
          ],
          "barpolar": [
           {
            "marker": {
             "line": {
              "color": "#E5ECF6",
              "width": 0.5
             },
             "pattern": {
              "fillmode": "overlay",
              "size": 10,
              "solidity": 0.2
             }
            },
            "type": "barpolar"
           }
          ],
          "carpet": [
           {
            "aaxis": {
             "endlinecolor": "#2a3f5f",
             "gridcolor": "white",
             "linecolor": "white",
             "minorgridcolor": "white",
             "startlinecolor": "#2a3f5f"
            },
            "baxis": {
             "endlinecolor": "#2a3f5f",
             "gridcolor": "white",
             "linecolor": "white",
             "minorgridcolor": "white",
             "startlinecolor": "#2a3f5f"
            },
            "type": "carpet"
           }
          ],
          "choropleth": [
           {
            "colorbar": {
             "outlinewidth": 0,
             "ticks": ""
            },
            "type": "choropleth"
           }
          ],
          "contour": [
           {
            "colorbar": {
             "outlinewidth": 0,
             "ticks": ""
            },
            "colorscale": [
             [
              0,
              "#0d0887"
             ],
             [
              0.1111111111111111,
              "#46039f"
             ],
             [
              0.2222222222222222,
              "#7201a8"
             ],
             [
              0.3333333333333333,
              "#9c179e"
             ],
             [
              0.4444444444444444,
              "#bd3786"
             ],
             [
              0.5555555555555556,
              "#d8576b"
             ],
             [
              0.6666666666666666,
              "#ed7953"
             ],
             [
              0.7777777777777778,
              "#fb9f3a"
             ],
             [
              0.8888888888888888,
              "#fdca26"
             ],
             [
              1,
              "#f0f921"
             ]
            ],
            "type": "contour"
           }
          ],
          "contourcarpet": [
           {
            "colorbar": {
             "outlinewidth": 0,
             "ticks": ""
            },
            "type": "contourcarpet"
           }
          ],
          "heatmap": [
           {
            "colorbar": {
             "outlinewidth": 0,
             "ticks": ""
            },
            "colorscale": [
             [
              0,
              "#0d0887"
             ],
             [
              0.1111111111111111,
              "#46039f"
             ],
             [
              0.2222222222222222,
              "#7201a8"
             ],
             [
              0.3333333333333333,
              "#9c179e"
             ],
             [
              0.4444444444444444,
              "#bd3786"
             ],
             [
              0.5555555555555556,
              "#d8576b"
             ],
             [
              0.6666666666666666,
              "#ed7953"
             ],
             [
              0.7777777777777778,
              "#fb9f3a"
             ],
             [
              0.8888888888888888,
              "#fdca26"
             ],
             [
              1,
              "#f0f921"
             ]
            ],
            "type": "heatmap"
           }
          ],
          "heatmapgl": [
           {
            "colorbar": {
             "outlinewidth": 0,
             "ticks": ""
            },
            "colorscale": [
             [
              0,
              "#0d0887"
             ],
             [
              0.1111111111111111,
              "#46039f"
             ],
             [
              0.2222222222222222,
              "#7201a8"
             ],
             [
              0.3333333333333333,
              "#9c179e"
             ],
             [
              0.4444444444444444,
              "#bd3786"
             ],
             [
              0.5555555555555556,
              "#d8576b"
             ],
             [
              0.6666666666666666,
              "#ed7953"
             ],
             [
              0.7777777777777778,
              "#fb9f3a"
             ],
             [
              0.8888888888888888,
              "#fdca26"
             ],
             [
              1,
              "#f0f921"
             ]
            ],
            "type": "heatmapgl"
           }
          ],
          "histogram": [
           {
            "marker": {
             "pattern": {
              "fillmode": "overlay",
              "size": 10,
              "solidity": 0.2
             }
            },
            "type": "histogram"
           }
          ],
          "histogram2d": [
           {
            "colorbar": {
             "outlinewidth": 0,
             "ticks": ""
            },
            "colorscale": [
             [
              0,
              "#0d0887"
             ],
             [
              0.1111111111111111,
              "#46039f"
             ],
             [
              0.2222222222222222,
              "#7201a8"
             ],
             [
              0.3333333333333333,
              "#9c179e"
             ],
             [
              0.4444444444444444,
              "#bd3786"
             ],
             [
              0.5555555555555556,
              "#d8576b"
             ],
             [
              0.6666666666666666,
              "#ed7953"
             ],
             [
              0.7777777777777778,
              "#fb9f3a"
             ],
             [
              0.8888888888888888,
              "#fdca26"
             ],
             [
              1,
              "#f0f921"
             ]
            ],
            "type": "histogram2d"
           }
          ],
          "histogram2dcontour": [
           {
            "colorbar": {
             "outlinewidth": 0,
             "ticks": ""
            },
            "colorscale": [
             [
              0,
              "#0d0887"
             ],
             [
              0.1111111111111111,
              "#46039f"
             ],
             [
              0.2222222222222222,
              "#7201a8"
             ],
             [
              0.3333333333333333,
              "#9c179e"
             ],
             [
              0.4444444444444444,
              "#bd3786"
             ],
             [
              0.5555555555555556,
              "#d8576b"
             ],
             [
              0.6666666666666666,
              "#ed7953"
             ],
             [
              0.7777777777777778,
              "#fb9f3a"
             ],
             [
              0.8888888888888888,
              "#fdca26"
             ],
             [
              1,
              "#f0f921"
             ]
            ],
            "type": "histogram2dcontour"
           }
          ],
          "mesh3d": [
           {
            "colorbar": {
             "outlinewidth": 0,
             "ticks": ""
            },
            "type": "mesh3d"
           }
          ],
          "parcoords": [
           {
            "line": {
             "colorbar": {
              "outlinewidth": 0,
              "ticks": ""
             }
            },
            "type": "parcoords"
           }
          ],
          "pie": [
           {
            "automargin": true,
            "type": "pie"
           }
          ],
          "scatter": [
           {
            "marker": {
             "colorbar": {
              "outlinewidth": 0,
              "ticks": ""
             }
            },
            "type": "scatter"
           }
          ],
          "scatter3d": [
           {
            "line": {
             "colorbar": {
              "outlinewidth": 0,
              "ticks": ""
             }
            },
            "marker": {
             "colorbar": {
              "outlinewidth": 0,
              "ticks": ""
             }
            },
            "type": "scatter3d"
           }
          ],
          "scattercarpet": [
           {
            "marker": {
             "colorbar": {
              "outlinewidth": 0,
              "ticks": ""
             }
            },
            "type": "scattercarpet"
           }
          ],
          "scattergeo": [
           {
            "marker": {
             "colorbar": {
              "outlinewidth": 0,
              "ticks": ""
             }
            },
            "type": "scattergeo"
           }
          ],
          "scattergl": [
           {
            "marker": {
             "colorbar": {
              "outlinewidth": 0,
              "ticks": ""
             }
            },
            "type": "scattergl"
           }
          ],
          "scattermapbox": [
           {
            "marker": {
             "colorbar": {
              "outlinewidth": 0,
              "ticks": ""
             }
            },
            "type": "scattermapbox"
           }
          ],
          "scatterpolar": [
           {
            "marker": {
             "colorbar": {
              "outlinewidth": 0,
              "ticks": ""
             }
            },
            "type": "scatterpolar"
           }
          ],
          "scatterpolargl": [
           {
            "marker": {
             "colorbar": {
              "outlinewidth": 0,
              "ticks": ""
             }
            },
            "type": "scatterpolargl"
           }
          ],
          "scatterternary": [
           {
            "marker": {
             "colorbar": {
              "outlinewidth": 0,
              "ticks": ""
             }
            },
            "type": "scatterternary"
           }
          ],
          "surface": [
           {
            "colorbar": {
             "outlinewidth": 0,
             "ticks": ""
            },
            "colorscale": [
             [
              0,
              "#0d0887"
             ],
             [
              0.1111111111111111,
              "#46039f"
             ],
             [
              0.2222222222222222,
              "#7201a8"
             ],
             [
              0.3333333333333333,
              "#9c179e"
             ],
             [
              0.4444444444444444,
              "#bd3786"
             ],
             [
              0.5555555555555556,
              "#d8576b"
             ],
             [
              0.6666666666666666,
              "#ed7953"
             ],
             [
              0.7777777777777778,
              "#fb9f3a"
             ],
             [
              0.8888888888888888,
              "#fdca26"
             ],
             [
              1,
              "#f0f921"
             ]
            ],
            "type": "surface"
           }
          ],
          "table": [
           {
            "cells": {
             "fill": {
              "color": "#EBF0F8"
             },
             "line": {
              "color": "white"
             }
            },
            "header": {
             "fill": {
              "color": "#C8D4E3"
             },
             "line": {
              "color": "white"
             }
            },
            "type": "table"
           }
          ]
         },
         "layout": {
          "annotationdefaults": {
           "arrowcolor": "#2a3f5f",
           "arrowhead": 0,
           "arrowwidth": 1
          },
          "autotypenumbers": "strict",
          "coloraxis": {
           "colorbar": {
            "outlinewidth": 0,
            "ticks": ""
           }
          },
          "colorscale": {
           "diverging": [
            [
             0,
             "#8e0152"
            ],
            [
             0.1,
             "#c51b7d"
            ],
            [
             0.2,
             "#de77ae"
            ],
            [
             0.3,
             "#f1b6da"
            ],
            [
             0.4,
             "#fde0ef"
            ],
            [
             0.5,
             "#f7f7f7"
            ],
            [
             0.6,
             "#e6f5d0"
            ],
            [
             0.7,
             "#b8e186"
            ],
            [
             0.8,
             "#7fbc41"
            ],
            [
             0.9,
             "#4d9221"
            ],
            [
             1,
             "#276419"
            ]
           ],
           "sequential": [
            [
             0,
             "#0d0887"
            ],
            [
             0.1111111111111111,
             "#46039f"
            ],
            [
             0.2222222222222222,
             "#7201a8"
            ],
            [
             0.3333333333333333,
             "#9c179e"
            ],
            [
             0.4444444444444444,
             "#bd3786"
            ],
            [
             0.5555555555555556,
             "#d8576b"
            ],
            [
             0.6666666666666666,
             "#ed7953"
            ],
            [
             0.7777777777777778,
             "#fb9f3a"
            ],
            [
             0.8888888888888888,
             "#fdca26"
            ],
            [
             1,
             "#f0f921"
            ]
           ],
           "sequentialminus": [
            [
             0,
             "#0d0887"
            ],
            [
             0.1111111111111111,
             "#46039f"
            ],
            [
             0.2222222222222222,
             "#7201a8"
            ],
            [
             0.3333333333333333,
             "#9c179e"
            ],
            [
             0.4444444444444444,
             "#bd3786"
            ],
            [
             0.5555555555555556,
             "#d8576b"
            ],
            [
             0.6666666666666666,
             "#ed7953"
            ],
            [
             0.7777777777777778,
             "#fb9f3a"
            ],
            [
             0.8888888888888888,
             "#fdca26"
            ],
            [
             1,
             "#f0f921"
            ]
           ]
          },
          "colorway": [
           "#636efa",
           "#EF553B",
           "#00cc96",
           "#ab63fa",
           "#FFA15A",
           "#19d3f3",
           "#FF6692",
           "#B6E880",
           "#FF97FF",
           "#FECB52"
          ],
          "font": {
           "color": "#2a3f5f"
          },
          "geo": {
           "bgcolor": "white",
           "lakecolor": "white",
           "landcolor": "#E5ECF6",
           "showlakes": true,
           "showland": true,
           "subunitcolor": "white"
          },
          "hoverlabel": {
           "align": "left"
          },
          "hovermode": "closest",
          "mapbox": {
           "style": "light"
          },
          "paper_bgcolor": "white",
          "plot_bgcolor": "#E5ECF6",
          "polar": {
           "angularaxis": {
            "gridcolor": "white",
            "linecolor": "white",
            "ticks": ""
           },
           "bgcolor": "#E5ECF6",
           "radialaxis": {
            "gridcolor": "white",
            "linecolor": "white",
            "ticks": ""
           }
          },
          "scene": {
           "xaxis": {
            "backgroundcolor": "#E5ECF6",
            "gridcolor": "white",
            "gridwidth": 2,
            "linecolor": "white",
            "showbackground": true,
            "ticks": "",
            "zerolinecolor": "white"
           },
           "yaxis": {
            "backgroundcolor": "#E5ECF6",
            "gridcolor": "white",
            "gridwidth": 2,
            "linecolor": "white",
            "showbackground": true,
            "ticks": "",
            "zerolinecolor": "white"
           },
           "zaxis": {
            "backgroundcolor": "#E5ECF6",
            "gridcolor": "white",
            "gridwidth": 2,
            "linecolor": "white",
            "showbackground": true,
            "ticks": "",
            "zerolinecolor": "white"
           }
          },
          "shapedefaults": {
           "line": {
            "color": "#2a3f5f"
           }
          },
          "ternary": {
           "aaxis": {
            "gridcolor": "white",
            "linecolor": "white",
            "ticks": ""
           },
           "baxis": {
            "gridcolor": "white",
            "linecolor": "white",
            "ticks": ""
           },
           "bgcolor": "#E5ECF6",
           "caxis": {
            "gridcolor": "white",
            "linecolor": "white",
            "ticks": ""
           }
          },
          "title": {
           "x": 0.05
          },
          "xaxis": {
           "automargin": true,
           "gridcolor": "white",
           "linecolor": "white",
           "ticks": "",
           "title": {
            "standoff": 15
           },
           "zerolinecolor": "white",
           "zerolinewidth": 2
          },
          "yaxis": {
           "automargin": true,
           "gridcolor": "white",
           "linecolor": "white",
           "ticks": "",
           "title": {
            "standoff": 15
           },
           "zerolinecolor": "white",
           "zerolinewidth": 2
          }
         }
        },
        "title": {
         "text": "Player Perspectives"
        }
       }
      },
      "text/html": [
       "<div>                            <div id=\"94926b0e-edf5-4d8d-84e4-00e43ed816c9\" class=\"plotly-graph-div\" style=\"height:525px; width:100%;\"></div>            <script type=\"text/javascript\">                require([\"plotly\"], function(Plotly) {                    window.PLOTLYENV=window.PLOTLYENV || {};                                    if (document.getElementById(\"94926b0e-edf5-4d8d-84e4-00e43ed816c9\")) {                    Plotly.newPlot(                        \"94926b0e-edf5-4d8d-84e4-00e43ed816c9\",                        [{\"marker\":{\"color\":[\"purple\",\"purple\",\"purple\",\"purple\",\"purple\"]},\"type\":\"bar\",\"x\":[\"Third-Person\",\"Bird-view / Isometric\",\"Side-View\",\"First-Person\"],\"y\":[285,226,218,11]}],                        {\"font\":{\"color\":\"black\",\"size\":17},\"template\":{\"data\":{\"bar\":[{\"error_x\":{\"color\":\"#2a3f5f\"},\"error_y\":{\"color\":\"#2a3f5f\"},\"marker\":{\"line\":{\"color\":\"#E5ECF6\",\"width\":0.5},\"pattern\":{\"fillmode\":\"overlay\",\"size\":10,\"solidity\":0.2}},\"type\":\"bar\"}],\"barpolar\":[{\"marker\":{\"line\":{\"color\":\"#E5ECF6\",\"width\":0.5},\"pattern\":{\"fillmode\":\"overlay\",\"size\":10,\"solidity\":0.2}},\"type\":\"barpolar\"}],\"carpet\":[{\"aaxis\":{\"endlinecolor\":\"#2a3f5f\",\"gridcolor\":\"white\",\"linecolor\":\"white\",\"minorgridcolor\":\"white\",\"startlinecolor\":\"#2a3f5f\"},\"baxis\":{\"endlinecolor\":\"#2a3f5f\",\"gridcolor\":\"white\",\"linecolor\":\"white\",\"minorgridcolor\":\"white\",\"startlinecolor\":\"#2a3f5f\"},\"type\":\"carpet\"}],\"choropleth\":[{\"colorbar\":{\"outlinewidth\":0,\"ticks\":\"\"},\"type\":\"choropleth\"}],\"contour\":[{\"colorbar\":{\"outlinewidth\":0,\"ticks\":\"\"},\"colorscale\":[[0.0,\"#0d0887\"],[0.1111111111111111,\"#46039f\"],[0.2222222222222222,\"#7201a8\"],[0.3333333333333333,\"#9c179e\"],[0.4444444444444444,\"#bd3786\"],[0.5555555555555556,\"#d8576b\"],[0.6666666666666666,\"#ed7953\"],[0.7777777777777778,\"#fb9f3a\"],[0.8888888888888888,\"#fdca26\"],[1.0,\"#f0f921\"]],\"type\":\"contour\"}],\"contourcarpet\":[{\"colorbar\":{\"outlinewidth\":0,\"ticks\":\"\"},\"type\":\"contourcarpet\"}],\"heatmap\":[{\"colorbar\":{\"outlinewidth\":0,\"ticks\":\"\"},\"colorscale\":[[0.0,\"#0d0887\"],[0.1111111111111111,\"#46039f\"],[0.2222222222222222,\"#7201a8\"],[0.3333333333333333,\"#9c179e\"],[0.4444444444444444,\"#bd3786\"],[0.5555555555555556,\"#d8576b\"],[0.6666666666666666,\"#ed7953\"],[0.7777777777777778,\"#fb9f3a\"],[0.8888888888888888,\"#fdca26\"],[1.0,\"#f0f921\"]],\"type\":\"heatmap\"}],\"heatmapgl\":[{\"colorbar\":{\"outlinewidth\":0,\"ticks\":\"\"},\"colorscale\":[[0.0,\"#0d0887\"],[0.1111111111111111,\"#46039f\"],[0.2222222222222222,\"#7201a8\"],[0.3333333333333333,\"#9c179e\"],[0.4444444444444444,\"#bd3786\"],[0.5555555555555556,\"#d8576b\"],[0.6666666666666666,\"#ed7953\"],[0.7777777777777778,\"#fb9f3a\"],[0.8888888888888888,\"#fdca26\"],[1.0,\"#f0f921\"]],\"type\":\"heatmapgl\"}],\"histogram\":[{\"marker\":{\"pattern\":{\"fillmode\":\"overlay\",\"size\":10,\"solidity\":0.2}},\"type\":\"histogram\"}],\"histogram2d\":[{\"colorbar\":{\"outlinewidth\":0,\"ticks\":\"\"},\"colorscale\":[[0.0,\"#0d0887\"],[0.1111111111111111,\"#46039f\"],[0.2222222222222222,\"#7201a8\"],[0.3333333333333333,\"#9c179e\"],[0.4444444444444444,\"#bd3786\"],[0.5555555555555556,\"#d8576b\"],[0.6666666666666666,\"#ed7953\"],[0.7777777777777778,\"#fb9f3a\"],[0.8888888888888888,\"#fdca26\"],[1.0,\"#f0f921\"]],\"type\":\"histogram2d\"}],\"histogram2dcontour\":[{\"colorbar\":{\"outlinewidth\":0,\"ticks\":\"\"},\"colorscale\":[[0.0,\"#0d0887\"],[0.1111111111111111,\"#46039f\"],[0.2222222222222222,\"#7201a8\"],[0.3333333333333333,\"#9c179e\"],[0.4444444444444444,\"#bd3786\"],[0.5555555555555556,\"#d8576b\"],[0.6666666666666666,\"#ed7953\"],[0.7777777777777778,\"#fb9f3a\"],[0.8888888888888888,\"#fdca26\"],[1.0,\"#f0f921\"]],\"type\":\"histogram2dcontour\"}],\"mesh3d\":[{\"colorbar\":{\"outlinewidth\":0,\"ticks\":\"\"},\"type\":\"mesh3d\"}],\"parcoords\":[{\"line\":{\"colorbar\":{\"outlinewidth\":0,\"ticks\":\"\"}},\"type\":\"parcoords\"}],\"pie\":[{\"automargin\":true,\"type\":\"pie\"}],\"scatter\":[{\"marker\":{\"colorbar\":{\"outlinewidth\":0,\"ticks\":\"\"}},\"type\":\"scatter\"}],\"scatter3d\":[{\"line\":{\"colorbar\":{\"outlinewidth\":0,\"ticks\":\"\"}},\"marker\":{\"colorbar\":{\"outlinewidth\":0,\"ticks\":\"\"}},\"type\":\"scatter3d\"}],\"scattercarpet\":[{\"marker\":{\"colorbar\":{\"outlinewidth\":0,\"ticks\":\"\"}},\"type\":\"scattercarpet\"}],\"scattergeo\":[{\"marker\":{\"colorbar\":{\"outlinewidth\":0,\"ticks\":\"\"}},\"type\":\"scattergeo\"}],\"scattergl\":[{\"marker\":{\"colorbar\":{\"outlinewidth\":0,\"ticks\":\"\"}},\"type\":\"scattergl\"}],\"scattermapbox\":[{\"marker\":{\"colorbar\":{\"outlinewidth\":0,\"ticks\":\"\"}},\"type\":\"scattermapbox\"}],\"scatterpolar\":[{\"marker\":{\"colorbar\":{\"outlinewidth\":0,\"ticks\":\"\"}},\"type\":\"scatterpolar\"}],\"scatterpolargl\":[{\"marker\":{\"colorbar\":{\"outlinewidth\":0,\"ticks\":\"\"}},\"type\":\"scatterpolargl\"}],\"scatterternary\":[{\"marker\":{\"colorbar\":{\"outlinewidth\":0,\"ticks\":\"\"}},\"type\":\"scatterternary\"}],\"surface\":[{\"colorbar\":{\"outlinewidth\":0,\"ticks\":\"\"},\"colorscale\":[[0.0,\"#0d0887\"],[0.1111111111111111,\"#46039f\"],[0.2222222222222222,\"#7201a8\"],[0.3333333333333333,\"#9c179e\"],[0.4444444444444444,\"#bd3786\"],[0.5555555555555556,\"#d8576b\"],[0.6666666666666666,\"#ed7953\"],[0.7777777777777778,\"#fb9f3a\"],[0.8888888888888888,\"#fdca26\"],[1.0,\"#f0f921\"]],\"type\":\"surface\"}],\"table\":[{\"cells\":{\"fill\":{\"color\":\"#EBF0F8\"},\"line\":{\"color\":\"white\"}},\"header\":{\"fill\":{\"color\":\"#C8D4E3\"},\"line\":{\"color\":\"white\"}},\"type\":\"table\"}]},\"layout\":{\"annotationdefaults\":{\"arrowcolor\":\"#2a3f5f\",\"arrowhead\":0,\"arrowwidth\":1},\"autotypenumbers\":\"strict\",\"coloraxis\":{\"colorbar\":{\"outlinewidth\":0,\"ticks\":\"\"}},\"colorscale\":{\"diverging\":[[0,\"#8e0152\"],[0.1,\"#c51b7d\"],[0.2,\"#de77ae\"],[0.3,\"#f1b6da\"],[0.4,\"#fde0ef\"],[0.5,\"#f7f7f7\"],[0.6,\"#e6f5d0\"],[0.7,\"#b8e186\"],[0.8,\"#7fbc41\"],[0.9,\"#4d9221\"],[1,\"#276419\"]],\"sequential\":[[0.0,\"#0d0887\"],[0.1111111111111111,\"#46039f\"],[0.2222222222222222,\"#7201a8\"],[0.3333333333333333,\"#9c179e\"],[0.4444444444444444,\"#bd3786\"],[0.5555555555555556,\"#d8576b\"],[0.6666666666666666,\"#ed7953\"],[0.7777777777777778,\"#fb9f3a\"],[0.8888888888888888,\"#fdca26\"],[1.0,\"#f0f921\"]],\"sequentialminus\":[[0.0,\"#0d0887\"],[0.1111111111111111,\"#46039f\"],[0.2222222222222222,\"#7201a8\"],[0.3333333333333333,\"#9c179e\"],[0.4444444444444444,\"#bd3786\"],[0.5555555555555556,\"#d8576b\"],[0.6666666666666666,\"#ed7953\"],[0.7777777777777778,\"#fb9f3a\"],[0.8888888888888888,\"#fdca26\"],[1.0,\"#f0f921\"]]},\"colorway\":[\"#636efa\",\"#EF553B\",\"#00cc96\",\"#ab63fa\",\"#FFA15A\",\"#19d3f3\",\"#FF6692\",\"#B6E880\",\"#FF97FF\",\"#FECB52\"],\"font\":{\"color\":\"#2a3f5f\"},\"geo\":{\"bgcolor\":\"white\",\"lakecolor\":\"white\",\"landcolor\":\"#E5ECF6\",\"showlakes\":true,\"showland\":true,\"subunitcolor\":\"white\"},\"hoverlabel\":{\"align\":\"left\"},\"hovermode\":\"closest\",\"mapbox\":{\"style\":\"light\"},\"paper_bgcolor\":\"white\",\"plot_bgcolor\":\"#E5ECF6\",\"polar\":{\"angularaxis\":{\"gridcolor\":\"white\",\"linecolor\":\"white\",\"ticks\":\"\"},\"bgcolor\":\"#E5ECF6\",\"radialaxis\":{\"gridcolor\":\"white\",\"linecolor\":\"white\",\"ticks\":\"\"}},\"scene\":{\"xaxis\":{\"backgroundcolor\":\"#E5ECF6\",\"gridcolor\":\"white\",\"gridwidth\":2,\"linecolor\":\"white\",\"showbackground\":true,\"ticks\":\"\",\"zerolinecolor\":\"white\"},\"yaxis\":{\"backgroundcolor\":\"#E5ECF6\",\"gridcolor\":\"white\",\"gridwidth\":2,\"linecolor\":\"white\",\"showbackground\":true,\"ticks\":\"\",\"zerolinecolor\":\"white\"},\"zaxis\":{\"backgroundcolor\":\"#E5ECF6\",\"gridcolor\":\"white\",\"gridwidth\":2,\"linecolor\":\"white\",\"showbackground\":true,\"ticks\":\"\",\"zerolinecolor\":\"white\"}},\"shapedefaults\":{\"line\":{\"color\":\"#2a3f5f\"}},\"ternary\":{\"aaxis\":{\"gridcolor\":\"white\",\"linecolor\":\"white\",\"ticks\":\"\"},\"baxis\":{\"gridcolor\":\"white\",\"linecolor\":\"white\",\"ticks\":\"\"},\"bgcolor\":\"#E5ECF6\",\"caxis\":{\"gridcolor\":\"white\",\"linecolor\":\"white\",\"ticks\":\"\"}},\"title\":{\"x\":0.05},\"xaxis\":{\"automargin\":true,\"gridcolor\":\"white\",\"linecolor\":\"white\",\"ticks\":\"\",\"title\":{\"standoff\":15},\"zerolinecolor\":\"white\",\"zerolinewidth\":2},\"yaxis\":{\"automargin\":true,\"gridcolor\":\"white\",\"linecolor\":\"white\",\"ticks\":\"\",\"title\":{\"standoff\":15},\"zerolinecolor\":\"white\",\"zerolinewidth\":2}}},\"title\":{\"text\":\"Player Perspectives\"}},                        {\"responsive\": true}                    ).then(function(){\n",
       "                            \n",
       "var gd = document.getElementById('94926b0e-edf5-4d8d-84e4-00e43ed816c9');\n",
       "var x = new MutationObserver(function (mutations, observer) {{\n",
       "        var display = window.getComputedStyle(gd).display;\n",
       "        if (!display || display === 'none') {{\n",
       "            console.log([gd, 'removed!']);\n",
       "            Plotly.purge(gd);\n",
       "            observer.disconnect();\n",
       "        }}\n",
       "}});\n",
       "\n",
       "// Listen for the removal of the full notebook cells\n",
       "var notebookContainer = gd.closest('#notebook-container');\n",
       "if (notebookContainer) {{\n",
       "    x.observe(notebookContainer, {childList: true});\n",
       "}}\n",
       "\n",
       "// Listen for the clearing of the current output cell\n",
       "var outputEl = gd.closest('.output');\n",
       "if (outputEl) {{\n",
       "    x.observe(outputEl, {childList: true});\n",
       "}}\n",
       "\n",
       "                        })                };                });            </script>        </div>"
      ]
     },
     "metadata": {},
     "output_type": "display_data"
    }
   ],
   "source": [
    "colors = ['purple',] * 5\n",
    "\n",
    "\n",
    "fig = go.Figure(data=[go.Bar(\n",
    "    x=['Third-Person', 'Bird-view / Isometric', 'Side-View','First-Person'],\n",
    "    y=[285, 226, 218,  11],\n",
    "    marker_color=colors # marker color can be a single color value or an iterable\n",
    ")])\n",
    "fig.update_layout(title_text='Player Perspectives',  font=dict(size=17, color=\"black\"))"
   ]
  },
  {
   "cell_type": "code",
   "execution_count": 92,
   "id": "d6616797",
   "metadata": {},
   "outputs": [
    {
     "data": {
      "text/plain": [
       "([0, 1, 2, 3],\n",
       " [Text(0, 0, ''), Text(0, 0, ''), Text(0, 0, ''), Text(0, 0, '')])"
      ]
     },
     "execution_count": 92,
     "metadata": {},
     "output_type": "execute_result"
    },
    {
     "data": {
      "image/png": "[encoded data removed]",
      "text/plain": [
       "<Figure size 1008x432 with 1 Axes>"
      ]
     },
     "metadata": {
      "needs_background": "light"
     },
     "output_type": "display_data"
    }
   ],
   "source": [
    "fig, ax = plt.subplots(figsize = (14,6))\n",
    "ax.bar(to_1D(df_low3_rating[\"player_perspectives\"]).value_counts().iloc[:4].index,\n",
    "        to_1D(df_low3_rating[\"player_perspectives\"]).value_counts().iloc[:4].values,\n",
    "         color= ['purple'])\n",
    "\n",
    "ax.set_ylabel(\"Frequency\", size = 20)\n",
    "ax.set_title(\"Most common Player Perspective in the lowest Rated Games\", size = 20, fontweight='bold')\n",
    "\n",
    "plt.xticks(fontsize = 15)"
   ]
  },
  {
   "cell_type": "code",
   "execution_count": null,
   "id": "309e3ec8",
   "metadata": {},
   "outputs": [],
   "source": []
  },
  {
   "cell_type": "markdown",
   "id": "badbe7fd",
   "metadata": {},
   "source": [
    "- looks like the majority of the best games have third person and, bird view/isometric "
   ]
  },
  {
   "cell_type": "markdown",
   "id": "3d0a9fea",
   "metadata": {},
   "source": [
    "# what can i find more info on subperb ratings?"
   ]
  },
  {
   "cell_type": "code",
   "execution_count": null,
   "id": "b89aab50",
   "metadata": {},
   "outputs": [],
   "source": [
    "df_subperb_rating"
   ]
  },
  {
   "cell_type": "code",
   "execution_count": null,
   "id": "8d67b6de",
   "metadata": {},
   "outputs": [],
   "source": [
    "df_subperb_rating.id.unique()"
   ]
  },
  {
   "cell_type": "code",
   "execution_count": null,
   "id": "0df2a535",
   "metadata": {},
   "outputs": [],
   "source": [
    "print(df_subperb_rating[\"id\"].unique())"
   ]
  },
  {
   "cell_type": "code",
   "execution_count": null,
   "id": "8b479a49",
   "metadata": {
    "scrolled": true
   },
   "outputs": [],
   "source": [
    "print(df_subperb_rating[\"id\"].nunique())"
   ]
  },
  {
   "cell_type": "code",
   "execution_count": null,
   "id": "66d38c9e",
   "metadata": {
    "scrolled": true
   },
   "outputs": [],
   "source": [
    "df_subperb_rating.id.value_counts()"
   ]
  },
  {
   "cell_type": "code",
   "execution_count": null,
   "id": "5b35d86e",
   "metadata": {},
   "outputs": [],
   "source": [
    "df_subperb_rating[\"id\"]== 6440"
   ]
  },
  {
   "cell_type": "code",
   "execution_count": null,
   "id": "8c49ed9d",
   "metadata": {
    "scrolled": true
   },
   "outputs": [],
   "source": [
    "df_subperb_rating.loc[df_subperb_rating['id'] == 1070]"
   ]
  },
  {
   "cell_type": "code",
   "execution_count": null,
   "id": "a1d6e46d",
   "metadata": {
    "scrolled": false
   },
   "outputs": [],
   "source": [
    "df_subperb_rating.loc[df_subperb_rating['id'] == 6440]"
   ]
  },
  {
   "cell_type": "code",
   "execution_count": null,
   "id": "737436cc",
   "metadata": {},
   "outputs": [],
   "source": [
    "df_subperb_rating = df_subperb_rating.drop_duplicates(subset = \"id\")"
   ]
  },
  {
   "cell_type": "code",
   "execution_count": null,
   "id": "26c52501",
   "metadata": {},
   "outputs": [],
   "source": [
    "df_subperb_rating"
   ]
  },
  {
   "cell_type": "code",
   "execution_count": null,
   "id": "9f68ce3f",
   "metadata": {},
   "outputs": [],
   "source": []
  }
 ],
 "metadata": {
  "kernelspec": {
   "display_name": "Python 3 (ipykernel)",
   "language": "python",
   "name": "python3"
  },
  "language_info": {
   "codemirror_mode": {
    "name": "ipython",
    "version": 3
   },
   "file_extension": ".py",
   "mimetype": "text/x-python",
   "name": "python",
   "nbconvert_exporter": "python",
   "pygments_lexer": "ipython3",
   "version": "3.9.12"
  }
 },
 "nbformat": 4,
 "nbformat_minor": 5
}
