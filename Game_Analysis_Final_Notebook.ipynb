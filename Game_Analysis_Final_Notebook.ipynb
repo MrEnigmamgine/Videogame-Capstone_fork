{
 "cells": [
  {
   "cell_type": "markdown",
   "id": "763573f4",
   "metadata": {},
   "source": [
    "<img src=\"igdb.jpeg\" alt=\"drawing\" width=\"150\"/>"
   ]
  },
  {
   "cell_type": "markdown",
   "id": "173d6e27",
   "metadata": {},
   "source": [
    "# IGDB User Rating Prediction"
   ]
  },
  {
   "cell_type": "markdown",
   "id": "6e664254",
   "metadata": {},
   "source": [
    "By Lindy Castellaw, Glady Barrios, jarid Jones\n",
    "\n",
    "\n",
    "October 7, 2022"
   ]
  },
  {
   "cell_type": "markdown",
   "id": "672de8fe",
   "metadata": {},
   "source": [
    "# Project Goals "
   ]
  },
  {
   "cell_type": "markdown",
   "id": "3e5e54c5",
   "metadata": {},
   "source": [
    "In our project we will use data from a  website (IGDB.com)\n",
    "our goal is to analyze characteristics that make a game have a high rating\n",
    "We will also use statistical models to predict how ratings will turn out for future video games.” \n",
    "In turn, this will help developers develop better games for their customers"
   ]
  },
  {
   "cell_type": "markdown",
   "id": "ef4f8d2f",
   "metadata": {},
   "source": [
    "# Project Description "
   ]
  },
  {
   "cell_type": "markdown",
   "id": "f6dcf945",
   "metadata": {},
   "source": [
    "In Video games there are certain characteristics that make a videogame succesful such as high ratings. In this project we will investiage the certain variables that can create a high rating in a video game. We will analize the data from IGDB and investigate the best rated vidogames and what makes them so sucessfull. To achive this we will analize videogame data from Igdb and go through the data science pipe line, more specificly use classification models to able to predict video game ratings for future games."
   ]
  },
  {
   "cell_type": "markdown",
   "id": "335f0c82",
   "metadata": {},
   "source": [
    "### Important Libraries"
   ]
  },
  {
   "cell_type": "code",
   "execution_count": 1,
   "id": "d4a6d00e",
   "metadata": {},
   "outputs": [],
   "source": [
    "import requests\n",
    "import env\n",
    "import acquire\n",
    "import prepare\n",
    "from env import Client_ID\n",
    "import pandas as pd\n",
    "import numpy as np\n",
    "import matplotlib.pyplot as plt\n",
    "from igdb.wrapper import IGDBWrapper\n",
    "import explore as ex\n",
    "import warnings\n",
    "import modeling\n",
    "#these are for Modeling \n",
    "from sklearn.model_selection import train_test_split\n",
    "from sklearn.metrics import classification_report\n",
    "from sklearn.neighbors import KNeighborsClassifier\n",
    "from sklearn.ensemble import RandomForestClassifier\n",
    "from sklearn.tree import DecisionTreeClassifier, plot_tree, export_text\n",
    "from sklearn.ensemble import GradientBoostingClassifier\n",
    "from sklearn.linear_model import LogisticRegression\n",
    "from sklearn.multiclass import OneVsRestClassifier\n",
    "warnings.filterwarnings('ignore')"
   ]
  },
  {
   "cell_type": "markdown",
   "id": "a6786c49",
   "metadata": {},
   "source": [
    "### Acquire & prepare \n"
   ]
  },
  {
   "cell_type": "code",
   "execution_count": 2,
   "id": "c32dad47",
   "metadata": {},
   "outputs": [
    {
     "name": "stdout",
     "output_type": "stream",
     "text": [
      "Completed import for game_library\n",
      "Completed import for genres\n",
      "Completed import for age_ratings\n",
      "Completed import for age_rating_desc\n",
      "Completed import for collections\n",
      "Completed import for game_modes\n",
      "Completed import for multi_player_modes\n",
      "Completed import for platforms\n",
      "Completed import for platform_families\n",
      "Completed import for player_perspectives\n",
      "Completed import for themes\n",
      "Completed import for game_engines\n"
     ]
    }
   ],
   "source": [
    "game_library, game_ratings, not_rated = prepare.wrangle_data()"
   ]
  },
  {
   "cell_type": "code",
   "execution_count": 3,
   "id": "27035976",
   "metadata": {
    "scrolled": false
   },
   "outputs": [
    {
     "data": {
      "text/html": [
       "<div>\n",
       "<style scoped>\n",
       "    .dataframe tbody tr th:only-of-type {\n",
       "        vertical-align: middle;\n",
       "    }\n",
       "\n",
       "    .dataframe tbody tr th {\n",
       "        vertical-align: top;\n",
       "    }\n",
       "\n",
       "    .dataframe thead th {\n",
       "        text-align: right;\n",
       "    }\n",
       "</style>\n",
       "<table border=\"1\" class=\"dataframe\">\n",
       "  <thead>\n",
       "    <tr style=\"text-align: right;\">\n",
       "      <th></th>\n",
       "      <th>id</th>\n",
       "      <th>first_release_date</th>\n",
       "      <th>genres</th>\n",
       "      <th>name</th>\n",
       "      <th>platforms</th>\n",
       "      <th>slug</th>\n",
       "      <th>player_perspectives</th>\n",
       "      <th>themes</th>\n",
       "      <th>campaigncoop</th>\n",
       "      <th>dropin</th>\n",
       "      <th>...</th>\n",
       "      <th>Family Computer Disk System</th>\n",
       "      <th>Arcade</th>\n",
       "      <th>Windows Phone</th>\n",
       "      <th>Apple II</th>\n",
       "      <th>Web browser</th>\n",
       "      <th>Odyssey</th>\n",
       "      <th>Commodore 16</th>\n",
       "      <th>New Nintendo 3DS</th>\n",
       "      <th>has_dlcs</th>\n",
       "      <th>rating_bin</th>\n",
       "    </tr>\n",
       "  </thead>\n",
       "  <tbody>\n",
       "    <tr>\n",
       "      <th>0</th>\n",
       "      <td>40104</td>\n",
       "      <td>1987-01-01</td>\n",
       "      <td>[shooter]</td>\n",
       "      <td>Dogou Souken</td>\n",
       "      <td>[arcade]</td>\n",
       "      <td>dogou-souken</td>\n",
       "      <td>[Not available]</td>\n",
       "      <td>[Not available]</td>\n",
       "      <td>0</td>\n",
       "      <td>0</td>\n",
       "      <td>...</td>\n",
       "      <td>0</td>\n",
       "      <td>0</td>\n",
       "      <td>0</td>\n",
       "      <td>0</td>\n",
       "      <td>0</td>\n",
       "      <td>0</td>\n",
       "      <td>0</td>\n",
       "      <td>0</td>\n",
       "      <td>0</td>\n",
       "      <td>NaN</td>\n",
       "    </tr>\n",
       "    <tr>\n",
       "      <th>1</th>\n",
       "      <td>85031</td>\n",
       "      <td>2014-07-03</td>\n",
       "      <td>[puzzle]</td>\n",
       "      <td>City Mysteries</td>\n",
       "      <td>[3ds]</td>\n",
       "      <td>city-mysteries</td>\n",
       "      <td>[Not available]</td>\n",
       "      <td>[Not available]</td>\n",
       "      <td>0</td>\n",
       "      <td>0</td>\n",
       "      <td>...</td>\n",
       "      <td>0</td>\n",
       "      <td>0</td>\n",
       "      <td>0</td>\n",
       "      <td>0</td>\n",
       "      <td>0</td>\n",
       "      <td>0</td>\n",
       "      <td>0</td>\n",
       "      <td>0</td>\n",
       "      <td>0</td>\n",
       "      <td>NaN</td>\n",
       "    </tr>\n",
       "    <tr>\n",
       "      <th>2</th>\n",
       "      <td>99234</td>\n",
       "      <td>2018-05-24</td>\n",
       "      <td>[adventure, indie]</td>\n",
       "      <td>Sword of the Black Stone</td>\n",
       "      <td>[win]</td>\n",
       "      <td>sword-of-the-black-stone</td>\n",
       "      <td>[third-person]</td>\n",
       "      <td>[action]</td>\n",
       "      <td>0</td>\n",
       "      <td>0</td>\n",
       "      <td>...</td>\n",
       "      <td>0</td>\n",
       "      <td>0</td>\n",
       "      <td>0</td>\n",
       "      <td>0</td>\n",
       "      <td>0</td>\n",
       "      <td>0</td>\n",
       "      <td>0</td>\n",
       "      <td>0</td>\n",
       "      <td>0</td>\n",
       "      <td>NaN</td>\n",
       "    </tr>\n",
       "    <tr>\n",
       "      <th>3</th>\n",
       "      <td>148930</td>\n",
       "      <td>NaT</td>\n",
       "      <td>[simulator, strategy, adventure, indie]</td>\n",
       "      <td>Bok-Bok: A Chicken Dating Sim</td>\n",
       "      <td>[Not available]</td>\n",
       "      <td>bok-bok-a-chicken-dating-sim</td>\n",
       "      <td>[Not available]</td>\n",
       "      <td>[Not available]</td>\n",
       "      <td>0</td>\n",
       "      <td>0</td>\n",
       "      <td>...</td>\n",
       "      <td>0</td>\n",
       "      <td>0</td>\n",
       "      <td>0</td>\n",
       "      <td>0</td>\n",
       "      <td>0</td>\n",
       "      <td>0</td>\n",
       "      <td>0</td>\n",
       "      <td>0</td>\n",
       "      <td>0</td>\n",
       "      <td>NaN</td>\n",
       "    </tr>\n",
       "    <tr>\n",
       "      <th>4</th>\n",
       "      <td>139538</td>\n",
       "      <td>2018-05-10</td>\n",
       "      <td>[indie]</td>\n",
       "      <td>sun machine</td>\n",
       "      <td>[browser]</td>\n",
       "      <td>sun-machine</td>\n",
       "      <td>[bird-view-slash-isometric]</td>\n",
       "      <td>[science-fiction]</td>\n",
       "      <td>0</td>\n",
       "      <td>0</td>\n",
       "      <td>...</td>\n",
       "      <td>0</td>\n",
       "      <td>0</td>\n",
       "      <td>0</td>\n",
       "      <td>0</td>\n",
       "      <td>0</td>\n",
       "      <td>0</td>\n",
       "      <td>0</td>\n",
       "      <td>0</td>\n",
       "      <td>0</td>\n",
       "      <td>NaN</td>\n",
       "    </tr>\n",
       "  </tbody>\n",
       "</table>\n",
       "<p>5 rows × 111 columns</p>\n",
       "</div>"
      ],
      "text/plain": [
       "       id first_release_date                                   genres  \\\n",
       "0   40104         1987-01-01                                [shooter]   \n",
       "1   85031         2014-07-03                                 [puzzle]   \n",
       "2   99234         2018-05-24                       [adventure, indie]   \n",
       "3  148930                NaT  [simulator, strategy, adventure, indie]   \n",
       "4  139538         2018-05-10                                  [indie]   \n",
       "\n",
       "                            name        platforms  \\\n",
       "0                   Dogou Souken         [arcade]   \n",
       "1                 City Mysteries            [3ds]   \n",
       "2       Sword of the Black Stone            [win]   \n",
       "3  Bok-Bok: A Chicken Dating Sim  [Not available]   \n",
       "4                    sun machine        [browser]   \n",
       "\n",
       "                           slug          player_perspectives  \\\n",
       "0                  dogou-souken              [Not available]   \n",
       "1                city-mysteries              [Not available]   \n",
       "2      sword-of-the-black-stone               [third-person]   \n",
       "3  bok-bok-a-chicken-dating-sim              [Not available]   \n",
       "4                   sun-machine  [bird-view-slash-isometric]   \n",
       "\n",
       "              themes  campaigncoop  dropin  ...  Family Computer Disk System  \\\n",
       "0    [Not available]             0       0  ...                            0   \n",
       "1    [Not available]             0       0  ...                            0   \n",
       "2           [action]             0       0  ...                            0   \n",
       "3    [Not available]             0       0  ...                            0   \n",
       "4  [science-fiction]             0       0  ...                            0   \n",
       "\n",
       "   Arcade  Windows Phone  Apple II  Web browser  Odyssey  Commodore 16  \\\n",
       "0       0              0         0            0        0             0   \n",
       "1       0              0         0            0        0             0   \n",
       "2       0              0         0            0        0             0   \n",
       "3       0              0         0            0        0             0   \n",
       "4       0              0         0            0        0             0   \n",
       "\n",
       "   New Nintendo 3DS  has_dlcs  rating_bin  \n",
       "0                 0         0         NaN  \n",
       "1                 0         0         NaN  \n",
       "2                 0         0         NaN  \n",
       "3                 0         0         NaN  \n",
       "4                 0         0         NaN  \n",
       "\n",
       "[5 rows x 111 columns]"
      ]
     },
     "execution_count": 3,
     "metadata": {},
     "output_type": "execute_result"
    }
   ],
   "source": [
    "game_library.head()"
   ]
  },
  {
   "cell_type": "markdown",
   "id": "a5e7133b",
   "metadata": {},
   "source": [
    "---"
   ]
  },
  {
   "cell_type": "markdown",
   "id": "8ee89fe2",
   "metadata": {},
   "source": [
    "## Splitting the data "
   ]
  },
  {
   "cell_type": "markdown",
   "id": "36ad6b2e",
   "metadata": {},
   "source": [
    "### Why split?\n",
    "- Splitting the data will prevent overftting when going into modeling\n",
    "- Train wil be used in exploration"
   ]
  },
  {
   "cell_type": "code",
   "execution_count": 4,
   "id": "4949ff33",
   "metadata": {
    "scrolled": true
   },
   "outputs": [
    {
     "data": {
      "text/html": [
       "<div>\n",
       "<style scoped>\n",
       "    .dataframe tbody tr th:only-of-type {\n",
       "        vertical-align: middle;\n",
       "    }\n",
       "\n",
       "    .dataframe tbody tr th {\n",
       "        vertical-align: top;\n",
       "    }\n",
       "\n",
       "    .dataframe thead th {\n",
       "        text-align: right;\n",
       "    }\n",
       "</style>\n",
       "<table border=\"1\" class=\"dataframe\">\n",
       "  <thead>\n",
       "    <tr style=\"text-align: right;\">\n",
       "      <th></th>\n",
       "      <th>id</th>\n",
       "      <th>first_release_date</th>\n",
       "      <th>genres</th>\n",
       "      <th>name</th>\n",
       "      <th>platforms</th>\n",
       "      <th>slug</th>\n",
       "      <th>player_perspectives</th>\n",
       "      <th>themes</th>\n",
       "      <th>campaigncoop</th>\n",
       "      <th>dropin</th>\n",
       "      <th>...</th>\n",
       "      <th>Xbox One</th>\n",
       "      <th>Family Computer Disk System</th>\n",
       "      <th>Arcade</th>\n",
       "      <th>Windows Phone</th>\n",
       "      <th>Apple II</th>\n",
       "      <th>Web browser</th>\n",
       "      <th>Odyssey</th>\n",
       "      <th>Commodore 16</th>\n",
       "      <th>New Nintendo 3DS</th>\n",
       "      <th>has_dlcs</th>\n",
       "    </tr>\n",
       "  </thead>\n",
       "  <tbody>\n",
       "    <tr>\n",
       "      <th>88164</th>\n",
       "      <td>110650</td>\n",
       "      <td>2018-12-11</td>\n",
       "      <td>[shooter, indie]</td>\n",
       "      <td>SUFFER</td>\n",
       "      <td>[win]</td>\n",
       "      <td>suffer</td>\n",
       "      <td>[first-person]</td>\n",
       "      <td>[action]</td>\n",
       "      <td>0</td>\n",
       "      <td>0</td>\n",
       "      <td>...</td>\n",
       "      <td>0</td>\n",
       "      <td>0</td>\n",
       "      <td>0</td>\n",
       "      <td>0</td>\n",
       "      <td>0</td>\n",
       "      <td>0</td>\n",
       "      <td>0</td>\n",
       "      <td>0</td>\n",
       "      <td>0</td>\n",
       "      <td>0</td>\n",
       "    </tr>\n",
       "    <tr>\n",
       "      <th>181410</th>\n",
       "      <td>62113</td>\n",
       "      <td>2019-03-01</td>\n",
       "      <td>[shooter, simulator, indie]</td>\n",
       "      <td>Intruder</td>\n",
       "      <td>[win]</td>\n",
       "      <td>intruder</td>\n",
       "      <td>[first-person]</td>\n",
       "      <td>[action]</td>\n",
       "      <td>0</td>\n",
       "      <td>0</td>\n",
       "      <td>...</td>\n",
       "      <td>0</td>\n",
       "      <td>0</td>\n",
       "      <td>0</td>\n",
       "      <td>0</td>\n",
       "      <td>0</td>\n",
       "      <td>0</td>\n",
       "      <td>0</td>\n",
       "      <td>0</td>\n",
       "      <td>0</td>\n",
       "      <td>0</td>\n",
       "    </tr>\n",
       "    <tr>\n",
       "      <th>40651</th>\n",
       "      <td>116209</td>\n",
       "      <td>NaT</td>\n",
       "      <td>[simulator, adventure, indie]</td>\n",
       "      <td>Trinity of Chaos</td>\n",
       "      <td>[Not available]</td>\n",
       "      <td>trinity-of-chaos</td>\n",
       "      <td>[Not available]</td>\n",
       "      <td>[Not available]</td>\n",
       "      <td>0</td>\n",
       "      <td>0</td>\n",
       "      <td>...</td>\n",
       "      <td>0</td>\n",
       "      <td>0</td>\n",
       "      <td>0</td>\n",
       "      <td>0</td>\n",
       "      <td>0</td>\n",
       "      <td>0</td>\n",
       "      <td>0</td>\n",
       "      <td>0</td>\n",
       "      <td>0</td>\n",
       "      <td>0</td>\n",
       "    </tr>\n",
       "    <tr>\n",
       "      <th>21680</th>\n",
       "      <td>25577</td>\n",
       "      <td>2016-10-25</td>\n",
       "      <td>[simulator, indie, arcade]</td>\n",
       "      <td>Oh...Sir!! The Insult Simulator</td>\n",
       "      <td>[linux, win, mac, android, ios, ps4--1, xboxon...</td>\n",
       "      <td>oh-dot-dot-dot-sir-the-insult-simulator</td>\n",
       "      <td>[side-view]</td>\n",
       "      <td>[comedy, party]</td>\n",
       "      <td>0</td>\n",
       "      <td>0</td>\n",
       "      <td>...</td>\n",
       "      <td>0</td>\n",
       "      <td>0</td>\n",
       "      <td>0</td>\n",
       "      <td>0</td>\n",
       "      <td>0</td>\n",
       "      <td>0</td>\n",
       "      <td>0</td>\n",
       "      <td>0</td>\n",
       "      <td>0</td>\n",
       "      <td>0</td>\n",
       "    </tr>\n",
       "    <tr>\n",
       "      <th>162584</th>\n",
       "      <td>9205</td>\n",
       "      <td>2013-11-21</td>\n",
       "      <td>[role-playing-rpg, adventure, indie]</td>\n",
       "      <td>Paper Sorcerer</td>\n",
       "      <td>[win]</td>\n",
       "      <td>paper-sorcerer</td>\n",
       "      <td>[first-person]</td>\n",
       "      <td>[fantasy]</td>\n",
       "      <td>0</td>\n",
       "      <td>0</td>\n",
       "      <td>...</td>\n",
       "      <td>0</td>\n",
       "      <td>0</td>\n",
       "      <td>0</td>\n",
       "      <td>0</td>\n",
       "      <td>0</td>\n",
       "      <td>0</td>\n",
       "      <td>0</td>\n",
       "      <td>0</td>\n",
       "      <td>0</td>\n",
       "      <td>0</td>\n",
       "    </tr>\n",
       "  </tbody>\n",
       "</table>\n",
       "<p>5 rows × 110 columns</p>\n",
       "</div>"
      ],
      "text/plain": [
       "            id first_release_date                                genres  \\\n",
       "88164   110650         2018-12-11                      [shooter, indie]   \n",
       "181410   62113         2019-03-01           [shooter, simulator, indie]   \n",
       "40651   116209                NaT         [simulator, adventure, indie]   \n",
       "21680    25577         2016-10-25            [simulator, indie, arcade]   \n",
       "162584    9205         2013-11-21  [role-playing-rpg, adventure, indie]   \n",
       "\n",
       "                                   name  \\\n",
       "88164                            SUFFER   \n",
       "181410                         Intruder   \n",
       "40651                  Trinity of Chaos   \n",
       "21680   Oh...Sir!! The Insult Simulator   \n",
       "162584                   Paper Sorcerer   \n",
       "\n",
       "                                                platforms  \\\n",
       "88164                                               [win]   \n",
       "181410                                              [win]   \n",
       "40651                                     [Not available]   \n",
       "21680   [linux, win, mac, android, ios, ps4--1, xboxon...   \n",
       "162584                                              [win]   \n",
       "\n",
       "                                           slug player_perspectives  \\\n",
       "88164                                    suffer      [first-person]   \n",
       "181410                                 intruder      [first-person]   \n",
       "40651                          trinity-of-chaos     [Not available]   \n",
       "21680   oh-dot-dot-dot-sir-the-insult-simulator         [side-view]   \n",
       "162584                           paper-sorcerer      [first-person]   \n",
       "\n",
       "                 themes  campaigncoop  dropin  ...  Xbox One  \\\n",
       "88164          [action]             0       0  ...         0   \n",
       "181410         [action]             0       0  ...         0   \n",
       "40651   [Not available]             0       0  ...         0   \n",
       "21680   [comedy, party]             0       0  ...         0   \n",
       "162584        [fantasy]             0       0  ...         0   \n",
       "\n",
       "        Family Computer Disk System  Arcade  Windows Phone  Apple II  \\\n",
       "88164                             0       0              0         0   \n",
       "181410                            0       0              0         0   \n",
       "40651                             0       0              0         0   \n",
       "21680                             0       0              0         0   \n",
       "162584                            0       0              0         0   \n",
       "\n",
       "        Web browser  Odyssey  Commodore 16  New Nintendo 3DS  has_dlcs  \n",
       "88164             0        0             0                 0         0  \n",
       "181410            0        0             0                 0         0  \n",
       "40651             0        0             0                 0         0  \n",
       "21680             0        0             0                 0         0  \n",
       "162584            0        0             0                 0         0  \n",
       "\n",
       "[5 rows x 110 columns]"
      ]
     },
     "execution_count": 4,
     "metadata": {},
     "output_type": "execute_result"
    }
   ],
   "source": [
    "train, X_train, X_validate, X_test, y_train, y_validate, y_test = modeling.split(game_ratings, stratify_by='rating_bin')\n",
    "X_train.head()"
   ]
  },
  {
   "cell_type": "markdown",
   "id": "00db93f9",
   "metadata": {},
   "source": [
    "---"
   ]
  },
  {
   "cell_type": "markdown",
   "id": "c925b841",
   "metadata": {},
   "source": [
    "# Explore\n",
    "\n"
   ]
  },
  {
   "cell_type": "code",
   "execution_count": null,
   "id": "76180071",
   "metadata": {},
   "outputs": [],
   "source": [
    "#this will be seperating the dataframe to only games that are rated superb \n",
    "df_subperb_rating = train[train['rating_bin']== 'subperb']\n"
   ]
  },
  {
   "cell_type": "code",
   "execution_count": null,
   "id": "2414dba4",
   "metadata": {},
   "outputs": [],
   "source": [
    "#lets not forget to remove duplicates \n",
    "df_subperb_rating = df_subperb_rating.drop_duplicates(subset = \"id\")"
   ]
  },
  {
   "cell_type": "code",
   "execution_count": null,
   "id": "ff57736f",
   "metadata": {},
   "outputs": [],
   "source": [
    "# This will be to seperate the dataframe to only games that are rated eaither (bad, very bad, awful)\n",
    "df_low3_rating = train[(train['rating_bin']== 'bad') | (train['rating_bin']== 'very_bad') | (train['rating_bin']== 'awful')]\n",
    "\n"
   ]
  },
  {
   "cell_type": "code",
   "execution_count": null,
   "id": "16f3c19d",
   "metadata": {},
   "outputs": [],
   "source": [
    "# lets remember not to forget to remove the duplicates \n",
    "df_low3_rating = df_low3_rating.drop_duplicates(subset = \"id\")"
   ]
  },
  {
   "cell_type": "markdown",
   "id": "b239bafa",
   "metadata": {},
   "source": [
    "## Question 1 - Do video games on certain platforms get superb user ratings?"
   ]
  },
  {
   "cell_type": "code",
   "execution_count": null,
   "id": "f1054f27",
   "metadata": {
    "scrolled": false
   },
   "outputs": [],
   "source": [
    "ex.platforms_bar()"
   ]
  },
  {
   "cell_type": "markdown",
   "id": "4340490c",
   "metadata": {},
   "source": [
    "#### Yes it looks like the most common superb rated game \n",
    "- Platform is PC \n",
    "- playstation 4 \n",
    "- Xbox One \n",
    "- Nintendo Switch"
   ]
  },
  {
   "cell_type": "markdown",
   "id": "6cfb09d9",
   "metadata": {},
   "source": [
    "### Question 1.1 These are the top 3 platforms for the lowest  ratings (bad, very bad , awful)?\n"
   ]
  },
  {
   "cell_type": "code",
   "execution_count": null,
   "id": "1422b14f",
   "metadata": {},
   "outputs": [],
   "source": [
    "ex.platforms_low(df_low3_rating)"
   ]
  },
  {
   "cell_type": "markdown",
   "id": "cb8897fb",
   "metadata": {},
   "source": [
    "#### Not counting the \"Not Avalible\" because that is not a platform, \n",
    "#### The top 3 platforms are:\n",
    "- PC\n",
    "- MAC\n",
    "- Nintendo Game Cube\n"
   ]
  },
  {
   "cell_type": "markdown",
   "id": "f960fcfd",
   "metadata": {},
   "source": [
    "## Question 2- What is the most common genre in games that are `subperb` (the highest rating)"
   ]
  },
  {
   "cell_type": "code",
   "execution_count": null,
   "id": "05f33c2f",
   "metadata": {},
   "outputs": [],
   "source": [
    "ex.genres_bar()"
   ]
  },
  {
   "cell_type": "markdown",
   "id": "b68d6504",
   "metadata": {},
   "source": [
    "#### the most common platforms in superb rated games are `Indie`, `Adventure`, `Role-Playing-RPG`, `Shooter`"
   ]
  },
  {
   "cell_type": "markdown",
   "id": "6acc73e1",
   "metadata": {},
   "source": [
    "### Question 2.1 what about the three lowest ratings ((bad, very bad , awful)) ? what is the overall most highest genre in these low rating games?\n"
   ]
  },
  {
   "cell_type": "code",
   "execution_count": null,
   "id": "8cfbf0e9",
   "metadata": {
    "scrolled": true
   },
   "outputs": [],
   "source": [
    "ex.genres_low(df_low3_rating)"
   ]
  },
  {
   "cell_type": "markdown",
   "id": "3d170ad7",
   "metadata": {},
   "source": [
    "#### The most common genres in the lowest rating are `Indie`, `Adventure`, `simulator`"
   ]
  },
  {
   "cell_type": "markdown",
   "id": "89f1f4b7",
   "metadata": {},
   "source": [
    "## Question 3- what is the most common theme in games that are subperb (the highest rating)?"
   ]
  },
  {
   "cell_type": "code",
   "execution_count": null,
   "id": "656c79ca",
   "metadata": {
    "scrolled": false
   },
   "outputs": [],
   "source": [
    "ex.theme_bar()"
   ]
  },
  {
   "cell_type": "markdown",
   "id": "9f37665a",
   "metadata": {},
   "source": [
    "#### The most common themes for games in superb are, `Action` , `Fantasy`, `Science-Fiction`, `Open-World`"
   ]
  },
  {
   "cell_type": "markdown",
   "id": "da6322e1",
   "metadata": {},
   "source": [
    "### Question 3.1- what is the most common theme in games that are three lowest ratings ((bad, very bad , awful)) ?"
   ]
  },
  {
   "cell_type": "code",
   "execution_count": null,
   "id": "0900d777",
   "metadata": {},
   "outputs": [],
   "source": [
    "ex.theme_low(df_low3_rating)"
   ]
  },
  {
   "cell_type": "markdown",
   "id": "2adc585b",
   "metadata": {},
   "source": [
    "#### The most common game these in the lowest ratings `Action`, `Science fiction`, `Fantasy`"
   ]
  },
  {
   "cell_type": "markdown",
   "id": "f0657d81",
   "metadata": {},
   "source": [
    "## Question 4 What Are the most common player perspectives in superb rated games?"
   ]
  },
  {
   "cell_type": "code",
   "execution_count": null,
   "id": "24ab9ad5",
   "metadata": {
    "scrolled": false
   },
   "outputs": [],
   "source": [
    "ex.player_bar()"
   ]
  },
  {
   "cell_type": "markdown",
   "id": "a461a9a0",
   "metadata": {},
   "source": [
    "#### The most common player-perspective in superb rated games are `Third-person`,`Birdview-Isometric`, `Side-View`, `First-Person`"
   ]
  },
  {
   "cell_type": "markdown",
   "id": "9da35d46",
   "metadata": {},
   "source": [
    "## Question 4.1 What Are the most common player perspectives in lowest rated games?"
   ]
  },
  {
   "cell_type": "code",
   "execution_count": null,
   "id": "b3770ab3",
   "metadata": {},
   "outputs": [],
   "source": [
    "ex.player_low(df_low3_rating)"
   ]
  },
  {
   "cell_type": "markdown",
   "id": "3d07f627",
   "metadata": {},
   "source": [
    "#### The most common player perspective in the lowest Rated Games are `Third-person`, `First-Person`, `Birdview-Isometric`"
   ]
  },
  {
   "cell_type": "markdown",
   "id": "3d37039a",
   "metadata": {},
   "source": [
    "## Key Takeaways\n",
    "\n",
    "The top features are for genre, themes, platforms and player perspective could lead to a successful creation of a profitable and high member rated Video Game\n"
   ]
  },
  {
   "cell_type": "markdown",
   "id": "f4606a97",
   "metadata": {},
   "source": [
    "-----"
   ]
  },
  {
   "cell_type": "markdown",
   "id": "bcd1d87f",
   "metadata": {},
   "source": [
    "# Modeling  \n",
    "\n",
    "We built five classification models Random Forest, Decision Tree, K-nearest Neighbor all at various depths and a One vs. Rest classifier and  Logistic Regression model."
   ]
  },
  {
   "cell_type": "code",
   "execution_count": 5,
   "id": "b0aa3eb3",
   "metadata": {},
   "outputs": [
    {
     "data": {
      "text/html": [
       "<div>\n",
       "<style scoped>\n",
       "    .dataframe tbody tr th:only-of-type {\n",
       "        vertical-align: middle;\n",
       "    }\n",
       "\n",
       "    .dataframe tbody tr th {\n",
       "        vertical-align: top;\n",
       "    }\n",
       "\n",
       "    .dataframe thead th {\n",
       "        text-align: right;\n",
       "    }\n",
       "</style>\n",
       "<table border=\"1\" class=\"dataframe\">\n",
       "  <thead>\n",
       "    <tr style=\"text-align: right;\">\n",
       "      <th></th>\n",
       "      <th>campaigncoop</th>\n",
       "      <th>dropin</th>\n",
       "      <th>lancoop</th>\n",
       "      <th>offlinecoop</th>\n",
       "      <th>onlinecoop</th>\n",
       "      <th>splitscreen</th>\n",
       "      <th>point-and-click</th>\n",
       "      <th>fighting</th>\n",
       "      <th>shooter</th>\n",
       "      <th>music</th>\n",
       "      <th>...</th>\n",
       "      <th>Family Computer Disk System</th>\n",
       "      <th>Arcade</th>\n",
       "      <th>Windows Phone</th>\n",
       "      <th>Apple II</th>\n",
       "      <th>Web browser</th>\n",
       "      <th>Odyssey</th>\n",
       "      <th>Commodore 16</th>\n",
       "      <th>New Nintendo 3DS</th>\n",
       "      <th>has_dlcs</th>\n",
       "      <th>rating_bin</th>\n",
       "    </tr>\n",
       "  </thead>\n",
       "  <tbody>\n",
       "    <tr>\n",
       "      <th>16</th>\n",
       "      <td>0</td>\n",
       "      <td>0</td>\n",
       "      <td>0</td>\n",
       "      <td>0</td>\n",
       "      <td>0</td>\n",
       "      <td>0</td>\n",
       "      <td>0</td>\n",
       "      <td>0</td>\n",
       "      <td>0</td>\n",
       "      <td>1</td>\n",
       "      <td>...</td>\n",
       "      <td>0</td>\n",
       "      <td>0</td>\n",
       "      <td>0</td>\n",
       "      <td>0</td>\n",
       "      <td>0</td>\n",
       "      <td>0</td>\n",
       "      <td>0</td>\n",
       "      <td>0</td>\n",
       "      <td>0</td>\n",
       "      <td>fair</td>\n",
       "    </tr>\n",
       "    <tr>\n",
       "      <th>23</th>\n",
       "      <td>0</td>\n",
       "      <td>0</td>\n",
       "      <td>0</td>\n",
       "      <td>0</td>\n",
       "      <td>0</td>\n",
       "      <td>0</td>\n",
       "      <td>0</td>\n",
       "      <td>0</td>\n",
       "      <td>0</td>\n",
       "      <td>0</td>\n",
       "      <td>...</td>\n",
       "      <td>0</td>\n",
       "      <td>0</td>\n",
       "      <td>0</td>\n",
       "      <td>0</td>\n",
       "      <td>0</td>\n",
       "      <td>0</td>\n",
       "      <td>0</td>\n",
       "      <td>0</td>\n",
       "      <td>0</td>\n",
       "      <td>unimpressive</td>\n",
       "    </tr>\n",
       "    <tr>\n",
       "      <th>42</th>\n",
       "      <td>0</td>\n",
       "      <td>0</td>\n",
       "      <td>0</td>\n",
       "      <td>0</td>\n",
       "      <td>0</td>\n",
       "      <td>0</td>\n",
       "      <td>0</td>\n",
       "      <td>0</td>\n",
       "      <td>0</td>\n",
       "      <td>0</td>\n",
       "      <td>...</td>\n",
       "      <td>0</td>\n",
       "      <td>0</td>\n",
       "      <td>0</td>\n",
       "      <td>0</td>\n",
       "      <td>0</td>\n",
       "      <td>0</td>\n",
       "      <td>0</td>\n",
       "      <td>0</td>\n",
       "      <td>0</td>\n",
       "      <td>alright</td>\n",
       "    </tr>\n",
       "    <tr>\n",
       "      <th>47</th>\n",
       "      <td>0</td>\n",
       "      <td>0</td>\n",
       "      <td>0</td>\n",
       "      <td>0</td>\n",
       "      <td>0</td>\n",
       "      <td>0</td>\n",
       "      <td>0</td>\n",
       "      <td>0</td>\n",
       "      <td>0</td>\n",
       "      <td>0</td>\n",
       "      <td>...</td>\n",
       "      <td>0</td>\n",
       "      <td>0</td>\n",
       "      <td>0</td>\n",
       "      <td>0</td>\n",
       "      <td>0</td>\n",
       "      <td>0</td>\n",
       "      <td>0</td>\n",
       "      <td>0</td>\n",
       "      <td>0</td>\n",
       "      <td>good</td>\n",
       "    </tr>\n",
       "    <tr>\n",
       "      <th>51</th>\n",
       "      <td>0</td>\n",
       "      <td>0</td>\n",
       "      <td>0</td>\n",
       "      <td>0</td>\n",
       "      <td>0</td>\n",
       "      <td>0</td>\n",
       "      <td>0</td>\n",
       "      <td>0</td>\n",
       "      <td>0</td>\n",
       "      <td>0</td>\n",
       "      <td>...</td>\n",
       "      <td>0</td>\n",
       "      <td>0</td>\n",
       "      <td>0</td>\n",
       "      <td>0</td>\n",
       "      <td>0</td>\n",
       "      <td>0</td>\n",
       "      <td>0</td>\n",
       "      <td>0</td>\n",
       "      <td>0</td>\n",
       "      <td>average</td>\n",
       "    </tr>\n",
       "  </tbody>\n",
       "</table>\n",
       "<p>5 rows × 103 columns</p>\n",
       "</div>"
      ],
      "text/plain": [
       "    campaigncoop  dropin  lancoop  offlinecoop  onlinecoop  splitscreen  \\\n",
       "16             0       0        0            0           0            0   \n",
       "23             0       0        0            0           0            0   \n",
       "42             0       0        0            0           0            0   \n",
       "47             0       0        0            0           0            0   \n",
       "51             0       0        0            0           0            0   \n",
       "\n",
       "    point-and-click  fighting  shooter  music  ...  \\\n",
       "16                0         0        0      1  ...   \n",
       "23                0         0        0      0  ...   \n",
       "42                0         0        0      0  ...   \n",
       "47                0         0        0      0  ...   \n",
       "51                0         0        0      0  ...   \n",
       "\n",
       "    Family Computer Disk System  Arcade  Windows Phone  Apple II  Web browser  \\\n",
       "16                            0       0              0         0            0   \n",
       "23                            0       0              0         0            0   \n",
       "42                            0       0              0         0            0   \n",
       "47                            0       0              0         0            0   \n",
       "51                            0       0              0         0            0   \n",
       "\n",
       "    Odyssey  Commodore 16  New Nintendo 3DS  has_dlcs    rating_bin  \n",
       "16        0             0                 0         0          fair  \n",
       "23        0             0                 0         0  unimpressive  \n",
       "42        0             0                 0         0       alright  \n",
       "47        0             0                 0         0          good  \n",
       "51        0             0                 0         0       average  \n",
       "\n",
       "[5 rows x 103 columns]"
      ]
     },
     "execution_count": 5,
     "metadata": {},
     "output_type": "execute_result"
    }
   ],
   "source": [
    "#Drop columns that we do not need for modeling\n",
    "game_ratings = game_ratings.drop(columns=['name', 'first_release_date', 'slug', 'id', 'genres', 'platforms', 'player_perspectives', 'themes'])\n",
    "game_ratings.head()"
   ]
  },
  {
   "cell_type": "markdown",
   "id": "c7681046",
   "metadata": {},
   "source": [
    "### Random Forest"
   ]
  },
  {
   "cell_type": "code",
   "execution_count": null,
   "id": "3b02fa91",
   "metadata": {},
   "outputs": [],
   "source": []
  },
  {
   "cell_type": "code",
   "execution_count": null,
   "id": "a5dc8a9d",
   "metadata": {},
   "outputs": [],
   "source": []
  },
  {
   "cell_type": "code",
   "execution_count": null,
   "id": "a813db80",
   "metadata": {},
   "outputs": [],
   "source": []
  },
  {
   "cell_type": "code",
   "execution_count": null,
   "id": "dfa3ece2",
   "metadata": {},
   "outputs": [],
   "source": []
  },
  {
   "cell_type": "code",
   "execution_count": null,
   "id": "4596b6ee",
   "metadata": {},
   "outputs": [],
   "source": []
  },
  {
   "cell_type": "code",
   "execution_count": null,
   "id": "930a3e59",
   "metadata": {},
   "outputs": [],
   "source": []
  },
  {
   "cell_type": "code",
   "execution_count": null,
   "id": "97ea8f67",
   "metadata": {},
   "outputs": [],
   "source": []
  },
  {
   "cell_type": "code",
   "execution_count": null,
   "id": "2cb48213",
   "metadata": {},
   "outputs": [],
   "source": []
  },
  {
   "cell_type": "code",
   "execution_count": null,
   "id": "9470c9c1",
   "metadata": {},
   "outputs": [],
   "source": []
  },
  {
   "cell_type": "markdown",
   "id": "563fa475",
   "metadata": {},
   "source": [
    "# Conclusion "
   ]
  },
  {
   "cell_type": "markdown",
   "id": "7923aecf",
   "metadata": {},
   "source": [
    "After acquiring, preparing and exploring the data from the IGDB API we were able to build five classification models that were trained on games with member ratings. All models were able to beat the baseline. \n",
    "We used the model with the highest accuracy, Random Forest, to predict ratings of games that have not yet been rated on IGDB, based on their features. Having this insight will greatly improve any video games that will be made in the future in regards to having a high user rating."
   ]
  },
  {
   "cell_type": "markdown",
   "id": "bbbd89d2",
   "metadata": {},
   "source": [
    "# Recomendations "
   ]
  },
  {
   "cell_type": "markdown",
   "id": "50faad73",
   "metadata": {},
   "source": [
    "We recommend to stakeholders that some of the best and highest rated video games contain this combination of features:\n",
    "\n",
    "`Genres` \n",
    "- Adventure\n",
    "- role playing games\n",
    "\n",
    "`Themes` \n",
    "- Fantasy \n",
    "- Action\n",
    "\n",
    "`Platforms` \n",
    "- PC \n",
    "- Playstation 4\n",
    "\n",
    "`Top perspectives` \n",
    "- Third\n",
    "- Bird view /Isometric "
   ]
  },
  {
   "cell_type": "code",
   "execution_count": null,
   "id": "ece6fab3",
   "metadata": {},
   "outputs": [],
   "source": []
  }
 ],
 "metadata": {
  "kernelspec": {
   "display_name": "Python 3 (ipykernel)",
   "language": "python",
   "name": "python3"
  },
  "language_info": {
   "codemirror_mode": {
    "name": "ipython",
    "version": 3
   },
   "file_extension": ".py",
   "mimetype": "text/x-python",
   "name": "python",
   "nbconvert_exporter": "python",
   "pygments_lexer": "ipython3",
   "version": "3.9.12"
  }
 },
 "nbformat": 4,
 "nbformat_minor": 5
}
