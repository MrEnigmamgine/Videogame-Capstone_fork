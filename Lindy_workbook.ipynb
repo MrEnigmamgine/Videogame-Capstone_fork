{
 "cells": [
  {
   "cell_type": "code",
   "execution_count": 1,
   "id": "59eac920",
   "metadata": {},
   "outputs": [],
   "source": [
    "import requests\n",
    "import env\n",
    "from requests.models import Request, Response\n",
    "from env import Client_ID\n",
    "import pandas as pd\n",
    "from igdb.igdbapi_pb2 import GameResult\n",
    "from typing import Dict, List, Optional, Union, cast\n",
    "import acquire\n",
    "import json\n",
    "from igdb.wrapper import IGDBWrapper\n",
    "import numpy as np\n",
    "from sklearn.feature_selection import SelectKBest, chi2\n",
    "from sklearn.model_selection import train_test_split\n",
    "import os\n",
    "from sklearn.feature_selection import SelectKBest, chi2, mutual_info_classif"
   ]
  },
  {
   "cell_type": "markdown",
   "id": "194f1b2b",
   "metadata": {},
   "source": [
    "### Connect to API and scrape the data needed\n",
    "#### get the access token and 200 response "
   ]
  },
  {
   "cell_type": "code",
   "execution_count": null,
   "id": "499f3c77",
   "metadata": {},
   "outputs": [],
   "source": [
    "def get_api():   \n",
    "    url = env.get_db_url()\n",
    "    response = requests.post(url)\n",
    "    data = response.json()\n",
    "    access_token = data['access_token']\n",
    "    headers = {'Client-ID': f'{Client_ID}', 'Authorization': f'Bearer {access_token}'}\n",
    "    data = 'fields *;'\n",
    "    r = requests.post('https://api.igdb.com/v4/games', data=data, headers=headers)\n",
    "    return access_token, r"
   ]
  },
  {
   "cell_type": "code",
   "execution_count": 2,
   "id": "b6392817",
   "metadata": {},
   "outputs": [],
   "source": [
    "access_token = acquire.connect_api()"
   ]
  },
  {
   "cell_type": "code",
   "execution_count": 3,
   "id": "18397403",
   "metadata": {},
   "outputs": [],
   "source": [
    "tf = acquire.connect_to_games()"
   ]
  },
  {
   "cell_type": "code",
   "execution_count": null,
   "id": "f7b639e1",
   "metadata": {},
   "outputs": [],
   "source": [
    "tf"
   ]
  },
  {
   "cell_type": "code",
   "execution_count": 4,
   "id": "1807b8aa",
   "metadata": {},
   "outputs": [],
   "source": [
    "wrapper = acquire.run_wrapper()"
   ]
  },
  {
   "cell_type": "code",
   "execution_count": 5,
   "id": "e8f0d7e6",
   "metadata": {},
   "outputs": [
    {
     "data": {
      "text/html": [
       "<div>\n",
       "<style scoped>\n",
       "    .dataframe tbody tr th:only-of-type {\n",
       "        vertical-align: middle;\n",
       "    }\n",
       "\n",
       "    .dataframe tbody tr th {\n",
       "        vertical-align: top;\n",
       "    }\n",
       "\n",
       "    .dataframe thead th {\n",
       "        text-align: right;\n",
       "    }\n",
       "</style>\n",
       "<table border=\"1\" class=\"dataframe\">\n",
       "  <thead>\n",
       "    <tr style=\"text-align: right;\">\n",
       "      <th></th>\n",
       "      <th>id</th>\n",
       "      <th>category</th>\n",
       "      <th>created_at</th>\n",
       "      <th>external_games</th>\n",
       "      <th>first_release_date</th>\n",
       "      <th>genres</th>\n",
       "      <th>name</th>\n",
       "      <th>platforms</th>\n",
       "      <th>release_dates</th>\n",
       "      <th>similar_games</th>\n",
       "      <th>...</th>\n",
       "      <th>aggregated_rating_count</th>\n",
       "      <th>multiplayer_modes</th>\n",
       "      <th>remakes</th>\n",
       "      <th>dlcs</th>\n",
       "      <th>ports</th>\n",
       "      <th>expansions</th>\n",
       "      <th>expanded_games</th>\n",
       "      <th>remasters</th>\n",
       "      <th>forks</th>\n",
       "      <th>standalone_expansions</th>\n",
       "    </tr>\n",
       "  </thead>\n",
       "  <tbody>\n",
       "    <tr>\n",
       "      <th>0</th>\n",
       "      <td>40104</td>\n",
       "      <td>0</td>\n",
       "      <td>1498435200</td>\n",
       "      <td>[20127, 1988884]</td>\n",
       "      <td>5.364576e+08</td>\n",
       "      <td>[5]</td>\n",
       "      <td>Dogou Souken</td>\n",
       "      <td>[52]</td>\n",
       "      <td>[91007]</td>\n",
       "      <td>[12364, 27270, 43367, 103281, 103292, 103298, ...</td>\n",
       "      <td>...</td>\n",
       "      <td>NaN</td>\n",
       "      <td>NaN</td>\n",
       "      <td>NaN</td>\n",
       "      <td>NaN</td>\n",
       "      <td>NaN</td>\n",
       "      <td>NaN</td>\n",
       "      <td>NaN</td>\n",
       "      <td>NaN</td>\n",
       "      <td>NaN</td>\n",
       "      <td>NaN</td>\n",
       "    </tr>\n",
       "    <tr>\n",
       "      <th>1</th>\n",
       "      <td>85031</td>\n",
       "      <td>0</td>\n",
       "      <td>1517392813</td>\n",
       "      <td>[216805, 1969751, 2005770]</td>\n",
       "      <td>1.404346e+09</td>\n",
       "      <td>[9]</td>\n",
       "      <td>City Mysteries</td>\n",
       "      <td>[37]</td>\n",
       "      <td>[138333]</td>\n",
       "      <td>[10603, 19222, 25905, 41349, 86974, 87507, 885...</td>\n",
       "      <td>...</td>\n",
       "      <td>NaN</td>\n",
       "      <td>NaN</td>\n",
       "      <td>NaN</td>\n",
       "      <td>NaN</td>\n",
       "      <td>NaN</td>\n",
       "      <td>NaN</td>\n",
       "      <td>NaN</td>\n",
       "      <td>NaN</td>\n",
       "      <td>NaN</td>\n",
       "      <td>NaN</td>\n",
       "    </tr>\n",
       "    <tr>\n",
       "      <th>2</th>\n",
       "      <td>99234</td>\n",
       "      <td>0</td>\n",
       "      <td>1524843905</td>\n",
       "      <td>[603512, 1857496, 1917109]</td>\n",
       "      <td>1.527120e+09</td>\n",
       "      <td>[31, 32]</td>\n",
       "      <td>Sword of the Black Stone</td>\n",
       "      <td>[6]</td>\n",
       "      <td>[188385]</td>\n",
       "      <td>[25646, 29783, 68271, 80916, 96217, 105269, 10...</td>\n",
       "      <td>...</td>\n",
       "      <td>NaN</td>\n",
       "      <td>NaN</td>\n",
       "      <td>NaN</td>\n",
       "      <td>NaN</td>\n",
       "      <td>NaN</td>\n",
       "      <td>NaN</td>\n",
       "      <td>NaN</td>\n",
       "      <td>NaN</td>\n",
       "      <td>NaN</td>\n",
       "      <td>NaN</td>\n",
       "    </tr>\n",
       "    <tr>\n",
       "      <th>3</th>\n",
       "      <td>148930</td>\n",
       "      <td>0</td>\n",
       "      <td>1621959514</td>\n",
       "      <td>[2052375, 2057300]</td>\n",
       "      <td>NaN</td>\n",
       "      <td>[13, 15, 31, 32]</td>\n",
       "      <td>Bok-Bok: A Chicken Dating Sim</td>\n",
       "      <td>NaN</td>\n",
       "      <td>NaN</td>\n",
       "      <td>[25311, 26145, 28277, 33603, 51577, 65827, 791...</td>\n",
       "      <td>...</td>\n",
       "      <td>NaN</td>\n",
       "      <td>NaN</td>\n",
       "      <td>NaN</td>\n",
       "      <td>NaN</td>\n",
       "      <td>NaN</td>\n",
       "      <td>NaN</td>\n",
       "      <td>NaN</td>\n",
       "      <td>NaN</td>\n",
       "      <td>NaN</td>\n",
       "      <td>NaN</td>\n",
       "    </tr>\n",
       "    <tr>\n",
       "      <th>4</th>\n",
       "      <td>139538</td>\n",
       "      <td>0</td>\n",
       "      <td>1602368467</td>\n",
       "      <td>[1966278]</td>\n",
       "      <td>1.525910e+09</td>\n",
       "      <td>[32]</td>\n",
       "      <td>sun machine</td>\n",
       "      <td>[82]</td>\n",
       "      <td>[213594]</td>\n",
       "      <td>[11666, 13200, 13660, 17130, 25311, 28070, 348...</td>\n",
       "      <td>...</td>\n",
       "      <td>NaN</td>\n",
       "      <td>NaN</td>\n",
       "      <td>NaN</td>\n",
       "      <td>NaN</td>\n",
       "      <td>NaN</td>\n",
       "      <td>NaN</td>\n",
       "      <td>NaN</td>\n",
       "      <td>NaN</td>\n",
       "      <td>NaN</td>\n",
       "      <td>NaN</td>\n",
       "    </tr>\n",
       "  </tbody>\n",
       "</table>\n",
       "<p>5 rows × 55 columns</p>\n",
       "</div>"
      ],
      "text/plain": [
       "       id  category  created_at              external_games  \\\n",
       "0   40104         0  1498435200            [20127, 1988884]   \n",
       "1   85031         0  1517392813  [216805, 1969751, 2005770]   \n",
       "2   99234         0  1524843905  [603512, 1857496, 1917109]   \n",
       "3  148930         0  1621959514          [2052375, 2057300]   \n",
       "4  139538         0  1602368467                   [1966278]   \n",
       "\n",
       "   first_release_date            genres                           name  \\\n",
       "0        5.364576e+08               [5]                   Dogou Souken   \n",
       "1        1.404346e+09               [9]                 City Mysteries   \n",
       "2        1.527120e+09          [31, 32]       Sword of the Black Stone   \n",
       "3                 NaN  [13, 15, 31, 32]  Bok-Bok: A Chicken Dating Sim   \n",
       "4        1.525910e+09              [32]                    sun machine   \n",
       "\n",
       "  platforms release_dates                                      similar_games  \\\n",
       "0      [52]       [91007]  [12364, 27270, 43367, 103281, 103292, 103298, ...   \n",
       "1      [37]      [138333]  [10603, 19222, 25905, 41349, 86974, 87507, 885...   \n",
       "2       [6]      [188385]  [25646, 29783, 68271, 80916, 96217, 105269, 10...   \n",
       "3       NaN           NaN  [25311, 26145, 28277, 33603, 51577, 65827, 791...   \n",
       "4      [82]      [213594]  [11666, 13200, 13660, 17130, 25311, 28070, 348...   \n",
       "\n",
       "   ... aggregated_rating_count multiplayer_modes remakes  dlcs ports  \\\n",
       "0  ...                     NaN               NaN     NaN   NaN   NaN   \n",
       "1  ...                     NaN               NaN     NaN   NaN   NaN   \n",
       "2  ...                     NaN               NaN     NaN   NaN   NaN   \n",
       "3  ...                     NaN               NaN     NaN   NaN   NaN   \n",
       "4  ...                     NaN               NaN     NaN   NaN   NaN   \n",
       "\n",
       "  expansions expanded_games  remasters forks standalone_expansions  \n",
       "0        NaN            NaN        NaN   NaN                   NaN  \n",
       "1        NaN            NaN        NaN   NaN                   NaN  \n",
       "2        NaN            NaN        NaN   NaN                   NaN  \n",
       "3        NaN            NaN        NaN   NaN                   NaN  \n",
       "4        NaN            NaN        NaN   NaN                   NaN  \n",
       "\n",
       "[5 rows x 55 columns]"
      ]
     },
     "execution_count": 5,
     "metadata": {},
     "output_type": "execute_result"
    }
   ],
   "source": [
    "game_library = acquire.get_game_library(wrapper)\n",
    "game_library.head()"
   ]
  },
  {
   "cell_type": "code",
   "execution_count": 6,
   "id": "4672e081",
   "metadata": {},
   "outputs": [],
   "source": [
    "#pd.set_option('display.max_rows', 500)\n",
    "pd.set_option('display.max_columns', 500)\n",
    "pd.set_option('display.width', 1000)"
   ]
  },
  {
   "cell_type": "markdown",
   "id": "00868ec5",
   "metadata": {},
   "source": [
    "## scraping endpoints\n",
    "scrape the end points of each category and add them to the game_librarys"
   ]
  },
  {
   "cell_type": "markdown",
   "id": "b22752b2",
   "metadata": {},
   "source": [
    "### platform_families"
   ]
  },
  {
   "cell_type": "code",
   "execution_count": null,
   "id": "0c2d3f94",
   "metadata": {},
   "outputs": [],
   "source": [
    "def get_platform_families():\n",
    "    headers = {'Client-ID': f'{Client_ID}', 'Authorization': f'Bearer {access_token}'}\n",
    "    data = 'fields *; '\n",
    "    r = requests.post('https://api.igdb.com/v4/platform_families' ,data=data ,  headers=headers)\n",
    "    platform_families = wrapper.api_request('platform_families', 'fields *;limit 500;')\n",
    "    x = json.loads(platform_families)\n",
    "    platform_families =pd.DataFrame(x)\n",
    "    return platform_families"
   ]
  },
  {
   "cell_type": "code",
   "execution_count": null,
   "id": "d604a83e",
   "metadata": {},
   "outputs": [],
   "source": [
    "platform_families = get_platform_families()\n",
    "platform_families.head()"
   ]
  },
  {
   "cell_type": "markdown",
   "id": "dfdd56fb",
   "metadata": {},
   "source": [
    "### platform_version_release_dates"
   ]
  },
  {
   "cell_type": "code",
   "execution_count": null,
   "id": "1daa8ff1",
   "metadata": {},
   "outputs": [],
   "source": [
    "def get_platform_version_release():\n",
    "    headers = {'Client-ID': f'{Client_ID}', 'Authorization': f'Bearer {access_token}'}\n",
    "    data = 'fields *; '\n",
    "    r = requests.post('https://api.igdb.com/v4/platform_version_release_dates' ,data=data ,  headers=headers)\n",
    "    platform_version_release_dates = wrapper.api_request('platform_version_release_dates', 'fields *;limit 500;')\n",
    "    x = json.loads(platform_version_release_dates)\n",
    "    platform_version_release_dates =pd.DataFrame(x)\n",
    "    return platform_version_release_dates"
   ]
  },
  {
   "cell_type": "code",
   "execution_count": null,
   "id": "c33e4008",
   "metadata": {
    "scrolled": true
   },
   "outputs": [],
   "source": [
    "platform_version_release_dates = get_platform_version_release()\n",
    "platform_version_release_dates"
   ]
  },
  {
   "cell_type": "code",
   "execution_count": null,
   "id": "6b3a1a38",
   "metadata": {},
   "outputs": [],
   "source": [
    "# drop columns not needed\n",
    "platform_version_release_dates = platform_version_release_dates.drop(columns=['category', 'date', 'm', 'y', 'region', 'updated_at', 'checksum', 'updated_at'])\n",
    "platform_version_release_dates.head()\n"
   ]
  },
  {
   "cell_type": "code",
   "execution_count": null,
   "id": "4d8bbfc3",
   "metadata": {},
   "outputs": [],
   "source": [
    "df.head()"
   ]
  },
  {
   "cell_type": "code",
   "execution_count": null,
   "id": "ccc3b9b6",
   "metadata": {},
   "outputs": [],
   "source": [
    "version_dates_dict[9] = 'not_available'\n",
    "version_dates_dict[384] = 'not_available'\n",
    "version_dates_dict[386] = 'not_available'\n"
   ]
  },
  {
   "cell_type": "code",
   "execution_count": null,
   "id": "9c996756",
   "metadata": {},
   "outputs": [],
   "source": [
    "version_dates_list = platform_version_release_dates[['game' , 'human']].sort_values(by='game').reset_index(drop=True)\n",
    "version_dates_dict = platform_version_release_dates.set_index('game').to_dict()['human']"
   ]
  },
  {
   "cell_type": "code",
   "execution_count": null,
   "id": "29bf775c",
   "metadata": {},
   "outputs": [],
   "source": [
    "def test_funct3(random_list):\n",
    "    if type(random_list) == list:\n",
    "        return [version_dates_dict[i] for i in random_list]\n",
    "    else:  \n",
    "        return \"Not available\""
   ]
  },
  {
   "cell_type": "code",
   "execution_count": null,
   "id": "842101a9",
   "metadata": {},
   "outputs": [],
   "source": [
    "platforms.set_index('Locality', inplace=True)\n",
    "data.set_index('Locality', inplace=True)\n"
   ]
  },
  {
   "cell_type": "code",
   "execution_count": null,
   "id": "ce4abca6",
   "metadata": {},
   "outputs": [],
   "source": [
    "df['release_dates'] = df.release_dates.apply(test_funct3)\n",
    "df.head()"
   ]
  },
  {
   "cell_type": "code",
   "execution_count": null,
   "id": "c42b13d9",
   "metadata": {},
   "outputs": [],
   "source": [
    "all_release_dates = pd.merge(release_dates, platform_version_release_dates, how = 'inner', on=\"human\")"
   ]
  },
  {
   "cell_type": "markdown",
   "id": "5f062c61",
   "metadata": {},
   "source": [
    "### platform_version_companies"
   ]
  },
  {
   "cell_type": "code",
   "execution_count": null,
   "id": "647e75ed",
   "metadata": {},
   "outputs": [],
   "source": [
    "def get_platform_version_companies():\n",
    "    headers = {'Client-ID': f'{Client_ID}', 'Authorization': f'Bearer {access_token}'}\n",
    "    data = 'fields *; '\n",
    "    r = requests.post('https://api.igdb.com/v4/platform_version_companies' ,data=data ,  headers=headers)\n",
    "    platform_version_companies = wrapper.api_request('platform_version_companies', 'fields *;limit 500;')\n",
    "    x = json.loads(platform_version_companies)\n",
    "    platform_version_companies =pd.DataFrame(x)\n",
    "    return platform_version_companies"
   ]
  },
  {
   "cell_type": "code",
   "execution_count": null,
   "id": "a0c5d32a",
   "metadata": {},
   "outputs": [],
   "source": [
    "platform_version_companies=get_platform_version_companies()\n",
    "platform_version_companies.head()"
   ]
  },
  {
   "cell_type": "markdown",
   "id": "7f315e07",
   "metadata": {},
   "source": [
    "### platforms (use this)"
   ]
  },
  {
   "cell_type": "code",
   "execution_count": 7,
   "id": "1e3376a0",
   "metadata": {},
   "outputs": [],
   "source": [
    "def get_platforms():\n",
    "    headers = {'Client-ID': f'{Client_ID}', 'Authorization': f'Bearer {access_token}'}\n",
    "    data = 'fields *; '\n",
    "    r = requests.post('https://api.igdb.com/v4/platforms' ,data=data ,  headers=headers)\n",
    "    platforms = wrapper.api_request('platforms', 'fields *;limit 500;')\n",
    "    x = json.loads(platforms)\n",
    "    platforms =pd.DataFrame(x)\n",
    "    return platforms"
   ]
  },
  {
   "cell_type": "code",
   "execution_count": 8,
   "id": "86ec91a1",
   "metadata": {},
   "outputs": [
    {
     "data": {
      "text/plain": [
       "(197, 16)"
      ]
     },
     "execution_count": 8,
     "metadata": {},
     "output_type": "execute_result"
    }
   ],
   "source": [
    "platform = get_platforms()\n",
    "platform.shape"
   ]
  },
  {
   "cell_type": "code",
   "execution_count": null,
   "id": "bf699440",
   "metadata": {},
   "outputs": [],
   "source": [
    "# see if there is a number in id that matches the big df\n",
    "platform.loc[platform['id'] == 5]"
   ]
  },
  {
   "cell_type": "code",
   "execution_count": null,
   "id": "f43894eb",
   "metadata": {},
   "outputs": [],
   "source": [
    "# looking at the dictionary\n",
    "print(game_library.get(92, \"Not found\"))"
   ]
  },
  {
   "cell_type": "code",
   "execution_count": 9,
   "id": "561a1290",
   "metadata": {},
   "outputs": [],
   "source": [
    "platformlist = platform[['id' , 'name']].sort_values(by='id').reset_index(drop=True)\n"
   ]
  },
  {
   "cell_type": "code",
   "execution_count": 10,
   "id": "3be1a926",
   "metadata": {},
   "outputs": [],
   "source": [
    "platform_dict = platformlist.set_index('id').to_dict()['name']"
   ]
  },
  {
   "cell_type": "code",
   "execution_count": 11,
   "id": "3caabbaa",
   "metadata": {},
   "outputs": [],
   "source": [
    "platform_dict[92] = 'not_available'"
   ]
  },
  {
   "cell_type": "code",
   "execution_count": 12,
   "id": "d45b2412",
   "metadata": {},
   "outputs": [],
   "source": [
    "def test_funct(random_list):\n",
    "    if type(random_list) == list:\n",
    "        return [platform_dict[i] for i in random_list]\n",
    "    else:  \n",
    "        return  [\"Not available\"]"
   ]
  },
  {
   "cell_type": "code",
   "execution_count": 13,
   "id": "a33463cf",
   "metadata": {
    "scrolled": true
   },
   "outputs": [
    {
     "data": {
      "text/html": [
       "<div>\n",
       "<style scoped>\n",
       "    .dataframe tbody tr th:only-of-type {\n",
       "        vertical-align: middle;\n",
       "    }\n",
       "\n",
       "    .dataframe tbody tr th {\n",
       "        vertical-align: top;\n",
       "    }\n",
       "\n",
       "    .dataframe thead th {\n",
       "        text-align: right;\n",
       "    }\n",
       "</style>\n",
       "<table border=\"1\" class=\"dataframe\">\n",
       "  <thead>\n",
       "    <tr style=\"text-align: right;\">\n",
       "      <th></th>\n",
       "      <th>id</th>\n",
       "      <th>category</th>\n",
       "      <th>created_at</th>\n",
       "      <th>external_games</th>\n",
       "      <th>first_release_date</th>\n",
       "      <th>genres</th>\n",
       "      <th>name</th>\n",
       "      <th>platforms</th>\n",
       "      <th>release_dates</th>\n",
       "      <th>similar_games</th>\n",
       "      <th>slug</th>\n",
       "      <th>summary</th>\n",
       "      <th>tags</th>\n",
       "      <th>updated_at</th>\n",
       "      <th>url</th>\n",
       "      <th>checksum</th>\n",
       "      <th>age_ratings</th>\n",
       "      <th>cover</th>\n",
       "      <th>involved_companies</th>\n",
       "      <th>screenshots</th>\n",
       "      <th>game_modes</th>\n",
       "      <th>player_perspectives</th>\n",
       "      <th>themes</th>\n",
       "      <th>websites</th>\n",
       "      <th>alternative_names</th>\n",
       "      <th>artworks</th>\n",
       "      <th>game_engines</th>\n",
       "      <th>keywords</th>\n",
       "      <th>status</th>\n",
       "      <th>videos</th>\n",
       "      <th>rating</th>\n",
       "      <th>rating_count</th>\n",
       "      <th>storyline</th>\n",
       "      <th>total_rating</th>\n",
       "      <th>total_rating_count</th>\n",
       "      <th>version_parent</th>\n",
       "      <th>version_title</th>\n",
       "      <th>hypes</th>\n",
       "      <th>collection</th>\n",
       "      <th>franchises</th>\n",
       "      <th>follows</th>\n",
       "      <th>bundles</th>\n",
       "      <th>parent_game</th>\n",
       "      <th>franchise</th>\n",
       "      <th>aggregated_rating</th>\n",
       "      <th>aggregated_rating_count</th>\n",
       "      <th>multiplayer_modes</th>\n",
       "      <th>remakes</th>\n",
       "      <th>dlcs</th>\n",
       "      <th>ports</th>\n",
       "      <th>expansions</th>\n",
       "      <th>expanded_games</th>\n",
       "      <th>remasters</th>\n",
       "      <th>forks</th>\n",
       "      <th>standalone_expansions</th>\n",
       "    </tr>\n",
       "  </thead>\n",
       "  <tbody>\n",
       "    <tr>\n",
       "      <th>0</th>\n",
       "      <td>40104</td>\n",
       "      <td>0</td>\n",
       "      <td>1498435200</td>\n",
       "      <td>[20127, 1988884]</td>\n",
       "      <td>5.364576e+08</td>\n",
       "      <td>[5]</td>\n",
       "      <td>Dogou Souken</td>\n",
       "      <td>[Arcade]</td>\n",
       "      <td>[91007]</td>\n",
       "      <td>[12364, 27270, 43367, 103281, 103292, 103298, ...</td>\n",
       "      <td>dogou-souken</td>\n",
       "      <td>An overhead-view shoot'em up game.</td>\n",
       "      <td>[268435461]</td>\n",
       "      <td>1604620800</td>\n",
       "      <td>https://www.igdb.com/games/dogou-souken</td>\n",
       "      <td>5e7446ff-58d9-e744-f0d3-5e10241304c1</td>\n",
       "      <td>NaN</td>\n",
       "      <td>NaN</td>\n",
       "      <td>NaN</td>\n",
       "      <td>NaN</td>\n",
       "      <td>NaN</td>\n",
       "      <td>NaN</td>\n",
       "      <td>NaN</td>\n",
       "      <td>NaN</td>\n",
       "      <td>NaN</td>\n",
       "      <td>NaN</td>\n",
       "      <td>NaN</td>\n",
       "      <td>NaN</td>\n",
       "      <td>NaN</td>\n",
       "      <td>NaN</td>\n",
       "      <td>NaN</td>\n",
       "      <td>NaN</td>\n",
       "      <td>NaN</td>\n",
       "      <td>NaN</td>\n",
       "      <td>NaN</td>\n",
       "      <td>NaN</td>\n",
       "      <td>NaN</td>\n",
       "      <td>NaN</td>\n",
       "      <td>NaN</td>\n",
       "      <td>NaN</td>\n",
       "      <td>NaN</td>\n",
       "      <td>NaN</td>\n",
       "      <td>NaN</td>\n",
       "      <td>NaN</td>\n",
       "      <td>NaN</td>\n",
       "      <td>NaN</td>\n",
       "      <td>NaN</td>\n",
       "      <td>NaN</td>\n",
       "      <td>NaN</td>\n",
       "      <td>NaN</td>\n",
       "      <td>NaN</td>\n",
       "      <td>NaN</td>\n",
       "      <td>NaN</td>\n",
       "      <td>NaN</td>\n",
       "      <td>NaN</td>\n",
       "    </tr>\n",
       "    <tr>\n",
       "      <th>1</th>\n",
       "      <td>85031</td>\n",
       "      <td>0</td>\n",
       "      <td>1517392813</td>\n",
       "      <td>[216805, 1969751, 2005770]</td>\n",
       "      <td>1.404346e+09</td>\n",
       "      <td>[9]</td>\n",
       "      <td>City Mysteries</td>\n",
       "      <td>[Nintendo 3DS]</td>\n",
       "      <td>[138333]</td>\n",
       "      <td>[10603, 19222, 25905, 41349, 86974, 87507, 885...</td>\n",
       "      <td>city-mysteries</td>\n",
       "      <td>Search buildings, streets, landmarks as you se...</td>\n",
       "      <td>[268435465]</td>\n",
       "      <td>1641425677</td>\n",
       "      <td>https://www.igdb.com/games/city-mysteries</td>\n",
       "      <td>87b342e7-b912-ca8d-4ffb-f91f9e4f1870</td>\n",
       "      <td>[37944]</td>\n",
       "      <td>61466.0</td>\n",
       "      <td>[130531, 130532]</td>\n",
       "      <td>[155025, 155026, 155027]</td>\n",
       "      <td>NaN</td>\n",
       "      <td>NaN</td>\n",
       "      <td>NaN</td>\n",
       "      <td>NaN</td>\n",
       "      <td>NaN</td>\n",
       "      <td>NaN</td>\n",
       "      <td>NaN</td>\n",
       "      <td>NaN</td>\n",
       "      <td>NaN</td>\n",
       "      <td>NaN</td>\n",
       "      <td>NaN</td>\n",
       "      <td>NaN</td>\n",
       "      <td>NaN</td>\n",
       "      <td>NaN</td>\n",
       "      <td>NaN</td>\n",
       "      <td>NaN</td>\n",
       "      <td>NaN</td>\n",
       "      <td>NaN</td>\n",
       "      <td>NaN</td>\n",
       "      <td>NaN</td>\n",
       "      <td>NaN</td>\n",
       "      <td>NaN</td>\n",
       "      <td>NaN</td>\n",
       "      <td>NaN</td>\n",
       "      <td>NaN</td>\n",
       "      <td>NaN</td>\n",
       "      <td>NaN</td>\n",
       "      <td>NaN</td>\n",
       "      <td>NaN</td>\n",
       "      <td>NaN</td>\n",
       "      <td>NaN</td>\n",
       "      <td>NaN</td>\n",
       "      <td>NaN</td>\n",
       "      <td>NaN</td>\n",
       "      <td>NaN</td>\n",
       "    </tr>\n",
       "    <tr>\n",
       "      <th>2</th>\n",
       "      <td>99234</td>\n",
       "      <td>0</td>\n",
       "      <td>1524843905</td>\n",
       "      <td>[603512, 1857496, 1917109]</td>\n",
       "      <td>1.527120e+09</td>\n",
       "      <td>[31, 32]</td>\n",
       "      <td>Sword of the Black Stone</td>\n",
       "      <td>[PC (Microsoft Windows)]</td>\n",
       "      <td>[188385]</td>\n",
       "      <td>[25646, 29783, 68271, 80916, 96217, 105269, 10...</td>\n",
       "      <td>sword-of-the-black-stone</td>\n",
       "      <td>If your looking for action and adventure then ...</td>\n",
       "      <td>[1, 268435487, 268435488]</td>\n",
       "      <td>1643857546</td>\n",
       "      <td>https://www.igdb.com/games/sword-of-the-black-...</td>\n",
       "      <td>0b575316-96dc-b056-86e0-c958c1c95efb</td>\n",
       "      <td>NaN</td>\n",
       "      <td>91582.0</td>\n",
       "      <td>[155850, 155852]</td>\n",
       "      <td>[231528, 231529, 231530, 231531, 231532]</td>\n",
       "      <td>[1]</td>\n",
       "      <td>[2]</td>\n",
       "      <td>[1]</td>\n",
       "      <td>[84617]</td>\n",
       "      <td>NaN</td>\n",
       "      <td>NaN</td>\n",
       "      <td>NaN</td>\n",
       "      <td>NaN</td>\n",
       "      <td>NaN</td>\n",
       "      <td>NaN</td>\n",
       "      <td>NaN</td>\n",
       "      <td>NaN</td>\n",
       "      <td>NaN</td>\n",
       "      <td>NaN</td>\n",
       "      <td>NaN</td>\n",
       "      <td>NaN</td>\n",
       "      <td>NaN</td>\n",
       "      <td>NaN</td>\n",
       "      <td>NaN</td>\n",
       "      <td>NaN</td>\n",
       "      <td>NaN</td>\n",
       "      <td>NaN</td>\n",
       "      <td>NaN</td>\n",
       "      <td>NaN</td>\n",
       "      <td>NaN</td>\n",
       "      <td>NaN</td>\n",
       "      <td>NaN</td>\n",
       "      <td>NaN</td>\n",
       "      <td>NaN</td>\n",
       "      <td>NaN</td>\n",
       "      <td>NaN</td>\n",
       "      <td>NaN</td>\n",
       "      <td>NaN</td>\n",
       "      <td>NaN</td>\n",
       "      <td>NaN</td>\n",
       "    </tr>\n",
       "    <tr>\n",
       "      <th>3</th>\n",
       "      <td>148930</td>\n",
       "      <td>0</td>\n",
       "      <td>1621959514</td>\n",
       "      <td>[2052375, 2057300]</td>\n",
       "      <td>NaN</td>\n",
       "      <td>[13, 15, 31, 32]</td>\n",
       "      <td>Bok-Bok: A Chicken Dating Sim</td>\n",
       "      <td>[Not available]</td>\n",
       "      <td>NaN</td>\n",
       "      <td>[25311, 26145, 28277, 33603, 51577, 65827, 791...</td>\n",
       "      <td>bok-bok-a-chicken-dating-sim</td>\n",
       "      <td>Have you ever pondered what the romantic life ...</td>\n",
       "      <td>[268435469, 268435471, 268435487, 268435488]</td>\n",
       "      <td>1643850601</td>\n",
       "      <td>https://www.igdb.com/games/bok-bok-a-chicken-d...</td>\n",
       "      <td>9585e273-2606-970f-3088-60261ea77068</td>\n",
       "      <td>NaN</td>\n",
       "      <td>169077.0</td>\n",
       "      <td>NaN</td>\n",
       "      <td>[463145, 463148, 463149, 463151, 463152]</td>\n",
       "      <td>NaN</td>\n",
       "      <td>NaN</td>\n",
       "      <td>NaN</td>\n",
       "      <td>[192858]</td>\n",
       "      <td>[63465]</td>\n",
       "      <td>[33736]</td>\n",
       "      <td>NaN</td>\n",
       "      <td>NaN</td>\n",
       "      <td>NaN</td>\n",
       "      <td>NaN</td>\n",
       "      <td>NaN</td>\n",
       "      <td>NaN</td>\n",
       "      <td>NaN</td>\n",
       "      <td>NaN</td>\n",
       "      <td>NaN</td>\n",
       "      <td>NaN</td>\n",
       "      <td>NaN</td>\n",
       "      <td>NaN</td>\n",
       "      <td>NaN</td>\n",
       "      <td>NaN</td>\n",
       "      <td>NaN</td>\n",
       "      <td>NaN</td>\n",
       "      <td>NaN</td>\n",
       "      <td>NaN</td>\n",
       "      <td>NaN</td>\n",
       "      <td>NaN</td>\n",
       "      <td>NaN</td>\n",
       "      <td>NaN</td>\n",
       "      <td>NaN</td>\n",
       "      <td>NaN</td>\n",
       "      <td>NaN</td>\n",
       "      <td>NaN</td>\n",
       "      <td>NaN</td>\n",
       "      <td>NaN</td>\n",
       "      <td>NaN</td>\n",
       "    </tr>\n",
       "    <tr>\n",
       "      <th>4</th>\n",
       "      <td>139538</td>\n",
       "      <td>0</td>\n",
       "      <td>1602368467</td>\n",
       "      <td>[1966278]</td>\n",
       "      <td>1.525910e+09</td>\n",
       "      <td>[32]</td>\n",
       "      <td>sun machine</td>\n",
       "      <td>[Web browser]</td>\n",
       "      <td>[213594]</td>\n",
       "      <td>[11666, 13200, 13660, 17130, 25311, 28070, 348...</td>\n",
       "      <td>sun-machine</td>\n",
       "      <td>a story of dark days, chronic fatigue, optimis...</td>\n",
       "      <td>[18, 268435488, 536896982]</td>\n",
       "      <td>1639609570</td>\n",
       "      <td>https://www.igdb.com/games/sun-machine</td>\n",
       "      <td>9986cb06-667c-bb20-d9cf-cb239d7020df</td>\n",
       "      <td>NaN</td>\n",
       "      <td>117024.0</td>\n",
       "      <td>[117090]</td>\n",
       "      <td>[403247, 403248]</td>\n",
       "      <td>[1]</td>\n",
       "      <td>[3]</td>\n",
       "      <td>[18]</td>\n",
       "      <td>[156114]</td>\n",
       "      <td>NaN</td>\n",
       "      <td>NaN</td>\n",
       "      <td>[837]</td>\n",
       "      <td>[26070]</td>\n",
       "      <td>NaN</td>\n",
       "      <td>NaN</td>\n",
       "      <td>NaN</td>\n",
       "      <td>NaN</td>\n",
       "      <td>NaN</td>\n",
       "      <td>NaN</td>\n",
       "      <td>NaN</td>\n",
       "      <td>NaN</td>\n",
       "      <td>NaN</td>\n",
       "      <td>NaN</td>\n",
       "      <td>NaN</td>\n",
       "      <td>NaN</td>\n",
       "      <td>NaN</td>\n",
       "      <td>NaN</td>\n",
       "      <td>NaN</td>\n",
       "      <td>NaN</td>\n",
       "      <td>NaN</td>\n",
       "      <td>NaN</td>\n",
       "      <td>NaN</td>\n",
       "      <td>NaN</td>\n",
       "      <td>NaN</td>\n",
       "      <td>NaN</td>\n",
       "      <td>NaN</td>\n",
       "      <td>NaN</td>\n",
       "      <td>NaN</td>\n",
       "      <td>NaN</td>\n",
       "      <td>NaN</td>\n",
       "    </tr>\n",
       "  </tbody>\n",
       "</table>\n",
       "</div>"
      ],
      "text/plain": [
       "       id  category  created_at              external_games  first_release_date            genres                           name                 platforms release_dates                                      similar_games                          slug                                            summary                                          tags  updated_at                                                url                              checksum age_ratings     cover involved_companies                               screenshots game_modes player_perspectives themes  websites alternative_names artworks game_engines keywords  status videos  rating  rating_count storyline  total_rating  total_rating_count  version_parent version_title  hypes  collection franchises  follows bundles  parent_game  franchise  aggregated_rating  aggregated_rating_count multiplayer_modes remakes dlcs ports expansions expanded_games remasters forks standalone_expansions\n",
       "0   40104         0  1498435200            [20127, 1988884]        5.364576e+08               [5]                   Dogou Souken                  [Arcade]       [91007]  [12364, 27270, 43367, 103281, 103292, 103298, ...                  dogou-souken                 An overhead-view shoot'em up game.                                   [268435461]  1604620800            https://www.igdb.com/games/dogou-souken  5e7446ff-58d9-e744-f0d3-5e10241304c1         NaN       NaN                NaN                                       NaN        NaN                 NaN    NaN       NaN               NaN      NaN          NaN      NaN     NaN    NaN     NaN           NaN       NaN           NaN                 NaN             NaN           NaN    NaN         NaN        NaN      NaN     NaN          NaN        NaN                NaN                      NaN               NaN     NaN  NaN   NaN        NaN            NaN       NaN   NaN                   NaN\n",
       "1   85031         0  1517392813  [216805, 1969751, 2005770]        1.404346e+09               [9]                 City Mysteries            [Nintendo 3DS]      [138333]  [10603, 19222, 25905, 41349, 86974, 87507, 885...                city-mysteries  Search buildings, streets, landmarks as you se...                                   [268435465]  1641425677          https://www.igdb.com/games/city-mysteries  87b342e7-b912-ca8d-4ffb-f91f9e4f1870     [37944]   61466.0   [130531, 130532]                  [155025, 155026, 155027]        NaN                 NaN    NaN       NaN               NaN      NaN          NaN      NaN     NaN    NaN     NaN           NaN       NaN           NaN                 NaN             NaN           NaN    NaN         NaN        NaN      NaN     NaN          NaN        NaN                NaN                      NaN               NaN     NaN  NaN   NaN        NaN            NaN       NaN   NaN                   NaN\n",
       "2   99234         0  1524843905  [603512, 1857496, 1917109]        1.527120e+09          [31, 32]       Sword of the Black Stone  [PC (Microsoft Windows)]      [188385]  [25646, 29783, 68271, 80916, 96217, 105269, 10...      sword-of-the-black-stone  If your looking for action and adventure then ...                     [1, 268435487, 268435488]  1643857546  https://www.igdb.com/games/sword-of-the-black-...  0b575316-96dc-b056-86e0-c958c1c95efb         NaN   91582.0   [155850, 155852]  [231528, 231529, 231530, 231531, 231532]        [1]                 [2]    [1]   [84617]               NaN      NaN          NaN      NaN     NaN    NaN     NaN           NaN       NaN           NaN                 NaN             NaN           NaN    NaN         NaN        NaN      NaN     NaN          NaN        NaN                NaN                      NaN               NaN     NaN  NaN   NaN        NaN            NaN       NaN   NaN                   NaN\n",
       "3  148930         0  1621959514          [2052375, 2057300]                 NaN  [13, 15, 31, 32]  Bok-Bok: A Chicken Dating Sim           [Not available]           NaN  [25311, 26145, 28277, 33603, 51577, 65827, 791...  bok-bok-a-chicken-dating-sim  Have you ever pondered what the romantic life ...  [268435469, 268435471, 268435487, 268435488]  1643850601  https://www.igdb.com/games/bok-bok-a-chicken-d...  9585e273-2606-970f-3088-60261ea77068         NaN  169077.0                NaN  [463145, 463148, 463149, 463151, 463152]        NaN                 NaN    NaN  [192858]           [63465]  [33736]          NaN      NaN     NaN    NaN     NaN           NaN       NaN           NaN                 NaN             NaN           NaN    NaN         NaN        NaN      NaN     NaN          NaN        NaN                NaN                      NaN               NaN     NaN  NaN   NaN        NaN            NaN       NaN   NaN                   NaN\n",
       "4  139538         0  1602368467                   [1966278]        1.525910e+09              [32]                    sun machine             [Web browser]      [213594]  [11666, 13200, 13660, 17130, 25311, 28070, 348...                   sun-machine  a story of dark days, chronic fatigue, optimis...                    [18, 268435488, 536896982]  1639609570             https://www.igdb.com/games/sun-machine  9986cb06-667c-bb20-d9cf-cb239d7020df         NaN  117024.0           [117090]                          [403247, 403248]        [1]                 [3]   [18]  [156114]               NaN      NaN        [837]  [26070]     NaN    NaN     NaN           NaN       NaN           NaN                 NaN             NaN           NaN    NaN         NaN        NaN      NaN     NaN          NaN        NaN                NaN                      NaN               NaN     NaN  NaN   NaN        NaN            NaN       NaN   NaN                   NaN"
      ]
     },
     "execution_count": 13,
     "metadata": {},
     "output_type": "execute_result"
    }
   ],
   "source": [
    "game_library['platforms'] = game_library.platforms.apply(test_funct)\n",
    "game_library.head()"
   ]
  },
  {
   "cell_type": "markdown",
   "id": "fb72af5d",
   "metadata": {},
   "source": [
    "### release_dates"
   ]
  },
  {
   "cell_type": "code",
   "execution_count": null,
   "id": "20f416ea",
   "metadata": {},
   "outputs": [],
   "source": [
    "def get_release_dates():\n",
    "    headers = {'Client-ID': f'{Client_ID}', 'Authorization': f'Bearer {access_token}'}\n",
    "    data = 'fields *; '\n",
    "    r = requests.post('https://api.igdb.com/v4/release_dates' ,data=data ,  headers=headers)\n",
    "    release_dates = wrapper.api_request('release_dates', 'fields *;limit 500;')\n",
    "    x = json.loads(release_dates)\n",
    "    release_dates =pd.DataFrame(x)\n",
    "    return release_dates"
   ]
  },
  {
   "cell_type": "code",
   "execution_count": null,
   "id": "7d2847c7",
   "metadata": {},
   "outputs": [],
   "source": [
    "release_dates = get_release_dates()\n",
    "release_dates.shape"
   ]
  },
  {
   "cell_type": "code",
   "execution_count": null,
   "id": "1f791c03",
   "metadata": {},
   "outputs": [],
   "source": [
    "release_dates = release_dates.drop(columns=['category', 'date', 'm', 'region', 'updated_at', 'y', 'checksum', 'created_at', 'platform'])\n",
    "release_dates.head()"
   ]
  },
  {
   "cell_type": "code",
   "execution_count": null,
   "id": "a6305912",
   "metadata": {},
   "outputs": [],
   "source": [
    "release_dates"
   ]
  },
  {
   "cell_type": "code",
   "execution_count": null,
   "id": "85b33f78",
   "metadata": {},
   "outputs": [],
   "source": [
    "# add to dictionary\n",
    "release_dict[91007] = \"not-available\"\n",
    "release_dict[138333] = \"not-available\"\n",
    "release_dict[188385] = \"not-available\"\n",
    "release_dict[213594] = \"not-available\"\n",
    "release_dict[77755] = \"not-available\"\n"
   ]
  },
  {
   "cell_type": "code",
   "execution_count": null,
   "id": "30de07e7",
   "metadata": {},
   "outputs": [],
   "source": [
    "releaselist = release_dates[['game' , 'human']].sort_values(by='game').reset_index(drop=True)\n",
    "release_dict = releaselist.set_index('game').to_dict()['human']"
   ]
  },
  {
   "cell_type": "code",
   "execution_count": null,
   "id": "0cf2c1d1",
   "metadata": {},
   "outputs": [],
   "source": [
    "release_dates.head()"
   ]
  },
  {
   "cell_type": "code",
   "execution_count": null,
   "id": "11a69f66",
   "metadata": {},
   "outputs": [],
   "source": [
    "def test_funct2(random_list):\n",
    "    if type(random_list) == list:\n",
    "        return [release_dict[i] for i in random_list]\n",
    "    else:  \n",
    "        return  [\"Not available\"]"
   ]
  },
  {
   "cell_type": "code",
   "execution_count": null,
   "id": "a061f296",
   "metadata": {},
   "outputs": [],
   "source": [
    "release_dict"
   ]
  },
  {
   "cell_type": "code",
   "execution_count": null,
   "id": "ce8fea89",
   "metadata": {},
   "outputs": [],
   "source": [
    "df.release_dates.head()"
   ]
  },
  {
   "cell_type": "code",
   "execution_count": null,
   "id": "56fc736b",
   "metadata": {},
   "outputs": [],
   "source": [
    "df['release_dates'] = pd.DataFrame(df.release_dates.apply(test_funct2))\n",
    "df"
   ]
  },
  {
   "cell_type": "code",
   "execution_count": null,
   "id": "4d160433",
   "metadata": {},
   "outputs": [],
   "source": [
    "release_dict"
   ]
  },
  {
   "cell_type": "code",
   "execution_count": null,
   "id": "a451c968",
   "metadata": {},
   "outputs": [],
   "source": [
    "# add 0 and description to dictionary\n",
    "release_dict[\"0\"] = \"not-available\""
   ]
  },
  {
   "cell_type": "markdown",
   "id": "80e403ba",
   "metadata": {},
   "source": [
    "### platform_versions"
   ]
  },
  {
   "cell_type": "code",
   "execution_count": null,
   "id": "f892815e",
   "metadata": {},
   "outputs": [],
   "source": [
    "def get_platform_versions():\n",
    "    headers = {'Client-ID': f'{Client_ID}', 'Authorization': f'Bearer {access_token}'}\n",
    "    data = 'fields *; '\n",
    "    r = requests.post('https://api.igdb.com/v4/platform_versions' ,data=data ,  headers=headers)\n",
    "    platform_versions = wrapper.api_request('platform_versions', 'fields *;limit 500;')\n",
    "    x = json.loads(platform_versions)\n",
    "    platform_versions=pd.DataFrame(x)\n",
    "    return platform_versions"
   ]
  },
  {
   "cell_type": "code",
   "execution_count": null,
   "id": "0153e677",
   "metadata": {},
   "outputs": [],
   "source": [
    "platform_versions = get_platform_versions()\n",
    "platform_versions.shape"
   ]
  },
  {
   "cell_type": "code",
   "execution_count": null,
   "id": "d322bd3d",
   "metadata": {},
   "outputs": [],
   "source": [
    "platform_versions.head()"
   ]
  },
  {
   "cell_type": "code",
   "execution_count": null,
   "id": "8eea0129",
   "metadata": {},
   "outputs": [],
   "source": [
    "df.columns"
   ]
  },
  {
   "cell_type": "markdown",
   "id": "5becfe53",
   "metadata": {},
   "source": [
    "### player_perspectives (use this)"
   ]
  },
  {
   "cell_type": "code",
   "execution_count": null,
   "id": "0c405573",
   "metadata": {},
   "outputs": [],
   "source": [
    "def get_player_perspectives():\n",
    "    headers = {'Client-ID': f'{Client_ID}', 'Authorization': f'Bearer {access_token}'}\n",
    "    data = 'fields *; '\n",
    "    r = requests.post('https://api.igdb.com/v4/player_perspectives' ,data=data ,  headers=headers)\n",
    "    player_perspectives = wrapper.api_request('player_perspectives', 'fields *;limit 500;')\n",
    "    x = json.loads(player_perspectives)\n",
    "    player_perspectives=pd.DataFrame(x)\n",
    "    return player_perspectives"
   ]
  },
  {
   "cell_type": "code",
   "execution_count": null,
   "id": "39bea12d",
   "metadata": {},
   "outputs": [],
   "source": [
    "player_perspectives = get_player_perspectives()\n",
    "player_perspectives.shape"
   ]
  },
  {
   "cell_type": "code",
   "execution_count": null,
   "id": "25e60a33",
   "metadata": {},
   "outputs": [],
   "source": [
    "player_perspectives = player_perspectives.drop(columns=['created_at','updated_at', 'url', 'checksum'])\n",
    "player_perspectives.head()\n"
   ]
  },
  {
   "cell_type": "code",
   "execution_count": null,
   "id": "eb8a341b",
   "metadata": {},
   "outputs": [],
   "source": [
    "player_perspectives_list = player_perspectives[['id' , 'name']].sort_values(by='id').reset_index(drop=True)\n",
    "player_perspectives_dict = player_perspectives.set_index('id').to_dict()['name']"
   ]
  },
  {
   "cell_type": "code",
   "execution_count": null,
   "id": "31f78166",
   "metadata": {},
   "outputs": [],
   "source": [
    "def test_funct4(random_list):\n",
    "    if type(random_list) == list:\n",
    "        return [player_perspectives_dict[i] for i in random_list]\n",
    "    else:  \n",
    "        return  [\"Not available\"]"
   ]
  },
  {
   "cell_type": "code",
   "execution_count": null,
   "id": "06452305",
   "metadata": {},
   "outputs": [],
   "source": [
    "game_library['player_perspectives'] = pd.DataFrame(game_library.player_perspectives.apply(test_funct4))\n",
    "game_library.head()"
   ]
  },
  {
   "cell_type": "markdown",
   "id": "e3f1bb3a",
   "metadata": {},
   "source": [
    "### themes (use this)"
   ]
  },
  {
   "cell_type": "code",
   "execution_count": null,
   "id": "f82cd9f4",
   "metadata": {},
   "outputs": [],
   "source": [
    "def get_themes():\n",
    "    headers = {'Client-ID': f'{Client_ID}', 'Authorization': f'Bearer {access_token}'}\n",
    "    data = 'fields *; '\n",
    "    r = requests.post('https://api.igdb.com/v4/themes' ,data=data ,  headers=headers)\n",
    "    themes = wrapper.api_request('themes', 'fields *;limit 500;')\n",
    "    x = json.loads(themes)\n",
    "    themes=pd.DataFrame(x)\n",
    "    return themes"
   ]
  },
  {
   "cell_type": "code",
   "execution_count": null,
   "id": "0d97391e",
   "metadata": {},
   "outputs": [],
   "source": [
    "themes = get_themes()\n",
    "themes.shape"
   ]
  },
  {
   "cell_type": "code",
   "execution_count": null,
   "id": "88923325",
   "metadata": {},
   "outputs": [],
   "source": [
    "themes_list = themes[['id' , 'name']].sort_values(by='id').reset_index(drop=True)\n",
    "themes_dict = themes.set_index('id').to_dict()['name']"
   ]
  },
  {
   "cell_type": "code",
   "execution_count": null,
   "id": "0081ad51",
   "metadata": {},
   "outputs": [],
   "source": [
    "def test_funct5(random_list):\n",
    "    if type(random_list) == list:\n",
    "        return [themes_dict[i] for i in random_list]\n",
    "    else:  \n",
    "        return  [\"Not available\"]"
   ]
  },
  {
   "cell_type": "code",
   "execution_count": null,
   "id": "668d1f34",
   "metadata": {},
   "outputs": [],
   "source": [
    "game_library['themes'] = pd.DataFrame(game_library.themes.apply(test_funct5))\n",
    "game_library.head()"
   ]
  },
  {
   "cell_type": "markdown",
   "id": "16a0bdc4",
   "metadata": {},
   "source": [
    "### Genres (use this)"
   ]
  },
  {
   "cell_type": "code",
   "execution_count": null,
   "id": "ff58be1a",
   "metadata": {},
   "outputs": [],
   "source": [
    "# function that puts response list object into a dataframe for each page\n",
    "def get_genres(wrapper):\n",
    "    genres = pd.DataFrame()\n",
    "    for i in range (0, 409):\n",
    "        genre = wrapper.api_request('genres', 'fields *; limit 500;')\n",
    "        y = json.loads(genre)\n",
    "        results_df =pd.DataFrame(y)\n",
    "        genres = pd.concat([genres, results_df])\n",
    "    return genres"
   ]
  },
  {
   "cell_type": "code",
   "execution_count": null,
   "id": "56bdd6fe",
   "metadata": {},
   "outputs": [],
   "source": [
    "genres = get_genres(wrapper)\n",
    "genres.head()"
   ]
  },
  {
   "cell_type": "code",
   "execution_count": null,
   "id": "ace31589",
   "metadata": {},
   "outputs": [],
   "source": [
    "genreslist = genres[['id' , 'slug']].sort_values(by='id').reset_index(drop=True)\n",
    "genres_dict = genreslist.set_index('id').to_dict()['slug']"
   ]
  },
  {
   "cell_type": "code",
   "execution_count": null,
   "id": "3be5f7bd",
   "metadata": {},
   "outputs": [],
   "source": [
    "def test_functg(random_list):\n",
    "    if type(random_list) == list:\n",
    "        return [genres_dict[i] for i in random_list]\n",
    "    else:  \n",
    "        return  [\"Not available\"] "
   ]
  },
  {
   "cell_type": "code",
   "execution_count": null,
   "id": "bce96f32",
   "metadata": {},
   "outputs": [],
   "source": [
    "game_library['genres'] = pd.DataFrame(game_library.genres.apply(test_functg))\n",
    "game_library.head()"
   ]
  },
  {
   "cell_type": "markdown",
   "id": "8a89c6cc",
   "metadata": {},
   "source": [
    "## Game modes (use this)"
   ]
  },
  {
   "cell_type": "code",
   "execution_count": null,
   "id": "0887ec45",
   "metadata": {},
   "outputs": [],
   "source": [
    "def get_game_modes():\n",
    "    headers = {'Client-ID': f'{Client_ID}', 'Authorization': f'Bearer {access_token}'}\n",
    "    data = 'fields *; limit 500;'\n",
    "    r = requests.post('https://api.igdb.com/v4/game_modes' ,data=data ,  headers=headers)\n",
    "    game_modes = wrapper.api_request('game_modes', 'fields *;limit 500;')\n",
    "    x = json.loads(game_modes)\n",
    "    game_modes =pd.DataFrame(x)\n",
    "    return game_modes"
   ]
  },
  {
   "cell_type": "code",
   "execution_count": null,
   "id": "0496e64a",
   "metadata": {},
   "outputs": [],
   "source": [
    "game_mode = get_game_modes()"
   ]
  },
  {
   "cell_type": "code",
   "execution_count": null,
   "id": "9d5e0aaa",
   "metadata": {},
   "outputs": [],
   "source": [
    "modelist = game_mode[['id' , 'slug']].sort_values(by='id').reset_index(drop=True)\n",
    "mode_dict = modelist.set_index('id').to_dict()['slug']"
   ]
  },
  {
   "cell_type": "code",
   "execution_count": null,
   "id": "158cf6fa",
   "metadata": {},
   "outputs": [],
   "source": [
    "def test_functm(random_list):\n",
    "    if type(random_list) == list:\n",
    "        return [mode_dict[i] for i in random_list]\n",
    "    else:  \n",
    "        return  [\"Not available\"]"
   ]
  },
  {
   "cell_type": "code",
   "execution_count": null,
   "id": "586d61ad",
   "metadata": {},
   "outputs": [],
   "source": [
    "game_library['game_modes'] = pd.DataFrame(game_library.game_modes.apply(test_functm))\n",
    "game_library.head()"
   ]
  },
  {
   "cell_type": "markdown",
   "id": "58757a23",
   "metadata": {},
   "source": [
    "## Game version features (use this)"
   ]
  },
  {
   "cell_type": "code",
   "execution_count": null,
   "id": "d8be0998",
   "metadata": {},
   "outputs": [],
   "source": [
    "def get_game_version_features(wrapper):\n",
    "    game_version_features = pd.DataFrame()\n",
    "    for i in range (0, 409):\n",
    "        a_ratings = wrapper.api_request('game_version_features', 'fields *; limit 500;' f'offset {i * 500};')\n",
    "        y = json.loads(a_ratings)\n",
    "        results_df =pd.DataFrame(y)\n",
    "        game_version_features = pd.concat([game_version_features, results_df])\n",
    "    return game_version_features"
   ]
  },
  {
   "cell_type": "code",
   "execution_count": null,
   "id": "871ff276",
   "metadata": {
    "scrolled": true
   },
   "outputs": [],
   "source": [
    "game_version_features = get_game_version_features(wrapper)\n",
    "game_version_features.head()"
   ]
  },
  {
   "cell_type": "code",
   "execution_count": null,
   "id": "96eb2af1",
   "metadata": {
    "scrolled": true
   },
   "outputs": [],
   "source": [
    "game_vf_df = game_version_features[['id','description', 'title']]\n",
    "game_vf_df.head()"
   ]
  },
  {
   "cell_type": "code",
   "execution_count": null,
   "id": "9cbe9b6e",
   "metadata": {},
   "outputs": [],
   "source": [
    "game_vf_df = game_vf_df.rename(columns={'description': 'version_description', 'title': 'title_version'})"
   ]
  },
  {
   "cell_type": "markdown",
   "id": "c15bc347",
   "metadata": {},
   "source": [
    "## Collections (use this)"
   ]
  },
  {
   "cell_type": "code",
   "execution_count": null,
   "id": "63b60d25",
   "metadata": {},
   "outputs": [],
   "source": [
    "def get_collections(wrapper):\n",
    "    collections = pd.DataFrame()\n",
    "    for i in range (0, 409):\n",
    "        a_ratings = wrapper.api_request('collections', 'fields *; limit 500;' f'offset {i * 500};')\n",
    "        y = json.loads(a_ratings)\n",
    "        results_df =pd.DataFrame(y)\n",
    "        collections = pd.concat([collections, results_df])\n",
    "    return collections"
   ]
  },
  {
   "cell_type": "code",
   "execution_count": null,
   "id": "5f8d43ea",
   "metadata": {},
   "outputs": [],
   "source": [
    "collections = get_collections(wrapper)\n",
    "collections.head()"
   ]
  },
  {
   "cell_type": "code",
   "execution_count": null,
   "id": "979781e1",
   "metadata": {},
   "outputs": [],
   "source": [
    "collectionslist = collections[['id' , 'slug']].sort_values(by='id').reset_index(drop=True)\n",
    "collections_dict = collectionslist.set_index('id').to_dict()['slug']\n",
    "# add 0 and description to dictionary\n",
    "collections_dict[513] = \"not-available\"\n",
    "\n",
    "\n",
    "def convert_collection_col(number):\n",
    "    if number > 0:\n",
    "        return collections_dict[number]\n",
    "    else:  \n",
    "        return 'other'\n",
    "\n",
    "game_library['collection'] = game_library['collection'].replace(np.nan, 0)\n",
    "game_library['collection'] = game_library['collection'].astype('int64')\n",
    "game_library['collection'] = pd.DataFrame(game_library.collection.apply(convert_collection_col))\n",
    "game_library.head()"
   ]
  },
  {
   "cell_type": "markdown",
   "id": "8d1e62e3",
   "metadata": {},
   "source": [
    "## Game version feature values (use this)"
   ]
  },
  {
   "cell_type": "code",
   "execution_count": null,
   "id": "240ee298",
   "metadata": {},
   "outputs": [],
   "source": [
    "def vf_values(wrapper):\n",
    "    vf_values= pd.DataFrame()\n",
    "    for i in range (0, 409):\n",
    "        gvf_values = wrapper.api_request('game_version_feature_values', 'fields *; limit 500;' f'offset {i * 500};')\n",
    "        y = json.loads(gvf_values)\n",
    "        results_df =pd.DataFrame(y)\n",
    "        vf_values = pd.concat([vf_values, results_df])\n",
    "    return vf_values"
   ]
  },
  {
   "cell_type": "code",
   "execution_count": null,
   "id": "0e2d3206",
   "metadata": {},
   "outputs": [],
   "source": [
    "gamevfv_df = vf_values(wrapper)\n",
    "gamevfv_df.head()"
   ]
  },
  {
   "cell_type": "code",
   "execution_count": null,
   "id": "07a036ec",
   "metadata": {},
   "outputs": [],
   "source": [
    "gamevfv_df = gamevfv_df[['game','game_feature']]\n",
    "gamevfv_df.head()"
   ]
  },
  {
   "cell_type": "code",
   "execution_count": null,
   "id": "9321e61b",
   "metadata": {},
   "outputs": [],
   "source": [
    "gamevfv_df = gamevfv_df.rename(columns={\"game_feature\": \"id\"})"
   ]
  },
  {
   "cell_type": "code",
   "execution_count": null,
   "id": "91e39f2b",
   "metadata": {},
   "outputs": [],
   "source": [
    "gamevfv_df = gamevfv_df.set_index('id')\n",
    "gamevfv_df.head()"
   ]
  },
  {
   "cell_type": "markdown",
   "id": "75890e2b",
   "metadata": {},
   "source": [
    "### Merging game feature version and game feature version values (use this)"
   ]
  },
  {
   "cell_type": "code",
   "execution_count": null,
   "id": "de8d9049",
   "metadata": {},
   "outputs": [],
   "source": [
    "results_df = pd.merge(gamevfv_df,  game_vf_df , how = 'left', on=\"id\")\n",
    "results_df.head()"
   ]
  },
  {
   "cell_type": "code",
   "execution_count": null,
   "id": "bc84df22",
   "metadata": {},
   "outputs": [],
   "source": [
    "results_df = results_df.rename(columns={'id': 'second','game': 'id' })\n",
    "results_df = results_df.set_index('id')\n",
    "results_df.head()"
   ]
  },
  {
   "cell_type": "code",
   "execution_count": null,
   "id": "c774cd63",
   "metadata": {
    "scrolled": true
   },
   "outputs": [],
   "source": [
    "#merging the to the main dataframe\n",
    "game_library = pd.merge(game_library, results_df, how = 'left', on=\"id\")\n",
    "game_library.head()"
   ]
  },
  {
   "cell_type": "markdown",
   "id": "96ca7f16",
   "metadata": {},
   "source": [
    "## Multi player mode (use this)"
   ]
  },
  {
   "cell_type": "code",
   "execution_count": null,
   "id": "f137c6c2",
   "metadata": {},
   "outputs": [],
   "source": [
    "headers = {'Client-ID': f'{Client_ID}', 'Authorization': f'Bearer {access_token}'}\n",
    "data = 'fields *; limit 500;'\n",
    "r = requests.post('https://api.igdb.com/v4/multiplayer_modes' ,data=data ,  headers=headers)\n",
    "multiplayer_modes = wrapper.api_request('multiplayer_modes', 'fields *;limit 500;')\n",
    "x = json.loads(multiplayer_modes)\n",
    "multiplayer_modes =pd.DataFrame(x)"
   ]
  },
  {
   "cell_type": "code",
   "execution_count": null,
   "id": "7db7d741",
   "metadata": {},
   "outputs": [],
   "source": [
    "def multi_play(wrapper):\n",
    "    multi_play= pd.DataFrame()\n",
    "    for i in range (0, 409):\n",
    "        multi_values = wrapper.api_request('multiplayer_modes', 'fields *; limit 500;' f'offset {i * 500};')\n",
    "        y = json.loads(multi_values)\n",
    "        results_df =pd.DataFrame(y)\n",
    "        multi_play = pd.concat([multi_play, multiplayer_modes])\n",
    "    return multi_play"
   ]
  },
  {
   "cell_type": "code",
   "execution_count": null,
   "id": "094b5f63",
   "metadata": {},
   "outputs": [],
   "source": [
    "multi_df = multi_play(wrapper)"
   ]
  },
  {
   "cell_type": "code",
   "execution_count": null,
   "id": "c2bc0bdf",
   "metadata": {},
   "outputs": [],
   "source": [
    "def test_functg(random_list):\n",
    "    if type(random_list) == list:\n",
    "        return [genres_dict[i] for i in random_list]\n",
    "    else:  \n",
    "        return  [\"Not available\"] "
   ]
  },
  {
   "cell_type": "code",
   "execution_count": null,
   "id": "5100f780",
   "metadata": {},
   "outputs": [],
   "source": [
    "multi_df = multi_df.rename(columns={'game': 'id', 'id': 'second_id'})"
   ]
  },
  {
   "cell_type": "code",
   "execution_count": null,
   "id": "7379c238",
   "metadata": {},
   "outputs": [],
   "source": [
    "multi_df = multi_df.set_index('id')"
   ]
  },
  {
   "cell_type": "code",
   "execution_count": null,
   "id": "6670e0c0",
   "metadata": {},
   "outputs": [],
   "source": [
    "#marging this together with the main df\n",
    "game_library = pd.merge(game_library, multi_df, how = 'left', on=\"id\")\n",
    "game_library.head()"
   ]
  },
  {
   "cell_type": "code",
   "execution_count": null,
   "id": "7e55d07d",
   "metadata": {},
   "outputs": [],
   "source": [
    "game_library['campaigncoop'].fillna(False, inplace = True)\n",
    "game_library['dropin'].fillna(False, inplace = True)\n",
    "game_library['lancoop'].fillna(False, inplace = True)\n",
    "game_library['offlinecoop'].fillna(False, inplace = True)\n",
    "game_library['offlinemax'].fillna(0, inplace = True)\n",
    "game_library['onlinecoop'].fillna(False, inplace = True)\n",
    "game_library['splitscreen'].fillna(False, inplace = True)\n",
    "game_library['offlinecoopmax'].fillna(0, inplace = True)\n",
    "game_library['onlinecoopmax'].fillna(0, inplace = True)\n",
    "game_library['onlinemax'].fillna(0, inplace = True)"
   ]
  },
  {
   "cell_type": "markdown",
   "id": "5c81dc09",
   "metadata": {},
   "source": [
    "### loop through genres list"
   ]
  },
  {
   "cell_type": "code",
   "execution_count": null,
   "id": "6b68fb03",
   "metadata": {},
   "outputs": [],
   "source": [
    "# list of genres to add\n",
    "items = ['point-and-click', 'fighting', 'shooter', 'music', 'platform', 'puzzle', 'racing', 'real-time-strategy-rts', 'role-playing-rpg', 'simulator', 'sport', 'strategy', 'turn-based-strategy-tbs', 'tactical', 'hack-and-slash-beat-em-up', 'quiz-trivia', 'pinball', 'adventure', 'indie', 'arcade', 'visual-novel', 'card-and-board-game', 'moba']\n",
    "# function to loop through column list and check for genre\n",
    "def my_list(column, word):\n",
    "    if word in column:\n",
    "        return 1\n",
    "    else:\n",
    "        return 0"
   ]
  },
  {
   "cell_type": "code",
   "execution_count": null,
   "id": "7413702f",
   "metadata": {},
   "outputs": [],
   "source": [
    "for item in items:\n",
    "    game_library[item] = game_library['genres'].apply(my_list, word=item)"
   ]
  },
  {
   "cell_type": "code",
   "execution_count": null,
   "id": "168cb5fd",
   "metadata": {},
   "outputs": [],
   "source": [
    "game_library.head()"
   ]
  },
  {
   "cell_type": "markdown",
   "id": "aeca3e09",
   "metadata": {},
   "source": [
    "### Adding platforms to game_library"
   ]
  },
  {
   "cell_type": "code",
   "execution_count": null,
   "id": "1f12bb5f",
   "metadata": {},
   "outputs": [],
   "source": [
    "len(platform_dict)"
   ]
  },
  {
   "cell_type": "code",
   "execution_count": null,
   "id": "def13ab4",
   "metadata": {},
   "outputs": [],
   "source": [
    "# list of platformd to add\n",
    "platforms = ['Linux', 'Nintendo 64', 'Wii', 'PC (Microsoft Windows)', 'PlayStation', 'PlayStation 2', 'PlayStation 3', 'Xbox', 'Xbox 360', 'DOS', 'Mac', 'Nintendo Entertainment System', 'Super Nintendo Entertainment System', 'Nintendo DS', 'Nintendo GameCube', 'Game Boy Color', 'Game Boy Advance', 'Sega Mega Drive/Genesis','Sega Saturn', 'Game Boy', 'Android', 'Nintendo 3DS','PlayStation Portable', 'iOS', 'Wii U', 'PlayStation Vita', 'Virtual Console (Nintendo)', 'PlayStation 4', 'Xbox One', 'Family Computer Disk System', 'Arcade', 'Windows Phone', 'Apple II', 'Web browser', 'Odyssey', 'Commodore 16', 'New Nintendo 3DS']\n",
    " "
   ]
  },
  {
   "cell_type": "code",
   "execution_count": null,
   "id": "70ebbe91",
   "metadata": {},
   "outputs": [],
   "source": [
    "# function to loop through column list and check for genre\n",
    "def my_list(column, word):\n",
    "    if word in column:\n",
    "        return 1\n",
    "    else:\n",
    "        return 0"
   ]
  },
  {
   "cell_type": "code",
   "execution_count": null,
   "id": "e4f4ffb5",
   "metadata": {},
   "outputs": [],
   "source": [
    "for platform in platforms:\n",
    "    game_library[platform] = game_library['platforms'].apply(my_list, word=platform)"
   ]
  },
  {
   "cell_type": "markdown",
   "id": "c4d8d1e4",
   "metadata": {},
   "source": [
    "### Adding themes to game library "
   ]
  },
  {
   "cell_type": "code",
   "execution_count": null,
   "id": "3023ab89",
   "metadata": {},
   "outputs": [],
   "source": [
    "themes = ['Thriller', 'Science fiction', 'Action', 'Horror', 'Survival', 'Fantasy', 'Historical', 'Stealth', 'Comedy', 'Business', 'Drama', 'Non-fiction', 'Kids', 'Sandbox', 'Open world', 'Warfare', 'Educational', 'Mystery', 'Party', 'Romance', 'Erotic']\n",
    "\n",
    "def my_list_themes(column, word):\n",
    "    if word in column:\n",
    "        return 1\n",
    "    else:\n",
    "        return 0\n"
   ]
  },
  {
   "cell_type": "code",
   "execution_count": null,
   "id": "9127d952",
   "metadata": {},
   "outputs": [],
   "source": [
    "for theme in themes:\n",
    "    game_library[theme] = game_library['themes'].apply(my_list_themes, word=theme)"
   ]
  },
  {
   "cell_type": "code",
   "execution_count": null,
   "id": "53ea8eba",
   "metadata": {},
   "outputs": [],
   "source": [
    "game_library.head()"
   ]
  },
  {
   "cell_type": "markdown",
   "id": "3897c988",
   "metadata": {},
   "source": [
    "### Add player perspective "
   ]
  },
  {
   "cell_type": "code",
   "execution_count": null,
   "id": "1094421d",
   "metadata": {},
   "outputs": [],
   "source": [
    "player_perspectives_dict"
   ]
  },
  {
   "cell_type": "code",
   "execution_count": null,
   "id": "57134460",
   "metadata": {},
   "outputs": [],
   "source": [
    "players = ['First person', 'Third person', 'Bird view / Isometric', 'Text', 'Side view', 'Virtual Reality', 'Auditory'  'Drama']\n",
    "\n",
    "def my_list_player(column, word):\n",
    "    if word in column:\n",
    "        return 1\n",
    "    else:\n",
    "        return 0\n"
   ]
  },
  {
   "cell_type": "code",
   "execution_count": null,
   "id": "440011ac",
   "metadata": {},
   "outputs": [],
   "source": [
    "for player in players:\n",
    "    game_library[player] = game_library['player_perspectives'].apply(my_list_player, word=player)"
   ]
  },
  {
   "cell_type": "code",
   "execution_count": null,
   "id": "8d13c7fa",
   "metadata": {},
   "outputs": [],
   "source": [
    "game_library.head()"
   ]
  },
  {
   "cell_type": "code",
   "execution_count": null,
   "id": "8e1e42bb",
   "metadata": {},
   "outputs": [],
   "source": [
    "game_library.shape"
   ]
  },
  {
   "cell_type": "markdown",
   "id": "8c173de0",
   "metadata": {},
   "source": [
    "### Add game modes"
   ]
  },
  {
   "cell_type": "code",
   "execution_count": null,
   "id": "9572f97b",
   "metadata": {},
   "outputs": [],
   "source": [
    "modes = ['single-player', 'multiplayer', 'co-operative', 'split-screen', 'massively-multiplayer-online-mmo', 'battle-royale']\n",
    "\n",
    "def my_list(column, word):\n",
    "    if word in column:\n",
    "        return 1\n",
    "    else:\n",
    "        return 0\n",
    "    "
   ]
  },
  {
   "cell_type": "code",
   "execution_count": null,
   "id": "5b583fea",
   "metadata": {},
   "outputs": [],
   "source": [
    "for mode in modes:\n",
    "    game_library[mode] = game_library['player_perspectives'].apply(my_list, word=mode)"
   ]
  },
  {
   "cell_type": "code",
   "execution_count": null,
   "id": "5bbf9646",
   "metadata": {},
   "outputs": [],
   "source": [
    "game_library.head()"
   ]
  },
  {
   "cell_type": "markdown",
   "id": "13a0d742",
   "metadata": {},
   "source": [
    "### turn dlc column into boolean column"
   ]
  },
  {
   "cell_type": "code",
   "execution_count": null,
   "id": "a1c627ef",
   "metadata": {},
   "outputs": [],
   "source": [
    "game_library['dlcs'] = game_library['dlcs'].fillna(0)\n",
    "game_library.head()"
   ]
  },
  {
   "cell_type": "code",
   "execution_count": null,
   "id": "0cbd5eb6",
   "metadata": {},
   "outputs": [],
   "source": [
    "def dlcs_col(df):\n",
    "    game_library['has_dlcs'] = np.where(game_library.dlcs != 0, 1, 0)  \n",
    "    return df"
   ]
  },
  {
   "cell_type": "code",
   "execution_count": null,
   "id": "ba2b1560",
   "metadata": {},
   "outputs": [],
   "source": [
    "game_library = dlcs_col(game_library)\n",
    "game_library.head()"
   ]
  },
  {
   "cell_type": "markdown",
   "id": "91b2c7dd",
   "metadata": {},
   "source": [
    "#### Delete columns we dont need and add rating bin"
   ]
  },
  {
   "cell_type": "code",
   "execution_count": null,
   "id": "c37ca920",
   "metadata": {},
   "outputs": [],
   "source": [
    "game_library['rating_bin'] = pd.cut(game_library.rating, \n",
    "                           bins = [0,10,20, 30, 40, 50, 60, 70, 80, 90, 100],\n",
    "                           labels = ['awful','very_bad','bad','unimpressive','average','fair','alright','good','great', 'subperb'])"
   ]
  },
  {
   "cell_type": "code",
   "execution_count": null,
   "id": "3fbb0c44",
   "metadata": {},
   "outputs": [],
   "source": [
    "game_library.slug.head()"
   ]
  },
  {
   "cell_type": "code",
   "execution_count": null,
   "id": "e0859d54",
   "metadata": {},
   "outputs": [],
   "source": [
    "game_library = game_library.drop(columns=['rating', 'first_release_date', 'websites', 'collection', 'external_games', 'updated_at', 'artworks', 'genres', 'platforms', 'similar_games', 'tags', 'release_dates', 'cover','screenshots', 'videos', 'checksum_x', 'alternative_names', 'rating_count', 'total_rating_count', 'version_parent', 'hypes', 'url', 'franchises', 'follows', 'aggregated_rating_count', 'game_modes', 'player_perspectives', 'themes', 'game_engines', 'keywords', 'storyline', 'version_title', 'follows', 'bundles', 'franchise', 'checksum_y', 'second_id', 'offlinecoopmax', 'onlinecoopmax', 'onlinecoopmax'])\n",
    "game_library.shape\n"
   ]
  },
  {
   "cell_type": "code",
   "execution_count": null,
   "id": "72410025",
   "metadata": {},
   "outputs": [],
   "source": [
    "game_library = game_library.drop(columns=['remasters', 'summary', 'age_ratings', 'involved_companies', 'status', 'aggregated_rating', 'total_rating', 'remakes', 'ports', 'parent_game', 'aggregated_rating', 'multiplayer_modes', 'expansions', 'expanded_games', 'forks', 'standalone_expansions', 'second', 'version_description', 'title_version'])\n",
    "                                        \n",
    "                                          "
   ]
  },
  {
   "cell_type": "code",
   "execution_count": null,
   "id": "dd3642d5",
   "metadata": {},
   "outputs": [],
   "source": [
    "game_library = game_library.drop(columns=['platform'])\n",
    "game_library.shape"
   ]
  },
  {
   "cell_type": "code",
   "execution_count": null,
   "id": "1f2915e9",
   "metadata": {},
   "outputs": [],
   "source": [
    "game_library.head()"
   ]
  },
  {
   "cell_type": "code",
   "execution_count": null,
   "id": "2a77d031",
   "metadata": {},
   "outputs": [],
   "source": [
    "game_library = game_library.drop(columns=['name'])\n"
   ]
  },
  {
   "cell_type": "code",
   "execution_count": null,
   "id": "f57d0655",
   "metadata": {},
   "outputs": [],
   "source": [
    "game_library['slug'] = game_library['slug'].str.replace('-',' ')"
   ]
  },
  {
   "cell_type": "code",
   "execution_count": null,
   "id": "09c9f447",
   "metadata": {},
   "outputs": [],
   "source": [
    "game_library[\"slug\"] = pd.to_numeric(game_library[\"slug\"], downcast=\"float\")"
   ]
  },
  {
   "cell_type": "markdown",
   "id": "e0a017ae",
   "metadata": {},
   "source": [
    "### Dataframe with ratings"
   ]
  },
  {
   "cell_type": "code",
   "execution_count": null,
   "id": "2255a398",
   "metadata": {},
   "outputs": [],
   "source": [
    "game_library.info()"
   ]
  },
  {
   "cell_type": "code",
   "execution_count": null,
   "id": "6fff9d64",
   "metadata": {},
   "outputs": [],
   "source": [
    "game_ratings = game_library[game_library['rating_bin'].notnull()]\n",
    "game_ratings.shape"
   ]
  },
  {
   "cell_type": "code",
   "execution_count": null,
   "id": "3d3aee5b",
   "metadata": {},
   "outputs": [],
   "source": [
    "game_ratings.slug.info()"
   ]
  },
  {
   "cell_type": "code",
   "execution_count": null,
   "id": "ae593014",
   "metadata": {},
   "outputs": [],
   "source": [
    "game_ratings_df = game_ratings.to_json(orient='index')\n",
    "print(game_ratings)"
   ]
  },
  {
   "cell_type": "markdown",
   "id": "ca141b3b",
   "metadata": {},
   "source": [
    "### Dataframe with nulls in rating column "
   ]
  },
  {
   "cell_type": "code",
   "execution_count": null,
   "id": "e9a9c53a",
   "metadata": {
    "scrolled": true
   },
   "outputs": [],
   "source": [
    "not_rated = game_library[game_library['rating_bin'].isnull()]\n",
    "not_rated.shape"
   ]
  },
  {
   "cell_type": "markdown",
   "id": "ea910f74",
   "metadata": {},
   "source": [
    "### Splitting the dataframe"
   ]
  },
  {
   "cell_type": "code",
   "execution_count": null,
   "id": "f637a298",
   "metadata": {
    "scrolled": true
   },
   "outputs": [],
   "source": [
    "def split(game_ratings, stratify_by='rating_bin'):\n",
    "    # split df into train_validate \n",
    "    train_validate, test = train_test_split(game_ratings, test_size=.20, random_state=13)\n",
    "    train, validate = train_test_split(train_validate, test_size=.3, random_state=13)\n",
    "\n",
    "    X_train = train.drop(columns=['rating_bin'])\n",
    "    y_train = train[['rating_bin']]\n",
    "\n",
    "    X_validate = validate.drop(columns=['rating_bin'])\n",
    "    y_validate = validate[['rating_bin']]\n",
    "\n",
    "    X_test = test.drop(columns=['rating_bin'])\n",
    "    y_test = test[['rating_bin']]\n",
    "\n",
    "    return train, X_train, X_validate, X_test, y_train, y_validate, y_test"
   ]
  },
  {
   "cell_type": "code",
   "execution_count": null,
   "id": "330e0826",
   "metadata": {},
   "outputs": [],
   "source": [
    "train, X_train, X_validate, X_test, y_train, y_validate, y_test = split(game_ratings, stratify_by='rating') #split data\n",
    "train.head()"
   ]
  },
  {
   "cell_type": "markdown",
   "id": "7685f67e",
   "metadata": {},
   "source": [
    "### Feature selection"
   ]
  },
  {
   "cell_type": "code",
   "execution_count": null,
   "id": "975b6b50",
   "metadata": {},
   "outputs": [],
   "source": [
    "def feature_chi2(X_train, X_validate, X_test, y_train, k = 21):\n",
    "     \n",
    "    # Feature selection\n",
    "    fs = SelectKBest(score_func = chi2, k = k)\n",
    "    fs.fit(X_train, y_train)\n",
    "    \n",
    "    # Selected columns\n",
    "    cols = fs.get_support(indices = True)\n",
    "    \n",
    "    # Output data\n",
    "    X_train_fs = X_train.iloc[:, cols]\n",
    "    X_validate_fs = X_validate.iloc[:, cols]\n",
    "    X_test_fs = X_test.iloc[:, cols]\n",
    "    \n",
    "    return X_train_fs, X_validate_fs, X_test_fs"
   ]
  },
  {
   "cell_type": "code",
   "execution_count": null,
   "id": "d2f9eaea",
   "metadata": {},
   "outputs": [],
   "source": [
    "X_train_fs, X_validate_fs, X_test_fs = feature_chi2(X_train, X_validate, X_test, y_train, k = 21) # fitting the df to the function \n",
    "X_train_fs.head()"
   ]
  },
  {
   "cell_type": "code",
   "execution_count": null,
   "id": "b8828bce",
   "metadata": {},
   "outputs": [],
   "source": []
  }
 ],
 "metadata": {
  "kernelspec": {
   "display_name": "Python 3 (ipykernel)",
   "language": "python",
   "name": "python3"
  },
  "language_info": {
   "codemirror_mode": {
    "name": "ipython",
    "version": 3
   },
   "file_extension": ".py",
   "mimetype": "text/x-python",
   "name": "python",
   "nbconvert_exporter": "python",
   "pygments_lexer": "ipython3",
   "version": "3.9.12"
  }
 },
 "nbformat": 4,
 "nbformat_minor": 5
}
