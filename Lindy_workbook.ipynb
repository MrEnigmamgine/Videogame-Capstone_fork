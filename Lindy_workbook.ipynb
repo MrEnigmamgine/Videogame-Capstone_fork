{
 "cells": [
  {
   "cell_type": "code",
   "execution_count": 1,
   "id": "488ef2a3",
   "metadata": {},
   "outputs": [],
   "source": [
    "import requests\n",
    "import env\n",
    "from requests.models import Request, Response\n",
    "from env import Client_ID\n",
    "import pandas as pd\n",
    "from igdb.igdbapi_pb2 import GameResult\n",
    "from typing import Dict, List, Optional, Union, cast"
   ]
  },
  {
   "cell_type": "code",
   "execution_count": 2,
   "id": "293a1ccf",
   "metadata": {},
   "outputs": [],
   "source": [
    "def get_api():   \n",
    "url = env.get_db_url()\n",
    "response = requests.post(url)\n",
    "data = response.json()\n",
    "access_token = data['access_token']\n",
    "headers = {'Client-ID': f'{Client_ID}', 'Authorization': f'Bearer {access_token}'}\n",
    "data = 'fields *;'\n",
    "r = requests.post('https://api.igdb.com/v4/games', data=data, headers=headers)\n",
    "    return access_token, r"
   ]
  },
  {
   "cell_type": "code",
   "execution_count": null,
   "id": "601dfa0e",
   "metadata": {},
   "outputs": [],
   "source": [
    "r"
   ]
  },
  {
   "cell_type": "code",
   "execution_count": null,
   "id": "742f1f69",
   "metadata": {},
   "outputs": [],
   "source": [
    "access_token, r = get_api()"
   ]
  },
  {
   "cell_type": "code",
   "execution_count": 3,
   "id": "508441d9",
   "metadata": {},
   "outputs": [],
   "source": [
    "from igdb.wrapper import IGDBWrapper\n",
    "wrapper = IGDBWrapper(f'{Client_ID}', f'Bearer {access_token}')"
   ]
  },
  {
   "cell_type": "code",
   "execution_count": 4,
   "id": "b9173689",
   "metadata": {},
   "outputs": [
    {
     "ename": "HTTPError",
     "evalue": "401 Client Error: Unauthorized for url: https://api.igdb.com/v4/games",
     "output_type": "error",
     "traceback": [
      "\u001b[0;31m---------------------------------------------------------------------------\u001b[0m",
      "\u001b[0;31mHTTPError\u001b[0m                                 Traceback (most recent call last)",
      "Input \u001b[0;32mIn [4]\u001b[0m, in \u001b[0;36m<cell line: 2>\u001b[0;34m()\u001b[0m\n\u001b[1;32m      1\u001b[0m testgames \u001b[38;5;241m=\u001b[39m []\n\u001b[1;32m      2\u001b[0m \u001b[38;5;28;01mfor\u001b[39;00m i \u001b[38;5;129;01min\u001b[39;00m \u001b[38;5;28mrange\u001b[39m(\u001b[38;5;241m0\u001b[39m, \u001b[38;5;241m409\u001b[39m):\n\u001b[0;32m----> 3\u001b[0m     games \u001b[38;5;241m=\u001b[39m \u001b[43mwrapper\u001b[49m\u001b[38;5;241;43m.\u001b[39;49m\u001b[43mapi_request\u001b[49m\u001b[43m(\u001b[49m\u001b[38;5;124;43m'\u001b[39;49m\u001b[38;5;124;43mgames\u001b[39;49m\u001b[38;5;124;43m'\u001b[39;49m\u001b[43m,\u001b[49m\u001b[43m \u001b[49m\u001b[38;5;124;43m'\u001b[39;49m\u001b[38;5;124;43mfields *; limit 500;\u001b[39;49m\u001b[38;5;124;43m'\u001b[39;49m\u001b[43m \u001b[49m\u001b[38;5;124;43mf\u001b[39;49m\u001b[38;5;124;43m'\u001b[39;49m\u001b[38;5;124;43moffset \u001b[39;49m\u001b[38;5;132;43;01m{\u001b[39;49;00m\u001b[43mi\u001b[49m\u001b[43m \u001b[49m\u001b[38;5;241;43m*\u001b[39;49m\u001b[43m \u001b[49m\u001b[38;5;241;43m409\u001b[39;49m\u001b[38;5;132;43;01m}\u001b[39;49;00m\u001b[38;5;124;43m;\u001b[39;49m\u001b[38;5;124;43m'\u001b[39;49m\u001b[43m)\u001b[49m\n\u001b[1;32m      4\u001b[0m     testgames\u001b[38;5;241m.\u001b[39mappend(games)\n",
      "File \u001b[0;32m/usr/local/anaconda3/lib/python3.9/site-packages/igdb/wrapper.py:21\u001b[0m, in \u001b[0;36mIGDBWrapper.api_request\u001b[0;34m(self, endpoint, query)\u001b[0m\n\u001b[1;32m     18\u001b[0m params \u001b[38;5;241m=\u001b[39m \u001b[38;5;28mself\u001b[39m\u001b[38;5;241m.\u001b[39m_compose_request(query)\n\u001b[1;32m     20\u001b[0m response \u001b[38;5;241m=\u001b[39m post(url, \u001b[38;5;241m*\u001b[39m\u001b[38;5;241m*\u001b[39mparams)\n\u001b[0;32m---> 21\u001b[0m \u001b[43mresponse\u001b[49m\u001b[38;5;241;43m.\u001b[39;49m\u001b[43mraise_for_status\u001b[49m\u001b[43m(\u001b[49m\u001b[43m)\u001b[49m\n\u001b[1;32m     23\u001b[0m \u001b[38;5;28;01mreturn\u001b[39;00m response\u001b[38;5;241m.\u001b[39mcontent\n",
      "File \u001b[0;32m/usr/local/anaconda3/lib/python3.9/site-packages/requests/models.py:960\u001b[0m, in \u001b[0;36mResponse.raise_for_status\u001b[0;34m(self)\u001b[0m\n\u001b[1;32m    957\u001b[0m     http_error_msg \u001b[38;5;241m=\u001b[39m \u001b[38;5;124mu\u001b[39m\u001b[38;5;124m'\u001b[39m\u001b[38;5;132;01m%s\u001b[39;00m\u001b[38;5;124m Server Error: \u001b[39m\u001b[38;5;132;01m%s\u001b[39;00m\u001b[38;5;124m for url: \u001b[39m\u001b[38;5;132;01m%s\u001b[39;00m\u001b[38;5;124m'\u001b[39m \u001b[38;5;241m%\u001b[39m (\u001b[38;5;28mself\u001b[39m\u001b[38;5;241m.\u001b[39mstatus_code, reason, \u001b[38;5;28mself\u001b[39m\u001b[38;5;241m.\u001b[39murl)\n\u001b[1;32m    959\u001b[0m \u001b[38;5;28;01mif\u001b[39;00m http_error_msg:\n\u001b[0;32m--> 960\u001b[0m     \u001b[38;5;28;01mraise\u001b[39;00m HTTPError(http_error_msg, response\u001b[38;5;241m=\u001b[39m\u001b[38;5;28mself\u001b[39m)\n",
      "\u001b[0;31mHTTPError\u001b[0m: 401 Client Error: Unauthorized for url: https://api.igdb.com/v4/games"
     ]
    }
   ],
   "source": [
    "testgames = []\n",
    "for i in range(0, 409):\n",
    "    games = wrapper.api_request('games', 'fields *; limit 500;' f'offset {i * 409};')\n",
    "    testgames.append(games)"
   ]
  },
  {
   "cell_type": "code",
   "execution_count": null,
   "id": "af033284",
   "metadata": {},
   "outputs": [],
   "source": [
    "len(testgames)"
   ]
  },
  {
   "cell_type": "code",
   "execution_count": null,
   "id": "0064bf7c",
   "metadata": {},
   "outputs": [],
   "source": []
  },
  {
   "cell_type": "code",
   "execution_count": null,
   "id": "628e8d73",
   "metadata": {},
   "outputs": [],
   "source": [
    "# Opening JSON file\n",
    "f = open('data.json')\n",
    "\n",
    "# returns JSON object as\n",
    "# a dictionary\n",
    "data1 = json.load(f)\n",
    "\n",
    "#converting it into dataframe\n",
    "df = pd.read_json(data1, orient ='index')"
   ]
  },
  {
   "cell_type": "code",
   "execution_count": null,
   "id": "7a515daf",
   "metadata": {},
   "outputs": [],
   "source": [
    "import json\n",
    "games = pd.DataFrame(r.json())"
   ]
  },
  {
   "cell_type": "code",
   "execution_count": null,
   "id": "78c66390",
   "metadata": {},
   "outputs": [],
   "source": [
    "df = pd.DataFrame(eval(games_message))"
   ]
  },
  {
   "cell_type": "code",
   "execution_count": null,
   "id": "3e009b91",
   "metadata": {},
   "outputs": [],
   "source": [
    "games.shape"
   ]
  },
  {
   "cell_type": "code",
   "execution_count": null,
   "id": "decd6019",
   "metadata": {},
   "outputs": [],
   "source": []
  }
 ],
 "metadata": {
  "kernelspec": {
   "display_name": "Python 3 (ipykernel)",
   "language": "python",
   "name": "python3"
  },
  "language_info": {
   "codemirror_mode": {
    "name": "ipython",
    "version": 3
   },
   "file_extension": ".py",
   "mimetype": "text/x-python",
   "name": "python",
   "nbconvert_exporter": "python",
   "pygments_lexer": "ipython3",
   "version": "3.9.12"
  }
 },
 "nbformat": 4,
 "nbformat_minor": 5
}
