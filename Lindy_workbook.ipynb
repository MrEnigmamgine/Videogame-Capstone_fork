{
 "cells": [
  {
   "cell_type": "code",
   "execution_count": 1,
   "id": "083355cc",
   "metadata": {},
   "outputs": [],
   "source": [
    "import requests\n",
    "import env\n",
    "from requests.models import Request, Response\n",
    "from env import Client_ID\n",
    "import pandas as pd\n",
    "from igdb.igdbapi_pb2 import GameResult\n",
    "from typing import Dict, List, Optional, Union, cast\n",
    "import acquire\n",
    "import json\n",
    "from igdb.wrapper import IGDBWrapper"
   ]
  },
  {
   "cell_type": "markdown",
   "id": "5c55a018",
   "metadata": {},
   "source": [
    "### Connect to API and scrape the data needed\n",
    "#### get the access token and 200 response "
   ]
  },
  {
   "cell_type": "code",
   "execution_count": null,
   "id": "bedae10e",
   "metadata": {},
   "outputs": [],
   "source": [
    "def get_api():   \n",
    "    url = env.get_db_url()\n",
    "    response = requests.post(url)\n",
    "    data = response.json()\n",
    "    access_token = data['access_token']\n",
    "    headers = {'Client-ID': f'{Client_ID}', 'Authorization': f'Bearer {access_token}'}\n",
    "    data = 'fields *;'\n",
    "    r = requests.post('https://api.igdb.com/v4/games', data=data, headers=headers)\n",
    "    return access_token, r"
   ]
  },
  {
   "cell_type": "code",
   "execution_count": 2,
   "id": "61a28274",
   "metadata": {},
   "outputs": [],
   "source": [
    "access_token = acquire.connect_api()"
   ]
  },
  {
   "cell_type": "code",
   "execution_count": 3,
   "id": "b3c56153",
   "metadata": {},
   "outputs": [
    {
     "data": {
      "text/plain": [
       "'w1fejmtqp5gyuy747q28ttwjzgybbh'"
      ]
     },
     "execution_count": 3,
     "metadata": {},
     "output_type": "execute_result"
    }
   ],
   "source": [
    "access_token"
   ]
  },
  {
   "cell_type": "code",
   "execution_count": 4,
   "id": "78de2a4c",
   "metadata": {},
   "outputs": [],
   "source": [
    "tf = acquire.connect_to_games()"
   ]
  },
  {
   "cell_type": "code",
   "execution_count": 5,
   "id": "c649ccb1",
   "metadata": {},
   "outputs": [
    {
     "data": {
      "text/plain": [
       "<Response [200]>"
      ]
     },
     "execution_count": 5,
     "metadata": {},
     "output_type": "execute_result"
    }
   ],
   "source": [
    "tf"
   ]
  },
  {
   "cell_type": "code",
   "execution_count": 6,
   "id": "041b13ee",
   "metadata": {},
   "outputs": [],
   "source": [
    "wrapper = acquire.run_wrapper()"
   ]
  },
  {
   "cell_type": "code",
   "execution_count": 7,
   "id": "0c781bc9",
   "metadata": {},
   "outputs": [
    {
     "data": {
      "text/plain": [
       "<igdb.wrapper.IGDBWrapper at 0x7f8311efea30>"
      ]
     },
     "execution_count": 7,
     "metadata": {},
     "output_type": "execute_result"
    }
   ],
   "source": [
    "wrapper"
   ]
  },
  {
   "cell_type": "code",
   "execution_count": 8,
   "id": "27513eae",
   "metadata": {},
   "outputs": [
    {
     "data": {
      "text/html": [
       "<div>\n",
       "<style scoped>\n",
       "    .dataframe tbody tr th:only-of-type {\n",
       "        vertical-align: middle;\n",
       "    }\n",
       "\n",
       "    .dataframe tbody tr th {\n",
       "        vertical-align: top;\n",
       "    }\n",
       "\n",
       "    .dataframe thead th {\n",
       "        text-align: right;\n",
       "    }\n",
       "</style>\n",
       "<table border=\"1\" class=\"dataframe\">\n",
       "  <thead>\n",
       "    <tr style=\"text-align: right;\">\n",
       "      <th></th>\n",
       "      <th>id</th>\n",
       "      <th>age_ratings</th>\n",
       "      <th>artworks</th>\n",
       "      <th>category</th>\n",
       "      <th>cover</th>\n",
       "      <th>created_at</th>\n",
       "      <th>external_games</th>\n",
       "      <th>first_release_date</th>\n",
       "      <th>genres</th>\n",
       "      <th>name</th>\n",
       "      <th>...</th>\n",
       "      <th>aggregated_rating_count</th>\n",
       "      <th>multiplayer_modes</th>\n",
       "      <th>remakes</th>\n",
       "      <th>dlcs</th>\n",
       "      <th>ports</th>\n",
       "      <th>expansions</th>\n",
       "      <th>expanded_games</th>\n",
       "      <th>remasters</th>\n",
       "      <th>forks</th>\n",
       "      <th>standalone_expansions</th>\n",
       "    </tr>\n",
       "  </thead>\n",
       "  <tbody>\n",
       "    <tr>\n",
       "      <th>0</th>\n",
       "      <td>192310</td>\n",
       "      <td>[63703, 63704]</td>\n",
       "      <td>[68886]</td>\n",
       "      <td>0</td>\n",
       "      <td>210891.0</td>\n",
       "      <td>1646209573</td>\n",
       "      <td>[2270833, 2272174, 2326733, 2591087]</td>\n",
       "      <td>1.645661e+09</td>\n",
       "      <td>[31]</td>\n",
       "      <td>Martha Is Dead: Digital Deluxe</td>\n",
       "      <td>...</td>\n",
       "      <td>NaN</td>\n",
       "      <td>NaN</td>\n",
       "      <td>NaN</td>\n",
       "      <td>NaN</td>\n",
       "      <td>NaN</td>\n",
       "      <td>NaN</td>\n",
       "      <td>NaN</td>\n",
       "      <td>NaN</td>\n",
       "      <td>NaN</td>\n",
       "      <td>NaN</td>\n",
       "    </tr>\n",
       "    <tr>\n",
       "      <th>1</th>\n",
       "      <td>40104</td>\n",
       "      <td>NaN</td>\n",
       "      <td>NaN</td>\n",
       "      <td>0</td>\n",
       "      <td>NaN</td>\n",
       "      <td>1498435200</td>\n",
       "      <td>[20127, 1988884]</td>\n",
       "      <td>5.364576e+08</td>\n",
       "      <td>[5]</td>\n",
       "      <td>Dogou Souken</td>\n",
       "      <td>...</td>\n",
       "      <td>NaN</td>\n",
       "      <td>NaN</td>\n",
       "      <td>NaN</td>\n",
       "      <td>NaN</td>\n",
       "      <td>NaN</td>\n",
       "      <td>NaN</td>\n",
       "      <td>NaN</td>\n",
       "      <td>NaN</td>\n",
       "      <td>NaN</td>\n",
       "      <td>NaN</td>\n",
       "    </tr>\n",
       "    <tr>\n",
       "      <th>2</th>\n",
       "      <td>85031</td>\n",
       "      <td>[37944]</td>\n",
       "      <td>NaN</td>\n",
       "      <td>0</td>\n",
       "      <td>61466.0</td>\n",
       "      <td>1517392813</td>\n",
       "      <td>[216805, 1969751, 2005770]</td>\n",
       "      <td>1.404346e+09</td>\n",
       "      <td>[9]</td>\n",
       "      <td>City Mysteries</td>\n",
       "      <td>...</td>\n",
       "      <td>NaN</td>\n",
       "      <td>NaN</td>\n",
       "      <td>NaN</td>\n",
       "      <td>NaN</td>\n",
       "      <td>NaN</td>\n",
       "      <td>NaN</td>\n",
       "      <td>NaN</td>\n",
       "      <td>NaN</td>\n",
       "      <td>NaN</td>\n",
       "      <td>NaN</td>\n",
       "    </tr>\n",
       "    <tr>\n",
       "      <th>3</th>\n",
       "      <td>99234</td>\n",
       "      <td>NaN</td>\n",
       "      <td>NaN</td>\n",
       "      <td>0</td>\n",
       "      <td>91582.0</td>\n",
       "      <td>1524843905</td>\n",
       "      <td>[603512, 1857496, 1917109]</td>\n",
       "      <td>1.527120e+09</td>\n",
       "      <td>[31, 32]</td>\n",
       "      <td>Sword of the Black Stone</td>\n",
       "      <td>...</td>\n",
       "      <td>NaN</td>\n",
       "      <td>NaN</td>\n",
       "      <td>NaN</td>\n",
       "      <td>NaN</td>\n",
       "      <td>NaN</td>\n",
       "      <td>NaN</td>\n",
       "      <td>NaN</td>\n",
       "      <td>NaN</td>\n",
       "      <td>NaN</td>\n",
       "      <td>NaN</td>\n",
       "    </tr>\n",
       "    <tr>\n",
       "      <th>4</th>\n",
       "      <td>148930</td>\n",
       "      <td>NaN</td>\n",
       "      <td>[33736]</td>\n",
       "      <td>0</td>\n",
       "      <td>169077.0</td>\n",
       "      <td>1621959514</td>\n",
       "      <td>[2052375, 2057300]</td>\n",
       "      <td>NaN</td>\n",
       "      <td>[13, 15, 31, 32]</td>\n",
       "      <td>Bok-Bok: A Chicken Dating Sim</td>\n",
       "      <td>...</td>\n",
       "      <td>NaN</td>\n",
       "      <td>NaN</td>\n",
       "      <td>NaN</td>\n",
       "      <td>NaN</td>\n",
       "      <td>NaN</td>\n",
       "      <td>NaN</td>\n",
       "      <td>NaN</td>\n",
       "      <td>NaN</td>\n",
       "      <td>NaN</td>\n",
       "      <td>NaN</td>\n",
       "    </tr>\n",
       "  </tbody>\n",
       "</table>\n",
       "<p>5 rows × 55 columns</p>\n",
       "</div>"
      ],
      "text/plain": [
       "       id     age_ratings artworks  category     cover  created_at  \\\n",
       "0  192310  [63703, 63704]  [68886]         0  210891.0  1646209573   \n",
       "1   40104             NaN      NaN         0       NaN  1498435200   \n",
       "2   85031         [37944]      NaN         0   61466.0  1517392813   \n",
       "3   99234             NaN      NaN         0   91582.0  1524843905   \n",
       "4  148930             NaN  [33736]         0  169077.0  1621959514   \n",
       "\n",
       "                         external_games  first_release_date            genres  \\\n",
       "0  [2270833, 2272174, 2326733, 2591087]        1.645661e+09              [31]   \n",
       "1                      [20127, 1988884]        5.364576e+08               [5]   \n",
       "2            [216805, 1969751, 2005770]        1.404346e+09               [9]   \n",
       "3            [603512, 1857496, 1917109]        1.527120e+09          [31, 32]   \n",
       "4                    [2052375, 2057300]                 NaN  [13, 15, 31, 32]   \n",
       "\n",
       "                             name  ... aggregated_rating_count  \\\n",
       "0  Martha Is Dead: Digital Deluxe  ...                     NaN   \n",
       "1                    Dogou Souken  ...                     NaN   \n",
       "2                  City Mysteries  ...                     NaN   \n",
       "3        Sword of the Black Stone  ...                     NaN   \n",
       "4   Bok-Bok: A Chicken Dating Sim  ...                     NaN   \n",
       "\n",
       "  multiplayer_modes remakes dlcs ports expansions expanded_games remasters  \\\n",
       "0               NaN     NaN  NaN   NaN        NaN            NaN       NaN   \n",
       "1               NaN     NaN  NaN   NaN        NaN            NaN       NaN   \n",
       "2               NaN     NaN  NaN   NaN        NaN            NaN       NaN   \n",
       "3               NaN     NaN  NaN   NaN        NaN            NaN       NaN   \n",
       "4               NaN     NaN  NaN   NaN        NaN            NaN       NaN   \n",
       "\n",
       "   forks standalone_expansions  \n",
       "0    NaN                   NaN  \n",
       "1    NaN                   NaN  \n",
       "2    NaN                   NaN  \n",
       "3    NaN                   NaN  \n",
       "4    NaN                   NaN  \n",
       "\n",
       "[5 rows x 55 columns]"
      ]
     },
     "execution_count": 8,
     "metadata": {},
     "output_type": "execute_result"
    }
   ],
   "source": [
    "game_library = acquire.get_game_library(wrapper)\n",
    "game_library.head()"
   ]
  },
  {
   "cell_type": "code",
   "execution_count": null,
   "id": "c1883e7b",
   "metadata": {},
   "outputs": [],
   "source": [
    "df.platforms.tail(10).values[0]"
   ]
  },
  {
   "cell_type": "markdown",
   "id": "1a1cba4f",
   "metadata": {},
   "source": [
    "## scraping endpoints\n",
    "scrape the end points of each category and add them to the game_librarys"
   ]
  },
  {
   "cell_type": "markdown",
   "id": "bf9485eb",
   "metadata": {},
   "source": [
    "### platform_families"
   ]
  },
  {
   "cell_type": "code",
   "execution_count": null,
   "id": "724a85ff",
   "metadata": {},
   "outputs": [],
   "source": [
    "def get_platform_families():\n",
    "    headers = {'Client-ID': f'{Client_ID}', 'Authorization': f'Bearer {access_token}'}\n",
    "    data = 'fields *; '\n",
    "    r = requests.post('https://api.igdb.com/v4/platform_families' ,data=data ,  headers=headers)\n",
    "    platform_families = wrapper.api_request('platform_families', 'fields *;limit 500;')\n",
    "    x = json.loads(platform_families)\n",
    "    platform_families =pd.DataFrame(x)\n",
    "    return platform_families"
   ]
  },
  {
   "cell_type": "code",
   "execution_count": null,
   "id": "ae360889",
   "metadata": {},
   "outputs": [],
   "source": [
    "platform_families = get_platform_families()\n",
    "platform_families.head()"
   ]
  },
  {
   "cell_type": "code",
   "execution_count": null,
   "id": "e2d6214a",
   "metadata": {},
   "outputs": [],
   "source": [
    "df.columns"
   ]
  },
  {
   "cell_type": "markdown",
   "id": "defee472",
   "metadata": {},
   "source": [
    "### platform_version_release_dates"
   ]
  },
  {
   "cell_type": "code",
   "execution_count": null,
   "id": "e0fbde0a",
   "metadata": {},
   "outputs": [],
   "source": [
    "def get_platform_version_release():\n",
    "    headers = {'Client-ID': f'{Client_ID}', 'Authorization': f'Bearer {access_token}'}\n",
    "    data = 'fields *; '\n",
    "    r = requests.post('https://api.igdb.com/v4/platform_version_release_dates' ,data=data ,  headers=headers)\n",
    "    platform_version_release_dates = wrapper.api_request('platform_version_release_dates', 'fields *;limit 500;')\n",
    "    x = json.loads(platform_version_release_dates)\n",
    "    platform_version_release_dates =pd.DataFrame(x)\n",
    "    return platform_version_release_dates"
   ]
  },
  {
   "cell_type": "code",
   "execution_count": null,
   "id": "064bb1b9",
   "metadata": {
    "scrolled": true
   },
   "outputs": [],
   "source": [
    "platform_version_release_dates = get_platform_version_release()\n",
    "platform_version_release_dates"
   ]
  },
  {
   "cell_type": "code",
   "execution_count": null,
   "id": "d4de93f8",
   "metadata": {},
   "outputs": [],
   "source": [
    "# drop columns not needed\n",
    "platform_version_release_dates = platform_version_release_dates.drop(columns=['category', 'date', 'm', 'y', 'region', 'updated_at', 'checksum', 'updated_at'])\n",
    "platform_version_release_dates.head()\n"
   ]
  },
  {
   "cell_type": "code",
   "execution_count": null,
   "id": "81c4cfea",
   "metadata": {},
   "outputs": [],
   "source": [
    "df.head()"
   ]
  },
  {
   "cell_type": "code",
   "execution_count": null,
   "id": "d1c4e5c8",
   "metadata": {},
   "outputs": [],
   "source": [
    "version_dates_dict[9] = 'not_available'\n",
    "version_dates_dict[384] = 'not_available'\n",
    "version_dates_dict[386] = 'not_available'\n"
   ]
  },
  {
   "cell_type": "code",
   "execution_count": null,
   "id": "8120df42",
   "metadata": {},
   "outputs": [],
   "source": [
    "version_dates_list = platform_version_release_dates[['game' , 'human']].sort_values(by='game').reset_index(drop=True)\n",
    "version_dates_dict = platform_version_release_dates.set_index('game').to_dict()['human']"
   ]
  },
  {
   "cell_type": "code",
   "execution_count": null,
   "id": "10ea53db",
   "metadata": {},
   "outputs": [],
   "source": [
    "def test_funct3(random_list):\n",
    "    if type(random_list) == list:\n",
    "        return [version_dates_dict[i] for i in random_list]\n",
    "    else:  \n",
    "        return \"Not available\""
   ]
  },
  {
   "cell_type": "code",
   "execution_count": null,
   "id": "3b683b10",
   "metadata": {},
   "outputs": [],
   "source": [
    "platforms.set_index('Locality', inplace=True)\n",
    "data.set_index('Locality', inplace=True)\n"
   ]
  },
  {
   "cell_type": "code",
   "execution_count": null,
   "id": "9aa4f022",
   "metadata": {},
   "outputs": [],
   "source": [
    "df['release_dates'] = df.release_dates.apply(test_funct3)\n",
    "df.head()"
   ]
  },
  {
   "cell_type": "code",
   "execution_count": null,
   "id": "c8b86233",
   "metadata": {},
   "outputs": [],
   "source": [
    "all_release_dates = pd.merge(release_dates, platform_version_release_dates, how = 'inner', on=\"human\")"
   ]
  },
  {
   "cell_type": "code",
   "execution_count": null,
   "id": "e0252362",
   "metadata": {},
   "outputs": [],
   "source": [
    "#pd.set_option('display.max_rows', 500)\n",
    "pd.set_option('display.max_columns', 500)\n",
    "pd.set_option('display.width', 1000)\n",
    "df.head()"
   ]
  },
  {
   "cell_type": "markdown",
   "id": "e6798d55",
   "metadata": {},
   "source": [
    "### platform_version_companies"
   ]
  },
  {
   "cell_type": "code",
   "execution_count": null,
   "id": "485465d9",
   "metadata": {},
   "outputs": [],
   "source": [
    "def get_platform_version_companies():\n",
    "    headers = {'Client-ID': f'{Client_ID}', 'Authorization': f'Bearer {access_token}'}\n",
    "    data = 'fields *; '\n",
    "    r = requests.post('https://api.igdb.com/v4/platform_version_companies' ,data=data ,  headers=headers)\n",
    "    platform_version_companies = wrapper.api_request('platform_version_companies', 'fields *;limit 500;')\n",
    "    x = json.loads(platform_version_companies)\n",
    "    platform_version_companies =pd.DataFrame(x)\n",
    "    return platform_version_companies"
   ]
  },
  {
   "cell_type": "code",
   "execution_count": null,
   "id": "4d5fa5f3",
   "metadata": {},
   "outputs": [],
   "source": [
    "platform_version_companies=get_platform_version_companies()\n",
    "platform_version_companies.head()"
   ]
  },
  {
   "cell_type": "markdown",
   "id": "5fd02f42",
   "metadata": {},
   "source": [
    "### platforms (use this)"
   ]
  },
  {
   "cell_type": "code",
   "execution_count": 9,
   "id": "0ecc9167",
   "metadata": {},
   "outputs": [],
   "source": [
    "def get_platforms():\n",
    "    headers = {'Client-ID': f'{Client_ID}', 'Authorization': f'Bearer {access_token}'}\n",
    "    data = 'fields *; '\n",
    "    r = requests.post('https://api.igdb.com/v4/platforms' ,data=data ,  headers=headers)\n",
    "    platforms = wrapper.api_request('platforms', 'fields *;limit 500;')\n",
    "    x = json.loads(platforms)\n",
    "    platforms =pd.DataFrame(x)\n",
    "    return platforms"
   ]
  },
  {
   "cell_type": "code",
   "execution_count": 10,
   "id": "08cd0b86",
   "metadata": {},
   "outputs": [
    {
     "data": {
      "text/plain": [
       "(197, 16)"
      ]
     },
     "execution_count": 10,
     "metadata": {},
     "output_type": "execute_result"
    }
   ],
   "source": [
    "platform = get_platforms()\n",
    "platform.shape"
   ]
  },
  {
   "cell_type": "code",
   "execution_count": null,
   "id": "b811de69",
   "metadata": {},
   "outputs": [],
   "source": [
    "# see if there is a number in id that matches the big df\n",
    "platform.loc[platform['id'] == 5]"
   ]
  },
  {
   "cell_type": "code",
   "execution_count": null,
   "id": "2075b0e1",
   "metadata": {},
   "outputs": [],
   "source": [
    "platform = platform.drop(columns=['alternative_name', 'category', 'created_at', 'platform_logo', 'updated_at', 'url', 'checksum', 'versions', 'websites', 'generation', 'platform_family', 'abbreviation', 'summary'])\n",
    "platform.head()\n"
   ]
  },
  {
   "cell_type": "code",
   "execution_count": null,
   "id": "a23f6aa8",
   "metadata": {},
   "outputs": [],
   "source": [
    "# looking at the dictionary\n",
    "print(game_library.get(92, \"Not found\"))"
   ]
  },
  {
   "cell_type": "code",
   "execution_count": null,
   "id": "de331335",
   "metadata": {
    "scrolled": true
   },
   "outputs": [],
   "source": [
    "df.platforms.iloc[2]"
   ]
  },
  {
   "cell_type": "code",
   "execution_count": 11,
   "id": "963b76f2",
   "metadata": {},
   "outputs": [],
   "source": [
    "platformlist = platform[['id' , 'name']].sort_values(by='id').reset_index(drop=True)\n"
   ]
  },
  {
   "cell_type": "code",
   "execution_count": 12,
   "id": "f9ccc69f",
   "metadata": {},
   "outputs": [],
   "source": [
    "platform_dict = platformlist.set_index('id').to_dict()['name']"
   ]
  },
  {
   "cell_type": "code",
   "execution_count": 13,
   "id": "a140f99b",
   "metadata": {},
   "outputs": [],
   "source": [
    "platform_dict[92] = 'not_available'"
   ]
  },
  {
   "cell_type": "code",
   "execution_count": 14,
   "id": "406a28fd",
   "metadata": {},
   "outputs": [],
   "source": [
    "def test_funct(random_list):\n",
    "    if type(random_list) == list:\n",
    "        return [platform_dict[i] for i in random_list]\n",
    "    else:  \n",
    "        return  [\"Not available\"]"
   ]
  },
  {
   "cell_type": "code",
   "execution_count": null,
   "id": "f57db557",
   "metadata": {
    "scrolled": true
   },
   "outputs": [],
   "source": [
    "game_library['platforms'] = game_library.platforms.apply(test_funct)\n",
    "game_library.head()"
   ]
  },
  {
   "cell_type": "code",
   "execution_count": null,
   "id": "90f6bb1c",
   "metadata": {
    "scrolled": true
   },
   "outputs": [],
   "source": [
    "df.loc[df['platforms'] == '3ds']"
   ]
  },
  {
   "cell_type": "code",
   "execution_count": null,
   "id": "02108b24",
   "metadata": {},
   "outputs": [],
   "source": [
    "df.loc[df['platforms'].notnull()]"
   ]
  },
  {
   "cell_type": "markdown",
   "id": "fc9d6751",
   "metadata": {},
   "source": [
    "### release_dates"
   ]
  },
  {
   "cell_type": "code",
   "execution_count": null,
   "id": "484bf930",
   "metadata": {},
   "outputs": [],
   "source": [
    "def get_release_dates():\n",
    "    headers = {'Client-ID': f'{Client_ID}', 'Authorization': f'Bearer {access_token}'}\n",
    "    data = 'fields *; '\n",
    "    r = requests.post('https://api.igdb.com/v4/release_dates' ,data=data ,  headers=headers)\n",
    "    release_dates = wrapper.api_request('release_dates', 'fields *;limit 500;')\n",
    "    x = json.loads(release_dates)\n",
    "    release_dates =pd.DataFrame(x)\n",
    "    return release_dates"
   ]
  },
  {
   "cell_type": "code",
   "execution_count": null,
   "id": "fdd35782",
   "metadata": {},
   "outputs": [],
   "source": [
    "release_dates = get_release_dates()\n",
    "release_dates.shape"
   ]
  },
  {
   "cell_type": "code",
   "execution_count": null,
   "id": "716c811b",
   "metadata": {},
   "outputs": [],
   "source": [
    "release_dates = release_dates.drop(columns=['category', 'date', 'm', 'region', 'updated_at', 'y', 'checksum', 'created_at', 'platform'])\n",
    "release_dates.head()"
   ]
  },
  {
   "cell_type": "code",
   "execution_count": null,
   "id": "cb2264be",
   "metadata": {},
   "outputs": [],
   "source": [
    "release_dates"
   ]
  },
  {
   "cell_type": "code",
   "execution_count": null,
   "id": "02483353",
   "metadata": {},
   "outputs": [],
   "source": [
    "# add to dictionary\n",
    "release_dict[91007] = \"not-available\"\n",
    "release_dict[138333] = \"not-available\"\n",
    "release_dict[188385] = \"not-available\"\n",
    "release_dict[213594] = \"not-available\"\n",
    "release_dict[77755] = \"not-available\"\n"
   ]
  },
  {
   "cell_type": "code",
   "execution_count": null,
   "id": "4551ec64",
   "metadata": {},
   "outputs": [],
   "source": [
    "releaselist = release_dates[['game' , 'human']].sort_values(by='game').reset_index(drop=True)\n",
    "release_dict = releaselist.set_index('game').to_dict()['human']"
   ]
  },
  {
   "cell_type": "code",
   "execution_count": null,
   "id": "725d9f5b",
   "metadata": {},
   "outputs": [],
   "source": [
    "release_dates.head()"
   ]
  },
  {
   "cell_type": "code",
   "execution_count": null,
   "id": "f3f4a63c",
   "metadata": {},
   "outputs": [],
   "source": [
    "def test_funct2(random_list):\n",
    "    if type(random_list) == list:\n",
    "        return [release_dict[i] for i in random_list]\n",
    "    else:  \n",
    "        return  [\"Not available\"]"
   ]
  },
  {
   "cell_type": "code",
   "execution_count": null,
   "id": "a49b5a17",
   "metadata": {},
   "outputs": [],
   "source": [
    "release_dict"
   ]
  },
  {
   "cell_type": "code",
   "execution_count": null,
   "id": "2f489932",
   "metadata": {},
   "outputs": [],
   "source": [
    "df.release_dates.head()"
   ]
  },
  {
   "cell_type": "code",
   "execution_count": null,
   "id": "b82280f3",
   "metadata": {},
   "outputs": [],
   "source": [
    "df['release_dates'] = pd.DataFrame(df.release_dates.apply(test_funct2))\n",
    "df"
   ]
  },
  {
   "cell_type": "code",
   "execution_count": null,
   "id": "ba58b3a7",
   "metadata": {},
   "outputs": [],
   "source": [
    "release_dict"
   ]
  },
  {
   "cell_type": "code",
   "execution_count": null,
   "id": "863ddcd0",
   "metadata": {},
   "outputs": [],
   "source": [
    "# add 0 and description to dictionary\n",
    "release_dict[\"0\"] = \"not-available\""
   ]
  },
  {
   "cell_type": "markdown",
   "id": "fc2fcc8a",
   "metadata": {},
   "source": [
    "### platform_versions"
   ]
  },
  {
   "cell_type": "code",
   "execution_count": null,
   "id": "b13c513f",
   "metadata": {},
   "outputs": [],
   "source": [
    "def get_platform_versions():\n",
    "    headers = {'Client-ID': f'{Client_ID}', 'Authorization': f'Bearer {access_token}'}\n",
    "    data = 'fields *; '\n",
    "    r = requests.post('https://api.igdb.com/v4/platform_versions' ,data=data ,  headers=headers)\n",
    "    platform_versions = wrapper.api_request('platform_versions', 'fields *;limit 500;')\n",
    "    x = json.loads(platform_versions)\n",
    "    platform_versions=pd.DataFrame(x)\n",
    "    return platform_versions"
   ]
  },
  {
   "cell_type": "code",
   "execution_count": null,
   "id": "1a593a71",
   "metadata": {},
   "outputs": [],
   "source": [
    "platform_versions = get_platform_versions()\n",
    "platform_versions.shape"
   ]
  },
  {
   "cell_type": "code",
   "execution_count": null,
   "id": "cd7012bb",
   "metadata": {},
   "outputs": [],
   "source": [
    "platform_versions.head()"
   ]
  },
  {
   "cell_type": "code",
   "execution_count": null,
   "id": "e58bc79c",
   "metadata": {},
   "outputs": [],
   "source": [
    "df.columns"
   ]
  },
  {
   "cell_type": "markdown",
   "id": "f4e84431",
   "metadata": {},
   "source": [
    "### player_perspectives (use this)"
   ]
  },
  {
   "cell_type": "code",
   "execution_count": null,
   "id": "fd243713",
   "metadata": {},
   "outputs": [],
   "source": [
    "def get_player_perspectives():\n",
    "    headers = {'Client-ID': f'{Client_ID}', 'Authorization': f'Bearer {access_token}'}\n",
    "    data = 'fields *; '\n",
    "    r = requests.post('https://api.igdb.com/v4/player_perspectives' ,data=data ,  headers=headers)\n",
    "    player_perspectives = wrapper.api_request('player_perspectives', 'fields *;limit 500;')\n",
    "    x = json.loads(player_perspectives)\n",
    "    player_perspectives=pd.DataFrame(x)\n",
    "    return player_perspectives"
   ]
  },
  {
   "cell_type": "code",
   "execution_count": null,
   "id": "5492f9ed",
   "metadata": {},
   "outputs": [],
   "source": [
    "player_perspectives = get_player_perspectives()\n",
    "player_perspectives.shape"
   ]
  },
  {
   "cell_type": "code",
   "execution_count": null,
   "id": "f5ef1adb",
   "metadata": {},
   "outputs": [],
   "source": [
    "player_perspectives.head()"
   ]
  },
  {
   "cell_type": "code",
   "execution_count": null,
   "id": "8374ea7d",
   "metadata": {},
   "outputs": [],
   "source": [
    "player_perspectives = player_perspectives.drop(columns=['created_at','updated_at', 'url', 'checksum'])\n",
    "player_perspectives.head()\n"
   ]
  },
  {
   "cell_type": "code",
   "execution_count": null,
   "id": "e30fb8da",
   "metadata": {},
   "outputs": [],
   "source": [
    "player_perspectives_list = player_perspectives[['id' , 'name']].sort_values(by='id').reset_index(drop=True)\n",
    "player_perspectives_dict = player_perspectives.set_index('id').to_dict()['name']"
   ]
  },
  {
   "cell_type": "code",
   "execution_count": null,
   "id": "2b7313df",
   "metadata": {},
   "outputs": [],
   "source": [
    "def test_funct4(random_list):\n",
    "    if type(random_list) == list:\n",
    "        return [player_perspectives_dict[i] for i in random_list]\n",
    "    else:  \n",
    "        return  [\"Not available\"]"
   ]
  },
  {
   "cell_type": "code",
   "execution_count": null,
   "id": "26eb06a1",
   "metadata": {},
   "outputs": [],
   "source": [
    "game_library['player_perspectives'] = pd.DataFrame(game_library.player_perspectives.apply(test_funct4))\n",
    "game_library.head()"
   ]
  },
  {
   "cell_type": "code",
   "execution_count": null,
   "id": "b8c599ce",
   "metadata": {},
   "outputs": [],
   "source": [
    "df.columns"
   ]
  },
  {
   "cell_type": "markdown",
   "id": "5674dc22",
   "metadata": {},
   "source": [
    "### themes (use this)"
   ]
  },
  {
   "cell_type": "code",
   "execution_count": null,
   "id": "64b9b8c0",
   "metadata": {},
   "outputs": [],
   "source": [
    "def get_themes():\n",
    "    headers = {'Client-ID': f'{Client_ID}', 'Authorization': f'Bearer {access_token}'}\n",
    "    data = 'fields *; '\n",
    "    r = requests.post('https://api.igdb.com/v4/themes' ,data=data ,  headers=headers)\n",
    "    themes = wrapper.api_request('themes', 'fields *;limit 500;')\n",
    "    x = json.loads(themes)\n",
    "    themes=pd.DataFrame(x)\n",
    "    return themes"
   ]
  },
  {
   "cell_type": "code",
   "execution_count": null,
   "id": "fbc542e3",
   "metadata": {},
   "outputs": [],
   "source": [
    "themes = get_themes()\n",
    "themes.shape"
   ]
  },
  {
   "cell_type": "code",
   "execution_count": null,
   "id": "3f1f2a5e",
   "metadata": {},
   "outputs": [],
   "source": [
    "themes.head()"
   ]
  },
  {
   "cell_type": "code",
   "execution_count": null,
   "id": "c9e6f582",
   "metadata": {},
   "outputs": [],
   "source": [
    "themes_list = themes[['id' , 'name']].sort_values(by='id').reset_index(drop=True)\n",
    "themes_dict = themes.set_index('id').to_dict()['name']"
   ]
  },
  {
   "cell_type": "code",
   "execution_count": null,
   "id": "de238216",
   "metadata": {},
   "outputs": [],
   "source": [
    "def test_funct5(random_list):\n",
    "    if type(random_list) == list:\n",
    "        return [themes_dict[i] for i in random_list]\n",
    "    else:  \n",
    "        return  [\"Not available\"]"
   ]
  },
  {
   "cell_type": "code",
   "execution_count": null,
   "id": "3c758455",
   "metadata": {},
   "outputs": [],
   "source": [
    "game_library['themes'] = pd.DataFrame(game_library.themes.apply(test_funct5))\n",
    "game_library.head()"
   ]
  },
  {
   "cell_type": "markdown",
   "id": "fae5a2c8",
   "metadata": {},
   "source": [
    "### Genres (use this)"
   ]
  },
  {
   "cell_type": "code",
   "execution_count": null,
   "id": "112ec3b9",
   "metadata": {},
   "outputs": [],
   "source": [
    "# function that puts response list object into a dataframe for each page\n",
    "def get_genres(wrapper):\n",
    "    genres = pd.DataFrame()\n",
    "    for i in range (0, 409):\n",
    "        genre = wrapper.api_request('genres', 'fields *; limit 500;')\n",
    "        y = json.loads(genre)\n",
    "        results_df =pd.DataFrame(y)\n",
    "        genres = pd.concat([genres, results_df])\n",
    "    return genres"
   ]
  },
  {
   "cell_type": "code",
   "execution_count": null,
   "id": "e64bd411",
   "metadata": {},
   "outputs": [],
   "source": [
    "genres = get_genres(wrapper)\n",
    "genres.head()"
   ]
  },
  {
   "cell_type": "code",
   "execution_count": null,
   "id": "61aeab47",
   "metadata": {},
   "outputs": [],
   "source": [
    "genreslist = genres[['id' , 'slug']].sort_values(by='id').reset_index(drop=True)\n",
    "genres_dict = genreslist.set_index('id').to_dict()['slug']"
   ]
  },
  {
   "cell_type": "code",
   "execution_count": null,
   "id": "348f98f6",
   "metadata": {},
   "outputs": [],
   "source": [
    "genres_dict"
   ]
  },
  {
   "cell_type": "code",
   "execution_count": null,
   "id": "ff4478ed",
   "metadata": {},
   "outputs": [],
   "source": [
    "def test_functg(random_list):\n",
    "    if type(random_list) == list:\n",
    "        return [genres_dict[i] for i in random_list]\n",
    "    else:  \n",
    "        return  [\"Not available\"] "
   ]
  },
  {
   "cell_type": "code",
   "execution_count": null,
   "id": "27205df4",
   "metadata": {},
   "outputs": [],
   "source": [
    "game_library['genres'] = pd.DataFrame(game_library.genres.apply(test_functg))\n",
    "game_library.head()"
   ]
  },
  {
   "cell_type": "markdown",
   "id": "ff451797",
   "metadata": {},
   "source": [
    "## Game modes (use this)"
   ]
  },
  {
   "cell_type": "code",
   "execution_count": null,
   "id": "5dd06b60",
   "metadata": {},
   "outputs": [],
   "source": [
    "def get_game_modes():\n",
    "     headers = {'Client-ID': f'{Client_ID}', 'Authorization': f'Bearer {access_token}'}\n",
    "     data = 'fields *; limit 500;'\n",
    "     r = requests.post('https://api.igdb.com/v4/game_modes' ,data=data ,  headers=headers)\n",
    "     game_modes = wrapper.api_request('game_modes', 'fields *;limit 500;')\n",
    "     x = json.loads(game_modes)\n",
    "     game_modes =pd.DataFrame(x)\n",
    "     return game_modes"
   ]
  },
  {
   "cell_type": "code",
   "execution_count": null,
   "id": "9329bee0",
   "metadata": {},
   "outputs": [],
   "source": [
    "game_mode = get_game_modes()"
   ]
  },
  {
   "cell_type": "code",
   "execution_count": null,
   "id": "15dcfe70",
   "metadata": {},
   "outputs": [],
   "source": [
    "game_mode.head()"
   ]
  },
  {
   "cell_type": "code",
   "execution_count": null,
   "id": "0756008f",
   "metadata": {},
   "outputs": [],
   "source": [
    "modelist = game_mode[['id' , 'slug']].sort_values(by='id').reset_index(drop=True)\n",
    "mode_dict = modelist.set_index('id').to_dict()['slug']"
   ]
  },
  {
   "cell_type": "code",
   "execution_count": null,
   "id": "981af163",
   "metadata": {},
   "outputs": [],
   "source": [
    "def test_functm(random_list):\n",
    "    if type(random_list) == list:\n",
    "        return [mode_dict[i] for i in random_list]\n",
    "    else:  \n",
    "        return  [\"Not available\"]"
   ]
  },
  {
   "cell_type": "code",
   "execution_count": null,
   "id": "e6f86fe8",
   "metadata": {},
   "outputs": [],
   "source": [
    "game_library['game_modes'] = pd.DataFrame(game_library.game_modes.apply(test_functm))\n",
    "game_library.head()"
   ]
  },
  {
   "cell_type": "code",
   "execution_count": null,
   "id": "668b0bc4",
   "metadata": {},
   "outputs": [],
   "source": [
    "game_library.head()"
   ]
  },
  {
   "cell_type": "markdown",
   "id": "793d8286",
   "metadata": {},
   "source": [
    "## Game version features (use this)"
   ]
  },
  {
   "cell_type": "code",
   "execution_count": null,
   "id": "13649934",
   "metadata": {},
   "outputs": [],
   "source": [
    "def get_game_version_features(wrapper):\n",
    "    game_version_features = pd.DataFrame()\n",
    "    for i in range (0, 409):\n",
    "        a_ratings = wrapper.api_request('game_version_features', 'fields *; limit 500;' f'offset {i * 500};')\n",
    "        y = json.loads(a_ratings)\n",
    "        results_df =pd.DataFrame(y)\n",
    "        game_version_features = pd.concat([game_version_features, results_df])\n",
    "    return game_version_features"
   ]
  },
  {
   "cell_type": "code",
   "execution_count": null,
   "id": "5662cfca",
   "metadata": {
    "scrolled": true
   },
   "outputs": [],
   "source": [
    "game_version_features = get_game_version_features(wrapper)\n",
    "game_version_features.head()"
   ]
  },
  {
   "cell_type": "code",
   "execution_count": null,
   "id": "69af9df8",
   "metadata": {
    "scrolled": true
   },
   "outputs": [],
   "source": [
    "game_vf_df = game_version_features[['id','description', 'title']]\n",
    "game_vf_df.head()"
   ]
  },
  {
   "cell_type": "code",
   "execution_count": null,
   "id": "046a505b",
   "metadata": {},
   "outputs": [],
   "source": [
    "game_vf_df = game_vf_df.rename(columns={'description': 'version_description', 'title': 'title_version'})"
   ]
  },
  {
   "cell_type": "markdown",
   "id": "672e1025",
   "metadata": {},
   "source": [
    "## Game version feature values (use this)"
   ]
  },
  {
   "cell_type": "code",
   "execution_count": null,
   "id": "f54fbcdc",
   "metadata": {},
   "outputs": [],
   "source": [
    "def vf_values(wrapper):\n",
    "    vf_values= pd.DataFrame()\n",
    "    for i in range (0, 409):\n",
    "        gvf_values = wrapper.api_request('game_version_feature_values', 'fields *; limit 500;' f'offset {i * 500};')\n",
    "        y = json.loads(gvf_values)\n",
    "        results_df =pd.DataFrame(y)\n",
    "        vf_values = pd.concat([vf_values, results_df])\n",
    "    return vf_values"
   ]
  },
  {
   "cell_type": "code",
   "execution_count": null,
   "id": "3574a224",
   "metadata": {},
   "outputs": [],
   "source": [
    "gamevfv_df = vf_values(wrapper)\n",
    "gamevfv_df.head()"
   ]
  },
  {
   "cell_type": "code",
   "execution_count": null,
   "id": "b780488d",
   "metadata": {},
   "outputs": [],
   "source": [
    "gamevfv_df.head()"
   ]
  },
  {
   "cell_type": "code",
   "execution_count": null,
   "id": "8fb3078e",
   "metadata": {},
   "outputs": [],
   "source": [
    "gamevfv_df = gamevfv_df[['game','game_feature']]\n",
    "gamevfv_df.head()"
   ]
  },
  {
   "cell_type": "code",
   "execution_count": null,
   "id": "499926bb",
   "metadata": {},
   "outputs": [],
   "source": [
    "gamevfv_df = gamevfv_df.rename(columns={\"game_feature\": \"id\"})"
   ]
  },
  {
   "cell_type": "code",
   "execution_count": null,
   "id": "1d04ea92",
   "metadata": {},
   "outputs": [],
   "source": [
    "gamevfv_df = gamevfv_df.set_index('id')\n",
    "gamevfv_df.head()"
   ]
  },
  {
   "cell_type": "markdown",
   "id": "3d48d656",
   "metadata": {},
   "source": [
    "### Merging game feature version and game feature version values (use this)"
   ]
  },
  {
   "cell_type": "code",
   "execution_count": null,
   "id": "4f52e637",
   "metadata": {},
   "outputs": [],
   "source": [
    "results_df = pd.merge(gamevfv_df,  game_vf_df , how = 'left', on=\"id\")\n",
    "results_df.head()"
   ]
  },
  {
   "cell_type": "code",
   "execution_count": null,
   "id": "80f0ad5b",
   "metadata": {},
   "outputs": [],
   "source": [
    "results_df = results_df.rename(columns={'id': 'second','game': 'id' })\n",
    "results_df = results_df.set_index('id')\n",
    "results_df.head()"
   ]
  },
  {
   "cell_type": "code",
   "execution_count": null,
   "id": "07194b73",
   "metadata": {},
   "outputs": [],
   "source": [
    "#merging the to the main dataframe\n",
    "game_library = pd.merge(game_library, results_df, how = 'left', on=\"id\")\n",
    "game_library.head()"
   ]
  },
  {
   "cell_type": "code",
   "execution_count": null,
   "id": "ee30ce25",
   "metadata": {},
   "outputs": [],
   "source": [
    "game_library.info()"
   ]
  },
  {
   "cell_type": "markdown",
   "id": "07fa7048",
   "metadata": {},
   "source": [
    "## Multi player mode (use this)"
   ]
  },
  {
   "cell_type": "code",
   "execution_count": null,
   "id": "8cf2196f",
   "metadata": {},
   "outputs": [],
   "source": [
    "headers = {'Client-ID': f'{Client_ID}', 'Authorization': f'Bearer {access_token}'}\n",
    "data = 'fields *; limit 500;'\n",
    "r = requests.post('https://api.igdb.com/v4/multiplayer_modes' ,data=data ,  headers=headers)\n",
    "multiplayer_modes = wrapper.api_request('multiplayer_modes', 'fields *;limit 500;')\n",
    "x = json.loads(multiplayer_modes)\n",
    "multiplayer_modes =pd.DataFrame(x)"
   ]
  },
  {
   "cell_type": "code",
   "execution_count": null,
   "id": "2eb6cddc",
   "metadata": {},
   "outputs": [],
   "source": [
    "multiplayer_modes.head()"
   ]
  },
  {
   "cell_type": "code",
   "execution_count": null,
   "id": "1af368f1",
   "metadata": {},
   "outputs": [],
   "source": [
    "def multi_play(wrapper):\n",
    "    multi_play= pd.DataFrame()\n",
    "    for i in range (0, 409):\n",
    "        multi_values = wrapper.api_request('multiplayer_modes', 'fields *; limit 500;' f'offset {i * 500};')\n",
    "        y = json.loads(multi_values)\n",
    "        results_df =pd.DataFrame(y)\n",
    "        multi_play = pd.concat([multi_play, multiplayer_modes])\n",
    "    return multi_play"
   ]
  },
  {
   "cell_type": "code",
   "execution_count": null,
   "id": "df6e9d56",
   "metadata": {},
   "outputs": [],
   "source": [
    "multi_df = multi_play(wrapper)"
   ]
  },
  {
   "cell_type": "code",
   "execution_count": null,
   "id": "601ad006",
   "metadata": {},
   "outputs": [],
   "source": [
    "multi_df.head()"
   ]
  },
  {
   "cell_type": "code",
   "execution_count": null,
   "id": "381cf06d",
   "metadata": {},
   "outputs": [],
   "source": [
    "def test_functg(random_list):\n",
    "    if type(random_list) == list:\n",
    "        return [genres_dict[i] for i in random_list]\n",
    "    else:  \n",
    "        return  [\"Not available\"] "
   ]
  },
  {
   "cell_type": "code",
   "execution_count": null,
   "id": "ef3af5e9",
   "metadata": {},
   "outputs": [],
   "source": [
    "multi_df = multi_df.rename(columns={'game': 'id', 'id': 'second_id'})"
   ]
  },
  {
   "cell_type": "code",
   "execution_count": null,
   "id": "aecd5065",
   "metadata": {},
   "outputs": [],
   "source": [
    "multi_df = multi_df.set_index('id')"
   ]
  },
  {
   "cell_type": "code",
   "execution_count": null,
   "id": "a4f856fb",
   "metadata": {},
   "outputs": [],
   "source": [
    "game_library.columns"
   ]
  },
  {
   "cell_type": "code",
   "execution_count": null,
   "id": "d70c420b",
   "metadata": {},
   "outputs": [],
   "source": [
    "#marging this together with the main df\n",
    "game_library = pd.merge(game_library, multi_df, how = 'left', on=\"id\")\n",
    "game_library.head()"
   ]
  },
  {
   "cell_type": "markdown",
   "id": "8a581f26",
   "metadata": {},
   "source": [
    "### loop through genres list"
   ]
  },
  {
   "cell_type": "code",
   "execution_count": null,
   "id": "03169f56",
   "metadata": {},
   "outputs": [],
   "source": [
    "genres_dict"
   ]
  },
  {
   "cell_type": "code",
   "execution_count": null,
   "id": "0a6351d1",
   "metadata": {},
   "outputs": [],
   "source": [
    "items = ['point-and-click', 'fighting', 'shooter', 'music', 'platform', 'puzzle', 'racing', 'real-time-strategy-rts', 'role-playing-rpg', 'simulator', 'sport', 'strategy', 'turn-based-strategy-tbs', 'tactical', 'hack-and-slash-beat-em-up', 'quiz-trivia', 'pinball', 'adventure', 'indie', 'arcade', 'visual-novel', 'card-and-board-game', 'moba']\n",
    "\n",
    "def my_list(column, word):\n",
    "    if word in column:\n",
    "        return 1\n",
    "    else:\n",
    "        return 0"
   ]
  },
  {
   "cell_type": "code",
   "execution_count": null,
   "id": "8a624fdf",
   "metadata": {},
   "outputs": [],
   "source": [
    "for item in items:\n",
    "    game_library[item] = game_library['genres'].apply(my_list, word=item)"
   ]
  },
  {
   "cell_type": "code",
   "execution_count": null,
   "id": "2b5f37b7",
   "metadata": {},
   "outputs": [],
   "source": [
    "game_library.tail(20)"
   ]
  },
  {
   "cell_type": "code",
   "execution_count": null,
   "id": "9f1c319f",
   "metadata": {},
   "outputs": [],
   "source": []
  },
  {
   "cell_type": "code",
   "execution_count": null,
   "id": "5699969f",
   "metadata": {},
   "outputs": [],
   "source": []
  },
  {
   "cell_type": "markdown",
   "id": "779f9910",
   "metadata": {},
   "source": [
    "### Read the CSV for games "
   ]
  },
  {
   "cell_type": "code",
   "execution_count": null,
   "id": "9f99be74",
   "metadata": {},
   "outputs": [],
   "source": [
    "#pd.set_option('display.max_rows', 500)\n",
    "pd.set_option('display.max_columns', 500)\n",
    "pd.set_option('display.width', 1000)"
   ]
  },
  {
   "cell_type": "code",
   "execution_count": null,
   "id": "8d85023a",
   "metadata": {},
   "outputs": [],
   "source": [
    "game_library.head()"
   ]
  },
  {
   "cell_type": "code",
   "execution_count": null,
   "id": "a53a1d38",
   "metadata": {},
   "outputs": [],
   "source": [
    "game_library = game_library.drop(columns=['websites', 'created_at', 'updated_at', 'artworks', 'cover','screenshots', 'videos', 'checksum_x', 'alternative_names', 'rating_count', 'total_rating_count', 'version_parent', 'hypes', 'franchises', 'follows', 'aggregated_rating_count'])\n",
    "game_library.shape"
   ]
  },
  {
   "cell_type": "code",
   "execution_count": null,
   "id": "6d9c2ca1",
   "metadata": {},
   "outputs": [],
   "source": [
    "game_library.head()"
   ]
  },
  {
   "cell_type": "code",
   "execution_count": null,
   "id": "20b8f8ce",
   "metadata": {},
   "outputs": [],
   "source": [
    "game_library.rename(columns={'slug': 'lower_case_name', 'aggregated_rating': 'critic_rating'}, inplace=True)\n",
    "game_library.head()"
   ]
  },
  {
   "cell_type": "code",
   "execution_count": null,
   "id": "de391eb3",
   "metadata": {},
   "outputs": [],
   "source": []
  },
  {
   "cell_type": "markdown",
   "id": "0174c24d",
   "metadata": {},
   "source": [
    "### Dataframe with ratings"
   ]
  },
  {
   "cell_type": "code",
   "execution_count": null,
   "id": "606a120f",
   "metadata": {},
   "outputs": [],
   "source": [
    "df2 = game_library[game_library['rating'].notnull()]\n",
    "df2.head()"
   ]
  },
  {
   "cell_type": "code",
   "execution_count": null,
   "id": "1d4fc3a5",
   "metadata": {},
   "outputs": [],
   "source": [
    "df2.shape"
   ]
  },
  {
   "cell_type": "code",
   "execution_count": null,
   "id": "0b086e54",
   "metadata": {},
   "outputs": [],
   "source": [
    "df2.rating.isnull().sum()"
   ]
  },
  {
   "cell_type": "markdown",
   "id": "2386689a",
   "metadata": {},
   "source": [
    "### Dataframe with nulls in rating column "
   ]
  },
  {
   "cell_type": "code",
   "execution_count": null,
   "id": "72bbea6a",
   "metadata": {
    "scrolled": true
   },
   "outputs": [],
   "source": [
    "df3 = game_library[game_library['rating'].isnull()]\n",
    "df3.shape"
   ]
  },
  {
   "cell_type": "markdown",
   "id": "b7219d57",
   "metadata": {},
   "source": [
    "## Explore"
   ]
  },
  {
   "cell_type": "code",
   "execution_count": null,
   "id": "84ac9341",
   "metadata": {
    "scrolled": true
   },
   "outputs": [],
   "source": [
    "game_library.head(20)"
   ]
  },
  {
   "cell_type": "code",
   "execution_count": null,
   "id": "9626f33e",
   "metadata": {},
   "outputs": [],
   "source": [
    "game_library.player_perspectives.value_counts()"
   ]
  }
 ],
 "metadata": {
  "kernelspec": {
   "display_name": "Python 3 (ipykernel)",
   "language": "python",
   "name": "python3"
  },
  "language_info": {
   "codemirror_mode": {
    "name": "ipython",
    "version": 3
   },
   "file_extension": ".py",
   "mimetype": "text/x-python",
   "name": "python",
   "nbconvert_exporter": "python",
   "pygments_lexer": "ipython3",
   "version": "3.9.12"
  }
 },
 "nbformat": 4,
 "nbformat_minor": 5
}
