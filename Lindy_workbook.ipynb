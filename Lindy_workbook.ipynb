{
 "cells": [
  {
   "cell_type": "code",
   "execution_count": 1,
   "id": "63d38a8d",
   "metadata": {},
   "outputs": [],
   "source": [
    "import requests\n",
    "import env\n",
    "from requests.models import Request, Response\n",
    "from env import Client_ID\n",
    "import pandas as pd\n",
    "from igdb.igdbapi_pb2 import GameResult\n",
    "from typing import Dict, List, Optional, Union, cast\n",
    "import acquire\n",
    "import json"
   ]
  },
  {
   "cell_type": "markdown",
   "id": "bf67e381",
   "metadata": {},
   "source": [
    "### Connect to API and scrape the data needed\n",
    "#### get the access token and 200 response "
   ]
  },
  {
   "cell_type": "code",
   "execution_count": null,
   "id": "1420c871",
   "metadata": {},
   "outputs": [],
   "source": [
    "def get_api():   \n",
    "    url = env.get_db_url()\n",
    "    response = requests.post(url)\n",
    "    data = response.json()\n",
    "    access_token = data['access_token']\n",
    "    headers = {'Client-ID': f'{Client_ID}', 'Authorization': f'Bearer {access_token}'}\n",
    "    data = 'fields *;'\n",
    "    r = requests.post('https://api.igdb.com/v4/games', data=data, headers=headers)\n",
    "    return access_token, r"
   ]
  },
  {
   "cell_type": "code",
   "execution_count": 2,
   "id": "183a5d9d",
   "metadata": {},
   "outputs": [],
   "source": [
    "access_token = acquire.connect_api()"
   ]
  },
  {
   "cell_type": "code",
   "execution_count": null,
   "id": "c3dc537a",
   "metadata": {},
   "outputs": [],
   "source": [
    "access_token"
   ]
  },
  {
   "cell_type": "code",
   "execution_count": 3,
   "id": "cc8abec3",
   "metadata": {},
   "outputs": [],
   "source": [
    "tf = acquire.connect_to_games()"
   ]
  },
  {
   "cell_type": "code",
   "execution_count": null,
   "id": "0256f5d0",
   "metadata": {},
   "outputs": [],
   "source": [
    "tf"
   ]
  },
  {
   "cell_type": "code",
   "execution_count": 4,
   "id": "d9e89b1a",
   "metadata": {},
   "outputs": [],
   "source": [
    "wrapper = acquire.run_wrapper()"
   ]
  },
  {
   "cell_type": "code",
   "execution_count": null,
   "id": "4dd0594c",
   "metadata": {},
   "outputs": [],
   "source": [
    "wrapper"
   ]
  },
  {
   "cell_type": "code",
   "execution_count": 5,
   "id": "163de8b5",
   "metadata": {},
   "outputs": [
    {
     "data": {
      "text/html": [
       "<div>\n",
       "<style scoped>\n",
       "    .dataframe tbody tr th:only-of-type {\n",
       "        vertical-align: middle;\n",
       "    }\n",
       "\n",
       "    .dataframe tbody tr th {\n",
       "        vertical-align: top;\n",
       "    }\n",
       "\n",
       "    .dataframe thead th {\n",
       "        text-align: right;\n",
       "    }\n",
       "</style>\n",
       "<table border=\"1\" class=\"dataframe\">\n",
       "  <thead>\n",
       "    <tr style=\"text-align: right;\">\n",
       "      <th></th>\n",
       "      <th>id</th>\n",
       "      <th>category</th>\n",
       "      <th>created_at</th>\n",
       "      <th>external_games</th>\n",
       "      <th>first_release_date</th>\n",
       "      <th>genres</th>\n",
       "      <th>name</th>\n",
       "      <th>platforms</th>\n",
       "      <th>release_dates</th>\n",
       "      <th>similar_games</th>\n",
       "      <th>...</th>\n",
       "      <th>aggregated_rating_count</th>\n",
       "      <th>multiplayer_modes</th>\n",
       "      <th>dlcs</th>\n",
       "      <th>ports</th>\n",
       "      <th>expansions</th>\n",
       "      <th>expanded_games</th>\n",
       "      <th>remakes</th>\n",
       "      <th>remasters</th>\n",
       "      <th>forks</th>\n",
       "      <th>standalone_expansions</th>\n",
       "    </tr>\n",
       "  </thead>\n",
       "  <tbody>\n",
       "    <tr>\n",
       "      <th>0</th>\n",
       "      <td>40104</td>\n",
       "      <td>0</td>\n",
       "      <td>1498435200</td>\n",
       "      <td>[20127, 1988884]</td>\n",
       "      <td>5.364576e+08</td>\n",
       "      <td>[5]</td>\n",
       "      <td>Dogou Souken</td>\n",
       "      <td>[52]</td>\n",
       "      <td>[91007]</td>\n",
       "      <td>[12364, 27270, 43367, 103281, 103292, 103298, ...</td>\n",
       "      <td>...</td>\n",
       "      <td>NaN</td>\n",
       "      <td>NaN</td>\n",
       "      <td>NaN</td>\n",
       "      <td>NaN</td>\n",
       "      <td>NaN</td>\n",
       "      <td>NaN</td>\n",
       "      <td>NaN</td>\n",
       "      <td>NaN</td>\n",
       "      <td>NaN</td>\n",
       "      <td>NaN</td>\n",
       "    </tr>\n",
       "    <tr>\n",
       "      <th>1</th>\n",
       "      <td>85031</td>\n",
       "      <td>0</td>\n",
       "      <td>1517392813</td>\n",
       "      <td>[216805, 1969751, 2005770]</td>\n",
       "      <td>1.404346e+09</td>\n",
       "      <td>[9]</td>\n",
       "      <td>City Mysteries</td>\n",
       "      <td>[37]</td>\n",
       "      <td>[138333]</td>\n",
       "      <td>[10603, 19222, 25905, 41349, 86974, 87507, 885...</td>\n",
       "      <td>...</td>\n",
       "      <td>NaN</td>\n",
       "      <td>NaN</td>\n",
       "      <td>NaN</td>\n",
       "      <td>NaN</td>\n",
       "      <td>NaN</td>\n",
       "      <td>NaN</td>\n",
       "      <td>NaN</td>\n",
       "      <td>NaN</td>\n",
       "      <td>NaN</td>\n",
       "      <td>NaN</td>\n",
       "    </tr>\n",
       "    <tr>\n",
       "      <th>2</th>\n",
       "      <td>99234</td>\n",
       "      <td>0</td>\n",
       "      <td>1524843905</td>\n",
       "      <td>[603512, 1857496, 1917109]</td>\n",
       "      <td>1.527120e+09</td>\n",
       "      <td>[31, 32]</td>\n",
       "      <td>Sword of the Black Stone</td>\n",
       "      <td>[6]</td>\n",
       "      <td>[188385]</td>\n",
       "      <td>[25646, 29783, 68271, 80916, 96217, 105269, 10...</td>\n",
       "      <td>...</td>\n",
       "      <td>NaN</td>\n",
       "      <td>NaN</td>\n",
       "      <td>NaN</td>\n",
       "      <td>NaN</td>\n",
       "      <td>NaN</td>\n",
       "      <td>NaN</td>\n",
       "      <td>NaN</td>\n",
       "      <td>NaN</td>\n",
       "      <td>NaN</td>\n",
       "      <td>NaN</td>\n",
       "    </tr>\n",
       "    <tr>\n",
       "      <th>3</th>\n",
       "      <td>148930</td>\n",
       "      <td>0</td>\n",
       "      <td>1621959514</td>\n",
       "      <td>[2052375, 2057300]</td>\n",
       "      <td>NaN</td>\n",
       "      <td>[13, 15, 31, 32]</td>\n",
       "      <td>Bok-Bok: A Chicken Dating Sim</td>\n",
       "      <td>NaN</td>\n",
       "      <td>NaN</td>\n",
       "      <td>[25311, 26145, 28277, 33603, 51577, 65827, 791...</td>\n",
       "      <td>...</td>\n",
       "      <td>NaN</td>\n",
       "      <td>NaN</td>\n",
       "      <td>NaN</td>\n",
       "      <td>NaN</td>\n",
       "      <td>NaN</td>\n",
       "      <td>NaN</td>\n",
       "      <td>NaN</td>\n",
       "      <td>NaN</td>\n",
       "      <td>NaN</td>\n",
       "      <td>NaN</td>\n",
       "    </tr>\n",
       "    <tr>\n",
       "      <th>4</th>\n",
       "      <td>139538</td>\n",
       "      <td>0</td>\n",
       "      <td>1602368467</td>\n",
       "      <td>[1966278]</td>\n",
       "      <td>1.525910e+09</td>\n",
       "      <td>[32]</td>\n",
       "      <td>sun machine</td>\n",
       "      <td>[82]</td>\n",
       "      <td>[213594]</td>\n",
       "      <td>[11666, 13200, 13660, 17130, 25311, 28070, 348...</td>\n",
       "      <td>...</td>\n",
       "      <td>NaN</td>\n",
       "      <td>NaN</td>\n",
       "      <td>NaN</td>\n",
       "      <td>NaN</td>\n",
       "      <td>NaN</td>\n",
       "      <td>NaN</td>\n",
       "      <td>NaN</td>\n",
       "      <td>NaN</td>\n",
       "      <td>NaN</td>\n",
       "      <td>NaN</td>\n",
       "    </tr>\n",
       "  </tbody>\n",
       "</table>\n",
       "<p>5 rows × 55 columns</p>\n",
       "</div>"
      ],
      "text/plain": [
       "       id  category  created_at              external_games  \\\n",
       "0   40104         0  1498435200            [20127, 1988884]   \n",
       "1   85031         0  1517392813  [216805, 1969751, 2005770]   \n",
       "2   99234         0  1524843905  [603512, 1857496, 1917109]   \n",
       "3  148930         0  1621959514          [2052375, 2057300]   \n",
       "4  139538         0  1602368467                   [1966278]   \n",
       "\n",
       "   first_release_date            genres                           name  \\\n",
       "0        5.364576e+08               [5]                   Dogou Souken   \n",
       "1        1.404346e+09               [9]                 City Mysteries   \n",
       "2        1.527120e+09          [31, 32]       Sword of the Black Stone   \n",
       "3                 NaN  [13, 15, 31, 32]  Bok-Bok: A Chicken Dating Sim   \n",
       "4        1.525910e+09              [32]                    sun machine   \n",
       "\n",
       "  platforms release_dates                                      similar_games  \\\n",
       "0      [52]       [91007]  [12364, 27270, 43367, 103281, 103292, 103298, ...   \n",
       "1      [37]      [138333]  [10603, 19222, 25905, 41349, 86974, 87507, 885...   \n",
       "2       [6]      [188385]  [25646, 29783, 68271, 80916, 96217, 105269, 10...   \n",
       "3       NaN           NaN  [25311, 26145, 28277, 33603, 51577, 65827, 791...   \n",
       "4      [82]      [213594]  [11666, 13200, 13660, 17130, 25311, 28070, 348...   \n",
       "\n",
       "   ... aggregated_rating_count multiplayer_modes dlcs  ports expansions  \\\n",
       "0  ...                     NaN               NaN  NaN    NaN        NaN   \n",
       "1  ...                     NaN               NaN  NaN    NaN        NaN   \n",
       "2  ...                     NaN               NaN  NaN    NaN        NaN   \n",
       "3  ...                     NaN               NaN  NaN    NaN        NaN   \n",
       "4  ...                     NaN               NaN  NaN    NaN        NaN   \n",
       "\n",
       "  expanded_games remakes  remasters forks standalone_expansions  \n",
       "0            NaN     NaN        NaN   NaN                   NaN  \n",
       "1            NaN     NaN        NaN   NaN                   NaN  \n",
       "2            NaN     NaN        NaN   NaN                   NaN  \n",
       "3            NaN     NaN        NaN   NaN                   NaN  \n",
       "4            NaN     NaN        NaN   NaN                   NaN  \n",
       "\n",
       "[5 rows x 55 columns]"
      ]
     },
     "execution_count": 5,
     "metadata": {},
     "output_type": "execute_result"
    }
   ],
   "source": [
    "df = acquire.get_game_library(wrapper)\n",
    "df.head()"
   ]
  },
  {
   "cell_type": "code",
   "execution_count": null,
   "id": "04215443",
   "metadata": {},
   "outputs": [],
   "source": [
    "df.platforms.tail(10).values[0]"
   ]
  },
  {
   "cell_type": "markdown",
   "id": "49345583",
   "metadata": {},
   "source": [
    "## scraping endpoints\n",
    "### scrape the end points of each category "
   ]
  },
  {
   "cell_type": "code",
   "execution_count": null,
   "id": "612570cf",
   "metadata": {},
   "outputs": [],
   "source": [
    "access_token\n"
   ]
  },
  {
   "cell_type": "code",
   "execution_count": null,
   "id": "f01fa573",
   "metadata": {},
   "outputs": [],
   "source": [
    "df.head()"
   ]
  },
  {
   "cell_type": "markdown",
   "id": "940d8f5a",
   "metadata": {},
   "source": [
    "### platform_families"
   ]
  },
  {
   "cell_type": "code",
   "execution_count": 21,
   "id": "480ad7f8",
   "metadata": {},
   "outputs": [],
   "source": [
    "def get_platform_families():\n",
    "    headers = {'Client-ID': f'{Client_ID}', 'Authorization': f'Bearer {access_token}'}\n",
    "    data = 'fields *; '\n",
    "    r = requests.post('https://api.igdb.com/v4/platform_families' ,data=data ,  headers=headers)\n",
    "    platform_families = wrapper.api_request('platform_families', 'fields *;limit 500;')\n",
    "    x = json.loads(platform_families)\n",
    "    platform_families =pd.DataFrame(x)\n",
    "    return platform_families"
   ]
  },
  {
   "cell_type": "code",
   "execution_count": 22,
   "id": "09a93b3e",
   "metadata": {},
   "outputs": [
    {
     "data": {
      "text/html": [
       "<div>\n",
       "<style scoped>\n",
       "    .dataframe tbody tr th:only-of-type {\n",
       "        vertical-align: middle;\n",
       "    }\n",
       "\n",
       "    .dataframe tbody tr th {\n",
       "        vertical-align: top;\n",
       "    }\n",
       "\n",
       "    .dataframe thead th {\n",
       "        text-align: right;\n",
       "    }\n",
       "</style>\n",
       "<table border=\"1\" class=\"dataframe\">\n",
       "  <thead>\n",
       "    <tr style=\"text-align: right;\">\n",
       "      <th></th>\n",
       "      <th>id</th>\n",
       "      <th>name</th>\n",
       "      <th>slug</th>\n",
       "      <th>checksum</th>\n",
       "    </tr>\n",
       "  </thead>\n",
       "  <tbody>\n",
       "    <tr>\n",
       "      <th>0</th>\n",
       "      <td>5</td>\n",
       "      <td>Nintendo</td>\n",
       "      <td>nintendo</td>\n",
       "      <td>398e5c87-f7db-6265-6da6-433441385208</td>\n",
       "    </tr>\n",
       "    <tr>\n",
       "      <th>1</th>\n",
       "      <td>4</td>\n",
       "      <td>Linux</td>\n",
       "      <td>linux</td>\n",
       "      <td>be8b89fa-823c-790a-1d5a-7e74315c1b27</td>\n",
       "    </tr>\n",
       "    <tr>\n",
       "      <th>2</th>\n",
       "      <td>2</td>\n",
       "      <td>Xbox</td>\n",
       "      <td>xbox</td>\n",
       "      <td>5bb9bcec-4aa7-45b8-129b-a6f88932942e</td>\n",
       "    </tr>\n",
       "    <tr>\n",
       "      <th>3</th>\n",
       "      <td>3</td>\n",
       "      <td>Sega</td>\n",
       "      <td>sega</td>\n",
       "      <td>bd1a9cc4-3632-33b0-ff4b-feab8cd15001</td>\n",
       "    </tr>\n",
       "    <tr>\n",
       "      <th>4</th>\n",
       "      <td>1</td>\n",
       "      <td>PlayStation</td>\n",
       "      <td>playstation</td>\n",
       "      <td>eadc0208-7972-9364-88b9-d2a9de75a998</td>\n",
       "    </tr>\n",
       "  </tbody>\n",
       "</table>\n",
       "</div>"
      ],
      "text/plain": [
       "   id         name         slug                              checksum\n",
       "0   5     Nintendo     nintendo  398e5c87-f7db-6265-6da6-433441385208\n",
       "1   4        Linux        linux  be8b89fa-823c-790a-1d5a-7e74315c1b27\n",
       "2   2         Xbox         xbox  5bb9bcec-4aa7-45b8-129b-a6f88932942e\n",
       "3   3         Sega         sega  bd1a9cc4-3632-33b0-ff4b-feab8cd15001\n",
       "4   1  PlayStation  playstation  eadc0208-7972-9364-88b9-d2a9de75a998"
      ]
     },
     "execution_count": 22,
     "metadata": {},
     "output_type": "execute_result"
    }
   ],
   "source": [
    "platform_families = get_platform_families()\n",
    "platform_families.head()"
   ]
  },
  {
   "cell_type": "code",
   "execution_count": null,
   "id": "5e3c367d",
   "metadata": {},
   "outputs": [],
   "source": [
    "df.columns"
   ]
  },
  {
   "cell_type": "markdown",
   "id": "801e0e50",
   "metadata": {},
   "source": [
    "### platform_version_release_dates"
   ]
  },
  {
   "cell_type": "code",
   "execution_count": 19,
   "id": "9f053392",
   "metadata": {},
   "outputs": [],
   "source": [
    "def get_platform_version_release():\n",
    "    headers = {'Client-ID': f'{Client_ID}', 'Authorization': f'Bearer {access_token}'}\n",
    "    data = 'fields *; '\n",
    "    r = requests.post('https://api.igdb.com/v4/platform_version_release_dates' ,data=data ,  headers=headers)\n",
    "    platform_version_release_dates = wrapper.api_request('platform_version_release_dates', 'fields *;limit 500;')\n",
    "    x = json.loads(platform_version_release_dates)\n",
    "    platform_version_release_dates =pd.DataFrame(x)\n",
    "    return platform_version_release_dates"
   ]
  },
  {
   "cell_type": "code",
   "execution_count": 20,
   "id": "8638b0bb",
   "metadata": {
    "scrolled": true
   },
   "outputs": [
    {
     "data": {
      "text/html": [
       "<div>\n",
       "<style scoped>\n",
       "    .dataframe tbody tr th:only-of-type {\n",
       "        vertical-align: middle;\n",
       "    }\n",
       "\n",
       "    .dataframe tbody tr th {\n",
       "        vertical-align: top;\n",
       "    }\n",
       "\n",
       "    .dataframe thead th {\n",
       "        text-align: right;\n",
       "    }\n",
       "</style>\n",
       "<table border=\"1\" class=\"dataframe\">\n",
       "  <thead>\n",
       "    <tr style=\"text-align: right;\">\n",
       "      <th></th>\n",
       "      <th>id</th>\n",
       "      <th>category</th>\n",
       "      <th>date</th>\n",
       "      <th>human</th>\n",
       "      <th>m</th>\n",
       "      <th>region</th>\n",
       "      <th>y</th>\n",
       "      <th>checksum</th>\n",
       "      <th>updated_at</th>\n",
       "    </tr>\n",
       "  </thead>\n",
       "  <tbody>\n",
       "    <tr>\n",
       "      <th>0</th>\n",
       "      <td>555</td>\n",
       "      <td>2</td>\n",
       "      <td>567907200</td>\n",
       "      <td>1987</td>\n",
       "      <td>12</td>\n",
       "      <td>8</td>\n",
       "      <td>1987</td>\n",
       "      <td>186c07ec-0d93-dc0f-6c4a-5fdb5a6138fa</td>\n",
       "      <td>NaN</td>\n",
       "    </tr>\n",
       "    <tr>\n",
       "      <th>1</th>\n",
       "      <td>338</td>\n",
       "      <td>0</td>\n",
       "      <td>1189555200</td>\n",
       "      <td>Sep 12, 2007</td>\n",
       "      <td>9</td>\n",
       "      <td>3</td>\n",
       "      <td>2007</td>\n",
       "      <td>15e5b0aa-5bb6-ef30-ee85-0ef94cb3581f</td>\n",
       "      <td>NaN</td>\n",
       "    </tr>\n",
       "    <tr>\n",
       "      <th>2</th>\n",
       "      <td>334</td>\n",
       "      <td>0</td>\n",
       "      <td>1125532800</td>\n",
       "      <td>Sep 01, 2005</td>\n",
       "      <td>9</td>\n",
       "      <td>7</td>\n",
       "      <td>2005</td>\n",
       "      <td>a4c921d5-1894-9a40-d20f-05959cd69a38</td>\n",
       "      <td>NaN</td>\n",
       "    </tr>\n",
       "    <tr>\n",
       "      <th>3</th>\n",
       "      <td>331</td>\n",
       "      <td>0</td>\n",
       "      <td>1415923200</td>\n",
       "      <td>Nov 14, 2014</td>\n",
       "      <td>11</td>\n",
       "      <td>3</td>\n",
       "      <td>2014</td>\n",
       "      <td>3ebb8dc8-b8fa-f11a-b729-228b9dac35c4</td>\n",
       "      <td>NaN</td>\n",
       "    </tr>\n",
       "    <tr>\n",
       "      <th>4</th>\n",
       "      <td>333</td>\n",
       "      <td>0</td>\n",
       "      <td>1389830400</td>\n",
       "      <td>Jan 16, 2014</td>\n",
       "      <td>1</td>\n",
       "      <td>7</td>\n",
       "      <td>2014</td>\n",
       "      <td>a15ecea5-cb71-916f-5bec-66ad7f571b19</td>\n",
       "      <td>NaN</td>\n",
       "    </tr>\n",
       "    <tr>\n",
       "      <th>...</th>\n",
       "      <td>...</td>\n",
       "      <td>...</td>\n",
       "      <td>...</td>\n",
       "      <td>...</td>\n",
       "      <td>...</td>\n",
       "      <td>...</td>\n",
       "      <td>...</td>\n",
       "      <td>...</td>\n",
       "      <td>...</td>\n",
       "    </tr>\n",
       "    <tr>\n",
       "      <th>393</th>\n",
       "      <td>661</td>\n",
       "      <td>2</td>\n",
       "      <td>725760000</td>\n",
       "      <td>1992</td>\n",
       "      <td>12</td>\n",
       "      <td>8</td>\n",
       "      <td>1992</td>\n",
       "      <td>d6cb796b-0679-d99b-30d8-decdf573187d</td>\n",
       "      <td>1.660320e+09</td>\n",
       "    </tr>\n",
       "    <tr>\n",
       "      <th>394</th>\n",
       "      <td>662</td>\n",
       "      <td>0</td>\n",
       "      <td>945043200</td>\n",
       "      <td>Dec 13, 1999</td>\n",
       "      <td>12</td>\n",
       "      <td>5</td>\n",
       "      <td>1999</td>\n",
       "      <td>6fa54af0-85f8-088f-294c-d95dbbbb2a70</td>\n",
       "      <td>1.660322e+09</td>\n",
       "    </tr>\n",
       "    <tr>\n",
       "      <th>395</th>\n",
       "      <td>663</td>\n",
       "      <td>2</td>\n",
       "      <td>851990400</td>\n",
       "      <td>1996</td>\n",
       "      <td>12</td>\n",
       "      <td>2</td>\n",
       "      <td>1996</td>\n",
       "      <td>86254855-ee73-231a-6fab-9317893d2b30</td>\n",
       "      <td>1.660323e+09</td>\n",
       "    </tr>\n",
       "    <tr>\n",
       "      <th>396</th>\n",
       "      <td>671</td>\n",
       "      <td>0</td>\n",
       "      <td>1456272000</td>\n",
       "      <td>Feb 24, 2016</td>\n",
       "      <td>2</td>\n",
       "      <td>8</td>\n",
       "      <td>2016</td>\n",
       "      <td>3a26664a-ee1c-7d8d-58ad-24fcac7cb66f</td>\n",
       "      <td>1.663687e+09</td>\n",
       "    </tr>\n",
       "    <tr>\n",
       "      <th>397</th>\n",
       "      <td>672</td>\n",
       "      <td>0</td>\n",
       "      <td>1091577600</td>\n",
       "      <td>Aug 04, 2004</td>\n",
       "      <td>8</td>\n",
       "      <td>8</td>\n",
       "      <td>2004</td>\n",
       "      <td>0970510a-7b04-e064-5bf2-bd1dbe7fc48d</td>\n",
       "      <td>1.663689e+09</td>\n",
       "    </tr>\n",
       "  </tbody>\n",
       "</table>\n",
       "<p>398 rows × 9 columns</p>\n",
       "</div>"
      ],
      "text/plain": [
       "      id  category        date         human   m  region     y  \\\n",
       "0    555         2   567907200          1987  12       8  1987   \n",
       "1    338         0  1189555200  Sep 12, 2007   9       3  2007   \n",
       "2    334         0  1125532800  Sep 01, 2005   9       7  2005   \n",
       "3    331         0  1415923200  Nov 14, 2014  11       3  2014   \n",
       "4    333         0  1389830400  Jan 16, 2014   1       7  2014   \n",
       "..   ...       ...         ...           ...  ..     ...   ...   \n",
       "393  661         2   725760000          1992  12       8  1992   \n",
       "394  662         0   945043200  Dec 13, 1999  12       5  1999   \n",
       "395  663         2   851990400          1996  12       2  1996   \n",
       "396  671         0  1456272000  Feb 24, 2016   2       8  2016   \n",
       "397  672         0  1091577600  Aug 04, 2004   8       8  2004   \n",
       "\n",
       "                                 checksum    updated_at  \n",
       "0    186c07ec-0d93-dc0f-6c4a-5fdb5a6138fa           NaN  \n",
       "1    15e5b0aa-5bb6-ef30-ee85-0ef94cb3581f           NaN  \n",
       "2    a4c921d5-1894-9a40-d20f-05959cd69a38           NaN  \n",
       "3    3ebb8dc8-b8fa-f11a-b729-228b9dac35c4           NaN  \n",
       "4    a15ecea5-cb71-916f-5bec-66ad7f571b19           NaN  \n",
       "..                                    ...           ...  \n",
       "393  d6cb796b-0679-d99b-30d8-decdf573187d  1.660320e+09  \n",
       "394  6fa54af0-85f8-088f-294c-d95dbbbb2a70  1.660322e+09  \n",
       "395  86254855-ee73-231a-6fab-9317893d2b30  1.660323e+09  \n",
       "396  3a26664a-ee1c-7d8d-58ad-24fcac7cb66f  1.663687e+09  \n",
       "397  0970510a-7b04-e064-5bf2-bd1dbe7fc48d  1.663689e+09  \n",
       "\n",
       "[398 rows x 9 columns]"
      ]
     },
     "execution_count": 20,
     "metadata": {},
     "output_type": "execute_result"
    }
   ],
   "source": [
    "platform_version_release_dates = get_platform_version_release()\n",
    "platform_version_release_dates"
   ]
  },
  {
   "cell_type": "code",
   "execution_count": null,
   "id": "48ddee80",
   "metadata": {},
   "outputs": [],
   "source": [
    "# drop columns not needed\n",
    "platform_version_release_dates = platform_version_release_dates.drop(columns=['category', 'date', 'm', 'y', 'region', 'updated_at', 'checksum', 'updated_at'])\n",
    "platform_version_release_dates.head()\n"
   ]
  },
  {
   "cell_type": "code",
   "execution_count": null,
   "id": "9dbf26c5",
   "metadata": {},
   "outputs": [],
   "source": [
    "df.head()"
   ]
  },
  {
   "cell_type": "code",
   "execution_count": null,
   "id": "40d1df72",
   "metadata": {},
   "outputs": [],
   "source": [
    "version_dates_dict[9] = 'not_available'\n",
    "version_dates_dict[384] = 'not_available'\n",
    "version_dates_dict[386] = 'not_available'\n"
   ]
  },
  {
   "cell_type": "code",
   "execution_count": null,
   "id": "325a44b8",
   "metadata": {},
   "outputs": [],
   "source": [
    "version_dates_list = platform_version_release_dates[['game' , 'human']].sort_values(by='game').reset_index(drop=True)\n",
    "version_dates_dict = platform_version_release_dates.set_index('game').to_dict()['human']"
   ]
  },
  {
   "cell_type": "code",
   "execution_count": null,
   "id": "357a4d64",
   "metadata": {},
   "outputs": [],
   "source": [
    "def test_funct3(random_list):\n",
    "    if type(random_list) == list:\n",
    "        return [version_dates_dict[i] for i in random_list]\n",
    "    else:  \n",
    "        return \"Not available\""
   ]
  },
  {
   "cell_type": "code",
   "execution_count": null,
   "id": "52ac7d76",
   "metadata": {},
   "outputs": [],
   "source": [
    "platforms.set_index('Locality', inplace=True)\n",
    "data.set_index('Locality', inplace=True)\n"
   ]
  },
  {
   "cell_type": "code",
   "execution_count": null,
   "id": "4840d94b",
   "metadata": {},
   "outputs": [],
   "source": [
    "df['release_dates'] = df.release_dates.apply(test_funct3)\n",
    "df.head()"
   ]
  },
  {
   "cell_type": "code",
   "execution_count": null,
   "id": "8332c3a9",
   "metadata": {},
   "outputs": [],
   "source": [
    "all_release_dates = pd.merge(release_dates, platform_version_release_dates, how = 'inner', on=\"human\")"
   ]
  },
  {
   "cell_type": "code",
   "execution_count": null,
   "id": "39147abf",
   "metadata": {},
   "outputs": [],
   "source": [
    "#pd.set_option('display.max_rows', 500)\n",
    "pd.set_option('display.max_columns', 500)\n",
    "pd.set_option('display.width', 1000)\n",
    "df.columns"
   ]
  },
  {
   "cell_type": "markdown",
   "id": "b5730138",
   "metadata": {},
   "source": [
    "### platform_version_companies"
   ]
  },
  {
   "cell_type": "code",
   "execution_count": 15,
   "id": "00855d5a",
   "metadata": {},
   "outputs": [],
   "source": [
    "def get_platform_version_companies():\n",
    "    headers = {'Client-ID': f'{Client_ID}', 'Authorization': f'Bearer {access_token}'}\n",
    "    data = 'fields *; '\n",
    "    r = requests.post('https://api.igdb.com/v4/platform_version_companies' ,data=data ,  headers=headers)\n",
    "    platform_version_companies = wrapper.api_request('platform_version_companies', 'fields *;limit 500;')\n",
    "    x = json.loads(platform_version_companies)\n",
    "    platform_version_companies =pd.DataFrame(x)\n",
    "    return platform_version_companies"
   ]
  },
  {
   "cell_type": "code",
   "execution_count": 16,
   "id": "4454496d",
   "metadata": {},
   "outputs": [
    {
     "data": {
      "text/html": [
       "<div>\n",
       "<style scoped>\n",
       "    .dataframe tbody tr th:only-of-type {\n",
       "        vertical-align: middle;\n",
       "    }\n",
       "\n",
       "    .dataframe tbody tr th {\n",
       "        vertical-align: top;\n",
       "    }\n",
       "\n",
       "    .dataframe thead th {\n",
       "        text-align: right;\n",
       "    }\n",
       "</style>\n",
       "<table border=\"1\" class=\"dataframe\">\n",
       "  <thead>\n",
       "    <tr style=\"text-align: right;\">\n",
       "      <th></th>\n",
       "      <th>id</th>\n",
       "      <th>company</th>\n",
       "      <th>developer</th>\n",
       "      <th>manufacturer</th>\n",
       "      <th>checksum</th>\n",
       "      <th>comment</th>\n",
       "    </tr>\n",
       "  </thead>\n",
       "  <tbody>\n",
       "    <tr>\n",
       "      <th>0</th>\n",
       "      <td>286</td>\n",
       "      <td>11986</td>\n",
       "      <td>True</td>\n",
       "      <td>True</td>\n",
       "      <td>e5035f31-713a-1036-2968-dd353b74db3b</td>\n",
       "      <td>NaN</td>\n",
       "    </tr>\n",
       "    <tr>\n",
       "      <th>1</th>\n",
       "      <td>283</td>\n",
       "      <td>10922</td>\n",
       "      <td>False</td>\n",
       "      <td>True</td>\n",
       "      <td>6cd3e57c-2757-cc07-94a6-35ff7085e4c9</td>\n",
       "      <td>NaN</td>\n",
       "    </tr>\n",
       "    <tr>\n",
       "      <th>2</th>\n",
       "      <td>282</td>\n",
       "      <td>14429</td>\n",
       "      <td>False</td>\n",
       "      <td>True</td>\n",
       "      <td>172b6f24-a49c-c304-6fb3-78f6bf120a19</td>\n",
       "      <td>NaN</td>\n",
       "    </tr>\n",
       "    <tr>\n",
       "      <th>3</th>\n",
       "      <td>281</td>\n",
       "      <td>12385</td>\n",
       "      <td>True</td>\n",
       "      <td>False</td>\n",
       "      <td>d6051460-e7dc-4e77-80ca-e5df378cd304</td>\n",
       "      <td>NaN</td>\n",
       "    </tr>\n",
       "    <tr>\n",
       "      <th>4</th>\n",
       "      <td>280</td>\n",
       "      <td>19831</td>\n",
       "      <td>True</td>\n",
       "      <td>True</td>\n",
       "      <td>2f509e1b-75d2-36db-4129-4bf89d50343b</td>\n",
       "      <td>NaN</td>\n",
       "    </tr>\n",
       "  </tbody>\n",
       "</table>\n",
       "</div>"
      ],
      "text/plain": [
       "    id  company  developer  manufacturer  \\\n",
       "0  286    11986       True          True   \n",
       "1  283    10922      False          True   \n",
       "2  282    14429      False          True   \n",
       "3  281    12385       True         False   \n",
       "4  280    19831       True          True   \n",
       "\n",
       "                               checksum comment  \n",
       "0  e5035f31-713a-1036-2968-dd353b74db3b     NaN  \n",
       "1  6cd3e57c-2757-cc07-94a6-35ff7085e4c9     NaN  \n",
       "2  172b6f24-a49c-c304-6fb3-78f6bf120a19     NaN  \n",
       "3  d6051460-e7dc-4e77-80ca-e5df378cd304     NaN  \n",
       "4  2f509e1b-75d2-36db-4129-4bf89d50343b     NaN  "
      ]
     },
     "execution_count": 16,
     "metadata": {},
     "output_type": "execute_result"
    }
   ],
   "source": [
    "platform_version_companies=get_platform_version_companies()\n",
    "platform_version_companies.head()"
   ]
  },
  {
   "cell_type": "markdown",
   "id": "ffe3da23",
   "metadata": {},
   "source": [
    "### platforms"
   ]
  },
  {
   "cell_type": "code",
   "execution_count": 6,
   "id": "e8243f89",
   "metadata": {},
   "outputs": [],
   "source": [
    "def get_platforms():\n",
    "    headers = {'Client-ID': f'{Client_ID}', 'Authorization': f'Bearer {access_token}'}\n",
    "    data = 'fields *; '\n",
    "    r = requests.post('https://api.igdb.com/v4/platforms' ,data=data ,  headers=headers)\n",
    "    platforms = wrapper.api_request('platforms', 'fields *;limit 500;')\n",
    "    x = json.loads(platforms)\n",
    "    platforms =pd.DataFrame(x)\n",
    "    return platforms"
   ]
  },
  {
   "cell_type": "code",
   "execution_count": 7,
   "id": "f4f3726a",
   "metadata": {},
   "outputs": [
    {
     "data": {
      "text/plain": [
       "(197, 16)"
      ]
     },
     "execution_count": 7,
     "metadata": {},
     "output_type": "execute_result"
    }
   ],
   "source": [
    "platform = get_platforms()\n",
    "platform.shape"
   ]
  },
  {
   "cell_type": "code",
   "execution_count": 8,
   "id": "584efa2d",
   "metadata": {},
   "outputs": [
    {
     "data": {
      "text/html": [
       "<div>\n",
       "<style scoped>\n",
       "    .dataframe tbody tr th:only-of-type {\n",
       "        vertical-align: middle;\n",
       "    }\n",
       "\n",
       "    .dataframe tbody tr th {\n",
       "        vertical-align: top;\n",
       "    }\n",
       "\n",
       "    .dataframe thead th {\n",
       "        text-align: right;\n",
       "    }\n",
       "</style>\n",
       "<table border=\"1\" class=\"dataframe\">\n",
       "  <thead>\n",
       "    <tr style=\"text-align: right;\">\n",
       "      <th></th>\n",
       "      <th>id</th>\n",
       "      <th>alternative_name</th>\n",
       "      <th>category</th>\n",
       "      <th>created_at</th>\n",
       "      <th>name</th>\n",
       "      <th>platform_logo</th>\n",
       "      <th>slug</th>\n",
       "      <th>updated_at</th>\n",
       "      <th>url</th>\n",
       "      <th>versions</th>\n",
       "      <th>websites</th>\n",
       "      <th>checksum</th>\n",
       "      <th>generation</th>\n",
       "      <th>platform_family</th>\n",
       "      <th>abbreviation</th>\n",
       "      <th>summary</th>\n",
       "    </tr>\n",
       "  </thead>\n",
       "  <tbody>\n",
       "    <tr>\n",
       "      <th>0</th>\n",
       "      <td>158</td>\n",
       "      <td>Commodore Dynamic Total Vision</td>\n",
       "      <td>6.0</td>\n",
       "      <td>1510012800</td>\n",
       "      <td>Commodore CDTV</td>\n",
       "      <td>292.0</td>\n",
       "      <td>commodore-cdtv</td>\n",
       "      <td>1522972800</td>\n",
       "      <td>https://www.igdb.com/platforms/commodore-cdtv</td>\n",
       "      <td>[223]</td>\n",
       "      <td>[26]</td>\n",
       "      <td>5d48648e-283c-e2df-df7d-6d3cbc7e0a58</td>\n",
       "      <td>NaN</td>\n",
       "      <td>NaN</td>\n",
       "      <td>NaN</td>\n",
       "      <td>NaN</td>\n",
       "    </tr>\n",
       "    <tr>\n",
       "      <th>1</th>\n",
       "      <td>339</td>\n",
       "      <td>Kids Computer Pico</td>\n",
       "      <td>1.0</td>\n",
       "      <td>1595808000</td>\n",
       "      <td>Sega Pico</td>\n",
       "      <td>NaN</td>\n",
       "      <td>sega-pico</td>\n",
       "      <td>1595808000</td>\n",
       "      <td>https://www.igdb.com/platforms/sega-pico</td>\n",
       "      <td>[456]</td>\n",
       "      <td>NaN</td>\n",
       "      <td>6e867a5b-a071-fc7b-945b-a0622f64a4bc</td>\n",
       "      <td>4.0</td>\n",
       "      <td>3.0</td>\n",
       "      <td>NaN</td>\n",
       "      <td>NaN</td>\n",
       "    </tr>\n",
       "    <tr>\n",
       "      <th>2</th>\n",
       "      <td>8</td>\n",
       "      <td>PS2</td>\n",
       "      <td>1.0</td>\n",
       "      <td>1297555200</td>\n",
       "      <td>PlayStation 2</td>\n",
       "      <td>254.0</td>\n",
       "      <td>ps2</td>\n",
       "      <td>1414972800</td>\n",
       "      <td>https://www.igdb.com/platforms/ps2</td>\n",
       "      <td>[58, 114]</td>\n",
       "      <td>NaN</td>\n",
       "      <td>be3e025c-d4ed-b795-443c-a8cb55fbfe17</td>\n",
       "      <td>6.0</td>\n",
       "      <td>1.0</td>\n",
       "      <td>PS2</td>\n",
       "      <td>NaN</td>\n",
       "    </tr>\n",
       "    <tr>\n",
       "      <th>3</th>\n",
       "      <td>39</td>\n",
       "      <td>NaN</td>\n",
       "      <td>4.0</td>\n",
       "      <td>1317686400</td>\n",
       "      <td>iOS</td>\n",
       "      <td>248.0</td>\n",
       "      <td>ios</td>\n",
       "      <td>1391644800</td>\n",
       "      <td>https://www.igdb.com/platforms/ios</td>\n",
       "      <td>[43]</td>\n",
       "      <td>NaN</td>\n",
       "      <td>fefe4a2b-7c90-0e89-e811-902ea1cf2b58</td>\n",
       "      <td>NaN</td>\n",
       "      <td>NaN</td>\n",
       "      <td>iOS</td>\n",
       "      <td>NaN</td>\n",
       "    </tr>\n",
       "    <tr>\n",
       "      <th>4</th>\n",
       "      <td>94</td>\n",
       "      <td>NaN</td>\n",
       "      <td>6.0</td>\n",
       "      <td>1414195200</td>\n",
       "      <td>Commodore Plus/4</td>\n",
       "      <td>310.0</td>\n",
       "      <td>c-plus-4</td>\n",
       "      <td>1468454400</td>\n",
       "      <td>https://www.igdb.com/platforms/c-plus-4</td>\n",
       "      <td>[108]</td>\n",
       "      <td>NaN</td>\n",
       "      <td>ea138789-6bbe-bcca-dff5-7e20e762f65a</td>\n",
       "      <td>NaN</td>\n",
       "      <td>NaN</td>\n",
       "      <td>C+4</td>\n",
       "      <td>NaN</td>\n",
       "    </tr>\n",
       "  </tbody>\n",
       "</table>\n",
       "</div>"
      ],
      "text/plain": [
       "    id                alternative_name  category  created_at  \\\n",
       "0  158  Commodore Dynamic Total Vision       6.0  1510012800   \n",
       "1  339              Kids Computer Pico       1.0  1595808000   \n",
       "2    8                             PS2       1.0  1297555200   \n",
       "3   39                             NaN       4.0  1317686400   \n",
       "4   94                             NaN       6.0  1414195200   \n",
       "\n",
       "               name  platform_logo            slug  updated_at  \\\n",
       "0    Commodore CDTV          292.0  commodore-cdtv  1522972800   \n",
       "1         Sega Pico            NaN       sega-pico  1595808000   \n",
       "2     PlayStation 2          254.0             ps2  1414972800   \n",
       "3               iOS          248.0             ios  1391644800   \n",
       "4  Commodore Plus/4          310.0        c-plus-4  1468454400   \n",
       "\n",
       "                                             url   versions websites  \\\n",
       "0  https://www.igdb.com/platforms/commodore-cdtv      [223]     [26]   \n",
       "1       https://www.igdb.com/platforms/sega-pico      [456]      NaN   \n",
       "2             https://www.igdb.com/platforms/ps2  [58, 114]      NaN   \n",
       "3             https://www.igdb.com/platforms/ios       [43]      NaN   \n",
       "4        https://www.igdb.com/platforms/c-plus-4      [108]      NaN   \n",
       "\n",
       "                               checksum  generation  platform_family  \\\n",
       "0  5d48648e-283c-e2df-df7d-6d3cbc7e0a58         NaN              NaN   \n",
       "1  6e867a5b-a071-fc7b-945b-a0622f64a4bc         4.0              3.0   \n",
       "2  be3e025c-d4ed-b795-443c-a8cb55fbfe17         6.0              1.0   \n",
       "3  fefe4a2b-7c90-0e89-e811-902ea1cf2b58         NaN              NaN   \n",
       "4  ea138789-6bbe-bcca-dff5-7e20e762f65a         NaN              NaN   \n",
       "\n",
       "  abbreviation summary  \n",
       "0          NaN     NaN  \n",
       "1          NaN     NaN  \n",
       "2          PS2     NaN  \n",
       "3          iOS     NaN  \n",
       "4          C+4     NaN  "
      ]
     },
     "execution_count": 8,
     "metadata": {},
     "output_type": "execute_result"
    }
   ],
   "source": [
    "platform.head()"
   ]
  },
  {
   "cell_type": "code",
   "execution_count": null,
   "id": "1e7b6e0a",
   "metadata": {},
   "outputs": [],
   "source": [
    "# see if there is a number in id that matches the big df\n",
    "platform.loc[platform['id'] == 5]"
   ]
  },
  {
   "cell_type": "code",
   "execution_count": null,
   "id": "d6d51949",
   "metadata": {},
   "outputs": [],
   "source": [
    "platform = platform.drop(columns=['alternative_name', 'category', 'created_at', 'platform_logo', 'updated_at', 'url', 'checksum', 'versions', 'websites', 'generation', 'platform_family', 'abbreviation', 'summary'])\n",
    "platform.head()\n"
   ]
  },
  {
   "cell_type": "code",
   "execution_count": null,
   "id": "572be505",
   "metadata": {},
   "outputs": [],
   "source": [
    "# looking at the dictionary\n",
    "print(df.get(92, \"Not found\"))"
   ]
  },
  {
   "cell_type": "code",
   "execution_count": null,
   "id": "320b4ec6",
   "metadata": {
    "scrolled": true
   },
   "outputs": [],
   "source": [
    "df.platforms.iloc[2]"
   ]
  },
  {
   "cell_type": "code",
   "execution_count": 9,
   "id": "07670c35",
   "metadata": {},
   "outputs": [],
   "source": [
    "platformlist = platform[['id' , 'name']].sort_values(by='id').reset_index(drop=True)\n"
   ]
  },
  {
   "cell_type": "code",
   "execution_count": 10,
   "id": "021c07e6",
   "metadata": {},
   "outputs": [],
   "source": [
    "platform_dict = platformlist.set_index('id').to_dict()['name']"
   ]
  },
  {
   "cell_type": "code",
   "execution_count": 13,
   "id": "c4ebdf26",
   "metadata": {},
   "outputs": [],
   "source": [
    "platform_dict[92] = 'not_available'"
   ]
  },
  {
   "cell_type": "code",
   "execution_count": null,
   "id": "5dd69316",
   "metadata": {},
   "outputs": [],
   "source": [
    "platform_dict['0'] = 'not_available'"
   ]
  },
  {
   "cell_type": "code",
   "execution_count": null,
   "id": "02cca845",
   "metadata": {},
   "outputs": [],
   "source": [
    "import numpy as np\n",
    "platform.head()"
   ]
  },
  {
   "cell_type": "code",
   "execution_count": null,
   "id": "8322089b",
   "metadata": {},
   "outputs": [],
   "source": [
    "platform_dict"
   ]
  },
  {
   "cell_type": "code",
   "execution_count": 11,
   "id": "9871c122",
   "metadata": {},
   "outputs": [],
   "source": [
    "def test_funct(random_list):\n",
    "    if type(random_list) == list:\n",
    "        return [platform_dict[i] for i in random_list]\n",
    "    else:  \n",
    "        return \"Not available\""
   ]
  },
  {
   "cell_type": "code",
   "execution_count": null,
   "id": "5887a1e6",
   "metadata": {},
   "outputs": [],
   "source": [
    "print(platform.get('id', \"Not found\"))"
   ]
  },
  {
   "cell_type": "code",
   "execution_count": null,
   "id": "b85bf2c4",
   "metadata": {},
   "outputs": [],
   "source": [
    "df.platforms.info(10)"
   ]
  },
  {
   "cell_type": "code",
   "execution_count": 14,
   "id": "1a0a7c2d",
   "metadata": {
    "scrolled": true
   },
   "outputs": [
    {
     "data": {
      "text/html": [
       "<div>\n",
       "<style scoped>\n",
       "    .dataframe tbody tr th:only-of-type {\n",
       "        vertical-align: middle;\n",
       "    }\n",
       "\n",
       "    .dataframe tbody tr th {\n",
       "        vertical-align: top;\n",
       "    }\n",
       "\n",
       "    .dataframe thead th {\n",
       "        text-align: right;\n",
       "    }\n",
       "</style>\n",
       "<table border=\"1\" class=\"dataframe\">\n",
       "  <thead>\n",
       "    <tr style=\"text-align: right;\">\n",
       "      <th></th>\n",
       "      <th>id</th>\n",
       "      <th>category</th>\n",
       "      <th>created_at</th>\n",
       "      <th>external_games</th>\n",
       "      <th>first_release_date</th>\n",
       "      <th>genres</th>\n",
       "      <th>name</th>\n",
       "      <th>platforms</th>\n",
       "      <th>release_dates</th>\n",
       "      <th>similar_games</th>\n",
       "      <th>...</th>\n",
       "      <th>aggregated_rating_count</th>\n",
       "      <th>multiplayer_modes</th>\n",
       "      <th>dlcs</th>\n",
       "      <th>ports</th>\n",
       "      <th>expansions</th>\n",
       "      <th>expanded_games</th>\n",
       "      <th>remakes</th>\n",
       "      <th>remasters</th>\n",
       "      <th>forks</th>\n",
       "      <th>standalone_expansions</th>\n",
       "    </tr>\n",
       "  </thead>\n",
       "  <tbody>\n",
       "    <tr>\n",
       "      <th>0</th>\n",
       "      <td>40104</td>\n",
       "      <td>0</td>\n",
       "      <td>1498435200</td>\n",
       "      <td>[20127, 1988884]</td>\n",
       "      <td>5.364576e+08</td>\n",
       "      <td>[5]</td>\n",
       "      <td>Dogou Souken</td>\n",
       "      <td>[Arcade]</td>\n",
       "      <td>[91007]</td>\n",
       "      <td>[12364, 27270, 43367, 103281, 103292, 103298, ...</td>\n",
       "      <td>...</td>\n",
       "      <td>NaN</td>\n",
       "      <td>NaN</td>\n",
       "      <td>NaN</td>\n",
       "      <td>NaN</td>\n",
       "      <td>NaN</td>\n",
       "      <td>NaN</td>\n",
       "      <td>NaN</td>\n",
       "      <td>NaN</td>\n",
       "      <td>NaN</td>\n",
       "      <td>NaN</td>\n",
       "    </tr>\n",
       "    <tr>\n",
       "      <th>1</th>\n",
       "      <td>85031</td>\n",
       "      <td>0</td>\n",
       "      <td>1517392813</td>\n",
       "      <td>[216805, 1969751, 2005770]</td>\n",
       "      <td>1.404346e+09</td>\n",
       "      <td>[9]</td>\n",
       "      <td>City Mysteries</td>\n",
       "      <td>[Nintendo 3DS]</td>\n",
       "      <td>[138333]</td>\n",
       "      <td>[10603, 19222, 25905, 41349, 86974, 87507, 885...</td>\n",
       "      <td>...</td>\n",
       "      <td>NaN</td>\n",
       "      <td>NaN</td>\n",
       "      <td>NaN</td>\n",
       "      <td>NaN</td>\n",
       "      <td>NaN</td>\n",
       "      <td>NaN</td>\n",
       "      <td>NaN</td>\n",
       "      <td>NaN</td>\n",
       "      <td>NaN</td>\n",
       "      <td>NaN</td>\n",
       "    </tr>\n",
       "    <tr>\n",
       "      <th>2</th>\n",
       "      <td>99234</td>\n",
       "      <td>0</td>\n",
       "      <td>1524843905</td>\n",
       "      <td>[603512, 1857496, 1917109]</td>\n",
       "      <td>1.527120e+09</td>\n",
       "      <td>[31, 32]</td>\n",
       "      <td>Sword of the Black Stone</td>\n",
       "      <td>[PC (Microsoft Windows)]</td>\n",
       "      <td>[188385]</td>\n",
       "      <td>[25646, 29783, 68271, 80916, 96217, 105269, 10...</td>\n",
       "      <td>...</td>\n",
       "      <td>NaN</td>\n",
       "      <td>NaN</td>\n",
       "      <td>NaN</td>\n",
       "      <td>NaN</td>\n",
       "      <td>NaN</td>\n",
       "      <td>NaN</td>\n",
       "      <td>NaN</td>\n",
       "      <td>NaN</td>\n",
       "      <td>NaN</td>\n",
       "      <td>NaN</td>\n",
       "    </tr>\n",
       "    <tr>\n",
       "      <th>3</th>\n",
       "      <td>148930</td>\n",
       "      <td>0</td>\n",
       "      <td>1621959514</td>\n",
       "      <td>[2052375, 2057300]</td>\n",
       "      <td>NaN</td>\n",
       "      <td>[13, 15, 31, 32]</td>\n",
       "      <td>Bok-Bok: A Chicken Dating Sim</td>\n",
       "      <td>Not available</td>\n",
       "      <td>NaN</td>\n",
       "      <td>[25311, 26145, 28277, 33603, 51577, 65827, 791...</td>\n",
       "      <td>...</td>\n",
       "      <td>NaN</td>\n",
       "      <td>NaN</td>\n",
       "      <td>NaN</td>\n",
       "      <td>NaN</td>\n",
       "      <td>NaN</td>\n",
       "      <td>NaN</td>\n",
       "      <td>NaN</td>\n",
       "      <td>NaN</td>\n",
       "      <td>NaN</td>\n",
       "      <td>NaN</td>\n",
       "    </tr>\n",
       "    <tr>\n",
       "      <th>4</th>\n",
       "      <td>139538</td>\n",
       "      <td>0</td>\n",
       "      <td>1602368467</td>\n",
       "      <td>[1966278]</td>\n",
       "      <td>1.525910e+09</td>\n",
       "      <td>[32]</td>\n",
       "      <td>sun machine</td>\n",
       "      <td>[Web browser]</td>\n",
       "      <td>[213594]</td>\n",
       "      <td>[11666, 13200, 13660, 17130, 25311, 28070, 348...</td>\n",
       "      <td>...</td>\n",
       "      <td>NaN</td>\n",
       "      <td>NaN</td>\n",
       "      <td>NaN</td>\n",
       "      <td>NaN</td>\n",
       "      <td>NaN</td>\n",
       "      <td>NaN</td>\n",
       "      <td>NaN</td>\n",
       "      <td>NaN</td>\n",
       "      <td>NaN</td>\n",
       "      <td>NaN</td>\n",
       "    </tr>\n",
       "  </tbody>\n",
       "</table>\n",
       "<p>5 rows × 55 columns</p>\n",
       "</div>"
      ],
      "text/plain": [
       "       id  category  created_at              external_games  \\\n",
       "0   40104         0  1498435200            [20127, 1988884]   \n",
       "1   85031         0  1517392813  [216805, 1969751, 2005770]   \n",
       "2   99234         0  1524843905  [603512, 1857496, 1917109]   \n",
       "3  148930         0  1621959514          [2052375, 2057300]   \n",
       "4  139538         0  1602368467                   [1966278]   \n",
       "\n",
       "   first_release_date            genres                           name  \\\n",
       "0        5.364576e+08               [5]                   Dogou Souken   \n",
       "1        1.404346e+09               [9]                 City Mysteries   \n",
       "2        1.527120e+09          [31, 32]       Sword of the Black Stone   \n",
       "3                 NaN  [13, 15, 31, 32]  Bok-Bok: A Chicken Dating Sim   \n",
       "4        1.525910e+09              [32]                    sun machine   \n",
       "\n",
       "                  platforms release_dates  \\\n",
       "0                  [Arcade]       [91007]   \n",
       "1            [Nintendo 3DS]      [138333]   \n",
       "2  [PC (Microsoft Windows)]      [188385]   \n",
       "3             Not available           NaN   \n",
       "4             [Web browser]      [213594]   \n",
       "\n",
       "                                       similar_games  ...  \\\n",
       "0  [12364, 27270, 43367, 103281, 103292, 103298, ...  ...   \n",
       "1  [10603, 19222, 25905, 41349, 86974, 87507, 885...  ...   \n",
       "2  [25646, 29783, 68271, 80916, 96217, 105269, 10...  ...   \n",
       "3  [25311, 26145, 28277, 33603, 51577, 65827, 791...  ...   \n",
       "4  [11666, 13200, 13660, 17130, 25311, 28070, 348...  ...   \n",
       "\n",
       "  aggregated_rating_count multiplayer_modes dlcs  ports expansions  \\\n",
       "0                     NaN               NaN  NaN    NaN        NaN   \n",
       "1                     NaN               NaN  NaN    NaN        NaN   \n",
       "2                     NaN               NaN  NaN    NaN        NaN   \n",
       "3                     NaN               NaN  NaN    NaN        NaN   \n",
       "4                     NaN               NaN  NaN    NaN        NaN   \n",
       "\n",
       "  expanded_games remakes  remasters forks standalone_expansions  \n",
       "0            NaN     NaN        NaN   NaN                   NaN  \n",
       "1            NaN     NaN        NaN   NaN                   NaN  \n",
       "2            NaN     NaN        NaN   NaN                   NaN  \n",
       "3            NaN     NaN        NaN   NaN                   NaN  \n",
       "4            NaN     NaN        NaN   NaN                   NaN  \n",
       "\n",
       "[5 rows x 55 columns]"
      ]
     },
     "execution_count": 14,
     "metadata": {},
     "output_type": "execute_result"
    }
   ],
   "source": [
    "df['platforms'] = df.platforms.apply(test_funct)\n",
    "df.head()"
   ]
  },
  {
   "cell_type": "code",
   "execution_count": null,
   "id": "28be8e23",
   "metadata": {
    "scrolled": true
   },
   "outputs": [],
   "source": [
    "df.loc[df['platforms'] == '3ds']"
   ]
  },
  {
   "cell_type": "code",
   "execution_count": null,
   "id": "f71920ed",
   "metadata": {},
   "outputs": [],
   "source": [
    "df.loc[df['platforms'].notnull()]"
   ]
  },
  {
   "cell_type": "markdown",
   "id": "92d979ee",
   "metadata": {},
   "source": [
    "### release_dates"
   ]
  },
  {
   "cell_type": "code",
   "execution_count": 17,
   "id": "3771fc6e",
   "metadata": {},
   "outputs": [],
   "source": [
    "def get_release_dates():\n",
    "    headers = {'Client-ID': f'{Client_ID}', 'Authorization': f'Bearer {access_token}'}\n",
    "    data = 'fields *; '\n",
    "    r = requests.post('https://api.igdb.com/v4/release_dates' ,data=data ,  headers=headers)\n",
    "    release_dates = wrapper.api_request('release_dates', 'fields *;limit 500;')\n",
    "    x = json.loads(release_dates)\n",
    "    release_dates =pd.DataFrame(x)\n",
    "    return release_dates"
   ]
  },
  {
   "cell_type": "code",
   "execution_count": 18,
   "id": "6f01e265",
   "metadata": {},
   "outputs": [
    {
     "data": {
      "text/plain": [
       "(500, 12)"
      ]
     },
     "execution_count": 18,
     "metadata": {},
     "output_type": "execute_result"
    }
   ],
   "source": [
    "release_dates = get_release_dates()\n",
    "release_dates.shape"
   ]
  },
  {
   "cell_type": "code",
   "execution_count": null,
   "id": "8bf1cdc5",
   "metadata": {},
   "outputs": [],
   "source": [
    "release_dates = release_dates.drop(columns=['category', 'date', 'm', 'region', 'updated_at', 'y', 'checksum', 'created_at', 'platform'])\n",
    "release_dates.head()"
   ]
  },
  {
   "cell_type": "code",
   "execution_count": null,
   "id": "f3e07adb",
   "metadata": {},
   "outputs": [],
   "source": [
    "release_dates"
   ]
  },
  {
   "cell_type": "code",
   "execution_count": null,
   "id": "865748c1",
   "metadata": {},
   "outputs": [],
   "source": [
    "# add to dictionary\n",
    "release_dict[91007] = \"not-available\"\n",
    "release_dict[138333] = \"not-available\"\n",
    "release_dict[188385] = \"not-available\"\n",
    "release_dict[213594] = \"not-available\"\n",
    "release_dict[77755] = \"not-available\"\n"
   ]
  },
  {
   "cell_type": "code",
   "execution_count": null,
   "id": "a3a5ba45",
   "metadata": {},
   "outputs": [],
   "source": [
    "releaselist = release_dates[['game' , 'human']].sort_values(by='game').reset_index(drop=True)\n",
    "release_dict = releaselist.set_index('game').to_dict()['human']"
   ]
  },
  {
   "cell_type": "code",
   "execution_count": null,
   "id": "4cd38565",
   "metadata": {},
   "outputs": [],
   "source": [
    "release_dates.head()"
   ]
  },
  {
   "cell_type": "code",
   "execution_count": null,
   "id": "d42ffccc",
   "metadata": {},
   "outputs": [],
   "source": [
    "def test_funct2(random_list):\n",
    "    if type(random_list) == list:\n",
    "        return [release_dict[i] for i in random_list]\n",
    "    else:  \n",
    "        return \"Not available\""
   ]
  },
  {
   "cell_type": "code",
   "execution_count": null,
   "id": "509980b9",
   "metadata": {},
   "outputs": [],
   "source": [
    "release_dict"
   ]
  },
  {
   "cell_type": "code",
   "execution_count": null,
   "id": "562b1fc6",
   "metadata": {},
   "outputs": [],
   "source": [
    "df.release_dates.head()"
   ]
  },
  {
   "cell_type": "code",
   "execution_count": null,
   "id": "8ef4b3f7",
   "metadata": {},
   "outputs": [],
   "source": [
    "df['release_dates'] = pd.DataFrame(df.release_dates.apply(test_funct2))\n",
    "df"
   ]
  },
  {
   "cell_type": "code",
   "execution_count": null,
   "id": "9c8296bc",
   "metadata": {},
   "outputs": [],
   "source": [
    "release_dict"
   ]
  },
  {
   "cell_type": "code",
   "execution_count": null,
   "id": "0d439c65",
   "metadata": {},
   "outputs": [],
   "source": [
    "# add 0 and description to dictionary\n",
    "release_dict[\"0\"] = \"not-available\""
   ]
  },
  {
   "cell_type": "markdown",
   "id": "64677d8c",
   "metadata": {},
   "source": [
    "### platform_versions"
   ]
  },
  {
   "cell_type": "code",
   "execution_count": null,
   "id": "c0631a48",
   "metadata": {},
   "outputs": [],
   "source": [
    "def get_platform_versions():\n",
    "    headers = {'Client-ID': f'{Client_ID}', 'Authorization': f'Bearer {access_token}'}\n",
    "    data = 'fields *; '\n",
    "    r = requests.post('https://api.igdb.com/v4/platform_versions' ,data=data ,  headers=headers)\n",
    "    platform_versions = wrapper.api_request('platform_versions', 'fields *;limit 500;')\n",
    "    x = json.loads(platform_versions)\n",
    "    platform_versions=pd.DataFrame(x)\n",
    "    return platform_versions"
   ]
  },
  {
   "cell_type": "code",
   "execution_count": null,
   "id": "20ae0c48",
   "metadata": {},
   "outputs": [],
   "source": [
    "platform_versions = get_platform_versions()\n",
    "platform_versions.shape"
   ]
  },
  {
   "cell_type": "code",
   "execution_count": null,
   "id": "7bd2ab20",
   "metadata": {},
   "outputs": [],
   "source": [
    "platform_versions.head()"
   ]
  },
  {
   "cell_type": "code",
   "execution_count": null,
   "id": "14f01ce5",
   "metadata": {},
   "outputs": [],
   "source": [
    "df.columns"
   ]
  },
  {
   "cell_type": "markdown",
   "id": "4ba4cdb7",
   "metadata": {},
   "source": [
    "### player_perspectives"
   ]
  },
  {
   "cell_type": "code",
   "execution_count": null,
   "id": "5960748a",
   "metadata": {},
   "outputs": [],
   "source": [
    "def get_player_perspectives():\n",
    "    headers = {'Client-ID': f'{Client_ID}', 'Authorization': f'Bearer {access_token}'}\n",
    "    data = 'fields *; '\n",
    "    r = requests.post('https://api.igdb.com/v4/player_perspectives' ,data=data ,  headers=headers)\n",
    "    player_perspectives = wrapper.api_request('player_perspectives', 'fields *;limit 500;')\n",
    "    x = json.loads(player_perspectives)\n",
    "    player_perspectives=pd.DataFrame(x)\n",
    "    return player_perspectives"
   ]
  },
  {
   "cell_type": "code",
   "execution_count": null,
   "id": "9f0b2dca",
   "metadata": {},
   "outputs": [],
   "source": [
    "player_perspectives = get_player_perspectives()\n",
    "player_perspectives.shape"
   ]
  },
  {
   "cell_type": "code",
   "execution_count": null,
   "id": "35a59e55",
   "metadata": {},
   "outputs": [],
   "source": [
    "player_perspectives.head()"
   ]
  },
  {
   "cell_type": "code",
   "execution_count": null,
   "id": "77b18a13",
   "metadata": {},
   "outputs": [],
   "source": [
    "player_perspectives = player_perspectives.drop(columns=['created_at','updated_at', 'url', 'checksum'])\n",
    "player_perspectives.head()\n"
   ]
  },
  {
   "cell_type": "code",
   "execution_count": null,
   "id": "fa1c061e",
   "metadata": {},
   "outputs": [],
   "source": [
    "player_perspectives_list = player_perspectives[['id' , 'name']].sort_values(by='id').reset_index(drop=True)\n",
    "player_perspectives_dict = player_perspectives.set_index('id').to_dict()['name']"
   ]
  },
  {
   "cell_type": "code",
   "execution_count": null,
   "id": "d7dd37ed",
   "metadata": {},
   "outputs": [],
   "source": [
    "def test_funct4(random_list):\n",
    "    if type(random_list) == list:\n",
    "        return [player_perspectives_dict[i] for i in random_list]\n",
    "    else:  \n",
    "        return \"Not available\""
   ]
  },
  {
   "cell_type": "code",
   "execution_count": null,
   "id": "8fb5a6c9",
   "metadata": {},
   "outputs": [],
   "source": [
    "df['player_perspectives'] = pd.DataFrame(df.player_perspectives.apply(test_funct4))\n",
    "df"
   ]
  },
  {
   "cell_type": "code",
   "execution_count": null,
   "id": "3d7adaeb",
   "metadata": {},
   "outputs": [],
   "source": [
    "df.columns"
   ]
  },
  {
   "cell_type": "markdown",
   "id": "ac13255a",
   "metadata": {},
   "source": [
    "### themes"
   ]
  },
  {
   "cell_type": "code",
   "execution_count": null,
   "id": "1fab632b",
   "metadata": {},
   "outputs": [],
   "source": [
    "def get_themes():\n",
    "    headers = {'Client-ID': f'{Client_ID}', 'Authorization': f'Bearer {access_token}'}\n",
    "    data = 'fields *; '\n",
    "    r = requests.post('https://api.igdb.com/v4/themes' ,data=data ,  headers=headers)\n",
    "    themes = wrapper.api_request('themes', 'fields *;limit 500;')\n",
    "    x = json.loads(themes)\n",
    "    themes=pd.DataFrame(x)\n",
    "    return themes"
   ]
  },
  {
   "cell_type": "code",
   "execution_count": null,
   "id": "37a58a73",
   "metadata": {},
   "outputs": [],
   "source": [
    "themes = get_themes()\n",
    "themes.shape"
   ]
  },
  {
   "cell_type": "code",
   "execution_count": null,
   "id": "e547bf91",
   "metadata": {},
   "outputs": [],
   "source": [
    "themes.head()"
   ]
  },
  {
   "cell_type": "code",
   "execution_count": null,
   "id": "aa7d0fda",
   "metadata": {},
   "outputs": [],
   "source": [
    "themes_list = themes[['id' , 'name']].sort_values(by='id').reset_index(drop=True)\n",
    "themes_dict = themes.set_index('id').to_dict()['name']"
   ]
  },
  {
   "cell_type": "code",
   "execution_count": null,
   "id": "e5b73995",
   "metadata": {},
   "outputs": [],
   "source": [
    "def test_funct5(random_list):\n",
    "    if type(random_list) == list:\n",
    "        return [themes_dict[i] for i in random_list]\n",
    "    else:  \n",
    "        return \"Not available\""
   ]
  },
  {
   "cell_type": "code",
   "execution_count": null,
   "id": "14c81e07",
   "metadata": {},
   "outputs": [],
   "source": [
    "df['themes'] = pd.DataFrame(df.themes.apply(test_funct5))\n",
    "df"
   ]
  },
  {
   "cell_type": "markdown",
   "id": "a44ab84c",
   "metadata": {},
   "source": [
    "### Read the CSV for games "
   ]
  },
  {
   "cell_type": "code",
   "execution_count": null,
   "id": "22671df0",
   "metadata": {
    "scrolled": true
   },
   "outputs": [],
   "source": [
    "df = pd.read_csv('games.csv', index_col='Unnamed: 0')\n",
    "df.head()"
   ]
  },
  {
   "cell_type": "code",
   "execution_count": null,
   "id": "f4d2574d",
   "metadata": {},
   "outputs": [],
   "source": [
    "#pd.set_option('display.max_rows', 500)\n",
    "pd.set_option('display.max_columns', 500)\n",
    "pd.set_option('display.width', 1000)\n",
    "df.loc[df['franchises'].notnull()]"
   ]
  },
  {
   "cell_type": "code",
   "execution_count": null,
   "id": "24175cf7",
   "metadata": {},
   "outputs": [],
   "source": [
    "df.platforms.info()"
   ]
  },
  {
   "cell_type": "code",
   "execution_count": null,
   "id": "22b1f22c",
   "metadata": {},
   "outputs": [],
   "source": [
    "df = df.drop(columns=['websites', 'created_at', 'updated_at', 'artworks', 'cover','screenshots', 'videos', 'checksum', 'alternative_names', 'rating_count', 'total_rating_count', 'version_parent', 'hypes', 'franchises', 'follows', 'aggregated_rating_count'])\n",
    "df.shape"
   ]
  },
  {
   "cell_type": "code",
   "execution_count": null,
   "id": "fe997437",
   "metadata": {},
   "outputs": [],
   "source": [
    "df.columns"
   ]
  },
  {
   "cell_type": "code",
   "execution_count": null,
   "id": "3b005070",
   "metadata": {},
   "outputs": [],
   "source": [
    "df.rename(columns={'slug': 'lower_case_name', 'aggregated_rating': 'critic_rating'}, inplace=True)\n",
    "df.head()"
   ]
  },
  {
   "cell_type": "code",
   "execution_count": null,
   "id": "99204d45",
   "metadata": {},
   "outputs": [],
   "source": [
    "df.rating.isnull().sum()"
   ]
  },
  {
   "cell_type": "code",
   "execution_count": null,
   "id": "6fbe9b5e",
   "metadata": {},
   "outputs": [],
   "source": [
    "df.loc[df['rating'].isnull()]"
   ]
  },
  {
   "cell_type": "code",
   "execution_count": null,
   "id": "1865895f",
   "metadata": {},
   "outputs": [],
   "source": [
    "df.release_dates.info()"
   ]
  },
  {
   "cell_type": "code",
   "execution_count": null,
   "id": "a20ca2d8",
   "metadata": {},
   "outputs": [],
   "source": [
    "df.platforms.value_counts()"
   ]
  },
  {
   "cell_type": "markdown",
   "id": "5d6ac05b",
   "metadata": {},
   "source": [
    "### Dataframe with ratings"
   ]
  },
  {
   "cell_type": "code",
   "execution_count": null,
   "id": "5bad1186",
   "metadata": {},
   "outputs": [],
   "source": [
    "df2 = df[df['rating'].notnull()]\n",
    "df2.head()"
   ]
  },
  {
   "cell_type": "code",
   "execution_count": null,
   "id": "d3c3a65b",
   "metadata": {},
   "outputs": [],
   "source": [
    "df2.rating.isnull().sum()"
   ]
  },
  {
   "cell_type": "markdown",
   "id": "2ed281e2",
   "metadata": {},
   "source": [
    "### Dataframe with nulls in rating column "
   ]
  },
  {
   "cell_type": "code",
   "execution_count": null,
   "id": "9254ce8d",
   "metadata": {},
   "outputs": [],
   "source": [
    "df3 = df[df['rating'].isnull()]\n",
    "df3.shape"
   ]
  }
 ],
 "metadata": {
  "kernelspec": {
   "display_name": "Python 3 (ipykernel)",
   "language": "python",
   "name": "python3"
  },
  "language_info": {
   "codemirror_mode": {
    "name": "ipython",
    "version": 3
   },
   "file_extension": ".py",
   "mimetype": "text/x-python",
   "name": "python",
   "nbconvert_exporter": "python",
   "pygments_lexer": "ipython3",
   "version": "3.9.12"
  }
 },
 "nbformat": 4,
 "nbformat_minor": 5
}
