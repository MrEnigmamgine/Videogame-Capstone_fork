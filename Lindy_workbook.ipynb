{
 "cells": [
  {
   "cell_type": "code",
   "execution_count": 1,
   "id": "9e18cb42",
   "metadata": {},
   "outputs": [],
   "source": [
    "import requests\n",
    "import env\n",
    "from requests.models import Request, Response\n",
    "from env import Client_ID\n",
    "import pandas as pd\n",
    "from igdb.igdbapi_pb2 import GameResult\n",
    "from typing import Dict, List, Optional, Union, cast\n",
    "import acquire\n",
    "import json\n",
    "from igdb.wrapper import IGDBWrapper\n",
    "import numpy as np"
   ]
  },
  {
   "cell_type": "markdown",
   "id": "1de79c35",
   "metadata": {},
   "source": [
    "### Connect to API and scrape the data needed\n",
    "#### get the access token and 200 response "
   ]
  },
  {
   "cell_type": "code",
   "execution_count": null,
   "id": "aefc60dc",
   "metadata": {},
   "outputs": [],
   "source": [
    "def get_api():   \n",
    "    url = env.get_db_url()\n",
    "    response = requests.post(url)\n",
    "    data = response.json()\n",
    "    access_token = data['access_token']\n",
    "    headers = {'Client-ID': f'{Client_ID}', 'Authorization': f'Bearer {access_token}'}\n",
    "    data = 'fields *;'\n",
    "    r = requests.post('https://api.igdb.com/v4/games', data=data, headers=headers)\n",
    "    return access_token, r"
   ]
  },
  {
   "cell_type": "code",
   "execution_count": 2,
   "id": "b6f546c5",
   "metadata": {},
   "outputs": [],
   "source": [
    "access_token = acquire.connect_api()"
   ]
  },
  {
   "cell_type": "code",
   "execution_count": 3,
   "id": "5ce3f10f",
   "metadata": {},
   "outputs": [],
   "source": [
    "tf = acquire.connect_to_games()"
   ]
  },
  {
   "cell_type": "code",
   "execution_count": 4,
   "id": "4b5f3f32",
   "metadata": {},
   "outputs": [],
   "source": [
    "wrapper = acquire.run_wrapper()"
   ]
  },
  {
   "cell_type": "code",
   "execution_count": null,
   "id": "b99b41af",
   "metadata": {},
   "outputs": [],
   "source": [
    "game_library = acquire.get_game_library(wrapper)\n",
    "game_library.head()"
   ]
  },
  {
   "cell_type": "code",
   "execution_count": null,
   "id": "33e0994a",
   "metadata": {},
   "outputs": [],
   "source": [
    "#pd.set_option('display.max_rows', 500)\n",
    "pd.set_option('display.max_columns', 500)\n",
    "pd.set_option('display.width', 1000)"
   ]
  },
  {
   "cell_type": "markdown",
   "id": "eec0fb97",
   "metadata": {},
   "source": [
    "## scraping endpoints\n",
    "scrape the end points of each category and add them to the game_librarys"
   ]
  },
  {
   "cell_type": "markdown",
   "id": "e6e24d2f",
   "metadata": {},
   "source": [
    "### platform_families"
   ]
  },
  {
   "cell_type": "code",
   "execution_count": null,
   "id": "ec2ca0f5",
   "metadata": {},
   "outputs": [],
   "source": [
    "def get_platform_families():\n",
    "    headers = {'Client-ID': f'{Client_ID}', 'Authorization': f'Bearer {access_token}'}\n",
    "    data = 'fields *; '\n",
    "    r = requests.post('https://api.igdb.com/v4/platform_families' ,data=data ,  headers=headers)\n",
    "    platform_families = wrapper.api_request('platform_families', 'fields *;limit 500;')\n",
    "    x = json.loads(platform_families)\n",
    "    platform_families =pd.DataFrame(x)\n",
    "    return platform_families"
   ]
  },
  {
   "cell_type": "code",
   "execution_count": null,
   "id": "9e91f6fd",
   "metadata": {},
   "outputs": [],
   "source": [
    "platform_families = get_platform_families()\n",
    "platform_families.head()"
   ]
  },
  {
   "cell_type": "code",
   "execution_count": null,
   "id": "a49325ec",
   "metadata": {},
   "outputs": [],
   "source": [
    "df.columns"
   ]
  },
  {
   "cell_type": "markdown",
   "id": "fae7dffe",
   "metadata": {},
   "source": [
    "### platform_version_release_dates"
   ]
  },
  {
   "cell_type": "code",
   "execution_count": null,
   "id": "f186527b",
   "metadata": {},
   "outputs": [],
   "source": [
    "def get_platform_version_release():\n",
    "    headers = {'Client-ID': f'{Client_ID}', 'Authorization': f'Bearer {access_token}'}\n",
    "    data = 'fields *; '\n",
    "    r = requests.post('https://api.igdb.com/v4/platform_version_release_dates' ,data=data ,  headers=headers)\n",
    "    platform_version_release_dates = wrapper.api_request('platform_version_release_dates', 'fields *;limit 500;')\n",
    "    x = json.loads(platform_version_release_dates)\n",
    "    platform_version_release_dates =pd.DataFrame(x)\n",
    "    return platform_version_release_dates"
   ]
  },
  {
   "cell_type": "code",
   "execution_count": null,
   "id": "5b1c2e4f",
   "metadata": {
    "scrolled": true
   },
   "outputs": [],
   "source": [
    "platform_version_release_dates = get_platform_version_release()\n",
    "platform_version_release_dates"
   ]
  },
  {
   "cell_type": "code",
   "execution_count": null,
   "id": "92124309",
   "metadata": {},
   "outputs": [],
   "source": [
    "# drop columns not needed\n",
    "platform_version_release_dates = platform_version_release_dates.drop(columns=['category', 'date', 'm', 'y', 'region', 'updated_at', 'checksum', 'updated_at'])\n",
    "platform_version_release_dates.head()\n"
   ]
  },
  {
   "cell_type": "code",
   "execution_count": null,
   "id": "7639f745",
   "metadata": {},
   "outputs": [],
   "source": [
    "df.head()"
   ]
  },
  {
   "cell_type": "code",
   "execution_count": null,
   "id": "77f3e9a5",
   "metadata": {},
   "outputs": [],
   "source": [
    "version_dates_dict[9] = 'not_available'\n",
    "version_dates_dict[384] = 'not_available'\n",
    "version_dates_dict[386] = 'not_available'\n"
   ]
  },
  {
   "cell_type": "code",
   "execution_count": null,
   "id": "da161d64",
   "metadata": {},
   "outputs": [],
   "source": [
    "version_dates_list = platform_version_release_dates[['game' , 'human']].sort_values(by='game').reset_index(drop=True)\n",
    "version_dates_dict = platform_version_release_dates.set_index('game').to_dict()['human']"
   ]
  },
  {
   "cell_type": "code",
   "execution_count": null,
   "id": "c0160b73",
   "metadata": {},
   "outputs": [],
   "source": [
    "def test_funct3(random_list):\n",
    "    if type(random_list) == list:\n",
    "        return [version_dates_dict[i] for i in random_list]\n",
    "    else:  \n",
    "        return \"Not available\""
   ]
  },
  {
   "cell_type": "code",
   "execution_count": null,
   "id": "887cf9c7",
   "metadata": {},
   "outputs": [],
   "source": [
    "platforms.set_index('Locality', inplace=True)\n",
    "data.set_index('Locality', inplace=True)\n"
   ]
  },
  {
   "cell_type": "code",
   "execution_count": null,
   "id": "d533c072",
   "metadata": {},
   "outputs": [],
   "source": [
    "df['release_dates'] = df.release_dates.apply(test_funct3)\n",
    "df.head()"
   ]
  },
  {
   "cell_type": "code",
   "execution_count": null,
   "id": "85dfef12",
   "metadata": {},
   "outputs": [],
   "source": [
    "all_release_dates = pd.merge(release_dates, platform_version_release_dates, how = 'inner', on=\"human\")"
   ]
  },
  {
   "cell_type": "code",
   "execution_count": null,
   "id": "3df7d9ba",
   "metadata": {},
   "outputs": [],
   "source": [
    "#pd.set_option('display.max_rows', 500)\n",
    "pd.set_option('display.max_columns', 500)\n",
    "pd.set_option('display.width', 1000)\n",
    "df.head()"
   ]
  },
  {
   "cell_type": "markdown",
   "id": "fd49d14b",
   "metadata": {},
   "source": [
    "### platform_version_companies"
   ]
  },
  {
   "cell_type": "code",
   "execution_count": null,
   "id": "22adfbf0",
   "metadata": {},
   "outputs": [],
   "source": [
    "def get_platform_version_companies():\n",
    "    headers = {'Client-ID': f'{Client_ID}', 'Authorization': f'Bearer {access_token}'}\n",
    "    data = 'fields *; '\n",
    "    r = requests.post('https://api.igdb.com/v4/platform_version_companies' ,data=data ,  headers=headers)\n",
    "    platform_version_companies = wrapper.api_request('platform_version_companies', 'fields *;limit 500;')\n",
    "    x = json.loads(platform_version_companies)\n",
    "    platform_version_companies =pd.DataFrame(x)\n",
    "    return platform_version_companies"
   ]
  },
  {
   "cell_type": "code",
   "execution_count": null,
   "id": "09b302ec",
   "metadata": {},
   "outputs": [],
   "source": [
    "platform_version_companies=get_platform_version_companies()\n",
    "platform_version_companies.head()"
   ]
  },
  {
   "cell_type": "markdown",
   "id": "3b1a0c42",
   "metadata": {},
   "source": [
    "### platforms (use this)"
   ]
  },
  {
   "cell_type": "code",
   "execution_count": null,
   "id": "20ad4131",
   "metadata": {},
   "outputs": [],
   "source": [
    "def get_platforms():\n",
    "    headers = {'Client-ID': f'{Client_ID}', 'Authorization': f'Bearer {access_token}'}\n",
    "    data = 'fields *; '\n",
    "    r = requests.post('https://api.igdb.com/v4/platforms' ,data=data ,  headers=headers)\n",
    "    platforms = wrapper.api_request('platforms', 'fields *;limit 500;')\n",
    "    x = json.loads(platforms)\n",
    "    platforms =pd.DataFrame(x)\n",
    "    return platforms"
   ]
  },
  {
   "cell_type": "code",
   "execution_count": null,
   "id": "cbb89745",
   "metadata": {},
   "outputs": [],
   "source": [
    "platform = get_platforms()\n",
    "platform.shape"
   ]
  },
  {
   "cell_type": "code",
   "execution_count": null,
   "id": "fdb19902",
   "metadata": {},
   "outputs": [],
   "source": [
    "# see if there is a number in id that matches the big df\n",
    "platform.loc[platform['id'] == 5]"
   ]
  },
  {
   "cell_type": "code",
   "execution_count": null,
   "id": "10659d78",
   "metadata": {},
   "outputs": [],
   "source": [
    "platform = platform.drop(columns=['alternative_name', 'category', 'created_at', 'platform_logo', 'updated_at', 'url', 'checksum', 'versions', 'websites', 'generation', 'platform_family', 'abbreviation', 'summary'])\n",
    "platform.head()\n"
   ]
  },
  {
   "cell_type": "code",
   "execution_count": null,
   "id": "e68edb07",
   "metadata": {},
   "outputs": [],
   "source": [
    "# looking at the dictionary\n",
    "print(game_library.get(92, \"Not found\"))"
   ]
  },
  {
   "cell_type": "code",
   "execution_count": null,
   "id": "9d16e7aa",
   "metadata": {},
   "outputs": [],
   "source": [
    "platformlist = platform[['id' , 'name']].sort_values(by='id').reset_index(drop=True)\n"
   ]
  },
  {
   "cell_type": "code",
   "execution_count": null,
   "id": "c71fd06d",
   "metadata": {},
   "outputs": [],
   "source": [
    "platform_dict = platformlist.set_index('id').to_dict()['name']"
   ]
  },
  {
   "cell_type": "code",
   "execution_count": null,
   "id": "c14b35ba",
   "metadata": {},
   "outputs": [],
   "source": [
    "platform_dict[92] = 'not_available'"
   ]
  },
  {
   "cell_type": "code",
   "execution_count": null,
   "id": "f68c9b4c",
   "metadata": {},
   "outputs": [],
   "source": [
    "def test_funct(random_list):\n",
    "    if type(random_list) == list:\n",
    "        return [platform_dict[i] for i in random_list]\n",
    "    else:  \n",
    "        return  [\"Not available\"]"
   ]
  },
  {
   "cell_type": "code",
   "execution_count": null,
   "id": "83ea76a0",
   "metadata": {
    "scrolled": true
   },
   "outputs": [],
   "source": [
    "game_library['platforms'] = game_library.platforms.apply(test_funct)\n",
    "game_library.head()"
   ]
  },
  {
   "cell_type": "markdown",
   "id": "b178da5e",
   "metadata": {},
   "source": [
    "#### binning platforms"
   ]
  },
  {
   "cell_type": "code",
   "execution_count": null,
   "id": "178c449b",
   "metadata": {},
   "outputs": [],
   "source": [
    "game_library['platform_bin'] = pd.cut(game_library.platforms, \n",
    "                           bins = [0,10,20, 30, 40, 50, 60, 70, 80, 90, 100],\n",
    "                           labels = ['awful','very_bad','bad','unimpressive','average','fair','alright','good','great', 'subperb'])\n",
    "\n"
   ]
  },
  {
   "cell_type": "markdown",
   "id": "3fb52242",
   "metadata": {},
   "source": [
    "### release_dates"
   ]
  },
  {
   "cell_type": "code",
   "execution_count": null,
   "id": "6cf57276",
   "metadata": {},
   "outputs": [],
   "source": [
    "def get_release_dates():\n",
    "    headers = {'Client-ID': f'{Client_ID}', 'Authorization': f'Bearer {access_token}'}\n",
    "    data = 'fields *; '\n",
    "    r = requests.post('https://api.igdb.com/v4/release_dates' ,data=data ,  headers=headers)\n",
    "    release_dates = wrapper.api_request('release_dates', 'fields *;limit 500;')\n",
    "    x = json.loads(release_dates)\n",
    "    release_dates =pd.DataFrame(x)\n",
    "    return release_dates"
   ]
  },
  {
   "cell_type": "code",
   "execution_count": null,
   "id": "40ffee33",
   "metadata": {},
   "outputs": [],
   "source": [
    "release_dates = get_release_dates()\n",
    "release_dates.shape"
   ]
  },
  {
   "cell_type": "code",
   "execution_count": null,
   "id": "4e53b5f5",
   "metadata": {},
   "outputs": [],
   "source": [
    "release_dates = release_dates.drop(columns=['category', 'date', 'm', 'region', 'updated_at', 'y', 'checksum', 'created_at', 'platform'])\n",
    "release_dates.head()"
   ]
  },
  {
   "cell_type": "code",
   "execution_count": null,
   "id": "57922ffd",
   "metadata": {},
   "outputs": [],
   "source": [
    "release_dates"
   ]
  },
  {
   "cell_type": "code",
   "execution_count": null,
   "id": "557ab5f3",
   "metadata": {},
   "outputs": [],
   "source": [
    "# add to dictionary\n",
    "release_dict[91007] = \"not-available\"\n",
    "release_dict[138333] = \"not-available\"\n",
    "release_dict[188385] = \"not-available\"\n",
    "release_dict[213594] = \"not-available\"\n",
    "release_dict[77755] = \"not-available\"\n"
   ]
  },
  {
   "cell_type": "code",
   "execution_count": null,
   "id": "0e568722",
   "metadata": {},
   "outputs": [],
   "source": [
    "releaselist = release_dates[['game' , 'human']].sort_values(by='game').reset_index(drop=True)\n",
    "release_dict = releaselist.set_index('game').to_dict()['human']"
   ]
  },
  {
   "cell_type": "code",
   "execution_count": null,
   "id": "0f186142",
   "metadata": {},
   "outputs": [],
   "source": [
    "release_dates.head()"
   ]
  },
  {
   "cell_type": "code",
   "execution_count": null,
   "id": "b8d6edc7",
   "metadata": {},
   "outputs": [],
   "source": [
    "def test_funct2(random_list):\n",
    "    if type(random_list) == list:\n",
    "        return [release_dict[i] for i in random_list]\n",
    "    else:  \n",
    "        return  [\"Not available\"]"
   ]
  },
  {
   "cell_type": "code",
   "execution_count": null,
   "id": "c606406f",
   "metadata": {},
   "outputs": [],
   "source": [
    "release_dict"
   ]
  },
  {
   "cell_type": "code",
   "execution_count": null,
   "id": "f000c058",
   "metadata": {},
   "outputs": [],
   "source": [
    "df.release_dates.head()"
   ]
  },
  {
   "cell_type": "code",
   "execution_count": null,
   "id": "90e96605",
   "metadata": {},
   "outputs": [],
   "source": [
    "df['release_dates'] = pd.DataFrame(df.release_dates.apply(test_funct2))\n",
    "df"
   ]
  },
  {
   "cell_type": "code",
   "execution_count": null,
   "id": "485837f7",
   "metadata": {},
   "outputs": [],
   "source": [
    "release_dict"
   ]
  },
  {
   "cell_type": "code",
   "execution_count": null,
   "id": "06bad8db",
   "metadata": {},
   "outputs": [],
   "source": [
    "# add 0 and description to dictionary\n",
    "release_dict[\"0\"] = \"not-available\""
   ]
  },
  {
   "cell_type": "markdown",
   "id": "b39c179a",
   "metadata": {},
   "source": [
    "### platform_versions"
   ]
  },
  {
   "cell_type": "code",
   "execution_count": null,
   "id": "28151be3",
   "metadata": {},
   "outputs": [],
   "source": [
    "def get_platform_versions():\n",
    "    headers = {'Client-ID': f'{Client_ID}', 'Authorization': f'Bearer {access_token}'}\n",
    "    data = 'fields *; '\n",
    "    r = requests.post('https://api.igdb.com/v4/platform_versions' ,data=data ,  headers=headers)\n",
    "    platform_versions = wrapper.api_request('platform_versions', 'fields *;limit 500;')\n",
    "    x = json.loads(platform_versions)\n",
    "    platform_versions=pd.DataFrame(x)\n",
    "    return platform_versions"
   ]
  },
  {
   "cell_type": "code",
   "execution_count": null,
   "id": "78ba84f4",
   "metadata": {},
   "outputs": [],
   "source": [
    "platform_versions = get_platform_versions()\n",
    "platform_versions.shape"
   ]
  },
  {
   "cell_type": "code",
   "execution_count": null,
   "id": "761ccbca",
   "metadata": {},
   "outputs": [],
   "source": [
    "platform_versions.head()"
   ]
  },
  {
   "cell_type": "code",
   "execution_count": null,
   "id": "1f7d7da4",
   "metadata": {},
   "outputs": [],
   "source": [
    "df.columns"
   ]
  },
  {
   "cell_type": "markdown",
   "id": "f5c46310",
   "metadata": {},
   "source": [
    "### player_perspectives (use this)"
   ]
  },
  {
   "cell_type": "code",
   "execution_count": null,
   "id": "bbada50f",
   "metadata": {},
   "outputs": [],
   "source": [
    "def get_player_perspectives():\n",
    "    headers = {'Client-ID': f'{Client_ID}', 'Authorization': f'Bearer {access_token}'}\n",
    "    data = 'fields *; '\n",
    "    r = requests.post('https://api.igdb.com/v4/player_perspectives' ,data=data ,  headers=headers)\n",
    "    player_perspectives = wrapper.api_request('player_perspectives', 'fields *;limit 500;')\n",
    "    x = json.loads(player_perspectives)\n",
    "    player_perspectives=pd.DataFrame(x)\n",
    "    return player_perspectives"
   ]
  },
  {
   "cell_type": "code",
   "execution_count": null,
   "id": "4a7a3852",
   "metadata": {},
   "outputs": [],
   "source": [
    "player_perspectives = get_player_perspectives()\n",
    "player_perspectives.shape"
   ]
  },
  {
   "cell_type": "code",
   "execution_count": null,
   "id": "0e75de73",
   "metadata": {},
   "outputs": [],
   "source": [
    "player_perspectives = player_perspectives.drop(columns=['created_at','updated_at', 'url', 'checksum'])\n",
    "player_perspectives.head()\n"
   ]
  },
  {
   "cell_type": "code",
   "execution_count": null,
   "id": "2d5bd787",
   "metadata": {},
   "outputs": [],
   "source": [
    "player_perspectives_list = player_perspectives[['id' , 'name']].sort_values(by='id').reset_index(drop=True)\n",
    "player_perspectives_dict = player_perspectives.set_index('id').to_dict()['name']"
   ]
  },
  {
   "cell_type": "code",
   "execution_count": null,
   "id": "87fdbe92",
   "metadata": {},
   "outputs": [],
   "source": [
    "def test_funct4(random_list):\n",
    "    if type(random_list) == list:\n",
    "        return [player_perspectives_dict[i] for i in random_list]\n",
    "    else:  \n",
    "        return  [\"Not available\"]"
   ]
  },
  {
   "cell_type": "code",
   "execution_count": null,
   "id": "257dfa45",
   "metadata": {},
   "outputs": [],
   "source": [
    "game_library['player_perspectives'] = pd.DataFrame(game_library.player_perspectives.apply(test_funct4))\n",
    "game_library.head()"
   ]
  },
  {
   "cell_type": "markdown",
   "id": "e56b7fe7",
   "metadata": {},
   "source": [
    "### themes (use this)"
   ]
  },
  {
   "cell_type": "code",
   "execution_count": null,
   "id": "19992513",
   "metadata": {},
   "outputs": [],
   "source": [
    "def get_themes():\n",
    "    headers = {'Client-ID': f'{Client_ID}', 'Authorization': f'Bearer {access_token}'}\n",
    "    data = 'fields *; '\n",
    "    r = requests.post('https://api.igdb.com/v4/themes' ,data=data ,  headers=headers)\n",
    "    themes = wrapper.api_request('themes', 'fields *;limit 500;')\n",
    "    x = json.loads(themes)\n",
    "    themes=pd.DataFrame(x)\n",
    "    return themes"
   ]
  },
  {
   "cell_type": "code",
   "execution_count": null,
   "id": "d3489326",
   "metadata": {},
   "outputs": [],
   "source": [
    "themes = get_themes()\n",
    "themes.shape"
   ]
  },
  {
   "cell_type": "code",
   "execution_count": null,
   "id": "6a96ce0e",
   "metadata": {},
   "outputs": [],
   "source": [
    "themes_list = themes[['id' , 'name']].sort_values(by='id').reset_index(drop=True)\n",
    "themes_dict = themes.set_index('id').to_dict()['name']"
   ]
  },
  {
   "cell_type": "code",
   "execution_count": null,
   "id": "2e965bed",
   "metadata": {},
   "outputs": [],
   "source": [
    "def test_funct5(random_list):\n",
    "    if type(random_list) == list:\n",
    "        return [themes_dict[i] for i in random_list]\n",
    "    else:  \n",
    "        return  [\"Not available\"]"
   ]
  },
  {
   "cell_type": "code",
   "execution_count": null,
   "id": "3af576c1",
   "metadata": {},
   "outputs": [],
   "source": [
    "game_library['themes'] = pd.DataFrame(game_library.themes.apply(test_funct5))\n",
    "game_library.head()"
   ]
  },
  {
   "cell_type": "markdown",
   "id": "fb0f1f5c",
   "metadata": {},
   "source": [
    "### Genres (use this)"
   ]
  },
  {
   "cell_type": "code",
   "execution_count": null,
   "id": "cff90f08",
   "metadata": {},
   "outputs": [],
   "source": [
    "# function that puts response list object into a dataframe for each page\n",
    "def get_genres(wrapper):\n",
    "    genres = pd.DataFrame()\n",
    "    for i in range (0, 409):\n",
    "        genre = wrapper.api_request('genres', 'fields *; limit 500;')\n",
    "        y = json.loads(genre)\n",
    "        results_df =pd.DataFrame(y)\n",
    "        genres = pd.concat([genres, results_df])\n",
    "    return genres"
   ]
  },
  {
   "cell_type": "code",
   "execution_count": null,
   "id": "3759464b",
   "metadata": {},
   "outputs": [],
   "source": [
    "genres = get_genres(wrapper)\n",
    "genres.head()"
   ]
  },
  {
   "cell_type": "code",
   "execution_count": null,
   "id": "6a0fffa8",
   "metadata": {},
   "outputs": [],
   "source": [
    "genreslist = genres[['id' , 'slug']].sort_values(by='id').reset_index(drop=True)\n",
    "genres_dict = genreslist.set_index('id').to_dict()['slug']"
   ]
  },
  {
   "cell_type": "code",
   "execution_count": null,
   "id": "08e88ad1",
   "metadata": {},
   "outputs": [],
   "source": [
    "def test_functg(random_list):\n",
    "    if type(random_list) == list:\n",
    "        return [genres_dict[i] for i in random_list]\n",
    "    else:  \n",
    "        return  [\"Not available\"] "
   ]
  },
  {
   "cell_type": "code",
   "execution_count": null,
   "id": "738954ac",
   "metadata": {},
   "outputs": [],
   "source": [
    "game_library['genres'] = pd.DataFrame(game_library.genres.apply(test_functg))\n",
    "game_library.head()"
   ]
  },
  {
   "cell_type": "markdown",
   "id": "dac703aa",
   "metadata": {},
   "source": [
    "## Game modes (use this)"
   ]
  },
  {
   "cell_type": "code",
   "execution_count": null,
   "id": "df08610f",
   "metadata": {},
   "outputs": [],
   "source": [
    "def get_game_modes():\n",
    "    headers = {'Client-ID': f'{Client_ID}', 'Authorization': f'Bearer {access_token}'}\n",
    "    data = 'fields *; limit 500;'\n",
    "    r = requests.post('https://api.igdb.com/v4/game_modes' ,data=data ,  headers=headers)\n",
    "    game_modes = wrapper.api_request('game_modes', 'fields *;limit 500;')\n",
    "    x = json.loads(game_modes)\n",
    "    game_modes =pd.DataFrame(x)\n",
    "    return game_modes"
   ]
  },
  {
   "cell_type": "code",
   "execution_count": null,
   "id": "cc458b1f",
   "metadata": {},
   "outputs": [],
   "source": [
    "game_mode = get_game_modes()"
   ]
  },
  {
   "cell_type": "code",
   "execution_count": null,
   "id": "bbc87d5e",
   "metadata": {},
   "outputs": [],
   "source": [
    "modelist = game_mode[['id' , 'slug']].sort_values(by='id').reset_index(drop=True)\n",
    "mode_dict = modelist.set_index('id').to_dict()['slug']"
   ]
  },
  {
   "cell_type": "code",
   "execution_count": null,
   "id": "bd927d1c",
   "metadata": {},
   "outputs": [],
   "source": [
    "def test_functm(random_list):\n",
    "    if type(random_list) == list:\n",
    "        return [mode_dict[i] for i in random_list]\n",
    "    else:  \n",
    "        return  [\"Not available\"]"
   ]
  },
  {
   "cell_type": "code",
   "execution_count": null,
   "id": "9298c2c6",
   "metadata": {},
   "outputs": [],
   "source": [
    "game_library['game_modes'] = pd.DataFrame(game_library.game_modes.apply(test_functm))\n",
    "game_library.head()"
   ]
  },
  {
   "cell_type": "markdown",
   "id": "a92c3b6c",
   "metadata": {},
   "source": [
    "## Game version features (use this)"
   ]
  },
  {
   "cell_type": "code",
   "execution_count": null,
   "id": "61b06720",
   "metadata": {},
   "outputs": [],
   "source": [
    "def get_game_version_features(wrapper):\n",
    "    game_version_features = pd.DataFrame()\n",
    "    for i in range (0, 409):\n",
    "        a_ratings = wrapper.api_request('game_version_features', 'fields *; limit 500;' f'offset {i * 500};')\n",
    "        y = json.loads(a_ratings)\n",
    "        results_df =pd.DataFrame(y)\n",
    "        game_version_features = pd.concat([game_version_features, results_df])\n",
    "    return game_version_features"
   ]
  },
  {
   "cell_type": "code",
   "execution_count": null,
   "id": "0553328e",
   "metadata": {
    "scrolled": true
   },
   "outputs": [],
   "source": [
    "game_version_features = get_game_version_features(wrapper)\n",
    "game_version_features.head()"
   ]
  },
  {
   "cell_type": "code",
   "execution_count": null,
   "id": "fb459a69",
   "metadata": {
    "scrolled": true
   },
   "outputs": [],
   "source": [
    "game_vf_df = game_version_features[['id','description', 'title']]\n",
    "game_vf_df.head()"
   ]
  },
  {
   "cell_type": "code",
   "execution_count": null,
   "id": "8e60a4e2",
   "metadata": {},
   "outputs": [],
   "source": [
    "game_vf_df = game_vf_df.rename(columns={'description': 'version_description', 'title': 'title_version'})"
   ]
  },
  {
   "cell_type": "markdown",
   "id": "c08f5d4f",
   "metadata": {},
   "source": [
    "## Game version feature values (use this)"
   ]
  },
  {
   "cell_type": "code",
   "execution_count": null,
   "id": "e9c59dcb",
   "metadata": {},
   "outputs": [],
   "source": [
    "def vf_values(wrapper):\n",
    "    vf_values= pd.DataFrame()\n",
    "    for i in range (0, 409):\n",
    "        gvf_values = wrapper.api_request('game_version_feature_values', 'fields *; limit 500;' f'offset {i * 500};')\n",
    "        y = json.loads(gvf_values)\n",
    "        results_df =pd.DataFrame(y)\n",
    "        vf_values = pd.concat([vf_values, results_df])\n",
    "    return vf_values"
   ]
  },
  {
   "cell_type": "code",
   "execution_count": null,
   "id": "9affc7dd",
   "metadata": {},
   "outputs": [],
   "source": [
    "gamevfv_df = vf_values(wrapper)\n",
    "gamevfv_df.head()"
   ]
  },
  {
   "cell_type": "code",
   "execution_count": null,
   "id": "29b8d34d",
   "metadata": {},
   "outputs": [],
   "source": [
    "gamevfv_df = gamevfv_df[['game','game_feature']]\n",
    "gamevfv_df.head()"
   ]
  },
  {
   "cell_type": "code",
   "execution_count": null,
   "id": "7889dd7d",
   "metadata": {},
   "outputs": [],
   "source": [
    "gamevfv_df = gamevfv_df.rename(columns={\"game_feature\": \"id\"})"
   ]
  },
  {
   "cell_type": "code",
   "execution_count": null,
   "id": "76f34a01",
   "metadata": {},
   "outputs": [],
   "source": [
    "gamevfv_df = gamevfv_df.set_index('id')\n",
    "gamevfv_df.head()"
   ]
  },
  {
   "cell_type": "markdown",
   "id": "d199474c",
   "metadata": {},
   "source": [
    "### Merging game feature version and game feature version values (use this)"
   ]
  },
  {
   "cell_type": "code",
   "execution_count": null,
   "id": "a4787839",
   "metadata": {},
   "outputs": [],
   "source": [
    "results_df = pd.merge(gamevfv_df,  game_vf_df , how = 'left', on=\"id\")\n",
    "results_df.head()"
   ]
  },
  {
   "cell_type": "code",
   "execution_count": null,
   "id": "f500ee81",
   "metadata": {},
   "outputs": [],
   "source": [
    "results_df = results_df.rename(columns={'id': 'second','game': 'id' })\n",
    "results_df = results_df.set_index('id')\n",
    "results_df.head()"
   ]
  },
  {
   "cell_type": "code",
   "execution_count": null,
   "id": "a80d638b",
   "metadata": {},
   "outputs": [],
   "source": []
  },
  {
   "cell_type": "code",
   "execution_count": null,
   "id": "2f3a413f",
   "metadata": {
    "scrolled": true
   },
   "outputs": [],
   "source": [
    "#merging the to the main dataframe\n",
    "game_library = pd.merge(game_library, results_df, how = 'left', on=\"id\")\n",
    "game_library.head()"
   ]
  },
  {
   "cell_type": "code",
   "execution_count": null,
   "id": "e039142d",
   "metadata": {},
   "outputs": [],
   "source": [
    "game_library.title_version_x.value_counts()"
   ]
  },
  {
   "cell_type": "markdown",
   "id": "8be0bd22",
   "metadata": {},
   "source": [
    "## Multi player mode (use this)"
   ]
  },
  {
   "cell_type": "code",
   "execution_count": null,
   "id": "ac52b317",
   "metadata": {},
   "outputs": [],
   "source": [
    "headers = {'Client-ID': f'{Client_ID}', 'Authorization': f'Bearer {access_token}'}\n",
    "data = 'fields *; limit 500;'\n",
    "r = requests.post('https://api.igdb.com/v4/multiplayer_modes' ,data=data ,  headers=headers)\n",
    "multiplayer_modes = wrapper.api_request('multiplayer_modes', 'fields *;limit 500;')\n",
    "x = json.loads(multiplayer_modes)\n",
    "multiplayer_modes =pd.DataFrame(x)"
   ]
  },
  {
   "cell_type": "code",
   "execution_count": null,
   "id": "4618b769",
   "metadata": {},
   "outputs": [],
   "source": [
    "def multi_play(wrapper):\n",
    "    multi_play= pd.DataFrame()\n",
    "    for i in range (0, 409):\n",
    "        multi_values = wrapper.api_request('multiplayer_modes', 'fields *; limit 500;' f'offset {i * 500};')\n",
    "        y = json.loads(multi_values)\n",
    "        results_df =pd.DataFrame(y)\n",
    "        multi_play = pd.concat([multi_play, multiplayer_modes])\n",
    "    return multi_play"
   ]
  },
  {
   "cell_type": "code",
   "execution_count": null,
   "id": "9296fe58",
   "metadata": {},
   "outputs": [],
   "source": [
    "multi_df = multi_play(wrapper)"
   ]
  },
  {
   "cell_type": "code",
   "execution_count": null,
   "id": "94e8e49a",
   "metadata": {},
   "outputs": [],
   "source": [
    "def test_functg(random_list):\n",
    "    if type(random_list) == list:\n",
    "        return [genres_dict[i] for i in random_list]\n",
    "    else:  \n",
    "        return  [\"Not available\"] "
   ]
  },
  {
   "cell_type": "code",
   "execution_count": null,
   "id": "bd0043cc",
   "metadata": {},
   "outputs": [],
   "source": [
    "multi_df = multi_df.rename(columns={'game': 'id', 'id': 'second_id'})"
   ]
  },
  {
   "cell_type": "code",
   "execution_count": null,
   "id": "628b4189",
   "metadata": {},
   "outputs": [],
   "source": [
    "multi_df = multi_df.set_index('id')"
   ]
  },
  {
   "cell_type": "code",
   "execution_count": null,
   "id": "4c22891b",
   "metadata": {},
   "outputs": [],
   "source": [
    "#marging this together with the main df\n",
    "game_library = pd.merge(game_library, multi_df, how = 'left', on=\"id\")\n",
    "game_library.head()"
   ]
  },
  {
   "cell_type": "code",
   "execution_count": null,
   "id": "e61a370c",
   "metadata": {},
   "outputs": [],
   "source": [
    "game_library['campaigncoop'].fillna(False, inplace = True)\n",
    "game_library['dropin'].fillna(False, inplace = True)\n",
    "game_library['lancoop'].fillna(False, inplace = True)\n",
    "game_library['offlinecoop'].fillna(False, inplace = True)\n",
    "game_library['offlinemax'].fillna(0, inplace = True)\n",
    "game_library['onlinecoop'].fillna(False, inplace = True)\n",
    "game_library['splitscreen'].fillna(False, inplace = True)\n",
    "game_library['offlinecoopmax'].fillna(0, inplace = True)\n",
    "game_library['onlinecoopmax'].fillna(0, inplace = True)\n",
    "game_library['onlinemax'].fillna(0, inplace = True)"
   ]
  },
  {
   "cell_type": "code",
   "execution_count": null,
   "id": "9898e615",
   "metadata": {},
   "outputs": [],
   "source": [
    "game_library.head()"
   ]
  },
  {
   "cell_type": "code",
   "execution_count": null,
   "id": "6be7e13c",
   "metadata": {},
   "outputs": [],
   "source": [
    "game_library.shape"
   ]
  },
  {
   "cell_type": "markdown",
   "id": "264763e7",
   "metadata": {},
   "source": [
    "### loop through genres list"
   ]
  },
  {
   "cell_type": "code",
   "execution_count": null,
   "id": "037995c0",
   "metadata": {},
   "outputs": [],
   "source": [
    "genres_dict"
   ]
  },
  {
   "cell_type": "code",
   "execution_count": null,
   "id": "1ea3d7ae",
   "metadata": {},
   "outputs": [],
   "source": [
    "# list of genres to add\n",
    "items = ['point-and-click', 'fighting', 'shooter', 'music', 'platform', 'puzzle', 'racing', 'real-time-strategy-rts', 'role-playing-rpg', 'simulator', 'sport', 'strategy', 'turn-based-strategy-tbs', 'tactical', 'hack-and-slash-beat-em-up', 'quiz-trivia', 'pinball', 'adventure', 'indie', 'arcade', 'visual-novel', 'card-and-board-game', 'moba']\n",
    "# function to loop through column list and check for genre\n",
    "def my_list(column, word):\n",
    "    if word in column:\n",
    "        return 1\n",
    "    else:\n",
    "        return 0"
   ]
  },
  {
   "cell_type": "code",
   "execution_count": null,
   "id": "4a3a1f19",
   "metadata": {},
   "outputs": [],
   "source": [
    "for item in items:\n",
    "    game_library[item] = game_library['genres'].apply(my_list, word=item)"
   ]
  },
  {
   "cell_type": "code",
   "execution_count": null,
   "id": "5b853903",
   "metadata": {},
   "outputs": [],
   "source": [
    "game_library.head()"
   ]
  },
  {
   "cell_type": "code",
   "execution_count": null,
   "id": "7c034e9d",
   "metadata": {},
   "outputs": [],
   "source": [
    "platform_dict"
   ]
  },
  {
   "cell_type": "markdown",
   "id": "1d7ba90b",
   "metadata": {},
   "source": [
    "### Adding platforms to game_library"
   ]
  },
  {
   "cell_type": "code",
   "execution_count": null,
   "id": "4fb2612e",
   "metadata": {},
   "outputs": [],
   "source": [
    "len(platform_dict)"
   ]
  },
  {
   "cell_type": "code",
   "execution_count": null,
   "id": "7d7574d3",
   "metadata": {},
   "outputs": [],
   "source": [
    "# list of platformd to add\n",
    "platforms = ['Linux', 'Nintendo 64', 'Wii', 'PC (Microsoft Windows)', 'PlayStation', 'PlayStation 2', 'PlayStation 3', 'Xbox', 'Xbox 360', 'DOS', 'Mac', 'Nintendo Entertainment System', 'Super Nintendo Entertainment System', 'Nintendo DS', 'Nintendo GameCube', 'Game Boy Color', 'Game Boy Advance', 'Sega Mega Drive/Genesis','Sega Saturn', 'Game Boy', 'Android', 'Nintendo 3DS','PlayStation Portable', 'iOS', 'Wii U', 'PlayStation Vita', 'Virtual Console (Nintendo)', 'PlayStation 4', 'Xbox One', 'Family Computer Disk System', 'Arcade', 'Windows Phone', 'Apple II', 'Web browser', 'Odyssey', 'Commodore 16', 'New Nintendo 3DS']\n",
    " "
   ]
  },
  {
   "cell_type": "code",
   "execution_count": null,
   "id": "5ae09d13",
   "metadata": {},
   "outputs": [],
   "source": [
    "# function to loop through column list and check for genre\n",
    "def my_list(column, word):\n",
    "    if word in column:\n",
    "        return 1\n",
    "    else:\n",
    "        return 0"
   ]
  },
  {
   "cell_type": "code",
   "execution_count": null,
   "id": "8d3dd451",
   "metadata": {},
   "outputs": [],
   "source": [
    "for platform in platforms:\n",
    "    game_library[platform] = game_library['platforms'].apply(my_list, word=platform)"
   ]
  },
  {
   "cell_type": "code",
   "execution_count": null,
   "id": "84b84493",
   "metadata": {},
   "outputs": [],
   "source": [
    "game_library.head()"
   ]
  },
  {
   "cell_type": "markdown",
   "id": "d1c267a6",
   "metadata": {},
   "source": [
    "### Adding themes to game library "
   ]
  },
  {
   "cell_type": "code",
   "execution_count": null,
   "id": "31f7a837",
   "metadata": {},
   "outputs": [],
   "source": [
    "themes_dict"
   ]
  },
  {
   "cell_type": "code",
   "execution_count": null,
   "id": "b65da13f",
   "metadata": {},
   "outputs": [],
   "source": [
    "themes = ['Thriller', 'Science fiction', 'Action', 'Horror', 'Survival', 'Fantasy', 'Historical', 'Stealth', 'Comedy', 'Business', 'Drama', 'Non-fiction', 'Kids', 'Sandbox', 'Open world', 'Warfare', 'Educational', 'Mystery', 'Party', 'Romance', 'Erotic']\n",
    "\n",
    "def my_list_themes(column, word):\n",
    "    if word in column:\n",
    "        return 1\n",
    "    else:\n",
    "        return 0\n"
   ]
  },
  {
   "cell_type": "code",
   "execution_count": null,
   "id": "41dbf64c",
   "metadata": {},
   "outputs": [],
   "source": [
    "for theme in themes:\n",
    "    game_library[theme] = game_library['themes'].apply(my_list_themes, word=theme)"
   ]
  },
  {
   "cell_type": "code",
   "execution_count": null,
   "id": "f35a945d",
   "metadata": {},
   "outputs": [],
   "source": [
    "game_library.head()"
   ]
  },
  {
   "cell_type": "markdown",
   "id": "75d2349b",
   "metadata": {},
   "source": [
    "### Add player perspective "
   ]
  },
  {
   "cell_type": "code",
   "execution_count": null,
   "id": "14f92a55",
   "metadata": {},
   "outputs": [],
   "source": [
    "player_perspectives_dict"
   ]
  },
  {
   "cell_type": "code",
   "execution_count": null,
   "id": "9e85662a",
   "metadata": {},
   "outputs": [],
   "source": [
    "players = ['First person', 'Third person', 'Bird view / Isometric', 'Text', 'Side view', 'Virtual Reality', 'Auditory'  'Drama']\n",
    "\n",
    "def my_list_player(column, word):\n",
    "    if word in column:\n",
    "        return 1\n",
    "    else:\n",
    "        return 0\n"
   ]
  },
  {
   "cell_type": "code",
   "execution_count": null,
   "id": "f9ad54a4",
   "metadata": {},
   "outputs": [],
   "source": [
    "for player in players:\n",
    "    game_library[player] = game_library['player_perspectives'].apply(my_list_player, word=player)"
   ]
  },
  {
   "cell_type": "code",
   "execution_count": null,
   "id": "b0e39ca5",
   "metadata": {},
   "outputs": [],
   "source": [
    "game_library.head()"
   ]
  },
  {
   "cell_type": "code",
   "execution_count": null,
   "id": "073faa59",
   "metadata": {},
   "outputs": [],
   "source": [
    "game_library.shape"
   ]
  },
  {
   "cell_type": "markdown",
   "id": "a0b97cb2",
   "metadata": {},
   "source": [
    "### Add game modes"
   ]
  },
  {
   "cell_type": "code",
   "execution_count": null,
   "id": "cf225797",
   "metadata": {},
   "outputs": [],
   "source": [
    "mode_dict"
   ]
  },
  {
   "cell_type": "code",
   "execution_count": null,
   "id": "91341297",
   "metadata": {},
   "outputs": [],
   "source": [
    "modes = ['single-player', 'multiplayer', 'co-operative', 'split-screen', 'massively-multiplayer-online-mmo', 'battle-royale']\n",
    "\n",
    "def my_list(column, word):\n",
    "    if word in column:\n",
    "        return 1\n",
    "    else:\n",
    "        return 0"
   ]
  },
  {
   "cell_type": "code",
   "execution_count": null,
   "id": "13908633",
   "metadata": {},
   "outputs": [],
   "source": [
    "for mode in modes:\n",
    "    game_library[mode] = game_library['player_perspectives'].apply(my_list, word=mode)"
   ]
  },
  {
   "cell_type": "code",
   "execution_count": null,
   "id": "6bdc7d12",
   "metadata": {},
   "outputs": [],
   "source": [
    "game_library.head()"
   ]
  },
  {
   "cell_type": "code",
   "execution_count": null,
   "id": "3f36404a",
   "metadata": {},
   "outputs": [],
   "source": [
    "game_library.shape"
   ]
  },
  {
   "cell_type": "markdown",
   "id": "e556a8a6",
   "metadata": {},
   "source": [
    "### turn dlc column into boolean column"
   ]
  },
  {
   "cell_type": "code",
   "execution_count": null,
   "id": "2697c47c",
   "metadata": {},
   "outputs": [],
   "source": [
    "game_library['dlcs'] = game_library['dlcs'].fillna(0)\n",
    "game_library.head()"
   ]
  },
  {
   "cell_type": "code",
   "execution_count": null,
   "id": "ddca827f",
   "metadata": {},
   "outputs": [],
   "source": [
    "def dlcs_col(df):\n",
    "    game_library['has_dlcs'] = np.where(game_library.dlcs == 0, 1, 0)  \n",
    "    return df"
   ]
  },
  {
   "cell_type": "code",
   "execution_count": null,
   "id": "6c4dca64",
   "metadata": {},
   "outputs": [],
   "source": [
    "game_library = dlcs_col(game_library)"
   ]
  },
  {
   "cell_type": "code",
   "execution_count": null,
   "id": "93913d79",
   "metadata": {},
   "outputs": [],
   "source": [
    "game_library.has_dlcs.head()"
   ]
  },
  {
   "cell_type": "markdown",
   "id": "7ea05b41",
   "metadata": {},
   "source": [
    "#### Delete columns we dont need"
   ]
  },
  {
   "cell_type": "code",
   "execution_count": null,
   "id": "be5f1df2",
   "metadata": {},
   "outputs": [],
   "source": [
    "game_library.head()"
   ]
  },
  {
   "cell_type": "code",
   "execution_count": null,
   "id": "2e87ee92",
   "metadata": {},
   "outputs": [],
   "source": [
    "game_library = game_library.drop(columns=['websites', 'external_games', 'updated_at', 'artworks', 'genres', 'platforms', 'similar_games', 'tags', 'release_dates', 'cover','screenshots', 'videos', 'checksum_x', 'alternative_names', 'rating_count', 'total_rating_count', 'version_parent', 'hypes', 'url', 'franchises', 'follows', 'aggregated_rating_count', 'game_modes', 'player_perspectives', 'themes', 'game_engines', 'keywords', 'storyline', 'version_title', 'collection', 'follows', 'bundles', 'franchise', 'checksum_y'])\n",
    "game_library.shape\n"
   ]
  },
  {
   "cell_type": "code",
   "execution_count": null,
   "id": "e2716e41",
   "metadata": {},
   "outputs": [],
   "source": []
  },
  {
   "cell_type": "code",
   "execution_count": null,
   "id": "0097d94f",
   "metadata": {},
   "outputs": [],
   "source": []
  },
  {
   "cell_type": "code",
   "execution_count": null,
   "id": "3f0d8773",
   "metadata": {},
   "outputs": [],
   "source": []
  },
  {
   "cell_type": "code",
   "execution_count": null,
   "id": "d4de2570",
   "metadata": {},
   "outputs": [],
   "source": [
    "game_library.head()"
   ]
  },
  {
   "cell_type": "code",
   "execution_count": null,
   "id": "3bd939ea",
   "metadata": {},
   "outputs": [],
   "source": [
    "game_library = game_library.drop(columns=['websites', 'created_at', 'updated_at', 'artworks', 'cover','screenshots', 'videos', 'checksum_x', 'alternative_names', 'rating_count', 'total_rating_count', 'version_parent', 'hypes', 'franchises', 'follows', 'aggregated_rating_count'])\n",
    "game_library.shape"
   ]
  },
  {
   "cell_type": "code",
   "execution_count": null,
   "id": "8fc207ed",
   "metadata": {},
   "outputs": [],
   "source": [
    "game_library.head()"
   ]
  },
  {
   "cell_type": "code",
   "execution_count": null,
   "id": "3370c1f0",
   "metadata": {},
   "outputs": [],
   "source": [
    "game_library.rename(columns={'slug': 'lower_case_name', 'aggregated_rating': 'critic_rating'}, inplace=True)\n",
    "game_library.head()"
   ]
  },
  {
   "cell_type": "code",
   "execution_count": null,
   "id": "f9972d45",
   "metadata": {},
   "outputs": [],
   "source": [
    "game_library.title_version_x.value_counts()"
   ]
  },
  {
   "cell_type": "markdown",
   "id": "39ee8894",
   "metadata": {},
   "source": [
    "### Dataframe with ratings"
   ]
  },
  {
   "cell_type": "code",
   "execution_count": null,
   "id": "68f89f02",
   "metadata": {},
   "outputs": [],
   "source": [
    "df2 = game_library[game_library['rating'].notnull()]\n",
    "df2.head()"
   ]
  },
  {
   "cell_type": "code",
   "execution_count": null,
   "id": "328feb46",
   "metadata": {},
   "outputs": [],
   "source": [
    "df2.shape"
   ]
  },
  {
   "cell_type": "code",
   "execution_count": null,
   "id": "b2a71049",
   "metadata": {},
   "outputs": [],
   "source": [
    "df2.rating.isnull().sum()"
   ]
  },
  {
   "cell_type": "markdown",
   "id": "6ea73c6e",
   "metadata": {},
   "source": [
    "### Dataframe with nulls in rating column "
   ]
  },
  {
   "cell_type": "code",
   "execution_count": null,
   "id": "f51ea02f",
   "metadata": {
    "scrolled": true
   },
   "outputs": [],
   "source": [
    "df3 = game_library[game_library['rating'].isnull()]\n",
    "df3.shape"
   ]
  },
  {
   "cell_type": "markdown",
   "id": "65cb8aac",
   "metadata": {},
   "source": [
    "## Explore"
   ]
  },
  {
   "cell_type": "code",
   "execution_count": null,
   "id": "53df93fc",
   "metadata": {
    "scrolled": true
   },
   "outputs": [],
   "source": [
    "game_library.head(20)"
   ]
  },
  {
   "cell_type": "code",
   "execution_count": null,
   "id": "62d52a3e",
   "metadata": {},
   "outputs": [],
   "source": [
    "game_library.player_perspectives.value_counts()"
   ]
  }
 ],
 "metadata": {
  "kernelspec": {
   "display_name": "Python 3 (ipykernel)",
   "language": "python",
   "name": "python3"
  },
  "language_info": {
   "codemirror_mode": {
    "name": "ipython",
    "version": 3
   },
   "file_extension": ".py",
   "mimetype": "text/x-python",
   "name": "python",
   "nbconvert_exporter": "python",
   "pygments_lexer": "ipython3",
   "version": "3.9.12"
  }
 },
 "nbformat": 4,
 "nbformat_minor": 5
}
