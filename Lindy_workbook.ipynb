{
 "cells": [
  {
   "cell_type": "code",
   "execution_count": 4,
   "id": "76e94276",
   "metadata": {},
   "outputs": [],
   "source": [
    "import requests\n",
    "import env\n",
    "from requests.models import Request, Response\n",
    "from env import Client_ID\n",
    "import pandas as pd\n",
    "from igdb.igdbapi_pb2 import GameResult\n",
    "from typing import Dict, List, Optional, Union, cast\n",
    "import acquire\n",
    "import json\n",
    "from igdb.wrapper import IGDBWrapper"
   ]
  },
  {
   "cell_type": "markdown",
   "id": "290d088d",
   "metadata": {},
   "source": [
    "### Connect to API and scrape the data needed\n",
    "#### get the access token and 200 response "
   ]
  },
  {
   "cell_type": "code",
   "execution_count": null,
   "id": "57f6b43f",
   "metadata": {},
   "outputs": [],
   "source": [
    "def get_api():   \n",
    "    url = env.get_db_url()\n",
    "    response = requests.post(url)\n",
    "    data = response.json()\n",
    "    access_token = data['access_token']\n",
    "    headers = {'Client-ID': f'{Client_ID}', 'Authorization': f'Bearer {access_token}'}\n",
    "    data = 'fields *;'\n",
    "    r = requests.post('https://api.igdb.com/v4/games', data=data, headers=headers)\n",
    "    return access_token, r"
   ]
  },
  {
   "cell_type": "code",
   "execution_count": 5,
   "id": "29b66c04",
   "metadata": {},
   "outputs": [],
   "source": [
    "access_token = acquire.connect_api()"
   ]
  },
  {
   "cell_type": "code",
   "execution_count": 6,
   "id": "3cd45157",
   "metadata": {},
   "outputs": [
    {
     "data": {
      "text/plain": [
       "'05tplnkwvez3tdzpywhpyel3nacoye'"
      ]
     },
     "execution_count": 6,
     "metadata": {},
     "output_type": "execute_result"
    }
   ],
   "source": [
    "access_token"
   ]
  },
  {
   "cell_type": "code",
   "execution_count": 7,
   "id": "9d3d4e87",
   "metadata": {},
   "outputs": [],
   "source": [
    "tf = acquire.connect_to_games()"
   ]
  },
  {
   "cell_type": "code",
   "execution_count": 8,
   "id": "b3c60aa9",
   "metadata": {},
   "outputs": [
    {
     "data": {
      "text/plain": [
       "<Response [200]>"
      ]
     },
     "execution_count": 8,
     "metadata": {},
     "output_type": "execute_result"
    }
   ],
   "source": [
    "tf"
   ]
  },
  {
   "cell_type": "code",
   "execution_count": 9,
   "id": "28137063",
   "metadata": {},
   "outputs": [],
   "source": [
    "wrapper = acquire.run_wrapper()"
   ]
  },
  {
   "cell_type": "code",
   "execution_count": null,
   "id": "0f04f4b6",
   "metadata": {},
   "outputs": [],
   "source": [
    "wrapper"
   ]
  },
  {
   "cell_type": "code",
   "execution_count": 10,
   "id": "1d7228e1",
   "metadata": {},
   "outputs": [
    {
     "data": {
      "text/html": [
       "<div>\n",
       "<style scoped>\n",
       "    .dataframe tbody tr th:only-of-type {\n",
       "        vertical-align: middle;\n",
       "    }\n",
       "\n",
       "    .dataframe tbody tr th {\n",
       "        vertical-align: top;\n",
       "    }\n",
       "\n",
       "    .dataframe thead th {\n",
       "        text-align: right;\n",
       "    }\n",
       "</style>\n",
       "<table border=\"1\" class=\"dataframe\">\n",
       "  <thead>\n",
       "    <tr style=\"text-align: right;\">\n",
       "      <th></th>\n",
       "      <th>id</th>\n",
       "      <th>category</th>\n",
       "      <th>created_at</th>\n",
       "      <th>external_games</th>\n",
       "      <th>first_release_date</th>\n",
       "      <th>genres</th>\n",
       "      <th>name</th>\n",
       "      <th>platforms</th>\n",
       "      <th>release_dates</th>\n",
       "      <th>similar_games</th>\n",
       "      <th>...</th>\n",
       "      <th>aggregated_rating_count</th>\n",
       "      <th>multiplayer_modes</th>\n",
       "      <th>remasters</th>\n",
       "      <th>remakes</th>\n",
       "      <th>dlcs</th>\n",
       "      <th>ports</th>\n",
       "      <th>expansions</th>\n",
       "      <th>expanded_games</th>\n",
       "      <th>forks</th>\n",
       "      <th>standalone_expansions</th>\n",
       "    </tr>\n",
       "  </thead>\n",
       "  <tbody>\n",
       "    <tr>\n",
       "      <th>0</th>\n",
       "      <td>40104</td>\n",
       "      <td>0</td>\n",
       "      <td>1498435200</td>\n",
       "      <td>[20127, 1988884]</td>\n",
       "      <td>5.364576e+08</td>\n",
       "      <td>[5]</td>\n",
       "      <td>Dogou Souken</td>\n",
       "      <td>[52]</td>\n",
       "      <td>[91007]</td>\n",
       "      <td>[12364, 27270, 43367, 103281, 103292, 103298, ...</td>\n",
       "      <td>...</td>\n",
       "      <td>NaN</td>\n",
       "      <td>NaN</td>\n",
       "      <td>NaN</td>\n",
       "      <td>NaN</td>\n",
       "      <td>NaN</td>\n",
       "      <td>NaN</td>\n",
       "      <td>NaN</td>\n",
       "      <td>NaN</td>\n",
       "      <td>NaN</td>\n",
       "      <td>NaN</td>\n",
       "    </tr>\n",
       "    <tr>\n",
       "      <th>1</th>\n",
       "      <td>85031</td>\n",
       "      <td>0</td>\n",
       "      <td>1517392813</td>\n",
       "      <td>[216805, 1969751, 2005770]</td>\n",
       "      <td>1.404346e+09</td>\n",
       "      <td>[9]</td>\n",
       "      <td>City Mysteries</td>\n",
       "      <td>[37]</td>\n",
       "      <td>[138333]</td>\n",
       "      <td>[10603, 19222, 25905, 41349, 86974, 87507, 885...</td>\n",
       "      <td>...</td>\n",
       "      <td>NaN</td>\n",
       "      <td>NaN</td>\n",
       "      <td>NaN</td>\n",
       "      <td>NaN</td>\n",
       "      <td>NaN</td>\n",
       "      <td>NaN</td>\n",
       "      <td>NaN</td>\n",
       "      <td>NaN</td>\n",
       "      <td>NaN</td>\n",
       "      <td>NaN</td>\n",
       "    </tr>\n",
       "    <tr>\n",
       "      <th>2</th>\n",
       "      <td>99234</td>\n",
       "      <td>0</td>\n",
       "      <td>1524843905</td>\n",
       "      <td>[603512, 1857496, 1917109]</td>\n",
       "      <td>1.527120e+09</td>\n",
       "      <td>[31, 32]</td>\n",
       "      <td>Sword of the Black Stone</td>\n",
       "      <td>[6]</td>\n",
       "      <td>[188385]</td>\n",
       "      <td>[25646, 29783, 68271, 80916, 96217, 105269, 10...</td>\n",
       "      <td>...</td>\n",
       "      <td>NaN</td>\n",
       "      <td>NaN</td>\n",
       "      <td>NaN</td>\n",
       "      <td>NaN</td>\n",
       "      <td>NaN</td>\n",
       "      <td>NaN</td>\n",
       "      <td>NaN</td>\n",
       "      <td>NaN</td>\n",
       "      <td>NaN</td>\n",
       "      <td>NaN</td>\n",
       "    </tr>\n",
       "    <tr>\n",
       "      <th>3</th>\n",
       "      <td>148930</td>\n",
       "      <td>0</td>\n",
       "      <td>1621959514</td>\n",
       "      <td>[2052375, 2057300]</td>\n",
       "      <td>NaN</td>\n",
       "      <td>[13, 15, 31, 32]</td>\n",
       "      <td>Bok-Bok: A Chicken Dating Sim</td>\n",
       "      <td>NaN</td>\n",
       "      <td>NaN</td>\n",
       "      <td>[25311, 26145, 28277, 33603, 51577, 65827, 791...</td>\n",
       "      <td>...</td>\n",
       "      <td>NaN</td>\n",
       "      <td>NaN</td>\n",
       "      <td>NaN</td>\n",
       "      <td>NaN</td>\n",
       "      <td>NaN</td>\n",
       "      <td>NaN</td>\n",
       "      <td>NaN</td>\n",
       "      <td>NaN</td>\n",
       "      <td>NaN</td>\n",
       "      <td>NaN</td>\n",
       "    </tr>\n",
       "    <tr>\n",
       "      <th>4</th>\n",
       "      <td>139538</td>\n",
       "      <td>0</td>\n",
       "      <td>1602368467</td>\n",
       "      <td>[1966278]</td>\n",
       "      <td>1.525910e+09</td>\n",
       "      <td>[32]</td>\n",
       "      <td>sun machine</td>\n",
       "      <td>[82]</td>\n",
       "      <td>[213594]</td>\n",
       "      <td>[11666, 13200, 13660, 17130, 25311, 28070, 348...</td>\n",
       "      <td>...</td>\n",
       "      <td>NaN</td>\n",
       "      <td>NaN</td>\n",
       "      <td>NaN</td>\n",
       "      <td>NaN</td>\n",
       "      <td>NaN</td>\n",
       "      <td>NaN</td>\n",
       "      <td>NaN</td>\n",
       "      <td>NaN</td>\n",
       "      <td>NaN</td>\n",
       "      <td>NaN</td>\n",
       "    </tr>\n",
       "  </tbody>\n",
       "</table>\n",
       "<p>5 rows × 55 columns</p>\n",
       "</div>"
      ],
      "text/plain": [
       "       id  category  created_at              external_games  \\\n",
       "0   40104         0  1498435200            [20127, 1988884]   \n",
       "1   85031         0  1517392813  [216805, 1969751, 2005770]   \n",
       "2   99234         0  1524843905  [603512, 1857496, 1917109]   \n",
       "3  148930         0  1621959514          [2052375, 2057300]   \n",
       "4  139538         0  1602368467                   [1966278]   \n",
       "\n",
       "   first_release_date            genres                           name  \\\n",
       "0        5.364576e+08               [5]                   Dogou Souken   \n",
       "1        1.404346e+09               [9]                 City Mysteries   \n",
       "2        1.527120e+09          [31, 32]       Sword of the Black Stone   \n",
       "3                 NaN  [13, 15, 31, 32]  Bok-Bok: A Chicken Dating Sim   \n",
       "4        1.525910e+09              [32]                    sun machine   \n",
       "\n",
       "  platforms release_dates                                      similar_games  \\\n",
       "0      [52]       [91007]  [12364, 27270, 43367, 103281, 103292, 103298, ...   \n",
       "1      [37]      [138333]  [10603, 19222, 25905, 41349, 86974, 87507, 885...   \n",
       "2       [6]      [188385]  [25646, 29783, 68271, 80916, 96217, 105269, 10...   \n",
       "3       NaN           NaN  [25311, 26145, 28277, 33603, 51577, 65827, 791...   \n",
       "4      [82]      [213594]  [11666, 13200, 13660, 17130, 25311, 28070, 348...   \n",
       "\n",
       "   ... aggregated_rating_count multiplayer_modes remasters  remakes dlcs  \\\n",
       "0  ...                     NaN               NaN       NaN      NaN  NaN   \n",
       "1  ...                     NaN               NaN       NaN      NaN  NaN   \n",
       "2  ...                     NaN               NaN       NaN      NaN  NaN   \n",
       "3  ...                     NaN               NaN       NaN      NaN  NaN   \n",
       "4  ...                     NaN               NaN       NaN      NaN  NaN   \n",
       "\n",
       "  ports expansions  expanded_games forks standalone_expansions  \n",
       "0   NaN        NaN             NaN   NaN                   NaN  \n",
       "1   NaN        NaN             NaN   NaN                   NaN  \n",
       "2   NaN        NaN             NaN   NaN                   NaN  \n",
       "3   NaN        NaN             NaN   NaN                   NaN  \n",
       "4   NaN        NaN             NaN   NaN                   NaN  \n",
       "\n",
       "[5 rows x 55 columns]"
      ]
     },
     "execution_count": 10,
     "metadata": {},
     "output_type": "execute_result"
    }
   ],
   "source": [
    "game_library = acquire.get_game_library(wrapper)\n",
    "game_library.head()"
   ]
  },
  {
   "cell_type": "code",
   "execution_count": 11,
   "id": "6bc82e8e",
   "metadata": {},
   "outputs": [
    {
     "ename": "NameError",
     "evalue": "name 'df' is not defined",
     "output_type": "error",
     "traceback": [
      "\u001b[0;31m---------------------------------------------------------------------------\u001b[0m",
      "\u001b[0;31mNameError\u001b[0m                                 Traceback (most recent call last)",
      "Input \u001b[0;32mIn [11]\u001b[0m, in \u001b[0;36m<cell line: 1>\u001b[0;34m()\u001b[0m\n\u001b[0;32m----> 1\u001b[0m \u001b[43mdf\u001b[49m\u001b[38;5;241m.\u001b[39mplatforms\u001b[38;5;241m.\u001b[39mtail(\u001b[38;5;241m10\u001b[39m)\u001b[38;5;241m.\u001b[39mvalues[\u001b[38;5;241m0\u001b[39m]\n",
      "\u001b[0;31mNameError\u001b[0m: name 'df' is not defined"
     ]
    }
   ],
   "source": [
    "df.platforms.tail(10).values[0]"
   ]
  },
  {
   "cell_type": "markdown",
   "id": "aeaba349",
   "metadata": {},
   "source": [
    "## scraping endpoints\n",
    "### scrape the end points of each category "
   ]
  },
  {
   "cell_type": "code",
   "execution_count": null,
   "id": "7857d259",
   "metadata": {},
   "outputs": [],
   "source": [
    "access_token\n"
   ]
  },
  {
   "cell_type": "code",
   "execution_count": null,
   "id": "405f196c",
   "metadata": {},
   "outputs": [],
   "source": [
    "df.head()"
   ]
  },
  {
   "cell_type": "markdown",
   "id": "05941ddc",
   "metadata": {},
   "source": [
    "### platform_families"
   ]
  },
  {
   "cell_type": "code",
   "execution_count": null,
   "id": "d7861b2f",
   "metadata": {},
   "outputs": [],
   "source": [
    "def get_platform_families():\n",
    "    headers = {'Client-ID': f'{Client_ID}', 'Authorization': f'Bearer {access_token}'}\n",
    "    data = 'fields *; '\n",
    "    r = requests.post('https://api.igdb.com/v4/platform_families' ,data=data ,  headers=headers)\n",
    "    platform_families = wrapper.api_request('platform_families', 'fields *;limit 500;')\n",
    "    x = json.loads(platform_families)\n",
    "    platform_families =pd.DataFrame(x)\n",
    "    return platform_families"
   ]
  },
  {
   "cell_type": "code",
   "execution_count": null,
   "id": "5123382b",
   "metadata": {},
   "outputs": [],
   "source": [
    "platform_families = get_platform_families()\n",
    "platform_families.head()"
   ]
  },
  {
   "cell_type": "code",
   "execution_count": null,
   "id": "e9415d8b",
   "metadata": {},
   "outputs": [],
   "source": [
    "df.columns"
   ]
  },
  {
   "cell_type": "markdown",
   "id": "7496d7e9",
   "metadata": {},
   "source": [
    "### platform_version_release_dates"
   ]
  },
  {
   "cell_type": "code",
   "execution_count": null,
   "id": "800173c5",
   "metadata": {},
   "outputs": [],
   "source": [
    "def get_platform_version_release():\n",
    "    headers = {'Client-ID': f'{Client_ID}', 'Authorization': f'Bearer {access_token}'}\n",
    "    data = 'fields *; '\n",
    "    r = requests.post('https://api.igdb.com/v4/platform_version_release_dates' ,data=data ,  headers=headers)\n",
    "    platform_version_release_dates = wrapper.api_request('platform_version_release_dates', 'fields *;limit 500;')\n",
    "    x = json.loads(platform_version_release_dates)\n",
    "    platform_version_release_dates =pd.DataFrame(x)\n",
    "    return platform_version_release_dates"
   ]
  },
  {
   "cell_type": "code",
   "execution_count": null,
   "id": "0be9d68f",
   "metadata": {
    "scrolled": true
   },
   "outputs": [],
   "source": [
    "platform_version_release_dates = get_platform_version_release()\n",
    "platform_version_release_dates"
   ]
  },
  {
   "cell_type": "code",
   "execution_count": null,
   "id": "1e6ada02",
   "metadata": {},
   "outputs": [],
   "source": [
    "# drop columns not needed\n",
    "platform_version_release_dates = platform_version_release_dates.drop(columns=['category', 'date', 'm', 'y', 'region', 'updated_at', 'checksum', 'updated_at'])\n",
    "platform_version_release_dates.head()\n"
   ]
  },
  {
   "cell_type": "code",
   "execution_count": null,
   "id": "dc67eecb",
   "metadata": {},
   "outputs": [],
   "source": [
    "df.head()"
   ]
  },
  {
   "cell_type": "code",
   "execution_count": null,
   "id": "84141050",
   "metadata": {},
   "outputs": [],
   "source": [
    "version_dates_dict[9] = 'not_available'\n",
    "version_dates_dict[384] = 'not_available'\n",
    "version_dates_dict[386] = 'not_available'\n"
   ]
  },
  {
   "cell_type": "code",
   "execution_count": null,
   "id": "444b76a3",
   "metadata": {},
   "outputs": [],
   "source": [
    "version_dates_list = platform_version_release_dates[['game' , 'human']].sort_values(by='game').reset_index(drop=True)\n",
    "version_dates_dict = platform_version_release_dates.set_index('game').to_dict()['human']"
   ]
  },
  {
   "cell_type": "code",
   "execution_count": null,
   "id": "171e086b",
   "metadata": {},
   "outputs": [],
   "source": [
    "def test_funct3(random_list):\n",
    "    if type(random_list) == list:\n",
    "        return [version_dates_dict[i] for i in random_list]\n",
    "    else:  \n",
    "        return \"Not available\""
   ]
  },
  {
   "cell_type": "code",
   "execution_count": null,
   "id": "3168df85",
   "metadata": {},
   "outputs": [],
   "source": [
    "platforms.set_index('Locality', inplace=True)\n",
    "data.set_index('Locality', inplace=True)\n"
   ]
  },
  {
   "cell_type": "code",
   "execution_count": null,
   "id": "c3ce2ed4",
   "metadata": {},
   "outputs": [],
   "source": [
    "df['release_dates'] = df.release_dates.apply(test_funct3)\n",
    "df.head()"
   ]
  },
  {
   "cell_type": "code",
   "execution_count": null,
   "id": "6b3d561e",
   "metadata": {},
   "outputs": [],
   "source": [
    "all_release_dates = pd.merge(release_dates, platform_version_release_dates, how = 'inner', on=\"human\")"
   ]
  },
  {
   "cell_type": "code",
   "execution_count": null,
   "id": "9e216c9d",
   "metadata": {},
   "outputs": [],
   "source": [
    "#pd.set_option('display.max_rows', 500)\n",
    "pd.set_option('display.max_columns', 500)\n",
    "pd.set_option('display.width', 1000)\n",
    "df.head()"
   ]
  },
  {
   "cell_type": "markdown",
   "id": "41cd1aad",
   "metadata": {},
   "source": [
    "### platform_version_companies"
   ]
  },
  {
   "cell_type": "code",
   "execution_count": null,
   "id": "d34cad67",
   "metadata": {},
   "outputs": [],
   "source": [
    "def get_platform_version_companies():\n",
    "    headers = {'Client-ID': f'{Client_ID}', 'Authorization': f'Bearer {access_token}'}\n",
    "    data = 'fields *; '\n",
    "    r = requests.post('https://api.igdb.com/v4/platform_version_companies' ,data=data ,  headers=headers)\n",
    "    platform_version_companies = wrapper.api_request('platform_version_companies', 'fields *;limit 500;')\n",
    "    x = json.loads(platform_version_companies)\n",
    "    platform_version_companies =pd.DataFrame(x)\n",
    "    return platform_version_companies"
   ]
  },
  {
   "cell_type": "code",
   "execution_count": null,
   "id": "27187b16",
   "metadata": {},
   "outputs": [],
   "source": [
    "platform_version_companies=get_platform_version_companies()\n",
    "platform_version_companies.head()"
   ]
  },
  {
   "cell_type": "markdown",
   "id": "109764f6",
   "metadata": {},
   "source": [
    "### platforms"
   ]
  },
  {
   "cell_type": "code",
   "execution_count": 12,
   "id": "0b1864e8",
   "metadata": {},
   "outputs": [],
   "source": [
    "def get_platforms():\n",
    "    headers = {'Client-ID': f'{Client_ID}', 'Authorization': f'Bearer {access_token}'}\n",
    "    data = 'fields *; '\n",
    "    r = requests.post('https://api.igdb.com/v4/platforms' ,data=data ,  headers=headers)\n",
    "    platforms = wrapper.api_request('platforms', 'fields *;limit 500;')\n",
    "    x = json.loads(platforms)\n",
    "    platforms =pd.DataFrame(x)\n",
    "    return platforms"
   ]
  },
  {
   "cell_type": "code",
   "execution_count": 13,
   "id": "5575f6e9",
   "metadata": {},
   "outputs": [
    {
     "data": {
      "text/plain": [
       "(197, 16)"
      ]
     },
     "execution_count": 13,
     "metadata": {},
     "output_type": "execute_result"
    }
   ],
   "source": [
    "platform = get_platforms()\n",
    "platform.shape"
   ]
  },
  {
   "cell_type": "code",
   "execution_count": null,
   "id": "1152b509",
   "metadata": {},
   "outputs": [],
   "source": [
    "platform.head()"
   ]
  },
  {
   "cell_type": "code",
   "execution_count": null,
   "id": "653fb95f",
   "metadata": {},
   "outputs": [],
   "source": [
    "# see if there is a number in id that matches the big df\n",
    "platform.loc[platform['id'] == 5]"
   ]
  },
  {
   "cell_type": "code",
   "execution_count": null,
   "id": "d9b6c373",
   "metadata": {},
   "outputs": [],
   "source": [
    "platform = platform.drop(columns=['alternative_name', 'category', 'created_at', 'platform_logo', 'updated_at', 'url', 'checksum', 'versions', 'websites', 'generation', 'platform_family', 'abbreviation', 'summary'])\n",
    "platform.head()\n"
   ]
  },
  {
   "cell_type": "code",
   "execution_count": null,
   "id": "38dd6f78",
   "metadata": {},
   "outputs": [],
   "source": [
    "# looking at the dictionary\n",
    "print(df.get(92, \"Not found\"))"
   ]
  },
  {
   "cell_type": "code",
   "execution_count": null,
   "id": "a673faaa",
   "metadata": {
    "scrolled": true
   },
   "outputs": [],
   "source": [
    "df.platforms.iloc[2]"
   ]
  },
  {
   "cell_type": "code",
   "execution_count": 14,
   "id": "e454cc8a",
   "metadata": {},
   "outputs": [],
   "source": [
    "platformlist = platform[['id' , 'name']].sort_values(by='id').reset_index(drop=True)\n"
   ]
  },
  {
   "cell_type": "code",
   "execution_count": 15,
   "id": "4be77b18",
   "metadata": {},
   "outputs": [],
   "source": [
    "platform_dict = platformlist.set_index('id').to_dict()['name']"
   ]
  },
  {
   "cell_type": "code",
   "execution_count": 18,
   "id": "550e777e",
   "metadata": {},
   "outputs": [],
   "source": [
    "platform_dict[92] = 'not_available'"
   ]
  },
  {
   "cell_type": "code",
   "execution_count": null,
   "id": "ac351b13",
   "metadata": {},
   "outputs": [],
   "source": [
    "platform_dict['0'] = 'not_available'"
   ]
  },
  {
   "cell_type": "code",
   "execution_count": null,
   "id": "3ee25e30",
   "metadata": {},
   "outputs": [],
   "source": [
    "import numpy as np\n",
    "platform.head()"
   ]
  },
  {
   "cell_type": "code",
   "execution_count": null,
   "id": "ecbc4206",
   "metadata": {},
   "outputs": [],
   "source": [
    "platform_dict"
   ]
  },
  {
   "cell_type": "code",
   "execution_count": 16,
   "id": "30140af7",
   "metadata": {},
   "outputs": [],
   "source": [
    "def test_funct(random_list):\n",
    "    if type(random_list) == list:\n",
    "        return [platform_dict[i] for i in random_list]\n",
    "    else:  \n",
    "        return \"Not available\""
   ]
  },
  {
   "cell_type": "code",
   "execution_count": null,
   "id": "5f2e6946",
   "metadata": {},
   "outputs": [],
   "source": [
    "print(platform.get('id', \"Not found\"))"
   ]
  },
  {
   "cell_type": "code",
   "execution_count": null,
   "id": "52fb0e35",
   "metadata": {},
   "outputs": [],
   "source": [
    "df.platforms.info(10)"
   ]
  },
  {
   "cell_type": "code",
   "execution_count": 19,
   "id": "546b65ef",
   "metadata": {
    "scrolled": true
   },
   "outputs": [
    {
     "data": {
      "text/html": [
       "<div>\n",
       "<style scoped>\n",
       "    .dataframe tbody tr th:only-of-type {\n",
       "        vertical-align: middle;\n",
       "    }\n",
       "\n",
       "    .dataframe tbody tr th {\n",
       "        vertical-align: top;\n",
       "    }\n",
       "\n",
       "    .dataframe thead th {\n",
       "        text-align: right;\n",
       "    }\n",
       "</style>\n",
       "<table border=\"1\" class=\"dataframe\">\n",
       "  <thead>\n",
       "    <tr style=\"text-align: right;\">\n",
       "      <th></th>\n",
       "      <th>id</th>\n",
       "      <th>category</th>\n",
       "      <th>created_at</th>\n",
       "      <th>external_games</th>\n",
       "      <th>first_release_date</th>\n",
       "      <th>genres</th>\n",
       "      <th>name</th>\n",
       "      <th>platforms</th>\n",
       "      <th>release_dates</th>\n",
       "      <th>similar_games</th>\n",
       "      <th>...</th>\n",
       "      <th>aggregated_rating_count</th>\n",
       "      <th>multiplayer_modes</th>\n",
       "      <th>remasters</th>\n",
       "      <th>remakes</th>\n",
       "      <th>dlcs</th>\n",
       "      <th>ports</th>\n",
       "      <th>expansions</th>\n",
       "      <th>expanded_games</th>\n",
       "      <th>forks</th>\n",
       "      <th>standalone_expansions</th>\n",
       "    </tr>\n",
       "  </thead>\n",
       "  <tbody>\n",
       "    <tr>\n",
       "      <th>0</th>\n",
       "      <td>40104</td>\n",
       "      <td>0</td>\n",
       "      <td>1498435200</td>\n",
       "      <td>[20127, 1988884]</td>\n",
       "      <td>5.364576e+08</td>\n",
       "      <td>[5]</td>\n",
       "      <td>Dogou Souken</td>\n",
       "      <td>[Arcade]</td>\n",
       "      <td>[91007]</td>\n",
       "      <td>[12364, 27270, 43367, 103281, 103292, 103298, ...</td>\n",
       "      <td>...</td>\n",
       "      <td>NaN</td>\n",
       "      <td>NaN</td>\n",
       "      <td>NaN</td>\n",
       "      <td>NaN</td>\n",
       "      <td>NaN</td>\n",
       "      <td>NaN</td>\n",
       "      <td>NaN</td>\n",
       "      <td>NaN</td>\n",
       "      <td>NaN</td>\n",
       "      <td>NaN</td>\n",
       "    </tr>\n",
       "    <tr>\n",
       "      <th>1</th>\n",
       "      <td>85031</td>\n",
       "      <td>0</td>\n",
       "      <td>1517392813</td>\n",
       "      <td>[216805, 1969751, 2005770]</td>\n",
       "      <td>1.404346e+09</td>\n",
       "      <td>[9]</td>\n",
       "      <td>City Mysteries</td>\n",
       "      <td>[Nintendo 3DS]</td>\n",
       "      <td>[138333]</td>\n",
       "      <td>[10603, 19222, 25905, 41349, 86974, 87507, 885...</td>\n",
       "      <td>...</td>\n",
       "      <td>NaN</td>\n",
       "      <td>NaN</td>\n",
       "      <td>NaN</td>\n",
       "      <td>NaN</td>\n",
       "      <td>NaN</td>\n",
       "      <td>NaN</td>\n",
       "      <td>NaN</td>\n",
       "      <td>NaN</td>\n",
       "      <td>NaN</td>\n",
       "      <td>NaN</td>\n",
       "    </tr>\n",
       "    <tr>\n",
       "      <th>2</th>\n",
       "      <td>99234</td>\n",
       "      <td>0</td>\n",
       "      <td>1524843905</td>\n",
       "      <td>[603512, 1857496, 1917109]</td>\n",
       "      <td>1.527120e+09</td>\n",
       "      <td>[31, 32]</td>\n",
       "      <td>Sword of the Black Stone</td>\n",
       "      <td>[PC (Microsoft Windows)]</td>\n",
       "      <td>[188385]</td>\n",
       "      <td>[25646, 29783, 68271, 80916, 96217, 105269, 10...</td>\n",
       "      <td>...</td>\n",
       "      <td>NaN</td>\n",
       "      <td>NaN</td>\n",
       "      <td>NaN</td>\n",
       "      <td>NaN</td>\n",
       "      <td>NaN</td>\n",
       "      <td>NaN</td>\n",
       "      <td>NaN</td>\n",
       "      <td>NaN</td>\n",
       "      <td>NaN</td>\n",
       "      <td>NaN</td>\n",
       "    </tr>\n",
       "    <tr>\n",
       "      <th>3</th>\n",
       "      <td>148930</td>\n",
       "      <td>0</td>\n",
       "      <td>1621959514</td>\n",
       "      <td>[2052375, 2057300]</td>\n",
       "      <td>NaN</td>\n",
       "      <td>[13, 15, 31, 32]</td>\n",
       "      <td>Bok-Bok: A Chicken Dating Sim</td>\n",
       "      <td>Not available</td>\n",
       "      <td>NaN</td>\n",
       "      <td>[25311, 26145, 28277, 33603, 51577, 65827, 791...</td>\n",
       "      <td>...</td>\n",
       "      <td>NaN</td>\n",
       "      <td>NaN</td>\n",
       "      <td>NaN</td>\n",
       "      <td>NaN</td>\n",
       "      <td>NaN</td>\n",
       "      <td>NaN</td>\n",
       "      <td>NaN</td>\n",
       "      <td>NaN</td>\n",
       "      <td>NaN</td>\n",
       "      <td>NaN</td>\n",
       "    </tr>\n",
       "    <tr>\n",
       "      <th>4</th>\n",
       "      <td>139538</td>\n",
       "      <td>0</td>\n",
       "      <td>1602368467</td>\n",
       "      <td>[1966278]</td>\n",
       "      <td>1.525910e+09</td>\n",
       "      <td>[32]</td>\n",
       "      <td>sun machine</td>\n",
       "      <td>[Web browser]</td>\n",
       "      <td>[213594]</td>\n",
       "      <td>[11666, 13200, 13660, 17130, 25311, 28070, 348...</td>\n",
       "      <td>...</td>\n",
       "      <td>NaN</td>\n",
       "      <td>NaN</td>\n",
       "      <td>NaN</td>\n",
       "      <td>NaN</td>\n",
       "      <td>NaN</td>\n",
       "      <td>NaN</td>\n",
       "      <td>NaN</td>\n",
       "      <td>NaN</td>\n",
       "      <td>NaN</td>\n",
       "      <td>NaN</td>\n",
       "    </tr>\n",
       "  </tbody>\n",
       "</table>\n",
       "<p>5 rows × 55 columns</p>\n",
       "</div>"
      ],
      "text/plain": [
       "       id  category  created_at              external_games  \\\n",
       "0   40104         0  1498435200            [20127, 1988884]   \n",
       "1   85031         0  1517392813  [216805, 1969751, 2005770]   \n",
       "2   99234         0  1524843905  [603512, 1857496, 1917109]   \n",
       "3  148930         0  1621959514          [2052375, 2057300]   \n",
       "4  139538         0  1602368467                   [1966278]   \n",
       "\n",
       "   first_release_date            genres                           name  \\\n",
       "0        5.364576e+08               [5]                   Dogou Souken   \n",
       "1        1.404346e+09               [9]                 City Mysteries   \n",
       "2        1.527120e+09          [31, 32]       Sword of the Black Stone   \n",
       "3                 NaN  [13, 15, 31, 32]  Bok-Bok: A Chicken Dating Sim   \n",
       "4        1.525910e+09              [32]                    sun machine   \n",
       "\n",
       "                  platforms release_dates  \\\n",
       "0                  [Arcade]       [91007]   \n",
       "1            [Nintendo 3DS]      [138333]   \n",
       "2  [PC (Microsoft Windows)]      [188385]   \n",
       "3             Not available           NaN   \n",
       "4             [Web browser]      [213594]   \n",
       "\n",
       "                                       similar_games  ...  \\\n",
       "0  [12364, 27270, 43367, 103281, 103292, 103298, ...  ...   \n",
       "1  [10603, 19222, 25905, 41349, 86974, 87507, 885...  ...   \n",
       "2  [25646, 29783, 68271, 80916, 96217, 105269, 10...  ...   \n",
       "3  [25311, 26145, 28277, 33603, 51577, 65827, 791...  ...   \n",
       "4  [11666, 13200, 13660, 17130, 25311, 28070, 348...  ...   \n",
       "\n",
       "  aggregated_rating_count multiplayer_modes remasters  remakes dlcs ports  \\\n",
       "0                     NaN               NaN       NaN      NaN  NaN   NaN   \n",
       "1                     NaN               NaN       NaN      NaN  NaN   NaN   \n",
       "2                     NaN               NaN       NaN      NaN  NaN   NaN   \n",
       "3                     NaN               NaN       NaN      NaN  NaN   NaN   \n",
       "4                     NaN               NaN       NaN      NaN  NaN   NaN   \n",
       "\n",
       "  expansions  expanded_games forks standalone_expansions  \n",
       "0        NaN             NaN   NaN                   NaN  \n",
       "1        NaN             NaN   NaN                   NaN  \n",
       "2        NaN             NaN   NaN                   NaN  \n",
       "3        NaN             NaN   NaN                   NaN  \n",
       "4        NaN             NaN   NaN                   NaN  \n",
       "\n",
       "[5 rows x 55 columns]"
      ]
     },
     "execution_count": 19,
     "metadata": {},
     "output_type": "execute_result"
    }
   ],
   "source": [
    "game_library['platforms'] = game_library.platforms.apply(test_funct)\n",
    "game_library.head()"
   ]
  },
  {
   "cell_type": "code",
   "execution_count": null,
   "id": "2974833a",
   "metadata": {
    "scrolled": true
   },
   "outputs": [],
   "source": [
    "df.loc[df['platforms'] == '3ds']"
   ]
  },
  {
   "cell_type": "code",
   "execution_count": null,
   "id": "7119f8af",
   "metadata": {},
   "outputs": [],
   "source": [
    "df.loc[df['platforms'].notnull()]"
   ]
  },
  {
   "cell_type": "markdown",
   "id": "ad021d8c",
   "metadata": {},
   "source": [
    "### release_dates"
   ]
  },
  {
   "cell_type": "code",
   "execution_count": null,
   "id": "e5baa804",
   "metadata": {},
   "outputs": [],
   "source": [
    "def get_release_dates():\n",
    "    headers = {'Client-ID': f'{Client_ID}', 'Authorization': f'Bearer {access_token}'}\n",
    "    data = 'fields *; '\n",
    "    r = requests.post('https://api.igdb.com/v4/release_dates' ,data=data ,  headers=headers)\n",
    "    release_dates = wrapper.api_request('release_dates', 'fields *;limit 500;')\n",
    "    x = json.loads(release_dates)\n",
    "    release_dates =pd.DataFrame(x)\n",
    "    return release_dates"
   ]
  },
  {
   "cell_type": "code",
   "execution_count": null,
   "id": "7ff067ee",
   "metadata": {},
   "outputs": [],
   "source": [
    "release_dates = get_release_dates()\n",
    "release_dates.shape"
   ]
  },
  {
   "cell_type": "code",
   "execution_count": null,
   "id": "b12801f4",
   "metadata": {},
   "outputs": [],
   "source": [
    "release_dates = release_dates.drop(columns=['category', 'date', 'm', 'region', 'updated_at', 'y', 'checksum', 'created_at', 'platform'])\n",
    "release_dates.head()"
   ]
  },
  {
   "cell_type": "code",
   "execution_count": null,
   "id": "c724881d",
   "metadata": {},
   "outputs": [],
   "source": [
    "release_dates"
   ]
  },
  {
   "cell_type": "code",
   "execution_count": null,
   "id": "beeb75e4",
   "metadata": {},
   "outputs": [],
   "source": [
    "# add to dictionary\n",
    "release_dict[91007] = \"not-available\"\n",
    "release_dict[138333] = \"not-available\"\n",
    "release_dict[188385] = \"not-available\"\n",
    "release_dict[213594] = \"not-available\"\n",
    "release_dict[77755] = \"not-available\"\n"
   ]
  },
  {
   "cell_type": "code",
   "execution_count": null,
   "id": "9f1adb7b",
   "metadata": {},
   "outputs": [],
   "source": [
    "releaselist = release_dates[['game' , 'human']].sort_values(by='game').reset_index(drop=True)\n",
    "release_dict = releaselist.set_index('game').to_dict()['human']"
   ]
  },
  {
   "cell_type": "code",
   "execution_count": null,
   "id": "1c9b4ebd",
   "metadata": {},
   "outputs": [],
   "source": [
    "release_dates.head()"
   ]
  },
  {
   "cell_type": "code",
   "execution_count": null,
   "id": "a1b6d94a",
   "metadata": {},
   "outputs": [],
   "source": [
    "def test_funct2(random_list):\n",
    "    if type(random_list) == list:\n",
    "        return [release_dict[i] for i in random_list]\n",
    "    else:  \n",
    "        return \"Not available\""
   ]
  },
  {
   "cell_type": "code",
   "execution_count": null,
   "id": "cc08f03d",
   "metadata": {},
   "outputs": [],
   "source": [
    "release_dict"
   ]
  },
  {
   "cell_type": "code",
   "execution_count": null,
   "id": "795b1c34",
   "metadata": {},
   "outputs": [],
   "source": [
    "df.release_dates.head()"
   ]
  },
  {
   "cell_type": "code",
   "execution_count": null,
   "id": "67853440",
   "metadata": {},
   "outputs": [],
   "source": [
    "df['release_dates'] = pd.DataFrame(df.release_dates.apply(test_funct2))\n",
    "df"
   ]
  },
  {
   "cell_type": "code",
   "execution_count": null,
   "id": "65cdc53d",
   "metadata": {},
   "outputs": [],
   "source": [
    "release_dict"
   ]
  },
  {
   "cell_type": "code",
   "execution_count": null,
   "id": "78383301",
   "metadata": {},
   "outputs": [],
   "source": [
    "# add 0 and description to dictionary\n",
    "release_dict[\"0\"] = \"not-available\""
   ]
  },
  {
   "cell_type": "markdown",
   "id": "8471313c",
   "metadata": {},
   "source": [
    "### platform_versions"
   ]
  },
  {
   "cell_type": "code",
   "execution_count": null,
   "id": "f0ad0482",
   "metadata": {},
   "outputs": [],
   "source": [
    "def get_platform_versions():\n",
    "    headers = {'Client-ID': f'{Client_ID}', 'Authorization': f'Bearer {access_token}'}\n",
    "    data = 'fields *; '\n",
    "    r = requests.post('https://api.igdb.com/v4/platform_versions' ,data=data ,  headers=headers)\n",
    "    platform_versions = wrapper.api_request('platform_versions', 'fields *;limit 500;')\n",
    "    x = json.loads(platform_versions)\n",
    "    platform_versions=pd.DataFrame(x)\n",
    "    return platform_versions"
   ]
  },
  {
   "cell_type": "code",
   "execution_count": null,
   "id": "4f75299b",
   "metadata": {},
   "outputs": [],
   "source": [
    "platform_versions = get_platform_versions()\n",
    "platform_versions.shape"
   ]
  },
  {
   "cell_type": "code",
   "execution_count": null,
   "id": "e9fd54d7",
   "metadata": {},
   "outputs": [],
   "source": [
    "platform_versions.head()"
   ]
  },
  {
   "cell_type": "code",
   "execution_count": null,
   "id": "587b139f",
   "metadata": {},
   "outputs": [],
   "source": [
    "df.columns"
   ]
  },
  {
   "cell_type": "markdown",
   "id": "b206a432",
   "metadata": {},
   "source": [
    "### player_perspectives"
   ]
  },
  {
   "cell_type": "code",
   "execution_count": 20,
   "id": "e29dfc4c",
   "metadata": {},
   "outputs": [],
   "source": [
    "def get_player_perspectives():\n",
    "    headers = {'Client-ID': f'{Client_ID}', 'Authorization': f'Bearer {access_token}'}\n",
    "    data = 'fields *; '\n",
    "    r = requests.post('https://api.igdb.com/v4/player_perspectives' ,data=data ,  headers=headers)\n",
    "    player_perspectives = wrapper.api_request('player_perspectives', 'fields *;limit 500;')\n",
    "    x = json.loads(player_perspectives)\n",
    "    player_perspectives=pd.DataFrame(x)\n",
    "    return player_perspectives"
   ]
  },
  {
   "cell_type": "code",
   "execution_count": 21,
   "id": "3e7710f8",
   "metadata": {},
   "outputs": [
    {
     "data": {
      "text/plain": [
       "(7, 7)"
      ]
     },
     "execution_count": 21,
     "metadata": {},
     "output_type": "execute_result"
    }
   ],
   "source": [
    "player_perspectives = get_player_perspectives()\n",
    "player_perspectives.shape"
   ]
  },
  {
   "cell_type": "code",
   "execution_count": null,
   "id": "ab8921ae",
   "metadata": {},
   "outputs": [],
   "source": [
    "player_perspectives.head()"
   ]
  },
  {
   "cell_type": "code",
   "execution_count": null,
   "id": "d7d35fea",
   "metadata": {},
   "outputs": [],
   "source": [
    "player_perspectives = player_perspectives.drop(columns=['created_at','updated_at', 'url', 'checksum'])\n",
    "player_perspectives.head()\n"
   ]
  },
  {
   "cell_type": "code",
   "execution_count": 22,
   "id": "a0b8869c",
   "metadata": {},
   "outputs": [],
   "source": [
    "player_perspectives_list = player_perspectives[['id' , 'name']].sort_values(by='id').reset_index(drop=True)\n",
    "player_perspectives_dict = player_perspectives.set_index('id').to_dict()['name']"
   ]
  },
  {
   "cell_type": "code",
   "execution_count": 23,
   "id": "2e9a70f3",
   "metadata": {},
   "outputs": [],
   "source": [
    "def test_funct4(random_list):\n",
    "    if type(random_list) == list:\n",
    "        return [player_perspectives_dict[i] for i in random_list]\n",
    "    else:  \n",
    "        return \"Not available\""
   ]
  },
  {
   "cell_type": "code",
   "execution_count": 24,
   "id": "21495c38",
   "metadata": {},
   "outputs": [
    {
     "data": {
      "text/html": [
       "<div>\n",
       "<style scoped>\n",
       "    .dataframe tbody tr th:only-of-type {\n",
       "        vertical-align: middle;\n",
       "    }\n",
       "\n",
       "    .dataframe tbody tr th {\n",
       "        vertical-align: top;\n",
       "    }\n",
       "\n",
       "    .dataframe thead th {\n",
       "        text-align: right;\n",
       "    }\n",
       "</style>\n",
       "<table border=\"1\" class=\"dataframe\">\n",
       "  <thead>\n",
       "    <tr style=\"text-align: right;\">\n",
       "      <th></th>\n",
       "      <th>id</th>\n",
       "      <th>category</th>\n",
       "      <th>created_at</th>\n",
       "      <th>external_games</th>\n",
       "      <th>first_release_date</th>\n",
       "      <th>genres</th>\n",
       "      <th>name</th>\n",
       "      <th>platforms</th>\n",
       "      <th>release_dates</th>\n",
       "      <th>similar_games</th>\n",
       "      <th>...</th>\n",
       "      <th>aggregated_rating_count</th>\n",
       "      <th>multiplayer_modes</th>\n",
       "      <th>remasters</th>\n",
       "      <th>remakes</th>\n",
       "      <th>dlcs</th>\n",
       "      <th>ports</th>\n",
       "      <th>expansions</th>\n",
       "      <th>expanded_games</th>\n",
       "      <th>forks</th>\n",
       "      <th>standalone_expansions</th>\n",
       "    </tr>\n",
       "  </thead>\n",
       "  <tbody>\n",
       "    <tr>\n",
       "      <th>0</th>\n",
       "      <td>40104</td>\n",
       "      <td>0</td>\n",
       "      <td>1498435200</td>\n",
       "      <td>[20127, 1988884]</td>\n",
       "      <td>5.364576e+08</td>\n",
       "      <td>[5]</td>\n",
       "      <td>Dogou Souken</td>\n",
       "      <td>[Arcade]</td>\n",
       "      <td>[91007]</td>\n",
       "      <td>[12364, 27270, 43367, 103281, 103292, 103298, ...</td>\n",
       "      <td>...</td>\n",
       "      <td>NaN</td>\n",
       "      <td>NaN</td>\n",
       "      <td>NaN</td>\n",
       "      <td>NaN</td>\n",
       "      <td>NaN</td>\n",
       "      <td>NaN</td>\n",
       "      <td>NaN</td>\n",
       "      <td>NaN</td>\n",
       "      <td>NaN</td>\n",
       "      <td>NaN</td>\n",
       "    </tr>\n",
       "    <tr>\n",
       "      <th>1</th>\n",
       "      <td>85031</td>\n",
       "      <td>0</td>\n",
       "      <td>1517392813</td>\n",
       "      <td>[216805, 1969751, 2005770]</td>\n",
       "      <td>1.404346e+09</td>\n",
       "      <td>[9]</td>\n",
       "      <td>City Mysteries</td>\n",
       "      <td>[Nintendo 3DS]</td>\n",
       "      <td>[138333]</td>\n",
       "      <td>[10603, 19222, 25905, 41349, 86974, 87507, 885...</td>\n",
       "      <td>...</td>\n",
       "      <td>NaN</td>\n",
       "      <td>NaN</td>\n",
       "      <td>NaN</td>\n",
       "      <td>NaN</td>\n",
       "      <td>NaN</td>\n",
       "      <td>NaN</td>\n",
       "      <td>NaN</td>\n",
       "      <td>NaN</td>\n",
       "      <td>NaN</td>\n",
       "      <td>NaN</td>\n",
       "    </tr>\n",
       "    <tr>\n",
       "      <th>2</th>\n",
       "      <td>99234</td>\n",
       "      <td>0</td>\n",
       "      <td>1524843905</td>\n",
       "      <td>[603512, 1857496, 1917109]</td>\n",
       "      <td>1.527120e+09</td>\n",
       "      <td>[31, 32]</td>\n",
       "      <td>Sword of the Black Stone</td>\n",
       "      <td>[PC (Microsoft Windows)]</td>\n",
       "      <td>[188385]</td>\n",
       "      <td>[25646, 29783, 68271, 80916, 96217, 105269, 10...</td>\n",
       "      <td>...</td>\n",
       "      <td>NaN</td>\n",
       "      <td>NaN</td>\n",
       "      <td>NaN</td>\n",
       "      <td>NaN</td>\n",
       "      <td>NaN</td>\n",
       "      <td>NaN</td>\n",
       "      <td>NaN</td>\n",
       "      <td>NaN</td>\n",
       "      <td>NaN</td>\n",
       "      <td>NaN</td>\n",
       "    </tr>\n",
       "    <tr>\n",
       "      <th>3</th>\n",
       "      <td>148930</td>\n",
       "      <td>0</td>\n",
       "      <td>1621959514</td>\n",
       "      <td>[2052375, 2057300]</td>\n",
       "      <td>NaN</td>\n",
       "      <td>[13, 15, 31, 32]</td>\n",
       "      <td>Bok-Bok: A Chicken Dating Sim</td>\n",
       "      <td>Not available</td>\n",
       "      <td>NaN</td>\n",
       "      <td>[25311, 26145, 28277, 33603, 51577, 65827, 791...</td>\n",
       "      <td>...</td>\n",
       "      <td>NaN</td>\n",
       "      <td>NaN</td>\n",
       "      <td>NaN</td>\n",
       "      <td>NaN</td>\n",
       "      <td>NaN</td>\n",
       "      <td>NaN</td>\n",
       "      <td>NaN</td>\n",
       "      <td>NaN</td>\n",
       "      <td>NaN</td>\n",
       "      <td>NaN</td>\n",
       "    </tr>\n",
       "    <tr>\n",
       "      <th>4</th>\n",
       "      <td>139538</td>\n",
       "      <td>0</td>\n",
       "      <td>1602368467</td>\n",
       "      <td>[1966278]</td>\n",
       "      <td>1.525910e+09</td>\n",
       "      <td>[32]</td>\n",
       "      <td>sun machine</td>\n",
       "      <td>[Web browser]</td>\n",
       "      <td>[213594]</td>\n",
       "      <td>[11666, 13200, 13660, 17130, 25311, 28070, 348...</td>\n",
       "      <td>...</td>\n",
       "      <td>NaN</td>\n",
       "      <td>NaN</td>\n",
       "      <td>NaN</td>\n",
       "      <td>NaN</td>\n",
       "      <td>NaN</td>\n",
       "      <td>NaN</td>\n",
       "      <td>NaN</td>\n",
       "      <td>NaN</td>\n",
       "      <td>NaN</td>\n",
       "      <td>NaN</td>\n",
       "    </tr>\n",
       "  </tbody>\n",
       "</table>\n",
       "<p>5 rows × 55 columns</p>\n",
       "</div>"
      ],
      "text/plain": [
       "       id  category  created_at              external_games  \\\n",
       "0   40104         0  1498435200            [20127, 1988884]   \n",
       "1   85031         0  1517392813  [216805, 1969751, 2005770]   \n",
       "2   99234         0  1524843905  [603512, 1857496, 1917109]   \n",
       "3  148930         0  1621959514          [2052375, 2057300]   \n",
       "4  139538         0  1602368467                   [1966278]   \n",
       "\n",
       "   first_release_date            genres                           name  \\\n",
       "0        5.364576e+08               [5]                   Dogou Souken   \n",
       "1        1.404346e+09               [9]                 City Mysteries   \n",
       "2        1.527120e+09          [31, 32]       Sword of the Black Stone   \n",
       "3                 NaN  [13, 15, 31, 32]  Bok-Bok: A Chicken Dating Sim   \n",
       "4        1.525910e+09              [32]                    sun machine   \n",
       "\n",
       "                  platforms release_dates  \\\n",
       "0                  [Arcade]       [91007]   \n",
       "1            [Nintendo 3DS]      [138333]   \n",
       "2  [PC (Microsoft Windows)]      [188385]   \n",
       "3             Not available           NaN   \n",
       "4             [Web browser]      [213594]   \n",
       "\n",
       "                                       similar_games  ...  \\\n",
       "0  [12364, 27270, 43367, 103281, 103292, 103298, ...  ...   \n",
       "1  [10603, 19222, 25905, 41349, 86974, 87507, 885...  ...   \n",
       "2  [25646, 29783, 68271, 80916, 96217, 105269, 10...  ...   \n",
       "3  [25311, 26145, 28277, 33603, 51577, 65827, 791...  ...   \n",
       "4  [11666, 13200, 13660, 17130, 25311, 28070, 348...  ...   \n",
       "\n",
       "  aggregated_rating_count multiplayer_modes remasters  remakes dlcs ports  \\\n",
       "0                     NaN               NaN       NaN      NaN  NaN   NaN   \n",
       "1                     NaN               NaN       NaN      NaN  NaN   NaN   \n",
       "2                     NaN               NaN       NaN      NaN  NaN   NaN   \n",
       "3                     NaN               NaN       NaN      NaN  NaN   NaN   \n",
       "4                     NaN               NaN       NaN      NaN  NaN   NaN   \n",
       "\n",
       "  expansions  expanded_games forks standalone_expansions  \n",
       "0        NaN             NaN   NaN                   NaN  \n",
       "1        NaN             NaN   NaN                   NaN  \n",
       "2        NaN             NaN   NaN                   NaN  \n",
       "3        NaN             NaN   NaN                   NaN  \n",
       "4        NaN             NaN   NaN                   NaN  \n",
       "\n",
       "[5 rows x 55 columns]"
      ]
     },
     "execution_count": 24,
     "metadata": {},
     "output_type": "execute_result"
    }
   ],
   "source": [
    "game_library['player_perspectives'] = pd.DataFrame(game_library.player_perspectives.apply(test_funct4))\n",
    "game_library.head()"
   ]
  },
  {
   "cell_type": "code",
   "execution_count": null,
   "id": "0be01563",
   "metadata": {},
   "outputs": [],
   "source": [
    "df.columns"
   ]
  },
  {
   "cell_type": "markdown",
   "id": "879c0dbb",
   "metadata": {},
   "source": [
    "### themes"
   ]
  },
  {
   "cell_type": "code",
   "execution_count": 25,
   "id": "5b7b12c0",
   "metadata": {},
   "outputs": [],
   "source": [
    "def get_themes():\n",
    "    headers = {'Client-ID': f'{Client_ID}', 'Authorization': f'Bearer {access_token}'}\n",
    "    data = 'fields *; '\n",
    "    r = requests.post('https://api.igdb.com/v4/themes' ,data=data ,  headers=headers)\n",
    "    themes = wrapper.api_request('themes', 'fields *;limit 500;')\n",
    "    x = json.loads(themes)\n",
    "    themes=pd.DataFrame(x)\n",
    "    return themes"
   ]
  },
  {
   "cell_type": "code",
   "execution_count": 26,
   "id": "93b74f74",
   "metadata": {},
   "outputs": [
    {
     "data": {
      "text/plain": [
       "(22, 7)"
      ]
     },
     "execution_count": 26,
     "metadata": {},
     "output_type": "execute_result"
    }
   ],
   "source": [
    "themes = get_themes()\n",
    "themes.shape"
   ]
  },
  {
   "cell_type": "code",
   "execution_count": null,
   "id": "9d089c06",
   "metadata": {},
   "outputs": [],
   "source": [
    "themes.head()"
   ]
  },
  {
   "cell_type": "code",
   "execution_count": 27,
   "id": "de2b4207",
   "metadata": {},
   "outputs": [],
   "source": [
    "themes_list = themes[['id' , 'name']].sort_values(by='id').reset_index(drop=True)\n",
    "themes_dict = themes.set_index('id').to_dict()['name']"
   ]
  },
  {
   "cell_type": "code",
   "execution_count": 28,
   "id": "aa81c635",
   "metadata": {},
   "outputs": [],
   "source": [
    "def test_funct5(random_list):\n",
    "    if type(random_list) == list:\n",
    "        return [themes_dict[i] for i in random_list]\n",
    "    else:  \n",
    "        return \"Not available\""
   ]
  },
  {
   "cell_type": "code",
   "execution_count": 29,
   "id": "bb81f35b",
   "metadata": {},
   "outputs": [
    {
     "data": {
      "text/html": [
       "<div>\n",
       "<style scoped>\n",
       "    .dataframe tbody tr th:only-of-type {\n",
       "        vertical-align: middle;\n",
       "    }\n",
       "\n",
       "    .dataframe tbody tr th {\n",
       "        vertical-align: top;\n",
       "    }\n",
       "\n",
       "    .dataframe thead th {\n",
       "        text-align: right;\n",
       "    }\n",
       "</style>\n",
       "<table border=\"1\" class=\"dataframe\">\n",
       "  <thead>\n",
       "    <tr style=\"text-align: right;\">\n",
       "      <th></th>\n",
       "      <th>id</th>\n",
       "      <th>category</th>\n",
       "      <th>created_at</th>\n",
       "      <th>external_games</th>\n",
       "      <th>first_release_date</th>\n",
       "      <th>genres</th>\n",
       "      <th>name</th>\n",
       "      <th>platforms</th>\n",
       "      <th>release_dates</th>\n",
       "      <th>similar_games</th>\n",
       "      <th>...</th>\n",
       "      <th>aggregated_rating_count</th>\n",
       "      <th>multiplayer_modes</th>\n",
       "      <th>remasters</th>\n",
       "      <th>remakes</th>\n",
       "      <th>dlcs</th>\n",
       "      <th>ports</th>\n",
       "      <th>expansions</th>\n",
       "      <th>expanded_games</th>\n",
       "      <th>forks</th>\n",
       "      <th>standalone_expansions</th>\n",
       "    </tr>\n",
       "  </thead>\n",
       "  <tbody>\n",
       "    <tr>\n",
       "      <th>0</th>\n",
       "      <td>40104</td>\n",
       "      <td>0</td>\n",
       "      <td>1498435200</td>\n",
       "      <td>[20127, 1988884]</td>\n",
       "      <td>5.364576e+08</td>\n",
       "      <td>[5]</td>\n",
       "      <td>Dogou Souken</td>\n",
       "      <td>[Arcade]</td>\n",
       "      <td>[91007]</td>\n",
       "      <td>[12364, 27270, 43367, 103281, 103292, 103298, ...</td>\n",
       "      <td>...</td>\n",
       "      <td>NaN</td>\n",
       "      <td>NaN</td>\n",
       "      <td>NaN</td>\n",
       "      <td>NaN</td>\n",
       "      <td>NaN</td>\n",
       "      <td>NaN</td>\n",
       "      <td>NaN</td>\n",
       "      <td>NaN</td>\n",
       "      <td>NaN</td>\n",
       "      <td>NaN</td>\n",
       "    </tr>\n",
       "    <tr>\n",
       "      <th>1</th>\n",
       "      <td>85031</td>\n",
       "      <td>0</td>\n",
       "      <td>1517392813</td>\n",
       "      <td>[216805, 1969751, 2005770]</td>\n",
       "      <td>1.404346e+09</td>\n",
       "      <td>[9]</td>\n",
       "      <td>City Mysteries</td>\n",
       "      <td>[Nintendo 3DS]</td>\n",
       "      <td>[138333]</td>\n",
       "      <td>[10603, 19222, 25905, 41349, 86974, 87507, 885...</td>\n",
       "      <td>...</td>\n",
       "      <td>NaN</td>\n",
       "      <td>NaN</td>\n",
       "      <td>NaN</td>\n",
       "      <td>NaN</td>\n",
       "      <td>NaN</td>\n",
       "      <td>NaN</td>\n",
       "      <td>NaN</td>\n",
       "      <td>NaN</td>\n",
       "      <td>NaN</td>\n",
       "      <td>NaN</td>\n",
       "    </tr>\n",
       "    <tr>\n",
       "      <th>2</th>\n",
       "      <td>99234</td>\n",
       "      <td>0</td>\n",
       "      <td>1524843905</td>\n",
       "      <td>[603512, 1857496, 1917109]</td>\n",
       "      <td>1.527120e+09</td>\n",
       "      <td>[31, 32]</td>\n",
       "      <td>Sword of the Black Stone</td>\n",
       "      <td>[PC (Microsoft Windows)]</td>\n",
       "      <td>[188385]</td>\n",
       "      <td>[25646, 29783, 68271, 80916, 96217, 105269, 10...</td>\n",
       "      <td>...</td>\n",
       "      <td>NaN</td>\n",
       "      <td>NaN</td>\n",
       "      <td>NaN</td>\n",
       "      <td>NaN</td>\n",
       "      <td>NaN</td>\n",
       "      <td>NaN</td>\n",
       "      <td>NaN</td>\n",
       "      <td>NaN</td>\n",
       "      <td>NaN</td>\n",
       "      <td>NaN</td>\n",
       "    </tr>\n",
       "    <tr>\n",
       "      <th>3</th>\n",
       "      <td>148930</td>\n",
       "      <td>0</td>\n",
       "      <td>1621959514</td>\n",
       "      <td>[2052375, 2057300]</td>\n",
       "      <td>NaN</td>\n",
       "      <td>[13, 15, 31, 32]</td>\n",
       "      <td>Bok-Bok: A Chicken Dating Sim</td>\n",
       "      <td>Not available</td>\n",
       "      <td>NaN</td>\n",
       "      <td>[25311, 26145, 28277, 33603, 51577, 65827, 791...</td>\n",
       "      <td>...</td>\n",
       "      <td>NaN</td>\n",
       "      <td>NaN</td>\n",
       "      <td>NaN</td>\n",
       "      <td>NaN</td>\n",
       "      <td>NaN</td>\n",
       "      <td>NaN</td>\n",
       "      <td>NaN</td>\n",
       "      <td>NaN</td>\n",
       "      <td>NaN</td>\n",
       "      <td>NaN</td>\n",
       "    </tr>\n",
       "    <tr>\n",
       "      <th>4</th>\n",
       "      <td>139538</td>\n",
       "      <td>0</td>\n",
       "      <td>1602368467</td>\n",
       "      <td>[1966278]</td>\n",
       "      <td>1.525910e+09</td>\n",
       "      <td>[32]</td>\n",
       "      <td>sun machine</td>\n",
       "      <td>[Web browser]</td>\n",
       "      <td>[213594]</td>\n",
       "      <td>[11666, 13200, 13660, 17130, 25311, 28070, 348...</td>\n",
       "      <td>...</td>\n",
       "      <td>NaN</td>\n",
       "      <td>NaN</td>\n",
       "      <td>NaN</td>\n",
       "      <td>NaN</td>\n",
       "      <td>NaN</td>\n",
       "      <td>NaN</td>\n",
       "      <td>NaN</td>\n",
       "      <td>NaN</td>\n",
       "      <td>NaN</td>\n",
       "      <td>NaN</td>\n",
       "    </tr>\n",
       "  </tbody>\n",
       "</table>\n",
       "<p>5 rows × 55 columns</p>\n",
       "</div>"
      ],
      "text/plain": [
       "       id  category  created_at              external_games  \\\n",
       "0   40104         0  1498435200            [20127, 1988884]   \n",
       "1   85031         0  1517392813  [216805, 1969751, 2005770]   \n",
       "2   99234         0  1524843905  [603512, 1857496, 1917109]   \n",
       "3  148930         0  1621959514          [2052375, 2057300]   \n",
       "4  139538         0  1602368467                   [1966278]   \n",
       "\n",
       "   first_release_date            genres                           name  \\\n",
       "0        5.364576e+08               [5]                   Dogou Souken   \n",
       "1        1.404346e+09               [9]                 City Mysteries   \n",
       "2        1.527120e+09          [31, 32]       Sword of the Black Stone   \n",
       "3                 NaN  [13, 15, 31, 32]  Bok-Bok: A Chicken Dating Sim   \n",
       "4        1.525910e+09              [32]                    sun machine   \n",
       "\n",
       "                  platforms release_dates  \\\n",
       "0                  [Arcade]       [91007]   \n",
       "1            [Nintendo 3DS]      [138333]   \n",
       "2  [PC (Microsoft Windows)]      [188385]   \n",
       "3             Not available           NaN   \n",
       "4             [Web browser]      [213594]   \n",
       "\n",
       "                                       similar_games  ...  \\\n",
       "0  [12364, 27270, 43367, 103281, 103292, 103298, ...  ...   \n",
       "1  [10603, 19222, 25905, 41349, 86974, 87507, 885...  ...   \n",
       "2  [25646, 29783, 68271, 80916, 96217, 105269, 10...  ...   \n",
       "3  [25311, 26145, 28277, 33603, 51577, 65827, 791...  ...   \n",
       "4  [11666, 13200, 13660, 17130, 25311, 28070, 348...  ...   \n",
       "\n",
       "  aggregated_rating_count multiplayer_modes remasters  remakes dlcs ports  \\\n",
       "0                     NaN               NaN       NaN      NaN  NaN   NaN   \n",
       "1                     NaN               NaN       NaN      NaN  NaN   NaN   \n",
       "2                     NaN               NaN       NaN      NaN  NaN   NaN   \n",
       "3                     NaN               NaN       NaN      NaN  NaN   NaN   \n",
       "4                     NaN               NaN       NaN      NaN  NaN   NaN   \n",
       "\n",
       "  expansions  expanded_games forks standalone_expansions  \n",
       "0        NaN             NaN   NaN                   NaN  \n",
       "1        NaN             NaN   NaN                   NaN  \n",
       "2        NaN             NaN   NaN                   NaN  \n",
       "3        NaN             NaN   NaN                   NaN  \n",
       "4        NaN             NaN   NaN                   NaN  \n",
       "\n",
       "[5 rows x 55 columns]"
      ]
     },
     "execution_count": 29,
     "metadata": {},
     "output_type": "execute_result"
    }
   ],
   "source": [
    "game_library['themes'] = pd.DataFrame(game_library.themes.apply(test_funct5))\n",
    "game_library.head()"
   ]
  },
  {
   "cell_type": "markdown",
   "id": "da185d5b",
   "metadata": {},
   "source": [
    "### Genres"
   ]
  },
  {
   "cell_type": "code",
   "execution_count": 30,
   "id": "d74d37ea",
   "metadata": {},
   "outputs": [],
   "source": [
    "# function that puts response list object into a dataframe for each page\n",
    "def get_genres(wrapper):\n",
    "    genres = pd.DataFrame()\n",
    "    for i in range (0, 409):\n",
    "        genre = wrapper.api_request('genres', 'fields *; limit 500;')\n",
    "        y = json.loads(genre)\n",
    "        results_df =pd.DataFrame(y)\n",
    "        genres = pd.concat([genres, results_df])\n",
    "    return genres"
   ]
  },
  {
   "cell_type": "code",
   "execution_count": 31,
   "id": "f74f641e",
   "metadata": {},
   "outputs": [
    {
     "data": {
      "text/html": [
       "<div>\n",
       "<style scoped>\n",
       "    .dataframe tbody tr th:only-of-type {\n",
       "        vertical-align: middle;\n",
       "    }\n",
       "\n",
       "    .dataframe tbody tr th {\n",
       "        vertical-align: top;\n",
       "    }\n",
       "\n",
       "    .dataframe thead th {\n",
       "        text-align: right;\n",
       "    }\n",
       "</style>\n",
       "<table border=\"1\" class=\"dataframe\">\n",
       "  <thead>\n",
       "    <tr style=\"text-align: right;\">\n",
       "      <th></th>\n",
       "      <th>id</th>\n",
       "      <th>created_at</th>\n",
       "      <th>name</th>\n",
       "      <th>slug</th>\n",
       "      <th>updated_at</th>\n",
       "      <th>url</th>\n",
       "      <th>checksum</th>\n",
       "    </tr>\n",
       "  </thead>\n",
       "  <tbody>\n",
       "    <tr>\n",
       "      <th>0</th>\n",
       "      <td>4</td>\n",
       "      <td>1297555200</td>\n",
       "      <td>Fighting</td>\n",
       "      <td>fighting</td>\n",
       "      <td>1323216000</td>\n",
       "      <td>https://www.igdb.com/genres/fighting</td>\n",
       "      <td>2ccc6572-bdde-6ed4-8843-25447ea40782</td>\n",
       "    </tr>\n",
       "    <tr>\n",
       "      <th>1</th>\n",
       "      <td>5</td>\n",
       "      <td>1297555200</td>\n",
       "      <td>Shooter</td>\n",
       "      <td>shooter</td>\n",
       "      <td>1323216000</td>\n",
       "      <td>https://www.igdb.com/genres/shooter</td>\n",
       "      <td>bb15fd3f-0f46-e5f3-2b40-d046cf9bd2ef</td>\n",
       "    </tr>\n",
       "    <tr>\n",
       "      <th>2</th>\n",
       "      <td>7</td>\n",
       "      <td>1297555200</td>\n",
       "      <td>Music</td>\n",
       "      <td>music</td>\n",
       "      <td>1323216000</td>\n",
       "      <td>https://www.igdb.com/genres/music</td>\n",
       "      <td>22d44a0d-89c7-580f-eef2-e06f178fdd47</td>\n",
       "    </tr>\n",
       "    <tr>\n",
       "      <th>3</th>\n",
       "      <td>8</td>\n",
       "      <td>1297555200</td>\n",
       "      <td>Platform</td>\n",
       "      <td>platform</td>\n",
       "      <td>1323216000</td>\n",
       "      <td>https://www.igdb.com/genres/platform</td>\n",
       "      <td>697fc5a4-b96f-a803-288a-498bd5dd1de1</td>\n",
       "    </tr>\n",
       "    <tr>\n",
       "      <th>4</th>\n",
       "      <td>9</td>\n",
       "      <td>1297555200</td>\n",
       "      <td>Puzzle</td>\n",
       "      <td>puzzle</td>\n",
       "      <td>1323216000</td>\n",
       "      <td>https://www.igdb.com/genres/puzzle</td>\n",
       "      <td>616de9c3-8a00-0232-9df9-00014cfac51b</td>\n",
       "    </tr>\n",
       "    <tr>\n",
       "      <th>...</th>\n",
       "      <td>...</td>\n",
       "      <td>...</td>\n",
       "      <td>...</td>\n",
       "      <td>...</td>\n",
       "      <td>...</td>\n",
       "      <td>...</td>\n",
       "      <td>...</td>\n",
       "    </tr>\n",
       "    <tr>\n",
       "      <th>18</th>\n",
       "      <td>34</td>\n",
       "      <td>1571788800</td>\n",
       "      <td>Visual Novel</td>\n",
       "      <td>visual-novel</td>\n",
       "      <td>1571788800</td>\n",
       "      <td>https://www.igdb.com/genres/visual-novel</td>\n",
       "      <td>137fe5c7-e4bc-1c30-4c7c-54596b47448f</td>\n",
       "    </tr>\n",
       "    <tr>\n",
       "      <th>19</th>\n",
       "      <td>32</td>\n",
       "      <td>1341360000</td>\n",
       "      <td>Indie</td>\n",
       "      <td>indie</td>\n",
       "      <td>1341360000</td>\n",
       "      <td>https://www.igdb.com/genres/indie</td>\n",
       "      <td>2522259f-2454-ec02-5dc0-84373e0508ed</td>\n",
       "    </tr>\n",
       "    <tr>\n",
       "      <th>20</th>\n",
       "      <td>35</td>\n",
       "      <td>1588809600</td>\n",
       "      <td>Card &amp; Board Game</td>\n",
       "      <td>card-and-board-game</td>\n",
       "      <td>1588809600</td>\n",
       "      <td>https://www.igdb.com/genres/card-and-board-game</td>\n",
       "      <td>137bcfbe-be08-0b36-b66e-1bfef14ca49a</td>\n",
       "    </tr>\n",
       "    <tr>\n",
       "      <th>21</th>\n",
       "      <td>36</td>\n",
       "      <td>1588809600</td>\n",
       "      <td>MOBA</td>\n",
       "      <td>moba</td>\n",
       "      <td>1588809600</td>\n",
       "      <td>https://www.igdb.com/genres/moba</td>\n",
       "      <td>0f17b3a1-6d97-4c02-0997-850adf4dc624</td>\n",
       "    </tr>\n",
       "    <tr>\n",
       "      <th>22</th>\n",
       "      <td>2</td>\n",
       "      <td>1297555200</td>\n",
       "      <td>Point-and-click</td>\n",
       "      <td>point-and-click</td>\n",
       "      <td>1323302400</td>\n",
       "      <td>https://www.igdb.com/genres/point-and-click</td>\n",
       "      <td>ef2ff68a-f7bd-d2d0-76cb-c830bd6e3191</td>\n",
       "    </tr>\n",
       "  </tbody>\n",
       "</table>\n",
       "<p>9407 rows × 7 columns</p>\n",
       "</div>"
      ],
      "text/plain": [
       "    id  created_at               name                 slug  updated_at  \\\n",
       "0    4  1297555200           Fighting             fighting  1323216000   \n",
       "1    5  1297555200            Shooter              shooter  1323216000   \n",
       "2    7  1297555200              Music                music  1323216000   \n",
       "3    8  1297555200           Platform             platform  1323216000   \n",
       "4    9  1297555200             Puzzle               puzzle  1323216000   \n",
       "..  ..         ...                ...                  ...         ...   \n",
       "18  34  1571788800       Visual Novel         visual-novel  1571788800   \n",
       "19  32  1341360000              Indie                indie  1341360000   \n",
       "20  35  1588809600  Card & Board Game  card-and-board-game  1588809600   \n",
       "21  36  1588809600               MOBA                 moba  1588809600   \n",
       "22   2  1297555200    Point-and-click      point-and-click  1323302400   \n",
       "\n",
       "                                                url  \\\n",
       "0              https://www.igdb.com/genres/fighting   \n",
       "1               https://www.igdb.com/genres/shooter   \n",
       "2                 https://www.igdb.com/genres/music   \n",
       "3              https://www.igdb.com/genres/platform   \n",
       "4                https://www.igdb.com/genres/puzzle   \n",
       "..                                              ...   \n",
       "18         https://www.igdb.com/genres/visual-novel   \n",
       "19                https://www.igdb.com/genres/indie   \n",
       "20  https://www.igdb.com/genres/card-and-board-game   \n",
       "21                 https://www.igdb.com/genres/moba   \n",
       "22      https://www.igdb.com/genres/point-and-click   \n",
       "\n",
       "                                checksum  \n",
       "0   2ccc6572-bdde-6ed4-8843-25447ea40782  \n",
       "1   bb15fd3f-0f46-e5f3-2b40-d046cf9bd2ef  \n",
       "2   22d44a0d-89c7-580f-eef2-e06f178fdd47  \n",
       "3   697fc5a4-b96f-a803-288a-498bd5dd1de1  \n",
       "4   616de9c3-8a00-0232-9df9-00014cfac51b  \n",
       "..                                   ...  \n",
       "18  137fe5c7-e4bc-1c30-4c7c-54596b47448f  \n",
       "19  2522259f-2454-ec02-5dc0-84373e0508ed  \n",
       "20  137bcfbe-be08-0b36-b66e-1bfef14ca49a  \n",
       "21  0f17b3a1-6d97-4c02-0997-850adf4dc624  \n",
       "22  ef2ff68a-f7bd-d2d0-76cb-c830bd6e3191  \n",
       "\n",
       "[9407 rows x 7 columns]"
      ]
     },
     "execution_count": 31,
     "metadata": {},
     "output_type": "execute_result"
    }
   ],
   "source": [
    "genres = get_genres(wrapper)\n",
    "genres.head()"
   ]
  },
  {
   "cell_type": "code",
   "execution_count": 32,
   "id": "9631a2de",
   "metadata": {},
   "outputs": [],
   "source": [
    "genreslist = genres[['id' , 'slug']].sort_values(by='id').reset_index(drop=True)\n",
    "genres_dict = genreslist.set_index('id').to_dict()['slug']"
   ]
  },
  {
   "cell_type": "code",
   "execution_count": 33,
   "id": "c1dd123d",
   "metadata": {},
   "outputs": [],
   "source": [
    "def test_functg(random_list):\n",
    "    if type(random_list) == list:\n",
    "        return [genres_dict[i] for i in random_list]\n",
    "    else:  \n",
    "        return \"Not available\" "
   ]
  },
  {
   "cell_type": "code",
   "execution_count": 34,
   "id": "19d7525c",
   "metadata": {},
   "outputs": [
    {
     "data": {
      "text/html": [
       "<div>\n",
       "<style scoped>\n",
       "    .dataframe tbody tr th:only-of-type {\n",
       "        vertical-align: middle;\n",
       "    }\n",
       "\n",
       "    .dataframe tbody tr th {\n",
       "        vertical-align: top;\n",
       "    }\n",
       "\n",
       "    .dataframe thead th {\n",
       "        text-align: right;\n",
       "    }\n",
       "</style>\n",
       "<table border=\"1\" class=\"dataframe\">\n",
       "  <thead>\n",
       "    <tr style=\"text-align: right;\">\n",
       "      <th></th>\n",
       "      <th>id</th>\n",
       "      <th>category</th>\n",
       "      <th>created_at</th>\n",
       "      <th>external_games</th>\n",
       "      <th>first_release_date</th>\n",
       "      <th>genres</th>\n",
       "      <th>name</th>\n",
       "      <th>platforms</th>\n",
       "      <th>release_dates</th>\n",
       "      <th>similar_games</th>\n",
       "      <th>...</th>\n",
       "      <th>aggregated_rating_count</th>\n",
       "      <th>multiplayer_modes</th>\n",
       "      <th>remasters</th>\n",
       "      <th>remakes</th>\n",
       "      <th>dlcs</th>\n",
       "      <th>ports</th>\n",
       "      <th>expansions</th>\n",
       "      <th>expanded_games</th>\n",
       "      <th>forks</th>\n",
       "      <th>standalone_expansions</th>\n",
       "    </tr>\n",
       "  </thead>\n",
       "  <tbody>\n",
       "    <tr>\n",
       "      <th>0</th>\n",
       "      <td>40104</td>\n",
       "      <td>0</td>\n",
       "      <td>1498435200</td>\n",
       "      <td>[20127, 1988884]</td>\n",
       "      <td>5.364576e+08</td>\n",
       "      <td>[shooter]</td>\n",
       "      <td>Dogou Souken</td>\n",
       "      <td>[Arcade]</td>\n",
       "      <td>[91007]</td>\n",
       "      <td>[12364, 27270, 43367, 103281, 103292, 103298, ...</td>\n",
       "      <td>...</td>\n",
       "      <td>NaN</td>\n",
       "      <td>NaN</td>\n",
       "      <td>NaN</td>\n",
       "      <td>NaN</td>\n",
       "      <td>NaN</td>\n",
       "      <td>NaN</td>\n",
       "      <td>NaN</td>\n",
       "      <td>NaN</td>\n",
       "      <td>NaN</td>\n",
       "      <td>NaN</td>\n",
       "    </tr>\n",
       "    <tr>\n",
       "      <th>1</th>\n",
       "      <td>85031</td>\n",
       "      <td>0</td>\n",
       "      <td>1517392813</td>\n",
       "      <td>[216805, 1969751, 2005770]</td>\n",
       "      <td>1.404346e+09</td>\n",
       "      <td>[puzzle]</td>\n",
       "      <td>City Mysteries</td>\n",
       "      <td>[Nintendo 3DS]</td>\n",
       "      <td>[138333]</td>\n",
       "      <td>[10603, 19222, 25905, 41349, 86974, 87507, 885...</td>\n",
       "      <td>...</td>\n",
       "      <td>NaN</td>\n",
       "      <td>NaN</td>\n",
       "      <td>NaN</td>\n",
       "      <td>NaN</td>\n",
       "      <td>NaN</td>\n",
       "      <td>NaN</td>\n",
       "      <td>NaN</td>\n",
       "      <td>NaN</td>\n",
       "      <td>NaN</td>\n",
       "      <td>NaN</td>\n",
       "    </tr>\n",
       "    <tr>\n",
       "      <th>2</th>\n",
       "      <td>99234</td>\n",
       "      <td>0</td>\n",
       "      <td>1524843905</td>\n",
       "      <td>[603512, 1857496, 1917109]</td>\n",
       "      <td>1.527120e+09</td>\n",
       "      <td>[adventure, indie]</td>\n",
       "      <td>Sword of the Black Stone</td>\n",
       "      <td>[PC (Microsoft Windows)]</td>\n",
       "      <td>[188385]</td>\n",
       "      <td>[25646, 29783, 68271, 80916, 96217, 105269, 10...</td>\n",
       "      <td>...</td>\n",
       "      <td>NaN</td>\n",
       "      <td>NaN</td>\n",
       "      <td>NaN</td>\n",
       "      <td>NaN</td>\n",
       "      <td>NaN</td>\n",
       "      <td>NaN</td>\n",
       "      <td>NaN</td>\n",
       "      <td>NaN</td>\n",
       "      <td>NaN</td>\n",
       "      <td>NaN</td>\n",
       "    </tr>\n",
       "    <tr>\n",
       "      <th>3</th>\n",
       "      <td>148930</td>\n",
       "      <td>0</td>\n",
       "      <td>1621959514</td>\n",
       "      <td>[2052375, 2057300]</td>\n",
       "      <td>NaN</td>\n",
       "      <td>[simulator, strategy, adventure, indie]</td>\n",
       "      <td>Bok-Bok: A Chicken Dating Sim</td>\n",
       "      <td>Not available</td>\n",
       "      <td>NaN</td>\n",
       "      <td>[25311, 26145, 28277, 33603, 51577, 65827, 791...</td>\n",
       "      <td>...</td>\n",
       "      <td>NaN</td>\n",
       "      <td>NaN</td>\n",
       "      <td>NaN</td>\n",
       "      <td>NaN</td>\n",
       "      <td>NaN</td>\n",
       "      <td>NaN</td>\n",
       "      <td>NaN</td>\n",
       "      <td>NaN</td>\n",
       "      <td>NaN</td>\n",
       "      <td>NaN</td>\n",
       "    </tr>\n",
       "    <tr>\n",
       "      <th>4</th>\n",
       "      <td>139538</td>\n",
       "      <td>0</td>\n",
       "      <td>1602368467</td>\n",
       "      <td>[1966278]</td>\n",
       "      <td>1.525910e+09</td>\n",
       "      <td>[indie]</td>\n",
       "      <td>sun machine</td>\n",
       "      <td>[Web browser]</td>\n",
       "      <td>[213594]</td>\n",
       "      <td>[11666, 13200, 13660, 17130, 25311, 28070, 348...</td>\n",
       "      <td>...</td>\n",
       "      <td>NaN</td>\n",
       "      <td>NaN</td>\n",
       "      <td>NaN</td>\n",
       "      <td>NaN</td>\n",
       "      <td>NaN</td>\n",
       "      <td>NaN</td>\n",
       "      <td>NaN</td>\n",
       "      <td>NaN</td>\n",
       "      <td>NaN</td>\n",
       "      <td>NaN</td>\n",
       "    </tr>\n",
       "  </tbody>\n",
       "</table>\n",
       "<p>5 rows × 55 columns</p>\n",
       "</div>"
      ],
      "text/plain": [
       "       id  category  created_at              external_games  \\\n",
       "0   40104         0  1498435200            [20127, 1988884]   \n",
       "1   85031         0  1517392813  [216805, 1969751, 2005770]   \n",
       "2   99234         0  1524843905  [603512, 1857496, 1917109]   \n",
       "3  148930         0  1621959514          [2052375, 2057300]   \n",
       "4  139538         0  1602368467                   [1966278]   \n",
       "\n",
       "   first_release_date                                   genres  \\\n",
       "0        5.364576e+08                                [shooter]   \n",
       "1        1.404346e+09                                 [puzzle]   \n",
       "2        1.527120e+09                       [adventure, indie]   \n",
       "3                 NaN  [simulator, strategy, adventure, indie]   \n",
       "4        1.525910e+09                                  [indie]   \n",
       "\n",
       "                            name                 platforms release_dates  \\\n",
       "0                   Dogou Souken                  [Arcade]       [91007]   \n",
       "1                 City Mysteries            [Nintendo 3DS]      [138333]   \n",
       "2       Sword of the Black Stone  [PC (Microsoft Windows)]      [188385]   \n",
       "3  Bok-Bok: A Chicken Dating Sim             Not available           NaN   \n",
       "4                    sun machine             [Web browser]      [213594]   \n",
       "\n",
       "                                       similar_games  ...  \\\n",
       "0  [12364, 27270, 43367, 103281, 103292, 103298, ...  ...   \n",
       "1  [10603, 19222, 25905, 41349, 86974, 87507, 885...  ...   \n",
       "2  [25646, 29783, 68271, 80916, 96217, 105269, 10...  ...   \n",
       "3  [25311, 26145, 28277, 33603, 51577, 65827, 791...  ...   \n",
       "4  [11666, 13200, 13660, 17130, 25311, 28070, 348...  ...   \n",
       "\n",
       "  aggregated_rating_count multiplayer_modes remasters  remakes dlcs ports  \\\n",
       "0                     NaN               NaN       NaN      NaN  NaN   NaN   \n",
       "1                     NaN               NaN       NaN      NaN  NaN   NaN   \n",
       "2                     NaN               NaN       NaN      NaN  NaN   NaN   \n",
       "3                     NaN               NaN       NaN      NaN  NaN   NaN   \n",
       "4                     NaN               NaN       NaN      NaN  NaN   NaN   \n",
       "\n",
       "  expansions  expanded_games forks standalone_expansions  \n",
       "0        NaN             NaN   NaN                   NaN  \n",
       "1        NaN             NaN   NaN                   NaN  \n",
       "2        NaN             NaN   NaN                   NaN  \n",
       "3        NaN             NaN   NaN                   NaN  \n",
       "4        NaN             NaN   NaN                   NaN  \n",
       "\n",
       "[5 rows x 55 columns]"
      ]
     },
     "execution_count": 34,
     "metadata": {},
     "output_type": "execute_result"
    }
   ],
   "source": [
    "game_library['genres'] = pd.DataFrame(game_library.genres.apply(test_functg))\n",
    "game_library.head()"
   ]
  },
  {
   "cell_type": "markdown",
   "id": "1bd60ee3",
   "metadata": {},
   "source": [
    "### Read the CSV for games "
   ]
  },
  {
   "cell_type": "code",
   "execution_count": null,
   "id": "de29be95",
   "metadata": {
    "scrolled": true
   },
   "outputs": [],
   "source": [
    "df = pd.read_csv('games.csv', index_col='Unnamed: 0')\n",
    "df.head()"
   ]
  },
  {
   "cell_type": "code",
   "execution_count": null,
   "id": "e136adb4",
   "metadata": {},
   "outputs": [],
   "source": [
    "#pd.set_option('display.max_rows', 500)\n",
    "pd.set_option('display.max_columns', 500)\n",
    "pd.set_option('display.width', 1000)\n",
    "df.loc[df['franchises'].notnull()]"
   ]
  },
  {
   "cell_type": "code",
   "execution_count": 35,
   "id": "fa954ece",
   "metadata": {},
   "outputs": [
    {
     "data": {
      "text/plain": [
       "(204500, 55)"
      ]
     },
     "execution_count": 35,
     "metadata": {},
     "output_type": "execute_result"
    }
   ],
   "source": [
    "game_library.shape"
   ]
  },
  {
   "cell_type": "code",
   "execution_count": null,
   "id": "852d751a",
   "metadata": {},
   "outputs": [],
   "source": [
    "game_library = game_library.drop(columns=['websites', 'created_at', 'updated_at', 'artworks', 'cover','screenshots', 'videos', 'checksum', 'alternative_names', 'rating_count', 'total_rating_count', 'version_parent', 'hypes', 'franchises', 'follows', 'aggregated_rating_count'])\n",
    "game_library.shape"
   ]
  },
  {
   "cell_type": "code",
   "execution_count": 38,
   "id": "88194ba8",
   "metadata": {},
   "outputs": [
    {
     "data": {
      "text/plain": [
       "(204500, 39)"
      ]
     },
     "execution_count": 38,
     "metadata": {},
     "output_type": "execute_result"
    }
   ],
   "source": [
    "game_library.shape"
   ]
  },
  {
   "cell_type": "code",
   "execution_count": 40,
   "id": "32d68f6a",
   "metadata": {},
   "outputs": [
    {
     "data": {
      "text/html": [
       "<div>\n",
       "<style scoped>\n",
       "    .dataframe tbody tr th:only-of-type {\n",
       "        vertical-align: middle;\n",
       "    }\n",
       "\n",
       "    .dataframe tbody tr th {\n",
       "        vertical-align: top;\n",
       "    }\n",
       "\n",
       "    .dataframe thead th {\n",
       "        text-align: right;\n",
       "    }\n",
       "</style>\n",
       "<table border=\"1\" class=\"dataframe\">\n",
       "  <thead>\n",
       "    <tr style=\"text-align: right;\">\n",
       "      <th></th>\n",
       "      <th>id</th>\n",
       "      <th>category</th>\n",
       "      <th>external_games</th>\n",
       "      <th>first_release_date</th>\n",
       "      <th>genres</th>\n",
       "      <th>name</th>\n",
       "      <th>platforms</th>\n",
       "      <th>release_dates</th>\n",
       "      <th>similar_games</th>\n",
       "      <th>lower_case_name</th>\n",
       "      <th>...</th>\n",
       "      <th>critic_rating</th>\n",
       "      <th>multiplayer_modes</th>\n",
       "      <th>remasters</th>\n",
       "      <th>remakes</th>\n",
       "      <th>dlcs</th>\n",
       "      <th>ports</th>\n",
       "      <th>expansions</th>\n",
       "      <th>expanded_games</th>\n",
       "      <th>forks</th>\n",
       "      <th>standalone_expansions</th>\n",
       "    </tr>\n",
       "  </thead>\n",
       "  <tbody>\n",
       "    <tr>\n",
       "      <th>0</th>\n",
       "      <td>40104</td>\n",
       "      <td>0</td>\n",
       "      <td>[20127, 1988884]</td>\n",
       "      <td>5.364576e+08</td>\n",
       "      <td>[shooter]</td>\n",
       "      <td>Dogou Souken</td>\n",
       "      <td>[Arcade]</td>\n",
       "      <td>[91007]</td>\n",
       "      <td>[12364, 27270, 43367, 103281, 103292, 103298, ...</td>\n",
       "      <td>dogou-souken</td>\n",
       "      <td>...</td>\n",
       "      <td>NaN</td>\n",
       "      <td>NaN</td>\n",
       "      <td>NaN</td>\n",
       "      <td>NaN</td>\n",
       "      <td>NaN</td>\n",
       "      <td>NaN</td>\n",
       "      <td>NaN</td>\n",
       "      <td>NaN</td>\n",
       "      <td>NaN</td>\n",
       "      <td>NaN</td>\n",
       "    </tr>\n",
       "    <tr>\n",
       "      <th>1</th>\n",
       "      <td>85031</td>\n",
       "      <td>0</td>\n",
       "      <td>[216805, 1969751, 2005770]</td>\n",
       "      <td>1.404346e+09</td>\n",
       "      <td>[puzzle]</td>\n",
       "      <td>City Mysteries</td>\n",
       "      <td>[Nintendo 3DS]</td>\n",
       "      <td>[138333]</td>\n",
       "      <td>[10603, 19222, 25905, 41349, 86974, 87507, 885...</td>\n",
       "      <td>city-mysteries</td>\n",
       "      <td>...</td>\n",
       "      <td>NaN</td>\n",
       "      <td>NaN</td>\n",
       "      <td>NaN</td>\n",
       "      <td>NaN</td>\n",
       "      <td>NaN</td>\n",
       "      <td>NaN</td>\n",
       "      <td>NaN</td>\n",
       "      <td>NaN</td>\n",
       "      <td>NaN</td>\n",
       "      <td>NaN</td>\n",
       "    </tr>\n",
       "    <tr>\n",
       "      <th>2</th>\n",
       "      <td>99234</td>\n",
       "      <td>0</td>\n",
       "      <td>[603512, 1857496, 1917109]</td>\n",
       "      <td>1.527120e+09</td>\n",
       "      <td>[adventure, indie]</td>\n",
       "      <td>Sword of the Black Stone</td>\n",
       "      <td>[PC (Microsoft Windows)]</td>\n",
       "      <td>[188385]</td>\n",
       "      <td>[25646, 29783, 68271, 80916, 96217, 105269, 10...</td>\n",
       "      <td>sword-of-the-black-stone</td>\n",
       "      <td>...</td>\n",
       "      <td>NaN</td>\n",
       "      <td>NaN</td>\n",
       "      <td>NaN</td>\n",
       "      <td>NaN</td>\n",
       "      <td>NaN</td>\n",
       "      <td>NaN</td>\n",
       "      <td>NaN</td>\n",
       "      <td>NaN</td>\n",
       "      <td>NaN</td>\n",
       "      <td>NaN</td>\n",
       "    </tr>\n",
       "    <tr>\n",
       "      <th>3</th>\n",
       "      <td>148930</td>\n",
       "      <td>0</td>\n",
       "      <td>[2052375, 2057300]</td>\n",
       "      <td>NaN</td>\n",
       "      <td>[simulator, strategy, adventure, indie]</td>\n",
       "      <td>Bok-Bok: A Chicken Dating Sim</td>\n",
       "      <td>Not available</td>\n",
       "      <td>NaN</td>\n",
       "      <td>[25311, 26145, 28277, 33603, 51577, 65827, 791...</td>\n",
       "      <td>bok-bok-a-chicken-dating-sim</td>\n",
       "      <td>...</td>\n",
       "      <td>NaN</td>\n",
       "      <td>NaN</td>\n",
       "      <td>NaN</td>\n",
       "      <td>NaN</td>\n",
       "      <td>NaN</td>\n",
       "      <td>NaN</td>\n",
       "      <td>NaN</td>\n",
       "      <td>NaN</td>\n",
       "      <td>NaN</td>\n",
       "      <td>NaN</td>\n",
       "    </tr>\n",
       "    <tr>\n",
       "      <th>4</th>\n",
       "      <td>139538</td>\n",
       "      <td>0</td>\n",
       "      <td>[1966278]</td>\n",
       "      <td>1.525910e+09</td>\n",
       "      <td>[indie]</td>\n",
       "      <td>sun machine</td>\n",
       "      <td>[Web browser]</td>\n",
       "      <td>[213594]</td>\n",
       "      <td>[11666, 13200, 13660, 17130, 25311, 28070, 348...</td>\n",
       "      <td>sun-machine</td>\n",
       "      <td>...</td>\n",
       "      <td>NaN</td>\n",
       "      <td>NaN</td>\n",
       "      <td>NaN</td>\n",
       "      <td>NaN</td>\n",
       "      <td>NaN</td>\n",
       "      <td>NaN</td>\n",
       "      <td>NaN</td>\n",
       "      <td>NaN</td>\n",
       "      <td>NaN</td>\n",
       "      <td>NaN</td>\n",
       "    </tr>\n",
       "  </tbody>\n",
       "</table>\n",
       "<p>5 rows × 39 columns</p>\n",
       "</div>"
      ],
      "text/plain": [
       "       id  category              external_games  first_release_date  \\\n",
       "0   40104         0            [20127, 1988884]        5.364576e+08   \n",
       "1   85031         0  [216805, 1969751, 2005770]        1.404346e+09   \n",
       "2   99234         0  [603512, 1857496, 1917109]        1.527120e+09   \n",
       "3  148930         0          [2052375, 2057300]                 NaN   \n",
       "4  139538         0                   [1966278]        1.525910e+09   \n",
       "\n",
       "                                    genres                           name  \\\n",
       "0                                [shooter]                   Dogou Souken   \n",
       "1                                 [puzzle]                 City Mysteries   \n",
       "2                       [adventure, indie]       Sword of the Black Stone   \n",
       "3  [simulator, strategy, adventure, indie]  Bok-Bok: A Chicken Dating Sim   \n",
       "4                                  [indie]                    sun machine   \n",
       "\n",
       "                  platforms release_dates  \\\n",
       "0                  [Arcade]       [91007]   \n",
       "1            [Nintendo 3DS]      [138333]   \n",
       "2  [PC (Microsoft Windows)]      [188385]   \n",
       "3             Not available           NaN   \n",
       "4             [Web browser]      [213594]   \n",
       "\n",
       "                                       similar_games  \\\n",
       "0  [12364, 27270, 43367, 103281, 103292, 103298, ...   \n",
       "1  [10603, 19222, 25905, 41349, 86974, 87507, 885...   \n",
       "2  [25646, 29783, 68271, 80916, 96217, 105269, 10...   \n",
       "3  [25311, 26145, 28277, 33603, 51577, 65827, 791...   \n",
       "4  [11666, 13200, 13660, 17130, 25311, 28070, 348...   \n",
       "\n",
       "                lower_case_name  ... critic_rating multiplayer_modes  \\\n",
       "0                  dogou-souken  ...           NaN               NaN   \n",
       "1                city-mysteries  ...           NaN               NaN   \n",
       "2      sword-of-the-black-stone  ...           NaN               NaN   \n",
       "3  bok-bok-a-chicken-dating-sim  ...           NaN               NaN   \n",
       "4                   sun-machine  ...           NaN               NaN   \n",
       "\n",
       "  remasters remakes dlcs ports expansions expanded_games forks  \\\n",
       "0       NaN     NaN  NaN   NaN        NaN            NaN   NaN   \n",
       "1       NaN     NaN  NaN   NaN        NaN            NaN   NaN   \n",
       "2       NaN     NaN  NaN   NaN        NaN            NaN   NaN   \n",
       "3       NaN     NaN  NaN   NaN        NaN            NaN   NaN   \n",
       "4       NaN     NaN  NaN   NaN        NaN            NaN   NaN   \n",
       "\n",
       "  standalone_expansions  \n",
       "0                   NaN  \n",
       "1                   NaN  \n",
       "2                   NaN  \n",
       "3                   NaN  \n",
       "4                   NaN  \n",
       "\n",
       "[5 rows x 39 columns]"
      ]
     },
     "execution_count": 40,
     "metadata": {},
     "output_type": "execute_result"
    }
   ],
   "source": [
    "game_library.rename(columns={'slug': 'lower_case_name', 'aggregated_rating': 'critic_rating'}, inplace=True)\n",
    "game_library.head()"
   ]
  },
  {
   "cell_type": "code",
   "execution_count": null,
   "id": "db767c0f",
   "metadata": {},
   "outputs": [],
   "source": [
    "df.rating.isnull().sum()"
   ]
  },
  {
   "cell_type": "code",
   "execution_count": null,
   "id": "e8da817c",
   "metadata": {},
   "outputs": [],
   "source": [
    "df.loc[df['rating'].isnull()]"
   ]
  },
  {
   "cell_type": "code",
   "execution_count": null,
   "id": "e78cbb54",
   "metadata": {},
   "outputs": [],
   "source": [
    "df.release_dates.info()"
   ]
  },
  {
   "cell_type": "code",
   "execution_count": null,
   "id": "159d6621",
   "metadata": {},
   "outputs": [],
   "source": [
    "df.platforms.value_counts()"
   ]
  },
  {
   "cell_type": "markdown",
   "id": "c7b5ce52",
   "metadata": {},
   "source": [
    "### Dataframe with ratings"
   ]
  },
  {
   "cell_type": "code",
   "execution_count": null,
   "id": "56ea2703",
   "metadata": {},
   "outputs": [],
   "source": [
    "df2 = df[df['rating'].notnull()]\n",
    "df2.head()"
   ]
  },
  {
   "cell_type": "code",
   "execution_count": null,
   "id": "180bd28b",
   "metadata": {},
   "outputs": [],
   "source": [
    "df2.rating.isnull().sum()"
   ]
  },
  {
   "cell_type": "markdown",
   "id": "88dd70f9",
   "metadata": {},
   "source": [
    "### Dataframe with nulls in rating column "
   ]
  },
  {
   "cell_type": "code",
   "execution_count": null,
   "id": "9bf04bf3",
   "metadata": {},
   "outputs": [],
   "source": [
    "df3 = df[df['rating'].isnull()]\n",
    "df3.shape"
   ]
  }
 ],
 "metadata": {
  "kernelspec": {
   "display_name": "Python 3 (ipykernel)",
   "language": "python",
   "name": "python3"
  },
  "language_info": {
   "codemirror_mode": {
    "name": "ipython",
    "version": 3
   },
   "file_extension": ".py",
   "mimetype": "text/x-python",
   "name": "python",
   "nbconvert_exporter": "python",
   "pygments_lexer": "ipython3",
   "version": "3.9.12"
  }
 },
 "nbformat": 4,
 "nbformat_minor": 5
}
