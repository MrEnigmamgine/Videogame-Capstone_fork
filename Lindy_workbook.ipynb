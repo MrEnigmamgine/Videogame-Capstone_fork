{
 "cells": [
  {
   "cell_type": "code",
   "execution_count": 1,
   "id": "07b08037",
   "metadata": {},
   "outputs": [],
   "source": [
    "import requests\n",
    "import env\n",
    "from requests.models import Request, Response\n",
    "from env import Client_ID\n",
    "import pandas as pd\n",
    "from igdb.igdbapi_pb2 import GameResult\n",
    "from typing import Dict, List, Optional, Union, cast\n",
    "from bs4 import BeautifulSoup\n",
    "import acquire\n",
    "import json"
   ]
  },
  {
   "cell_type": "markdown",
   "id": "3c1c29e7",
   "metadata": {},
   "source": [
    "### Connect to API and scrape the data needed\n",
    "#### get the access token and 200 response "
   ]
  },
  {
   "cell_type": "code",
   "execution_count": null,
   "id": "14a580af",
   "metadata": {},
   "outputs": [],
   "source": [
    "def get_api():   \n",
    "    url = env.get_db_url()\n",
    "    response = requests.post(url)\n",
    "    data = response.json()\n",
    "    access_token = data['access_token']\n",
    "    headers = {'Client-ID': f'{Client_ID}', 'Authorization': f'Bearer {access_token}'}\n",
    "    data = 'fields *;'\n",
    "    r = requests.post('https://api.igdb.com/v4/games', data=data, headers=headers)\n",
    "    return access_token, r"
   ]
  },
  {
   "cell_type": "code",
   "execution_count": 2,
   "id": "5ec7caad",
   "metadata": {},
   "outputs": [],
   "source": [
    "access_token = acquire.connect_api()"
   ]
  },
  {
   "cell_type": "code",
   "execution_count": null,
   "id": "ec6be8e1",
   "metadata": {},
   "outputs": [],
   "source": [
    "access_token"
   ]
  },
  {
   "cell_type": "code",
   "execution_count": 3,
   "id": "4d2e1c02",
   "metadata": {},
   "outputs": [],
   "source": [
    "tf = acquire.connect_to_games()"
   ]
  },
  {
   "cell_type": "code",
   "execution_count": 4,
   "id": "aba1eb68",
   "metadata": {},
   "outputs": [
    {
     "data": {
      "text/plain": [
       "<Response [200]>"
      ]
     },
     "execution_count": 4,
     "metadata": {},
     "output_type": "execute_result"
    }
   ],
   "source": [
    "tf"
   ]
  },
  {
   "cell_type": "code",
   "execution_count": 5,
   "id": "c5969b5d",
   "metadata": {},
   "outputs": [],
   "source": [
    "wrapper = acquire.run_wrapper()"
   ]
  },
  {
   "cell_type": "code",
   "execution_count": null,
   "id": "38c087ca",
   "metadata": {},
   "outputs": [],
   "source": [
    "wrapper"
   ]
  },
  {
   "cell_type": "code",
   "execution_count": null,
   "id": "b7b4345c",
   "metadata": {},
   "outputs": [],
   "source": [
    "df = acquire.get_game_library(wrapper)\n",
    "df.head()"
   ]
  },
  {
   "cell_type": "code",
   "execution_count": null,
   "id": "f4db5494",
   "metadata": {},
   "outputs": [],
   "source": [
    "from igdb.wrapper import IGDBWrapper\n",
    "wrapper = IGDBWrapper(f'{Client_ID}', f'Bearer {access_token}')"
   ]
  },
  {
   "cell_type": "code",
   "execution_count": null,
   "id": "eace9661",
   "metadata": {},
   "outputs": [],
   "source": [
    "games = wrapper.api_request('games', 'fields *; limit 500;' f'offset {0 * 409};')"
   ]
  },
  {
   "cell_type": "code",
   "execution_count": null,
   "id": "e1648b64",
   "metadata": {},
   "outputs": [],
   "source": [
    "url = 'https://api.igdb.com/v4/age_ratings'\n",
    "headers = {'Client-ID': f'{Client_ID}', 'Authorization': f'Bearer {access_token}'}\n",
    "data = 'category,checksum,content_descriptions,rating,rating_cover_url,synopsis;'\n",
    "response = requests.post(url, headers=headers, data = data)\n",
    "print(response.text)"
   ]
  },
  {
   "cell_type": "code",
   "execution_count": null,
   "id": "f93ea3d9",
   "metadata": {},
   "outputs": [],
   "source": [
    "testgames = []\n",
    "for i in range(0, 409):\n",
    "    games = wrapper.api_request('games', 'fields *; limit 500;' f'offset {i * 409};')\n",
    "    testgames.append(games)"
   ]
  },
  {
   "cell_type": "code",
   "execution_count": null,
   "id": "d8167f6d",
   "metadata": {},
   "outputs": [],
   "source": [
    "len(testgames)"
   ]
  },
  {
   "cell_type": "code",
   "execution_count": null,
   "id": "ef9f7b74",
   "metadata": {},
   "outputs": [],
   "source": [
    "soup = BeautifulSoup(r.content, 'html.parser')"
   ]
  },
  {
   "cell_type": "code",
   "execution_count": null,
   "id": "8b0595fc",
   "metadata": {},
   "outputs": [],
   "source": [
    "test = soup.select('div', class_= 'toc-wrapper')\n",
    "test"
   ]
  },
  {
   "cell_type": "markdown",
   "id": "f6cdd7f5",
   "metadata": {},
   "source": [
    "## scraping endpoints\n",
    "### scrape the end points of each category "
   ]
  },
  {
   "cell_type": "code",
   "execution_count": null,
   "id": "2edda751",
   "metadata": {},
   "outputs": [],
   "source": [
    "access_token\n"
   ]
  },
  {
   "cell_type": "markdown",
   "id": "2da906b2",
   "metadata": {},
   "source": [
    "### platform_families"
   ]
  },
  {
   "cell_type": "code",
   "execution_count": null,
   "id": "8dc14139",
   "metadata": {},
   "outputs": [],
   "source": [
    "headers = {'Client-ID': f'{Client_ID}', 'Authorization': f'Bearer {access_token}'}\n",
    "data = 'fields *; '\n",
    "r = requests.post('https://api.igdb.com/v4/platform_families' ,data=data ,  headers=headers)\n",
    "\n",
    "platform_families = wrapper.api_request('platform_families', 'fields *;limit 500;')"
   ]
  },
  {
   "cell_type": "code",
   "execution_count": null,
   "id": "ba679994",
   "metadata": {},
   "outputs": [],
   "source": [
    "x = json.loads(platform_families)\n",
    "\n",
    "platform_families =pd.DataFrame(x)"
   ]
  },
  {
   "cell_type": "code",
   "execution_count": null,
   "id": "40d5f1d9",
   "metadata": {},
   "outputs": [],
   "source": [
    "platform_families.head()"
   ]
  },
  {
   "cell_type": "code",
   "execution_count": null,
   "id": "8802756a",
   "metadata": {},
   "outputs": [],
   "source": [
    "platform_families.shape"
   ]
  },
  {
   "cell_type": "code",
   "execution_count": 6,
   "id": "a6f8a13b",
   "metadata": {},
   "outputs": [],
   "source": [
    "def get_platform_families():\n",
    "    headers = {'Client-ID': f'{Client_ID}', 'Authorization': f'Bearer {access_token}'}\n",
    "    data = 'fields *; '\n",
    "    r = requests.post('https://api.igdb.com/v4/platform_families' ,data=data ,  headers=headers)\n",
    "    platform_families = wrapper.api_request('platform_families', 'fields *;limit 500;')\n",
    "    x = json.loads(platform_families)\n",
    "    platform_families =pd.DataFrame(x)\n",
    "    return platform_families"
   ]
  },
  {
   "cell_type": "code",
   "execution_count": 7,
   "id": "746ff679",
   "metadata": {},
   "outputs": [
    {
     "data": {
      "text/html": [
       "<div>\n",
       "<style scoped>\n",
       "    .dataframe tbody tr th:only-of-type {\n",
       "        vertical-align: middle;\n",
       "    }\n",
       "\n",
       "    .dataframe tbody tr th {\n",
       "        vertical-align: top;\n",
       "    }\n",
       "\n",
       "    .dataframe thead th {\n",
       "        text-align: right;\n",
       "    }\n",
       "</style>\n",
       "<table border=\"1\" class=\"dataframe\">\n",
       "  <thead>\n",
       "    <tr style=\"text-align: right;\">\n",
       "      <th></th>\n",
       "      <th>id</th>\n",
       "      <th>name</th>\n",
       "      <th>slug</th>\n",
       "      <th>checksum</th>\n",
       "    </tr>\n",
       "  </thead>\n",
       "  <tbody>\n",
       "    <tr>\n",
       "      <th>0</th>\n",
       "      <td>5</td>\n",
       "      <td>Nintendo</td>\n",
       "      <td>nintendo</td>\n",
       "      <td>398e5c87-f7db-6265-6da6-433441385208</td>\n",
       "    </tr>\n",
       "    <tr>\n",
       "      <th>1</th>\n",
       "      <td>4</td>\n",
       "      <td>Linux</td>\n",
       "      <td>linux</td>\n",
       "      <td>be8b89fa-823c-790a-1d5a-7e74315c1b27</td>\n",
       "    </tr>\n",
       "    <tr>\n",
       "      <th>2</th>\n",
       "      <td>2</td>\n",
       "      <td>Xbox</td>\n",
       "      <td>xbox</td>\n",
       "      <td>5bb9bcec-4aa7-45b8-129b-a6f88932942e</td>\n",
       "    </tr>\n",
       "    <tr>\n",
       "      <th>3</th>\n",
       "      <td>3</td>\n",
       "      <td>Sega</td>\n",
       "      <td>sega</td>\n",
       "      <td>bd1a9cc4-3632-33b0-ff4b-feab8cd15001</td>\n",
       "    </tr>\n",
       "    <tr>\n",
       "      <th>4</th>\n",
       "      <td>1</td>\n",
       "      <td>PlayStation</td>\n",
       "      <td>playstation</td>\n",
       "      <td>eadc0208-7972-9364-88b9-d2a9de75a998</td>\n",
       "    </tr>\n",
       "  </tbody>\n",
       "</table>\n",
       "</div>"
      ],
      "text/plain": [
       "   id         name         slug                              checksum\n",
       "0   5     Nintendo     nintendo  398e5c87-f7db-6265-6da6-433441385208\n",
       "1   4        Linux        linux  be8b89fa-823c-790a-1d5a-7e74315c1b27\n",
       "2   2         Xbox         xbox  5bb9bcec-4aa7-45b8-129b-a6f88932942e\n",
       "3   3         Sega         sega  bd1a9cc4-3632-33b0-ff4b-feab8cd15001\n",
       "4   1  PlayStation  playstation  eadc0208-7972-9364-88b9-d2a9de75a998"
      ]
     },
     "execution_count": 7,
     "metadata": {},
     "output_type": "execute_result"
    }
   ],
   "source": [
    "platform_families = get_platform_families()\n",
    "platform_families.head()"
   ]
  },
  {
   "cell_type": "markdown",
   "id": "11678c79",
   "metadata": {},
   "source": [
    "### platform_version_release_dates"
   ]
  },
  {
   "cell_type": "code",
   "execution_count": null,
   "id": "5a2645a8",
   "metadata": {},
   "outputs": [],
   "source": [
    "headers = {'Client-ID': f'{Client_ID}', 'Authorization': f'Bearer {access_token}'}\n",
    "data = 'fields *; '\n",
    "r = requests.post('https://api.igdb.com/v4/platform_version_release_dates' ,data=data ,  headers=headers)\n",
    "\n",
    "platform_version_release_dates = wrapper.api_request('platform_version_release_dates', 'fields *;limit 500;')"
   ]
  },
  {
   "cell_type": "code",
   "execution_count": null,
   "id": "c8113200",
   "metadata": {},
   "outputs": [],
   "source": [
    "x = json.loads(platform_version_release_dates)\n",
    "\n",
    "platform_version_release_dates =pd.DataFrame(x)"
   ]
  },
  {
   "cell_type": "code",
   "execution_count": null,
   "id": "c77f4af0",
   "metadata": {
    "scrolled": true
   },
   "outputs": [],
   "source": [
    "platform_version_release_dates.head()"
   ]
  },
  {
   "cell_type": "code",
   "execution_count": null,
   "id": "1f01dc18",
   "metadata": {
    "scrolled": true
   },
   "outputs": [],
   "source": [
    "platform_version_release_dates.shape"
   ]
  },
  {
   "cell_type": "code",
   "execution_count": 8,
   "id": "673ba404",
   "metadata": {},
   "outputs": [],
   "source": [
    "def get_platform_version_release():\n",
    "    headers = {'Client-ID': f'{Client_ID}', 'Authorization': f'Bearer {access_token}'}\n",
    "    data = 'fields *; '\n",
    "    r = requests.post('https://api.igdb.com/v4/platform_version_release_dates' ,data=data ,  headers=headers)\n",
    "    platform_version_release_dates = wrapper.api_request('platform_version_release_dates', 'fields *;limit 500;')\n",
    "    x = json.loads(platform_version_release_dates)\n",
    "    platform_version_release_dates =pd.DataFrame(x)\n",
    "    return platform_version_release_dates"
   ]
  },
  {
   "cell_type": "code",
   "execution_count": 9,
   "id": "5deacc26",
   "metadata": {},
   "outputs": [
    {
     "data": {
      "text/html": [
       "<div>\n",
       "<style scoped>\n",
       "    .dataframe tbody tr th:only-of-type {\n",
       "        vertical-align: middle;\n",
       "    }\n",
       "\n",
       "    .dataframe tbody tr th {\n",
       "        vertical-align: top;\n",
       "    }\n",
       "\n",
       "    .dataframe thead th {\n",
       "        text-align: right;\n",
       "    }\n",
       "</style>\n",
       "<table border=\"1\" class=\"dataframe\">\n",
       "  <thead>\n",
       "    <tr style=\"text-align: right;\">\n",
       "      <th></th>\n",
       "      <th>id</th>\n",
       "      <th>category</th>\n",
       "      <th>date</th>\n",
       "      <th>human</th>\n",
       "      <th>m</th>\n",
       "      <th>region</th>\n",
       "      <th>y</th>\n",
       "      <th>checksum</th>\n",
       "      <th>updated_at</th>\n",
       "    </tr>\n",
       "  </thead>\n",
       "  <tbody>\n",
       "    <tr>\n",
       "      <th>0</th>\n",
       "      <td>555</td>\n",
       "      <td>2</td>\n",
       "      <td>567907200</td>\n",
       "      <td>1987</td>\n",
       "      <td>12</td>\n",
       "      <td>8</td>\n",
       "      <td>1987</td>\n",
       "      <td>186c07ec-0d93-dc0f-6c4a-5fdb5a6138fa</td>\n",
       "      <td>NaN</td>\n",
       "    </tr>\n",
       "    <tr>\n",
       "      <th>1</th>\n",
       "      <td>338</td>\n",
       "      <td>0</td>\n",
       "      <td>1189555200</td>\n",
       "      <td>Sep 12, 2007</td>\n",
       "      <td>9</td>\n",
       "      <td>3</td>\n",
       "      <td>2007</td>\n",
       "      <td>15e5b0aa-5bb6-ef30-ee85-0ef94cb3581f</td>\n",
       "      <td>NaN</td>\n",
       "    </tr>\n",
       "    <tr>\n",
       "      <th>2</th>\n",
       "      <td>334</td>\n",
       "      <td>0</td>\n",
       "      <td>1125532800</td>\n",
       "      <td>Sep 01, 2005</td>\n",
       "      <td>9</td>\n",
       "      <td>7</td>\n",
       "      <td>2005</td>\n",
       "      <td>a4c921d5-1894-9a40-d20f-05959cd69a38</td>\n",
       "      <td>NaN</td>\n",
       "    </tr>\n",
       "    <tr>\n",
       "      <th>3</th>\n",
       "      <td>331</td>\n",
       "      <td>0</td>\n",
       "      <td>1415923200</td>\n",
       "      <td>Nov 14, 2014</td>\n",
       "      <td>11</td>\n",
       "      <td>3</td>\n",
       "      <td>2014</td>\n",
       "      <td>3ebb8dc8-b8fa-f11a-b729-228b9dac35c4</td>\n",
       "      <td>NaN</td>\n",
       "    </tr>\n",
       "    <tr>\n",
       "      <th>4</th>\n",
       "      <td>333</td>\n",
       "      <td>0</td>\n",
       "      <td>1389830400</td>\n",
       "      <td>Jan 16, 2014</td>\n",
       "      <td>1</td>\n",
       "      <td>7</td>\n",
       "      <td>2014</td>\n",
       "      <td>a15ecea5-cb71-916f-5bec-66ad7f571b19</td>\n",
       "      <td>NaN</td>\n",
       "    </tr>\n",
       "    <tr>\n",
       "      <th>...</th>\n",
       "      <td>...</td>\n",
       "      <td>...</td>\n",
       "      <td>...</td>\n",
       "      <td>...</td>\n",
       "      <td>...</td>\n",
       "      <td>...</td>\n",
       "      <td>...</td>\n",
       "      <td>...</td>\n",
       "      <td>...</td>\n",
       "    </tr>\n",
       "    <tr>\n",
       "      <th>391</th>\n",
       "      <td>660</td>\n",
       "      <td>0</td>\n",
       "      <td>1547942400</td>\n",
       "      <td>Jan 20, 2019</td>\n",
       "      <td>1</td>\n",
       "      <td>7</td>\n",
       "      <td>2019</td>\n",
       "      <td>29210c4c-26c6-212c-e0ec-c0d6bdd23be9</td>\n",
       "      <td>1.660316e+09</td>\n",
       "    </tr>\n",
       "    <tr>\n",
       "      <th>392</th>\n",
       "      <td>659</td>\n",
       "      <td>0</td>\n",
       "      <td>1413763200</td>\n",
       "      <td>Oct 20, 2014</td>\n",
       "      <td>10</td>\n",
       "      <td>2</td>\n",
       "      <td>2014</td>\n",
       "      <td>ddac84c3-8f5a-8372-fee3-5e05cc9517f5</td>\n",
       "      <td>1.660316e+09</td>\n",
       "    </tr>\n",
       "    <tr>\n",
       "      <th>393</th>\n",
       "      <td>661</td>\n",
       "      <td>2</td>\n",
       "      <td>725760000</td>\n",
       "      <td>1992</td>\n",
       "      <td>12</td>\n",
       "      <td>8</td>\n",
       "      <td>1992</td>\n",
       "      <td>d6cb796b-0679-d99b-30d8-decdf573187d</td>\n",
       "      <td>1.660320e+09</td>\n",
       "    </tr>\n",
       "    <tr>\n",
       "      <th>394</th>\n",
       "      <td>662</td>\n",
       "      <td>0</td>\n",
       "      <td>945043200</td>\n",
       "      <td>Dec 13, 1999</td>\n",
       "      <td>12</td>\n",
       "      <td>5</td>\n",
       "      <td>1999</td>\n",
       "      <td>6fa54af0-85f8-088f-294c-d95dbbbb2a70</td>\n",
       "      <td>1.660322e+09</td>\n",
       "    </tr>\n",
       "    <tr>\n",
       "      <th>395</th>\n",
       "      <td>663</td>\n",
       "      <td>2</td>\n",
       "      <td>851990400</td>\n",
       "      <td>1996</td>\n",
       "      <td>12</td>\n",
       "      <td>2</td>\n",
       "      <td>1996</td>\n",
       "      <td>86254855-ee73-231a-6fab-9317893d2b30</td>\n",
       "      <td>1.660323e+09</td>\n",
       "    </tr>\n",
       "  </tbody>\n",
       "</table>\n",
       "<p>396 rows × 9 columns</p>\n",
       "</div>"
      ],
      "text/plain": [
       "      id  category        date         human   m  region     y  \\\n",
       "0    555         2   567907200          1987  12       8  1987   \n",
       "1    338         0  1189555200  Sep 12, 2007   9       3  2007   \n",
       "2    334         0  1125532800  Sep 01, 2005   9       7  2005   \n",
       "3    331         0  1415923200  Nov 14, 2014  11       3  2014   \n",
       "4    333         0  1389830400  Jan 16, 2014   1       7  2014   \n",
       "..   ...       ...         ...           ...  ..     ...   ...   \n",
       "391  660         0  1547942400  Jan 20, 2019   1       7  2019   \n",
       "392  659         0  1413763200  Oct 20, 2014  10       2  2014   \n",
       "393  661         2   725760000          1992  12       8  1992   \n",
       "394  662         0   945043200  Dec 13, 1999  12       5  1999   \n",
       "395  663         2   851990400          1996  12       2  1996   \n",
       "\n",
       "                                 checksum    updated_at  \n",
       "0    186c07ec-0d93-dc0f-6c4a-5fdb5a6138fa           NaN  \n",
       "1    15e5b0aa-5bb6-ef30-ee85-0ef94cb3581f           NaN  \n",
       "2    a4c921d5-1894-9a40-d20f-05959cd69a38           NaN  \n",
       "3    3ebb8dc8-b8fa-f11a-b729-228b9dac35c4           NaN  \n",
       "4    a15ecea5-cb71-916f-5bec-66ad7f571b19           NaN  \n",
       "..                                    ...           ...  \n",
       "391  29210c4c-26c6-212c-e0ec-c0d6bdd23be9  1.660316e+09  \n",
       "392  ddac84c3-8f5a-8372-fee3-5e05cc9517f5  1.660316e+09  \n",
       "393  d6cb796b-0679-d99b-30d8-decdf573187d  1.660320e+09  \n",
       "394  6fa54af0-85f8-088f-294c-d95dbbbb2a70  1.660322e+09  \n",
       "395  86254855-ee73-231a-6fab-9317893d2b30  1.660323e+09  \n",
       "\n",
       "[396 rows x 9 columns]"
      ]
     },
     "execution_count": 9,
     "metadata": {},
     "output_type": "execute_result"
    }
   ],
   "source": [
    "platform_version_release_dates = get_platform_version_release()\n",
    "platform_version_release_dates"
   ]
  },
  {
   "cell_type": "markdown",
   "id": "97d79a9c",
   "metadata": {},
   "source": [
    "### platform_version_companies"
   ]
  },
  {
   "cell_type": "code",
   "execution_count": null,
   "id": "46f48e1c",
   "metadata": {},
   "outputs": [],
   "source": [
    "headers = {'Client-ID': f'{Client_ID}', 'Authorization': f'Bearer {access_token}'}\n",
    "data = 'fields *; '\n",
    "r = requests.post('https://api.igdb.com/v4/platform_version_companies' ,data=data ,  headers=headers)\n",
    "\n",
    "platform_version_companies = wrapper.api_request('platform_version_companies', 'fields *;limit 500;')"
   ]
  },
  {
   "cell_type": "code",
   "execution_count": null,
   "id": "2c8783db",
   "metadata": {},
   "outputs": [],
   "source": [
    "x = json.loads(platform_version_companies)\n",
    "\n",
    "platform_version_companies =pd.DataFrame(x)\n",
    "platform_version_companies.head()"
   ]
  },
  {
   "cell_type": "code",
   "execution_count": null,
   "id": "2fb225c4",
   "metadata": {
    "scrolled": true
   },
   "outputs": [],
   "source": [
    "platform_version_companies.shape"
   ]
  },
  {
   "cell_type": "code",
   "execution_count": 11,
   "id": "f8203324",
   "metadata": {},
   "outputs": [],
   "source": [
    "def get_platform_version_companies():\n",
    "    headers = {'Client-ID': f'{Client_ID}', 'Authorization': f'Bearer {access_token}'}\n",
    "    data = 'fields *; '\n",
    "    r = requests.post('https://api.igdb.com/v4/platform_version_companies' ,data=data ,  headers=headers)\n",
    "    platform_version_companies = wrapper.api_request('platform_version_companies', 'fields *;limit 500;')\n",
    "    x = json.loads(platform_version_companies)\n",
    "    platform_version_companies =pd.DataFrame(x)\n",
    "    return platform_version_companies"
   ]
  },
  {
   "cell_type": "code",
   "execution_count": 12,
   "id": "31e809ab",
   "metadata": {},
   "outputs": [
    {
     "data": {
      "text/html": [
       "<div>\n",
       "<style scoped>\n",
       "    .dataframe tbody tr th:only-of-type {\n",
       "        vertical-align: middle;\n",
       "    }\n",
       "\n",
       "    .dataframe tbody tr th {\n",
       "        vertical-align: top;\n",
       "    }\n",
       "\n",
       "    .dataframe thead th {\n",
       "        text-align: right;\n",
       "    }\n",
       "</style>\n",
       "<table border=\"1\" class=\"dataframe\">\n",
       "  <thead>\n",
       "    <tr style=\"text-align: right;\">\n",
       "      <th></th>\n",
       "      <th>id</th>\n",
       "      <th>company</th>\n",
       "      <th>developer</th>\n",
       "      <th>manufacturer</th>\n",
       "      <th>checksum</th>\n",
       "      <th>comment</th>\n",
       "    </tr>\n",
       "  </thead>\n",
       "  <tbody>\n",
       "    <tr>\n",
       "      <th>0</th>\n",
       "      <td>286</td>\n",
       "      <td>11986</td>\n",
       "      <td>True</td>\n",
       "      <td>True</td>\n",
       "      <td>e5035f31-713a-1036-2968-dd353b74db3b</td>\n",
       "      <td>NaN</td>\n",
       "    </tr>\n",
       "    <tr>\n",
       "      <th>1</th>\n",
       "      <td>283</td>\n",
       "      <td>10922</td>\n",
       "      <td>False</td>\n",
       "      <td>True</td>\n",
       "      <td>6cd3e57c-2757-cc07-94a6-35ff7085e4c9</td>\n",
       "      <td>NaN</td>\n",
       "    </tr>\n",
       "    <tr>\n",
       "      <th>2</th>\n",
       "      <td>282</td>\n",
       "      <td>14429</td>\n",
       "      <td>False</td>\n",
       "      <td>True</td>\n",
       "      <td>172b6f24-a49c-c304-6fb3-78f6bf120a19</td>\n",
       "      <td>NaN</td>\n",
       "    </tr>\n",
       "    <tr>\n",
       "      <th>3</th>\n",
       "      <td>281</td>\n",
       "      <td>12385</td>\n",
       "      <td>True</td>\n",
       "      <td>False</td>\n",
       "      <td>d6051460-e7dc-4e77-80ca-e5df378cd304</td>\n",
       "      <td>NaN</td>\n",
       "    </tr>\n",
       "    <tr>\n",
       "      <th>4</th>\n",
       "      <td>280</td>\n",
       "      <td>19831</td>\n",
       "      <td>True</td>\n",
       "      <td>True</td>\n",
       "      <td>2f509e1b-75d2-36db-4129-4bf89d50343b</td>\n",
       "      <td>NaN</td>\n",
       "    </tr>\n",
       "  </tbody>\n",
       "</table>\n",
       "</div>"
      ],
      "text/plain": [
       "    id  company  developer  manufacturer  \\\n",
       "0  286    11986       True          True   \n",
       "1  283    10922      False          True   \n",
       "2  282    14429      False          True   \n",
       "3  281    12385       True         False   \n",
       "4  280    19831       True          True   \n",
       "\n",
       "                               checksum comment  \n",
       "0  e5035f31-713a-1036-2968-dd353b74db3b     NaN  \n",
       "1  6cd3e57c-2757-cc07-94a6-35ff7085e4c9     NaN  \n",
       "2  172b6f24-a49c-c304-6fb3-78f6bf120a19     NaN  \n",
       "3  d6051460-e7dc-4e77-80ca-e5df378cd304     NaN  \n",
       "4  2f509e1b-75d2-36db-4129-4bf89d50343b     NaN  "
      ]
     },
     "execution_count": 12,
     "metadata": {},
     "output_type": "execute_result"
    }
   ],
   "source": [
    "platform_version_companies=get_platform_version_companies()\n",
    "platform_version_companies.head()"
   ]
  },
  {
   "cell_type": "markdown",
   "id": "9be855c2",
   "metadata": {},
   "source": [
    "### platforms"
   ]
  },
  {
   "cell_type": "code",
   "execution_count": null,
   "id": "ce508791",
   "metadata": {},
   "outputs": [],
   "source": [
    "headers = {'Client-ID': f'{Client_ID}', 'Authorization': f'Bearer {access_token}'}\n",
    "data = 'fields *; '\n",
    "r = requests.post('https://api.igdb.com/v4/platforms' ,data=data ,  headers=headers)\n",
    "\n",
    "platforms = wrapper.api_request('platforms', 'fields *;limit 500;')"
   ]
  },
  {
   "cell_type": "code",
   "execution_count": null,
   "id": "27d0365c",
   "metadata": {
    "scrolled": true
   },
   "outputs": [],
   "source": [
    "x = json.loads(platforms)\n",
    "\n",
    "platforms =pd.DataFrame(x)\n",
    "platforms.head()"
   ]
  },
  {
   "cell_type": "code",
   "execution_count": null,
   "id": "be36ef02",
   "metadata": {},
   "outputs": [],
   "source": [
    "platforms"
   ]
  },
  {
   "cell_type": "code",
   "execution_count": 13,
   "id": "c647ae6b",
   "metadata": {},
   "outputs": [],
   "source": [
    "def get_platforms():\n",
    "    headers = {'Client-ID': f'{Client_ID}', 'Authorization': f'Bearer {access_token}'}\n",
    "    data = 'fields *; '\n",
    "    r = requests.post('https://api.igdb.com/v4/platforms' ,data=data ,  headers=headers)\n",
    "    platforms = wrapper.api_request('platforms', 'fields *;limit 500;')\n",
    "    x = json.loads(platforms)\n",
    "    platforms =pd.DataFrame(x)\n",
    "    return platforms"
   ]
  },
  {
   "cell_type": "code",
   "execution_count": 14,
   "id": "dca5d7b1",
   "metadata": {},
   "outputs": [
    {
     "data": {
      "text/plain": [
       "(195, 16)"
      ]
     },
     "execution_count": 14,
     "metadata": {},
     "output_type": "execute_result"
    }
   ],
   "source": [
    "platforms = get_platforms()\n",
    "platforms.shape"
   ]
  },
  {
   "cell_type": "markdown",
   "id": "ea488183",
   "metadata": {},
   "source": [
    "### release_dates"
   ]
  },
  {
   "cell_type": "code",
   "execution_count": null,
   "id": "71e507c0",
   "metadata": {},
   "outputs": [],
   "source": [
    "headers = {'Client-ID': f'{Client_ID}', 'Authorization': f'Bearer {access_token}'}\n",
    "data = 'fields *; '\n",
    "r = requests.post('https://api.igdb.com/v4/release_dates' ,data=data ,  headers=headers)\n",
    "\n",
    "release_dates = wrapper.api_request('release_dates', 'fields *;limit 500;')"
   ]
  },
  {
   "cell_type": "code",
   "execution_count": null,
   "id": "dc071e2e",
   "metadata": {},
   "outputs": [],
   "source": [
    "x = json.loads(release_dates)\n",
    "\n",
    "release_dates =pd.DataFrame(x)\n",
    "release_dates.head()"
   ]
  },
  {
   "cell_type": "code",
   "execution_count": null,
   "id": "f3657501",
   "metadata": {},
   "outputs": [],
   "source": [
    "release_dates.shape"
   ]
  },
  {
   "cell_type": "code",
   "execution_count": 16,
   "id": "b71e4a0b",
   "metadata": {},
   "outputs": [],
   "source": [
    "def get_release_dates():\n",
    "    headers = {'Client-ID': f'{Client_ID}', 'Authorization': f'Bearer {access_token}'}\n",
    "    data = 'fields *; '\n",
    "    r = requests.post('https://api.igdb.com/v4/release_dates' ,data=data ,  headers=headers)\n",
    "    release_dates = wrapper.api_request('release_dates', 'fields *;limit 500;')\n",
    "    x = json.loads(release_dates)\n",
    "    release_dates =pd.DataFrame(x)\n",
    "    return release_dates"
   ]
  },
  {
   "cell_type": "code",
   "execution_count": 17,
   "id": "25042bb2",
   "metadata": {},
   "outputs": [
    {
     "data": {
      "text/plain": [
       "(500, 12)"
      ]
     },
     "execution_count": 17,
     "metadata": {},
     "output_type": "execute_result"
    }
   ],
   "source": [
    "release_dates = get_release_dates()\n",
    "release_dates.shape"
   ]
  },
  {
   "cell_type": "markdown",
   "id": "1560e09d",
   "metadata": {},
   "source": [
    "### platform_versions"
   ]
  },
  {
   "cell_type": "code",
   "execution_count": null,
   "id": "a15e3590",
   "metadata": {},
   "outputs": [],
   "source": [
    "headers = {'Client-ID': f'{Client_ID}', 'Authorization': f'Bearer {access_token}'}\n",
    "data = 'fields *; '\n",
    "r = requests.post('https://api.igdb.com/v4/platform_versions' ,data=data ,  headers=headers)\n",
    "\n",
    "platform_versions = wrapper.api_request('platform_versions', 'fields *;limit 500;')"
   ]
  },
  {
   "cell_type": "code",
   "execution_count": null,
   "id": "20772658",
   "metadata": {
    "scrolled": true
   },
   "outputs": [],
   "source": [
    "x = json.loads(platform_versions)\n",
    "\n",
    "platform_versions=pd.DataFrame(x)\n",
    "platform_versions.head()"
   ]
  },
  {
   "cell_type": "code",
   "execution_count": 18,
   "id": "7495e4b1",
   "metadata": {},
   "outputs": [],
   "source": [
    "def get_platform_versions():\n",
    "    headers = {'Client-ID': f'{Client_ID}', 'Authorization': f'Bearer {access_token}'}\n",
    "    data = 'fields *; '\n",
    "    r = requests.post('https://api.igdb.com/v4/platform_versions' ,data=data ,  headers=headers)\n",
    "    platform_versions = wrapper.api_request('platform_versions', 'fields *;limit 500;')\n",
    "    x = json.loads(platform_versions)\n",
    "    platform_versions=pd.DataFrame(x)\n",
    "    return platform_versions"
   ]
  },
  {
   "cell_type": "code",
   "execution_count": 19,
   "id": "35bba848",
   "metadata": {},
   "outputs": [
    {
     "data": {
      "text/plain": [
       "(312, 21)"
      ]
     },
     "execution_count": 19,
     "metadata": {},
     "output_type": "execute_result"
    }
   ],
   "source": [
    "platform_versions = get_platform_versions()\n",
    "platform_versions.shape"
   ]
  },
  {
   "cell_type": "markdown",
   "id": "717ae57a",
   "metadata": {},
   "source": [
    "### player_perspectives"
   ]
  },
  {
   "cell_type": "code",
   "execution_count": null,
   "id": "76064223",
   "metadata": {},
   "outputs": [],
   "source": [
    "headers = {'Client-ID': f'{Client_ID}', 'Authorization': f'Bearer {access_token}'}\n",
    "data = 'fields *; '\n",
    "r = requests.post('https://api.igdb.com/v4/player_perspectives' ,data=data ,  headers=headers)\n",
    "\n",
    "player_perspectives = wrapper.api_request('player_perspectives', 'fields *;limit 500;')"
   ]
  },
  {
   "cell_type": "code",
   "execution_count": null,
   "id": "4dda15dc",
   "metadata": {
    "scrolled": true
   },
   "outputs": [],
   "source": [
    "x = json.loads(player_perspectives)\n",
    "\n",
    "player_perspectives=pd.DataFrame(x)\n",
    "player_perspectives.head()"
   ]
  },
  {
   "cell_type": "code",
   "execution_count": 20,
   "id": "82cfc612",
   "metadata": {},
   "outputs": [],
   "source": [
    "def get_player_perspectives():\n",
    "    headers = {'Client-ID': f'{Client_ID}', 'Authorization': f'Bearer {access_token}'}\n",
    "    data = 'fields *; '\n",
    "    r = requests.post('https://api.igdb.com/v4/player_perspectives' ,data=data ,  headers=headers)\n",
    "    player_perspectives = wrapper.api_request('player_perspectives', 'fields *;limit 500;')\n",
    "    x = json.loads(player_perspectives)\n",
    "    player_perspectives=pd.DataFrame(x)\n",
    "    return player_perspectives"
   ]
  },
  {
   "cell_type": "code",
   "execution_count": 21,
   "id": "7236174f",
   "metadata": {},
   "outputs": [
    {
     "data": {
      "text/plain": [
       "(7, 7)"
      ]
     },
     "execution_count": 21,
     "metadata": {},
     "output_type": "execute_result"
    }
   ],
   "source": [
    "player_perspectives = get_player_perspectives()\n",
    "player_perspectives.shape"
   ]
  },
  {
   "cell_type": "markdown",
   "id": "f38b2193",
   "metadata": {},
   "source": [
    "### themes"
   ]
  },
  {
   "cell_type": "code",
   "execution_count": null,
   "id": "496b1915",
   "metadata": {},
   "outputs": [],
   "source": [
    "headers = {'Client-ID': f'{Client_ID}', 'Authorization': f'Bearer {access_token}'}\n",
    "data = 'fields *; '\n",
    "r = requests.post('https://api.igdb.com/v4/themes' ,data=data ,  headers=headers)\n",
    "\n",
    "themes = wrapper.api_request('themes', 'fields *;limit 500;')"
   ]
  },
  {
   "cell_type": "code",
   "execution_count": null,
   "id": "cec64a03",
   "metadata": {},
   "outputs": [],
   "source": [
    "x = json.loads(themes)\n",
    "\n",
    "themes=pd.DataFrame(x)\n",
    "themes.head()"
   ]
  },
  {
   "cell_type": "code",
   "execution_count": 22,
   "id": "14bab126",
   "metadata": {},
   "outputs": [],
   "source": [
    "def get_themes():\n",
    "    headers = {'Client-ID': f'{Client_ID}', 'Authorization': f'Bearer {access_token}'}\n",
    "    data = 'fields *; '\n",
    "    r = requests.post('https://api.igdb.com/v4/themes' ,data=data ,  headers=headers)\n",
    "    themes = wrapper.api_request('themes', 'fields *;limit 500;')\n",
    "    x = json.loads(themes)\n",
    "    themes=pd.DataFrame(x)\n",
    "    return themes"
   ]
  },
  {
   "cell_type": "code",
   "execution_count": 23,
   "id": "21c512d7",
   "metadata": {},
   "outputs": [
    {
     "data": {
      "text/plain": [
       "(22, 7)"
      ]
     },
     "execution_count": 23,
     "metadata": {},
     "output_type": "execute_result"
    }
   ],
   "source": [
    "themes = get_themes()\n",
    "themes.shape"
   ]
  },
  {
   "cell_type": "markdown",
   "id": "3b1cfe65",
   "metadata": {},
   "source": [
    "### Read the CSV for games "
   ]
  },
  {
   "cell_type": "code",
   "execution_count": null,
   "id": "50221ac5",
   "metadata": {},
   "outputs": [],
   "source": [
    "df = pd.read_csv('games.csv', index_col='Unnamed: 0')"
   ]
  },
  {
   "cell_type": "code",
   "execution_count": null,
   "id": "a54ff490",
   "metadata": {},
   "outputs": [],
   "source": [
    "df.head()"
   ]
  },
  {
   "cell_type": "code",
   "execution_count": null,
   "id": "3a14a529",
   "metadata": {},
   "outputs": [],
   "source": [
    "df.release_dates.isnull().sum()"
   ]
  },
  {
   "cell_type": "code",
   "execution_count": null,
   "id": "53f8bf8c",
   "metadata": {},
   "outputs": [],
   "source": [
    "df.first_release_date.isnull().sum()"
   ]
  },
  {
   "cell_type": "code",
   "execution_count": null,
   "id": "c6345ce9",
   "metadata": {},
   "outputs": [],
   "source": [
    "df.dlcs.value_counts()"
   ]
  },
  {
   "cell_type": "code",
   "execution_count": null,
   "id": "bb0b54ae",
   "metadata": {},
   "outputs": [],
   "source": [
    "#pd.set_option('display.max_rows', 500)\n",
    "pd.set_option('display.max_columns', 500)\n",
    "pd.set_option('display.width', 1000)\n",
    "df.loc[df['franchises'].notnull()]"
   ]
  },
  {
   "cell_type": "code",
   "execution_count": null,
   "id": "fb6ecb72",
   "metadata": {},
   "outputs": [],
   "source": [
    "df = df.drop(columns=['websites', 'created_at', 'updated_at', 'artworks', 'cover','screenshots', 'videos', 'checksum', 'alternative_names', 'rating_count', 'total_rating_count', 'version_parent', 'hypes', 'franchises', 'follows', 'aggregated_rating_count'])\n",
    "df.shape"
   ]
  },
  {
   "cell_type": "code",
   "execution_count": null,
   "id": "7c97e4ea",
   "metadata": {},
   "outputs": [],
   "source": [
    "df.columns"
   ]
  },
  {
   "cell_type": "code",
   "execution_count": null,
   "id": "73902eae",
   "metadata": {},
   "outputs": [],
   "source": [
    "df.head()"
   ]
  },
  {
   "cell_type": "code",
   "execution_count": null,
   "id": "cbc3324c",
   "metadata": {},
   "outputs": [],
   "source": [
    "df.forks.value_counts()"
   ]
  },
  {
   "cell_type": "code",
   "execution_count": null,
   "id": "2073f4ea",
   "metadata": {},
   "outputs": [],
   "source": [
    "df.rename(columns={'slug': 'lower_case_name', 'aggregated_rating': 'critic_rating'}, inplace=True)\n",
    "df.head()"
   ]
  },
  {
   "cell_type": "code",
   "execution_count": null,
   "id": "0e4b5c54",
   "metadata": {},
   "outputs": [],
   "source": [
    "df.rating.isnull().sum()"
   ]
  },
  {
   "cell_type": "code",
   "execution_count": null,
   "id": "44664ba6",
   "metadata": {},
   "outputs": [],
   "source": [
    "df.shape"
   ]
  },
  {
   "cell_type": "code",
   "execution_count": null,
   "id": "10cdb464",
   "metadata": {},
   "outputs": [],
   "source": [
    "df.loc[df['rating'].isnull()]"
   ]
  },
  {
   "cell_type": "code",
   "execution_count": null,
   "id": "005f53ac",
   "metadata": {},
   "outputs": [],
   "source": [
    "df.release_dates.info()"
   ]
  },
  {
   "cell_type": "code",
   "execution_count": null,
   "id": "93d2036b",
   "metadata": {},
   "outputs": [],
   "source": [
    "df.platforms.value_counts()"
   ]
  },
  {
   "cell_type": "markdown",
   "id": "8be40f9b",
   "metadata": {},
   "source": [
    "### Dataframe with ratings"
   ]
  },
  {
   "cell_type": "code",
   "execution_count": null,
   "id": "e3890338",
   "metadata": {},
   "outputs": [],
   "source": [
    "df2 = df[df['rating'].notnull()]\n",
    "df2.head()"
   ]
  },
  {
   "cell_type": "code",
   "execution_count": null,
   "id": "ca18cbb8",
   "metadata": {},
   "outputs": [],
   "source": [
    "df2.rating.isnull().sum()"
   ]
  },
  {
   "cell_type": "markdown",
   "id": "c97b64ff",
   "metadata": {},
   "source": [
    "### Dataframe with nulls in rating column "
   ]
  },
  {
   "cell_type": "code",
   "execution_count": null,
   "id": "e7e319e0",
   "metadata": {},
   "outputs": [],
   "source": [
    "df3 = df[df['rating'].isnull()]\n",
    "df3.shape"
   ]
  }
 ],
 "metadata": {
  "kernelspec": {
   "display_name": "Python 3 (ipykernel)",
   "language": "python",
   "name": "python3"
  },
  "language_info": {
   "codemirror_mode": {
    "name": "ipython",
    "version": 3
   },
   "file_extension": ".py",
   "mimetype": "text/x-python",
   "name": "python",
   "nbconvert_exporter": "python",
   "pygments_lexer": "ipython3",
   "version": "3.9.12"
  }
 },
 "nbformat": 4,
 "nbformat_minor": 5
}
