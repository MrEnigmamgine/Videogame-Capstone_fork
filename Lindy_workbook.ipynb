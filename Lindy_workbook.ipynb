{
 "cells": [
  {
   "cell_type": "code",
   "execution_count": 1,
   "id": "74430953",
   "metadata": {},
   "outputs": [],
   "source": [
    "import requests\n",
    "import env\n",
    "from requests.models import Request, Response\n",
    "from env import Client_ID\n",
    "import pandas as pd\n",
    "from igdb.igdbapi_pb2 import GameResult\n",
    "from typing import Dict, List, Optional, Union, cast\n",
    "from bs4 import BeautifulSoup\n",
    "import acquire\n",
    "import json"
   ]
  },
  {
   "cell_type": "markdown",
   "id": "13f56fc0",
   "metadata": {},
   "source": [
    "### Connect to API and scrape the data needed\n",
    "#### get the access token and 200 response "
   ]
  },
  {
   "cell_type": "code",
   "execution_count": null,
   "id": "8670354d",
   "metadata": {},
   "outputs": [],
   "source": [
    "def get_api():   \n",
    "    url = env.get_db_url()\n",
    "    response = requests.post(url)\n",
    "    data = response.json()\n",
    "    access_token = data['access_token']\n",
    "    headers = {'Client-ID': f'{Client_ID}', 'Authorization': f'Bearer {access_token}'}\n",
    "    data = 'fields *;'\n",
    "    r = requests.post('https://api.igdb.com/v4/games', data=data, headers=headers)\n",
    "    return access_token, r"
   ]
  },
  {
   "cell_type": "code",
   "execution_count": 2,
   "id": "f1f5267b",
   "metadata": {},
   "outputs": [],
   "source": [
    "access_token = acquire.connect_api()"
   ]
  },
  {
   "cell_type": "code",
   "execution_count": null,
   "id": "6095d0ba",
   "metadata": {},
   "outputs": [],
   "source": [
    "access_token"
   ]
  },
  {
   "cell_type": "code",
   "execution_count": 3,
   "id": "e90887a4",
   "metadata": {},
   "outputs": [],
   "source": [
    "tf = acquire.connect_to_games()"
   ]
  },
  {
   "cell_type": "code",
   "execution_count": null,
   "id": "1517a1eb",
   "metadata": {},
   "outputs": [],
   "source": [
    "tf"
   ]
  },
  {
   "cell_type": "code",
   "execution_count": 4,
   "id": "4f9340f1",
   "metadata": {},
   "outputs": [],
   "source": [
    "wrapper = acquire.run_wrapper()"
   ]
  },
  {
   "cell_type": "code",
   "execution_count": null,
   "id": "2e739bd8",
   "metadata": {},
   "outputs": [],
   "source": [
    "wrapper"
   ]
  },
  {
   "cell_type": "code",
   "execution_count": 5,
   "id": "c96261fa",
   "metadata": {},
   "outputs": [
    {
     "data": {
      "text/html": [
       "<div>\n",
       "<style scoped>\n",
       "    .dataframe tbody tr th:only-of-type {\n",
       "        vertical-align: middle;\n",
       "    }\n",
       "\n",
       "    .dataframe tbody tr th {\n",
       "        vertical-align: top;\n",
       "    }\n",
       "\n",
       "    .dataframe thead th {\n",
       "        text-align: right;\n",
       "    }\n",
       "</style>\n",
       "<table border=\"1\" class=\"dataframe\">\n",
       "  <thead>\n",
       "    <tr style=\"text-align: right;\">\n",
       "      <th></th>\n",
       "      <th>id</th>\n",
       "      <th>category</th>\n",
       "      <th>created_at</th>\n",
       "      <th>external_games</th>\n",
       "      <th>first_release_date</th>\n",
       "      <th>genres</th>\n",
       "      <th>name</th>\n",
       "      <th>platforms</th>\n",
       "      <th>release_dates</th>\n",
       "      <th>similar_games</th>\n",
       "      <th>...</th>\n",
       "      <th>aggregated_rating_count</th>\n",
       "      <th>multiplayer_modes</th>\n",
       "      <th>dlcs</th>\n",
       "      <th>ports</th>\n",
       "      <th>expansions</th>\n",
       "      <th>expanded_games</th>\n",
       "      <th>remakes</th>\n",
       "      <th>remasters</th>\n",
       "      <th>forks</th>\n",
       "      <th>standalone_expansions</th>\n",
       "    </tr>\n",
       "  </thead>\n",
       "  <tbody>\n",
       "    <tr>\n",
       "      <th>0</th>\n",
       "      <td>40104</td>\n",
       "      <td>0</td>\n",
       "      <td>1498435200</td>\n",
       "      <td>[20127, 1988884]</td>\n",
       "      <td>5.364576e+08</td>\n",
       "      <td>[5]</td>\n",
       "      <td>Dogou Souken</td>\n",
       "      <td>[52]</td>\n",
       "      <td>[91007]</td>\n",
       "      <td>[12364, 27270, 43367, 103281, 103292, 103298, ...</td>\n",
       "      <td>...</td>\n",
       "      <td>NaN</td>\n",
       "      <td>NaN</td>\n",
       "      <td>NaN</td>\n",
       "      <td>NaN</td>\n",
       "      <td>NaN</td>\n",
       "      <td>NaN</td>\n",
       "      <td>NaN</td>\n",
       "      <td>NaN</td>\n",
       "      <td>NaN</td>\n",
       "      <td>NaN</td>\n",
       "    </tr>\n",
       "    <tr>\n",
       "      <th>1</th>\n",
       "      <td>85031</td>\n",
       "      <td>0</td>\n",
       "      <td>1517392813</td>\n",
       "      <td>[216805, 1969751, 2005770]</td>\n",
       "      <td>1.404346e+09</td>\n",
       "      <td>[9]</td>\n",
       "      <td>City Mysteries</td>\n",
       "      <td>[37]</td>\n",
       "      <td>[138333]</td>\n",
       "      <td>[10603, 19222, 25905, 41349, 86974, 87507, 885...</td>\n",
       "      <td>...</td>\n",
       "      <td>NaN</td>\n",
       "      <td>NaN</td>\n",
       "      <td>NaN</td>\n",
       "      <td>NaN</td>\n",
       "      <td>NaN</td>\n",
       "      <td>NaN</td>\n",
       "      <td>NaN</td>\n",
       "      <td>NaN</td>\n",
       "      <td>NaN</td>\n",
       "      <td>NaN</td>\n",
       "    </tr>\n",
       "    <tr>\n",
       "      <th>2</th>\n",
       "      <td>99234</td>\n",
       "      <td>0</td>\n",
       "      <td>1524843905</td>\n",
       "      <td>[603512, 1857496, 1917109]</td>\n",
       "      <td>1.527120e+09</td>\n",
       "      <td>[31, 32]</td>\n",
       "      <td>Sword of the Black Stone</td>\n",
       "      <td>[6]</td>\n",
       "      <td>[188385]</td>\n",
       "      <td>[25646, 29783, 68271, 80916, 96217, 105269, 10...</td>\n",
       "      <td>...</td>\n",
       "      <td>NaN</td>\n",
       "      <td>NaN</td>\n",
       "      <td>NaN</td>\n",
       "      <td>NaN</td>\n",
       "      <td>NaN</td>\n",
       "      <td>NaN</td>\n",
       "      <td>NaN</td>\n",
       "      <td>NaN</td>\n",
       "      <td>NaN</td>\n",
       "      <td>NaN</td>\n",
       "    </tr>\n",
       "    <tr>\n",
       "      <th>3</th>\n",
       "      <td>148930</td>\n",
       "      <td>0</td>\n",
       "      <td>1621959514</td>\n",
       "      <td>[2052375, 2057300]</td>\n",
       "      <td>NaN</td>\n",
       "      <td>[13, 15, 31, 32]</td>\n",
       "      <td>Bok-Bok: A Chicken Dating Sim</td>\n",
       "      <td>NaN</td>\n",
       "      <td>NaN</td>\n",
       "      <td>[25311, 26145, 28277, 33603, 51577, 65827, 791...</td>\n",
       "      <td>...</td>\n",
       "      <td>NaN</td>\n",
       "      <td>NaN</td>\n",
       "      <td>NaN</td>\n",
       "      <td>NaN</td>\n",
       "      <td>NaN</td>\n",
       "      <td>NaN</td>\n",
       "      <td>NaN</td>\n",
       "      <td>NaN</td>\n",
       "      <td>NaN</td>\n",
       "      <td>NaN</td>\n",
       "    </tr>\n",
       "    <tr>\n",
       "      <th>4</th>\n",
       "      <td>139538</td>\n",
       "      <td>0</td>\n",
       "      <td>1602368467</td>\n",
       "      <td>[1966278]</td>\n",
       "      <td>1.525910e+09</td>\n",
       "      <td>[32]</td>\n",
       "      <td>sun machine</td>\n",
       "      <td>[82]</td>\n",
       "      <td>[213594]</td>\n",
       "      <td>[11666, 13200, 13660, 17130, 25311, 28070, 348...</td>\n",
       "      <td>...</td>\n",
       "      <td>NaN</td>\n",
       "      <td>NaN</td>\n",
       "      <td>NaN</td>\n",
       "      <td>NaN</td>\n",
       "      <td>NaN</td>\n",
       "      <td>NaN</td>\n",
       "      <td>NaN</td>\n",
       "      <td>NaN</td>\n",
       "      <td>NaN</td>\n",
       "      <td>NaN</td>\n",
       "    </tr>\n",
       "  </tbody>\n",
       "</table>\n",
       "<p>5 rows × 55 columns</p>\n",
       "</div>"
      ],
      "text/plain": [
       "       id  category  created_at              external_games  \\\n",
       "0   40104         0  1498435200            [20127, 1988884]   \n",
       "1   85031         0  1517392813  [216805, 1969751, 2005770]   \n",
       "2   99234         0  1524843905  [603512, 1857496, 1917109]   \n",
       "3  148930         0  1621959514          [2052375, 2057300]   \n",
       "4  139538         0  1602368467                   [1966278]   \n",
       "\n",
       "   first_release_date            genres                           name  \\\n",
       "0        5.364576e+08               [5]                   Dogou Souken   \n",
       "1        1.404346e+09               [9]                 City Mysteries   \n",
       "2        1.527120e+09          [31, 32]       Sword of the Black Stone   \n",
       "3                 NaN  [13, 15, 31, 32]  Bok-Bok: A Chicken Dating Sim   \n",
       "4        1.525910e+09              [32]                    sun machine   \n",
       "\n",
       "  platforms release_dates                                      similar_games  \\\n",
       "0      [52]       [91007]  [12364, 27270, 43367, 103281, 103292, 103298, ...   \n",
       "1      [37]      [138333]  [10603, 19222, 25905, 41349, 86974, 87507, 885...   \n",
       "2       [6]      [188385]  [25646, 29783, 68271, 80916, 96217, 105269, 10...   \n",
       "3       NaN           NaN  [25311, 26145, 28277, 33603, 51577, 65827, 791...   \n",
       "4      [82]      [213594]  [11666, 13200, 13660, 17130, 25311, 28070, 348...   \n",
       "\n",
       "   ... aggregated_rating_count multiplayer_modes dlcs  ports expansions  \\\n",
       "0  ...                     NaN               NaN  NaN    NaN        NaN   \n",
       "1  ...                     NaN               NaN  NaN    NaN        NaN   \n",
       "2  ...                     NaN               NaN  NaN    NaN        NaN   \n",
       "3  ...                     NaN               NaN  NaN    NaN        NaN   \n",
       "4  ...                     NaN               NaN  NaN    NaN        NaN   \n",
       "\n",
       "  expanded_games remakes  remasters forks standalone_expansions  \n",
       "0            NaN     NaN        NaN   NaN                   NaN  \n",
       "1            NaN     NaN        NaN   NaN                   NaN  \n",
       "2            NaN     NaN        NaN   NaN                   NaN  \n",
       "3            NaN     NaN        NaN   NaN                   NaN  \n",
       "4            NaN     NaN        NaN   NaN                   NaN  \n",
       "\n",
       "[5 rows x 55 columns]"
      ]
     },
     "execution_count": 5,
     "metadata": {},
     "output_type": "execute_result"
    }
   ],
   "source": [
    "df = acquire.get_game_library(wrapper)\n",
    "df.head()"
   ]
  },
  {
   "cell_type": "code",
   "execution_count": null,
   "id": "fcd9b333",
   "metadata": {},
   "outputs": [],
   "source": [
    "df.platforms.tail(10).values[0]"
   ]
  },
  {
   "cell_type": "code",
   "execution_count": null,
   "id": "cd37f801",
   "metadata": {},
   "outputs": [],
   "source": [
    "from igdb.wrapper import IGDBWrapper\n",
    "wrapper = IGDBWrapper(f'{Client_ID}', f'Bearer {access_token}')"
   ]
  },
  {
   "cell_type": "code",
   "execution_count": null,
   "id": "58e4fb26",
   "metadata": {},
   "outputs": [],
   "source": [
    "games = wrapper.api_request('games', 'fields *; limit 500;' f'offset {0 * 409};')"
   ]
  },
  {
   "cell_type": "code",
   "execution_count": null,
   "id": "8fd0f3dd",
   "metadata": {},
   "outputs": [],
   "source": [
    "url = 'https://api.igdb.com/v4/age_ratings'\n",
    "headers = {'Client-ID': f'{Client_ID}', 'Authorization': f'Bearer {access_token}'}\n",
    "data = 'category,checksum,content_descriptions,rating,rating_cover_url,synopsis;'\n",
    "response = requests.post(url, headers=headers, data = data)\n",
    "print(response.text)"
   ]
  },
  {
   "cell_type": "code",
   "execution_count": null,
   "id": "6671fc66",
   "metadata": {},
   "outputs": [],
   "source": [
    "testgames = []\n",
    "for i in range(0, 409):\n",
    "    games = wrapper.api_request('games', 'fields *; limit 500;' f'offset {i * 409};')\n",
    "    testgames.append(games)"
   ]
  },
  {
   "cell_type": "code",
   "execution_count": null,
   "id": "45f1f97f",
   "metadata": {},
   "outputs": [],
   "source": [
    "len(testgames)"
   ]
  },
  {
   "cell_type": "code",
   "execution_count": null,
   "id": "3edee53f",
   "metadata": {},
   "outputs": [],
   "source": [
    "soup = BeautifulSoup(r.content, 'html.parser')"
   ]
  },
  {
   "cell_type": "code",
   "execution_count": null,
   "id": "d8338381",
   "metadata": {},
   "outputs": [],
   "source": [
    "test = soup.select('div', class_= 'toc-wrapper')\n",
    "test"
   ]
  },
  {
   "cell_type": "markdown",
   "id": "72db0ae3",
   "metadata": {},
   "source": [
    "## scraping endpoints\n",
    "### scrape the end points of each category "
   ]
  },
  {
   "cell_type": "code",
   "execution_count": null,
   "id": "b755697a",
   "metadata": {},
   "outputs": [],
   "source": [
    "access_token\n"
   ]
  },
  {
   "cell_type": "code",
   "execution_count": null,
   "id": "61bfe41e",
   "metadata": {},
   "outputs": [],
   "source": [
    "df.head()"
   ]
  },
  {
   "cell_type": "markdown",
   "id": "3ea4cf20",
   "metadata": {},
   "source": [
    "### platform_families"
   ]
  },
  {
   "cell_type": "code",
   "execution_count": null,
   "id": "64151ad6",
   "metadata": {},
   "outputs": [],
   "source": [
    "headers = {'Client-ID': f'{Client_ID}', 'Authorization': f'Bearer {access_token}'}\n",
    "data = 'fields *; '\n",
    "r = requests.post('https://api.igdb.com/v4/platform_families' ,data=data ,  headers=headers)\n",
    "\n",
    "platform_families = wrapper.api_request('platform_families', 'fields *;limit 500;')"
   ]
  },
  {
   "cell_type": "code",
   "execution_count": null,
   "id": "3dec0072",
   "metadata": {},
   "outputs": [],
   "source": [
    "x = json.loads(platform_families)\n",
    "\n",
    "platform_families =pd.DataFrame(x)"
   ]
  },
  {
   "cell_type": "code",
   "execution_count": null,
   "id": "63049100",
   "metadata": {},
   "outputs": [],
   "source": [
    "platform_families.head()"
   ]
  },
  {
   "cell_type": "code",
   "execution_count": null,
   "id": "40458307",
   "metadata": {},
   "outputs": [],
   "source": [
    "platform_families.shape"
   ]
  },
  {
   "cell_type": "code",
   "execution_count": null,
   "id": "ef17b306",
   "metadata": {},
   "outputs": [],
   "source": [
    "def get_platform_families():\n",
    "    headers = {'Client-ID': f'{Client_ID}', 'Authorization': f'Bearer {access_token}'}\n",
    "    data = 'fields *; '\n",
    "    r = requests.post('https://api.igdb.com/v4/platform_families' ,data=data ,  headers=headers)\n",
    "    platform_families = wrapper.api_request('platform_families', 'fields *;limit 500;')\n",
    "    x = json.loads(platform_families)\n",
    "    platform_families =pd.DataFrame(x)\n",
    "    return platform_families"
   ]
  },
  {
   "cell_type": "code",
   "execution_count": null,
   "id": "acd27a88",
   "metadata": {},
   "outputs": [],
   "source": [
    "platform_families = get_platform_families()\n",
    "platform_families.head()"
   ]
  },
  {
   "cell_type": "code",
   "execution_count": null,
   "id": "29abc3b8",
   "metadata": {},
   "outputs": [],
   "source": [
    "df.columns"
   ]
  },
  {
   "cell_type": "markdown",
   "id": "7c994c76",
   "metadata": {},
   "source": [
    "### platform_version_release_dates"
   ]
  },
  {
   "cell_type": "code",
   "execution_count": null,
   "id": "e005278f",
   "metadata": {},
   "outputs": [],
   "source": [
    "headers = {'Client-ID': f'{Client_ID}', 'Authorization': f'Bearer {access_token}'}\n",
    "data = 'fields *; '\n",
    "r = requests.post('https://api.igdb.com/v4/platform_version_release_dates' ,data=data ,  headers=headers)\n",
    "\n",
    "platform_version_release_dates = wrapper.api_request('platform_version_release_dates', 'fields *;limit 500;')"
   ]
  },
  {
   "cell_type": "code",
   "execution_count": null,
   "id": "03d37a8b",
   "metadata": {},
   "outputs": [],
   "source": [
    "x = json.loads(platform_version_release_dates)\n",
    "\n",
    "platform_version_release_dates =pd.DataFrame(x)"
   ]
  },
  {
   "cell_type": "code",
   "execution_count": null,
   "id": "f18fdab6",
   "metadata": {
    "scrolled": true
   },
   "outputs": [],
   "source": [
    "platform_version_release_dates.head()"
   ]
  },
  {
   "cell_type": "code",
   "execution_count": null,
   "id": "d463a65b",
   "metadata": {
    "scrolled": true
   },
   "outputs": [],
   "source": [
    "platform_version_release_dates.shape"
   ]
  },
  {
   "cell_type": "code",
   "execution_count": null,
   "id": "79f6d3c5",
   "metadata": {},
   "outputs": [],
   "source": [
    "def get_platform_version_release():\n",
    "    headers = {'Client-ID': f'{Client_ID}', 'Authorization': f'Bearer {access_token}'}\n",
    "    data = 'fields *; '\n",
    "    r = requests.post('https://api.igdb.com/v4/platform_version_release_dates' ,data=data ,  headers=headers)\n",
    "    platform_version_release_dates = wrapper.api_request('platform_version_release_dates', 'fields *;limit 500;')\n",
    "    x = json.loads(platform_version_release_dates)\n",
    "    platform_version_release_dates =pd.DataFrame(x)\n",
    "    return platform_version_release_dates"
   ]
  },
  {
   "cell_type": "code",
   "execution_count": null,
   "id": "e99f2b8b",
   "metadata": {
    "scrolled": true
   },
   "outputs": [],
   "source": [
    "platform_version_release_dates = get_platform_version_release()\n",
    "platform_version_release_dates"
   ]
  },
  {
   "cell_type": "markdown",
   "id": "21761148",
   "metadata": {},
   "source": [
    "### platform_version_companies"
   ]
  },
  {
   "cell_type": "code",
   "execution_count": null,
   "id": "690e5922",
   "metadata": {},
   "outputs": [],
   "source": [
    "headers = {'Client-ID': f'{Client_ID}', 'Authorization': f'Bearer {access_token}'}\n",
    "data = 'fields *; '\n",
    "r = requests.post('https://api.igdb.com/v4/platform_version_companies' ,data=data ,  headers=headers)\n",
    "\n",
    "platform_version_companies = wrapper.api_request('platform_version_companies', 'fields *;limit 500;')"
   ]
  },
  {
   "cell_type": "code",
   "execution_count": null,
   "id": "89bdfbda",
   "metadata": {},
   "outputs": [],
   "source": [
    "x = json.loads(platform_version_companies)\n",
    "\n",
    "platform_version_companies =pd.DataFrame(x)\n",
    "platform_version_companies.head()"
   ]
  },
  {
   "cell_type": "code",
   "execution_count": null,
   "id": "cab89254",
   "metadata": {
    "scrolled": true
   },
   "outputs": [],
   "source": [
    "platform_version_companies.shape"
   ]
  },
  {
   "cell_type": "code",
   "execution_count": null,
   "id": "cebb7d37",
   "metadata": {},
   "outputs": [],
   "source": [
    "def get_platform_version_companies():\n",
    "    headers = {'Client-ID': f'{Client_ID}', 'Authorization': f'Bearer {access_token}'}\n",
    "    data = 'fields *; '\n",
    "    r = requests.post('https://api.igdb.com/v4/platform_version_companies' ,data=data ,  headers=headers)\n",
    "    platform_version_companies = wrapper.api_request('platform_version_companies', 'fields *;limit 500;')\n",
    "    x = json.loads(platform_version_companies)\n",
    "    platform_version_companies =pd.DataFrame(x)\n",
    "    return platform_version_companies"
   ]
  },
  {
   "cell_type": "code",
   "execution_count": null,
   "id": "22935b96",
   "metadata": {},
   "outputs": [],
   "source": [
    "platform_version_companies=get_platform_version_companies()\n",
    "platform_version_companies.head()"
   ]
  },
  {
   "cell_type": "markdown",
   "id": "1240882c",
   "metadata": {},
   "source": [
    "### platforms"
   ]
  },
  {
   "cell_type": "code",
   "execution_count": null,
   "id": "31dbf9fa",
   "metadata": {},
   "outputs": [],
   "source": [
    "def get_platforms():\n",
    "    headers = {'Client-ID': f'{Client_ID}', 'Authorization': f'Bearer {access_token}'}\n",
    "    data = 'fields *; '\n",
    "    r = requests.post('https://api.igdb.com/v4/platforms' ,data=data ,  headers=headers)\n",
    "    platforms = wrapper.api_request('platforms', 'fields *;limit 500;')\n",
    "    x = json.loads(platforms)\n",
    "    platforms =pd.DataFrame(x)\n",
    "    return platforms"
   ]
  },
  {
   "cell_type": "code",
   "execution_count": null,
   "id": "22add79f",
   "metadata": {},
   "outputs": [],
   "source": [
    "platform = get_platforms()\n",
    "platform.shape"
   ]
  },
  {
   "cell_type": "code",
   "execution_count": null,
   "id": "95105344",
   "metadata": {},
   "outputs": [],
   "source": [
    "platform.head()"
   ]
  },
  {
   "cell_type": "code",
   "execution_count": null,
   "id": "8d5eeff1",
   "metadata": {},
   "outputs": [],
   "source": [
    "df.loc[df['platforms'] == 5.0]"
   ]
  },
  {
   "cell_type": "code",
   "execution_count": null,
   "id": "7fa5d390",
   "metadata": {},
   "outputs": [],
   "source": [
    "# see if there is a number in id that matches the big df\n",
    "platform.loc[platform['id'] == 5]"
   ]
  },
  {
   "cell_type": "code",
   "execution_count": null,
   "id": "86ea14cb",
   "metadata": {},
   "outputs": [],
   "source": [
    "platform = platform.drop(columns=['alternative_name', 'category', 'created_at', 'platform_logo', 'updated_at', 'url', 'checksum', 'versions', 'websites', 'generation', 'platform_family', 'abbreviation', 'summary'])\n",
    "platform.head()"
   ]
  },
  {
   "cell_type": "code",
   "execution_count": null,
   "id": "e4550436",
   "metadata": {},
   "outputs": [],
   "source": [
    "# looking at the dictionary\n",
    "print(platform.get(5, \"Not found\"))"
   ]
  },
  {
   "cell_type": "code",
   "execution_count": null,
   "id": "bd47f1b4",
   "metadata": {
    "scrolled": true
   },
   "outputs": [],
   "source": [
    "# remove brackets \n",
    "df[\"platforms\"] = df[\"platforms\"].str.replace(\"[\\]\\[]\",'')\n",
    "df.head()"
   ]
  },
  {
   "cell_type": "code",
   "execution_count": null,
   "id": "43c068be",
   "metadata": {
    "scrolled": true
   },
   "outputs": [],
   "source": [
    "df.platforms.iloc[2]"
   ]
  },
  {
   "cell_type": "code",
   "execution_count": null,
   "id": "2f654347",
   "metadata": {},
   "outputs": [],
   "source": [
    "df.platforms.tail()"
   ]
  },
  {
   "cell_type": "code",
   "execution_count": null,
   "id": "5a270233",
   "metadata": {},
   "outputs": [],
   "source": [
    "# fill nulls in platforms column\n",
    "df['platforms'] = df['platforms'].fillna(0).apply(list)\n",
    "df.head()"
   ]
  },
  {
   "cell_type": "code",
   "execution_count": null,
   "id": "3763523a",
   "metadata": {},
   "outputs": [],
   "source": [
    "platformlist = platform[['id' , 'name']].sort_values(by='id').reset_index(drop=True)"
   ]
  },
  {
   "cell_type": "code",
   "execution_count": null,
   "id": "db61c0af",
   "metadata": {},
   "outputs": [],
   "source": [
    "platform_dict = platformlist.set_index('id').to_dict()['name']"
   ]
  },
  {
   "cell_type": "code",
   "execution_count": null,
   "id": "5b0725f1",
   "metadata": {},
   "outputs": [],
   "source": [
    "platform_dict[0] = 'not_available'"
   ]
  },
  {
   "cell_type": "code",
   "execution_count": null,
   "id": "0ec0d28f",
   "metadata": {},
   "outputs": [],
   "source": [
    "platform_dict['0'] = 'not_available'"
   ]
  },
  {
   "cell_type": "code",
   "execution_count": null,
   "id": "516e6b9f",
   "metadata": {},
   "outputs": [],
   "source": [
    "import numpy as np\n",
    "platform.head()"
   ]
  },
  {
   "cell_type": "code",
   "execution_count": null,
   "id": "4a72b68b",
   "metadata": {},
   "outputs": [],
   "source": [
    "platform_dict"
   ]
  },
  {
   "cell_type": "code",
   "execution_count": null,
   "id": "750c58a9",
   "metadata": {},
   "outputs": [],
   "source": [
    "def test_funct(random_list):\n",
    "    if type(random_list) == list:\n",
    "        return [platform_dict[i] for i in random_list]\n",
    "    else:  \n",
    "        return \"Not available\""
   ]
  },
  {
   "cell_type": "code",
   "execution_count": null,
   "id": "77d3c45f",
   "metadata": {},
   "outputs": [],
   "source": [
    "print(platform.get('id', \"Not found\"))"
   ]
  },
  {
   "cell_type": "code",
   "execution_count": null,
   "id": "d0e1fcf9",
   "metadata": {
    "scrolled": true
   },
   "outputs": [],
   "source": [
    "df.info()"
   ]
  },
  {
   "cell_type": "code",
   "execution_count": null,
   "id": "5a83e5b7",
   "metadata": {},
   "outputs": [],
   "source": [
    "df.platforms.info(10)"
   ]
  },
  {
   "cell_type": "code",
   "execution_count": null,
   "id": "394ccf0f",
   "metadata": {
    "scrolled": true
   },
   "outputs": [],
   "source": [
    "df['platforms'] = df.platforms.apply(test_funct)\n",
    "df.head()"
   ]
  },
  {
   "cell_type": "code",
   "execution_count": null,
   "id": "e586e885",
   "metadata": {
    "scrolled": true
   },
   "outputs": [],
   "source": [
    "df.loc[df['platforms'] == '3ds']"
   ]
  },
  {
   "cell_type": "code",
   "execution_count": null,
   "id": "ffb5111b",
   "metadata": {},
   "outputs": [],
   "source": [
    "df.loc[df['platforms'].notnull()]"
   ]
  },
  {
   "cell_type": "markdown",
   "id": "1ae7d41c",
   "metadata": {},
   "source": [
    "### release_dates"
   ]
  },
  {
   "cell_type": "code",
   "execution_count": null,
   "id": "7d27ba36",
   "metadata": {},
   "outputs": [],
   "source": [
    "headers = {'Client-ID': f'{Client_ID}', 'Authorization': f'Bearer {access_token}'}\n",
    "data = 'fields *; '\n",
    "r = requests.post('https://api.igdb.com/v4/release_dates' ,data=data ,  headers=headers)\n",
    "\n",
    "release_dates = wrapper.api_request('release_dates', 'fields *;limit 500;')"
   ]
  },
  {
   "cell_type": "code",
   "execution_count": null,
   "id": "f3a8733a",
   "metadata": {},
   "outputs": [],
   "source": [
    "x = json.loads(release_dates)\n",
    "\n",
    "release_dates =pd.DataFrame(x)\n",
    "release_dates.head()"
   ]
  },
  {
   "cell_type": "code",
   "execution_count": null,
   "id": "26d6f7a2",
   "metadata": {},
   "outputs": [],
   "source": [
    "release_dates.shape"
   ]
  },
  {
   "cell_type": "code",
   "execution_count": null,
   "id": "6bfaa93c",
   "metadata": {},
   "outputs": [],
   "source": [
    "def get_release_dates():\n",
    "    headers = {'Client-ID': f'{Client_ID}', 'Authorization': f'Bearer {access_token}'}\n",
    "    data = 'fields *; '\n",
    "    r = requests.post('https://api.igdb.com/v4/release_dates' ,data=data ,  headers=headers)\n",
    "    release_dates = wrapper.api_request('release_dates', 'fields *;limit 500;')\n",
    "    x = json.loads(release_dates)\n",
    "    release_dates =pd.DataFrame(x)\n",
    "    return release_dates"
   ]
  },
  {
   "cell_type": "code",
   "execution_count": null,
   "id": "28a0846a",
   "metadata": {},
   "outputs": [],
   "source": [
    "release_dates = get_release_dates()\n",
    "release_dates.shape"
   ]
  },
  {
   "cell_type": "code",
   "execution_count": null,
   "id": "ca351005",
   "metadata": {},
   "outputs": [],
   "source": [
    "df.loc[df['release_dates'].notnull()]"
   ]
  },
  {
   "cell_type": "code",
   "execution_count": null,
   "id": "71c3a016",
   "metadata": {},
   "outputs": [],
   "source": [
    "release_dates = release_dates.drop(columns=['category', 'date', 'm', 'region', 'updated_at', 'y', 'checksum', 'created_at', 'platform'])\n",
    "release_dates.head()"
   ]
  },
  {
   "cell_type": "code",
   "execution_count": null,
   "id": "7e39ef00",
   "metadata": {},
   "outputs": [],
   "source": [
    "# add 0 and description to dictionary\n",
    "release_dates[\"0\"] = \"not-available\""
   ]
  },
  {
   "cell_type": "code",
   "execution_count": null,
   "id": "7819d665",
   "metadata": {},
   "outputs": [],
   "source": [
    "df[\"release_dates\"] = df[\"release_dates\"].str.replace(\"[\\]\\[]\",'')\n",
    "df.head()"
   ]
  },
  {
   "cell_type": "code",
   "execution_count": null,
   "id": "d8473f71",
   "metadata": {},
   "outputs": [],
   "source": [
    "def test_funct2(random_list):\n",
    "    if type(random_list) == list:\n",
    "        return [release_dict[i] for i in random_list]\n",
    "    else:  \n",
    "        return \"Not available\""
   ]
  },
  {
   "cell_type": "code",
   "execution_count": null,
   "id": "bfb9c174",
   "metadata": {},
   "outputs": [],
   "source": [
    "df['release_dates'] = pd.DataFrame(df.release_dates.apply(test_funct2))\n",
    "df"
   ]
  },
  {
   "cell_type": "code",
   "execution_count": null,
   "id": "699184b9",
   "metadata": {},
   "outputs": [],
   "source": [
    "release_dict = releaselist.set_index('game').to_dict()['human']"
   ]
  },
  {
   "cell_type": "code",
   "execution_count": null,
   "id": "d675c13c",
   "metadata": {},
   "outputs": [],
   "source": [
    "releaselist = release_dates[['game' , 'human']].sort_values(by='game').reset_index(drop=True)"
   ]
  },
  {
   "cell_type": "code",
   "execution_count": null,
   "id": "ece6278c",
   "metadata": {},
   "outputs": [],
   "source": [
    "release_dict"
   ]
  },
  {
   "cell_type": "code",
   "execution_count": null,
   "id": "508082f8",
   "metadata": {},
   "outputs": [],
   "source": [
    "release_dict"
   ]
  },
  {
   "cell_type": "code",
   "execution_count": null,
   "id": "abeeb1a1",
   "metadata": {},
   "outputs": [],
   "source": [
    "# add 0 and description to dictionary\n",
    "release_dict[\"0\"] = \"not-available\""
   ]
  },
  {
   "cell_type": "code",
   "execution_count": null,
   "id": "a76c598e",
   "metadata": {},
   "outputs": [],
   "source": [
    "df['release_dates'] = df.release_dates.apply(test_funct)\n",
    "df.head()"
   ]
  },
  {
   "cell_type": "markdown",
   "id": "fbf815f6",
   "metadata": {},
   "source": [
    "### platform_versions"
   ]
  },
  {
   "cell_type": "code",
   "execution_count": null,
   "id": "673dbc39",
   "metadata": {},
   "outputs": [],
   "source": [
    "headers = {'Client-ID': f'{Client_ID}', 'Authorization': f'Bearer {access_token}'}\n",
    "data = 'fields *; '\n",
    "r = requests.post('https://api.igdb.com/v4/platform_versions' ,data=data ,  headers=headers)\n",
    "\n",
    "platform_versions = wrapper.api_request('platform_versions', 'fields *;limit 500;')"
   ]
  },
  {
   "cell_type": "code",
   "execution_count": null,
   "id": "8854578a",
   "metadata": {
    "scrolled": true
   },
   "outputs": [],
   "source": [
    "x = json.loads(platform_versions)\n",
    "\n",
    "platform_versions=pd.DataFrame(x)\n",
    "platform_versions.head()"
   ]
  },
  {
   "cell_type": "code",
   "execution_count": null,
   "id": "c0d4aaa5",
   "metadata": {},
   "outputs": [],
   "source": [
    "def get_platform_versions():\n",
    "    headers = {'Client-ID': f'{Client_ID}', 'Authorization': f'Bearer {access_token}'}\n",
    "    data = 'fields *; '\n",
    "    r = requests.post('https://api.igdb.com/v4/platform_versions' ,data=data ,  headers=headers)\n",
    "    platform_versions = wrapper.api_request('platform_versions', 'fields *;limit 500;')\n",
    "    x = json.loads(platform_versions)\n",
    "    platform_versions=pd.DataFrame(x)\n",
    "    return platform_versions"
   ]
  },
  {
   "cell_type": "code",
   "execution_count": null,
   "id": "39c10229",
   "metadata": {},
   "outputs": [],
   "source": [
    "platform_versions = get_platform_versions()\n",
    "platform_versions.shape"
   ]
  },
  {
   "cell_type": "markdown",
   "id": "4125a185",
   "metadata": {},
   "source": [
    "### player_perspectives"
   ]
  },
  {
   "cell_type": "code",
   "execution_count": null,
   "id": "6203943a",
   "metadata": {},
   "outputs": [],
   "source": [
    "headers = {'Client-ID': f'{Client_ID}', 'Authorization': f'Bearer {access_token}'}\n",
    "data = 'fields *; '\n",
    "r = requests.post('https://api.igdb.com/v4/player_perspectives' ,data=data ,  headers=headers)\n",
    "\n",
    "player_perspectives = wrapper.api_request('player_perspectives', 'fields *;limit 500;')"
   ]
  },
  {
   "cell_type": "code",
   "execution_count": null,
   "id": "552ecc19",
   "metadata": {
    "scrolled": true
   },
   "outputs": [],
   "source": [
    "x = json.loads(player_perspectives)\n",
    "\n",
    "player_perspectives=pd.DataFrame(x)\n",
    "player_perspectives.head()"
   ]
  },
  {
   "cell_type": "code",
   "execution_count": null,
   "id": "6a7c3028",
   "metadata": {},
   "outputs": [],
   "source": [
    "def get_player_perspectives():\n",
    "    headers = {'Client-ID': f'{Client_ID}', 'Authorization': f'Bearer {access_token}'}\n",
    "    data = 'fields *; '\n",
    "    r = requests.post('https://api.igdb.com/v4/player_perspectives' ,data=data ,  headers=headers)\n",
    "    player_perspectives = wrapper.api_request('player_perspectives', 'fields *;limit 500;')\n",
    "    x = json.loads(player_perspectives)\n",
    "    player_perspectives=pd.DataFrame(x)\n",
    "    return player_perspectives"
   ]
  },
  {
   "cell_type": "code",
   "execution_count": null,
   "id": "551a61b6",
   "metadata": {},
   "outputs": [],
   "source": [
    "player_perspectives = get_player_perspectives()\n",
    "player_perspectives.shape"
   ]
  },
  {
   "cell_type": "markdown",
   "id": "fc454bf3",
   "metadata": {},
   "source": [
    "### themes"
   ]
  },
  {
   "cell_type": "code",
   "execution_count": null,
   "id": "9a507060",
   "metadata": {},
   "outputs": [],
   "source": [
    "headers = {'Client-ID': f'{Client_ID}', 'Authorization': f'Bearer {access_token}'}\n",
    "data = 'fields *; '\n",
    "r = requests.post('https://api.igdb.com/v4/themes' ,data=data ,  headers=headers)\n",
    "\n",
    "themes = wrapper.api_request('themes', 'fields *;limit 500;')"
   ]
  },
  {
   "cell_type": "code",
   "execution_count": null,
   "id": "bf17db82",
   "metadata": {},
   "outputs": [],
   "source": [
    "x = json.loads(themes)\n",
    "\n",
    "themes=pd.DataFrame(x)\n",
    "themes.head()"
   ]
  },
  {
   "cell_type": "code",
   "execution_count": null,
   "id": "8b18113c",
   "metadata": {},
   "outputs": [],
   "source": [
    "def get_themes():\n",
    "    headers = {'Client-ID': f'{Client_ID}', 'Authorization': f'Bearer {access_token}'}\n",
    "    data = 'fields *; '\n",
    "    r = requests.post('https://api.igdb.com/v4/themes' ,data=data ,  headers=headers)\n",
    "    themes = wrapper.api_request('themes', 'fields *;limit 500;')\n",
    "    x = json.loads(themes)\n",
    "    themes=pd.DataFrame(x)\n",
    "    return themes"
   ]
  },
  {
   "cell_type": "code",
   "execution_count": null,
   "id": "95e298a2",
   "metadata": {},
   "outputs": [],
   "source": [
    "themes = get_themes()\n",
    "themes.shape"
   ]
  },
  {
   "cell_type": "code",
   "execution_count": null,
   "id": "544cbe9d",
   "metadata": {},
   "outputs": [],
   "source": [
    "themes.head()"
   ]
  },
  {
   "cell_type": "code",
   "execution_count": null,
   "id": "d68b30e3",
   "metadata": {},
   "outputs": [],
   "source": [
    "result = pd.concat([df, themes], axis=0, join=\"inner\")"
   ]
  },
  {
   "cell_type": "markdown",
   "id": "a2cc158b",
   "metadata": {},
   "source": [
    "### Read the CSV for games "
   ]
  },
  {
   "cell_type": "code",
   "execution_count": null,
   "id": "9f378eb8",
   "metadata": {
    "scrolled": true
   },
   "outputs": [],
   "source": [
    "df = pd.read_csv('games.csv', index_col='Unnamed: 0')\n",
    "df.head()"
   ]
  },
  {
   "cell_type": "code",
   "execution_count": null,
   "id": "12b8e2fa",
   "metadata": {},
   "outputs": [],
   "source": [
    "#pd.set_option('display.max_rows', 500)\n",
    "pd.set_option('display.max_columns', 500)\n",
    "pd.set_option('display.width', 1000)\n",
    "df.loc[df['franchises'].notnull()]"
   ]
  },
  {
   "cell_type": "code",
   "execution_count": null,
   "id": "e8786ae0",
   "metadata": {},
   "outputs": [],
   "source": [
    "df.platforms.info()"
   ]
  },
  {
   "cell_type": "code",
   "execution_count": null,
   "id": "7fb6d519",
   "metadata": {},
   "outputs": [],
   "source": [
    "df = df.drop(columns=['websites', 'created_at', 'updated_at', 'artworks', 'cover','screenshots', 'videos', 'checksum', 'alternative_names', 'rating_count', 'total_rating_count', 'version_parent', 'hypes', 'franchises', 'follows', 'aggregated_rating_count'])\n",
    "df.shape"
   ]
  },
  {
   "cell_type": "code",
   "execution_count": null,
   "id": "deca7b2f",
   "metadata": {},
   "outputs": [],
   "source": [
    "df.columns"
   ]
  },
  {
   "cell_type": "code",
   "execution_count": null,
   "id": "19e9035d",
   "metadata": {},
   "outputs": [],
   "source": [
    "df.rename(columns={'slug': 'lower_case_name', 'aggregated_rating': 'critic_rating'}, inplace=True)\n",
    "df.head()"
   ]
  },
  {
   "cell_type": "code",
   "execution_count": null,
   "id": "bac91a02",
   "metadata": {},
   "outputs": [],
   "source": [
    "df.rating.isnull().sum()"
   ]
  },
  {
   "cell_type": "code",
   "execution_count": null,
   "id": "75de7f25",
   "metadata": {},
   "outputs": [],
   "source": [
    "df.loc[df['rating'].isnull()]"
   ]
  },
  {
   "cell_type": "code",
   "execution_count": null,
   "id": "5d639de9",
   "metadata": {},
   "outputs": [],
   "source": [
    "df.release_dates.info()"
   ]
  },
  {
   "cell_type": "code",
   "execution_count": null,
   "id": "0cd510a6",
   "metadata": {},
   "outputs": [],
   "source": [
    "df.platforms.value_counts()"
   ]
  },
  {
   "cell_type": "markdown",
   "id": "a6f2f0db",
   "metadata": {},
   "source": [
    "### Dataframe with ratings"
   ]
  },
  {
   "cell_type": "code",
   "execution_count": null,
   "id": "5132e225",
   "metadata": {},
   "outputs": [],
   "source": [
    "df2 = df[df['rating'].notnull()]\n",
    "df2.head()"
   ]
  },
  {
   "cell_type": "code",
   "execution_count": null,
   "id": "5f359cfb",
   "metadata": {},
   "outputs": [],
   "source": [
    "df2.rating.isnull().sum()"
   ]
  },
  {
   "cell_type": "markdown",
   "id": "dbeb5bde",
   "metadata": {},
   "source": [
    "### Dataframe with nulls in rating column "
   ]
  },
  {
   "cell_type": "code",
   "execution_count": null,
   "id": "9417be29",
   "metadata": {},
   "outputs": [],
   "source": [
    "df3 = df[df['rating'].isnull()]\n",
    "df3.shape"
   ]
  }
 ],
 "metadata": {
  "kernelspec": {
   "display_name": "Python 3 (ipykernel)",
   "language": "python",
   "name": "python3"
  },
  "language_info": {
   "codemirror_mode": {
    "name": "ipython",
    "version": 3
   },
   "file_extension": ".py",
   "mimetype": "text/x-python",
   "name": "python",
   "nbconvert_exporter": "python",
   "pygments_lexer": "ipython3",
   "version": "3.9.12"
  }
 },
 "nbformat": 4,
 "nbformat_minor": 5
}
